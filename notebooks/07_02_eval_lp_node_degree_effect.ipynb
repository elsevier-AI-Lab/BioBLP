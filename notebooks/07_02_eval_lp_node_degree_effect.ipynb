{
 "cells": [
  {
   "cell_type": "code",
   "execution_count": 1,
   "id": "5577b4c9",
   "metadata": {},
   "outputs": [],
   "source": [
    "%load_ext autoreload\n",
    "%autoreload 2"
   ]
  },
  {
   "cell_type": "code",
   "execution_count": 2,
   "id": "2cdf5cc4",
   "metadata": {},
   "outputs": [
    {
     "name": "stderr",
     "output_type": "stream",
     "text": [
      "/home/jovyan/.conda/envs/bioblp-env/lib/python3.8/site-packages/tqdm/auto.py:22: TqdmWarning: IProgress not found. Please update jupyter and ipywidgets. See https://ipywidgets.readthedocs.io/en/stable/user_install.html\n",
      "  from .autonotebook import tqdm as notebook_tqdm\n"
     ]
    }
   ],
   "source": [
    "import os.path as osp\n",
    "from pathlib import Path\n",
    "import matplotlib.pyplot as plt\n",
    "import pandas as pd\n",
    "from pykeen.evaluation import RankBasedEvaluator\n",
    "from pykeen.triples import TriplesFactory\n",
    "import torch\n",
    "from tqdm import tqdm\n",
    "import json\n",
    "import numpy as np\n",
    "from typing import List\n",
    "from typing import List, Union\n"
   ]
  },
  {
   "cell_type": "code",
   "execution_count": 3,
   "id": "d3cbedc6",
   "metadata": {},
   "outputs": [],
   "source": [
    "from nb_utils.eval_utils import TEST, VALID, TRAIN, TEST_EXCLUDING_DIS, TEST_RESTRICTED_DIS\n",
    "from nb_utils.eval_utils import COL_SOURCE, COL_TARGET, COL_EDGE, COL_NODE, DEGREE, IN_DEGREE, OUT_DEGREE\n",
    "from nb_utils.eval_utils import obtain_filtered_triples, split_test_triples_conditioned_on_ent_property, split_train_ents_by_existance_of_properties\n",
    "from nb_utils.eval_utils import setup_wandb_result_tracker, run_experiment_and_log_wandb\n",
    "from nb_utils.eval_utils import make_results_dict_all_rel, make_results_dict_rel_breakdown"
   ]
  },
  {
   "cell_type": "markdown",
   "id": "7b02e275",
   "metadata": {},
   "source": [
    "Change this cell to generate a report for other datasets/models:"
   ]
  },
  {
   "cell_type": "code",
   "execution_count": 4,
   "id": "0c15b7c3",
   "metadata": {},
   "outputs": [],
   "source": [
    "SHARED_DATA_DIR = Path(\"/home/jovyan/workbench-shared-folder/bioblp\")\n",
    "PROJ_DATA_DIR = Path(\"../data/\")"
   ]
  },
  {
   "cell_type": "code",
   "execution_count": 5,
   "id": "f2271aa2",
   "metadata": {},
   "outputs": [],
   "source": [
    "# model registry\n",
    "ROTATE = \"rotate\"\n",
    "BIOBLP_D = \"bioblp_d\"\n",
    "\n",
    "MODEL_ID_rotate = 'rotate-otxtubeb' \n",
    "MODEL_ID_bioblpd = 'bioblpd-38uz9fjs'\n",
    "\n",
    "MODELS = {\n",
    "    ROTATE: MODEL_ID_rotate,\n",
    "    BIOBLP_D: MODEL_ID_bioblpd\n",
    "}"
   ]
  },
  {
   "cell_type": "code",
   "execution_count": 6,
   "id": "3658cbab",
   "metadata": {},
   "outputs": [
    {
     "data": {
      "text/plain": [
       "{'rotate-otxtubeb': PosixPath('/home/jovyan/workbench-shared-folder/bioblp/models/rotate-otxtubeb'),\n",
       " 'bioblpd-38uz9fjs': PosixPath('/home/jovyan/workbench-shared-folder/bioblp/models/bioblpd-38uz9fjs')}"
      ]
     },
     "execution_count": 6,
     "metadata": {},
     "output_type": "execute_result"
    }
   ],
   "source": [
    "model_registry_basedir = SHARED_DATA_DIR.joinpath(f\"models\")\n",
    "model_registry_paths = {v: model_registry_basedir.joinpath(f\"{v}\") for v in MODELS.values()}\n",
    "model_registry_paths"
   ]
  },
  {
   "cell_type": "markdown",
   "id": "e9176951",
   "metadata": {},
   "source": [
    "##  Loading model and data\n",
    "\n",
    "make a keyword based switching statement b/w rotate and bioblp-d"
   ]
  },
  {
   "cell_type": "code",
   "execution_count": 7,
   "id": "2a21b36a",
   "metadata": {},
   "outputs": [],
   "source": [
    "def load_kge_model(model_base_path):\n",
    "    model_path = model_base_path.joinpath(\"trained_model.pkl\")\n",
    "    device = torch.device('cuda' if torch.cuda.is_available() else 'cpu')\n",
    "    model = torch.load(model_path, map_location=torch.device(device))\n",
    "    #train = TriplesFactory.from_path_binary(model_base_path.joinpath(\"training_triples\"))\n",
    "    return model\n",
    "    "
   ]
  },
  {
   "cell_type": "code",
   "execution_count": 8,
   "id": "d7b5e17c",
   "metadata": {},
   "outputs": [],
   "source": [
    "# load rotate, or bioblp-d\n",
    "MODEL_ID = MODELS.get(ROTATE)    \n",
    "model = load_kge_model(model_base_path = model_registry_paths[MODEL_ID])\n",
    "train = TriplesFactory.from_path_binary(model_registry_paths[MODEL_ID].joinpath(\"training_triples\"))"
   ]
  },
  {
   "cell_type": "code",
   "execution_count": 9,
   "id": "17f3ec1e",
   "metadata": {},
   "outputs": [],
   "source": [
    "graph_path = PROJ_DATA_DIR.joinpath('biokgb/graph')\n",
    "valid_triples = 'biokg.links-valid.csv'\n",
    "test_triples = 'biokg.links-test.csv'\n",
    "dummy_triples = 'biokg.links-dummy.csv'"
   ]
  },
  {
   "cell_type": "markdown",
   "id": "73c85310",
   "metadata": {},
   "source": [
    "creating a dummy set of triples for unit testing purposes"
   ]
  },
  {
   "cell_type": "code",
   "execution_count": 10,
   "id": "b092d598",
   "metadata": {},
   "outputs": [],
   "source": [
    "DUMMY = 'dummy'\n",
    "dummy_triples = 'biokg.links-dummy.csv'\n",
    "dummy_df = pd.read_csv(graph_path.joinpath(test_triples), sep=\"\\t\", header=None)[:50]\n",
    "dummy_df.to_csv(graph_path.joinpath(dummy_triples), sep=\"\\t\", index=None, header=None)"
   ]
  },
  {
   "cell_type": "code",
   "execution_count": 11,
   "id": "d387fab7",
   "metadata": {},
   "outputs": [],
   "source": [
    "valid, test, dummy = [TriplesFactory.from_path(graph_path.joinpath(f),\n",
    "                                        entity_to_id=train.entity_to_id,\n",
    "                                        relation_to_id=train.relation_to_id)\n",
    "               for f in (valid_triples, test_triples, dummy_triples)]"
   ]
  },
  {
   "cell_type": "markdown",
   "id": "411c32e2",
   "metadata": {},
   "source": [
    "#### Split test triples conditional on whether they contain entities whose properties were encoded in BIOBLP-X vs not"
   ]
  },
  {
   "cell_type": "markdown",
   "id": "1ee68d21",
   "metadata": {},
   "source": [
    "Create test sets: \n",
    "D; D_b, D_r; \n",
    "\n",
    "All biokgb entities surprisingly have a relation - > D_r is an empty set. -> This is because we used teh name of disease as decription in places where it was missing"
   ]
  },
  {
   "cell_type": "code",
   "execution_count": 12,
   "id": "3c985158",
   "metadata": {},
   "outputs": [
    {
     "name": "stdout",
     "output_type": "stream",
     "text": [
      "# Disease entities in larger biokg (pre-benchmark removal): 11347\n",
      "# Disease entities in larger biokg (pre-benchmark removal) for which we have textual descriptions: 11347\n"
     ]
    }
   ],
   "source": [
    "#disease_descr_path = PROJ_DATA_DIR.joinpath(\"biokgb/properties/biokg_meshid_to_descr_name-orig.tsv\")\n",
    "disease_descr_path = PROJ_DATA_DIR.joinpath(\"biokgb/properties/biokg_meshid_to_descr_name.tsv\")\n",
    "disease_metadata_path = PROJ_DATA_DIR.joinpath(\"biokgb/properties/biokg.metadata.disease.tsv\")\n",
    "\n",
    "# create a subset of biokg entities of type Disease \n",
    "diseases = pd.read_csv(disease_metadata_path, sep=\"\\t\", names=[\"disease\", \"rel\", \"node_type\"])\n",
    "disease_set = set(diseases.disease.values)\n",
    "print(f\"# Disease entities in larger biokg (pre-benchmark removal): {len(disease_set)}\")\n",
    "\n",
    "# create a set of disease entities for which we have text descriptions\n",
    "disease_w_desc_df = pd.read_csv(disease_descr_path, sep=\"\\t\", header=0, names=[\"disease\", \"desc\"])\n",
    "disease_desc_set = set(disease_w_desc_df.disease.values)\n",
    "print(f\"# Disease entities in larger biokg (pre-benchmark removal) for which we have textual descriptions: {len(disease_desc_set)}\")\n"
   ]
  },
  {
   "cell_type": "code",
   "execution_count": 13,
   "id": "0df96068",
   "metadata": {},
   "outputs": [
    {
     "data": {
      "text/plain": [
       "count    11347.000000\n",
       "mean       149.042743\n",
       "std        156.370558\n",
       "min          5.000000\n",
       "25%         37.000000\n",
       "50%         70.000000\n",
       "75%        231.000000\n",
       "max       1076.000000\n",
       "Name: len, dtype: float64"
      ]
     },
     "execution_count": 13,
     "metadata": {},
     "output_type": "execute_result"
    }
   ],
   "source": [
    "# Side note: all disease entities in Biokgb have decscriptions; because missing values were plugged with disease names\n",
    "disease_w_desc_df[\"len\"] = disease_w_desc_df[\"desc\"].str.len()\n",
    "disease_w_desc_df.len.describe()"
   ]
  },
  {
   "cell_type": "markdown",
   "id": "1235845e",
   "metadata": {},
   "source": [
    "#### define test sets"
   ]
  },
  {
   "cell_type": "code",
   "execution_count": 15,
   "id": "80a5a081",
   "metadata": {},
   "outputs": [
    {
     "name": "stderr",
     "output_type": "stream",
     "text": [
      "Reconstructing all label-based triples. This is expensive and rarely needed.\n",
      "Reconstructing all label-based triples. This is expensive and rarely needed.\n"
     ]
    }
   ],
   "source": [
    "test_triples_incl_dis_prop, test_triples_excl_dis_prop = split_test_triples_conditioned_on_ent_property(train_triples=train, \n",
    "                                                                                                        typed_ent_set=disease_set, \n",
    "                                                                                                        typed_ent_with_prop_set=disease_desc_set,\n",
    "                                                                                                        test_triples=test)"
   ]
  },
  {
   "cell_type": "code",
   "execution_count": 16,
   "id": "d2b7f1ce",
   "metadata": {},
   "outputs": [
    {
     "data": {
      "text/plain": [
       "{'DISEASE_GENETIC_DISORDER': 3,\n",
       " 'DISEASE_PATHWAY_ASSOCIATION': 4,\n",
       " 'DRUG_DISEASE_ASSOCIATION': 7,\n",
       " 'PROTEIN_DISEASE_ASSOCIATION': 14}"
      ]
     },
     "execution_count": 16,
     "metadata": {},
     "output_type": "execute_result"
    }
   ],
   "source": [
    "# relations containing diseases include -> \n",
    "dis_assoc_rels = {rel:rel_id for rel, rel_id in train.relation_to_id.items() if 'DISEASE' in rel}\n",
    "dis_assoc_rels"
   ]
  },
  {
   "cell_type": "code",
   "execution_count": 17,
   "id": "f3da9830",
   "metadata": {},
   "outputs": [],
   "source": [
    "# equivalence of test_triples restricted on disease- assoc relationships and test_triples_incl_dis_prop above\n",
    "#test_triples_disease = test.new_with_restriction(relations=list(dis_assoc_rels.values()))"
   ]
  },
  {
   "cell_type": "code",
   "execution_count": 18,
   "id": "3a5284ad",
   "metadata": {},
   "outputs": [
    {
     "name": "stdout",
     "output_type": "stream",
     "text": [
      "# triples originally in test: 185227, valid: 185226\n",
      "# test triples with disease nodes: 17063\n",
      "# valid triples with disease nodes: 168164\n"
     ]
    }
   ],
   "source": [
    "# create set of triples\n",
    "print(f\"# triples originally in test: {test.num_triples}, valid: {valid.num_triples}\")\n",
    "#test_triples_disease = test.new_with_restriction(relations=list(dis_assoc_rels.values()))\n",
    "#valid_triples_disease = valid.new_with_restriction(relations=list(dis_assoc_rels.values()))\n",
    "print(f\"# test triples with disease nodes: {test_triples_incl_dis_prop.num_triples}\")\n",
    "print(f\"# valid triples with disease nodes: {test_triples_excl_dis_prop.num_triples}\")\n"
   ]
  },
  {
   "cell_type": "code",
   "execution_count": 19,
   "id": "6c7dd47a",
   "metadata": {},
   "outputs": [],
   "source": [
    "triples_dict = {\n",
    "    TEST: test,\n",
    "    VALID: valid,\n",
    "    TRAIN: train,\n",
    "    TEST_RESTRICTED_DIS: test_triples_incl_dis_prop,\n",
    "    TEST_EXCLUDING_DIS: test_triples_excl_dis_prop,\n",
    "    DUMMY: dummy, \n",
    "}\n",
    "\n",
    "TEST_SET_LIST = [TEST_RESTRICTED_DIS, TEST_EXCLUDING_DIS, TEST, VALID]\n"
   ]
  },
  {
   "cell_type": "markdown",
   "id": "39ee8e72",
   "metadata": {},
   "source": [
    "# Evaluation"
   ]
  },
  {
   "cell_type": "markdown",
   "id": "7dfb2625",
   "metadata": {},
   "source": [
    "wandb logging"
   ]
  },
  {
   "cell_type": "code",
   "execution_count": null,
   "id": "d2515b58",
   "metadata": {},
   "outputs": [],
   "source": [
    "import wandb\n",
    "wandb.login()\n",
    "\n",
    "WANDB_ENTITY_DISCOVERYLAB = \"discoverylab\"\n",
    "WANDB_PROJECT_NAME = \"bioblp-jupyter-trial\"\n"
   ]
  },
  {
   "cell_type": "markdown",
   "id": "c34fd3d5",
   "metadata": {},
   "source": [
    "sanity check logic for experiment run with wandb logging"
   ]
  },
  {
   "cell_type": "code",
   "execution_count": 22,
   "id": "c8becfe2",
   "metadata": {},
   "outputs": [],
   "source": [
    "def trial_func(x=1, y=2):\n",
    "    print(x*y)\n",
    "    return {'x': x, 'y':y}\n",
    "\n",
    "#trial_func_kwargs = {\"x\": 1, \"y\": 2} \n",
    "#metrics = run_experiment('dummy-run', TEST, BIOBLP_D, trial_func, **trial_func_kwargs) "
   ]
  },
  {
   "cell_type": "markdown",
   "id": "43cee54b",
   "metadata": {},
   "source": [
    "### LP performace: Micro averaged metrics across All Relations"
   ]
  },
  {
   "cell_type": "code",
   "execution_count": 74,
   "id": "f21707e1",
   "metadata": {},
   "outputs": [],
   "source": [
    "def evaluate_lp_on_single_test_set(model, eval_test_set_slug, all_rels=True, split_by_rels=False):\n",
    "\n",
    "    evaluator = RankBasedEvaluator(filtered=True)   \n",
    "    # should we filtering more triples in the disease restricted test sets?\n",
    "    filtered_triples = obtain_filtered_triples(test_type=eval_test_set_slug, \n",
    "                                               train_triples=triples_dict.get(TRAIN),\n",
    "                                               valid_triples=triples_dict.get(VALID)\n",
    "                                              )\n",
    "    eval_result = evaluator.evaluate(model, triples_dict[eval_test_set_slug].mapped_triples,\n",
    "                                     additional_filter_triples = filtered_triples)\n",
    "    \n",
    "    results_all_rels = make_results_dict_all_rel(eval_result, \n",
    "                                         relation='All', \n",
    "                                         relation_count=triples_dict.get(eval_test_set_slug).num_triples)\n",
    "    \n",
    "    # if split_by_rels: to add logic \n",
    "        \n",
    "    return results_all_rels\n",
    "        "
   ]
  },
  {
   "cell_type": "code",
   "execution_count": 36,
   "id": "fed88cc8",
   "metadata": {},
   "outputs": [
    {
     "name": "stderr",
     "output_type": "stream",
     "text": [
      "Evaluating on cuda:0: 100%|██████████| 50.0/50.0 [00:00<00:00, 63.0triple/s]\n"
     ]
    },
    {
     "data": {
      "text/plain": [
       "\"\\nresults_microavg_test_retricted_dis = run_experiment_and_log_wandb(study_name='dummy-run-eval', \\n                   test_set_slug=TEST_RESTRICTED_DIS, \\n                   model_name=MODEL_ID, \\n                   eval_func=evaluate_lp_on_single_test_set, \\n                   **func_kwargs\\n                  )\\n\""
      ]
     },
     "execution_count": 36,
     "metadata": {},
     "output_type": "execute_result"
    }
   ],
   "source": [
    "# dummy run\n",
    "dummy_func_kwargs = {\"model\": model, \"eval_test_set_slug\": DUMMY}\n",
    "dummy_results = evaluate_lp_on_single_test_set(**dummy_func_kwargs)\n",
    "'''\n",
    "results_microavg_test_retricted_dis = run_experiment_and_log_wandb(study_name='dummy-run-eval', \n",
    "                   test_set_slug=TEST_RESTRICTED_DIS, \n",
    "                   model_name=MODEL_ID, \n",
    "                   eval_func=evaluate_lp_on_single_test_set, \n",
    "                   **func_kwargs\n",
    "                  )\n",
    "'''\n"
   ]
  },
  {
   "cell_type": "code",
   "execution_count": 75,
   "id": "d2bbaa44",
   "metadata": {},
   "outputs": [],
   "source": [
    "def run_wandb_eval_all_rels_on_multiple_test_sets(model_id: str,\n",
    "                                                  test_set_list: List[str],\n",
    "                                                  eval_out_dir: Union[Path, str],\n",
    "                                                  wandb_project_name=WANDB_PROJECT_NAME):\n",
    "    micro_results_dicts = {}\n",
    "    STUDY_EVAL_MICRO_AVG = 'eval-micro-avg'\n",
    "    study_name = STUDY_EVAL_MICRO_AVG\n",
    "    eval_out_dir = Path(eval_out_dir)\n",
    "    eval_out_dir.mkdir(exist_ok=True , parents=True)\n",
    "\n",
    "    model = load_kge_model(model_registry_paths.get(model_id))\n",
    "    \n",
    "    for test_set_slug in test_set_list:\n",
    "        print(f\"Model being evaluated: {model_id}, of type {type(model)}\")\n",
    "        func_kwargs = {\"model\": model, \"eval_test_set_slug\": test_set_slug}\n",
    "\n",
    "        rel_results = run_experiment_and_log_wandb(study_name=study_name, \n",
    "                                                   test_set_slug=test_set_slug, \n",
    "                                                   model_name=MODEL_ID, \n",
    "                                                   eval_func=evaluate_lp_on_single_test_set, \n",
    "                                                   wandb_project_name=wandb_project_name,\n",
    "                                                   **func_kwargs\n",
    "                                                  )\n",
    "        micro_results_dicts[test_set_slug] = rel_results\n",
    "\n",
    "    with open(eval_out_dir.joinpath(f'{study_name}.json'), 'w+') as f:\n",
    "        json.dump(micro_results_dicts, f)"
   ]
  },
  {
   "cell_type": "code",
   "execution_count": 60,
   "id": "9ea77594",
   "metadata": {},
   "outputs": [
    {
     "name": "stdout",
     "output_type": "stream",
     "text": [
      "Model being evaluated: rotate-otxtubeb, of type <class 'pykeen.models.unimodal.rotate.RotatE'>\n"
     ]
    },
    {
     "name": "stderr",
     "output_type": "stream",
     "text": [
      "Evaluating on cuda:0: 100%|██████████| 50.0/50.0 [00:00<00:00, 60.6triple/s]\n"
     ]
    },
    {
     "data": {
      "text/html": [
       "wandb version 0.13.10 is available!  To upgrade, please run:\n",
       " $ pip install wandb --upgrade"
      ],
      "text/plain": [
       "<IPython.core.display.HTML object>"
      ]
     },
     "metadata": {},
     "output_type": "display_data"
    },
    {
     "data": {
      "text/html": [
       "Tracking run with wandb version 0.12.20"
      ],
      "text/plain": [
       "<IPython.core.display.HTML object>"
      ]
     },
     "metadata": {},
     "output_type": "display_data"
    },
    {
     "data": {
      "text/html": [
       "Run data is saved locally in <code>/home/jovyan/BioBLP/notebooks/wandb/run-20230301_093332-3o9slase</code>"
      ],
      "text/plain": [
       "<IPython.core.display.HTML object>"
      ]
     },
     "metadata": {},
     "output_type": "display_data"
    },
    {
     "data": {
      "text/html": [
       "Syncing run <strong><a href=\"https://wandb.ai/discoverylab/bioblp-jupyter-trial/runs/3o9slase\" target=\"_blank\">snowy-moon-40</a></strong> to <a href=\"https://wandb.ai/discoverylab/bioblp-jupyter-trial\" target=\"_blank\">Weights & Biases</a> (<a href=\"https://wandb.me/run\" target=\"_blank\">docs</a>)<br/>"
      ],
      "text/plain": [
       "<IPython.core.display.HTML object>"
      ]
     },
     "metadata": {},
     "output_type": "display_data"
    }
   ],
   "source": [
    "# parameterise MODEL_NAME_SLUG as single point of entry into chain of model related parameters\n",
    "MODEL_NAME_SLUG = ROTATE\n",
    "MODEL_ID = MODELS.get(MODEL_NAME_SLUG)  \n",
    "DUMMY_TEST_LIST = [DUMMY]\n",
    "eval_out_dir = Path(f\"./metrics/{MODEL_ID}\")\n",
    "\n",
    "run_wandb_eval_all_rels_on_multiple_test_sets(model_id=MODEL_ID,\n",
    "                                             test_set_list=DUMMY_TEST_LIST,\n",
    "                                             eval_out_dir=eval_out_dir,\n",
    "                                             wandb_project_name=WANDB_PROJECT_NAME)"
   ]
  },
  {
   "cell_type": "code",
   "execution_count": null,
   "id": "8630ae2d",
   "metadata": {},
   "outputs": [],
   "source": [
    "MODEL_NAME_SLUG = BIOBLPD\n",
    "MODEL_ID = MODELS.get(MODEL_NAME_SLUG)  \n",
    "DUMMY_TEST_LIST = [DUMMY]\n",
    "eval_out_dir = Path(f\"./metrics/{MODEL_ID}\")\n",
    "\n",
    "run_wandb_eval_all_rels_on_multiple_test_sets(model_id=MODEL_ID,\n",
    "                                             test_set_list=TEST_SET_LIST,\n",
    "                                             eval_out_dir=eval_out_dir)"
   ]
  },
  {
   "cell_type": "code",
   "execution_count": 25,
   "id": "4cb713d9",
   "metadata": {},
   "outputs": [
    {
     "name": "stderr",
     "output_type": "stream",
     "text": [
      "Evaluating on cuda:0: 100%|██████████| 17.1k/17.1k [02:55<00:00, 97.0triple/s]\n"
     ]
    },
    {
     "data": {
      "text/html": [
       "wandb version 0.13.10 is available!  To upgrade, please run:\n",
       " $ pip install wandb --upgrade"
      ],
      "text/plain": [
       "<IPython.core.display.HTML object>"
      ]
     },
     "metadata": {},
     "output_type": "display_data"
    },
    {
     "data": {
      "text/html": [
       "Tracking run with wandb version 0.12.20"
      ],
      "text/plain": [
       "<IPython.core.display.HTML object>"
      ]
     },
     "metadata": {},
     "output_type": "display_data"
    },
    {
     "data": {
      "text/html": [
       "Run data is saved locally in <code>/home/jovyan/BioBLP/notebooks/wandb/run-20230227_170739-k0vfcb27</code>"
      ],
      "text/plain": [
       "<IPython.core.display.HTML object>"
      ]
     },
     "metadata": {},
     "output_type": "display_data"
    },
    {
     "data": {
      "text/html": [
       "Syncing run <strong><a href=\"https://wandb.ai/discoverylab/bioblp-jupyter-trial/runs/k0vfcb27\" target=\"_blank\">unique-sky-24</a></strong> to <a href=\"https://wandb.ai/discoverylab/bioblp-jupyter-trial\" target=\"_blank\">Weights & Biases</a> (<a href=\"https://wandb.me/run\" target=\"_blank\">docs</a>)<br/>"
      ],
      "text/plain": [
       "<IPython.core.display.HTML object>"
      ]
     },
     "metadata": {},
     "output_type": "display_data"
    },
    {
     "name": "stderr",
     "output_type": "stream",
     "text": [
      "Evaluating on cuda:0: 100%|██████████| 168k/168k [29:10<00:00, 96.1triple/s] \n"
     ]
    },
    {
     "data": {
      "text/html": [
       "Finishing last run (ID:k0vfcb27) before initializing another..."
      ],
      "text/plain": [
       "<IPython.core.display.HTML object>"
      ]
     },
     "metadata": {},
     "output_type": "display_data"
    },
    {
     "data": {
      "text/html": [
       "Waiting for W&B process to finish... <strong style=\"color:green\">(success).</strong>"
      ],
      "text/plain": [
       "<IPython.core.display.HTML object>"
      ]
     },
     "metadata": {},
     "output_type": "display_data"
    },
    {
     "data": {
      "text/html": [
       "Synced <strong style=\"color:#cdcd00\">unique-sky-24</strong>: <a href=\"https://wandb.ai/discoverylab/bioblp-jupyter-trial/runs/k0vfcb27\" target=\"_blank\">https://wandb.ai/discoverylab/bioblp-jupyter-trial/runs/k0vfcb27</a><br/>Synced 6 W&B file(s), 0 media file(s), 0 artifact file(s) and 0 other file(s)"
      ],
      "text/plain": [
       "<IPython.core.display.HTML object>"
      ]
     },
     "metadata": {},
     "output_type": "display_data"
    },
    {
     "data": {
      "text/html": [
       "Find logs at: <code>./wandb/run-20230227_170739-k0vfcb27/logs</code>"
      ],
      "text/plain": [
       "<IPython.core.display.HTML object>"
      ]
     },
     "metadata": {},
     "output_type": "display_data"
    },
    {
     "data": {
      "text/html": [
       "Successfully finished last run (ID:k0vfcb27). Initializing new run:<br/>"
      ],
      "text/plain": [
       "<IPython.core.display.HTML object>"
      ]
     },
     "metadata": {},
     "output_type": "display_data"
    },
    {
     "data": {
      "text/html": [
       "wandb version 0.13.10 is available!  To upgrade, please run:\n",
       " $ pip install wandb --upgrade"
      ],
      "text/plain": [
       "<IPython.core.display.HTML object>"
      ]
     },
     "metadata": {},
     "output_type": "display_data"
    },
    {
     "data": {
      "text/html": [
       "Tracking run with wandb version 0.12.20"
      ],
      "text/plain": [
       "<IPython.core.display.HTML object>"
      ]
     },
     "metadata": {},
     "output_type": "display_data"
    },
    {
     "data": {
      "text/html": [
       "Run data is saved locally in <code>/home/jovyan/BioBLP/notebooks/wandb/run-20230227_173743-2bv96meh</code>"
      ],
      "text/plain": [
       "<IPython.core.display.HTML object>"
      ]
     },
     "metadata": {},
     "output_type": "display_data"
    },
    {
     "data": {
      "text/html": [
       "Syncing run <strong><a href=\"https://wandb.ai/discoverylab/bioblp-jupyter-trial/runs/2bv96meh\" target=\"_blank\">solar-firebrand-25</a></strong> to <a href=\"https://wandb.ai/discoverylab/bioblp-jupyter-trial\" target=\"_blank\">Weights & Biases</a> (<a href=\"https://wandb.me/run\" target=\"_blank\">docs</a>)<br/>"
      ],
      "text/plain": [
       "<IPython.core.display.HTML object>"
      ]
     },
     "metadata": {},
     "output_type": "display_data"
    },
    {
     "name": "stderr",
     "output_type": "stream",
     "text": [
      "Evaluating on cuda:0: 100%|██████████| 185k/185k [32:09<00:00, 96.0triple/s] \n"
     ]
    },
    {
     "data": {
      "text/html": [
       "Finishing last run (ID:2bv96meh) before initializing another..."
      ],
      "text/plain": [
       "<IPython.core.display.HTML object>"
      ]
     },
     "metadata": {},
     "output_type": "display_data"
    },
    {
     "data": {
      "text/html": [
       "Waiting for W&B process to finish... <strong style=\"color:green\">(success).</strong>"
      ],
      "text/plain": [
       "<IPython.core.display.HTML object>"
      ]
     },
     "metadata": {},
     "output_type": "display_data"
    },
    {
     "data": {
      "text/html": [
       "Synced <strong style=\"color:#cdcd00\">solar-firebrand-25</strong>: <a href=\"https://wandb.ai/discoverylab/bioblp-jupyter-trial/runs/2bv96meh\" target=\"_blank\">https://wandb.ai/discoverylab/bioblp-jupyter-trial/runs/2bv96meh</a><br/>Synced 6 W&B file(s), 0 media file(s), 0 artifact file(s) and 0 other file(s)"
      ],
      "text/plain": [
       "<IPython.core.display.HTML object>"
      ]
     },
     "metadata": {},
     "output_type": "display_data"
    },
    {
     "data": {
      "text/html": [
       "Find logs at: <code>./wandb/run-20230227_173743-2bv96meh/logs</code>"
      ],
      "text/plain": [
       "<IPython.core.display.HTML object>"
      ]
     },
     "metadata": {},
     "output_type": "display_data"
    },
    {
     "data": {
      "text/html": [
       "Successfully finished last run (ID:2bv96meh). Initializing new run:<br/>"
      ],
      "text/plain": [
       "<IPython.core.display.HTML object>"
      ]
     },
     "metadata": {},
     "output_type": "display_data"
    },
    {
     "data": {
      "text/html": [
       "wandb version 0.13.10 is available!  To upgrade, please run:\n",
       " $ pip install wandb --upgrade"
      ],
      "text/plain": [
       "<IPython.core.display.HTML object>"
      ]
     },
     "metadata": {},
     "output_type": "display_data"
    },
    {
     "data": {
      "text/html": [
       "Tracking run with wandb version 0.12.20"
      ],
      "text/plain": [
       "<IPython.core.display.HTML object>"
      ]
     },
     "metadata": {},
     "output_type": "display_data"
    },
    {
     "data": {
      "text/html": [
       "Run data is saved locally in <code>/home/jovyan/BioBLP/notebooks/wandb/run-20230227_181052-22rj8yfq</code>"
      ],
      "text/plain": [
       "<IPython.core.display.HTML object>"
      ]
     },
     "metadata": {},
     "output_type": "display_data"
    },
    {
     "data": {
      "text/html": [
       "Syncing run <strong><a href=\"https://wandb.ai/discoverylab/bioblp-jupyter-trial/runs/22rj8yfq\" target=\"_blank\">iconic-shadow-26</a></strong> to <a href=\"https://wandb.ai/discoverylab/bioblp-jupyter-trial\" target=\"_blank\">Weights & Biases</a> (<a href=\"https://wandb.me/run\" target=\"_blank\">docs</a>)<br/>"
      ],
      "text/plain": [
       "<IPython.core.display.HTML object>"
      ]
     },
     "metadata": {},
     "output_type": "display_data"
    },
    {
     "name": "stderr",
     "output_type": "stream",
     "text": [
      "Evaluating on cuda:0: 100%|██████████| 185k/185k [31:44<00:00, 97.3triple/s] \n"
     ]
    },
    {
     "data": {
      "text/html": [
       "Finishing last run (ID:22rj8yfq) before initializing another..."
      ],
      "text/plain": [
       "<IPython.core.display.HTML object>"
      ]
     },
     "metadata": {},
     "output_type": "display_data"
    },
    {
     "data": {
      "text/html": [
       "Waiting for W&B process to finish... <strong style=\"color:green\">(success).</strong>"
      ],
      "text/plain": [
       "<IPython.core.display.HTML object>"
      ]
     },
     "metadata": {},
     "output_type": "display_data"
    },
    {
     "data": {
      "text/html": [
       "Synced <strong style=\"color:#cdcd00\">iconic-shadow-26</strong>: <a href=\"https://wandb.ai/discoverylab/bioblp-jupyter-trial/runs/22rj8yfq\" target=\"_blank\">https://wandb.ai/discoverylab/bioblp-jupyter-trial/runs/22rj8yfq</a><br/>Synced 6 W&B file(s), 0 media file(s), 0 artifact file(s) and 0 other file(s)"
      ],
      "text/plain": [
       "<IPython.core.display.HTML object>"
      ]
     },
     "metadata": {},
     "output_type": "display_data"
    },
    {
     "data": {
      "text/html": [
       "Find logs at: <code>./wandb/run-20230227_181052-22rj8yfq/logs</code>"
      ],
      "text/plain": [
       "<IPython.core.display.HTML object>"
      ]
     },
     "metadata": {},
     "output_type": "display_data"
    },
    {
     "data": {
      "text/html": [
       "Successfully finished last run (ID:22rj8yfq). Initializing new run:<br/>"
      ],
      "text/plain": [
       "<IPython.core.display.HTML object>"
      ]
     },
     "metadata": {},
     "output_type": "display_data"
    },
    {
     "data": {
      "text/html": [
       "wandb version 0.13.10 is available!  To upgrade, please run:\n",
       " $ pip install wandb --upgrade"
      ],
      "text/plain": [
       "<IPython.core.display.HTML object>"
      ]
     },
     "metadata": {},
     "output_type": "display_data"
    },
    {
     "data": {
      "text/html": [
       "Tracking run with wandb version 0.12.20"
      ],
      "text/plain": [
       "<IPython.core.display.HTML object>"
      ]
     },
     "metadata": {},
     "output_type": "display_data"
    },
    {
     "data": {
      "text/html": [
       "Run data is saved locally in <code>/home/jovyan/BioBLP/notebooks/wandb/run-20230227_184333-gnqaoz0t</code>"
      ],
      "text/plain": [
       "<IPython.core.display.HTML object>"
      ]
     },
     "metadata": {},
     "output_type": "display_data"
    },
    {
     "data": {
      "text/html": [
       "Syncing run <strong><a href=\"https://wandb.ai/discoverylab/bioblp-jupyter-trial/runs/gnqaoz0t\" target=\"_blank\">golden-energy-27</a></strong> to <a href=\"https://wandb.ai/discoverylab/bioblp-jupyter-trial\" target=\"_blank\">Weights & Biases</a> (<a href=\"https://wandb.me/run\" target=\"_blank\">docs</a>)<br/>"
      ],
      "text/plain": [
       "<IPython.core.display.HTML object>"
      ]
     },
     "metadata": {},
     "output_type": "display_data"
    }
   ],
   "source": [
    "model_name = MODEL_ID\n",
    "for test_set_slug in TEST_SET_LIST:\n",
    "    func_kwargs = {\"model\": model, \"eval_test_set_slug\": test_set_slug}\n",
    "\n",
    "    run_experiment(study_name='eval-micro-avg', \n",
    "                   test_set_slug=test_set_slug, \n",
    "                   model_name=model_name, \n",
    "                   eval_func=evaluate_lp_on_single_test_set, \n",
    "                   **func_kwargs\n",
    "                  )"
   ]
  },
  {
   "cell_type": "markdown",
   "id": "e39fe2eb",
   "metadata": {},
   "source": [
    "## analyse effect of node degree?\n",
    "1. compute a degree table for entities in train"
   ]
  },
  {
   "cell_type": "code",
   "execution_count": 20,
   "id": "064ac6cd",
   "metadata": {},
   "outputs": [
    {
     "name": "stderr",
     "output_type": "stream",
     "text": [
      "Reconstructing all label-based triples. This is expensive and rarely needed.\n"
     ]
    },
    {
     "data": {
      "text/html": [
       "<div>\n",
       "<style scoped>\n",
       "    .dataframe tbody tr th:only-of-type {\n",
       "        vertical-align: middle;\n",
       "    }\n",
       "\n",
       "    .dataframe tbody tr th {\n",
       "        vertical-align: top;\n",
       "    }\n",
       "\n",
       "    .dataframe thead th {\n",
       "        text-align: right;\n",
       "    }\n",
       "</style>\n",
       "<table border=\"1\" class=\"dataframe\">\n",
       "  <thead>\n",
       "    <tr style=\"text-align: right;\">\n",
       "      <th></th>\n",
       "      <th>src</th>\n",
       "      <th>rel</th>\n",
       "      <th>tgt</th>\n",
       "    </tr>\n",
       "  </thead>\n",
       "  <tbody>\n",
       "    <tr>\n",
       "      <th>0</th>\n",
       "      <td>A0A075B6P5</td>\n",
       "      <td>MEMBER_OF_COMPLEX</td>\n",
       "      <td>R-HSA-1479277</td>\n",
       "    </tr>\n",
       "    <tr>\n",
       "      <th>1</th>\n",
       "      <td>A0A075B6P5</td>\n",
       "      <td>MEMBER_OF_COMPLEX</td>\n",
       "      <td>R-HSA-1591211</td>\n",
       "    </tr>\n",
       "  </tbody>\n",
       "</table>\n",
       "</div>"
      ],
      "text/plain": [
       "          src                rel            tgt\n",
       "0  A0A075B6P5  MEMBER_OF_COMPLEX  R-HSA-1479277\n",
       "1  A0A075B6P5  MEMBER_OF_COMPLEX  R-HSA-1591211"
      ]
     },
     "execution_count": 20,
     "metadata": {},
     "output_type": "execute_result"
    }
   ],
   "source": [
    "training_df = pd.DataFrame(train.triples, columns=[COL_SOURCE, COL_EDGE, COL_TARGET])\n",
    "training_df[:2]"
   ]
  },
  {
   "cell_type": "code",
   "execution_count": 21,
   "id": "e41f3eb1",
   "metadata": {
    "scrolled": true
   },
   "outputs": [
    {
     "data": {
      "text/plain": [
       "PROTEIN_DISEASE_ASSOCIATION    89804\n",
       "DRUG_DISEASE_ASSOCIATION       53426\n",
       "DISEASE_GENETIC_DISORDER        4339\n",
       "DISEASE_PATHWAY_ASSOCIATION     2945\n",
       "Name: rel, dtype: int64"
      ]
     },
     "execution_count": 21,
     "metadata": {},
     "output_type": "execute_result"
    }
   ],
   "source": [
    "# not a nec step, but to ease computation, let's restrict the triples to disease node containg triples\n",
    "training_df = training_df[training_df[COL_EDGE].isin(list(dis_assoc_rels.keys()))]\n",
    "training_df.rel.value_counts()"
   ]
  },
  {
   "cell_type": "code",
   "execution_count": 22,
   "id": "a26d838e",
   "metadata": {},
   "outputs": [],
   "source": [
    "def compute_node_degrees(triple_df):\n",
    "    out_degree_df = training_df.groupby(COL_SOURCE)[COL_EDGE].agg(\"count\").reset_index()\n",
    "    out_degree_df.rename(columns={COL_SOURCE: COL_NODE, COL_EDGE: OUT_DEGREE}, inplace=True)\n",
    "    in_degree_df = training_df.groupby(COL_TARGET)[COL_EDGE].agg(\"count\").reset_index()\n",
    "    in_degree_df.rename(columns={COL_TARGET: COL_NODE, COL_EDGE: IN_DEGREE}, inplace=True)\n",
    "    node_degree_df = out_degree_df.merge(in_degree_df, on=COL_NODE, how=\"outer\")\n",
    "    node_degree_df = node_degree_df.fillna(0)\n",
    "    node_degree_df[DEGREE] = node_degree_df.in_degree+node_degree_df.out_degree\n",
    "    node_degree_df = node_degree_df.fillna(0)\n",
    "    return node_degree_df\n"
   ]
  },
  {
   "cell_type": "code",
   "execution_count": 23,
   "id": "429fe95c",
   "metadata": {},
   "outputs": [],
   "source": [
    "node_degree_df = compute_node_degrees(training_df)"
   ]
  },
  {
   "cell_type": "code",
   "execution_count": 24,
   "id": "45d28f3f",
   "metadata": {},
   "outputs": [
    {
     "data": {
      "text/html": [
       "<div>\n",
       "<style scoped>\n",
       "    .dataframe tbody tr th:only-of-type {\n",
       "        vertical-align: middle;\n",
       "    }\n",
       "\n",
       "    .dataframe tbody tr th {\n",
       "        vertical-align: top;\n",
       "    }\n",
       "\n",
       "    .dataframe thead th {\n",
       "        text-align: right;\n",
       "    }\n",
       "</style>\n",
       "<table border=\"1\" class=\"dataframe\">\n",
       "  <thead>\n",
       "    <tr style=\"text-align: right;\">\n",
       "      <th></th>\n",
       "      <th>ent</th>\n",
       "      <th>out_degree</th>\n",
       "      <th>in_degree</th>\n",
       "      <th>degree</th>\n",
       "      <th>is_disease</th>\n",
       "    </tr>\n",
       "  </thead>\n",
       "  <tbody>\n",
       "    <tr>\n",
       "      <th>666</th>\n",
       "      <td>C000600608</td>\n",
       "      <td>4.0</td>\n",
       "      <td>4.0</td>\n",
       "      <td>8.0</td>\n",
       "      <td>True</td>\n",
       "    </tr>\n",
       "    <tr>\n",
       "      <th>678</th>\n",
       "      <td>C531816</td>\n",
       "      <td>5.0</td>\n",
       "      <td>7.0</td>\n",
       "      <td>12.0</td>\n",
       "      <td>True</td>\n",
       "    </tr>\n",
       "  </tbody>\n",
       "</table>\n",
       "</div>"
      ],
      "text/plain": [
       "            ent  out_degree  in_degree  degree  is_disease\n",
       "666  C000600608         4.0        4.0     8.0        True\n",
       "678     C531816         5.0        7.0    12.0        True"
      ]
     },
     "execution_count": 24,
     "metadata": {},
     "output_type": "execute_result"
    }
   ],
   "source": [
    "node_degree_df[\"is_disease\"] = node_degree_df[COL_NODE].apply(lambda x: x in disease_set)\n",
    "dis_node_degree_df = node_degree_df[node_degree_df.is_disease]\n",
    "dis_node_degree_df[:2]"
   ]
  },
  {
   "cell_type": "code",
   "execution_count": 25,
   "id": "544a392f",
   "metadata": {},
   "outputs": [
    {
     "name": "stderr",
     "output_type": "stream",
     "text": [
      "Reconstructing all label-based triples. This is expensive and rarely needed.\n"
     ]
    },
    {
     "data": {
      "text/html": [
       "<div>\n",
       "<style scoped>\n",
       "    .dataframe tbody tr th:only-of-type {\n",
       "        vertical-align: middle;\n",
       "    }\n",
       "\n",
       "    .dataframe tbody tr th {\n",
       "        vertical-align: top;\n",
       "    }\n",
       "\n",
       "    .dataframe thead th {\n",
       "        text-align: right;\n",
       "    }\n",
       "</style>\n",
       "<table border=\"1\" class=\"dataframe\">\n",
       "  <thead>\n",
       "    <tr style=\"text-align: right;\">\n",
       "      <th></th>\n",
       "      <th>src</th>\n",
       "      <th>rel</th>\n",
       "      <th>tgt</th>\n",
       "      <th>src_dis_degree</th>\n",
       "      <th>tgt_dis_degree</th>\n",
       "      <th>dis_degree</th>\n",
       "    </tr>\n",
       "  </thead>\n",
       "  <tbody>\n",
       "    <tr>\n",
       "      <th>0</th>\n",
       "      <td>A0A0G2K344</td>\n",
       "      <td>PROTEIN_DISEASE_ASSOCIATION</td>\n",
       "      <td>D000077192</td>\n",
       "      <td>0.0</td>\n",
       "      <td>464.0</td>\n",
       "      <td>464.0</td>\n",
       "    </tr>\n",
       "    <tr>\n",
       "      <th>1</th>\n",
       "      <td>A0A0G2K344</td>\n",
       "      <td>PROTEIN_DISEASE_ASSOCIATION</td>\n",
       "      <td>D000077274</td>\n",
       "      <td>0.0</td>\n",
       "      <td>56.0</td>\n",
       "      <td>56.0</td>\n",
       "    </tr>\n",
       "    <tr>\n",
       "      <th>2</th>\n",
       "      <td>A0A0G2K344</td>\n",
       "      <td>PROTEIN_DISEASE_ASSOCIATION</td>\n",
       "      <td>D009062</td>\n",
       "      <td>0.0</td>\n",
       "      <td>180.0</td>\n",
       "      <td>180.0</td>\n",
       "    </tr>\n",
       "    <tr>\n",
       "      <th>3</th>\n",
       "      <td>A0A0R4IKU3</td>\n",
       "      <td>PROTEIN_DISEASE_ASSOCIATION</td>\n",
       "      <td>D009361</td>\n",
       "      <td>0.0</td>\n",
       "      <td>599.0</td>\n",
       "      <td>599.0</td>\n",
       "    </tr>\n",
       "    <tr>\n",
       "      <th>4</th>\n",
       "      <td>A0A0R4IQZ2</td>\n",
       "      <td>PROTEIN_DISEASE_ASSOCIATION</td>\n",
       "      <td>D000686</td>\n",
       "      <td>0.0</td>\n",
       "      <td>38.0</td>\n",
       "      <td>38.0</td>\n",
       "    </tr>\n",
       "  </tbody>\n",
       "</table>\n",
       "</div>"
      ],
      "text/plain": [
       "          src                          rel         tgt  src_dis_degree  \\\n",
       "0  A0A0G2K344  PROTEIN_DISEASE_ASSOCIATION  D000077192             0.0   \n",
       "1  A0A0G2K344  PROTEIN_DISEASE_ASSOCIATION  D000077274             0.0   \n",
       "2  A0A0G2K344  PROTEIN_DISEASE_ASSOCIATION     D009062             0.0   \n",
       "3  A0A0R4IKU3  PROTEIN_DISEASE_ASSOCIATION     D009361             0.0   \n",
       "4  A0A0R4IQZ2  PROTEIN_DISEASE_ASSOCIATION     D000686             0.0   \n",
       "\n",
       "   tgt_dis_degree  dis_degree  \n",
       "0           464.0       464.0  \n",
       "1            56.0        56.0  \n",
       "2           180.0       180.0  \n",
       "3           599.0       599.0  \n",
       "4            38.0        38.0  "
      ]
     },
     "execution_count": 25,
     "metadata": {},
     "output_type": "execute_result"
    }
   ],
   "source": [
    "# now bucket the test triples according to node degree\n",
    "dis_degree_dict = pd.Series(dis_node_degree_df.degree.values,index=dis_node_degree_df.ent).to_dict()\n",
    "test_triples_dis_df = pd.DataFrame(test_triples_incl_dis_prop.triples, columns=[\"src\", \"rel\", \"tgt\"])\n",
    "def retrieve_node_degree(node, node2degree_dict):\n",
    "    return node2degree_dict.get(node, 0)\n",
    "\n",
    "test_triples_dis_df[\"src_dis_degree\"] = test_triples_dis_df[\"src\"].apply(lambda x: retrieve_node_degree(x, dis_degree_dict))\n",
    "test_triples_dis_df[\"tgt_dis_degree\"] = test_triples_dis_df[\"tgt\"].apply(lambda x: retrieve_node_degree(x, dis_degree_dict))\n",
    "test_triples_dis_df[\"dis_degree\"] = test_triples_dis_df.src_dis_degree + test_triples_dis_df.tgt_dis_degree\n",
    "test_triples_dis_df[:3]  \n",
    "test_triples_dis_df.head()"
   ]
  },
  {
   "cell_type": "code",
   "execution_count": 26,
   "id": "6e8f92f3",
   "metadata": {},
   "outputs": [
    {
     "data": {
      "text/plain": [
       "count    17063.000000\n",
       "mean       300.116451\n",
       "std        422.864546\n",
       "min          1.000000\n",
       "25%         46.000000\n",
       "50%        144.000000\n",
       "75%        377.000000\n",
       "max       2448.000000\n",
       "Name: dis_degree, dtype: float64"
      ]
     },
     "execution_count": 26,
     "metadata": {},
     "output_type": "execute_result"
    }
   ],
   "source": [
    "test_triples_dis_df.dis_degree.describe()"
   ]
  },
  {
   "cell_type": "markdown",
   "id": "7f9fbc6e",
   "metadata": {},
   "source": [
    "### average performance predicting the node which has an entity degree of x\n",
    "\n",
    "Let's focus only on 'PROTEIN_DISEASE_ASSOCIATION', 'DRUG_DISEASE_ASSOCIATION' which have more support.\n",
    "\n",
    "The disease entity is the tail entity in these triples"
   ]
  },
  {
   "cell_type": "code",
   "execution_count": 28,
   "id": "5283c4eb",
   "metadata": {},
   "outputs": [
    {
     "data": {
      "text/html": [
       "<div>\n",
       "<style scoped>\n",
       "    .dataframe tbody tr th:only-of-type {\n",
       "        vertical-align: middle;\n",
       "    }\n",
       "\n",
       "    .dataframe tbody tr th {\n",
       "        vertical-align: top;\n",
       "    }\n",
       "\n",
       "    .dataframe thead th {\n",
       "        text-align: right;\n",
       "    }\n",
       "</style>\n",
       "<table border=\"1\" class=\"dataframe\">\n",
       "  <thead>\n",
       "    <tr style=\"text-align: right;\">\n",
       "      <th></th>\n",
       "      <th>src</th>\n",
       "      <th>rel</th>\n",
       "      <th>tgt</th>\n",
       "      <th>src_dis_degree</th>\n",
       "      <th>tgt_dis_degree</th>\n",
       "      <th>dis_degree</th>\n",
       "    </tr>\n",
       "  </thead>\n",
       "  <tbody>\n",
       "    <tr>\n",
       "      <th>0</th>\n",
       "      <td>A0A0G2K344</td>\n",
       "      <td>PROTEIN_DISEASE_ASSOCIATION</td>\n",
       "      <td>D000077192</td>\n",
       "      <td>0.0</td>\n",
       "      <td>464.0</td>\n",
       "      <td>464.0</td>\n",
       "    </tr>\n",
       "    <tr>\n",
       "      <th>1</th>\n",
       "      <td>A0A0G2K344</td>\n",
       "      <td>PROTEIN_DISEASE_ASSOCIATION</td>\n",
       "      <td>D000077274</td>\n",
       "      <td>0.0</td>\n",
       "      <td>56.0</td>\n",
       "      <td>56.0</td>\n",
       "    </tr>\n",
       "  </tbody>\n",
       "</table>\n",
       "</div>"
      ],
      "text/plain": [
       "          src                          rel         tgt  src_dis_degree  \\\n",
       "0  A0A0G2K344  PROTEIN_DISEASE_ASSOCIATION  D000077192             0.0   \n",
       "1  A0A0G2K344  PROTEIN_DISEASE_ASSOCIATION  D000077274             0.0   \n",
       "\n",
       "   tgt_dis_degree  dis_degree  \n",
       "0           464.0       464.0  \n",
       "1            56.0        56.0  "
      ]
     },
     "execution_count": 28,
     "metadata": {},
     "output_type": "execute_result"
    }
   ],
   "source": [
    "test_triples_dis_tail_df = test_triples_dis_df.loc[test_triples_dis_df[COL_EDGE].isin(['PROTEIN_DISEASE_ASSOCIATION', 'DRUG_DISEASE_ASSOCIATION'])]\n",
    "test_triples_dis_tail_df[:2]"
   ]
  },
  {
   "cell_type": "code",
   "execution_count": 29,
   "id": "fee81c52",
   "metadata": {},
   "outputs": [
    {
     "data": {
      "text/plain": [
       "464.0"
      ]
     },
     "execution_count": 29,
     "metadata": {},
     "output_type": "execute_result"
    }
   ],
   "source": [
    "dis_degree_values = test_triples_dis_df[\"dis_degree\"].unique()\n",
    "dis_degree_values[0]"
   ]
  },
  {
   "cell_type": "code",
   "execution_count": 30,
   "id": "c5c4353a",
   "metadata": {},
   "outputs": [
    {
     "data": {
      "image/png": "[encoded data removed]",
      "text/plain": [
       "<Figure size 432x288 with 1 Axes>"
      ]
     },
     "metadata": {
      "needs_background": "light"
     },
     "output_type": "display_data"
    }
   ],
   "source": [
    "import seaborn as sns\n",
    "disease_degrees = test_triples_dis_tail_df.groupby(['dis_degree'])[COL_EDGE].agg('count').reset_index()\n",
    "sns.scatterplot(data=disease_degrees, x='dis_degree', y='rel')\n",
    "plt.xscale('log')\n",
    "#plt.yscale('log')"
   ]
  },
  {
   "cell_type": "code",
   "execution_count": 31,
   "id": "412a0011",
   "metadata": {},
   "outputs": [],
   "source": [
    "def extract_relevant_metrics(metric_name, results_by_node_degree_dict):\n",
    "    degrees = list(results_by_node_degree_dict.keys())\n",
    "    metrics = []\n",
    "    for deg, metric in results_by_node_degree_dict.items():\n",
    "        metrics.append(metric[metric_name])\n",
    "    return degrees, metrics\n",
    "    \n",
    "def plot_metric_vs_degree_scatterplot_single_model(metric_name='hits_at_10', results_by_node_degree_dict=None, model_id=None,\n",
    "                                                  figsize=(7,7)):\n",
    "\n",
    "    degrees, metrics = extract_relevant_metrics(metric_name, results_by_node_degree_dict)   \n",
    "    plot, ax = plt.subplots(figsize=figsize)\n",
    "    sns.scatterplot(ax = ax, x=degrees, y=metrics)\n",
    "    plt.xscale('log')\n",
    "    plt.ylabel(metric_name)\n",
    "    plt.title(f'Average {metric_name} predicting disease nodes Vs. disease node degree | Model: {model_id}')\n",
    "    #return degrees, metrics"
   ]
  },
  {
   "cell_type": "code",
   "execution_count": 32,
   "id": "4ab3f2b1",
   "metadata": {},
   "outputs": [],
   "source": [
    "from pykeen.triples.triples_factory import TriplesFactory\n",
    "\n",
    "def compute_metrics_over_triples_with_disease_tails(model_id, test_triples_w_node_degree_df, test_set_slug):#, quantiles=quantiles_map.keys()):\n",
    "    \n",
    "    evaluator = RankBasedEvaluator(filtered=True)\n",
    "    model_base_path = model_registry_paths.get(model_id)\n",
    "    model = load_kge_model(model_base_path=model_base_path)\n",
    "    print(f'loaded model from {str(model_base_path)}')\n",
    "    additional_filter_triples = obtain_filtered_triples(test_type=test_set_slug,\n",
    "                                                        train_triples=triples_dict[TRAIN],\n",
    "                                                        valid_triples=triples_dict[VALID]\n",
    "                                                       )\n",
    "    test_triples_with_dis_tail_df = test_triples_w_node_degree_df.loc[test_triples_w_node_degree_df[COL_EDGE].isin(['PROTEIN_DISEASE_ASSOCIATION', 'DRUG_DISEASE_ASSOCIATION'])]\n",
    "    dis_degree_values = test_triples_with_dis_tail_df[\"dis_degree\"].unique()\n",
    "    result_dicts = []\n",
    "    \n",
    "    for degree_val in tqdm(dis_degree_values): \n",
    "        df_subset = test_triples_with_dis_tail_df.loc[test_triples_with_dis_tail_df[\"dis_degree\"]==degree_val][[COL_SOURCE, COL_EDGE, COL_TARGET]]\n",
    "        triples_subset = df_subset.values\n",
    "        triples_subset = TriplesFactory.from_labeled_triples(triples_subset, \n",
    "                                                             relation_to_id=triples_dict[TRAIN].relation_to_id, \n",
    "                                                             entity_to_id=triples_dict[TRAIN].entity_to_id)\n",
    "        if triples_subset.num_triples > 0:\n",
    "            subset_result = evaluator.evaluate(model,\n",
    "                                               triples_subset.mapped_triples, \n",
    "                                               additional_filter_triples=additional_filter_triples,\n",
    "                                               use_tqdm=False)\n",
    "            result_dicts.append({'dis_degree': degree_val, 'results': subset_result, 'relation': 'All', 'count': triples_subset.num_triples})\n",
    "    return result_dicts\n",
    "\n"
   ]
  },
  {
   "cell_type": "markdown",
   "id": "2916fe84",
   "metadata": {},
   "source": [
    "predict on bioblp-d"
   ]
  },
  {
   "cell_type": "code",
   "execution_count": 36,
   "id": "80997410",
   "metadata": {},
   "outputs": [
    {
     "name": "stdout",
     "output_type": "stream",
     "text": [
      "loaded model from /home/jovyan/workbench-shared-folder/bioblp/models/bioblpd-38uz9fjs\n"
     ]
    },
    {
     "name": "stderr",
     "output_type": "stream",
     "text": [
      "100%|██████████| 301/301 [1:13:29<00:00, 14.65s/it]\n"
     ]
    }
   ],
   "source": [
    "MODEL_NAME_SLUG = BIOBLP_D\n",
    "MODEL_ID = MODELS.get(MODEL_NAME_SLUG)  \n",
    "eval_out_dir = Path(f\"./metrics/{MODEL_ID}\")\n",
    "results_by_node_degree_bioblpd = compute_metrics_over_triples_with_disease_tails(model_id=MODEL_ID,\n",
    "                                                                                 test_triples_w_node_degree_df=test_triples_dis_df, \n",
    "                                                                                 test_set_slug=TEST_RESTRICTED_DIS)"
   ]
  },
  {
   "cell_type": "code",
   "execution_count": 37,
   "id": "435d9c80",
   "metadata": {},
   "outputs": [],
   "source": [
    "results_by_node_degree_dicts_bioblpd = {}\n",
    "for result in results_by_node_degree_bioblpd:\n",
    "         results_by_node_degree_dicts_bioblpd[result['dis_degree']] = make_results_dict_all_rel(result['results'],\n",
    "                                                                                relation=result['relation'],\n",
    "                                                                                relation_count=result['count'],\n",
    "                                                                                triple_endpoint='tail',\n",
    "                                                                                metric_type='realistic'\n",
    "                                                                               )\n",
    "#results_by_node_degree_dicts_bioblpd"
   ]
  },
  {
   "cell_type": "code",
   "execution_count": 38,
   "id": "b3567e4e",
   "metadata": {},
   "outputs": [],
   "source": [
    "with open(f'metrics/{MODEL_ID}/node-degree-eval-new.json', 'w+') as f:\n",
    "    json.dump(results_by_node_degree_dicts_bioblpd, f)\n"
   ]
  },
  {
   "cell_type": "markdown",
   "id": "906e0006",
   "metadata": {},
   "source": [
    "load from file"
   ]
  },
  {
   "cell_type": "code",
   "execution_count": 33,
   "id": "8d8071fb",
   "metadata": {},
   "outputs": [],
   "source": [
    "MODEL_NAME_SLUG = BIOBLP_D\n",
    "MODEL_ID = MODELS.get(MODEL_NAME_SLUG)  \n",
    "eval_out_dir = Path(f\"./metrics/{MODEL_ID}\")\n",
    "\n",
    "with open(eval_out_dir.joinpath('node-degree-eval-new.json'), 'r') as f:\n",
    "    results_by_node_degree_dicts_bioblpdx = json.load(f)\n"
   ]
  },
  {
   "cell_type": "code",
   "execution_count": 34,
   "id": "f966d6f8",
   "metadata": {},
   "outputs": [
    {
     "data": {
      "image/png": "[encoded data removed]",
      "text/plain": [
       "<Figure size 504x504 with 1 Axes>"
      ]
     },
     "metadata": {
      "needs_background": "light"
     },
     "output_type": "display_data"
    }
   ],
   "source": [
    "plot_metric_vs_degree_scatterplot_single_model(metric_name='hits_at_1', model_id=MODEL_ID,\n",
    "                                    results_by_node_degree_dict=results_by_node_degree_dicts_bioblpdx)"
   ]
  },
  {
   "cell_type": "code",
   "execution_count": 35,
   "id": "4cdcc96e",
   "metadata": {},
   "outputs": [
    {
     "data": {
      "image/png": "[encoded data removed]",
      "text/plain": [
       "<Figure size 432x432 with 1 Axes>"
      ]
     },
     "metadata": {
      "needs_background": "light"
     },
     "output_type": "display_data"
    }
   ],
   "source": [
    "plot_metric_vs_degree_scatterplot_single_model(metric_name='hits_at_10', model_id=MODELS.get(BIOBLP_D),\n",
    "                                    results_by_node_degree_dict=results_by_node_degree_dicts_bioblpdx,\n",
    "                                              figsize=(6,6))"
   ]
  },
  {
   "cell_type": "code",
   "execution_count": 48,
   "id": "3458c8f2",
   "metadata": {},
   "outputs": [
    {
     "data": {
      "text/html": [
       "wandb version 0.13.10 is available!  To upgrade, please run:\n",
       " $ pip install wandb --upgrade"
      ],
      "text/plain": [
       "<IPython.core.display.HTML object>"
      ]
     },
     "metadata": {},
     "output_type": "display_data"
    },
    {
     "data": {
      "text/html": [
       "Tracking run with wandb version 0.12.20"
      ],
      "text/plain": [
       "<IPython.core.display.HTML object>"
      ]
     },
     "metadata": {},
     "output_type": "display_data"
    },
    {
     "data": {
      "text/html": [
       "Run data is saved locally in <code>/home/jovyan/BioBLP/notebooks/wandb/run-20230302_084743-1730mqbr</code>"
      ],
      "text/plain": [
       "<IPython.core.display.HTML object>"
      ]
     },
     "metadata": {},
     "output_type": "display_data"
    },
    {
     "data": {
      "text/html": [
       "Syncing run <strong><a href=\"https://wandb.ai/discoverylab/bioblp-jupyter-trial/runs/1730mqbr\" target=\"_blank\">true-blaze-48</a></strong> to <a href=\"https://wandb.ai/discoverylab/bioblp-jupyter-trial\" target=\"_blank\">Weights & Biases</a> (<a href=\"https://wandb.me/run\" target=\"_blank\">docs</a>)<br/>"
      ],
      "text/plain": [
       "<IPython.core.display.HTML object>"
      ]
     },
     "metadata": {},
     "output_type": "display_data"
    }
   ],
   "source": [
    "tags = {\"model_name\": MODEL_ID_bioblpd,\n",
    "        \"study_name\": 'node_degree_trend',\n",
    "        \"test_set_type\": TEST_RESTRICTED_DIS}\n",
    "run = setup_wandb_result_tracker(**tags, project_name='bioblp-jupyter-trial', wandb_entity='discoverylab')"
   ]
  },
  {
   "cell_type": "code",
   "execution_count": 49,
   "id": "8876621d",
   "metadata": {},
   "outputs": [],
   "source": [
    "degrees, metrics = extract_relevant_metrics('hits_at_1', results_by_node_degree_dicts_bioblpdx)\n",
    "data = [[x, y] for (x, y) in zip(degrees, metrics)]\n",
    "table = wandb.Table(data=data, columns = [\"degrees\", \"metrics\"])\n",
    "wandb.log({\"bioblpd-hits_at_1_node_degree\" : wandb.plot.scatter(table, \"degrees\", \"metrics\")})\n"
   ]
  },
  {
   "cell_type": "code",
   "execution_count": 144,
   "id": "ca78f343",
   "metadata": {},
   "outputs": [],
   "source": [
    "import matplotlib.pyplot as plt\n",
    "def plot_metric_vs_degree_scatterplot_multi_models(metric_name='hits_at_10', results_by_node_degree_dicts_combined=None):\n",
    "    result_dfs = {}\n",
    "    for model_id, result_dict in results_by_node_degree_dicts_combined.items():\n",
    "        degrees, metrics = extract_relevant_metrics(metric_name, result_dict)\n",
    "        result_dfs[model_id] = pd.DataFrame(np.column_stack([degrees, metrics]), columns=['degree', 'metrics'], dtype=float)\n",
    "    model_ids = result_dfs.keys()\n",
    "    print(model_ids)\n",
    "    concatenated = pd.concat([result_dfs[model_id].assign(dataset=f'{model_id}') for model_id in model_ids])\n",
    "    print(concatenated.head())\n",
    "    plot, ax = plt.subplots(figsize=(10,10))\n",
    "    sns.scatterplot(ax=ax, data=concatenated, x='degree', y='metrics', hue='dataset')\n",
    "    plt.xscale('log')\n",
    "    plt.ylabel(metric_name)\n",
    "    plt.title(f'Average {metric_name} predicting disease nodes Vs. disease node degree | Model: {model_id}')\n",
    "    #return degrees, metrics"
   ]
  },
  {
   "cell_type": "markdown",
   "id": "881f1395",
   "metadata": {},
   "source": [
    "#### RotatE"
   ]
  },
  {
   "cell_type": "code",
   "execution_count": null,
   "id": "4bbfb6aa",
   "metadata": {},
   "outputs": [
    {
     "name": "stdout",
     "output_type": "stream",
     "text": [
      "loaded model from /home/jovyan/workbench-shared-folder/bioblp/models/rotate-otxtubeb\n"
     ]
    },
    {
     "name": "stderr",
     "output_type": "stream",
     "text": [
      " 70%|███████   | 212/301 [1:39:12<36:30, 24.62s/it]  "
     ]
    }
   ],
   "source": [
    "MODEL_NAME_SLUG = ROTATE\n",
    "MODEL_ID = MODELS.get(MODEL_NAME_SLUG)  \n",
    "eval_out_dir = Path(f\"./metrics/{MODEL_ID}\")\n",
    "results_by_node_degree_rotate =  compute_metrics_over_triples_with_disease_tails(model_id=MODEL_ID,\n",
    "                                                                                 test_triples_w_node_degree_df=test_triples_dis_df, \n",
    "                                                                                 test_set_slug=TEST_RESTRICTED_DIS)"
   ]
  },
  {
   "cell_type": "code",
   "execution_count": null,
   "id": "66c66697",
   "metadata": {},
   "outputs": [],
   "source": [
    "results_by_node_degree_dicts_rotate = {}\n",
    "for result in results_by_node_degree_rotate:\n",
    "         results_by_node_degree_dicts_rotate[result['dis_degree']] = make_results_dict_all_rel(result['results'],\n",
    "                                                                                relation=result['relation'],\n",
    "                                                                                relation_count=result['count'],\n",
    "                                                                                triple_endpoint='tail',\n",
    "                                                                                metric_type='realistic'\n",
    "                                                                               )\n"
   ]
  },
  {
   "cell_type": "code",
   "execution_count": null,
   "id": "6680d892",
   "metadata": {},
   "outputs": [],
   "source": [
    "with open(f'metrics/{MODEL_ID_rotate}/node-degree-eval-new.json', 'w+') as f:\n",
    "    json.dump(results_by_node_degree_dicts_rotate, f)"
   ]
  },
  {
   "cell_type": "markdown",
   "id": "ec3d2a0c",
   "metadata": {},
   "source": [
    "load from file"
   ]
  },
  {
   "cell_type": "code",
   "execution_count": 47,
   "id": "98454d7e",
   "metadata": {
    "collapsed": true,
    "jupyter": {
     "outputs_hidden": true
    }
   },
   "outputs": [
    {
     "ename": "JSONDecodeError",
     "evalue": "Expecting value: line 1 column 1 (char 0)",
     "output_type": "error",
     "traceback": [
      "\u001b[0;31m---------------------------------------------------------------------------\u001b[0m",
      "\u001b[0;31mJSONDecodeError\u001b[0m                           Traceback (most recent call last)",
      "Input \u001b[0;32mIn [47]\u001b[0m, in \u001b[0;36m<cell line: 5>\u001b[0;34m()\u001b[0m\n\u001b[1;32m      3\u001b[0m eval_out_dir \u001b[38;5;241m=\u001b[39m Path(\u001b[38;5;124mf\u001b[39m\u001b[38;5;124m\"\u001b[39m\u001b[38;5;124m./metrics/\u001b[39m\u001b[38;5;132;01m{\u001b[39;00mMODEL_ID\u001b[38;5;132;01m}\u001b[39;00m\u001b[38;5;124m\"\u001b[39m)\n\u001b[1;32m      5\u001b[0m \u001b[38;5;28;01mwith\u001b[39;00m \u001b[38;5;28mopen\u001b[39m(eval_out_dir\u001b[38;5;241m.\u001b[39mjoinpath(\u001b[38;5;124m'\u001b[39m\u001b[38;5;124mnode-degree-eval.json\u001b[39m\u001b[38;5;124m'\u001b[39m), \u001b[38;5;124m'\u001b[39m\u001b[38;5;124mr\u001b[39m\u001b[38;5;124m'\u001b[39m) \u001b[38;5;28;01mas\u001b[39;00m f:\n\u001b[0;32m----> 6\u001b[0m     results_by_node_degree_dicts_rotate \u001b[38;5;241m=\u001b[39m \u001b[43mjson\u001b[49m\u001b[38;5;241;43m.\u001b[39;49m\u001b[43mload\u001b[49m\u001b[43m(\u001b[49m\u001b[43mf\u001b[49m\u001b[43m)\u001b[49m\n",
      "File \u001b[0;32m~/.conda/envs/bioblp-env/lib/python3.8/json/__init__.py:293\u001b[0m, in \u001b[0;36mload\u001b[0;34m(fp, cls, object_hook, parse_float, parse_int, parse_constant, object_pairs_hook, **kw)\u001b[0m\n\u001b[1;32m    274\u001b[0m \u001b[38;5;28;01mdef\u001b[39;00m \u001b[38;5;21mload\u001b[39m(fp, \u001b[38;5;241m*\u001b[39m, \u001b[38;5;28mcls\u001b[39m\u001b[38;5;241m=\u001b[39m\u001b[38;5;28;01mNone\u001b[39;00m, object_hook\u001b[38;5;241m=\u001b[39m\u001b[38;5;28;01mNone\u001b[39;00m, parse_float\u001b[38;5;241m=\u001b[39m\u001b[38;5;28;01mNone\u001b[39;00m,\n\u001b[1;32m    275\u001b[0m         parse_int\u001b[38;5;241m=\u001b[39m\u001b[38;5;28;01mNone\u001b[39;00m, parse_constant\u001b[38;5;241m=\u001b[39m\u001b[38;5;28;01mNone\u001b[39;00m, object_pairs_hook\u001b[38;5;241m=\u001b[39m\u001b[38;5;28;01mNone\u001b[39;00m, \u001b[38;5;241m*\u001b[39m\u001b[38;5;241m*\u001b[39mkw):\n\u001b[1;32m    276\u001b[0m     \u001b[38;5;124;03m\"\"\"Deserialize ``fp`` (a ``.read()``-supporting file-like object containing\u001b[39;00m\n\u001b[1;32m    277\u001b[0m \u001b[38;5;124;03m    a JSON document) to a Python object.\u001b[39;00m\n\u001b[1;32m    278\u001b[0m \n\u001b[0;32m   (...)\u001b[0m\n\u001b[1;32m    291\u001b[0m \u001b[38;5;124;03m    kwarg; otherwise ``JSONDecoder`` is used.\u001b[39;00m\n\u001b[1;32m    292\u001b[0m \u001b[38;5;124;03m    \"\"\"\u001b[39;00m\n\u001b[0;32m--> 293\u001b[0m     \u001b[38;5;28;01mreturn\u001b[39;00m \u001b[43mloads\u001b[49m\u001b[43m(\u001b[49m\u001b[43mfp\u001b[49m\u001b[38;5;241;43m.\u001b[39;49m\u001b[43mread\u001b[49m\u001b[43m(\u001b[49m\u001b[43m)\u001b[49m\u001b[43m,\u001b[49m\n\u001b[1;32m    294\u001b[0m \u001b[43m        \u001b[49m\u001b[38;5;28;43mcls\u001b[39;49m\u001b[38;5;241;43m=\u001b[39;49m\u001b[38;5;28;43mcls\u001b[39;49m\u001b[43m,\u001b[49m\u001b[43m \u001b[49m\u001b[43mobject_hook\u001b[49m\u001b[38;5;241;43m=\u001b[39;49m\u001b[43mobject_hook\u001b[49m\u001b[43m,\u001b[49m\n\u001b[1;32m    295\u001b[0m \u001b[43m        \u001b[49m\u001b[43mparse_float\u001b[49m\u001b[38;5;241;43m=\u001b[39;49m\u001b[43mparse_float\u001b[49m\u001b[43m,\u001b[49m\u001b[43m \u001b[49m\u001b[43mparse_int\u001b[49m\u001b[38;5;241;43m=\u001b[39;49m\u001b[43mparse_int\u001b[49m\u001b[43m,\u001b[49m\n\u001b[1;32m    296\u001b[0m \u001b[43m        \u001b[49m\u001b[43mparse_constant\u001b[49m\u001b[38;5;241;43m=\u001b[39;49m\u001b[43mparse_constant\u001b[49m\u001b[43m,\u001b[49m\u001b[43m \u001b[49m\u001b[43mobject_pairs_hook\u001b[49m\u001b[38;5;241;43m=\u001b[39;49m\u001b[43mobject_pairs_hook\u001b[49m\u001b[43m,\u001b[49m\u001b[43m \u001b[49m\u001b[38;5;241;43m*\u001b[39;49m\u001b[38;5;241;43m*\u001b[39;49m\u001b[43mkw\u001b[49m\u001b[43m)\u001b[49m\n",
      "File \u001b[0;32m~/.conda/envs/bioblp-env/lib/python3.8/json/__init__.py:357\u001b[0m, in \u001b[0;36mloads\u001b[0;34m(s, cls, object_hook, parse_float, parse_int, parse_constant, object_pairs_hook, **kw)\u001b[0m\n\u001b[1;32m    352\u001b[0m     \u001b[38;5;28;01mdel\u001b[39;00m kw[\u001b[38;5;124m'\u001b[39m\u001b[38;5;124mencoding\u001b[39m\u001b[38;5;124m'\u001b[39m]\n\u001b[1;32m    354\u001b[0m \u001b[38;5;28;01mif\u001b[39;00m (\u001b[38;5;28mcls\u001b[39m \u001b[38;5;129;01mis\u001b[39;00m \u001b[38;5;28;01mNone\u001b[39;00m \u001b[38;5;129;01mand\u001b[39;00m object_hook \u001b[38;5;129;01mis\u001b[39;00m \u001b[38;5;28;01mNone\u001b[39;00m \u001b[38;5;129;01mand\u001b[39;00m\n\u001b[1;32m    355\u001b[0m         parse_int \u001b[38;5;129;01mis\u001b[39;00m \u001b[38;5;28;01mNone\u001b[39;00m \u001b[38;5;129;01mand\u001b[39;00m parse_float \u001b[38;5;129;01mis\u001b[39;00m \u001b[38;5;28;01mNone\u001b[39;00m \u001b[38;5;129;01mand\u001b[39;00m\n\u001b[1;32m    356\u001b[0m         parse_constant \u001b[38;5;129;01mis\u001b[39;00m \u001b[38;5;28;01mNone\u001b[39;00m \u001b[38;5;129;01mand\u001b[39;00m object_pairs_hook \u001b[38;5;129;01mis\u001b[39;00m \u001b[38;5;28;01mNone\u001b[39;00m \u001b[38;5;129;01mand\u001b[39;00m \u001b[38;5;129;01mnot\u001b[39;00m kw):\n\u001b[0;32m--> 357\u001b[0m     \u001b[38;5;28;01mreturn\u001b[39;00m \u001b[43m_default_decoder\u001b[49m\u001b[38;5;241;43m.\u001b[39;49m\u001b[43mdecode\u001b[49m\u001b[43m(\u001b[49m\u001b[43ms\u001b[49m\u001b[43m)\u001b[49m\n\u001b[1;32m    358\u001b[0m \u001b[38;5;28;01mif\u001b[39;00m \u001b[38;5;28mcls\u001b[39m \u001b[38;5;129;01mis\u001b[39;00m \u001b[38;5;28;01mNone\u001b[39;00m:\n\u001b[1;32m    359\u001b[0m     \u001b[38;5;28mcls\u001b[39m \u001b[38;5;241m=\u001b[39m JSONDecoder\n",
      "File \u001b[0;32m~/.conda/envs/bioblp-env/lib/python3.8/json/decoder.py:337\u001b[0m, in \u001b[0;36mJSONDecoder.decode\u001b[0;34m(self, s, _w)\u001b[0m\n\u001b[1;32m    332\u001b[0m \u001b[38;5;28;01mdef\u001b[39;00m \u001b[38;5;21mdecode\u001b[39m(\u001b[38;5;28mself\u001b[39m, s, _w\u001b[38;5;241m=\u001b[39mWHITESPACE\u001b[38;5;241m.\u001b[39mmatch):\n\u001b[1;32m    333\u001b[0m     \u001b[38;5;124;03m\"\"\"Return the Python representation of ``s`` (a ``str`` instance\u001b[39;00m\n\u001b[1;32m    334\u001b[0m \u001b[38;5;124;03m    containing a JSON document).\u001b[39;00m\n\u001b[1;32m    335\u001b[0m \n\u001b[1;32m    336\u001b[0m \u001b[38;5;124;03m    \"\"\"\u001b[39;00m\n\u001b[0;32m--> 337\u001b[0m     obj, end \u001b[38;5;241m=\u001b[39m \u001b[38;5;28;43mself\u001b[39;49m\u001b[38;5;241;43m.\u001b[39;49m\u001b[43mraw_decode\u001b[49m\u001b[43m(\u001b[49m\u001b[43ms\u001b[49m\u001b[43m,\u001b[49m\u001b[43m \u001b[49m\u001b[43midx\u001b[49m\u001b[38;5;241;43m=\u001b[39;49m\u001b[43m_w\u001b[49m\u001b[43m(\u001b[49m\u001b[43ms\u001b[49m\u001b[43m,\u001b[49m\u001b[43m \u001b[49m\u001b[38;5;241;43m0\u001b[39;49m\u001b[43m)\u001b[49m\u001b[38;5;241;43m.\u001b[39;49m\u001b[43mend\u001b[49m\u001b[43m(\u001b[49m\u001b[43m)\u001b[49m\u001b[43m)\u001b[49m\n\u001b[1;32m    338\u001b[0m     end \u001b[38;5;241m=\u001b[39m _w(s, end)\u001b[38;5;241m.\u001b[39mend()\n\u001b[1;32m    339\u001b[0m     \u001b[38;5;28;01mif\u001b[39;00m end \u001b[38;5;241m!=\u001b[39m \u001b[38;5;28mlen\u001b[39m(s):\n",
      "File \u001b[0;32m~/.conda/envs/bioblp-env/lib/python3.8/json/decoder.py:355\u001b[0m, in \u001b[0;36mJSONDecoder.raw_decode\u001b[0;34m(self, s, idx)\u001b[0m\n\u001b[1;32m    353\u001b[0m     obj, end \u001b[38;5;241m=\u001b[39m \u001b[38;5;28mself\u001b[39m\u001b[38;5;241m.\u001b[39mscan_once(s, idx)\n\u001b[1;32m    354\u001b[0m \u001b[38;5;28;01mexcept\u001b[39;00m \u001b[38;5;167;01mStopIteration\u001b[39;00m \u001b[38;5;28;01mas\u001b[39;00m err:\n\u001b[0;32m--> 355\u001b[0m     \u001b[38;5;28;01mraise\u001b[39;00m JSONDecodeError(\u001b[38;5;124m\"\u001b[39m\u001b[38;5;124mExpecting value\u001b[39m\u001b[38;5;124m\"\u001b[39m, s, err\u001b[38;5;241m.\u001b[39mvalue) \u001b[38;5;28;01mfrom\u001b[39;00m \u001b[38;5;28mNone\u001b[39m\n\u001b[1;32m    356\u001b[0m \u001b[38;5;28;01mreturn\u001b[39;00m obj, end\n",
      "\u001b[0;31mJSONDecodeError\u001b[0m: Expecting value: line 1 column 1 (char 0)"
     ]
    }
   ],
   "source": [
    "MODEL_NAME_SLUG = ROTATE\n",
    "MODEL_ID = MODELS.get(MODEL_NAME_SLUG)  \n",
    "eval_out_dir = Path(f\"./metrics/{MODEL_ID}\")\n",
    "\n",
    "with open(eval_out_dir.joinpath('node-degree-eval.json'), 'r') as f:\n",
    "    results_by_node_degree_dicts_rotate = json.load(f)\n"
   ]
  },
  {
   "cell_type": "code",
   "execution_count": 32,
   "id": "11d39bd4",
   "metadata": {},
   "outputs": [
    {
     "ename": "NameError",
     "evalue": "name 'results_by_node_degree_dicts_rotate' is not defined",
     "output_type": "error",
     "traceback": [
      "\u001b[0;31m---------------------------------------------------------------------------\u001b[0m",
      "\u001b[0;31mNameError\u001b[0m                                 Traceback (most recent call last)",
      "Input \u001b[0;32mIn [32]\u001b[0m, in \u001b[0;36m<cell line: 1>\u001b[0;34m()\u001b[0m\n\u001b[1;32m      1\u001b[0m plot_metric_vs_degree_scatterplot_single_model(metric_name\u001b[38;5;241m=\u001b[39m\u001b[38;5;124m'\u001b[39m\u001b[38;5;124mhits_at_1\u001b[39m\u001b[38;5;124m'\u001b[39m, model_id\u001b[38;5;241m=\u001b[39mMODEL_ID,\n\u001b[0;32m----> 2\u001b[0m                                     results_by_node_degree_dict\u001b[38;5;241m=\u001b[39m\u001b[43mresults_by_node_degree_dicts_rotate\u001b[49m)\n",
      "\u001b[0;31mNameError\u001b[0m: name 'results_by_node_degree_dicts_rotate' is not defined"
     ]
    }
   ],
   "source": [
    "plot_metric_vs_degree_scatterplot_single_model(metric_name='hits_at_1', model_id=MODEL_ID,\n",
    "                                    results_by_node_degree_dict=results_by_node_degree_dicts_rotate)"
   ]
  },
  {
   "cell_type": "code",
   "execution_count": 139,
   "id": "a185cbfe",
   "metadata": {},
   "outputs": [
    {
     "name": "stderr",
     "output_type": "stream",
     "text": [
      "/home/jovyan/.conda/envs/bioblp-env/lib/python3.8/site-packages/seaborn/_decorators.py:36: FutureWarning: Pass the following variables as keyword args: x, y. From version 0.12, the only valid positional argument will be `data`, and passing other arguments without an explicit keyword will result in an error or misinterpretation.\n",
      "  warnings.warn(\n"
     ]
    },
    {
     "data": {
      "image/png": "[encoded data removed]",
      "text/plain": [
       "<Figure size 432x288 with 1 Axes>"
      ]
     },
     "metadata": {
      "needs_background": "light"
     },
     "output_type": "display_data"
    }
   ],
   "source": [
    "plot_metric_vs_degree_scatterplot_single_model(metric_name='hits_at_1', model_id=MODEL_ID,\n",
    "                                    results_by_node_degree_dict=results_by_node_degree_dicts_rotate)"
   ]
  },
  {
   "cell_type": "code",
   "execution_count": 112,
   "id": "029f1ee5",
   "metadata": {},
   "outputs": [
    {
     "name": "stderr",
     "output_type": "stream",
     "text": [
      "/home/jovyan/.conda/envs/bioblp-env/lib/python3.8/site-packages/seaborn/_decorators.py:36: FutureWarning: Pass the following variables as keyword args: x, y. From version 0.12, the only valid positional argument will be `data`, and passing other arguments without an explicit keyword will result in an error or misinterpretation.\n",
      "  warnings.warn(\n"
     ]
    },
    {
     "data": {
      "image/png": "[encoded data removed]",
      "text/plain": [
       "<Figure size 432x288 with 1 Axes>"
      ]
     },
     "metadata": {
      "needs_background": "light"
     },
     "output_type": "display_data"
    }
   ],
   "source": [
    "plot_metric_vs_degree_scatterplot_single_model(metric_name='hits_at_10', model_id=MODEL_ID,\n",
    "                                    results_by_node_degree_dict=results_by_node_degree_dicts_rotate)"
   ]
  },
  {
   "cell_type": "markdown",
   "id": "3209a6f6",
   "metadata": {},
   "source": [
    "### combine into one graph"
   ]
  },
  {
   "cell_type": "code",
   "execution_count": 145,
   "id": "214bffd5",
   "metadata": {},
   "outputs": [],
   "source": [
    "import matplotlib.pyplot as plt\n",
    "def plot_metric_vs_degree_scatterplot_multi_models(metric_name='hits_at_10', results_by_node_degree_dicts_combined=None):\n",
    "    result_dfs = {}\n",
    "    for model_id, result_dict in results_by_node_degree_dicts_combined.items():\n",
    "        degrees, metrics = extract_relevant_metrics(metric_name, result_dict)\n",
    "        result_dfs[model_id] = pd.DataFrame(np.column_stack([degrees, metrics]), columns=['degree', 'metrics'], dtype=float)\n",
    "    #model_ids = result_dfs.keys()\n",
    "    concatenated = pd.concat([result_dfs[MODEL_ID_bioblpd].assign(dataset=f'{MODEL_ID_bioblpd}'),\n",
    "                              result_dfs[MODEL_ID_rotate].assign(dataset=f'{MODEL_ID_rotate}')])\n",
    "    plot, ax = plt.subplots(figsize=(10,10))\n",
    "    sns.scatterplot(ax=ax, data=concatenated, x='degree', y='metrics', hue='dataset', style='dataset')\n",
    "    plt.xscale('log')\n",
    "    plt.ylabel(metric_name)\n",
    "    plt.title(f'Average {metric_name} predicting disease nodes Vs. disease node degree | Model: {model_id}')\n",
    "    #return degrees, metrics\n",
    "    return concatenated"
   ]
  },
  {
   "cell_type": "code",
   "execution_count": 146,
   "id": "fc774e1a",
   "metadata": {},
   "outputs": [
    {
     "data": {
      "image/png": "[encoded data removed]",
      "text/plain": [
       "<Figure size 720x720 with 1 Axes>"
      ]
     },
     "metadata": {
      "needs_background": "light"
     },
     "output_type": "display_data"
    }
   ],
   "source": [
    "model_result_dicts = {MODEL_ID_rotate: results_by_node_degree_dicts_rotate,\n",
    "                     MODEL_ID_bioblpd: results_by_node_degree_dicts_bioblpd}#results_by_node_degree_dicts_bioblp}\n",
    "x = plot_metric_vs_degree_scatterplot_multi_models(metric_name='hits_at_1', results_by_node_degree_dicts_combined=model_result_dicts)\n"
   ]
  },
  {
   "cell_type": "code",
   "execution_count": 204,
   "id": "cc5d6141",
   "metadata": {},
   "outputs": [],
   "source": [
    "#wandb.finish()"
   ]
  },
  {
   "cell_type": "code",
   "execution_count": 205,
   "id": "51c96fdc",
   "metadata": {},
   "outputs": [
    {
     "data": {
      "text/html": [
       "Finishing last run (ID:4xqx065i) before initializing another..."
      ],
      "text/plain": [
       "<IPython.core.display.HTML object>"
      ]
     },
     "metadata": {},
     "output_type": "display_data"
    },
    {
     "data": {
      "text/html": [
       "Waiting for W&B process to finish... <strong style=\"color:green\">(success).</strong>"
      ],
      "text/plain": [
       "<IPython.core.display.HTML object>"
      ]
     },
     "metadata": {},
     "output_type": "display_data"
    },
    {
     "data": {
      "text/html": [
       "Synced <strong style=\"color:#cdcd00\">trim-energy-46</strong>: <a href=\"https://wandb.ai/discoverylab/bioblp-jupyter-trial/runs/4xqx065i\" target=\"_blank\">https://wandb.ai/discoverylab/bioblp-jupyter-trial/runs/4xqx065i</a><br/>Synced 5 W&B file(s), 0 media file(s), 0 artifact file(s) and 0 other file(s)"
      ],
      "text/plain": [
       "<IPython.core.display.HTML object>"
      ]
     },
     "metadata": {},
     "output_type": "display_data"
    },
    {
     "data": {
      "text/html": [
       "Find logs at: <code>./wandb/run-20230302_005053-4xqx065i/logs</code>"
      ],
      "text/plain": [
       "<IPython.core.display.HTML object>"
      ]
     },
     "metadata": {},
     "output_type": "display_data"
    },
    {
     "data": {
      "text/html": [
       "Successfully finished last run (ID:4xqx065i). Initializing new run:<br/>"
      ],
      "text/plain": [
       "<IPython.core.display.HTML object>"
      ]
     },
     "metadata": {},
     "output_type": "display_data"
    },
    {
     "data": {
      "text/html": [
       "wandb version 0.13.10 is available!  To upgrade, please run:\n",
       " $ pip install wandb --upgrade"
      ],
      "text/plain": [
       "<IPython.core.display.HTML object>"
      ]
     },
     "metadata": {},
     "output_type": "display_data"
    },
    {
     "data": {
      "text/html": [
       "Tracking run with wandb version 0.12.20"
      ],
      "text/plain": [
       "<IPython.core.display.HTML object>"
      ]
     },
     "metadata": {},
     "output_type": "display_data"
    },
    {
     "data": {
      "text/html": [
       "Run data is saved locally in <code>/home/jovyan/BioBLP/notebooks/wandb/run-20230302_005113-36bsrjzw</code>"
      ],
      "text/plain": [
       "<IPython.core.display.HTML object>"
      ]
     },
     "metadata": {},
     "output_type": "display_data"
    },
    {
     "data": {
      "text/html": [
       "Syncing run <strong><a href=\"https://wandb.ai/discoverylab/bioblp-jupyter-trial/runs/36bsrjzw\" target=\"_blank\">dandy-bee-47</a></strong> to <a href=\"https://wandb.ai/discoverylab/bioblp-jupyter-trial\" target=\"_blank\">Weights & Biases</a> (<a href=\"https://wandb.me/run\" target=\"_blank\">docs</a>)<br/>"
      ],
      "text/plain": [
       "<IPython.core.display.HTML object>"
      ]
     },
     "metadata": {},
     "output_type": "display_data"
    }
   ],
   "source": [
    "tags = {\"model_name\": MODELS.get(ROTATE),\n",
    "        \"study_name\": 'node_degree_trend',\n",
    "        \"test_set_type\": TEST_RESTRICTED_DIS}\n",
    "run = setup_wandb_result_tracker(**tags, project_name='bioblp-jupyter-trial', wandb_entity='discoverylab')"
   ]
  },
  {
   "cell_type": "code",
   "execution_count": 187,
   "id": "ef977a8b",
   "metadata": {},
   "outputs": [],
   "source": [
    "degree_analysis_hits_at_10_bioblpd_path = \"./data/imgs/node_analysis_hits_at_10_bioblpd.png\"\n",
    "degree_analysis_hits_at_1_bioblpd_path = \"./data/imgs/node_analysis_hits_at_1_bioblpd.png\"\n",
    "\n",
    "wandb.log({\"hits@10_bioblpd\": wandb.Image(degree_analysis_hits_at_10_bioblpd_path)})\n",
    "wandb.log({\"hits@1_bioblpd\": wandb.Image(degree_analysis_hits_at_1_bioblpd_path)})"
   ]
  },
  {
   "cell_type": "markdown",
   "id": "1137c17a",
   "metadata": {},
   "source": [
    "## "
   ]
  },
  {
   "cell_type": "code",
   "execution_count": 188,
   "id": "7a44f5d9",
   "metadata": {},
   "outputs": [],
   "source": [
    "test_entity_split_by_disease_descr_path = \"./data/imgs/eval_split_entity_view.png\"\n",
    "test_triples_split_by_disease_descr_path = \"./data/imgs/eval_split_triples_view.png\"\n",
    "wandb.log({\"Split test set entities conditioned on entity having properties with text modality\": wandb.Image(test_entity_split_by_disease_descr_path)})\n",
    "wandb.log({\"Split test set triples conditioned on having node entities with properties of text modality\": wandb.Image(test_triples_split_by_disease_descr_path)})"
   ]
  },
  {
   "cell_type": "code",
   "execution_count": 206,
   "id": "37e7b651",
   "metadata": {},
   "outputs": [],
   "source": [
    "degree_analysis_hits_at_10_rotate_path = \"./data/imgs/node_analysis_hits_at_10_rotate.png\"\n",
    "degree_analysis_hits_at_1_rotate_path = \"./data/imgs/node_analysis_hits_at_1_rotate.png\"\n",
    "\n",
    "wandb.log({\"hits@10_rotate\": wandb.Image(degree_analysis_hits_at_10_rotate_path)})\n",
    "wandb.log({\"hits@1_rotate\": wandb.Image(degree_analysis_hits_at_1_rotate_path)})"
   ]
  },
  {
   "cell_type": "markdown",
   "id": "0a2182d9",
   "metadata": {},
   "source": [
    "## archived"
   ]
  },
  {
   "cell_type": "markdown",
   "id": "fe981ebf",
   "metadata": {},
   "source": [
    "### previous stuff"
   ]
  },
  {
   "cell_type": "markdown",
   "id": "6e5a1f7a",
   "metadata": {},
   "source": [
    "How do MRR, H@k, and AMR correlate?"
   ]
  },
  {
   "cell_type": "code",
   "execution_count": 32,
   "id": "a3ea77f4",
   "metadata": {
    "scrolled": true
   },
   "outputs": [
    {
     "data": {
      "image/png": "[encoded data removed]",
      "text/plain": [
       "<Figure size 640x480 with 1 Axes>"
      ]
     },
     "metadata": {},
     "output_type": "display_data"
    },
    {
     "data": {
      "image/png": "[encoded data removed]",
      "text/plain": [
       "<Figure size 640x480 with 1 Axes>"
      ]
     },
     "metadata": {},
     "output_type": "display_data"
    },
    {
     "data": {
      "image/png": "[encoded data removed]",
      "text/plain": [
       "<Figure size 640x480 with 1 Axes>"
      ]
     },
     "metadata": {},
     "output_type": "display_data"
    }
   ],
   "source": [
    "def plot_metric_pair(results_df, metric_1: str, metric_2: str):\n",
    "    \"\"\"Make a scatter plot with one link prediction metric in each axis.\"\"\"\n",
    "    plt.figure()\n",
    "    plt.scatter(results_df[metric_1], results_df[metric_2])\n",
    "    plt.xlabel(metric_1)\n",
    "    plt.ylabel(metric_2)\n",
    "\n",
    "plot_metric_pair(results_df, 'mean_reciprocal_rank', 'hits_at_10')\n",
    "plot_metric_pair(results_df, 'mean_reciprocal_rank', 'adjusted_mean_rank')\n",
    "plot_metric_pair(results_df, 'mean_reciprocal_rank', 'Count')"
   ]
  },
  {
   "cell_type": "markdown",
   "id": "8c9a70df",
   "metadata": {},
   "source": [
    "What are the relations where the model performs better?"
   ]
  },
  {
   "cell_type": "code",
   "execution_count": 33,
   "id": "8b707dbd",
   "metadata": {},
   "outputs": [],
   "source": [
    "def per_relation_plot(results_df, metric: str):\n",
    "    \"\"\"Make a bar plot of link prediction performance for each relation.\"\"\"\n",
    "    results_df[['Relation', metric]].sort_values(by=metric).plot.barh(x='Relation', figsize=(5, 5), grid=True)"
   ]
  },
  {
   "cell_type": "code",
   "execution_count": 34,
   "id": "a2903f34",
   "metadata": {},
   "outputs": [
    {
     "data": {
      "image/png": "[encoded data removed]",
      "text/plain": [
       "<Figure size 500x500 with 1 Axes>"
      ]
     },
     "metadata": {},
     "output_type": "display_data"
    }
   ],
   "source": [
    "per_relation_plot(results_df, 'hits_at_10')"
   ]
  },
  {
   "cell_type": "markdown",
   "id": "0227b951",
   "metadata": {},
   "source": [
    "### Evaluating over specific entity and relation types\n",
    "The source csv files contain the triples, plus extra information like the types of the entities involved in the triple. We will extract the type information."
   ]
  },
  {
   "cell_type": "markdown",
   "id": "ff724651",
   "metadata": {},
   "source": [
    "We can see that restricting predictions over the correct domain and range of a relation only slightly increases the results."
   ]
  },
  {
   "cell_type": "code",
   "execution_count": null,
   "id": "0077fec4",
   "metadata": {},
   "outputs": [],
   "source": [
    "can you do an. analysis on degree....\n",
    "compare rotate to this"
   ]
  },
  {
   "cell_type": "code",
   "execution_count": null,
   "id": "dcf6db3d",
   "metadata": {},
   "outputs": [],
   "source": []
  }
 ],
 "metadata": {
  "kernelspec": {
   "display_name": ".conda-bioblp-env [Python]",
   "language": "python",
   "name": "conda-env-.conda-bioblp-env-py"
  },
  "language_info": {
   "codemirror_mode": {
    "name": "ipython",
    "version": 3
   },
   "file_extension": ".py",
   "mimetype": "text/x-python",
   "name": "python",
   "nbconvert_exporter": "python",
   "pygments_lexer": "ipython3",
   "version": "3.8.13"
  }
 },
 "nbformat": 4,
 "nbformat_minor": 5
}
