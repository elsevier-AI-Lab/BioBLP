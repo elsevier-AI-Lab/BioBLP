{
 "cells": [
  {
   "cell_type": "code",
   "execution_count": 1,
   "id": "859847dd",
   "metadata": {},
   "outputs": [],
   "source": [
    "import os.path as osp\n",
    "from pathlib import Path\n",
    "import matplotlib.pyplot as plt\n",
    "import pandas as pd\n",
    "from pykeen.evaluation import RankBasedEvaluator\n",
    "from pykeen.triples import TriplesFactory\n",
    "import torch\n",
    "from tqdm import tqdm\n",
    "import json"
   ]
  },
  {
   "cell_type": "markdown",
   "id": "235c0a86",
   "metadata": {},
   "source": [
    "Change this cell to generate a report for other datasets/models:"
   ]
  },
  {
   "cell_type": "code",
   "execution_count": 52,
   "id": "bf6a008e",
   "metadata": {},
   "outputs": [],
   "source": [
    "MODEL_ID_rotate = 'rotate-otxtubeb' \n",
    "MODEL_ID_bioblpd = 'bioblpd-38uz9fjs'"
   ]
  },
  {
   "cell_type": "code",
   "execution_count": 37,
   "id": "f5e7a87b",
   "metadata": {},
   "outputs": [],
   "source": [
    "#SHARED_DATA_DIR = Path(\"/home/jovyan/workbench-shared-folder/bioblp\")\n",
    "PROJ_DATA_DIR = Path(\"../data/\")"
   ]
  },
  {
   "cell_type": "markdown",
   "id": "6115aef5",
   "metadata": {},
   "source": [
    "##  Loading model and data\n",
    "\n",
    "make a keyword based switching statement b/w rotate and bioblp-d"
   ]
  },
  {
   "cell_type": "code",
   "execution_count": 54,
   "id": "55c975bf",
   "metadata": {},
   "outputs": [],
   "source": [
    "TEST = \"test\"\n",
    "VALID = \"valid\"\n",
    "TRAIN = \"train\"\n",
    "ROTATE = \"rotate\"\n",
    "BIOBLP_D = \"bioblp_d\"\n",
    "MODELS = {\n",
    "    ROTATE: MODEL_ID_rotate,\n",
    "    BIOBLP_D: MODEL_ID_bioblpd\n",
    "}"
   ]
  },
  {
   "cell_type": "code",
   "execution_count": 5,
   "id": "3f1f6f81",
   "metadata": {},
   "outputs": [],
   "source": [
    "base_path = PROJ_DATA_DIR.joinpath(f\"biokgb/models/{MODEL_ID}\")\n",
    "model_path = base_path.joinpath(\"trained_model.pkl\")\n",
    "device = torch.device('cuda' if torch.cuda.is_available() else 'cpu')\n",
    "\n",
    "model = torch.load(model_path, map_location=torch.device(device))\n",
    "train = TriplesFactory.from_path_binary(base_path.joinpath(\"training_triples\"))"
   ]
  },
  {
   "cell_type": "code",
   "execution_count": 11,
   "id": "84b27767",
   "metadata": {},
   "outputs": [],
   "source": [
    "dummy_triples = 'biokg.links-dummy.csv'\n",
    "\n",
    "df = pd.read_csv(graph_path.joinpath(test_triples), sep=\"\\t\", header=None)\n",
    "df[:50].to_csv(graph_path.joinpath(dummy_triples), sep=\"\\t\", index=None, header=None)"
   ]
  },
  {
   "cell_type": "code",
   "execution_count": 8,
   "id": "2ad63640",
   "metadata": {},
   "outputs": [],
   "source": [
    "graph_path = PROJ_DATA_DIR.joinpath('biokgb/graph')\n",
    "valid_triples = 'biokg.links-valid.csv'\n",
    "test_triples = 'biokg.links-test.csv'\n",
    "#dummy_triples = 'biokg.links-dummy.csv'\n",
    "\n",
    "valid, test, dummy = [TriplesFactory.from_path(graph_path.joinpath(f),\n",
    "                                        entity_to_id=train.entity_to_id,\n",
    "                                        relation_to_id=train.relation_to_id)\n",
    "               for f in (valid_triples, test_triples, dummy_triples)]"
   ]
  },
  {
   "cell_type": "markdown",
   "id": "6ddc73fc",
   "metadata": {},
   "source": [
    "#### utils"
   ]
  },
  {
   "cell_type": "code",
   "execution_count": 186,
   "id": "05bd1d54",
   "metadata": {},
   "outputs": [],
   "source": [
    "def obtain_filtered_triples(test_type, train_triples, valid_triples):\n",
    "    if test_type == VALID:\n",
    "        filtered_triples = [train_triples.mapped_triples]\n",
    "    elif test_type == TEST:\n",
    "        filtered_triples = [train_triples.mapped_triples, valid_triples.mapped_triples]\n",
    "    return filtered_triples\n",
    "    "
   ]
  },
  {
   "cell_type": "markdown",
   "id": "d3c1cd5a",
   "metadata": {},
   "source": [
    "Create test sets: \n",
    "D; D_b, D_r; \n",
    "\n",
    "All biokgb entities surprisingly have a relation - > D_r is an empty set"
   ]
  },
  {
   "cell_type": "code",
   "execution_count": 81,
   "id": "ad96c9a1",
   "metadata": {},
   "outputs": [
    {
     "name": "stdout",
     "output_type": "stream",
     "text": [
      "# Disease entities in larger biokg (pre-benchmark removal): 11347\n",
      "# Disease entities in larger biokg (pre-benchmark removal) for which we have textual descriptions: 11347\n"
     ]
    }
   ],
   "source": [
    "disease_descr_path = PROJ_DATA_DIR.joinpath(\"biokgb/properties/biokg_meshid_to_descr_name.tsv\")\n",
    "disease_metadata_path = PROJ_DATA_DIR.joinpath(\"biokgb/properties/biokg.metadata.disease.tsv\")\n",
    "\n",
    "# create a subset of biokg entities of type Disease \n",
    "diseases = pd.read_csv(disease_metadata_path, sep=\"\\t\", names=[\"disease\", \"rel\", \"node_type\"])\n",
    "disease_set = set(diseases.disease.values)\n",
    "print(f\"# Disease entities in larger biokg (pre-benchmark removal): {len(disease_set)}\")\n",
    "\n",
    "# create a set of disease entities for which we have text descriptions\n",
    "disease_w_desc_df = pd.read_csv(disease_descr_path, sep=\"\\t\", names=[\"disease\", \"desc\"])\n",
    "disease_desc_set = set(disease_w_desc_df.disease.values)\n",
    "print(f\"# Disease entities in larger biokg (pre-benchmark removal) for which we have textual descriptions: {len(disease_desc_set)}\")\n"
   ]
  },
  {
   "cell_type": "code",
   "execution_count": 73,
   "id": "751ce918",
   "metadata": {},
   "outputs": [
    {
     "data": {
      "text/plain": [
       "count    11347.000000\n",
       "mean       149.042743\n",
       "std        156.370558\n",
       "min          5.000000\n",
       "25%         37.000000\n",
       "50%         70.000000\n",
       "75%        231.000000\n",
       "max       1076.000000\n",
       "Name: len, dtype: float64"
      ]
     },
     "execution_count": 73,
     "metadata": {},
     "output_type": "execute_result"
    }
   ],
   "source": [
    "# Side note: all disease entities in Biokgb have decscriptions; because missing values were plugged with disease names\n",
    "disease_w_desc_df[\"len\"] = disease_w_desc_df[\"desc\"].str.len()\n",
    "disease_w_desc_df.len.describe()"
   ]
  },
  {
   "cell_type": "code",
   "execution_count": 82,
   "id": "997e5655",
   "metadata": {},
   "outputs": [
    {
     "name": "stdout",
     "output_type": "stream",
     "text": [
      "[('C000600608', 1702), ('C000657245', 1703)]\n",
      "5814 5814 0\n"
     ]
    }
   ],
   "source": [
    "biokgb_disease_ents = {k:v for k, v in train.entity_to_id.items() if k in disease_set}\n",
    "print(list(biokgb_disease_ents.items())[:2])\n",
    "biokgb_disease_ent_set = set(biokgb_disease_ents.keys())\n",
    "biokgb_disease_ents_b = biokgb_disease_ent_set.intersection(disease_desc_set)\n",
    "biokgb_disease_ents_r = biokgb_disease_ent_set.difference(biokgb_disease_ents_b)\n",
    "print(len(biokgb_disease_ents), len(biokgb_disease_ents_b), len(biokgb_disease_ents_r))\n"
   ]
  },
  {
   "cell_type": "code",
   "execution_count": 86,
   "id": "3d5a1310",
   "metadata": {},
   "outputs": [
    {
     "data": {
      "text/plain": [
       "{'COMPLEX_IN_PATHWAY': 0,\n",
       " 'COMPLEX_TOP_LEVEL_PATHWAY': 1,\n",
       " 'DDI': 2,\n",
       " 'DISEASE_GENETIC_DISORDER': 3,\n",
       " 'DISEASE_PATHWAY_ASSOCIATION': 4,\n",
       " 'DPI': 5,\n",
       " 'DRUG_CARRIER': 6,\n",
       " 'DRUG_DISEASE_ASSOCIATION': 7,\n",
       " 'DRUG_ENZYME': 8,\n",
       " 'DRUG_PATHWAY_ASSOCIATION': 9,\n",
       " 'DRUG_TARGET': 10,\n",
       " 'DRUG_TRANSPORTER': 11,\n",
       " 'MEMBER_OF_COMPLEX': 12,\n",
       " 'PPI': 13,\n",
       " 'PROTEIN_DISEASE_ASSOCIATION': 14,\n",
       " 'PROTEIN_PATHWAY_ASSOCIATION': 15,\n",
       " 'RELATED_GENETIC_DISORDER': 16}"
      ]
     },
     "execution_count": 86,
     "metadata": {},
     "output_type": "execute_result"
    }
   ],
   "source": [
    "train.relation_to_id"
   ]
  },
  {
   "cell_type": "code",
   "execution_count": 85,
   "id": "035a420c",
   "metadata": {},
   "outputs": [
    {
     "data": {
      "text/plain": [
       "{'DISEASE_GENETIC_DISORDER': 3,\n",
       " 'DISEASE_PATHWAY_ASSOCIATION': 4,\n",
       " 'DRUG_DISEASE_ASSOCIATION': 7,\n",
       " 'PROTEIN_DISEASE_ASSOCIATION': 14}"
      ]
     },
     "execution_count": 85,
     "metadata": {},
     "output_type": "execute_result"
    }
   ],
   "source": [
    "# relations containing diseases include -> \n",
    "dis_assoc_rels = {rel:rel_id for rel, rel_id in train.relation_to_id.items() if 'DISEASE' in rel}\n",
    "dis_assoc_rels"
   ]
  },
  {
   "cell_type": "code",
   "execution_count": 175,
   "id": "872270d9",
   "metadata": {},
   "outputs": [
    {
     "name": "stdout",
     "output_type": "stream",
     "text": [
      "# triples originally in test: 185227, valid: 185226\n",
      "# test triples with disease nodes: 17063\n",
      "# valid triples with disease nodes: 17274\n",
      "# test triples without disease nodes: 168164\n"
     ]
    },
    {
     "data": {
      "text/plain": [
       "0"
      ]
     },
     "execution_count": 175,
     "metadata": {},
     "output_type": "execute_result"
    }
   ],
   "source": [
    "# create set of triples\n",
    "print(f\"# triples originally in test: {test.num_triples}, valid: {valid.num_triples}\")\n",
    "test_triples_disease = test.new_with_restriction(relations=list(dis_assoc_rels.values()))\n",
    "valid_triples_disease = valid.new_with_restriction(relations=list(dis_assoc_rels.values()))\n",
    "print(f\"# test triples with disease nodes: {test_triples_disease.num_triples}\")\n",
    "print(f\"# valid triples with disease nodes: {valid_triples_disease.num_triples}\")\n",
    "\n",
    "# if reqd to partition triples conditional on entity nodes' availability of properties - use `invert_entity_selection` to excluse certain entities\n",
    "test_triples_nondis = test.new_with_restriction(entities=biokgb_disease_ent_set, invert_entity_selection=True)\n",
    "print(f\"# test triples without disease nodes: {test_triples_nondis.num_triples}\")\n",
    "test.num_triples-(test_triples_nondis.num_triples+test_triples_disease.num_triples)"
   ]
  },
  {
   "cell_type": "code",
   "execution_count": 166,
   "id": "78c42d89",
   "metadata": {},
   "outputs": [],
   "source": [
    "# redundant sanity check to ensure rels in the filtered test_triples_disease pertain to disease ent type\n",
    "x = valid_triples_disease.mapped_triples\n",
    "y = x.view([-1, 3, 1])\n",
    "ids = torch.ones(x.shape[0]).long()\n"
   ]
  },
  {
   "cell_type": "code",
   "execution_count": 183,
   "id": "b65e7abd",
   "metadata": {},
   "outputs": [
    {
     "data": {
      "text/plain": [
       "(array([ 3,  4,  7, 14]), array([ 282,  308, 6834, 9850]))"
      ]
     },
     "execution_count": 183,
     "metadata": {},
     "output_type": "execute_result"
    }
   ],
   "source": [
    "rels = np.array(y.gather(1, ids.view(-1, 1, 1)).squeeze())\n",
    "np.unique(rels, return_counts=True)"
   ]
  },
  {
   "cell_type": "code",
   "execution_count": 182,
   "id": "a5676a9d",
   "metadata": {},
   "outputs": [
    {
     "data": {
      "text/plain": [
       "{'DISEASE_GENETIC_DISORDER': 3,\n",
       " 'DISEASE_PATHWAY_ASSOCIATION': 4,\n",
       " 'DRUG_DISEASE_ASSOCIATION': 7,\n",
       " 'PROTEIN_DISEASE_ASSOCIATION': 14}"
      ]
     },
     "execution_count": 182,
     "metadata": {},
     "output_type": "execute_result"
    }
   ],
   "source": [
    "dis_assoc_rels\n"
   ]
  },
  {
   "cell_type": "code",
   "execution_count": 179,
   "id": "6a5046cb",
   "metadata": {
    "scrolled": true
   },
   "outputs": [
    {
     "data": {
      "text/plain": [
       "(array([ 282.,    0.,  308.,    0.,    0.,    0.,    0.,    0.,    0.,\n",
       "           0., 6834.,    0.,    0.,    0.,    0.,    0.,    0.,    0.,\n",
       "           0.,    0.,    0.,    0.,    0.,    0.,    0.,    0.,    0.,\n",
       "           0.,    0., 9850.]),\n",
       " array([ 3.        ,  3.36666667,  3.73333333,  4.1       ,  4.46666667,\n",
       "         4.83333333,  5.2       ,  5.56666667,  5.93333333,  6.3       ,\n",
       "         6.66666667,  7.03333333,  7.4       ,  7.76666667,  8.13333333,\n",
       "         8.5       ,  8.86666667,  9.23333333,  9.6       ,  9.96666667,\n",
       "        10.33333333, 10.7       , 11.06666667, 11.43333333, 11.8       ,\n",
       "        12.16666667, 12.53333333, 12.9       , 13.26666667, 13.63333333,\n",
       "        14.        ]),\n",
       " <BarContainer object of 30 artists>)"
      ]
     },
     "execution_count": 179,
     "metadata": {},
     "output_type": "execute_result"
    },
    {
     "data": {
      "image/png": "[encoded data removed]",
      "text/plain": [
       "<Figure size 640x480 with 1 Axes>"
      ]
     },
     "metadata": {},
     "output_type": "display_data"
    }
   ],
   "source": [
    "plt.hist(rels, bins = 30)"
   ]
  },
  {
   "cell_type": "markdown",
   "id": "c1742ef7",
   "metadata": {},
   "source": [
    "## Evaluation"
   ]
  },
  {
   "cell_type": "code",
   "execution_count": 12,
   "id": "9195dbb3",
   "metadata": {},
   "outputs": [],
   "source": [
    "device = torch.device('cuda' if torch.cuda.is_available() else 'cpu')\n",
    "evaluator = RankBasedEvaluator(filtered=True)"
   ]
  },
  {
   "cell_type": "code",
   "execution_count": 17,
   "id": "f5c1b928",
   "metadata": {},
   "outputs": [
    {
     "data": {
      "application/vnd.jupyter.widget-view+json": {
       "model_id": "b2621c4784b7440d9a3952e755536590",
       "version_major": 2,
       "version_minor": 0
      },
      "text/plain": [
       "Evaluating on cpu:   0%|          | 0.00/100 [00:00<?, ?triple/s]"
      ]
     },
     "metadata": {},
     "output_type": "display_data"
    }
   ],
   "source": [
    "TEST_TRIPLES = dummy #test\n",
    "results = evaluator.evaluate(model, TEST_TRIPLES.mapped_triples,\n",
    "                             additional_filter_triples=[train.mapped_triples,\n",
    "                                                        valid.mapped_triples])"
   ]
  },
  {
   "cell_type": "code",
   "execution_count": 14,
   "id": "7a90e10e",
   "metadata": {},
   "outputs": [
    {
     "data": {
      "text/plain": [
       "0.045"
      ]
     },
     "execution_count": 14,
     "metadata": {},
     "output_type": "execute_result"
    }
   ],
   "source": [
    "results.get_metric('both.realistic.hits_at_1')"
   ]
  },
  {
   "cell_type": "markdown",
   "id": "2c8722f4",
   "metadata": {},
   "source": [
    "wandb logging"
   ]
  },
  {
   "cell_type": "code",
   "execution_count": 15,
   "id": "22f52bf4",
   "metadata": {},
   "outputs": [
    {
     "name": "stderr",
     "output_type": "stream",
     "text": [
      "\u001b[34m\u001b[1mwandb\u001b[0m: Logging into wandb.ai. (Learn how to deploy a W&B server locally: https://wandb.me/wandb-server)\n",
      "\u001b[34m\u001b[1mwandb\u001b[0m: You can find your API key in your browser here: https://wandb.ai/authorize\n",
      "\u001b[34m\u001b[1mwandb\u001b[0m: Paste an API key from your profile and hit enter, or press ctrl+c to quit:"
     ]
    },
    {
     "name": "stdout",
     "output_type": "stream",
     "text": [
      " ········\n"
     ]
    },
    {
     "name": "stderr",
     "output_type": "stream",
     "text": [
      "\u001b[34m\u001b[1mwandb\u001b[0m: Appending key for api.wandb.ai to your netrc file: /Users/mitrap/.netrc\n",
      "\u001b[34m\u001b[1mwandb\u001b[0m: Network error (SSLError), entering retry loop.\n",
      "\u001b[34m\u001b[1mwandb\u001b[0m: W&B API key is configured. Use \u001b[1m`wandb login --relogin`\u001b[0m to force relogin\n"
     ]
    },
    {
     "data": {
      "application/vnd.jupyter.widget-view+json": {
       "model_id": "1b4b193157bd4a20b2e41716728e9b6d",
       "version_major": 2,
       "version_minor": 0
      },
      "text/plain": [
       "VBox(children=(Label(value='Waiting for wandb.init()...\\r'), FloatProgress(value=0.016718563266666563, max=1.0…"
      ]
     },
     "metadata": {},
     "output_type": "display_data"
    },
    {
     "name": "stderr",
     "output_type": "stream",
     "text": [
      "wandb: Network error (SSLError), entering retry loop.\n"
     ]
    },
    {
     "data": {
      "text/html": [
       "Tracking run with wandb version 0.13.10"
      ],
      "text/plain": [
       "<IPython.core.display.HTML object>"
      ]
     },
     "metadata": {},
     "output_type": "display_data"
    },
    {
     "data": {
      "text/html": [
       "Run data is saved locally in <code>/Users/mitrap/PycharmProjects/BioBLP/notebooks/wandb/run-20230219_000210-krglxnqz</code>"
      ],
      "text/plain": [
       "<IPython.core.display.HTML object>"
      ]
     },
     "metadata": {},
     "output_type": "display_data"
    },
    {
     "data": {
      "text/html": [
       "Syncing run <strong><a href='https://wandb.ai/discoverylab/bioblp-jupyter-trial/runs/krglxnqz' target=\"_blank\">rosy-eon-3</a></strong> to <a href='https://wandb.ai/discoverylab/bioblp-jupyter-trial' target=\"_blank\">Weights & Biases</a> (<a href='https://wandb.me/run' target=\"_blank\">docs</a>)<br/>"
      ],
      "text/plain": [
       "<IPython.core.display.HTML object>"
      ]
     },
     "metadata": {},
     "output_type": "display_data"
    },
    {
     "data": {
      "text/html": [
       " View project at <a href='https://wandb.ai/discoverylab/bioblp-jupyter-trial' target=\"_blank\">https://wandb.ai/discoverylab/bioblp-jupyter-trial</a>"
      ],
      "text/plain": [
       "<IPython.core.display.HTML object>"
      ]
     },
     "metadata": {},
     "output_type": "display_data"
    },
    {
     "data": {
      "text/html": [
       " View run at <a href='https://wandb.ai/discoverylab/bioblp-jupyter-trial/runs/krglxnqz' target=\"_blank\">https://wandb.ai/discoverylab/bioblp-jupyter-trial/runs/krglxnqz</a>"
      ],
      "text/plain": [
       "<IPython.core.display.HTML object>"
      ]
     },
     "metadata": {},
     "output_type": "display_data"
    },
    {
     "name": "stderr",
     "output_type": "stream",
     "text": [
      "\u001b[34m\u001b[1mwandb\u001b[0m: Network error resolved after 0:00:35.760049, resuming normal operation.\n"
     ]
    }
   ],
   "source": [
    "import wandb\n",
    "wandb.login()\n",
    "run = wandb.init(project=\"bioblp-jupyter-trial\",\n",
    "                 config={\"entity\": \"discoverylab\"})"
   ]
  },
  {
   "cell_type": "code",
   "execution_count": null,
   "id": "1ecfecfb",
   "metadata": {},
   "outputs": [],
   "source": [
    "#train, valid, test = load_triples_factories(DATA_PATH, DATASET)\n",
    "log_wandb = False\n",
    "#evaluator_kwargs={'batch_size': args.eval_batch_size},\n",
    "result_tracker='wandb',\n",
    "result_tracker_kwargs={\n",
    "  'entity': 'discoverylab',\n",
    "  'project': 'bioblp-eval',\n",
    "  'tags': [model_name, study_name]\n",
    "  'notes': args.notes,\n",
    "  #'config': cli_args_dict,\n",
    "  'offline': not args.log_wandb\n",
    "}\n",
    "\n",
    "wandb_kwargs = {\"project\": \"bioblp-eval\",\n",
    "                \"entity\": \"discoverylab\",\n",
    "                \"tags\": [study_name, study_prefix, name]}\n",
    "\n",
    "#%%wandb\n",
    "#wandb.log(valid_results_dict)"
   ]
  },
  {
   "cell_type": "markdown",
   "id": "21c15947",
   "metadata": {},
   "source": [
    "### Test on Valid dataset"
   ]
  },
  {
   "cell_type": "markdown",
   "id": "6e9f2bbe",
   "metadata": {},
   "source": [
    "create a function that evaluates and prints out scores for test, valid, valid_dis_restructed and test_dis_restricted triples\n",
    "\n",
    "it should take a dictionary {test_set_name: test_set_triples}"
   ]
  },
  {
   "cell_type": "code",
   "execution_count": 193,
   "id": "b3ec7cf7",
   "metadata": {},
   "outputs": [
    {
     "name": "stdout",
     "output_type": "stream",
     "text": [
      "Evaluating on test set: DUMMY\n"
     ]
    },
    {
     "data": {
      "application/vnd.jupyter.widget-view+json": {
       "model_id": "43aefd05a6d44f2c8be8de15d3a14bb5",
       "version_major": 2,
       "version_minor": 0
      },
      "text/plain": [
       "Evaluating on cpu:   0%|          | 0.00/100 [00:00<?, ?triple/s]"
      ]
     },
     "metadata": {},
     "output_type": "display_data"
    }
   ],
   "source": [
    "triples_dict = {\n",
    "    TEST: test,\n",
    "    VALID: valid,\n",
    "    TRAIN: train,\n",
    "    'TEST_RESTRICTED_DIS': test_triples_disease,\n",
    "    'TEST_EXCLUDING_DIS': test_triples_nondis,\n",
    "    'VALID_RESTRICTED_DIS': valid_triples_disease,\n",
    "    'DUMMY': dummy, \n",
    "}\n",
    "\n",
    "def evaluate_lp_on_single_test_set(model, test_set_slug, all_rels=True, split_by_rels=False):\n",
    "    if VALID in test_set_slug:\n",
    "        test_type = VALID\n",
    "    else:\n",
    "        test_type = TEST\n",
    "\n",
    "        evaluator = RankBasedEvaluator()   \n",
    "    # should we filtering more triples in the disease restricted test sets?\n",
    "    filtered_triples = obtain_filtered_triples(test_type=test_type, \n",
    "                                               train_triples=triples_dict[TRAIN],\n",
    "                                               valid_triples=triples_dict[VALID]\n",
    "                                              )\n",
    "    results_all_rels = evaluator.evaluate(model, triples_dict[test_set_slug].mapped_triples,\n",
    "                                     additional_filter_triples = filtered_triples)\n",
    "    \n",
    "    # if split_by_rels: add logic\n",
    "    \n",
    "    return results_all_rels\n",
    "\n",
    "\n",
    "from typing import List\n",
    "def evaluate_lp_on_multiple_test_sets(model, test_sets: List, all_rels = True, split_by_rels=False):\n",
    "    results_all_rels = {} # for all rels, need to separately handle rel-wise eval\n",
    "    for test_set in test_sets:\n",
    "        print(f\"Evaluating on test set: {test_set}\")\n",
    "        results_all_rels.update({test_set:  evaluate_lp_on_single_test_set(model=model, test_set_slug=test_set,\n",
    "                                      all_rels=all_rels, split_by_rels=split_by_rels)})\n",
    "    # consider if you wish to transform the dict to a more usable form here itself\n",
    "    return results_all_rels\n",
    "\n",
    "results_dict_all = evaluate_lp_on_multiple_test_sets(model, ['DUMMY'])\n",
    "        \n",
    "        "
   ]
  },
  {
   "cell_type": "code",
   "execution_count": 210,
   "id": "f6e0c232",
   "metadata": {},
   "outputs": [
    {
     "data": {
      "text/plain": [
       "{'DUMMY': <pykeen.evaluation.rank_based_evaluator.RankBasedMetricResults at 0x7fa8288d75b0>}"
      ]
     },
     "execution_count": 210,
     "metadata": {},
     "output_type": "execute_result"
    }
   ],
   "source": [
    "results_dict_all"
   ]
  },
  {
   "cell_type": "code",
   "execution_count": null,
   "id": "17290434",
   "metadata": {},
   "outputs": [],
   "source": [
    "## also perform the above with rotate to compare"
   ]
  },
  {
   "cell_type": "code",
   "execution_count": null,
   "id": "ea2fd2a4",
   "metadata": {},
   "outputs": [],
   "source": [
    "# how to divide by degree?\n",
    "# 1. compute a degree table for entities in train"
   ]
  },
  {
   "cell_type": "code",
   "execution_count": 200,
   "id": "b93406cf",
   "metadata": {},
   "outputs": [
    {
     "name": "stderr",
     "output_type": "stream",
     "text": [
      "Reconstructing all label-based triples. This is expensive and rarely needed.\n"
     ]
    },
    {
     "data": {
      "text/html": [
       "<div>\n",
       "<style scoped>\n",
       "    .dataframe tbody tr th:only-of-type {\n",
       "        vertical-align: middle;\n",
       "    }\n",
       "\n",
       "    .dataframe tbody tr th {\n",
       "        vertical-align: top;\n",
       "    }\n",
       "\n",
       "    .dataframe thead th {\n",
       "        text-align: right;\n",
       "    }\n",
       "</style>\n",
       "<table border=\"1\" class=\"dataframe\">\n",
       "  <thead>\n",
       "    <tr style=\"text-align: right;\">\n",
       "      <th></th>\n",
       "      <th>src</th>\n",
       "      <th>rel</th>\n",
       "      <th>tgt</th>\n",
       "    </tr>\n",
       "  </thead>\n",
       "  <tbody>\n",
       "    <tr>\n",
       "      <th>0</th>\n",
       "      <td>A0A075B6P5</td>\n",
       "      <td>MEMBER_OF_COMPLEX</td>\n",
       "      <td>R-HSA-1479277</td>\n",
       "    </tr>\n",
       "    <tr>\n",
       "      <th>1</th>\n",
       "      <td>A0A075B6P5</td>\n",
       "      <td>MEMBER_OF_COMPLEX</td>\n",
       "      <td>R-HSA-1591211</td>\n",
       "    </tr>\n",
       "  </tbody>\n",
       "</table>\n",
       "</div>"
      ],
      "text/plain": [
       "          src                rel            tgt\n",
       "0  A0A075B6P5  MEMBER_OF_COMPLEX  R-HSA-1479277\n",
       "1  A0A075B6P5  MEMBER_OF_COMPLEX  R-HSA-1591211"
      ]
     },
     "execution_count": 200,
     "metadata": {},
     "output_type": "execute_result"
    }
   ],
   "source": [
    "training_df = pd.DataFrame(train.triples, columns=[\"src\", \"rel\", \"tgt\"])\n",
    "training_df[:2]"
   ]
  },
  {
   "cell_type": "code",
   "execution_count": 205,
   "id": "157006d1",
   "metadata": {
    "scrolled": true
   },
   "outputs": [
    {
     "data": {
      "text/plain": [
       "PROTEIN_DISEASE_ASSOCIATION    89804\n",
       "DRUG_DISEASE_ASSOCIATION       53426\n",
       "DISEASE_GENETIC_DISORDER        4339\n",
       "DISEASE_PATHWAY_ASSOCIATION     2945\n",
       "Name: rel, dtype: int64"
      ]
     },
     "execution_count": 205,
     "metadata": {},
     "output_type": "execute_result"
    }
   ],
   "source": [
    "# not a nec step, but to ease computation, let's restrict the triples to disease node containg triples\n",
    "training_df = training_df[training_df[\"rel\"].isin(list(dis_assoc_rels.keys()))]\n",
    "training_df.rel.value_counts()"
   ]
  },
  {
   "cell_type": "code",
   "execution_count": 215,
   "id": "cb5ea32c",
   "metadata": {},
   "outputs": [],
   "source": [
    "out_degree_df = training_df.groupby(\"src\")[\"rel\"].agg(\"count\").reset_index()\n",
    "out_degree_df.rename(columns={\"src\": \"ent\", \"rel\": \"out_degree\"}, inplace=True)\n",
    "in_degree_df = training_df.groupby(\"tgt\")[\"rel\"].agg(\"count\").reset_index()\n",
    "in_degree_df.rename(columns={\"tgt\": \"ent\", \"rel\": \"in_degree\"}, inplace=True)\n"
   ]
  },
  {
   "cell_type": "code",
   "execution_count": 223,
   "id": "49785d1f",
   "metadata": {},
   "outputs": [],
   "source": [
    "node_degree_df = out_degree_df.merge(in_degree_df, on=\"ent\", how=\"outer\")\n",
    "node_degree_df = node_degree_df.fillna(0)"
   ]
  },
  {
   "cell_type": "code",
   "execution_count": 229,
   "id": "cc3a1131",
   "metadata": {},
   "outputs": [],
   "source": [
    "node_degree_df[\"degree\"] = node_degree_df.in_degree+node_degree_df.out_degree\n"
   ]
  },
  {
   "cell_type": "code",
   "execution_count": 230,
   "id": "fc07a85b",
   "metadata": {},
   "outputs": [
    {
     "data": {
      "text/html": [
       "<div>\n",
       "<style scoped>\n",
       "    .dataframe tbody tr th:only-of-type {\n",
       "        vertical-align: middle;\n",
       "    }\n",
       "\n",
       "    .dataframe tbody tr th {\n",
       "        vertical-align: top;\n",
       "    }\n",
       "\n",
       "    .dataframe thead th {\n",
       "        text-align: right;\n",
       "    }\n",
       "</style>\n",
       "<table border=\"1\" class=\"dataframe\">\n",
       "  <thead>\n",
       "    <tr style=\"text-align: right;\">\n",
       "      <th></th>\n",
       "      <th>ent</th>\n",
       "      <th>out_degree</th>\n",
       "      <th>in_degree</th>\n",
       "      <th>degree</th>\n",
       "      <th>is_disease</th>\n",
       "    </tr>\n",
       "  </thead>\n",
       "  <tbody>\n",
       "    <tr>\n",
       "      <th>0</th>\n",
       "      <td>A0A096MJY4</td>\n",
       "      <td>1.0</td>\n",
       "      <td>0.0</td>\n",
       "      <td>1.0</td>\n",
       "      <td>False</td>\n",
       "    </tr>\n",
       "    <tr>\n",
       "      <th>1</th>\n",
       "      <td>A0A0G2JTR4</td>\n",
       "      <td>1.0</td>\n",
       "      <td>0.0</td>\n",
       "      <td>1.0</td>\n",
       "      <td>False</td>\n",
       "    </tr>\n",
       "  </tbody>\n",
       "</table>\n",
       "</div>"
      ],
      "text/plain": [
       "          ent  out_degree  in_degree  degree  is_disease\n",
       "0  A0A096MJY4         1.0        0.0     1.0       False\n",
       "1  A0A0G2JTR4         1.0        0.0     1.0       False"
      ]
     },
     "execution_count": 230,
     "metadata": {},
     "output_type": "execute_result"
    }
   ],
   "source": [
    "node_degree_df[\"is_disease\"] = node_degree_df[\"ent\"].apply(lambda x: x in biokgb_disease_ents)\n",
    "node_degree_df[:2]"
   ]
  },
  {
   "cell_type": "code",
   "execution_count": 233,
   "id": "f4752b29",
   "metadata": {},
   "outputs": [
    {
     "data": {
      "text/html": [
       "<div>\n",
       "<style scoped>\n",
       "    .dataframe tbody tr th:only-of-type {\n",
       "        vertical-align: middle;\n",
       "    }\n",
       "\n",
       "    .dataframe tbody tr th {\n",
       "        vertical-align: top;\n",
       "    }\n",
       "\n",
       "    .dataframe thead th {\n",
       "        text-align: right;\n",
       "    }\n",
       "</style>\n",
       "<table border=\"1\" class=\"dataframe\">\n",
       "  <thead>\n",
       "    <tr style=\"text-align: right;\">\n",
       "      <th></th>\n",
       "      <th>ent</th>\n",
       "      <th>out_degree</th>\n",
       "      <th>in_degree</th>\n",
       "      <th>degree</th>\n",
       "      <th>is_disease</th>\n",
       "    </tr>\n",
       "  </thead>\n",
       "  <tbody>\n",
       "    <tr>\n",
       "      <th>666</th>\n",
       "      <td>C000600608</td>\n",
       "      <td>4.0</td>\n",
       "      <td>4.0</td>\n",
       "      <td>8.0</td>\n",
       "      <td>True</td>\n",
       "    </tr>\n",
       "    <tr>\n",
       "      <th>678</th>\n",
       "      <td>C531816</td>\n",
       "      <td>5.0</td>\n",
       "      <td>7.0</td>\n",
       "      <td>12.0</td>\n",
       "      <td>True</td>\n",
       "    </tr>\n",
       "  </tbody>\n",
       "</table>\n",
       "</div>"
      ],
      "text/plain": [
       "            ent  out_degree  in_degree  degree  is_disease\n",
       "666  C000600608         4.0        4.0     8.0        True\n",
       "678     C531816         5.0        7.0    12.0        True"
      ]
     },
     "execution_count": 233,
     "metadata": {},
     "output_type": "execute_result"
    }
   ],
   "source": [
    "dis_node_degree_df = node_degree_df[node_degree_df.is_disease]\n",
    "dis_node_degree_df[:2]"
   ]
  },
  {
   "cell_type": "code",
   "execution_count": 236,
   "id": "65626f9a",
   "metadata": {},
   "outputs": [
    {
     "data": {
      "text/plain": [
       "{'C000600608': 8.0,\n",
       " 'C531816': 12.0,\n",
       " 'C535282': 3.0,\n",
       " 'C535288': 6.0,\n",
       " 'C535301': 8.0,\n",
       " 'C535306': 24.0,\n",
       " 'C535308': 8.0,\n",
       " 'C535309': 7.0,\n",
       " 'C535310': 15.0,\n",
       " 'C535313': 11.0,\n",
       " 'C535314': 10.0,\n",
       " 'C535322': 7.0,\n",
       " 'C535323': 5.0,\n",
       " 'C535331': 4.0,\n",
       " 'C535334': 10.0,\n",
       " 'C535347': 2.0,\n",
       " 'C535351': 4.0,\n",
       " 'C535374': 5.0,\n",
       " 'C535382': 12.0,\n",
       " 'C535387': 3.0,\n",
       " 'C535388': 11.0,\n",
       " 'C535393': 15.0,\n",
       " 'C535396': 5.0,\n",
       " 'C535397': 2.0,\n",
       " 'C535407': 6.0,\n",
       " 'C535408': 9.0,\n",
       " 'C535434': 8.0,\n",
       " 'C535436': 16.0,\n",
       " 'C535440': 3.0,\n",
       " 'C535442': 21.0,\n",
       " 'C535443': 18.0,\n",
       " 'C535444': 16.0,\n",
       " 'C535460': 7.0,\n",
       " 'C535466': 2.0,\n",
       " 'C535474': 4.0,\n",
       " 'C535475': 6.0,\n",
       " 'C535480': 4.0,\n",
       " 'C535501': 10.0,\n",
       " 'C535502': 5.0,\n",
       " 'C535503': 6.0,\n",
       " 'C535504': 9.0,\n",
       " 'C535505': 10.0,\n",
       " 'C535507': 55.0,\n",
       " 'C535516': 10.0,\n",
       " 'C535520': 25.0,\n",
       " 'C535521': 9.0,\n",
       " 'C535541': 6.0,\n",
       " 'C535550': 3.0,\n",
       " 'C535566': 5.0,\n",
       " 'C535579': 20.0,\n",
       " 'C535581': 5.0,\n",
       " 'C535586': 13.0,\n",
       " 'C535588': 7.0,\n",
       " 'C535598': 10.0,\n",
       " 'C535600': 8.0,\n",
       " 'C535602': 3.0,\n",
       " 'C535607': 30.0,\n",
       " 'C535653': 2.0,\n",
       " 'C535658': 3.0,\n",
       " 'C535668': 5.0,\n",
       " 'C535679': 6.0,\n",
       " 'C535684': 7.0,\n",
       " 'C535686': 9.0,\n",
       " 'C535687': 4.0,\n",
       " 'C535689': 4.0,\n",
       " 'C535702': 12.0,\n",
       " 'C535704': 14.0,\n",
       " 'C535726': 6.0,\n",
       " 'C535729': 6.0,\n",
       " 'C535731': 10.0,\n",
       " 'C535734': 5.0,\n",
       " 'C535737': 4.0,\n",
       " 'C535755': 12.0,\n",
       " 'C535766': 10.0,\n",
       " 'C535767': 13.0,\n",
       " 'C535780': 3.0,\n",
       " 'C535789': 4.0,\n",
       " 'C535792': 2.0,\n",
       " 'C535798': 6.0,\n",
       " 'C535803': 7.0,\n",
       " 'C535805': 11.0,\n",
       " 'C535808': 4.0,\n",
       " 'C535811': 11.0,\n",
       " 'C535819': 4.0,\n",
       " 'C535857': 4.0,\n",
       " 'C535861': 4.0,\n",
       " 'C535863': 9.0,\n",
       " 'C535880': 3.0,\n",
       " 'C535887': 9.0,\n",
       " 'C535904': 9.0,\n",
       " 'C535909': 3.0,\n",
       " 'C535916': 2.0,\n",
       " 'C535924': 10.0,\n",
       " 'C535943': 11.0,\n",
       " 'C535963': 9.0,\n",
       " 'C535984': 11.0,\n",
       " 'C536004': 11.0,\n",
       " 'C536008': 5.0,\n",
       " 'C536017': 7.0,\n",
       " 'C536026': 4.0,\n",
       " 'C536029': 7.0,\n",
       " 'C536038': 8.0,\n",
       " 'C536051': 7.0,\n",
       " 'C536053': 2.0,\n",
       " 'C536063': 4.0,\n",
       " 'C536068': 7.0,\n",
       " 'C536075': 8.0,\n",
       " 'C536081': 4.0,\n",
       " 'C536085': 5.0,\n",
       " 'C536102': 2.0,\n",
       " 'C536109': 7.0,\n",
       " 'C536113': 7.0,\n",
       " 'C536122': 59.0,\n",
       " 'C536131': 17.0,\n",
       " 'C536132': 15.0,\n",
       " 'C536133': 19.0,\n",
       " 'C536138': 6.0,\n",
       " 'C536141': 8.0,\n",
       " 'C536142': 3.0,\n",
       " 'C536161': 6.0,\n",
       " 'C536162': 5.0,\n",
       " 'C536163': 6.0,\n",
       " 'C536167': 8.0,\n",
       " 'C536171': 8.0,\n",
       " 'C536173': 4.0,\n",
       " 'C536176': 8.0,\n",
       " 'C536181': 17.0,\n",
       " 'C536183': 3.0,\n",
       " 'C536190': 6.0,\n",
       " 'C536192': 3.0,\n",
       " 'C536198': 6.0,\n",
       " 'C536200': 8.0,\n",
       " 'C536201': 7.0,\n",
       " 'C536209': 21.0,\n",
       " 'C536210': 17.0,\n",
       " 'C536214': 14.0,\n",
       " 'C536221': 4.0,\n",
       " 'C536252': 10.0,\n",
       " 'C536253': 7.0,\n",
       " 'C536254': 10.0,\n",
       " 'C536258': 5.0,\n",
       " 'C536271': 4.0,\n",
       " 'C536273': 4.0,\n",
       " 'C536275': 13.0,\n",
       " 'C536276': 3.0,\n",
       " 'C536285': 13.0,\n",
       " 'C536293': 51.0,\n",
       " 'C536294': 47.0,\n",
       " 'C536295': 42.0,\n",
       " 'C536296': 47.0,\n",
       " 'C536309': 14.0,\n",
       " 'C536316': 10.0,\n",
       " 'C536317': 5.0,\n",
       " 'C536321': 4.0,\n",
       " 'C536329': 10.0,\n",
       " 'C536330': 10.0,\n",
       " 'C536333': 6.0,\n",
       " 'C536335': 5.0,\n",
       " 'C536347': 2.0,\n",
       " 'C536352': 3.0,\n",
       " 'C536353': 9.0,\n",
       " 'C536361': 3.0,\n",
       " 'C536377': 7.0,\n",
       " 'C536390': 5.0,\n",
       " 'C536399': 2.0,\n",
       " 'C536405': 14.0,\n",
       " 'C536411': 6.0,\n",
       " 'C536420': 3.0,\n",
       " 'C536424': 16.0,\n",
       " 'C536430': 6.0,\n",
       " 'C536434': 4.0,\n",
       " 'C536436': 33.0,\n",
       " 'C536438': 3.0,\n",
       " 'C536446': 3.0,\n",
       " 'C536447': 11.0,\n",
       " 'C536450': 7.0,\n",
       " 'C536456': 11.0,\n",
       " 'C536457': 5.0,\n",
       " 'C536458': 5.0,\n",
       " 'C536479': 5.0,\n",
       " 'C536480': 9.0,\n",
       " 'C536482': 19.0,\n",
       " 'C536498': 4.0,\n",
       " 'C536512': 6.0,\n",
       " 'C536522': 8.0,\n",
       " 'C536527': 4.0,\n",
       " 'C536528': 3.0,\n",
       " 'C536554': 6.0,\n",
       " 'C536560': 8.0,\n",
       " 'C536561': 5.0,\n",
       " 'C536573': 6.0,\n",
       " 'C536575': 5.0,\n",
       " 'C536582': 9.0,\n",
       " 'C536589': 18.0,\n",
       " 'C536604': 4.0,\n",
       " 'C536607': 7.0,\n",
       " 'C536611': 7.0,\n",
       " 'C536614': 4.0,\n",
       " 'C536624': 6.0,\n",
       " 'C536629': 6.0,\n",
       " 'C536631': 8.0,\n",
       " 'C536637': 5.0,\n",
       " 'C536647': 6.0,\n",
       " 'C536648': 22.0,\n",
       " 'C536652': 7.0,\n",
       " 'C536657': 11.0,\n",
       " 'C536662': 18.0,\n",
       " 'C536665': 8.0,\n",
       " 'C536678': 9.0,\n",
       " 'C536681': 18.0,\n",
       " 'C536687': 6.0,\n",
       " 'C536690': 3.0,\n",
       " 'C536695': 7.0,\n",
       " 'C536703': 3.0,\n",
       " 'C536714': 1.0,\n",
       " 'C536725': 10.0,\n",
       " 'C536739': 4.0,\n",
       " 'C536742': 5.0,\n",
       " 'C536748': 3.0,\n",
       " 'C536778': 6.0,\n",
       " 'C536781': 3.0,\n",
       " 'C536787': 3.0,\n",
       " 'C536801': 6.0,\n",
       " 'C536816': 8.0,\n",
       " 'C536820': 3.0,\n",
       " 'C536824': 16.0,\n",
       " 'C536826': 7.0,\n",
       " 'C536827': 4.0,\n",
       " 'C536830': 8.0,\n",
       " 'C536832': 17.0,\n",
       " 'C536833': 14.0,\n",
       " 'C536835': 13.0,\n",
       " 'C536841': 5.0,\n",
       " 'C536875': 9.0,\n",
       " 'C536919': 6.0,\n",
       " 'C536920': 7.0,\n",
       " 'C536937': 3.0,\n",
       " 'C536939': 11.0,\n",
       " 'C536940': 5.0,\n",
       " 'C536942': 4.0,\n",
       " 'C536943': 10.0,\n",
       " 'C536958': 5.0,\n",
       " 'C536961': 29.0,\n",
       " 'C536973': 8.0,\n",
       " 'C536974': 4.0,\n",
       " 'C536987': 17.0,\n",
       " 'C536990': 3.0,\n",
       " 'C537015': 3.0,\n",
       " 'C537032': 7.0,\n",
       " 'C537047': 4.0,\n",
       " 'C537048': 15.0,\n",
       " 'C537062': 2.0,\n",
       " 'C537067': 13.0,\n",
       " 'C537068': 3.0,\n",
       " 'C537070': 10.0,\n",
       " 'C537081': 4.0,\n",
       " 'C537098': 4.0,\n",
       " 'C537115': 8.0,\n",
       " 'C537119': 2.0,\n",
       " 'C537122': 4.0,\n",
       " 'C537136': 5.0,\n",
       " 'C537145': 6.0,\n",
       " 'C537152': 28.0,\n",
       " 'C537153': 25.0,\n",
       " 'C537185': 6.0,\n",
       " 'C537194': 18.0,\n",
       " 'C537207': 7.0,\n",
       " 'C537209': 3.0,\n",
       " 'C537217': 4.0,\n",
       " 'C537218': 3.0,\n",
       " 'C537221': 7.0,\n",
       " 'C537255': 8.0,\n",
       " 'C537257': 4.0,\n",
       " 'C537267': 1.0,\n",
       " 'C537274': 3.0,\n",
       " 'C537277': 4.0,\n",
       " 'C537279': 4.0,\n",
       " 'C537286': 13.0,\n",
       " 'C537291': 2.0,\n",
       " 'C537297': 6.0,\n",
       " 'C537300': 4.0,\n",
       " 'C537304': 4.0,\n",
       " 'C537327': 7.0,\n",
       " 'C537328': 3.0,\n",
       " 'C537340': 15.0,\n",
       " 'C537342': 6.0,\n",
       " 'C537343': 4.0,\n",
       " 'C537345': 10.0,\n",
       " 'C537359': 17.0,\n",
       " 'C537360': 10.0,\n",
       " 'C537361': 12.0,\n",
       " 'C537362': 7.0,\n",
       " 'C537371': 3.0,\n",
       " 'C537377': 7.0,\n",
       " 'C537380': 8.0,\n",
       " 'C537384': 4.0,\n",
       " 'C537393': 6.0,\n",
       " 'C537396': 9.0,\n",
       " 'C537403': 14.0,\n",
       " 'C537411': 5.0,\n",
       " 'C537418': 2.0,\n",
       " 'C537425': 8.0,\n",
       " 'C537436': 9.0,\n",
       " 'C537437': 15.0,\n",
       " 'C537440': 17.0,\n",
       " 'C537451': 8.0,\n",
       " 'C537459': 6.0,\n",
       " 'C537464': 19.0,\n",
       " 'C537465': 15.0,\n",
       " 'C537466': 14.0,\n",
       " 'C537470': 13.0,\n",
       " 'C537475': 27.0,\n",
       " 'C537476': 5.0,\n",
       " 'C537480': 5.0,\n",
       " 'C537492': 11.0,\n",
       " 'C537493': 13.0,\n",
       " 'C537494': 9.0,\n",
       " 'C537500': 8.0,\n",
       " 'C537519': 2.0,\n",
       " 'C537521': 11.0,\n",
       " 'C537525': 6.0,\n",
       " 'C537527': 10.0,\n",
       " 'C537533': 23.0,\n",
       " 'C537534': 22.0,\n",
       " 'C537548': 22.0,\n",
       " 'C537555': 5.0,\n",
       " 'C537559': 7.0,\n",
       " 'C537560': 3.0,\n",
       " 'C537565': 13.0,\n",
       " 'C537571': 29.0,\n",
       " 'C537575': 4.0,\n",
       " 'C537580': 8.0,\n",
       " 'C537583': 4.0,\n",
       " 'C537596': 10.0,\n",
       " 'C537599': 22.0,\n",
       " 'C537620': 11.0,\n",
       " 'C537622': 11.0,\n",
       " 'C537627': 6.0,\n",
       " 'C537633': 5.0,\n",
       " 'C537657': 4.0,\n",
       " 'C537658': 5.0,\n",
       " 'C537659': 5.0,\n",
       " 'C537680': 13.0,\n",
       " 'C537688': 49.0,\n",
       " 'C537689': 44.0,\n",
       " 'C537696': 9.0,\n",
       " 'C537698': 5.0,\n",
       " 'C537702': 21.0,\n",
       " 'C537704': 17.0,\n",
       " 'C537705': 5.0,\n",
       " 'C537710': 4.0,\n",
       " 'C537711': 2.0,\n",
       " 'C537724': 3.0,\n",
       " 'C537734': 5.0,\n",
       " 'C537738': 7.0,\n",
       " 'C537742': 7.0,\n",
       " 'C537743': 34.0,\n",
       " 'C537746': 7.0,\n",
       " 'C537757': 8.0,\n",
       " 'C537761': 7.0,\n",
       " 'C537768': 22.0,\n",
       " 'C537769': 3.0,\n",
       " 'C537775': 13.0,\n",
       " 'C537799': 6.0,\n",
       " 'C537839': 6.0,\n",
       " 'C537871': 11.0,\n",
       " 'C537878': 6.0,\n",
       " 'C537880': 6.0,\n",
       " 'C537884': 5.0,\n",
       " 'C537907': 5.0,\n",
       " 'C537908': 4.0,\n",
       " 'C537913': 4.0,\n",
       " 'C537915': 4.0,\n",
       " 'C537919': 53.0,\n",
       " 'C537923': 15.0,\n",
       " 'C537931': 4.0,\n",
       " 'C537932': 16.0,\n",
       " 'C537943': 7.0,\n",
       " 'C537975': 4.0,\n",
       " 'C537996': 6.0,\n",
       " 'C537998': 7.0,\n",
       " 'C537999': 2.0,\n",
       " 'C538012': 28.0,\n",
       " 'C538013': 12.0,\n",
       " 'C538064': 7.0,\n",
       " 'C538065': 11.0,\n",
       " 'C538101': 7.0,\n",
       " 'C538132': 13.0,\n",
       " 'C538133': 12.0,\n",
       " 'C538139': 6.0,\n",
       " 'C538141': 6.0,\n",
       " 'C538152': 4.0,\n",
       " 'C538157': 4.0,\n",
       " 'C538167': 8.0,\n",
       " 'C538178': 6.0,\n",
       " 'C538179': 12.0,\n",
       " 'C538182': 8.0,\n",
       " 'C538183': 8.0,\n",
       " 'C538184': 14.0,\n",
       " 'C538185': 9.0,\n",
       " 'C538189': 1.0,\n",
       " 'C538191': 8.0,\n",
       " 'C538197': 42.0,\n",
       " 'C538225': 28.0,\n",
       " 'C538228': 8.0,\n",
       " 'C538234': 7.0,\n",
       " 'C538235': 9.0,\n",
       " 'C538246': 8.0,\n",
       " 'C538256': 3.0,\n",
       " 'C538270': 11.0,\n",
       " 'C538275': 5.0,\n",
       " 'C538278': 4.0,\n",
       " 'C538317': 10.0,\n",
       " 'C538320': 7.0,\n",
       " 'C538322': 5.0,\n",
       " 'C538324': 7.0,\n",
       " 'C538330': 2.0,\n",
       " 'C538331': 5.0,\n",
       " 'C538337': 4.0,\n",
       " 'C538343': 4.0,\n",
       " 'C538346': 7.0,\n",
       " 'C538361': 9.0,\n",
       " 'C538371': 2.0,\n",
       " 'C538380': 4.0,\n",
       " 'C538385': 8.0,\n",
       " 'C538387': 8.0,\n",
       " 'C538424': 2.0,\n",
       " 'C545036': 6.0,\n",
       " 'C548016': 3.0,\n",
       " 'C548028': 7.0,\n",
       " 'C548032': 3.0,\n",
       " 'C548080': 9.0,\n",
       " 'C557674': 4.0,\n",
       " 'C557815': 2.0,\n",
       " 'C562407': 5.0,\n",
       " 'C562429': 15.0,\n",
       " 'C562476': 8.0,\n",
       " 'C562492': 10.0,\n",
       " 'C562515': 5.0,\n",
       " 'C562524': 6.0,\n",
       " 'C562538': 7.0,\n",
       " 'C562576': 13.0,\n",
       " 'C562581': 6.0,\n",
       " 'C562584': 10.0,\n",
       " 'C562589': 5.0,\n",
       " 'C562600': 3.0,\n",
       " 'C562602': 6.0,\n",
       " 'C562625': 9.0,\n",
       " 'C562626': 6.0,\n",
       " 'C562642': 6.0,\n",
       " 'C562645': 8.0,\n",
       " 'C562649': 5.0,\n",
       " 'C562664': 2.0,\n",
       " 'C562687': 5.0,\n",
       " 'C562688': 13.0,\n",
       " 'C562694': 23.0,\n",
       " 'C562695': 6.0,\n",
       " 'C562710': 9.0,\n",
       " 'C562718': 10.0,\n",
       " 'C562719': 6.0,\n",
       " 'C562735': 12.0,\n",
       " 'C562745': 7.0,\n",
       " 'C562769': 18.0,\n",
       " 'C562770': 16.0,\n",
       " 'C562771': 14.0,\n",
       " 'C562783': 2.0,\n",
       " 'C562790': 6.0,\n",
       " 'C562792': 3.0,\n",
       " 'C562793': 5.0,\n",
       " 'C562794': 16.0,\n",
       " 'C562803': 8.0,\n",
       " 'C562812': 3.0,\n",
       " 'C562815': 7.0,\n",
       " 'C562829': 4.0,\n",
       " 'C562864': 5.0,\n",
       " 'C562873': 9.0,\n",
       " 'C562876': 5.0,\n",
       " 'C562924': 19.0,\n",
       " 'C562934': 21.0,\n",
       " 'C562937': 11.0,\n",
       " 'C562938': 10.0,\n",
       " 'C562966': 11.0,\n",
       " 'C562968': 8.0,\n",
       " 'C563028': 5.0,\n",
       " 'C563034': 5.0,\n",
       " 'C563039': 9.0,\n",
       " 'C563043': 7.0,\n",
       " 'C563110': 5.0,\n",
       " 'C563156': 10.0,\n",
       " 'C563177': 7.0,\n",
       " 'C563187': 5.0,\n",
       " 'C563206': 16.0,\n",
       " 'C563207': 5.0,\n",
       " 'C563209': 10.0,\n",
       " 'C563210': 8.0,\n",
       " 'C563212': 7.0,\n",
       " 'C563256': 11.0,\n",
       " 'C563261': 6.0,\n",
       " 'C563295': 43.0,\n",
       " 'C563311': 7.0,\n",
       " 'C563319': 16.0,\n",
       " 'C563321': 43.0,\n",
       " 'C563322': 6.0,\n",
       " 'C563327': 102.0,\n",
       " 'C563335': 46.0,\n",
       " 'C563353': 43.0,\n",
       " 'C563354': 48.0,\n",
       " 'C563363': 3.0,\n",
       " 'C563365': 3.0,\n",
       " 'C563396': 96.0,\n",
       " 'C563399': 13.0,\n",
       " 'C563410': 43.0,\n",
       " 'C563417': 100.0,\n",
       " 'C563418': 91.0,\n",
       " 'C563421': 47.0,\n",
       " 'C563423': 5.0,\n",
       " 'C563424': 8.0,\n",
       " 'C563425': 18.0,\n",
       " 'C563440': 11.0,\n",
       " 'C563444': 79.0,\n",
       " 'C563451': 21.0,\n",
       " 'C563460': 40.0,\n",
       " 'C563462': 6.0,\n",
       " 'C563463': 8.0,\n",
       " 'C563466': 25.0,\n",
       " 'C563477': 3.0,\n",
       " 'C563481': 5.0,\n",
       " 'C563574': 2.0,\n",
       " 'C563665': 5.0,\n",
       " 'C563672': 7.0,\n",
       " 'C563673': 16.0,\n",
       " 'C563698': 4.0,\n",
       " 'C563700': 4.0,\n",
       " 'C563703': 4.0,\n",
       " 'C563705': 83.0,\n",
       " 'C563718': 13.0,\n",
       " 'C563719': 7.0,\n",
       " 'C563775': 14.0,\n",
       " 'C563783': 5.0,\n",
       " 'C563786': 5.0,\n",
       " 'C563789': 5.0,\n",
       " 'C563790': 3.0,\n",
       " 'C563796': 12.0,\n",
       " 'C563797': 58.0,\n",
       " 'C563798': 5.0,\n",
       " 'C563799': 7.0,\n",
       " 'C563818': 2.0,\n",
       " 'C563825': 8.0,\n",
       " 'C563835': 3.0,\n",
       " 'C563848': 20.0,\n",
       " 'C563856': 5.0,\n",
       " 'C563867': 7.0,\n",
       " 'C563876': 8.0,\n",
       " 'C563885': 38.0,\n",
       " 'C563888': 42.0,\n",
       " 'C563890': 43.0,\n",
       " 'C563914': 6.0,\n",
       " 'C563933': 16.0,\n",
       " 'C563961': 82.0,\n",
       " 'C563977': 9.0,\n",
       " 'C563983': 2.0,\n",
       " 'C564005': 10.0,\n",
       " 'C564007': 86.0,\n",
       " 'C564024': 19.0,\n",
       " 'C564030': 80.0,\n",
       " 'C564038': 4.0,\n",
       " 'C564056': 4.0,\n",
       " 'C564071': 5.0,\n",
       " 'C564093': 9.0,\n",
       " 'C564100': 5.0,\n",
       " 'C564105': 6.0,\n",
       " 'C564154': 7.0,\n",
       " 'C564163': 3.0,\n",
       " 'C564217': 13.0,\n",
       " 'C564219': 22.0,\n",
       " 'C564221': 6.0,\n",
       " 'C564234': 23.0,\n",
       " 'C564243': 10.0,\n",
       " 'C564245': 9.0,\n",
       " 'C564246': 45.0,\n",
       " 'C564250': 40.0,\n",
       " 'C564253': 9.0,\n",
       " 'C564254': 10.0,\n",
       " 'C564272': 42.0,\n",
       " 'C564276': 8.0,\n",
       " 'C564305': 3.0,\n",
       " 'C564307': 3.0,\n",
       " 'C564312': 8.0,\n",
       " 'C564313': 12.0,\n",
       " 'C564315': 6.0,\n",
       " 'C564321': 3.0,\n",
       " 'C564322': 41.0,\n",
       " 'C564327': 3.0,\n",
       " 'C564332': 6.0,\n",
       " 'C564334': 5.0,\n",
       " 'C564336': 9.0,\n",
       " 'C564342': 5.0,\n",
       " 'C564348': 42.0,\n",
       " 'C564365': 9.0,\n",
       " 'C564369': 15.0,\n",
       " 'C564399': 52.0,\n",
       " 'C564403': 13.0,\n",
       " 'C564433': 9.0,\n",
       " 'C564472': 10.0,\n",
       " 'C564474': 5.0,\n",
       " 'C564479': 1.0,\n",
       " 'C564485': 11.0,\n",
       " 'C564490': 47.0,\n",
       " 'C564491': 9.0,\n",
       " 'C564509': 3.0,\n",
       " 'C564543': 2.0,\n",
       " 'C564577': 7.0,\n",
       " 'C564589': 6.0,\n",
       " 'C564591': 5.0,\n",
       " 'C564600': 5.0,\n",
       " 'C564603': 3.0,\n",
       " 'C564608': 12.0,\n",
       " 'C564633': 83.0,\n",
       " 'C564634': 47.0,\n",
       " 'C564674': 3.0,\n",
       " 'C564675': 43.0,\n",
       " 'C564683': 25.0,\n",
       " 'C564694': 13.0,\n",
       " 'C564700': 4.0,\n",
       " 'C564706': 38.0,\n",
       " 'C564715': 3.0,\n",
       " 'C564723': 12.0,\n",
       " 'C564727': 8.0,\n",
       " 'C564735': 10.0,\n",
       " 'C564752': 9.0,\n",
       " 'C564766': 16.0,\n",
       " 'C564805': 3.0,\n",
       " 'C564815': 11.0,\n",
       " 'C564816': 13.0,\n",
       " 'C564818': 11.0,\n",
       " 'C564832': 5.0,\n",
       " 'C564888': 8.0,\n",
       " 'C564893': 4.0,\n",
       " 'C564926': 6.0,\n",
       " 'C564968': 11.0,\n",
       " 'C564969': 4.0,\n",
       " 'C564992': 5.0,\n",
       " 'C565005': 3.0,\n",
       " 'C565016': 5.0,\n",
       " 'C565089': 5.0,\n",
       " 'C565095': 7.0,\n",
       " 'C565101': 22.0,\n",
       " 'C565102': 4.0,\n",
       " 'C565114': 10.0,\n",
       " 'C565121': 43.0,\n",
       " 'C565128': 45.0,\n",
       " 'C565152': 7.0,\n",
       " 'C565177': 8.0,\n",
       " 'C565192': 6.0,\n",
       " 'C565193': 3.0,\n",
       " 'C565195': 4.0,\n",
       " 'C565217': 4.0,\n",
       " 'C565225': 20.0,\n",
       " 'C565231': 26.0,\n",
       " 'C565239': 44.0,\n",
       " 'C565267': 45.0,\n",
       " 'C565278': 6.0,\n",
       " 'C565285': 5.0,\n",
       " 'C565287': 83.0,\n",
       " 'C565304': 13.0,\n",
       " 'C565309': 4.0,\n",
       " 'C565319': 44.0,\n",
       " 'C565328': 5.0,\n",
       " 'C565329': 91.0,\n",
       " 'C565341': 87.0,\n",
       " 'C565344': 4.0,\n",
       " 'C565357': 46.0,\n",
       " 'C565375': 23.0,\n",
       " 'C565390': 11.0,\n",
       " 'C565394': 7.0,\n",
       " 'C565437': 3.0,\n",
       " 'C565439': 5.0,\n",
       " 'C565447': 4.0,\n",
       " 'C565448': 7.0,\n",
       " 'C565460': 2.0,\n",
       " 'C565485': 6.0,\n",
       " 'C565507': 2.0,\n",
       " 'C565547': 7.0,\n",
       " 'C565551': 7.0,\n",
       " 'C565557': 13.0,\n",
       " 'C565624': 9.0,\n",
       " 'C565627': 4.0,\n",
       " 'C565662': 22.0,\n",
       " 'C565690': 52.0,\n",
       " 'C565699': 12.0,\n",
       " 'C565754': 48.0,\n",
       " 'C565768': 12.0,\n",
       " 'C565779': 15.0,\n",
       " 'C565784': 17.0,\n",
       " 'C565789': 15.0,\n",
       " 'C565820': 6.0,\n",
       " 'C565822': 3.0,\n",
       " 'C565828': 87.0,\n",
       " 'C565832': 41.0,\n",
       " 'C565836': 19.0,\n",
       " 'C565850': 5.0,\n",
       " 'C565882': 1.0,\n",
       " 'C565891': 10.0,\n",
       " 'C565898': 2.0,\n",
       " 'C565935': 6.0,\n",
       " 'C565942': 4.0,\n",
       " 'C565948': 21.0,\n",
       " 'C565965': 4.0,\n",
       " 'C565974': 11.0,\n",
       " 'C566007': 4.0,\n",
       " 'C566033': 2.0,\n",
       " 'C566108': 3.0,\n",
       " 'C566130': 3.0,\n",
       " 'C566236': 3.0,\n",
       " 'C566288': 6.0,\n",
       " 'C566293': 3.0,\n",
       " 'C566339': 82.0,\n",
       " 'C566340': 14.0,\n",
       " 'C566344': 88.0,\n",
       " 'C566353': 83.0,\n",
       " 'C566358': 9.0,\n",
       " 'C566366': 86.0,\n",
       " 'C566381': 19.0,\n",
       " 'C566384': 5.0,\n",
       " 'C566402': 9.0,\n",
       " 'C566410': 85.0,\n",
       " 'C566418': 86.0,\n",
       " 'C566432': 6.0,\n",
       " 'C566438': 9.0,\n",
       " 'C566440': 18.0,\n",
       " 'C566441': 16.0,\n",
       " 'C566449': 7.0,\n",
       " 'C566451': 6.0,\n",
       " 'C566452': 9.0,\n",
       " 'C566454': 3.0,\n",
       " 'C566466': 21.0,\n",
       " 'C566467': 50.0,\n",
       " 'C566468': 51.0,\n",
       " 'C566469': 7.0,\n",
       " 'C566472': 6.0,\n",
       " 'C566473': 14.0,\n",
       " 'C566476': 1.0,\n",
       " 'C566487': 9.0,\n",
       " 'C566495': 39.0,\n",
       " 'C566529': 2.0,\n",
       " 'C566545': 46.0,\n",
       " 'C566555': 5.0,\n",
       " 'C566580': 89.0,\n",
       " 'C566592': 5.0,\n",
       " 'C566593': 20.0,\n",
       " 'C566600': 6.0,\n",
       " 'C566611': 83.0,\n",
       " 'C566612': 46.0,\n",
       " 'C566618': 6.0,\n",
       " 'C566654': 8.0,\n",
       " 'C566729': 9.0,\n",
       " 'C566801': 2.0,\n",
       " 'C566813': 2.0,\n",
       " 'C566822': 4.0,\n",
       " 'C566870': 16.0,\n",
       " 'C566897': 9.0,\n",
       " 'C566906': 9.0,\n",
       " 'C566916': 44.0,\n",
       " 'C566917': 9.0,\n",
       " 'C566924': 3.0,\n",
       " 'C566945': 14.0,\n",
       " 'C566947': 92.0,\n",
       " 'C566950': 7.0,\n",
       " 'C566961': 12.0,\n",
       " 'C566970': 6.0,\n",
       " 'C566982': 10.0,\n",
       " 'C567009': 7.0,\n",
       " 'C567020': 6.0,\n",
       " 'C567024': 1.0,\n",
       " 'C567027': 90.0,\n",
       " 'C567032': 5.0,\n",
       " 'C567064': 8.0,\n",
       " 'C567088': 6.0,\n",
       " 'C567089': 6.0,\n",
       " 'C567090': 7.0,\n",
       " 'C567098': 11.0,\n",
       " 'C567125': 5.0,\n",
       " 'C567126': 46.0,\n",
       " 'C567127': 21.0,\n",
       " 'C567134': 99.0,\n",
       " 'C567165': 3.0,\n",
       " 'C567192': 14.0,\n",
       " 'C567195': 8.0,\n",
       " 'C567203': 7.0,\n",
       " 'C567213': 88.0,\n",
       " 'C567214': 46.0,\n",
       " 'C567215': 44.0,\n",
       " 'C567216': 43.0,\n",
       " 'C567234': 81.0,\n",
       " 'C567240': 85.0,\n",
       " 'C567241': 79.0,\n",
       " 'C567258': 7.0,\n",
       " 'C567260': 6.0,\n",
       " 'C567274': 10.0,\n",
       " 'C567277': 46.0,\n",
       " 'C567296': 6.0,\n",
       " 'C567320': 8.0,\n",
       " 'C567357': 4.0,\n",
       " 'C567358': 44.0,\n",
       " 'C567359': 6.0,\n",
       " 'C567362': 3.0,\n",
       " 'C567363': 3.0,\n",
       " 'C567364': 46.0,\n",
       " 'C567379': 10.0,\n",
       " 'C567393': 23.0,\n",
       " 'C567401': 10.0,\n",
       " 'C567411': 8.0,\n",
       " 'C567425': 4.0,\n",
       " 'C567433': 4.0,\n",
       " 'C567441': 43.0,\n",
       " 'C567453': 6.0,\n",
       " 'C567475': 5.0,\n",
       " 'C567484': 2.0,\n",
       " 'C567498': 1.0,\n",
       " 'C567502': 4.0,\n",
       " 'C567517': 2.0,\n",
       " 'C567527': 2.0,\n",
       " 'C567528': 10.0,\n",
       " 'C567551': 10.0,\n",
       " 'C567555': 12.0,\n",
       " 'C567570': 3.0,\n",
       " 'C567582': 48.0,\n",
       " 'C567594': 5.0,\n",
       " 'C567616': 6.0,\n",
       " 'C567639': 3.0,\n",
       " 'C567645': 4.0,\n",
       " 'C567646': 2.0,\n",
       " 'C567647': 4.0,\n",
       " 'C567652': 6.0,\n",
       " 'C567656': 7.0,\n",
       " 'C567690': 6.0,\n",
       " 'C567703': 19.0,\n",
       " 'C567718': 2.0,\n",
       " 'C567751': 3.0,\n",
       " 'C567753': 21.0,\n",
       " 'C567763': 4.0,\n",
       " 'C567765': 12.0,\n",
       " 'C567767': 8.0,\n",
       " 'C567770': 3.0,\n",
       " 'C567784': 14.0,\n",
       " 'C567791': 4.0,\n",
       " 'C567815': 4.0,\n",
       " 'C567832': 67.0,\n",
       " 'C567839': 10.0,\n",
       " 'C567843': 13.0,\n",
       " 'C567845': 3.0,\n",
       " 'C567847': 3.0,\n",
       " 'C567859': 11.0,\n",
       " 'C567861': 9.0,\n",
       " 'C567863': 5.0,\n",
       " 'C567932': 7.0,\n",
       " 'C573012': 11.0,\n",
       " 'C573898': 2.0,\n",
       " 'C579849': 2.0,\n",
       " 'C579867': 16.0,\n",
       " 'C579922': 2.0,\n",
       " 'C579928': 5.0,\n",
       " 'C579932': 11.0,\n",
       " 'C579969': 4.0,\n",
       " 'C580002': 8.0,\n",
       " 'C580012': 8.0,\n",
       " 'C580130': 12.0,\n",
       " 'C580174': 5.0,\n",
       " 'C580192': 6.0,\n",
       " 'C580224': 2.0,\n",
       " 'C580316': 22.0,\n",
       " 'C580383': 34.0,\n",
       " 'C580533': 5.0,\n",
       " 'C580539': 4.0,\n",
       " 'D000012': 5.0,\n",
       " 'D000071700': 36.0,\n",
       " 'D000075262': 9.0,\n",
       " 'D000130': 9.0,\n",
       " 'D000141': 43.0,\n",
       " 'D000168': 12.0,\n",
       " 'D000172': 24.0,\n",
       " 'D000309': 24.0,\n",
       " 'D000312': 40.0,\n",
       " 'D000326': 25.0,\n",
       " 'D000361': 23.0,\n",
       " 'D000437': 145.0,\n",
       " 'D000474': 4.0,\n",
       " 'D000544': 382.0,\n",
       " 'D000562': 5.0,\n",
       " 'D000567': 30.0,\n",
       " 'D000592': 48.0,\n",
       " 'D000690': 141.0,\n",
       " 'D000757': 7.0,\n",
       " 'D000795': 7.0,\n",
       " 'D000848': 22.0,\n",
       " 'D001005': 12.0,\n",
       " 'D001171': 384.0,\n",
       " 'D001172': 555.0,\n",
       " 'D001176': 18.0,\n",
       " 'D001249': 356.0,\n",
       " 'D001254': 84.0,\n",
       " 'D001260': 11.0,\n",
       " 'D001471': 52.0,\n",
       " 'D001477': 27.0,\n",
       " 'D001478': 21.0,\n",
       " 'D001506': 9.0,\n",
       " 'D001749': 446.0,\n",
       " 'D001816': 15.0,\n",
       " 'D001943': 1654.0,\n",
       " 'D001987': 19.0,\n",
       " 'D002051': 61.0,\n",
       " 'D002178': 25.0,\n",
       " 'D002276': 8.0,\n",
       " 'D002280': 80.0,\n",
       " 'D002289': 443.0,\n",
       " 'D002292': 402.0,\n",
       " 'D002349': 17.0,\n",
       " 'D002386': 185.0,\n",
       " 'D002446': 119.0,\n",
       " 'D002547': 22.0,\n",
       " 'D002583': 122.0,\n",
       " 'D002607': 72.0,\n",
       " 'D002609': 4.0,\n",
       " 'D002636': 4.0,\n",
       " 'D002771': 4.0,\n",
       " 'D002780': 106.0,\n",
       " 'D002813': 10.0,\n",
       " 'D002819': 73.0,\n",
       " 'D002972': 146.0,\n",
       " 'D003057': 26.0,\n",
       " 'D003093': 201.0,\n",
       " 'D003103': 27.0,\n",
       " 'D003117': 41.0,\n",
       " 'D003123': 30.0,\n",
       " 'D003294': 41.0,\n",
       " 'D003317': 8.0,\n",
       " 'D003324': 266.0,\n",
       " 'D003398': 53.0,\n",
       " 'D003409': 20.0,\n",
       " 'D003410': 8.0,\n",
       " 'D003414': 6.0,\n",
       " 'D003424': 158.0,\n",
       " 'D003456': 35.0,\n",
       " 'D003480': 49.0,\n",
       " 'D003483': 14.0,\n",
       " 'D003550': 62.0,\n",
       " 'D003554': 4.0,\n",
       " 'D003555': 9.0,\n",
       " 'D003586': 16.0,\n",
       " 'D003635': 20.0,\n",
       " 'D003805': 4.0,\n",
       " 'D003876': 158.0,\n",
       " 'D003919': 29.0,\n",
       " 'D003922': 164.0,\n",
       " 'D003924': 615.0,\n",
       " 'D003928': 185.0,\n",
       " 'D003929': 99.0,\n",
       " 'D003930': 67.0,\n",
       " 'D003966': 5.0,\n",
       " 'D004310': 14.0,\n",
       " 'D004374': 33.0,\n",
       " 'D004393': 13.0,\n",
       " 'D004402': 5.0,\n",
       " 'D004405': 2.0,\n",
       " 'D004410': 5.0,\n",
       " 'D004476': 15.0,\n",
       " 'D004480': 6.0,\n",
       " 'D004535': 16.0,\n",
       " 'D004613': 5.0,\n",
       " 'D004660': 21.0,\n",
       " 'D004819': 4.0,\n",
       " 'D004828': 30.0,\n",
       " 'D004829': 25.0,\n",
       " 'D004831': 50.0,\n",
       " 'D004832': 46.0,\n",
       " 'D004927': 34.0,\n",
       " 'D004938': 271.0,\n",
       " 'D005097': 12.0,\n",
       " 'D005158': 25.0,\n",
       " 'D005168': 5.0,\n",
       " 'D005171': 7.0,\n",
       " 'D005198': 49.0,\n",
       " 'D005271': 23.0,\n",
       " 'D005351': 4.0,\n",
       " 'D005489': 4.0,\n",
       " 'D005585': 8.0,\n",
       " 'D005600': 14.0,\n",
       " 'D005621': 10.0,\n",
       " 'D005633': 6.0,\n",
       " 'D005642': 9.0,\n",
       " 'D005645': 9.0,\n",
       " 'D005693': 18.0,\n",
       " 'D005705': 24.0,\n",
       " 'D005776': 24.0,\n",
       " 'D005871': 11.0,\n",
       " 'D005877': 3.0,\n",
       " 'D005878': 3.0,\n",
       " 'D005879': 32.0,\n",
       " 'D005910': 273.0,\n",
       " 'D005923': 135.0,\n",
       " ...}"
      ]
     },
     "execution_count": 236,
     "metadata": {},
     "output_type": "execute_result"
    }
   ],
   "source": [
    "dis_degree_dict = pd.Series(dis_node_degree_df.degree.values,index=dis_node_degree_df.ent).to_dict()\n",
    "dis_degree_dict"
   ]
  },
  {
   "cell_type": "code",
   "execution_count": 243,
   "id": "58a7945d",
   "metadata": {},
   "outputs": [
    {
     "name": "stderr",
     "output_type": "stream",
     "text": [
      "Reconstructing all label-based triples. This is expensive and rarely needed.\n"
     ]
    }
   ],
   "source": [
    "# now bucket the test triples according to node degree\n",
    "test_triples_dis_df = pd.DataFrame(test_triples_disease.triples, columns=[\"src\", \"rel\", \"tgt\"])\n",
    "def retrieve_node_degree(node, node2degree_dict):\n",
    "    return node2degree_dict.get(node, 0)\n",
    "\n",
    "test_triples_dis_df[\"src_dis_degree\"] = test_triples_dis_df[\"src\"].apply(lambda x: retrieve_node_degree(x, dis_degree_dict))\n",
    "                                   "
   ]
  },
  {
   "cell_type": "code",
   "execution_count": 244,
   "id": "d033d399",
   "metadata": {},
   "outputs": [
    {
     "data": {
      "text/html": [
       "<div>\n",
       "<style scoped>\n",
       "    .dataframe tbody tr th:only-of-type {\n",
       "        vertical-align: middle;\n",
       "    }\n",
       "\n",
       "    .dataframe tbody tr th {\n",
       "        vertical-align: top;\n",
       "    }\n",
       "\n",
       "    .dataframe thead th {\n",
       "        text-align: right;\n",
       "    }\n",
       "</style>\n",
       "<table border=\"1\" class=\"dataframe\">\n",
       "  <thead>\n",
       "    <tr style=\"text-align: right;\">\n",
       "      <th></th>\n",
       "      <th>src</th>\n",
       "      <th>rel</th>\n",
       "      <th>tgt</th>\n",
       "      <th>src_dis_degree</th>\n",
       "      <th>tgt_dis_degree</th>\n",
       "    </tr>\n",
       "  </thead>\n",
       "  <tbody>\n",
       "    <tr>\n",
       "      <th>0</th>\n",
       "      <td>A0A0G2K344</td>\n",
       "      <td>PROTEIN_DISEASE_ASSOCIATION</td>\n",
       "      <td>D000077192</td>\n",
       "      <td>0.0</td>\n",
       "      <td>464.0</td>\n",
       "    </tr>\n",
       "    <tr>\n",
       "      <th>1</th>\n",
       "      <td>A0A0G2K344</td>\n",
       "      <td>PROTEIN_DISEASE_ASSOCIATION</td>\n",
       "      <td>D000077274</td>\n",
       "      <td>0.0</td>\n",
       "      <td>56.0</td>\n",
       "    </tr>\n",
       "    <tr>\n",
       "      <th>2</th>\n",
       "      <td>A0A0G2K344</td>\n",
       "      <td>PROTEIN_DISEASE_ASSOCIATION</td>\n",
       "      <td>D009062</td>\n",
       "      <td>0.0</td>\n",
       "      <td>180.0</td>\n",
       "    </tr>\n",
       "  </tbody>\n",
       "</table>\n",
       "</div>"
      ],
      "text/plain": [
       "          src                          rel         tgt  src_dis_degree  \\\n",
       "0  A0A0G2K344  PROTEIN_DISEASE_ASSOCIATION  D000077192             0.0   \n",
       "1  A0A0G2K344  PROTEIN_DISEASE_ASSOCIATION  D000077274             0.0   \n",
       "2  A0A0G2K344  PROTEIN_DISEASE_ASSOCIATION     D009062             0.0   \n",
       "\n",
       "   tgt_dis_degree  \n",
       "0           464.0  \n",
       "1            56.0  \n",
       "2           180.0  "
      ]
     },
     "execution_count": 244,
     "metadata": {},
     "output_type": "execute_result"
    }
   ],
   "source": [
    "test_triples_dis_df[\"tgt_dis_degree\"] = test_triples_dis_df[\"tgt\"].apply(lambda x: retrieve_node_degree(x, dis_degree_dict))\n",
    "test_triples_dis_df[:3]\n"
   ]
  },
  {
   "cell_type": "code",
   "execution_count": 247,
   "id": "54a2a316",
   "metadata": {},
   "outputs": [
    {
     "data": {
      "text/html": [
       "<div>\n",
       "<style scoped>\n",
       "    .dataframe tbody tr th:only-of-type {\n",
       "        vertical-align: middle;\n",
       "    }\n",
       "\n",
       "    .dataframe tbody tr th {\n",
       "        vertical-align: top;\n",
       "    }\n",
       "\n",
       "    .dataframe thead th {\n",
       "        text-align: right;\n",
       "    }\n",
       "</style>\n",
       "<table border=\"1\" class=\"dataframe\">\n",
       "  <thead>\n",
       "    <tr style=\"text-align: right;\">\n",
       "      <th></th>\n",
       "      <th>src</th>\n",
       "      <th>rel</th>\n",
       "      <th>tgt</th>\n",
       "      <th>src_dis_degree</th>\n",
       "      <th>tgt_dis_degree</th>\n",
       "      <th>dis_degree</th>\n",
       "    </tr>\n",
       "  </thead>\n",
       "  <tbody>\n",
       "    <tr>\n",
       "      <th>0</th>\n",
       "      <td>A0A0G2K344</td>\n",
       "      <td>PROTEIN_DISEASE_ASSOCIATION</td>\n",
       "      <td>D000077192</td>\n",
       "      <td>0.0</td>\n",
       "      <td>464.0</td>\n",
       "      <td>464.0</td>\n",
       "    </tr>\n",
       "    <tr>\n",
       "      <th>1</th>\n",
       "      <td>A0A0G2K344</td>\n",
       "      <td>PROTEIN_DISEASE_ASSOCIATION</td>\n",
       "      <td>D000077274</td>\n",
       "      <td>0.0</td>\n",
       "      <td>56.0</td>\n",
       "      <td>56.0</td>\n",
       "    </tr>\n",
       "    <tr>\n",
       "      <th>2</th>\n",
       "      <td>A0A0G2K344</td>\n",
       "      <td>PROTEIN_DISEASE_ASSOCIATION</td>\n",
       "      <td>D009062</td>\n",
       "      <td>0.0</td>\n",
       "      <td>180.0</td>\n",
       "      <td>180.0</td>\n",
       "    </tr>\n",
       "    <tr>\n",
       "      <th>3</th>\n",
       "      <td>A0A0R4IKU3</td>\n",
       "      <td>PROTEIN_DISEASE_ASSOCIATION</td>\n",
       "      <td>D009361</td>\n",
       "      <td>0.0</td>\n",
       "      <td>599.0</td>\n",
       "      <td>599.0</td>\n",
       "    </tr>\n",
       "    <tr>\n",
       "      <th>4</th>\n",
       "      <td>A0A0R4IQZ2</td>\n",
       "      <td>PROTEIN_DISEASE_ASSOCIATION</td>\n",
       "      <td>D000686</td>\n",
       "      <td>0.0</td>\n",
       "      <td>38.0</td>\n",
       "      <td>38.0</td>\n",
       "    </tr>\n",
       "  </tbody>\n",
       "</table>\n",
       "</div>"
      ],
      "text/plain": [
       "          src                          rel         tgt  src_dis_degree  \\\n",
       "0  A0A0G2K344  PROTEIN_DISEASE_ASSOCIATION  D000077192             0.0   \n",
       "1  A0A0G2K344  PROTEIN_DISEASE_ASSOCIATION  D000077274             0.0   \n",
       "2  A0A0G2K344  PROTEIN_DISEASE_ASSOCIATION     D009062             0.0   \n",
       "3  A0A0R4IKU3  PROTEIN_DISEASE_ASSOCIATION     D009361             0.0   \n",
       "4  A0A0R4IQZ2  PROTEIN_DISEASE_ASSOCIATION     D000686             0.0   \n",
       "\n",
       "   tgt_dis_degree  dis_degree  \n",
       "0           464.0       464.0  \n",
       "1            56.0        56.0  \n",
       "2           180.0       180.0  \n",
       "3           599.0       599.0  \n",
       "4            38.0        38.0  "
      ]
     },
     "execution_count": 247,
     "metadata": {},
     "output_type": "execute_result"
    }
   ],
   "source": [
    "test_triples_dis_df[\"dis_degree\"] = test_triples_dis_df.src_dis_degree + test_triples_dis_df.tgt_dis_degree\n",
    "test_triples_dis_df.head()"
   ]
  },
  {
   "cell_type": "code",
   "execution_count": 248,
   "id": "7a9e1033",
   "metadata": {
    "scrolled": true
   },
   "outputs": [
    {
     "data": {
      "text/plain": [
       "count    17063.000000\n",
       "mean       300.116451\n",
       "std        422.864546\n",
       "min          1.000000\n",
       "25%         46.000000\n",
       "50%        144.000000\n",
       "75%        377.000000\n",
       "max       2448.000000\n",
       "Name: dis_degree, dtype: float64"
      ]
     },
     "execution_count": 248,
     "metadata": {},
     "output_type": "execute_result"
    }
   ],
   "source": [
    "test_triples_dis_df.dis_degree.describe()"
   ]
  },
  {
   "cell_type": "code",
   "execution_count": 269,
   "id": "07b9366e",
   "metadata": {},
   "outputs": [
    {
     "data": {
      "text/plain": [
       "dict_keys([0, 1, 2, 3, 4, 5, 6, 7, 8, 9])"
      ]
     },
     "execution_count": 269,
     "metadata": {},
     "output_type": "execute_result"
    }
   ],
   "source": [
    "quantiles_map.keys()"
   ]
  },
  {
   "cell_type": "code",
   "execution_count": 270,
   "id": "bc6e3124",
   "metadata": {},
   "outputs": [
    {
     "data": {
      "text/html": [
       "<div>\n",
       "<style scoped>\n",
       "    .dataframe tbody tr th:only-of-type {\n",
       "        vertical-align: middle;\n",
       "    }\n",
       "\n",
       "    .dataframe tbody tr th {\n",
       "        vertical-align: top;\n",
       "    }\n",
       "\n",
       "    .dataframe thead th {\n",
       "        text-align: right;\n",
       "    }\n",
       "</style>\n",
       "<table border=\"1\" class=\"dataframe\">\n",
       "  <thead>\n",
       "    <tr style=\"text-align: right;\">\n",
       "      <th></th>\n",
       "      <th>src</th>\n",
       "      <th>rel</th>\n",
       "      <th>tgt</th>\n",
       "      <th>src_dis_degree</th>\n",
       "      <th>tgt_dis_degree</th>\n",
       "      <th>dis_degree</th>\n",
       "      <th>quantile</th>\n",
       "    </tr>\n",
       "  </thead>\n",
       "  <tbody>\n",
       "    <tr>\n",
       "      <th>0</th>\n",
       "      <td>A0A0G2K344</td>\n",
       "      <td>PROTEIN_DISEASE_ASSOCIATION</td>\n",
       "      <td>D000077192</td>\n",
       "      <td>0.0</td>\n",
       "      <td>464.0</td>\n",
       "      <td>464.0</td>\n",
       "      <td>7</td>\n",
       "    </tr>\n",
       "    <tr>\n",
       "      <th>1</th>\n",
       "      <td>A0A0G2K344</td>\n",
       "      <td>PROTEIN_DISEASE_ASSOCIATION</td>\n",
       "      <td>D000077274</td>\n",
       "      <td>0.0</td>\n",
       "      <td>56.0</td>\n",
       "      <td>56.0</td>\n",
       "      <td>2</td>\n",
       "    </tr>\n",
       "    <tr>\n",
       "      <th>2</th>\n",
       "      <td>A0A0G2K344</td>\n",
       "      <td>PROTEIN_DISEASE_ASSOCIATION</td>\n",
       "      <td>D009062</td>\n",
       "      <td>0.0</td>\n",
       "      <td>180.0</td>\n",
       "      <td>180.0</td>\n",
       "      <td>4</td>\n",
       "    </tr>\n",
       "  </tbody>\n",
       "</table>\n",
       "</div>"
      ],
      "text/plain": [
       "          src                          rel         tgt  src_dis_degree  \\\n",
       "0  A0A0G2K344  PROTEIN_DISEASE_ASSOCIATION  D000077192             0.0   \n",
       "1  A0A0G2K344  PROTEIN_DISEASE_ASSOCIATION  D000077274             0.0   \n",
       "2  A0A0G2K344  PROTEIN_DISEASE_ASSOCIATION     D009062             0.0   \n",
       "\n",
       "   tgt_dis_degree  dis_degree quantile  \n",
       "0           464.0       464.0        7  \n",
       "1            56.0        56.0        2  \n",
       "2           180.0       180.0        4  "
      ]
     },
     "execution_count": 270,
     "metadata": {},
     "output_type": "execute_result"
    }
   ],
   "source": [
    "quant = np.linspace(0,1,num=10, endpoint=True)\n",
    "quantiles = test_triples_dis_df[\"dis_degree\"].quantile(quant)\n",
    "quantiles_map = quantiles.reset_index()['dis_degree'].to_dict()\n",
    "    \n",
    "test_triples_dis_df[\"quantile\"] = pd.cut(test_triples_dis_df[\"dis_degree\"], quantiles, include_lowest=True, labels=list(quantiles_map.keys())[:-1])\n",
    "test_triples_dis_df[:3]"
   ]
  },
  {
   "cell_type": "markdown",
   "id": "2bb6f10c",
   "metadata": {},
   "source": [
    "# Now do the metric computation within above buckets"
   ]
  },
  {
   "cell_type": "code",
   "execution_count": null,
   "id": "0a64dae6",
   "metadata": {},
   "outputs": [],
   "source": []
  },
  {
   "cell_type": "code",
   "execution_count": 272,
   "id": "eff1e97c",
   "metadata": {},
   "outputs": [
    {
     "data": {
      "text/plain": [
       "(array([10561.,  3502.,  1593.,   398.,   151.,   169.,   289.,   196.,\n",
       "            0.,   204.]),\n",
       " array([1.0000e+00, 2.4570e+02, 4.9040e+02, 7.3510e+02, 9.7980e+02,\n",
       "        1.2245e+03, 1.4692e+03, 1.7139e+03, 1.9586e+03, 2.2033e+03,\n",
       "        2.4480e+03]),\n",
       " <BarContainer object of 10 artists>)"
      ]
     },
     "execution_count": 272,
     "metadata": {},
     "output_type": "execute_result"
    },
    {
     "data": {
      "image/png": "[encoded data removed]",
      "text/plain": [
       "<Figure size 640x480 with 1 Axes>"
      ]
     },
     "metadata": {},
     "output_type": "display_data"
    }
   ],
   "source": [
    "plt.hist(test_triples_dis_df.dis_degree)"
   ]
  },
  {
   "cell_type": "code",
   "execution_count": null,
   "id": "1a307568",
   "metadata": {},
   "outputs": [],
   "source": []
  },
  {
   "cell_type": "code",
   "execution_count": null,
   "id": "0067a251",
   "metadata": {},
   "outputs": [],
   "source": []
  },
  {
   "cell_type": "code",
   "execution_count": 19,
   "id": "c881f100",
   "metadata": {},
   "outputs": [
    {
     "data": {
      "text/plain": [
       "{'arithmetic_mean_rank': 1934.5975341796875,\n",
       " 'adjusted_arithmetic_mean_rank_index': 0.9633914932884773,\n",
       " 'count': 200.0,\n",
       " 'standard_deviation': 10299.529296875,\n",
       " 'adjusted_inverse_harmonic_mean_rank': 0.06330381254104638,\n",
       " 'median_rank': 60.0,\n",
       " 'adjusted_arithmetic_mean_rank': 0.03662674611016044,\n",
       " 'median_absolute_deviation': 71.9062075975217,\n",
       " 'inverse_arithmetic_mean_rank': 0.0005169033538550138,\n",
       " 'z_geometric_mean_rank': 14.173646424325877,\n",
       " 'inverse_geometric_mean_rank': 0.013784965500235558,\n",
       " 'adjusted_geometric_mean_rank_index': 0.9981636875870081,\n",
       " 'variance': 106080304.0,\n",
       " 'harmonic_mean_rank': 15.770009169366327,\n",
       " 'inverse_median_rank': 0.01666666753590107,\n",
       " 'inverse_harmonic_mean_rank': 0.06341150403022766,\n",
       " 'z_arithmetic_mean_rank': 23.597838915674995,\n",
       " 'z_inverse_harmonic_mean_rank': 226.94119254994823,\n",
       " 'geometric_mean_rank': 72.54280090332031,\n",
       " 'hits_at_1': 0.015,\n",
       " 'hits_at_3': 0.055,\n",
       " 'hits_at_5': 0.09,\n",
       " 'hits_at_10': 0.145,\n",
       " 'z_hits_at_k': 210.63324858471807,\n",
       " 'adjusted_hits_at_k': 0.1449190544008211}"
      ]
     },
     "execution_count": 19,
     "metadata": {},
     "output_type": "execute_result"
    }
   ],
   "source": [
    "TEST_TRIPLES = valid\n",
    "evaluator = RankBasedEvaluator()\n",
    "results_all_rels_valid = evaluator.evaluate(model, TEST_TRIPLES.mapped_triples,\n",
    "                                     additional_filter_triples = [train.mapped_triples])\n",
    "results_all_rels_valid.to_dict()['head']['realistic'].keys()\n",
    "valid_results_dict = results_all_rels_valid.to_dict()['both']['realistic'] \n",
    "valid_results_dict"
   ]
  },
  {
   "cell_type": "code",
   "execution_count": 20,
   "id": "44fe6a43",
   "metadata": {},
   "outputs": [
    {
     "data": {
      "text/plain": [
       "{'hits_at_1': 0.015,\n",
       " 'hits_at_3': 0.055,\n",
       " 'hits_at_5': 0.09,\n",
       " 'hits_at_10': 0.145}"
      ]
     },
     "execution_count": 20,
     "metadata": {},
     "output_type": "execute_result"
    }
   ],
   "source": [
    "{f'hits_at_{k}': results_all_rels_valid.to_dict()['both']['realistic'][f'hits_at_{k}'] for k in [1,3,5,10]}"
   ]
  },
  {
   "cell_type": "code",
   "execution_count": 22,
   "id": "406c1313",
   "metadata": {},
   "outputs": [],
   "source": [
    "def make_results_dict(results, relation, relation_count):\n",
    "    results = results.to_dict()\n",
    "    results_dict = {'Relation': 'All' if not relation else relation,\n",
    "                    'Count': relation_count,\n",
    "                    'adjusted_mean_rank': results['both']['realistic']['adjusted_arithmetic_mean_rank'],\n",
    "                    'mean_rank': results['both']['realistic']['arithmetic_mean_rank'],\n",
    "                    'mean_reciprocal_rank': results['both']['realistic']['inverse_arithmetic_mean_rank'],\n",
    "                    **{f'hits_at_{k}': results['both']['realistic'][f'hits_at_{k}'] for k in [1,3,5,10]}\n",
    "                   }\n",
    "\n",
    "    return results_dict"
   ]
  },
  {
   "cell_type": "code",
   "execution_count": 23,
   "id": "9e3b1c04",
   "metadata": {},
   "outputs": [
    {
     "data": {
      "text/plain": [
       "{'Relation': 'All',\n",
       " 'Count': 185226,\n",
       " 'adjusted_mean_rank': 0.03662674611016044,\n",
       " 'mean_rank': 1934.5975341796875,\n",
       " 'mean_reciprocal_rank': 0.0005169033538550138,\n",
       " 'hits_at_1': 0.015,\n",
       " 'hits_at_3': 0.055,\n",
       " 'hits_at_5': 0.09,\n",
       " 'hits_at_10': 0.145}"
      ]
     },
     "execution_count": 23,
     "metadata": {},
     "output_type": "execute_result"
    }
   ],
   "source": [
    "results_all_rels_dict = make_results_dict(results_all_rels, relation='All', relation_count=valid.num_triples)\n",
    "results_all_rels_dict\n",
    "#we again see a descripancy b/w valid and test set?"
   ]
  },
  {
   "cell_type": "code",
   "execution_count": null,
   "id": "0f6ed8f6",
   "metadata": {},
   "outputs": [],
   "source": []
  },
  {
   "cell_type": "markdown",
   "id": "90278cce",
   "metadata": {},
   "source": [
    "## Evaluating over specific. relation types"
   ]
  },
  {
   "cell_type": "code",
   "execution_count": null,
   "id": "f124549d",
   "metadata": {},
   "outputs": [],
   "source": [
    "#wandb.config.update({\"model\": \"bioblp-d\"})"
   ]
  },
  {
   "cell_type": "code",
   "execution_count": 184,
   "id": "dda81dd7",
   "metadata": {},
   "outputs": [
    {
     "name": "stderr",
     "output_type": "stream",
     "text": [
      "Evaluating over each relation: 100%|█████████████████████████████████████████████████████████████████████████████████████████████████████████████████████████████████████████| 17/17 [00:44<00:00,  2.61s/it]\n"
     ]
    }
   ],
   "source": [
    "TEST_TRIPLES = dummy #test #valid\n",
    "\n",
    "result_dicts = []\n",
    "for relation in tqdm(train.relation_to_id, desc='Evaluating over each relation'):\n",
    "    triples_subset = TEST_TRIPLES.new_with_restriction(relations=[relation])\n",
    "    if triples_subset.num_triples > 0:\n",
    "        subset_result = evaluator.evaluate(model,\n",
    "                                           triples_subset.mapped_triples, \n",
    "                                           additional_filter_triples=[train.mapped_triples],\n",
    "                                           use_tqdm=False)\n",
    "        result_dicts.append({'results': subset_result, 'relation': relation, 'count': triples_subset.num_triples})"
   ]
  },
  {
   "cell_type": "code",
   "execution_count": 185,
   "id": "687191cb",
   "metadata": {},
   "outputs": [
    {
     "data": {
      "text/html": [
       "<div>\n",
       "<style scoped>\n",
       "    .dataframe tbody tr th:only-of-type {\n",
       "        vertical-align: middle;\n",
       "    }\n",
       "\n",
       "    .dataframe tbody tr th {\n",
       "        vertical-align: top;\n",
       "    }\n",
       "\n",
       "    .dataframe thead th {\n",
       "        text-align: right;\n",
       "    }\n",
       "</style>\n",
       "<table border=\"1\" class=\"dataframe\">\n",
       "  <thead>\n",
       "    <tr style=\"text-align: right;\">\n",
       "      <th></th>\n",
       "      <th>Relation</th>\n",
       "      <th>Count</th>\n",
       "      <th>adjusted_mean_rank</th>\n",
       "      <th>mean_rank</th>\n",
       "      <th>mean_reciprocal_rank</th>\n",
       "      <th>hits_at_1</th>\n",
       "      <th>hits_at_3</th>\n",
       "      <th>hits_at_5</th>\n",
       "      <th>hits_at_10</th>\n",
       "    </tr>\n",
       "  </thead>\n",
       "  <tbody>\n",
       "    <tr>\n",
       "      <th>0</th>\n",
       "      <td>DDI</td>\n",
       "      <td>74</td>\n",
       "      <td>0.001472</td>\n",
       "      <td>77.662163</td>\n",
       "      <td>0.012876</td>\n",
       "      <td>0.006757</td>\n",
       "      <td>0.040541</td>\n",
       "      <td>0.067568</td>\n",
       "      <td>0.114865</td>\n",
       "    </tr>\n",
       "    <tr>\n",
       "      <th>1</th>\n",
       "      <td>DRUG_DISEASE_ASSOCIATION</td>\n",
       "      <td>5</td>\n",
       "      <td>0.009848</td>\n",
       "      <td>521.500000</td>\n",
       "      <td>0.001918</td>\n",
       "      <td>0.000000</td>\n",
       "      <td>0.000000</td>\n",
       "      <td>0.000000</td>\n",
       "      <td>0.000000</td>\n",
       "    </tr>\n",
       "    <tr>\n",
       "      <th>2</th>\n",
       "      <td>MEMBER_OF_COMPLEX</td>\n",
       "      <td>2</td>\n",
       "      <td>0.006073</td>\n",
       "      <td>321.750000</td>\n",
       "      <td>0.003108</td>\n",
       "      <td>0.250000</td>\n",
       "      <td>0.500000</td>\n",
       "      <td>0.500000</td>\n",
       "      <td>0.750000</td>\n",
       "    </tr>\n",
       "    <tr>\n",
       "      <th>3</th>\n",
       "      <td>PPI</td>\n",
       "      <td>3</td>\n",
       "      <td>0.853427</td>\n",
       "      <td>45246.417969</td>\n",
       "      <td>0.000022</td>\n",
       "      <td>0.000000</td>\n",
       "      <td>0.000000</td>\n",
       "      <td>0.000000</td>\n",
       "      <td>0.000000</td>\n",
       "    </tr>\n",
       "    <tr>\n",
       "      <th>4</th>\n",
       "      <td>PROTEIN_DISEASE_ASSOCIATION</td>\n",
       "      <td>5</td>\n",
       "      <td>0.065811</td>\n",
       "      <td>3480.699951</td>\n",
       "      <td>0.000287</td>\n",
       "      <td>0.000000</td>\n",
       "      <td>0.000000</td>\n",
       "      <td>0.000000</td>\n",
       "      <td>0.100000</td>\n",
       "    </tr>\n",
       "    <tr>\n",
       "      <th>5</th>\n",
       "      <td>PROTEIN_PATHWAY_ASSOCIATION</td>\n",
       "      <td>11</td>\n",
       "      <td>0.053725</td>\n",
       "      <td>2847.181885</td>\n",
       "      <td>0.000351</td>\n",
       "      <td>0.045455</td>\n",
       "      <td>0.136364</td>\n",
       "      <td>0.272727</td>\n",
       "      <td>0.363636</td>\n",
       "    </tr>\n",
       "  </tbody>\n",
       "</table>\n",
       "</div>"
      ],
      "text/plain": [
       "                      Relation  Count  adjusted_mean_rank     mean_rank  \\\n",
       "0                          DDI     74            0.001472     77.662163   \n",
       "1     DRUG_DISEASE_ASSOCIATION      5            0.009848    521.500000   \n",
       "2            MEMBER_OF_COMPLEX      2            0.006073    321.750000   \n",
       "3                          PPI      3            0.853427  45246.417969   \n",
       "4  PROTEIN_DISEASE_ASSOCIATION      5            0.065811   3480.699951   \n",
       "5  PROTEIN_PATHWAY_ASSOCIATION     11            0.053725   2847.181885   \n",
       "\n",
       "   mean_reciprocal_rank  hits_at_1  hits_at_3  hits_at_5  hits_at_10  \n",
       "0              0.012876   0.006757   0.040541   0.067568    0.114865  \n",
       "1              0.001918   0.000000   0.000000   0.000000    0.000000  \n",
       "2              0.003108   0.250000   0.500000   0.500000    0.750000  \n",
       "3              0.000022   0.000000   0.000000   0.000000    0.000000  \n",
       "4              0.000287   0.000000   0.000000   0.000000    0.100000  \n",
       "5              0.000351   0.045455   0.136364   0.272727    0.363636  "
      ]
     },
     "execution_count": 185,
     "metadata": {},
     "output_type": "execute_result"
    }
   ],
   "source": [
    "results_df = pd.DataFrame([make_results_dict(d['results'], d['relation'], d['count']) for d in result_dicts])\n",
    "results_df"
   ]
  },
  {
   "cell_type": "code",
   "execution_count": null,
   "id": "1ffd86f4",
   "metadata": {},
   "outputs": [],
   "source": [
    "results_df.to_csv('metrics/bioblp-d/results_val_by_rel.csv', index=None)"
   ]
  },
  {
   "cell_type": "code",
   "execution_count": null,
   "id": "6b4f4985",
   "metadata": {},
   "outputs": [],
   "source": [
    "%%wandb\n",
    "metric_cols = list(results_df.columns)\n",
    "metric_cols=[x for x in metric_cols if x != 'Relation']\n",
    "\n",
    "for metric in metric_cols:\n",
    "    rel_metric_dict = dict(zip(results_df.Relation, results_df[metric]))\n",
    "    data = [[rel, val] for (rel, val) in rel_metric_dict.items()]\n",
    "    table = wandb.Table(data=data, columns = [\"relation\", \"value\"])\n",
    "    wandb.log({f\"bar_chart_{metric}\" : wandb.plot.bar(table, \"relation\",\n",
    "                               \"value\", title=f\"{metric} by relation\")})"
   ]
  },
  {
   "cell_type": "code",
   "execution_count": 27,
   "id": "9dea84c4",
   "metadata": {
    "scrolled": true
   },
   "outputs": [
    {
     "data": {
      "text/plain": [
       "{'DDI': {'Count': 74.0,\n",
       "  'adjusted_mean_rank': 0.0014717960510629911,\n",
       "  'mean_rank': 77.66216278076172,\n",
       "  'mean_reciprocal_rank': 0.012876283377408981,\n",
       "  'hits_at_1': 0.006756756756756757,\n",
       "  'hits_at_3': 0.04054054054054054,\n",
       "  'hits_at_5': 0.06756756756756757,\n",
       "  'hits_at_10': 0.11486486486486487},\n",
       " 'DRUG_DISEASE_ASSOCIATION': {'Count': 5.0,\n",
       "  'adjusted_mean_rank': 0.009848318892909212,\n",
       "  'mean_rank': 521.5,\n",
       "  'mean_reciprocal_rank': 0.001917545567266643,\n",
       "  'hits_at_1': 0.0,\n",
       "  'hits_at_3': 0.0,\n",
       "  'hits_at_5': 0.0,\n",
       "  'hits_at_10': 0.0},\n",
       " 'MEMBER_OF_COMPLEX': {'Count': 2.0,\n",
       "  'adjusted_mean_rank': 0.006072802855680099,\n",
       "  'mean_rank': 321.75,\n",
       "  'mean_reciprocal_rank': 0.0031080031767487526,\n",
       "  'hits_at_1': 0.25,\n",
       "  'hits_at_3': 0.5,\n",
       "  'hits_at_5': 0.5,\n",
       "  'hits_at_10': 0.75},\n",
       " 'PPI': {'Count': 3.0,\n",
       "  'adjusted_mean_rank': 0.8534268912446872,\n",
       "  'mean_rank': 45246.41796875,\n",
       "  'mean_reciprocal_rank': 2.2101197828305885e-05,\n",
       "  'hits_at_1': 0.0,\n",
       "  'hits_at_3': 0.0,\n",
       "  'hits_at_5': 0.0,\n",
       "  'hits_at_10': 0.0},\n",
       " 'PROTEIN_DISEASE_ASSOCIATION': {'Count': 5.0,\n",
       "  'adjusted_mean_rank': 0.06581129100649992,\n",
       "  'mean_rank': 3480.699951171875,\n",
       "  'mean_reciprocal_rank': 0.0002872985496651381,\n",
       "  'hits_at_1': 0.0,\n",
       "  'hits_at_3': 0.0,\n",
       "  'hits_at_5': 0.0,\n",
       "  'hits_at_10': 0.1},\n",
       " 'PROTEIN_PATHWAY_ASSOCIATION': {'Count': 11.0,\n",
       "  'adjusted_mean_rank': 0.053725481361744036,\n",
       "  'mean_rank': 2847.181884765625,\n",
       "  'mean_reciprocal_rank': 0.0003512245020829141,\n",
       "  'hits_at_1': 0.045454545454545456,\n",
       "  'hits_at_3': 0.13636363636363635,\n",
       "  'hits_at_5': 0.2727272727272727,\n",
       "  'hits_at_10': 0.36363636363636365}}"
      ]
     },
     "execution_count": 27,
     "metadata": {},
     "output_type": "execute_result"
    }
   ],
   "source": [
    "rel_results_dict = results_df.set_index('Relation').transpose().to_dict()\n",
    "rel_results_dict"
   ]
  },
  {
   "cell_type": "code",
   "execution_count": 28,
   "id": "3f4755d6",
   "metadata": {},
   "outputs": [
    {
     "data": {
      "text/plain": [
       "adjusted_mean_rank         0.165059\n",
       "mean_rank               8749.201995\n",
       "mean_reciprocal_rank       0.003094\n",
       "hits_at_1                  0.050369\n",
       "hits_at_3                  0.112817\n",
       "hits_at_5                  0.140049\n",
       "hits_at_10                 0.221417\n",
       "dtype: float64"
      ]
     },
     "execution_count": 28,
     "metadata": {},
     "output_type": "execute_result"
    }
   ],
   "source": [
    "restricted_rels_macro_performance = results_df[results_df.columns[2:]].mean(axis=0)\n",
    "restricted_rels_macro_performance"
   ]
  },
  {
   "cell_type": "markdown",
   "id": "42534215",
   "metadata": {},
   "source": [
    "Note that this is **not** the same as the original, unrestricted evaluation. When restricting by relation, the average above is a *macro-average*, where all relations are weighted equally. In the unrestricted scenario, we average over all triples, which is a *micro-average* where more frequent relations are weighted higher:"
   ]
  },
  {
   "cell_type": "code",
   "execution_count": 29,
   "id": "3b543965",
   "metadata": {},
   "outputs": [
    {
     "data": {
      "text/plain": [
       "{'Relation': 'All',\n",
       " 'Count': 185226,\n",
       " 'adjusted_mean_rank': 0.03662674611016044,\n",
       " 'mean_rank': 1934.5975341796875,\n",
       " 'mean_reciprocal_rank': 0.0005169033538550138,\n",
       " 'hits_at_1': 0.015,\n",
       " 'hits_at_3': 0.055,\n",
       " 'hits_at_5': 0.09,\n",
       " 'hits_at_10': 0.145}"
      ]
     },
     "execution_count": 29,
     "metadata": {},
     "output_type": "execute_result"
    }
   ],
   "source": [
    "results_all_rels_dict"
   ]
  },
  {
   "cell_type": "markdown",
   "id": "f597dcac",
   "metadata": {},
   "source": [
    "Since we have the triple counts for each relation, we can compute a micro-average instead:"
   ]
  },
  {
   "cell_type": "code",
   "execution_count": 31,
   "id": "ba359261",
   "metadata": {},
   "outputs": [
    {
     "data": {
      "text/plain": [
       "adjusted_mean_rank         0.036506\n",
       "mean_rank               1934.597544\n",
       "mean_reciprocal_rank       0.009740\n",
       "hits_at_1                  0.015000\n",
       "hits_at_3                  0.055000\n",
       "hits_at_5                  0.090000\n",
       "hits_at_10                 0.145000\n",
       "dtype: float64"
      ]
     },
     "execution_count": 31,
     "metadata": {},
     "output_type": "execute_result"
    }
   ],
   "source": [
    "restricted_rels_micro_performance = results_df[results_df.columns[2:]].mul(results_df['Count'], axis=0).sum(axis=0) / results_df['Count'].sum()\n",
    "restricted_rels_micro_performance"
   ]
  },
  {
   "cell_type": "markdown",
   "id": "6d313e57",
   "metadata": {},
   "source": [
    "## "
   ]
  },
  {
   "cell_type": "code",
   "execution_count": null,
   "id": "1a48614b",
   "metadata": {},
   "outputs": [],
   "source": []
  },
  {
   "cell_type": "code",
   "execution_count": null,
   "id": "5f620854",
   "metadata": {},
   "outputs": [],
   "source": []
  },
  {
   "cell_type": "code",
   "execution_count": null,
   "id": "0f9c86d8",
   "metadata": {},
   "outputs": [],
   "source": []
  },
  {
   "cell_type": "markdown",
   "id": "63198df8",
   "metadata": {},
   "source": [
    "### previous stuff"
   ]
  },
  {
   "cell_type": "markdown",
   "id": "053e72dd",
   "metadata": {},
   "source": [
    "How do MRR, H@k, and AMR correlate?"
   ]
  },
  {
   "cell_type": "code",
   "execution_count": 32,
   "id": "b6b9ace4",
   "metadata": {
    "scrolled": true
   },
   "outputs": [
    {
     "data": {
      "image/png": "[encoded data removed]",
      "text/plain": [
       "<Figure size 640x480 with 1 Axes>"
      ]
     },
     "metadata": {},
     "output_type": "display_data"
    },
    {
     "data": {
      "image/png": "[encoded data removed]",
      "text/plain": [
       "<Figure size 640x480 with 1 Axes>"
      ]
     },
     "metadata": {},
     "output_type": "display_data"
    },
    {
     "data": {
      "image/png": "[encoded data removed]",
      "text/plain": [
       "<Figure size 640x480 with 1 Axes>"
      ]
     },
     "metadata": {},
     "output_type": "display_data"
    }
   ],
   "source": [
    "def plot_metric_pair(results_df, metric_1: str, metric_2: str):\n",
    "    \"\"\"Make a scatter plot with one link prediction metric in each axis.\"\"\"\n",
    "    plt.figure()\n",
    "    plt.scatter(results_df[metric_1], results_df[metric_2])\n",
    "    plt.xlabel(metric_1)\n",
    "    plt.ylabel(metric_2)\n",
    "\n",
    "plot_metric_pair(results_df, 'mean_reciprocal_rank', 'hits_at_10')\n",
    "plot_metric_pair(results_df, 'mean_reciprocal_rank', 'adjusted_mean_rank')\n",
    "plot_metric_pair(results_df, 'mean_reciprocal_rank', 'Count')"
   ]
  },
  {
   "cell_type": "markdown",
   "id": "6ac527f4",
   "metadata": {},
   "source": [
    "What are the relations where the model performs better?"
   ]
  },
  {
   "cell_type": "code",
   "execution_count": 33,
   "id": "4b8557e9",
   "metadata": {},
   "outputs": [],
   "source": [
    "def per_relation_plot(results_df, metric: str):\n",
    "    \"\"\"Make a bar plot of link prediction performance for each relation.\"\"\"\n",
    "    results_df[['Relation', metric]].sort_values(by=metric).plot.barh(x='Relation', figsize=(5, 5), grid=True)"
   ]
  },
  {
   "cell_type": "code",
   "execution_count": 34,
   "id": "1cce58c5",
   "metadata": {},
   "outputs": [
    {
     "data": {
      "image/png": "[encoded data removed]",
      "text/plain": [
       "<Figure size 500x500 with 1 Axes>"
      ]
     },
     "metadata": {},
     "output_type": "display_data"
    }
   ],
   "source": [
    "per_relation_plot(results_df, 'hits_at_10')"
   ]
  },
  {
   "cell_type": "markdown",
   "id": "b3ae4a93",
   "metadata": {},
   "source": [
    "### Evaluating over specific entity and relation types\n",
    "The source csv files contain the triples, plus extra information like the types of the entities involved in the triple. We will extract the type information."
   ]
  },
  {
   "cell_type": "markdown",
   "id": "4fed3fd4",
   "metadata": {},
   "source": [
    "We can see that restricting predictions over the correct domain and range of a relation only slightly increases the results."
   ]
  },
  {
   "cell_type": "code",
   "execution_count": null,
   "id": "f6876a04",
   "metadata": {},
   "outputs": [],
   "source": [
    "can you do an. analysis on degree....\n",
    "compare rotate to this"
   ]
  },
  {
   "cell_type": "code",
   "execution_count": null,
   "id": "db162b68",
   "metadata": {},
   "outputs": [],
   "source": []
  }
 ],
 "metadata": {
  "kernelspec": {
   "display_name": "Python(BioBLP)",
   "language": "python",
   "name": "bioblp"
  },
  "language_info": {
   "codemirror_mode": {
    "name": "ipython",
    "version": 3
   },
   "file_extension": ".py",
   "mimetype": "text/x-python",
   "name": "python",
   "nbconvert_exporter": "python",
   "pygments_lexer": "ipython3",
   "version": "3.8.6"
  }
 },
 "nbformat": 4,
 "nbformat_minor": 5
}
