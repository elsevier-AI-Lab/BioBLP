{
 "cells": [
  {
   "cell_type": "markdown",
   "source": [
    "# Visualizing hyperparameter optimization results\n",
    "\n",
    "In this notebook we load a CSV file containing all the hyperparmeter trials that we ran on BioKG for TransE, ComplEx, and RotatE. The goal is to generate box plots that aggregate performance over different hyperparameters."
   ],
   "metadata": {
    "collapsed": false
   }
  },
  {
   "cell_type": "code",
   "execution_count": 54,
   "outputs": [],
   "source": [
    "from collections import OrderedDict\n",
    "import os.path as osp\n",
    "\n",
    "import matplotlib.pyplot as plt\n",
    "import pandas as pd"
   ],
   "metadata": {
    "collapsed": false,
    "ExecuteTime": {
     "start_time": "2023-04-17T14:29:30.655971Z",
     "end_time": "2023-04-17T14:29:30.666157Z"
    }
   }
  },
  {
   "cell_type": "code",
   "execution_count": 55,
   "outputs": [],
   "source": [
    "file = 'wandb_export_2023-04-17T13_46_36.739+02_00.csv'\n",
    "file_base_name = osp.splitext(file)[0]\n",
    "hparam_results = pd.read_csv(osp.join('..', 'data', 'wandb-data', file))"
   ],
   "metadata": {
    "collapsed": false,
    "ExecuteTime": {
     "start_time": "2023-04-17T14:29:30.686057Z",
     "end_time": "2023-04-17T14:29:30.733849Z"
    }
   }
  },
  {
   "cell_type": "code",
   "execution_count": 3,
   "outputs": [
    {
     "data": {
      "text/plain": "                  Name cli_model  both.realistic.inverse_harmonic_mean_rank  \\\n0       jolly-sweep-14    rotate                                   0.558607   \n1      golden-sweep-12    rotate                                   0.556687   \n2       major-sweep-21    rotate                                   0.545702   \n3    sparkling-sweep-8    rotate                                   0.541366   \n4     radiant-sweep-27    rotate                                   0.534158   \n..                 ...       ...                                        ...   \n140    vibrant-sweep-5   complex                                   0.000386   \n141   vibrant-sweep-14   complex                                   0.000086   \n142      crisp-sweep-7   complex                                   0.000075   \n143     worthy-sweep-2   complex                                   0.000067   \n144   graceful-sweep-6   complex                                   0.000072   \n\n     both.realistic.hits_at_1  both.realistic.hits_at_3  \\\n0                    0.456713                  0.620239   \n1                    0.455096                  0.618320   \n2                    0.432796                  0.618303   \n3                    0.444360                  0.595575   \n4                    0.409398                  0.618671   \n..                        ...                       ...   \n140                  0.000192                  0.000354   \n141                  0.000011                  0.000019   \n142                  0.000005                  0.000013   \n143                  0.000000                  0.000011   \n144                  0.000003                  0.000019   \n\n     both.realistic.hits_at_10  \n0                     0.747777  \n1                     0.745380  \n2                     0.748789  \n3                     0.726160  \n4                     0.753602  \n..                         ...  \n140                   0.000513  \n141                   0.000057  \n142                   0.000049  \n143                   0.000016  \n144                   0.000046  \n\n[145 rows x 6 columns]",
      "text/html": "<div>\n<style scoped>\n    .dataframe tbody tr th:only-of-type {\n        vertical-align: middle;\n    }\n\n    .dataframe tbody tr th {\n        vertical-align: top;\n    }\n\n    .dataframe thead th {\n        text-align: right;\n    }\n</style>\n<table border=\"1\" class=\"dataframe\">\n  <thead>\n    <tr style=\"text-align: right;\">\n      <th></th>\n      <th>Name</th>\n      <th>cli_model</th>\n      <th>both.realistic.inverse_harmonic_mean_rank</th>\n      <th>both.realistic.hits_at_1</th>\n      <th>both.realistic.hits_at_3</th>\n      <th>both.realistic.hits_at_10</th>\n    </tr>\n  </thead>\n  <tbody>\n    <tr>\n      <th>0</th>\n      <td>jolly-sweep-14</td>\n      <td>rotate</td>\n      <td>0.558607</td>\n      <td>0.456713</td>\n      <td>0.620239</td>\n      <td>0.747777</td>\n    </tr>\n    <tr>\n      <th>1</th>\n      <td>golden-sweep-12</td>\n      <td>rotate</td>\n      <td>0.556687</td>\n      <td>0.455096</td>\n      <td>0.618320</td>\n      <td>0.745380</td>\n    </tr>\n    <tr>\n      <th>2</th>\n      <td>major-sweep-21</td>\n      <td>rotate</td>\n      <td>0.545702</td>\n      <td>0.432796</td>\n      <td>0.618303</td>\n      <td>0.748789</td>\n    </tr>\n    <tr>\n      <th>3</th>\n      <td>sparkling-sweep-8</td>\n      <td>rotate</td>\n      <td>0.541366</td>\n      <td>0.444360</td>\n      <td>0.595575</td>\n      <td>0.726160</td>\n    </tr>\n    <tr>\n      <th>4</th>\n      <td>radiant-sweep-27</td>\n      <td>rotate</td>\n      <td>0.534158</td>\n      <td>0.409398</td>\n      <td>0.618671</td>\n      <td>0.753602</td>\n    </tr>\n    <tr>\n      <th>...</th>\n      <td>...</td>\n      <td>...</td>\n      <td>...</td>\n      <td>...</td>\n      <td>...</td>\n      <td>...</td>\n    </tr>\n    <tr>\n      <th>140</th>\n      <td>vibrant-sweep-5</td>\n      <td>complex</td>\n      <td>0.000386</td>\n      <td>0.000192</td>\n      <td>0.000354</td>\n      <td>0.000513</td>\n    </tr>\n    <tr>\n      <th>141</th>\n      <td>vibrant-sweep-14</td>\n      <td>complex</td>\n      <td>0.000086</td>\n      <td>0.000011</td>\n      <td>0.000019</td>\n      <td>0.000057</td>\n    </tr>\n    <tr>\n      <th>142</th>\n      <td>crisp-sweep-7</td>\n      <td>complex</td>\n      <td>0.000075</td>\n      <td>0.000005</td>\n      <td>0.000013</td>\n      <td>0.000049</td>\n    </tr>\n    <tr>\n      <th>143</th>\n      <td>worthy-sweep-2</td>\n      <td>complex</td>\n      <td>0.000067</td>\n      <td>0.000000</td>\n      <td>0.000011</td>\n      <td>0.000016</td>\n    </tr>\n    <tr>\n      <th>144</th>\n      <td>graceful-sweep-6</td>\n      <td>complex</td>\n      <td>0.000072</td>\n      <td>0.000003</td>\n      <td>0.000019</td>\n      <td>0.000046</td>\n    </tr>\n  </tbody>\n</table>\n<p>145 rows × 6 columns</p>\n</div>"
     },
     "execution_count": 3,
     "metadata": {},
     "output_type": "execute_result"
    }
   ],
   "source": [
    "hparam_results"
   ],
   "metadata": {
    "collapsed": false,
    "ExecuteTime": {
     "start_time": "2023-04-17T14:03:02.712340Z",
     "end_time": "2023-04-17T14:03:02.748186Z"
    }
   }
  },
  {
   "cell_type": "code",
   "execution_count": 32,
   "outputs": [],
   "source": [
    "# Configure matplotlib fonts to use Helvetica Neue\n",
    "plt.rcParams['font.family'] = 'sans-serif'\n",
    "plt.rcParams['font.sans-serif'] = 'Helvetica Neue'"
   ],
   "metadata": {
    "collapsed": false,
    "ExecuteTime": {
     "start_time": "2023-04-17T14:19:25.762950Z",
     "end_time": "2023-04-17T14:19:25.805801Z"
    }
   }
  },
  {
   "cell_type": "code",
   "execution_count": 33,
   "outputs": [],
   "source": [
    "def get_results_for_model(model_name):\n",
    "    return hparam_results[hparam_results['cli_model'] == model_name]\n",
    "\n",
    "transe_results = get_results_for_model('transe')\n",
    "complex_results = get_results_for_model('complex')\n",
    "rotate_results = get_results_for_model('rotate')\n",
    "\n",
    "model_results = OrderedDict([\n",
    "    ('TransE', transe_results),\n",
    "    ('ComplEx', complex_results),\n",
    "    ('RotatE', rotate_results)\n",
    "])"
   ],
   "metadata": {
    "collapsed": false,
    "ExecuteTime": {
     "start_time": "2023-04-17T14:19:26.824994Z",
     "end_time": "2023-04-17T14:19:26.842463Z"
    }
   }
  },
  {
   "cell_type": "code",
   "execution_count": 72,
   "outputs": [
    {
     "data": {
      "text/plain": "<Figure size 300x300 with 1 Axes>",
      "image/png": "[encoded data removed]"
     },
     "metadata": {},
     "output_type": "display_data"
    }
   ],
   "source": [
    "def plot_results(model_results, metric, metric_label):\n",
    "    fig, ax = plt.subplots(figsize=(3, 3))\n",
    "    ax.set_ylabel(metric_label)\n",
    "    # Plot boxplots, filled with different colors for each model\n",
    "    bplot = ax.boxplot([model_results[model][metric] for model in model_results.keys()], labels=model_results.keys(), patch_artist=True)\n",
    "    for patch, color in zip(bplot['boxes'], ['#5ba5d9', '#ffa555', '#68cb68']):\n",
    "        # Set alpha to 0.5 to make the boxes transparent\n",
    "        patch.set_facecolor(color)\n",
    "    ax.set_xticklabels(model_results.keys())\n",
    "    # Add a grid\n",
    "    ax.yaxis.grid(True)\n",
    "    ax.set_ylim(-0.05, 0.8)\n",
    "    plt.show()\n",
    "    fig.savefig(f'{file_base_name}_{metric}.pdf', bbox_inches='tight')\n",
    "\n",
    "plot_results(model_results, 'both.realistic.inverse_harmonic_mean_rank', 'MRR')"
   ],
   "metadata": {
    "collapsed": false,
    "ExecuteTime": {
     "start_time": "2023-04-17T14:32:04.711123Z",
     "end_time": "2023-04-17T14:32:04.962290Z"
    }
   }
  },
  {
   "cell_type": "code",
   "execution_count": 73,
   "outputs": [
    {
     "data": {
      "text/plain": "<Figure size 300x300 with 1 Axes>",
      "image/png": "[encoded data removed]"
     },
     "metadata": {},
     "output_type": "display_data"
    }
   ],
   "source": [
    "plot_results(model_results, 'both.realistic.hits_at_10', 'H@10')"
   ],
   "metadata": {
    "collapsed": false,
    "ExecuteTime": {
     "start_time": "2023-04-17T14:32:05.656839Z",
     "end_time": "2023-04-17T14:32:05.817776Z"
    }
   }
  }
 ],
 "metadata": {
  "kernelspec": {
   "display_name": "Python 3",
   "language": "python",
   "name": "python3"
  },
  "language_info": {
   "codemirror_mode": {
    "name": "ipython",
    "version": 2
   },
   "file_extension": ".py",
   "mimetype": "text/x-python",
   "name": "python",
   "nbconvert_exporter": "python",
   "pygments_lexer": "ipython2",
   "version": "2.7.6"
  }
 },
 "nbformat": 4,
 "nbformat_minor": 0
}
