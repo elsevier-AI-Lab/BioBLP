{
 "cells": [
  {
   "cell_type": "code",
   "execution_count": 1,
   "id": "201e754f",
   "metadata": {},
   "outputs": [],
   "source": [
    "%load_ext autoreload\n",
    "%autoreload 2"
   ]
  },
  {
   "cell_type": "code",
   "execution_count": 2,
   "id": "54fe714d",
   "metadata": {},
   "outputs": [
    {
     "name": "stderr",
     "output_type": "stream",
     "text": [
      "/home/jovyan/.conda/envs/bioblp-env/lib/python3.8/site-packages/tqdm/auto.py:22: TqdmWarning: IProgress not found. Please update jupyter and ipywidgets. See https://ipywidgets.readthedocs.io/en/stable/user_install.html\n",
      "  from .autonotebook import tqdm as notebook_tqdm\n"
     ]
    }
   ],
   "source": [
    "import os.path as osp\n",
    "from pathlib import Path\n",
    "import matplotlib.pyplot as plt\n",
    "import pandas as pd\n",
    "from pykeen.evaluation import RankBasedEvaluator\n",
    "from pykeen.triples import TriplesFactory\n",
    "import time\n",
    "import torch\n",
    "from tqdm import tqdm\n",
    "import json\n",
    "import numpy as np\n",
    "from typing import List\n",
    "from typing import List, Union\n"
   ]
  },
  {
   "cell_type": "code",
   "execution_count": 3,
   "id": "6c970164",
   "metadata": {},
   "outputs": [],
   "source": [
    "from nb_utils.eval_utils import TEST, VALID, TRAIN, TEST_EXCLUDING_DIS, TEST_RESTRICTED_DIS\n",
    "from nb_utils.eval_utils import COL_SOURCE, COL_TARGET, COL_EDGE, COL_NODE, DEGREE, IN_DEGREE, OUT_DEGREE\n",
    "from nb_utils.eval_utils import obtain_filtered_triples, split_test_triples_conditioned_on_ent_property, split_train_ents_by_existance_of_properties\n",
    "from nb_utils.eval_utils import setup_wandb_result_tracker, run_experiment_and_log_wandb\n",
    "from nb_utils.eval_utils import make_results_dict_all_rel, make_results_dict_rel_breakdown"
   ]
  },
  {
   "cell_type": "markdown",
   "id": "47c7032b",
   "metadata": {},
   "source": [
    "Change this cell to generate a report for other datasets/models:"
   ]
  },
  {
   "cell_type": "code",
   "execution_count": 4,
   "id": "b66ba8bb",
   "metadata": {},
   "outputs": [],
   "source": [
    "SHARED_DATA_DIR = Path(\"/home/jovyan/workbench-shared-folder/bioblp\")\n",
    "PROJ_DATA_DIR = Path(\"../data/\")"
   ]
  },
  {
   "cell_type": "code",
   "execution_count": 5,
   "id": "8fed408b",
   "metadata": {},
   "outputs": [],
   "source": [
    "# model registry\n",
    "ROTATE = \"rotate\"\n",
    "BIOBLP_D = \"bioblp_d\"\n",
    "\n",
    "MODEL_ID_rotate = 'rotate-otxtubeb' \n",
    "MODEL_ID_bioblpd = 'bioblpd-38uz9fjs'\n",
    "\n",
    "MODELS = {\n",
    "    ROTATE: MODEL_ID_rotate,\n",
    "    BIOBLP_D: MODEL_ID_bioblpd\n",
    "}"
   ]
  },
  {
   "cell_type": "code",
   "execution_count": 6,
   "id": "71bef9d3",
   "metadata": {},
   "outputs": [
    {
     "data": {
      "text/plain": [
       "{'rotate-otxtubeb': PosixPath('/home/jovyan/workbench-shared-folder/bioblp/models/rotate-otxtubeb'),\n",
       " 'bioblpd-38uz9fjs': PosixPath('/home/jovyan/workbench-shared-folder/bioblp/models/bioblpd-38uz9fjs')}"
      ]
     },
     "execution_count": 6,
     "metadata": {},
     "output_type": "execute_result"
    }
   ],
   "source": [
    "model_registry_basedir = SHARED_DATA_DIR.joinpath(f\"models\")\n",
    "model_registry_paths = {v: model_registry_basedir.joinpath(f\"{v}\") for v in MODELS.values()}\n",
    "model_registry_paths"
   ]
  },
  {
   "cell_type": "markdown",
   "id": "4adf58c2",
   "metadata": {},
   "source": [
    "##  Loading model and data\n",
    "\n",
    "make a keyword based switching statement b/w rotate and bioblp-d"
   ]
  },
  {
   "cell_type": "code",
   "execution_count": 7,
   "id": "799489c3",
   "metadata": {},
   "outputs": [],
   "source": [
    "def load_kge_model(model_base_path):\n",
    "    model_path = model_base_path.joinpath(\"trained_model.pkl\")\n",
    "    device = torch.device('cuda' if torch.cuda.is_available() else 'cpu')\n",
    "    model = torch.load(model_path, map_location=torch.device(device))\n",
    "    #train = TriplesFactory.from_path_binary(model_base_path.joinpath(\"training_triples\"))\n",
    "    return model\n",
    "    "
   ]
  },
  {
   "cell_type": "code",
   "execution_count": 8,
   "id": "790a675e",
   "metadata": {},
   "outputs": [],
   "source": [
    "# load rotate, or bioblp-d\n",
    "MODEL_ID = MODELS.get(ROTATE)    \n",
    "model = load_kge_model(model_base_path = model_registry_paths[MODEL_ID])\n",
    "train = TriplesFactory.from_path_binary(model_registry_paths[MODEL_ID].joinpath(\"training_triples\"))"
   ]
  },
  {
   "cell_type": "code",
   "execution_count": 9,
   "id": "e2add045",
   "metadata": {},
   "outputs": [],
   "source": [
    "graph_path = PROJ_DATA_DIR.joinpath('biokgb/graph')\n",
    "valid_triples = 'biokg.links-valid.csv'\n",
    "test_triples = 'biokg.links-test.csv'\n",
    "dummy_triples = 'biokg.links-dummy.csv'"
   ]
  },
  {
   "cell_type": "markdown",
   "id": "a55b1bf0",
   "metadata": {},
   "source": [
    "creating a dummy set of triples for unit testing purposes"
   ]
  },
  {
   "cell_type": "code",
   "execution_count": 10,
   "id": "7ae486ad",
   "metadata": {},
   "outputs": [],
   "source": [
    "DUMMY = 'dummy'\n",
    "dummy_triples = 'biokg.links-dummy.csv'\n",
    "dummy_df = pd.read_csv(graph_path.joinpath(test_triples), sep=\"\\t\", header=None)[:50]\n",
    "dummy_df.to_csv(graph_path.joinpath(dummy_triples), sep=\"\\t\", index=None, header=None)"
   ]
  },
  {
   "cell_type": "code",
   "execution_count": 11,
   "id": "9839dcfa",
   "metadata": {},
   "outputs": [],
   "source": [
    "valid, test, dummy = [TriplesFactory.from_path(graph_path.joinpath(f),\n",
    "                                        entity_to_id=train.entity_to_id,\n",
    "                                        relation_to_id=train.relation_to_id)\n",
    "               for f in (valid_triples, test_triples, dummy_triples)]"
   ]
  },
  {
   "cell_type": "markdown",
   "id": "6cb1e280",
   "metadata": {},
   "source": [
    "#### Split test triples conditional on whether they contain entities whose properties were encoded in BIOBLP-X vs not"
   ]
  },
  {
   "cell_type": "markdown",
   "id": "e4a05513",
   "metadata": {},
   "source": [
    "Create test sets: \n",
    "D; D_b, D_r; \n",
    "\n",
    "All biokgb entities surprisingly have a relation - > D_r is an empty set. -> This is because we used teh name of disease as decription in places where it was missing"
   ]
  },
  {
   "cell_type": "code",
   "execution_count": 12,
   "id": "420cb9e2",
   "metadata": {},
   "outputs": [
    {
     "name": "stdout",
     "output_type": "stream",
     "text": [
      "# Disease entities in larger biokg (pre-benchmark removal): 11347\n",
      "# Disease entities in larger biokg (pre-benchmark removal) for which we have textual descriptions: 11347\n"
     ]
    }
   ],
   "source": [
    "#disease_descr_path = PROJ_DATA_DIR.joinpath(\"biokgb/properties/biokg_meshid_to_descr_name-orig.tsv\")\n",
    "disease_descr_path = PROJ_DATA_DIR.joinpath(\"biokgb/properties/biokg_meshid_to_descr_name.tsv\")\n",
    "disease_metadata_path = PROJ_DATA_DIR.joinpath(\"biokgb/properties/biokg.metadata.disease.tsv\")\n",
    "\n",
    "# create a subset of biokg entities of type Disease \n",
    "diseases = pd.read_csv(disease_metadata_path, sep=\"\\t\", names=[\"disease\", \"rel\", \"node_type\"])\n",
    "disease_set = set(diseases.disease.values)\n",
    "print(f\"# Disease entities in larger biokg (pre-benchmark removal): {len(disease_set)}\")\n",
    "\n",
    "# create a set of disease entities for which we have text descriptions\n",
    "disease_w_desc_df = pd.read_csv(disease_descr_path, sep=\"\\t\", header=0, names=[\"disease\", \"desc\"])\n",
    "disease_desc_set = set(disease_w_desc_df.disease.values)\n",
    "print(f\"# Disease entities in larger biokg (pre-benchmark removal) for which we have textual descriptions: {len(disease_desc_set)}\")\n"
   ]
  },
  {
   "cell_type": "code",
   "execution_count": 13,
   "id": "21e17678",
   "metadata": {},
   "outputs": [
    {
     "data": {
      "text/plain": [
       "count    11347.000000\n",
       "mean       149.042743\n",
       "std        156.370558\n",
       "min          5.000000\n",
       "25%         37.000000\n",
       "50%         70.000000\n",
       "75%        231.000000\n",
       "max       1076.000000\n",
       "Name: len, dtype: float64"
      ]
     },
     "execution_count": 13,
     "metadata": {},
     "output_type": "execute_result"
    }
   ],
   "source": [
    "# Side note: all disease entities in Biokgb have decscriptions; because missing values were plugged with disease names\n",
    "disease_w_desc_df[\"len\"] = disease_w_desc_df[\"desc\"].str.len()\n",
    "disease_w_desc_df.len.describe()"
   ]
  },
  {
   "cell_type": "markdown",
   "id": "58b3daef",
   "metadata": {},
   "source": [
    "#### define test sets"
   ]
  },
  {
   "cell_type": "code",
   "execution_count": 17,
   "id": "14cb2764",
   "metadata": {},
   "outputs": [
    {
     "ename": "NameError",
     "evalue": "name 'disease_set' is not defined",
     "output_type": "error",
     "traceback": [
      "\u001b[0;31m---------------------------------------------------------------------------\u001b[0m",
      "\u001b[0;31mNameError\u001b[0m                                 Traceback (most recent call last)",
      "Input \u001b[0;32mIn [17]\u001b[0m, in \u001b[0;36m<cell line: 1>\u001b[0;34m()\u001b[0m\n\u001b[1;32m      1\u001b[0m test_triples_incl_dis_prop, test_triples_excl_dis_prop \u001b[38;5;241m=\u001b[39m split_test_triples_conditioned_on_ent_property(train_triples\u001b[38;5;241m=\u001b[39mtrain, \n\u001b[0;32m----> 2\u001b[0m                                                                                                         typed_ent_set\u001b[38;5;241m=\u001b[39m\u001b[43mdisease_set\u001b[49m, \n\u001b[1;32m      3\u001b[0m                                                                                                         typed_ent_with_prop_set\u001b[38;5;241m=\u001b[39mdisease_desc_set,\n\u001b[1;32m      4\u001b[0m                                                                                                         test_triples\u001b[38;5;241m=\u001b[39mtest)\n",
      "\u001b[0;31mNameError\u001b[0m: name 'disease_set' is not defined"
     ]
    }
   ],
   "source": [
    "test_triples_incl_dis_prop, test_triples_excl_dis_prop = split_test_triples_conditioned_on_ent_property(train_triples=train, \n",
    "                                                                                                        typed_ent_set=disease_set, \n",
    "                                                                                                        typed_ent_with_prop_set=disease_desc_set,\n",
    "                                                                                                        test_triples=test)"
   ]
  },
  {
   "cell_type": "code",
   "execution_count": null,
   "id": "d12d167e",
   "metadata": {},
   "outputs": [],
   "source": [
    "# relations containing diseases include -> \n",
    "dis_assoc_rels = {rel:rel_id for rel, rel_id in train.relation_to_id.items() if 'DISEASE' in rel}\n",
    "dis_assoc_rels"
   ]
  },
  {
   "cell_type": "code",
   "execution_count": null,
   "id": "40c3d463",
   "metadata": {},
   "outputs": [],
   "source": [
    "# equivalence of test_triples restricted on disease- assoc relationships and test_triples_incl_dis_prop above\n",
    "#test_triples_disease = test.new_with_restriction(relations=list(dis_assoc_rels.values()))"
   ]
  },
  {
   "cell_type": "code",
   "execution_count": null,
   "id": "6090f52b",
   "metadata": {},
   "outputs": [],
   "source": [
    "# create set of triples\n",
    "print(f\"# triples originally in test: {test.num_triples}, valid: {valid.num_triples}\")\n",
    "#test_triples_disease = test.new_with_restriction(relations=list(dis_assoc_rels.values()))\n",
    "#valid_triples_disease = valid.new_with_restriction(relations=list(dis_assoc_rels.values()))\n",
    "print(f\"# test triples with disease nodes: {test_triples_incl_dis_prop.num_triples}\")\n",
    "print(f\"# valid triples with disease nodes: {test_triples_excl_dis_prop.num_triples}\")\n"
   ]
  },
  {
   "cell_type": "code",
   "execution_count": null,
   "id": "66752b35",
   "metadata": {},
   "outputs": [],
   "source": [
    "triples_dict = {\n",
    "    TEST: test,\n",
    "    VALID: valid,\n",
    "    TRAIN: train,\n",
    "    TEST_RESTRICTED_DIS: test_triples_incl_dis_prop,\n",
    "    TEST_EXCLUDING_DIS: test_triples_excl_dis_prop,\n",
    "    DUMMY: dummy, \n",
    "}\n",
    "\n",
    "TEST_SET_LIST = [TEST_RESTRICTED_DIS, TEST_EXCLUDING_DIS, TEST, VALID]\n"
   ]
  },
  {
   "cell_type": "markdown",
   "id": "efb6eb10",
   "metadata": {},
   "source": [
    "# Evaluation"
   ]
  },
  {
   "cell_type": "markdown",
   "id": "599b2c99",
   "metadata": {},
   "source": [
    "wandb logging"
   ]
  },
  {
   "cell_type": "code",
   "execution_count": 12,
   "id": "138e7de3",
   "metadata": {},
   "outputs": [
    {
     "name": "stderr",
     "output_type": "stream",
     "text": [
      "Failed to detect the name of this notebook, you can set it manually with the WANDB_NOTEBOOK_NAME environment variable to enable code saving.\n",
      "\u001b[34m\u001b[1mwandb\u001b[0m: Currently logged in as: \u001b[33mpmitra01\u001b[0m (\u001b[33mdiscoverylab\u001b[0m). Use \u001b[1m`wandb login --relogin`\u001b[0m to force relogin\n"
     ]
    }
   ],
   "source": [
    "import wandb\n",
    "wandb.login()\n",
    "\n",
    "WANDB_ENTITY_DISCOVERYLAB = \"discoverylab\"\n",
    "WANDB_PROJECT_NAME = \"bioblp-jupyter-trial\"\n"
   ]
  },
  {
   "cell_type": "markdown",
   "id": "cad9097f",
   "metadata": {},
   "source": [
    "sanity check logic for experiment run with wandb logging"
   ]
  },
  {
   "cell_type": "code",
   "execution_count": 22,
   "id": "e968818e",
   "metadata": {},
   "outputs": [],
   "source": [
    "def trial_func(x=1, y=2):\n",
    "    print(x*y)\n",
    "    return {'x': x, 'y':y}\n",
    "\n",
    "#trial_func_kwargs = {\"x\": 1, \"y\": 2} \n",
    "#metrics = run_experiment('dummy-run', TEST, BIOBLP_D, trial_func, **trial_func_kwargs) "
   ]
  },
  {
   "cell_type": "markdown",
   "id": "62c1bdc5",
   "metadata": {},
   "source": [
    "### LP performace: Micro averaged metrics across All Relations"
   ]
  },
  {
   "cell_type": "code",
   "execution_count": 22,
   "id": "229952d3",
   "metadata": {},
   "outputs": [],
   "source": [
    "def evaluate_lp_on_single_test_set(model, eval_test_set_slug, all_rels=True, split_by_rels=False):\n",
    "\n",
    "    evaluator = RankBasedEvaluator(filtered=True)   \n",
    "    # should we filtering more triples in the disease restricted test sets?\n",
    "    filtered_triples = obtain_filtered_triples(test_type=eval_test_set_slug, \n",
    "                                               train_triples=triples_dict.get(TRAIN),\n",
    "                                               valid_triples=triples_dict.get(VALID)\n",
    "                                              )\n",
    "    eval_result = evaluator.evaluate(model, triples_dict[eval_test_set_slug].mapped_triples,\n",
    "                                     additional_filter_triples = filtered_triples)\n",
    "    \n",
    "    results_all_rels = make_results_dict_all_rel(eval_result, \n",
    "                                         relation='All', \n",
    "                                         relation_count=triples_dict.get(eval_test_set_slug).num_triples)\n",
    "    \n",
    "    # if split_by_rels: to add logic \n",
    "        \n",
    "    return results_all_rels\n",
    "\n",
    "def run_wandb_eval_all_rels_on_multiple_test_sets(model_id: str,\n",
    "                                                  test_set_list: List[str],\n",
    "                                                  eval_out_dir: Union[Path, str],\n",
    "                                                  wandb_project_name=WANDB_PROJECT_NAME):\n",
    "    micro_results_dicts = {}\n",
    "    STUDY_EVAL_MICRO_AVG = 'eval-micro-avg'\n",
    "    study_name = STUDY_EVAL_MICRO_AVG\n",
    "        \n",
    "    timestr = time.strftime(\"%Y%m%d-%H%M%S\")\n",
    "    eval_out_dir = Path(eval_out_dir).joinpath(timestr)\n",
    "    eval_out_dir.mkdir(exist_ok=True , parents=True)\n",
    "    print(f\"Metrics will be saved to {str(eval_out_dir)}\")\n",
    "\n",
    "    model = load_kge_model(model_registry_paths.get(model_id))\n",
    "    \n",
    "    for test_set_slug in test_set_list:\n",
    "        print(f\"Model being evaluated: {model_id}, of type {type(model)}\")\n",
    "        func_kwargs = {\"model\": model, \"eval_test_set_slug\": test_set_slug}\n",
    "\n",
    "        rel_results = run_experiment_and_log_wandb(study_name=study_name, \n",
    "                                                   test_set_slug=test_set_slug, \n",
    "                                                   model_name=MODEL_ID, \n",
    "                                                   eval_func=evaluate_lp_on_single_test_set, \n",
    "                                                   wandb_project_name=wandb_project_name,\n",
    "                                                   **func_kwargs\n",
    "                                                  )\n",
    "        micro_results_dicts[test_set_slug] = rel_results\n",
    "\n",
    "    with open(eval_out_dir.joinpath(f'{study_name}.json'), 'w+') as f:\n",
    "        json.dump(micro_results_dicts, f)"
   ]
  },
  {
   "cell_type": "code",
   "execution_count": null,
   "id": "518be357",
   "metadata": {
    "tags": []
   },
   "outputs": [],
   "source": [
    "# dummy run\n",
    "dummy_func_kwargs = {\"model\": model, \"eval_test_set_slug\": DUMMY}\n",
    "dummy_results = evaluate_lp_on_single_test_set(**dummy_func_kwargs)\n",
    "'''\n",
    "results_microavg_test_retricted_dis = run_experiment_and_log_wandb(study_name='dummy-run-eval', \n",
    "                   test_set_slug=TEST_RESTRICTED_DIS, \n",
    "                   model_name=MODEL_ID, \n",
    "                   eval_func=evaluate_lp_on_single_test_set, \n",
    "                   **func_kwargs\n",
    "                  )\n",
    "'''\n"
   ]
  },
  {
   "cell_type": "code",
   "execution_count": null,
   "id": "6d91cdb6-21b8-4454-a045-8c78a8f900c1",
   "metadata": {},
   "outputs": [],
   "source": [
    "MODEL_NAME_SLUG = BIOBLP_D\n",
    "MODEL_ID = MODELS.get(MODEL_NAME_SLUG)  \n",
    "DUMMY_TEST_LIST = [DUMMY]\n",
    "eval_out_dir = Path(f\"./metrics/{MODEL_ID}\")\n",
    "\n",
    "run_wandb_eval_all_rels_on_multiple_test_sets(model_id=MODEL_ID,\n",
    "                                             test_set_list=TEST_SET_LIST,\n",
    "                                             eval_out_dir=eval_out_dir)"
   ]
  },
  {
   "cell_type": "code",
   "execution_count": 25,
   "id": "a5b99322",
   "metadata": {},
   "outputs": [
    {
     "name": "stderr",
     "output_type": "stream",
     "text": [
      "Evaluating on cuda:0: 100%|██████████| 17.1k/17.1k [02:55<00:00, 97.0triple/s]\n"
     ]
    },
    {
     "data": {
      "text/html": [
       "wandb version 0.13.10 is available!  To upgrade, please run:\n",
       " $ pip install wandb --upgrade"
      ],
      "text/plain": [
       "<IPython.core.display.HTML object>"
      ]
     },
     "metadata": {},
     "output_type": "display_data"
    },
    {
     "data": {
      "text/html": [
       "Tracking run with wandb version 0.12.20"
      ],
      "text/plain": [
       "<IPython.core.display.HTML object>"
      ]
     },
     "metadata": {},
     "output_type": "display_data"
    },
    {
     "data": {
      "text/html": [
       "Run data is saved locally in <code>/home/jovyan/BioBLP/notebooks/wandb/run-20230227_170739-k0vfcb27</code>"
      ],
      "text/plain": [
       "<IPython.core.display.HTML object>"
      ]
     },
     "metadata": {},
     "output_type": "display_data"
    },
    {
     "data": {
      "text/html": [
       "Syncing run <strong><a href=\"https://wandb.ai/discoverylab/bioblp-jupyter-trial/runs/k0vfcb27\" target=\"_blank\">unique-sky-24</a></strong> to <a href=\"https://wandb.ai/discoverylab/bioblp-jupyter-trial\" target=\"_blank\">Weights & Biases</a> (<a href=\"https://wandb.me/run\" target=\"_blank\">docs</a>)<br/>"
      ],
      "text/plain": [
       "<IPython.core.display.HTML object>"
      ]
     },
     "metadata": {},
     "output_type": "display_data"
    },
    {
     "name": "stderr",
     "output_type": "stream",
     "text": [
      "Evaluating on cuda:0: 100%|██████████| 168k/168k [29:10<00:00, 96.1triple/s] \n"
     ]
    },
    {
     "data": {
      "text/html": [
       "Finishing last run (ID:k0vfcb27) before initializing another..."
      ],
      "text/plain": [
       "<IPython.core.display.HTML object>"
      ]
     },
     "metadata": {},
     "output_type": "display_data"
    },
    {
     "data": {
      "text/html": [
       "Waiting for W&B process to finish... <strong style=\"color:green\">(success).</strong>"
      ],
      "text/plain": [
       "<IPython.core.display.HTML object>"
      ]
     },
     "metadata": {},
     "output_type": "display_data"
    },
    {
     "data": {
      "text/html": [
       "Synced <strong style=\"color:#cdcd00\">unique-sky-24</strong>: <a href=\"https://wandb.ai/discoverylab/bioblp-jupyter-trial/runs/k0vfcb27\" target=\"_blank\">https://wandb.ai/discoverylab/bioblp-jupyter-trial/runs/k0vfcb27</a><br/>Synced 6 W&B file(s), 0 media file(s), 0 artifact file(s) and 0 other file(s)"
      ],
      "text/plain": [
       "<IPython.core.display.HTML object>"
      ]
     },
     "metadata": {},
     "output_type": "display_data"
    },
    {
     "data": {
      "text/html": [
       "Find logs at: <code>./wandb/run-20230227_170739-k0vfcb27/logs</code>"
      ],
      "text/plain": [
       "<IPython.core.display.HTML object>"
      ]
     },
     "metadata": {},
     "output_type": "display_data"
    },
    {
     "data": {
      "text/html": [
       "Successfully finished last run (ID:k0vfcb27). Initializing new run:<br/>"
      ],
      "text/plain": [
       "<IPython.core.display.HTML object>"
      ]
     },
     "metadata": {},
     "output_type": "display_data"
    },
    {
     "data": {
      "text/html": [
       "wandb version 0.13.10 is available!  To upgrade, please run:\n",
       " $ pip install wandb --upgrade"
      ],
      "text/plain": [
       "<IPython.core.display.HTML object>"
      ]
     },
     "metadata": {},
     "output_type": "display_data"
    },
    {
     "data": {
      "text/html": [
       "Tracking run with wandb version 0.12.20"
      ],
      "text/plain": [
       "<IPython.core.display.HTML object>"
      ]
     },
     "metadata": {},
     "output_type": "display_data"
    },
    {
     "data": {
      "text/html": [
       "Run data is saved locally in <code>/home/jovyan/BioBLP/notebooks/wandb/run-20230227_173743-2bv96meh</code>"
      ],
      "text/plain": [
       "<IPython.core.display.HTML object>"
      ]
     },
     "metadata": {},
     "output_type": "display_data"
    },
    {
     "data": {
      "text/html": [
       "Syncing run <strong><a href=\"https://wandb.ai/discoverylab/bioblp-jupyter-trial/runs/2bv96meh\" target=\"_blank\">solar-firebrand-25</a></strong> to <a href=\"https://wandb.ai/discoverylab/bioblp-jupyter-trial\" target=\"_blank\">Weights & Biases</a> (<a href=\"https://wandb.me/run\" target=\"_blank\">docs</a>)<br/>"
      ],
      "text/plain": [
       "<IPython.core.display.HTML object>"
      ]
     },
     "metadata": {},
     "output_type": "display_data"
    },
    {
     "name": "stderr",
     "output_type": "stream",
     "text": [
      "Evaluating on cuda:0: 100%|██████████| 185k/185k [32:09<00:00, 96.0triple/s] \n"
     ]
    },
    {
     "data": {
      "text/html": [
       "Finishing last run (ID:2bv96meh) before initializing another..."
      ],
      "text/plain": [
       "<IPython.core.display.HTML object>"
      ]
     },
     "metadata": {},
     "output_type": "display_data"
    },
    {
     "data": {
      "text/html": [
       "Waiting for W&B process to finish... <strong style=\"color:green\">(success).</strong>"
      ],
      "text/plain": [
       "<IPython.core.display.HTML object>"
      ]
     },
     "metadata": {},
     "output_type": "display_data"
    },
    {
     "data": {
      "text/html": [
       "Synced <strong style=\"color:#cdcd00\">solar-firebrand-25</strong>: <a href=\"https://wandb.ai/discoverylab/bioblp-jupyter-trial/runs/2bv96meh\" target=\"_blank\">https://wandb.ai/discoverylab/bioblp-jupyter-trial/runs/2bv96meh</a><br/>Synced 6 W&B file(s), 0 media file(s), 0 artifact file(s) and 0 other file(s)"
      ],
      "text/plain": [
       "<IPython.core.display.HTML object>"
      ]
     },
     "metadata": {},
     "output_type": "display_data"
    },
    {
     "data": {
      "text/html": [
       "Find logs at: <code>./wandb/run-20230227_173743-2bv96meh/logs</code>"
      ],
      "text/plain": [
       "<IPython.core.display.HTML object>"
      ]
     },
     "metadata": {},
     "output_type": "display_data"
    },
    {
     "data": {
      "text/html": [
       "Successfully finished last run (ID:2bv96meh). Initializing new run:<br/>"
      ],
      "text/plain": [
       "<IPython.core.display.HTML object>"
      ]
     },
     "metadata": {},
     "output_type": "display_data"
    },
    {
     "data": {
      "text/html": [
       "wandb version 0.13.10 is available!  To upgrade, please run:\n",
       " $ pip install wandb --upgrade"
      ],
      "text/plain": [
       "<IPython.core.display.HTML object>"
      ]
     },
     "metadata": {},
     "output_type": "display_data"
    },
    {
     "data": {
      "text/html": [
       "Tracking run with wandb version 0.12.20"
      ],
      "text/plain": [
       "<IPython.core.display.HTML object>"
      ]
     },
     "metadata": {},
     "output_type": "display_data"
    },
    {
     "data": {
      "text/html": [
       "Run data is saved locally in <code>/home/jovyan/BioBLP/notebooks/wandb/run-20230227_181052-22rj8yfq</code>"
      ],
      "text/plain": [
       "<IPython.core.display.HTML object>"
      ]
     },
     "metadata": {},
     "output_type": "display_data"
    },
    {
     "data": {
      "text/html": [
       "Syncing run <strong><a href=\"https://wandb.ai/discoverylab/bioblp-jupyter-trial/runs/22rj8yfq\" target=\"_blank\">iconic-shadow-26</a></strong> to <a href=\"https://wandb.ai/discoverylab/bioblp-jupyter-trial\" target=\"_blank\">Weights & Biases</a> (<a href=\"https://wandb.me/run\" target=\"_blank\">docs</a>)<br/>"
      ],
      "text/plain": [
       "<IPython.core.display.HTML object>"
      ]
     },
     "metadata": {},
     "output_type": "display_data"
    },
    {
     "name": "stderr",
     "output_type": "stream",
     "text": [
      "Evaluating on cuda:0: 100%|██████████| 185k/185k [31:44<00:00, 97.3triple/s] \n"
     ]
    },
    {
     "data": {
      "text/html": [
       "Finishing last run (ID:22rj8yfq) before initializing another..."
      ],
      "text/plain": [
       "<IPython.core.display.HTML object>"
      ]
     },
     "metadata": {},
     "output_type": "display_data"
    },
    {
     "data": {
      "text/html": [
       "Waiting for W&B process to finish... <strong style=\"color:green\">(success).</strong>"
      ],
      "text/plain": [
       "<IPython.core.display.HTML object>"
      ]
     },
     "metadata": {},
     "output_type": "display_data"
    },
    {
     "data": {
      "text/html": [
       "Synced <strong style=\"color:#cdcd00\">iconic-shadow-26</strong>: <a href=\"https://wandb.ai/discoverylab/bioblp-jupyter-trial/runs/22rj8yfq\" target=\"_blank\">https://wandb.ai/discoverylab/bioblp-jupyter-trial/runs/22rj8yfq</a><br/>Synced 6 W&B file(s), 0 media file(s), 0 artifact file(s) and 0 other file(s)"
      ],
      "text/plain": [
       "<IPython.core.display.HTML object>"
      ]
     },
     "metadata": {},
     "output_type": "display_data"
    },
    {
     "data": {
      "text/html": [
       "Find logs at: <code>./wandb/run-20230227_181052-22rj8yfq/logs</code>"
      ],
      "text/plain": [
       "<IPython.core.display.HTML object>"
      ]
     },
     "metadata": {},
     "output_type": "display_data"
    },
    {
     "data": {
      "text/html": [
       "Successfully finished last run (ID:22rj8yfq). Initializing new run:<br/>"
      ],
      "text/plain": [
       "<IPython.core.display.HTML object>"
      ]
     },
     "metadata": {},
     "output_type": "display_data"
    },
    {
     "data": {
      "text/html": [
       "wandb version 0.13.10 is available!  To upgrade, please run:\n",
       " $ pip install wandb --upgrade"
      ],
      "text/plain": [
       "<IPython.core.display.HTML object>"
      ]
     },
     "metadata": {},
     "output_type": "display_data"
    },
    {
     "data": {
      "text/html": [
       "Tracking run with wandb version 0.12.20"
      ],
      "text/plain": [
       "<IPython.core.display.HTML object>"
      ]
     },
     "metadata": {},
     "output_type": "display_data"
    },
    {
     "data": {
      "text/html": [
       "Run data is saved locally in <code>/home/jovyan/BioBLP/notebooks/wandb/run-20230227_184333-gnqaoz0t</code>"
      ],
      "text/plain": [
       "<IPython.core.display.HTML object>"
      ]
     },
     "metadata": {},
     "output_type": "display_data"
    },
    {
     "data": {
      "text/html": [
       "Syncing run <strong><a href=\"https://wandb.ai/discoverylab/bioblp-jupyter-trial/runs/gnqaoz0t\" target=\"_blank\">golden-energy-27</a></strong> to <a href=\"https://wandb.ai/discoverylab/bioblp-jupyter-trial\" target=\"_blank\">Weights & Biases</a> (<a href=\"https://wandb.me/run\" target=\"_blank\">docs</a>)<br/>"
      ],
      "text/plain": [
       "<IPython.core.display.HTML object>"
      ]
     },
     "metadata": {},
     "output_type": "display_data"
    }
   ],
   "source": [
    "MODEL_NAME_SLUG = ROTATE\n",
    "MODEL_ID = MODELS.get(MODEL_NAME_SLUG)  \n",
    "DUMMY_TEST_LIST = [DUMMY]\n",
    "eval_out_dir = Path(f\"./metrics/{MODEL_ID}\")\n",
    "\n",
    "run_wandb_eval_all_rels_on_multiple_test_sets(model_id=MODEL_ID,\n",
    "                                             test_set_list=TEST_SET_LIST,\n",
    "                                             eval_out_dir=eval_out_dir)"
   ]
  },
  {
   "cell_type": "markdown",
   "id": "70703b2a",
   "metadata": {},
   "source": [
    "## Evaluating over specific. relation types"
   ]
  },
  {
   "cell_type": "code",
   "execution_count": 20,
   "id": "40d2255e",
   "metadata": {},
   "outputs": [],
   "source": [
    "def eval_breakdown_by_rel_type(eval_test_set_slug, model):\n",
    "    result_dicts =[]\n",
    "    test_triples = triples_dict[eval_test_set_slug]\n",
    "    additional_filter_triples = obtain_filtered_triples(test_type=eval_test_set_slug, \n",
    "                                                        train_triples=triples_dict[TRAIN],\n",
    "                                                        valid_triples=triples_dict[VALID]\n",
    "                                                       )\n",
    "    for relation in tqdm(list(triples_dict[TRAIN].relation_to_id)[:], desc='Evaluating over each relation'):\n",
    "        triples_subset = test_triples.new_with_restriction(relations=[relation])\n",
    "        if triples_subset.num_triples > 0:\n",
    "            subset_result = evaluator.evaluate(model,\n",
    "                                               triples_subset.mapped_triples, \n",
    "                                               additional_filter_triples=additional_filter_triples,\n",
    "                                               use_tqdm=False)\n",
    "            result_dicts.append({'results': subset_result, 'relation': relation, 'count': triples_subset.num_triples})\n",
    "    results_df = pd.DataFrame([make_results_dict_all_rel(d['results'], d['relation'], d['count']) for d in result_dicts])\n",
    "    rel_results_dict = results_df.set_index('Relation').transpose().to_dict()\n",
    "    return rel_results_dict"
   ]
  },
  {
   "cell_type": "code",
   "execution_count": 21,
   "id": "d84ef59e",
   "metadata": {},
   "outputs": [],
   "source": [
    "# todo club run_wandb_eval_by_rel_breakdown_on_multiple_test_sets & run_wandb_eval_micro_avg_on_multiple_test_sets into 1 fn and switch using parameters\n",
    "\n",
    "def run_wandb_eval_by_rel_breakdown_on_multiple_test_sets(model_id: str,\n",
    "                                                  test_set_list: List[str],\n",
    "                                                  eval_out_dir: Union[Path, str],\n",
    "                                                  wandb_project_name=WANDB_PROJECT_NAME):\n",
    "    relwise_results_dicts = {}\n",
    "    STUDY_EVAL_REL_BREAKDOWN = 'eval-rel-breakdown'\n",
    "    study_name = STUDY_EVAL_REL_BREAKDOWN\n",
    "    \n",
    "    timestr = time.strftime(\"%Y%m%d-%H%M%S\")\n",
    "    eval_out_dir = Path(eval_out_dir).joinpath(timestr)\n",
    "    eval_out_dir.mkdir(exist_ok=True , parents=True)\n",
    "    print(f\"Metrics will be saved to {str(eval_out_dir)}\")\n",
    "    \n",
    "    model = load_kge_model(model_registry_paths.get(model_id))\n",
    "    \n",
    "    for test_set_slug in test_set_list:\n",
    "        print(f\"Model being evaluated: {model_id}, of type {type(model)}\")\n",
    "        func_kwargs = {\"model\": model, \"eval_test_set_slug\": test_set_slug}\n",
    "\n",
    "        rel_results = run_experiment_and_log_wandb(study_name=study_name, \n",
    "                                                   test_set_slug=test_set_slug, \n",
    "                                                   model_name=model_id, \n",
    "                                                   eval_func=eval_breakdown_by_rel_type, \n",
    "                                                   wandb_project_name=wandb_project_name,\n",
    "                                                   **func_kwargs\n",
    "                                                  )\n",
    "        relwise_results_dicts[test_set_slug] = rel_results\n",
    "    with open(eval_out_dir.joinpath(f'{study_name}.json'), 'w+') as f:\n",
    "        json.dump(relwise_results_dicts, f)\n"
   ]
  },
  {
   "cell_type": "markdown",
   "id": "3e10d048",
   "metadata": {},
   "source": [
    "test: dummy run BIOBLP_D"
   ]
  },
  {
   "cell_type": "code",
   "execution_count": 79,
   "id": "e9a190a1",
   "metadata": {
    "collapsed": true,
    "jupyter": {
     "outputs_hidden": true
    }
   },
   "outputs": [
    {
     "name": "stdout",
     "output_type": "stream",
     "text": [
      "Model being evaluated: rotate-otxtubeb, of type <class 'pykeen.models.unimodal.rotate.RotatE'>\n"
     ]
    },
    {
     "name": "stderr",
     "output_type": "stream",
     "text": [
      "Evaluating over each relation:   0%|          | 0/17 [00:00<?, ?it/s]Process wandb_internal:\n",
      "Traceback (most recent call last):\n",
      "  File \"/home/jovyan/.conda/envs/bioblp-env/lib/python3.8/multiprocessing/process.py\", line 315, in _bootstrap\n",
      "    self.run()\n",
      "  File \"/home/jovyan/.conda/envs/bioblp-env/lib/python3.8/multiprocessing/process.py\", line 108, in run\n",
      "    self._target(*self._args, **self._kwargs)\n",
      "  File \"/home/jovyan/.conda/envs/bioblp-env/lib/python3.8/site-packages/wandb/sdk/internal/internal.py\", line 160, in wandb_internal\n",
      "    thread.join()\n",
      "  File \"/home/jovyan/.conda/envs/bioblp-env/lib/python3.8/threading.py\", line 1011, in join\n",
      "    self._wait_for_tstate_lock()\n",
      "  File \"/home/jovyan/.conda/envs/bioblp-env/lib/python3.8/threading.py\", line 1027, in _wait_for_tstate_lock\n",
      "    elif lock.acquire(block, timeout):\n",
      "KeyboardInterrupt\n",
      "Traceback (most recent call last):\n",
      "  File \"<string>\", line 1, in <module>\n",
      "  File \"/home/jovyan/.conda/envs/bioblp-env/lib/python3.8/multiprocessing/spawn.py\", line 116, in spawn_main\n",
      "    exitcode = _main(fd, parent_sentinel)\n",
      "  File \"/home/jovyan/.conda/envs/bioblp-env/lib/python3.8/multiprocessing/spawn.py\", line 129, in _main\n",
      "    return self._bootstrap(parent_sentinel)\n",
      "  File \"/home/jovyan/.conda/envs/bioblp-env/lib/python3.8/multiprocessing/process.py\", line 333, in _bootstrap\n",
      "    threading._shutdown()\n",
      "  File \"/home/jovyan/.conda/envs/bioblp-env/lib/python3.8/threading.py\", line 1388, in _shutdown\n",
      "    lock.acquire()\n",
      "KeyboardInterrupt\n",
      "Evaluating over each relation:  12%|█▏        | 2/17 [00:09<01:09,  4.66s/it]\n",
      "Exception in thread NetStatThr:\n",
      "Traceback (most recent call last):\n",
      "  File \"/home/jovyan/.conda/envs/bioblp-env/lib/python3.8/threading.py\", line 932, in _bootstrap_inner\n",
      "    self.run()\n",
      "  File \"/home/jovyan/.conda/envs/bioblp-env/lib/python3.8/threading.py\", line 870, in run\n"
     ]
    },
    {
     "ename": "KeyboardInterrupt",
     "evalue": "",
     "output_type": "error",
     "traceback": [
      "\u001b[0;31m---------------------------------------------------------------------------\u001b[0m",
      "\u001b[0;31mKeyboardInterrupt\u001b[0m                         Traceback (most recent call last)",
      "Input \u001b[0;32mIn [79]\u001b[0m, in \u001b[0;36m<cell line: 7>\u001b[0;34m()\u001b[0m\n\u001b[1;32m      4\u001b[0m DUMMY_TEST_LIST \u001b[38;5;241m=\u001b[39m [DUMMY]\n\u001b[1;32m      5\u001b[0m eval_out_dir \u001b[38;5;241m=\u001b[39m Path(\u001b[38;5;124mf\u001b[39m\u001b[38;5;124m\"\u001b[39m\u001b[38;5;124m./metrics/\u001b[39m\u001b[38;5;132;01m{\u001b[39;00mMODEL_ID\u001b[38;5;132;01m}\u001b[39;00m\u001b[38;5;124m\"\u001b[39m)\n\u001b[0;32m----> 7\u001b[0m \u001b[43mrun_wandb_eval_by_rel_breakdown_on_multiple_test_sets\u001b[49m\u001b[43m(\u001b[49m\u001b[43mmodel_id\u001b[49m\u001b[38;5;241;43m=\u001b[39;49m\u001b[43mMODEL_ID\u001b[49m\u001b[43m,\u001b[49m\n\u001b[1;32m      8\u001b[0m \u001b[43m                                             \u001b[49m\u001b[43mtest_set_list\u001b[49m\u001b[38;5;241;43m=\u001b[39;49m\u001b[43mDUMMY_TEST_LIST\u001b[49m\u001b[43m,\u001b[49m\n\u001b[1;32m      9\u001b[0m \u001b[43m                                             \u001b[49m\u001b[43meval_out_dir\u001b[49m\u001b[38;5;241;43m=\u001b[39;49m\u001b[43meval_out_dir\u001b[49m\u001b[43m,\u001b[49m\n\u001b[1;32m     10\u001b[0m \u001b[43m                                             \u001b[49m\u001b[43mwandb_project_name\u001b[49m\u001b[38;5;241;43m=\u001b[39;49m\u001b[43mWANDB_PROJECT_NAME\u001b[49m\u001b[43m)\u001b[49m\n",
      "Input \u001b[0;32mIn [78]\u001b[0m, in \u001b[0;36mrun_wandb_eval_by_rel_breakdown_on_multiple_test_sets\u001b[0;34m(model_id, test_set_list, eval_out_dir, wandb_project_name)\u001b[0m\n\u001b[1;32m     15\u001b[0m     \u001b[38;5;28mprint\u001b[39m(\u001b[38;5;124mf\u001b[39m\u001b[38;5;124m\"\u001b[39m\u001b[38;5;124mModel being evaluated: \u001b[39m\u001b[38;5;132;01m{\u001b[39;00mmodel_id\u001b[38;5;132;01m}\u001b[39;00m\u001b[38;5;124m, of type \u001b[39m\u001b[38;5;132;01m{\u001b[39;00m\u001b[38;5;28mtype\u001b[39m(model)\u001b[38;5;132;01m}\u001b[39;00m\u001b[38;5;124m\"\u001b[39m)\n\u001b[1;32m     16\u001b[0m     func_kwargs \u001b[38;5;241m=\u001b[39m {\u001b[38;5;124m\"\u001b[39m\u001b[38;5;124mmodel\u001b[39m\u001b[38;5;124m\"\u001b[39m: model, \u001b[38;5;124m\"\u001b[39m\u001b[38;5;124meval_test_set_slug\u001b[39m\u001b[38;5;124m\"\u001b[39m: test_set_slug}\n\u001b[0;32m---> 18\u001b[0m     rel_results \u001b[38;5;241m=\u001b[39m \u001b[43mrun_experiment_and_log_wandb\u001b[49m\u001b[43m(\u001b[49m\u001b[43mstudy_name\u001b[49m\u001b[38;5;241;43m=\u001b[39;49m\u001b[43mstudy_name\u001b[49m\u001b[43m,\u001b[49m\u001b[43m \u001b[49m\n\u001b[1;32m     19\u001b[0m \u001b[43m                                               \u001b[49m\u001b[43mtest_set_slug\u001b[49m\u001b[38;5;241;43m=\u001b[39;49m\u001b[43mtest_set_slug\u001b[49m\u001b[43m,\u001b[49m\u001b[43m \u001b[49m\n\u001b[1;32m     20\u001b[0m \u001b[43m                                               \u001b[49m\u001b[43mmodel_name\u001b[49m\u001b[38;5;241;43m=\u001b[39;49m\u001b[43mmodel_id\u001b[49m\u001b[43m,\u001b[49m\u001b[43m \u001b[49m\n\u001b[1;32m     21\u001b[0m \u001b[43m                                               \u001b[49m\u001b[43meval_func\u001b[49m\u001b[38;5;241;43m=\u001b[39;49m\u001b[43meval_breakdown_by_rel_type\u001b[49m\u001b[43m,\u001b[49m\u001b[43m \u001b[49m\n\u001b[1;32m     22\u001b[0m \u001b[43m                                               \u001b[49m\u001b[43mwandb_project_name\u001b[49m\u001b[38;5;241;43m=\u001b[39;49m\u001b[43mwandb_project_name\u001b[49m\u001b[43m,\u001b[49m\n\u001b[1;32m     23\u001b[0m \u001b[43m                                               \u001b[49m\u001b[38;5;241;43m*\u001b[39;49m\u001b[38;5;241;43m*\u001b[39;49m\u001b[43mfunc_kwargs\u001b[49m\n\u001b[1;32m     24\u001b[0m \u001b[43m                                              \u001b[49m\u001b[43m)\u001b[49m\n\u001b[1;32m     25\u001b[0m     relwise_results_dicts[test_set_slug] \u001b[38;5;241m=\u001b[39m rel_results\n\u001b[1;32m     27\u001b[0m \u001b[38;5;66;03m# todo: protect against overwriting file\u001b[39;00m\n",
      "File \u001b[0;32m~/BioBLP/notebooks/nb_utils/eval_utils.py:67\u001b[0m, in \u001b[0;36mrun_experiment_and_log_wandb\u001b[0;34m(study_name, test_set_slug, model_name, wandb_project_name, eval_func, wandb_entity_name, **eval_kwargs)\u001b[0m\n\u001b[1;32m     57\u001b[0m \u001b[38;5;28;01mdef\u001b[39;00m \u001b[38;5;21mrun_experiment_and_log_wandb\u001b[39m(study_name:\u001b[38;5;28mstr\u001b[39m, \n\u001b[1;32m     58\u001b[0m                                  test_set_slug:\u001b[38;5;28mstr\u001b[39m, \n\u001b[1;32m     59\u001b[0m                                  model_name:\u001b[38;5;28mstr\u001b[39m,\n\u001b[0;32m   (...)\u001b[0m\n\u001b[1;32m     62\u001b[0m                                  wandb_entity_name:\u001b[38;5;28mstr\u001b[39m\u001b[38;5;241m=\u001b[39mWANDB_ENTITY_DISCOVERYLAB,\n\u001b[1;32m     63\u001b[0m                                  \u001b[38;5;241m*\u001b[39m\u001b[38;5;241m*\u001b[39meval_kwargs):\n\u001b[1;32m     64\u001b[0m     tags \u001b[38;5;241m=\u001b[39m {\u001b[38;5;124m\"\u001b[39m\u001b[38;5;124mmodel_name\u001b[39m\u001b[38;5;124m\"\u001b[39m: model_name,\n\u001b[1;32m     65\u001b[0m             \u001b[38;5;124m\"\u001b[39m\u001b[38;5;124mstudy_name\u001b[39m\u001b[38;5;124m\"\u001b[39m: study_name,\n\u001b[1;32m     66\u001b[0m             \u001b[38;5;124m\"\u001b[39m\u001b[38;5;124mtest_set_type\u001b[39m\u001b[38;5;124m\"\u001b[39m: test_set_slug}\n\u001b[0;32m---> 67\u001b[0m     metrics \u001b[38;5;241m=\u001b[39m \u001b[43meval_func\u001b[49m\u001b[43m(\u001b[49m\u001b[38;5;241;43m*\u001b[39;49m\u001b[38;5;241;43m*\u001b[39;49m\u001b[43meval_kwargs\u001b[49m\u001b[43m)\u001b[49m\n\u001b[1;32m     68\u001b[0m     run \u001b[38;5;241m=\u001b[39m setup_wandb_result_tracker(\u001b[38;5;241m*\u001b[39m\u001b[38;5;241m*\u001b[39mtags, project_name\u001b[38;5;241m=\u001b[39mwandb_project_name, wandb_entity\u001b[38;5;241m=\u001b[39mwandb_entity_name)\n\u001b[1;32m     69\u001b[0m     run\u001b[38;5;241m.\u001b[39mlog(metrics)\n",
      "Input \u001b[0;32mIn [76]\u001b[0m, in \u001b[0;36meval_breakdown_by_rel_type\u001b[0;34m(eval_test_set_slug, model)\u001b[0m\n\u001b[1;32m      9\u001b[0m     triples_subset \u001b[38;5;241m=\u001b[39m test_triples\u001b[38;5;241m.\u001b[39mnew_with_restriction(relations\u001b[38;5;241m=\u001b[39m[relation])\n\u001b[1;32m     10\u001b[0m     \u001b[38;5;28;01mif\u001b[39;00m triples_subset\u001b[38;5;241m.\u001b[39mnum_triples \u001b[38;5;241m>\u001b[39m \u001b[38;5;241m0\u001b[39m:\n\u001b[0;32m---> 11\u001b[0m         subset_result \u001b[38;5;241m=\u001b[39m \u001b[43mevaluator\u001b[49m\u001b[38;5;241;43m.\u001b[39;49m\u001b[43mevaluate\u001b[49m\u001b[43m(\u001b[49m\u001b[43mmodel\u001b[49m\u001b[43m,\u001b[49m\n\u001b[1;32m     12\u001b[0m \u001b[43m                                           \u001b[49m\u001b[43mtriples_subset\u001b[49m\u001b[38;5;241;43m.\u001b[39;49m\u001b[43mmapped_triples\u001b[49m\u001b[43m,\u001b[49m\u001b[43m \u001b[49m\n\u001b[1;32m     13\u001b[0m \u001b[43m                                           \u001b[49m\u001b[43madditional_filter_triples\u001b[49m\u001b[38;5;241;43m=\u001b[39;49m\u001b[43madditional_filter_triples\u001b[49m\u001b[43m,\u001b[49m\n\u001b[1;32m     14\u001b[0m \u001b[43m                                           \u001b[49m\u001b[43muse_tqdm\u001b[49m\u001b[38;5;241;43m=\u001b[39;49m\u001b[38;5;28;43;01mFalse\u001b[39;49;00m\u001b[43m)\u001b[49m\n\u001b[1;32m     15\u001b[0m         result_dicts\u001b[38;5;241m.\u001b[39mappend({\u001b[38;5;124m'\u001b[39m\u001b[38;5;124mresults\u001b[39m\u001b[38;5;124m'\u001b[39m: subset_result, \u001b[38;5;124m'\u001b[39m\u001b[38;5;124mrelation\u001b[39m\u001b[38;5;124m'\u001b[39m: relation, \u001b[38;5;124m'\u001b[39m\u001b[38;5;124mcount\u001b[39m\u001b[38;5;124m'\u001b[39m: triples_subset\u001b[38;5;241m.\u001b[39mnum_triples})\n\u001b[1;32m     16\u001b[0m results_df \u001b[38;5;241m=\u001b[39m pd\u001b[38;5;241m.\u001b[39mDataFrame([make_results_dict_all_rel(d[\u001b[38;5;124m'\u001b[39m\u001b[38;5;124mresults\u001b[39m\u001b[38;5;124m'\u001b[39m], d[\u001b[38;5;124m'\u001b[39m\u001b[38;5;124mrelation\u001b[39m\u001b[38;5;124m'\u001b[39m], d[\u001b[38;5;124m'\u001b[39m\u001b[38;5;124mcount\u001b[39m\u001b[38;5;124m'\u001b[39m]) \u001b[38;5;28;01mfor\u001b[39;00m d \u001b[38;5;129;01min\u001b[39;00m result_dicts])\n",
      "File \u001b[0;32m~/.conda/envs/bioblp-env/lib/python3.8/site-packages/pykeen/evaluation/evaluator.py:176\u001b[0m, in \u001b[0;36mEvaluator.evaluate\u001b[0;34m(self, model, mapped_triples, batch_size, slice_size, device, use_tqdm, tqdm_kwargs, restrict_entities_to, do_time_consuming_checks, additional_filter_triples)\u001b[0m\n\u001b[1;32m    171\u001b[0m     logger\u001b[38;5;241m.\u001b[39minfo(\n\u001b[1;32m    172\u001b[0m         \u001b[38;5;124m\"\u001b[39m\u001b[38;5;124mCurrently automatic memory optimization only supports GPUs, but you\u001b[39m\u001b[38;5;124m'\u001b[39m\u001b[38;5;124mre using a CPU. \u001b[39m\u001b[38;5;124m\"\u001b[39m\n\u001b[1;32m    173\u001b[0m         \u001b[38;5;124m\"\u001b[39m\u001b[38;5;124mTherefore, the batch_size will be set to the default value.\u001b[39m\u001b[38;5;124m\"\u001b[39m,\n\u001b[1;32m    174\u001b[0m     )\n\u001b[1;32m    175\u001b[0m \u001b[38;5;28;01melse\u001b[39;00m:\n\u001b[0;32m--> 176\u001b[0m     batch_size, slice_size \u001b[38;5;241m=\u001b[39m \u001b[38;5;28;43mself\u001b[39;49m\u001b[38;5;241;43m.\u001b[39;49m\u001b[43mbatch_and_slice\u001b[49m\u001b[43m(\u001b[49m\n\u001b[1;32m    177\u001b[0m \u001b[43m        \u001b[49m\u001b[43mmodel\u001b[49m\u001b[38;5;241;43m=\u001b[39;49m\u001b[43mmodel\u001b[49m\u001b[43m,\u001b[49m\n\u001b[1;32m    178\u001b[0m \u001b[43m        \u001b[49m\u001b[43mmapped_triples\u001b[49m\u001b[38;5;241;43m=\u001b[39;49m\u001b[43mmapped_triples\u001b[49m\u001b[43m,\u001b[49m\n\u001b[1;32m    179\u001b[0m \u001b[43m        \u001b[49m\u001b[43madditional_filter_triples\u001b[49m\u001b[38;5;241;43m=\u001b[39;49m\u001b[43madditional_filter_triples\u001b[49m\u001b[43m,\u001b[49m\n\u001b[1;32m    180\u001b[0m \u001b[43m        \u001b[49m\u001b[43mbatch_size\u001b[49m\u001b[38;5;241;43m=\u001b[39;49m\u001b[43mbatch_size\u001b[49m\u001b[43m,\u001b[49m\n\u001b[1;32m    181\u001b[0m \u001b[43m        \u001b[49m\u001b[43mdevice\u001b[49m\u001b[38;5;241;43m=\u001b[39;49m\u001b[43mdevice\u001b[49m\u001b[43m,\u001b[49m\n\u001b[1;32m    182\u001b[0m \u001b[43m        \u001b[49m\u001b[43muse_tqdm\u001b[49m\u001b[38;5;241;43m=\u001b[39;49m\u001b[38;5;28;43;01mFalse\u001b[39;49;00m\u001b[43m,\u001b[49m\n\u001b[1;32m    183\u001b[0m \u001b[43m        \u001b[49m\u001b[43mrestrict_entities_to\u001b[49m\u001b[38;5;241;43m=\u001b[39;49m\u001b[43mrestrict_entities_to\u001b[49m\u001b[43m,\u001b[49m\n\u001b[1;32m    184\u001b[0m \u001b[43m        \u001b[49m\u001b[43mdo_time_consuming_checks\u001b[49m\u001b[38;5;241;43m=\u001b[39;49m\u001b[43mdo_time_consuming_checks\u001b[49m\u001b[43m,\u001b[49m\n\u001b[1;32m    185\u001b[0m \u001b[43m    \u001b[49m\u001b[43m)\u001b[49m\n\u001b[1;32m    186\u001b[0m     \u001b[38;5;66;03m# The batch_size and slice_size should be accessible to outside objects for re-use, e.g. early stoppers.\u001b[39;00m\n\u001b[1;32m    187\u001b[0m     \u001b[38;5;28mself\u001b[39m\u001b[38;5;241m.\u001b[39mbatch_size \u001b[38;5;241m=\u001b[39m batch_size\n",
      "File \u001b[0;32m~/.conda/envs/bioblp-env/lib/python3.8/site-packages/pykeen/evaluation/evaluator.py:255\u001b[0m, in \u001b[0;36mEvaluator.batch_and_slice\u001b[0;34m(self, model, mapped_triples, batch_size, device, use_tqdm, restrict_entities_to, do_time_consuming_checks, additional_filter_triples)\u001b[0m\n\u001b[1;32m    210\u001b[0m \u001b[38;5;28;01mdef\u001b[39;00m \u001b[38;5;21mbatch_and_slice\u001b[39m(\n\u001b[1;32m    211\u001b[0m     \u001b[38;5;28mself\u001b[39m,\n\u001b[1;32m    212\u001b[0m     model: Model,\n\u001b[0;32m   (...)\u001b[0m\n\u001b[1;32m    219\u001b[0m     additional_filter_triples: Union[\u001b[38;5;28;01mNone\u001b[39;00m, MappedTriples, List[MappedTriples]] \u001b[38;5;241m=\u001b[39m \u001b[38;5;28;01mNone\u001b[39;00m,\n\u001b[1;32m    220\u001b[0m ) \u001b[38;5;241m-\u001b[39m\u001b[38;5;241m>\u001b[39m Tuple[\u001b[38;5;28mint\u001b[39m, Optional[\u001b[38;5;28mint\u001b[39m]]:\n\u001b[1;32m    221\u001b[0m     \u001b[38;5;124;03m\"\"\"Find the maximum possible batch_size and slice_size for evaluation with the current setting.\u001b[39;00m\n\u001b[1;32m    222\u001b[0m \n\u001b[1;32m    223\u001b[0m \u001b[38;5;124;03m    The speed of evaluation can be greatly increased when the batch_size is increased, therefore this function\u001b[39;00m\n\u001b[0;32m   (...)\u001b[0m\n\u001b[1;32m    253\u001b[0m \u001b[38;5;124;03m        If it is not possible to evaluate the model on the hardware at hand with the given parameters.\u001b[39;00m\n\u001b[1;32m    254\u001b[0m \u001b[38;5;124;03m    \"\"\"\u001b[39;00m\n\u001b[0;32m--> 255\u001b[0m     batch_size, evaluated_once \u001b[38;5;241m=\u001b[39m \u001b[38;5;28;43mself\u001b[39;49m\u001b[38;5;241;43m.\u001b[39;49m\u001b[43m_param_size_search\u001b[49m\u001b[43m(\u001b[49m\n\u001b[1;32m    256\u001b[0m \u001b[43m        \u001b[49m\u001b[43mkey\u001b[49m\u001b[38;5;241;43m=\u001b[39;49m\u001b[38;5;124;43m\"\u001b[39;49m\u001b[38;5;124;43mbatch_size\u001b[39;49m\u001b[38;5;124;43m\"\u001b[39;49m\u001b[43m,\u001b[49m\n\u001b[1;32m    257\u001b[0m \u001b[43m        \u001b[49m\u001b[43mstart_value\u001b[49m\u001b[38;5;241;43m=\u001b[39;49m\u001b[43mbatch_size\u001b[49m\u001b[43m,\u001b[49m\n\u001b[1;32m    258\u001b[0m \u001b[43m        \u001b[49m\u001b[43mmodel\u001b[49m\u001b[38;5;241;43m=\u001b[39;49m\u001b[43mmodel\u001b[49m\u001b[43m,\u001b[49m\n\u001b[1;32m    259\u001b[0m \u001b[43m        \u001b[49m\u001b[43madditional_filter_triples\u001b[49m\u001b[38;5;241;43m=\u001b[39;49m\u001b[43madditional_filter_triples\u001b[49m\u001b[43m,\u001b[49m\n\u001b[1;32m    260\u001b[0m \u001b[43m        \u001b[49m\u001b[43mmapped_triples\u001b[49m\u001b[38;5;241;43m=\u001b[39;49m\u001b[43mmapped_triples\u001b[49m\u001b[43m,\u001b[49m\n\u001b[1;32m    261\u001b[0m \u001b[43m        \u001b[49m\u001b[43mdevice\u001b[49m\u001b[38;5;241;43m=\u001b[39;49m\u001b[43mdevice\u001b[49m\u001b[43m,\u001b[49m\n\u001b[1;32m    262\u001b[0m \u001b[43m        \u001b[49m\u001b[43muse_tqdm\u001b[49m\u001b[38;5;241;43m=\u001b[39;49m\u001b[43muse_tqdm\u001b[49m\u001b[43m,\u001b[49m\n\u001b[1;32m    263\u001b[0m \u001b[43m        \u001b[49m\u001b[43mrestrict_entities_to\u001b[49m\u001b[38;5;241;43m=\u001b[39;49m\u001b[43mrestrict_entities_to\u001b[49m\u001b[43m,\u001b[49m\n\u001b[1;32m    264\u001b[0m \u001b[43m        \u001b[49m\u001b[43mdo_time_consuming_checks\u001b[49m\u001b[38;5;241;43m=\u001b[39;49m\u001b[43mdo_time_consuming_checks\u001b[49m\u001b[43m,\u001b[49m\n\u001b[1;32m    265\u001b[0m \u001b[43m    \u001b[49m\u001b[43m)\u001b[49m\n\u001b[1;32m    267\u001b[0m     \u001b[38;5;28;01mif\u001b[39;00m evaluated_once:  \u001b[38;5;66;03m# slice_size = None\u001b[39;00m\n\u001b[1;32m    268\u001b[0m         \u001b[38;5;28;01mreturn\u001b[39;00m batch_size, \u001b[38;5;28;01mNone\u001b[39;00m\n",
      "File \u001b[0;32m~/.conda/envs/bioblp-env/lib/python3.8/site-packages/pykeen/evaluation/evaluator.py:328\u001b[0m, in \u001b[0;36mEvaluator._param_size_search\u001b[0;34m(self, key, start_value, model, mapped_triples, device, use_tqdm, restrict_entities_to, do_time_consuming_checks, additional_filter_triples)\u001b[0m\n\u001b[1;32m    326\u001b[0m     gc\u001b[38;5;241m.\u001b[39mcollect()\n\u001b[1;32m    327\u001b[0m     torch\u001b[38;5;241m.\u001b[39mcuda\u001b[38;5;241m.\u001b[39mempty_cache()\n\u001b[0;32m--> 328\u001b[0m     \u001b[43mevaluate\u001b[49m\u001b[43m(\u001b[49m\n\u001b[1;32m    329\u001b[0m \u001b[43m        \u001b[49m\u001b[43mmodel\u001b[49m\u001b[38;5;241;43m=\u001b[39;49m\u001b[43mmodel\u001b[49m\u001b[43m,\u001b[49m\n\u001b[1;32m    330\u001b[0m \u001b[43m        \u001b[49m\u001b[43madditional_filter_triples\u001b[49m\u001b[38;5;241;43m=\u001b[39;49m\u001b[43madditional_filter_triples\u001b[49m\u001b[43m,\u001b[49m\n\u001b[1;32m    331\u001b[0m \u001b[43m        \u001b[49m\u001b[43mmapped_triples\u001b[49m\u001b[38;5;241;43m=\u001b[39;49m\u001b[43mmapped_triples\u001b[49m\u001b[43m,\u001b[49m\n\u001b[1;32m    332\u001b[0m \u001b[43m        \u001b[49m\u001b[43mevaluator\u001b[49m\u001b[38;5;241;43m=\u001b[39;49m\u001b[38;5;28;43mself\u001b[39;49m\u001b[43m,\u001b[49m\n\u001b[1;32m    333\u001b[0m \u001b[43m        \u001b[49m\u001b[43monly_size_probing\u001b[49m\u001b[38;5;241;43m=\u001b[39;49m\u001b[38;5;28;43;01mTrue\u001b[39;49;00m\u001b[43m,\u001b[49m\n\u001b[1;32m    334\u001b[0m \u001b[43m        \u001b[49m\u001b[43mdevice\u001b[49m\u001b[38;5;241;43m=\u001b[39;49m\u001b[43mdevice\u001b[49m\u001b[43m,\u001b[49m\n\u001b[1;32m    335\u001b[0m \u001b[43m        \u001b[49m\u001b[43muse_tqdm\u001b[49m\u001b[38;5;241;43m=\u001b[39;49m\u001b[43muse_tqdm\u001b[49m\u001b[43m,\u001b[49m\n\u001b[1;32m    336\u001b[0m \u001b[43m        \u001b[49m\u001b[43mrestrict_entities_to\u001b[49m\u001b[38;5;241;43m=\u001b[39;49m\u001b[43mrestrict_entities_to\u001b[49m\u001b[43m,\u001b[49m\n\u001b[1;32m    337\u001b[0m \u001b[43m        \u001b[49m\u001b[43mdo_time_consuming_checks\u001b[49m\u001b[38;5;241;43m=\u001b[39;49m\u001b[43mdo_time_consuming_checks\u001b[49m\u001b[43m,\u001b[49m\n\u001b[1;32m    338\u001b[0m \u001b[43m        \u001b[49m\u001b[43mbatch_size\u001b[49m\u001b[38;5;241;43m=\u001b[39;49m\u001b[43mvalues_dict\u001b[49m\u001b[38;5;241;43m.\u001b[39;49m\u001b[43mget\u001b[49m\u001b[43m(\u001b[49m\u001b[38;5;124;43m\"\u001b[39;49m\u001b[38;5;124;43mbatch_size\u001b[39;49m\u001b[38;5;124;43m\"\u001b[39;49m\u001b[43m)\u001b[49m\u001b[43m,\u001b[49m\n\u001b[1;32m    339\u001b[0m \u001b[43m        \u001b[49m\u001b[43mslice_size\u001b[49m\u001b[38;5;241;43m=\u001b[39;49m\u001b[43mvalues_dict\u001b[49m\u001b[38;5;241;43m.\u001b[39;49m\u001b[43mget\u001b[49m\u001b[43m(\u001b[49m\u001b[38;5;124;43m\"\u001b[39;49m\u001b[38;5;124;43mslice_size\u001b[39;49m\u001b[38;5;124;43m\"\u001b[39;49m\u001b[43m)\u001b[49m\u001b[43m,\u001b[49m\n\u001b[1;32m    340\u001b[0m \u001b[43m        \u001b[49m\u001b[43mmode\u001b[49m\u001b[38;5;241;43m=\u001b[39;49m\u001b[38;5;28;43mself\u001b[39;49m\u001b[38;5;241;43m.\u001b[39;49m\u001b[43mmode\u001b[49m\u001b[43m,\u001b[49m\n\u001b[1;32m    341\u001b[0m \u001b[43m    \u001b[49m\u001b[43m)\u001b[49m\n\u001b[1;32m    342\u001b[0m     evaluated_once \u001b[38;5;241m=\u001b[39m \u001b[38;5;28;01mTrue\u001b[39;00m\n\u001b[1;32m    343\u001b[0m \u001b[38;5;28;01mexcept\u001b[39;00m \u001b[38;5;167;01mRuntimeError\u001b[39;00m \u001b[38;5;28;01mas\u001b[39;00m runtime_error:\n\u001b[1;32m    344\u001b[0m     \u001b[38;5;66;03m# Due to the caused OOM Runtime Error, the failed model has to be cleared to avoid memory leakage\u001b[39;00m\n",
      "File \u001b[0;32m~/.conda/envs/bioblp-env/lib/python3.8/site-packages/pykeen/evaluation/evaluator.py:658\u001b[0m, in \u001b[0;36mevaluate\u001b[0;34m(model, mapped_triples, evaluator, only_size_probing, batch_size, slice_size, device, use_tqdm, tqdm_kwargs, restrict_entities_to, restrict_relations_to, do_time_consuming_checks, additional_filter_triples, pre_filtered_triples, targets, mode)\u001b[0m\n\u001b[1;32m    656\u001b[0m \u001b[38;5;66;03m# Prepare for result filtering\u001b[39;00m\n\u001b[1;32m    657\u001b[0m \u001b[38;5;28;01mif\u001b[39;00m evaluator\u001b[38;5;241m.\u001b[39mfiltered \u001b[38;5;129;01mor\u001b[39;00m evaluator\u001b[38;5;241m.\u001b[39mrequires_positive_mask:\n\u001b[0;32m--> 658\u001b[0m     all_pos_triples \u001b[38;5;241m=\u001b[39m \u001b[43mprepare_filter_triples\u001b[49m\u001b[43m(\u001b[49m\n\u001b[1;32m    659\u001b[0m \u001b[43m        \u001b[49m\u001b[43mmapped_triples\u001b[49m\u001b[38;5;241;43m=\u001b[39;49m\u001b[43mmapped_triples\u001b[49m\u001b[43m,\u001b[49m\n\u001b[1;32m    660\u001b[0m \u001b[43m        \u001b[49m\u001b[43madditional_filter_triples\u001b[49m\u001b[38;5;241;43m=\u001b[39;49m\u001b[43madditional_filter_triples\u001b[49m\u001b[43m,\u001b[49m\n\u001b[1;32m    661\u001b[0m \u001b[43m    \u001b[49m\u001b[43m)\u001b[49m\u001b[38;5;241m.\u001b[39mto(device\u001b[38;5;241m=\u001b[39mdevice)\n\u001b[1;32m    662\u001b[0m \u001b[38;5;28;01melse\u001b[39;00m:\n\u001b[1;32m    663\u001b[0m     all_pos_triples \u001b[38;5;241m=\u001b[39m \u001b[38;5;28;01mNone\u001b[39;00m\n",
      "File \u001b[0;32m~/.conda/envs/bioblp-env/lib/python3.8/site-packages/pykeen/evaluation/evaluator.py:530\u001b[0m, in \u001b[0;36mprepare_filter_triples\u001b[0;34m(mapped_triples, additional_filter_triples)\u001b[0m\n\u001b[1;32m    527\u001b[0m \u001b[38;5;28;01mif\u001b[39;00m torch\u001b[38;5;241m.\u001b[39mis_tensor(additional_filter_triples):\n\u001b[1;32m    528\u001b[0m     additional_filter_triples \u001b[38;5;241m=\u001b[39m [additional_filter_triples]\n\u001b[0;32m--> 530\u001b[0m \u001b[38;5;28;01mreturn\u001b[39;00m \u001b[43mtorch\u001b[49m\u001b[38;5;241;43m.\u001b[39;49m\u001b[43mcat\u001b[49m\u001b[43m(\u001b[49m\u001b[43m[\u001b[49m\u001b[38;5;241;43m*\u001b[39;49m\u001b[43madditional_filter_triples\u001b[49m\u001b[43m,\u001b[49m\u001b[43m \u001b[49m\u001b[43mmapped_triples\u001b[49m\u001b[43m]\u001b[49m\u001b[43m,\u001b[49m\u001b[43m \u001b[49m\u001b[43mdim\u001b[49m\u001b[38;5;241;43m=\u001b[39;49m\u001b[38;5;241;43m0\u001b[39;49m\u001b[43m)\u001b[49m\u001b[38;5;241;43m.\u001b[39;49m\u001b[43munique\u001b[49m\u001b[43m(\u001b[49m\u001b[43mdim\u001b[49m\u001b[38;5;241;43m=\u001b[39;49m\u001b[38;5;241;43m0\u001b[39;49m\u001b[43m)\u001b[49m\n",
      "File \u001b[0;32m~/.conda/envs/bioblp-env/lib/python3.8/site-packages/torch/_tensor.py:623\u001b[0m, in \u001b[0;36mTensor.unique\u001b[0;34m(self, sorted, return_inverse, return_counts, dim)\u001b[0m\n\u001b[1;32m    618\u001b[0m \u001b[38;5;28;01mif\u001b[39;00m has_torch_function_unary(\u001b[38;5;28mself\u001b[39m):\n\u001b[1;32m    619\u001b[0m     \u001b[38;5;28;01mreturn\u001b[39;00m handle_torch_function(\n\u001b[1;32m    620\u001b[0m         Tensor\u001b[38;5;241m.\u001b[39munique, (\u001b[38;5;28mself\u001b[39m,), \u001b[38;5;28mself\u001b[39m, \u001b[38;5;28msorted\u001b[39m\u001b[38;5;241m=\u001b[39m\u001b[38;5;28msorted\u001b[39m, return_inverse\u001b[38;5;241m=\u001b[39mreturn_inverse,\n\u001b[1;32m    621\u001b[0m         return_counts\u001b[38;5;241m=\u001b[39mreturn_counts, dim\u001b[38;5;241m=\u001b[39mdim\n\u001b[1;32m    622\u001b[0m     )\n\u001b[0;32m--> 623\u001b[0m \u001b[38;5;28;01mreturn\u001b[39;00m \u001b[43mtorch\u001b[49m\u001b[38;5;241;43m.\u001b[39;49m\u001b[43munique\u001b[49m\u001b[43m(\u001b[49m\u001b[38;5;28;43mself\u001b[39;49m\u001b[43m,\u001b[49m\u001b[43m \u001b[49m\u001b[38;5;28;43msorted\u001b[39;49m\u001b[38;5;241;43m=\u001b[39;49m\u001b[38;5;28;43msorted\u001b[39;49m\u001b[43m,\u001b[49m\u001b[43m \u001b[49m\u001b[43mreturn_inverse\u001b[49m\u001b[38;5;241;43m=\u001b[39;49m\u001b[43mreturn_inverse\u001b[49m\u001b[43m,\u001b[49m\u001b[43m \u001b[49m\u001b[43mreturn_counts\u001b[49m\u001b[38;5;241;43m=\u001b[39;49m\u001b[43mreturn_counts\u001b[49m\u001b[43m,\u001b[49m\u001b[43m \u001b[49m\u001b[43mdim\u001b[49m\u001b[38;5;241;43m=\u001b[39;49m\u001b[43mdim\u001b[49m\u001b[43m)\u001b[49m\n",
      "File \u001b[0;32m~/.conda/envs/bioblp-env/lib/python3.8/site-packages/torch/_jit_internal.py:423\u001b[0m, in \u001b[0;36mboolean_dispatch.<locals>.fn\u001b[0;34m(*args, **kwargs)\u001b[0m\n\u001b[1;32m    421\u001b[0m     \u001b[38;5;28;01mreturn\u001b[39;00m if_true(\u001b[38;5;241m*\u001b[39margs, \u001b[38;5;241m*\u001b[39m\u001b[38;5;241m*\u001b[39mkwargs)\n\u001b[1;32m    422\u001b[0m \u001b[38;5;28;01melse\u001b[39;00m:\n\u001b[0;32m--> 423\u001b[0m     \u001b[38;5;28;01mreturn\u001b[39;00m \u001b[43mif_false\u001b[49m\u001b[43m(\u001b[49m\u001b[38;5;241;43m*\u001b[39;49m\u001b[43margs\u001b[49m\u001b[43m,\u001b[49m\u001b[43m \u001b[49m\u001b[38;5;241;43m*\u001b[39;49m\u001b[38;5;241;43m*\u001b[39;49m\u001b[43mkwargs\u001b[49m\u001b[43m)\u001b[49m\n",
      "File \u001b[0;32m~/.conda/envs/bioblp-env/lib/python3.8/site-packages/torch/_jit_internal.py:423\u001b[0m, in \u001b[0;36mboolean_dispatch.<locals>.fn\u001b[0;34m(*args, **kwargs)\u001b[0m\n\u001b[1;32m    421\u001b[0m     \u001b[38;5;28;01mreturn\u001b[39;00m if_true(\u001b[38;5;241m*\u001b[39margs, \u001b[38;5;241m*\u001b[39m\u001b[38;5;241m*\u001b[39mkwargs)\n\u001b[1;32m    422\u001b[0m \u001b[38;5;28;01melse\u001b[39;00m:\n\u001b[0;32m--> 423\u001b[0m     \u001b[38;5;28;01mreturn\u001b[39;00m \u001b[43mif_false\u001b[49m\u001b[43m(\u001b[49m\u001b[38;5;241;43m*\u001b[39;49m\u001b[43margs\u001b[49m\u001b[43m,\u001b[49m\u001b[43m \u001b[49m\u001b[38;5;241;43m*\u001b[39;49m\u001b[38;5;241;43m*\u001b[39;49m\u001b[43mkwargs\u001b[49m\u001b[43m)\u001b[49m\n",
      "File \u001b[0;32m~/.conda/envs/bioblp-env/lib/python3.8/site-packages/torch/functional.py:851\u001b[0m, in \u001b[0;36m_return_output\u001b[0;34m(input, sorted, return_inverse, return_counts, dim)\u001b[0m\n\u001b[1;32m    848\u001b[0m \u001b[38;5;28;01mif\u001b[39;00m has_torch_function_unary(\u001b[38;5;28minput\u001b[39m):\n\u001b[1;32m    849\u001b[0m     \u001b[38;5;28;01mreturn\u001b[39;00m _unique_impl(\u001b[38;5;28minput\u001b[39m, \u001b[38;5;28msorted\u001b[39m, return_inverse, return_counts, dim)\n\u001b[0;32m--> 851\u001b[0m output, _, _ \u001b[38;5;241m=\u001b[39m \u001b[43m_unique_impl\u001b[49m\u001b[43m(\u001b[49m\u001b[38;5;28;43minput\u001b[39;49m\u001b[43m,\u001b[49m\u001b[43m \u001b[49m\u001b[38;5;28;43msorted\u001b[39;49m\u001b[43m,\u001b[49m\u001b[43m \u001b[49m\u001b[43mreturn_inverse\u001b[49m\u001b[43m,\u001b[49m\u001b[43m \u001b[49m\u001b[43mreturn_counts\u001b[49m\u001b[43m,\u001b[49m\u001b[43m \u001b[49m\u001b[43mdim\u001b[49m\u001b[43m)\u001b[49m\n\u001b[1;32m    852\u001b[0m \u001b[38;5;28;01mreturn\u001b[39;00m output\n",
      "File \u001b[0;32m~/.conda/envs/bioblp-env/lib/python3.8/site-packages/torch/functional.py:757\u001b[0m, in \u001b[0;36m_unique_impl\u001b[0;34m(input, sorted, return_inverse, return_counts, dim)\u001b[0m\n\u001b[1;32m    752\u001b[0m     \u001b[38;5;28;01mreturn\u001b[39;00m handle_torch_function(\n\u001b[1;32m    753\u001b[0m         unique, (\u001b[38;5;28minput\u001b[39m,), \u001b[38;5;28minput\u001b[39m, \u001b[38;5;28msorted\u001b[39m\u001b[38;5;241m=\u001b[39m\u001b[38;5;28msorted\u001b[39m, return_inverse\u001b[38;5;241m=\u001b[39mreturn_inverse,\n\u001b[1;32m    754\u001b[0m         return_counts\u001b[38;5;241m=\u001b[39mreturn_counts, dim\u001b[38;5;241m=\u001b[39mdim)\n\u001b[1;32m    756\u001b[0m \u001b[38;5;28;01mif\u001b[39;00m dim \u001b[38;5;129;01mis\u001b[39;00m \u001b[38;5;129;01mnot\u001b[39;00m \u001b[38;5;28;01mNone\u001b[39;00m:\n\u001b[0;32m--> 757\u001b[0m     output, inverse_indices, counts \u001b[38;5;241m=\u001b[39m \u001b[43m_VF\u001b[49m\u001b[38;5;241;43m.\u001b[39;49m\u001b[43munique_dim\u001b[49m\u001b[43m(\u001b[49m\n\u001b[1;32m    758\u001b[0m \u001b[43m        \u001b[49m\u001b[38;5;28;43minput\u001b[39;49m\u001b[43m,\u001b[49m\n\u001b[1;32m    759\u001b[0m \u001b[43m        \u001b[49m\u001b[43mdim\u001b[49m\u001b[43m,\u001b[49m\n\u001b[1;32m    760\u001b[0m \u001b[43m        \u001b[49m\u001b[38;5;28;43msorted\u001b[39;49m\u001b[38;5;241;43m=\u001b[39;49m\u001b[38;5;28;43msorted\u001b[39;49m\u001b[43m,\u001b[49m\n\u001b[1;32m    761\u001b[0m \u001b[43m        \u001b[49m\u001b[43mreturn_inverse\u001b[49m\u001b[38;5;241;43m=\u001b[39;49m\u001b[43mreturn_inverse\u001b[49m\u001b[43m,\u001b[49m\n\u001b[1;32m    762\u001b[0m \u001b[43m        \u001b[49m\u001b[43mreturn_counts\u001b[49m\u001b[38;5;241;43m=\u001b[39;49m\u001b[43mreturn_counts\u001b[49m\u001b[43m,\u001b[49m\n\u001b[1;32m    763\u001b[0m \u001b[43m    \u001b[49m\u001b[43m)\u001b[49m\n\u001b[1;32m    764\u001b[0m \u001b[38;5;28;01melse\u001b[39;00m:\n\u001b[1;32m    765\u001b[0m     output, inverse_indices, counts \u001b[38;5;241m=\u001b[39m torch\u001b[38;5;241m.\u001b[39m_unique2(\n\u001b[1;32m    766\u001b[0m         \u001b[38;5;28minput\u001b[39m,\n\u001b[1;32m    767\u001b[0m         \u001b[38;5;28msorted\u001b[39m\u001b[38;5;241m=\u001b[39m\u001b[38;5;28msorted\u001b[39m,\n\u001b[1;32m    768\u001b[0m         return_inverse\u001b[38;5;241m=\u001b[39mreturn_inverse,\n\u001b[1;32m    769\u001b[0m         return_counts\u001b[38;5;241m=\u001b[39mreturn_counts,\n\u001b[1;32m    770\u001b[0m     )\n",
      "\u001b[0;31mKeyboardInterrupt\u001b[0m: "
     ]
    },
    {
     "name": "stderr",
     "output_type": "stream",
     "text": [
      "    self._target(*self._args, **self._kwargs)\n",
      "  File \"/home/jovyan/.conda/envs/bioblp-env/lib/python3.8/site-packages/wandb/sdk/wandb_run.py\", line 152, in check_network_status\n",
      "    status_response = self._interface.communicate_network_status()\n",
      "  File \"/home/jovyan/.conda/envs/bioblp-env/lib/python3.8/site-packages/wandb/sdk/interface/interface.py\", line 138, in communicate_network_status\n",
      "    resp = self._communicate_network_status(status)\n",
      "  File \"/home/jovyan/.conda/envs/bioblp-env/lib/python3.8/site-packages/wandb/sdk/interface/interface_shared.py\", line 405, in _communicate_network_status\n",
      "    resp = self._communicate(req, local=True)\n",
      "  File \"/home/jovyan/.conda/envs/bioblp-env/lib/python3.8/site-packages/wandb/sdk/interface/interface_shared.py\", line 226, in _communicate\n",
      "    return self._communicate_async(rec, local=local).get(timeout=timeout)\n",
      "  File \"/home/jovyan/.conda/envs/bioblp-env/lib/python3.8/site-packages/wandb/sdk/interface/interface_shared.py\", line 231, in _communicate_async\n",
      "    raise Exception(\"The wandb backend process has shutdown\")\n",
      "Exception: The wandb backend process has shutdown\n"
     ]
    },
    {
     "name": "stdout",
     "output_type": "stream",
     "text": [
      "Error in callback <function _WandbInit._pause_backend at 0x7f629b61fe50> (for post_run_cell):\n"
     ]
    },
    {
     "ename": "Exception",
     "evalue": "The wandb backend process has shutdown",
     "output_type": "error",
     "traceback": [
      "\u001b[0;31m---------------------------------------------------------------------------\u001b[0m",
      "\u001b[0;31mException\u001b[0m                                 Traceback (most recent call last)",
      "File \u001b[0;32m~/.conda/envs/bioblp-env/lib/python3.8/site-packages/backcall/backcall.py:104\u001b[0m, in \u001b[0;36mcallback_prototype.<locals>.adapt.<locals>.adapted\u001b[0;34m(*args, **kwargs)\u001b[0m\n\u001b[1;32m    102\u001b[0m                 kwargs\u001b[38;5;241m.\u001b[39mpop(name)\n\u001b[1;32m    103\u001b[0m \u001b[38;5;66;03m#            print(args, kwargs, unmatched_pos, cut_positional, unmatched_kw)\u001b[39;00m\n\u001b[0;32m--> 104\u001b[0m             \u001b[38;5;28;01mreturn\u001b[39;00m \u001b[43mcallback\u001b[49m\u001b[43m(\u001b[49m\u001b[38;5;241;43m*\u001b[39;49m\u001b[43margs\u001b[49m\u001b[43m,\u001b[49m\u001b[43m \u001b[49m\u001b[38;5;241;43m*\u001b[39;49m\u001b[38;5;241;43m*\u001b[39;49m\u001b[43mkwargs\u001b[49m\u001b[43m)\u001b[49m\n",
      "File \u001b[0;32m~/.conda/envs/bioblp-env/lib/python3.8/site-packages/wandb/sdk/wandb_init.py:346\u001b[0m, in \u001b[0;36m_WandbInit._pause_backend\u001b[0;34m(self)\u001b[0m\n\u001b[1;32m    344\u001b[0m     res \u001b[38;5;241m=\u001b[39m \u001b[38;5;28mself\u001b[39m\u001b[38;5;241m.\u001b[39mrun\u001b[38;5;241m.\u001b[39mlog_code(root\u001b[38;5;241m=\u001b[39m\u001b[38;5;28;01mNone\u001b[39;00m)\n\u001b[1;32m    345\u001b[0m     logger\u001b[38;5;241m.\u001b[39minfo(\u001b[38;5;124m\"\u001b[39m\u001b[38;5;124msaved code: \u001b[39m\u001b[38;5;132;01m%s\u001b[39;00m\u001b[38;5;124m\"\u001b[39m, res)\n\u001b[0;32m--> 346\u001b[0m \u001b[38;5;28;43mself\u001b[39;49m\u001b[38;5;241;43m.\u001b[39;49m\u001b[43mbackend\u001b[49m\u001b[38;5;241;43m.\u001b[39;49m\u001b[43minterface\u001b[49m\u001b[38;5;241;43m.\u001b[39;49m\u001b[43mpublish_pause\u001b[49m\u001b[43m(\u001b[49m\u001b[43m)\u001b[49m\n",
      "File \u001b[0;32m~/.conda/envs/bioblp-env/lib/python3.8/site-packages/wandb/sdk/interface/interface.py:609\u001b[0m, in \u001b[0;36mInterfaceBase.publish_pause\u001b[0;34m(self)\u001b[0m\n\u001b[1;32m    607\u001b[0m \u001b[38;5;28;01mdef\u001b[39;00m \u001b[38;5;21mpublish_pause\u001b[39m(\u001b[38;5;28mself\u001b[39m) \u001b[38;5;241m-\u001b[39m\u001b[38;5;241m>\u001b[39m \u001b[38;5;28;01mNone\u001b[39;00m:\n\u001b[1;32m    608\u001b[0m     pause \u001b[38;5;241m=\u001b[39m pb\u001b[38;5;241m.\u001b[39mPauseRequest()\n\u001b[0;32m--> 609\u001b[0m     \u001b[38;5;28;43mself\u001b[39;49m\u001b[38;5;241;43m.\u001b[39;49m\u001b[43m_publish_pause\u001b[49m\u001b[43m(\u001b[49m\u001b[43mpause\u001b[49m\u001b[43m)\u001b[49m\n",
      "File \u001b[0;32m~/.conda/envs/bioblp-env/lib/python3.8/site-packages/wandb/sdk/interface/interface_shared.py:279\u001b[0m, in \u001b[0;36mInterfaceShared._publish_pause\u001b[0;34m(self, pause)\u001b[0m\n\u001b[1;32m    277\u001b[0m \u001b[38;5;28;01mdef\u001b[39;00m \u001b[38;5;21m_publish_pause\u001b[39m(\u001b[38;5;28mself\u001b[39m, pause: pb\u001b[38;5;241m.\u001b[39mPauseRequest) \u001b[38;5;241m-\u001b[39m\u001b[38;5;241m>\u001b[39m \u001b[38;5;28;01mNone\u001b[39;00m:\n\u001b[1;32m    278\u001b[0m     rec \u001b[38;5;241m=\u001b[39m \u001b[38;5;28mself\u001b[39m\u001b[38;5;241m.\u001b[39m_make_request(pause\u001b[38;5;241m=\u001b[39mpause)\n\u001b[0;32m--> 279\u001b[0m     \u001b[38;5;28;43mself\u001b[39;49m\u001b[38;5;241;43m.\u001b[39;49m\u001b[43m_publish\u001b[49m\u001b[43m(\u001b[49m\u001b[43mrec\u001b[49m\u001b[43m)\u001b[49m\n",
      "File \u001b[0;32m~/.conda/envs/bioblp-env/lib/python3.8/site-packages/wandb/sdk/interface/interface_queue.py:49\u001b[0m, in \u001b[0;36mInterfaceQueue._publish\u001b[0;34m(self, record, local)\u001b[0m\n\u001b[1;32m     47\u001b[0m \u001b[38;5;28;01mdef\u001b[39;00m \u001b[38;5;21m_publish\u001b[39m(\u001b[38;5;28mself\u001b[39m, record: \u001b[38;5;124m\"\u001b[39m\u001b[38;5;124mpb.Record\u001b[39m\u001b[38;5;124m\"\u001b[39m, local: \u001b[38;5;28mbool\u001b[39m \u001b[38;5;241m=\u001b[39m \u001b[38;5;28;01mNone\u001b[39;00m) \u001b[38;5;241m-\u001b[39m\u001b[38;5;241m>\u001b[39m \u001b[38;5;28;01mNone\u001b[39;00m:\n\u001b[1;32m     48\u001b[0m     \u001b[38;5;28;01mif\u001b[39;00m \u001b[38;5;28mself\u001b[39m\u001b[38;5;241m.\u001b[39m_process_check \u001b[38;5;129;01mand\u001b[39;00m \u001b[38;5;28mself\u001b[39m\u001b[38;5;241m.\u001b[39m_process \u001b[38;5;129;01mand\u001b[39;00m \u001b[38;5;129;01mnot\u001b[39;00m \u001b[38;5;28mself\u001b[39m\u001b[38;5;241m.\u001b[39m_process\u001b[38;5;241m.\u001b[39mis_alive():\n\u001b[0;32m---> 49\u001b[0m         \u001b[38;5;28;01mraise\u001b[39;00m \u001b[38;5;167;01mException\u001b[39;00m(\u001b[38;5;124m\"\u001b[39m\u001b[38;5;124mThe wandb backend process has shutdown\u001b[39m\u001b[38;5;124m\"\u001b[39m)\n\u001b[1;32m     50\u001b[0m     \u001b[38;5;28;01mif\u001b[39;00m local:\n\u001b[1;32m     51\u001b[0m         record\u001b[38;5;241m.\u001b[39mcontrol\u001b[38;5;241m.\u001b[39mlocal \u001b[38;5;241m=\u001b[39m local\n",
      "\u001b[0;31mException\u001b[0m: The wandb backend process has shutdown"
     ]
    },
    {
     "name": "stderr",
     "output_type": "stream",
     "text": [
      "Exception in thread ChkStopThr:\n",
      "Traceback (most recent call last):\n",
      "  File \"/home/jovyan/.conda/envs/bioblp-env/lib/python3.8/threading.py\", line 932, in _bootstrap_inner\n",
      "    self.run()\n",
      "  File \"/home/jovyan/.conda/envs/bioblp-env/lib/python3.8/threading.py\", line 870, in run\n",
      "    self._target(*self._args, **self._kwargs)\n",
      "  File \"/home/jovyan/.conda/envs/bioblp-env/lib/python3.8/site-packages/wandb/sdk/wandb_run.py\", line 170, in check_status\n",
      "    status_response = self._interface.communicate_stop_status()\n",
      "  File \"/home/jovyan/.conda/envs/bioblp-env/lib/python3.8/site-packages/wandb/sdk/interface/interface.py\", line 127, in communicate_stop_status\n",
      "    resp = self._communicate_stop_status(status)\n",
      "  File \"/home/jovyan/.conda/envs/bioblp-env/lib/python3.8/site-packages/wandb/sdk/interface/interface_shared.py\", line 395, in _communicate_stop_status\n",
      "    resp = self._communicate(req, local=True)\n",
      "  File \"/home/jovyan/.conda/envs/bioblp-env/lib/python3.8/site-packages/wandb/sdk/interface/interface_shared.py\", line 226, in _communicate\n",
      "    return self._communicate_async(rec, local=local).get(timeout=timeout)\n",
      "  File \"/home/jovyan/.conda/envs/bioblp-env/lib/python3.8/site-packages/wandb/sdk/interface/interface_shared.py\", line 231, in _communicate_async\n",
      "    raise Exception(\"The wandb backend process has shutdown\")\n",
      "Exception: The wandb backend process has shutdown\n"
     ]
    }
   ],
   "source": [
    "# parameterise MODEL_NAME_SLUG as single point of entry into chain of model related parameters\n",
    "MODEL_NAME_SLUG = ROTATE\n",
    "MODEL_ID = MODELS.get(MODEL_NAME_SLUG)  \n",
    "DUMMY_TEST_LIST = [DUMMY]\n",
    "eval_out_dir = Path(f\"./metrics/{MODEL_ID}\")\n",
    "\n",
    "run_wandb_eval_by_rel_breakdown_on_multiple_test_sets(model_id=MODEL_ID,\n",
    "                                             test_set_list=DUMMY_TEST_LIST,\n",
    "                                             eval_out_dir=eval_out_dir,\n",
    "                                             wandb_project_name=WANDB_PROJECT_NAME)"
   ]
  },
  {
   "cell_type": "markdown",
   "id": "5191df9c-af3c-457d-a144-a644155b8baf",
   "metadata": {},
   "source": [
    "test on all test sets with BIOBLP_D"
   ]
  },
  {
   "cell_type": "code",
   "execution_count": null,
   "id": "11b77090",
   "metadata": {
    "tags": []
   },
   "outputs": [],
   "source": [
    "MODEL_NAME_SLUG = BIOBLP_D\n",
    "MODEL_ID = MODELS.get(MODEL_NAME_SLUG)  \n",
    "eval_out_dir = Path(f\"./metrics/{MODEL_ID}\")\n",
    "\n",
    "run_wandb_eval_by_rel_breakdown_on_multiple_test_sets(model_id=MODEL_ID,\n",
    "                                             test_set_list=TEST_SET_LIST,\n",
    "                                             eval_out_dir=eval_out_dir,\n",
    "                                             wandb_project_name=WANDB_PROJECT_NAME)"
   ]
  },
  {
   "cell_type": "markdown",
   "id": "84ed0ff2-4a7c-4dc3-9c16-2d07fdb3366d",
   "metadata": {},
   "source": [
    "Based on the above, we can create requisite plots as done in https://api.wandb.ai/links/discoverylab/n5150z4m "
   ]
  },
  {
   "cell_type": "code",
   "execution_count": 30,
   "id": "e456571e-2ac0-46a2-8b0b-5df5b7af050b",
   "metadata": {},
   "outputs": [],
   "source": [
    "LOAD_ROTATE_EVAL_RELWISE_METRICS=False\n",
    "if LOAD_ROTATE_EVAL_RELWISE_METRICS:\n",
    "    out_dir = Path(f'metrics/{MODELS.get(ROTATE)}')\n",
    "    STUDY_EVAL_REL_BREAKDOWN = 'eval-rel-breakdown'\n",
    "\n",
    "    with open(out_dir.joinpath(f'{STUDY_EVAL_REL_BREAKDOWN}.json'), 'r') as f:\n",
    "        metrics_relwise_rotate =  json.load(f)"
   ]
  },
  {
   "cell_type": "code",
   "execution_count": 28,
   "id": "19a09ec0",
   "metadata": {},
   "outputs": [],
   "source": [
    "LOAD_BIOBLP_EVAL_RELWISE_METRICS=True\n",
    "if LOAD_BIOBLP_EVAL_RELWISE_METRICS:\n",
    "    out_dir = Path(f'metrics/{MODELS.get(BIOBLP_D)}')\n",
    "    STUDY_EVAL_REL_BREAKDOWN = 'eval-rel-breakdown'\n",
    "\n",
    "    with open(out_dir.joinpath(f'{STUDY_EVAL_REL_BREAKDOWN}.json'), 'r') as f:\n",
    "        metrics_relwise_bioblpd =  json.load(f)"
   ]
  },
  {
   "cell_type": "markdown",
   "id": "795daf7a-486a-40af-b371-2817cde74fcf",
   "metadata": {},
   "source": [
    "#### making custom plots for WandB (plotting 2 data series within same scatter plot)\n"
   ]
  },
  {
   "cell_type": "code",
   "execution_count": 29,
   "id": "fb326eb2",
   "metadata": {},
   "outputs": [
    {
     "data": {
      "text/html": [
       "<div>\n",
       "<style scoped>\n",
       "    .dataframe tbody tr th:only-of-type {\n",
       "        vertical-align: middle;\n",
       "    }\n",
       "\n",
       "    .dataframe tbody tr th {\n",
       "        vertical-align: top;\n",
       "    }\n",
       "\n",
       "    .dataframe thead th {\n",
       "        text-align: right;\n",
       "    }\n",
       "</style>\n",
       "<table border=\"1\" class=\"dataframe\">\n",
       "  <thead>\n",
       "    <tr style=\"text-align: right;\">\n",
       "      <th></th>\n",
       "      <th>Relation</th>\n",
       "      <th>Count</th>\n",
       "      <th>arithmetic_mean_rank</th>\n",
       "      <th>adjusted_arithmetic_mean_rank</th>\n",
       "      <th>inverse_harmonic_mean_rank</th>\n",
       "      <th>hits_at_1</th>\n",
       "      <th>hits_at_3</th>\n",
       "      <th>hits_at_5</th>\n",
       "      <th>hits_at_10</th>\n",
       "    </tr>\n",
       "  </thead>\n",
       "  <tbody>\n",
       "    <tr>\n",
       "      <th>0</th>\n",
       "      <td>DISEASE_GENETIC_DISORDER</td>\n",
       "      <td>261.0</td>\n",
       "      <td>2200.370605</td>\n",
       "      <td>0.041507</td>\n",
       "      <td>0.632742</td>\n",
       "      <td>0.590038</td>\n",
       "      <td>0.647510</td>\n",
       "      <td>0.683908</td>\n",
       "      <td>0.724138</td>\n",
       "    </tr>\n",
       "    <tr>\n",
       "      <th>1</th>\n",
       "      <td>DISEASE_PATHWAY_ASSOCIATION</td>\n",
       "      <td>293.0</td>\n",
       "      <td>3717.679932</td>\n",
       "      <td>0.070119</td>\n",
       "      <td>0.116742</td>\n",
       "      <td>0.078498</td>\n",
       "      <td>0.141638</td>\n",
       "      <td>0.162116</td>\n",
       "      <td>0.180887</td>\n",
       "    </tr>\n",
       "    <tr>\n",
       "      <th>2</th>\n",
       "      <td>DRUG_DISEASE_ASSOCIATION</td>\n",
       "      <td>6749.0</td>\n",
       "      <td>1575.149048</td>\n",
       "      <td>0.029739</td>\n",
       "      <td>0.025802</td>\n",
       "      <td>0.009409</td>\n",
       "      <td>0.022300</td>\n",
       "      <td>0.031338</td>\n",
       "      <td>0.052008</td>\n",
       "    </tr>\n",
       "    <tr>\n",
       "      <th>3</th>\n",
       "      <td>PROTEIN_DISEASE_ASSOCIATION</td>\n",
       "      <td>9760.0</td>\n",
       "      <td>5188.562500</td>\n",
       "      <td>0.098028</td>\n",
       "      <td>0.064648</td>\n",
       "      <td>0.047490</td>\n",
       "      <td>0.066393</td>\n",
       "      <td>0.078279</td>\n",
       "      <td>0.095236</td>\n",
       "    </tr>\n",
       "  </tbody>\n",
       "</table>\n",
       "</div>"
      ],
      "text/plain": [
       "                      Relation   Count  arithmetic_mean_rank  \\\n",
       "0     DISEASE_GENETIC_DISORDER   261.0           2200.370605   \n",
       "1  DISEASE_PATHWAY_ASSOCIATION   293.0           3717.679932   \n",
       "2     DRUG_DISEASE_ASSOCIATION  6749.0           1575.149048   \n",
       "3  PROTEIN_DISEASE_ASSOCIATION  9760.0           5188.562500   \n",
       "\n",
       "   adjusted_arithmetic_mean_rank  inverse_harmonic_mean_rank  hits_at_1  \\\n",
       "0                       0.041507                    0.632742   0.590038   \n",
       "1                       0.070119                    0.116742   0.078498   \n",
       "2                       0.029739                    0.025802   0.009409   \n",
       "3                       0.098028                    0.064648   0.047490   \n",
       "\n",
       "   hits_at_3  hits_at_5  hits_at_10  \n",
       "0   0.647510   0.683908    0.724138  \n",
       "1   0.141638   0.162116    0.180887  \n",
       "2   0.022300   0.031338    0.052008  \n",
       "3   0.066393   0.078279    0.095236  "
      ]
     },
     "execution_count": 29,
     "metadata": {},
     "output_type": "execute_result"
    }
   ],
   "source": [
    "results_df = pd.DataFrame(metrics_relwise_bioblpd[TEST_RESTRICTED_DIS])\n",
    "results_df.transpose().reset_index().rename(columns={'index':'Relation'})"
   ]
  },
  {
   "cell_type": "code",
   "execution_count": 81,
   "id": "b0e754ea",
   "metadata": {},
   "outputs": [],
   "source": [
    "#### logging custom plots to wandb for rel-wise\n",
    "#wandb.finish()"
   ]
  },
  {
   "cell_type": "code",
   "execution_count": 82,
   "id": "7b48de9a",
   "metadata": {},
   "outputs": [
    {
     "data": {
      "text/html": [
       "Finishing last run (ID:23zt353x) before initializing another..."
      ],
      "text/plain": [
       "<IPython.core.display.HTML object>"
      ]
     },
     "metadata": {},
     "output_type": "display_data"
    },
    {
     "data": {
      "text/html": [
       "Successfully finished last run (ID:23zt353x). Initializing new run:<br/>"
      ],
      "text/plain": [
       "<IPython.core.display.HTML object>"
      ]
     },
     "metadata": {},
     "output_type": "display_data"
    },
    {
     "data": {
      "text/html": [
       "wandb version 0.13.10 is available!  To upgrade, please run:\n",
       " $ pip install wandb --upgrade"
      ],
      "text/plain": [
       "<IPython.core.display.HTML object>"
      ]
     },
     "metadata": {},
     "output_type": "display_data"
    },
    {
     "data": {
      "text/html": [
       "Tracking run with wandb version 0.12.20"
      ],
      "text/plain": [
       "<IPython.core.display.HTML object>"
      ]
     },
     "metadata": {},
     "output_type": "display_data"
    },
    {
     "data": {
      "text/html": [
       "Run data is saved locally in <code>/home/jovyan/BioBLP/notebooks/wandb/run-20230302_204945-clq3agii</code>"
      ],
      "text/plain": [
       "<IPython.core.display.HTML object>"
      ]
     },
     "metadata": {},
     "output_type": "display_data"
    },
    {
     "data": {
      "text/html": [
       "Syncing run <strong><a href=\"https://wandb.ai/discoverylab/bioblp-jupyter-trial/runs/clq3agii\" target=\"_blank\">deep-pond-50</a></strong> to <a href=\"https://wandb.ai/discoverylab/bioblp-jupyter-trial\" target=\"_blank\">Weights & Biases</a> (<a href=\"https://wandb.me/run\" target=\"_blank\">docs</a>)<br/>"
      ],
      "text/plain": [
       "<IPython.core.display.HTML object>"
      ]
     },
     "metadata": {},
     "output_type": "display_data"
    },
    {
     "data": {
      "text/html": [
       "Finishing last run (ID:clq3agii) before initializing another..."
      ],
      "text/plain": [
       "<IPython.core.display.HTML object>"
      ]
     },
     "metadata": {},
     "output_type": "display_data"
    },
    {
     "data": {
      "text/html": [
       "Waiting for W&B process to finish... <strong style=\"color:green\">(success).</strong>"
      ],
      "text/plain": [
       "<IPython.core.display.HTML object>"
      ]
     },
     "metadata": {},
     "output_type": "display_data"
    },
    {
     "data": {
      "text/html": [
       "Synced <strong style=\"color:#cdcd00\">deep-pond-50</strong>: <a href=\"https://wandb.ai/discoverylab/bioblp-jupyter-trial/runs/clq3agii\" target=\"_blank\">https://wandb.ai/discoverylab/bioblp-jupyter-trial/runs/clq3agii</a><br/>Synced 5 W&B file(s), 8 media file(s), 8 artifact file(s) and 0 other file(s)"
      ],
      "text/plain": [
       "<IPython.core.display.HTML object>"
      ]
     },
     "metadata": {},
     "output_type": "display_data"
    },
    {
     "data": {
      "text/html": [
       "Find logs at: <code>./wandb/run-20230302_204945-clq3agii/logs</code>"
      ],
      "text/plain": [
       "<IPython.core.display.HTML object>"
      ]
     },
     "metadata": {},
     "output_type": "display_data"
    },
    {
     "data": {
      "text/html": [
       "Successfully finished last run (ID:clq3agii). Initializing new run:<br/>"
      ],
      "text/plain": [
       "<IPython.core.display.HTML object>"
      ]
     },
     "metadata": {},
     "output_type": "display_data"
    },
    {
     "data": {
      "text/html": [
       "wandb version 0.13.10 is available!  To upgrade, please run:\n",
       " $ pip install wandb --upgrade"
      ],
      "text/plain": [
       "<IPython.core.display.HTML object>"
      ]
     },
     "metadata": {},
     "output_type": "display_data"
    },
    {
     "data": {
      "text/html": [
       "Tracking run with wandb version 0.12.20"
      ],
      "text/plain": [
       "<IPython.core.display.HTML object>"
      ]
     },
     "metadata": {},
     "output_type": "display_data"
    },
    {
     "data": {
      "text/html": [
       "Run data is saved locally in <code>/home/jovyan/BioBLP/notebooks/wandb/run-20230302_204956-2ug060e0</code>"
      ],
      "text/plain": [
       "<IPython.core.display.HTML object>"
      ]
     },
     "metadata": {},
     "output_type": "display_data"
    },
    {
     "data": {
      "text/html": [
       "Syncing run <strong><a href=\"https://wandb.ai/discoverylab/bioblp-jupyter-trial/runs/2ug060e0\" target=\"_blank\">frosty-river-51</a></strong> to <a href=\"https://wandb.ai/discoverylab/bioblp-jupyter-trial\" target=\"_blank\">Weights & Biases</a> (<a href=\"https://wandb.me/run\" target=\"_blank\">docs</a>)<br/>"
      ],
      "text/plain": [
       "<IPython.core.display.HTML object>"
      ]
     },
     "metadata": {},
     "output_type": "display_data"
    },
    {
     "data": {
      "text/html": [
       "Finishing last run (ID:2ug060e0) before initializing another..."
      ],
      "text/plain": [
       "<IPython.core.display.HTML object>"
      ]
     },
     "metadata": {},
     "output_type": "display_data"
    },
    {
     "data": {
      "text/html": [
       "Waiting for W&B process to finish... <strong style=\"color:green\">(success).</strong>"
      ],
      "text/plain": [
       "<IPython.core.display.HTML object>"
      ]
     },
     "metadata": {},
     "output_type": "display_data"
    },
    {
     "data": {
      "text/html": [
       "Synced <strong style=\"color:#cdcd00\">frosty-river-51</strong>: <a href=\"https://wandb.ai/discoverylab/bioblp-jupyter-trial/runs/2ug060e0\" target=\"_blank\">https://wandb.ai/discoverylab/bioblp-jupyter-trial/runs/2ug060e0</a><br/>Synced 5 W&B file(s), 8 media file(s), 8 artifact file(s) and 0 other file(s)"
      ],
      "text/plain": [
       "<IPython.core.display.HTML object>"
      ]
     },
     "metadata": {},
     "output_type": "display_data"
    },
    {
     "data": {
      "text/html": [
       "Find logs at: <code>./wandb/run-20230302_204956-2ug060e0/logs</code>"
      ],
      "text/plain": [
       "<IPython.core.display.HTML object>"
      ]
     },
     "metadata": {},
     "output_type": "display_data"
    },
    {
     "data": {
      "text/html": [
       "Successfully finished last run (ID:2ug060e0). Initializing new run:<br/>"
      ],
      "text/plain": [
       "<IPython.core.display.HTML object>"
      ]
     },
     "metadata": {},
     "output_type": "display_data"
    },
    {
     "data": {
      "text/html": [
       "wandb version 0.13.10 is available!  To upgrade, please run:\n",
       " $ pip install wandb --upgrade"
      ],
      "text/plain": [
       "<IPython.core.display.HTML object>"
      ]
     },
     "metadata": {},
     "output_type": "display_data"
    },
    {
     "data": {
      "text/html": [
       "Tracking run with wandb version 0.12.20"
      ],
      "text/plain": [
       "<IPython.core.display.HTML object>"
      ]
     },
     "metadata": {},
     "output_type": "display_data"
    },
    {
     "data": {
      "text/html": [
       "Run data is saved locally in <code>/home/jovyan/BioBLP/notebooks/wandb/run-20230302_205036-208julwh</code>"
      ],
      "text/plain": [
       "<IPython.core.display.HTML object>"
      ]
     },
     "metadata": {},
     "output_type": "display_data"
    },
    {
     "data": {
      "text/html": [
       "Syncing run <strong><a href=\"https://wandb.ai/discoverylab/bioblp-jupyter-trial/runs/208julwh\" target=\"_blank\">cerulean-grass-52</a></strong> to <a href=\"https://wandb.ai/discoverylab/bioblp-jupyter-trial\" target=\"_blank\">Weights & Biases</a> (<a href=\"https://wandb.me/run\" target=\"_blank\">docs</a>)<br/>"
      ],
      "text/plain": [
       "<IPython.core.display.HTML object>"
      ]
     },
     "metadata": {},
     "output_type": "display_data"
    },
    {
     "data": {
      "text/html": [
       "Finishing last run (ID:208julwh) before initializing another..."
      ],
      "text/plain": [
       "<IPython.core.display.HTML object>"
      ]
     },
     "metadata": {},
     "output_type": "display_data"
    },
    {
     "data": {
      "text/html": [
       "Waiting for W&B process to finish... <strong style=\"color:green\">(success).</strong>"
      ],
      "text/plain": [
       "<IPython.core.display.HTML object>"
      ]
     },
     "metadata": {},
     "output_type": "display_data"
    },
    {
     "data": {
      "text/html": [
       "Synced <strong style=\"color:#cdcd00\">cerulean-grass-52</strong>: <a href=\"https://wandb.ai/discoverylab/bioblp-jupyter-trial/runs/208julwh\" target=\"_blank\">https://wandb.ai/discoverylab/bioblp-jupyter-trial/runs/208julwh</a><br/>Synced 5 W&B file(s), 8 media file(s), 8 artifact file(s) and 0 other file(s)"
      ],
      "text/plain": [
       "<IPython.core.display.HTML object>"
      ]
     },
     "metadata": {},
     "output_type": "display_data"
    },
    {
     "data": {
      "text/html": [
       "Find logs at: <code>./wandb/run-20230302_205036-208julwh/logs</code>"
      ],
      "text/plain": [
       "<IPython.core.display.HTML object>"
      ]
     },
     "metadata": {},
     "output_type": "display_data"
    },
    {
     "data": {
      "text/html": [
       "Successfully finished last run (ID:208julwh). Initializing new run:<br/>"
      ],
      "text/plain": [
       "<IPython.core.display.HTML object>"
      ]
     },
     "metadata": {},
     "output_type": "display_data"
    },
    {
     "data": {
      "text/html": [
       "wandb version 0.13.10 is available!  To upgrade, please run:\n",
       " $ pip install wandb --upgrade"
      ],
      "text/plain": [
       "<IPython.core.display.HTML object>"
      ]
     },
     "metadata": {},
     "output_type": "display_data"
    },
    {
     "data": {
      "text/html": [
       "Tracking run with wandb version 0.12.20"
      ],
      "text/plain": [
       "<IPython.core.display.HTML object>"
      ]
     },
     "metadata": {},
     "output_type": "display_data"
    },
    {
     "data": {
      "text/html": [
       "Run data is saved locally in <code>/home/jovyan/BioBLP/notebooks/wandb/run-20230302_205109-1g8h7ql0</code>"
      ],
      "text/plain": [
       "<IPython.core.display.HTML object>"
      ]
     },
     "metadata": {},
     "output_type": "display_data"
    },
    {
     "data": {
      "text/html": [
       "Syncing run <strong><a href=\"https://wandb.ai/discoverylab/bioblp-jupyter-trial/runs/1g8h7ql0\" target=\"_blank\">ruby-sponge-53</a></strong> to <a href=\"https://wandb.ai/discoverylab/bioblp-jupyter-trial\" target=\"_blank\">Weights & Biases</a> (<a href=\"https://wandb.me/run\" target=\"_blank\">docs</a>)<br/>"
      ],
      "text/plain": [
       "<IPython.core.display.HTML object>"
      ]
     },
     "metadata": {},
     "output_type": "display_data"
    }
   ],
   "source": [
    "model_id = MODEL_ID_rotate\n",
    "\n",
    "for test_set_slug, result_dicts in metrics_relwise_rotate.items():\n",
    "    tags = {\"model_name\": model_id,\n",
    "                \"study_name\": 'eval_rel_breakdown_custom_plot',\n",
    "                \"test_set_type\": test_set_slug}\n",
    "    run = setup_wandb_result_tracker(**tags, project_name=WANDB_PROJECT_NAME, wandb_entity=WANDB_ENTITY_DISCOVERYLAB)\n",
    "    results_df = pd.DataFrame(result_dicts).transpose()\n",
    "    results_df = results_df.reset_index().rename(columns={'index':'Relation'})\n",
    "\n",
    "    metric_cols = list(results_df.columns)\n",
    "    metric_cols=[x for x in metric_cols if x != 'Relation']\n",
    "\n",
    "    for metric in metric_cols:\n",
    "        rel_metric_dict = dict(zip(results_df.Relation, results_df[metric]))\n",
    "        data = [[rel, val] for (rel, val) in rel_metric_dict.items()]\n",
    "        table = wandb.Table(data=data, columns = [\"relation\", \"value\"])\n",
    "        wandb.log({f\"bar_chart_{metric}\" : wandb.plot.bar(table, \"relation\",\n",
    "                                   \"value\", title=f\"{metric} by relation\")})"
   ]
  },
  {
   "cell_type": "code",
   "execution_count": 83,
   "id": "d868cc7f",
   "metadata": {
    "collapsed": true,
    "jupyter": {
     "outputs_hidden": true
    },
    "tags": []
   },
   "outputs": [
    {
     "data": {
      "text/html": [
       "Finishing last run (ID:1g8h7ql0) before initializing another..."
      ],
      "text/plain": [
       "<IPython.core.display.HTML object>"
      ]
     },
     "metadata": {},
     "output_type": "display_data"
    },
    {
     "data": {
      "text/html": [
       "Waiting for W&B process to finish... <strong style=\"color:green\">(success).</strong>"
      ],
      "text/plain": [
       "<IPython.core.display.HTML object>"
      ]
     },
     "metadata": {},
     "output_type": "display_data"
    },
    {
     "data": {
      "text/html": [
       "Synced <strong style=\"color:#cdcd00\">ruby-sponge-53</strong>: <a href=\"https://wandb.ai/discoverylab/bioblp-jupyter-trial/runs/1g8h7ql0\" target=\"_blank\">https://wandb.ai/discoverylab/bioblp-jupyter-trial/runs/1g8h7ql0</a><br/>Synced 5 W&B file(s), 8 media file(s), 8 artifact file(s) and 0 other file(s)"
      ],
      "text/plain": [
       "<IPython.core.display.HTML object>"
      ]
     },
     "metadata": {},
     "output_type": "display_data"
    },
    {
     "data": {
      "text/html": [
       "Find logs at: <code>./wandb/run-20230302_205109-1g8h7ql0/logs</code>"
      ],
      "text/plain": [
       "<IPython.core.display.HTML object>"
      ]
     },
     "metadata": {},
     "output_type": "display_data"
    },
    {
     "data": {
      "text/html": [
       "Successfully finished last run (ID:1g8h7ql0). Initializing new run:<br/>"
      ],
      "text/plain": [
       "<IPython.core.display.HTML object>"
      ]
     },
     "metadata": {},
     "output_type": "display_data"
    },
    {
     "data": {
      "text/html": [
       "wandb version 0.13.10 is available!  To upgrade, please run:\n",
       " $ pip install wandb --upgrade"
      ],
      "text/plain": [
       "<IPython.core.display.HTML object>"
      ]
     },
     "metadata": {},
     "output_type": "display_data"
    },
    {
     "data": {
      "text/html": [
       "Tracking run with wandb version 0.12.20"
      ],
      "text/plain": [
       "<IPython.core.display.HTML object>"
      ]
     },
     "metadata": {},
     "output_type": "display_data"
    },
    {
     "data": {
      "text/html": [
       "Run data is saved locally in <code>/home/jovyan/BioBLP/notebooks/wandb/run-20230302_205412-1pe8jubb</code>"
      ],
      "text/plain": [
       "<IPython.core.display.HTML object>"
      ]
     },
     "metadata": {},
     "output_type": "display_data"
    },
    {
     "data": {
      "text/html": [
       "Syncing run <strong><a href=\"https://wandb.ai/discoverylab/bioblp-jupyter-trial/runs/1pe8jubb\" target=\"_blank\">lively-deluge-54</a></strong> to <a href=\"https://wandb.ai/discoverylab/bioblp-jupyter-trial\" target=\"_blank\">Weights & Biases</a> (<a href=\"https://wandb.me/run\" target=\"_blank\">docs</a>)<br/>"
      ],
      "text/plain": [
       "<IPython.core.display.HTML object>"
      ]
     },
     "metadata": {},
     "output_type": "display_data"
    },
    {
     "data": {
      "text/html": [
       "Finishing last run (ID:1pe8jubb) before initializing another..."
      ],
      "text/plain": [
       "<IPython.core.display.HTML object>"
      ]
     },
     "metadata": {},
     "output_type": "display_data"
    },
    {
     "data": {
      "text/html": [
       "Waiting for W&B process to finish... <strong style=\"color:green\">(success).</strong>"
      ],
      "text/plain": [
       "<IPython.core.display.HTML object>"
      ]
     },
     "metadata": {},
     "output_type": "display_data"
    },
    {
     "data": {
      "text/html": [
       "Synced <strong style=\"color:#cdcd00\">lively-deluge-54</strong>: <a href=\"https://wandb.ai/discoverylab/bioblp-jupyter-trial/runs/1pe8jubb\" target=\"_blank\">https://wandb.ai/discoverylab/bioblp-jupyter-trial/runs/1pe8jubb</a><br/>Synced 5 W&B file(s), 8 media file(s), 8 artifact file(s) and 0 other file(s)"
      ],
      "text/plain": [
       "<IPython.core.display.HTML object>"
      ]
     },
     "metadata": {},
     "output_type": "display_data"
    },
    {
     "data": {
      "text/html": [
       "Find logs at: <code>./wandb/run-20230302_205412-1pe8jubb/logs</code>"
      ],
      "text/plain": [
       "<IPython.core.display.HTML object>"
      ]
     },
     "metadata": {},
     "output_type": "display_data"
    },
    {
     "data": {
      "text/html": [
       "Successfully finished last run (ID:1pe8jubb). Initializing new run:<br/>"
      ],
      "text/plain": [
       "<IPython.core.display.HTML object>"
      ]
     },
     "metadata": {},
     "output_type": "display_data"
    },
    {
     "data": {
      "text/html": [
       "wandb version 0.13.10 is available!  To upgrade, please run:\n",
       " $ pip install wandb --upgrade"
      ],
      "text/plain": [
       "<IPython.core.display.HTML object>"
      ]
     },
     "metadata": {},
     "output_type": "display_data"
    },
    {
     "data": {
      "text/html": [
       "Tracking run with wandb version 0.12.20"
      ],
      "text/plain": [
       "<IPython.core.display.HTML object>"
      ]
     },
     "metadata": {},
     "output_type": "display_data"
    },
    {
     "data": {
      "text/html": [
       "Run data is saved locally in <code>/home/jovyan/BioBLP/notebooks/wandb/run-20230302_205426-1x94eqvu</code>"
      ],
      "text/plain": [
       "<IPython.core.display.HTML object>"
      ]
     },
     "metadata": {},
     "output_type": "display_data"
    },
    {
     "data": {
      "text/html": [
       "Syncing run <strong><a href=\"https://wandb.ai/discoverylab/bioblp-jupyter-trial/runs/1x94eqvu\" target=\"_blank\">fluent-pine-55</a></strong> to <a href=\"https://wandb.ai/discoverylab/bioblp-jupyter-trial\" target=\"_blank\">Weights & Biases</a> (<a href=\"https://wandb.me/run\" target=\"_blank\">docs</a>)<br/>"
      ],
      "text/plain": [
       "<IPython.core.display.HTML object>"
      ]
     },
     "metadata": {},
     "output_type": "display_data"
    },
    {
     "data": {
      "text/html": [
       "Finishing last run (ID:1x94eqvu) before initializing another..."
      ],
      "text/plain": [
       "<IPython.core.display.HTML object>"
      ]
     },
     "metadata": {},
     "output_type": "display_data"
    },
    {
     "data": {
      "text/html": [
       "Waiting for W&B process to finish... <strong style=\"color:green\">(success).</strong>"
      ],
      "text/plain": [
       "<IPython.core.display.HTML object>"
      ]
     },
     "metadata": {},
     "output_type": "display_data"
    },
    {
     "data": {
      "text/html": [
       "Synced <strong style=\"color:#cdcd00\">fluent-pine-55</strong>: <a href=\"https://wandb.ai/discoverylab/bioblp-jupyter-trial/runs/1x94eqvu\" target=\"_blank\">https://wandb.ai/discoverylab/bioblp-jupyter-trial/runs/1x94eqvu</a><br/>Synced 5 W&B file(s), 8 media file(s), 8 artifact file(s) and 0 other file(s)"
      ],
      "text/plain": [
       "<IPython.core.display.HTML object>"
      ]
     },
     "metadata": {},
     "output_type": "display_data"
    },
    {
     "data": {
      "text/html": [
       "Find logs at: <code>./wandb/run-20230302_205426-1x94eqvu/logs</code>"
      ],
      "text/plain": [
       "<IPython.core.display.HTML object>"
      ]
     },
     "metadata": {},
     "output_type": "display_data"
    },
    {
     "data": {
      "text/html": [
       "Successfully finished last run (ID:1x94eqvu). Initializing new run:<br/>"
      ],
      "text/plain": [
       "<IPython.core.display.HTML object>"
      ]
     },
     "metadata": {},
     "output_type": "display_data"
    },
    {
     "data": {
      "text/html": [
       "wandb version 0.13.10 is available!  To upgrade, please run:\n",
       " $ pip install wandb --upgrade"
      ],
      "text/plain": [
       "<IPython.core.display.HTML object>"
      ]
     },
     "metadata": {},
     "output_type": "display_data"
    },
    {
     "data": {
      "text/html": [
       "Tracking run with wandb version 0.12.20"
      ],
      "text/plain": [
       "<IPython.core.display.HTML object>"
      ]
     },
     "metadata": {},
     "output_type": "display_data"
    },
    {
     "data": {
      "text/html": [
       "Run data is saved locally in <code>/home/jovyan/BioBLP/notebooks/wandb/run-20230302_205458-169mhe4m</code>"
      ],
      "text/plain": [
       "<IPython.core.display.HTML object>"
      ]
     },
     "metadata": {},
     "output_type": "display_data"
    },
    {
     "data": {
      "text/html": [
       "Syncing run <strong><a href=\"https://wandb.ai/discoverylab/bioblp-jupyter-trial/runs/169mhe4m\" target=\"_blank\">stilted-deluge-56</a></strong> to <a href=\"https://wandb.ai/discoverylab/bioblp-jupyter-trial\" target=\"_blank\">Weights & Biases</a> (<a href=\"https://wandb.me/run\" target=\"_blank\">docs</a>)<br/>"
      ],
      "text/plain": [
       "<IPython.core.display.HTML object>"
      ]
     },
     "metadata": {},
     "output_type": "display_data"
    },
    {
     "data": {
      "text/html": [
       "Finishing last run (ID:169mhe4m) before initializing another..."
      ],
      "text/plain": [
       "<IPython.core.display.HTML object>"
      ]
     },
     "metadata": {},
     "output_type": "display_data"
    },
    {
     "data": {
      "text/html": [
       "Waiting for W&B process to finish... <strong style=\"color:green\">(success).</strong>"
      ],
      "text/plain": [
       "<IPython.core.display.HTML object>"
      ]
     },
     "metadata": {},
     "output_type": "display_data"
    },
    {
     "data": {
      "text/html": [
       "Synced <strong style=\"color:#cdcd00\">stilted-deluge-56</strong>: <a href=\"https://wandb.ai/discoverylab/bioblp-jupyter-trial/runs/169mhe4m\" target=\"_blank\">https://wandb.ai/discoverylab/bioblp-jupyter-trial/runs/169mhe4m</a><br/>Synced 5 W&B file(s), 8 media file(s), 8 artifact file(s) and 0 other file(s)"
      ],
      "text/plain": [
       "<IPython.core.display.HTML object>"
      ]
     },
     "metadata": {},
     "output_type": "display_data"
    },
    {
     "data": {
      "text/html": [
       "Find logs at: <code>./wandb/run-20230302_205458-169mhe4m/logs</code>"
      ],
      "text/plain": [
       "<IPython.core.display.HTML object>"
      ]
     },
     "metadata": {},
     "output_type": "display_data"
    },
    {
     "data": {
      "text/html": [
       "Successfully finished last run (ID:169mhe4m). Initializing new run:<br/>"
      ],
      "text/plain": [
       "<IPython.core.display.HTML object>"
      ]
     },
     "metadata": {},
     "output_type": "display_data"
    },
    {
     "data": {
      "text/html": [
       "wandb version 0.13.10 is available!  To upgrade, please run:\n",
       " $ pip install wandb --upgrade"
      ],
      "text/plain": [
       "<IPython.core.display.HTML object>"
      ]
     },
     "metadata": {},
     "output_type": "display_data"
    },
    {
     "data": {
      "text/html": [
       "Tracking run with wandb version 0.12.20"
      ],
      "text/plain": [
       "<IPython.core.display.HTML object>"
      ]
     },
     "metadata": {},
     "output_type": "display_data"
    },
    {
     "data": {
      "text/html": [
       "Run data is saved locally in <code>/home/jovyan/BioBLP/notebooks/wandb/run-20230302_205530-21ikidto</code>"
      ],
      "text/plain": [
       "<IPython.core.display.HTML object>"
      ]
     },
     "metadata": {},
     "output_type": "display_data"
    },
    {
     "data": {
      "text/html": [
       "Syncing run <strong><a href=\"https://wandb.ai/discoverylab/bioblp-jupyter-trial/runs/21ikidto\" target=\"_blank\">worthy-moon-57</a></strong> to <a href=\"https://wandb.ai/discoverylab/bioblp-jupyter-trial\" target=\"_blank\">Weights & Biases</a> (<a href=\"https://wandb.me/run\" target=\"_blank\">docs</a>)<br/>"
      ],
      "text/plain": [
       "<IPython.core.display.HTML object>"
      ]
     },
     "metadata": {},
     "output_type": "display_data"
    }
   ],
   "source": [
    "model_id=MODEL_ID_bioblpd\n",
    "\n",
    "for test_set_slug, result_dicts in metrics_relwise_bioblpd.items():\n",
    "    tags = {\"model_name\": model_id,\n",
    "                \"study_name\": 'eval_rel_breakdown_custom_plot',\n",
    "                \"test_set_type\": test_set_slug}\n",
    "    run = setup_wandb_result_tracker(**tags, project_name=WANDB_PROJECT_NAME, wandb_entity=WANDB_ENTITY_DISCOVERYLAB)\n",
    "    results_df = pd.DataFrame(result_dicts).transpose()\n",
    "    results_df = results_df.reset_index().rename(columns={'index':'Relation'})\n",
    "\n",
    "    metric_cols = list(results_df.columns)\n",
    "    metric_cols=[x for x in metric_cols if x != 'Relation']\n",
    "\n",
    "    for metric in metric_cols:\n",
    "        rel_metric_dict = dict(zip(results_df.Relation, results_df[metric]))\n",
    "        data = [[rel, val] for (rel, val) in rel_metric_dict.items()]\n",
    "        table = wandb.Table(data=data, columns = [\"relation\", \"value\"])\n",
    "        wandb.log({f\"bar_chart_{metric}\" : wandb.plot.bar(table, \"relation\",\n",
    "                                   \"value\", title=f\"{metric} by relation\")})"
   ]
  },
  {
   "cell_type": "code",
   "execution_count": null,
   "id": "0479b120",
   "metadata": {},
   "outputs": [],
   "source": []
  },
  {
   "cell_type": "code",
   "execution_count": null,
   "id": "fe7f4ebd",
   "metadata": {},
   "outputs": [],
   "source": []
  },
  {
   "cell_type": "markdown",
   "id": "13a6d138",
   "metadata": {},
   "source": [
    "## archived"
   ]
  },
  {
   "cell_type": "markdown",
   "id": "282842f0",
   "metadata": {},
   "source": [
    "### previous stuff"
   ]
  },
  {
   "cell_type": "markdown",
   "id": "20245e43",
   "metadata": {},
   "source": [
    "How do MRR, H@k, and AMR correlate?"
   ]
  },
  {
   "cell_type": "code",
   "execution_count": 32,
   "id": "3e95cb98",
   "metadata": {
    "scrolled": true
   },
   "outputs": [
    {
     "data": {
      "image/png": "[encoded data removed]",
      "text/plain": [
       "<Figure size 640x480 with 1 Axes>"
      ]
     },
     "metadata": {},
     "output_type": "display_data"
    },
    {
     "data": {
      "image/png": "[encoded data removed]",
      "text/plain": [
       "<Figure size 640x480 with 1 Axes>"
      ]
     },
     "metadata": {},
     "output_type": "display_data"
    },
    {
     "data": {
      "image/png": "[encoded data removed]",
      "text/plain": [
       "<Figure size 640x480 with 1 Axes>"
      ]
     },
     "metadata": {},
     "output_type": "display_data"
    }
   ],
   "source": [
    "def plot_metric_pair(results_df, metric_1: str, metric_2: str):\n",
    "    \"\"\"Make a scatter plot with one link prediction metric in each axis.\"\"\"\n",
    "    plt.figure()\n",
    "    plt.scatter(results_df[metric_1], results_df[metric_2])\n",
    "    plt.xlabel(metric_1)\n",
    "    plt.ylabel(metric_2)\n",
    "\n",
    "plot_metric_pair(results_df, 'mean_reciprocal_rank', 'hits_at_10')\n",
    "plot_metric_pair(results_df, 'mean_reciprocal_rank', 'adjusted_mean_rank')\n",
    "plot_metric_pair(results_df, 'mean_reciprocal_rank', 'Count')"
   ]
  },
  {
   "cell_type": "code",
   "execution_count": null,
   "id": "b2a57610",
   "metadata": {},
   "outputs": [],
   "source": []
  }
 ],
 "metadata": {
  "kernelspec": {
   "display_name": ".conda-bioblp-env [Python]",
   "language": "python",
   "name": "conda-env-.conda-bioblp-env-py"
  },
  "language_info": {
   "codemirror_mode": {
    "name": "ipython",
    "version": 3
   },
   "file_extension": ".py",
   "mimetype": "text/x-python",
   "name": "python",
   "nbconvert_exporter": "python",
   "pygments_lexer": "ipython3",
   "version": "3.8.13"
  }
 },
 "nbformat": 4,
 "nbformat_minor": 5
}
