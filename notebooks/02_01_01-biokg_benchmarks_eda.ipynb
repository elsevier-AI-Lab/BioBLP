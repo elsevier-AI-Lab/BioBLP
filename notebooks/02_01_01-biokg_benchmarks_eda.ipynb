{
 "cells": [
  {
   "cell_type": "code",
   "execution_count": 1,
   "id": "97ee430b",
   "metadata": {},
   "outputs": [],
   "source": [
    "%load_ext autoreload\n",
    "%autoreload 2"
   ]
  },
  {
   "cell_type": "code",
   "execution_count": 2,
   "id": "a8acba93",
   "metadata": {
    "tags": []
   },
   "outputs": [
    {
     "name": "stderr",
     "output_type": "stream",
     "text": [
      "/home/jovyan/.conda/envs/bioblp-env/lib/python3.8/site-packages/tqdm/auto.py:22: TqdmWarning: IProgress not found. Please update jupyter and ipywidgets. See https://ipywidgets.readthedocs.io/en/stable/user_install.html\n",
      "  from .autonotebook import tqdm as notebook_tqdm\n"
     ]
    }
   ],
   "source": [
    "#from bioblp import train\n",
    "from pykeen.pipeline import pipeline\n",
    "from pykeen.models import TransE\n",
    "import pandas as pd \n",
    "from pathlib import Path\n",
    "import toml"
   ]
  },
  {
   "cell_type": "code",
   "execution_count": 3,
   "id": "a1a25923",
   "metadata": {},
   "outputs": [],
   "source": [
    "from bioblp.data import COL_EDGE, COL_SOURCE, COL_TARGET\n",
    "from bioblp.data import load_splits"
   ]
  },
  {
   "cell_type": "code",
   "execution_count": 11,
   "id": "41d7aa56",
   "metadata": {},
   "outputs": [],
   "source": [
    "DATA_DIR = Path('../data')\n",
    "SHARED_DATA_DIR = Path('/home/jovyan/workbench-shared-folder/bioblp/')\n",
    "dpi_benchmark_path = SHARED_DATA_DIR.joinpath('data/benchmarks/dpi_fda.tsv')\n",
    "biokg_train_path = SHARED_DATA_DIR.joinpath('data/raw/biokg_bm_splits/biokg.links-train.csv')"
   ]
  },
  {
   "cell_type": "markdown",
   "id": "197cf7b0-6945-41f0-bdd2-7c8848118571",
   "metadata": {},
   "source": [
    "## Load Training graph and benchmark DPI datasets"
   ]
  },
  {
   "cell_type": "code",
   "execution_count": 10,
   "id": "f4626671-519b-4828-a8e2-743c22ba76a4",
   "metadata": {},
   "outputs": [],
   "source": [
    "### Load biokg training graph"
   ]
  },
  {
   "cell_type": "code",
   "execution_count": 13,
   "id": "c2e0369b",
   "metadata": {},
   "outputs": [
    {
     "data": {
      "text/plain": [
       "DDI                            906535\n",
       "PROTEIN_PATHWAY_ASSOCIATION    205871\n",
       "PPI                             93643\n",
       "PROTEIN_DISEASE_ASSOCIATION     89804\n",
       "MEMBER_OF_COMPLEX               71035\n",
       "DRUG_DISEASE_ASSOCIATION        53426\n",
       "COMPLEX_IN_PATHWAY              19615\n",
       "COMPLEX_TOP_LEVEL_PATHWAY       12488\n",
       "DPI                              7860\n",
       "DRUG_TARGET                      5714\n",
       "DISEASE_GENETIC_DISORDER         4339\n",
       "DRUG_PATHWAY_ASSOCIATION         4244\n",
       "RELATED_GENETIC_DISORDER         3450\n",
       "DISEASE_PATHWAY_ASSOCIATION      2945\n",
       "DRUG_ENZYME                       528\n",
       "DRUG_TRANSPORTER                  222\n",
       "DRUG_CARRIER                       90\n",
       "Name: edg, dtype: int64"
      ]
     },
     "execution_count": 13,
     "metadata": {},
     "output_type": "execute_result"
    }
   ],
   "source": [
    "train_df = pd.read_csv(biokg_train_path, sep='\\t', names=[COL_SOURCE, COL_EDGE, COL_TARGET])\n",
    "train_df.edg.value_counts()"
   ]
  },
  {
   "cell_type": "code",
   "execution_count": null,
   "id": "93fb0c57-d68b-4b6f-849e-1646961c571f",
   "metadata": {},
   "outputs": [
    {
     "data": {
      "text/html": [
       "<div>\n",
       "<style scoped>\n",
       "    .dataframe tbody tr th:only-of-type {\n",
       "        vertical-align: middle;\n",
       "    }\n",
       "\n",
       "    .dataframe tbody tr th {\n",
       "        vertical-align: top;\n",
       "    }\n",
       "\n",
       "    .dataframe thead th {\n",
       "        text-align: right;\n",
       "    }\n",
       "</style>\n",
       "<table border=\"1\" class=\"dataframe\">\n",
       "  <thead>\n",
       "    <tr style=\"text-align: right;\">\n",
       "      <th></th>\n",
       "      <th>src</th>\n",
       "      <th>edg</th>\n",
       "      <th>tgt</th>\n",
       "    </tr>\n",
       "  </thead>\n",
       "  <tbody>\n",
       "    <tr>\n",
       "      <th>18691</th>\n",
       "      <td>DB00001</td>\n",
       "      <td>DPI</td>\n",
       "      <td>P00734</td>\n",
       "    </tr>\n",
       "    <tr>\n",
       "      <th>19001</th>\n",
       "      <td>DB00002</td>\n",
       "      <td>DPI</td>\n",
       "      <td>O75015</td>\n",
       "    </tr>\n",
       "    <tr>\n",
       "      <th>19002</th>\n",
       "      <td>DB00002</td>\n",
       "      <td>DPI</td>\n",
       "      <td>P00533</td>\n",
       "    </tr>\n",
       "  </tbody>\n",
       "</table>\n",
       "</div>"
      ],
      "text/plain": [
       "           src  edg     tgt\n",
       "18691  DB00001  DPI  P00734\n",
       "19001  DB00002  DPI  O75015\n",
       "19002  DB00002  DPI  P00533"
      ]
     },
     "execution_count": 11,
     "metadata": {},
     "output_type": "execute_result"
    }
   ],
   "source": [
    "train_df[train_df[COL_EDGE].isin(['DPI'])].head(3)"
   ]
  },
  {
   "cell_type": "markdown",
   "id": "2539a63a",
   "metadata": {},
   "source": [
    "### Load benchmark"
   ]
  },
  {
   "cell_type": "code",
   "execution_count": null,
   "id": "f5a36380",
   "metadata": {},
   "outputs": [],
   "source": [
    "dpi_benchmark_path = DATA_DIR.joinpath('benchmarks/dpi_fda.tsv')"
   ]
  },
  {
   "cell_type": "code",
   "execution_count": null,
   "id": "f2182501",
   "metadata": {},
   "outputs": [
    {
     "data": {
      "text/html": [
       "<div>\n",
       "<style scoped>\n",
       "    .dataframe tbody tr th:only-of-type {\n",
       "        vertical-align: middle;\n",
       "    }\n",
       "\n",
       "    .dataframe tbody tr th {\n",
       "        vertical-align: top;\n",
       "    }\n",
       "\n",
       "    .dataframe thead th {\n",
       "        text-align: right;\n",
       "    }\n",
       "</style>\n",
       "<table border=\"1\" class=\"dataframe\">\n",
       "  <thead>\n",
       "    <tr style=\"text-align: right;\">\n",
       "      <th></th>\n",
       "      <th>src</th>\n",
       "      <th>edg</th>\n",
       "      <th>tgt</th>\n",
       "    </tr>\n",
       "  </thead>\n",
       "  <tbody>\n",
       "    <tr>\n",
       "      <th>0</th>\n",
       "      <td>DB01079</td>\n",
       "      <td>DPI</td>\n",
       "      <td>Q13639</td>\n",
       "    </tr>\n",
       "    <tr>\n",
       "      <th>1</th>\n",
       "      <td>DB00114</td>\n",
       "      <td>DPI</td>\n",
       "      <td>P20711</td>\n",
       "    </tr>\n",
       "    <tr>\n",
       "      <th>2</th>\n",
       "      <td>DB01158</td>\n",
       "      <td>DPI</td>\n",
       "      <td>P13637</td>\n",
       "    </tr>\n",
       "  </tbody>\n",
       "</table>\n",
       "</div>"
      ],
      "text/plain": [
       "       src  edg     tgt\n",
       "0  DB01079  DPI  Q13639\n",
       "1  DB00114  DPI  P20711\n",
       "2  DB01158  DPI  P13637"
      ]
     },
     "execution_count": 8,
     "metadata": {},
     "output_type": "execute_result"
    }
   ],
   "source": [
    "dpi_bm = pd.read_csv(dpi_benchmark_path, sep='\\t', names=[COL_SOURCE, COL_EDGE, COL_TARGET])\n",
    "dpi_bm.head(3)"
   ]
  },
  {
   "cell_type": "code",
   "execution_count": 14,
   "id": "6d413bc5-728e-4b1f-9e80-b682eadcdf4a",
   "metadata": {},
   "outputs": [
    {
     "data": {
      "text/plain": [
       "3948"
      ]
     },
     "execution_count": 14,
     "metadata": {},
     "output_type": "execute_result"
    }
   ],
   "source": [
    "# should be done on union of biokg train, test, valid\n",
    "dpi_overlap_df = train_df[train_df[\"edg\"]==\"DPI\"].join(dpi_bm, how=\"inner\", lsuffix=\"biokg\", rsuffix=\"fda\")\n",
    "len(dpi_overlap_df)"
   ]
  },
  {
   "cell_type": "code",
   "execution_count": 16,
   "id": "3694af62",
   "metadata": {},
   "outputs": [
    {
     "data": {
      "text/plain": [
       "DPI    19161\n",
       "Name: edg, dtype: int64"
      ]
     },
     "execution_count": 16,
     "metadata": {},
     "output_type": "execute_result"
    }
   ],
   "source": [
    "dpi_bm.edg.value_counts()"
   ]
  },
  {
   "cell_type": "code",
   "execution_count": 15,
   "id": "c9da5a08-a5d3-4485-b995-8f2d2ef01186",
   "metadata": {},
   "outputs": [
    {
     "data": {
      "text/plain": [
       "(2286, 2705)"
      ]
     },
     "execution_count": 15,
     "metadata": {},
     "output_type": "execute_result"
    }
   ],
   "source": [
    "dpi_drugs_unique = list(dpi_bm.src.unique())\n",
    "dpi_prots_unique = list(dpi_bm.tgt.unique())\n",
    "len(dpi_drugs_unique), len(dpi_prots_unique)"
   ]
  },
  {
   "cell_type": "code",
   "execution_count": 16,
   "id": "d74dec74-fea0-4628-ad8b-be47d24d6d50",
   "metadata": {},
   "outputs": [
    {
     "data": {
      "text/html": [
       "<div>\n",
       "<style scoped>\n",
       "    .dataframe tbody tr th:only-of-type {\n",
       "        vertical-align: middle;\n",
       "    }\n",
       "\n",
       "    .dataframe tbody tr th {\n",
       "        vertical-align: top;\n",
       "    }\n",
       "\n",
       "    .dataframe thead th {\n",
       "        text-align: right;\n",
       "    }\n",
       "</style>\n",
       "<table border=\"1\" class=\"dataframe\">\n",
       "  <thead>\n",
       "    <tr style=\"text-align: right;\">\n",
       "      <th></th>\n",
       "      <th>interacting_prots</th>\n",
       "    </tr>\n",
       "  </thead>\n",
       "  <tbody>\n",
       "    <tr>\n",
       "      <th>count</th>\n",
       "      <td>2286.000000</td>\n",
       "    </tr>\n",
       "    <tr>\n",
       "      <th>mean</th>\n",
       "      <td>8.381890</td>\n",
       "    </tr>\n",
       "    <tr>\n",
       "      <th>std</th>\n",
       "      <td>12.922181</td>\n",
       "    </tr>\n",
       "    <tr>\n",
       "      <th>min</th>\n",
       "      <td>1.000000</td>\n",
       "    </tr>\n",
       "    <tr>\n",
       "      <th>25%</th>\n",
       "      <td>2.000000</td>\n",
       "    </tr>\n",
       "    <tr>\n",
       "      <th>50%</th>\n",
       "      <td>5.000000</td>\n",
       "    </tr>\n",
       "    <tr>\n",
       "      <th>75%</th>\n",
       "      <td>10.000000</td>\n",
       "    </tr>\n",
       "    <tr>\n",
       "      <th>max</th>\n",
       "      <td>307.000000</td>\n",
       "    </tr>\n",
       "  </tbody>\n",
       "</table>\n",
       "</div>"
      ],
      "text/plain": [
       "       interacting_prots\n",
       "count        2286.000000\n",
       "mean            8.381890\n",
       "std            12.922181\n",
       "min             1.000000\n",
       "25%             2.000000\n",
       "50%             5.000000\n",
       "75%            10.000000\n",
       "max           307.000000"
      ]
     },
     "execution_count": 16,
     "metadata": {},
     "output_type": "execute_result"
    }
   ],
   "source": [
    "dpis_by_drug = dpi_bm.groupby(by=\"src\").agg(interacting_prots=(\"tgt\",'count')).reset_index()\n",
    "dpis_by_drug.describe()"
   ]
  },
  {
   "cell_type": "code",
   "execution_count": 17,
   "id": "1788f0c6-b145-4eb5-baeb-5f03b4b1f0b7",
   "metadata": {},
   "outputs": [
    {
     "data": {
      "text/html": [
       "<div>\n",
       "<style scoped>\n",
       "    .dataframe tbody tr th:only-of-type {\n",
       "        vertical-align: middle;\n",
       "    }\n",
       "\n",
       "    .dataframe tbody tr th {\n",
       "        vertical-align: top;\n",
       "    }\n",
       "\n",
       "    .dataframe thead th {\n",
       "        text-align: right;\n",
       "    }\n",
       "</style>\n",
       "<table border=\"1\" class=\"dataframe\">\n",
       "  <thead>\n",
       "    <tr style=\"text-align: right;\">\n",
       "      <th></th>\n",
       "      <th>interacting_drugs</th>\n",
       "    </tr>\n",
       "  </thead>\n",
       "  <tbody>\n",
       "    <tr>\n",
       "      <th>count</th>\n",
       "      <td>2705.000000</td>\n",
       "    </tr>\n",
       "    <tr>\n",
       "      <th>mean</th>\n",
       "      <td>7.083549</td>\n",
       "    </tr>\n",
       "    <tr>\n",
       "      <th>std</th>\n",
       "      <td>26.525646</td>\n",
       "    </tr>\n",
       "    <tr>\n",
       "      <th>min</th>\n",
       "      <td>1.000000</td>\n",
       "    </tr>\n",
       "    <tr>\n",
       "      <th>25%</th>\n",
       "      <td>1.000000</td>\n",
       "    </tr>\n",
       "    <tr>\n",
       "      <th>50%</th>\n",
       "      <td>2.000000</td>\n",
       "    </tr>\n",
       "    <tr>\n",
       "      <th>75%</th>\n",
       "      <td>4.000000</td>\n",
       "    </tr>\n",
       "    <tr>\n",
       "      <th>max</th>\n",
       "      <td>783.000000</td>\n",
       "    </tr>\n",
       "  </tbody>\n",
       "</table>\n",
       "</div>"
      ],
      "text/plain": [
       "       interacting_drugs\n",
       "count        2705.000000\n",
       "mean            7.083549\n",
       "std            26.525646\n",
       "min             1.000000\n",
       "25%             1.000000\n",
       "50%             2.000000\n",
       "75%             4.000000\n",
       "max           783.000000"
      ]
     },
     "execution_count": 17,
     "metadata": {},
     "output_type": "execute_result"
    }
   ],
   "source": [
    "dpis_by_prot = dpi_bm.groupby(by=\"tgt\").agg(interacting_drugs=(\"src\",'count')).reset_index()\n",
    "dpis_by_prot.describe()"
   ]
  },
  {
   "cell_type": "code",
   "execution_count": 18,
   "id": "5a7c58a8-13c3-4150-a4df-17cddc51afc6",
   "metadata": {},
   "outputs": [
    {
     "data": {
      "text/plain": [
       "array([[<AxesSubplot:title={'center':'interacting_drugs'}>]], dtype=object)"
      ]
     },
     "execution_count": 18,
     "metadata": {},
     "output_type": "execute_result"
    },
    {
     "data": {
      "image/png": "[encoded data removed]",
      "text/plain": [
       "<Figure size 432x288 with 1 Axes>"
      ]
     },
     "metadata": {
      "needs_background": "light"
     },
     "output_type": "display_data"
    }
   ],
   "source": [
    "dpis_by_prot.hist('interacting_drugs', log=True)"
   ]
  },
  {
   "cell_type": "code",
   "execution_count": 19,
   "id": "a931bdfa-01a3-41ea-bf1e-915158ebf0fb",
   "metadata": {},
   "outputs": [
    {
     "data": {
      "text/plain": [
       "array([[<AxesSubplot:title={'center':'interacting_prots'}>]], dtype=object)"
      ]
     },
     "execution_count": 19,
     "metadata": {},
     "output_type": "execute_result"
    },
    {
     "data": {
      "image/png": "[encoded data removed]",
      "text/plain": [
       "<Figure size 432x288 with 1 Axes>"
      ]
     },
     "metadata": {
      "needs_background": "light"
     },
     "output_type": "display_data"
    }
   ],
   "source": [
    "dpis_by_drug.hist('interacting_prots', log=True)"
   ]
  }
 ],
 "metadata": {
  "kernelspec": {
   "display_name": ".conda-bioblp-env [Python]",
   "language": "python",
   "name": "conda-env-.conda-bioblp-env-py"
  },
  "language_info": {
   "codemirror_mode": {
    "name": "ipython",
    "version": 3
   },
   "file_extension": ".py",
   "mimetype": "text/x-python",
   "name": "python",
   "nbconvert_exporter": "python",
   "pygments_lexer": "ipython3",
   "version": "3.8.13"
  }
 },
 "nbformat": 4,
 "nbformat_minor": 5
}
