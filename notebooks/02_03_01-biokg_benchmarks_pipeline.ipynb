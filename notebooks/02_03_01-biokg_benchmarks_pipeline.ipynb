{
 "cells": [
  {
   "cell_type": "code",
   "execution_count": 1,
   "id": "97ee430b",
   "metadata": {},
   "outputs": [],
   "source": [
    "%load_ext autoreload\n",
    "%autoreload 2"
   ]
  },
  {
   "cell_type": "code",
   "execution_count": 2,
   "id": "a8acba93",
   "metadata": {
    "tags": []
   },
   "outputs": [
    {
     "name": "stderr",
     "output_type": "stream",
     "text": [
      "/home/jovyan/.conda/envs/bioblp-env/lib/python3.8/site-packages/tqdm/auto.py:22: TqdmWarning: IProgress not found. Please update jupyter and ipywidgets. See https://ipywidgets.readthedocs.io/en/stable/user_install.html\n",
      "  from .autonotebook import tqdm as notebook_tqdm\n"
     ]
    }
   ],
   "source": [
    "import numpy as np\n",
    "import pandas as pd \n",
    "from pathlib import Path\n",
    "from bioblp.data import COL_EDGE, COL_SOURCE, COL_TARGET"
   ]
  },
  {
   "cell_type": "code",
   "execution_count": 3,
   "id": "41d7aa56",
   "metadata": {},
   "outputs": [],
   "source": [
    "DATA_DIR = Path(\"../data\")\n",
    "SHARED_DIR = Path(\"/home/jovyan/workbench-shared-folder/bioblp\")"
   ]
  },
  {
   "cell_type": "code",
   "execution_count": 4,
   "id": "e6b0fb9d-5e3f-44d8-a101-669ce65a9052",
   "metadata": {},
   "outputs": [
    {
     "name": "stdout",
     "output_type": "stream",
     "text": [
      "1baon0eg  iwy9z7m9\n"
     ]
    }
   ],
   "source": [
    "!ls {SHARED_DIR}/models"
   ]
  },
  {
   "cell_type": "markdown",
   "id": "2539a63a",
   "metadata": {
    "tags": []
   },
   "source": [
    "## Load benchmark"
   ]
  },
  {
   "cell_type": "code",
   "execution_count": 5,
   "id": "f5a36380",
   "metadata": {},
   "outputs": [],
   "source": [
    "dpi_benchmark_path = SHARED_DIR.joinpath('data/benchmarks/dpi_fda.tsv') "
   ]
  },
  {
   "cell_type": "code",
   "execution_count": 6,
   "id": "f2182501",
   "metadata": {},
   "outputs": [
    {
     "data": {
      "text/html": [
       "<div>\n",
       "<style scoped>\n",
       "    .dataframe tbody tr th:only-of-type {\n",
       "        vertical-align: middle;\n",
       "    }\n",
       "\n",
       "    .dataframe tbody tr th {\n",
       "        vertical-align: top;\n",
       "    }\n",
       "\n",
       "    .dataframe thead th {\n",
       "        text-align: right;\n",
       "    }\n",
       "</style>\n",
       "<table border=\"1\" class=\"dataframe\">\n",
       "  <thead>\n",
       "    <tr style=\"text-align: right;\">\n",
       "      <th></th>\n",
       "      <th>src</th>\n",
       "      <th>edg</th>\n",
       "      <th>tgt</th>\n",
       "    </tr>\n",
       "  </thead>\n",
       "  <tbody>\n",
       "    <tr>\n",
       "      <th>0</th>\n",
       "      <td>DB01079</td>\n",
       "      <td>DPI</td>\n",
       "      <td>Q13639</td>\n",
       "    </tr>\n",
       "    <tr>\n",
       "      <th>1</th>\n",
       "      <td>DB00114</td>\n",
       "      <td>DPI</td>\n",
       "      <td>P20711</td>\n",
       "    </tr>\n",
       "    <tr>\n",
       "      <th>2</th>\n",
       "      <td>DB01158</td>\n",
       "      <td>DPI</td>\n",
       "      <td>P13637</td>\n",
       "    </tr>\n",
       "  </tbody>\n",
       "</table>\n",
       "</div>"
      ],
      "text/plain": [
       "       src  edg     tgt\n",
       "0  DB01079  DPI  Q13639\n",
       "1  DB00114  DPI  P20711\n",
       "2  DB01158  DPI  P13637"
      ]
     },
     "execution_count": 6,
     "metadata": {},
     "output_type": "execute_result"
    }
   ],
   "source": [
    "dpi_bm = pd.read_csv(dpi_benchmark_path, sep='\\t', names=[COL_SOURCE, COL_EDGE, COL_TARGET])\n",
    "dpi_bm.head(3)"
   ]
  },
  {
   "cell_type": "markdown",
   "id": "25492767-cb69-4a25-954f-dd602fdbd496",
   "metadata": {},
   "source": [
    "\n",
    "* [DB01079; Tegaserod](https://go.drugbank.com/drugs/DB01079)\n",
    "Tegaserod is a serotonin-4 (5-HT4) receptor agonist indicated for the treatment of constipation predominant irritable bowel syndrome (IBS-C) specifically in women under the age of 65. There is currently no safety or efficacy data for use of tegaserol in men.\n",
    "\n",
    "* https://www.uniprot.org/uniprotkb/Q13639/entry"
   ]
  },
  {
   "cell_type": "code",
   "execution_count": 7,
   "id": "d40231f3-0055-40f1-b0c3-e6e337e69430",
   "metadata": {},
   "outputs": [
    {
     "name": "stdout",
     "output_type": "stream",
     "text": [
      "# total dpi instances (TP): 19161\n",
      "# Unique Drugs: 2286\n",
      "# Unique Proteins: 2705\n"
     ]
    }
   ],
   "source": [
    "dpi_drugs_unique = list(dpi_bm.src.unique())\n",
    "dpi_prots_unique = list(dpi_bm.tgt.unique())\n",
    "print(f'# total dpi instances (TP): {len(dpi_bm)}')\n",
    "print(f'# Unique Drugs: {len(dpi_drugs_unique)}')\n",
    "print(f'# Unique Proteins: {len(dpi_prots_unique)}')\n"
   ]
  },
  {
   "cell_type": "markdown",
   "id": "27bf7bbc-4075-40b4-b10e-f99a82e89cde",
   "metadata": {
    "tags": []
   },
   "source": [
    "## Prepare Data for ML"
   ]
  },
  {
   "cell_type": "code",
   "execution_count": 9,
   "id": "24573ebe-658f-4b4a-b384-2c856fa9183e",
   "metadata": {},
   "outputs": [],
   "source": [
    "from bioblp.benchmarking.featurize import load_model_and_entity_to_id_maps, ENTITY_TO_ID_MAP, RELATION_TO_ID_MAP"
   ]
  },
  {
   "cell_type": "code",
   "execution_count": 10,
   "id": "eb5e36d6-05b6-4eee-aaee-f7f05783254d",
   "metadata": {},
   "outputs": [
    {
     "name": "stderr",
     "output_type": "stream",
     "text": [
      "21:29:17 - INFO - bioblp.benchmarking.featurize - Loading trained model from /home/jovyan/workbench-shared-folder/bioblp/models/1baon0eg\n"
     ]
    }
   ],
   "source": [
    "model_dir = SHARED_DIR.joinpath('models/1baon0eg')\n",
    "model_dir_best = SHARED_DIR.joinpath('models/iwy9z7m9')\n",
    "kge_artifacts = load_model_and_entity_to_id_maps(model_dir)\n",
    "entity_to_id_map = kge_artifacts.get(ENTITY_TO_ID_MAP)\n",
    "relation_to_id_map = kge_artifacts.get(RELATION_TO_ID_MAP)\n"
   ]
  },
  {
   "cell_type": "code",
   "execution_count": 11,
   "id": "967c5d9a-af57-4f98-9a22-09fc5ae697f5",
   "metadata": {},
   "outputs": [
    {
     "data": {
      "text/plain": [
       "dict"
      ]
     },
     "execution_count": 11,
     "metadata": {},
     "output_type": "execute_result"
    }
   ],
   "source": [
    "type(entity_to_id_map)"
   ]
  },
  {
   "cell_type": "markdown",
   "id": "140fd17d-1018-48f6-87f4-9a4a93655c46",
   "metadata": {},
   "source": [
    "### Generate Negative samples"
   ]
  },
  {
   "cell_type": "code",
   "execution_count": 208,
   "id": "78a673d8-89e2-4b6c-9eb4-5c20127959bf",
   "metadata": {},
   "outputs": [],
   "source": [
    "from bioblp.benchmarking.preprocess import prepare_dpi_samples"
   ]
  },
  {
   "cell_type": "code",
   "execution_count": 213,
   "id": "bca49718-83b7-46a5-acfc-f02253dff235",
   "metadata": {},
   "outputs": [],
   "source": [
    "import numpy as np\n",
    "dpi_bm = pd.read_csv(dpi_benchmark_path, sep='\\t', names=[COL_SOURCE, COL_EDGE, COL_TARGET])\n",
    "dpi_bm['src_id'] = dpi_bm['src'].map(lambda x: entity_to_id_map.get(x, np.nan))\n",
    "dpi_bm['tgt_id'] = dpi_bm['tgt'].map(lambda x: entity_to_id_map.get(x, np.nan))"
   ]
  },
  {
   "cell_type": "code",
   "execution_count": 210,
   "id": "fc783b37-0ce5-4dc8-98ca-ca6478f06cd9",
   "metadata": {
    "tags": []
   },
   "outputs": [
    {
     "data": {
      "text/html": [
       "<div>\n",
       "<style scoped>\n",
       "    .dataframe tbody tr th:only-of-type {\n",
       "        vertical-align: middle;\n",
       "    }\n",
       "\n",
       "    .dataframe tbody tr th {\n",
       "        vertical-align: top;\n",
       "    }\n",
       "\n",
       "    .dataframe thead th {\n",
       "        text-align: right;\n",
       "    }\n",
       "</style>\n",
       "<table border=\"1\" class=\"dataframe\">\n",
       "  <thead>\n",
       "    <tr style=\"text-align: right;\">\n",
       "      <th></th>\n",
       "      <th>src</th>\n",
       "      <th>edg</th>\n",
       "      <th>tgt</th>\n",
       "      <th>src_id</th>\n",
       "      <th>tgt_id</th>\n",
       "    </tr>\n",
       "  </thead>\n",
       "  <tbody>\n",
       "  </tbody>\n",
       "</table>\n",
       "</div>"
      ],
      "text/plain": [
       "Empty DataFrame\n",
       "Columns: [src, edg, tgt, src_id, tgt_id]\n",
       "Index: []"
      ]
     },
     "execution_count": 210,
     "metadata": {},
     "output_type": "execute_result"
    }
   ],
   "source": [
    "dpi_bm[dpi_bm.src_id.isnull() | dpi_bm.tgt_id.isnull()]"
   ]
  },
  {
   "cell_type": "code",
   "execution_count": 214,
   "id": "114b7838-b6cf-4537-8b22-4ef3f42aa687",
   "metadata": {},
   "outputs": [],
   "source": [
    "dpi_bm_transd = dpi_bm[~(dpi_bm.src_id.isnull() | dpi_bm.tgt_id.isnull())]"
   ]
  },
  {
   "cell_type": "code",
   "execution_count": 215,
   "id": "0b023d29-fc43-42b4-95e4-318c6b09402f",
   "metadata": {},
   "outputs": [],
   "source": [
    "from copy import deepcopy\n",
    "dpi_bm_transd_copy = dpi_bm_transd"
   ]
  },
  {
   "cell_type": "code",
   "execution_count": 216,
   "id": "b8e49090-97c0-4499-920f-ffc9aad4a587",
   "metadata": {},
   "outputs": [
    {
     "data": {
      "text/plain": [
       "-483"
      ]
     },
     "execution_count": 216,
     "metadata": {},
     "output_type": "execute_result"
    }
   ],
   "source": [
    "len(dpi_bm_transd) -len(dpi_bm)"
   ]
  },
  {
   "cell_type": "code",
   "execution_count": 218,
   "id": "54fc5fb3-d877-44db-b594-3770916aacf8",
   "metadata": {
    "tags": []
   },
   "outputs": [],
   "source": [
    "pos_neg_df = prepare_dpi_samples(dpi_bm_transd_copy, entity_to_id_map, relation_to_id_map)"
   ]
  },
  {
   "cell_type": "code",
   "execution_count": 219,
   "id": "7f1c0f8e-3e05-48f6-925f-fb7e3b849e95",
   "metadata": {},
   "outputs": [
    {
     "data": {
      "text/plain": [
       "37356"
      ]
     },
     "execution_count": 219,
     "metadata": {},
     "output_type": "execute_result"
    }
   ],
   "source": [
    "len(pos_neg_df)"
   ]
  },
  {
   "cell_type": "code",
   "execution_count": 221,
   "id": "3d5f2001-dbc8-48f3-b6d5-677af3f7e694",
   "metadata": {},
   "outputs": [
    {
     "data": {
      "text/html": [
       "<div>\n",
       "<style scoped>\n",
       "    .dataframe tbody tr th:only-of-type {\n",
       "        vertical-align: middle;\n",
       "    }\n",
       "\n",
       "    .dataframe tbody tr th {\n",
       "        vertical-align: top;\n",
       "    }\n",
       "\n",
       "    .dataframe thead th {\n",
       "        text-align: right;\n",
       "    }\n",
       "</style>\n",
       "<table border=\"1\" class=\"dataframe\">\n",
       "  <thead>\n",
       "    <tr style=\"text-align: right;\">\n",
       "      <th></th>\n",
       "      <th>src</th>\n",
       "      <th>edg</th>\n",
       "      <th>tgt</th>\n",
       "      <th>src_id</th>\n",
       "      <th>tgt_id</th>\n",
       "      <th>label</th>\n",
       "    </tr>\n",
       "  </thead>\n",
       "  <tbody>\n",
       "    <tr>\n",
       "      <th>0</th>\n",
       "      <td>8879</td>\n",
       "      <td>5</td>\n",
       "      <td>44406</td>\n",
       "      <td>8861.0</td>\n",
       "      <td>44147.0</td>\n",
       "      <td>1</td>\n",
       "    </tr>\n",
       "    <tr>\n",
       "      <th>1</th>\n",
       "      <td>7928</td>\n",
       "      <td>5</td>\n",
       "      <td>30725</td>\n",
       "      <td>7916.0</td>\n",
       "      <td>30505.0</td>\n",
       "      <td>1</td>\n",
       "    </tr>\n",
       "    <tr>\n",
       "      <th>2</th>\n",
       "      <td>8957</td>\n",
       "      <td>5</td>\n",
       "      <td>29310</td>\n",
       "      <td>8938.0</td>\n",
       "      <td>29091.0</td>\n",
       "      <td>1</td>\n",
       "    </tr>\n",
       "  </tbody>\n",
       "</table>\n",
       "</div>"
      ],
      "text/plain": [
       "    src  edg    tgt  src_id   tgt_id  label\n",
       "0  8879    5  44406  8861.0  44147.0      1\n",
       "1  7928    5  30725  7916.0  30505.0      1\n",
       "2  8957    5  29310  8938.0  29091.0      1"
      ]
     },
     "execution_count": 221,
     "metadata": {},
     "output_type": "execute_result"
    }
   ],
   "source": [
    "pos_neg_df.head(3)"
   ]
  },
  {
   "cell_type": "markdown",
   "id": "c52e251c-cf1d-4d66-a6e6-c51a89089f80",
   "metadata": {},
   "source": [
    "### Featurize by obtaining joint entity pair encoding"
   ]
  },
  {
   "cell_type": "code",
   "execution_count": 222,
   "id": "e7c49f60-30ac-4a69-ba7d-34b8464f3f93",
   "metadata": {},
   "outputs": [],
   "source": [
    "from bioblp.benchmarking.featurize import generate_entity_pair_joint_encoding\n",
    "from bioblp.benchmarking.featurize import concatenate, average\n"
   ]
  },
  {
   "cell_type": "code",
   "execution_count": 223,
   "id": "54da152e-84f1-4bcd-b1e9-acf4b418afa5",
   "metadata": {},
   "outputs": [
    {
     "name": "stderr",
     "output_type": "stream",
     "text": [
      "14:54:17 - INFO - bioblp.benchmarking.featurize - Applying transformation function: f<function concatenate at 0x7f26fa145940>, to retrieve joint encoding for entity pair\n"
     ]
    }
   ],
   "source": [
    "# pass on to KGEM encoder to featurize each entity pair\n",
    "encoded_df = generate_entity_pair_joint_encoding(pos_neg_df,\n",
    "                                    model=kge_artifacts[\"model\"],\n",
    "                                    transform_fn=concatenate)\n",
    "\n",
    "encoded_df['joint_encoding'] = encoded_df['joint_encoding'].apply(lambda x: np.asarray(x))#.reshape(1, -1))\n"
   ]
  },
  {
   "cell_type": "code",
   "execution_count": 224,
   "id": "187db26c-5c71-4a9b-8b9f-249d888964ab",
   "metadata": {},
   "outputs": [
    {
     "data": {
      "text/plain": [
       "37356"
      ]
     },
     "execution_count": 224,
     "metadata": {},
     "output_type": "execute_result"
    }
   ],
   "source": [
    "len(encoded_df)"
   ]
  },
  {
   "cell_type": "markdown",
   "id": "f97af537-f67e-40c4-bf32-2d0996543afb",
   "metadata": {},
   "source": [
    "## Train ML model for binary clf"
   ]
  },
  {
   "cell_type": "code",
   "execution_count": 225,
   "id": "f279125c-50b6-46f7-89da-8e20a4fd3e5e",
   "metadata": {},
   "outputs": [],
   "source": [
    "from sklearn.model_selection import train_test_split\n",
    "from sklearn.linear_model import LogisticRegression"
   ]
  },
  {
   "cell_type": "code",
   "execution_count": 226,
   "id": "24680801-3b6b-42a5-b081-d597a10b55c6",
   "metadata": {},
   "outputs": [],
   "source": [
    "x_train, x_test, y_train, y_test = train_test_split(np.stack(encoded_df.joint_encoding), encoded_df.label, test_size=0.1, \n",
    "                                                    random_state=0, shuffle=True)"
   ]
  },
  {
   "cell_type": "code",
   "execution_count": 195,
   "id": "180653cf-41bc-47e3-928c-db9131839d18",
   "metadata": {},
   "outputs": [
    {
     "data": {
      "text/html": [
       "<style>#sk-container-id-3 {color: black;background-color: white;}#sk-container-id-3 pre{padding: 0;}#sk-container-id-3 div.sk-toggleable {background-color: white;}#sk-container-id-3 label.sk-toggleable__label {cursor: pointer;display: block;width: 100%;margin-bottom: 0;padding: 0.3em;box-sizing: border-box;text-align: center;}#sk-container-id-3 label.sk-toggleable__label-arrow:before {content: \"▸\";float: left;margin-right: 0.25em;color: #696969;}#sk-container-id-3 label.sk-toggleable__label-arrow:hover:before {color: black;}#sk-container-id-3 div.sk-estimator:hover label.sk-toggleable__label-arrow:before {color: black;}#sk-container-id-3 div.sk-toggleable__content {max-height: 0;max-width: 0;overflow: hidden;text-align: left;background-color: #f0f8ff;}#sk-container-id-3 div.sk-toggleable__content pre {margin: 0.2em;color: black;border-radius: 0.25em;background-color: #f0f8ff;}#sk-container-id-3 input.sk-toggleable__control:checked~div.sk-toggleable__content {max-height: 200px;max-width: 100%;overflow: auto;}#sk-container-id-3 input.sk-toggleable__control:checked~label.sk-toggleable__label-arrow:before {content: \"▾\";}#sk-container-id-3 div.sk-estimator input.sk-toggleable__control:checked~label.sk-toggleable__label {background-color: #d4ebff;}#sk-container-id-3 div.sk-label input.sk-toggleable__control:checked~label.sk-toggleable__label {background-color: #d4ebff;}#sk-container-id-3 input.sk-hidden--visually {border: 0;clip: rect(1px 1px 1px 1px);clip: rect(1px, 1px, 1px, 1px);height: 1px;margin: -1px;overflow: hidden;padding: 0;position: absolute;width: 1px;}#sk-container-id-3 div.sk-estimator {font-family: monospace;background-color: #f0f8ff;border: 1px dotted black;border-radius: 0.25em;box-sizing: border-box;margin-bottom: 0.5em;}#sk-container-id-3 div.sk-estimator:hover {background-color: #d4ebff;}#sk-container-id-3 div.sk-parallel-item::after {content: \"\";width: 100%;border-bottom: 1px solid gray;flex-grow: 1;}#sk-container-id-3 div.sk-label:hover label.sk-toggleable__label {background-color: #d4ebff;}#sk-container-id-3 div.sk-serial::before {content: \"\";position: absolute;border-left: 1px solid gray;box-sizing: border-box;top: 0;bottom: 0;left: 50%;z-index: 0;}#sk-container-id-3 div.sk-serial {display: flex;flex-direction: column;align-items: center;background-color: white;padding-right: 0.2em;padding-left: 0.2em;position: relative;}#sk-container-id-3 div.sk-item {position: relative;z-index: 1;}#sk-container-id-3 div.sk-parallel {display: flex;align-items: stretch;justify-content: center;background-color: white;position: relative;}#sk-container-id-3 div.sk-item::before, #sk-container-id-3 div.sk-parallel-item::before {content: \"\";position: absolute;border-left: 1px solid gray;box-sizing: border-box;top: 0;bottom: 0;left: 50%;z-index: -1;}#sk-container-id-3 div.sk-parallel-item {display: flex;flex-direction: column;z-index: 1;position: relative;background-color: white;}#sk-container-id-3 div.sk-parallel-item:first-child::after {align-self: flex-end;width: 50%;}#sk-container-id-3 div.sk-parallel-item:last-child::after {align-self: flex-start;width: 50%;}#sk-container-id-3 div.sk-parallel-item:only-child::after {width: 0;}#sk-container-id-3 div.sk-dashed-wrapped {border: 1px dashed gray;margin: 0 0.4em 0.5em 0.4em;box-sizing: border-box;padding-bottom: 0.4em;background-color: white;}#sk-container-id-3 div.sk-label label {font-family: monospace;font-weight: bold;display: inline-block;line-height: 1.2em;}#sk-container-id-3 div.sk-label-container {text-align: center;}#sk-container-id-3 div.sk-container {/* jupyter's `normalize.less` sets `[hidden] { display: none; }` but bootstrap.min.css set `[hidden] { display: none !important; }` so we also need the `!important` here to be able to override the default hidden behavior on the sphinx rendered scikit-learn.org. See: https://github.com/scikit-learn/scikit-learn/issues/21755 */display: inline-block !important;position: relative;}#sk-container-id-3 div.sk-text-repr-fallback {display: none;}</style><div id=\"sk-container-id-3\" class=\"sk-top-container\"><div class=\"sk-text-repr-fallback\"><pre>LogisticRegression(max_iter=300)</pre><b>In a Jupyter environment, please rerun this cell to show the HTML representation or trust the notebook. <br />On GitHub, the HTML representation is unable to render, please try loading this page with nbviewer.org.</b></div><div class=\"sk-container\" hidden><div class=\"sk-item\"><div class=\"sk-estimator sk-toggleable\"><input class=\"sk-toggleable__control sk-hidden--visually\" id=\"sk-estimator-id-3\" type=\"checkbox\" checked><label for=\"sk-estimator-id-3\" class=\"sk-toggleable__label sk-toggleable__label-arrow\">LogisticRegression</label><div class=\"sk-toggleable__content\"><pre>LogisticRegression(max_iter=300)</pre></div></div></div></div></div>"
      ],
      "text/plain": [
       "LogisticRegression(max_iter=300)"
      ]
     },
     "execution_count": 195,
     "metadata": {},
     "output_type": "execute_result"
    }
   ],
   "source": [
    "lr2 = LogisticRegression(max_iter=300)\n",
    "lr2.fit(x_train, y_train)"
   ]
  },
  {
   "cell_type": "code",
   "execution_count": 227,
   "id": "64269bb9-4b0e-4b3d-b34c-c95f92d83569",
   "metadata": {},
   "outputs": [
    {
     "data": {
      "text/html": [
       "<style>#sk-container-id-4 {color: black;background-color: white;}#sk-container-id-4 pre{padding: 0;}#sk-container-id-4 div.sk-toggleable {background-color: white;}#sk-container-id-4 label.sk-toggleable__label {cursor: pointer;display: block;width: 100%;margin-bottom: 0;padding: 0.3em;box-sizing: border-box;text-align: center;}#sk-container-id-4 label.sk-toggleable__label-arrow:before {content: \"▸\";float: left;margin-right: 0.25em;color: #696969;}#sk-container-id-4 label.sk-toggleable__label-arrow:hover:before {color: black;}#sk-container-id-4 div.sk-estimator:hover label.sk-toggleable__label-arrow:before {color: black;}#sk-container-id-4 div.sk-toggleable__content {max-height: 0;max-width: 0;overflow: hidden;text-align: left;background-color: #f0f8ff;}#sk-container-id-4 div.sk-toggleable__content pre {margin: 0.2em;color: black;border-radius: 0.25em;background-color: #f0f8ff;}#sk-container-id-4 input.sk-toggleable__control:checked~div.sk-toggleable__content {max-height: 200px;max-width: 100%;overflow: auto;}#sk-container-id-4 input.sk-toggleable__control:checked~label.sk-toggleable__label-arrow:before {content: \"▾\";}#sk-container-id-4 div.sk-estimator input.sk-toggleable__control:checked~label.sk-toggleable__label {background-color: #d4ebff;}#sk-container-id-4 div.sk-label input.sk-toggleable__control:checked~label.sk-toggleable__label {background-color: #d4ebff;}#sk-container-id-4 input.sk-hidden--visually {border: 0;clip: rect(1px 1px 1px 1px);clip: rect(1px, 1px, 1px, 1px);height: 1px;margin: -1px;overflow: hidden;padding: 0;position: absolute;width: 1px;}#sk-container-id-4 div.sk-estimator {font-family: monospace;background-color: #f0f8ff;border: 1px dotted black;border-radius: 0.25em;box-sizing: border-box;margin-bottom: 0.5em;}#sk-container-id-4 div.sk-estimator:hover {background-color: #d4ebff;}#sk-container-id-4 div.sk-parallel-item::after {content: \"\";width: 100%;border-bottom: 1px solid gray;flex-grow: 1;}#sk-container-id-4 div.sk-label:hover label.sk-toggleable__label {background-color: #d4ebff;}#sk-container-id-4 div.sk-serial::before {content: \"\";position: absolute;border-left: 1px solid gray;box-sizing: border-box;top: 0;bottom: 0;left: 50%;z-index: 0;}#sk-container-id-4 div.sk-serial {display: flex;flex-direction: column;align-items: center;background-color: white;padding-right: 0.2em;padding-left: 0.2em;position: relative;}#sk-container-id-4 div.sk-item {position: relative;z-index: 1;}#sk-container-id-4 div.sk-parallel {display: flex;align-items: stretch;justify-content: center;background-color: white;position: relative;}#sk-container-id-4 div.sk-item::before, #sk-container-id-4 div.sk-parallel-item::before {content: \"\";position: absolute;border-left: 1px solid gray;box-sizing: border-box;top: 0;bottom: 0;left: 50%;z-index: -1;}#sk-container-id-4 div.sk-parallel-item {display: flex;flex-direction: column;z-index: 1;position: relative;background-color: white;}#sk-container-id-4 div.sk-parallel-item:first-child::after {align-self: flex-end;width: 50%;}#sk-container-id-4 div.sk-parallel-item:last-child::after {align-self: flex-start;width: 50%;}#sk-container-id-4 div.sk-parallel-item:only-child::after {width: 0;}#sk-container-id-4 div.sk-dashed-wrapped {border: 1px dashed gray;margin: 0 0.4em 0.5em 0.4em;box-sizing: border-box;padding-bottom: 0.4em;background-color: white;}#sk-container-id-4 div.sk-label label {font-family: monospace;font-weight: bold;display: inline-block;line-height: 1.2em;}#sk-container-id-4 div.sk-label-container {text-align: center;}#sk-container-id-4 div.sk-container {/* jupyter's `normalize.less` sets `[hidden] { display: none; }` but bootstrap.min.css set `[hidden] { display: none !important; }` so we also need the `!important` here to be able to override the default hidden behavior on the sphinx rendered scikit-learn.org. See: https://github.com/scikit-learn/scikit-learn/issues/21755 */display: inline-block !important;position: relative;}#sk-container-id-4 div.sk-text-repr-fallback {display: none;}</style><div id=\"sk-container-id-4\" class=\"sk-top-container\"><div class=\"sk-text-repr-fallback\"><pre>LogisticRegression(max_iter=300)</pre><b>In a Jupyter environment, please rerun this cell to show the HTML representation or trust the notebook. <br />On GitHub, the HTML representation is unable to render, please try loading this page with nbviewer.org.</b></div><div class=\"sk-container\" hidden><div class=\"sk-item\"><div class=\"sk-estimator sk-toggleable\"><input class=\"sk-toggleable__control sk-hidden--visually\" id=\"sk-estimator-id-4\" type=\"checkbox\" checked><label for=\"sk-estimator-id-4\" class=\"sk-toggleable__label sk-toggleable__label-arrow\">LogisticRegression</label><div class=\"sk-toggleable__content\"><pre>LogisticRegression(max_iter=300)</pre></div></div></div></div></div>"
      ],
      "text/plain": [
       "LogisticRegression(max_iter=300)"
      ]
     },
     "execution_count": 227,
     "metadata": {},
     "output_type": "execute_result"
    }
   ],
   "source": [
    "lr = LogisticRegression(max_iter=300)\n",
    "lr.fit(x_train, y_train)"
   ]
  },
  {
   "cell_type": "code",
   "execution_count": 228,
   "id": "90fe2a80-f419-4efd-b346-384507e2f611",
   "metadata": {},
   "outputs": [],
   "source": [
    "# predictions\n",
    "y_testpred = lr.predict(x_test)"
   ]
  },
  {
   "cell_type": "code",
   "execution_count": 229,
   "id": "db6b9187-f680-4668-a9f1-63f147ac768a",
   "metadata": {},
   "outputs": [
    {
     "name": "stdout",
     "output_type": "stream",
     "text": [
      "Insample accuracy: 0.6802498512790006\n",
      "Test accuracy: 0.6464132762312634\n"
     ]
    }
   ],
   "source": [
    "# score\n",
    "# Use score method to get accuracy of model\n",
    "insample_acc= lr.score(x_train, y_train)\n",
    "test_acc = lr.score(x_test, y_test)\n",
    "print(f\"Insample accuracy: {insample_acc}\")\n",
    "print(f\"Test accuracy: {test_acc}\")"
   ]
  },
  {
   "cell_type": "code",
   "execution_count": 197,
   "id": "707f6005-1a61-4cb7-81f7-99412b0a4f66",
   "metadata": {},
   "outputs": [
    {
     "name": "stdout",
     "output_type": "stream",
     "text": [
      "Insample accuracy: 0.9168947055324211\n",
      "Test accuracy: 0.903372591006424\n"
     ]
    }
   ],
   "source": [
    "# score\n",
    "# Use score method to get accuracy of model\n",
    "insample_acc= lr2.score(x_train, y_train)\n",
    "test_acc = lr2.score(x_test, y_test)\n",
    "print(f\"Insample accuracy: {insample_acc}\")\n",
    "print(f\"Test accuracy: {test_acc}\")"
   ]
  },
  {
   "cell_type": "markdown",
   "id": "4d55477e-ba93-4883-84b1-b40ea93b9fc3",
   "metadata": {},
   "source": [
    "#### confusion matrix"
   ]
  },
  {
   "cell_type": "code",
   "execution_count": 230,
   "id": "957adaf1-7954-4158-a37c-5d310521917f",
   "metadata": {},
   "outputs": [],
   "source": [
    "import matplotlib.pyplot as plt\n",
    "import seaborn as sns\n",
    "from sklearn import metrics"
   ]
  },
  {
   "cell_type": "code",
   "execution_count": 206,
   "id": "59459693-1bff-4e82-ba50-5026e67665eb",
   "metadata": {},
   "outputs": [
    {
     "data": {
      "text/plain": [
       "'              precision    recall  f1-score   support\\n\\n           0       0.91      0.89      0.90      1879\\n           1       0.89      0.91      0.90      1857\\n\\n    accuracy                           0.90      3736\\n   macro avg       0.90      0.90      0.90      3736\\nweighted avg       0.90      0.90      0.90      3736\\n'"
      ]
     },
     "execution_count": 206,
     "metadata": {},
     "output_type": "execute_result"
    }
   ],
   "source": [
    "metrics.classification_report(y_test, y_testpred)"
   ]
  },
  {
   "cell_type": "code",
   "execution_count": 231,
   "id": "5b29051a-cdc3-40b1-99d2-c957d3a8606d",
   "metadata": {},
   "outputs": [
    {
     "name": "stdout",
     "output_type": "stream",
     "text": [
      "              precision    recall  f1-score   support\n",
      "\n",
      "           0       0.66      0.62      0.64      1879\n",
      "           1       0.64      0.67      0.65      1857\n",
      "\n",
      "    accuracy                           0.65      3736\n",
      "   macro avg       0.65      0.65      0.65      3736\n",
      "weighted avg       0.65      0.65      0.65      3736\n",
      "\n"
     ]
    }
   ],
   "source": [
    "print(metrics.classification_report(y_test, y_testpred))"
   ]
  },
  {
   "cell_type": "code",
   "execution_count": 233,
   "id": "c89c5e05-5dc3-4cc5-8389-53344d7f4ba6",
   "metadata": {},
   "outputs": [
    {
     "name": "stdout",
     "output_type": "stream",
     "text": [
      "[[1171  708]\n",
      " [ 613 1244]]\n"
     ]
    }
   ],
   "source": [
    "cm = metrics.confusion_matrix(y_test, y_testpred)\n",
    "print(cm)"
   ]
  },
  {
   "cell_type": "code",
   "execution_count": 200,
   "id": "af29ed94-3b8e-464d-9e00-0e40d81a771e",
   "metadata": {},
   "outputs": [
    {
     "name": "stdout",
     "output_type": "stream",
     "text": [
      "[[1676  203]\n",
      " [ 158 1699]]\n"
     ]
    }
   ],
   "source": [
    "cm_best = metrics.confusion_matrix(y_test, y_testpred)\n",
    "print(cm_best)"
   ]
  },
  {
   "cell_type": "code",
   "execution_count": 234,
   "id": "1e203525-82c8-4976-a218-24b2099d83f2",
   "metadata": {},
   "outputs": [
    {
     "data": {
      "image/png": "[encoded data removed]",
      "text/plain": [
       "<Figure size 360x360 with 2 Axes>"
      ]
     },
     "metadata": {
      "needs_background": "light"
     },
     "output_type": "display_data"
    }
   ],
   "source": [
    "plt.figure(figsize=(5,5))\n",
    "sns.heatmap(cm, annot=True, fmt=\".3f\", linewidths=.5, square = True, cmap = 'Blues_r');\n",
    "plt.ylabel('Actual label');\n",
    "plt.xlabel('Predicted label');\n",
    "all_sample_title = 'Accuracy Score: {0}'.format(test_acc)\n",
    "plt.title(all_sample_title, size = 15);"
   ]
  },
  {
   "cell_type": "code",
   "execution_count": 203,
   "id": "fbf07d18-1aa0-4ec8-9268-cd323584550e",
   "metadata": {},
   "outputs": [
    {
     "data": {
      "image/png": "[encoded data removed]",
      "text/plain": [
       "<Figure size 360x360 with 2 Axes>"
      ]
     },
     "metadata": {
      "needs_background": "light"
     },
     "output_type": "display_data"
    }
   ],
   "source": [
    "plt.figure(figsize=(5,5))\n",
    "sns.heatmap(cm_best, annot=True, fmt=\".3f\", linewidths=.5, square = True, cmap = 'Blues_r');\n",
    "plt.ylabel('Actual label');\n",
    "plt.xlabel('Predicted label');\n",
    "all_sample_title = 'Accuracy Score: {0}'.format(test_acc)\n",
    "plt.title(all_sample_title, size = 15);"
   ]
  },
  {
   "cell_type": "code",
   "execution_count": 204,
   "id": "e0c51978-a18c-4ac6-8207-6eff81a2ca5f",
   "metadata": {},
   "outputs": [
    {
     "data": {
      "image/png": "[encoded data removed]",
      "text/plain": [
       "<Figure size 432x288 with 1 Axes>"
      ]
     },
     "metadata": {
      "needs_background": "light"
     },
     "output_type": "display_data"
    }
   ],
   "source": [
    "import matplotlib.pyplot as plt\n",
    "from sklearn.metrics import RocCurveDisplay\n",
    "RocCurveDisplay.from_predictions(y_test, y_testpred)\n",
    "plt.show()"
   ]
  },
  {
   "cell_type": "code",
   "execution_count": 235,
   "id": "98c6faf4-ddb2-48ff-ab34-447cbcb8e0e9",
   "metadata": {},
   "outputs": [
    {
     "data": {
      "image/png": "[encoded data removed]",
      "text/plain": [
       "<Figure size 432x288 with 1 Axes>"
      ]
     },
     "metadata": {
      "needs_background": "light"
     },
     "output_type": "display_data"
    }
   ],
   "source": [
    "import matplotlib.pyplot as plt\n",
    "from sklearn.metrics import RocCurveDisplay\n",
    "RocCurveDisplay.from_predictions(y_test, y_testpred)\n",
    "plt.show()"
   ]
  },
  {
   "cell_type": "code",
   "execution_count": 205,
   "id": "fb01ad7e-4e3d-428e-9214-81eb9ceeb159",
   "metadata": {},
   "outputs": [
    {
     "data": {
      "image/png": "[encoded data removed]",
      "text/plain": [
       "<Figure size 432x288 with 1 Axes>"
      ]
     },
     "metadata": {
      "needs_background": "light"
     },
     "output_type": "display_data"
    }
   ],
   "source": [
    "from sklearn.metrics import PrecisionRecallDisplay\n",
    "\n",
    "display = PrecisionRecallDisplay.from_estimator(\n",
    "    lr2, x_test, y_test, name=\"Logistic regression\"\n",
    ")\n",
    "_ = display.ax_.set_title(\"2-class Precision-Recall curve\")"
   ]
  },
  {
   "cell_type": "code",
   "execution_count": 236,
   "id": "c1e77300-2b79-459a-861b-5cecc900a621",
   "metadata": {},
   "outputs": [
    {
     "data": {
      "image/png": "[encoded data removed]",
      "text/plain": [
       "<Figure size 432x288 with 1 Axes>"
      ]
     },
     "metadata": {
      "needs_background": "light"
     },
     "output_type": "display_data"
    }
   ],
   "source": [
    "from sklearn.metrics import PrecisionRecallDisplay\n",
    "\n",
    "display = PrecisionRecallDisplay.from_estimator(\n",
    "    lr, x_test, y_test, name=\"Logistic regression\"\n",
    ")\n",
    "_ = display.ax_.set_title(\"2-class Precision-Recall curve\")"
   ]
  },
  {
   "cell_type": "code",
   "execution_count": null,
   "id": "2591d372-dcb6-4a05-8528-bc347c4a69a6",
   "metadata": {},
   "outputs": [],
   "source": []
  }
 ],
 "metadata": {
  "kernelspec": {
   "display_name": ".conda-bioblp-env [Python]",
   "language": "python",
   "name": "conda-env-.conda-bioblp-env-py"
  },
  "language_info": {
   "codemirror_mode": {
    "name": "ipython",
    "version": 3
   },
   "file_extension": ".py",
   "mimetype": "text/x-python",
   "name": "python",
   "nbconvert_exporter": "python",
   "pygments_lexer": "ipython3",
   "version": "3.8.13"
  }
 },
 "nbformat": 4,
 "nbformat_minor": 5
}
