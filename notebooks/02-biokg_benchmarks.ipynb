{
 "cells": [
  {
   "cell_type": "code",
   "execution_count": 1,
   "id": "97ee430b",
   "metadata": {},
   "outputs": [],
   "source": [
    "%load_ext autoreload\n",
    "%autoreload 2"
   ]
  },
  {
   "cell_type": "code",
   "execution_count": 2,
   "id": "a8acba93",
   "metadata": {
    "tags": []
   },
   "outputs": [
    {
     "name": "stderr",
     "output_type": "stream",
     "text": [
      "/home/jovyan/.conda/envs/bioblp-env/lib/python3.8/site-packages/scipy/__init__.py:146: UserWarning: A NumPy version >=1.16.5 and <1.23.0 is required for this version of SciPy (detected version 1.23.2\n",
      "  warnings.warn(f\"A NumPy version >={np_minversion} and <{np_maxversion}\"\n",
      "/home/jovyan/.conda/envs/bioblp-env/lib/python3.8/site-packages/tqdm/auto.py:22: TqdmWarning: IProgress not found. Please update jupyter and ipywidgets. See https://ipywidgets.readthedocs.io/en/stable/user_install.html\n",
      "  from .autonotebook import tqdm as notebook_tqdm\n"
     ]
    }
   ],
   "source": [
    "#from bioblp import train\n",
    "from pykeen.pipeline import pipeline\n",
    "from pykeen.models import TransE\n",
    "import pandas as pd \n",
    "from pathlib import Path\n",
    "import toml"
   ]
  },
  {
   "cell_type": "code",
   "execution_count": 93,
   "id": "a1a25923",
   "metadata": {},
   "outputs": [],
   "source": [
    "from bioblp.data import COL_EDGE, COL_SOURCE, COL_TARGET\n",
    "DATA_DIR = Path(\"../data\")\n"
   ]
  },
  {
   "cell_type": "code",
   "execution_count": 9,
   "id": "41d7aa56",
   "metadata": {},
   "outputs": [],
   "source": [
    "from bioblp.data import load_splits"
   ]
  },
  {
   "cell_type": "code",
   "execution_count": 96,
   "id": "40516a28",
   "metadata": {},
   "outputs": [],
   "source": [
    "# dataset_name = 'biokg_mini_random_900505'\n",
    "dataset_name = 'biokg_random_900505'\n",
    "\n",
    "train, valid, test = load_splits(dataset=dataset_name,\n",
    "                                 data_path=DATA_DIR.joinpath('raw/biokg_full_splits'))\n"
   ]
  },
  {
   "cell_type": "code",
   "execution_count": 10,
   "id": "c2e0369b",
   "metadata": {},
   "outputs": [
    {
     "name": "stderr",
     "output_type": "stream",
     "text": [
      "Reconstructing all label-based triples. This is expensive and rarely needed.\n"
     ]
    },
    {
     "data": {
      "text/plain": [
       "DDI                            1194699\n",
       "PROTEIN_PATHWAY_ASSOCIATION     229631\n",
       "PPI                             105482\n",
       "PROTEIN_DISEASE_ASSOCIATION      99608\n",
       "MEMBER_OF_COMPLEX                79244\n",
       "DRUG_DISEASE_ASSOCIATION         60319\n",
       "DPI                              25553\n",
       "COMPLEX_IN_PATHWAY               20458\n",
       "COMPLEX_TOP_LEVEL_PATHWAY        14097\n",
       "DRUG_TARGET                      13670\n",
       "DRUG_PATHWAY_ASSOCIATION          4646\n",
       "DISEASE_GENETIC_DISORDER          4594\n",
       "DRUG_ENZYME                       4508\n",
       "RELATED_GENETIC_DISORDER          3716\n",
       "DISEASE_PATHWAY_ASSOCIATION       3258\n",
       "DRUG_TRANSPORTER                  2730\n",
       "DRUG_CARRIER                       698\n",
       "Name: edg, dtype: int64"
      ]
     },
     "execution_count": 10,
     "metadata": {},
     "output_type": "execute_result"
    }
   ],
   "source": [
    "train_df = pd.DataFrame(train.triples, columns=[COL_SOURCE, COL_EDGE, COL_TARGET])\n",
    "train_df.edg.value_counts()"
   ]
  },
  {
   "cell_type": "markdown",
   "id": "2539a63a",
   "metadata": {},
   "source": [
    "## Load benchmark"
   ]
  },
  {
   "cell_type": "code",
   "execution_count": 14,
   "id": "f5a36380",
   "metadata": {},
   "outputs": [],
   "source": [
    "dpi_benchmark_path = DATA_DIR.joinpath('benchmarks/dpi_fda.tsv')"
   ]
  },
  {
   "cell_type": "code",
   "execution_count": 15,
   "id": "f2182501",
   "metadata": {},
   "outputs": [],
   "source": [
    "dpi_bm = pd.read_csv(dpi_benchmark_path, sep='\\t', names=[COL_SOURCE, COL_EDGE, COL_TARGET])"
   ]
  },
  {
   "cell_type": "code",
   "execution_count": 16,
   "id": "3694af62",
   "metadata": {},
   "outputs": [
    {
     "data": {
      "text/plain": [
       "DPI    19161\n",
       "Name: edg, dtype: int64"
      ]
     },
     "execution_count": 16,
     "metadata": {},
     "output_type": "execute_result"
    }
   ],
   "source": [
    "dpi_bm.edg.value_counts()"
   ]
  },
  {
   "cell_type": "markdown",
   "id": "25492767-cb69-4a25-954f-dd602fdbd496",
   "metadata": {},
   "source": [
    "\n",
    "* [DB01079; Tegaserod](https://go.drugbank.com/drugs/DB01079)\n",
    "Tegaserod is a serotonin-4 (5-HT4) receptor agonist indicated for the treatment of constipation predominant irritable bowel syndrome (IBS-C) specifically in women under the age of 65. There is currently no safety or efficacy data for use of tegaserol in men.\n",
    "\n",
    "* https://www.uniprot.org/uniprotkb/Q13639/entry"
   ]
  },
  {
   "cell_type": "code",
   "execution_count": 17,
   "id": "6b646eba-d50b-47ed-81ce-1c58f7088403",
   "metadata": {},
   "outputs": [
    {
     "data": {
      "text/html": [
       "<div>\n",
       "<style scoped>\n",
       "    .dataframe tbody tr th:only-of-type {\n",
       "        vertical-align: middle;\n",
       "    }\n",
       "\n",
       "    .dataframe tbody tr th {\n",
       "        vertical-align: top;\n",
       "    }\n",
       "\n",
       "    .dataframe thead th {\n",
       "        text-align: right;\n",
       "    }\n",
       "</style>\n",
       "<table border=\"1\" class=\"dataframe\">\n",
       "  <thead>\n",
       "    <tr style=\"text-align: right;\">\n",
       "      <th></th>\n",
       "      <th>src</th>\n",
       "      <th>edg</th>\n",
       "      <th>tgt</th>\n",
       "    </tr>\n",
       "  </thead>\n",
       "  <tbody>\n",
       "    <tr>\n",
       "      <th>0</th>\n",
       "      <td>DB01079</td>\n",
       "      <td>DPI</td>\n",
       "      <td>Q13639</td>\n",
       "    </tr>\n",
       "    <tr>\n",
       "      <th>1</th>\n",
       "      <td>DB00114</td>\n",
       "      <td>DPI</td>\n",
       "      <td>P20711</td>\n",
       "    </tr>\n",
       "    <tr>\n",
       "      <th>2</th>\n",
       "      <td>DB01158</td>\n",
       "      <td>DPI</td>\n",
       "      <td>P13637</td>\n",
       "    </tr>\n",
       "    <tr>\n",
       "      <th>3</th>\n",
       "      <td>DB01069</td>\n",
       "      <td>DPI</td>\n",
       "      <td>P18825</td>\n",
       "    </tr>\n",
       "    <tr>\n",
       "      <th>4</th>\n",
       "      <td>DB01186</td>\n",
       "      <td>DPI</td>\n",
       "      <td>P08684</td>\n",
       "    </tr>\n",
       "  </tbody>\n",
       "</table>\n",
       "</div>"
      ],
      "text/plain": [
       "       src  edg     tgt\n",
       "0  DB01079  DPI  Q13639\n",
       "1  DB00114  DPI  P20711\n",
       "2  DB01158  DPI  P13637\n",
       "3  DB01069  DPI  P18825\n",
       "4  DB01186  DPI  P08684"
      ]
     },
     "execution_count": 17,
     "metadata": {},
     "output_type": "execute_result"
    }
   ],
   "source": [
    "dpi_bm.head()"
   ]
  },
  {
   "cell_type": "code",
   "execution_count": 97,
   "id": "30f28040-7bc9-4fea-ac81-f75cc9a1b4bf",
   "metadata": {},
   "outputs": [],
   "source": [
    "from typing import List\n",
    "\n",
    "ent2id_map = train.entity_to_id\n",
    "rel2id_map = train.relation_to_id\n",
    "\n",
    "def get_ent_ids_for_entity_list(entity_list: List[str], ent2id_map):\n",
    "    ids = [ent2id_map.get(ent) for ent in entity_list]\n",
    "    return ids\n"
   ]
  },
  {
   "cell_type": "markdown",
   "id": "e1eb41b7-f0e2-437e-a84c-e7afbc247caf",
   "metadata": {},
   "source": [
    "Load pretrained KGE model"
   ]
  },
  {
   "cell_type": "code",
   "execution_count": 102,
   "id": "3dc84db2",
   "metadata": {},
   "outputs": [
    {
     "name": "stdout",
     "output_type": "stream",
     "text": [
      "Loading trained model from /home/jovyan/BioBLP/models/1baon0eg\n"
     ]
    }
   ],
   "source": [
    "import torch\n",
    "\n",
    "model_dir = Path('/home/jovyan/BioBLP/models/1baon0eg')\n",
    "print(f'Loading trained model from {model_dir}')\n",
    "device = torch.device('cuda' if torch.cuda.is_available() else 'cpu')\n",
    "model = torch.load(model_dir.joinpath(f\"trained_model.pkl\"), map_location=device)\n",
    "#if not torch.cuda.is_available():\n",
    "#    model.device = 'cpu'"
   ]
  },
  {
   "cell_type": "markdown",
   "id": "ceafcd98-0c42-4bcf-bdb4-6f6d467b4dea",
   "metadata": {},
   "source": [
    "#### Retrieve KG embeddings"
   ]
  },
  {
   "cell_type": "code",
   "execution_count": 76,
   "id": "3a08b24c",
   "metadata": {},
   "outputs": [
    {
     "data": {
      "text/plain": [
       "Embedding(106339, 512)"
      ]
     },
     "execution_count": 76,
     "metadata": {},
     "output_type": "execute_result"
    }
   ],
   "source": [
    "entity_representation = model.entity_representations[0]._embeddings\n",
    "relation_representation = model.relation_representations[0]._embeddings\n",
    "entity_representation"
   ]
  },
  {
   "cell_type": "code",
   "execution_count": 98,
   "id": "19910112-bb45-4244-bf61-765313f6ac07",
   "metadata": {},
   "outputs": [],
   "source": [
    "dpi_bm_drugs = list(dpi_bm.src.values)\n",
    "drug_ids = get_ent_ids_for_entity_list(dpi_bm_drugs, ent2id_map)    \n",
    "drug_ids = torch.LongTensor(drug_ids)\n",
    "#drug_embs = model.entity_representations[0](drug_ids)\n",
    "drug_embs = model.entity_representations[0]._embeddings(drug_ids)"
   ]
  },
  {
   "cell_type": "code",
   "execution_count": 99,
   "id": "b107b434-3674-4926-bcc9-765f18cde288",
   "metadata": {},
   "outputs": [],
   "source": [
    "dpi_bm_prots = list(dpi_bm.tgt.values)\n",
    "prot_ids = get_ent_ids_for_entity_list(dpi_bm_prots, ent2id_map)   \n",
    "prot_ids = torch.LongTensor(prot_ids)\n",
    "prot_embs = model.entity_representations[0]._embeddings(prot_ids)"
   ]
  },
  {
   "cell_type": "code",
   "execution_count": 87,
   "id": "7fdc9573-9585-4784-84eb-4d96eab37bbe",
   "metadata": {},
   "outputs": [
    {
     "data": {
      "text/plain": [
       "(torch.Size([19161, 512]), torch.Size([19161, 512]))"
      ]
     },
     "execution_count": 87,
     "metadata": {},
     "output_type": "execute_result"
    }
   ],
   "source": [
    "drug_embs.shape, prot_embs.shape"
   ]
  },
  {
   "cell_type": "markdown",
   "id": "140fd17d-1018-48f6-87f4-9a4a93655c46",
   "metadata": {},
   "source": [
    "#### encode pairs of entities"
   ]
  },
  {
   "cell_type": "code",
   "execution_count": 130,
   "id": "e7c49f60-30ac-4a69-ba7d-34b8464f3f93",
   "metadata": {},
   "outputs": [],
   "source": [
    "from collections.abc import Callable\n",
    "\n",
    "def concatenate(emb1, emb2):\n",
    "    out = torch.cat((emb1, emb2), dim=0).view(1, -1)\n",
    "    return out\n",
    "\n",
    "def average(emb1, emb2):\n",
    "    concat = torch.cat((emb1, emb2), dim=0).view(2, -1)\n",
    "    out = torch.stack((emb1, emb2)).mean(dim=0).view(1,-1)\n",
    "    return out\n",
    "\n",
    "def encode_entity_pair(emb1, emb2, transform:Callable):\n",
    "    return transform(emb1, emb2)\n",
    "    "
   ]
  },
  {
   "cell_type": "code",
   "execution_count": 131,
   "id": "5c724ff2-3e96-4c89-8078-bd1bc441300d",
   "metadata": {},
   "outputs": [],
   "source": [
    "out = encode_entity_pair(emb1=drug_embs[0, :], emb2=prot_embs[0, :], transform=average)"
   ]
  },
  {
   "cell_type": "code",
   "execution_count": 132,
   "id": "b55c0e0d-53b1-42be-9818-076d6303f376",
   "metadata": {},
   "outputs": [
    {
     "data": {
      "text/plain": [
       "torch.Size([1, 512])"
      ]
     },
     "execution_count": 132,
     "metadata": {},
     "output_type": "execute_result"
    }
   ],
   "source": [
    "out.shape"
   ]
  },
  {
   "cell_type": "code",
   "execution_count": null,
   "id": "6b82bc17-8606-45ff-bf9e-6cb6178fcf6b",
   "metadata": {},
   "outputs": [],
   "source": []
  }
 ],
 "metadata": {
  "kernelspec": {
   "display_name": ".conda-bioblp-env [Python]",
   "language": "python",
   "name": "conda-env-.conda-bioblp-env-py"
  },
  "language_info": {
   "codemirror_mode": {
    "name": "ipython",
    "version": 3
   },
   "file_extension": ".py",
   "mimetype": "text/x-python",
   "name": "python",
   "nbconvert_exporter": "python",
   "pygments_lexer": "ipython3",
   "version": "3.8.13"
  }
 },
 "nbformat": 4,
 "nbformat_minor": 5
}
