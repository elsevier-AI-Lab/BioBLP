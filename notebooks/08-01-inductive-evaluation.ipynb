{
 "cells": [
  {
   "cell_type": "markdown",
   "id": "f2545473",
   "metadata": {},
   "source": [
    "# Evaluating a trained link predictor on unseen triples"
   ]
  },
  {
   "cell_type": "markdown",
   "id": "ae53d26d",
   "metadata": {},
   "source": [
    "In this notebook we take a model for link prediction, and test it over a set of triples containing unseen entities."
   ]
  },
  {
   "cell_type": "code",
   "execution_count": 1,
   "id": "044e748a",
   "metadata": {},
   "outputs": [],
   "source": [
    "import os.path as osp\n",
    "\n",
    "import matplotlib.pyplot as plt\n",
    "import pandas as pd\n",
    "from pykeen.evaluation import RankBasedEvaluator\n",
    "from pykeen.triples import TriplesFactory\n",
    "import torch\n",
    "from tqdm import tqdm"
   ]
  },
  {
   "cell_type": "markdown",
   "id": "e131c5cf",
   "metadata": {},
   "source": [
    "Change this cell to generate a report for other datasets/models:"
   ]
  },
  {
   "cell_type": "code",
   "execution_count": 2,
   "id": "db315cb9",
   "metadata": {},
   "outputs": [],
   "source": [
    "MODEL_ID = 'cttc3ucm'"
   ]
  },
  {
   "cell_type": "markdown",
   "source": [
    "## Loading model and data"
   ],
   "metadata": {
    "collapsed": false
   }
  },
  {
   "cell_type": "code",
   "execution_count": 3,
   "id": "cde739df",
   "metadata": {},
   "outputs": [],
   "source": [
    "base_path = osp.join('..', 'models', MODEL_ID)\n",
    "model_path = osp.join(base_path, 'trained_model.pkl')\n",
    "model = torch.load(model_path)\n",
    "train = TriplesFactory.from_path_binary(osp.join(base_path, 'training_triples'))\n",
    "\n",
    "graph_path = osp.join('..', 'data', 'biokgb', 'graph')\n",
    "valid_triples = 'biokg.links-valid.csv'\n",
    "test_triples = 'biokg.links-test.csv'\n",
    "\n",
    "valid, test = [TriplesFactory.from_path(osp.join(graph_path, f),\n",
    "                                        entity_to_id=train.entity_to_id,\n",
    "                                        relation_to_id=train.relation_to_id)\n",
    "               for f in (valid_triples, test_triples)]"
   ]
  },
  {
   "cell_type": "code",
   "execution_count": 4,
   "outputs": [
    {
     "name": "stdout",
     "output_type": "stream",
     "text": [
      "dict_keys(['embeddings', 'identifiers'])\n"
     ]
    }
   ],
   "source": [
    "protein_data = torch.load('../data/biokgb/properties/protein_prottrans_embeddings_24_12.pt')\n",
    "print(protein_data.keys())"
   ],
   "metadata": {
    "collapsed": false
   }
  },
  {
   "cell_type": "code",
   "execution_count": 5,
   "outputs": [],
   "source": [
    "inductive_triples = pd.read_csv('../data/biokgb/graph/inductive-triples-from-benchmarks-15-03-2023.csv',\n",
    "                                delimiter=',', usecols=[0, 1, 2], names=['head', 'rel', 'tail'])"
   ],
   "metadata": {
    "collapsed": false
   }
  },
  {
   "cell_type": "markdown",
   "source": [
    "For now we will select only PPI relations:"
   ],
   "metadata": {
    "collapsed": false
   }
  },
  {
   "cell_type": "code",
   "execution_count": 6,
   "outputs": [],
   "source": [
    "inductive_triples = inductive_triples[inductive_triples['rel'] == 'PPI']"
   ],
   "metadata": {
    "collapsed": false
   }
  },
  {
   "cell_type": "code",
   "execution_count": 7,
   "outputs": [
    {
     "data": {
      "text/plain": "tail    1250\nhead      44\nboth       3\nName: inductive, dtype: int64"
     },
     "execution_count": 7,
     "metadata": {},
     "output_type": "execute_result"
    }
   ],
   "source": [
    "from functools import partial\n",
    "\n",
    "def not_in_set(row, entity_set):\n",
    "    if row['head'] not in entity_set and row['tail'] not in entity_set:\n",
    "        return 'both'\n",
    "    elif row['head'] not in entity_set:\n",
    "        return 'head'\n",
    "    elif row['tail'] not in entity_set:\n",
    "        return 'tail'\n",
    "    else:\n",
    "        return 'none'\n",
    "\n",
    "inductive_triples['inductive'] = inductive_triples.apply(partial(not_in_set, entity_set=train.entity_to_id), axis=1)\n",
    "inductive_triples['inductive'].value_counts()"
   ],
   "metadata": {
    "collapsed": false
   }
  },
  {
   "cell_type": "code",
   "execution_count": 8,
   "outputs": [
    {
     "data": {
      "text/plain": "none    1295\ntail       2\nName: missing-embedding, dtype: int64"
     },
     "execution_count": 8,
     "metadata": {},
     "output_type": "execute_result"
    }
   ],
   "source": [
    "inductive_triples['missing-embedding'] = inductive_triples.apply(partial(not_in_set, entity_set=protein_data['identifiers']), axis=1)\n",
    "inductive_triples['missing-embedding'].value_counts()"
   ],
   "metadata": {
    "collapsed": false
   }
  },
  {
   "cell_type": "markdown",
   "source": [
    "There are some triples with entities for which we don't have an embedding:"
   ],
   "metadata": {
    "collapsed": false
   }
  },
  {
   "cell_type": "code",
   "execution_count": 9,
   "outputs": [
    {
     "data": {
      "text/plain": "          head  rel    tail inductive missing-embedding\n139503  Q8N4C8  PPI  Q5SRD0      tail              tail\n139689  Q07912  PPI  Q5SRD0      tail              tail",
      "text/html": "<div>\n<style scoped>\n    .dataframe tbody tr th:only-of-type {\n        vertical-align: middle;\n    }\n\n    .dataframe tbody tr th {\n        vertical-align: top;\n    }\n\n    .dataframe thead th {\n        text-align: right;\n    }\n</style>\n<table border=\"1\" class=\"dataframe\">\n  <thead>\n    <tr style=\"text-align: right;\">\n      <th></th>\n      <th>head</th>\n      <th>rel</th>\n      <th>tail</th>\n      <th>inductive</th>\n      <th>missing-embedding</th>\n    </tr>\n  </thead>\n  <tbody>\n    <tr>\n      <th>139503</th>\n      <td>Q8N4C8</td>\n      <td>PPI</td>\n      <td>Q5SRD0</td>\n      <td>tail</td>\n      <td>tail</td>\n    </tr>\n    <tr>\n      <th>139689</th>\n      <td>Q07912</td>\n      <td>PPI</td>\n      <td>Q5SRD0</td>\n      <td>tail</td>\n      <td>tail</td>\n    </tr>\n  </tbody>\n</table>\n</div>"
     },
     "execution_count": 9,
     "metadata": {},
     "output_type": "execute_result"
    }
   ],
   "source": [
    "inductive_triples[inductive_triples['missing-embedding'] != 'none']"
   ],
   "metadata": {
    "collapsed": false
   }
  },
  {
   "cell_type": "markdown",
   "source": [
    "For now we will drop them:"
   ],
   "metadata": {
    "collapsed": false
   }
  },
  {
   "cell_type": "code",
   "execution_count": 10,
   "outputs": [],
   "source": [
    "inductive_triples = inductive_triples[inductive_triples['missing-embedding'] == 'none']"
   ],
   "metadata": {
    "collapsed": false
   }
  },
  {
   "cell_type": "markdown",
   "source": [
    "## Detect unseen entities in the new set of triples"
   ],
   "metadata": {
    "collapsed": false
   }
  },
  {
   "cell_type": "code",
   "execution_count": 11,
   "outputs": [
    {
     "name": "stdout",
     "output_type": "stream",
     "text": [
      "There are 270 unseen entities\n"
     ]
    }
   ],
   "source": [
    "inductive_triples_entities = set(inductive_triples[['head', 'tail']].stack().tolist())\n",
    "unseen_entities = inductive_triples_entities.difference(train.entity_to_id)\n",
    "print(f'There are {len(unseen_entities)} unseen entities')"
   ],
   "metadata": {
    "collapsed": false
   }
  },
  {
   "cell_type": "markdown",
   "source": [
    "## Registering new entities\n",
    "\n",
    "### In a new mapping from entity to ID"
   ],
   "metadata": {
    "collapsed": false
   }
  },
  {
   "cell_type": "code",
   "execution_count": 12,
   "outputs": [
    {
     "data": {
      "text/plain": "(106047, 106317, torch.Size([270, 1024]))"
     },
     "execution_count": 12,
     "metadata": {},
     "output_type": "execute_result"
    }
   ],
   "source": [
    "updated_entity_to_id = train.entity_to_id.copy()\n",
    "embeddings = []\n",
    "new_entity_ids = []\n",
    "for new_entity in unseen_entities:\n",
    "    updated_entity_to_id[new_entity] = len(updated_entity_to_id)\n",
    "    embeddings.append(protein_data['embeddings'][protein_data['identifiers'][new_entity]])\n",
    "    new_entity_ids.append(updated_entity_to_id[new_entity])\n",
    "\n",
    "embeddings = torch.stack(embeddings)\n",
    "len(train.entity_to_id), len(updated_entity_to_id), embeddings.shape"
   ],
   "metadata": {
    "collapsed": false
   }
  },
  {
   "cell_type": "markdown",
   "source": [
    "### In the model\n",
    "\n",
    "Steps for updating the model:\n",
    "\n",
    "- Extending the data structures containing type-specific data\n",
    "- Extending the buffer\n",
    "- Encoding the new entities and storing the result in the buffer"
   ],
   "metadata": {
    "collapsed": false
   }
  },
  {
   "cell_type": "code",
   "execution_count": 16,
   "outputs": [
    {
     "name": "stdout",
     "output_type": "stream",
     "text": [
      "0 <class 'bioblp.models.encoders.PretrainedLookupTableEncoder'>\n"
     ]
    }
   ],
   "source": [
    "for type_id, encoder in model.property_encoder.type_id_to_encoder.items():\n",
    "    print(type_id, encoder.__class__)"
   ],
   "metadata": {
    "collapsed": false
   }
  },
  {
   "cell_type": "markdown",
   "source": [
    "## Evaluation"
   ],
   "metadata": {
    "collapsed": false
   }
  },
  {
   "cell_type": "code",
   "execution_count": 10,
   "outputs": [
    {
     "data": {
      "text/plain": "Evaluating on cuda:0:   0%|          | 0.00/185k [00:00<?, ?triple/s]",
      "application/vnd.jupyter.widget-view+json": {
       "version_major": 2,
       "version_minor": 0,
       "model_id": "b78dabcc8e074f7899033d0e24228a70"
      }
     },
     "metadata": {},
     "output_type": "display_data"
    }
   ],
   "source": [
    "device = torch.device('cuda' if torch.cuda.is_available() else 'cpu')\n",
    "evaluator = RankBasedEvaluator(filtered=True)\n",
    "results = evaluator.evaluate(model, test.mapped_triples,\n",
    "                             additional_filter_triples=[train.mapped_triples,\n",
    "                                                        valid.mapped_triples])"
   ],
   "metadata": {
    "collapsed": false
   }
  },
  {
   "cell_type": "code",
   "execution_count": 12,
   "outputs": [
    {
     "data": {
      "text/plain": "0.44461120678950694"
     },
     "execution_count": 12,
     "metadata": {},
     "output_type": "execute_result"
    }
   ],
   "source": [
    "results.get_metric('both.realistic.hits_at_1')"
   ],
   "metadata": {
    "collapsed": false
   }
  },
  {
   "cell_type": "markdown",
   "id": "7eb9a639",
   "metadata": {},
   "source": [
    "---\n",
    "\n",
    "### Evaluating on the original splits"
   ]
  },
  {
   "cell_type": "code",
   "execution_count": 4,
   "id": "d24f9bec",
   "metadata": {},
   "outputs": [],
   "source": [
    "train, valid, test = load_triples_factories(DATA_PATH, DATASET)"
   ]
  },
  {
   "cell_type": "code",
   "execution_count": 5,
   "id": "f2cbded8",
   "metadata": {},
   "outputs": [
    {
     "data": {
      "application/vnd.jupyter.widget-view+json": {
       "model_id": "86ac0a585c8145c096bb2505f56d45a5",
       "version_major": 2,
       "version_minor": 0
      },
      "text/plain": [
       "Evaluating on cuda:   0%|          | 0.00/61.2k [00:00<?, ?triple/s]"
      ]
     },
     "metadata": {},
     "output_type": "display_data"
    }
   ],
   "source": [
    "evaluator = RankBasedEvaluator()\n",
    "results_all_rels = evaluator.evaluate(model, valid.mapped_triples)"
   ]
  },
  {
   "cell_type": "code",
   "execution_count": 6,
   "id": "7528b1d4",
   "metadata": {},
   "outputs": [],
   "source": [
    "def make_results_dict(results, relation, relation_count):\n",
    "    results_dict = {'Relation': 'All' if not relation else relation,\n",
    "                    'Count': relation_count,\n",
    "                    'adjusted_mean_rank': results.adjusted_mean_rank['both'],\n",
    "                    'mean_rank': results.mean_rank['both']['avg'],\n",
    "                    'mean_reciprocal_rank': results.mean_reciprocal_rank['both']['avg'],\n",
    "                    **{f'hits_at_{k}': hits for k, hits in results.hits_at_k['both']['avg'].items()}}\n",
    "\n",
    "    return results_dict"
   ]
  },
  {
   "cell_type": "code",
   "execution_count": 7,
   "id": "6b54696e",
   "metadata": {},
   "outputs": [
    {
     "data": {
      "text/plain": [
       "{'Relation': 'All',\n",
       " 'Count': 61185,\n",
       " 'adjusted_mean_rank': 0.05457443148959907,\n",
       " 'mean_rank': 4799.454968538041,\n",
       " 'mean_reciprocal_rank': 0.20134694073780043,\n",
       " 'hits_at_1': 0.1279643703522105,\n",
       " 'hits_at_3': 0.2206586581678516,\n",
       " 'hits_at_5': 0.2709079022636267,\n",
       " 'hits_at_10': 0.3530195309307837}"
      ]
     },
     "execution_count": 7,
     "metadata": {},
     "output_type": "execute_result"
    }
   ],
   "source": [
    "results_all_rels_dict = make_results_dict(results_all_rels, relation='All', relation_count=valid.num_triples)\n",
    "results_all_rels_dict"
   ]
  },
  {
   "cell_type": "markdown",
   "id": "b99e1860",
   "metadata": {},
   "source": [
    "### Evaluating over specific relation types"
   ]
  },
  {
   "cell_type": "code",
   "execution_count": 8,
   "id": "d7ac0196",
   "metadata": {},
   "outputs": [
    {
     "name": "stderr",
     "output_type": "stream",
     "text": [
      "Evaluating over each relation: 100%|██████████| 18/18 [04:02<00:00, 13.48s/it]\n"
     ]
    }
   ],
   "source": [
    "result_dicts = []\n",
    "for relation in tqdm(model.triples_factory.relation_to_id, desc='Evaluating over each relation'):\n",
    "    triples_subset = valid.new_with_restriction(relations=[relation])\n",
    "    if triples_subset.num_triples > 0:\n",
    "        subset_result = evaluator.evaluate(model, triples_subset.mapped_triples, use_tqdm=False)\n",
    "        result_dicts.append({'results': subset_result, 'relation': relation, 'count': triples_subset.num_triples})"
   ]
  },
  {
   "cell_type": "code",
   "execution_count": 9,
   "id": "1f46357b",
   "metadata": {},
   "outputs": [
    {
     "data": {
      "text/html": [
       "<div>\n",
       "<style scoped>\n",
       "    .dataframe tbody tr th:only-of-type {\n",
       "        vertical-align: middle;\n",
       "    }\n",
       "\n",
       "    .dataframe tbody tr th {\n",
       "        vertical-align: top;\n",
       "    }\n",
       "\n",
       "    .dataframe thead th {\n",
       "        text-align: right;\n",
       "    }\n",
       "</style>\n",
       "<table border=\"1\" class=\"dataframe\">\n",
       "  <thead>\n",
       "    <tr style=\"text-align: right;\">\n",
       "      <th></th>\n",
       "      <th>Relation</th>\n",
       "      <th>Count</th>\n",
       "      <th>adjusted_mean_rank</th>\n",
       "      <th>mean_rank</th>\n",
       "      <th>mean_reciprocal_rank</th>\n",
       "      <th>hits_at_1</th>\n",
       "      <th>hits_at_3</th>\n",
       "      <th>hits_at_5</th>\n",
       "      <th>hits_at_10</th>\n",
       "    </tr>\n",
       "  </thead>\n",
       "  <tbody>\n",
       "    <tr>\n",
       "      <th>0</th>\n",
       "      <td>Binding_Protein_Protein</td>\n",
       "      <td>25448</td>\n",
       "      <td>0.020872</td>\n",
       "      <td>1838.891121</td>\n",
       "      <td>0.130362</td>\n",
       "      <td>0.050318</td>\n",
       "      <td>0.126022</td>\n",
       "      <td>0.187991</td>\n",
       "      <td>0.309042</td>\n",
       "    </tr>\n",
       "    <tr>\n",
       "      <th>1</th>\n",
       "      <td>Binding_Protein_SmallMol</td>\n",
       "      <td>12718</td>\n",
       "      <td>0.069629</td>\n",
       "      <td>6116.564869</td>\n",
       "      <td>0.375663</td>\n",
       "      <td>0.294936</td>\n",
       "      <td>0.431632</td>\n",
       "      <td>0.467762</td>\n",
       "      <td>0.514625</td>\n",
       "    </tr>\n",
       "    <tr>\n",
       "      <th>2</th>\n",
       "      <td>Binding_SmallMol_Protein</td>\n",
       "      <td>13388</td>\n",
       "      <td>0.067184</td>\n",
       "      <td>5901.834889</td>\n",
       "      <td>0.292672</td>\n",
       "      <td>0.199694</td>\n",
       "      <td>0.336869</td>\n",
       "      <td>0.404616</td>\n",
       "      <td>0.489468</td>\n",
       "    </tr>\n",
       "    <tr>\n",
       "      <th>3</th>\n",
       "      <td>ChemicalReaction_Protein_SmallMol</td>\n",
       "      <td>18</td>\n",
       "      <td>0.089389</td>\n",
       "      <td>7879.222222</td>\n",
       "      <td>0.002090</td>\n",
       "      <td>0.000000</td>\n",
       "      <td>0.000000</td>\n",
       "      <td>0.000000</td>\n",
       "      <td>0.000000</td>\n",
       "    </tr>\n",
       "    <tr>\n",
       "      <th>4</th>\n",
       "      <td>DirectRegulation_Protein_Protein</td>\n",
       "      <td>1073</td>\n",
       "      <td>0.046661</td>\n",
       "      <td>4113.163094</td>\n",
       "      <td>0.006139</td>\n",
       "      <td>0.000000</td>\n",
       "      <td>0.002796</td>\n",
       "      <td>0.006524</td>\n",
       "      <td>0.010718</td>\n",
       "    </tr>\n",
       "    <tr>\n",
       "      <th>5</th>\n",
       "      <td>DirectRegulation_SmallMol_Protein</td>\n",
       "      <td>7869</td>\n",
       "      <td>0.119330</td>\n",
       "      <td>10503.774272</td>\n",
       "      <td>0.036829</td>\n",
       "      <td>0.015567</td>\n",
       "      <td>0.036218</td>\n",
       "      <td>0.052040</td>\n",
       "      <td>0.077519</td>\n",
       "    </tr>\n",
       "    <tr>\n",
       "      <th>6</th>\n",
       "      <td>MolSynthesis_SmallMol_SmallMol</td>\n",
       "      <td>231</td>\n",
       "      <td>0.051740</td>\n",
       "      <td>4558.804113</td>\n",
       "      <td>0.013678</td>\n",
       "      <td>0.004329</td>\n",
       "      <td>0.008658</td>\n",
       "      <td>0.010823</td>\n",
       "      <td>0.019481</td>\n",
       "    </tr>\n",
       "    <tr>\n",
       "      <th>7</th>\n",
       "      <td>MolTransport_SmallMol_SmallMol</td>\n",
       "      <td>440</td>\n",
       "      <td>0.046223</td>\n",
       "      <td>4072.227273</td>\n",
       "      <td>0.014495</td>\n",
       "      <td>0.002273</td>\n",
       "      <td>0.010227</td>\n",
       "      <td>0.014773</td>\n",
       "      <td>0.025000</td>\n",
       "    </tr>\n",
       "  </tbody>\n",
       "</table>\n",
       "</div>"
      ],
      "text/plain": [
       "                            Relation  Count  adjusted_mean_rank     mean_rank  \\\n",
       "0            Binding_Protein_Protein  25448            0.020872   1838.891121   \n",
       "1           Binding_Protein_SmallMol  12718            0.069629   6116.564869   \n",
       "2           Binding_SmallMol_Protein  13388            0.067184   5901.834889   \n",
       "3  ChemicalReaction_Protein_SmallMol     18            0.089389   7879.222222   \n",
       "4   DirectRegulation_Protein_Protein   1073            0.046661   4113.163094   \n",
       "5  DirectRegulation_SmallMol_Protein   7869            0.119330  10503.774272   \n",
       "6     MolSynthesis_SmallMol_SmallMol    231            0.051740   4558.804113   \n",
       "7     MolTransport_SmallMol_SmallMol    440            0.046223   4072.227273   \n",
       "\n",
       "   mean_reciprocal_rank  hits_at_1  hits_at_3  hits_at_5  hits_at_10  \n",
       "0              0.130362   0.050318   0.126022   0.187991    0.309042  \n",
       "1              0.375663   0.294936   0.431632   0.467762    0.514625  \n",
       "2              0.292672   0.199694   0.336869   0.404616    0.489468  \n",
       "3              0.002090   0.000000   0.000000   0.000000    0.000000  \n",
       "4              0.006139   0.000000   0.002796   0.006524    0.010718  \n",
       "5              0.036829   0.015567   0.036218   0.052040    0.077519  \n",
       "6              0.013678   0.004329   0.008658   0.010823    0.019481  \n",
       "7              0.014495   0.002273   0.010227   0.014773    0.025000  "
      ]
     },
     "execution_count": 9,
     "metadata": {},
     "output_type": "execute_result"
    }
   ],
   "source": [
    "results_df = pd.DataFrame([make_results_dict(d['results'], d['relation'], d['count']) for d in result_dicts])\n",
    "results_df"
   ]
  },
  {
   "cell_type": "code",
   "execution_count": 10,
   "id": "f84c39a7",
   "metadata": {},
   "outputs": [
    {
     "data": {
      "text/plain": [
       "adjusted_mean_rank         0.063879\n",
       "mean_rank               5623.060232\n",
       "mean_reciprocal_rank       0.108991\n",
       "hits_at_1                  0.070890\n",
       "hits_at_3                  0.119053\n",
       "hits_at_5                  0.143066\n",
       "hits_at_10                 0.180732\n",
       "dtype: float64"
      ]
     },
     "execution_count": 10,
     "metadata": {},
     "output_type": "execute_result"
    }
   ],
   "source": [
    "restricted_rels_macro_performance = results_df[results_df.columns[2:]].mean(axis=0)\n",
    "restricted_rels_macro_performance"
   ]
  },
  {
   "cell_type": "markdown",
   "id": "661b74fe",
   "metadata": {},
   "source": [
    "Note that this is **not** the same as the original, unrestricted evaluation. When restricting by relation, the average above is a *macro-average*, where all relations are weighted equally. In the unrestricted scenario, we average over all triples, which is a *micro-average* where more frequent relations are weighted higher:"
   ]
  },
  {
   "cell_type": "code",
   "execution_count": 11,
   "id": "22c57d33",
   "metadata": {},
   "outputs": [
    {
     "data": {
      "text/plain": [
       "{'Relation': 'All',\n",
       " 'Count': 61185,\n",
       " 'adjusted_mean_rank': 0.05457443148959907,\n",
       " 'mean_rank': 4799.454968538041,\n",
       " 'mean_reciprocal_rank': 0.20134694073780043,\n",
       " 'hits_at_1': 0.1279643703522105,\n",
       " 'hits_at_3': 0.2206586581678516,\n",
       " 'hits_at_5': 0.2709079022636267,\n",
       " 'hits_at_10': 0.3530195309307837}"
      ]
     },
     "execution_count": 11,
     "metadata": {},
     "output_type": "execute_result"
    }
   ],
   "source": [
    "results_all_rels_dict"
   ]
  },
  {
   "cell_type": "markdown",
   "id": "452cc251",
   "metadata": {},
   "source": [
    "Since we have the triple counts for each relation, we can compute a micro-average instead:"
   ]
  },
  {
   "cell_type": "code",
   "execution_count": 12,
   "id": "fc1db805",
   "metadata": {},
   "outputs": [
    {
     "data": {
      "text/plain": [
       "adjusted_mean_rank         0.054574\n",
       "mean_rank               4799.454969\n",
       "mean_reciprocal_rank       0.201347\n",
       "hits_at_1                  0.127964\n",
       "hits_at_3                  0.220659\n",
       "hits_at_5                  0.270908\n",
       "hits_at_10                 0.353020\n",
       "dtype: float64"
      ]
     },
     "execution_count": 12,
     "metadata": {},
     "output_type": "execute_result"
    }
   ],
   "source": [
    "restricted_rels_micro_performance = results_df[results_df.columns[2:]].mul(results_df['Count'], axis=0).sum(axis=0) / results_df['Count'].sum()\n",
    "restricted_rels_micro_performance"
   ]
  },
  {
   "cell_type": "markdown",
   "id": "679a5d94",
   "metadata": {},
   "source": [
    "How do MRR, H@k, and AMR correlate?"
   ]
  },
  {
   "cell_type": "code",
   "execution_count": 13,
   "id": "d3719bfe",
   "metadata": {},
   "outputs": [
    {
     "data": {
      "image/png": "[encoded data removed]",
      "text/plain": [
       "<Figure size 432x288 with 1 Axes>"
      ]
     },
     "metadata": {
      "needs_background": "light"
     },
     "output_type": "display_data"
    },
    {
     "data": {
      "image/png": "[encoded data removed]",
      "text/plain": [
       "<Figure size 432x288 with 1 Axes>"
      ]
     },
     "metadata": {
      "needs_background": "light"
     },
     "output_type": "display_data"
    },
    {
     "data": {
      "image/png": "[encoded data removed]",
      "text/plain": [
       "<Figure size 432x288 with 1 Axes>"
      ]
     },
     "metadata": {
      "needs_background": "light"
     },
     "output_type": "display_data"
    }
   ],
   "source": [
    "def plot_metric_pair(results_df, metric_1: str, metric_2: str):\n",
    "    \"\"\"Make a scatter plot with one link prediction metric in each axis.\"\"\"\n",
    "    plt.figure()\n",
    "    plt.scatter(results_df[metric_1], results_df[metric_2])\n",
    "    plt.xlabel(metric_1)\n",
    "    plt.ylabel(metric_2)\n",
    "\n",
    "plot_metric_pair(results_df, 'mean_reciprocal_rank', 'hits_at_10')\n",
    "plot_metric_pair(results_df, 'mean_reciprocal_rank', 'adjusted_mean_rank')\n",
    "plot_metric_pair(results_df, 'mean_reciprocal_rank', 'Count')"
   ]
  },
  {
   "cell_type": "markdown",
   "id": "8c852cf3",
   "metadata": {},
   "source": [
    "What are the relations where the model performs better?"
   ]
  },
  {
   "cell_type": "code",
   "execution_count": 14,
   "id": "768b290c",
   "metadata": {},
   "outputs": [],
   "source": [
    "def per_relation_plot(results_df, metric: str):\n",
    "    \"\"\"Make a bar plot of link prediction performance for each relation.\"\"\"\n",
    "    results_df[['Relation', metric]].sort_values(by=metric).plot.barh(x='Relation', figsize=(5, 5), grid=True)"
   ]
  },
  {
   "cell_type": "code",
   "execution_count": 15,
   "id": "6b8d3f39",
   "metadata": {},
   "outputs": [
    {
     "data": {
      "image/png": "[encoded data removed]",
      "text/plain": [
       "<Figure size 360x360 with 1 Axes>"
      ]
     },
     "metadata": {
      "needs_background": "light"
     },
     "output_type": "display_data"
    }
   ],
   "source": [
    "per_relation_plot(results_df, 'hits_at_10')"
   ]
  },
  {
   "cell_type": "markdown",
   "id": "9c473ec8",
   "metadata": {},
   "source": [
    "### Evaluating over specific entity and relation types"
   ]
  },
  {
   "cell_type": "markdown",
   "id": "19292304",
   "metadata": {},
   "source": [
    "The source csv files contain the triples, plus extra information like the types of the entities involved in the triple. We will extract the type information."
   ]
  },
  {
   "cell_type": "code",
   "execution_count": 16,
   "id": "1878637c",
   "metadata": {},
   "outputs": [
    {
     "data": {
      "text/html": [
       "<div>\n",
       "<style scoped>\n",
       "    .dataframe tbody tr th:only-of-type {\n",
       "        vertical-align: middle;\n",
       "    }\n",
       "\n",
       "    .dataframe tbody tr th {\n",
       "        vertical-align: top;\n",
       "    }\n",
       "\n",
       "    .dataframe thead th {\n",
       "        text-align: right;\n",
       "    }\n",
       "</style>\n",
       "<table border=\"1\" class=\"dataframe\">\n",
       "  <thead>\n",
       "    <tr style=\"text-align: right;\">\n",
       "      <th></th>\n",
       "      <th>src</th>\n",
       "      <th>edg</th>\n",
       "      <th>tgt</th>\n",
       "      <th>directed</th>\n",
       "      <th>effect</th>\n",
       "      <th>mechanism</th>\n",
       "      <th>pubyear</th>\n",
       "      <th>refcount</th>\n",
       "      <th>src_type</th>\n",
       "      <th>tgt_type</th>\n",
       "      <th>allowed_triple</th>\n",
       "    </tr>\n",
       "  </thead>\n",
       "  <tbody>\n",
       "    <tr>\n",
       "      <th>0</th>\n",
       "      <td>72057594037932965</td>\n",
       "      <td>Binding_Protein_SmallMol</td>\n",
       "      <td>72057594038977157</td>\n",
       "      <td>False</td>\n",
       "      <td>NaN</td>\n",
       "      <td>NaN</td>\n",
       "      <td>20142014</td>\n",
       "      <td>1</td>\n",
       "      <td>Protein</td>\n",
       "      <td>SmallMol</td>\n",
       "      <td>1</td>\n",
       "    </tr>\n",
       "    <tr>\n",
       "      <th>1</th>\n",
       "      <td>72057594038337047</td>\n",
       "      <td>Binding_SmallMol_Protein</td>\n",
       "      <td>72057594037929179</td>\n",
       "      <td>False</td>\n",
       "      <td>NaN</td>\n",
       "      <td>NaN</td>\n",
       "      <td>20142014</td>\n",
       "      <td>1</td>\n",
       "      <td>SmallMol</td>\n",
       "      <td>Protein</td>\n",
       "      <td>1</td>\n",
       "    </tr>\n",
       "    <tr>\n",
       "      <th>2</th>\n",
       "      <td>72057594038337047</td>\n",
       "      <td>Binding_SmallMol_Protein</td>\n",
       "      <td>72057594037929189</td>\n",
       "      <td>False</td>\n",
       "      <td>NaN</td>\n",
       "      <td>NaN</td>\n",
       "      <td>20142014</td>\n",
       "      <td>1</td>\n",
       "      <td>SmallMol</td>\n",
       "      <td>Protein</td>\n",
       "      <td>1</td>\n",
       "    </tr>\n",
       "    <tr>\n",
       "      <th>3</th>\n",
       "      <td>72057594038397248</td>\n",
       "      <td>DirectRegulation_SmallMol_Protein</td>\n",
       "      <td>72057594037932320</td>\n",
       "      <td>True</td>\n",
       "      <td>positive</td>\n",
       "      <td>direct interaction</td>\n",
       "      <td>20142014</td>\n",
       "      <td>1</td>\n",
       "      <td>SmallMol</td>\n",
       "      <td>Protein</td>\n",
       "      <td>1</td>\n",
       "    </tr>\n",
       "    <tr>\n",
       "      <th>4</th>\n",
       "      <td>72057594038417091</td>\n",
       "      <td>DirectRegulation_SmallMol_Protein</td>\n",
       "      <td>72057594037932320</td>\n",
       "      <td>True</td>\n",
       "      <td>positive</td>\n",
       "      <td>direct interaction</td>\n",
       "      <td>20142014</td>\n",
       "      <td>1</td>\n",
       "      <td>SmallMol</td>\n",
       "      <td>Protein</td>\n",
       "      <td>1</td>\n",
       "    </tr>\n",
       "  </tbody>\n",
       "</table>\n",
       "</div>"
      ],
      "text/plain": [
       "                 src                                edg                tgt  \\\n",
       "0  72057594037932965           Binding_Protein_SmallMol  72057594038977157   \n",
       "1  72057594038337047           Binding_SmallMol_Protein  72057594037929179   \n",
       "2  72057594038337047           Binding_SmallMol_Protein  72057594037929189   \n",
       "3  72057594038397248  DirectRegulation_SmallMol_Protein  72057594037932320   \n",
       "4  72057594038417091  DirectRegulation_SmallMol_Protein  72057594037932320   \n",
       "\n",
       "  directed    effect           mechanism   pubyear refcount  src_type  \\\n",
       "0    False       NaN                 NaN  20142014        1   Protein   \n",
       "1    False       NaN                 NaN  20142014        1  SmallMol   \n",
       "2    False       NaN                 NaN  20142014        1  SmallMol   \n",
       "3     True  positive  direct interaction  20142014        1  SmallMol   \n",
       "4     True  positive  direct interaction  20142014        1  SmallMol   \n",
       "\n",
       "   tgt_type allowed_triple  \n",
       "0  SmallMol              1  \n",
       "1   Protein              1  \n",
       "2   Protein              1  \n",
       "3   Protein              1  \n",
       "4   Protein              1  "
      ]
     },
     "execution_count": 16,
     "metadata": {},
     "output_type": "execute_result"
    }
   ],
   "source": [
    "train_df = pd.read_csv(osp.join(DATA_PATH, f'processed/{DATASET}-train.tsv'), sep='\\t', dtype=str)\n",
    "train_df.head()"
   ]
  },
  {
   "cell_type": "code",
   "execution_count": 17,
   "id": "32d0a69c",
   "metadata": {},
   "outputs": [],
   "source": [
    "def get_types_to_entities_dict(df):\n",
    "    \"\"\"Given a dataframe of triples, containing types for entities at the\n",
    "    head and tail, extract a dictionary mapping entity types (str) to\n",
    "    a list of entities of that type.\"\"\"\n",
    "    src_df = df[['src', 'src_type']]\n",
    "    tgt_df = df[['tgt', 'tgt_type']]\n",
    "\n",
    "    src_df = src_df.rename(columns={'src': 'entity', 'src_type': 'type'})\n",
    "    tgt_df = tgt_df.rename(columns={'tgt': 'entity', 'tgt_type': 'type'})\n",
    "    combined_df = pd.concat([src_df, tgt_df]).drop_duplicates(subset='entity')\n",
    "\n",
    "    type_to_entities = combined_df.groupby('type')['entity'].apply(list).to_dict()\n",
    "\n",
    "    return type_to_entities"
   ]
  },
  {
   "cell_type": "code",
   "execution_count": 18,
   "id": "3594ce5b",
   "metadata": {},
   "outputs": [
    {
     "name": "stdout",
     "output_type": "stream",
     "text": [
      "Disease: 3,213 entities\n",
      "Protein: 17,256 entities\n",
      "SmallMol: 155,841 entities\n"
     ]
    }
   ],
   "source": [
    "type_to_entities = get_types_to_entities_dict(train_df)\n",
    "for t, entities in type_to_entities.items():\n",
    "    print(f'{t}: {len(entities):,} entities')"
   ]
  },
  {
   "cell_type": "markdown",
   "id": "5295c26d",
   "metadata": {},
   "source": [
    "We can now get a list of e.g. Diseases with this dictionary:"
   ]
  },
  {
   "cell_type": "code",
   "execution_count": 19,
   "id": "da9e10a0",
   "metadata": {},
   "outputs": [
    {
     "data": {
      "text/plain": [
       "['72057594038079067',\n",
       " '72057594038079958',\n",
       " '72057594038086754',\n",
       " '72057594038136174',\n",
       " '72057594038136215']"
      ]
     },
     "execution_count": 19,
     "metadata": {},
     "output_type": "execute_result"
    }
   ],
   "source": [
    "type_to_entities['Disease'][:5]"
   ]
  },
  {
   "cell_type": "markdown",
   "id": "39e4879a",
   "metadata": {},
   "source": [
    "We can now run the evaluation by relation type, separately for heads and tails of a specific type:"
   ]
  },
  {
   "cell_type": "code",
   "execution_count": 20,
   "id": "3c2a01a0",
   "metadata": {},
   "outputs": [
    {
     "name": "stderr",
     "output_type": "stream",
     "text": [
      "Evaluating over each relation:   6%|▌         | 1/18 [03:14<55:06, 194.47s/it]/home/jovyan/discovery-LP/.venv-bio-blp/lib/python3.8/site-packages/pykeen/evaluation/rank_based_evaluator.py:307: RuntimeWarning: divide by zero encountered in reciprocal\n",
      "  mean_reciprocal_rank[side][rank_type] = np.mean(np.reciprocal(ranks))\n",
      "Evaluating over each relation: 100%|██████████| 18/18 [08:05<00:00, 27.00s/it]\n"
     ]
    }
   ],
   "source": [
    "def get_side_prediction_results(model, evaluator, mapped_triples, restrict_entities_to, side: str, relation: str):\n",
    "        assert side in {'head', 'tail'}\n",
    "\n",
    "        results = evaluator.evaluate(model, mapped_triples, restrict_entities_to=restrict_entities_to,\n",
    "                                     do_time_consuming_checks=False, use_tqdm=False)\n",
    "        results_df = results.to_df()\n",
    "        results_df = results_df.loc[(results_df['Side'] == side) & (results_df['Type'] == 'avg')]\n",
    "\n",
    "        results_dict = {'Relation': relation, 'Side': side}\n",
    "        results_dict.update({metric: value for metric, value in zip(results_df['Metric'].values, results_df['Value'].values)})\n",
    "\n",
    "        return results_dict\n",
    "\n",
    "results = []\n",
    "evaluator = RankBasedEvaluator()\n",
    "for relation in tqdm(model.triples_factory.relation_to_id, desc='Evaluating over each relation'):\n",
    "    relation_parts = relation.split('_')\n",
    "    head_type, tail_type = relation_parts[-2:]\n",
    "\n",
    "    # Create subsets based on entity and relation\n",
    "    triples_subset = valid.new_with_restriction(relations=[relation])\n",
    "    if triples_subset.num_triples == 0:\n",
    "        continue\n",
    "\n",
    "    head_entities = type_to_entities[head_type]\n",
    "    tail_entities = type_to_entities[tail_type]\n",
    "    head_ids = torch.tensor(train.entities_to_ids(head_entities), dtype=torch.long)\n",
    "    tail_ids = torch.tensor(train.entities_to_ids(tail_entities), dtype=torch.long)\n",
    "\n",
    "    head_prediction_results = get_side_prediction_results(model, evaluator, triples_subset.mapped_triples, restrict_entities_to=head_ids, side='head', relation=relation)\n",
    "    tail_prediction_results = get_side_prediction_results(model, evaluator, triples_subset.mapped_triples, restrict_entities_to=tail_ids, side='tail', relation=relation)\n",
    "    results.extend([head_prediction_results, tail_prediction_results])"
   ]
  },
  {
   "cell_type": "code",
   "execution_count": 21,
   "id": "82001c5a",
   "metadata": {},
   "outputs": [
    {
     "data": {
      "text/html": [
       "<div>\n",
       "<style scoped>\n",
       "    .dataframe tbody tr th:only-of-type {\n",
       "        vertical-align: middle;\n",
       "    }\n",
       "\n",
       "    .dataframe tbody tr th {\n",
       "        vertical-align: top;\n",
       "    }\n",
       "\n",
       "    .dataframe thead th {\n",
       "        text-align: right;\n",
       "    }\n",
       "</style>\n",
       "<table border=\"1\" class=\"dataframe\">\n",
       "  <thead>\n",
       "    <tr style=\"text-align: right;\">\n",
       "      <th></th>\n",
       "      <th>Relation</th>\n",
       "      <th>Side</th>\n",
       "      <th>adjusted_mean_rank</th>\n",
       "      <th>mean_rank</th>\n",
       "      <th>mean_reciprocal_rank</th>\n",
       "      <th>hits_at_1</th>\n",
       "      <th>hits_at_3</th>\n",
       "      <th>hits_at_5</th>\n",
       "      <th>hits_at_10</th>\n",
       "    </tr>\n",
       "  </thead>\n",
       "  <tbody>\n",
       "    <tr>\n",
       "      <th>0</th>\n",
       "      <td>Binding_Protein_Protein</td>\n",
       "      <td>head</td>\n",
       "      <td>0.096103</td>\n",
       "      <td>823.215164</td>\n",
       "      <td>0.168035</td>\n",
       "      <td>0.076077</td>\n",
       "      <td>0.173412</td>\n",
       "      <td>0.247642</td>\n",
       "      <td>0.375904</td>\n",
       "    </tr>\n",
       "    <tr>\n",
       "      <th>1</th>\n",
       "      <td>Binding_Protein_Protein</td>\n",
       "      <td>tail</td>\n",
       "      <td>0.097644</td>\n",
       "      <td>836.321224</td>\n",
       "      <td>0.096266</td>\n",
       "      <td>0.027232</td>\n",
       "      <td>0.084093</td>\n",
       "      <td>0.134117</td>\n",
       "      <td>0.246817</td>\n",
       "    </tr>\n",
       "    <tr>\n",
       "      <th>2</th>\n",
       "      <td>Binding_Protein_SmallMol</td>\n",
       "      <td>head</td>\n",
       "      <td>0.122177</td>\n",
       "      <td>1048.564751</td>\n",
       "      <td>0.495991</td>\n",
       "      <td>0.436940</td>\n",
       "      <td>0.539943</td>\n",
       "      <td>0.560544</td>\n",
       "      <td>0.585155</td>\n",
       "    </tr>\n",
       "    <tr>\n",
       "      <th>3</th>\n",
       "      <td>Binding_Protein_SmallMol</td>\n",
       "      <td>tail</td>\n",
       "      <td>0.107362</td>\n",
       "      <td>8322.631624</td>\n",
       "      <td>0.272121</td>\n",
       "      <td>0.172983</td>\n",
       "      <td>0.337789</td>\n",
       "      <td>0.384573</td>\n",
       "      <td>0.454867</td>\n",
       "    </tr>\n",
       "    <tr>\n",
       "      <th>4</th>\n",
       "      <td>Binding_SmallMol_Protein</td>\n",
       "      <td>head</td>\n",
       "      <td>0.103356</td>\n",
       "      <td>8012.123394</td>\n",
       "      <td>0.295098</td>\n",
       "      <td>0.190320</td>\n",
       "      <td>0.356812</td>\n",
       "      <td>0.430908</td>\n",
       "      <td>0.510457</td>\n",
       "    </tr>\n",
       "    <tr>\n",
       "      <th>5</th>\n",
       "      <td>Binding_SmallMol_Protein</td>\n",
       "      <td>tail</td>\n",
       "      <td>0.119411</td>\n",
       "      <td>1024.605393</td>\n",
       "      <td>0.310601</td>\n",
       "      <td>0.230953</td>\n",
       "      <td>0.336645</td>\n",
       "      <td>0.395354</td>\n",
       "      <td>0.482298</td>\n",
       "    </tr>\n",
       "    <tr>\n",
       "      <th>6</th>\n",
       "      <td>ChemicalReaction_Protein_SmallMol</td>\n",
       "      <td>head</td>\n",
       "      <td>0.367477</td>\n",
       "      <td>3157.944444</td>\n",
       "      <td>0.000886</td>\n",
       "      <td>0.000000</td>\n",
       "      <td>0.000000</td>\n",
       "      <td>0.000000</td>\n",
       "      <td>0.000000</td>\n",
       "    </tr>\n",
       "    <tr>\n",
       "      <th>7</th>\n",
       "      <td>ChemicalReaction_Protein_SmallMol</td>\n",
       "      <td>tail</td>\n",
       "      <td>0.111259</td>\n",
       "      <td>8668.944444</td>\n",
       "      <td>0.003782</td>\n",
       "      <td>0.000000</td>\n",
       "      <td>0.000000</td>\n",
       "      <td>0.000000</td>\n",
       "      <td>0.000000</td>\n",
       "    </tr>\n",
       "    <tr>\n",
       "      <th>8</th>\n",
       "      <td>DirectRegulation_Protein_Protein</td>\n",
       "      <td>head</td>\n",
       "      <td>0.342272</td>\n",
       "      <td>2949.403541</td>\n",
       "      <td>0.006076</td>\n",
       "      <td>0.000000</td>\n",
       "      <td>0.003728</td>\n",
       "      <td>0.005592</td>\n",
       "      <td>0.009320</td>\n",
       "    </tr>\n",
       "    <tr>\n",
       "      <th>9</th>\n",
       "      <td>DirectRegulation_Protein_Protein</td>\n",
       "      <td>tail</td>\n",
       "      <td>0.284169</td>\n",
       "      <td>2450.669152</td>\n",
       "      <td>0.006258</td>\n",
       "      <td>0.000000</td>\n",
       "      <td>0.001864</td>\n",
       "      <td>0.007456</td>\n",
       "      <td>0.012116</td>\n",
       "    </tr>\n",
       "    <tr>\n",
       "      <th>10</th>\n",
       "      <td>DirectRegulation_SmallMol_Protein</td>\n",
       "      <td>head</td>\n",
       "      <td>0.183502</td>\n",
       "      <td>14266.436650</td>\n",
       "      <td>0.011284</td>\n",
       "      <td>0.003940</td>\n",
       "      <td>0.008769</td>\n",
       "      <td>0.013216</td>\n",
       "      <td>0.020968</td>\n",
       "    </tr>\n",
       "    <tr>\n",
       "      <th>11</th>\n",
       "      <td>DirectRegulation_SmallMol_Protein</td>\n",
       "      <td>tail</td>\n",
       "      <td>0.230891</td>\n",
       "      <td>1990.304677</td>\n",
       "      <td>0.069888</td>\n",
       "      <td>0.030627</td>\n",
       "      <td>0.072690</td>\n",
       "      <td>0.102936</td>\n",
       "      <td>0.149193</td>\n",
       "    </tr>\n",
       "    <tr>\n",
       "      <th>12</th>\n",
       "      <td>MolSynthesis_SmallMol_SmallMol</td>\n",
       "      <td>head</td>\n",
       "      <td>0.044215</td>\n",
       "      <td>3441.538961</td>\n",
       "      <td>0.018599</td>\n",
       "      <td>0.008658</td>\n",
       "      <td>0.012987</td>\n",
       "      <td>0.017316</td>\n",
       "      <td>0.021645</td>\n",
       "    </tr>\n",
       "    <tr>\n",
       "      <th>13</th>\n",
       "      <td>MolSynthesis_SmallMol_SmallMol</td>\n",
       "      <td>tail</td>\n",
       "      <td>0.051180</td>\n",
       "      <td>3987.025974</td>\n",
       "      <td>0.011696</td>\n",
       "      <td>0.004329</td>\n",
       "      <td>0.004329</td>\n",
       "      <td>0.004329</td>\n",
       "      <td>0.017316</td>\n",
       "    </tr>\n",
       "    <tr>\n",
       "      <th>14</th>\n",
       "      <td>MolTransport_SmallMol_SmallMol</td>\n",
       "      <td>head</td>\n",
       "      <td>0.052840</td>\n",
       "      <td>4112.423864</td>\n",
       "      <td>0.010155</td>\n",
       "      <td>0.002273</td>\n",
       "      <td>0.009091</td>\n",
       "      <td>0.011364</td>\n",
       "      <td>0.015909</td>\n",
       "    </tr>\n",
       "    <tr>\n",
       "      <th>15</th>\n",
       "      <td>MolTransport_SmallMol_SmallMol</td>\n",
       "      <td>tail</td>\n",
       "      <td>0.031888</td>\n",
       "      <td>2484.547727</td>\n",
       "      <td>0.019594</td>\n",
       "      <td>0.002273</td>\n",
       "      <td>0.011364</td>\n",
       "      <td>0.018182</td>\n",
       "      <td>0.034091</td>\n",
       "    </tr>\n",
       "  </tbody>\n",
       "</table>\n",
       "</div>"
      ],
      "text/plain": [
       "                             Relation  Side  adjusted_mean_rank     mean_rank  \\\n",
       "0             Binding_Protein_Protein  head            0.096103    823.215164   \n",
       "1             Binding_Protein_Protein  tail            0.097644    836.321224   \n",
       "2            Binding_Protein_SmallMol  head            0.122177   1048.564751   \n",
       "3            Binding_Protein_SmallMol  tail            0.107362   8322.631624   \n",
       "4            Binding_SmallMol_Protein  head            0.103356   8012.123394   \n",
       "5            Binding_SmallMol_Protein  tail            0.119411   1024.605393   \n",
       "6   ChemicalReaction_Protein_SmallMol  head            0.367477   3157.944444   \n",
       "7   ChemicalReaction_Protein_SmallMol  tail            0.111259   8668.944444   \n",
       "8    DirectRegulation_Protein_Protein  head            0.342272   2949.403541   \n",
       "9    DirectRegulation_Protein_Protein  tail            0.284169   2450.669152   \n",
       "10  DirectRegulation_SmallMol_Protein  head            0.183502  14266.436650   \n",
       "11  DirectRegulation_SmallMol_Protein  tail            0.230891   1990.304677   \n",
       "12     MolSynthesis_SmallMol_SmallMol  head            0.044215   3441.538961   \n",
       "13     MolSynthesis_SmallMol_SmallMol  tail            0.051180   3987.025974   \n",
       "14     MolTransport_SmallMol_SmallMol  head            0.052840   4112.423864   \n",
       "15     MolTransport_SmallMol_SmallMol  tail            0.031888   2484.547727   \n",
       "\n",
       "    mean_reciprocal_rank  hits_at_1  hits_at_3  hits_at_5  hits_at_10  \n",
       "0               0.168035   0.076077   0.173412   0.247642    0.375904  \n",
       "1               0.096266   0.027232   0.084093   0.134117    0.246817  \n",
       "2               0.495991   0.436940   0.539943   0.560544    0.585155  \n",
       "3               0.272121   0.172983   0.337789   0.384573    0.454867  \n",
       "4               0.295098   0.190320   0.356812   0.430908    0.510457  \n",
       "5               0.310601   0.230953   0.336645   0.395354    0.482298  \n",
       "6               0.000886   0.000000   0.000000   0.000000    0.000000  \n",
       "7               0.003782   0.000000   0.000000   0.000000    0.000000  \n",
       "8               0.006076   0.000000   0.003728   0.005592    0.009320  \n",
       "9               0.006258   0.000000   0.001864   0.007456    0.012116  \n",
       "10              0.011284   0.003940   0.008769   0.013216    0.020968  \n",
       "11              0.069888   0.030627   0.072690   0.102936    0.149193  \n",
       "12              0.018599   0.008658   0.012987   0.017316    0.021645  \n",
       "13              0.011696   0.004329   0.004329   0.004329    0.017316  \n",
       "14              0.010155   0.002273   0.009091   0.011364    0.015909  \n",
       "15              0.019594   0.002273   0.011364   0.018182    0.034091  "
      ]
     },
     "execution_count": 21,
     "metadata": {},
     "output_type": "execute_result"
    }
   ],
   "source": [
    "entity_restrict_results_df = pd.DataFrame(results)\n",
    "entity_restrict_results_df"
   ]
  },
  {
   "cell_type": "markdown",
   "id": "76555f6f",
   "metadata": {},
   "source": [
    "We can check the performance when predicting separately the head and the tail, for each relation."
   ]
  },
  {
   "cell_type": "code",
   "execution_count": 22,
   "id": "b7464f58",
   "metadata": {},
   "outputs": [
    {
     "data": {
      "image/png": "[encoded data removed]",
      "text/plain": [
       "<Figure size 360x360 with 1 Axes>"
      ]
     },
     "metadata": {
      "needs_background": "light"
     },
     "output_type": "display_data"
    }
   ],
   "source": [
    "results_df_side_labeled = entity_restrict_results_df.copy()\n",
    "results_df_side_labeled['Relation'] = results_df_side_labeled['Relation'] + '_' + results_df_side_labeled['Side']\n",
    "per_relation_plot(results_df_side_labeled, 'hits_at_10')"
   ]
  },
  {
   "cell_type": "markdown",
   "id": "9b05801c",
   "metadata": {},
   "source": [
    "We then average the prediction for the head and the tail:"
   ]
  },
  {
   "cell_type": "code",
   "execution_count": 23,
   "id": "1b24c536",
   "metadata": {},
   "outputs": [
    {
     "data": {
      "text/html": [
       "<div>\n",
       "<style scoped>\n",
       "    .dataframe tbody tr th:only-of-type {\n",
       "        vertical-align: middle;\n",
       "    }\n",
       "\n",
       "    .dataframe tbody tr th {\n",
       "        vertical-align: top;\n",
       "    }\n",
       "\n",
       "    .dataframe thead th {\n",
       "        text-align: right;\n",
       "    }\n",
       "</style>\n",
       "<table border=\"1\" class=\"dataframe\">\n",
       "  <thead>\n",
       "    <tr style=\"text-align: right;\">\n",
       "      <th></th>\n",
       "      <th>Relation</th>\n",
       "      <th>adjusted_mean_rank</th>\n",
       "      <th>mean_rank</th>\n",
       "      <th>mean_reciprocal_rank</th>\n",
       "      <th>hits_at_1</th>\n",
       "      <th>hits_at_3</th>\n",
       "      <th>hits_at_5</th>\n",
       "      <th>hits_at_10</th>\n",
       "    </tr>\n",
       "  </thead>\n",
       "  <tbody>\n",
       "    <tr>\n",
       "      <th>0</th>\n",
       "      <td>Binding_Protein_Protein</td>\n",
       "      <td>0.096874</td>\n",
       "      <td>829.768194</td>\n",
       "      <td>0.132150</td>\n",
       "      <td>0.051654</td>\n",
       "      <td>0.128753</td>\n",
       "      <td>0.190879</td>\n",
       "      <td>0.311360</td>\n",
       "    </tr>\n",
       "    <tr>\n",
       "      <th>1</th>\n",
       "      <td>Binding_Protein_SmallMol</td>\n",
       "      <td>0.114770</td>\n",
       "      <td>4685.598188</td>\n",
       "      <td>0.384056</td>\n",
       "      <td>0.304961</td>\n",
       "      <td>0.438866</td>\n",
       "      <td>0.472559</td>\n",
       "      <td>0.520011</td>\n",
       "    </tr>\n",
       "    <tr>\n",
       "      <th>2</th>\n",
       "      <td>Binding_SmallMol_Protein</td>\n",
       "      <td>0.111383</td>\n",
       "      <td>4518.364393</td>\n",
       "      <td>0.302849</td>\n",
       "      <td>0.210636</td>\n",
       "      <td>0.346728</td>\n",
       "      <td>0.413131</td>\n",
       "      <td>0.496377</td>\n",
       "    </tr>\n",
       "    <tr>\n",
       "      <th>3</th>\n",
       "      <td>ChemicalReaction_Protein_SmallMol</td>\n",
       "      <td>0.239368</td>\n",
       "      <td>5913.444444</td>\n",
       "      <td>0.002334</td>\n",
       "      <td>0.000000</td>\n",
       "      <td>0.000000</td>\n",
       "      <td>0.000000</td>\n",
       "      <td>0.000000</td>\n",
       "    </tr>\n",
       "    <tr>\n",
       "      <th>4</th>\n",
       "      <td>DirectRegulation_Protein_Protein</td>\n",
       "      <td>0.313220</td>\n",
       "      <td>2700.036347</td>\n",
       "      <td>0.006167</td>\n",
       "      <td>0.000000</td>\n",
       "      <td>0.002796</td>\n",
       "      <td>0.006524</td>\n",
       "      <td>0.010718</td>\n",
       "    </tr>\n",
       "    <tr>\n",
       "      <th>5</th>\n",
       "      <td>DirectRegulation_SmallMol_Protein</td>\n",
       "      <td>0.207197</td>\n",
       "      <td>8128.370663</td>\n",
       "      <td>0.040586</td>\n",
       "      <td>0.017283</td>\n",
       "      <td>0.040729</td>\n",
       "      <td>0.058076</td>\n",
       "      <td>0.085081</td>\n",
       "    </tr>\n",
       "    <tr>\n",
       "      <th>6</th>\n",
       "      <td>MolSynthesis_SmallMol_SmallMol</td>\n",
       "      <td>0.047698</td>\n",
       "      <td>3714.282468</td>\n",
       "      <td>0.015147</td>\n",
       "      <td>0.006494</td>\n",
       "      <td>0.008658</td>\n",
       "      <td>0.010823</td>\n",
       "      <td>0.019481</td>\n",
       "    </tr>\n",
       "    <tr>\n",
       "      <th>7</th>\n",
       "      <td>MolTransport_SmallMol_SmallMol</td>\n",
       "      <td>0.042364</td>\n",
       "      <td>3298.485795</td>\n",
       "      <td>0.014875</td>\n",
       "      <td>0.002273</td>\n",
       "      <td>0.010227</td>\n",
       "      <td>0.014773</td>\n",
       "      <td>0.025000</td>\n",
       "    </tr>\n",
       "  </tbody>\n",
       "</table>\n",
       "</div>"
      ],
      "text/plain": [
       "                            Relation  adjusted_mean_rank    mean_rank  \\\n",
       "0            Binding_Protein_Protein            0.096874   829.768194   \n",
       "1           Binding_Protein_SmallMol            0.114770  4685.598188   \n",
       "2           Binding_SmallMol_Protein            0.111383  4518.364393   \n",
       "3  ChemicalReaction_Protein_SmallMol            0.239368  5913.444444   \n",
       "4   DirectRegulation_Protein_Protein            0.313220  2700.036347   \n",
       "5  DirectRegulation_SmallMol_Protein            0.207197  8128.370663   \n",
       "6     MolSynthesis_SmallMol_SmallMol            0.047698  3714.282468   \n",
       "7     MolTransport_SmallMol_SmallMol            0.042364  3298.485795   \n",
       "\n",
       "   mean_reciprocal_rank  hits_at_1  hits_at_3  hits_at_5  hits_at_10  \n",
       "0              0.132150   0.051654   0.128753   0.190879    0.311360  \n",
       "1              0.384056   0.304961   0.438866   0.472559    0.520011  \n",
       "2              0.302849   0.210636   0.346728   0.413131    0.496377  \n",
       "3              0.002334   0.000000   0.000000   0.000000    0.000000  \n",
       "4              0.006167   0.000000   0.002796   0.006524    0.010718  \n",
       "5              0.040586   0.017283   0.040729   0.058076    0.085081  \n",
       "6              0.015147   0.006494   0.008658   0.010823    0.019481  \n",
       "7              0.014875   0.002273   0.010227   0.014773    0.025000  "
      ]
     },
     "execution_count": 23,
     "metadata": {},
     "output_type": "execute_result"
    }
   ],
   "source": [
    "results_both_df = entity_restrict_results_df.groupby('Relation')[entity_restrict_results_df.columns[2:]].mean().reset_index()\n",
    "results_both_df"
   ]
  },
  {
   "cell_type": "code",
   "execution_count": 24,
   "id": "b5ecd1a4",
   "metadata": {},
   "outputs": [
    {
     "data": {
      "image/png": "[encoded data removed]",
      "text/plain": [
       "<Figure size 360x360 with 1 Axes>"
      ]
     },
     "metadata": {
      "needs_background": "light"
     },
     "output_type": "display_data"
    }
   ],
   "source": [
    "per_relation_plot(results_both_df, 'hits_at_10')"
   ]
  },
  {
   "cell_type": "markdown",
   "id": "ea1e697b",
   "metadata": {},
   "source": [
    "Lastly, the overall average is computed over all metrics."
   ]
  },
  {
   "cell_type": "code",
   "execution_count": 25,
   "id": "0e569192",
   "metadata": {},
   "outputs": [
    {
     "data": {
      "text/plain": [
       "adjusted_mean_rank         0.146609\n",
       "mean_rank               4223.543812\n",
       "mean_reciprocal_rank       0.112271\n",
       "hits_at_1                  0.074163\n",
       "hits_at_3                  0.122095\n",
       "hits_at_5                  0.145846\n",
       "hits_at_10                 0.183503\n",
       "dtype: float64"
      ]
     },
     "execution_count": 25,
     "metadata": {},
     "output_type": "execute_result"
    }
   ],
   "source": [
    "results_both_df.mean()"
   ]
  },
  {
   "cell_type": "markdown",
   "id": "6c57fe8c",
   "metadata": {},
   "source": [
    "Compare with the results when restricting by relation type only:"
   ]
  },
  {
   "cell_type": "code",
   "execution_count": 26,
   "id": "f73a73de",
   "metadata": {},
   "outputs": [
    {
     "data": {
      "text/plain": [
       "adjusted_mean_rank         0.063879\n",
       "mean_rank               5623.060232\n",
       "mean_reciprocal_rank       0.108991\n",
       "hits_at_1                  0.070890\n",
       "hits_at_3                  0.119053\n",
       "hits_at_5                  0.143066\n",
       "hits_at_10                 0.180732\n",
       "dtype: float64"
      ]
     },
     "execution_count": 26,
     "metadata": {},
     "output_type": "execute_result"
    }
   ],
   "source": [
    "restricted_rels_macro_performance"
   ]
  },
  {
   "cell_type": "markdown",
   "id": "91523926",
   "metadata": {},
   "source": [
    "Note that this is **not** the same as the original averages computed without restrictions:"
   ]
  },
  {
   "cell_type": "code",
   "execution_count": 27,
   "id": "7c6fb148",
   "metadata": {},
   "outputs": [
    {
     "data": {
      "text/plain": [
       "adjusted_mean_rank         0.054574\n",
       "mean_rank               4799.454969\n",
       "mean_reciprocal_rank       0.201347\n",
       "hits_at_1                  0.127964\n",
       "hits_at_3                  0.220659\n",
       "hits_at_5                  0.270908\n",
       "hits_at_10                 0.353020\n",
       "dtype: float64"
      ]
     },
     "execution_count": 27,
     "metadata": {},
     "output_type": "execute_result"
    }
   ],
   "source": [
    "restricted_rels_micro_performance"
   ]
  },
  {
   "cell_type": "markdown",
   "id": "a9f25d58",
   "metadata": {},
   "source": [
    "The micro-average is instead the following:"
   ]
  },
  {
   "cell_type": "code",
   "execution_count": 28,
   "id": "8f085f6c",
   "metadata": {},
   "outputs": [
    {
     "data": {
      "text/plain": [
       "mean_rank               3439.965743\n",
       "mean_reciprocal_rank       0.206554\n",
       "hits_at_1                  0.133227\n",
       "hits_at_3                  0.226036\n",
       "hits_at_5                  0.275746\n",
       "hits_at_10                 0.357588\n",
       "dtype: float64"
      ]
     },
     "execution_count": 28,
     "metadata": {},
     "output_type": "execute_result"
    }
   ],
   "source": [
    "results_both_df[results_both_df.columns[2:]].mul(results_df['Count'], axis=0).sum(axis=0) / results_df['Count'].sum()"
   ]
  },
  {
   "cell_type": "markdown",
   "id": "80df30d6",
   "metadata": {},
   "source": [
    "We can see that restricting predictions over the correct domain and range of a relation only slightly increases the results."
   ]
  }
 ],
 "metadata": {
  "kernelspec": {
   "name": "python3",
   "language": "python",
   "display_name": "Python 3 (ipykernel)"
  },
  "language_info": {
   "codemirror_mode": {
    "name": "ipython",
    "version": 3
   },
   "file_extension": ".py",
   "mimetype": "text/x-python",
   "name": "python",
   "nbconvert_exporter": "python",
   "pygments_lexer": "ipython3",
   "version": "3.8.8"
  }
 },
 "nbformat": 4,
 "nbformat_minor": 5
}
