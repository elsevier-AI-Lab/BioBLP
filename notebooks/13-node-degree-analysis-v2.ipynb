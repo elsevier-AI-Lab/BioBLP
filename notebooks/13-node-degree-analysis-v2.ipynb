{
 "cells": [
  {
   "cell_type": "code",
   "execution_count": 1,
   "metadata": {
    "collapsed": true,
    "ExecuteTime": {
     "end_time": "2023-06-06T13:20:08.304042574Z",
     "start_time": "2023-06-06T13:20:04.986687229Z"
    }
   },
   "outputs": [],
   "source": [
    "import os.path as osp\n",
    "\n",
    "import matplotlib.pyplot as plt\n",
    "import numpy as np\n",
    "import pandas as pd\n",
    "from pykeen.triples import TriplesFactory"
   ]
  },
  {
   "cell_type": "code",
   "execution_count": 2,
   "outputs": [],
   "source": [
    "MODEL_ID = '38uz9fjs'"
   ],
   "metadata": {
    "collapsed": false,
    "ExecuteTime": {
     "end_time": "2023-06-06T13:20:08.307087149Z",
     "start_time": "2023-06-06T13:20:08.305781333Z"
    }
   }
  },
  {
   "cell_type": "code",
   "execution_count": 3,
   "outputs": [],
   "source": [
    "base_path = osp.join('..', 'models', MODEL_ID)"
   ],
   "metadata": {
    "collapsed": false,
    "ExecuteTime": {
     "end_time": "2023-06-06T13:20:08.312717797Z",
     "start_time": "2023-06-06T13:20:08.309807821Z"
    }
   }
  },
  {
   "cell_type": "markdown",
   "source": [
    "## Loading the data\n",
    "\n",
    "The data loading section performs the following operations:\n",
    "\n",
    "- Load the triples for training, validation and testing\n",
    "- Load the list of diseases with attributes\n",
    "- Count the number of times each entity appears in the training set\n",
    "\n",
    "### Loading the triples"
   ],
   "metadata": {
    "collapsed": false
   }
  },
  {
   "cell_type": "code",
   "execution_count": 4,
   "outputs": [
    {
     "name": "stderr",
     "output_type": "stream",
     "text": [
      "Reconstructing all label-based triples. This is expensive and rarely needed.\n",
      "Reconstructing all label-based triples. This is expensive and rarely needed.\n"
     ]
    }
   ],
   "source": [
    "biokg_path = osp.join('..', 'data', 'biokgb')\n",
    "graph_path = osp.join(biokg_path, 'graph')\n",
    "valid_triples = 'biokg.links-valid.csv'\n",
    "test_triples = 'biokg.links-test.csv'\n",
    "\n",
    "train = TriplesFactory.from_path_binary(osp.join(base_path, 'training_triples'))\n",
    "valid, test = [TriplesFactory.from_path(osp.join(graph_path, f),\n",
    "                                        entity_to_id=train.entity_to_id,\n",
    "                                        relation_to_id=train.relation_to_id)\n",
    "               for f in (valid_triples, test_triples)]\n",
    "\n",
    "train_triples = pd.DataFrame(train.triples, columns=['head', 'relation', 'tail'])\n",
    "test_triples = pd.DataFrame(test.triples, columns=['head', 'relation', 'tail'])"
   ],
   "metadata": {
    "collapsed": false,
    "ExecuteTime": {
     "end_time": "2023-06-06T13:20:11.346870784Z",
     "start_time": "2023-06-06T13:20:08.315832183Z"
    }
   }
  },
  {
   "cell_type": "markdown",
   "source": [
    "### Loading the list of diseases with attributes\n",
    "\n",
    "We do this for the specific case of **diseases** because we want to compare the performance of the model on diseases vs non-diseases."
   ],
   "metadata": {
    "collapsed": false
   }
  },
  {
   "cell_type": "code",
   "execution_count": 5,
   "outputs": [],
   "source": [
    "diseases_with_attributes = pd.read_csv(osp.join(biokg_path, 'properties', 'biokg_meshid_to_descr_name.tsv'),\n",
    "                                       sep='\\t', names=['id', 'description'])\n",
    "diseases_with_attributes = set(diseases_with_attributes['id'].unique())"
   ],
   "metadata": {
    "collapsed": false,
    "ExecuteTime": {
     "end_time": "2023-06-06T13:20:11.484940290Z",
     "start_time": "2023-06-06T13:20:11.349015508Z"
    }
   }
  },
  {
   "cell_type": "markdown",
   "source": [
    "### Counting the number of times each entity appears in the training set\n",
    "\n",
    "This is how we determine the degree of each entity."
   ],
   "metadata": {
    "collapsed": false
   }
  },
  {
   "cell_type": "code",
   "execution_count": 6,
   "outputs": [],
   "source": [
    "# Count the number of times each entity appears in the training set\n",
    "entity_counts = train_triples['head'].value_counts().add(train_triples['tail'].value_counts(), fill_value=0)"
   ],
   "metadata": {
    "collapsed": false,
    "ExecuteTime": {
     "end_time": "2023-06-06T13:20:12.090864770Z",
     "start_time": "2023-06-06T13:20:11.592231173Z"
    }
   }
  },
  {
   "cell_type": "markdown",
   "source": [
    "## Aggregating the results by degree\n",
    "\n",
    "We want to compare the performance of the model on entities with different degrees. We do this by collecting the rank per triple, and then grouping by the degree of the entity."
   ],
   "metadata": {
    "collapsed": false
   }
  },
  {
   "cell_type": "code",
   "execution_count": 7,
   "outputs": [],
   "source": [
    "def aggregate_results_by_degree(ranks_df):\n",
    "    triples_and_ranks = test_triples.copy()\n",
    "    mrr = 1.0 / ranks_df['mrr']\n",
    "\n",
    "    # Here we assume that the ranks are comprised by two halves,\n",
    "    # one for head prediction, and the other for tail prediction\n",
    "    triples_and_ranks['head_mrr'] = mrr.iloc[:len(mrr) // 2].values\n",
    "    triples_and_ranks['tail_mrr'] = mrr.iloc[len(mrr) // 2:].values\n",
    "\n",
    "    # Add the number of times each entity appears in the training set (as head or tail)\n",
    "    triples_and_ranks['head_degree'] = triples_and_ranks['head'].map(entity_counts).values.astype(int)\n",
    "    triples_and_ranks['tail_degree'] = triples_and_ranks['tail'].map(entity_counts).values.astype(int)\n",
    "\n",
    "    # Keep only the test triples that have a disease as head or (exclusive) tail\n",
    "    head_disease_indicator = triples_and_ranks['head'].isin(diseases_with_attributes)\n",
    "    tail_disease_indicator = triples_and_ranks['tail'].isin(diseases_with_attributes)\n",
    "    triples_and_ranks = triples_and_ranks[head_disease_indicator ^ tail_disease_indicator]\n",
    "\n",
    "    # Split into cases where disease is head and where disease is tail\n",
    "    disease_at_head = triples_and_ranks[triples_and_ranks['head'].isin(diseases_with_attributes)]\n",
    "    disease_at_tail = triples_and_ranks[triples_and_ranks['tail'].isin(diseases_with_attributes)]\n",
    "\n",
    "    # We then get the two cases when the predicted entity is a disease or a non-disease\n",
    "    disease_mrr = pd.concat([disease_at_head[['head_degree', 'head_mrr']].rename(columns={'head_degree': 'degree',\n",
    "                                                                                             'head_mrr': 'mrr'}),\n",
    "                             disease_at_tail[['tail_degree', 'tail_mrr']].rename(columns={'tail_degree': 'degree',\n",
    "                                                                                             'tail_mrr': 'mrr'})],\n",
    "                            axis=0, ignore_index=True)\n",
    "    non_disease_mrr = pd.concat([disease_at_head[['tail_degree', 'tail_mrr']].rename(columns={'tail_degree': 'degree',\n",
    "                                                                                             'tail_mrr': 'mrr'}),\n",
    "                                 disease_at_tail[['head_degree', 'head_mrr']].rename(columns={'head_degree': 'degree',\n",
    "                                                                                              'head_mrr': 'mrr'})],\n",
    "                                axis=0, ignore_index=True)\n",
    "    return disease_mrr, non_disease_mrr"
   ],
   "metadata": {
    "collapsed": false,
    "ExecuteTime": {
     "end_time": "2023-06-06T13:20:12.103917547Z",
     "start_time": "2023-06-06T13:20:12.093790761Z"
    }
   }
  },
  {
   "cell_type": "markdown",
   "source": [
    "The above separates the results into two:\n",
    "- `disease_mrr`: the MRR of the model when the predicted entity is a disease\n",
    "- `non_disease_mrr`: the MRR of the model when the predicted entity is a non-disease\n",
    "\n",
    "We can now load this data for BioBLP and RotatE."
   ],
   "metadata": {
    "collapsed": false
   }
  },
  {
   "cell_type": "code",
   "execution_count": 8,
   "outputs": [],
   "source": [
    "disease_mrr, non_disease_mrr = aggregate_results_by_degree(pd.read_csv(osp.join(base_path, 'ranks.csv'),\n",
    "                                                                       sep='\\t',\n",
    "                                                                       header=None,\n",
    "                                                                       names=['mrr']))\n",
    "\n",
    "rotate_path = osp.join('..', 'models', '36viovqn')\n",
    "rotate_disease_mrr, rotate_non_disease_mrr = aggregate_results_by_degree(pd.read_csv(osp.join(rotate_path, 'ranks.csv'),\n",
    "                                                                                     sep='\\t',\n",
    "                                                                                     header=None,\n",
    "                                                                                     names=['mrr']))"
   ],
   "metadata": {
    "collapsed": false,
    "ExecuteTime": {
     "end_time": "2023-06-06T13:20:12.367397125Z",
     "start_time": "2023-06-06T13:20:12.107715081Z"
    }
   }
  },
  {
   "cell_type": "markdown",
   "source": [
    "## Plotting the results"
   ],
   "metadata": {
    "collapsed": false
   }
  },
  {
   "cell_type": "code",
   "execution_count": 9,
   "outputs": [],
   "source": [
    "# Configure matplotlib fonts to use Helvetica Neue, with the default as fallback\n",
    "plt.rcParams['font.family'] = 'sans-serif'\n",
    "plt.rcParams['font.sans-serif'] = 'Helvetica Neue'"
   ],
   "metadata": {
    "collapsed": false,
    "ExecuteTime": {
     "end_time": "2023-06-06T13:20:12.371440493Z",
     "start_time": "2023-06-06T13:20:12.369377837Z"
    }
   }
  },
  {
   "cell_type": "code",
   "execution_count": 18,
   "outputs": [
    {
     "data": {
      "text/plain": "<Figure size 900x600 with 4 Axes>",
      "image/png": "[encoded data removed]"
     },
     "metadata": {},
     "output_type": "display_data"
    }
   ],
   "source": [
    "def plot_mrr_distribution(df, predicted_type, ax1, ax2):\n",
    "    \"\"\"Plots as a function of their degree\"\"\"\n",
    "    mrr_by_degree = df.groupby('degree').mean()\n",
    "    mrr_by_degree['count'] = df['degree'].value_counts()\n",
    "\n",
    "\n",
    "\n",
    "    # First plot: scatter plot of MRR vs degree\n",
    "    # Split the data into positive and negative values of MRR\n",
    "    positive_mrr = mrr_by_degree[mrr_by_degree['mrr'] > 0]\n",
    "    negative_mrr = mrr_by_degree[mrr_by_degree['mrr'] < 0]\n",
    "\n",
    "    # We will color the points depending on whether the value is positive or negative\n",
    "    # Use the viridis colormap\n",
    "    ax1.scatter(positive_mrr.index, positive_mrr['mrr'], c='#f3da40ff', label='ΔMRR > 0', s=18)\n",
    "    ax1.scatter(negative_mrr.index, negative_mrr['mrr'], c='#440154ff', label='ΔMRR < 0', s=18)\n",
    "\n",
    "    # Add a legend for the colors\n",
    "    ax1.set_xscale('log')\n",
    "    ax1.set_xlabel(f'Degree of predicted {predicted_type}')\n",
    "    ax1.set_ylabel('ΔMRR')\n",
    "    ax1.legend(loc='upper left')\n",
    "    ax1.grid(True)\n",
    "    ax1.set_xlim(0.7, 3.5e3)\n",
    "\n",
    "    # Second plot: boxplot of degree distribution\n",
    "    ax2.boxplot(df['degree'], vert=False)\n",
    "    ax2.set_xscale('log')\n",
    "    ax2.set_xlabel('Degree distribution')\n",
    "    ax2.get_yaxis().set_visible(False)\n",
    "    ax2.set_ylim(0.7, 1.3)\n",
    "    ax2.set_xlim(0.7, 3.5e3)\n",
    "\n",
    "def get_mrr_difference(df1, df2):\n",
    "    \"\"\"Returns the difference in MRR between two dataframes\"\"\"\n",
    "    mrr_diff = df1[['degree']]\n",
    "    mrr_diff['mrr'] = df1['mrr'] - df2['mrr']\n",
    "    return mrr_diff\n",
    "\n",
    "fig, (ax1, ax2) = plt.subplots(2, 2, figsize=(9, 6), gridspec_kw={'height_ratios': [4, 1]})\n",
    "\n",
    "plot_mrr_distribution(get_mrr_difference(rotate_disease_mrr, disease_mrr), predicted_type='disease', ax1=ax1[0], ax2=ax2[0])\n",
    "plot_mrr_distribution(get_mrr_difference(rotate_non_disease_mrr, non_disease_mrr), predicted_type='non-disease', ax1=ax1[1], ax2=ax2[1])\n",
    "fig.subplots_adjust(hspace=0.3, wspace=0.3)\n",
    "plt.savefig('2023-06-05-degree-analysis-combined.pdf', bbox_inches='tight')"
   ],
   "metadata": {
    "collapsed": false,
    "ExecuteTime": {
     "end_time": "2023-06-06T13:23:32.936298600Z",
     "start_time": "2023-06-06T13:23:31.075276193Z"
    }
   }
  }
 ],
 "metadata": {
  "kernelspec": {
   "display_name": "Python 3",
   "language": "python",
   "name": "python3"
  },
  "language_info": {
   "codemirror_mode": {
    "name": "ipython",
    "version": 2
   },
   "file_extension": ".py",
   "mimetype": "text/x-python",
   "name": "python",
   "nbconvert_exporter": "python",
   "pygments_lexer": "ipython2",
   "version": "2.7.6"
  }
 },
 "nbformat": 4,
 "nbformat_minor": 0
}
