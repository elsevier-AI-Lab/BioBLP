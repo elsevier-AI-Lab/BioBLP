{
 "cells": [
  {
   "cell_type": "markdown",
   "source": [
    "# Improvements from the pretraining strategy\n",
    "## Statistical significance\n",
    "\n",
    "In our paper, we showed that the pretraining strategy improves the performance of the models. However, we did not perform any statistical tests to determine whether the improvements were statistically significant. In this notebook, we will perform a t-test to determine whether they are."
   ],
   "metadata": {
    "collapsed": false
   }
  },
  {
   "cell_type": "code",
   "execution_count": 82,
   "outputs": [],
   "source": [
    "import os.path as osp\n",
    "\n",
    "import matplotlib.pyplot as plt\n",
    "import numpy as np\n",
    "import pandas as pd\n",
    "from pandas.api.types import CategoricalDtype\n",
    "from scipy.stats import ttest_ind"
   ],
   "metadata": {
    "collapsed": false,
    "ExecuteTime": {
     "start_time": "2023-04-18T17:04:48.679578Z",
     "end_time": "2023-04-18T17:04:48.721960Z"
    }
   }
  },
  {
   "cell_type": "markdown",
   "source": [
    "### Testing pairs of models from raw ranks\n",
    "\n",
    "At the core of the test is a function that loads the raw ranks produced by a pair of models being compared.\n",
    "The raw ranks can be obtained by running the following code:\n",
    "\n",
    "```sh\n",
    "python -m bioblp.evaluate --model_path=<PATH_TO_MODEL>\n",
    "```\n",
    "\n",
    "The ranks are then saved to a file called `ranks.csv` in the model directory. The function below loads the ranks and returns the p-value and mean difference of the two models.\n",
    "\n",
    "We used [Welch's test](https://en.wikipedia.org/wiki/Welch%27s_t-test), which does not assume normality nor equal variance of the two samples."
   ],
   "metadata": {
    "collapsed": false
   }
  },
  {
   "cell_type": "code",
   "execution_count": 83,
   "metadata": {
    "collapsed": true,
    "ExecuteTime": {
     "start_time": "2023-04-18T17:07:17.233187Z",
     "end_time": "2023-04-18T17:07:17.280563Z"
    }
   },
   "outputs": [],
   "source": [
    "def compare_models(model_1, model_2):\n",
    "    \"\"\"Compare two models using a t-test, given their IDs\"\"\"\n",
    "    reciprocals_1 = 1.0 / np.loadtxt(osp.join('..', 'models', model_1, 'ranks.csv'))\n",
    "    reciprocals_2 = 1.0 / np.loadtxt(osp.join('..', 'models', model_2, 'ranks.csv'))\n",
    "    t, p = ttest_ind(reciprocals_1, reciprocals_2, equal_var=False)\n",
    "    mean_difference = np.mean(reciprocals_2) - np.mean(reciprocals_1)\n",
    "    return p, mean_difference"
   ]
  },
  {
   "cell_type": "markdown",
   "source": [
    "At this point we assume that we have generated the raw ranks for all the models we want to compare. We can then load the raw ranks and perform the t-test.\n",
    "In the next cell we populate all the data, by adding the IDs of the base model, followed by the IDs of the pre-trained model."
   ],
   "metadata": {
    "collapsed": false
   }
  },
  {
   "cell_type": "code",
   "execution_count": 84,
   "outputs": [
    {
     "data": {
      "text/plain": "  scoring-function   encoder   base-id pretrained-id\n0           TransE  BioBLP-P  36viovqn      38uz9fjs\n1           TransE  BioBLP-M  36viovqn      38uz9fjs\n2           TransE  BioBLP-D  36viovqn      38uz9fjs\n3          ComplEx  BioBLP-P  36viovqn      38uz9fjs\n4          ComplEx  BioBLP-M  36viovqn      38uz9fjs\n5          ComplEx  BioBLP-D  36viovqn      38uz9fjs\n6           RotatE  BioBLP-P  36viovqn      38uz9fjs\n7           RotatE  BioBLP-M  36viovqn      38uz9fjs\n8           RotatE  BioBLP-D  36viovqn      38uz9fjs",
      "text/html": "<div>\n<style scoped>\n    .dataframe tbody tr th:only-of-type {\n        vertical-align: middle;\n    }\n\n    .dataframe tbody tr th {\n        vertical-align: top;\n    }\n\n    .dataframe thead th {\n        text-align: right;\n    }\n</style>\n<table border=\"1\" class=\"dataframe\">\n  <thead>\n    <tr style=\"text-align: right;\">\n      <th></th>\n      <th>scoring-function</th>\n      <th>encoder</th>\n      <th>base-id</th>\n      <th>pretrained-id</th>\n    </tr>\n  </thead>\n  <tbody>\n    <tr>\n      <th>0</th>\n      <td>TransE</td>\n      <td>BioBLP-P</td>\n      <td>36viovqn</td>\n      <td>38uz9fjs</td>\n    </tr>\n    <tr>\n      <th>1</th>\n      <td>TransE</td>\n      <td>BioBLP-M</td>\n      <td>36viovqn</td>\n      <td>38uz9fjs</td>\n    </tr>\n    <tr>\n      <th>2</th>\n      <td>TransE</td>\n      <td>BioBLP-D</td>\n      <td>36viovqn</td>\n      <td>38uz9fjs</td>\n    </tr>\n    <tr>\n      <th>3</th>\n      <td>ComplEx</td>\n      <td>BioBLP-P</td>\n      <td>36viovqn</td>\n      <td>38uz9fjs</td>\n    </tr>\n    <tr>\n      <th>4</th>\n      <td>ComplEx</td>\n      <td>BioBLP-M</td>\n      <td>36viovqn</td>\n      <td>38uz9fjs</td>\n    </tr>\n    <tr>\n      <th>5</th>\n      <td>ComplEx</td>\n      <td>BioBLP-D</td>\n      <td>36viovqn</td>\n      <td>38uz9fjs</td>\n    </tr>\n    <tr>\n      <th>6</th>\n      <td>RotatE</td>\n      <td>BioBLP-P</td>\n      <td>36viovqn</td>\n      <td>38uz9fjs</td>\n    </tr>\n    <tr>\n      <th>7</th>\n      <td>RotatE</td>\n      <td>BioBLP-M</td>\n      <td>36viovqn</td>\n      <td>38uz9fjs</td>\n    </tr>\n    <tr>\n      <th>8</th>\n      <td>RotatE</td>\n      <td>BioBLP-D</td>\n      <td>36viovqn</td>\n      <td>38uz9fjs</td>\n    </tr>\n  </tbody>\n</table>\n</div>"
     },
     "execution_count": 84,
     "metadata": {},
     "output_type": "execute_result"
    }
   ],
   "source": [
    "TRANSE = 'TransE'\n",
    "COMPLEX = 'ComplEx'\n",
    "ROTATE = 'RotatE'\n",
    "BIOBLP_P = 'BioBLP-P'\n",
    "BIOBLP_M = 'BioBLP-M'\n",
    "BIOBLP_D = 'BioBLP-D'\n",
    "\n",
    "\n",
    "data = [[TRANSE, BIOBLP_P, '36viovqn', '38uz9fjs'],\n",
    "        [TRANSE, BIOBLP_M, '36viovqn', '38uz9fjs'],\n",
    "        [TRANSE, BIOBLP_D, '36viovqn', '38uz9fjs'],\n",
    "        [COMPLEX, BIOBLP_P, '36viovqn', '38uz9fjs'],\n",
    "        [COMPLEX, BIOBLP_M, '36viovqn', '38uz9fjs'],\n",
    "        [COMPLEX, BIOBLP_D, '36viovqn', '38uz9fjs'],\n",
    "        [ROTATE, BIOBLP_P, '36viovqn', '38uz9fjs'],\n",
    "        [ROTATE, BIOBLP_M, '36viovqn', '38uz9fjs'],\n",
    "        [ROTATE, BIOBLP_D, '36viovqn', '38uz9fjs']]\n",
    "\n",
    "# Create the pandas DataFrame\n",
    "df = pd.DataFrame(data, columns = ['scoring-function', 'encoder', 'base-id', 'pretrained-id'])\n",
    "df['scoring-function'] = df['scoring-function'].astype(CategoricalDtype(categories=[TRANSE, COMPLEX, ROTATE], ordered=True))\n",
    "df['encoder'] = df['encoder'].astype(CategoricalDtype(categories=[BIOBLP_P, BIOBLP_M, BIOBLP_D], ordered=True))\n",
    "df"
   ],
   "metadata": {
    "collapsed": false,
    "ExecuteTime": {
     "start_time": "2023-04-18T17:08:20.530700Z",
     "end_time": "2023-04-18T17:08:20.578191Z"
    }
   }
  },
  {
   "cell_type": "markdown",
   "source": [
    "Now we can run the t-test, adding the p-value and mean difference to the DataFrame."
   ],
   "metadata": {
    "collapsed": false
   }
  },
  {
   "cell_type": "code",
   "execution_count": 85,
   "outputs": [
    {
     "data": {
      "text/plain": "  scoring-function   encoder   base-id pretrained-id   p-value  \\\n0           TransE  BioBLP-P  36viovqn      38uz9fjs  0.384252   \n1           TransE  BioBLP-M  36viovqn      38uz9fjs  0.384252   \n2           TransE  BioBLP-D  36viovqn      38uz9fjs  0.384252   \n3          ComplEx  BioBLP-P  36viovqn      38uz9fjs  0.384252   \n4          ComplEx  BioBLP-M  36viovqn      38uz9fjs  0.384252   \n5          ComplEx  BioBLP-D  36viovqn      38uz9fjs  0.384252   \n6           RotatE  BioBLP-P  36viovqn      38uz9fjs  0.384252   \n7           RotatE  BioBLP-M  36viovqn      38uz9fjs  0.384252   \n8           RotatE  BioBLP-D  36viovqn      38uz9fjs  0.384252   \n\n   mean-difference  \n0        -0.037661  \n1        -0.037661  \n2        -0.037661  \n3        -0.037661  \n4        -0.037661  \n5        -0.037661  \n6        -0.037661  \n7        -0.037661  \n8        -0.037661  ",
      "text/html": "<div>\n<style scoped>\n    .dataframe tbody tr th:only-of-type {\n        vertical-align: middle;\n    }\n\n    .dataframe tbody tr th {\n        vertical-align: top;\n    }\n\n    .dataframe thead th {\n        text-align: right;\n    }\n</style>\n<table border=\"1\" class=\"dataframe\">\n  <thead>\n    <tr style=\"text-align: right;\">\n      <th></th>\n      <th>scoring-function</th>\n      <th>encoder</th>\n      <th>base-id</th>\n      <th>pretrained-id</th>\n      <th>p-value</th>\n      <th>mean-difference</th>\n    </tr>\n  </thead>\n  <tbody>\n    <tr>\n      <th>0</th>\n      <td>TransE</td>\n      <td>BioBLP-P</td>\n      <td>36viovqn</td>\n      <td>38uz9fjs</td>\n      <td>0.384252</td>\n      <td>-0.037661</td>\n    </tr>\n    <tr>\n      <th>1</th>\n      <td>TransE</td>\n      <td>BioBLP-M</td>\n      <td>36viovqn</td>\n      <td>38uz9fjs</td>\n      <td>0.384252</td>\n      <td>-0.037661</td>\n    </tr>\n    <tr>\n      <th>2</th>\n      <td>TransE</td>\n      <td>BioBLP-D</td>\n      <td>36viovqn</td>\n      <td>38uz9fjs</td>\n      <td>0.384252</td>\n      <td>-0.037661</td>\n    </tr>\n    <tr>\n      <th>3</th>\n      <td>ComplEx</td>\n      <td>BioBLP-P</td>\n      <td>36viovqn</td>\n      <td>38uz9fjs</td>\n      <td>0.384252</td>\n      <td>-0.037661</td>\n    </tr>\n    <tr>\n      <th>4</th>\n      <td>ComplEx</td>\n      <td>BioBLP-M</td>\n      <td>36viovqn</td>\n      <td>38uz9fjs</td>\n      <td>0.384252</td>\n      <td>-0.037661</td>\n    </tr>\n    <tr>\n      <th>5</th>\n      <td>ComplEx</td>\n      <td>BioBLP-D</td>\n      <td>36viovqn</td>\n      <td>38uz9fjs</td>\n      <td>0.384252</td>\n      <td>-0.037661</td>\n    </tr>\n    <tr>\n      <th>6</th>\n      <td>RotatE</td>\n      <td>BioBLP-P</td>\n      <td>36viovqn</td>\n      <td>38uz9fjs</td>\n      <td>0.384252</td>\n      <td>-0.037661</td>\n    </tr>\n    <tr>\n      <th>7</th>\n      <td>RotatE</td>\n      <td>BioBLP-M</td>\n      <td>36viovqn</td>\n      <td>38uz9fjs</td>\n      <td>0.384252</td>\n      <td>-0.037661</td>\n    </tr>\n    <tr>\n      <th>8</th>\n      <td>RotatE</td>\n      <td>BioBLP-D</td>\n      <td>36viovqn</td>\n      <td>38uz9fjs</td>\n      <td>0.384252</td>\n      <td>-0.037661</td>\n    </tr>\n  </tbody>\n</table>\n</div>"
     },
     "execution_count": 85,
     "metadata": {},
     "output_type": "execute_result"
    }
   ],
   "source": [
    "df['p-value'], df['mean-difference'] = zip(*df.apply(lambda row: compare_models(row['base-id'], row['pretrained-id']), axis=1))\n",
    "df"
   ],
   "metadata": {
    "collapsed": false,
    "ExecuteTime": {
     "start_time": "2023-04-18T17:08:50.667255Z",
     "end_time": "2023-04-18T17:08:50.681101Z"
    }
   }
  },
  {
   "cell_type": "markdown",
   "source": [
    "Lastly, we plot the results grouping by scoring function and encoder, and adding an asterisk if the p-value is less than 0.05."
   ],
   "metadata": {
    "collapsed": false
   }
  },
  {
   "cell_type": "code",
   "execution_count": 89,
   "outputs": [],
   "source": [
    "# Configure matplotlib fonts to use Helvetica Neue\n",
    "plt.rcParams['font.family'] = 'sans-serif'\n",
    "plt.rcParams['font.sans-serif'] = 'Helvetica Neue'"
   ],
   "metadata": {
    "collapsed": false,
    "ExecuteTime": {
     "start_time": "2023-04-18T17:12:33.390721Z",
     "end_time": "2023-04-18T17:12:33.456436Z"
    }
   }
  },
  {
   "cell_type": "code",
   "execution_count": 90,
   "outputs": [
    {
     "data": {
      "text/plain": "<Figure size 400x300 with 1 Axes>",
      "image/png": "[encoded data removed]"
     },
     "metadata": {},
     "output_type": "display_data"
    }
   ],
   "source": [
    "# Group by scoring function, then by encoder, and plot the mean difference\n",
    "fig, ax = plt.subplots(figsize=(4, 3))\n",
    "df.groupby(['scoring-function', 'encoder']).mean(numeric_only=True)['mean-difference'].unstack().plot.bar(ax=ax, rot=0)\n",
    "# Place the legend outside the plot\n",
    "plt.legend(bbox_to_anchor=(1.05, 1), loc='upper left');\n",
    "\n",
    "# Iterate over the bars and add an asterisk if the p-value is less than 0.05\n",
    "for i, p in enumerate(ax.patches):\n",
    "    p_value = df.iloc[i]['p-value']\n",
    "    if p_value < 0.05:\n",
    "        ax.annotate('*', (p.get_x() + p.get_width() / 2., p.get_height()),\n",
    "                    ha='center', va='center', fontsize=11, color='black', xytext=(0, 8),\n",
    "                    textcoords='offset points')\n",
    "\n",
    "# Set the ylim to be a bit larger than the max value\n",
    "ax.set_ylim(top=df['mean-difference'].max() + 0.01)\n",
    "ax.set_xlabel('Scoring Function')\n",
    "ax.set_ylabel('MRR difference');"
   ],
   "metadata": {
    "collapsed": false,
    "ExecuteTime": {
     "start_time": "2023-04-18T17:12:34.573117Z",
     "end_time": "2023-04-18T17:12:34.738944Z"
    }
   }
  }
 ],
 "metadata": {
  "kernelspec": {
   "display_name": "Python 3",
   "language": "python",
   "name": "python3"
  },
  "language_info": {
   "codemirror_mode": {
    "name": "ipython",
    "version": 2
   },
   "file_extension": ".py",
   "mimetype": "text/x-python",
   "name": "python",
   "nbconvert_exporter": "python",
   "pygments_lexer": "ipython2",
   "version": "2.7.6"
  }
 },
 "nbformat": 4,
 "nbformat_minor": 0
}
