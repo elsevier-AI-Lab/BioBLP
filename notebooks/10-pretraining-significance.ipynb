{
 "cells": [
  {
   "cell_type": "markdown",
   "metadata": {},
   "source": [
    "# Improvements from the pretraining strategy\n",
    "## Statistical significance\n",
    "\n",
    "In our paper, we showed that the pretraining strategy improves the performance of the models. However, we did not perform any statistical tests to determine whether the improvements were statistically significant. In this notebook, we will perform a t-test to determine whether they are."
   ]
  },
  {
   "cell_type": "code",
   "execution_count": 1,
   "metadata": {
    "ExecuteTime": {
     "end_time": "2023-04-18T19:13:34.752384Z",
     "start_time": "2023-04-18T19:13:33.985546Z"
    }
   },
   "outputs": [],
   "source": [
    "import os.path as osp\n",
    "\n",
    "import matplotlib.pyplot as plt\n",
    "import numpy as np\n",
    "import pandas as pd\n",
    "from pandas.api.types import CategoricalDtype\n",
    "from scipy.stats import ttest_ind"
   ]
  },
  {
   "cell_type": "markdown",
   "metadata": {},
   "source": [
    "### Testing pairs of models from raw ranks\n",
    "\n",
    "At the core of the test is a function that loads the raw ranks produced by a pair of models being compared.\n",
    "The raw ranks can be obtained by running the following code:\n",
    "\n",
    "```sh\n",
    "python -m bioblp.evaluate --model_path=<PATH_TO_MODEL>\n",
    "```\n",
    "\n",
    "The ranks are then saved to a file called `ranks.csv` in the model directory. The function below loads the ranks and returns the p-value and mean difference of the two models.\n",
    "\n",
    "We used [Welch's test](https://en.wikipedia.org/wiki/Welch%27s_t-test), which does not assume normality nor equal variance of the two samples."
   ]
  },
  {
   "cell_type": "code",
   "execution_count": 2,
   "metadata": {
    "ExecuteTime": {
     "end_time": "2023-04-18T19:13:34.752587Z",
     "start_time": "2023-04-18T19:13:34.729532Z"
    }
   },
   "outputs": [],
   "source": [
    "def compare_models(model_1, model_2):\n",
    "    \"\"\"Compare two models using a t-test, given their IDs\"\"\"\n",
    "    reciprocals_1 = 1.0 / np.loadtxt(osp.join('..', 'models', model_1, 'ranks.csv'))\n",
    "    reciprocals_2 = 1.0 / np.loadtxt(osp.join('..', 'models', model_2, 'ranks.csv'))\n",
    "    t, p = ttest_ind(reciprocals_1, reciprocals_2, equal_var=False)\n",
    "    mean_difference = np.mean(reciprocals_2) - np.mean(reciprocals_1)\n",
    "    return p, mean_difference"
   ]
  },
  {
   "cell_type": "markdown",
   "metadata": {},
   "source": [
    "At this point we assume that we have generated the raw ranks for all the models we want to compare. We can then load the raw ranks and perform the t-test.\n",
    "In the next cell we populate all the data, by adding the IDs of the base model, followed by the IDs of the pre-trained model."
   ]
  },
  {
   "cell_type": "code",
   "execution_count": 3,
   "metadata": {
    "ExecuteTime": {
     "end_time": "2023-04-18T19:13:34.788700Z",
     "start_time": "2023-04-18T19:13:34.735696Z"
    }
   },
   "outputs": [
    {
     "data": {
      "text/html": [
       "<div>\n",
       "<style scoped>\n",
       "    .dataframe tbody tr th:only-of-type {\n",
       "        vertical-align: middle;\n",
       "    }\n",
       "\n",
       "    .dataframe tbody tr th {\n",
       "        vertical-align: top;\n",
       "    }\n",
       "\n",
       "    .dataframe thead th {\n",
       "        text-align: right;\n",
       "    }\n",
       "</style>\n",
       "<table border=\"1\" class=\"dataframe\">\n",
       "  <thead>\n",
       "    <tr style=\"text-align: right;\">\n",
       "      <th></th>\n",
       "      <th>scoring-function</th>\n",
       "      <th>encoder</th>\n",
       "      <th>base-id</th>\n",
       "      <th>pretrained-id</th>\n",
       "    </tr>\n",
       "  </thead>\n",
       "  <tbody>\n",
       "    <tr>\n",
       "      <th>0</th>\n",
       "      <td>TransE</td>\n",
       "      <td>BioBLP-P</td>\n",
       "      <td>t34jd63w</td>\n",
       "      <td>323hgd1c</td>\n",
       "    </tr>\n",
       "    <tr>\n",
       "      <th>1</th>\n",
       "      <td>TransE</td>\n",
       "      <td>BioBLP-M</td>\n",
       "      <td>t34jd63w</td>\n",
       "      <td>323hgd1c</td>\n",
       "    </tr>\n",
       "    <tr>\n",
       "      <th>2</th>\n",
       "      <td>TransE</td>\n",
       "      <td>BioBLP-D</td>\n",
       "      <td>13fmg5o3</td>\n",
       "      <td>hc93i87f</td>\n",
       "    </tr>\n",
       "    <tr>\n",
       "      <th>3</th>\n",
       "      <td>ComplEx</td>\n",
       "      <td>BioBLP-P</td>\n",
       "      <td>iozdy3h6</td>\n",
       "      <td>gcrqvo2u</td>\n",
       "    </tr>\n",
       "    <tr>\n",
       "      <th>4</th>\n",
       "      <td>ComplEx</td>\n",
       "      <td>BioBLP-M</td>\n",
       "      <td>iozdy3h6</td>\n",
       "      <td>gcrqvo2u</td>\n",
       "    </tr>\n",
       "    <tr>\n",
       "      <th>5</th>\n",
       "      <td>ComplEx</td>\n",
       "      <td>BioBLP-D</td>\n",
       "      <td>2j1eunto</td>\n",
       "      <td>2idgvtb9</td>\n",
       "    </tr>\n",
       "    <tr>\n",
       "      <th>6</th>\n",
       "      <td>RotatE</td>\n",
       "      <td>BioBLP-P</td>\n",
       "      <td>cttc3ucm</td>\n",
       "      <td>4o6x9h96</td>\n",
       "    </tr>\n",
       "    <tr>\n",
       "      <th>7</th>\n",
       "      <td>RotatE</td>\n",
       "      <td>BioBLP-M</td>\n",
       "      <td>5rxz3k57</td>\n",
       "      <td>1r75g9na</td>\n",
       "    </tr>\n",
       "    <tr>\n",
       "      <th>8</th>\n",
       "      <td>RotatE</td>\n",
       "      <td>BioBLP-D</td>\n",
       "      <td>1hh20k34</td>\n",
       "      <td>38uz9fjs</td>\n",
       "    </tr>\n",
       "  </tbody>\n",
       "</table>\n",
       "</div>"
      ],
      "text/plain": [
       "  scoring-function   encoder   base-id pretrained-id\n",
       "0           TransE  BioBLP-P  t34jd63w      323hgd1c\n",
       "1           TransE  BioBLP-M  t34jd63w      323hgd1c\n",
       "2           TransE  BioBLP-D  13fmg5o3      hc93i87f\n",
       "3          ComplEx  BioBLP-P  iozdy3h6      gcrqvo2u\n",
       "4          ComplEx  BioBLP-M  iozdy3h6      gcrqvo2u\n",
       "5          ComplEx  BioBLP-D  2j1eunto      2idgvtb9\n",
       "6           RotatE  BioBLP-P  cttc3ucm      4o6x9h96\n",
       "7           RotatE  BioBLP-M  5rxz3k57      1r75g9na\n",
       "8           RotatE  BioBLP-D  1hh20k34      38uz9fjs"
      ]
     },
     "execution_count": 3,
     "metadata": {},
     "output_type": "execute_result"
    }
   ],
   "source": [
    "TRANSE = 'TransE'\n",
    "COMPLEX = 'ComplEx'\n",
    "ROTATE = 'RotatE'\n",
    "BIOBLP_P = 'BioBLP-P'\n",
    "BIOBLP_M = 'BioBLP-M'\n",
    "BIOBLP_D = 'BioBLP-D'\n",
    "\n",
    "\n",
    "data = [[TRANSE, BIOBLP_P, 't34jd63w', '323hgd1c'],\n",
    "        [TRANSE, BIOBLP_M, 't34jd63w', '323hgd1c'],\n",
    "        [TRANSE, BIOBLP_D, '13fmg5o3', 'hc93i87f'],\n",
    "        [COMPLEX, BIOBLP_P, 'iozdy3h6', 'gcrqvo2u'],\n",
    "        [COMPLEX, BIOBLP_M, 'iozdy3h6', 'gcrqvo2u'],\n",
    "        [COMPLEX, BIOBLP_D, '2j1eunto', '2idgvtb9'],\n",
    "        [ROTATE, BIOBLP_P, 'cttc3ucm', '4o6x9h96'],\n",
    "        [ROTATE, BIOBLP_M, '5rxz3k57', '1r75g9na'],\n",
    "        [ROTATE, BIOBLP_D, '1hh20k34', '38uz9fjs']]\n",
    "\n",
    "# Create the pandas DataFrame\n",
    "df = pd.DataFrame(data, columns = ['scoring-function', 'encoder', 'base-id', 'pretrained-id'])\n",
    "df['scoring-function'] = df['scoring-function'].astype(CategoricalDtype(categories=[TRANSE, COMPLEX, ROTATE], ordered=True))\n",
    "df['encoder'] = df['encoder'].astype(CategoricalDtype(categories=[BIOBLP_P, BIOBLP_M, BIOBLP_D], ordered=True))\n",
    "df"
   ]
  },
  {
   "cell_type": "markdown",
   "metadata": {},
   "source": [
    "Now we can run the t-test, adding the p-value and mean difference to the DataFrame."
   ]
  },
  {
   "cell_type": "code",
   "execution_count": 4,
   "metadata": {
    "ExecuteTime": {
     "end_time": "2023-04-18T19:13:34.906196Z",
     "start_time": "2023-04-18T19:13:34.854666Z"
    }
   },
   "outputs": [
    {
     "data": {
      "text/html": [
       "<div>\n",
       "<style scoped>\n",
       "    .dataframe tbody tr th:only-of-type {\n",
       "        vertical-align: middle;\n",
       "    }\n",
       "\n",
       "    .dataframe tbody tr th {\n",
       "        vertical-align: top;\n",
       "    }\n",
       "\n",
       "    .dataframe thead th {\n",
       "        text-align: right;\n",
       "    }\n",
       "</style>\n",
       "<table border=\"1\" class=\"dataframe\">\n",
       "  <thead>\n",
       "    <tr style=\"text-align: right;\">\n",
       "      <th></th>\n",
       "      <th>scoring-function</th>\n",
       "      <th>encoder</th>\n",
       "      <th>base-id</th>\n",
       "      <th>pretrained-id</th>\n",
       "      <th>p-value</th>\n",
       "      <th>mean-difference</th>\n",
       "    </tr>\n",
       "  </thead>\n",
       "  <tbody>\n",
       "    <tr>\n",
       "      <th>0</th>\n",
       "      <td>TransE</td>\n",
       "      <td>BioBLP-P</td>\n",
       "      <td>t34jd63w</td>\n",
       "      <td>323hgd1c</td>\n",
       "      <td>7.163049e-02</td>\n",
       "      <td>0.001189</td>\n",
       "    </tr>\n",
       "    <tr>\n",
       "      <th>1</th>\n",
       "      <td>TransE</td>\n",
       "      <td>BioBLP-M</td>\n",
       "      <td>t34jd63w</td>\n",
       "      <td>323hgd1c</td>\n",
       "      <td>7.163049e-02</td>\n",
       "      <td>0.001189</td>\n",
       "    </tr>\n",
       "    <tr>\n",
       "      <th>2</th>\n",
       "      <td>TransE</td>\n",
       "      <td>BioBLP-D</td>\n",
       "      <td>13fmg5o3</td>\n",
       "      <td>hc93i87f</td>\n",
       "      <td>0.000000e+00</td>\n",
       "      <td>0.083229</td>\n",
       "    </tr>\n",
       "    <tr>\n",
       "      <th>3</th>\n",
       "      <td>ComplEx</td>\n",
       "      <td>BioBLP-P</td>\n",
       "      <td>iozdy3h6</td>\n",
       "      <td>gcrqvo2u</td>\n",
       "      <td>0.000000e+00</td>\n",
       "      <td>0.183499</td>\n",
       "    </tr>\n",
       "    <tr>\n",
       "      <th>4</th>\n",
       "      <td>ComplEx</td>\n",
       "      <td>BioBLP-M</td>\n",
       "      <td>iozdy3h6</td>\n",
       "      <td>gcrqvo2u</td>\n",
       "      <td>0.000000e+00</td>\n",
       "      <td>0.183499</td>\n",
       "    </tr>\n",
       "    <tr>\n",
       "      <th>5</th>\n",
       "      <td>ComplEx</td>\n",
       "      <td>BioBLP-D</td>\n",
       "      <td>2j1eunto</td>\n",
       "      <td>2idgvtb9</td>\n",
       "      <td>0.000000e+00</td>\n",
       "      <td>0.004364</td>\n",
       "    </tr>\n",
       "    <tr>\n",
       "      <th>6</th>\n",
       "      <td>RotatE</td>\n",
       "      <td>BioBLP-P</td>\n",
       "      <td>cttc3ucm</td>\n",
       "      <td>4o6x9h96</td>\n",
       "      <td>8.679200e-90</td>\n",
       "      <td>0.020116</td>\n",
       "    </tr>\n",
       "    <tr>\n",
       "      <th>7</th>\n",
       "      <td>RotatE</td>\n",
       "      <td>BioBLP-M</td>\n",
       "      <td>5rxz3k57</td>\n",
       "      <td>1r75g9na</td>\n",
       "      <td>0.000000e+00</td>\n",
       "      <td>0.039412</td>\n",
       "    </tr>\n",
       "    <tr>\n",
       "      <th>8</th>\n",
       "      <td>RotatE</td>\n",
       "      <td>BioBLP-D</td>\n",
       "      <td>1hh20k34</td>\n",
       "      <td>38uz9fjs</td>\n",
       "      <td>0.000000e+00</td>\n",
       "      <td>0.380892</td>\n",
       "    </tr>\n",
       "  </tbody>\n",
       "</table>\n",
       "</div>"
      ],
      "text/plain": [
       "  scoring-function   encoder   base-id pretrained-id       p-value  \\\n",
       "0           TransE  BioBLP-P  t34jd63w      323hgd1c  7.163049e-02   \n",
       "1           TransE  BioBLP-M  t34jd63w      323hgd1c  7.163049e-02   \n",
       "2           TransE  BioBLP-D  13fmg5o3      hc93i87f  0.000000e+00   \n",
       "3          ComplEx  BioBLP-P  iozdy3h6      gcrqvo2u  0.000000e+00   \n",
       "4          ComplEx  BioBLP-M  iozdy3h6      gcrqvo2u  0.000000e+00   \n",
       "5          ComplEx  BioBLP-D  2j1eunto      2idgvtb9  0.000000e+00   \n",
       "6           RotatE  BioBLP-P  cttc3ucm      4o6x9h96  8.679200e-90   \n",
       "7           RotatE  BioBLP-M  5rxz3k57      1r75g9na  0.000000e+00   \n",
       "8           RotatE  BioBLP-D  1hh20k34      38uz9fjs  0.000000e+00   \n",
       "\n",
       "   mean-difference  \n",
       "0         0.001189  \n",
       "1         0.001189  \n",
       "2         0.083229  \n",
       "3         0.183499  \n",
       "4         0.183499  \n",
       "5         0.004364  \n",
       "6         0.020116  \n",
       "7         0.039412  \n",
       "8         0.380892  "
      ]
     },
     "execution_count": 4,
     "metadata": {},
     "output_type": "execute_result"
    }
   ],
   "source": [
    "df['p-value'], df['mean-difference'] = zip(*df.apply(lambda row: compare_models(row['base-id'], row['pretrained-id']), axis=1))\n",
    "df"
   ]
  },
  {
   "cell_type": "markdown",
   "metadata": {},
   "source": [
    "Lastly, we plot the results grouping by scoring function and encoder, and adding an asterisk if the p-value is less than 0.05."
   ]
  },
  {
   "cell_type": "code",
   "execution_count": 41,
   "metadata": {
    "ExecuteTime": {
     "end_time": "2023-04-18T19:14:32.855866Z",
     "start_time": "2023-04-18T19:14:32.613965Z"
    }
   },
   "outputs": [
    {
     "data": {
      "image/png": "[encoded data removed]",
      "text/plain": [
       "<Figure size 400x300 with 1 Axes>"
      ]
     },
     "metadata": {},
     "output_type": "display_data"
    }
   ],
   "source": [
    "# Group by scoring function, then by encoder, and plot the mean difference\n",
    "fig, ax = plt.subplots(figsize=(4, 3))\n",
    "df.groupby(['scoring-function', 'encoder']).mean(numeric_only=True)['mean-difference'].unstack().plot.bar(ax=ax, rot=0)\n",
    "# Place the legend outside the plot\n",
    "ax.legend(loc='upper center', bbox_to_anchor=(0.5, 1.2), ncol=3)\n",
    "\n",
    "# Iterate over the bars and add an asterisk if the p-value is less than 0.05\n",
    "for i, p in enumerate(sorted(ax.patches, key=lambda x: x.get_x())):\n",
    "    p_value = df.iloc[i]['p-value']\n",
    "    \n",
    "    if p_value < 0.05:\n",
    "        ax.annotate('*', (p.get_x() + p.get_width() / 2., p.get_height()),\n",
    "                    ha='center', va='center', fontsize=11, color='black', xytext=(0, 6),\n",
    "                    textcoords='offset points')\n",
    "\n",
    "# Set the ylim to be a bit larger than the max value\n",
    "ax.set_ylim(top=df['mean-difference'].max() + 0.05)\n",
    "ax.set_xlabel('Scoring Function')\n",
    "ax.set_ylabel('MRR difference');"
   ]
  },
  {
   "cell_type": "code",
   "execution_count": 6,
   "metadata": {
    "ExecuteTime": {
     "end_time": "2023-04-18T17:22:21.773059Z",
     "start_time": "2023-04-18T17:22:21.645610Z"
    }
   },
   "outputs": [],
   "source": [
    "fig.savefig('pretraining-significance.pdf', bbox_inches='tight')"
   ]
  }
 ],
 "metadata": {
  "kernelspec": {
   "display_name": "Python 3 (ipykernel)",
   "language": "python",
   "name": "python3"
  },
  "language_info": {
   "codemirror_mode": {
    "name": "ipython",
    "version": 3
   },
   "file_extension": ".py",
   "mimetype": "text/x-python",
   "name": "python",
   "nbconvert_exporter": "python",
   "pygments_lexer": "ipython3",
   "version": "3.9.13"
  }
 },
 "nbformat": 4,
 "nbformat_minor": 1
}
