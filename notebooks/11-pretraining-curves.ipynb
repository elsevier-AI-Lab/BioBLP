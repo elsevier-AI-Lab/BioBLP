{
 "cells": [
  {
   "cell_type": "markdown",
   "source": [
    "# Improvements from the pretraining strategy\n",
    "## Reduction in training runtime\n",
    "\n",
    "In this notebook we take a look at how much time we gain by pretraining BioBLP with a cheaper RotatE model."
   ],
   "metadata": {
    "collapsed": false
   }
  },
  {
   "cell_type": "code",
   "execution_count": 32,
   "outputs": [],
   "source": [
    "import matplotlib.pyplot as plt\n",
    "import pandas as pd\n",
    "import wandb"
   ],
   "metadata": {
    "collapsed": false,
    "ExecuteTime": {
     "start_time": "2023-04-18T18:44:18.391593Z",
     "end_time": "2023-04-18T18:44:18.413431Z"
    }
   }
  },
  {
   "cell_type": "code",
   "execution_count": 62,
   "outputs": [],
   "source": [
    "# Configure matplotlib fonts to use Helvetica Neue\n",
    "plt.rcParams['font.family'] = 'sans-serif'\n",
    "plt.rcParams['font.sans-serif'] = 'Helvetica Neue'"
   ],
   "metadata": {
    "collapsed": false,
    "ExecuteTime": {
     "start_time": "2023-04-18T19:00:25.032024Z",
     "end_time": "2023-04-18T19:00:25.073918Z"
    }
   }
  },
  {
   "cell_type": "markdown",
   "source": [
    "---"
   ],
   "metadata": {
    "collapsed": false
   }
  },
  {
   "cell_type": "markdown",
   "source": [
    "We will fetch the training data directly from Weights & Biases."
   ],
   "metadata": {
    "collapsed": false
   }
  },
  {
   "cell_type": "code",
   "execution_count": null,
   "outputs": [],
   "source": [
    "api = wandb.Api()"
   ],
   "metadata": {
    "collapsed": false
   }
  },
  {
   "cell_type": "code",
   "execution_count": 47,
   "outputs": [],
   "source": [
    "def get_run_data(run_id: str):\n",
    "    run = api.run(f'/discoverylab/bioblp/runs/{run_id}')\n",
    "    losses = run.history(pandas=True)\n",
    "    losses = losses[['loss', '_runtime', 'validation.both.realistic.inverse_harmonic_mean_rank']]\n",
    "    losses = pd.concat([pd.DataFrame({'loss': [0], '_runtime': [0], 'validation.both.realistic.inverse_harmonic_mean_rank': [0]}), losses], ignore_index=True)\n",
    "    losses = losses.rename(columns={\"validation.both.realistic.inverse_harmonic_mean_rank\": \"MRR\"})\n",
    "    losses.dropna(inplace=True)\n",
    "    losses[\"_runtime_h\"] = losses[\"_runtime\"] / 3600\n",
    "\n",
    "    return losses\n",
    "\n",
    "rotate_data = get_run_data('36viovqn')\n",
    "bioblp_pretrained_data = get_run_data('38uz9fjs')\n",
    "bioblp_base_data = get_run_data('1hh20k34')"
   ],
   "metadata": {
    "collapsed": false,
    "ExecuteTime": {
     "start_time": "2023-04-18T18:56:21.043793Z",
     "end_time": "2023-04-18T18:56:22.068985Z"
    }
   }
  },
  {
   "cell_type": "markdown",
   "source": [
    "To show the total time, we have to add the times of both RotatE and BioBLP-D."
   ],
   "metadata": {
    "collapsed": false
   }
  },
  {
   "cell_type": "code",
   "execution_count": 48,
   "outputs": [],
   "source": [
    "rotate_runtime = rotate_data['_runtime_h'].iloc[-1]\n",
    "bioblp_pretrained_data_shifted = bioblp_pretrained_data.copy()\n",
    "bioblp_pretrained_data_shifted[\"_runtime_h\"] = bioblp_pretrained_data_shifted[\"_runtime_h\"] + rotate_runtime\n",
    "# Concatenate rotate_data and bioblp_pretrained_data_shifted\n",
    "rotate_bioblp_pretrained_data = pd.concat([rotate_data, bioblp_pretrained_data_shifted.iloc[1:]], axis=0)"
   ],
   "metadata": {
    "collapsed": false,
    "ExecuteTime": {
     "start_time": "2023-04-18T18:56:25.170950Z",
     "end_time": "2023-04-18T18:56:25.193803Z"
    }
   }
  },
  {
   "cell_type": "code",
   "execution_count": 108,
   "outputs": [
    {
     "data": {
      "text/plain": "<Figure size 400x300 with 1 Axes>",
      "image/png": "[encoded data removed]"
     },
     "metadata": {},
     "output_type": "display_data"
    }
   ],
   "source": [
    "# Plot rotate_data\n",
    "fig, ax = plt.subplots(figsize=(4, 3))\n",
    "ax.plot(bioblp_base_data[\"_runtime_h\"], bioblp_base_data[\"MRR\"], label=\"BioBLP-D\")\n",
    "ax.plot(rotate_bioblp_pretrained_data[\"_runtime_h\"], rotate_bioblp_pretrained_data[\"MRR\"], label=\"BioBLP-D + pretraining\")\n",
    "\n",
    "# Show legend\n",
    "ax.legend()\n",
    "ax.set_ylim(-0.01, 0.21)\n",
    "# Set ticks every 1 hour\n",
    "ax.set_xticks(range(0, 16, 2));\n",
    "ax.set_xlabel('Training time (hours)')\n",
    "ax.set_ylabel('Validation MRR')\n",
    "# Put legend above plot\n",
    "ax.legend(loc='upper center', bbox_to_anchor=(0.5, 1.2), ncol=2)\n",
    "# Add an arrow to indicate where pretraining is finished\n",
    "ax.annotate('Pretraining finished', xy=(3.4, 0.16), xytext=(6, 0.19),\n",
    "            arrowprops=dict(facecolor='black', shrink=0.05, width=0.1, headwidth=4, headlength=6));"
   ],
   "metadata": {
    "collapsed": false,
    "ExecuteTime": {
     "start_time": "2023-04-18T19:12:53.174593Z",
     "end_time": "2023-04-18T19:12:53.352940Z"
    }
   }
  },
  {
   "cell_type": "code",
   "execution_count": 109,
   "outputs": [],
   "source": [
    "fig.savefig('pretraining-runtime.pdf', bbox_inches='tight')"
   ],
   "metadata": {
    "collapsed": false,
    "ExecuteTime": {
     "start_time": "2023-04-18T19:12:54.033283Z",
     "end_time": "2023-04-18T19:12:54.174096Z"
    }
   }
  }
 ],
 "metadata": {
  "kernelspec": {
   "display_name": "Python 3",
   "language": "python",
   "name": "python3"
  },
  "language_info": {
   "codemirror_mode": {
    "name": "ipython",
    "version": 2
   },
   "file_extension": ".py",
   "mimetype": "text/x-python",
   "name": "python",
   "nbconvert_exporter": "python",
   "pygments_lexer": "ipython2",
   "version": "2.7.6"
  }
 },
 "nbformat": 4,
 "nbformat_minor": 0
}
