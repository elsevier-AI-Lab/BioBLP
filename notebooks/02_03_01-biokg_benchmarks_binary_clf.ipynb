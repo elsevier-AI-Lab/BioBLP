{
 "cells": [
  {
   "cell_type": "code",
   "execution_count": 24,
   "id": "97ee430b",
   "metadata": {},
   "outputs": [
    {
     "name": "stdout",
     "output_type": "stream",
     "text": [
      "The autoreload extension is already loaded. To reload it, use:\n",
      "  %reload_ext autoreload\n"
     ]
    }
   ],
   "source": [
    "%load_ext autoreload\n",
    "%autoreload 2"
   ]
  },
  {
   "cell_type": "code",
   "execution_count": 25,
   "id": "a8acba93",
   "metadata": {
    "tags": []
   },
   "outputs": [],
   "source": [
    "import numpy as np\n",
    "import pandas as pd \n",
    "from pathlib import Path\n",
    "from bioblp.data import COL_EDGE, COL_SOURCE, COL_TARGET"
   ]
  },
  {
   "cell_type": "code",
   "execution_count": 26,
   "id": "41d7aa56",
   "metadata": {},
   "outputs": [],
   "source": [
    "DATA_DIR = Path('../data')\n",
    "SHARED_DIR = Path('/home/jovyan/workbench-shared-folder/bioblp/')\n",
    "SHARED_DATA_DIR = SHARED_DIR.joinpath('data')\n",
    "SHARED_MODELS_DIR = SHARED_DIR.joinpath('models/biokg')\n",
    "BENCHMARKS_DATA_DIR = SHARED_DATA_DIR.joinpath('benchmarks/transductive')"
   ]
  },
  {
   "cell_type": "code",
   "execution_count": 27,
   "id": "aeeb5538",
   "metadata": {},
   "outputs": [
    {
     "name": "stdout",
     "output_type": "stream",
     "text": [
      "ddi_efficacy.tsv  dep_fda_exp.tsv  phosphorylation.tsv\n",
      "ddi_minerals.tsv  dpi_fda.tsv\n"
     ]
    }
   ],
   "source": [
    "!ls {BENCHMARKS_DATA_DIR}/"
   ]
  },
  {
   "cell_type": "code",
   "execution_count": 28,
   "id": "e6b0fb9d-5e3f-44d8-a101-669ce65a9052",
   "metadata": {},
   "outputs": [
    {
     "name": "stdout",
     "output_type": "stream",
     "text": [
      "complex-q8laf0sn\t rotate-otxtubeb\n",
      "complex-q8laf0sn.tar.gz  rotate-otxtubeb.tar.gz\n"
     ]
    }
   ],
   "source": [
    "!ls {SHARED_MODELS_DIR}/best-vanilla-kge/"
   ]
  },
  {
   "cell_type": "markdown",
   "id": "2539a63a",
   "metadata": {
    "tags": []
   },
   "source": [
    "## Load benchmark"
   ]
  },
  {
   "cell_type": "code",
   "execution_count": 29,
   "id": "f5a36380",
   "metadata": {},
   "outputs": [],
   "source": [
    "dpi_benchmark_path = BENCHMARKS_DATA_DIR.joinpath('dpi_fda.tsv')\n",
    "biokg_triples_dir = SHARED_DATA_DIR.joinpath('graph/biokg/training_triples')"
   ]
  },
  {
   "cell_type": "code",
   "execution_count": null,
   "id": "f2182501",
   "metadata": {},
   "outputs": [
    {
     "data": {
      "text/html": [
       "<div>\n",
       "<style scoped>\n",
       "    .dataframe tbody tr th:only-of-type {\n",
       "        vertical-align: middle;\n",
       "    }\n",
       "\n",
       "    .dataframe tbody tr th {\n",
       "        vertical-align: top;\n",
       "    }\n",
       "\n",
       "    .dataframe thead th {\n",
       "        text-align: right;\n",
       "    }\n",
       "</style>\n",
       "<table border=\"1\" class=\"dataframe\">\n",
       "  <thead>\n",
       "    <tr style=\"text-align: right;\">\n",
       "      <th></th>\n",
       "      <th>src</th>\n",
       "      <th>edg</th>\n",
       "      <th>tgt</th>\n",
       "    </tr>\n",
       "  </thead>\n",
       "  <tbody>\n",
       "    <tr>\n",
       "      <th>0</th>\n",
       "      <td>DB01079</td>\n",
       "      <td>DPI</td>\n",
       "      <td>Q13639</td>\n",
       "    </tr>\n",
       "    <tr>\n",
       "      <th>1</th>\n",
       "      <td>DB00114</td>\n",
       "      <td>DPI</td>\n",
       "      <td>P20711</td>\n",
       "    </tr>\n",
       "    <tr>\n",
       "      <th>2</th>\n",
       "      <td>DB01158</td>\n",
       "      <td>DPI</td>\n",
       "      <td>P13637</td>\n",
       "    </tr>\n",
       "  </tbody>\n",
       "</table>\n",
       "</div>"
      ],
      "text/plain": [
       "       src  edg     tgt\n",
       "0  DB01079  DPI  Q13639\n",
       "1  DB00114  DPI  P20711\n",
       "2  DB01158  DPI  P13637"
      ]
     },
     "metadata": {},
     "output_type": "display_data"
    }
   ],
   "source": [
    "# sneak peek into benchmark data\n",
    "dpi_bm = pd.read_csv(dpi_benchmark_path, sep='\\t', names=[COL_SOURCE, COL_EDGE, COL_TARGET])\n",
    "dpi_bm.head(3)"
   ]
  },
  {
   "cell_type": "code",
   "execution_count": 30,
   "id": "2c689e52",
   "metadata": {},
   "outputs": [
    {
     "name": "stdout",
     "output_type": "stream",
     "text": [
      "14:12:35 - INFO - __main__ - Generating negative samples corresponding to benchmark triples\n",
      "Reconstructing all label-based triples. This is expensive and rarely needed.\n",
      "14:12:36 - INFO - __main__ - Writing preprocessed data to /home/jovyan/workbench-shared-folder/bioblp/data/benchmarks/processed/dpi_fda_p2n-1-50.tsv\n",
      "14:12:38 - INFO - __main__ - Done!\n"
     ]
    }
   ],
   "source": [
    "# can run the following from cli, project root to create the preprocessed Benchmark dataset with negative samples\n",
    "! python -m bioblp.benchmarking.preprocess --bm_data_path {dpi_benchmark_path} --num_negs_per_pos 50 --outdir /home/jovyan/workbench-shared-folder/bioblp/data --kg_triples_dir {biokg_triples_dir}\n"
   ]
  },
  {
   "cell_type": "markdown",
   "id": "c2920a8a",
   "metadata": {},
   "source": [
    "\n",
    "* [DB01079; Tegaserod](https://go.drugbank.com/drugs/DB01079)\n",
    "Tegaserod is a serotonin-4 (5-HT4) receptor agonist indicated for the treatment of constipation predominant irritable bowel syndrome (IBS-C) specifically in women under the age of 65. There is currently no safety or efficacy data for use of tegaserol in men.\n",
    "\n",
    "* https://www.uniprot.org/uniprotkb/Q13639/entry"
   ]
  },
  {
   "cell_type": "code",
   "execution_count": 31,
   "id": "d40231f3-0055-40f1-b0c3-e6e337e69430",
   "metadata": {},
   "outputs": [
    {
     "name": "stdout",
     "output_type": "stream",
     "text": [
      "# total dpi instances (TP): 18678\n",
      "# Unique Drugs: 2167\n",
      "# Unique Proteins: 2573\n"
     ]
    }
   ],
   "source": [
    "dpi_drugs_unique = list(dpi_bm.src.unique())\n",
    "dpi_prots_unique = list(dpi_bm.tgt.unique())\n",
    "print(f'# total dpi instances (TP): {len(dpi_bm)}')\n",
    "print(f'# Unique Drugs: {len(dpi_drugs_unique)}')\n",
    "print(f'# Unique Proteins: {len(dpi_prots_unique)}')\n"
   ]
  },
  {
   "cell_type": "markdown",
   "id": "27bf7bbc-4075-40b4-b10e-f99a82e89cde",
   "metadata": {
    "tags": []
   },
   "source": [
    "## Prepare Data for ML\n",
    "\n",
    "This featurizes the training dataset (preprocessed benchmark dataset which includes negative samples) for the downstream DPI task, using a featurizer of choice.\n",
    "Possible featurizing methods include KGEM (vanilla vs bioblp, etc), random noise embedders, or domain-knowledge based embeddings"
   ]
  },
  {
   "cell_type": "code",
   "execution_count": 36,
   "id": "7a30c44a",
   "metadata": {},
   "outputs": [
    {
     "data": {
      "text/plain": [
       "'/home/jovyan/workbench-shared-folder/bioblp/data/benchmarks/processed/dpi_benchmark_p2n-1-10.tsv'"
      ]
     },
     "execution_count": 36,
     "metadata": {},
     "output_type": "execute_result"
    }
   ],
   "source": [
    "model_dir = f'{SHARED_MODELS_DIR}/best-vanilla-kge/rotate-otxtubeb'\n",
    "processed_bm_path = f'{SHARED_DATA_DIR}/benchmarks/processed/dpi_benchmark_p2n-1-10.tsv'\n",
    "JOINT_TRANSFORM_OPERATOR = 'average'\n",
    "processed_bm_path"
   ]
  },
  {
   "cell_type": "code",
   "execution_count": 37,
   "id": "24573ebe-658f-4b4a-b384-2c856fa9183e",
   "metadata": {},
   "outputs": [
    {
     "name": "stdout",
     "output_type": "stream",
     "text": [
      "14:25:26 - INFO - __main__ - Loading trained model from /home/jovyan/workbench-shared-folder/bioblp/models/biokg/best-vanilla-kge/rotate-otxtubeb\n",
      "14:25:27 - INFO - __main__ - Mapping entities to KG identifiers\n",
      "14:25:27 - INFO - __main__ - Applying transformation function to retrieve joint encoding for entity pair\n",
      "14:25:32 - INFO - __main__ - Saved featurized instances and correponding labels y to ../data/features/average/20221019-142528\n"
     ]
    }
   ],
   "source": [
    "! python -m bioblp.benchmarking.featurize -i {processed_bm_path} -o {DATA_DIR}/features/ -t kgem -m {model_dir} -j {JOINT_TRANSFORM_OPERATOR} "
   ]
  },
  {
   "cell_type": "markdown",
   "id": "f97af537-f67e-40c4-bf32-2d0996543afb",
   "metadata": {},
   "source": [
    "## Train ML model for binary clf"
   ]
  },
  {
   "cell_type": "code",
   "execution_count": 44,
   "id": "8a4ece80",
   "metadata": {},
   "outputs": [
    {
     "name": "stdout",
     "output_type": "stream",
     "text": [
      "1666182344-wyk4hj2v.csv  nested_cv_scores_1666182344.npy\n",
      "1666184724-0a77ov0m.csv\n"
     ]
    }
   ],
   "source": [
    "xy_featurized_data_dir = f'{DATA_DIR}/features/average/20221019-142528'\n",
    "out_clf_dir = f'{DATA_DIR}/benchmarks/models'\n",
    "! ls {out_clf_dir}"
   ]
  },
  {
   "cell_type": "code",
   "execution_count": 49,
   "id": "ba1c96db",
   "metadata": {},
   "outputs": [
    {
     "name": "stdout",
     "output_type": "stream",
     "text": [
      "14:45:12 - INFO - __main__ - Starting model building script at 1666190712.953394.\n",
      "14:45:12 - INFO - __main__ - Loading training data...\n",
      "14:45:13 - INFO - __main__ - Resulting shapes X_train: (205458, 512), y_train: (205458,)\n",
      "14:45:13 - INFO - __main__ - Counts in y_train: (array([0, 1]), array([186780,  18678]))\n",
      "\u001b[32m[I 2022-10-19 14:45:13,139]\u001b[0m A new study created in memory with name: j93kyuxa-RF-0\u001b[0m\n",
      "/home/jovyan/BioBLP/bioblp/benchmarking/train.py:429: ExperimentalWarning: WeightsAndBiasesCallback is experimental (supported from v2.9.0). The interface can change in the future.\n",
      "  wandb_callback = WeightsAndBiasesCallback(\n",
      "[Parallel(n_jobs=-1)]: Using backend LokyBackend with 8 concurrent workers.\n",
      "[CV] START .....................................................................\n",
      "[CV] START .....................................................................\n"
     ]
    }
   ],
   "source": [
    "! python -m bioblp.benchmarking.train --data_dir {xy_featurized_data_dir} --outdir {out_clf_dir} --inner_n_folds 2 --outer_n_folds 2 --candidate_algo_list RF LR"
   ]
  },
  {
   "cell_type": "markdown",
   "id": "a383ba8f",
   "metadata": {},
   "source": [
    "### older stuff"
   ]
  },
  {
   "cell_type": "code",
   "execution_count": 22,
   "id": "f279125c-50b6-46f7-89da-8e20a4fd3e5e",
   "metadata": {},
   "outputs": [],
   "source": [
    "from sklearn.model_selection import train_test_split\n",
    "from sklearn.linear_model import LogisticRegression"
   ]
  },
  {
   "cell_type": "code",
   "execution_count": 44,
   "id": "24680801-3b6b-42a5-b081-d597a10b55c6",
   "metadata": {},
   "outputs": [],
   "source": [
    "x_train, x_test, y_train, y_test = train_test_split(X, y, test_size=0.1, \n",
    "                                                    random_state=0, shuffle=True)"
   ]
  },
  {
   "cell_type": "code",
   "execution_count": 45,
   "id": "64269bb9-4b0e-4b3d-b34c-c95f92d83569",
   "metadata": {},
   "outputs": [
    {
     "data": {
      "text/html": [
       "<style>#sk-container-id-2 {color: black;background-color: white;}#sk-container-id-2 pre{padding: 0;}#sk-container-id-2 div.sk-toggleable {background-color: white;}#sk-container-id-2 label.sk-toggleable__label {cursor: pointer;display: block;width: 100%;margin-bottom: 0;padding: 0.3em;box-sizing: border-box;text-align: center;}#sk-container-id-2 label.sk-toggleable__label-arrow:before {content: \"▸\";float: left;margin-right: 0.25em;color: #696969;}#sk-container-id-2 label.sk-toggleable__label-arrow:hover:before {color: black;}#sk-container-id-2 div.sk-estimator:hover label.sk-toggleable__label-arrow:before {color: black;}#sk-container-id-2 div.sk-toggleable__content {max-height: 0;max-width: 0;overflow: hidden;text-align: left;background-color: #f0f8ff;}#sk-container-id-2 div.sk-toggleable__content pre {margin: 0.2em;color: black;border-radius: 0.25em;background-color: #f0f8ff;}#sk-container-id-2 input.sk-toggleable__control:checked~div.sk-toggleable__content {max-height: 200px;max-width: 100%;overflow: auto;}#sk-container-id-2 input.sk-toggleable__control:checked~label.sk-toggleable__label-arrow:before {content: \"▾\";}#sk-container-id-2 div.sk-estimator input.sk-toggleable__control:checked~label.sk-toggleable__label {background-color: #d4ebff;}#sk-container-id-2 div.sk-label input.sk-toggleable__control:checked~label.sk-toggleable__label {background-color: #d4ebff;}#sk-container-id-2 input.sk-hidden--visually {border: 0;clip: rect(1px 1px 1px 1px);clip: rect(1px, 1px, 1px, 1px);height: 1px;margin: -1px;overflow: hidden;padding: 0;position: absolute;width: 1px;}#sk-container-id-2 div.sk-estimator {font-family: monospace;background-color: #f0f8ff;border: 1px dotted black;border-radius: 0.25em;box-sizing: border-box;margin-bottom: 0.5em;}#sk-container-id-2 div.sk-estimator:hover {background-color: #d4ebff;}#sk-container-id-2 div.sk-parallel-item::after {content: \"\";width: 100%;border-bottom: 1px solid gray;flex-grow: 1;}#sk-container-id-2 div.sk-label:hover label.sk-toggleable__label {background-color: #d4ebff;}#sk-container-id-2 div.sk-serial::before {content: \"\";position: absolute;border-left: 1px solid gray;box-sizing: border-box;top: 0;bottom: 0;left: 50%;z-index: 0;}#sk-container-id-2 div.sk-serial {display: flex;flex-direction: column;align-items: center;background-color: white;padding-right: 0.2em;padding-left: 0.2em;position: relative;}#sk-container-id-2 div.sk-item {position: relative;z-index: 1;}#sk-container-id-2 div.sk-parallel {display: flex;align-items: stretch;justify-content: center;background-color: white;position: relative;}#sk-container-id-2 div.sk-item::before, #sk-container-id-2 div.sk-parallel-item::before {content: \"\";position: absolute;border-left: 1px solid gray;box-sizing: border-box;top: 0;bottom: 0;left: 50%;z-index: -1;}#sk-container-id-2 div.sk-parallel-item {display: flex;flex-direction: column;z-index: 1;position: relative;background-color: white;}#sk-container-id-2 div.sk-parallel-item:first-child::after {align-self: flex-end;width: 50%;}#sk-container-id-2 div.sk-parallel-item:last-child::after {align-self: flex-start;width: 50%;}#sk-container-id-2 div.sk-parallel-item:only-child::after {width: 0;}#sk-container-id-2 div.sk-dashed-wrapped {border: 1px dashed gray;margin: 0 0.4em 0.5em 0.4em;box-sizing: border-box;padding-bottom: 0.4em;background-color: white;}#sk-container-id-2 div.sk-label label {font-family: monospace;font-weight: bold;display: inline-block;line-height: 1.2em;}#sk-container-id-2 div.sk-label-container {text-align: center;}#sk-container-id-2 div.sk-container {/* jupyter's `normalize.less` sets `[hidden] { display: none; }` but bootstrap.min.css set `[hidden] { display: none !important; }` so we also need the `!important` here to be able to override the default hidden behavior on the sphinx rendered scikit-learn.org. See: https://github.com/scikit-learn/scikit-learn/issues/21755 */display: inline-block !important;position: relative;}#sk-container-id-2 div.sk-text-repr-fallback {display: none;}</style><div id=\"sk-container-id-2\" class=\"sk-top-container\"><div class=\"sk-text-repr-fallback\"><pre>LogisticRegression(max_iter=300)</pre><b>In a Jupyter environment, please rerun this cell to show the HTML representation or trust the notebook. <br />On GitHub, the HTML representation is unable to render, please try loading this page with nbviewer.org.</b></div><div class=\"sk-container\" hidden><div class=\"sk-item\"><div class=\"sk-estimator sk-toggleable\"><input class=\"sk-toggleable__control sk-hidden--visually\" id=\"sk-estimator-id-2\" type=\"checkbox\" checked><label for=\"sk-estimator-id-2\" class=\"sk-toggleable__label sk-toggleable__label-arrow\">LogisticRegression</label><div class=\"sk-toggleable__content\"><pre>LogisticRegression(max_iter=300)</pre></div></div></div></div></div>"
      ],
      "text/plain": [
       "LogisticRegression(max_iter=300)"
      ]
     },
     "execution_count": 45,
     "metadata": {},
     "output_type": "execute_result"
    }
   ],
   "source": [
    "lr = LogisticRegression(max_iter=300)\n",
    "lr.fit(x_train, y_train)"
   ]
  },
  {
   "cell_type": "code",
   "execution_count": 48,
   "id": "90fe2a80-f419-4efd-b346-384507e2f611",
   "metadata": {},
   "outputs": [],
   "source": [
    "# predictions\n",
    "y_testpred = lr.predict(x_test)"
   ]
  },
  {
   "cell_type": "code",
   "execution_count": 49,
   "id": "db6b9187-f680-4668-a9f1-63f147ac768a",
   "metadata": {},
   "outputs": [
    {
     "name": "stdout",
     "output_type": "stream",
     "text": [
      "Insample accuracy: 0.9551786795881284\n",
      "Test accuracy: 0.953762289496739\n"
     ]
    }
   ],
   "source": [
    "# score\n",
    "# Use score method to get accuracy of model\n",
    "insample_acc= lr.score(x_train, y_train)\n",
    "test_acc = lr.score(x_test, y_test)\n",
    "print(f\"Insample accuracy: {insample_acc}\")\n",
    "print(f\"Test accuracy: {test_acc}\")"
   ]
  },
  {
   "cell_type": "markdown",
   "id": "4d55477e-ba93-4883-84b1-b40ea93b9fc3",
   "metadata": {},
   "source": [
    "#### confusion matrix"
   ]
  },
  {
   "cell_type": "code",
   "execution_count": 50,
   "id": "957adaf1-7954-4158-a37c-5d310521917f",
   "metadata": {},
   "outputs": [],
   "source": [
    "import matplotlib.pyplot as plt\n",
    "import seaborn as sns\n",
    "from sklearn import metrics"
   ]
  },
  {
   "cell_type": "code",
   "execution_count": 51,
   "id": "59459693-1bff-4e82-ba50-5026e67665eb",
   "metadata": {},
   "outputs": [
    {
     "data": {
      "text/plain": [
       "'              precision    recall  f1-score   support\\n\\n           0       0.97      0.98      0.97     18714\\n           1       0.78      0.67      0.72      1832\\n\\n    accuracy                           0.95     20546\\n   macro avg       0.87      0.83      0.85     20546\\nweighted avg       0.95      0.95      0.95     20546\\n'"
      ]
     },
     "execution_count": 51,
     "metadata": {},
     "output_type": "execute_result"
    }
   ],
   "source": [
    "metrics.classification_report(y_test, y_testpred)"
   ]
  },
  {
   "cell_type": "code",
   "execution_count": 52,
   "id": "5b29051a-cdc3-40b1-99d2-c957d3a8606d",
   "metadata": {},
   "outputs": [
    {
     "name": "stdout",
     "output_type": "stream",
     "text": [
      "              precision    recall  f1-score   support\n",
      "\n",
      "           0       0.97      0.98      0.97     18714\n",
      "           1       0.78      0.67      0.72      1832\n",
      "\n",
      "    accuracy                           0.95     20546\n",
      "   macro avg       0.87      0.83      0.85     20546\n",
      "weighted avg       0.95      0.95      0.95     20546\n",
      "\n"
     ]
    }
   ],
   "source": [
    "print(metrics.classification_report(y_test, y_testpred))"
   ]
  },
  {
   "cell_type": "code",
   "execution_count": 53,
   "id": "c89c5e05-5dc3-4cc5-8389-53344d7f4ba6",
   "metadata": {},
   "outputs": [
    {
     "name": "stdout",
     "output_type": "stream",
     "text": [
      "[[18363   351]\n",
      " [  599  1233]]\n"
     ]
    }
   ],
   "source": [
    "cm = metrics.confusion_matrix(y_test, y_testpred)\n",
    "print(cm)"
   ]
  },
  {
   "cell_type": "code",
   "execution_count": 54,
   "id": "af29ed94-3b8e-464d-9e00-0e40d81a771e",
   "metadata": {},
   "outputs": [
    {
     "name": "stdout",
     "output_type": "stream",
     "text": [
      "[[18363   351]\n",
      " [  599  1233]]\n"
     ]
    }
   ],
   "source": [
    "cm_best = metrics.confusion_matrix(y_test, y_testpred)\n",
    "print(cm_best)"
   ]
  },
  {
   "cell_type": "code",
   "execution_count": 55,
   "id": "1e203525-82c8-4976-a218-24b2099d83f2",
   "metadata": {},
   "outputs": [
    {
     "data": {
      "image/png": "[encoded data removed]",
      "text/plain": [
       "<Figure size 360x360 with 2 Axes>"
      ]
     },
     "metadata": {
      "needs_background": "light"
     },
     "output_type": "display_data"
    }
   ],
   "source": [
    "plt.figure(figsize=(5,5))\n",
    "sns.heatmap(cm, annot=True, fmt=\".3f\", linewidths=.5, square = True, cmap = 'Blues_r');\n",
    "plt.ylabel('Actual label');\n",
    "plt.xlabel('Predicted label');\n",
    "all_sample_title = 'Accuracy Score: {0}'.format(test_acc)\n",
    "plt.title(all_sample_title, size = 15);"
   ]
  },
  {
   "cell_type": "code",
   "execution_count": 57,
   "id": "98c6faf4-ddb2-48ff-ab34-447cbcb8e0e9",
   "metadata": {},
   "outputs": [
    {
     "data": {
      "image/png": "[encoded data removed]",
      "text/plain": [
       "<Figure size 432x288 with 1 Axes>"
      ]
     },
     "metadata": {
      "needs_background": "light"
     },
     "output_type": "display_data"
    }
   ],
   "source": [
    "import matplotlib.pyplot as plt\n",
    "from sklearn.metrics import RocCurveDisplay\n",
    "RocCurveDisplay.from_predictions(y_test, y_testpred)\n",
    "plt.show()"
   ]
  },
  {
   "cell_type": "code",
   "execution_count": 59,
   "id": "c1e77300-2b79-459a-861b-5cecc900a621",
   "metadata": {},
   "outputs": [
    {
     "data": {
      "image/png": "[encoded data removed]",
      "text/plain": [
       "<Figure size 432x288 with 1 Axes>"
      ]
     },
     "metadata": {
      "needs_background": "light"
     },
     "output_type": "display_data"
    }
   ],
   "source": [
    "from sklearn.metrics import PrecisionRecallDisplay\n",
    "\n",
    "display = PrecisionRecallDisplay.from_estimator(\n",
    "    lr, x_test, y_test, name=\"Logistic regression\"\n",
    ")\n",
    "_ = display.ax_.set_title(\"2-class Precision-Recall curve\")"
   ]
  },
  {
   "cell_type": "code",
   "execution_count": null,
   "id": "2591d372-dcb6-4a05-8528-bc347c4a69a6",
   "metadata": {},
   "outputs": [],
   "source": []
  }
 ],
 "metadata": {
  "kernelspec": {
   "display_name": "Python 3.8.13 ('bioblp-env': conda)",
   "language": "python",
   "name": "python3"
  },
  "language_info": {
   "codemirror_mode": {
    "name": "ipython",
    "version": 3
   },
   "file_extension": ".py",
   "mimetype": "text/x-python",
   "name": "python",
   "nbconvert_exporter": "python",
   "pygments_lexer": "ipython3",
   "version": "3.8.13"
  },
  "vscode": {
   "interpreter": {
    "hash": "c313b0b0929f94c03130caa81adcdac46c3c408d7f1caca6c1104b192c16f937"
   }
  }
 },
 "nbformat": 4,
 "nbformat_minor": 5
}
