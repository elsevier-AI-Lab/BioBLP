{
 "cells": [
  {
   "cell_type": "markdown",
   "id": "f8467842-5b37-4dc9-83f0-a684ed4a5fdd",
   "metadata": {},
   "source": [
    "# Run nested CV routine"
   ]
  },
  {
   "cell_type": "code",
   "execution_count": null,
   "id": "259edda9-e110-4e05-b1de-2965c45ef58b",
   "metadata": {},
   "outputs": [],
   "source": [
    "import random\n",
    "\n",
    "import pandas as pd\n",
    "import numpy as np\n",
    "\n",
    "from bioblp.data import COL_EDGE, COL_SOURCE, COL_TARGET\n",
    "from bioblp.logging import get_logger\n",
    "import torch\n",
    "\n",
    "\n",
    "logger = get_logger(__name__)\n"
   ]
  },
  {
   "cell_type": "code",
   "execution_count": null,
   "id": "134fd3c5",
   "metadata": {},
   "outputs": [],
   "source": [
    "DATA_DIR = Path(\"../data/\")\n",
    "DATA_SHARED = Path(\"/home/jovyan/workbench-shared-folder/bioblp\")"
   ]
  },
  {
   "cell_type": "code",
   "execution_count": null,
   "id": "eee761be",
   "metadata": {},
   "outputs": [],
   "source": [
    "from time import time\n",
    "from pathlib import Path\n",
    "from collections import defaultdict\n",
    "\n",
    "from bioblp.benchmarking.train import run_nested_cv\n",
    "from bioblp.benchmarking.train import get_scorers\n",
    "\n"
   ]
  },
  {
   "cell_type": "code",
   "execution_count": null,
   "id": "326edf30",
   "metadata": {},
   "outputs": [],
   "source": [
    "\"\"\"Perform train run\"\"\"\n",
    "\n",
    "# reproducibility\n",
    "# SEED is set as global\n",
    "shuffle = True\n",
    "refit_params = [\"AUCPR\", \"AUCROC\"]\n",
    "\n",
    "data_dir = Path(\"../data/features/kge-1baon0eg/\")\n",
    "out_dir = Path(\"../data/runs/\")\n",
    "\n",
    "n_proc = 1\n",
    "n_iter = 2\n",
    "inner_n_folds = 3\n",
    "outer_n_folds = 5\n",
    "\n",
    "exp_output = defaultdict(dict)\n",
    "exp_output[\"config\"] = {\n",
    "    \"n_proc\": n_proc,\n",
    "    \"n_iter\": n_iter,\n",
    "    \"inner_n_folds\": inner_n_folds,\n",
    "    \"outer_n_folds\": outer_n_folds,\n",
    "    \"data_dir\": data_dir,\n",
    "    \"seed\": SEED,\n",
    "    \"shuffle\": shuffle\n",
    "}\n",
    "\n",
    "start = time()\n",
    "run_timestamp = int(start)\n",
    "\n",
    "logger.info(\"Starting model building script at {}.\".format(start))\n",
    "\n",
    "############\n",
    "# Load data\n",
    "############\n",
    "logger.info(\"Loading training data...\")\n",
    "\n",
    "X_train = np.load(data_dir.joinpath(\"X.npy\"))\n",
    "y_train = np.load(data_dir.joinpath(\"y.npy\"))\n",
    "\n",
    "logger.info(\n",
    "    \"Resulting shapes X_train: {}, y_train: {}\".format(\n",
    "        X_train.shape, y_train.shape)\n",
    ")\n",
    "logger.info(\"Counts in y_train: {}\".format(\n",
    "    np.unique(y_train, return_counts=True)))\n",
    "\n",
    "############\n",
    "# Setup classifiers & pipelines\n",
    "############\n",
    "\n",
    "lr_label = \"LR\"\n",
    "rf_label = \"RF\"\n",
    "MLP_label = \"MLP\"\n",
    "\n",
    "############\n",
    "# Compare models\n",
    "############\n",
    "\n",
    "candidates = [\n",
    "    lr_label,\n",
    "    # rf_label,\n",
    "    # MLP_label\n",
    "\n",
    "]\n",
    "\n",
    "scorer = get_scorers()\n",
    "\n",
    "nested_cv_scores = run_nested_cv(\n",
    "    candidates=candidates,\n",
    "    X=X_train,\n",
    "    y=y_train,\n",
    "    scoring=scorer,\n",
    "    inner_n_folds=inner_n_folds,\n",
    "    inner_n_iter=n_iter,\n",
    "    outer_n_folds=outer_n_folds,\n",
    "    shuffle=shuffle,\n",
    "    n_jobs=n_proc,\n",
    "    refit_params=refit_params,\n",
    "    random_state=SEED,\n",
    "    outdir=out_dir,\n",
    "    timestamp=run_timestamp\n",
    ")\n",
    "\n",
    "for algo, scores in nested_cv_scores.items():\n",
    "    logger.info(\"Scores {}: {}\".format(algo, scores))\n",
    "\n",
    "exp_output[\"results\"] = nested_cv_scores\n",
    "\n",
    "logger.info(exp_output)\n",
    "\n",
    "file_out = out_dir.joinpath(\n",
    "    \"nested_cv_scores_{}.npy\".format(run_timestamp))\n",
    "logger.info(\"Saving to {}\".format(file_out))\n",
    "np.save(file_out, exp_output)\n",
    "\n",
    "end = time()\n",
    "\n",
    "logger.info(\"Ran script in {} seconds\".format(str(end - start)))"
   ]
  },
  {
   "cell_type": "markdown",
   "id": "703ff89a-dd11-4fb0-bdcb-87e9fa41e20a",
   "metadata": {},
   "source": [
    "_____"
   ]
  },
  {
   "cell_type": "code",
   "execution_count": null,
   "id": "a6594c30-e73d-4214-989c-54512bef0e5b",
   "metadata": {},
   "outputs": [],
   "source": []
  },
  {
   "cell_type": "code",
   "execution_count": null,
   "id": "df67346c-124a-49ec-9cfe-913d273f66c2",
   "metadata": {},
   "outputs": [],
   "source": []
  },
  {
   "cell_type": "code",
   "execution_count": null,
   "id": "58d97f92-0a46-4bd0-92be-7124e6c91768",
   "metadata": {},
   "outputs": [],
   "source": []
  }
 ],
 "metadata": {
  "kernelspec": {
   "display_name": ".conda-bioblp-env [Python]",
   "language": "python",
   "name": "conda-env-.conda-bioblp-env-py"
  },
  "language_info": {
   "codemirror_mode": {
    "name": "ipython",
    "version": 3
   },
   "file_extension": ".py",
   "mimetype": "text/x-python",
   "name": "python",
   "nbconvert_exporter": "python",
   "pygments_lexer": "ipython3",
   "version": "3.9.13"
  },
  "vscode": {
   "interpreter": {
    "hash": "c313b0b0929f94c03130caa81adcdac46c3c408d7f1caca6c1104b192c16f937"
   }
  }
 },
 "nbformat": 4,
 "nbformat_minor": 5
}
