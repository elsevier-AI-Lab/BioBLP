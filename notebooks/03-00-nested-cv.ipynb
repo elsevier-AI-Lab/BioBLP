{
 "cells": [
  {
   "cell_type": "markdown",
   "id": "f8467842-5b37-4dc9-83f0-a684ed4a5fdd",
   "metadata": {},
   "source": [
    "# Stuff"
   ]
  },
  {
   "cell_type": "code",
   "execution_count": 3,
   "id": "259edda9-e110-4e05-b1de-2965c45ef58b",
   "metadata": {},
   "outputs": [],
   "source": [
    "import random\n",
    "\n",
    "import pandas as pd\n",
    "import numpy as np\n",
    "from pathlib import Path\n",
    "\n",
    "from bioblp.data import COL_EDGE, COL_SOURCE, COL_TARGET\n",
    "from bioblp.logging import get_logger\n",
    "import torch\n",
    "\n",
    "\n",
    "logger = get_logger(__name__)\n"
   ]
  },
  {
   "cell_type": "code",
   "execution_count": 2,
   "id": "1dc6ab8b-3dd2-44a0-bdeb-cbc1652f127f",
   "metadata": {},
   "outputs": [
    {
     "data": {
      "text/plain": [
       "array([1.e-04, 1.e-03, 1.e-02, 1.e-01, 1.e+00, 1.e+01, 1.e+02, 1.e+03])"
      ]
     },
     "execution_count": 2,
     "metadata": {},
     "output_type": "execute_result"
    }
   ],
   "source": [
    "np.logspace(-4, 3, 8)"
   ]
  },
  {
   "cell_type": "code",
   "execution_count": 2,
   "id": "134fd3c5",
   "metadata": {},
   "outputs": [],
   "source": [
    "DATA_DIR = Path(\"../data/\")\n",
    "DATA_SHARED = Path(\"/home/jovyan/workbench-shared-folder/bioblp\")"
   ]
  },
  {
   "cell_type": "code",
   "execution_count": 3,
   "id": "33d5ea17",
   "metadata": {},
   "outputs": [],
   "source": [
    "dpi_benchmark_path = DATA_SHARED.joinpath('data/benchmarks/benchmarks/dpi_fda.tsv')"
   ]
  },
  {
   "cell_type": "code",
   "execution_count": 4,
   "id": "099a1504",
   "metadata": {},
   "outputs": [
    {
     "data": {
      "text/html": [
       "<div>\n",
       "<style scoped>\n",
       "    .dataframe tbody tr th:only-of-type {\n",
       "        vertical-align: middle;\n",
       "    }\n",
       "\n",
       "    .dataframe tbody tr th {\n",
       "        vertical-align: top;\n",
       "    }\n",
       "\n",
       "    .dataframe thead th {\n",
       "        text-align: right;\n",
       "    }\n",
       "</style>\n",
       "<table border=\"1\" class=\"dataframe\">\n",
       "  <thead>\n",
       "    <tr style=\"text-align: right;\">\n",
       "      <th></th>\n",
       "      <th>src</th>\n",
       "      <th>edg</th>\n",
       "      <th>tgt</th>\n",
       "    </tr>\n",
       "  </thead>\n",
       "  <tbody>\n",
       "    <tr>\n",
       "      <th>0</th>\n",
       "      <td>DB01079</td>\n",
       "      <td>DPI</td>\n",
       "      <td>Q13639</td>\n",
       "    </tr>\n",
       "    <tr>\n",
       "      <th>1</th>\n",
       "      <td>DB00114</td>\n",
       "      <td>DPI</td>\n",
       "      <td>P20711</td>\n",
       "    </tr>\n",
       "    <tr>\n",
       "      <th>2</th>\n",
       "      <td>DB01158</td>\n",
       "      <td>DPI</td>\n",
       "      <td>P13637</td>\n",
       "    </tr>\n",
       "  </tbody>\n",
       "</table>\n",
       "</div>"
      ],
      "text/plain": [
       "       src  edg     tgt\n",
       "0  DB01079  DPI  Q13639\n",
       "1  DB00114  DPI  P20711\n",
       "2  DB01158  DPI  P13637"
      ]
     },
     "execution_count": 4,
     "metadata": {},
     "output_type": "execute_result"
    }
   ],
   "source": [
    "dpi_bm = pd.read_csv(dpi_benchmark_path, sep='\\t', names=[COL_SOURCE, COL_EDGE, COL_TARGET])\n",
    "dpi_bm.head(3)"
   ]
  },
  {
   "cell_type": "code",
   "execution_count": null,
   "id": "876f9f09",
   "metadata": {},
   "outputs": [],
   "source": []
  },
  {
   "cell_type": "code",
   "execution_count": 5,
   "id": "b220f7aa",
   "metadata": {},
   "outputs": [
    {
     "data": {
      "text/plain": [
       "19161"
      ]
     },
     "execution_count": 5,
     "metadata": {},
     "output_type": "execute_result"
    }
   ],
   "source": [
    "len(dpi_bm)"
   ]
  },
  {
   "cell_type": "code",
   "execution_count": 6,
   "id": "6943fc39",
   "metadata": {},
   "outputs": [],
   "source": [
    "from typing import List\n",
    "\n",
    "ent2id_map = pd.read_csv(DATA_SHARED.joinpath(\"models/1baon0eg/training_triples/entity_to_id.tsv.gz\"), sep=\"\\t\", compression=\"gzip\")\n",
    "ent2id_map = {v[1]: v[0] for v in ent2id_map.values}\n",
    "\n",
    "def get_ent_ids_for_entity_list(entity_list: List[str], ent2id_map):\n",
    "    ids = [ent2id_map.get(ent) for ent in entity_list]\n",
    "    return ids"
   ]
  },
  {
   "cell_type": "code",
   "execution_count": 7,
   "id": "c42a0412",
   "metadata": {},
   "outputs": [
    {
     "name": "stdout",
     "output_type": "stream",
     "text": [
      "Loading trained model from /home/jovyan/workbench-shared-folder/bioblp/models/1baon0eg\n"
     ]
    }
   ],
   "source": [
    "\n",
    "model_dir = DATA_SHARED.joinpath('models/1baon0eg')\n",
    "print(f'Loading trained model from {model_dir}')\n",
    "device = torch.device('cuda' if torch.cuda.is_available() else 'cpu')\n",
    "model = torch.load(model_dir.joinpath(f\"trained_model.pkl\"), map_location=device)\n",
    "#if not torch.cuda.is_available():\n",
    "#    model.device = 'cpu'"
   ]
  },
  {
   "cell_type": "code",
   "execution_count": 8,
   "id": "ba5e7770",
   "metadata": {},
   "outputs": [
    {
     "data": {
      "text/plain": [
       "Embedding(106339, 512)"
      ]
     },
     "execution_count": 8,
     "metadata": {},
     "output_type": "execute_result"
    }
   ],
   "source": [
    "entity_representation = model.entity_representations[0]._embeddings\n",
    "relation_representation = model.relation_representations[0]._embeddings\n",
    "entity_representation"
   ]
  },
  {
   "cell_type": "code",
   "execution_count": null,
   "id": "42cafa18-cf21-4381-baaa-021b86665430",
   "metadata": {},
   "outputs": [],
   "source": []
  },
  {
   "cell_type": "code",
   "execution_count": null,
   "id": "81e62469-426d-4694-b9c4-dd8040d037ad",
   "metadata": {},
   "outputs": [],
   "source": []
  },
  {
   "cell_type": "code",
   "execution_count": 9,
   "id": "9d19ef1c",
   "metadata": {},
   "outputs": [],
   "source": [
    "dpi_bm_drugs = list(dpi_bm.src.values)\n",
    "drug_ids = get_ent_ids_for_entity_list(dpi_bm_drugs, ent2id_map)\n",
    "\n",
    "drug_ids = torch.LongTensor(drug_ids)\n",
    "#drug_embs = model.entity_representations[0](drug_ids)\n",
    "drug_embs = model.entity_representations[0]._embeddings(drug_ids)"
   ]
  },
  {
   "cell_type": "code",
   "execution_count": 10,
   "id": "07e6bc12",
   "metadata": {},
   "outputs": [],
   "source": [
    "dpi_bm_prots = list(dpi_bm.tgt.values)\n",
    "prot_ids = get_ent_ids_for_entity_list(dpi_bm_prots, ent2id_map)   \n",
    "prot_ids = torch.LongTensor(prot_ids)\n",
    "prot_embs = model.entity_representations[0]._embeddings(prot_ids)"
   ]
  },
  {
   "cell_type": "code",
   "execution_count": 11,
   "id": "2a0cd2f9",
   "metadata": {},
   "outputs": [
    {
     "data": {
      "text/plain": [
       "(torch.Size([19161, 512]), torch.Size([19161, 512]))"
      ]
     },
     "execution_count": 11,
     "metadata": {},
     "output_type": "execute_result"
    }
   ],
   "source": [
    "drug_embs.shape, prot_embs.shape\n"
   ]
  },
  {
   "cell_type": "code",
   "execution_count": 12,
   "id": "2f016b64",
   "metadata": {},
   "outputs": [],
   "source": [
    "from collections.abc import Callable\n",
    "\n",
    "def concatenate(emb1, emb2):\n",
    "    out = torch.cat((emb1, emb2), dim=1)\n",
    "    return out\n",
    "\n",
    "def average(emb1, emb2):\n",
    "    concat = torch.cat((emb1, emb2), dim=0).view(2, -1)\n",
    "    out = torch.stack((emb1, emb2)).mean(dim=0).view(1,-1)\n",
    "    return out\n",
    "\n",
    "def encode_entity_pair(emb1, emb2, transform:Callable):\n",
    "    return transform(emb1, emb2)\n"
   ]
  },
  {
   "cell_type": "code",
   "execution_count": 13,
   "id": "314b735a",
   "metadata": {},
   "outputs": [],
   "source": [
    "X = encode_entity_pair(emb1=drug_embs, emb2=prot_embs, transform=concatenate)\n"
   ]
  },
  {
   "cell_type": "code",
   "execution_count": 14,
   "id": "ab01223c",
   "metadata": {},
   "outputs": [
    {
     "data": {
      "text/plain": [
       "torch.Size([19161, 1024])"
      ]
     },
     "execution_count": 14,
     "metadata": {},
     "output_type": "execute_result"
    }
   ],
   "source": [
    "X.shape"
   ]
  },
  {
   "cell_type": "code",
   "execution_count": 15,
   "id": "eae17728-4326-486a-82a9-0384635962ce",
   "metadata": {},
   "outputs": [],
   "source": [
    "Y = torch.ones((X.shape[0],))"
   ]
  },
  {
   "cell_type": "code",
   "execution_count": 17,
   "id": "cae85c9f-60c4-46d1-8a2b-591d35597ef6",
   "metadata": {},
   "outputs": [],
   "source": [
    "#\n",
    "# Negatives\n",
    "#\n",
    "seed_torch = 2022\n",
    "\n",
    "unique_drug_ids = drug_ids.unique()\n",
    "unique_prot_ids = prot_ids.unique()\n",
    "\n",
    "drug_sample_ids = torch.tensor(random.choices(range(unique_drug_ids.shape[0]), k=X.shape[0]))\n",
    "drugs_sampled = unique_drug_ids[drug_sample_ids]\n",
    "drugs_sampled_embs = model.entity_representations[0]._embeddings(drugs_sampled)\n",
    "\n",
    "prot_sample_ids = torch.tensor(random.choices(range(unique_prot_ids.shape[0]), k=X.shape[0]))\n",
    "prots_sampled = unique_prot_ids[prot_sample_ids]\n",
    "prot_sampled_embs = model.entity_representations[0]._embeddings(prots_sampled)\n",
    "\n",
    "\n",
    "X_neg = encode_entity_pair(emb1=drugs_sampled_embs, emb2=prot_sampled_embs, transform=concatenate)\n",
    "\n",
    "y_neg = torch.zeros((X_neg.shape[0],))"
   ]
  },
  {
   "cell_type": "code",
   "execution_count": 18,
   "id": "a807d543-e775-4f3b-a1ff-7fe79a2cbbb2",
   "metadata": {},
   "outputs": [],
   "source": [
    "X_train = torch.cat((X, X_neg), dim=0).detach().numpy()\n",
    "y_train = torch.cat((Y, y_neg), dim=0).numpy()"
   ]
  },
  {
   "cell_type": "code",
   "execution_count": 19,
   "id": "e5732b60-ab2a-4a6f-a936-07862fc0c5cd",
   "metadata": {},
   "outputs": [],
   "source": [
    "del model, "
   ]
  },
  {
   "cell_type": "code",
   "execution_count": 20,
   "id": "eee761be",
   "metadata": {},
   "outputs": [],
   "source": [
    "import os\n",
    "import numpy as np\n",
    "import random as rn\n",
    "\n",
    "from argparse import ArgumentParser\n",
    "from pathlib import Path\n",
    "from time import time\n",
    "from collections import defaultdict\n",
    "\n",
    "from sklearn.ensemble import RandomForestClassifier\n",
    "from sklearn.linear_model import LogisticRegression\n",
    "from sklearn.metrics import roc_auc_score\n",
    "from sklearn.metrics import precision_score\n",
    "from sklearn.metrics import recall_score\n",
    "from sklearn.metrics import fbeta_score\n",
    "from sklearn.metrics import make_scorer\n",
    "from sklearn.metrics import accuracy_score\n",
    "\n",
    "\n",
    "from collections import defaultdict\n",
    "\n",
    "from sklearn.model_selection import StratifiedKFold\n",
    "from sklearn.model_selection import RandomizedSearchCV\n",
    "from sklearn.model_selection import cross_validate\n"
   ]
  },
  {
   "cell_type": "code",
   "execution_count": 35,
   "id": "326edf30",
   "metadata": {},
   "outputs": [],
   "source": [
    "SEED = 2022\n",
    "\n",
    "#\n",
    "# DEFAULT PARAMETERS FOR RR\n",
    "#\n",
    "rf_default_params = {\n",
    "    'n_estimators': 300,\n",
    "    'criterion': 'gini',\n",
    "    'min_samples_split': 2,\n",
    "    'min_samples_leaf': 1,\n",
    "    'max_features': 'auto',\n",
    "    'random_state': SEED,\n",
    "    'n_jobs': -1,\n",
    "\n",
    "}\n",
    "\n",
    "lr_default_params = {\n",
    "    'C': 1.0,\n",
    "    'random_state': SEED,\n",
    "    'max_iter': 1000,\n",
    "    'solver': 'lbfgs',\n",
    "    'n_jobs': -1,\n",
    "}\n",
    "\n",
    "\n",
    "#\n",
    "# OPT SPACES FOR RR\n",
    "#\n",
    "\n",
    "rf_search_space = {\n",
    "    \"criterion\": [\"gini\", \"entropy\"],\n",
    "    'n_estimators': np.arange(100, 300, 50, dtype=int),\n",
    "    'min_samples_leaf': [1, 2, 5, 10],\n",
    "    'min_samples_split': [2, 5, 10, 15, 100],\n",
    "    'max_depth': [5, 8, 15, 25, 30, None],\n",
    "    'random_state': [SEED]\n",
    "}\n",
    "\n",
    "lr_search_space = {\n",
    "    'penalty': ['l2'],\n",
    "    'C': np.logspace(-4, 3, 8),\n",
    "    'random_state': [SEED],\n",
    "    'max_iter': [1000],\n",
    "    'solver': ['lbfgs'],\n",
    "    'n_jobs': [-1],\n",
    "}\n"
   ]
  },
  {
   "cell_type": "code",
   "execution_count": 36,
   "id": "d956c94d",
   "metadata": {},
   "outputs": [],
   "source": [
    "\n",
    "def run_nested_cv(candidates: list, X, y, scoring: dict,\n",
    "                  outer_n_folds: int = 5, inner_n_folds: int = 2, inner_n_iter: int = 10, shuffle: bool = False,\n",
    "                  random_state: int = SEED, n_jobs: int = 12, refit_param: str = 'fbeta', verbose: int = 0) -> dict:\n",
    "    \"\"\"Nested cross validation routine.\n",
    "    Inner cv loop performs hp optimization on all folds and surfaces\n",
    "    Parameters\n",
    "    ----------\n",
    "    candidates : list\n",
    "        list of (label, estimator, param_dist)\n",
    "    X : np.array\n",
    "        predictor\n",
    "    y : np.ndarray\n",
    "        labels\n",
    "    scoring : dict\n",
    "        dict containing sklearn scorers\n",
    "    outer_n_folds : int, optional\n",
    "        splits for outer cv, by default 5\n",
    "    inner_n_folds : int, optional\n",
    "        splits for inner cv, by default 2\n",
    "    inner_n_iter : int, optional\n",
    "        number of trials within inner fold, by default 10\n",
    "    shuffle : bool, optional\n",
    "        shuffles data before cv, by default True\n",
    "    random_state : int, optional\n",
    "        seed for rng, by default SEED\n",
    "    n_jobs : int, optional\n",
    "        multiprocessing, by default 10\n",
    "    refit_param : str, optional\n",
    "        which metric to optimize for and return refit model, by default 'fbeta'\n",
    "    verbose : int, optional\n",
    "        level of console feedback, by default 0\n",
    "    Returns\n",
    "    -------\n",
    "    dict\n",
    "        outer cv scores e.g. {name: scores}\n",
    "    \"\"\"\n",
    "    gridcvs = {}\n",
    "\n",
    "    inner_cv = StratifiedKFold(n_splits=inner_n_folds, shuffle=shuffle, random_state=random_state)\n",
    "\n",
    "    for name, estimator, param_grid in candidates:\n",
    "        gcv = RandomizedSearchCV(\n",
    "                estimator=estimator,\n",
    "                param_distributions=param_grid,\n",
    "                n_iter=inner_n_iter,\n",
    "                scoring=scoring,\n",
    "                n_jobs=1,\n",
    "                cv=inner_cv,\n",
    "                verbose=10,\n",
    "                refit=refit_param,\n",
    "                random_state=random_state)\n",
    "        gridcvs[name] = gcv\n",
    "\n",
    "    outer_cv = StratifiedKFold(n_splits=outer_n_folds, shuffle=shuffle, random_state=random_state)\n",
    "    outer_scores = {}\n",
    "\n",
    "    for name, gs_est in sorted(gridcvs.items()):\n",
    "        logger.info(f\"Running CV for {name}..\")\n",
    "        nested_score = cross_validate(gs_est,\n",
    "                                      X=X,\n",
    "                                      y=y,\n",
    "                                      scoring=scoring,\n",
    "                                      cv=outer_cv,\n",
    "                                      n_jobs=n_jobs,\n",
    "                                      return_estimator=False,\n",
    "                                      return_train_score=True,\n",
    "                                      verbose=10)\n",
    "\n",
    "        score_to_optimize = nested_score.get('test_{}'.format(refit_param))\n",
    "        logger.info(\n",
    "            f'{name}: outer {refit_param} {100*score_to_optimize.mean():.2f} +/- {100*score_to_optimize.std():.2f}')\n",
    "        outer_scores[name] = nested_score\n",
    "    return outer_scores"
   ]
  },
  {
   "cell_type": "code",
   "execution_count": 39,
   "id": "5b1de112",
   "metadata": {},
   "outputs": [
    {
     "name": "stdout",
     "output_type": "stream",
     "text": [
      "2022-09-06 12:16:17,931 [INFO] __main__: Starting model building script at 1662466577.9317775.\n",
      "2022-09-06 12:16:17,932 [INFO] __main__: Loading training data...\n",
      "2022-09-06 12:16:17,933 [INFO] __main__: Resulting shapes X_train: (38322, 1024), y_train: (38322,)\n",
      "2022-09-06 12:16:17,935 [INFO] __main__: Counts in y_train: (array([0., 1.], dtype=float32), array([19161, 19161]))\n",
      "2022-09-06 12:16:17,936 [INFO] __main__: Running CV for LR..\n"
     ]
    },
    {
     "name": "stderr",
     "output_type": "stream",
     "text": [
      "[Parallel(n_jobs=2)]: Using backend LokyBackend with 2 concurrent workers.\n",
      "[Parallel(n_jobs=2)]: Done   1 tasks      | elapsed:    9.4s\n",
      "[Parallel(n_jobs=2)]: Done   3 out of   5 | elapsed:   14.8s remaining:    9.9s\n"
     ]
    },
    {
     "name": "stdout",
     "output_type": "stream",
     "text": [
      "2022-09-06 12:16:36,867 [INFO] __main__: LR: outer fbeta 74.06 +/- 0.30\n",
      "2022-09-06 12:16:36,868 [INFO] __main__: Running CV for RF..\n"
     ]
    },
    {
     "name": "stderr",
     "output_type": "stream",
     "text": [
      "[Parallel(n_jobs=2)]: Done   5 out of   5 | elapsed:   18.8s remaining:    0.0s\n",
      "[Parallel(n_jobs=2)]: Done   5 out of   5 | elapsed:   18.8s finished\n",
      "[Parallel(n_jobs=2)]: Using backend LokyBackend with 2 concurrent workers.\n",
      "[Parallel(n_jobs=2)]: Done   1 tasks      | elapsed:  1.9min\n",
      "[Parallel(n_jobs=2)]: Done   2 tasks      | elapsed:  1.9min\n",
      "[Parallel(n_jobs=2)]: Done   4 out of   4 | elapsed:  1.9min remaining:    0.0s\n",
      "\n",
      "KeyboardInterrupt\n",
      "\n"
     ]
    }
   ],
   "source": [
    "\n",
    "\n",
    "# reproducibility\n",
    "SEED = 2022\n",
    "\n",
    "\n",
    "# def set_seeds(seed: int = SEED):\n",
    "#     os.environ['PYTHONHASHSEED'] = str(SEED)\n",
    "#     np.random.seed(SEED)\n",
    "#     tf.random.set_seed(SEED)\n",
    "#     rn.seed(SEED)\n",
    "\n",
    "\n",
    "\n",
    "experiment_config = {\n",
    "    \"n_proc\": 2,\n",
    "    \"n_iter\": 2,\n",
    "    \"inner_n_folds\": 3,\n",
    "    \"outer_n_folds\": 5,\n",
    "    \"param\": \"fbeta\"\n",
    "}\n",
    "\n",
    "# data_dir = experiment_base_path.joinpath(experiment_config[\"data_dir\"])\n",
    "# out_dir = experiment_base_path.joinpath(experiment_config[\"out_dir\"])\n",
    "\n",
    "# mkdir(out_dir)\n",
    "\n",
    "n_proc = experiment_config[\"n_proc\"]\n",
    "n_iter = experiment_config[\"n_iter\"]\n",
    "inner_n_folds = experiment_config[\"inner_n_folds\"]\n",
    "outer_n_folds = experiment_config[\"outer_n_folds\"]\n",
    "optimize_param = experiment_config[\"param\"]\n",
    "\n",
    "# set_seeds(seed=SEED)\n",
    "\n",
    "shuffle = True\n",
    "\n",
    "exp_output = defaultdict(dict)\n",
    "exp_output['settings'] = {\n",
    "    # 'data_dir': data_dir,\n",
    "    'n_iter': n_iter,\n",
    "    'inner_n_folds': inner_n_folds,\n",
    "    'outer_n_folds': outer_n_folds,\n",
    "    'optimize_param': optimize_param,\n",
    "    'shuffle': shuffle,\n",
    "    'seed': SEED\n",
    "}\n",
    "\n",
    "start = time()\n",
    "\n",
    "logger.info(\"Starting model building script at {}.\".format(start))\n",
    "\n",
    "############\n",
    "# Load data\n",
    "############\n",
    "logger.info(\"Loading training data...\")\n",
    "\n",
    "# X_train = np.load(data_dir.joinpath('X_train.npy'))\n",
    "# y_train = np.load(data_dir.joinpath('y_train.npy'))\n",
    "\n",
    "logger.info(\"Resulting shapes X_train: {}, y_train: {}\".format(X_train.shape, y_train.shape))\n",
    "logger.info(\"Counts in y_train: {}\".format(np.unique(y_train, return_counts=True)))\n",
    "############\n",
    "# Setup classifiers & pipelines\n",
    "############\n",
    "\n",
    "lr_label = 'LR'\n",
    "clf_lr = LogisticRegression(**lr_default_params)\n",
    "\n",
    "rf_label = 'RF'\n",
    "clf_rf = RandomForestClassifier(**rf_default_params)\n",
    "\n",
    "\n",
    "# record default params\n",
    "exp_output['default_params']: {\n",
    "    lr_label: lr_default_params,\n",
    "    rf_label: rf_default_params\n",
    "}\n",
    "\n",
    "############\n",
    "# Setup grids\n",
    "############\n",
    "exp_output['grids']: {\n",
    "    lr_label: lr_search_space,\n",
    "    rf_label: rf_search_space\n",
    "}\n",
    "\n",
    "############\n",
    "# Compare models\n",
    "############\n",
    "candidates = [\n",
    "    (lr_label, clf_lr, lr_search_space),\n",
    "    (rf_label, clf_rf, rf_search_space)\n",
    "]\n",
    "\n",
    "scorer = {\n",
    "    'AUC': make_scorer(roc_auc_score),\n",
    "    'fbeta': make_scorer(fbeta_score, beta=1, average='micro'),\n",
    "    'precision': make_scorer(precision_score),\n",
    "    'recall': make_scorer(recall_score),\n",
    "    'accuracy': make_scorer(accuracy_score)\n",
    "}\n",
    "\n",
    "nested_cv_scores = run_nested_cv(\n",
    "    candidates=candidates,\n",
    "    X=X_train,\n",
    "    y=y_train,\n",
    "    scoring=scorer,\n",
    "    inner_n_folds=inner_n_folds,\n",
    "    inner_n_iter=n_iter,\n",
    "    outer_n_folds=outer_n_folds,\n",
    "    shuffle=shuffle,\n",
    "    n_jobs=n_proc,\n",
    "    refit_param=optimize_param,\n",
    "    random_state=SEED\n",
    ")\n",
    "\n",
    "for algo, scores in nested_cv_scores.items():\n",
    "    logger.info(\"Scores {}: {}\".format(algo, scores))\n",
    "\n",
    "exp_output['results'] = nested_cv_scores\n",
    "\n",
    "logger.info(exp_output)\n",
    "\n",
    "run_timestamp = int(time())\n",
    "# file_out = out_dir.joinpath('nested_cv_scores_{}.npy'.format(run_timestamp))\n",
    "# logger.info(\"Saving to {}\".format(file_out))\n",
    "# np.save(file_out, exp_output)\n",
    "\n",
    "end = time()\n",
    "\n",
    "logger.info(\"Ran script in {} seconds\".format(str(end - start)))"
   ]
  },
  {
   "cell_type": "markdown",
   "id": "703ff89a-dd11-4fb0-bdcb-87e9fa41e20a",
   "metadata": {},
   "source": [
    "_____"
   ]
  },
  {
   "cell_type": "code",
   "execution_count": 1,
   "id": "84ceaca8-71c3-4733-947d-d1abe5a06959",
   "metadata": {},
   "outputs": [
    {
     "name": "stderr",
     "output_type": "stream",
     "text": [
      "/home/jovyan/.conda/envs/bioblp-env/lib/python3.9/site-packages/tqdm/auto.py:22: TqdmWarning: IProgress not found. Please update jupyter and ipywidgets. See https://ipywidgets.readthedocs.io/en/stable/user_install.html\n",
      "  from .autonotebook import tqdm as notebook_tqdm\n"
     ]
    }
   ],
   "source": [
    "import random\n",
    "\n",
    "import pandas as pd\n",
    "import numpy as np\n",
    "from pathlib import Path\n",
    "\n",
    "from bioblp.data import COL_EDGE, COL_SOURCE, COL_TARGET\n",
    "from bioblp.logging import get_logger\n",
    "import torch\n",
    "\n",
    "\n",
    "\n",
    "\n",
    "\n",
    "from sklearn.linear_model import LogisticRegression\n",
    "\n",
    "from sklearn.ensemble import RandomForestClassifier\n",
    "\n",
    "from sklearn.metrics import roc_auc_score\n",
    "from sklearn.metrics import precision_score\n",
    "from sklearn.metrics import recall_score\n",
    "from sklearn.metrics import fbeta_score\n",
    "from sklearn.metrics import make_scorer\n",
    "from sklearn.metrics import accuracy_score\n",
    "from sklearn.metrics import precision_recall_curve\n",
    "from sklearn.metrics import auc\n",
    "\n",
    "from sklearn.model_selection import cross_validate\n"
   ]
  },
  {
   "cell_type": "code",
   "execution_count": 2,
   "id": "f4b41887-7cd4-4246-9df6-73e4b3a72b29",
   "metadata": {},
   "outputs": [],
   "source": [
    "logger = get_logger(__name__)\n"
   ]
  },
  {
   "cell_type": "code",
   "execution_count": 3,
   "id": "dd27b455-38d8-4078-a1e7-9bc65ed0f678",
   "metadata": {},
   "outputs": [],
   "source": [
    "DATA_DIR = Path(\"../data/\")\n",
    "DATA_SHARED = Path(\"/home/jovyan/workbench-shared-folder/bioblp\")"
   ]
  },
  {
   "cell_type": "code",
   "execution_count": 4,
   "id": "757fd06d-0222-4bc6-a2dc-1e859cd69055",
   "metadata": {},
   "outputs": [],
   "source": [
    "def aupr_score(y_true, y_pred):\n",
    "    precision, recall, thresholds = precision_recall_curve(y_true, y_pred)\n",
    "    # Use AUC function to calculate the area under the curve of precision recall curve\n",
    "    return auc(recall, precision)\n"
   ]
  },
  {
   "cell_type": "code",
   "execution_count": 5,
   "id": "b10bb1da-f961-45d1-85fc-1f8024be3444",
   "metadata": {},
   "outputs": [],
   "source": [
    "scorer = {\n",
    "    \"AUCROC\": make_scorer(roc_auc_score, needs_proba=True),\n",
    "    \"f1\": make_scorer(fbeta_score, beta=1, average=\"micro\"),\n",
    "    \"precision\": make_scorer(precision_score),\n",
    "    \"recall\": make_scorer(recall_score),\n",
    "    \"accuracy\": make_scorer(accuracy_score),\n",
    "    \"AUCPR\": make_scorer(aupr_score, needs_proba=True),\n",
    "}"
   ]
  },
  {
   "cell_type": "code",
   "execution_count": 6,
   "id": "2b82ec0e-e368-4997-8062-3a550753755b",
   "metadata": {},
   "outputs": [
    {
     "name": "stderr",
     "output_type": "stream",
     "text": [
      "16:17:35 - INFO - __main__ - Loading training data...\n",
      "16:17:35 - INFO - __main__ - Resulting shapes X_train: (38322, 1024), y_train: (38322,)\n",
      "16:17:35 - INFO - __main__ - Counts in y_train: (array([0, 1]), array([19161, 19161]))\n"
     ]
    }
   ],
   "source": [
    "logger.info(\"Loading training data...\")\n",
    "\n",
    "X_train = np.load(DATA_DIR.joinpath(\"features/dpi_X.npy\"))\n",
    "y_train = np.load(DATA_DIR.joinpath(\"features/dpi_y.npy\"))\n",
    "\n",
    "logger.info(\n",
    "        \"Resulting shapes X_train: {}, y_train: {}\".format(X_train.shape, y_train.shape)\n",
    "    )\n",
    "logger.info(\"Counts in y_train: {}\".format(np.unique(y_train, return_counts=True)))"
   ]
  },
  {
   "cell_type": "code",
   "execution_count": null,
   "id": "1d082c68-1c61-4b14-b1dc-d55fd937aacc",
   "metadata": {},
   "outputs": [],
   "source": []
  },
  {
   "cell_type": "code",
   "execution_count": null,
   "id": "803e271a-9db9-4c84-acf0-d9ffaeca59ea",
   "metadata": {},
   "outputs": [],
   "source": []
  },
  {
   "cell_type": "code",
   "execution_count": null,
   "id": "0a3c124b-c56a-4fa0-a35c-797ef5241147",
   "metadata": {},
   "outputs": [],
   "source": []
  },
  {
   "cell_type": "code",
   "execution_count": 7,
   "id": "ac099766-314b-4e48-8319-69817640927f",
   "metadata": {},
   "outputs": [],
   "source": [
    "import optuna\n"
   ]
  },
  {
   "cell_type": "code",
   "execution_count": 8,
   "id": "33cf2bc3-f280-4a3c-ace0-f70916c68da4",
   "metadata": {},
   "outputs": [],
   "source": [
    "\n",
    "\n",
    "\n",
    "# def lr_objective(trial):\n",
    "#     random_state = 42\n",
    "#     n_jobs = -1\n",
    "#     solver=\"lbfgs\"\n",
    "#     C = trial.suggest_float(\"C\", 1e-5, 1e3, log=True)\n",
    "#     refit_param=\"AUCPR\"\n",
    "\n",
    "#     clf_obj = LogisticRegression(random_state=random_state,\n",
    "#                                 n_jobs=n_jobs,\n",
    "#                                 C=C,\n",
    "#                                 solver=solver)\n",
    "\n",
    "#     result = cross_validate(clf_obj, X=X_train, y=y_train,\n",
    "#                             scoring=scorer, cv=5, n_jobs=n_jobs,\n",
    "#                             return_estimator=False,\n",
    "#                             return_train_score=True,\n",
    "#                             verbose=14)\n",
    "#     logger.info(result)\n",
    "    \n",
    "#     score_to_optimize = result.get(\"test_{}\".format(refit_param)).mean()\n",
    "    \n",
    "#     return score_to_optimize\n",
    "\n",
    "# # generate study name based on model, fold and some random word?\n",
    "# study = optuna.create_study(direction='maximize', study_name=\"trial1\")\n",
    "# study.optimize(lr_objective, n_trials = 50)\n",
    "\n",
    "# trial = study.best_trial\n",
    "\n",
    "# print('Mean Score: {}'.format(trial.value))\n",
    "# print(\"Best hyperparameters: {}\".format(trial.params))"
   ]
  },
  {
   "cell_type": "code",
   "execution_count": 9,
   "id": "3fbdc4fb-f736-4307-9e69-dd8deb53c65e",
   "metadata": {},
   "outputs": [],
   "source": [
    "import random\n",
    "import string\n",
    "\n",
    "def get_random_string(length):\n",
    "    # choose from all lowercase letter\n",
    "    characters = string.ascii_lowercase + string.digits\n",
    "    result_str = ''.join(random.choice(characters) for i in range(length))\n",
    "    \n",
    "    return result_str\n",
    "\n"
   ]
  },
  {
   "cell_type": "code",
   "execution_count": null,
   "id": "b3c95b89-984f-4f54-897a-8f47e25d9049",
   "metadata": {},
   "outputs": [],
   "source": [
    "\n"
   ]
  },
  {
   "cell_type": "code",
   "execution_count": 10,
   "id": "fbd4d85d-0eb0-4f99-919f-4f145d78f2f6",
   "metadata": {},
   "outputs": [],
   "source": [
    "def lr_callback(trial):\n",
    "    \n",
    "    random_state = 42\n",
    "    n_jobs = -1\n",
    "    solver=\"lbfgs\"\n",
    "    \n",
    "    C = trial.suggest_float(\"C\", 1e-5, 1e3, log=True)\n",
    "\n",
    "    clf_obj = LogisticRegression(random_state=random_state,\n",
    "                                 n_jobs=n_jobs,\n",
    "                                 C=C,\n",
    "                                 solver=solver)\n",
    "    return clf_obj\n",
    "\n",
    "\n",
    "def rf_callback(trial):\n",
    "    \"\"\"\n",
    "        rf_search_space = {\n",
    "        \"criterion\": [\"gini\", \"entropy\"],\n",
    "        \"n_estimators\": np.arange(100, 300, 50, dtype=int),\n",
    "        \"min_samples_leaf\": [1, 2, 5, 10],\n",
    "        \"min_samples_split\": [2, 5, 10, 15, 100],\n",
    "        \"max_depth\": [5, 8, 15, 25, 30, None],\n",
    "        \"random_state\": [SEED],\n",
    "    }\n",
    "    \"\"\"\n",
    "    \n",
    "    random_state = 42\n",
    "    n_jobs = -1\n",
    "    solver=\"lbfgs\"\n",
    "    \n",
    "    criterion = trial.suggest_categorical(\"rf_criterion\", [\"gini\", \"entropy\"])\n",
    "    n_estimators = trial.suggest_int(\"rf_n_estimators\", low=100, high=300, step=50)\n",
    "    min_samples_leaf = trial.suggest_int(\"rf_min_samples_leaf\", low=1, high=10, log=True)\n",
    "    min_samples_split = trial.suggest_int(\"rf_min_samples_split\", low=2, high=100, log=True)\n",
    "    max_depth = trial.suggest_categorical(\"rf_max_depth\", [5, 8, 15, 25, 30, None])\n",
    "\n",
    "\n",
    "    clf_obj = RandomForestClassifier(n_estimators=n_estimators,\n",
    "                                     min_samples_leaf=min_samples_leaf,\n",
    "                                     min_samples_split=min_samples_split,\n",
    "                                     max_depth=max_depth,\n",
    "                                     criterion=criterion,\n",
    "                                     random_state=random_state,\n",
    "                                     n_jobs=n_jobs)\n",
    "    return clf_obj\n",
    "\n",
    "\n",
    "def create_cv_objective(X_train, y_train, cv, clf_callback, result_tracker_callback, refit_params=[\"AUCPR\", \"AUCROC\", \"f1\"]):\n",
    "\n",
    "    def cv_objective(trial):\n",
    "        \n",
    "        clf_obj = clf_callback(trial)\n",
    "        \n",
    "        result = cross_validate(clf_obj, X=X_train, y=y_train,\n",
    "                                scoring=scorer, cv=cv, n_jobs=-1,\n",
    "                                return_estimator=False,\n",
    "                                return_train_score=True,\n",
    "                                verbose=14)\n",
    "        \n",
    "        result_tracker_callback(trial.number, **result)\n",
    "\n",
    "        score_to_optimize = [result.get(\"test_{}\".format(param_x)).mean() for param_x in refit_params]\n",
    "\n",
    "        return tuple(score_to_optimize)\n",
    "    return cv_objective\n",
    "\n",
    "\n",
    "def tracker_callback_fn(trial, **kwargs):\n",
    "    logger.info(f\"tracker | trial: {trial}: {kwargs}\")\n"
   ]
  },
  {
   "cell_type": "code",
   "execution_count": 11,
   "id": "a4978f50-8a7b-45c7-9df0-945bdf34f5c9",
   "metadata": {},
   "outputs": [
    {
     "name": "stderr",
     "output_type": "stream",
     "text": [
      "\u001b[32m[I 2022-09-08 16:17:39,015]\u001b[0m A new study created in memory with name: qxlgdy7p-lr\u001b[0m\n",
      "[Parallel(n_jobs=-1)]: Using backend LokyBackend with 4 concurrent workers.\n",
      "[Parallel(n_jobs=-1)]: Done   1 tasks      | elapsed:    4.5s\n",
      "[Parallel(n_jobs=-1)]: Done   2 out of   5 | elapsed:    4.5s remaining:    6.8s\n",
      "[Parallel(n_jobs=-1)]: Done   3 out of   5 | elapsed:    4.6s remaining:    3.1s\n",
      "[Parallel(n_jobs=-1)]: Done   5 out of   5 | elapsed:    6.5s remaining:    0.0s\n",
      "[Parallel(n_jobs=-1)]: Done   5 out of   5 | elapsed:    6.5s finished\n",
      "16:17:45 - INFO - __main__ - tracker | trial: 0: {'fit_time': array([1.78203917, 1.62525153, 1.71188354, 1.842592  , 1.80265951]), 'score_time': array([0.03354359, 0.03430653, 0.03472996, 0.03262734, 0.0325067 ]), 'test_AUCROC': array([0.62567783, 0.55391299, 0.63014409, 0.60523059, 0.54428763]), 'train_AUCROC': array([0.7521467 , 0.76587946, 0.74436469, 0.73443048, 0.74116046]), 'test_f1': array([0.59634703, 0.52863666, 0.59433716, 0.58703027, 0.55715031]), 'train_f1': array([0.69269661, 0.70447206, 0.68461739, 0.67705004, 0.68181225]), 'test_precision': array([0.58209287, 0.52194829, 0.58202859, 0.57808476, 0.54767088]), 'train_precision': array([0.68830092, 0.70096813, 0.6818065 , 0.67650884, 0.68234755]), 'test_recall': array([0.6835377 , 0.67954071, 0.66936326, 0.64431106, 0.6565762 ]), 'train_recall': array([0.70433194, 0.7132233 , 0.69234784, 0.67858308, 0.68034445]), 'test_accuracy': array([0.59634703, 0.52863666, 0.59433716, 0.58703027, 0.55715031]), 'train_accuracy': array([0.69269661, 0.70447206, 0.68461739, 0.67705004, 0.68181225]), 'test_AUCPR': array([0.59638877, 0.54899334, 0.61975522, 0.56167079, 0.49219653]), 'train_AUCPR': array([0.73689746, 0.75151464, 0.72578774, 0.71904344, 0.73273502])}\n",
      "\u001b[32m[I 2022-09-08 16:17:45,500]\u001b[0m Trial 0 finished with values: [0.5638009277466871, 0.5918506256508114] and parameters: {'C': 10.838305114143498}. \u001b[0m\n",
      "[Parallel(n_jobs=-1)]: Using backend LokyBackend with 4 concurrent workers.\n",
      "[Parallel(n_jobs=-1)]: Done   1 tasks      | elapsed:    2.0s\n",
      "[Parallel(n_jobs=-1)]: Done   2 out of   5 | elapsed:    2.1s remaining:    3.2s\n",
      "[Parallel(n_jobs=-1)]: Done   3 out of   5 | elapsed:    2.1s remaining:    1.4s\n",
      "[Parallel(n_jobs=-1)]: Done   5 out of   5 | elapsed:    3.9s remaining:    0.0s\n",
      "[Parallel(n_jobs=-1)]: Done   5 out of   5 | elapsed:    3.9s finished\n",
      "16:17:49 - INFO - __main__ - tracker | trial: 1: {'fit_time': array([1.7838583 , 1.63037395, 1.75150752, 1.84457541, 1.79273415]), 'score_time': array([0.03290081, 0.0347271 , 0.06223464, 0.03455091, 0.03199172]), 'test_AUCROC': array([0.62567851, 0.55391449, 0.63014259, 0.60523106, 0.54428865]), 'train_AUCROC': array([0.75214701, 0.76587932, 0.74436447, 0.73443059, 0.74116048]), 'test_f1': array([0.59634703, 0.52863666, 0.59433716, 0.58703027, 0.55715031]), 'train_f1': array([0.69266399, 0.70447206, 0.68461739, 0.67705004, 0.68181225]), 'test_precision': array([0.58209287, 0.52194829, 0.58202859, 0.57808476, 0.54767088]), 'train_precision': array([0.68825704, 0.70096813, 0.6818065 , 0.67650884, 0.68234755]), 'test_recall': array([0.6835377 , 0.67954071, 0.66936326, 0.64431106, 0.6565762 ]), 'train_recall': array([0.70433194, 0.7132233 , 0.69234784, 0.67858308, 0.68034445]), 'test_accuracy': array([0.59634703, 0.52863666, 0.59433716, 0.58703027, 0.55715031]), 'train_accuracy': array([0.69266399, 0.70447206, 0.68461739, 0.67705004, 0.68181225]), 'test_AUCPR': array([0.59638812, 0.54899311, 0.61975402, 0.56166955, 0.49219679]), 'train_AUCPR': array([0.73689665, 0.75151375, 0.72578636, 0.71904258, 0.73273404])}\n",
      "\u001b[32m[I 2022-09-08 16:17:49,540]\u001b[0m Trial 1 finished with values: [0.5638003179607324, 0.5918510613789978] and parameters: {'C': 581.5277966362404}. \u001b[0m\n",
      "[Parallel(n_jobs=-1)]: Using backend LokyBackend with 4 concurrent workers.\n",
      "[Parallel(n_jobs=-1)]: Done   1 tasks      | elapsed:    2.0s\n",
      "[Parallel(n_jobs=-1)]: Done   2 out of   5 | elapsed:    2.1s remaining:    3.1s\n",
      "[Parallel(n_jobs=-1)]: Done   3 out of   5 | elapsed:    2.2s remaining:    1.4s\n",
      "[Parallel(n_jobs=-1)]: Done   5 out of   5 | elapsed:    4.0s remaining:    0.0s\n",
      "[Parallel(n_jobs=-1)]: Done   5 out of   5 | elapsed:    4.0s finished\n",
      "16:17:53 - INFO - __main__ - tracker | trial: 2: {'fit_time': array([1.81289029, 1.63738799, 1.72608614, 1.83008742, 1.81242061]), 'score_time': array([0.03345847, 0.03492308, 0.03348994, 0.0329926 , 0.03185773]), 'test_AUCROC': array([0.62567851, 0.55391442, 0.63014273, 0.60523093, 0.54428852]), 'train_AUCROC': array([0.75214696, 0.76587932, 0.74436449, 0.73443056, 0.74116049]), 'test_f1': array([0.59634703, 0.52863666, 0.59433716, 0.58703027, 0.55715031]), 'train_f1': array([0.69266399, 0.70447206, 0.68461739, 0.67705004, 0.68181225]), 'test_precision': array([0.58209287, 0.52194829, 0.58202859, 0.57808476, 0.54767088]), 'train_precision': array([0.68825704, 0.70096813, 0.6818065 , 0.67650884, 0.68234755]), 'test_recall': array([0.6835377 , 0.67954071, 0.66936326, 0.64431106, 0.6565762 ]), 'train_recall': array([0.70433194, 0.7132233 , 0.69234784, 0.67858308, 0.68034445]), 'test_accuracy': array([0.59634703, 0.52863666, 0.59433716, 0.58703027, 0.55715031]), 'train_accuracy': array([0.69266399, 0.70447206, 0.68461739, 0.67705004, 0.68181225]), 'test_AUCPR': array([0.59638812, 0.54899308, 0.61975425, 0.56166946, 0.49219666]), 'train_AUCPR': array([0.73689662, 0.75151381, 0.72578644, 0.71904258, 0.73273407])}\n",
      "\u001b[32m[I 2022-09-08 16:17:53,599]\u001b[0m Trial 2 finished with values: [0.5638003146956349, 0.5918510205223735] and parameters: {'C': 259.28559600779454}. \u001b[0m\n",
      "[Parallel(n_jobs=-1)]: Using backend LokyBackend with 4 concurrent workers.\n",
      "[Parallel(n_jobs=-1)]: Done   1 tasks      | elapsed:    1.9s\n",
      "[Parallel(n_jobs=-1)]: Done   2 out of   5 | elapsed:    2.0s remaining:    2.9s\n",
      "[Parallel(n_jobs=-1)]: Done   3 out of   5 | elapsed:    2.0s remaining:    1.3s\n",
      "[Parallel(n_jobs=-1)]: Done   5 out of   5 | elapsed:    3.7s remaining:    0.0s\n",
      "[Parallel(n_jobs=-1)]: Done   5 out of   5 | elapsed:    3.7s finished\n",
      "16:17:57 - INFO - __main__ - tracker | trial: 3: {'fit_time': array([1.61702776, 1.53181338, 1.61362743, 1.80895019, 1.66771746]), 'score_time': array([0.03285742, 0.03603482, 0.0335083 , 0.03209805, 0.03194332]), 'test_AUCROC': array([0.62476035, 0.55038209, 0.62947868, 0.60537258, 0.54306271]), 'train_AUCROC': array([0.751832  , 0.76564306, 0.74398995, 0.73402688, 0.74078365]), 'test_f1': array([0.59347684, 0.52681018, 0.59420668, 0.58689979, 0.55414927]), 'train_f1': array([0.69256613, 0.70414587, 0.68376933, 0.67639768, 0.68054015]), 'test_precision': array([0.57964897, 0.52047952, 0.58204545, 0.57816901, 0.54513813]), 'train_precision': array([0.68843772, 0.70129285, 0.68164818, 0.67645523, 0.68179728]), 'test_recall': array([0.68066788, 0.67980167, 0.66831942, 0.6427453 , 0.6539666 ]), 'train_recall': array([0.70348382, 0.71126623, 0.68960793, 0.67623459, 0.67708265]), 'test_accuracy': array([0.59347684, 0.52681018, 0.59420668, 0.58689979, 0.55414927]), 'train_accuracy': array([0.69256613, 0.70414587, 0.68376933, 0.67639768, 0.68054015]), 'test_AUCPR': array([0.59836496, 0.54790831, 0.62248609, 0.56292548, 0.49151249]), 'train_AUCPR': array([0.7380242 , 0.75261579, 0.72728683, 0.72052451, 0.73404148])}\n",
      "\u001b[32m[I 2022-09-08 16:17:57,414]\u001b[0m Trial 3 finished with values: [0.5646394646272899, 0.5906112826140657] and parameters: {'C': 0.006252404201670412}. \u001b[0m\n",
      "[Parallel(n_jobs=-1)]: Using backend LokyBackend with 4 concurrent workers.\n",
      "[Parallel(n_jobs=-1)]: Done   1 tasks      | elapsed:    1.9s\n",
      "[Parallel(n_jobs=-1)]: Done   2 out of   5 | elapsed:    1.9s remaining:    2.9s\n",
      "[Parallel(n_jobs=-1)]: Done   3 out of   5 | elapsed:    2.0s remaining:    1.3s\n",
      "[Parallel(n_jobs=-1)]: Done   5 out of   5 | elapsed:    3.8s remaining:    0.0s\n",
      "[Parallel(n_jobs=-1)]: Done   5 out of   5 | elapsed:    3.8s finished\n",
      "16:18:01 - INFO - __main__ - tracker | trial: 4: {'fit_time': array([1.54756355, 1.54119563, 1.62862563, 1.78136921, 1.77054501]), 'score_time': array([0.03513885, 0.05438399, 0.04927325, 0.0320611 , 0.03183246]), 'test_AUCROC': array([0.6251747 , 0.55197366, 0.62979235, 0.6052929 , 0.54356107]), 'train_AUCROC': array([0.75199926, 0.76577624, 0.74418142, 0.7342343 , 0.74098357]), 'test_f1': array([0.59517286, 0.52746249, 0.59512004, 0.58689979, 0.55506263]), 'train_f1': array([0.69263137, 0.7038523 , 0.68406289, 0.67669124, 0.68115989]), 'test_precision': array([0.58107508, 0.521     , 0.58289743, 0.57820573, 0.54588952]), 'train_precision': array([0.68840533, 0.70068071, 0.68169232, 0.67659907, 0.68209836]), 'test_recall': array([0.68249413, 0.67980167, 0.66884134, 0.64248434, 0.65501044]), 'train_recall': array([0.70381002, 0.71178811, 0.69058647, 0.67695218, 0.67858308]), 'test_accuracy': array([0.59517286, 0.52746249, 0.59512004, 0.58689979, 0.55506263]), 'train_accuracy': array([0.69263137, 0.7038523 , 0.68406289, 0.67669124, 0.68115989]), 'test_AUCPR': array([0.59748663, 0.54835287, 0.62126148, 0.56238911, 0.49178611]), 'train_AUCPR': array([0.73755178, 0.75216201, 0.7266575 , 0.71989238, 0.73349284])}\n",
      "\u001b[32m[I 2022-09-08 16:18:01,342]\u001b[0m Trial 4 finished with values: [0.5642552405355852, 0.5911589358415239] and parameters: {'C': 0.011802142555234568}. \u001b[0m\n",
      "[Parallel(n_jobs=-1)]: Using backend LokyBackend with 4 concurrent workers.\n",
      "[Parallel(n_jobs=-1)]: Done   1 tasks      | elapsed:    2.0s\n",
      "[Parallel(n_jobs=-1)]: Done   2 out of   5 | elapsed:    2.1s remaining:    3.1s\n",
      "[Parallel(n_jobs=-1)]: Done   3 out of   5 | elapsed:    2.2s remaining:    1.4s\n",
      "[Parallel(n_jobs=-1)]: Done   5 out of   5 | elapsed:    3.9s remaining:    0.0s\n",
      "[Parallel(n_jobs=-1)]: Done   5 out of   5 | elapsed:    3.9s finished\n",
      "16:18:05 - INFO - __main__ - tracker | trial: 5: {'fit_time': array([1.78211069, 1.60243225, 1.68983912, 1.8253808 , 1.79111981]), 'score_time': array([0.04690027, 0.03341699, 0.03367615, 0.03308201, 0.03181553]), 'test_AUCROC': array([0.62567579, 0.55390686, 0.63014198, 0.6052312 , 0.54428552]), 'train_AUCROC': array([0.75214615, 0.76587943, 0.74436385, 0.73442977, 0.74116013]), 'test_f1': array([0.59634703, 0.52863666, 0.59433716, 0.58703027, 0.55715031]), 'train_f1': array([0.69272923, 0.70447206, 0.68458477, 0.67705004, 0.68181225]), 'test_precision': array([0.58209287, 0.52194829, 0.58202859, 0.57808476, 0.54767088]), 'train_precision': array([0.6883208 , 0.70096813, 0.6817627 , 0.67650884, 0.68234755]), 'test_recall': array([0.6835377 , 0.67954071, 0.66936326, 0.64431106, 0.6565762 ]), 'train_recall': array([0.70439718, 0.7132233 , 0.69234784, 0.67858308, 0.68034445]), 'test_accuracy': array([0.59634703, 0.52863666, 0.59433716, 0.58703027, 0.55715031]), 'train_accuracy': array([0.69272923, 0.70447206, 0.68458477, 0.67705004, 0.68181225]), 'test_AUCPR': array([0.59639542, 0.5489923 , 0.61975984, 0.56167635, 0.49219559]), 'train_AUCPR': array([0.73689959, 0.75151877, 0.7257896 , 0.71904624, 0.73273733])}\n",
      "\u001b[32m[I 2022-09-08 16:18:05,370]\u001b[0m Trial 5 finished with values: [0.5638038995926491, 0.5918482698069761] and parameters: {'C': 2.56413553324231}. \u001b[0m\n",
      "[Parallel(n_jobs=-1)]: Using backend LokyBackend with 4 concurrent workers.\n",
      "[Parallel(n_jobs=-1)]: Done   1 tasks      | elapsed:    2.0s\n",
      "[Parallel(n_jobs=-1)]: Done   2 out of   5 | elapsed:    2.1s remaining:    3.2s\n",
      "[Parallel(n_jobs=-1)]: Done   3 out of   5 | elapsed:    2.1s remaining:    1.4s\n",
      "[Parallel(n_jobs=-1)]: Done   5 out of   5 | elapsed:    3.9s remaining:    0.0s\n",
      "[Parallel(n_jobs=-1)]: Done   5 out of   5 | elapsed:    3.9s finished\n",
      "16:18:09 - INFO - __main__ - tracker | trial: 6: {'fit_time': array([1.78278732, 1.62312698, 1.7376852 , 1.83791471, 1.77835655]), 'score_time': array([0.03516388, 0.0366056 , 0.05149078, 0.03241849, 0.03180099]), 'test_AUCROC': array([0.62567797, 0.55391415, 0.63014293, 0.60523052, 0.54428858]), 'train_AUCROC': array([0.75214687, 0.76587941, 0.74436449, 0.73443052, 0.74116051]), 'test_f1': array([0.59634703, 0.52863666, 0.59433716, 0.58703027, 0.55715031]), 'train_f1': array([0.69266399, 0.70447206, 0.68461739, 0.67705004, 0.68181225]), 'test_precision': array([0.58209287, 0.52194829, 0.58202859, 0.57808476, 0.54767088]), 'train_precision': array([0.68825704, 0.70096813, 0.6818065 , 0.67650884, 0.68234755]), 'test_recall': array([0.6835377 , 0.67954071, 0.66936326, 0.64431106, 0.6565762 ]), 'train_recall': array([0.70433194, 0.7132233 , 0.69234784, 0.67858308, 0.68034445]), 'test_accuracy': array([0.59634703, 0.52863666, 0.59433716, 0.58703027, 0.55715031]), 'train_accuracy': array([0.69266399, 0.70447206, 0.68461739, 0.67705004, 0.68181225]), 'test_AUCPR': array([0.59638798, 0.54899286, 0.61975556, 0.56166924, 0.49219675]), 'train_AUCPR': array([0.73689668, 0.75151405, 0.72578665, 0.71904265, 0.73273416])}\n",
      "\u001b[32m[I 2022-09-08 16:18:09,417]\u001b[0m Trial 6 finished with values: [0.5638004782775384, 0.5918508298841852] and parameters: {'C': 55.48908090185416}. \u001b[0m\n",
      "[Parallel(n_jobs=-1)]: Using backend LokyBackend with 4 concurrent workers.\n",
      "[Parallel(n_jobs=-1)]: Done   1 tasks      | elapsed:    2.0s\n",
      "[Parallel(n_jobs=-1)]: Done   2 out of   5 | elapsed:    2.0s remaining:    2.9s\n",
      "[Parallel(n_jobs=-1)]: Done   3 out of   5 | elapsed:    2.0s remaining:    1.4s\n",
      "[Parallel(n_jobs=-1)]: Done   5 out of   5 | elapsed:    4.0s remaining:    0.0s\n",
      "[Parallel(n_jobs=-1)]: Done   5 out of   5 | elapsed:    4.0s finished\n",
      "16:18:13 - INFO - __main__ - tracker | trial: 7: {'fit_time': array([1.61298156, 1.60724449, 1.6829567 , 1.85163975, 1.89340687]), 'score_time': array([0.03304386, 0.03470564, 0.03621268, 0.03282261, 0.0320158 ]), 'test_AUCROC': array([0.62545677, 0.55306788, 0.62998794, 0.60524278, 0.54396075]), 'train_AUCROC': array([0.75209042, 0.76584476, 0.74429262, 0.7343548 , 0.74109348]), 'test_f1': array([0.59556425, 0.52915851, 0.59512004, 0.58676931, 0.55610647]), 'train_f1': array([0.69230518, 0.70427635, 0.68455216, 0.67639768, 0.68155131]), 'test_precision': array([0.58142635, 0.52232232, 0.58278447, 0.57788709, 0.54680017]), 'train_precision': array([0.68791839, 0.70095617, 0.68195266, 0.67595003, 0.68232442]), 'test_recall': array([0.68275502, 0.68084551, 0.66962422, 0.64378914, 0.65553236]), 'train_recall': array([0.7039405 , 0.71257094, 0.69169548, 0.67766978, 0.67943114]), 'test_accuracy': array([0.59556425, 0.52915851, 0.59512004, 0.58676931, 0.55610647]), 'train_accuracy': array([0.69230518, 0.70427635, 0.68455216, 0.67639768, 0.68155131]), 'test_AUCPR': array([0.59682521, 0.54869896, 0.62033482, 0.56197495, 0.49201064]), 'train_AUCPR': array([0.73718884, 0.75181514, 0.72616879, 0.71941802, 0.73307185])}\n",
      "\u001b[32m[I 2022-09-08 16:18:13,527]\u001b[0m Trial 7 finished with values: [0.5639689168368787, 0.591543222080458] and parameters: {'C': 0.027855245970365063}. \u001b[0m\n",
      "[Parallel(n_jobs=-1)]: Using backend LokyBackend with 4 concurrent workers.\n",
      "[Parallel(n_jobs=-1)]: Done   1 tasks      | elapsed:    1.5s\n",
      "[Parallel(n_jobs=-1)]: Done   2 out of   5 | elapsed:    1.5s remaining:    2.3s\n",
      "[Parallel(n_jobs=-1)]: Done   3 out of   5 | elapsed:    1.6s remaining:    1.1s\n",
      "[Parallel(n_jobs=-1)]: Done   5 out of   5 | elapsed:    2.8s remaining:    0.0s\n",
      "[Parallel(n_jobs=-1)]: Done   5 out of   5 | elapsed:    2.8s finished\n",
      "16:18:16 - INFO - __main__ - tracker | trial: 8: {'fit_time': array([1.16287112, 1.18502045, 1.23806882, 1.27314305, 1.13737202]), 'score_time': array([0.0331471 , 0.03286004, 0.03278661, 0.0328989 , 0.03225255]), 'test_AUCROC': array([0.61546239, 0.52530035, 0.62297402, 0.60874681, 0.54025439]), 'train_AUCROC': array([0.74433771, 0.75893486, 0.73626926, 0.72632169, 0.73293189]), 'test_f1': array([0.57847358, 0.5097195 , 0.58585595, 0.58807411, 0.55219207]), 'train_f1': array([0.68790162, 0.69879636, 0.67652815, 0.66804749, 0.67245091]), 'test_precision': array([0.56697819, 0.50735879, 0.5755627 , 0.58241758, 0.5443459 ]), 'train_precision': array([0.68715883, 0.7030719 , 0.67842543, 0.67132216, 0.67776209]), 'test_recall': array([0.66475346, 0.66570981, 0.6539666 , 0.6223904 , 0.64065762]), 'train_recall': array([0.68984864, 0.68830322, 0.67121143, 0.65849044, 0.65751191]), 'test_accuracy': array([0.57847358, 0.5097195 , 0.58585595, 0.58807411, 0.55219207]), 'train_accuracy': array([0.68790162, 0.69879636, 0.67652815, 0.66804749, 0.67245091]), 'test_AUCPR': array([0.60748761, 0.53489072, 0.63547032, 0.56991167, 0.48992573]), 'train_AUCPR': array([0.7361555 , 0.75089622, 0.72878604, 0.7233732 , 0.73548533])}\n",
      "\u001b[32m[I 2022-09-08 16:18:16,435]\u001b[0m Trial 8 finished with values: [0.5675372089925256, 0.582547591172436] and parameters: {'C': 0.0004526824970143607}. \u001b[0m\n",
      "[Parallel(n_jobs=-1)]: Using backend LokyBackend with 4 concurrent workers.\n",
      "[Parallel(n_jobs=-1)]: Done   1 tasks      | elapsed:    1.1s\n",
      "[Parallel(n_jobs=-1)]: Done   2 out of   5 | elapsed:    1.1s remaining:    1.7s\n",
      "[Parallel(n_jobs=-1)]: Done   3 out of   5 | elapsed:    1.2s remaining:    0.8s\n",
      "[Parallel(n_jobs=-1)]: Done   5 out of   5 | elapsed:    2.1s remaining:    0.0s\n",
      "[Parallel(n_jobs=-1)]: Done   5 out of   5 | elapsed:    2.1s finished\n",
      "16:18:18 - INFO - __main__ - tracker | trial: 9: {'fit_time': array([0.78936625, 0.76376629, 0.91599131, 0.84494352, 0.81143951]), 'score_time': array([0.032974  , 0.03431726, 0.03281641, 0.03220987, 0.0319078 ]), 'test_AUCROC': array([0.59667147, 0.49644126, 0.60705455, 0.61701275, 0.54636762]), 'train_AUCROC': array([0.72314395, 0.73933471, 0.71403756, 0.70451023, 0.71097483]), 'test_f1': array([0.56412264, 0.49197652, 0.57032881, 0.59264092, 0.55910752]), 'train_f1': array([0.6734188 , 0.68581401, 0.66406811, 0.65180377, 0.6573162 ]), 'test_precision': array([0.55821107, 0.49350377, 0.56584412, 0.59163655, 0.55381326]), 'train_precision': array([0.68569233, 0.706428  , 0.67619448, 0.66200223, 0.66855385]), 'test_recall': array([0.61544482, 0.61456159, 0.60438413, 0.59812109, 0.60829854]), 'train_recall': array([0.64033142, 0.63591885, 0.62965621, 0.62032748, 0.62398069]), 'test_accuracy': array([0.56412264, 0.49197652, 0.57032881, 0.59264092, 0.55910752]), 'train_accuracy': array([0.6734188 , 0.68581401, 0.66406811, 0.65180377, 0.6573162 ]), 'test_AUCPR': array([0.59754606, 0.50719418, 0.62793617, 0.58652563, 0.49658267]), 'train_AUCPR': array([0.70935036, 0.72847695, 0.70527013, 0.7038829 , 0.71661092])}\n",
      "\u001b[32m[I 2022-09-08 16:18:18,623]\u001b[0m Trial 9 finished with values: [0.5631569418382237, 0.5727095308818048] and parameters: {'C': 8.551440623722192e-05}. \u001b[0m\n",
      "[Parallel(n_jobs=-1)]: Using backend LokyBackend with 4 concurrent workers.\n",
      "[Parallel(n_jobs=-1)]: Done   1 tasks      | elapsed:    2.0s\n",
      "[Parallel(n_jobs=-1)]: Done   2 out of   5 | elapsed:    2.1s remaining:    3.1s\n",
      "[Parallel(n_jobs=-1)]: Done   3 out of   5 | elapsed:    2.1s remaining:    1.4s\n",
      "[Parallel(n_jobs=-1)]: Done   5 out of   5 | elapsed:    3.9s remaining:    0.0s\n",
      "[Parallel(n_jobs=-1)]: Done   5 out of   5 | elapsed:    3.9s finished\n",
      "16:18:22 - INFO - __main__ - tracker | trial: 10: {'fit_time': array([1.77241349, 1.60797143, 1.72691154, 1.81534672, 1.78564215]), 'score_time': array([0.03585935, 0.03341746, 0.03279281, 0.03256774, 0.03159475]), 'test_AUCROC': array([0.62567851, 0.55391449, 0.63014259, 0.60523106, 0.54428865]), 'train_AUCROC': array([0.75214699, 0.76587931, 0.74436447, 0.73443059, 0.74116047]), 'test_f1': array([0.59634703, 0.52863666, 0.59433716, 0.58703027, 0.55715031]), 'train_f1': array([0.69266399, 0.70447206, 0.68461739, 0.67705004, 0.68181225]), 'test_precision': array([0.58209287, 0.52194829, 0.58202859, 0.57808476, 0.54767088]), 'train_precision': array([0.68825704, 0.70096813, 0.6818065 , 0.67650884, 0.68234755]), 'test_recall': array([0.6835377 , 0.67954071, 0.66936326, 0.64431106, 0.6565762 ]), 'train_recall': array([0.70433194, 0.7132233 , 0.69234784, 0.67858308, 0.68034445]), 'test_accuracy': array([0.59634703, 0.52863666, 0.59433716, 0.58703027, 0.55715031]), 'train_accuracy': array([0.69266399, 0.70447206, 0.68461739, 0.67705004, 0.68181225]), 'test_AUCPR': array([0.59638812, 0.54899311, 0.61975402, 0.56166955, 0.49219679]), 'train_AUCPR': array([0.73689665, 0.75151379, 0.72578638, 0.71904258, 0.73273404])}\n",
      "\u001b[32m[I 2022-09-08 16:18:22,624]\u001b[0m Trial 10 finished with values: [0.5638003179607324, 0.5918510613789978] and parameters: {'C': 454.18792586989986}. \u001b[0m\n",
      "[Parallel(n_jobs=-1)]: Using backend LokyBackend with 4 concurrent workers.\n",
      "[Parallel(n_jobs=-1)]: Done   1 tasks      | elapsed:    2.0s\n",
      "[Parallel(n_jobs=-1)]: Done   2 out of   5 | elapsed:    2.0s remaining:    3.0s\n",
      "[Parallel(n_jobs=-1)]: Done   3 out of   5 | elapsed:    2.0s remaining:    1.3s\n",
      "[Parallel(n_jobs=-1)]: Done   5 out of   5 | elapsed:    3.8s remaining:    0.0s\n",
      "[Parallel(n_jobs=-1)]: Done   5 out of   5 | elapsed:    3.8s finished\n",
      "16:18:26 - INFO - __main__ - tracker | trial: 11: {'fit_time': array([1.62011361, 1.64245415, 1.59239578, 1.88391304, 1.6955514 ]), 'score_time': array([0.03272247, 0.03318191, 0.05672908, 0.03211951, 0.0329237 ]), 'test_AUCROC': array([0.62511411, 0.55170575, 0.6297438 , 0.60531319, 0.54348507]), 'train_AUCROC': array([0.75197504, 0.76575807, 0.74415362, 0.7342025 , 0.74095384]), 'test_f1': array([0.59425962, 0.52733203, 0.59525052, 0.58676931, 0.55467119]), 'train_f1': array([0.69259875, 0.70378706, 0.68403027, 0.6769848 , 0.68089895]), 'test_precision': array([0.58031549, 0.52088747, 0.58295455, 0.57810665, 0.54555338]), 'train_precision': array([0.6884095 , 0.70064226, 0.68174204, 0.67695017, 0.68183607]), 'test_recall': array([0.68145056, 0.68006263, 0.66936326, 0.64222338, 0.65474948]), 'train_recall': array([0.70367954, 0.71165764, 0.69032553, 0.67708265, 0.67832213]), 'test_accuracy': array([0.59425962, 0.52733203, 0.59525052, 0.58676931, 0.55467119]), 'train_accuracy': array([0.69259875, 0.70378706, 0.68403027, 0.6769848 , 0.68089895]), 'test_AUCPR': array([0.59763978, 0.54825588, 0.62145724, 0.56248702, 0.49174903]), 'train_AUCPR': array([0.73764198, 0.7522374 , 0.72676563, 0.71999362, 0.7335873 ])}\n",
      "\u001b[32m[I 2022-09-08 16:18:26,562]\u001b[0m Trial 11 finished with values: [0.564317790101321, 0.5910723838903295] and parameters: {'C': 0.010332719841182413}. \u001b[0m\n",
      "[Parallel(n_jobs=-1)]: Using backend LokyBackend with 4 concurrent workers.\n",
      "[Parallel(n_jobs=-1)]: Done   1 tasks      | elapsed:    1.6s\n",
      "[Parallel(n_jobs=-1)]: Done   2 out of   5 | elapsed:    1.7s remaining:    2.5s\n",
      "[Parallel(n_jobs=-1)]: Done   3 out of   5 | elapsed:    1.7s remaining:    1.1s\n",
      "[Parallel(n_jobs=-1)]: Done   5 out of   5 | elapsed:    3.1s remaining:    0.0s\n",
      "[Parallel(n_jobs=-1)]: Done   5 out of   5 | elapsed:    3.1s finished\n",
      "16:18:29 - INFO - __main__ - tracker | trial: 12: {'fit_time': array([1.36566544, 1.2365427 , 1.29559731, 1.53076673, 1.39224625]), 'score_time': array([0.03299165, 0.0362401 , 0.03449631, 0.03200984, 0.0321908 ]), 'test_AUCROC': array([0.62014892, 0.53635056, 0.62632707, 0.60678886, 0.54042641]), 'train_AUCROC': array([0.748705  , 0.76291407, 0.74071883, 0.73067628, 0.73739647]), 'test_f1': array([0.58447489, 0.51950424, 0.58781315, 0.58663883, 0.55153967]), 'train_f1': array([0.68989138, 0.70166683, 0.68001827, 0.67310327, 0.67584317]), 'test_precision': array([0.57203201, 0.5148023 , 0.57701991, 0.57961631, 0.54353097]), 'train_precision': array([0.68749597, 0.70196642, 0.68041844, 0.67516008, 0.67932939]), 'test_recall': array([0.67127576, 0.67614823, 0.657881  , 0.63074113, 0.64352818]), 'train_recall': array([0.69624217, 0.70095897, 0.67890926, 0.66723204, 0.66612303]), 'test_accuracy': array([0.58447489, 0.51950424, 0.58781315, 0.58663883, 0.55153967]), 'train_accuracy': array([0.68989138, 0.70166683, 0.68001827, 0.67310327, 0.67584317]), 'test_AUCPR': array([0.60469732, 0.54174763, 0.63131932, 0.56692595, 0.48991656]), 'train_AUCPR': array([0.73905343, 0.75357307, 0.73003613, 0.7236375 , 0.73640497])}\n",
      "\u001b[32m[I 2022-09-08 16:18:29,807]\u001b[0m Trial 12 finished with values: [0.5669213551656108, 0.5860083623625677] and parameters: {'C': 0.0009446775292281431}. \u001b[0m\n",
      "[Parallel(n_jobs=-1)]: Using backend LokyBackend with 4 concurrent workers.\n",
      "[Parallel(n_jobs=-1)]: Done   1 tasks      | elapsed:    1.6s\n",
      "[Parallel(n_jobs=-1)]: Done   2 out of   5 | elapsed:    1.6s remaining:    2.4s\n",
      "[Parallel(n_jobs=-1)]: Done   3 out of   5 | elapsed:    1.7s remaining:    1.1s\n",
      "[Parallel(n_jobs=-1)]: Done   5 out of   5 | elapsed:    3.0s remaining:    0.0s\n",
      "[Parallel(n_jobs=-1)]: Done   5 out of   5 | elapsed:    3.0s finished\n",
      "16:18:32 - INFO - __main__ - tracker | trial: 13: {'fit_time': array([1.20570064, 1.2460556 , 1.31315827, 1.41927123, 1.25261402]), 'score_time': array([0.05599904, 0.03472614, 0.06006694, 0.03300524, 0.03192067]), 'test_AUCROC': array([0.61579967, 0.52606785, 0.62324471, 0.60857778, 0.54023321]), 'train_AUCROC': array([0.74468852, 0.75925349, 0.73662353, 0.72666709, 0.73328521]), 'test_f1': array([0.57938682, 0.51011089, 0.58533403, 0.58820459, 0.55232255]), 'train_f1': array([0.68770591, 0.69925303, 0.67721313, 0.66837367, 0.67232044]), 'test_precision': array([0.56780227, 0.5076556 , 0.57510335, 0.58243902, 0.54438787]), 'train_precision': array([0.68679392, 0.70318632, 0.67896436, 0.67151781, 0.67746053]), 'test_recall': array([0.66527524, 0.66623173, 0.65344468, 0.62317328, 0.64170146]), 'train_recall': array([0.6901096 , 0.68960793, 0.67232044, 0.65920804, 0.65783808]), 'test_accuracy': array([0.57938682, 0.51011089, 0.58533403, 0.58820459, 0.55232255]), 'train_accuracy': array([0.68770591, 0.69925303, 0.67721313, 0.66837367, 0.67232044]), 'test_AUCPR': array([0.60737885, 0.53536736, 0.63531471, 0.56969267, 0.48990234]), 'train_AUCPR': array([0.73645231, 0.7511725 , 0.72897011, 0.72347293, 0.73562119])}\n",
      "\u001b[32m[I 2022-09-08 16:18:32,909]\u001b[0m Trial 13 finished with values: [0.5675311869530473, 0.5827846451223272] and parameters: {'C': 0.00047334661627227944}. \u001b[0m\n",
      "[Parallel(n_jobs=-1)]: Using backend LokyBackend with 4 concurrent workers.\n",
      "[Parallel(n_jobs=-1)]: Done   1 tasks      | elapsed:    1.8s\n",
      "[Parallel(n_jobs=-1)]: Done   2 out of   5 | elapsed:    1.8s remaining:    2.7s\n",
      "[Parallel(n_jobs=-1)]: Done   3 out of   5 | elapsed:    1.8s remaining:    1.2s\n",
      "[Parallel(n_jobs=-1)]: Done   5 out of   5 | elapsed:    3.5s remaining:    0.0s\n",
      "[Parallel(n_jobs=-1)]: Done   5 out of   5 | elapsed:    3.5s finished\n",
      "16:18:36 - INFO - __main__ - tracker | trial: 14: {'fit_time': array([1.437814  , 1.41953087, 1.46353602, 1.60358238, 1.55196929]), 'score_time': array([0.03296065, 0.03287792, 0.03269887, 0.03335786, 0.03171992]), 'test_AUCROC': array([0.6223345 , 0.54254777, 0.62782902, 0.60602464, 0.54118873]), 'train_AUCROC': array([0.75041246, 0.76443729, 0.74247717, 0.73245164, 0.73920521]), 'test_f1': array([0.58838878, 0.52237443, 0.59042276, 0.58663883, 0.55284447]), 'train_f1': array([0.69210947, 0.70319992, 0.68266032, 0.67538652, 0.67858308]), 'test_precision': array([0.57506643, 0.51696765, 0.57901938, 0.578785  , 0.5442623 ]), 'train_precision': array([0.68878631, 0.70159203, 0.68177097, 0.67646866, 0.68111148]), 'test_recall': array([0.67753718, 0.67980167, 0.66257829, 0.63648225, 0.64979123]), 'train_recall': array([0.70087422, 0.70722161, 0.68510666, 0.67232044, 0.67160284]), 'test_accuracy': array([0.58838878, 0.52237443, 0.59042276, 0.58663883, 0.55284447]), 'train_accuracy': array([0.69210947, 0.70319992, 0.68266032, 0.67538652, 0.67858308]), 'test_AUCPR': array([0.60230024, 0.54487705, 0.62792655, 0.56536775, 0.49039826]), 'train_AUCPR': array([0.73925768, 0.75378322, 0.72947491, 0.72277876, 0.73589144])}\n",
      "\u001b[32m[I 2022-09-08 16:18:36,487]\u001b[0m Trial 14 finished with values: [0.5661739681719904, 0.587984930918315] and parameters: {'C': 0.001646264097881002}. \u001b[0m\n"
     ]
    }
   ],
   "source": [
    "lr_objective = create_cv_objective(X_train=X_train, y_train=y_train, cv=5, clf_callback=lr_callback,\n",
    "                                   result_tracker_callback=tracker_callback_fn, refit_params=[\"AUCPR\", \"AUCROC\"])\n",
    "\n",
    "# generate study name based on model, fold and some random word?\n",
    "study = optuna.create_study(directions=[\"maximize\", \"maximize\"], study_name=f\"{get_random_string(8)}-lr\")\n",
    "study.optimize(lr_objective, n_trials = 15)\n"
   ]
  },
  {
   "cell_type": "code",
   "execution_count": 12,
   "id": "1485cbdc-4f1a-4460-a4e6-f49caf4ce13b",
   "metadata": {},
   "outputs": [
    {
     "name": "stderr",
     "output_type": "stream",
     "text": [
      "/tmp/ipykernel_15299/2914740159.py:1: ExperimentalWarning: plot_pareto_front is experimental (supported from v2.8.0). The interface can change in the future.\n",
      "  optuna.visualization.matplotlib.plot_pareto_front(study, target_names=[\"AUCPR\", \"AUCROC\"])\n"
     ]
    },
    {
     "data": {
      "text/plain": [
       "<AxesSubplot:title={'center':'Pareto-front Plot'}, xlabel='AUCPR', ylabel='AUCROC'>"
      ]
     },
     "execution_count": 12,
     "metadata": {},
     "output_type": "execute_result"
    },
    {
     "data": {
      "image/png": "[encoded data removed]",
      "text/plain": [
       "<Figure size 640x480 with 1 Axes>"
      ]
     },
     "metadata": {},
     "output_type": "display_data"
    }
   ],
   "source": [
    "optuna.visualization.matplotlib.plot_pareto_front(study, target_names=[\"AUCPR\", \"AUCROC\"])\n"
   ]
  },
  {
   "cell_type": "code",
   "execution_count": null,
   "id": "ef84fcf7-a9f2-47e0-8804-a574536ca655",
   "metadata": {},
   "outputs": [],
   "source": [
    "\n",
    "trials = study.best_trials\n",
    "\n",
    "print(f\"Number of trials on the Pareto front: {len(study.best_trials)}\")\n",
    "\n",
    "trial_with_highest_accuracy = max(study.best_trials, key=lambda t: t.values[1])\n",
    "print(f\"Trial with highest accuracy: \")\n",
    "print(f\"\\tnumber: {trial_with_highest_accuracy.number}\")\n",
    "print(f\"\\tparams: {trial_with_highest_accuracy.params}\")\n",
    "print(f\"\\tvalues: {trial_with_highest_accuracy.values}\")\n",
    "\n",
    "print('Mean Score: {}'.format(trial.value))\n",
    "print(\"Best hyperparameters: {}\".format(trial.params))"
   ]
  },
  {
   "cell_type": "code",
   "execution_count": null,
   "id": "44fffac7-713c-45ff-a8e3-a7a316bef108",
   "metadata": {},
   "outputs": [],
   "source": [
    "trials"
   ]
  },
  {
   "cell_type": "code",
   "execution_count": null,
   "id": "2e4c4dc1-300e-442b-8d2a-8b6c9211d863",
   "metadata": {},
   "outputs": [],
   "source": [
    "study.trials_dataframe()"
   ]
  },
  {
   "cell_type": "code",
   "execution_count": null,
   "id": "248a483d-3e54-46a9-a283-c7ba12c8fc24",
   "metadata": {},
   "outputs": [],
   "source": [
    "rf_objective = create_cv_objective(X_train=X_train, y_train=y_train, cv=5, clf_callback=rf_callback, result_tracker_callback=tracker_callback_fn)\n",
    "\n",
    "\n",
    "# generate study name based on model, fold and some random word?\n",
    "study = optuna.create_study(direction='maximize', study_name=f\"{get_random_string(8)}-rf\")\n",
    "study.optimize(rf_objective, n_trials = 3)\n",
    "\n",
    "trial = study.best_trial\n",
    "\n",
    "print('Mean Score: {}'.format(trial.value))\n",
    "print(\"Best hyperparameters: {}\".format(trial.params))"
   ]
  },
  {
   "cell_type": "code",
   "execution_count": null,
   "id": "669fa1c9-6d0c-4874-b1bd-77c41fb843da",
   "metadata": {},
   "outputs": [],
   "source": [
    "study.trials_dataframe()"
   ]
  },
  {
   "cell_type": "code",
   "execution_count": null,
   "id": "0d1980d7-a7f5-4341-8bbe-56a2636e6df1",
   "metadata": {},
   "outputs": [],
   "source": []
  },
  {
   "cell_type": "code",
   "execution_count": null,
   "id": "a6594c30-e73d-4214-989c-54512bef0e5b",
   "metadata": {},
   "outputs": [],
   "source": []
  },
  {
   "cell_type": "code",
   "execution_count": null,
   "id": "df67346c-124a-49ec-9cfe-913d273f66c2",
   "metadata": {},
   "outputs": [],
   "source": []
  },
  {
   "cell_type": "code",
   "execution_count": null,
   "id": "58d97f92-0a46-4bd0-92be-7124e6c91768",
   "metadata": {},
   "outputs": [],
   "source": []
  }
 ],
 "metadata": {
  "kernelspec": {
   "display_name": ".conda-bioblp-env [Python]",
   "language": "python",
   "name": "conda-env-.conda-bioblp-env-py"
  },
  "language_info": {
   "codemirror_mode": {
    "name": "ipython",
    "version": 3
   },
   "file_extension": ".py",
   "mimetype": "text/x-python",
   "name": "python",
   "nbconvert_exporter": "python",
   "pygments_lexer": "ipython3",
   "version": "3.9.13"
  },
  "vscode": {
   "interpreter": {
    "hash": "c313b0b0929f94c03130caa81adcdac46c3c408d7f1caca6c1104b192c16f937"
   }
  }
 },
 "nbformat": 4,
 "nbformat_minor": 5
}
