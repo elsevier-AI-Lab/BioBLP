{
 "cells": [
  {
   "cell_type": "code",
   "execution_count": 1,
   "metadata": {},
   "outputs": [],
   "source": [
    "import pandas as pd\n",
    "import torch"
   ]
  },
  {
   "cell_type": "code",
   "execution_count": 2,
   "metadata": {},
   "outputs": [],
   "source": [
    "unique_biokg_prot_ids = pd.read_csv('../data/biokg/unique_proteins.csv', \n",
    "                                    index_col=0)"
   ]
  },
  {
   "cell_type": "code",
   "execution_count": 3,
   "metadata": {},
   "outputs": [
    {
     "data": {
      "text/html": [
       "<div>\n",
       "<style scoped>\n",
       "    .dataframe tbody tr th:only-of-type {\n",
       "        vertical-align: middle;\n",
       "    }\n",
       "\n",
       "    .dataframe tbody tr th {\n",
       "        vertical-align: top;\n",
       "    }\n",
       "\n",
       "    .dataframe thead th {\n",
       "        text-align: right;\n",
       "    }\n",
       "</style>\n",
       "<table border=\"1\" class=\"dataframe\">\n",
       "  <thead>\n",
       "    <tr style=\"text-align: right;\">\n",
       "      <th></th>\n",
       "      <th>protein_id</th>\n",
       "    </tr>\n",
       "  </thead>\n",
       "  <tbody>\n",
       "    <tr>\n",
       "      <th>0</th>\n",
       "      <td>P9WHP6</td>\n",
       "    </tr>\n",
       "    <tr>\n",
       "      <th>1</th>\n",
       "      <td>Q54KD4</td>\n",
       "    </tr>\n",
       "    <tr>\n",
       "      <th>2</th>\n",
       "      <td>Q7Z6G3</td>\n",
       "    </tr>\n",
       "    <tr>\n",
       "      <th>3</th>\n",
       "      <td>Q9Y7S6</td>\n",
       "    </tr>\n",
       "    <tr>\n",
       "      <th>4</th>\n",
       "      <td>Q9VL31</td>\n",
       "    </tr>\n",
       "    <tr>\n",
       "      <th>...</th>\n",
       "      <td>...</td>\n",
       "    </tr>\n",
       "    <tr>\n",
       "      <th>122897</th>\n",
       "      <td>P24271</td>\n",
       "    </tr>\n",
       "    <tr>\n",
       "      <th>122898</th>\n",
       "      <td>D5A7J3</td>\n",
       "    </tr>\n",
       "    <tr>\n",
       "      <th>122899</th>\n",
       "      <td>Q53NK6</td>\n",
       "    </tr>\n",
       "    <tr>\n",
       "      <th>122900</th>\n",
       "      <td>P70459</td>\n",
       "    </tr>\n",
       "    <tr>\n",
       "      <th>122901</th>\n",
       "      <td>O76368</td>\n",
       "    </tr>\n",
       "  </tbody>\n",
       "</table>\n",
       "<p>122902 rows × 1 columns</p>\n",
       "</div>"
      ],
      "text/plain": [
       "       protein_id\n",
       "0          P9WHP6\n",
       "1          Q54KD4\n",
       "2          Q7Z6G3\n",
       "3          Q9Y7S6\n",
       "4          Q9VL31\n",
       "...           ...\n",
       "122897     P24271\n",
       "122898     D5A7J3\n",
       "122899     Q53NK6\n",
       "122900     P70459\n",
       "122901     O76368\n",
       "\n",
       "[122902 rows x 1 columns]"
      ]
     },
     "execution_count": 3,
     "metadata": {},
     "output_type": "execute_result"
    }
   ],
   "source": [
    "unique_biokg_prot_ids"
   ]
  },
  {
   "cell_type": "code",
   "execution_count": 4,
   "metadata": {},
   "outputs": [],
   "source": [
    "biokg_uniprot_set = set(unique_biokg_prot_ids['protein_id'])"
   ]
  },
  {
   "cell_type": "code",
   "execution_count": 5,
   "metadata": {},
   "outputs": [],
   "source": [
    "unique_biokg_uniprot_ids =  set(unique_biokg_prot_ids)"
   ]
  },
  {
   "cell_type": "code",
   "execution_count": 6,
   "metadata": {},
   "outputs": [],
   "source": [
    "swissprot_to_uniprot_ids = pd.read_csv('../data/uniprot.tsv',\n",
    "                                    sep='\\t')"
   ]
  },
  {
   "cell_type": "code",
   "execution_count": 7,
   "metadata": {},
   "outputs": [],
   "source": [
    "uniprot_emb_set = set(swissprot_to_uniprot_ids['Entry'])"
   ]
  },
  {
   "cell_type": "code",
   "execution_count": null,
   "metadata": {},
   "outputs": [],
   "source": [
    "uniprot_emb_set"
   ]
  },
  {
   "cell_type": "code",
   "execution_count": 9,
   "metadata": {},
   "outputs": [
    {
     "data": {
      "text/plain": [
       "82379"
      ]
     },
     "execution_count": 9,
     "metadata": {},
     "output_type": "execute_result"
    }
   ],
   "source": [
    "len(biokg_uniprot_set.difference(uniprot_emb_set))"
   ]
  },
  {
   "cell_type": "code",
   "execution_count": 10,
   "metadata": {},
   "outputs": [
    {
     "data": {
      "text/plain": [
       "444"
      ]
     },
     "execution_count": 10,
     "metadata": {},
     "output_type": "execute_result"
    }
   ],
   "source": [
    "len(uniprot_emb_set.difference(biokg_uniprot_set))"
   ]
  },
  {
   "cell_type": "code",
   "execution_count": 11,
   "metadata": {},
   "outputs": [],
   "source": [
    "biokg_proteins_without_emb = biokg_uniprot_set.difference(uniprot_emb_set)"
   ]
  },
  {
   "cell_type": "code",
   "execution_count": 12,
   "metadata": {},
   "outputs": [],
   "source": [
    "test = pd.DataFrame(biokg_proteins_without_emb)"
   ]
  },
  {
   "cell_type": "code",
   "execution_count": null,
   "metadata": {},
   "outputs": [],
   "source": [
    "# To store the ones we're missing\n",
    "# test.to_csv('prot_without_emb.csv', index=False, header=False)"
   ]
  },
  {
   "cell_type": "code",
   "execution_count": 13,
   "metadata": {},
   "outputs": [],
   "source": [
    "# Load all missing proteins\n",
    "biokg_missing_proteins = pd.read_csv('../data/uniprot_sequences.tsv',\n",
    "                                    sep='\\t')"
   ]
  },
  {
   "cell_type": "code",
   "execution_count": 14,
   "metadata": {},
   "outputs": [],
   "source": [
    "protein_sequences = biokg_missing_proteins[['From', 'Sequence']]"
   ]
  },
  {
   "cell_type": "code",
   "execution_count": 17,
   "metadata": {},
   "outputs": [
    {
     "data": {
      "text/html": [
       "<div>\n",
       "<style scoped>\n",
       "    .dataframe tbody tr th:only-of-type {\n",
       "        vertical-align: middle;\n",
       "    }\n",
       "\n",
       "    .dataframe tbody tr th {\n",
       "        vertical-align: top;\n",
       "    }\n",
       "\n",
       "    .dataframe thead th {\n",
       "        text-align: right;\n",
       "    }\n",
       "</style>\n",
       "<table border=\"1\" class=\"dataframe\">\n",
       "  <thead>\n",
       "    <tr style=\"text-align: right;\">\n",
       "      <th></th>\n",
       "      <th>From</th>\n",
       "      <th>Sequence</th>\n",
       "    </tr>\n",
       "  </thead>\n",
       "  <tbody>\n",
       "    <tr>\n",
       "      <th>0</th>\n",
       "      <td>Q8X730</td>\n",
       "      <td>MALWGGRFTQAADQRFKQFNDSLRFDYRLAEQDIVGSVAWSKALVT...</td>\n",
       "    </tr>\n",
       "    <tr>\n",
       "      <th>1</th>\n",
       "      <td>Q29RM2</td>\n",
       "      <td>MITLITEQLQKQTLDELKCTRFSISLPLPDHADISNCGNPFQLVSE...</td>\n",
       "    </tr>\n",
       "  </tbody>\n",
       "</table>\n",
       "</div>"
      ],
      "text/plain": [
       "     From                                           Sequence\n",
       "0  Q8X730  MALWGGRFTQAADQRFKQFNDSLRFDYRLAEQDIVGSVAWSKALVT...\n",
       "1  Q29RM2  MITLITEQLQKQTLDELKCTRFSISLPLPDHADISNCGNPFQLVSE..."
      ]
     },
     "execution_count": 17,
     "metadata": {},
     "output_type": "execute_result"
    }
   ],
   "source": [
    "protein_sequences.head(2)"
   ]
  },
  {
   "cell_type": "code",
   "execution_count": 18,
   "metadata": {},
   "outputs": [],
   "source": [
    "import numpy as np\n",
    "import bio_embeddings\n",
    "\n",
    "from bio_embeddings.embed import SeqVecEmbedder, ProtTransBertBFDEmbedder, prottrans_t5_embedder, esm_embedder"
   ]
  },
  {
   "cell_type": "code",
   "execution_count": 19,
   "metadata": {},
   "outputs": [],
   "source": [
    "# IF THIS CELLS EXECUTES FOR THE FIRST TIME, EXPECT A DELAY\n",
    "prot_trans_embedder = ProtTransBertBFDEmbedder()"
   ]
  },
  {
   "cell_type": "code",
   "execution_count": 20,
   "metadata": {},
   "outputs": [],
   "source": [
    "# Get the aggregated protein representation\n",
    "\n",
    "def get_protein_repr(amino_repr):\n",
    "    # Here we need to go from a collection of amino-acid embeddings to a full protein embedding\n",
    "    #\n",
    "    # Example: \n",
    "    #    \n",
    "    #   M : (1,1024)\n",
    "    #   A : (1,1024)\n",
    "    #   S : (1,1024)\n",
    "    #   \n",
    "    #  Output: An aggregated representation for proteins\n",
    "    #\n",
    "    #  Type: Dict(protein_id: (embedding))\n",
    "    #\n",
    "    #  e.g Dict(: (LENG8_MOUSE, 1024))\n",
    "     \n",
    "    emb_matrix = torch.Tensor(amino_repr)\n",
    "    protein_emb = torch.mean(emb_matrix, dim=0)\n",
    "\n",
    "    return protein_emb"
   ]
  },
  {
   "cell_type": "code",
   "execution_count": 24,
   "metadata": {},
   "outputs": [],
   "source": [
    "protein_sequences_sample = protein_sequences.sample(n=2)"
   ]
  },
  {
   "cell_type": "code",
   "execution_count": 25,
   "metadata": {},
   "outputs": [
    {
     "name": "stdout",
     "output_type": "stream",
     "text": [
      "CPU times: user 21.7 s, sys: 460 ms, total: 22.1 s\n",
      "Wall time: 2.78 s\n"
     ]
    }
   ],
   "source": [
    "%%time\n",
    "protein_sequences_sample['embedding'] = protein_sequences_sample['Sequence'].apply(lambda x: prot_trans_embedder.embed(x))"
   ]
  },
  {
   "cell_type": "code",
   "execution_count": 26,
   "metadata": {},
   "outputs": [],
   "source": [
    "protein_sequences_sample['Aggregated'] = protein_sequences_sample['embedding'].apply(lambda x: get_protein_repr(x))"
   ]
  },
  {
   "cell_type": "markdown",
   "metadata": {},
   "source": [
    "In the above example we see a protein of 406 amino-acids is represented by a (406,1024) matrix.\n",
    "\n",
    "To get the final representation we will make it a (1,1024) by \"squashing\" the amino-acids together."
   ]
  },
  {
   "cell_type": "code",
   "execution_count": 27,
   "metadata": {},
   "outputs": [],
   "source": [
    "protein_sequences_sample.to_csv('../data/processed/protein_sequences.tsv',\n",
    "                                sep='\\t')"
   ]
  },
  {
   "cell_type": "code",
   "execution_count": null,
   "metadata": {},
   "outputs": [],
   "source": [
    "### Now we have to do it for all."
   ]
  }
 ],
 "metadata": {
  "kernelspec": {
   "display_name": "bio-blp",
   "language": "python",
   "name": "bio-blp"
  },
  "language_info": {
   "codemirror_mode": {
    "name": "ipython",
    "version": 3
   },
   "file_extension": ".py",
   "mimetype": "text/x-python",
   "name": "python",
   "nbconvert_exporter": "python",
   "pygments_lexer": "ipython3",
   "version": "3.8.5"
  }
 },
 "nbformat": 4,
 "nbformat_minor": 4
}
