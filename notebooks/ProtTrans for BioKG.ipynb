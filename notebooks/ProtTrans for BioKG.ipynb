{
 "cells": [
  {
   "cell_type": "code",
   "execution_count": null,
   "metadata": {},
   "outputs": [],
   "source": [
    "import pandas as pd\n",
    "import torch\n",
    "import tqdm\n",
    "import json"
   ]
  },
  {
   "cell_type": "markdown",
   "metadata": {},
   "source": [
    "#### ID mapping creation"
   ]
  },
  {
   "cell_type": "code",
   "execution_count": null,
   "metadata": {},
   "outputs": [],
   "source": [
    "unique_biokg_prot_ids = pd.read_csv('../data/biokg/unique_proteins.csv', \n",
    "                                    index_col=0)"
   ]
  },
  {
   "cell_type": "code",
   "execution_count": null,
   "metadata": {},
   "outputs": [],
   "source": [
    "uniprot_to_id_mapping = unique_biokg_prot_ids['protein_id'].to_dict()\n",
    "id_to_uniprot_mapping = {v:k for k,v in uniprot_to_id_mapping.items()}"
   ]
  },
  {
   "cell_type": "code",
   "execution_count": null,
   "metadata": {},
   "outputs": [],
   "source": [
    "id_to_uniprot_mapping"
   ]
  },
  {
   "cell_type": "code",
   "execution_count": null,
   "metadata": {},
   "outputs": [],
   "source": [
    "len(uniprot_to_id_mapping)"
   ]
  },
  {
   "cell_type": "code",
   "execution_count": null,
   "metadata": {},
   "outputs": [],
   "source": [
    "# Create uniprot_id, idx (internal index) from BioKG proteins.\n",
    "uniprot_to_id_mapping = unique_biokg_prot_ids['protein_id'].to_dict()\n",
    "\n",
    "# and the inverse...\n",
    "id_to_uniprot_mapping = {v:k for k,v in uniprot_to_id_mapping.items()}\n",
    "\n",
    "# create json objects from dictionaries\n",
    "uniprot_to_id = json.dumps(uniprot_to_id_mapping)\n",
    "id_to_uniprot = json.dumps(id_to_uniprot_mapping)"
   ]
  },
  {
   "cell_type": "code",
   "execution_count": null,
   "metadata": {},
   "outputs": [],
   "source": [
    "# Save the mappings\n",
    "# Serialize data into file:\n",
    "json.dump(uniprot_to_id, open(\"../data/processed/uniprot_to_id_mapping.json\", 'w'))\n",
    "json.dump(id_to_uniprot, open(\"../data/processed/id_to_uniprot_mapping.json\", 'w'))"
   ]
  },
  {
   "cell_type": "markdown",
   "metadata": {},
   "source": [
    "#### ID mapping done\n",
    "\n",
    "#### Coverage check"
   ]
  },
  {
   "cell_type": "code",
   "execution_count": null,
   "metadata": {},
   "outputs": [],
   "source": [
    "biokg_uniprot_set = set(unique_biokg_prot_ids['protein_id'])"
   ]
  },
  {
   "cell_type": "code",
   "execution_count": null,
   "metadata": {},
   "outputs": [],
   "source": [
    "unique_biokg_uniprot_ids =  set(unique_biokg_prot_ids)"
   ]
  },
  {
   "cell_type": "code",
   "execution_count": null,
   "metadata": {},
   "outputs": [],
   "source": [
    "swissprot_to_uniprot_ids = pd.read_csv('../data/uniprot.tsv',\n",
    "                                    sep='\\t')"
   ]
  },
  {
   "cell_type": "code",
   "execution_count": null,
   "metadata": {},
   "outputs": [],
   "source": [
    "uniprot_emb_set = set(swissprot_to_uniprot_ids['Entry'])"
   ]
  },
  {
   "cell_type": "code",
   "execution_count": null,
   "metadata": {},
   "outputs": [],
   "source": [
    "len(biokg_uniprot_set.difference(uniprot_emb_set))"
   ]
  },
  {
   "cell_type": "code",
   "execution_count": null,
   "metadata": {},
   "outputs": [],
   "source": [
    "len(uniprot_emb_set.difference(biokg_uniprot_set))"
   ]
  },
  {
   "cell_type": "code",
   "execution_count": null,
   "metadata": {},
   "outputs": [],
   "source": [
    "biokg_proteins_without_emb = biokg_uniprot_set.difference(uniprot_emb_set)"
   ]
  },
  {
   "cell_type": "code",
   "execution_count": null,
   "metadata": {},
   "outputs": [],
   "source": [
    "test = pd.DataFrame(biokg_proteins_without_emb)"
   ]
  },
  {
   "cell_type": "code",
   "execution_count": null,
   "metadata": {},
   "outputs": [],
   "source": [
    "# To store the ones we're missing\n",
    "# test.to_csv('prot_without_emb.csv', index=False, header=False)"
   ]
  },
  {
   "cell_type": "code",
   "execution_count": null,
   "metadata": {},
   "outputs": [],
   "source": [
    "# Load all missing proteins\n",
    "biokg_missing_proteins = pd.read_csv('../data/uniprot_sequences.tsv',\n",
    "                                    sep='\\t')"
   ]
  },
  {
   "cell_type": "code",
   "execution_count": null,
   "metadata": {},
   "outputs": [],
   "source": [
    "biokg_missing_proteins.sort_values(by='Length').head(8)"
   ]
  },
  {
   "cell_type": "code",
   "execution_count": null,
   "metadata": {},
   "outputs": [],
   "source": [
    "protein_sequences = biokg_missing_proteins[['From', 'Sequence']]"
   ]
  },
  {
   "cell_type": "code",
   "execution_count": null,
   "metadata": {},
   "outputs": [],
   "source": [
    "protein_sequences.head(2)"
   ]
  },
  {
   "cell_type": "markdown",
   "metadata": {},
   "source": [
    "#### Coverage check done\n",
    "\n",
    "#### Embedding gen"
   ]
  },
  {
   "cell_type": "code",
   "execution_count": null,
   "metadata": {},
   "outputs": [],
   "source": [
    "import numpy as np\n",
    "import bio_embeddings\n",
    "from bio_embeddings.embed import SeqVecEmbedder, ProtTransBertBFDEmbedder, prottrans_t5_embedder, esm_embedder"
   ]
  },
  {
   "cell_type": "code",
   "execution_count": null,
   "metadata": {},
   "outputs": [],
   "source": [
    "# IF THIS CELLS EXECUTES FOR THE FIRST TIME, EXPECT A DELAY\n",
    "prot_trans_embedder = ProtTransBertBFDEmbedder()"
   ]
  },
  {
   "cell_type": "code",
   "execution_count": null,
   "metadata": {},
   "outputs": [],
   "source": [
    "# Get the aggregated protein representation\n",
    "\n",
    "def get_protein_repr(amino_repr, embedder):\n",
    "    # Here we need to go from a collection of amino-acid embeddings to a full protein embedding\n",
    "    #\n",
    "    # Example: \n",
    "    #    \n",
    "    #   M : (1,1024)\n",
    "    #   A : (1,1024)\n",
    "    #   S : (1,1024)\n",
    "    #   \n",
    "    #  Output: An aggregated representation for proteins\n",
    "    #\n",
    "    #  Type: Dict(protein_id: (embedding))\n",
    "    #\n",
    "    #  e.g Dict(: (LENG8_MOUSE, 1024))\n",
    "    \n",
    "    amino_repr_embedding = embedder.embed(amino_repr)\n",
    "    emb_matrix = torch.Tensor(amino_repr_embedding)\n",
    "    protein_emb = torch.mean(emb_matrix, dim=0)\n",
    "    \n",
    "    return protein_emb"
   ]
  },
  {
   "cell_type": "code",
   "execution_count": null,
   "metadata": {},
   "outputs": [],
   "source": [
    "protein_sequences['seq_len'] = protein_sequences['Sequence'].apply(len)"
   ]
  },
  {
   "cell_type": "code",
   "execution_count": null,
   "metadata": {},
   "outputs": [],
   "source": [
    "protein_sequences = protein_sequences.sort_values(by='seq_len')\n"
   ]
  },
  {
   "cell_type": "code",
   "execution_count": null,
   "metadata": {},
   "outputs": [],
   "source": [
    "protein_sequences['embedding'] = None"
   ]
  },
  {
   "cell_type": "code",
   "execution_count": null,
   "metadata": {},
   "outputs": [],
   "source": [
    "protein_sequences_a = protein_sequences[:10000]\n",
    "\n",
    "protein_sequences_b = protein_sequences[10001:20000]\n",
    "\n",
    "protein_sequences_c = protein_sequences[20001:30000]\n",
    "\n",
    "protein_sequences_d = protein_sequences[30001:40000]\n",
    "\n",
    "protein_sequences_e = protein_sequences[40001:50000]\n",
    "\n",
    "protein_sequences_f = protein_sequences[50001:60000]\n",
    "\n",
    "protein_sequences_g = protein_sequences[60001:70000]\n",
    "\n",
    "protein_sequences_h = protein_sequences[70001:82324]"
   ]
  },
  {
   "cell_type": "code",
   "execution_count": null,
   "metadata": {},
   "outputs": [],
   "source": [
    "df_list = [protein_sequences_a, protein_sequences_b, protein_sequences_c, protein_sequences_d, protein_sequences_e, protein_sequences_f,\n",
    "           protein_sequences_g]"
   ]
  },
  {
   "cell_type": "code",
   "execution_count": null,
   "metadata": {},
   "outputs": [],
   "source": [
    "# protein_sequences_a_test = protein_sequences_a.sample(10)\n",
    "# protein_sequences_a_test"
   ]
  },
  {
   "cell_type": "code",
   "execution_count": null,
   "metadata": {},
   "outputs": [],
   "source": [
    "%%time\n",
    "\n",
    "# Test the first and time it.\n",
    "for row in protein_sequences_a.itertuples():\n",
    "    protein_sequences_a.at[row.Index, 'embedding'] = get_protein_repr(row[1], prot_trans_embedder)"
   ]
  },
  {
   "cell_type": "code",
   "execution_count": null,
   "metadata": {},
   "outputs": [],
   "source": [
    "protein_sequences_a.to_csv('../data/processed/protein_sequences_a.tsv',\n",
    "                                sep='\\t')"
   ]
  },
  {
   "cell_type": "code",
   "execution_count": null,
   "metadata": {},
   "outputs": [],
   "source": [
    "# Loop that generates all embeddings for all proteins\n",
    "for df in df_list:\n",
    "    for row in df.itertuples():\n",
    "        df.at[row.Index, 'embedding'] = get_protein_repr(row[1], prot_trans_embedder)"
   ]
  },
  {
   "cell_type": "code",
   "execution_count": null,
   "metadata": {},
   "outputs": [],
   "source": [
    "protein_sequences_a.head(3)"
   ]
  },
  {
   "cell_type": "markdown",
   "metadata": {},
   "source": [
    "In the above example we see a protein of 406 amino-acids is represented by a (406,1024) matrix.\n",
    "\n",
    "To get the final representation we will make it a (1,1024) by \"squashing\" the amino-acids together."
   ]
  },
  {
   "cell_type": "code",
   "execution_count": null,
   "metadata": {},
   "outputs": [],
   "source": [
    "### Load embeddings - merge - store them for use down the line"
   ]
  },
  {
   "cell_type": "code",
   "execution_count": null,
   "metadata": {},
   "outputs": [],
   "source": [
    "from pathlib import Path\n",
    "\n",
    "p = Path(r'../data/processed/').glob('**/*.tsv')\n",
    "files = [x for x in p if x.is_file()]"
   ]
  },
  {
   "cell_type": "code",
   "execution_count": null,
   "metadata": {},
   "outputs": [],
   "source": [
    "files"
   ]
  },
  {
   "cell_type": "code",
   "execution_count": null,
   "metadata": {},
   "outputs": [],
   "source": [
    "li=[]\n",
    "\n",
    "for file in files:\n",
    "    df = pd.read_csv(f\"{file}\", \n",
    "                    index_col=None, \n",
    "                    header=0,\n",
    "                    sep='\\t')\n",
    "    li.append(df)\n",
    "\n",
    "frame = pd.concat(li, axis=0, ignore_index=True)"
   ]
  },
  {
   "cell_type": "code",
   "execution_count": null,
   "metadata": {},
   "outputs": [],
   "source": [
    "frame.head(3)"
   ]
  },
  {
   "cell_type": "code",
   "execution_count": null,
   "metadata": {},
   "outputs": [],
   "source": [
    "frame = frame[['From','embedding']]\n",
    "\n",
    "# Test for errors\n",
    "frame.embedding.isnull().values.any()"
   ]
  },
  {
   "cell_type": "code",
   "execution_count": null,
   "metadata": {},
   "outputs": [],
   "source": [
    "# Match internal ids to uniprots\n",
    "frame['indx'] = frame['From'].apply(lambda x: id_to_uniprot_mapping[x])\n"
   ]
  },
  {
   "cell_type": "code",
   "execution_count": null,
   "metadata": {},
   "outputs": [],
   "source": [
    "frame[['indx']]"
   ]
  },
  {
   "cell_type": "code",
   "execution_count": null,
   "metadata": {},
   "outputs": [],
   "source": [
    "# Store\n",
    "frame.to_csv('../data/processed/biokg_prottrans_emb.tsv', sep='\\t')"
   ]
  }
 ],
 "metadata": {
  "kernelspec": {
   "display_name": "bio-blp",
   "language": "python",
   "name": "bio-blp"
  },
  "language_info": {
   "codemirror_mode": {
    "name": "ipython",
    "version": 3
   },
   "file_extension": ".py",
   "mimetype": "text/x-python",
   "name": "python",
   "nbconvert_exporter": "python",
   "pygments_lexer": "ipython3",
   "version": "3.8.5"
  }
 },
 "nbformat": 4,
 "nbformat_minor": 4
}
