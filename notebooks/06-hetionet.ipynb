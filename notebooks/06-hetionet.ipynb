{
 "cells": [
  {
   "cell_type": "markdown",
   "source": [
    "# Exporting Hetionet from PyKEEN\n",
    "\n",
    "We will use PyKEEN to export Hetionet, because we need the string identifiers to retrieve properties.\n",
    "\n",
    "The resulting triples will be stored in `data/hetionet`."
   ],
   "metadata": {
    "collapsed": false
   }
  },
  {
   "cell_type": "code",
   "execution_count": 1,
   "metadata": {
    "collapsed": true
   },
   "outputs": [],
   "source": [
    "import os.path as osp\n",
    "import os\n",
    "\n",
    "import pandas as pd\n",
    "from pykeen.datasets import Hetionet"
   ]
  },
  {
   "cell_type": "code",
   "execution_count": 2,
   "outputs": [],
   "source": [
    "dataset = Hetionet()\n",
    "train, valid, test = dataset.training, dataset.validation, dataset.testing\n",
    "splits_dict = {'train': train, 'valid': valid, 'test':test}"
   ],
   "metadata": {
    "collapsed": false
   }
  },
  {
   "cell_type": "markdown",
   "source": [
    "## Some stats"
   ],
   "metadata": {
    "collapsed": false
   }
  },
  {
   "cell_type": "code",
   "execution_count": 3,
   "outputs": [
    {
     "name": "stdout",
     "output_type": "stream",
     "text": [
      "There are 45,158 entities and 24 relations.\n",
      "  Split      Triples\n",
      "--------------------\n",
      "  train    1,800,157\n",
      "  valid      225,020\n",
      "   test      225,020\n"
     ]
    }
   ],
   "source": [
    "print(f'There are {dataset.num_entities:,} entities and {dataset.num_relations:,} relations.')\n",
    "print(f'{\"Split\":^10}{\"Triples\":>10}')\n",
    "print('-' * 20)\n",
    "for name, split in splits_dict.items():\n",
    "    print(f'{name:^10}{split.num_triples:>10,}')"
   ],
   "metadata": {
    "collapsed": false
   }
  },
  {
   "cell_type": "code",
   "execution_count": 4,
   "outputs": [
    {
     "name": "stderr",
     "output_type": "stream",
     "text": [
      "Reconstructing all label-based triples. This is expensive and rarely needed.\n",
      "Reconstructing all label-based triples. This is expensive and rarely needed.\n",
      "Reconstructing all label-based triples. This is expensive and rarely needed.\n"
     ]
    }
   ],
   "source": [
    "out_path = osp.join('..', 'data', 'hetionet')\n",
    "if not osp.exists(out_path):\n",
    "    os.mkdir(out_path)\n",
    "\n",
    "for name, split in splits_dict.items():\n",
    "    pd.DataFrame(split.triples).to_csv(osp.join(out_path, f'hetionet.{name}.csv'), sep='\\t', index=False, header=False)"
   ],
   "metadata": {
    "collapsed": false
   }
  }
 ],
 "metadata": {
  "kernelspec": {
   "display_name": "Python 3",
   "language": "python",
   "name": "python3"
  },
  "language_info": {
   "codemirror_mode": {
    "name": "ipython",
    "version": 2
   },
   "file_extension": ".py",
   "mimetype": "text/x-python",
   "name": "python",
   "nbconvert_exporter": "python",
   "pygments_lexer": "ipython2",
   "version": "2.7.6"
  }
 },
 "nbformat": 4,
 "nbformat_minor": 0
}
