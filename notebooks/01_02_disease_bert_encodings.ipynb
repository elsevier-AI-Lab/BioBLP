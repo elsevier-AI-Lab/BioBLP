{
 "cells": [
  {
   "cell_type": "code",
   "execution_count": 4,
   "metadata": {},
   "outputs": [],
   "source": [
    "%load_ext autoreload\n",
    "%autoreload 2"
   ]
  },
  {
   "cell_type": "markdown",
   "metadata": {},
   "source": [
    "### Basic imports"
   ]
  },
  {
   "cell_type": "code",
   "execution_count": 2,
   "metadata": {},
   "outputs": [],
   "source": [
    "import os\n",
    "import numpy as np\n",
    "import pandas as pd\n",
    "from pathlib import Path\n",
    "import datetime"
   ]
  },
  {
   "cell_type": "markdown",
   "metadata": {},
   "source": [
    "Set paths"
   ]
  },
  {
   "cell_type": "code",
   "execution_count": 11,
   "metadata": {},
   "outputs": [],
   "source": [
    "DATA_DIR = Path(\"/home/jovyan/BioBLP/data\")\n",
    "#DISEASE_ATTR_DATA_DIR = DATA_DIR.joinpath(\"raw/disease_attributes\")\n",
    "DISEASE_ATTR_DATA_DIR=Path(\".\")\n",
    "biokg_disease_path = DATA_DIR.joinpath(\"raw/biokg.metadata.disease.tsv\")\n",
    "mesh_disease_notes_merged_path = DISEASE_ATTR_DATA_DIR.joinpath(\"mesh_disease_notes_merged.tsv\")\n",
    "biokg_mesh_df_path = DISEASE_ATTR_DATA_DIR.joinpath(\"biokg_w_dis_mesh_notes.tsv\")\n"
   ]
  },
  {
   "cell_type": "markdown",
   "metadata": {},
   "source": [
    "## Retrieve disease textual properties for biokg entities\n",
    "Precurser notebook can be located at `./disease_mesh_notes_retrieval.ipynb`, which contains data inspection, retrieving MeSH textual notes using SPARQL queries against MeSH query endpoint, as well as postprocessing and serialising to disk.\n",
    "The dataframe stored at above mentioned path `mesh_disease_notes_merged_path` is a product of the above notebook"
   ]
  },
  {
   "cell_type": "code",
   "execution_count": 6,
   "metadata": {},
   "outputs": [
    {
     "name": "stdout",
     "output_type": "stream",
     "text": [
      "31617\n"
     ]
    },
    {
     "data": {
      "text/html": [
       "<div>\n",
       "<style scoped>\n",
       "    .dataframe tbody tr th:only-of-type {\n",
       "        vertical-align: middle;\n",
       "    }\n",
       "\n",
       "    .dataframe tbody tr th {\n",
       "        vertical-align: top;\n",
       "    }\n",
       "\n",
       "    .dataframe thead th {\n",
       "        text-align: right;\n",
       "    }\n",
       "</style>\n",
       "<table border=\"1\" class=\"dataframe\">\n",
       "  <thead>\n",
       "    <tr style=\"text-align: right;\">\n",
       "      <th></th>\n",
       "      <th>note</th>\n",
       "    </tr>\n",
       "    <tr>\n",
       "      <th>mesh_id</th>\n",
       "      <th></th>\n",
       "    </tr>\n",
       "  </thead>\n",
       "  <tbody>\n",
       "    <tr>\n",
       "      <th>D014525</th>\n",
       "      <td>Narrowing of any part of the URETHRA. It is ch...</td>\n",
       "    </tr>\n",
       "    <tr>\n",
       "      <th>D017262</th>\n",
       "      <td>Low-molecular-weight compounds produced by mic...</td>\n",
       "    </tr>\n",
       "    <tr>\n",
       "      <th>D001321</th>\n",
       "      <td>A disorder beginning in childhood. It is marke...</td>\n",
       "    </tr>\n",
       "    <tr>\n",
       "      <th>D015730</th>\n",
       "      <td>A republic in eastern Africa, on the Gulf of A...</td>\n",
       "    </tr>\n",
       "    <tr>\n",
       "      <th>D002330</th>\n",
       "      <td>A cell-cycle phase nonspecific alkylating anti...</td>\n",
       "    </tr>\n",
       "  </tbody>\n",
       "</table>\n",
       "</div>"
      ],
      "text/plain": [
       "                                                      note\n",
       "mesh_id                                                   \n",
       "D014525  Narrowing of any part of the URETHRA. It is ch...\n",
       "D017262  Low-molecular-weight compounds produced by mic...\n",
       "D001321  A disorder beginning in childhood. It is marke...\n",
       "D015730  A republic in eastern Africa, on the Gulf of A...\n",
       "D002330  A cell-cycle phase nonspecific alkylating anti..."
      ]
     },
     "execution_count": 6,
     "metadata": {},
     "output_type": "execute_result"
    }
   ],
   "source": [
    "mesh_notes_merged_df = pd.read_csv(mesh_disease_notes_merged_path, index_col=0, sep=\"\\t\")\n",
    "print(len(mesh_notes_merged_df))\n",
    "mesh_notes_merged_df.head()"
   ]
  },
  {
   "cell_type": "code",
   "execution_count": 9,
   "metadata": {},
   "outputs": [
    {
     "name": "stdout",
     "output_type": "stream",
     "text": [
      "mesh ids are duplicated with extra rows coming from rdf type triples.\n",
      "Total rows: 22694\n",
      "# DISEASE type nodes: 4868 \n",
      "# SCR_DISEASE nodes 6479\n",
      "Biokg rows on dropping rdf type rows: 22694 --> 11347 \n"
     ]
    },
    {
     "data": {
      "text/html": [
       "<div>\n",
       "<style scoped>\n",
       "    .dataframe tbody tr th:only-of-type {\n",
       "        vertical-align: middle;\n",
       "    }\n",
       "\n",
       "    .dataframe tbody tr th {\n",
       "        vertical-align: top;\n",
       "    }\n",
       "\n",
       "    .dataframe thead th {\n",
       "        text-align: right;\n",
       "    }\n",
       "</style>\n",
       "<table border=\"1\" class=\"dataframe\">\n",
       "  <thead>\n",
       "    <tr style=\"text-align: right;\">\n",
       "      <th></th>\n",
       "      <th>mesh_id</th>\n",
       "      <th>type</th>\n",
       "      <th>entity</th>\n",
       "    </tr>\n",
       "  </thead>\n",
       "  <tbody>\n",
       "    <tr>\n",
       "      <th>11347</th>\n",
       "      <td>D000006</td>\n",
       "      <td>NAME</td>\n",
       "      <td>Abdomen, Acute</td>\n",
       "    </tr>\n",
       "    <tr>\n",
       "      <th>11348</th>\n",
       "      <td>D000007</td>\n",
       "      <td>NAME</td>\n",
       "      <td>Abdominal Injuries</td>\n",
       "    </tr>\n",
       "    <tr>\n",
       "      <th>11349</th>\n",
       "      <td>D000008</td>\n",
       "      <td>NAME</td>\n",
       "      <td>Abdominal Neoplasms</td>\n",
       "    </tr>\n",
       "    <tr>\n",
       "      <th>11350</th>\n",
       "      <td>D000012</td>\n",
       "      <td>NAME</td>\n",
       "      <td>Abetalipoproteinemia</td>\n",
       "    </tr>\n",
       "    <tr>\n",
       "      <th>11351</th>\n",
       "      <td>D000013</td>\n",
       "      <td>NAME</td>\n",
       "      <td>Congenital Abnormalities</td>\n",
       "    </tr>\n",
       "  </tbody>\n",
       "</table>\n",
       "</div>"
      ],
      "text/plain": [
       "       mesh_id  type                    entity\n",
       "11347  D000006  NAME            Abdomen, Acute\n",
       "11348  D000007  NAME        Abdominal Injuries\n",
       "11349  D000008  NAME       Abdominal Neoplasms\n",
       "11350  D000012  NAME      Abetalipoproteinemia\n",
       "11351  D000013  NAME  Congenital Abnormalities"
      ]
     },
     "execution_count": 9,
     "metadata": {},
     "output_type": "execute_result"
    }
   ],
   "source": [
    "# get biokg disease data\n",
    "biokg_dis_df = pd.read_csv(biokg_disease_path, sep=\"\\t\", names=[\"mesh_id\", \"type\", \"entity\"], header=None)\n",
    "biokg_dis_init_len = len(biokg_dis_df)\n",
    "biokg_dis_counts = biokg_dis_df.entity.value_counts()\n",
    "print(f\"mesh ids are duplicated with extra rows coming from rdf type triples.\\nTotal rows: {biokg_dis_init_len}\\n\"\\\n",
    "f\"# DISEASE type nodes: {biokg_dis_counts['DISEASE']} \\n# SCR_DISEASE nodes {biokg_dis_counts['SCR_DISEASE']}\")\n",
    "biokg_dis_df = biokg_dis_df[~biokg_dis_df[\"entity\"].isin([\"DISEASE\", \"SCR_DISEASE\"])]\n",
    "print(f\"Biokg rows on dropping rdf type rows: {biokg_dis_init_len} --> {len(biokg_dis_df)} \")\n",
    "\n",
    "biokg_dis_df.head()"
   ]
  },
  {
   "cell_type": "markdown",
   "metadata": {},
   "source": [
    "### Merge mesh and biokg dfs on id"
   ]
  },
  {
   "cell_type": "code",
   "execution_count": 17,
   "metadata": {},
   "outputs": [
    {
     "name": "stdout",
     "output_type": "stream",
     "text": [
      "(6865, 4)\n"
     ]
    },
    {
     "data": {
      "text/html": [
       "<div>\n",
       "<style scoped>\n",
       "    .dataframe tbody tr th:only-of-type {\n",
       "        vertical-align: middle;\n",
       "    }\n",
       "\n",
       "    .dataframe tbody tr th {\n",
       "        vertical-align: top;\n",
       "    }\n",
       "\n",
       "    .dataframe thead th {\n",
       "        text-align: right;\n",
       "    }\n",
       "</style>\n",
       "<table border=\"1\" class=\"dataframe\">\n",
       "  <thead>\n",
       "    <tr style=\"text-align: right;\">\n",
       "      <th></th>\n",
       "      <th>mesh_id</th>\n",
       "      <th>type</th>\n",
       "      <th>entity</th>\n",
       "      <th>note</th>\n",
       "    </tr>\n",
       "  </thead>\n",
       "  <tbody>\n",
       "    <tr>\n",
       "      <th>0</th>\n",
       "      <td>D000006</td>\n",
       "      <td>NAME</td>\n",
       "      <td>Abdomen, Acute</td>\n",
       "      <td>A clinical syndrome with acute abdominal pain ...</td>\n",
       "    </tr>\n",
       "    <tr>\n",
       "      <th>1</th>\n",
       "      <td>D000007</td>\n",
       "      <td>NAME</td>\n",
       "      <td>Abdominal Injuries</td>\n",
       "      <td>General or unspecified injuries involving orga...</td>\n",
       "    </tr>\n",
       "  </tbody>\n",
       "</table>\n",
       "</div>"
      ],
      "text/plain": [
       "   mesh_id  type              entity  \\\n",
       "0  D000006  NAME      Abdomen, Acute   \n",
       "1  D000007  NAME  Abdominal Injuries   \n",
       "\n",
       "                                                note  \n",
       "0  A clinical syndrome with acute abdominal pain ...  \n",
       "1  General or unspecified injuries involving orga...  "
      ]
     },
     "execution_count": 17,
     "metadata": {},
     "output_type": "execute_result"
    }
   ],
   "source": [
    "biokg_dis_df = biokg_dis_df.merge(mesh_notes_merged_df, how=\"inner\", left_on=\"mesh_id\", right_on=\"mesh_id\")\n",
    "print(biokg_dis_df.shape)\n",
    "biokg_dis_df.head(2)"
   ]
  },
  {
   "cell_type": "code",
   "execution_count": 18,
   "metadata": {},
   "outputs": [],
   "source": [
    "WRITE_TO_DISK = False\n",
    "if WRITE_TO_DISK:\n",
    "    biokg_dis_df.to_csv(biokg_mesh_df_path, sep=\"\\t\", header=True, index=False)\n",
    "else:\n",
    "    biokg_dis_df = pd.read_csv(biokg_mesh_df_path, delimiter=\"\\t\", header=0, index_col=None)"
   ]
  },
  {
   "cell_type": "markdown",
   "metadata": {},
   "source": [
    "## Get BERT-base embeddings"
   ]
  },
  {
   "cell_type": "code",
   "execution_count": 19,
   "metadata": {},
   "outputs": [],
   "source": [
    "import torch\n",
    "from torch import nn\n",
    "from torch.nn import CrossEntropyLoss\n",
    "\n",
    "from transformers import BertModel, BertPreTrainedModel\n",
    "from transformers import BertTokenizer"
   ]
  },
  {
   "cell_type": "code",
   "execution_count": 20,
   "metadata": {},
   "outputs": [
    {
     "name": "stderr",
     "output_type": "stream",
     "text": [
      "Some weights of the model checkpoint at bert-base-cased were not used when initializing BertModel: ['cls.seq_relationship.weight', 'cls.predictions.decoder.weight', 'cls.predictions.transform.dense.bias', 'cls.seq_relationship.bias', 'cls.predictions.bias', 'cls.predictions.transform.dense.weight', 'cls.predictions.transform.LayerNorm.bias', 'cls.predictions.transform.LayerNorm.weight']\n",
      "- This IS expected if you are initializing BertModel from the checkpoint of a model trained on another task or with another architecture (e.g. initializing a BertForSequenceClassification model from a BertForPreTraining model).\n",
      "- This IS NOT expected if you are initializing BertModel from the checkpoint of a model that you expect to be exactly identical (initializing a BertForSequenceClassification model from a BertForSequenceClassification model).\n"
     ]
    }
   ],
   "source": [
    "# Load the \"bert-base-cased\" pretrained model, and corresponding tokenizer\n",
    "tz = BertTokenizer.from_pretrained('bert-base-cased')\n",
    "model = BertModel.from_pretrained(\"bert-base-cased\")"
   ]
  },
  {
   "cell_type": "code",
   "execution_count": 21,
   "metadata": {},
   "outputs": [
    {
     "data": {
      "text/plain": [
       "{'input_ids': tensor([[  101,   138,  7300,  9318,  1114, 12104, 24716,  2489,  1115,  1110,\n",
       "          5199,   117, 25813,   117,  1105,  6099,  1107, 15415,   119,   138,\n",
       "         23987, 14701,  1336,  1129,  2416,  1118,   170,  2783,  1104, 11759,\n",
       "           117,  5917,   117,  1137,  8131,   119,   102]]), 'token_type_ids': tensor([[0, 0, 0, 0, 0, 0, 0, 0, 0, 0, 0, 0, 0, 0, 0, 0, 0, 0, 0, 0, 0, 0, 0, 0,\n",
       "         0, 0, 0, 0, 0, 0, 0, 0, 0, 0, 0, 0, 0]]), 'attention_mask': tensor([[1, 1, 1, 1, 1, 1, 1, 1, 1, 1, 1, 1, 1, 1, 1, 1, 1, 1, 1, 1, 1, 1, 1, 1,\n",
       "         1, 1, 1, 1, 1, 1, 1, 1, 1, 1, 1, 1, 1]])}"
      ]
     },
     "execution_count": 21,
     "metadata": {},
     "output_type": "execute_result"
    }
   ],
   "source": [
    "# Inspect an example\n",
    "i = 0\n",
    "sample_sent = biokg_dis_df.iloc[i]['note']\n",
    "sentences = biokg_dis_df.note.to_list()[:3]\n",
    "tz(sample_sent, padding=True, return_tensors=\"pt\")"
   ]
  },
  {
   "cell_type": "code",
   "execution_count": 22,
   "metadata": {},
   "outputs": [
    {
     "data": {
      "text/plain": [
       "6865"
      ]
     },
     "execution_count": 22,
     "metadata": {},
     "output_type": "execute_result"
    }
   ],
   "source": [
    "disease_id_note_pairs = list(biokg_dis_df[['mesh_id', 'note']].to_records(index=False))\n",
    "len(disease_id_note_pairs)"
   ]
  },
  {
   "cell_type": "code",
   "execution_count": 15,
   "metadata": {},
   "outputs": [],
   "source": [
    "encodings_out_path = Path('./disease_encodings/disease_embeddings.npz')"
   ]
  },
  {
   "cell_type": "code",
   "execution_count": 25,
   "metadata": {},
   "outputs": [
    {
     "name": "stderr",
     "output_type": "stream",
     "text": [
      "100%|██████████| 6865/6865 [11:33<00:00,  9.90it/s]\n"
     ]
    }
   ],
   "source": [
    "from tqdm import tqdm\n",
    "mesh_ids = []\n",
    "embeddings = []\n",
    "\n",
    "for mesh_id, note in tqdm(disease_id_note_pairs):\n",
    "    mesh_ids.append(mesh_id)\n",
    "    encoded = tz(note, padding=True, return_tensors=\"pt\")\n",
    "    outputs = model(**encoded)\n",
    "    embedding = outputs[0][0][0].detach().numpy()\n",
    "    embeddings.append(embedding)\n",
    "    #print(f\"{mesh_id} with embedding of shape {embedding.shape}\")"
   ]
  },
  {
   "cell_type": "code",
   "execution_count": 27,
   "metadata": {},
   "outputs": [
    {
     "name": "stdout",
     "output_type": "stream",
     "text": [
      "Saved embeddings to disease_encodings/disease_embeddings.npz\n"
     ]
    }
   ],
   "source": [
    "out_dict = {mesh_id: emb for mesh_id, emb in zip(mesh_ids, embeddings)}\n",
    "np.savez(encodings_out_path, **out_dict)\n",
    "print(\"Saved embeddings to\", encodings_out_path)"
   ]
  },
  {
   "cell_type": "code",
   "execution_count": 32,
   "metadata": {},
   "outputs": [
    {
     "data": {
      "text/plain": [
       "['D000006', 'D000007', 'D000008', 'D000012', 'D000013']"
      ]
     },
     "execution_count": 32,
     "metadata": {},
     "output_type": "execute_result"
    }
   ],
   "source": [
    "import numpy as np\n",
    "import torch\n",
    "x = np.load(encodings_out_path)\n",
    "list(x.keys())[:5]"
   ]
  },
  {
   "cell_type": "code",
   "execution_count": 39,
   "metadata": {},
   "outputs": [],
   "source": [
    "y = list(x.values())[1]\n",
    "torch.from_numpy(y)"
   ]
  },
  {
   "cell_type": "code",
   "execution_count": null,
   "metadata": {},
   "outputs": [],
   "source": [
    "get data in one place snd sgare\n"
   ]
  }
 ],
 "metadata": {
  "kernelspec": {
   "display_name": ".conda-bioblp-env [Python]",
   "language": "python",
   "name": "conda-env-.conda-bioblp-env-py"
  },
  "language_info": {
   "codemirror_mode": {
    "name": "ipython",
    "version": 3
   },
   "file_extension": ".py",
   "mimetype": "text/x-python",
   "name": "python",
   "nbconvert_exporter": "python",
   "pygments_lexer": "ipython3",
   "version": "3.8.13"
  }
 },
 "nbformat": 4,
 "nbformat_minor": 4
}
