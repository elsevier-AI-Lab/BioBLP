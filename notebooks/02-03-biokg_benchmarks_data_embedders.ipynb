{
 "cells": [
  {
   "cell_type": "code",
   "execution_count": 9,
   "id": "97ee430b",
   "metadata": {},
   "outputs": [],
   "source": [
    "%load_ext autoreload\n",
    "%autoreload 2"
   ]
  },
  {
   "cell_type": "code",
   "execution_count": 10,
   "id": "a8acba93",
   "metadata": {
    "tags": []
   },
   "outputs": [],
   "source": [
    "import pandas as pd \n",
    "from pathlib import Path\n",
    "from bioblp.data import COL_EDGE, COL_SOURCE, COL_TARGET"
   ]
  },
  {
   "cell_type": "code",
   "execution_count": 11,
   "id": "41d7aa56",
   "metadata": {},
   "outputs": [],
   "source": [
    "DATA_DIR = Path(\"../data\")\n",
    "SHARED_DIR = Path(\"/home/jovyan/workbench-shared-folder/bioblp\")"
   ]
  },
  {
   "cell_type": "markdown",
   "id": "2539a63a",
   "metadata": {
    "tags": []
   },
   "source": [
    "## Load benchmark"
   ]
  },
  {
   "cell_type": "code",
   "execution_count": 12,
   "id": "f5a36380",
   "metadata": {},
   "outputs": [],
   "source": [
    "dpi_benchmark_path = SHARED_DIR.joinpath('data/benchmarks/dpi_fda.tsv') "
   ]
  },
  {
   "cell_type": "code",
   "execution_count": 13,
   "id": "f2182501",
   "metadata": {},
   "outputs": [
    {
     "data": {
      "text/html": [
       "<div>\n",
       "<style scoped>\n",
       "    .dataframe tbody tr th:only-of-type {\n",
       "        vertical-align: middle;\n",
       "    }\n",
       "\n",
       "    .dataframe tbody tr th {\n",
       "        vertical-align: top;\n",
       "    }\n",
       "\n",
       "    .dataframe thead th {\n",
       "        text-align: right;\n",
       "    }\n",
       "</style>\n",
       "<table border=\"1\" class=\"dataframe\">\n",
       "  <thead>\n",
       "    <tr style=\"text-align: right;\">\n",
       "      <th></th>\n",
       "      <th>src</th>\n",
       "      <th>edg</th>\n",
       "      <th>tgt</th>\n",
       "    </tr>\n",
       "  </thead>\n",
       "  <tbody>\n",
       "    <tr>\n",
       "      <th>0</th>\n",
       "      <td>DB01079</td>\n",
       "      <td>DPI</td>\n",
       "      <td>Q13639</td>\n",
       "    </tr>\n",
       "    <tr>\n",
       "      <th>1</th>\n",
       "      <td>DB00114</td>\n",
       "      <td>DPI</td>\n",
       "      <td>P20711</td>\n",
       "    </tr>\n",
       "    <tr>\n",
       "      <th>2</th>\n",
       "      <td>DB01158</td>\n",
       "      <td>DPI</td>\n",
       "      <td>P13637</td>\n",
       "    </tr>\n",
       "  </tbody>\n",
       "</table>\n",
       "</div>"
      ],
      "text/plain": [
       "       src  edg     tgt\n",
       "0  DB01079  DPI  Q13639\n",
       "1  DB00114  DPI  P20711\n",
       "2  DB01158  DPI  P13637"
      ]
     },
     "execution_count": 13,
     "metadata": {},
     "output_type": "execute_result"
    }
   ],
   "source": [
    "dpi_bm = pd.read_csv(dpi_benchmark_path, sep='\\t', names=[COL_SOURCE, COL_EDGE, COL_TARGET])\n",
    "dpi_bm.head(3)"
   ]
  },
  {
   "cell_type": "markdown",
   "id": "25492767-cb69-4a25-954f-dd602fdbd496",
   "metadata": {},
   "source": [
    "\n",
    "* [DB01079; Tegaserod](https://go.drugbank.com/drugs/DB01079)\n",
    "Tegaserod is a serotonin-4 (5-HT4) receptor agonist indicated for the treatment of constipation predominant irritable bowel syndrome (IBS-C) specifically in women under the age of 65. There is currently no safety or efficacy data for use of tegaserol in men.\n",
    "\n",
    "* https://www.uniprot.org/uniprotkb/Q13639/entry"
   ]
  },
  {
   "cell_type": "code",
   "execution_count": 14,
   "id": "d40231f3-0055-40f1-b0c3-e6e337e69430",
   "metadata": {},
   "outputs": [
    {
     "data": {
      "text/plain": [
       "(19161, 2286, 2705)"
      ]
     },
     "execution_count": 14,
     "metadata": {},
     "output_type": "execute_result"
    }
   ],
   "source": [
    "dpi_drugs_unique = list(dpi_bm.src.unique())\n",
    "dpi_prots_unique = list(dpi_bm.tgt.unique())\n",
    "len(dpi_bm), len(dpi_drugs_unique), len(dpi_prots_unique)"
   ]
  },
  {
   "cell_type": "markdown",
   "id": "e8befbd6-a857-4276-9f94-83b76cd2759e",
   "metadata": {},
   "source": [
    "### Other embedderst"
   ]
  },
  {
   "cell_type": "code",
   "execution_count": 19,
   "id": "892f7f44-14fa-4988-ad13-e6b8b493e80e",
   "metadata": {},
   "outputs": [
    {
     "data": {
      "text/html": [
       "<div>\n",
       "<style scoped>\n",
       "    .dataframe tbody tr th:only-of-type {\n",
       "        vertical-align: middle;\n",
       "    }\n",
       "\n",
       "    .dataframe tbody tr th {\n",
       "        vertical-align: top;\n",
       "    }\n",
       "\n",
       "    .dataframe thead th {\n",
       "        text-align: right;\n",
       "    }\n",
       "</style>\n",
       "<table border=\"1\" class=\"dataframe\">\n",
       "  <thead>\n",
       "    <tr style=\"text-align: right;\">\n",
       "      <th></th>\n",
       "      <th>src</th>\n",
       "      <th>edg</th>\n",
       "      <th>tgt</th>\n",
       "    </tr>\n",
       "  </thead>\n",
       "  <tbody>\n",
       "    <tr>\n",
       "      <th>0</th>\n",
       "      <td>DB01079</td>\n",
       "      <td>DPI</td>\n",
       "      <td>Q13639</td>\n",
       "    </tr>\n",
       "    <tr>\n",
       "      <th>1</th>\n",
       "      <td>DB00114</td>\n",
       "      <td>DPI</td>\n",
       "      <td>P20711</td>\n",
       "    </tr>\n",
       "    <tr>\n",
       "      <th>2</th>\n",
       "      <td>DB01158</td>\n",
       "      <td>DPI</td>\n",
       "      <td>P13637</td>\n",
       "    </tr>\n",
       "    <tr>\n",
       "      <th>3</th>\n",
       "      <td>DB01069</td>\n",
       "      <td>DPI</td>\n",
       "      <td>P18825</td>\n",
       "    </tr>\n",
       "    <tr>\n",
       "      <th>4</th>\n",
       "      <td>DB01186</td>\n",
       "      <td>DPI</td>\n",
       "      <td>P08684</td>\n",
       "    </tr>\n",
       "  </tbody>\n",
       "</table>\n",
       "</div>"
      ],
      "text/plain": [
       "       src  edg     tgt\n",
       "0  DB01079  DPI  Q13639\n",
       "1  DB00114  DPI  P20711\n",
       "2  DB01158  DPI  P13637\n",
       "3  DB01069  DPI  P18825\n",
       "4  DB01186  DPI  P08684"
      ]
     },
     "execution_count": 19,
     "metadata": {},
     "output_type": "execute_result"
    }
   ],
   "source": [
    "dpi_bm.head()"
   ]
  },
  {
   "cell_type": "code",
   "execution_count": 20,
   "id": "4f1ee66e-07ae-40c8-bc3e-de230242ad64",
   "metadata": {},
   "outputs": [],
   "source": [
    "dpi_drugs_unique = list(dpi_bm.src.unique())\n",
    "dpi_prots_unique = list(dpi_bm.tgt.unique())\n",
    "\n",
    "dpi_entities = dpi_drugs_unique + dpi_prots_unique"
   ]
  },
  {
   "cell_type": "code",
   "execution_count": 21,
   "id": "dd1881b0-0bbd-40b4-a882-b83bbe55447b",
   "metadata": {},
   "outputs": [],
   "source": [
    "from bioblp.benchmarking.embeddings import LookupEmbedding"
   ]
  },
  {
   "cell_type": "code",
   "execution_count": 129,
   "id": "1bd1c930-7e19-4607-815a-c6ea81b464bf",
   "metadata": {},
   "outputs": [],
   "source": [
    "import torch\n",
    "import json\n",
    "import abc\n",
    "\n",
    "from dataclasses import dataclass\n",
    "from pathlib import Path\n",
    "from typing import Union\n",
    "\n",
    "\n",
    "@dataclass\n",
    "class LookupEmbedding():\n",
    "    \n",
    "    embeddings: torch.tensor\n",
    "    entity_to_id: dict\n",
    "    metadata: dict\n",
    "    \n",
    "    @classmethod \n",
    "    def from_pretrained(cls, model_path):\n",
    "        _embedding_file = \"embeddings.pt\"\n",
    "        _e2id_file = \"entity_to_id.tsv\"\n",
    "        _metadata_file = \"metadata.json\"\n",
    "        \n",
    "        model_path = Path(model_path)\n",
    "        \n",
    "        required = [_embedding_file, _e2id_file]\n",
    "        \n",
    "        for file_i in required:\n",
    "            assert model_path.joinpath(file_i).exists(), f\"Missing required file {file_i} in dir {model_path}\"\n",
    "        \n",
    "        embeddings = torch.load(model_path.joinpath(_embedding_file))\n",
    "        entity_to_id = pd.read_csv(model_path.joinpath(_e2id_file), sep=\"\\t\", index_col = None, header=None)\n",
    "        entity_to_id = {x[0]: x[1] for x in entity_to_id.values }\n",
    "        \n",
    "        metadata = None\n",
    "        if model_path.joinpath(_metadata_file).exists():\n",
    "             with open(model_path.joinpath(_metadata_file), \"r\") as f:\n",
    "                metadata= json.load(f)\n",
    "        \n",
    "        return cls(embeddings=embeddings, entity_to_id=entity_to_id, metadata=metadata)\n",
    "    \n",
    "    \n",
    "    def save(self, outdir: Union[str, Path], name: str):\n",
    "        outdir = Path(outdir).joinpath(name)\n",
    "        outdir.mkdir(parents=True, exist_ok=False)\n",
    "        \n",
    "        df = pd.DataFrame([[k, v] for k, v in self.entity_to_id.items()], columns=[\"e_\", \"id_\"])\n",
    "        df.to_csv(outdir.joinpath(\"entity_to_id.tsv\"), sep=\"\\t\", index=False, header=False)\n",
    "        \n",
    "        torch.save(self.embeddings, outdir.joinpath(\"embeddings.pt\"))\n",
    "        \n",
    "        if self.metadata is not None:\n",
    "            with open(outdir.joinpath(\"metadata.json\"), \"w\") as f:\n",
    "                json.dump(self.metadata, f)\n",
    "            \n",
    "            \n",
    "def create_noise_embeddings(entities, random_seed: int = 42, dim=128, emb_range=(-1, 1),\n",
    "                            outdir = None, outname = None) -> LookupEmbedding:\n",
    "    entity_set = set(entities)\n",
    "    entity_to_id = {k: idx for idx, k in enumerate(sorted(list(entity_set)))}\n",
    "    \n",
    "    emb_shape = (len(entities), dim)\n",
    "\n",
    "    r1 = emb_range[0]\n",
    "    r2 = emb_range[1]\n",
    "\n",
    "    g = torch.Generator()\n",
    "    g.manual_seed(random_seed)\n",
    "\n",
    "    embeddings = (r1 - r2) * torch.rand(emb_shape, generator=g) + r2\n",
    "    \n",
    "    metadata = {\n",
    "        \"random_seed\": random_seed,\n",
    "        \"dim\": dim,\n",
    "        \"emb_range\": emb_range\n",
    "    }\n",
    "    \n",
    "    lookup = LookupEmbedding(embeddings=embeddings,\n",
    "                           entity_to_id=entity_to_id,\n",
    "                           metadata=metadata)\n",
    "    \n",
    "    if outdir is not None:\n",
    "        assert outname is not None, \"need outout name\"\n",
    "        \n",
    "        outdir = Path(outdir)\n",
    "        \n",
    "        lookup_embedding.save(outdir, outname)\n",
    "    \n",
    "    return lookup\n",
    "            \n",
    "\n",
    "def create_moltrans_lookup_embedding(data_dir, outdir = None, outname = None) -> LookupEmbedding:\n",
    "    \"\"\"Create lookup embedding files from raw Molecular Transformer files.\n",
    "    \"\"\"\n",
    "    drug_id_file = \"drug_ids.txt\"\n",
    "    drug_smiles_file = \"drug_smiles.txt\"\n",
    "    smiles_emb_file = \"drug_smiles_full.npz\"\n",
    "    \n",
    "    data_dir = Path(data_dir)\n",
    "    \n",
    "    drug_df = pd.read_csv(data_dir.joinpath(drug_id_file), header=None)\n",
    "    drug_df.columns = [\"db_id\"]\n",
    "    drug_smiles_df = pd.read_csv(data_dir.joinpath(drug_smiles_file), header=None)\n",
    "\n",
    "    drug_df[\"smiles\"] = drug_smiles_df\n",
    "    \n",
    "    drug_ids_sorted = sorted(drug_df['db_id'].values.tolist())\n",
    "    id2smiles = {x[0]: x[1] for x in drug_df.values}\n",
    "    \n",
    "    # e2id\n",
    "    entity_to_id = {idx: k for idx, k in enumerate(drug_ids_sorted)}\n",
    "    \n",
    "    emb_records = []\n",
    "    with np.load(data_dir.joinpath(smiles_emb_file)) as data:\n",
    "        for drug_id in drug_ids_sorted:\n",
    "            smile = id2smiles.get(drug_id)\n",
    "            \n",
    "            emb_tensor = torch.tensor(data[smile])\n",
    "            emb_mean_pool = torch.mean(emb_tensor, dim=0) # is this best way?\n",
    "            emb_records.append(emb_mean_pool)\n",
    "\n",
    "    # embeddings\n",
    "    embeddings = torch.stack(emb_records, dim=0)\n",
    "    \n",
    "    # meta\n",
    "    metadata = {}\n",
    "    \n",
    "    lookup_embedding = LookupEmbedding(embeddings=embeddings,\n",
    "                           entity_to_id=entity_to_id,\n",
    "                           metadata=metadata)\n",
    "    if outdir is not None:\n",
    "        assert outname is not None, \"need outout name\"\n",
    "        \n",
    "        outdir = Path(outdir)\n",
    "        \n",
    "        lookup_embedding.save(outdir, outname)\n",
    "    \n",
    "    return lookup_embedding\n"
   ]
  },
  {
   "cell_type": "code",
   "execution_count": 122,
   "id": "010dd89d-48ab-466c-bf9b-2b719575b690",
   "metadata": {},
   "outputs": [],
   "source": [
    "# noise_embedder = NoiseEmbedding(random_seed=42, dim=128)"
   ]
  },
  {
   "cell_type": "code",
   "execution_count": 123,
   "id": "50a9375d-8f48-40d4-b8c2-eaaf312d4d6e",
   "metadata": {},
   "outputs": [],
   "source": [
    "noise_embedder = create_noise_embeddings(dpi_entities, random_seed=42, dim=128)"
   ]
  },
  {
   "cell_type": "code",
   "execution_count": 131,
   "id": "a8ecadda-df2b-4c58-ba8f-72f96a3c431b",
   "metadata": {},
   "outputs": [
    {
     "data": {
      "text/plain": [
       "tensor([[ 7.2355e-01,  2.4987e-01,  9.5468e-02,  5.5649e-01,  7.3862e-01,\n",
       "         -6.7262e-01, -6.7865e-01,  9.0819e-01, -3.1821e-01, -4.0680e-01,\n",
       "         -9.4997e-01, -5.7855e-01, -9.1934e-01,  3.2739e-01, -7.0039e-01,\n",
       "         -8.1340e-01,  9.4433e-01,  8.0271e-01, -2.0241e-01, -5.4604e-01,\n",
       "          4.9681e-01, -1.1013e-01,  1.4517e-03, -2.5311e-01,  5.3735e-01,\n",
       "         -5.6404e-01, -6.6501e-01,  6.9386e-01, -9.6874e-03, -2.7746e-03,\n",
       "         -3.2112e-01, -9.3158e-01, -2.9326e-01,  2.2722e-01, -8.9813e-01,\n",
       "          3.8053e-01,  2.9037e-01, -6.8275e-02,  7.6151e-01, -1.0882e-01,\n",
       "          6.7848e-01, -1.0282e-01, -9.5808e-02, -1.3842e-01,  8.4330e-01,\n",
       "          9.4978e-01, -4.6012e-01, -8.5760e-01,  8.8737e-01, -3.7039e-01,\n",
       "          7.3612e-01, -6.2691e-02, -9.3036e-01, -7.5862e-01,  7.3114e-01,\n",
       "         -6.1857e-01, -5.2232e-01,  1.5339e-03, -9.6873e-01,  3.9718e-01,\n",
       "          2.3272e-01,  5.0541e-01, -1.4390e-01, -2.6479e-01, -7.9680e-02,\n",
       "          5.6264e-01,  4.5017e-01, -3.4015e-01,  8.7683e-01,  1.5573e-01,\n",
       "          2.2152e-02,  4.0516e-01, -3.6392e-01, -6.4454e-02, -7.0206e-01,\n",
       "          8.8812e-02,  6.3114e-01, -7.0655e-01, -1.3965e-01,  2.8640e-01,\n",
       "          6.5910e-01, -2.3439e-01,  9.5375e-01, -2.6338e-01, -4.9444e-01,\n",
       "          8.7720e-01,  6.5467e-01,  7.1893e-01, -8.4051e-01, -8.5012e-01,\n",
       "         -6.2601e-02, -9.3881e-01,  3.3430e-01,  9.7082e-01, -3.4929e-01,\n",
       "         -3.5427e-01, -9.8038e-01,  2.8944e-04, -7.6640e-01, -6.1296e-01,\n",
       "         -7.2377e-01,  9.9233e-01, -8.2346e-01,  8.5245e-01, -8.9651e-01,\n",
       "          4.1441e-02,  8.8622e-01, -2.7809e-01,  2.0355e-01,  8.9819e-01,\n",
       "          3.6254e-01, -1.0311e-01, -7.7885e-01,  3.0743e-01, -5.9397e-01,\n",
       "         -1.2523e-01, -3.3708e-02, -1.9134e-01,  6.5627e-01,  8.3120e-01,\n",
       "          3.1421e-01,  9.3185e-01,  4.6635e-01, -4.6006e-02,  6.5861e-01,\n",
       "          4.1480e-01,  1.7969e-01,  1.1520e-01],\n",
       "        [-1.4585e-01,  3.0699e-01,  5.1626e-01,  3.2155e-01,  3.5655e-01,\n",
       "         -9.5664e-01, -3.8357e-01, -9.8411e-01, -2.7420e-01, -2.2643e-01,\n",
       "         -4.1109e-01, -1.7163e-01,  7.8477e-01,  5.9135e-01,  2.4228e-01,\n",
       "         -1.5033e-02, -3.7671e-01, -3.8505e-01, -7.9331e-01, -2.0357e-01,\n",
       "          3.4129e-01,  7.5203e-01,  7.3241e-01,  5.9734e-01, -3.0160e-01,\n",
       "         -5.4027e-01, -8.7491e-01,  3.1631e-01,  7.8883e-02,  2.9696e-01,\n",
       "          3.6540e-03, -3.2100e-01,  2.1971e-02, -4.6295e-02, -1.2669e-01,\n",
       "         -3.7242e-01,  3.0340e-01,  5.9630e-01, -2.3592e-01,  1.1841e-01,\n",
       "          4.5303e-01, -4.1996e-01, -9.0691e-03,  1.4546e-01,  4.8408e-01,\n",
       "          1.3157e-01,  8.5033e-01, -2.2749e-01, -1.5007e-02, -6.0684e-01,\n",
       "         -6.4570e-02, -7.9952e-02, -2.7241e-01, -7.6094e-01,  4.7256e-01,\n",
       "         -5.9701e-01, -2.4456e-01,  6.6712e-01, -3.4819e-01,  5.9973e-01,\n",
       "          3.1478e-01,  4.7667e-01,  6.8031e-01, -7.8757e-01,  8.9382e-01,\n",
       "         -5.0002e-01,  9.0001e-01,  1.2171e-01, -5.9642e-02, -7.1091e-01,\n",
       "          3.6189e-01, -2.8783e-01, -1.5491e-01, -5.8838e-01, -5.9452e-02,\n",
       "         -3.7444e-01,  6.0409e-01,  6.9491e-01, -8.9108e-01,  7.2867e-01,\n",
       "          1.7024e-01,  1.2088e-01, -9.7788e-01,  2.1611e-01,  7.6130e-01,\n",
       "          2.5350e-01, -5.1582e-01, -3.9629e-01, -8.2729e-01,  2.0472e-01,\n",
       "         -4.7105e-01,  9.4104e-01, -3.8694e-01, -4.5946e-01, -6.4509e-01,\n",
       "          5.7344e-01,  2.6698e-01, -2.4193e-01,  7.1061e-01,  7.9548e-01,\n",
       "          9.6204e-01, -5.5823e-02, -6.2099e-01, -2.5686e-01, -6.0965e-02,\n",
       "         -3.4843e-01,  6.2840e-01, -1.0543e-01,  2.4842e-01,  4.9514e-01,\n",
       "         -8.6237e-01,  7.7365e-01, -1.4655e-01,  8.7871e-01,  3.3927e-02,\n",
       "          4.4436e-01, -3.2915e-01,  5.6154e-01, -6.4004e-01,  8.1147e-01,\n",
       "         -6.0064e-01,  7.5118e-01, -5.3559e-01,  4.2107e-01,  2.3296e-03,\n",
       "          1.8250e-01, -6.4903e-01, -3.2773e-01],\n",
       "        [-1.4042e-02, -9.0981e-01,  8.5205e-01,  3.8196e-01, -5.8325e-01,\n",
       "          2.1787e-01,  2.0470e-01,  4.1679e-01, -6.8931e-01, -4.9050e-01,\n",
       "         -3.2045e-01,  5.6196e-01,  8.1175e-01, -1.0816e-01, -2.9628e-01,\n",
       "          4.6171e-01,  2.7980e-01, -6.7537e-01, -7.9660e-02, -4.5118e-02,\n",
       "          2.4610e-01,  9.0559e-01,  9.4026e-01,  4.7802e-01,  5.0832e-01,\n",
       "         -3.1155e-01,  2.9111e-01,  3.9122e-01, -9.5343e-01, -3.4832e-01,\n",
       "         -7.1290e-01,  4.8411e-01,  4.0847e-01, -3.6754e-01,  6.6628e-01,\n",
       "          6.5370e-01,  4.8300e-02,  3.6576e-01,  7.4966e-01, -5.9316e-01,\n",
       "         -8.0416e-01, -1.6222e-01,  1.7411e-01,  9.2627e-01,  3.6424e-01,\n",
       "         -2.5459e-01, -4.7153e-01,  1.2642e-01,  3.9535e-01, -5.5723e-01,\n",
       "          7.9640e-01, -6.3202e-01,  3.8795e-01, -1.5305e-02,  1.9762e-01,\n",
       "         -1.2124e-01,  3.0220e-01, -7.2713e-01,  2.5997e-02, -7.8060e-01,\n",
       "         -9.6148e-01,  4.8719e-01,  7.2951e-01, -8.0230e-01, -7.8361e-01,\n",
       "          7.6355e-01,  7.7303e-02,  9.8613e-01,  8.1860e-01, -1.9314e-01,\n",
       "         -2.6603e-01, -2.1198e-01,  2.7216e-01, -9.2258e-01, -1.4298e-01,\n",
       "          5.9008e-01,  5.6614e-02, -2.4015e-01, -3.5019e-01,  7.0708e-01,\n",
       "         -3.7479e-01,  5.1088e-01,  8.3094e-01,  5.4621e-01, -9.6441e-01,\n",
       "         -8.5486e-01, -8.9548e-01, -5.8701e-01, -7.5545e-01,  1.3385e-01,\n",
       "          5.5023e-01, -4.9966e-01,  5.1818e-01,  6.7487e-01,  3.1933e-01,\n",
       "         -2.0986e-01, -5.1480e-01,  3.8841e-01,  5.8857e-01, -1.3489e-01,\n",
       "          5.8943e-01,  6.5106e-01, -5.2125e-01,  1.6798e-01, -9.1378e-01,\n",
       "         -9.7278e-01, -2.9911e-01, -3.4416e-01, -2.3028e-01, -1.5661e-02,\n",
       "          7.2732e-02, -1.3744e-02, -3.7342e-01, -9.2977e-01,  2.5916e-01,\n",
       "          4.2272e-01,  2.4216e-01,  4.8312e-01, -1.7004e-01, -7.4645e-01,\n",
       "         -7.8198e-01, -4.5913e-01,  7.3593e-01,  5.3670e-01,  2.1971e-01,\n",
       "          1.8432e-01, -8.2248e-02,  9.1797e-01]])"
      ]
     },
     "execution_count": 131,
     "metadata": {},
     "output_type": "execute_result"
    }
   ],
   "source": [
    "noise_embedder.embeddings[[10,12,3]]"
   ]
  },
  {
   "cell_type": "code",
   "execution_count": 132,
   "id": "049673cc-8024-414b-b122-0e1112e99985",
   "metadata": {},
   "outputs": [
    {
     "data": {
      "text/plain": [
       "{'random_seed': 42, 'dim': 128, 'emb_range': (-1, 1)}"
      ]
     },
     "execution_count": 132,
     "metadata": {},
     "output_type": "execute_result"
    }
   ],
   "source": [
    "noise_embedder.metadata"
   ]
  },
  {
   "cell_type": "code",
   "execution_count": 133,
   "id": "765db609-a584-4528-b860-ddec0dda22c2",
   "metadata": {},
   "outputs": [],
   "source": [
    "noise_embedder.save(\"../data/features/\", name=\"noisy-emb\")"
   ]
  },
  {
   "cell_type": "code",
   "execution_count": 134,
   "id": "750056e0-a6b5-47f0-843f-f20c5026089a",
   "metadata": {},
   "outputs": [],
   "source": [
    "noise_embedder_2 = LookupEmbedding.from_pretrained(\"../data/features/noisy-emb/\")"
   ]
  },
  {
   "cell_type": "code",
   "execution_count": null,
   "id": "cc9134ce-1fbc-4139-a22a-d3cf6da3fa3f",
   "metadata": {},
   "outputs": [],
   "source": []
  },
  {
   "cell_type": "code",
   "execution_count": null,
   "id": "c8420fb6-44df-4429-8e4c-fd5d23b4446d",
   "metadata": {},
   "outputs": [],
   "source": []
  },
  {
   "cell_type": "code",
   "execution_count": 136,
   "id": "bae03471-0151-4385-a603-de0b73a115f8",
   "metadata": {},
   "outputs": [],
   "source": [
    "import numpy as np\n",
    "\n",
    "if False:\n",
    "    X = np.array(pos_neg_df_feat.joint_encoding.values.tolist())    \n",
    "    y = pos_neg_df_feat.label.values\n",
    "    print(f\"Shape X: {X.shape}, y: {y.shape}\")\n",
    "          \n",
    "    np.save(\"../data/features/kge-1baon0eg/X.npy\", X)\n",
    "    np.save(\"../data/features/kge-1baon0eg/y.npy\", y)"
   ]
  },
  {
   "cell_type": "markdown",
   "id": "8099f8da-3881-44a0-8520-297260e48cb9",
   "metadata": {},
   "source": [
    "### Drug properties"
   ]
  },
  {
   "cell_type": "code",
   "execution_count": 141,
   "id": "e6de05a4-74b2-4e26-8fca-e2b01aacff9b",
   "metadata": {},
   "outputs": [],
   "source": [
    "drug_properties_df = pd.read_csv(\"../data/biokg/biokg.properties.drug.tsv\", sep=\"\\t\", header=None)"
   ]
  },
  {
   "cell_type": "code",
   "execution_count": 146,
   "id": "e5c93126-064e-4700-9be1-d3e61ebe24ae",
   "metadata": {},
   "outputs": [
    {
     "data": {
      "text/html": [
       "<div>\n",
       "<style scoped>\n",
       "    .dataframe tbody tr th:only-of-type {\n",
       "        vertical-align: middle;\n",
       "    }\n",
       "\n",
       "    .dataframe tbody tr th {\n",
       "        vertical-align: top;\n",
       "    }\n",
       "\n",
       "    .dataframe thead th {\n",
       "        text-align: right;\n",
       "    }\n",
       "</style>\n",
       "<table border=\"1\" class=\"dataframe\">\n",
       "  <thead>\n",
       "    <tr style=\"text-align: right;\">\n",
       "      <th></th>\n",
       "      <th>0</th>\n",
       "      <th>1</th>\n",
       "      <th>2</th>\n",
       "    </tr>\n",
       "  </thead>\n",
       "  <tbody>\n",
       "    <tr>\n",
       "      <th>0</th>\n",
       "      <td>DB00441</td>\n",
       "      <td>DRUG_INDICATION_ASSOCIATION</td>\n",
       "      <td>C0019829</td>\n",
       "    </tr>\n",
       "    <tr>\n",
       "      <th>1</th>\n",
       "      <td>DB01013</td>\n",
       "      <td>DRUG_INDICATION_ASSOCIATION</td>\n",
       "      <td>C0033860</td>\n",
       "    </tr>\n",
       "    <tr>\n",
       "      <th>2</th>\n",
       "      <td>DB00997</td>\n",
       "      <td>DRUG_INDICATION_ASSOCIATION</td>\n",
       "      <td>C0005695</td>\n",
       "    </tr>\n",
       "    <tr>\n",
       "      <th>3</th>\n",
       "      <td>DB00215</td>\n",
       "      <td>DRUG_INDICATION_ASSOCIATION</td>\n",
       "      <td>C0233477</td>\n",
       "    </tr>\n",
       "    <tr>\n",
       "      <th>4</th>\n",
       "      <td>DB00603</td>\n",
       "      <td>DRUG_INDICATION_ASSOCIATION</td>\n",
       "      <td>C0600142</td>\n",
       "    </tr>\n",
       "  </tbody>\n",
       "</table>\n",
       "</div>"
      ],
      "text/plain": [
       "         0                            1         2\n",
       "0  DB00441  DRUG_INDICATION_ASSOCIATION  C0019829\n",
       "1  DB01013  DRUG_INDICATION_ASSOCIATION  C0033860\n",
       "2  DB00997  DRUG_INDICATION_ASSOCIATION  C0005695\n",
       "3  DB00215  DRUG_INDICATION_ASSOCIATION  C0233477\n",
       "4  DB00603  DRUG_INDICATION_ASSOCIATION  C0600142"
      ]
     },
     "execution_count": 146,
     "metadata": {},
     "output_type": "execute_result"
    }
   ],
   "source": [
    "drug_properties_df.head()"
   ]
  },
  {
   "cell_type": "code",
   "execution_count": 153,
   "id": "41dab474-03a2-4cc5-963e-5bf363c27229",
   "metadata": {},
   "outputs": [],
   "source": [
    "unique_drugs_prop = drug_properties_df[0].unique()"
   ]
  },
  {
   "cell_type": "code",
   "execution_count": 150,
   "id": "1190266d-ff5a-409c-9e29-074ab9f0cf2a",
   "metadata": {},
   "outputs": [
    {
     "data": {
      "text/plain": [
       "3247"
      ]
     },
     "execution_count": 150,
     "metadata": {},
     "output_type": "execute_result"
    }
   ],
   "source": [
    "len(all_drugs)"
   ]
  },
  {
   "cell_type": "code",
   "execution_count": 144,
   "id": "4368bb8c-8f36-47be-89cb-081c807740dd",
   "metadata": {},
   "outputs": [
    {
     "data": {
      "text/plain": [
       "array(['DRUG_INDICATION_ASSOCIATION', 'DRUG_ATC_CODE',\n",
       "       'DRUG_SIDEEFFECT_ASSOCIATION'], dtype=object)"
      ]
     },
     "execution_count": 144,
     "metadata": {},
     "output_type": "execute_result"
    }
   ],
   "source": [
    "drug_properties_df[1].unique()"
   ]
  },
  {
   "cell_type": "code",
   "execution_count": 145,
   "id": "6baf8cca-8e86-4177-a056-bcfbf6d075a4",
   "metadata": {},
   "outputs": [],
   "source": [
    "drug_meta_df = pd.read_csv(\"../data/biokg/biokg.metadata.drug.tsv\", sep=\"\\t\", header=None)"
   ]
  },
  {
   "cell_type": "code",
   "execution_count": 147,
   "id": "29fc4b94-8dcb-47a0-a337-e907bbdcf5b4",
   "metadata": {},
   "outputs": [
    {
     "data": {
      "text/html": [
       "<div>\n",
       "<style scoped>\n",
       "    .dataframe tbody tr th:only-of-type {\n",
       "        vertical-align: middle;\n",
       "    }\n",
       "\n",
       "    .dataframe tbody tr th {\n",
       "        vertical-align: top;\n",
       "    }\n",
       "\n",
       "    .dataframe thead th {\n",
       "        text-align: right;\n",
       "    }\n",
       "</style>\n",
       "<table border=\"1\" class=\"dataframe\">\n",
       "  <thead>\n",
       "    <tr style=\"text-align: right;\">\n",
       "      <th></th>\n",
       "      <th>0</th>\n",
       "      <th>1</th>\n",
       "      <th>2</th>\n",
       "    </tr>\n",
       "  </thead>\n",
       "  <tbody>\n",
       "    <tr>\n",
       "      <th>0</th>\n",
       "      <td>DB00006</td>\n",
       "      <td>SUBSTITUENT</td>\n",
       "      <td>1_hydroxy_2_unsubstituted_benzenoid</td>\n",
       "    </tr>\n",
       "    <tr>\n",
       "      <th>1</th>\n",
       "      <td>DB00006</td>\n",
       "      <td>SUBSTITUENT</td>\n",
       "      <td>Alpha_peptide</td>\n",
       "    </tr>\n",
       "    <tr>\n",
       "      <th>2</th>\n",
       "      <td>DB00006</td>\n",
       "      <td>SUBSTITUENT</td>\n",
       "      <td>Alpha_amino_acid_amide</td>\n",
       "    </tr>\n",
       "    <tr>\n",
       "      <th>3</th>\n",
       "      <td>DB00006</td>\n",
       "      <td>SUBSTITUENT</td>\n",
       "      <td>Alpha_amino_acid_or_derivatives</td>\n",
       "    </tr>\n",
       "    <tr>\n",
       "      <th>4</th>\n",
       "      <td>DB00006</td>\n",
       "      <td>SUBSTITUENT</td>\n",
       "      <td>Amine</td>\n",
       "    </tr>\n",
       "  </tbody>\n",
       "</table>\n",
       "</div>"
      ],
      "text/plain": [
       "         0            1                                    2\n",
       "0  DB00006  SUBSTITUENT  1_hydroxy_2_unsubstituted_benzenoid\n",
       "1  DB00006  SUBSTITUENT                        Alpha_peptide\n",
       "2  DB00006  SUBSTITUENT               Alpha_amino_acid_amide\n",
       "3  DB00006  SUBSTITUENT      Alpha_amino_acid_or_derivatives\n",
       "4  DB00006  SUBSTITUENT                                Amine"
      ]
     },
     "execution_count": 147,
     "metadata": {},
     "output_type": "execute_result"
    }
   ],
   "source": [
    "drug_meta_df.head()"
   ]
  },
  {
   "cell_type": "code",
   "execution_count": 155,
   "id": "63c022a4-028c-4795-8712-3b03798c00d5",
   "metadata": {},
   "outputs": [],
   "source": [
    "unique_drugs_m = drug_meta_df[0].unique()"
   ]
  },
  {
   "cell_type": "code",
   "execution_count": 151,
   "id": "7e2722a6-8caa-44a8-a854-a3e4b6764cfe",
   "metadata": {},
   "outputs": [
    {
     "data": {
      "text/plain": [
       "6627"
      ]
     },
     "execution_count": 151,
     "metadata": {},
     "output_type": "execute_result"
    }
   ],
   "source": [
    "len(drug_meta_df[0].unique())"
   ]
  },
  {
   "cell_type": "code",
   "execution_count": 272,
   "id": "5161c288-cfa4-4575-8c39-968f22311a89",
   "metadata": {},
   "outputs": [],
   "source": [
    "biokg_drugs = list(set(unique_drugs_m).union(set(unique_drugs_prop)))"
   ]
  },
  {
   "cell_type": "code",
   "execution_count": 273,
   "id": "7022985f-f2bf-43ac-80b5-31891ae31f8c",
   "metadata": {},
   "outputs": [
    {
     "data": {
      "text/plain": [
       "8308"
      ]
     },
     "execution_count": 273,
     "metadata": {},
     "output_type": "execute_result"
    }
   ],
   "source": [
    "len(biokg_drugs)"
   ]
  },
  {
   "cell_type": "code",
   "execution_count": 165,
   "id": "9d585036-badf-41ad-aad6-912bc35ba251",
   "metadata": {},
   "outputs": [],
   "source": [
    "# all_drugs"
   ]
  },
  {
   "cell_type": "markdown",
   "id": "7734d252-317b-4476-ba55-b699fb2902ec",
   "metadata": {},
   "source": [
    "Load data from mol transformer\n",
    "\n"
   ]
  },
  {
   "cell_type": "code",
   "execution_count": 167,
   "id": "7249882f-83ef-42fd-8f51-cfa82ed68d06",
   "metadata": {},
   "outputs": [],
   "source": [
    "mol_data_id_df = pd.read_csv(SHARED_DIR.joinpath(\"data/molecular_data/drug_ids_full.txt\"), header=None)\n",
    "\n"
   ]
  },
  {
   "cell_type": "code",
   "execution_count": 185,
   "id": "0652f816-39f7-4a7a-a8fe-5dfab77a5301",
   "metadata": {},
   "outputs": [
    {
     "data": {
      "text/html": [
       "<div>\n",
       "<style scoped>\n",
       "    .dataframe tbody tr th:only-of-type {\n",
       "        vertical-align: middle;\n",
       "    }\n",
       "\n",
       "    .dataframe tbody tr th {\n",
       "        vertical-align: top;\n",
       "    }\n",
       "\n",
       "    .dataframe thead th {\n",
       "        text-align: right;\n",
       "    }\n",
       "</style>\n",
       "<table border=\"1\" class=\"dataframe\">\n",
       "  <thead>\n",
       "    <tr style=\"text-align: right;\">\n",
       "      <th></th>\n",
       "      <th>0</th>\n",
       "    </tr>\n",
       "  </thead>\n",
       "  <tbody>\n",
       "    <tr>\n",
       "      <th>0</th>\n",
       "      <td>DB07460</td>\n",
       "    </tr>\n",
       "    <tr>\n",
       "      <th>1</th>\n",
       "      <td>DB08869</td>\n",
       "    </tr>\n",
       "    <tr>\n",
       "      <th>2</th>\n",
       "      <td>DB11154</td>\n",
       "    </tr>\n",
       "    <tr>\n",
       "      <th>3</th>\n",
       "      <td>DB03231</td>\n",
       "    </tr>\n",
       "    <tr>\n",
       "      <th>4</th>\n",
       "      <td>DB08873</td>\n",
       "    </tr>\n",
       "    <tr>\n",
       "      <th>...</th>\n",
       "      <td>...</td>\n",
       "    </tr>\n",
       "    <tr>\n",
       "      <th>10810</th>\n",
       "      <td>DB09295</td>\n",
       "    </tr>\n",
       "    <tr>\n",
       "      <th>10811</th>\n",
       "      <td>DB11880</td>\n",
       "    </tr>\n",
       "    <tr>\n",
       "      <th>10812</th>\n",
       "      <td>DB03505</td>\n",
       "    </tr>\n",
       "    <tr>\n",
       "      <th>10813</th>\n",
       "      <td>DB14736</td>\n",
       "    </tr>\n",
       "    <tr>\n",
       "      <th>10814</th>\n",
       "      <td>DB13218</td>\n",
       "    </tr>\n",
       "  </tbody>\n",
       "</table>\n",
       "<p>10815 rows × 1 columns</p>\n",
       "</div>"
      ],
      "text/plain": [
       "             0\n",
       "0      DB07460\n",
       "1      DB08869\n",
       "2      DB11154\n",
       "3      DB03231\n",
       "4      DB08873\n",
       "...        ...\n",
       "10810  DB09295\n",
       "10811  DB11880\n",
       "10812  DB03505\n",
       "10813  DB14736\n",
       "10814  DB13218\n",
       "\n",
       "[10815 rows x 1 columns]"
      ]
     },
     "execution_count": 185,
     "metadata": {},
     "output_type": "execute_result"
    }
   ],
   "source": [
    "mol_data_id_df"
   ]
  },
  {
   "cell_type": "code",
   "execution_count": 184,
   "id": "91eec00d-2bdb-481f-b613-d35d7080170f",
   "metadata": {},
   "outputs": [
    {
     "data": {
      "text/html": [
       "<div>\n",
       "<style scoped>\n",
       "    .dataframe tbody tr th:only-of-type {\n",
       "        vertical-align: middle;\n",
       "    }\n",
       "\n",
       "    .dataframe tbody tr th {\n",
       "        vertical-align: top;\n",
       "    }\n",
       "\n",
       "    .dataframe thead th {\n",
       "        text-align: right;\n",
       "    }\n",
       "</style>\n",
       "<table border=\"1\" class=\"dataframe\">\n",
       "  <thead>\n",
       "    <tr style=\"text-align: right;\">\n",
       "      <th></th>\n",
       "      <th>0</th>\n",
       "    </tr>\n",
       "  </thead>\n",
       "  <tbody>\n",
       "    <tr>\n",
       "      <th>0</th>\n",
       "      <td>DB07460DB07460</td>\n",
       "    </tr>\n",
       "    <tr>\n",
       "      <th>1</th>\n",
       "      <td>DB08869DB08869</td>\n",
       "    </tr>\n",
       "    <tr>\n",
       "      <th>2</th>\n",
       "      <td>DB11154DB11154</td>\n",
       "    </tr>\n",
       "    <tr>\n",
       "      <th>3</th>\n",
       "      <td>DB03231DB03231</td>\n",
       "    </tr>\n",
       "    <tr>\n",
       "      <th>4</th>\n",
       "      <td>DB08873DB08873</td>\n",
       "    </tr>\n",
       "    <tr>\n",
       "      <th>...</th>\n",
       "      <td>...</td>\n",
       "    </tr>\n",
       "    <tr>\n",
       "      <th>10810</th>\n",
       "      <td>DB09295DB09295</td>\n",
       "    </tr>\n",
       "    <tr>\n",
       "      <th>10811</th>\n",
       "      <td>DB11880DB11880</td>\n",
       "    </tr>\n",
       "    <tr>\n",
       "      <th>10812</th>\n",
       "      <td>DB03505DB03505</td>\n",
       "    </tr>\n",
       "    <tr>\n",
       "      <th>10813</th>\n",
       "      <td>DB14736DB14736</td>\n",
       "    </tr>\n",
       "    <tr>\n",
       "      <th>10814</th>\n",
       "      <td>DB13218DB13218</td>\n",
       "    </tr>\n",
       "  </tbody>\n",
       "</table>\n",
       "<p>10815 rows × 1 columns</p>\n",
       "</div>"
      ],
      "text/plain": [
       "                    0\n",
       "0      DB07460DB07460\n",
       "1      DB08869DB08869\n",
       "2      DB11154DB11154\n",
       "3      DB03231DB03231\n",
       "4      DB08873DB08873\n",
       "...               ...\n",
       "10810  DB09295DB09295\n",
       "10811  DB11880DB11880\n",
       "10812  DB03505DB03505\n",
       "10813  DB14736DB14736\n",
       "10814  DB13218DB13218\n",
       "\n",
       "[10815 rows x 1 columns]"
      ]
     },
     "execution_count": 184,
     "metadata": {},
     "output_type": "execute_result"
    }
   ],
   "source": [
    "mol_data_id_df + mol_data_id_df"
   ]
  },
  {
   "cell_type": "code",
   "execution_count": 181,
   "id": "2854358a-d9af-463b-b77a-6667bfcde88b",
   "metadata": {},
   "outputs": [
    {
     "ename": "AttributeError",
     "evalue": "'NoneType' object has no attribute 'open'",
     "output_type": "error",
     "traceback": [
      "\u001b[0;31m---------------------------------------------------------------------------\u001b[0m",
      "\u001b[0;31mAttributeError\u001b[0m                            Traceback (most recent call last)",
      "Input \u001b[0;32mIn [181]\u001b[0m, in \u001b[0;36m<cell line: 1>\u001b[0;34m()\u001b[0m\n\u001b[0;32m----> 1\u001b[0m \u001b[43mstruct_embedding_array\u001b[49m\u001b[43m[\u001b[49m\u001b[38;5;124;43m'\u001b[39;49m\u001b[38;5;124;43mCNC(=O)C1=C(NC2=NC(NC3=CC=C(C=C3OC)N3CCOCC3)=NC=C2Cl)C=CC=C1\u001b[39;49m\u001b[38;5;124;43m'\u001b[39;49m\u001b[43m]\u001b[49m\n",
      "File \u001b[0;32m~/.conda/envs/bioblp-env/lib/python3.9/site-packages/numpy/lib/npyio.py:240\u001b[0m, in \u001b[0;36mNpzFile.__getitem__\u001b[0;34m(self, key)\u001b[0m\n\u001b[1;32m    238\u001b[0m     key \u001b[38;5;241m+\u001b[39m\u001b[38;5;241m=\u001b[39m \u001b[38;5;124m'\u001b[39m\u001b[38;5;124m.npy\u001b[39m\u001b[38;5;124m'\u001b[39m\n\u001b[1;32m    239\u001b[0m \u001b[38;5;28;01mif\u001b[39;00m member:\n\u001b[0;32m--> 240\u001b[0m     \u001b[38;5;28mbytes\u001b[39m \u001b[38;5;241m=\u001b[39m \u001b[38;5;28;43mself\u001b[39;49m\u001b[38;5;241;43m.\u001b[39;49m\u001b[43mzip\u001b[49m\u001b[38;5;241;43m.\u001b[39;49m\u001b[43mopen\u001b[49m(key)\n\u001b[1;32m    241\u001b[0m     magic \u001b[38;5;241m=\u001b[39m \u001b[38;5;28mbytes\u001b[39m\u001b[38;5;241m.\u001b[39mread(\u001b[38;5;28mlen\u001b[39m(\u001b[38;5;28mformat\u001b[39m\u001b[38;5;241m.\u001b[39mMAGIC_PREFIX))\n\u001b[1;32m    242\u001b[0m     \u001b[38;5;28mbytes\u001b[39m\u001b[38;5;241m.\u001b[39mclose()\n",
      "\u001b[0;31mAttributeError\u001b[0m: 'NoneType' object has no attribute 'open'"
     ]
    }
   ],
   "source": [
    "struct_embedding_array['CNC(=O)C1=C(NC2=NC(NC3=CC=C(C=C3OC)N3CCOCC3)=NC=C2Cl)C=CC=C1']"
   ]
  },
  {
   "cell_type": "code",
   "execution_count": 242,
   "id": "700a4e9e-81c2-430d-b5aa-72e85c7e010e",
   "metadata": {},
   "outputs": [],
   "source": [
    "\n"
   ]
  },
  {
   "cell_type": "code",
   "execution_count": 243,
   "id": "a3a41b81-a949-429e-a771-9d5f7673b339",
   "metadata": {},
   "outputs": [],
   "source": [
    "moltrans_emb = create_moltrans_lookup_embedding(\"/home/jovyan/workbench-shared-folder/bioblp/data/molecular_data/\",\n",
    "                                                outdir=\"/home/jovyan/workbench-shared-folder/bioblp/data/processed/\",\n",
    "                                                outname=\"moltrans-lookup-embeddings\")"
   ]
  },
  {
   "cell_type": "code",
   "execution_count": 238,
   "id": "3e62e38f-f726-478f-9973-251d98063955",
   "metadata": {},
   "outputs": [
    {
     "data": {
      "text/plain": [
       "torch.Size([10815, 512])"
      ]
     },
     "execution_count": 238,
     "metadata": {},
     "output_type": "execute_result"
    }
   ],
   "source": [
    "moltrans_emb.embeddings.shape"
   ]
  },
  {
   "cell_type": "code",
   "execution_count": 260,
   "id": "bce3a659-ec0e-4b72-8688-187ffc3d3978",
   "metadata": {},
   "outputs": [],
   "source": [
    "moltrans_drugs = pd.read_csv(\"/home/jovyan/workbench-shared-folder/bioblp/data/molecular_data/drug_ids.txt\", header=None)[0].values.tolist()\n"
   ]
  },
  {
   "cell_type": "code",
   "execution_count": 274,
   "id": "db7c8714-4857-4ffc-9d59-b76c068630c8",
   "metadata": {},
   "outputs": [
    {
     "name": "stdout",
     "output_type": "stream",
     "text": [
      "Num drugs in biokg: 8308\n",
      "Num drugs in moltrans: 10815\n",
      "biok - moltrans = 370\n",
      "moltrans - biok   = 2877\n"
     ]
    }
   ],
   "source": [
    "biokg_drugs_s = set(biokg_drugs)\n",
    "moltrans_drugs_s = set(moltrans_drugs)\n",
    "\n",
    "print(f\"Num drugs in biokg: {len(biokg_drugs_s)}\")\n",
    "print(f\"Num drugs in moltrans: {len(moltrans_drugs_s)}\")\n",
    "\n",
    "biokg_drugs_diff = biokg_drugs_s - moltrans_drugs_s\n",
    "\n",
    "print(f\"biok - moltrans = {len(biokg_drugs_diff)}\")\n",
    "\n",
    "moltrans_drugs_diff = moltrans_drugs_s - biokg_drugs_s\n",
    "\n",
    "print(f\"moltrans - biok   = {len(moltrans_drugs_diff)}\")"
   ]
  },
  {
   "cell_type": "code",
   "execution_count": 278,
   "id": "70480fb6-d210-4ce6-9ff8-ff4c80aa0b2c",
   "metadata": {},
   "outputs": [
    {
     "data": {
      "text/plain": [
       "['DB00001',\n",
       " 'DB00002',\n",
       " 'DB00003',\n",
       " 'DB00004',\n",
       " 'DB00005',\n",
       " 'DB00006',\n",
       " 'DB00007',\n",
       " 'DB00008',\n",
       " 'DB00009',\n",
       " 'DB00010']"
      ]
     },
     "execution_count": 278,
     "metadata": {},
     "output_type": "execute_result"
    }
   ],
   "source": [
    "sorted(biokg_drugs)[:10]"
   ]
  },
  {
   "cell_type": "code",
   "execution_count": 279,
   "id": "92961154-e141-470a-ba4b-71832ad972e1",
   "metadata": {},
   "outputs": [
    {
     "data": {
      "text/plain": [
       "['DB00006',\n",
       " 'DB00007',\n",
       " 'DB00014',\n",
       " 'DB00027',\n",
       " 'DB00035',\n",
       " 'DB00050',\n",
       " 'DB00067',\n",
       " 'DB00080',\n",
       " 'DB00091',\n",
       " 'DB00093']"
      ]
     },
     "execution_count": 279,
     "metadata": {},
     "output_type": "execute_result"
    }
   ],
   "source": [
    "sorted(moltrans_drugs)[:10]"
   ]
  },
  {
   "cell_type": "code",
   "execution_count": null,
   "id": "095b2b6d-7936-43bd-93cb-4f67b36cc62f",
   "metadata": {},
   "outputs": [],
   "source": []
  }
 ],
 "metadata": {
  "kernelspec": {
   "display_name": ".conda-bioblp-env [Python]",
   "language": "python",
   "name": "conda-env-.conda-bioblp-env-py"
  },
  "language_info": {
   "codemirror_mode": {
    "name": "ipython",
    "version": 3
   },
   "file_extension": ".py",
   "mimetype": "text/x-python",
   "name": "python",
   "nbconvert_exporter": "python",
   "pygments_lexer": "ipython3",
   "version": "3.9.13"
  }
 },
 "nbformat": 4,
 "nbformat_minor": 5
}
