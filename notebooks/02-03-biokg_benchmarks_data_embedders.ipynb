{
 "cells": [
  {
   "cell_type": "code",
   "execution_count": 1,
   "id": "97ee430b",
   "metadata": {},
   "outputs": [],
   "source": [
    "%load_ext autoreload\n",
    "%autoreload 2"
   ]
  },
  {
   "cell_type": "code",
   "execution_count": 2,
   "id": "a8acba93",
   "metadata": {
    "tags": []
   },
   "outputs": [
    {
     "name": "stderr",
     "output_type": "stream",
     "text": [
      "/home/jovyan/.conda/envs/bioblp-env/lib/python3.9/site-packages/tqdm/auto.py:22: TqdmWarning: IProgress not found. Please update jupyter and ipywidgets. See https://ipywidgets.readthedocs.io/en/stable/user_install.html\n",
      "  from .autonotebook import tqdm as notebook_tqdm\n"
     ]
    }
   ],
   "source": [
    "import pandas as pd \n",
    "from pathlib import Path\n",
    "from bioblp.data import COL_EDGE, COL_SOURCE, COL_TARGET"
   ]
  },
  {
   "cell_type": "code",
   "execution_count": 3,
   "id": "41d7aa56",
   "metadata": {},
   "outputs": [],
   "source": [
    "DATA_DIR = Path(\"../data\")\n",
    "SHARED_DIR = Path(\"/home/jovyan/workbench-shared-folder/bioblp\")"
   ]
  },
  {
   "cell_type": "markdown",
   "id": "2539a63a",
   "metadata": {
    "tags": []
   },
   "source": [
    "## Load benchmark"
   ]
  },
  {
   "cell_type": "code",
   "execution_count": 4,
   "id": "f5a36380",
   "metadata": {},
   "outputs": [],
   "source": [
    "dpi_benchmark_path = SHARED_DIR.joinpath('data/benchmarks/dpi_fda.tsv') "
   ]
  },
  {
   "cell_type": "code",
   "execution_count": 5,
   "id": "f2182501",
   "metadata": {},
   "outputs": [
    {
     "data": {
      "text/html": [
       "<div>\n",
       "<style scoped>\n",
       "    .dataframe tbody tr th:only-of-type {\n",
       "        vertical-align: middle;\n",
       "    }\n",
       "\n",
       "    .dataframe tbody tr th {\n",
       "        vertical-align: top;\n",
       "    }\n",
       "\n",
       "    .dataframe thead th {\n",
       "        text-align: right;\n",
       "    }\n",
       "</style>\n",
       "<table border=\"1\" class=\"dataframe\">\n",
       "  <thead>\n",
       "    <tr style=\"text-align: right;\">\n",
       "      <th></th>\n",
       "      <th>src</th>\n",
       "      <th>edg</th>\n",
       "      <th>tgt</th>\n",
       "    </tr>\n",
       "  </thead>\n",
       "  <tbody>\n",
       "    <tr>\n",
       "      <th>0</th>\n",
       "      <td>DB01079</td>\n",
       "      <td>DPI</td>\n",
       "      <td>Q13639</td>\n",
       "    </tr>\n",
       "    <tr>\n",
       "      <th>1</th>\n",
       "      <td>DB00114</td>\n",
       "      <td>DPI</td>\n",
       "      <td>P20711</td>\n",
       "    </tr>\n",
       "    <tr>\n",
       "      <th>2</th>\n",
       "      <td>DB01158</td>\n",
       "      <td>DPI</td>\n",
       "      <td>P13637</td>\n",
       "    </tr>\n",
       "  </tbody>\n",
       "</table>\n",
       "</div>"
      ],
      "text/plain": [
       "       src  edg     tgt\n",
       "0  DB01079  DPI  Q13639\n",
       "1  DB00114  DPI  P20711\n",
       "2  DB01158  DPI  P13637"
      ]
     },
     "execution_count": 5,
     "metadata": {},
     "output_type": "execute_result"
    }
   ],
   "source": [
    "dpi_bm = pd.read_csv(dpi_benchmark_path, sep='\\t', names=[COL_SOURCE, COL_EDGE, COL_TARGET])\n",
    "dpi_bm.head(3)"
   ]
  },
  {
   "cell_type": "markdown",
   "id": "25492767-cb69-4a25-954f-dd602fdbd496",
   "metadata": {},
   "source": [
    "\n",
    "* [DB01079; Tegaserod](https://go.drugbank.com/drugs/DB01079)\n",
    "Tegaserod is a serotonin-4 (5-HT4) receptor agonist indicated for the treatment of constipation predominant irritable bowel syndrome (IBS-C) specifically in women under the age of 65. There is currently no safety or efficacy data for use of tegaserol in men.\n",
    "\n",
    "* https://www.uniprot.org/uniprotkb/Q13639/entry"
   ]
  },
  {
   "cell_type": "code",
   "execution_count": 6,
   "id": "d40231f3-0055-40f1-b0c3-e6e337e69430",
   "metadata": {},
   "outputs": [
    {
     "data": {
      "text/plain": [
       "(19161, 2286, 2705)"
      ]
     },
     "execution_count": 6,
     "metadata": {},
     "output_type": "execute_result"
    }
   ],
   "source": [
    "dpi_drugs_unique = list(dpi_bm.src.unique())\n",
    "dpi_prots_unique = list(dpi_bm.tgt.unique())\n",
    "len(dpi_bm), len(dpi_drugs_unique), len(dpi_prots_unique)"
   ]
  },
  {
   "cell_type": "markdown",
   "id": "27bf7bbc-4075-40b4-b10e-f99a82e89cde",
   "metadata": {
    "tags": []
   },
   "source": [
    "## Prepare Data for ML"
   ]
  },
  {
   "cell_type": "code",
   "execution_count": 7,
   "id": "24573ebe-658f-4b4a-b384-2c856fa9183e",
   "metadata": {},
   "outputs": [],
   "source": [
    "from bioblp.benchmarking.featurize import load_model_and_entity_to_id_maps, ENTITY_TO_ID_MAP, RELATION_TO_ID_MAP"
   ]
  },
  {
   "cell_type": "code",
   "execution_count": 8,
   "id": "eb5e36d6-05b6-4eee-aaee-f7f05783254d",
   "metadata": {},
   "outputs": [
    {
     "name": "stderr",
     "output_type": "stream",
     "text": [
      "15:14:56 - INFO - bioblp.benchmarking.featurize - Loading trained model from /home/jovyan/workbench-shared-folder/bioblp/models/1baon0eg\n"
     ]
    }
   ],
   "source": [
    "model_dir = Path('/home/jovyan/workbench-shared-folder/bioblp/models/1baon0eg')\n",
    "\n",
    "kge_artifacts = load_model_and_entity_to_id_maps(model_dir)\n",
    "entity_to_id_map = kge_artifacts.get(ENTITY_TO_ID_MAP)\n",
    "relation_to_id_map = kge_artifacts.get(RELATION_TO_ID_MAP)"
   ]
  },
  {
   "cell_type": "markdown",
   "id": "140fd17d-1018-48f6-87f4-9a4a93655c46",
   "metadata": {},
   "source": [
    "### Generate Negative samples"
   ]
  },
  {
   "cell_type": "code",
   "execution_count": 9,
   "id": "78a673d8-89e2-4b6c-9eb4-5c20127959bf",
   "metadata": {},
   "outputs": [],
   "source": [
    "from bioblp.benchmarking.preprocess import prepare_dpi_samples"
   ]
  },
  {
   "cell_type": "code",
   "execution_count": 10,
   "id": "54fc5fb3-d877-44db-b594-3770916aacf8",
   "metadata": {},
   "outputs": [],
   "source": [
    "pos_neg_df = prepare_dpi_samples(dpi_bm, entity_to_id_map, relation_to_id_map, num_negs_per_pos=10)"
   ]
  },
  {
   "cell_type": "code",
   "execution_count": 11,
   "id": "3d5f2001-dbc8-48f3-b6d5-677af3f7e694",
   "metadata": {},
   "outputs": [
    {
     "data": {
      "text/html": [
       "<div>\n",
       "<style scoped>\n",
       "    .dataframe tbody tr th:only-of-type {\n",
       "        vertical-align: middle;\n",
       "    }\n",
       "\n",
       "    .dataframe tbody tr th {\n",
       "        vertical-align: top;\n",
       "    }\n",
       "\n",
       "    .dataframe thead th {\n",
       "        text-align: right;\n",
       "    }\n",
       "</style>\n",
       "<table border=\"1\" class=\"dataframe\">\n",
       "  <thead>\n",
       "    <tr style=\"text-align: right;\">\n",
       "      <th></th>\n",
       "      <th>src</th>\n",
       "      <th>edg</th>\n",
       "      <th>tgt</th>\n",
       "      <th>label</th>\n",
       "    </tr>\n",
       "  </thead>\n",
       "  <tbody>\n",
       "    <tr>\n",
       "      <th>0</th>\n",
       "      <td>8879</td>\n",
       "      <td>5</td>\n",
       "      <td>44406</td>\n",
       "      <td>1</td>\n",
       "    </tr>\n",
       "    <tr>\n",
       "      <th>1</th>\n",
       "      <td>7928</td>\n",
       "      <td>5</td>\n",
       "      <td>30725</td>\n",
       "      <td>1</td>\n",
       "    </tr>\n",
       "    <tr>\n",
       "      <th>2</th>\n",
       "      <td>8957</td>\n",
       "      <td>5</td>\n",
       "      <td>29310</td>\n",
       "      <td>1</td>\n",
       "    </tr>\n",
       "    <tr>\n",
       "      <th>3</th>\n",
       "      <td>8869</td>\n",
       "      <td>5</td>\n",
       "      <td>30330</td>\n",
       "      <td>1</td>\n",
       "    </tr>\n",
       "    <tr>\n",
       "      <th>4</th>\n",
       "      <td>8985</td>\n",
       "      <td>5</td>\n",
       "      <td>27350</td>\n",
       "      <td>1</td>\n",
       "    </tr>\n",
       "    <tr>\n",
       "      <th>5</th>\n",
       "      <td>14208</td>\n",
       "      <td>5</td>\n",
       "      <td>20956</td>\n",
       "      <td>1</td>\n",
       "    </tr>\n",
       "    <tr>\n",
       "      <th>6</th>\n",
       "      <td>8025</td>\n",
       "      <td>5</td>\n",
       "      <td>33235</td>\n",
       "      <td>1</td>\n",
       "    </tr>\n",
       "    <tr>\n",
       "      <th>7</th>\n",
       "      <td>10379</td>\n",
       "      <td>5</td>\n",
       "      <td>22335</td>\n",
       "      <td>1</td>\n",
       "    </tr>\n",
       "    <tr>\n",
       "      <th>8</th>\n",
       "      <td>7915</td>\n",
       "      <td>5</td>\n",
       "      <td>42516</td>\n",
       "      <td>1</td>\n",
       "    </tr>\n",
       "    <tr>\n",
       "      <th>9</th>\n",
       "      <td>14366</td>\n",
       "      <td>5</td>\n",
       "      <td>26237</td>\n",
       "      <td>1</td>\n",
       "    </tr>\n",
       "  </tbody>\n",
       "</table>\n",
       "</div>"
      ],
      "text/plain": [
       "     src  edg    tgt  label\n",
       "0   8879    5  44406      1\n",
       "1   7928    5  30725      1\n",
       "2   8957    5  29310      1\n",
       "3   8869    5  30330      1\n",
       "4   8985    5  27350      1\n",
       "5  14208    5  20956      1\n",
       "6   8025    5  33235      1\n",
       "7  10379    5  22335      1\n",
       "8   7915    5  42516      1\n",
       "9  14366    5  26237      1"
      ]
     },
     "execution_count": 11,
     "metadata": {},
     "output_type": "execute_result"
    }
   ],
   "source": [
    "pos_neg_df.head(10)"
   ]
  },
  {
   "cell_type": "markdown",
   "id": "c52e251c-cf1d-4d66-a6e6-c51a89089f80",
   "metadata": {},
   "source": [
    "### Featurize by obtaining joint entity pair encoding"
   ]
  },
  {
   "cell_type": "code",
   "execution_count": 12,
   "id": "e7c49f60-30ac-4a69-ba7d-34b8464f3f93",
   "metadata": {},
   "outputs": [],
   "source": [
    "from bioblp.benchmarking.featurize import generate_entity_pair_joint_encoding\n",
    "from bioblp.benchmarking.featurize import concatenate, average\n"
   ]
  },
  {
   "cell_type": "code",
   "execution_count": 13,
   "id": "54da152e-84f1-4bcd-b1e9-acf4b418afa5",
   "metadata": {},
   "outputs": [
    {
     "name": "stderr",
     "output_type": "stream",
     "text": [
      "15:14:58 - INFO - bioblp.benchmarking.featurize - Applying transformation function: f<function concatenate at 0x7fc4a23274c0>, to retrieve joint encoding for entity pair\n"
     ]
    }
   ],
   "source": [
    "# pass on to KGEM encoder to featurize each entity pair\n",
    "pos_neg_df_feat = generate_entity_pair_joint_encoding(pos_neg_df,\n",
    "                                    model=kge_artifacts[\"model\"],\n",
    "                                    transform_fn=concatenate)\n",
    "                            "
   ]
  },
  {
   "cell_type": "code",
   "execution_count": 14,
   "id": "d008e6bb-4b61-4868-9a6b-675ed5cf1c60",
   "metadata": {},
   "outputs": [],
   "source": [
    "del kge_artifacts"
   ]
  },
  {
   "cell_type": "markdown",
   "id": "e8befbd6-a857-4276-9f94-83b76cd2759e",
   "metadata": {},
   "source": [
    "### Other embedderst"
   ]
  },
  {
   "cell_type": "code",
   "execution_count": 15,
   "id": "892f7f44-14fa-4988-ad13-e6b8b493e80e",
   "metadata": {},
   "outputs": [
    {
     "data": {
      "text/html": [
       "<div>\n",
       "<style scoped>\n",
       "    .dataframe tbody tr th:only-of-type {\n",
       "        vertical-align: middle;\n",
       "    }\n",
       "\n",
       "    .dataframe tbody tr th {\n",
       "        vertical-align: top;\n",
       "    }\n",
       "\n",
       "    .dataframe thead th {\n",
       "        text-align: right;\n",
       "    }\n",
       "</style>\n",
       "<table border=\"1\" class=\"dataframe\">\n",
       "  <thead>\n",
       "    <tr style=\"text-align: right;\">\n",
       "      <th></th>\n",
       "      <th>src</th>\n",
       "      <th>edg</th>\n",
       "      <th>tgt</th>\n",
       "      <th>label</th>\n",
       "    </tr>\n",
       "  </thead>\n",
       "  <tbody>\n",
       "    <tr>\n",
       "      <th>0</th>\n",
       "      <td>8879</td>\n",
       "      <td>5</td>\n",
       "      <td>44406</td>\n",
       "      <td>1</td>\n",
       "    </tr>\n",
       "    <tr>\n",
       "      <th>1</th>\n",
       "      <td>7928</td>\n",
       "      <td>5</td>\n",
       "      <td>30725</td>\n",
       "      <td>1</td>\n",
       "    </tr>\n",
       "    <tr>\n",
       "      <th>2</th>\n",
       "      <td>8957</td>\n",
       "      <td>5</td>\n",
       "      <td>29310</td>\n",
       "      <td>1</td>\n",
       "    </tr>\n",
       "    <tr>\n",
       "      <th>3</th>\n",
       "      <td>8869</td>\n",
       "      <td>5</td>\n",
       "      <td>30330</td>\n",
       "      <td>1</td>\n",
       "    </tr>\n",
       "    <tr>\n",
       "      <th>4</th>\n",
       "      <td>8985</td>\n",
       "      <td>5</td>\n",
       "      <td>27350</td>\n",
       "      <td>1</td>\n",
       "    </tr>\n",
       "  </tbody>\n",
       "</table>\n",
       "</div>"
      ],
      "text/plain": [
       "    src  edg    tgt  label\n",
       "0  8879    5  44406      1\n",
       "1  7928    5  30725      1\n",
       "2  8957    5  29310      1\n",
       "3  8869    5  30330      1\n",
       "4  8985    5  27350      1"
      ]
     },
     "execution_count": 15,
     "metadata": {},
     "output_type": "execute_result"
    }
   ],
   "source": [
    "dpi_bm.head()"
   ]
  },
  {
   "cell_type": "code",
   "execution_count": 16,
   "id": "4f1ee66e-07ae-40c8-bc3e-de230242ad64",
   "metadata": {},
   "outputs": [],
   "source": [
    "dpi_drugs_unique = list(dpi_bm.src.unique())\n",
    "dpi_prots_unique = list(dpi_bm.tgt.unique())\n",
    "\n",
    "dpi_entities = dpi_drugs_unique + dpi_prots_unique"
   ]
  },
  {
   "cell_type": "code",
   "execution_count": 17,
   "id": "dd1881b0-0bbd-40b4-a882-b83bbe55447b",
   "metadata": {},
   "outputs": [],
   "source": [
    "from bioblp.benchmarking.embeddings import NoiseEmbedding"
   ]
  },
  {
   "cell_type": "code",
   "execution_count": 35,
   "id": "1bd1c930-7e19-4607-815a-c6ea81b464bf",
   "metadata": {},
   "outputs": [],
   "source": [
    "import torch\n",
    "import json\n",
    "\n",
    "from pathlib import Path\n",
    "from typing import Union\n",
    "\n",
    "\n",
    "class LookupEmbedding():\n",
    "    def __init__(self, random_seed: int = 42, dim=128, emb_range=(-1, 1)):\n",
    "\n",
    "        self.random_seed = random_seed\n",
    "\n",
    "        self.embeddings = None\n",
    "        self.dim = dim\n",
    "        self.emb_range = emb_range\n",
    "        self.entity_to_id = {}\n",
    "\n",
    "    @classmethod\n",
    "    def from_pretrained(cls, model_path):\n",
    "        model_path = Path(model_path)\n",
    "        cfg = {}\n",
    "        with open(model_path.joinpath(\"config.json\"), \"r\") as f:\n",
    "            cfg = json.load(f)\n",
    "            \n",
    "        embeddings = torch.load(model_path.joinpath(\"embeddings.pt\"))\n",
    "        entity_to_id = pd.read_csv(model_path.joinpath(\"entity_to_id.tsv\"), sep=\"\\t\", index_col = None, header=None)\n",
    "        entity_to_id = {x[0]:x[1] for x in entity_to_id.values }\n",
    "        \n",
    "        obj = cls(random_seed = cfg[\"random_seed\"],\n",
    "                 dim=cfg[\"dim\"],\n",
    "                 emb_range=cfg[\"emb_range\"])\n",
    "        \n",
    "        obj.embeddings = embeddings\n",
    "        obj.entity_to_id = entity_to_id\n",
    "        return obj\n",
    "\n",
    "    def save(self, outdir: Union[str, Path], name=\"noise_embeddings\"):\n",
    "        outdir = Path(outdir).joinpath(name)\n",
    "        outdir.mkdir(parents=True, exist_ok=False)\n",
    "        \n",
    "        config = {\n",
    "            \"random_seed\": self.random_seed,\n",
    "            \"dim\": self.dim,\n",
    "            \"emb_range\": self.emb_range\n",
    "        }\n",
    "        \n",
    "        with open(outdir.joinpath(\"config.json\"), \"w\") as f:\n",
    "            json.dump(config, f)\n",
    "        \n",
    "        df = pd.DataFrame([[k, v] for k, v in self.entity_to_id.items()], columns=[\"e_\", \"id_\"])\n",
    "        df.to_csv(outdir.joinpath(\"entity_to_id.tsv\"), sep=\"\\t\", index=False, header=False)\n",
    "        \n",
    "        torch.save(self.embeddings, outdir.joinpath(\"embeddings.pt\"))\n",
    "        \n",
    "\n",
    "    def _init_embeddings(self):\n",
    "        raise NotImplementedError(\n",
    "            \"Child class needs implementation of _init_embeddings.\")\n",
    "\n",
    "    def _build_entity_to_id(self, entities):\n",
    "        entities = sorted(dpi_entities)\n",
    "        self.entity_to_id = {k: k_idx for k_idx, k in enumerate(entities)}\n",
    "\n",
    "    def __call__(self, entities: list):\n",
    "        if self.embeddings is None:\n",
    "            self._build_entity_to_id(entities)\n",
    "            self._init_embeddings()\n",
    "        else:\n",
    "            raise Error(\"Embedder already fit\")\n",
    "\n",
    "\n",
    "class NoiseEmbedding(LookupEmbedding):\n",
    "    def __init__(self, random_seed: int = 42, dim=128, emb_range=(-1, 1)):\n",
    "        super().__init__(random_seed=random_seed, dim=dim, emb_range=emb_range)\n",
    "\n",
    "        self.dim = dim\n",
    "        self.emb_range = emb_range\n",
    "        self.entity_to_id = {}\n",
    "\n",
    "    def _init_embeddings(self):\n",
    "        emb_shape = (len(self.entity_to_id), self.dim)\n",
    "\n",
    "        r1 = self.emb_range[0]\n",
    "        r2 = self.emb_range[1]\n",
    "\n",
    "        g = torch.Generator()\n",
    "        g.manual_seed(self.random_seed)\n",
    "\n",
    "        self.embeddings = (r1 - r2) * torch.rand(emb_shape, generator=g) + r2\n",
    "\n",
    "    def _build_entity_to_id(self, entities):\n",
    "        entities = sorted(entities)\n",
    "        self.entity_to_id = {k: k_idx for k_idx, k in enumerate(entities)}\n",
    "\n",
    "    def __call__(self, entities: list):\n",
    "        self._build_entity_to_id(entities)\n",
    "        self._init_embeddings()\n"
   ]
  },
  {
   "cell_type": "code",
   "execution_count": 26,
   "id": "010dd89d-48ab-466c-bf9b-2b719575b690",
   "metadata": {},
   "outputs": [],
   "source": [
    "noise_embedder = NoiseEmbedding(random_seed=42, dim=128)"
   ]
  },
  {
   "cell_type": "code",
   "execution_count": 27,
   "id": "50a9375d-8f48-40d4-b8c2-eaaf312d4d6e",
   "metadata": {},
   "outputs": [],
   "source": [
    "noise_embedder(dpi_entities)"
   ]
  },
  {
   "cell_type": "code",
   "execution_count": 39,
   "id": "a8ecadda-df2b-4c58-ba8f-72f96a3c431b",
   "metadata": {},
   "outputs": [
    {
     "data": {
      "text/plain": [
       "tensor([[-0.7645, -0.8300,  0.2343, -0.9186,  0.2191, -0.2018,  0.4869, -0.5873,\n",
       "         -0.8815,  0.7336, -0.8692, -0.1872, -0.7388, -0.1354, -0.4822,  0.1412,\n",
       "         -0.7709, -0.1478,  0.4668, -0.2549,  0.4607,  0.1173,  0.4062, -0.6634,\n",
       "          0.7894,  0.4610,  0.2824,  0.6013, -0.0944,  0.9877, -0.9031,  0.8495,\n",
       "         -0.7720, -0.1664,  0.3247, -0.6179, -0.1559, -0.8080, -0.1093,  0.3154,\n",
       "         -0.2687,  0.2712, -0.4209, -0.8928, -0.5781,  0.4372, -0.5773, -0.1789,\n",
       "         -0.5078,  0.6095,  0.9899,  0.3864,  0.7670, -0.8205, -0.2880, -0.4142,\n",
       "         -0.3163,  0.0174, -0.7826,  0.7105, -0.0630,  0.6825, -0.3084,  0.3444,\n",
       "         -0.3064,  0.2083, -0.8294,  0.5927,  0.5964,  0.5964, -0.8994, -0.3333,\n",
       "         -0.9623,  0.8253,  0.9919,  0.7824,  0.6727, -0.4050, -0.3581, -0.8309,\n",
       "          0.5164,  0.6817, -0.5306,  0.4042, -0.6069,  0.2373, -0.5720,  0.7770,\n",
       "          0.5046, -0.3049, -0.2114,  0.2550, -0.5961, -0.6798,  0.7252,  0.5339,\n",
       "         -0.9157,  0.3374,  0.3545,  0.9676,  0.5727, -0.2498,  0.1320,  0.7259,\n",
       "         -0.0235,  0.6831,  0.8484,  0.5507,  0.8752,  0.6367, -0.9996, -0.1889,\n",
       "         -0.3082,  0.9327,  0.6568,  0.3329, -0.1564,  0.8799,  0.4309,  0.5987,\n",
       "         -0.0028,  0.3721,  0.0693,  0.6776,  0.6864,  0.5834,  0.3423,  0.7893],\n",
       "        [-0.1459,  0.3070,  0.5163,  0.3215,  0.3565, -0.9566, -0.3836, -0.9841,\n",
       "         -0.2742, -0.2264, -0.4111, -0.1716,  0.7848,  0.5914,  0.2423, -0.0150,\n",
       "         -0.3767, -0.3850, -0.7933, -0.2036,  0.3413,  0.7520,  0.7324,  0.5973,\n",
       "         -0.3016, -0.5403, -0.8749,  0.3163,  0.0789,  0.2970,  0.0037, -0.3210,\n",
       "          0.0220, -0.0463, -0.1267, -0.3724,  0.3034,  0.5963, -0.2359,  0.1184,\n",
       "          0.4530, -0.4200, -0.0091,  0.1455,  0.4841,  0.1316,  0.8503, -0.2275,\n",
       "         -0.0150, -0.6068, -0.0646, -0.0800, -0.2724, -0.7609,  0.4726, -0.5970,\n",
       "         -0.2446,  0.6671, -0.3482,  0.5997,  0.3148,  0.4767,  0.6803, -0.7876,\n",
       "          0.8938, -0.5000,  0.9000,  0.1217, -0.0596, -0.7109,  0.3619, -0.2878,\n",
       "         -0.1549, -0.5884, -0.0595, -0.3744,  0.6041,  0.6949, -0.8911,  0.7287,\n",
       "          0.1702,  0.1209, -0.9779,  0.2161,  0.7613,  0.2535, -0.5158, -0.3963,\n",
       "         -0.8273,  0.2047, -0.4710,  0.9410, -0.3869, -0.4595, -0.6451,  0.5734,\n",
       "          0.2670, -0.2419,  0.7106,  0.7955,  0.9620, -0.0558, -0.6210, -0.2569,\n",
       "         -0.0610, -0.3484,  0.6284, -0.1054,  0.2484,  0.4951, -0.8624,  0.7737,\n",
       "         -0.1465,  0.8787,  0.0339,  0.4444, -0.3291,  0.5615, -0.6400,  0.8115,\n",
       "         -0.6006,  0.7512, -0.5356,  0.4211,  0.0023,  0.1825, -0.6490, -0.3277],\n",
       "        [-0.0140, -0.9098,  0.8521,  0.3820, -0.5833,  0.2179,  0.2047,  0.4168,\n",
       "         -0.6893, -0.4905, -0.3205,  0.5620,  0.8117, -0.1082, -0.2963,  0.4617,\n",
       "          0.2798, -0.6754, -0.0797, -0.0451,  0.2461,  0.9056,  0.9403,  0.4780,\n",
       "          0.5083, -0.3116,  0.2911,  0.3912, -0.9534, -0.3483, -0.7129,  0.4841,\n",
       "          0.4085, -0.3675,  0.6663,  0.6537,  0.0483,  0.3658,  0.7497, -0.5932,\n",
       "         -0.8042, -0.1622,  0.1741,  0.9263,  0.3642, -0.2546, -0.4715,  0.1264,\n",
       "          0.3954, -0.5572,  0.7964, -0.6320,  0.3880, -0.0153,  0.1976, -0.1212,\n",
       "          0.3022, -0.7271,  0.0260, -0.7806, -0.9615,  0.4872,  0.7295, -0.8023,\n",
       "         -0.7836,  0.7635,  0.0773,  0.9861,  0.8186, -0.1931, -0.2660, -0.2120,\n",
       "          0.2722, -0.9226, -0.1430,  0.5901,  0.0566, -0.2401, -0.3502,  0.7071,\n",
       "         -0.3748,  0.5109,  0.8309,  0.5462, -0.9644, -0.8549, -0.8955, -0.5870,\n",
       "         -0.7554,  0.1338,  0.5502, -0.4997,  0.5182,  0.6749,  0.3193, -0.2099,\n",
       "         -0.5148,  0.3884,  0.5886, -0.1349,  0.5894,  0.6511, -0.5213,  0.1680,\n",
       "         -0.9138, -0.9728, -0.2991, -0.3442, -0.2303, -0.0157,  0.0727, -0.0137,\n",
       "         -0.3734, -0.9298,  0.2592,  0.4227,  0.2422,  0.4831, -0.1700, -0.7464,\n",
       "         -0.7820, -0.4591,  0.7359,  0.5367,  0.2197,  0.1843, -0.0822,  0.9180]])"
      ]
     },
     "execution_count": 39,
     "metadata": {},
     "output_type": "execute_result"
    }
   ],
   "source": [
    "noise_embedder.embeddings[[0,12,3]]"
   ]
  },
  {
   "cell_type": "code",
   "execution_count": 30,
   "id": "765db609-a584-4528-b860-ddec0dda22c2",
   "metadata": {},
   "outputs": [],
   "source": [
    "noise_embedder.save(\"../data/features/\", name=\"noisy-e1\")"
   ]
  },
  {
   "cell_type": "code",
   "execution_count": 36,
   "id": "750056e0-a6b5-47f0-843f-f20c5026089a",
   "metadata": {},
   "outputs": [],
   "source": [
    "noise_embedder_2 = NoiseEmbedding.from_pretrained(\"../data/features/noisy-e/\")"
   ]
  },
  {
   "cell_type": "code",
   "execution_count": 38,
   "id": "cc9134ce-1fbc-4139-a22a-d3cf6da3fa3f",
   "metadata": {},
   "outputs": [
    {
     "data": {
      "text/plain": [
       "tensor([[-0.7645, -0.8300,  0.2343, -0.9186,  0.2191, -0.2018,  0.4869, -0.5873,\n",
       "         -0.8815,  0.7336, -0.8692, -0.1872, -0.7388, -0.1354, -0.4822,  0.1412,\n",
       "         -0.7709, -0.1478,  0.4668, -0.2549,  0.4607,  0.1173,  0.4062, -0.6634,\n",
       "          0.7894,  0.4610,  0.2824,  0.6013, -0.0944,  0.9877, -0.9031,  0.8495,\n",
       "         -0.7720, -0.1664,  0.3247, -0.6179, -0.1559, -0.8080, -0.1093,  0.3154,\n",
       "         -0.2687,  0.2712, -0.4209, -0.8928, -0.5781,  0.4372, -0.5773, -0.1789,\n",
       "         -0.5078,  0.6095,  0.9899,  0.3864,  0.7670, -0.8205, -0.2880, -0.4142,\n",
       "         -0.3163,  0.0174, -0.7826,  0.7105, -0.0630,  0.6825, -0.3084,  0.3444,\n",
       "         -0.3064,  0.2083, -0.8294,  0.5927,  0.5964,  0.5964, -0.8994, -0.3333,\n",
       "         -0.9623,  0.8253,  0.9919,  0.7824,  0.6727, -0.4050, -0.3581, -0.8309,\n",
       "          0.5164,  0.6817, -0.5306,  0.4042, -0.6069,  0.2373, -0.5720,  0.7770,\n",
       "          0.5046, -0.3049, -0.2114,  0.2550, -0.5961, -0.6798,  0.7252,  0.5339,\n",
       "         -0.9157,  0.3374,  0.3545,  0.9676,  0.5727, -0.2498,  0.1320,  0.7259,\n",
       "         -0.0235,  0.6831,  0.8484,  0.5507,  0.8752,  0.6367, -0.9996, -0.1889,\n",
       "         -0.3082,  0.9327,  0.6568,  0.3329, -0.1564,  0.8799,  0.4309,  0.5987,\n",
       "         -0.0028,  0.3721,  0.0693,  0.6776,  0.6864,  0.5834,  0.3423,  0.7893],\n",
       "        [-0.1459,  0.3070,  0.5163,  0.3215,  0.3565, -0.9566, -0.3836, -0.9841,\n",
       "         -0.2742, -0.2264, -0.4111, -0.1716,  0.7848,  0.5914,  0.2423, -0.0150,\n",
       "         -0.3767, -0.3850, -0.7933, -0.2036,  0.3413,  0.7520,  0.7324,  0.5973,\n",
       "         -0.3016, -0.5403, -0.8749,  0.3163,  0.0789,  0.2970,  0.0037, -0.3210,\n",
       "          0.0220, -0.0463, -0.1267, -0.3724,  0.3034,  0.5963, -0.2359,  0.1184,\n",
       "          0.4530, -0.4200, -0.0091,  0.1455,  0.4841,  0.1316,  0.8503, -0.2275,\n",
       "         -0.0150, -0.6068, -0.0646, -0.0800, -0.2724, -0.7609,  0.4726, -0.5970,\n",
       "         -0.2446,  0.6671, -0.3482,  0.5997,  0.3148,  0.4767,  0.6803, -0.7876,\n",
       "          0.8938, -0.5000,  0.9000,  0.1217, -0.0596, -0.7109,  0.3619, -0.2878,\n",
       "         -0.1549, -0.5884, -0.0595, -0.3744,  0.6041,  0.6949, -0.8911,  0.7287,\n",
       "          0.1702,  0.1209, -0.9779,  0.2161,  0.7613,  0.2535, -0.5158, -0.3963,\n",
       "         -0.8273,  0.2047, -0.4710,  0.9410, -0.3869, -0.4595, -0.6451,  0.5734,\n",
       "          0.2670, -0.2419,  0.7106,  0.7955,  0.9620, -0.0558, -0.6210, -0.2569,\n",
       "         -0.0610, -0.3484,  0.6284, -0.1054,  0.2484,  0.4951, -0.8624,  0.7737,\n",
       "         -0.1465,  0.8787,  0.0339,  0.4444, -0.3291,  0.5615, -0.6400,  0.8115,\n",
       "         -0.6006,  0.7512, -0.5356,  0.4211,  0.0023,  0.1825, -0.6490, -0.3277],\n",
       "        [-0.0140, -0.9098,  0.8521,  0.3820, -0.5833,  0.2179,  0.2047,  0.4168,\n",
       "         -0.6893, -0.4905, -0.3205,  0.5620,  0.8117, -0.1082, -0.2963,  0.4617,\n",
       "          0.2798, -0.6754, -0.0797, -0.0451,  0.2461,  0.9056,  0.9403,  0.4780,\n",
       "          0.5083, -0.3116,  0.2911,  0.3912, -0.9534, -0.3483, -0.7129,  0.4841,\n",
       "          0.4085, -0.3675,  0.6663,  0.6537,  0.0483,  0.3658,  0.7497, -0.5932,\n",
       "         -0.8042, -0.1622,  0.1741,  0.9263,  0.3642, -0.2546, -0.4715,  0.1264,\n",
       "          0.3954, -0.5572,  0.7964, -0.6320,  0.3880, -0.0153,  0.1976, -0.1212,\n",
       "          0.3022, -0.7271,  0.0260, -0.7806, -0.9615,  0.4872,  0.7295, -0.8023,\n",
       "         -0.7836,  0.7635,  0.0773,  0.9861,  0.8186, -0.1931, -0.2660, -0.2120,\n",
       "          0.2722, -0.9226, -0.1430,  0.5901,  0.0566, -0.2401, -0.3502,  0.7071,\n",
       "         -0.3748,  0.5109,  0.8309,  0.5462, -0.9644, -0.8549, -0.8955, -0.5870,\n",
       "         -0.7554,  0.1338,  0.5502, -0.4997,  0.5182,  0.6749,  0.3193, -0.2099,\n",
       "         -0.5148,  0.3884,  0.5886, -0.1349,  0.5894,  0.6511, -0.5213,  0.1680,\n",
       "         -0.9138, -0.9728, -0.2991, -0.3442, -0.2303, -0.0157,  0.0727, -0.0137,\n",
       "         -0.3734, -0.9298,  0.2592,  0.4227,  0.2422,  0.4831, -0.1700, -0.7464,\n",
       "         -0.7820, -0.4591,  0.7359,  0.5367,  0.2197,  0.1843, -0.0822,  0.9180]])"
      ]
     },
     "execution_count": 38,
     "metadata": {},
     "output_type": "execute_result"
    }
   ],
   "source": [
    "noise_embedder_2.embeddings[[0,12,3]]"
   ]
  },
  {
   "cell_type": "code",
   "execution_count": null,
   "id": "c8420fb6-44df-4429-8e4c-fd5d23b4446d",
   "metadata": {},
   "outputs": [],
   "source": []
  },
  {
   "cell_type": "code",
   "execution_count": null,
   "id": "bae03471-0151-4385-a603-de0b73a115f8",
   "metadata": {},
   "outputs": [],
   "source": [
    "import numpy as np\n",
    "\n",
    "if False:\n",
    "    X = np.array(pos_neg_df_feat.joint_encoding.values.tolist())    \n",
    "    y = pos_neg_df_feat.label.values\n",
    "    print(f\"Shape X: {X.shape}, y: {y.shape}\"\n",
    "          \n",
    "    np.save(\"../data/features/kge-1baon0eg/X.npy\", X)\n",
    "    np.save(\"../data/features/kge-1baon0eg/y.npy\", y)"
   ]
  }
 ],
 "metadata": {
  "kernelspec": {
   "display_name": ".conda-bioblp-env [Python]",
   "language": "python",
   "name": "conda-env-.conda-bioblp-env-py"
  },
  "language_info": {
   "codemirror_mode": {
    "name": "ipython",
    "version": 3
   },
   "file_extension": ".py",
   "mimetype": "text/x-python",
   "name": "python",
   "nbconvert_exporter": "python",
   "pygments_lexer": "ipython3",
   "version": "3.9.13"
  }
 },
 "nbformat": 4,
 "nbformat_minor": 5
}
