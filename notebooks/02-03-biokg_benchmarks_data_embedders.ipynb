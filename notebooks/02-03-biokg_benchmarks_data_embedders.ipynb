{
 "cells": [
  {
   "cell_type": "code",
   "execution_count": 1,
   "id": "97ee430b",
   "metadata": {},
   "outputs": [],
   "source": [
    "%load_ext autoreload\n",
    "%autoreload 2"
   ]
  },
  {
   "cell_type": "code",
   "execution_count": 2,
   "id": "a8acba93",
   "metadata": {
    "tags": []
   },
   "outputs": [
    {
     "name": "stderr",
     "output_type": "stream",
     "text": [
      "/home/jovyan/.conda/envs/bioblp-env/lib/python3.9/site-packages/tqdm/auto.py:22: TqdmWarning: IProgress not found. Please update jupyter and ipywidgets. See https://ipywidgets.readthedocs.io/en/stable/user_install.html\n",
      "  from .autonotebook import tqdm as notebook_tqdm\n"
     ]
    }
   ],
   "source": [
    "import pandas as pd \n",
    "from pathlib import Path\n",
    "from bioblp.data import COL_EDGE, COL_SOURCE, COL_TARGET"
   ]
  },
  {
   "cell_type": "code",
   "execution_count": 3,
   "id": "41d7aa56",
   "metadata": {},
   "outputs": [],
   "source": [
    "DATA_DIR = Path(\"../data\")\n",
    "SHARED_DIR = Path(\"/home/jovyan/workbench-shared-folder/bioblp\")"
   ]
  },
  {
   "cell_type": "markdown",
   "id": "2539a63a",
   "metadata": {
    "tags": []
   },
   "source": [
    "## Load benchmark"
   ]
  },
  {
   "cell_type": "code",
   "execution_count": 4,
   "id": "f5a36380",
   "metadata": {},
   "outputs": [],
   "source": [
    "dpi_benchmark_path = SHARED_DIR.joinpath('data/benchmarks/transductive/dpi_fda.tsv') "
   ]
  },
  {
   "cell_type": "code",
   "execution_count": 5,
   "id": "f2182501",
   "metadata": {},
   "outputs": [
    {
     "data": {
      "text/html": [
       "<div>\n",
       "<style scoped>\n",
       "    .dataframe tbody tr th:only-of-type {\n",
       "        vertical-align: middle;\n",
       "    }\n",
       "\n",
       "    .dataframe tbody tr th {\n",
       "        vertical-align: top;\n",
       "    }\n",
       "\n",
       "    .dataframe thead th {\n",
       "        text-align: right;\n",
       "    }\n",
       "</style>\n",
       "<table border=\"1\" class=\"dataframe\">\n",
       "  <thead>\n",
       "    <tr style=\"text-align: right;\">\n",
       "      <th></th>\n",
       "      <th>src</th>\n",
       "      <th>edg</th>\n",
       "      <th>tgt</th>\n",
       "    </tr>\n",
       "  </thead>\n",
       "  <tbody>\n",
       "    <tr>\n",
       "      <th>0</th>\n",
       "      <td>DB01079</td>\n",
       "      <td>DPI</td>\n",
       "      <td>Q13639</td>\n",
       "    </tr>\n",
       "    <tr>\n",
       "      <th>1</th>\n",
       "      <td>DB00114</td>\n",
       "      <td>DPI</td>\n",
       "      <td>P20711</td>\n",
       "    </tr>\n",
       "    <tr>\n",
       "      <th>2</th>\n",
       "      <td>DB01158</td>\n",
       "      <td>DPI</td>\n",
       "      <td>P13637</td>\n",
       "    </tr>\n",
       "  </tbody>\n",
       "</table>\n",
       "</div>"
      ],
      "text/plain": [
       "       src  edg     tgt\n",
       "0  DB01079  DPI  Q13639\n",
       "1  DB00114  DPI  P20711\n",
       "2  DB01158  DPI  P13637"
      ]
     },
     "execution_count": 5,
     "metadata": {},
     "output_type": "execute_result"
    }
   ],
   "source": [
    "dpi_bm = pd.read_csv(dpi_benchmark_path, sep='\\t', names=[COL_SOURCE, COL_EDGE, COL_TARGET])\n",
    "dpi_bm.head(3)"
   ]
  },
  {
   "cell_type": "markdown",
   "id": "25492767-cb69-4a25-954f-dd602fdbd496",
   "metadata": {},
   "source": [
    "\n",
    "* [DB01079; Tegaserod](https://go.drugbank.com/drugs/DB01079)\n",
    "Tegaserod is a serotonin-4 (5-HT4) receptor agonist indicated for the treatment of constipation predominant irritable bowel syndrome (IBS-C) specifically in women under the age of 65. There is currently no safety or efficacy data for use of tegaserol in men.\n",
    "\n",
    "* https://www.uniprot.org/uniprotkb/Q13639/entry"
   ]
  },
  {
   "cell_type": "code",
   "execution_count": 6,
   "id": "d40231f3-0055-40f1-b0c3-e6e337e69430",
   "metadata": {},
   "outputs": [
    {
     "data": {
      "text/plain": [
       "(18678, 2167, 2573)"
      ]
     },
     "execution_count": 6,
     "metadata": {},
     "output_type": "execute_result"
    }
   ],
   "source": [
    "dpi_drugs_unique = list(dpi_bm.src.unique())\n",
    "dpi_prots_unique = list(dpi_bm.tgt.unique())\n",
    "len(dpi_bm), len(dpi_drugs_unique), len(dpi_prots_unique)"
   ]
  },
  {
   "cell_type": "markdown",
   "id": "e8befbd6-a857-4276-9f94-83b76cd2759e",
   "metadata": {},
   "source": [
    "### Other embedderst"
   ]
  },
  {
   "cell_type": "code",
   "execution_count": 7,
   "id": "892f7f44-14fa-4988-ad13-e6b8b493e80e",
   "metadata": {},
   "outputs": [
    {
     "data": {
      "text/html": [
       "<div>\n",
       "<style scoped>\n",
       "    .dataframe tbody tr th:only-of-type {\n",
       "        vertical-align: middle;\n",
       "    }\n",
       "\n",
       "    .dataframe tbody tr th {\n",
       "        vertical-align: top;\n",
       "    }\n",
       "\n",
       "    .dataframe thead th {\n",
       "        text-align: right;\n",
       "    }\n",
       "</style>\n",
       "<table border=\"1\" class=\"dataframe\">\n",
       "  <thead>\n",
       "    <tr style=\"text-align: right;\">\n",
       "      <th></th>\n",
       "      <th>src</th>\n",
       "      <th>edg</th>\n",
       "      <th>tgt</th>\n",
       "    </tr>\n",
       "  </thead>\n",
       "  <tbody>\n",
       "    <tr>\n",
       "      <th>0</th>\n",
       "      <td>DB01079</td>\n",
       "      <td>DPI</td>\n",
       "      <td>Q13639</td>\n",
       "    </tr>\n",
       "    <tr>\n",
       "      <th>1</th>\n",
       "      <td>DB00114</td>\n",
       "      <td>DPI</td>\n",
       "      <td>P20711</td>\n",
       "    </tr>\n",
       "    <tr>\n",
       "      <th>2</th>\n",
       "      <td>DB01158</td>\n",
       "      <td>DPI</td>\n",
       "      <td>P13637</td>\n",
       "    </tr>\n",
       "    <tr>\n",
       "      <th>3</th>\n",
       "      <td>DB01069</td>\n",
       "      <td>DPI</td>\n",
       "      <td>P18825</td>\n",
       "    </tr>\n",
       "    <tr>\n",
       "      <th>4</th>\n",
       "      <td>DB01186</td>\n",
       "      <td>DPI</td>\n",
       "      <td>P08684</td>\n",
       "    </tr>\n",
       "  </tbody>\n",
       "</table>\n",
       "</div>"
      ],
      "text/plain": [
       "       src  edg     tgt\n",
       "0  DB01079  DPI  Q13639\n",
       "1  DB00114  DPI  P20711\n",
       "2  DB01158  DPI  P13637\n",
       "3  DB01069  DPI  P18825\n",
       "4  DB01186  DPI  P08684"
      ]
     },
     "execution_count": 7,
     "metadata": {},
     "output_type": "execute_result"
    }
   ],
   "source": [
    "dpi_bm.head()"
   ]
  },
  {
   "cell_type": "code",
   "execution_count": 8,
   "id": "4f1ee66e-07ae-40c8-bc3e-de230242ad64",
   "metadata": {},
   "outputs": [],
   "source": [
    "dpi_drugs_unique = list(dpi_bm.src.unique())\n",
    "dpi_prots_unique = list(dpi_bm.tgt.unique())\n",
    "\n",
    "dpi_entities = dpi_drugs_unique + dpi_prots_unique"
   ]
  },
  {
   "cell_type": "code",
   "execution_count": 9,
   "id": "dd1881b0-0bbd-40b4-a882-b83bbe55447b",
   "metadata": {},
   "outputs": [],
   "source": [
    "from bioblp.benchmarking.embeddings import LookupEmbedding"
   ]
  },
  {
   "cell_type": "code",
   "execution_count": 53,
   "id": "1bd1c930-7e19-4607-815a-c6ea81b464bf",
   "metadata": {},
   "outputs": [],
   "source": [
    "import torch\n",
    "import json\n",
    "import abc\n",
    "\n",
    "from dataclasses import dataclass\n",
    "from pathlib import Path\n",
    "from typing import Union\n",
    "\n",
    "from rdkit import Chem, DataStructs\n",
    "from rdkit.Chem import AllChem\n",
    "\n",
    "import numpy as np\n",
    "import pandas as pd\n",
    "\n",
    "\n",
    "@dataclass\n",
    "class LookupEmbedding():\n",
    "    \n",
    "    embeddings: torch.tensor\n",
    "    entity_to_id: dict\n",
    "    metadata: dict\n",
    "    \n",
    "    @classmethod \n",
    "    def from_pretrained(cls, model_path):\n",
    "        _embedding_file = \"embeddings.pt\"\n",
    "        _e2id_file = \"entity_to_id.tsv\"\n",
    "        _metadata_file = \"metadata.json\"\n",
    "        \n",
    "        model_path = Path(model_path)\n",
    "        \n",
    "        required = [_embedding_file, _e2id_file]\n",
    "        \n",
    "        for file_i in required:\n",
    "            assert model_path.joinpath(file_i).exists(), f\"Missing required file {file_i} in dir {model_path}\"\n",
    "        \n",
    "        embeddings = torch.load(model_path.joinpath(_embedding_file))\n",
    "        entity_to_id = pd.read_csv(model_path.joinpath(_e2id_file), sep=\"\\t\", index_col = None, header=None)\n",
    "        entity_to_id = {x[0]: x[1] for x in entity_to_id.values }\n",
    "        \n",
    "        metadata = None\n",
    "        if model_path.joinpath(_metadata_file).exists():\n",
    "             with open(model_path.joinpath(_metadata_file), \"r\") as f:\n",
    "                metadata= json.load(f)\n",
    "        \n",
    "        return cls(embeddings=embeddings, entity_to_id=entity_to_id, metadata=metadata)\n",
    "    \n",
    "    \n",
    "    def save(self, outdir: Union[str, Path], name: str):\n",
    "        outdir = Path(outdir).joinpath(name)\n",
    "        outdir.mkdir(parents=True, exist_ok=False)\n",
    "        \n",
    "        df = pd.DataFrame([[k, v] for k, v in self.entity_to_id.items()], columns=[\"e_\", \"id_\"])\n",
    "        df.to_csv(outdir.joinpath(\"entity_to_id.tsv\"), sep=\"\\t\", index=False, header=False)\n",
    "        \n",
    "        torch.save(self.embeddings, outdir.joinpath(\"embeddings.pt\"))\n",
    "        \n",
    "        if self.metadata is not None:\n",
    "            with open(outdir.joinpath(\"metadata.json\"), \"w\") as f:\n",
    "                json.dump(self.metadata, f)\n",
    "            \n",
    "            \n",
    "def create_noise_embeddings(entities, random_seed: int = 42, dim=128, emb_range=(-1, 1),\n",
    "                            outdir = None, outname = None) -> LookupEmbedding:\n",
    "    entity_set = set(entities)\n",
    "    entity_to_id = {k: idx for idx, k in enumerate(sorted(list(entity_set)))}\n",
    "    \n",
    "    emb_shape = (len(entities), dim)\n",
    "\n",
    "    r1 = emb_range[0]\n",
    "    r2 = emb_range[1]\n",
    "\n",
    "    g = torch.Generator()\n",
    "    g.manual_seed(random_seed)\n",
    "\n",
    "    embeddings = (r1 - r2) * torch.rand(emb_shape, generator=g) + r2\n",
    "    \n",
    "    metadata = {\n",
    "        \"random_seed\": random_seed,\n",
    "        \"dim\": dim,\n",
    "        \"emb_range\": emb_range\n",
    "    }\n",
    "    \n",
    "    lookup_embedding = LookupEmbedding(embeddings=embeddings,\n",
    "                           entity_to_id=entity_to_id,\n",
    "                           metadata=metadata)\n",
    "    \n",
    "    if outdir is not None:\n",
    "        assert outname is not None, \"need outout name\"\n",
    "        \n",
    "        outdir = Path(outdir)\n",
    "        \n",
    "        lookup_embedding.save(outdir, outname)\n",
    "    \n",
    "    return lookup_embedding\n",
    "            \n",
    "\n",
    "def create_moltrans_lookup_embedding(data_dir, outdir = None, outname = None) -> LookupEmbedding:\n",
    "    \"\"\"Create lookup embedding files from raw Molecular Transformer files.\n",
    "    \"\"\"\n",
    "    drug_id_file = \"drug_ids.txt\"\n",
    "    drug_smiles_file = \"drug_smiles.txt\"\n",
    "    smiles_emb_file = \"drug_smiles_full.npz\"\n",
    "    \n",
    "    data_dir = Path(data_dir)\n",
    "    \n",
    "    drug_df = pd.read_csv(data_dir.joinpath(drug_id_file), header=None)\n",
    "    drug_df.columns = [\"db_id\"]\n",
    "    drug_smiles_df = pd.read_csv(data_dir.joinpath(drug_smiles_file), header=None)\n",
    "\n",
    "    drug_df[\"smiles\"] = drug_smiles_df\n",
    "    \n",
    "    drug_ids_sorted = sorted(drug_df['db_id'].values.tolist())\n",
    "    id2smiles = {x[0]: x[1] for x in drug_df.values}\n",
    "    \n",
    "    # e2id\n",
    "    entity_to_id = {idx: k for idx, k in enumerate(drug_ids_sorted)}\n",
    "    \n",
    "    emb_records = []\n",
    "    with np.load(data_dir.joinpath(smiles_emb_file)) as data:\n",
    "        for drug_id in drug_ids_sorted:\n",
    "            smile = id2smiles.get(drug_id)\n",
    "            \n",
    "            emb_tensor = torch.tensor(data[smile])\n",
    "            emb_mean_pool = torch.mean(emb_tensor, dim=0) # is this best way?\n",
    "            emb_records.append(emb_mean_pool)\n",
    "\n",
    "    # embeddings\n",
    "    embeddings = torch.stack(emb_records, dim=0)\n",
    "    \n",
    "    # meta\n",
    "    metadata = {}\n",
    "    \n",
    "    lookup_embedding = LookupEmbedding(embeddings=embeddings,\n",
    "                           entity_to_id=entity_to_id,\n",
    "                           metadata=metadata)\n",
    "    if outdir is not None:\n",
    "        assert outname is not None, \"need outout name\"\n",
    "        \n",
    "        outdir = Path(outdir)\n",
    "        \n",
    "        lookup_embedding.save(outdir, outname)\n",
    "    \n",
    "    return lookup_embedding\n",
    "\n",
    "\n",
    "def sanitize(rd_mol, raise_exception: bool = False):\n",
    "    \"\"\"\n",
    "    Sanitizes the molecule if it has not been done before.\n",
    "    :param\n",
    "    raise_exception: if True will raise exception on failed sanitation\n",
    "    :raises MoleculeException: if the molecule could not be sanitized\n",
    "    \"\"\"\n",
    "\n",
    "    try:\n",
    "        AllChem.SanitizeMol(rd_mol)\n",
    "        # print(\"sanitized\")\n",
    "\n",
    "    except:  # noqa, there could be many reasons why the molecule cannot be sanitized\n",
    "        # print(\"unsanitized\")\n",
    "        if raise_exception:\n",
    "            raise ValueError(f\"Unable to sanitize molecule\")\n",
    "        # rd_mol = Chem.MolFromSmiles(self.smiles, sanitize=False)\n",
    "    return rd_mol\n",
    "\n",
    "\n",
    "def compute_morgan_fingerprint(smiles, radius: int = 2, nbits: int or None = 1024) -> np.ndarray:\n",
    "    \"\"\"\n",
    "    Returns the Morgan fingerprint of the molecule\n",
    "`\n",
    "    :param radius: the radius of the fingerprint\n",
    "    :param nbits: the length of the fingerprint. If not given it will use RDKit default, defaults to None\n",
    "    :return: the fingerprint\n",
    "    \"\"\"\n",
    "    if nbits:\n",
    "        key = (radius, nbits)\n",
    "    else:\n",
    "        key = (radius,)\n",
    "    \n",
    "    try:\n",
    "        mol = Chem.MolFromSmiles(smiles)\n",
    "\n",
    "        fp = AllChem.GetMorganFingerprintAsBitVect(mol, 2, nBits=1024)\n",
    "        array = np.zeros((0, ), dtype=np.int8)\n",
    "        DataStructs.ConvertToNumpyArray(fp, array)\n",
    "        return array\n",
    "    except:\n",
    "        return None\n",
    "\n",
    "\n",
    "def create_morgan_fingerprint_embeddings(data_dir, outdir = None, outname = None) -> LookupEmbedding:\n",
    "    \"\"\"Take drugs and their smiles and turn into morgan fingerprints.\n",
    "    \"\"\"\n",
    "        \n",
    "    drug_id_file = \"drug_ids.txt\"\n",
    "    drug_smiles_file = \"drug_smiles.txt\"\n",
    "    \n",
    "    data_dir = Path(data_dir)\n",
    "    \n",
    "    drug_df = pd.read_csv(data_dir.joinpath(drug_id_file), header=None)\n",
    "    drug_df.columns = [\"db_id\"]\n",
    "    drug_smiles_df = pd.read_csv(data_dir.joinpath(drug_smiles_file), header=None)\n",
    "\n",
    "    drug_df[\"smiles\"] = drug_smiles_df\n",
    "    \n",
    "   \n",
    "    \n",
    "    # compute feats\n",
    "    \n",
    "    drug_df[\"fp\"] = drug_df[\"smiles\"].apply(lambda x: compute_morgan_fingerprint(x, radius=2, nbits=1024))\n",
    "    \n",
    "    drug_df = drug_df.dropna()\n",
    "    \n",
    "    fp_array = drug_df[\"fp\"].values.tolist()\n",
    "    print(fp_array[:10])\n",
    "    \n",
    "    fingerprints = torch.tensor(np.array(fp_array))\n",
    "    \n",
    "    drug_ids_sorted = sorted(drug_df['db_id'].values.tolist())\n",
    "    id2smiles = {x[0]: x[1] for x in drug_df.values}\n",
    "    \n",
    "    # e2id\n",
    "    entity_to_id = {idx: k for idx, k in enumerate(drug_ids_sorted)}\n",
    "    \n",
    "    metadata = {\n",
    "        \"radius\": 2,\n",
    "        \"nbits\": 1024,\n",
    "        \"sanitize\": False\n",
    "    }\n",
    "    \n",
    "    lookup_embedding = LookupEmbedding(embeddings=fingerprints,\n",
    "                           entity_to_id=entity_to_id,\n",
    "                           metadata=metadata)\n",
    "    \n",
    "    if outdir is not None:\n",
    "        assert outname is not None, \"need outout name\"\n",
    "        \n",
    "        outdir = Path(outdir)\n",
    "        \n",
    "        lookup_embedding.save(outdir, outname)\n",
    "    \n",
    "    return lookup_embedding\n"
   ]
  },
  {
   "cell_type": "code",
   "execution_count": null,
   "id": "50a9375d-8f48-40d4-b8c2-eaaf312d4d6e",
   "metadata": {},
   "outputs": [],
   "source": []
  },
  {
   "cell_type": "code",
   "execution_count": null,
   "id": "a8ecadda-df2b-4c58-ba8f-72f96a3c431b",
   "metadata": {},
   "outputs": [],
   "source": []
  },
  {
   "cell_type": "code",
   "execution_count": null,
   "id": "049673cc-8024-414b-b122-0e1112e99985",
   "metadata": {},
   "outputs": [],
   "source": []
  },
  {
   "cell_type": "code",
   "execution_count": null,
   "id": "cc9134ce-1fbc-4139-a22a-d3cf6da3fa3f",
   "metadata": {},
   "outputs": [],
   "source": []
  },
  {
   "cell_type": "code",
   "execution_count": null,
   "id": "c8420fb6-44df-4429-8e4c-fd5d23b4446d",
   "metadata": {},
   "outputs": [],
   "source": []
  },
  {
   "cell_type": "code",
   "execution_count": 11,
   "id": "bae03471-0151-4385-a603-de0b73a115f8",
   "metadata": {},
   "outputs": [],
   "source": [
    "import numpy as np\n",
    "\n",
    "if False:\n",
    "    X = np.array(pos_neg_df_feat.joint_encoding.values.tolist())    \n",
    "    y = pos_neg_df_feat.label.values\n",
    "    print(f\"Shape X: {X.shape}, y: {y.shape}\")\n",
    "          \n",
    "    np.save(\"../data/features/kge-1baon0eg/X.npy\", X)\n",
    "    np.save(\"../data/features/kge-1baon0eg/y.npy\", y)"
   ]
  },
  {
   "cell_type": "markdown",
   "id": "8099f8da-3881-44a0-8520-297260e48cb9",
   "metadata": {},
   "source": [
    "### BioKG Drugs"
   ]
  },
  {
   "cell_type": "code",
   "execution_count": 12,
   "id": "e6de05a4-74b2-4e26-8fca-e2b01aacff9b",
   "metadata": {},
   "outputs": [],
   "source": [
    "drug_properties_df = pd.read_csv(\"../data/biokg/biokg.properties.drug.tsv\", sep=\"\\t\", header=None)\n",
    "drug_meta_df = pd.read_csv(\"../data/biokg/biokg.metadata.drug.tsv\", sep=\"\\t\", header=None)\n",
    "\n"
   ]
  },
  {
   "cell_type": "code",
   "execution_count": 13,
   "id": "e5c93126-064e-4700-9be1-d3e61ebe24ae",
   "metadata": {},
   "outputs": [
    {
     "data": {
      "text/html": [
       "<div>\n",
       "<style scoped>\n",
       "    .dataframe tbody tr th:only-of-type {\n",
       "        vertical-align: middle;\n",
       "    }\n",
       "\n",
       "    .dataframe tbody tr th {\n",
       "        vertical-align: top;\n",
       "    }\n",
       "\n",
       "    .dataframe thead th {\n",
       "        text-align: right;\n",
       "    }\n",
       "</style>\n",
       "<table border=\"1\" class=\"dataframe\">\n",
       "  <thead>\n",
       "    <tr style=\"text-align: right;\">\n",
       "      <th></th>\n",
       "      <th>0</th>\n",
       "      <th>1</th>\n",
       "      <th>2</th>\n",
       "    </tr>\n",
       "  </thead>\n",
       "  <tbody>\n",
       "    <tr>\n",
       "      <th>0</th>\n",
       "      <td>DB00441</td>\n",
       "      <td>DRUG_INDICATION_ASSOCIATION</td>\n",
       "      <td>C0019829</td>\n",
       "    </tr>\n",
       "    <tr>\n",
       "      <th>1</th>\n",
       "      <td>DB01013</td>\n",
       "      <td>DRUG_INDICATION_ASSOCIATION</td>\n",
       "      <td>C0033860</td>\n",
       "    </tr>\n",
       "    <tr>\n",
       "      <th>2</th>\n",
       "      <td>DB00997</td>\n",
       "      <td>DRUG_INDICATION_ASSOCIATION</td>\n",
       "      <td>C0005695</td>\n",
       "    </tr>\n",
       "    <tr>\n",
       "      <th>3</th>\n",
       "      <td>DB00215</td>\n",
       "      <td>DRUG_INDICATION_ASSOCIATION</td>\n",
       "      <td>C0233477</td>\n",
       "    </tr>\n",
       "    <tr>\n",
       "      <th>4</th>\n",
       "      <td>DB00603</td>\n",
       "      <td>DRUG_INDICATION_ASSOCIATION</td>\n",
       "      <td>C0600142</td>\n",
       "    </tr>\n",
       "  </tbody>\n",
       "</table>\n",
       "</div>"
      ],
      "text/plain": [
       "         0                            1         2\n",
       "0  DB00441  DRUG_INDICATION_ASSOCIATION  C0019829\n",
       "1  DB01013  DRUG_INDICATION_ASSOCIATION  C0033860\n",
       "2  DB00997  DRUG_INDICATION_ASSOCIATION  C0005695\n",
       "3  DB00215  DRUG_INDICATION_ASSOCIATION  C0233477\n",
       "4  DB00603  DRUG_INDICATION_ASSOCIATION  C0600142"
      ]
     },
     "execution_count": 13,
     "metadata": {},
     "output_type": "execute_result"
    }
   ],
   "source": [
    "drug_properties_df.head()"
   ]
  },
  {
   "cell_type": "code",
   "execution_count": 14,
   "id": "29fc4b94-8dcb-47a0-a337-e907bbdcf5b4",
   "metadata": {},
   "outputs": [
    {
     "data": {
      "text/html": [
       "<div>\n",
       "<style scoped>\n",
       "    .dataframe tbody tr th:only-of-type {\n",
       "        vertical-align: middle;\n",
       "    }\n",
       "\n",
       "    .dataframe tbody tr th {\n",
       "        vertical-align: top;\n",
       "    }\n",
       "\n",
       "    .dataframe thead th {\n",
       "        text-align: right;\n",
       "    }\n",
       "</style>\n",
       "<table border=\"1\" class=\"dataframe\">\n",
       "  <thead>\n",
       "    <tr style=\"text-align: right;\">\n",
       "      <th></th>\n",
       "      <th>0</th>\n",
       "      <th>1</th>\n",
       "      <th>2</th>\n",
       "    </tr>\n",
       "  </thead>\n",
       "  <tbody>\n",
       "    <tr>\n",
       "      <th>0</th>\n",
       "      <td>DB00006</td>\n",
       "      <td>SUBSTITUENT</td>\n",
       "      <td>1_hydroxy_2_unsubstituted_benzenoid</td>\n",
       "    </tr>\n",
       "    <tr>\n",
       "      <th>1</th>\n",
       "      <td>DB00006</td>\n",
       "      <td>SUBSTITUENT</td>\n",
       "      <td>Alpha_peptide</td>\n",
       "    </tr>\n",
       "    <tr>\n",
       "      <th>2</th>\n",
       "      <td>DB00006</td>\n",
       "      <td>SUBSTITUENT</td>\n",
       "      <td>Alpha_amino_acid_amide</td>\n",
       "    </tr>\n",
       "    <tr>\n",
       "      <th>3</th>\n",
       "      <td>DB00006</td>\n",
       "      <td>SUBSTITUENT</td>\n",
       "      <td>Alpha_amino_acid_or_derivatives</td>\n",
       "    </tr>\n",
       "    <tr>\n",
       "      <th>4</th>\n",
       "      <td>DB00006</td>\n",
       "      <td>SUBSTITUENT</td>\n",
       "      <td>Amine</td>\n",
       "    </tr>\n",
       "  </tbody>\n",
       "</table>\n",
       "</div>"
      ],
      "text/plain": [
       "         0            1                                    2\n",
       "0  DB00006  SUBSTITUENT  1_hydroxy_2_unsubstituted_benzenoid\n",
       "1  DB00006  SUBSTITUENT                        Alpha_peptide\n",
       "2  DB00006  SUBSTITUENT               Alpha_amino_acid_amide\n",
       "3  DB00006  SUBSTITUENT      Alpha_amino_acid_or_derivatives\n",
       "4  DB00006  SUBSTITUENT                                Amine"
      ]
     },
     "execution_count": 14,
     "metadata": {},
     "output_type": "execute_result"
    }
   ],
   "source": [
    "drug_meta_df.head()"
   ]
  },
  {
   "cell_type": "code",
   "execution_count": 15,
   "id": "41dab474-03a2-4cc5-963e-5bf363c27229",
   "metadata": {},
   "outputs": [],
   "source": [
    "unique_drugs_prop = drug_properties_df[0].unique()\n",
    "unique_drugs_m = drug_meta_df[0].unique()\n",
    "\n",
    "biokg_drugs = list(set(unique_drugs_m).union(set(unique_drugs_prop)))"
   ]
  },
  {
   "cell_type": "code",
   "execution_count": 16,
   "id": "7022985f-f2bf-43ac-80b5-31891ae31f8c",
   "metadata": {},
   "outputs": [
    {
     "data": {
      "text/plain": [
       "8308"
      ]
     },
     "execution_count": 16,
     "metadata": {},
     "output_type": "execute_result"
    }
   ],
   "source": [
    "len(biokg_drugs)"
   ]
  },
  {
   "cell_type": "markdown",
   "id": "5db03c3f-142c-400f-9ed2-cf6d123cbb04",
   "metadata": {},
   "source": [
    "### BioKG Proteins\n",
    "\n",
    "Note these are from the original biokg data, here we care about generating features for all entities."
   ]
  },
  {
   "cell_type": "code",
   "execution_count": 17,
   "id": "f0746871-35d8-4280-8710-5c92475ee271",
   "metadata": {},
   "outputs": [],
   "source": [
    "protein_properties_df = pd.read_csv(\"../data/biokg/biokg.properties.protein.tsv\", sep=\"\\t\", header=None)\n",
    "protein_meta_df = pd.read_csv(\"../data/biokg/biokg.metadata.protein.tsv\", sep=\"\\t\", header=None)\n",
    "\n"
   ]
  },
  {
   "cell_type": "code",
   "execution_count": 18,
   "id": "74fb1546-477c-4539-a1a2-c4be6b26cd7f",
   "metadata": {},
   "outputs": [],
   "source": [
    "unique_prot_prop = protein_properties_df[0].unique()\n",
    "unique_prot_m = protein_meta_df[0].unique()\n",
    "\n",
    "biokg_prots = list(set(unique_prot_prop).union(set(unique_prot_m)))"
   ]
  },
  {
   "cell_type": "code",
   "execution_count": 19,
   "id": "9659f452-d2da-4e4c-9f4c-4d65a3cfecbf",
   "metadata": {},
   "outputs": [
    {
     "data": {
      "text/plain": [
       "122902"
      ]
     },
     "execution_count": 19,
     "metadata": {},
     "output_type": "execute_result"
    }
   ],
   "source": [
    "len(biokg_prots)"
   ]
  },
  {
   "cell_type": "markdown",
   "id": "c574b042-4cab-40b8-8b9f-9f18c2eb7455",
   "metadata": {},
   "source": [
    "### Noise embeddings"
   ]
  },
  {
   "cell_type": "code",
   "execution_count": 20,
   "id": "4f17ef0d-10fb-46ac-9357-a5e01785a716",
   "metadata": {},
   "outputs": [],
   "source": [
    "biokg_drugs_and_proteins = biokg_drugs + biokg_prots"
   ]
  },
  {
   "cell_type": "code",
   "execution_count": 21,
   "id": "8c1a2032-0f56-4076-a0d0-f23926faa577",
   "metadata": {},
   "outputs": [
    {
     "name": "stdout",
     "output_type": "stream",
     "text": [
      "tensor([[ 7.2355e-01,  2.4987e-01,  9.5468e-02,  5.5649e-01,  7.3862e-01,\n",
      "         -6.7262e-01, -6.7865e-01,  9.0819e-01, -3.1821e-01, -4.0680e-01,\n",
      "         -9.4997e-01, -5.7855e-01, -9.1934e-01,  3.2739e-01, -7.0039e-01,\n",
      "         -8.1340e-01,  9.4433e-01,  8.0271e-01, -2.0241e-01, -5.4604e-01,\n",
      "          4.9681e-01, -1.1013e-01,  1.4517e-03, -2.5311e-01,  5.3735e-01,\n",
      "         -5.6404e-01, -6.6501e-01,  6.9386e-01, -9.6874e-03, -2.7746e-03,\n",
      "         -3.2112e-01, -9.3158e-01, -2.9326e-01,  2.2722e-01, -8.9813e-01,\n",
      "          3.8053e-01,  2.9037e-01, -6.8275e-02,  7.6151e-01, -1.0882e-01,\n",
      "          6.7848e-01, -1.0282e-01, -9.5808e-02, -1.3842e-01,  8.4330e-01,\n",
      "          9.4978e-01, -4.6012e-01, -8.5760e-01,  8.8737e-01, -3.7039e-01,\n",
      "          7.3612e-01, -6.2691e-02, -9.3036e-01, -7.5862e-01,  7.3114e-01,\n",
      "         -6.1857e-01, -5.2232e-01,  1.5339e-03, -9.6873e-01,  3.9718e-01,\n",
      "          2.3272e-01,  5.0541e-01, -1.4390e-01, -2.6479e-01, -7.9680e-02,\n",
      "          5.6264e-01,  4.5017e-01, -3.4015e-01,  8.7683e-01,  1.5573e-01,\n",
      "          2.2152e-02,  4.0516e-01, -3.6392e-01, -6.4454e-02, -7.0206e-01,\n",
      "          8.8812e-02,  6.3114e-01, -7.0655e-01, -1.3965e-01,  2.8640e-01,\n",
      "          6.5910e-01, -2.3439e-01,  9.5375e-01, -2.6338e-01, -4.9444e-01,\n",
      "          8.7720e-01,  6.5467e-01,  7.1893e-01, -8.4051e-01, -8.5012e-01,\n",
      "         -6.2601e-02, -9.3881e-01,  3.3430e-01,  9.7082e-01, -3.4929e-01,\n",
      "         -3.5427e-01, -9.8038e-01,  2.8944e-04, -7.6640e-01, -6.1296e-01,\n",
      "         -7.2377e-01,  9.9233e-01, -8.2346e-01,  8.5245e-01, -8.9651e-01,\n",
      "          4.1441e-02,  8.8622e-01, -2.7809e-01,  2.0355e-01,  8.9819e-01,\n",
      "          3.6254e-01, -1.0311e-01, -7.7885e-01,  3.0743e-01, -5.9397e-01,\n",
      "         -1.2523e-01, -3.3708e-02, -1.9134e-01,  6.5627e-01,  8.3120e-01,\n",
      "          3.1421e-01,  9.3185e-01,  4.6635e-01, -4.6006e-02,  6.5861e-01,\n",
      "          4.1480e-01,  1.7969e-01,  1.1520e-01]])\n",
      "{'random_seed': 42, 'dim': 128, 'emb_range': (-1, 1)}\n"
     ]
    }
   ],
   "source": [
    "noise_embedder = create_noise_embeddings(biokg_drugs_and_proteins, random_seed=42, dim=128,\n",
    "                                         # outdir=\"/home/jovyan/workbench-shared-folder/bioblp/data/benchmarks/features/\",\n",
    "                                         # outname=\"random-noise-lookup-embeddings\"\n",
    "                                        )\n",
    "\n",
    "print(noise_embedder.embeddings[[10]])\n",
    "print(noise_embedder.metadata)"
   ]
  },
  {
   "cell_type": "code",
   "execution_count": null,
   "id": "7e72d279-a990-49c5-b490-f12bdba9b298",
   "metadata": {},
   "outputs": [],
   "source": []
  },
  {
   "cell_type": "code",
   "execution_count": null,
   "id": "bb34b71a-eadc-48f3-9dfa-ef7bb1019d43",
   "metadata": {},
   "outputs": [],
   "source": []
  },
  {
   "cell_type": "code",
   "execution_count": null,
   "id": "63c022a4-028c-4795-8712-3b03798c00d5",
   "metadata": {},
   "outputs": [],
   "source": []
  },
  {
   "cell_type": "markdown",
   "id": "135c4d04-29cf-4872-a7cc-a06ddc232eed",
   "metadata": {},
   "source": [
    "### Mol transformer"
   ]
  },
  {
   "cell_type": "code",
   "execution_count": 22,
   "id": "a3a41b81-a949-429e-a771-9d5f7673b339",
   "metadata": {},
   "outputs": [],
   "source": [
    "moltrans_emb = create_moltrans_lookup_embedding(\"/home/jovyan/workbench-shared-folder/bioblp/data/molecular_data/\",\n",
    "                                                # outdir=\"/home/jovyan/workbench-shared-folder/bioblp/data/benchmarks/features/\",\n",
    "                                                # outname=\"moltrans-lookup-embeddings\"\n",
    "                                               )"
   ]
  },
  {
   "cell_type": "code",
   "execution_count": 23,
   "id": "3e62e38f-f726-478f-9973-251d98063955",
   "metadata": {},
   "outputs": [
    {
     "data": {
      "text/plain": [
       "torch.Size([10815, 512])"
      ]
     },
     "execution_count": 23,
     "metadata": {},
     "output_type": "execute_result"
    }
   ],
   "source": [
    "moltrans_emb.embeddings.shape"
   ]
  },
  {
   "cell_type": "code",
   "execution_count": 24,
   "id": "bce3a659-ec0e-4b72-8688-187ffc3d3978",
   "metadata": {},
   "outputs": [],
   "source": [
    "moltrans_drugs = pd.read_csv(\"/home/jovyan/workbench-shared-folder/bioblp/data/molecular_data/drug_ids.txt\", header=None)[0].values.tolist()\n"
   ]
  },
  {
   "cell_type": "code",
   "execution_count": 25,
   "id": "db7c8714-4857-4ffc-9d59-b76c068630c8",
   "metadata": {},
   "outputs": [
    {
     "name": "stdout",
     "output_type": "stream",
     "text": [
      "Num drugs in biokg: 8308\n",
      "Num drugs in moltrans: 10815\n",
      "biok - moltrans = 370\n",
      "moltrans - biok   = 2877\n"
     ]
    }
   ],
   "source": [
    "biokg_drugs_s = set(biokg_drugs)\n",
    "moltrans_drugs_s = set(moltrans_drugs)\n",
    "\n",
    "print(f\"Num drugs in biokg: {len(biokg_drugs_s)}\")\n",
    "print(f\"Num drugs in moltrans: {len(moltrans_drugs_s)}\")\n",
    "\n",
    "biokg_drugs_diff = biokg_drugs_s - moltrans_drugs_s\n",
    "\n",
    "print(f\"biok - moltrans = {len(biokg_drugs_diff)}\")\n",
    "\n",
    "moltrans_drugs_diff = moltrans_drugs_s - biokg_drugs_s\n",
    "\n",
    "print(f\"moltrans - biok   = {len(moltrans_drugs_diff)}\")"
   ]
  },
  {
   "cell_type": "code",
   "execution_count": 26,
   "id": "70480fb6-d210-4ce6-9ff8-ff4c80aa0b2c",
   "metadata": {},
   "outputs": [
    {
     "data": {
      "text/plain": [
       "['DB00001',\n",
       " 'DB00002',\n",
       " 'DB00003',\n",
       " 'DB00004',\n",
       " 'DB00005',\n",
       " 'DB00006',\n",
       " 'DB00007',\n",
       " 'DB00008',\n",
       " 'DB00009',\n",
       " 'DB00010']"
      ]
     },
     "execution_count": 26,
     "metadata": {},
     "output_type": "execute_result"
    }
   ],
   "source": [
    "sorted(biokg_drugs)[:10]"
   ]
  },
  {
   "cell_type": "code",
   "execution_count": 27,
   "id": "92961154-e141-470a-ba4b-71832ad972e1",
   "metadata": {},
   "outputs": [
    {
     "data": {
      "text/plain": [
       "['DB00006',\n",
       " 'DB00007',\n",
       " 'DB00014',\n",
       " 'DB00027',\n",
       " 'DB00035',\n",
       " 'DB00050',\n",
       " 'DB00067',\n",
       " 'DB00080',\n",
       " 'DB00091',\n",
       " 'DB00093']"
      ]
     },
     "execution_count": 27,
     "metadata": {},
     "output_type": "execute_result"
    }
   ],
   "source": [
    "sorted(moltrans_drugs)[:10]"
   ]
  },
  {
   "cell_type": "markdown",
   "id": "3b76e0b9-a434-4c8a-9f21-82e95f835d02",
   "metadata": {},
   "source": [
    "### Morgan fingerprints"
   ]
  },
  {
   "cell_type": "code",
   "execution_count": 55,
   "id": "58c3f7ec-32dc-44e6-b4d1-0ca6fd0f5ed3",
   "metadata": {},
   "outputs": [
    {
     "name": "stderr",
     "output_type": "stream",
     "text": [
      "[22:07:09] Explicit valence for atom # 0 N, 4, is greater than permitted\n",
      "[22:07:10] Explicit valence for atom # 3 N, 4, is greater than permitted\n",
      "[22:07:10] Explicit valence for atom # 6 N, 4, is greater than permitted\n",
      "[22:07:10] Explicit valence for atom # 0 N, 4, is greater than permitted\n",
      "[22:07:10] Explicit valence for atom # 19 O, 3, is greater than permitted\n",
      "[22:07:11] Explicit valence for atom # 13 Be, 3, is greater than permitted\n",
      "[22:07:11] Explicit valence for atom # 4 F, 2, is greater than permitted\n",
      "[22:07:11] Explicit valence for atom # 5 K, 2, is greater than permitted\n",
      "[22:07:11] Unusual charge on atom 0 number of radical electrons set to zero\n",
      "[22:07:11] Explicit valence for atom # 13 Cl, 5, is greater than permitted\n",
      "[22:07:11] Explicit valence for atom # 0 O, 3, is greater than permitted\n",
      "[22:07:11] Explicit valence for atom # 1 Cl, 4, is greater than permitted\n",
      "[22:07:12] Explicit valence for atom # 0 N, 4, is greater than permitted\n",
      "[22:07:12] Explicit valence for atom # 84 N, 4, is greater than permitted\n",
      "[22:07:12] SMILES Parse Error: syntax error while parsing: OS(O)(O)C1=CC=C(C=C1)C-1=C2\\C=CC(=N2)\\C(=C2/N\\C(\\C=C2)=C(/C2=N/C(/C=C2)=C(\\C2=CC=C\\-1N2)C1=CC=C(C=C1)S(O)(O)O)C1=CC=C(C=C1)S([O-])([O-])[O-])\\C1=CC=C(C=C1)S(O)(O)[O-]\n",
      "[22:07:12] SMILES Parse Error: Failed parsing SMILES 'OS(O)(O)C1=CC=C(C=C1)C-1=C2\\C=CC(=N2)\\C(=C2/N\\C(\\C=C2)=C(/C2=N/C(/C=C2)=C(\\C2=CC=C\\-1N2)C1=CC=C(C=C1)S(O)(O)O)C1=CC=C(C=C1)S([O-])([O-])[O-])\\C1=CC=C(C=C1)S(O)(O)[O-]' for input: 'OS(O)(O)C1=CC=C(C=C1)C-1=C2\\C=CC(=N2)\\C(=C2/N\\C(\\C=C2)=C(/C2=N/C(/C=C2)=C(\\C2=CC=C\\-1N2)C1=CC=C(C=C1)S(O)(O)O)C1=CC=C(C=C1)S([O-])([O-])[O-])\\C1=CC=C(C=C1)S(O)(O)[O-]'\n",
      "[22:07:12] Explicit valence for atom # 0 N, 4, is greater than permitted\n",
      "[22:07:12] SMILES Parse Error: syntax error while parsing: OC1=CC=CC(=C1)C-1=C2\\CCC(=N2)\\C(=C2/N\\C(\\C=C2)=C(/C2=N/C(/C=C2)=C(\\C2=CC=C\\-1N2)C1=CC(O)=CC=C1)C1=CC(O)=CC=C1)\\C1=CC(O)=CC=C1\n",
      "[22:07:12] SMILES Parse Error: Failed parsing SMILES 'OC1=CC=CC(=C1)C-1=C2\\CCC(=N2)\\C(=C2/N\\C(\\C=C2)=C(/C2=N/C(/C=C2)=C(\\C2=CC=C\\-1N2)C1=CC(O)=CC=C1)C1=CC(O)=CC=C1)\\C1=CC(O)=CC=C1' for input: 'OC1=CC=CC(=C1)C-1=C2\\CCC(=N2)\\C(=C2/N\\C(\\C=C2)=C(/C2=N/C(/C=C2)=C(\\C2=CC=C\\-1N2)C1=CC(O)=CC=C1)C1=CC(O)=CC=C1)\\C1=CC(O)=CC=C1'\n"
     ]
    },
    {
     "name": "stdout",
     "output_type": "stream",
     "text": [
      "[array([0, 0, 0, ..., 0, 0, 0], dtype=int8), array([1, 1, 0, ..., 0, 0, 0], dtype=int8), array([0, 0, 0, ..., 0, 0, 1], dtype=int8), array([0, 1, 0, ..., 0, 0, 0], dtype=int8), array([0, 1, 0, ..., 0, 0, 0], dtype=int8), array([0, 0, 0, ..., 0, 0, 0], dtype=int8), array([0, 0, 0, ..., 0, 0, 0], dtype=int8), array([0, 0, 0, ..., 0, 0, 0], dtype=int8), array([0, 1, 0, ..., 0, 0, 0], dtype=int8), array([0, 0, 0, ..., 0, 0, 0], dtype=int8)]\n"
     ]
    }
   ],
   "source": [
    "morgan_fp_embedding = create_morgan_fingerprint_embeddings(\"/home/jovyan/workbench-shared-folder/bioblp/data/molecular_data/\",\n",
    "                                                outdir=\"/home/jovyan/workbench-shared-folder/bioblp/data/benchmarks/features/\",\n",
    "                                                outname=\"morgan-fingerprint-lookup-embeddings\")"
   ]
  },
  {
   "cell_type": "code",
   "execution_count": 56,
   "id": "474545c9-c62e-44f7-b173-387f6dc3955f",
   "metadata": {},
   "outputs": [
    {
     "data": {
      "text/plain": [
       "tensor([[0, 0, 0,  ..., 0, 0, 0],\n",
       "        [1, 1, 0,  ..., 0, 0, 0],\n",
       "        [0, 0, 0,  ..., 0, 0, 1]], dtype=torch.int8)"
      ]
     },
     "execution_count": 56,
     "metadata": {},
     "output_type": "execute_result"
    }
   ],
   "source": [
    "morgan_fp_embedding.embeddings[[0, 1, 2]]"
   ]
  },
  {
   "cell_type": "code",
   "execution_count": null,
   "id": "31217d6a-f398-47e7-a9c5-c59ed7c3f964",
   "metadata": {},
   "outputs": [],
   "source": []
  }
 ],
 "metadata": {
  "kernelspec": {
   "display_name": ".conda-bioblp-env [Python]",
   "language": "python",
   "name": "conda-env-.conda-bioblp-env-py"
  },
  "language_info": {
   "codemirror_mode": {
    "name": "ipython",
    "version": 3
   },
   "file_extension": ".py",
   "mimetype": "text/x-python",
   "name": "python",
   "nbconvert_exporter": "python",
   "pygments_lexer": "ipython3",
   "version": "3.9.13"
  }
 },
 "nbformat": 4,
 "nbformat_minor": 5
}
