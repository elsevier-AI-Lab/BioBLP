{
 "cells": [
  {
   "cell_type": "code",
   "execution_count": 9,
   "id": "97ee430b",
   "metadata": {},
   "outputs": [],
   "source": [
    "%load_ext autoreload\n",
    "%autoreload 2"
   ]
  },
  {
   "cell_type": "code",
   "execution_count": 10,
   "id": "a8acba93",
   "metadata": {
    "tags": []
   },
   "outputs": [],
   "source": [
    "import pandas as pd \n",
    "from pathlib import Path\n",
    "from bioblp.data import COL_EDGE, COL_SOURCE, COL_TARGET"
   ]
  },
  {
   "cell_type": "code",
   "execution_count": 11,
   "id": "41d7aa56",
   "metadata": {},
   "outputs": [],
   "source": [
    "DATA_DIR = Path(\"../data\")\n",
    "SHARED_DIR = Path(\"/home/jovyan/workbench-shared-folder/bioblp\")"
   ]
  },
  {
   "cell_type": "markdown",
   "id": "2539a63a",
   "metadata": {
    "tags": []
   },
   "source": [
    "## Load benchmark"
   ]
  },
  {
   "cell_type": "code",
   "execution_count": 12,
   "id": "f5a36380",
   "metadata": {},
   "outputs": [],
   "source": [
    "dpi_benchmark_path = SHARED_DIR.joinpath('data/benchmarks/dpi_fda.tsv') "
   ]
  },
  {
   "cell_type": "code",
   "execution_count": 13,
   "id": "f2182501",
   "metadata": {},
   "outputs": [
    {
     "data": {
      "text/html": [
       "<div>\n",
       "<style scoped>\n",
       "    .dataframe tbody tr th:only-of-type {\n",
       "        vertical-align: middle;\n",
       "    }\n",
       "\n",
       "    .dataframe tbody tr th {\n",
       "        vertical-align: top;\n",
       "    }\n",
       "\n",
       "    .dataframe thead th {\n",
       "        text-align: right;\n",
       "    }\n",
       "</style>\n",
       "<table border=\"1\" class=\"dataframe\">\n",
       "  <thead>\n",
       "    <tr style=\"text-align: right;\">\n",
       "      <th></th>\n",
       "      <th>src</th>\n",
       "      <th>edg</th>\n",
       "      <th>tgt</th>\n",
       "    </tr>\n",
       "  </thead>\n",
       "  <tbody>\n",
       "    <tr>\n",
       "      <th>0</th>\n",
       "      <td>DB01079</td>\n",
       "      <td>DPI</td>\n",
       "      <td>Q13639</td>\n",
       "    </tr>\n",
       "    <tr>\n",
       "      <th>1</th>\n",
       "      <td>DB00114</td>\n",
       "      <td>DPI</td>\n",
       "      <td>P20711</td>\n",
       "    </tr>\n",
       "    <tr>\n",
       "      <th>2</th>\n",
       "      <td>DB01158</td>\n",
       "      <td>DPI</td>\n",
       "      <td>P13637</td>\n",
       "    </tr>\n",
       "  </tbody>\n",
       "</table>\n",
       "</div>"
      ],
      "text/plain": [
       "       src  edg     tgt\n",
       "0  DB01079  DPI  Q13639\n",
       "1  DB00114  DPI  P20711\n",
       "2  DB01158  DPI  P13637"
      ]
     },
     "execution_count": 13,
     "metadata": {},
     "output_type": "execute_result"
    }
   ],
   "source": [
    "dpi_bm = pd.read_csv(dpi_benchmark_path, sep='\\t', names=[COL_SOURCE, COL_EDGE, COL_TARGET])\n",
    "dpi_bm.head(3)"
   ]
  },
  {
   "cell_type": "markdown",
   "id": "25492767-cb69-4a25-954f-dd602fdbd496",
   "metadata": {},
   "source": [
    "\n",
    "* [DB01079; Tegaserod](https://go.drugbank.com/drugs/DB01079)\n",
    "Tegaserod is a serotonin-4 (5-HT4) receptor agonist indicated for the treatment of constipation predominant irritable bowel syndrome (IBS-C) specifically in women under the age of 65. There is currently no safety or efficacy data for use of tegaserol in men.\n",
    "\n",
    "* https://www.uniprot.org/uniprotkb/Q13639/entry"
   ]
  },
  {
   "cell_type": "code",
   "execution_count": 14,
   "id": "d40231f3-0055-40f1-b0c3-e6e337e69430",
   "metadata": {},
   "outputs": [
    {
     "data": {
      "text/plain": [
       "(19161, 2286, 2705)"
      ]
     },
     "execution_count": 14,
     "metadata": {},
     "output_type": "execute_result"
    }
   ],
   "source": [
    "dpi_drugs_unique = list(dpi_bm.src.unique())\n",
    "dpi_prots_unique = list(dpi_bm.tgt.unique())\n",
    "len(dpi_bm), len(dpi_drugs_unique), len(dpi_prots_unique)"
   ]
  },
  {
   "cell_type": "markdown",
   "id": "27bf7bbc-4075-40b4-b10e-f99a82e89cde",
   "metadata": {
    "tags": []
   },
   "source": [
    "## Prepare Data for ML"
   ]
  },
  {
   "cell_type": "code",
   "execution_count": 18,
   "id": "24573ebe-658f-4b4a-b384-2c856fa9183e",
   "metadata": {},
   "outputs": [],
   "source": [
    "from bioblp.benchmarking.featurize import load_model_and_entity_to_id_maps, ENTITY_TO_ID_MAP, RELATION_TO_ID_MAP"
   ]
  },
  {
   "cell_type": "code",
   "execution_count": 8,
   "id": "eb5e36d6-05b6-4eee-aaee-f7f05783254d",
   "metadata": {},
   "outputs": [
    {
     "name": "stderr",
     "output_type": "stream",
     "text": [
      "15:14:56 - INFO - bioblp.benchmarking.featurize - Loading trained model from /home/jovyan/workbench-shared-folder/bioblp/models/1baon0eg\n"
     ]
    }
   ],
   "source": [
    "model_dir = Path('/home/jovyan/workbench-shared-folder/bioblp/models/1baon0eg')\n",
    "\n",
    "kge_artifacts = load_model_and_entity_to_id_maps(model_dir)\n",
    "entity_to_id_map = kge_artifacts.get(ENTITY_TO_ID_MAP)\n",
    "relation_to_id_map = kge_artifacts.get(RELATION_TO_ID_MAP)"
   ]
  },
  {
   "cell_type": "markdown",
   "id": "140fd17d-1018-48f6-87f4-9a4a93655c46",
   "metadata": {},
   "source": [
    "### Generate Negative samples"
   ]
  },
  {
   "cell_type": "code",
   "execution_count": 15,
   "id": "78a673d8-89e2-4b6c-9eb4-5c20127959bf",
   "metadata": {},
   "outputs": [],
   "source": [
    "from bioblp.benchmarking.preprocess import prepare_dpi_samples"
   ]
  },
  {
   "cell_type": "code",
   "execution_count": 16,
   "id": "54fc5fb3-d877-44db-b594-3770916aacf8",
   "metadata": {},
   "outputs": [
    {
     "ename": "NameError",
     "evalue": "name 'entity_to_id_map' is not defined",
     "output_type": "error",
     "traceback": [
      "\u001b[0;31m---------------------------------------------------------------------------\u001b[0m",
      "\u001b[0;31mNameError\u001b[0m                                 Traceback (most recent call last)",
      "Input \u001b[0;32mIn [16]\u001b[0m, in \u001b[0;36m<cell line: 1>\u001b[0;34m()\u001b[0m\n\u001b[0;32m----> 1\u001b[0m pos_neg_df \u001b[38;5;241m=\u001b[39m prepare_dpi_samples(dpi_bm, \u001b[43mentity_to_id_map\u001b[49m, relation_to_id_map, num_negs_per_pos\u001b[38;5;241m=\u001b[39m\u001b[38;5;241m10\u001b[39m)\n",
      "\u001b[0;31mNameError\u001b[0m: name 'entity_to_id_map' is not defined"
     ]
    }
   ],
   "source": [
    "pos_neg_df = prepare_dpi_samples(dpi_bm, entity_to_id_map, relation_to_id_map, num_negs_per_pos=10)"
   ]
  },
  {
   "cell_type": "code",
   "execution_count": 17,
   "id": "3d5f2001-dbc8-48f3-b6d5-677af3f7e694",
   "metadata": {},
   "outputs": [
    {
     "ename": "NameError",
     "evalue": "name 'pos_neg_df' is not defined",
     "output_type": "error",
     "traceback": [
      "\u001b[0;31m---------------------------------------------------------------------------\u001b[0m",
      "\u001b[0;31mNameError\u001b[0m                                 Traceback (most recent call last)",
      "Input \u001b[0;32mIn [17]\u001b[0m, in \u001b[0;36m<cell line: 1>\u001b[0;34m()\u001b[0m\n\u001b[0;32m----> 1\u001b[0m \u001b[43mpos_neg_df\u001b[49m\u001b[38;5;241m.\u001b[39mhead(\u001b[38;5;241m10\u001b[39m)\n",
      "\u001b[0;31mNameError\u001b[0m: name 'pos_neg_df' is not defined"
     ]
    }
   ],
   "source": [
    "pos_neg_df.head(10)"
   ]
  },
  {
   "cell_type": "markdown",
   "id": "c52e251c-cf1d-4d66-a6e6-c51a89089f80",
   "metadata": {},
   "source": [
    "### Featurize by obtaining joint entity pair encoding"
   ]
  },
  {
   "cell_type": "code",
   "execution_count": 12,
   "id": "e7c49f60-30ac-4a69-ba7d-34b8464f3f93",
   "metadata": {},
   "outputs": [],
   "source": [
    "from bioblp.benchmarking.featurize import generate_entity_pair_joint_encoding\n",
    "from bioblp.benchmarking.featurize import concatenate, average\n"
   ]
  },
  {
   "cell_type": "code",
   "execution_count": 13,
   "id": "54da152e-84f1-4bcd-b1e9-acf4b418afa5",
   "metadata": {},
   "outputs": [
    {
     "name": "stderr",
     "output_type": "stream",
     "text": [
      "15:14:58 - INFO - bioblp.benchmarking.featurize - Applying transformation function: f<function concatenate at 0x7fc4a23274c0>, to retrieve joint encoding for entity pair\n"
     ]
    }
   ],
   "source": [
    "# pass on to KGEM encoder to featurize each entity pair\n",
    "pos_neg_df_feat = generate_entity_pair_joint_encoding(pos_neg_df,\n",
    "                                    model=kge_artifacts[\"model\"],\n",
    "                                    transform_fn=concatenate)\n",
    "                            "
   ]
  },
  {
   "cell_type": "code",
   "execution_count": 14,
   "id": "d008e6bb-4b61-4868-9a6b-675ed5cf1c60",
   "metadata": {},
   "outputs": [],
   "source": [
    "del kge_artifacts"
   ]
  },
  {
   "cell_type": "markdown",
   "id": "e8befbd6-a857-4276-9f94-83b76cd2759e",
   "metadata": {},
   "source": [
    "### Other embedderst"
   ]
  },
  {
   "cell_type": "code",
   "execution_count": 19,
   "id": "892f7f44-14fa-4988-ad13-e6b8b493e80e",
   "metadata": {},
   "outputs": [
    {
     "data": {
      "text/html": [
       "<div>\n",
       "<style scoped>\n",
       "    .dataframe tbody tr th:only-of-type {\n",
       "        vertical-align: middle;\n",
       "    }\n",
       "\n",
       "    .dataframe tbody tr th {\n",
       "        vertical-align: top;\n",
       "    }\n",
       "\n",
       "    .dataframe thead th {\n",
       "        text-align: right;\n",
       "    }\n",
       "</style>\n",
       "<table border=\"1\" class=\"dataframe\">\n",
       "  <thead>\n",
       "    <tr style=\"text-align: right;\">\n",
       "      <th></th>\n",
       "      <th>src</th>\n",
       "      <th>edg</th>\n",
       "      <th>tgt</th>\n",
       "    </tr>\n",
       "  </thead>\n",
       "  <tbody>\n",
       "    <tr>\n",
       "      <th>0</th>\n",
       "      <td>DB01079</td>\n",
       "      <td>DPI</td>\n",
       "      <td>Q13639</td>\n",
       "    </tr>\n",
       "    <tr>\n",
       "      <th>1</th>\n",
       "      <td>DB00114</td>\n",
       "      <td>DPI</td>\n",
       "      <td>P20711</td>\n",
       "    </tr>\n",
       "    <tr>\n",
       "      <th>2</th>\n",
       "      <td>DB01158</td>\n",
       "      <td>DPI</td>\n",
       "      <td>P13637</td>\n",
       "    </tr>\n",
       "    <tr>\n",
       "      <th>3</th>\n",
       "      <td>DB01069</td>\n",
       "      <td>DPI</td>\n",
       "      <td>P18825</td>\n",
       "    </tr>\n",
       "    <tr>\n",
       "      <th>4</th>\n",
       "      <td>DB01186</td>\n",
       "      <td>DPI</td>\n",
       "      <td>P08684</td>\n",
       "    </tr>\n",
       "  </tbody>\n",
       "</table>\n",
       "</div>"
      ],
      "text/plain": [
       "       src  edg     tgt\n",
       "0  DB01079  DPI  Q13639\n",
       "1  DB00114  DPI  P20711\n",
       "2  DB01158  DPI  P13637\n",
       "3  DB01069  DPI  P18825\n",
       "4  DB01186  DPI  P08684"
      ]
     },
     "execution_count": 19,
     "metadata": {},
     "output_type": "execute_result"
    }
   ],
   "source": [
    "dpi_bm.head()"
   ]
  },
  {
   "cell_type": "code",
   "execution_count": 20,
   "id": "4f1ee66e-07ae-40c8-bc3e-de230242ad64",
   "metadata": {},
   "outputs": [],
   "source": [
    "dpi_drugs_unique = list(dpi_bm.src.unique())\n",
    "dpi_prots_unique = list(dpi_bm.tgt.unique())\n",
    "\n",
    "dpi_entities = dpi_drugs_unique + dpi_prots_unique"
   ]
  },
  {
   "cell_type": "code",
   "execution_count": 21,
   "id": "dd1881b0-0bbd-40b4-a882-b83bbe55447b",
   "metadata": {},
   "outputs": [],
   "source": [
    "from bioblp.benchmarking.embeddings import NoiseEmbedding"
   ]
  },
  {
   "cell_type": "code",
   "execution_count": 121,
   "id": "1bd1c930-7e19-4607-815a-c6ea81b464bf",
   "metadata": {},
   "outputs": [],
   "source": [
    "import torch\n",
    "import json\n",
    "import abc\n",
    "\n",
    "from dataclasses import dataclass\n",
    "from pathlib import Path\n",
    "from typing import Union\n",
    "\n",
    "\n",
    "@dataclass\n",
    "class LookupEmbedding():\n",
    "    \n",
    "    embeddings: torch.tensor\n",
    "    entity_to_id: dict\n",
    "    metadata: dict\n",
    "    \n",
    "    # def __init__(self, embeddings, entity_to_id, metadata=None):\n",
    "    #     self.embeddings = embeddings\n",
    "    #     self.entity_to_id = entity_to_id\n",
    "    #     self.metadata = metadata\n",
    "        \n",
    "    @classmethod \n",
    "    def from_pretrained(cls, model_path):\n",
    "        _embedding_file = \"embeddings.pt\"\n",
    "        _e2id_file = \"entity_to_id.tsv\"\n",
    "        _metadata_file = \"metadata.json\"\n",
    "        \n",
    "        model_path = Path(model_path)\n",
    "        \n",
    "        required = [_embedding_file, _e2id_file]\n",
    "        \n",
    "        for file_i in required:\n",
    "            assert model_path.joinpath(file_i).exists(), f\"Missing required file {file_i} in dir {model_path}\"\n",
    "        \n",
    "        embeddings = torch.load(model_path.joinpath(_embedding_file))\n",
    "        entity_to_id = pd.read_csv(model_path.joinpath(_e2id_file), sep=\"\\t\", index_col = None, header=None)\n",
    "        entity_to_id = {x[0]: x[1] for x in entity_to_id.values }\n",
    "        \n",
    "        metadata = None\n",
    "        if model_path.joinpath(_metadata_file).exists():\n",
    "             with open(model_path.joinpath(_metadata_file), \"r\") as f:\n",
    "                metadata= json.load(f)\n",
    "        \n",
    "        return cls(embeddings=embeddings, entity_to_id=entity_to_id, metadata=metadata)\n",
    "    \n",
    "    \n",
    "    def save(self, outdir: Union[str, Path], name: str):\n",
    "        outdir = Path(outdir).joinpath(name)\n",
    "        outdir.mkdir(parents=True, exist_ok=False)\n",
    "        \n",
    "        df = pd.DataFrame([[k, v] for k, v in self.entity_to_id.items()], columns=[\"e_\", \"id_\"])\n",
    "        df.to_csv(outdir.joinpath(\"entity_to_id.tsv\"), sep=\"\\t\", index=False, header=False)\n",
    "        \n",
    "        torch.save(self.embeddings, outdir.joinpath(\"embeddings.pt\"))\n",
    "        \n",
    "        if self.metadata is not None:\n",
    "            with open(outdir.joinpath(\"metadata.json\"), \"w\") as f:\n",
    "                json.dump(self.metadata, f)\n",
    "\n",
    "\n",
    "\n",
    "# class LookupEmbedding(abc.ABC):\n",
    "#     def __init__(self, lookup_embedding: PretrainedLookupEmbedding = None, **kwargs):\n",
    "        \n",
    "#         self._lookup = lookup_embedding\n",
    "#         self._embeddings = None\n",
    "#         self._entity_to_id = None\n",
    "        \n",
    "#         self._config = kwargs\n",
    "\n",
    "#     @classmethod\n",
    "#     def from_pretrained(cls, model_path):\n",
    "#         lookup = PretrainedLookupEmbedding.from_path(model_path)\n",
    "        \n",
    "#         return cls(lookup)\n",
    "    \n",
    "#     @property\n",
    "#     def embeddings(self):\n",
    "#         if self._lookup is not None:\n",
    "#             return self._lookup.embeddings\n",
    "#         else:\n",
    "#             return None\n",
    "    \n",
    "#     @property\n",
    "#     def entity_to_id(self):\n",
    "#         if self._lookup is not None:\n",
    "#             return self._lookup.entity_to_id\n",
    "#         else:\n",
    "#             return None\n",
    "    \n",
    "#     @property\n",
    "#     def metadata(self):\n",
    "#         if self._lookup is not None:\n",
    "#             return self._lookup.metadata\n",
    "#         else:\n",
    "#             return None\n",
    "\n",
    "#     def save(self, outdir: Union[str, Path], name=\"noise_embeddings\"):\n",
    "#         self._lookup.save(outdir, name)\n",
    "\n",
    "#     def _build_embeddings(self) -> torch.tensor:\n",
    "#         raise NotImplementedError(\n",
    "#             \"Child class needs implementation of _build_embeddings.\")\n",
    "\n",
    "#     def _build_entity_to_id(self, entities) -> dict:\n",
    "#         entities = sorted(dpi_entities)\n",
    "#         entity_to_id = {k: k_idx for k_idx, k in enumerate(entities)}\n",
    "        \n",
    "#         return entity_to_id\n",
    "\n",
    "#     def __call__(self, entities: list):\n",
    "#         if self.embeddings is None:\n",
    "#             entity_to_id = self._build_entity_to_id(entities)\n",
    "#             embeddings = self._build_embeddings(entities)\n",
    "#             metadata = self._config\n",
    "            \n",
    "#             self._lookup = PretrainedLookupEmbedding(embeddings=embeddings,\n",
    "#                                                      entity_to_id=entity_to_id,\n",
    "#                                                      metadata=metadata)\n",
    "#         else:\n",
    "#             raise Error(\"Embedder already fit\")\n",
    "            \n",
    "\n",
    "# def build_entity_to_id(entities) -> dict:\n",
    "#     entities = sorted(dpi_entities)\n",
    "#     entity_to_id = {k: k_idx for k_idx, k in enumerate(entities)}\n",
    "\n",
    "#     return entity_to_id\n",
    "            \n",
    "            \n",
    "def NoiseEmbedding(entities, random_seed: int = 42, dim=128, emb_range=(-1, 1)) -> LookupEmbedding:\n",
    "    entity_to_id = build_entity_to_id(entities)\n",
    "    \n",
    "    emb_shape = (len(entities), dim)\n",
    "\n",
    "    r1 = emb_range[0]\n",
    "    r2 = emb_range[1]\n",
    "\n",
    "    g = torch.Generator()\n",
    "    g.manual_seed(random_seed)\n",
    "\n",
    "    embeddings = (r1 - r2) * torch.rand(emb_shape, generator=g) + r2\n",
    "    \n",
    "    metadata = {\n",
    "        \"random_seed\": random_seed,\n",
    "        \"dim\": dim,\n",
    "        \"emb_range\": emb_range\n",
    "    }\n",
    "    \n",
    "    return LookupEmbedding(embeddings=embeddings,\n",
    "                           entity_to_id=entity_to_id,\n",
    "                           metadata=metadata)\n",
    "            \n",
    "# class NoiseEmbedding(LookupEmbedding):\n",
    "#     def __init__(self, lookup_embedding: PretrainedLookupEmbedding = None, random_seed: int = 42, dim=128, emb_range=(-1, 1)):\n",
    "#         super().__init__(lookup_embedding=lookup_embedding, random_seed=random_seed, dim=dim, emb_range=emb_range)\n",
    "        \n",
    "#         self.other_prop = 12\n",
    "\n",
    "#     def _build_embeddings(self, entities):\n",
    "        \n",
    "#         dim = self._config[\"dim\"]\n",
    "#         seed = self._config[\"random_seed\"]\n",
    "#         emb_range = self._config[\"emb_range\"]\n",
    "        \n",
    "#         emb_shape = (len(entities), dim)\n",
    "\n",
    "#         r1 = emb_range[0]\n",
    "#         r2 = emb_range[1]\n",
    "\n",
    "#         g = torch.Generator()\n",
    "#         g.manual_seed(seed)\n",
    "\n",
    "#         embeddings = (r1 - r2) * torch.rand(emb_shape, generator=g) + r2\n",
    "#         return embeddings\n",
    "\n",
    "\n",
    "def MorganFingerpintEmbedding(PretrainedLookupEmbedding):\n",
    "    def __init__(self, embeddings, entity_to_id):\n",
    "        super().__init__(embeddings, entity_to_id)\n"
   ]
  },
  {
   "cell_type": "code",
   "execution_count": 122,
   "id": "010dd89d-48ab-466c-bf9b-2b719575b690",
   "metadata": {},
   "outputs": [],
   "source": [
    "# noise_embedder = NoiseEmbedding(random_seed=42, dim=128)"
   ]
  },
  {
   "cell_type": "code",
   "execution_count": 123,
   "id": "50a9375d-8f48-40d4-b8c2-eaaf312d4d6e",
   "metadata": {},
   "outputs": [],
   "source": [
    "noise_embedder = NoiseEmbedding(dpi_entities, random_seed=42, dim=128)"
   ]
  },
  {
   "cell_type": "code",
   "execution_count": 124,
   "id": "a8ecadda-df2b-4c58-ba8f-72f96a3c431b",
   "metadata": {},
   "outputs": [
    {
     "data": {
      "text/plain": [
       "tensor([[ 7.2355e-01,  2.4987e-01,  9.5468e-02,  5.5649e-01,  7.3862e-01,\n",
       "         -6.7262e-01, -6.7865e-01,  9.0819e-01, -3.1821e-01, -4.0680e-01,\n",
       "         -9.4997e-01, -5.7855e-01, -9.1934e-01,  3.2739e-01, -7.0039e-01,\n",
       "         -8.1340e-01,  9.4433e-01,  8.0271e-01, -2.0241e-01, -5.4604e-01,\n",
       "          4.9681e-01, -1.1013e-01,  1.4517e-03, -2.5311e-01,  5.3735e-01,\n",
       "         -5.6404e-01, -6.6501e-01,  6.9386e-01, -9.6874e-03, -2.7746e-03,\n",
       "         -3.2112e-01, -9.3158e-01, -2.9326e-01,  2.2722e-01, -8.9813e-01,\n",
       "          3.8053e-01,  2.9037e-01, -6.8275e-02,  7.6151e-01, -1.0882e-01,\n",
       "          6.7848e-01, -1.0282e-01, -9.5808e-02, -1.3842e-01,  8.4330e-01,\n",
       "          9.4978e-01, -4.6012e-01, -8.5760e-01,  8.8737e-01, -3.7039e-01,\n",
       "          7.3612e-01, -6.2691e-02, -9.3036e-01, -7.5862e-01,  7.3114e-01,\n",
       "         -6.1857e-01, -5.2232e-01,  1.5339e-03, -9.6873e-01,  3.9718e-01,\n",
       "          2.3272e-01,  5.0541e-01, -1.4390e-01, -2.6479e-01, -7.9680e-02,\n",
       "          5.6264e-01,  4.5017e-01, -3.4015e-01,  8.7683e-01,  1.5573e-01,\n",
       "          2.2152e-02,  4.0516e-01, -3.6392e-01, -6.4454e-02, -7.0206e-01,\n",
       "          8.8812e-02,  6.3114e-01, -7.0655e-01, -1.3965e-01,  2.8640e-01,\n",
       "          6.5910e-01, -2.3439e-01,  9.5375e-01, -2.6338e-01, -4.9444e-01,\n",
       "          8.7720e-01,  6.5467e-01,  7.1893e-01, -8.4051e-01, -8.5012e-01,\n",
       "         -6.2601e-02, -9.3881e-01,  3.3430e-01,  9.7082e-01, -3.4929e-01,\n",
       "         -3.5427e-01, -9.8038e-01,  2.8944e-04, -7.6640e-01, -6.1296e-01,\n",
       "         -7.2377e-01,  9.9233e-01, -8.2346e-01,  8.5245e-01, -8.9651e-01,\n",
       "          4.1441e-02,  8.8622e-01, -2.7809e-01,  2.0355e-01,  8.9819e-01,\n",
       "          3.6254e-01, -1.0311e-01, -7.7885e-01,  3.0743e-01, -5.9397e-01,\n",
       "         -1.2523e-01, -3.3708e-02, -1.9134e-01,  6.5627e-01,  8.3120e-01,\n",
       "          3.1421e-01,  9.3185e-01,  4.6635e-01, -4.6006e-02,  6.5861e-01,\n",
       "          4.1480e-01,  1.7969e-01,  1.1520e-01],\n",
       "        [-1.4585e-01,  3.0699e-01,  5.1626e-01,  3.2155e-01,  3.5655e-01,\n",
       "         -9.5664e-01, -3.8357e-01, -9.8411e-01, -2.7420e-01, -2.2643e-01,\n",
       "         -4.1109e-01, -1.7163e-01,  7.8477e-01,  5.9135e-01,  2.4228e-01,\n",
       "         -1.5033e-02, -3.7671e-01, -3.8505e-01, -7.9331e-01, -2.0357e-01,\n",
       "          3.4129e-01,  7.5203e-01,  7.3241e-01,  5.9734e-01, -3.0160e-01,\n",
       "         -5.4027e-01, -8.7491e-01,  3.1631e-01,  7.8883e-02,  2.9696e-01,\n",
       "          3.6540e-03, -3.2100e-01,  2.1971e-02, -4.6295e-02, -1.2669e-01,\n",
       "         -3.7242e-01,  3.0340e-01,  5.9630e-01, -2.3592e-01,  1.1841e-01,\n",
       "          4.5303e-01, -4.1996e-01, -9.0691e-03,  1.4546e-01,  4.8408e-01,\n",
       "          1.3157e-01,  8.5033e-01, -2.2749e-01, -1.5007e-02, -6.0684e-01,\n",
       "         -6.4570e-02, -7.9952e-02, -2.7241e-01, -7.6094e-01,  4.7256e-01,\n",
       "         -5.9701e-01, -2.4456e-01,  6.6712e-01, -3.4819e-01,  5.9973e-01,\n",
       "          3.1478e-01,  4.7667e-01,  6.8031e-01, -7.8757e-01,  8.9382e-01,\n",
       "         -5.0002e-01,  9.0001e-01,  1.2171e-01, -5.9642e-02, -7.1091e-01,\n",
       "          3.6189e-01, -2.8783e-01, -1.5491e-01, -5.8838e-01, -5.9452e-02,\n",
       "         -3.7444e-01,  6.0409e-01,  6.9491e-01, -8.9108e-01,  7.2867e-01,\n",
       "          1.7024e-01,  1.2088e-01, -9.7788e-01,  2.1611e-01,  7.6130e-01,\n",
       "          2.5350e-01, -5.1582e-01, -3.9629e-01, -8.2729e-01,  2.0472e-01,\n",
       "         -4.7105e-01,  9.4104e-01, -3.8694e-01, -4.5946e-01, -6.4509e-01,\n",
       "          5.7344e-01,  2.6698e-01, -2.4193e-01,  7.1061e-01,  7.9548e-01,\n",
       "          9.6204e-01, -5.5823e-02, -6.2099e-01, -2.5686e-01, -6.0965e-02,\n",
       "         -3.4843e-01,  6.2840e-01, -1.0543e-01,  2.4842e-01,  4.9514e-01,\n",
       "         -8.6237e-01,  7.7365e-01, -1.4655e-01,  8.7871e-01,  3.3927e-02,\n",
       "          4.4436e-01, -3.2915e-01,  5.6154e-01, -6.4004e-01,  8.1147e-01,\n",
       "         -6.0064e-01,  7.5118e-01, -5.3559e-01,  4.2107e-01,  2.3296e-03,\n",
       "          1.8250e-01, -6.4903e-01, -3.2773e-01],\n",
       "        [-1.4042e-02, -9.0981e-01,  8.5205e-01,  3.8196e-01, -5.8325e-01,\n",
       "          2.1787e-01,  2.0470e-01,  4.1679e-01, -6.8931e-01, -4.9050e-01,\n",
       "         -3.2045e-01,  5.6196e-01,  8.1175e-01, -1.0816e-01, -2.9628e-01,\n",
       "          4.6171e-01,  2.7980e-01, -6.7537e-01, -7.9660e-02, -4.5118e-02,\n",
       "          2.4610e-01,  9.0559e-01,  9.4026e-01,  4.7802e-01,  5.0832e-01,\n",
       "         -3.1155e-01,  2.9111e-01,  3.9122e-01, -9.5343e-01, -3.4832e-01,\n",
       "         -7.1290e-01,  4.8411e-01,  4.0847e-01, -3.6754e-01,  6.6628e-01,\n",
       "          6.5370e-01,  4.8300e-02,  3.6576e-01,  7.4966e-01, -5.9316e-01,\n",
       "         -8.0416e-01, -1.6222e-01,  1.7411e-01,  9.2627e-01,  3.6424e-01,\n",
       "         -2.5459e-01, -4.7153e-01,  1.2642e-01,  3.9535e-01, -5.5723e-01,\n",
       "          7.9640e-01, -6.3202e-01,  3.8795e-01, -1.5305e-02,  1.9762e-01,\n",
       "         -1.2124e-01,  3.0220e-01, -7.2713e-01,  2.5997e-02, -7.8060e-01,\n",
       "         -9.6148e-01,  4.8719e-01,  7.2951e-01, -8.0230e-01, -7.8361e-01,\n",
       "          7.6355e-01,  7.7303e-02,  9.8613e-01,  8.1860e-01, -1.9314e-01,\n",
       "         -2.6603e-01, -2.1198e-01,  2.7216e-01, -9.2258e-01, -1.4298e-01,\n",
       "          5.9008e-01,  5.6614e-02, -2.4015e-01, -3.5019e-01,  7.0708e-01,\n",
       "         -3.7479e-01,  5.1088e-01,  8.3094e-01,  5.4621e-01, -9.6441e-01,\n",
       "         -8.5486e-01, -8.9548e-01, -5.8701e-01, -7.5545e-01,  1.3385e-01,\n",
       "          5.5023e-01, -4.9966e-01,  5.1818e-01,  6.7487e-01,  3.1933e-01,\n",
       "         -2.0986e-01, -5.1480e-01,  3.8841e-01,  5.8857e-01, -1.3489e-01,\n",
       "          5.8943e-01,  6.5106e-01, -5.2125e-01,  1.6798e-01, -9.1378e-01,\n",
       "         -9.7278e-01, -2.9911e-01, -3.4416e-01, -2.3028e-01, -1.5661e-02,\n",
       "          7.2732e-02, -1.3744e-02, -3.7342e-01, -9.2977e-01,  2.5916e-01,\n",
       "          4.2272e-01,  2.4216e-01,  4.8312e-01, -1.7004e-01, -7.4645e-01,\n",
       "         -7.8198e-01, -4.5913e-01,  7.3593e-01,  5.3670e-01,  2.1971e-01,\n",
       "          1.8432e-01, -8.2248e-02,  9.1797e-01]])"
      ]
     },
     "execution_count": 124,
     "metadata": {},
     "output_type": "execute_result"
    }
   ],
   "source": [
    "noise_embedder.embeddings[[10,12,3]]"
   ]
  },
  {
   "cell_type": "code",
   "execution_count": 125,
   "id": "049673cc-8024-414b-b122-0e1112e99985",
   "metadata": {},
   "outputs": [
    {
     "data": {
      "text/plain": [
       "{'random_seed': 42, 'dim': 128, 'emb_range': (-1, 1)}"
      ]
     },
     "execution_count": 125,
     "metadata": {},
     "output_type": "execute_result"
    }
   ],
   "source": [
    "noise_embedder.metadata"
   ]
  },
  {
   "cell_type": "code",
   "execution_count": 126,
   "id": "765db609-a584-4528-b860-ddec0dda22c2",
   "metadata": {},
   "outputs": [
    {
     "ename": "FileExistsError",
     "evalue": "[Errno 17] File exists: '../data/features/noisy-e5'",
     "output_type": "error",
     "traceback": [
      "\u001b[0;31m---------------------------------------------------------------------------\u001b[0m",
      "\u001b[0;31mFileExistsError\u001b[0m                           Traceback (most recent call last)",
      "Input \u001b[0;32mIn [126]\u001b[0m, in \u001b[0;36m<cell line: 1>\u001b[0;34m()\u001b[0m\n\u001b[0;32m----> 1\u001b[0m \u001b[43mnoise_embedder\u001b[49m\u001b[38;5;241;43m.\u001b[39;49m\u001b[43msave\u001b[49m\u001b[43m(\u001b[49m\u001b[38;5;124;43m\"\u001b[39;49m\u001b[38;5;124;43m../data/features/\u001b[39;49m\u001b[38;5;124;43m\"\u001b[39;49m\u001b[43m,\u001b[49m\u001b[43m \u001b[49m\u001b[43mname\u001b[49m\u001b[38;5;241;43m=\u001b[39;49m\u001b[38;5;124;43m\"\u001b[39;49m\u001b[38;5;124;43mnoisy-e5\u001b[39;49m\u001b[38;5;124;43m\"\u001b[39;49m\u001b[43m)\u001b[49m\n",
      "Input \u001b[0;32mIn [121]\u001b[0m, in \u001b[0;36mLookupEmbedding.save\u001b[0;34m(self, outdir, name)\u001b[0m\n\u001b[1;32m     47\u001b[0m \u001b[38;5;28;01mdef\u001b[39;00m \u001b[38;5;21msave\u001b[39m(\u001b[38;5;28mself\u001b[39m, outdir: Union[\u001b[38;5;28mstr\u001b[39m, Path], name: \u001b[38;5;28mstr\u001b[39m):\n\u001b[1;32m     48\u001b[0m     outdir \u001b[38;5;241m=\u001b[39m Path(outdir)\u001b[38;5;241m.\u001b[39mjoinpath(name)\n\u001b[0;32m---> 49\u001b[0m     \u001b[43moutdir\u001b[49m\u001b[38;5;241;43m.\u001b[39;49m\u001b[43mmkdir\u001b[49m\u001b[43m(\u001b[49m\u001b[43mparents\u001b[49m\u001b[38;5;241;43m=\u001b[39;49m\u001b[38;5;28;43;01mTrue\u001b[39;49;00m\u001b[43m,\u001b[49m\u001b[43m \u001b[49m\u001b[43mexist_ok\u001b[49m\u001b[38;5;241;43m=\u001b[39;49m\u001b[38;5;28;43;01mFalse\u001b[39;49;00m\u001b[43m)\u001b[49m\n\u001b[1;32m     51\u001b[0m     df \u001b[38;5;241m=\u001b[39m pd\u001b[38;5;241m.\u001b[39mDataFrame([[k, v] \u001b[38;5;28;01mfor\u001b[39;00m k, v \u001b[38;5;129;01min\u001b[39;00m \u001b[38;5;28mself\u001b[39m\u001b[38;5;241m.\u001b[39mentity_to_id\u001b[38;5;241m.\u001b[39mitems()], columns\u001b[38;5;241m=\u001b[39m[\u001b[38;5;124m\"\u001b[39m\u001b[38;5;124me_\u001b[39m\u001b[38;5;124m\"\u001b[39m, \u001b[38;5;124m\"\u001b[39m\u001b[38;5;124mid_\u001b[39m\u001b[38;5;124m\"\u001b[39m])\n\u001b[1;32m     52\u001b[0m     df\u001b[38;5;241m.\u001b[39mto_csv(outdir\u001b[38;5;241m.\u001b[39mjoinpath(\u001b[38;5;124m\"\u001b[39m\u001b[38;5;124mentity_to_id.tsv\u001b[39m\u001b[38;5;124m\"\u001b[39m), sep\u001b[38;5;241m=\u001b[39m\u001b[38;5;124m\"\u001b[39m\u001b[38;5;130;01m\\t\u001b[39;00m\u001b[38;5;124m\"\u001b[39m, index\u001b[38;5;241m=\u001b[39m\u001b[38;5;28;01mFalse\u001b[39;00m, header\u001b[38;5;241m=\u001b[39m\u001b[38;5;28;01mFalse\u001b[39;00m)\n",
      "File \u001b[0;32m~/.conda/envs/bioblp-env/lib/python3.9/pathlib.py:1323\u001b[0m, in \u001b[0;36mPath.mkdir\u001b[0;34m(self, mode, parents, exist_ok)\u001b[0m\n\u001b[1;32m   1319\u001b[0m \u001b[38;5;124;03m\"\"\"\u001b[39;00m\n\u001b[1;32m   1320\u001b[0m \u001b[38;5;124;03mCreate a new directory at this given path.\u001b[39;00m\n\u001b[1;32m   1321\u001b[0m \u001b[38;5;124;03m\"\"\"\u001b[39;00m\n\u001b[1;32m   1322\u001b[0m \u001b[38;5;28;01mtry\u001b[39;00m:\n\u001b[0;32m-> 1323\u001b[0m     \u001b[38;5;28;43mself\u001b[39;49m\u001b[38;5;241;43m.\u001b[39;49m\u001b[43m_accessor\u001b[49m\u001b[38;5;241;43m.\u001b[39;49m\u001b[43mmkdir\u001b[49m\u001b[43m(\u001b[49m\u001b[38;5;28;43mself\u001b[39;49m\u001b[43m,\u001b[49m\u001b[43m \u001b[49m\u001b[43mmode\u001b[49m\u001b[43m)\u001b[49m\n\u001b[1;32m   1324\u001b[0m \u001b[38;5;28;01mexcept\u001b[39;00m \u001b[38;5;167;01mFileNotFoundError\u001b[39;00m:\n\u001b[1;32m   1325\u001b[0m     \u001b[38;5;28;01mif\u001b[39;00m \u001b[38;5;129;01mnot\u001b[39;00m parents \u001b[38;5;129;01mor\u001b[39;00m \u001b[38;5;28mself\u001b[39m\u001b[38;5;241m.\u001b[39mparent \u001b[38;5;241m==\u001b[39m \u001b[38;5;28mself\u001b[39m:\n",
      "\u001b[0;31mFileExistsError\u001b[0m: [Errno 17] File exists: '../data/features/noisy-e5'"
     ]
    }
   ],
   "source": [
    "noise_embedder.save(\"../data/features/\", name=\"noisy-e5\")"
   ]
  },
  {
   "cell_type": "code",
   "execution_count": 127,
   "id": "750056e0-a6b5-47f0-843f-f20c5026089a",
   "metadata": {},
   "outputs": [],
   "source": [
    "noise_embedder_2 = LookupEmbedding.from_pretrained(\"../data/features/noisy-e5/\")"
   ]
  },
  {
   "cell_type": "code",
   "execution_count": 128,
   "id": "cc9134ce-1fbc-4139-a22a-d3cf6da3fa3f",
   "metadata": {},
   "outputs": [
    {
     "data": {
      "text/plain": [
       "tensor([[-0.7645, -0.8300,  0.2343, -0.9186,  0.2191, -0.2018,  0.4869, -0.5873,\n",
       "         -0.8815,  0.7336, -0.8692, -0.1872, -0.7388, -0.1354, -0.4822,  0.1412,\n",
       "         -0.7709, -0.1478,  0.4668, -0.2549,  0.4607,  0.1173,  0.4062, -0.6634,\n",
       "          0.7894,  0.4610,  0.2824,  0.6013, -0.0944,  0.9877, -0.9031,  0.8495,\n",
       "         -0.7720, -0.1664,  0.3247, -0.6179, -0.1559, -0.8080, -0.1093,  0.3154,\n",
       "         -0.2687,  0.2712, -0.4209, -0.8928, -0.5781,  0.4372, -0.5773, -0.1789,\n",
       "         -0.5078,  0.6095,  0.9899,  0.3864,  0.7670, -0.8205, -0.2880, -0.4142,\n",
       "         -0.3163,  0.0174, -0.7826,  0.7105, -0.0630,  0.6825, -0.3084,  0.3444,\n",
       "         -0.3064,  0.2083, -0.8294,  0.5927,  0.5964,  0.5964, -0.8994, -0.3333,\n",
       "         -0.9623,  0.8253,  0.9919,  0.7824,  0.6727, -0.4050, -0.3581, -0.8309,\n",
       "          0.5164,  0.6817, -0.5306,  0.4042, -0.6069,  0.2373, -0.5720,  0.7770,\n",
       "          0.5046, -0.3049, -0.2114,  0.2550, -0.5961, -0.6798,  0.7252,  0.5339,\n",
       "         -0.9157,  0.3374,  0.3545,  0.9676,  0.5727, -0.2498,  0.1320,  0.7259,\n",
       "         -0.0235,  0.6831,  0.8484,  0.5507,  0.8752,  0.6367, -0.9996, -0.1889,\n",
       "         -0.3082,  0.9327,  0.6568,  0.3329, -0.1564,  0.8799,  0.4309,  0.5987,\n",
       "         -0.0028,  0.3721,  0.0693,  0.6776,  0.6864,  0.5834,  0.3423,  0.7893],\n",
       "        [-0.1459,  0.3070,  0.5163,  0.3215,  0.3565, -0.9566, -0.3836, -0.9841,\n",
       "         -0.2742, -0.2264, -0.4111, -0.1716,  0.7848,  0.5914,  0.2423, -0.0150,\n",
       "         -0.3767, -0.3850, -0.7933, -0.2036,  0.3413,  0.7520,  0.7324,  0.5973,\n",
       "         -0.3016, -0.5403, -0.8749,  0.3163,  0.0789,  0.2970,  0.0037, -0.3210,\n",
       "          0.0220, -0.0463, -0.1267, -0.3724,  0.3034,  0.5963, -0.2359,  0.1184,\n",
       "          0.4530, -0.4200, -0.0091,  0.1455,  0.4841,  0.1316,  0.8503, -0.2275,\n",
       "         -0.0150, -0.6068, -0.0646, -0.0800, -0.2724, -0.7609,  0.4726, -0.5970,\n",
       "         -0.2446,  0.6671, -0.3482,  0.5997,  0.3148,  0.4767,  0.6803, -0.7876,\n",
       "          0.8938, -0.5000,  0.9000,  0.1217, -0.0596, -0.7109,  0.3619, -0.2878,\n",
       "         -0.1549, -0.5884, -0.0595, -0.3744,  0.6041,  0.6949, -0.8911,  0.7287,\n",
       "          0.1702,  0.1209, -0.9779,  0.2161,  0.7613,  0.2535, -0.5158, -0.3963,\n",
       "         -0.8273,  0.2047, -0.4710,  0.9410, -0.3869, -0.4595, -0.6451,  0.5734,\n",
       "          0.2670, -0.2419,  0.7106,  0.7955,  0.9620, -0.0558, -0.6210, -0.2569,\n",
       "         -0.0610, -0.3484,  0.6284, -0.1054,  0.2484,  0.4951, -0.8624,  0.7737,\n",
       "         -0.1465,  0.8787,  0.0339,  0.4444, -0.3291,  0.5615, -0.6400,  0.8115,\n",
       "         -0.6006,  0.7512, -0.5356,  0.4211,  0.0023,  0.1825, -0.6490, -0.3277],\n",
       "        [-0.0140, -0.9098,  0.8521,  0.3820, -0.5833,  0.2179,  0.2047,  0.4168,\n",
       "         -0.6893, -0.4905, -0.3205,  0.5620,  0.8117, -0.1082, -0.2963,  0.4617,\n",
       "          0.2798, -0.6754, -0.0797, -0.0451,  0.2461,  0.9056,  0.9403,  0.4780,\n",
       "          0.5083, -0.3116,  0.2911,  0.3912, -0.9534, -0.3483, -0.7129,  0.4841,\n",
       "          0.4085, -0.3675,  0.6663,  0.6537,  0.0483,  0.3658,  0.7497, -0.5932,\n",
       "         -0.8042, -0.1622,  0.1741,  0.9263,  0.3642, -0.2546, -0.4715,  0.1264,\n",
       "          0.3954, -0.5572,  0.7964, -0.6320,  0.3880, -0.0153,  0.1976, -0.1212,\n",
       "          0.3022, -0.7271,  0.0260, -0.7806, -0.9615,  0.4872,  0.7295, -0.8023,\n",
       "         -0.7836,  0.7635,  0.0773,  0.9861,  0.8186, -0.1931, -0.2660, -0.2120,\n",
       "          0.2722, -0.9226, -0.1430,  0.5901,  0.0566, -0.2401, -0.3502,  0.7071,\n",
       "         -0.3748,  0.5109,  0.8309,  0.5462, -0.9644, -0.8549, -0.8955, -0.5870,\n",
       "         -0.7554,  0.1338,  0.5502, -0.4997,  0.5182,  0.6749,  0.3193, -0.2099,\n",
       "         -0.5148,  0.3884,  0.5886, -0.1349,  0.5894,  0.6511, -0.5213,  0.1680,\n",
       "         -0.9138, -0.9728, -0.2991, -0.3442, -0.2303, -0.0157,  0.0727, -0.0137,\n",
       "         -0.3734, -0.9298,  0.2592,  0.4227,  0.2422,  0.4831, -0.1700, -0.7464,\n",
       "         -0.7820, -0.4591,  0.7359,  0.5367,  0.2197,  0.1843, -0.0822,  0.9180]])"
      ]
     },
     "execution_count": 128,
     "metadata": {},
     "output_type": "execute_result"
    }
   ],
   "source": [
    "noise_embedder_2.embeddings[[0,12,3]]"
   ]
  },
  {
   "cell_type": "code",
   "execution_count": null,
   "id": "c8420fb6-44df-4429-8e4c-fd5d23b4446d",
   "metadata": {},
   "outputs": [],
   "source": []
  },
  {
   "cell_type": "code",
   "execution_count": 84,
   "id": "bae03471-0151-4385-a603-de0b73a115f8",
   "metadata": {},
   "outputs": [
    {
     "ename": "SyntaxError",
     "evalue": "invalid syntax (704593400.py, line 8)",
     "output_type": "error",
     "traceback": [
      "\u001b[0;36m  Input \u001b[0;32mIn [84]\u001b[0;36m\u001b[0m\n\u001b[0;31m    np.save(\"../data/features/kge-1baon0eg/X.npy\", X)\u001b[0m\n\u001b[0m    ^\u001b[0m\n\u001b[0;31mSyntaxError\u001b[0m\u001b[0;31m:\u001b[0m invalid syntax\n"
     ]
    }
   ],
   "source": [
    "import numpy as np\n",
    "\n",
    "if False:\n",
    "    X = np.array(pos_neg_df_feat.joint_encoding.values.tolist())    \n",
    "    y = pos_neg_df_feat.label.values\n",
    "    print(f\"Shape X: {X.shape}, y: {y.shape}\"\n",
    "          \n",
    "    np.save(\"../data/features/kge-1baon0eg/X.npy\", X)\n",
    "    np.save(\"../data/features/kge-1baon0eg/y.npy\", y)"
   ]
  },
  {
   "cell_type": "code",
   "execution_count": null,
   "id": "3e5e9057-0449-493e-8027-248808b5ec08",
   "metadata": {},
   "outputs": [],
   "source": []
  },
  {
   "cell_type": "code",
   "execution_count": null,
   "id": "e6de05a4-74b2-4e26-8fca-e2b01aacff9b",
   "metadata": {},
   "outputs": [],
   "source": []
  },
  {
   "cell_type": "code",
   "execution_count": null,
   "id": "4368bb8c-8f36-47be-89cb-081c807740dd",
   "metadata": {},
   "outputs": [],
   "source": []
  }
 ],
 "metadata": {
  "kernelspec": {
   "display_name": ".conda-bioblp-env [Python]",
   "language": "python",
   "name": "conda-env-.conda-bioblp-env-py"
  },
  "language_info": {
   "codemirror_mode": {
    "name": "ipython",
    "version": 3
   },
   "file_extension": ".py",
   "mimetype": "text/x-python",
   "name": "python",
   "nbconvert_exporter": "python",
   "pygments_lexer": "ipython3",
   "version": "3.9.13"
  }
 },
 "nbformat": 4,
 "nbformat_minor": 5
}
