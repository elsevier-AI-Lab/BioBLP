{
 "cells": [
  {
   "cell_type": "code",
   "execution_count": 3,
   "id": "dd58a8cf",
   "metadata": {},
   "outputs": [],
   "source": [
    "%load_ext autoreload\n",
    "%autoreload 2"
   ]
  },
  {
   "cell_type": "code",
   "execution_count": 11,
   "id": "b05d473c",
   "metadata": {
    "tags": []
   },
   "outputs": [],
   "source": [
    "import pandas as pd \n",
    "from pathlib import Path\n",
    "import toml\n",
    "\n",
    "from bioblp.data import COL_SOURCE, COL_TARGET,COL_EDGE\n",
    "from bioblp.data import create_random_splits"
   ]
  },
  {
   "cell_type": "code",
   "execution_count": null,
   "id": "f36dd753",
   "metadata": {},
   "outputs": [],
   "source": [
    "DATA_DIR = Path(\"../data\")\n",
    "SHARED_DATA_DIR = Path(\"/home/jovyan/workbench-shared-folder/bioblp/data\")\n",
    "config_path = DATA_DIR.joinpath(\"conf/complex-biokg-20220826.toml\")\n",
    "biokg_mini_path = SHARED_DATA_DIR.joinpath(\"raw/biokg.links_sample.tsv\")\n",
    "biokg_path = SHARED_DATA_DIR.joinpath(\"raw/biokg.links.tsv\")"
   ]
  },
  {
   "cell_type": "markdown",
   "id": "f4732983-308b-44d7-8fd9-43a3b1506819",
   "metadata": {
    "tags": []
   },
   "source": [
    "### BIOKG Data Prep"
   ]
  },
  {
   "cell_type": "code",
   "execution_count": 7,
   "id": "918f0203",
   "metadata": {},
   "outputs": [
    {
     "data": {
      "text/html": [
       "<div>\n",
       "<style scoped>\n",
       "    .dataframe tbody tr th:only-of-type {\n",
       "        vertical-align: middle;\n",
       "    }\n",
       "\n",
       "    .dataframe tbody tr th {\n",
       "        vertical-align: top;\n",
       "    }\n",
       "\n",
       "    .dataframe thead th {\n",
       "        text-align: right;\n",
       "    }\n",
       "</style>\n",
       "<table border=\"1\" class=\"dataframe\">\n",
       "  <thead>\n",
       "    <tr style=\"text-align: right;\">\n",
       "      <th></th>\n",
       "      <th>src</th>\n",
       "      <th>edg</th>\n",
       "      <th>tgt</th>\n",
       "    </tr>\n",
       "  </thead>\n",
       "  <tbody>\n",
       "    <tr>\n",
       "      <th>0</th>\n",
       "      <td>C566487</td>\n",
       "      <td>DISEASE_PATHWAY_ASSOCIATION</td>\n",
       "      <td>hsa00071</td>\n",
       "    </tr>\n",
       "    <tr>\n",
       "      <th>1</th>\n",
       "      <td>C567839</td>\n",
       "      <td>DISEASE_PATHWAY_ASSOCIATION</td>\n",
       "      <td>map04810</td>\n",
       "    </tr>\n",
       "  </tbody>\n",
       "</table>\n",
       "</div>"
      ],
      "text/plain": [
       "       src                          edg       tgt\n",
       "0  C566487  DISEASE_PATHWAY_ASSOCIATION  hsa00071\n",
       "1  C567839  DISEASE_PATHWAY_ASSOCIATION  map04810"
      ]
     },
     "execution_count": 7,
     "metadata": {},
     "output_type": "execute_result"
    }
   ],
   "source": [
    "#df = pd.read_csv(biokg_mini_path, delimiter=\"\\t\", names=[\"idx\", COL_SOURCE, COL_EDGE, COL_TARGET], header=0)\n",
    "df = pd.read_csv(biokg_path, delimiter=\"\\t\", names=[COL_SOURCE, COL_EDGE, COL_TARGET], header=None)\n",
    "df.head(2)"
   ]
  },
  {
   "cell_type": "markdown",
   "id": "37dac0a0-108d-4f4c-a1f3-95e985ca9db7",
   "metadata": {},
   "source": [
    "Create data splits"
   ]
  },
  {
   "cell_type": "code",
   "execution_count": 8,
   "id": "cb5e4b6d",
   "metadata": {},
   "outputs": [
    {
     "name": "stderr",
     "output_type": "stream",
     "text": [
      "Reconstructing all label-based triples. This is expensive and rarely needed.\n",
      "Reconstructing all label-based triples. This is expensive and rarely needed.\n",
      "Reconstructing all label-based triples. This is expensive and rarely needed.\n"
     ]
    }
   ],
   "source": [
    "train, test, valid  = create_random_splits(df, 0.9, 0.05, 0.05)"
   ]
  },
  {
   "cell_type": "code",
   "execution_count": 11,
   "id": "d06a6c1e",
   "metadata": {},
   "outputs": [
    {
     "name": "stdout",
     "output_type": "stream",
     "text": [
      "saved to ../data/raw/biokg_full_splits\n"
     ]
    }
   ],
   "source": [
    "SAVE_SPLITS_TO_DISK = False\n",
    "dataset_name = 'biokg_random_900505'\n",
    "datasplits_dir =  DATA_DIR.joinpath(\"raw/biokg_full_splits\")\n",
    "\n",
    "if SAVE_SPLITS_TO_DISK:\n",
    "    save_splits(train_df=train,\n",
    "               test_df=test, \n",
    "               valid_df=valid,\n",
    "               dataset_name=dataset_name,\n",
    "               out_dir=datasplits_dir)"
   ]
  },
  {
   "cell_type": "markdown",
   "id": "56b4e0a0",
   "metadata": {},
   "source": [
    "## Hetionet"
   ]
  },
  {
   "cell_type": "code",
   "execution_count": 21,
   "id": "cbbb5a42",
   "metadata": {},
   "outputs": [
    {
     "name": "stdout",
     "output_type": "stream",
     "text": [
      "EagerDataset (create_inverse_triples=False)\n",
      "Name        Entities    Relations      Triples\n",
      "----------  ----------  -----------  ---------\n",
      "Training    45158       24             1800157\n",
      "Testing     45158       24              225020\n",
      "Validation  45158       24              225020\n",
      "Total       -           -              2250197\n",
      "Head                     Relation    tail\n",
      "-----------------------  ----------  ------------\n",
      "Anatomy::UBERON:0000002  AdG         Gene::10005\n",
      "Anatomy::UBERON:0000002  AdG         Gene::114804\n",
      "Anatomy::UBERON:0000002  AdG         Gene::118670\n",
      "Anatomy::UBERON:0000002  AdG         Gene::128989\n",
      "Anatomy::UBERON:0000002  AdG         Gene::132851\n",
      "\n"
     ]
    }
   ],
   "source": [
    "from pykeen.datasets import Hetionet\n",
    "from pykeen.datasets import get_dataset\n",
    "\n",
    "ds = get_dataset(dataset=Hetionet)\n",
    "ds.summarize()"
   ]
  },
  {
   "cell_type": "code",
   "execution_count": 39,
   "id": "35ad86ee",
   "metadata": {},
   "outputs": [
    {
     "name": "stderr",
     "output_type": "stream",
     "text": [
      "Reconstructing all label-based triples. This is expensive and rarely needed.\n",
      "Reconstructing all label-based triples. This is expensive and rarely needed.\n",
      "Reconstructing all label-based triples. This is expensive and rarely needed.\n"
     ]
    }
   ],
   "source": [
    "triples = Hetionet().factory_dict\n",
    "test = pd.DataFrame(triples['testing'].triples, columns=[[COL_SOURCE, COL_EDGE, COL_TARGET]])\n",
    "train = pd.DataFrame(triples['training'].triples, columns=[[COL_SOURCE, COL_EDGE, COL_TARGET]])\n",
    "valid = pd.DataFrame(triples['validation'].triples, columns=[[COL_SOURCE, COL_EDGE, COL_TARGET]])"
   ]
  },
  {
   "cell_type": "code",
   "execution_count": 41,
   "id": "978049a9",
   "metadata": {},
   "outputs": [
    {
     "data": {
      "text/plain": [
       "0.10000013332166029"
      ]
     },
     "execution_count": 41,
     "metadata": {},
     "output_type": "execute_result"
    }
   ],
   "source": [
    "len(test)/(len(train)+ len(test) +len(valid))"
   ]
  },
  {
   "cell_type": "code",
   "execution_count": 42,
   "id": "d6068102",
   "metadata": {},
   "outputs": [
    {
     "name": "stdout",
     "output_type": "stream",
     "text": [
      "saved to ../data/raw/hetionet_splits\n"
     ]
    }
   ],
   "source": [
    "SAVE_SPLITS_TO_DISK = False\n",
    "hetio_dataset_name = 'hetionet_random_801010'\n",
    "hetio_datasplits_dir =  DATA_DIR.joinpath(\"raw/hetionet_splits\")\n",
    "\n",
    "if SAVE_SPLITS_TO_DISK:\n",
    "    save_splits(train_df=train,\n",
    "               test_df=test, \n",
    "               valid_df=valid,\n",
    "               dataset_name=hetio_dataset_name\",\n",
    "               out_dir=hetio_datasplits_dir)"
   ]
  },
  {
   "cell_type": "code",
   "execution_count": null,
   "id": "3459292c",
   "metadata": {},
   "outputs": [],
   "source": []
  },
  {
   "cell_type": "code",
   "execution_count": 15,
   "id": "527f6a4d",
   "metadata": {},
   "outputs": [
    {
     "data": {
      "text/plain": [
       "{'train_triples': 'data',\n",
       " 'valid_triples': 'data',\n",
       " 'test_triples': 'data',\n",
       " 'model': 'complex',\n",
       " 'dimension': 256,\n",
       " 'loss_fn': 'crossentropy',\n",
       " 'loss_margin': 1.0,\n",
       " 'optimizer': 'adagrad',\n",
       " 'learning_rate': 0.01,\n",
       " 'regularizer': 1e-06,\n",
       " 'num_epochs': 100,\n",
       " 'batch_size': 1024,\n",
       " 'eval_batch_size': 16,\n",
       " 'num_negatives': 512,\n",
       " 'add_inverses': False,\n",
       " 'early_stopper': 'both.realistic.inverse_harmonic_mean_rank',\n",
       " 'search_train_batch_size': False,\n",
       " 'search_eval_batch_size': False,\n",
       " 'log_wandb': False}"
      ]
     },
     "execution_count": 15,
     "metadata": {},
     "output_type": "execute_result"
    }
   ],
   "source": [
    "def load_toml(toml_path: str) -> dict:\n",
    "    toml_path = Path(toml_path)\n",
    "\n",
    "    config = {}\n",
    "\n",
    "    with open(toml_path, \"r\") as f:\n",
    "        config = toml.load(f)\n",
    "\n",
    "    return config\n",
    "\n",
    "config = load_toml(config_path)\n",
    "config"
   ]
  },
  {
   "cell_type": "markdown",
   "id": "ed5633c4-cf9f-477f-a468-582bbf91146d",
   "metadata": {},
   "source": [
    "### Training"
   ]
  },
  {
   "cell_type": "markdown",
   "id": "388a8210-89f0-435f-8405-81b8c38caa12",
   "metadata": {},
   "source": [
    "```bash\n",
    "$ python -m bioblp.train_argparse --conf /home/jovyan/BioBLP/data/conf/complex-hetionet-20220826.toml\n",
    "```"
   ]
  },
  {
   "cell_type": "code",
   "execution_count": null,
   "id": "773a6c74-333b-49e8-b2df-022574889217",
   "metadata": {},
   "outputs": [],
   "source": []
  }
 ],
 "metadata": {
  "kernelspec": {
   "display_name": ".conda-bioblp-env [Python]",
   "language": "python",
   "name": "conda-env-.conda-bioblp-env-py"
  },
  "language_info": {
   "codemirror_mode": {
    "name": "ipython",
    "version": 3
   },
   "file_extension": ".py",
   "mimetype": "text/x-python",
   "name": "python",
   "nbconvert_exporter": "python",
   "pygments_lexer": "ipython3",
   "version": "3.8.13"
  }
 },
 "nbformat": 4,
 "nbformat_minor": 5
}
