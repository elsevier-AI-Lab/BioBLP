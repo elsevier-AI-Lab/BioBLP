{
 "cells": [
  {
   "cell_type": "code",
   "execution_count": 1,
   "id": "5929a248-d9dd-4c53-8dcc-68ada083c04e",
   "metadata": {},
   "outputs": [],
   "source": [
    "%load_ext autoreload\n",
    "%autoreload 2"
   ]
  },
  {
   "cell_type": "code",
   "execution_count": 2,
   "id": "502bd85d-da08-4b1a-b560-336851891bed",
   "metadata": {},
   "outputs": [],
   "source": [
    "import json\n",
    "import pandas as pd\n",
    "from pathlib import Path"
   ]
  },
  {
   "cell_type": "code",
   "execution_count": 41,
   "id": "ec0c5e5a-be52-4fec-87f5-9bc5766a2e6a",
   "metadata": {},
   "outputs": [],
   "source": [
    "DATA_DIR = Path(\"../data/\")\n",
    "SHARED_DIR = Path(\"/home/jovyan/workbench-shared-folder/bioblp/data\")\n",
    "Y_08_BENCHMARK_DIR = SHARED_DIR.joinpath(\"benchmarks/yamanashi/raw\")\n",
    "Y_08_BENCHMARK_DIR_INTERIM = SHARED_DIR.joinpath(\"benchmarks/yamanashi/interim\")\n",
    "\n",
    "dpi_enzyme_path = Y_08_BENCHMARK_DIR.joinpath(\"bind_orfhsa_drug_e.txt\")\n",
    "dpi_gpcr_path = Y_08_BENCHMARK_DIR.joinpath(\"bind_orfhsa_drug_gpcr.txt\")\n",
    "dpi_ic_path = Y_08_BENCHMARK_DIR.joinpath(\"bind_orfhsa_drug_ic.txt\")\n",
    "dpi_nr_path = Y_08_BENCHMARK_DIR.joinpath(\"bind_orfhsa_drug_nr.txt\")\n"
   ]
  },
  {
   "cell_type": "markdown",
   "id": "2e054a70-8b25-49db-a2fc-e97dab8fcd16",
   "metadata": {
    "tags": []
   },
   "source": [
    "## Prepare ID maps\n",
    "\n",
    "1. load Yamanishi08 dataset (clean, aggregate)\n",
    "2. prepare id maps\n",
    "    - KEGG Id to Uniprot (for proteins)\n",
    "        - Use UniprotID MApper API\n",
    "        - manually augment missing proteins\n",
    "    - KEGG Id to Drugbank (for drugs)\n",
    "        - :death, Kegg has become a commercial entity since then, so id maps are heavily locked down\n",
    "        - scavenge for 2-hop projections kegg->pubmed->drugbank etc\n",
    "        - retrieve drugabank data directly from website to find DB-Kegg maps\n",
    "3. Map original Yamanishi08 dataset to new DB and Uniprot ids. \n",
    "4. Analyse missing data\n",
    "5. access Mohammed 2020 datasets [PENDING Request]"
   ]
  },
  {
   "cell_type": "markdown",
   "id": "e071d415-8c5a-42ce-be13-010040e05340",
   "metadata": {},
   "source": [
    "### Load Yamanish 08 dataset"
   ]
  },
  {
   "cell_type": "code",
   "execution_count": 42,
   "id": "da813bb4-7acc-4333-946e-d6a66f301d24",
   "metadata": {},
   "outputs": [
    {
     "data": {
      "text/html": [
       "<div>\n",
       "<style scoped>\n",
       "    .dataframe tbody tr th:only-of-type {\n",
       "        vertical-align: middle;\n",
       "    }\n",
       "\n",
       "    .dataframe tbody tr th {\n",
       "        vertical-align: top;\n",
       "    }\n",
       "\n",
       "    .dataframe thead th {\n",
       "        text-align: right;\n",
       "    }\n",
       "</style>\n",
       "<table border=\"1\" class=\"dataframe\">\n",
       "  <thead>\n",
       "    <tr style=\"text-align: right;\">\n",
       "      <th></th>\n",
       "      <th>protein</th>\n",
       "      <th>drug</th>\n",
       "    </tr>\n",
       "  </thead>\n",
       "  <tbody>\n",
       "    <tr>\n",
       "      <th>0</th>\n",
       "      <td>hsa:10</td>\n",
       "      <td>D00002</td>\n",
       "    </tr>\n",
       "    <tr>\n",
       "      <th>1</th>\n",
       "      <td>hsa:10</td>\n",
       "      <td>D00448</td>\n",
       "    </tr>\n",
       "  </tbody>\n",
       "</table>\n",
       "</div>"
      ],
      "text/plain": [
       "  protein    drug\n",
       "0  hsa:10  D00002\n",
       "1  hsa:10  D00448"
      ]
     },
     "execution_count": 42,
     "metadata": {},
     "output_type": "execute_result"
    }
   ],
   "source": [
    "dpi_e_df = pd.read_csv(dpi_enzyme_path, sep=\"\\t\", names=[\"protein\", \"drug\"])\n",
    "dpi_ic_df = pd.read_csv(dpi_ic_path, sep=\"\\t\", names=[\"protein\", \"drug\"])\n",
    "dpi_gpcr_df = pd.read_csv(dpi_gpcr_path, sep=\"\\t\", names=[\"protein\", \"drug\"])\n",
    "dpi_nr_df = pd.read_csv(dpi_nr_path, sep=\"\\t\", names=[\"protein\", \"drug\"])\n",
    "dpi_e_df.head(2)\n"
   ]
  },
  {
   "cell_type": "code",
   "execution_count": 43,
   "id": "65b19c9d-0b04-4e99-828f-24f23854ee8e",
   "metadata": {},
   "outputs": [],
   "source": [
    "dpi_yamanashi_all = pd.concat([dpi_e_df, dpi_ic_df, dpi_nr_df, dpi_gpcr_df], axis=0)\n",
    "dpi_yamanashi_all.to_csv(Y_08_BENCHMARK_DIR_INTERIM.joinpath(\"dpi_yaminishi_08.tsv\"), sep=\"\\t\", index=None, header=True)"
   ]
  },
  {
   "cell_type": "code",
   "execution_count": 6,
   "id": "5ce5afc1-d250-4192-bed2-0ac5a7adb3e8",
   "metadata": {},
   "outputs": [
    {
     "name": "stdout",
     "output_type": "stream",
     "text": [
      "# Unique drugs in Y_08 dataset: 791\n"
     ]
    }
   ],
   "source": [
    "# port drug kegg ids to a txt file for obtaining drugbank identifiers\n",
    "dpi_yamanashi_all_drug = dpi_yamanashi_all[[\"drug\"]]\n",
    "dpi_yamanashi_all_drug = dpi_yamanashi_all_drug.drop_duplicates([\"drug\"])\n",
    "print(f'# Unique drugs in Y_08 dataset: {len(dpi_yamanashi_all_drug)}')\n",
    "#dpi_yamanashi_all_drug.to_csv(Y_08_BENCHMARK_DIR_INTERIM.joinpath(\"drug_kegg.txt\"), sep=\"\\t\", index=None, header=False)\n"
   ]
  },
  {
   "cell_type": "code",
   "execution_count": 7,
   "id": "2ae7b137-da18-47fa-86e9-065e054dff40",
   "metadata": {},
   "outputs": [
    {
     "name": "stdout",
     "output_type": "stream",
     "text": [
      "# Unique drugs in Y_08 dataset: 989\n"
     ]
    },
    {
     "data": {
      "text/html": [
       "<div>\n",
       "<style scoped>\n",
       "    .dataframe tbody tr th:only-of-type {\n",
       "        vertical-align: middle;\n",
       "    }\n",
       "\n",
       "    .dataframe tbody tr th {\n",
       "        vertical-align: top;\n",
       "    }\n",
       "\n",
       "    .dataframe thead th {\n",
       "        text-align: right;\n",
       "    }\n",
       "</style>\n",
       "<table border=\"1\" class=\"dataframe\">\n",
       "  <thead>\n",
       "    <tr style=\"text-align: right;\">\n",
       "      <th></th>\n",
       "      <th>protein</th>\n",
       "    </tr>\n",
       "  </thead>\n",
       "  <tbody>\n",
       "    <tr>\n",
       "      <th>0</th>\n",
       "      <td>hsa:10</td>\n",
       "    </tr>\n",
       "    <tr>\n",
       "      <th>2</th>\n",
       "      <td>hsa:100</td>\n",
       "    </tr>\n",
       "  </tbody>\n",
       "</table>\n",
       "</div>"
      ],
      "text/plain": [
       "   protein\n",
       "0   hsa:10\n",
       "2  hsa:100"
      ]
     },
     "execution_count": 7,
     "metadata": {},
     "output_type": "execute_result"
    }
   ],
   "source": [
    "# port protein kegg ids to a txt file for obtaining uniprot ids using Uniprot ID mapping API (https://www.uniprot.org/id-mapping/uniprotkb/e5a1fb82351aeb0531bf2bf972c1362381eb26fc/overview?dir=ascend&facets=reviewed%3Atrue&sort=accession)\n",
    "dpi_yamanashi_all_prot = dpi_yamanashi_all[[\"protein\"]]\n",
    "dpi_yamanashi_all_prot = dpi_yamanashi_all_prot.drop_duplicates([\"protein\"])\n",
    "print(f'# Unique drugs in Y_08 dataset: {len(dpi_yamanashi_all_prot)}')\n",
    "#dpi_yamanashi_all_prot.to_csv(Y_08_BENCHMARK_DIR_INTERIM.joinpath(\"protein_kegg.txt\"), sep=\"\\t\", index=None, header=False)\n",
    "dpi_yamanashi_all_prot.head(2)                            "
   ]
  },
  {
   "cell_type": "markdown",
   "id": "766756ac-94be-4ea4-9e36-f55fd6b2af46",
   "metadata": {},
   "source": [
    "#### Load Kegg:Uniprot id map"
   ]
  },
  {
   "cell_type": "code",
   "execution_count": 8,
   "id": "c96df333-bbd7-40bf-8a10-5620e9dfbac3",
   "metadata": {},
   "outputs": [],
   "source": [
    "kegg2uniprot_path = Y_08_BENCHMARK_DIR_INTERIM.joinpath(\"uniprot-download_true_fields_accession_format_tsv_query__28reviewed_-2022.09.12-20.25.33.31.tsv\")\n",
    "#df = pd.DataFrame(kegg2uniprot_path)"
   ]
  },
  {
   "cell_type": "code",
   "execution_count": 9,
   "id": "9457f29d-3db3-4781-ac78-b70c45f5e3c8",
   "metadata": {},
   "outputs": [
    {
     "data": {
      "text/html": [
       "<div>\n",
       "<style scoped>\n",
       "    .dataframe tbody tr th:only-of-type {\n",
       "        vertical-align: middle;\n",
       "    }\n",
       "\n",
       "    .dataframe tbody tr th {\n",
       "        vertical-align: top;\n",
       "    }\n",
       "\n",
       "    .dataframe thead th {\n",
       "        text-align: right;\n",
       "    }\n",
       "</style>\n",
       "<table border=\"1\" class=\"dataframe\">\n",
       "  <thead>\n",
       "    <tr style=\"text-align: right;\">\n",
       "      <th></th>\n",
       "      <th>kegg</th>\n",
       "      <th>uniprot</th>\n",
       "    </tr>\n",
       "  </thead>\n",
       "  <tbody>\n",
       "    <tr>\n",
       "      <th>0</th>\n",
       "      <td>hsa:285242</td>\n",
       "      <td>A5X5Y0</td>\n",
       "    </tr>\n",
       "    <tr>\n",
       "      <th>1</th>\n",
       "      <td>hsa:7084</td>\n",
       "      <td>O00142</td>\n",
       "    </tr>\n",
       "    <tr>\n",
       "      <th>2</th>\n",
       "      <td>hsa:3775</td>\n",
       "      <td>O00180</td>\n",
       "    </tr>\n",
       "    <tr>\n",
       "      <th>3</th>\n",
       "      <td>hsa:10747</td>\n",
       "      <td>O00187</td>\n",
       "    </tr>\n",
       "    <tr>\n",
       "      <th>4</th>\n",
       "      <td>hsa:2918</td>\n",
       "      <td>O00222</td>\n",
       "    </tr>\n",
       "  </tbody>\n",
       "</table>\n",
       "</div>"
      ],
      "text/plain": [
       "         kegg uniprot\n",
       "0  hsa:285242  A5X5Y0\n",
       "1    hsa:7084  O00142\n",
       "2    hsa:3775  O00180\n",
       "3   hsa:10747  O00187\n",
       "4    hsa:2918  O00222"
      ]
     },
     "execution_count": 9,
     "metadata": {},
     "output_type": "execute_result"
    }
   ],
   "source": [
    "kegg2uniprot_df = pd.read_csv(kegg2uniprot_path, sep=\"\\t\", names=[\"kegg\", \"uniprot\"], header=0)\n",
    "kegg2uniprot_df.head()"
   ]
  },
  {
   "cell_type": "code",
   "execution_count": 10,
   "id": "8793d128-9045-4b61-838e-d527dfe7d249",
   "metadata": {
    "tags": []
   },
   "outputs": [],
   "source": [
    "kegg2uniprot_dict = dict(zip(kegg2uniprot_df.kegg, kegg2uniprot_df.uniprot))\n"
   ]
  },
  {
   "cell_type": "markdown",
   "id": "12183d26-1f88-4ee3-bb11-2ae778f6a822",
   "metadata": {
    "tags": []
   },
   "source": [
    "#### 5 missing ids:\n",
    "* [hsa:1384](https://www.genome.jp/dbget-bin/www_bget?hsa:1384+H00833)\n",
    "    * P43155 mapped via [HGNC 2342](https://www.genenames.org/data/gene-symbol-report/#!/hgnc_id/HGNC:2342)\n",
    "\n",
    "* hsa:94009\n",
    "    * [Q9NQF3](https://www.uniprot.org/uniprotkb/Q9NQF3/entry) mapped via [HAPPI](http://discovery.informatics.uab.edu/HAPPI/protein-description.php?protein=SERHL_HUMAN)\n",
    "\n",
    "* [hsa:5447](https://www.genome.jp/dbget-bin/www_bget?hsa+5447)\n",
    "    * [P16435](https://www.uniprot.org/uniprotkb/P16435/entry) mapped via [HGNC 9208](https://www.genenames.org/data/gene-symbol-report/#!/hgnc_id/HGNC:9208)\n",
    "    \n",
    "* [hsa:6096](https://www.genome.jp/dbget-bin/www_bget?hsa:6096)\n",
    "    * [Q92753](https://www.uniprot.org/uniprotkb/Q92753/entry) mapped via [HGNC 10259](https://www.genenames.org/data/gene-symbol-report/#!/hgnc_id/HGNC:10259)\n",
    "    \n",
    "* hsa:390956\n",
    "    *  Possibly [P50406](https://www.uniprot.org/uniprotkb/P50406/entry) mapped via unclear link [R-HSA-390956](https://reactome.org/content/detail/R-HSA-390956)"
   ]
  },
  {
   "cell_type": "code",
   "execution_count": 11,
   "id": "2caa6587-f3cf-474b-a061-7481dc014d1f",
   "metadata": {},
   "outputs": [],
   "source": [
    "manually_matched_prots = {\"hsa:1384\": \"P43155\",\n",
    "                         \"hsa:94009\": \"Q9NQF3\",\n",
    "                         \"hsa:5447\": \"P16435\",\n",
    "                         \"hsa:6096\": \"Q92753\",\n",
    "                         }\n",
    "kegg2uniprot_dict.update(manually_matched_prots)"
   ]
  },
  {
   "cell_type": "code",
   "execution_count": 12,
   "id": "7405e90b-768a-4b52-9894-8b6227aa0d57",
   "metadata": {},
   "outputs": [
    {
     "data": {
      "text/plain": [
       "987"
      ]
     },
     "execution_count": 12,
     "metadata": {},
     "output_type": "execute_result"
    }
   ],
   "source": [
    "len(kegg2uniprot_dict)"
   ]
  },
  {
   "cell_type": "markdown",
   "id": "a3eec0bf-e1d2-4b76-8596-0817e316ac5e",
   "metadata": {},
   "source": [
    "#### Id maps to cross reference across databases"
   ]
  },
  {
   "cell_type": "code",
   "execution_count": 14,
   "id": "3875c982-e36a-40e0-a87b-3e4bd21f2f29",
   "metadata": {},
   "outputs": [],
   "source": [
    "db_links_path = Y_08_BENCHMARK_DIR_INTERIM.joinpath(\"drug_links.csv\")"
   ]
  },
  {
   "cell_type": "code",
   "execution_count": 15,
   "id": "ae1d5f01-9e96-4a93-a1ae-d9d6d930e5b3",
   "metadata": {},
   "outputs": [
    {
     "name": "stdout",
     "output_type": "stream",
     "text": [
      "# DB rows: 14315\n"
     ]
    },
    {
     "data": {
      "text/html": [
       "<div>\n",
       "<style scoped>\n",
       "    .dataframe tbody tr th:only-of-type {\n",
       "        vertical-align: middle;\n",
       "    }\n",
       "\n",
       "    .dataframe tbody tr th {\n",
       "        vertical-align: top;\n",
       "    }\n",
       "\n",
       "    .dataframe thead th {\n",
       "        text-align: right;\n",
       "    }\n",
       "</style>\n",
       "<table border=\"1\" class=\"dataframe\">\n",
       "  <thead>\n",
       "    <tr style=\"text-align: right;\">\n",
       "      <th></th>\n",
       "      <th>DrugBank ID</th>\n",
       "      <th>Name</th>\n",
       "      <th>CAS Number</th>\n",
       "      <th>Drug Type</th>\n",
       "      <th>KEGG Compound ID</th>\n",
       "      <th>KEGG Drug ID</th>\n",
       "      <th>PubChem Compound ID</th>\n",
       "      <th>PubChem Substance ID</th>\n",
       "      <th>ChEBI ID</th>\n",
       "      <th>PharmGKB ID</th>\n",
       "      <th>...</th>\n",
       "      <th>GenBank ID</th>\n",
       "      <th>DPD ID</th>\n",
       "      <th>RxList Link</th>\n",
       "      <th>Pdrhealth Link</th>\n",
       "      <th>Wikipedia ID</th>\n",
       "      <th>Drugs.com Link</th>\n",
       "      <th>NDC ID</th>\n",
       "      <th>ChemSpider ID</th>\n",
       "      <th>BindingDB ID</th>\n",
       "      <th>TTD ID</th>\n",
       "    </tr>\n",
       "  </thead>\n",
       "  <tbody>\n",
       "    <tr>\n",
       "      <th>0</th>\n",
       "      <td>DB00001</td>\n",
       "      <td>Lepirudin</td>\n",
       "      <td>138068-37-8</td>\n",
       "      <td>BiotechDrug</td>\n",
       "      <td>NaN</td>\n",
       "      <td>D06880</td>\n",
       "      <td>NaN</td>\n",
       "      <td>46507011.0</td>\n",
       "      <td>NaN</td>\n",
       "      <td>PA450195</td>\n",
       "      <td>...</td>\n",
       "      <td>NaN</td>\n",
       "      <td>11916</td>\n",
       "      <td>http://www.rxlist.com/cgi/generic/lepirudin.htm</td>\n",
       "      <td>NaN</td>\n",
       "      <td>Lepirudin</td>\n",
       "      <td>http://www.drugs.com/cdi/lepirudin.html</td>\n",
       "      <td>NaN</td>\n",
       "      <td>NaN</td>\n",
       "      <td>NaN</td>\n",
       "      <td>DAP000541</td>\n",
       "    </tr>\n",
       "    <tr>\n",
       "      <th>1</th>\n",
       "      <td>DB00002</td>\n",
       "      <td>Cetuximab</td>\n",
       "      <td>205923-56-4</td>\n",
       "      <td>BiotechDrug</td>\n",
       "      <td>NaN</td>\n",
       "      <td>D03455</td>\n",
       "      <td>NaN</td>\n",
       "      <td>46507042.0</td>\n",
       "      <td>NaN</td>\n",
       "      <td>PA10040</td>\n",
       "      <td>...</td>\n",
       "      <td>J00228</td>\n",
       "      <td>13175</td>\n",
       "      <td>http://www.rxlist.com/cgi/generic3/erbitux.htm</td>\n",
       "      <td>NaN</td>\n",
       "      <td>Cetuximab</td>\n",
       "      <td>http://www.drugs.com/cdi/cetuximab.html</td>\n",
       "      <td>NaN</td>\n",
       "      <td>NaN</td>\n",
       "      <td>NaN</td>\n",
       "      <td>DNC000788</td>\n",
       "    </tr>\n",
       "  </tbody>\n",
       "</table>\n",
       "<p>2 rows × 23 columns</p>\n",
       "</div>"
      ],
      "text/plain": [
       "  DrugBank ID       Name   CAS Number    Drug Type KEGG Compound ID  \\\n",
       "0     DB00001  Lepirudin  138068-37-8  BiotechDrug              NaN   \n",
       "1     DB00002  Cetuximab  205923-56-4  BiotechDrug              NaN   \n",
       "\n",
       "  KEGG Drug ID  PubChem Compound ID  PubChem Substance ID  ChEBI ID  \\\n",
       "0       D06880                  NaN            46507011.0       NaN   \n",
       "1       D03455                  NaN            46507042.0       NaN   \n",
       "\n",
       "  PharmGKB ID  ... GenBank ID DPD ID  \\\n",
       "0    PA450195  ...        NaN  11916   \n",
       "1     PA10040  ...     J00228  13175   \n",
       "\n",
       "                                       RxList Link Pdrhealth Link  \\\n",
       "0  http://www.rxlist.com/cgi/generic/lepirudin.htm            NaN   \n",
       "1   http://www.rxlist.com/cgi/generic3/erbitux.htm            NaN   \n",
       "\n",
       "  Wikipedia ID                           Drugs.com Link NDC ID ChemSpider ID  \\\n",
       "0    Lepirudin  http://www.drugs.com/cdi/lepirudin.html    NaN           NaN   \n",
       "1    Cetuximab  http://www.drugs.com/cdi/cetuximab.html    NaN           NaN   \n",
       "\n",
       "  BindingDB ID     TTD ID  \n",
       "0          NaN  DAP000541  \n",
       "1          NaN  DNC000788  \n",
       "\n",
       "[2 rows x 23 columns]"
      ]
     },
     "execution_count": 15,
     "metadata": {},
     "output_type": "execute_result"
    }
   ],
   "source": [
    "db_mappings_df = pd.read_csv(db_links_path, sep=\",\")\n",
    "num_db_drugs = len(db_mappings_df)\n",
    "print(f'# DB rows: {num_db_drugs}')\n",
    "db_mappings_df.head(2)\n"
   ]
  },
  {
   "cell_type": "code",
   "execution_count": 16,
   "id": "aecf0250-f4e7-40a5-bce6-1a14c1bc7c94",
   "metadata": {},
   "outputs": [
    {
     "name": "stdout",
     "output_type": "stream",
     "text": [
      "% DB drugs without KEGG identifiers 84.90\n"
     ]
    }
   ],
   "source": [
    "# which columns can we reliably use to map db ids?\n",
    "prop_kegg_na = sum(db_mappings_df['KEGG Drug ID'].isna())/num_db_drugs*100\n",
    "print('% DB drugs without KEGG identifiers {:.2f}'.format(prop_kegg_na))"
   ]
  },
  {
   "cell_type": "code",
   "execution_count": 17,
   "id": "de636e22-e8c2-4412-9656-3f9bfe53fc51",
   "metadata": {},
   "outputs": [
    {
     "data": {
      "text/plain": [
       "2163"
      ]
     },
     "execution_count": 17,
     "metadata": {},
     "output_type": "execute_result"
    }
   ],
   "source": [
    "kegg2db_dict = dict(zip(db_mappings_df['KEGG Drug ID'], db_mappings_df['DrugBank ID']))\n",
    "len(kegg2db_dict)"
   ]
  },
  {
   "cell_type": "markdown",
   "id": "8c74dd36-5f6d-400f-929a-391765aa3dad",
   "metadata": {
    "tags": []
   },
   "source": [
    "## DPI benchmark"
   ]
  },
  {
   "cell_type": "code",
   "execution_count": 18,
   "id": "61ed0232-6cbf-45e9-9863-70f736f24c53",
   "metadata": {},
   "outputs": [
    {
     "name": "stderr",
     "output_type": "stream",
     "text": [
      "/home/jovyan/.conda/envs/bioblp-env/lib/python3.8/site-packages/tqdm/auto.py:22: TqdmWarning: IProgress not found. Please update jupyter and ipywidgets. See https://ipywidgets.readthedocs.io/en/stable/user_install.html\n",
      "  from .autonotebook import tqdm as notebook_tqdm\n"
     ]
    }
   ],
   "source": [
    "import numpy as np\n",
    "from bioblp.data import COL_EDGE, COL_SOURCE, COL_TARGET\n",
    "SHARED_DIR = Path(\"/home/jovyan/workbench-shared-folder/bioblp\")"
   ]
  },
  {
   "cell_type": "code",
   "execution_count": 19,
   "id": "8785a7ea-542d-4b92-bd7d-f1f7532859ed",
   "metadata": {},
   "outputs": [],
   "source": [
    "db2kegg_dict = {v:k for k,v in kegg2db_dict.items()}\n",
    "uniprot2kegg_dict = {v:k for k,v in kegg2uniprot_dict.items()}"
   ]
  },
  {
   "cell_type": "code",
   "execution_count": 20,
   "id": "40cfded7-4e96-4afe-96fe-da449bc5d174",
   "metadata": {},
   "outputs": [],
   "source": [
    "dpi_yamanashi_all[\"src_db\"] = dpi_yamanashi_all[\"drug\"].apply(lambda x: kegg2db_dict.get(x, np.nan))\n",
    "dpi_yamanashi_all[\"tgt_uniprot\"] = dpi_yamanashi_all[\"protein\"].apply(lambda x: kegg2uniprot_dict.get(x, np.nan))"
   ]
  },
  {
   "cell_type": "code",
   "execution_count": 21,
   "id": "a4471f4a-5e0b-4979-9e08-39f27abac1da",
   "metadata": {},
   "outputs": [
    {
     "data": {
      "text/html": [
       "<div>\n",
       "<style scoped>\n",
       "    .dataframe tbody tr th:only-of-type {\n",
       "        vertical-align: middle;\n",
       "    }\n",
       "\n",
       "    .dataframe tbody tr th {\n",
       "        vertical-align: top;\n",
       "    }\n",
       "\n",
       "    .dataframe thead th {\n",
       "        text-align: right;\n",
       "    }\n",
       "</style>\n",
       "<table border=\"1\" class=\"dataframe\">\n",
       "  <thead>\n",
       "    <tr style=\"text-align: right;\">\n",
       "      <th></th>\n",
       "      <th>protein</th>\n",
       "      <th>drug</th>\n",
       "      <th>src_db</th>\n",
       "      <th>tgt_uniprot</th>\n",
       "    </tr>\n",
       "  </thead>\n",
       "  <tbody>\n",
       "    <tr>\n",
       "      <th>0</th>\n",
       "      <td>hsa:10</td>\n",
       "      <td>D00002</td>\n",
       "      <td>NaN</td>\n",
       "      <td>P11245</td>\n",
       "    </tr>\n",
       "    <tr>\n",
       "      <th>1</th>\n",
       "      <td>hsa:10</td>\n",
       "      <td>D00448</td>\n",
       "      <td>DB00795</td>\n",
       "      <td>P11245</td>\n",
       "    </tr>\n",
       "  </tbody>\n",
       "</table>\n",
       "</div>"
      ],
      "text/plain": [
       "  protein    drug   src_db tgt_uniprot\n",
       "0  hsa:10  D00002      NaN      P11245\n",
       "1  hsa:10  D00448  DB00795      P11245"
      ]
     },
     "execution_count": 21,
     "metadata": {},
     "output_type": "execute_result"
    }
   ],
   "source": [
    "dpi_yamanashi_all.head(2)"
   ]
  },
  {
   "cell_type": "code",
   "execution_count": 30,
   "id": "2ebf4910-f39f-40f6-afb3-2b0baaf2dd84",
   "metadata": {},
   "outputs": [],
   "source": [
    "num_unmapped_drugs = dpi_yamanashi_all[dpi_yamanashi_all[\"src_db\"].isna()][\"drug\"].nunique()\n",
    "num_unmapped_prots = dpi_yamanashi_all[dpi_yamanashi_all[\"tgt_uniprot\"].isna()][\"protein\"].nunique()"
   ]
  },
  {
   "cell_type": "code",
   "execution_count": 34,
   "id": "8b330833-e873-46ad-8e54-81749fc9ca75",
   "metadata": {},
   "outputs": [
    {
     "name": "stdout",
     "output_type": "stream",
     "text": [
      "From Yamanashi_08 DPI dataset,\n",
      "#Drugs unmapped to Drugbank: 303, which is 38.305941845764856%\n",
      "#Prots unmapped to Uniprot: 2, which is 0.20222446916076847%\n"
     ]
    }
   ],
   "source": [
    "print(f'From Yamanashi_08 DPI dataset,\\n#Drugs unmapped to Drugbank: {num_unmapped_drugs}, which is {num_unmapped_drugs/dpi_yamanashi_all[\"drug\"].nunique()*100}%')\n",
    "print(f'#Prots unmapped to Uniprot: {num_unmapped_prots}, which is {num_unmapped_prots/dpi_yamanashi_all[\"protein\"].nunique()*100}%')"
   ]
  },
  {
   "cell_type": "code",
   "execution_count": 36,
   "id": "b8419e0f-882d-4125-9e8e-60c0c875830e",
   "metadata": {},
   "outputs": [],
   "source": [
    "yamanishi_post = dpi_yamanashi_all.dropna(subset=[\"tgt_uniprot\", \"src_db\"])"
   ]
  },
  {
   "cell_type": "code",
   "execution_count": 37,
   "id": "e0c0cce8-16b1-4739-a981-ad3c92201b02",
   "metadata": {},
   "outputs": [
    {
     "name": "stdout",
     "output_type": "stream",
     "text": [
      "# Yamanashi_08 DPI pairs lost due to incomplete mapping from KEGG: 1414\n"
     ]
    }
   ],
   "source": [
    "print(f'# Yamanashi_08 DPI pairs lost due to incomplete mapping from KEGG: {len(dpi_yamanashi_all)-len(yamanishi_post)}')"
   ]
  },
  {
   "cell_type": "code",
   "execution_count": null,
   "id": "9f55c221-2659-4f90-80f6-5f5dba2b667c",
   "metadata": {},
   "outputs": [],
   "source": []
  }
 ],
 "metadata": {
  "kernelspec": {
   "display_name": ".conda-bioblp-env [Python]",
   "language": "python",
   "name": "conda-env-.conda-bioblp-env-py"
  },
  "language_info": {
   "codemirror_mode": {
    "name": "ipython",
    "version": 3
   },
   "file_extension": ".py",
   "mimetype": "text/x-python",
   "name": "python",
   "nbconvert_exporter": "python",
   "pygments_lexer": "ipython3",
   "version": "3.8.13"
  }
 },
 "nbformat": 4,
 "nbformat_minor": 5
}
