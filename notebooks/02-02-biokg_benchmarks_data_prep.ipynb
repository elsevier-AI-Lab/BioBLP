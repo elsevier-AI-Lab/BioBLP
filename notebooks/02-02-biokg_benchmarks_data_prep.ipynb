{
 "cells": [
  {
   "cell_type": "code",
   "execution_count": null,
   "id": "97ee430b",
   "metadata": {},
   "outputs": [],
   "source": [
    "%load_ext autoreload\n",
    "%autoreload 2"
   ]
  },
  {
   "cell_type": "code",
   "execution_count": null,
   "id": "a8acba93",
   "metadata": {
    "tags": []
   },
   "outputs": [],
   "source": [
    "import pandas as pd \n",
    "from pathlib import Path\n",
    "from bioblp.data import COL_EDGE, COL_SOURCE, COL_TARGET"
   ]
  },
  {
   "cell_type": "code",
   "execution_count": null,
   "id": "41d7aa56",
   "metadata": {},
   "outputs": [],
   "source": [
    "DATA_DIR = Path(\"../data\")\n",
    "SHARED_DIR = Path(\"/home/jovyan/workbench-shared-folder/bioblp\")"
   ]
  },
  {
   "cell_type": "markdown",
   "id": "2539a63a",
   "metadata": {
    "tags": []
   },
   "source": [
    "## Load benchmark"
   ]
  },
  {
   "cell_type": "code",
   "execution_count": null,
   "id": "f5a36380",
   "metadata": {},
   "outputs": [],
   "source": [
    "dpi_benchmark_path = SHARED_DIR.joinpath('data/benchmarks/dpi_fda.tsv') "
   ]
  },
  {
   "cell_type": "code",
   "execution_count": null,
   "id": "f2182501",
   "metadata": {},
   "outputs": [],
   "source": [
    "dpi_bm = pd.read_csv(dpi_benchmark_path, sep='\\t', names=[COL_SOURCE, COL_EDGE, COL_TARGET])\n",
    "dpi_bm.head(3)"
   ]
  },
  {
   "cell_type": "markdown",
   "id": "25492767-cb69-4a25-954f-dd602fdbd496",
   "metadata": {},
   "source": [
    "\n",
    "* [DB01079; Tegaserod](https://go.drugbank.com/drugs/DB01079)\n",
    "Tegaserod is a serotonin-4 (5-HT4) receptor agonist indicated for the treatment of constipation predominant irritable bowel syndrome (IBS-C) specifically in women under the age of 65. There is currently no safety or efficacy data for use of tegaserol in men.\n",
    "\n",
    "* https://www.uniprot.org/uniprotkb/Q13639/entry"
   ]
  },
  {
   "cell_type": "code",
   "execution_count": null,
   "id": "d40231f3-0055-40f1-b0c3-e6e337e69430",
   "metadata": {},
   "outputs": [],
   "source": [
    "dpi_drugs_unique = list(dpi_bm.src.unique())\n",
    "dpi_prots_unique = list(dpi_bm.tgt.unique())\n",
    "len(dpi_bm), len(dpi_drugs_unique), len(dpi_prots_unique)"
   ]
  },
  {
   "cell_type": "markdown",
   "id": "27bf7bbc-4075-40b4-b10e-f99a82e89cde",
   "metadata": {
    "tags": []
   },
   "source": [
    "## Prepare Data for ML"
   ]
  },
  {
   "cell_type": "code",
   "execution_count": null,
   "id": "24573ebe-658f-4b4a-b384-2c856fa9183e",
   "metadata": {},
   "outputs": [],
   "source": [
    "from bioblp.benchmarking.featurize import load_model_and_entity_to_id_maps, ENTITY_TO_ID_MAP, RELATION_TO_ID_MAP"
   ]
  },
  {
   "cell_type": "code",
   "execution_count": null,
   "id": "eb5e36d6-05b6-4eee-aaee-f7f05783254d",
   "metadata": {},
   "outputs": [],
   "source": [
    "model_dir = Path('/home/jovyan/workbench-shared-folder/bioblp/models/1baon0eg')\n",
    "\n",
    "kge_artifacts = load_model_and_entity_to_id_maps(model_dir)\n",
    "entity_to_id_map = kge_artifacts.get(ENTITY_TO_ID_MAP)\n",
    "relation_to_id_map = kge_artifacts.get(RELATION_TO_ID_MAP)"
   ]
  },
  {
   "cell_type": "markdown",
   "id": "140fd17d-1018-48f6-87f4-9a4a93655c46",
   "metadata": {},
   "source": [
    "### Generate Negative samples"
   ]
  },
  {
   "cell_type": "code",
   "execution_count": null,
   "id": "78a673d8-89e2-4b6c-9eb4-5c20127959bf",
   "metadata": {},
   "outputs": [],
   "source": [
    "from bioblp.benchmarking.preprocess import prepare_dpi_samples"
   ]
  },
  {
   "cell_type": "code",
   "execution_count": null,
   "id": "54fc5fb3-d877-44db-b594-3770916aacf8",
   "metadata": {},
   "outputs": [],
   "source": [
    "pos_neg_df = prepare_dpi_samples(dpi_bm, entity_to_id_map, relation_to_id_map, num_negs_per_pos=10)"
   ]
  },
  {
   "cell_type": "code",
   "execution_count": null,
   "id": "3d5f2001-dbc8-48f3-b6d5-677af3f7e694",
   "metadata": {},
   "outputs": [],
   "source": [
    "pos_neg_df.head(10)"
   ]
  },
  {
   "cell_type": "markdown",
   "id": "c52e251c-cf1d-4d66-a6e6-c51a89089f80",
   "metadata": {},
   "source": [
    "### Featurize by obtaining joint entity pair encoding"
   ]
  },
  {
   "cell_type": "code",
   "execution_count": null,
   "id": "e7c49f60-30ac-4a69-ba7d-34b8464f3f93",
   "metadata": {},
   "outputs": [],
   "source": [
    "from bioblp.benchmarking.featurize import generate_entity_pair_joint_encoding\n",
    "from bioblp.benchmarking.featurize import concatenate, average\n",
    "\n",
    "\n"
   ]
  },
  {
   "cell_type": "code",
   "execution_count": null,
   "id": "54da152e-84f1-4bcd-b1e9-acf4b418afa5",
   "metadata": {},
   "outputs": [],
   "source": [
    "# pass on to KGEM encoder to featurize each entity pair\n",
    "pos_neg_df_feat = generate_entity_pair_joint_encoding(pos_neg_df,\n",
    "                                    model=kge_artifacts[\"model\"],\n",
    "                                    transform_fn=concatenate)\n",
    "                            "
   ]
  },
  {
   "cell_type": "code",
   "execution_count": null,
   "id": "bae03471-0151-4385-a603-de0b73a115f8",
   "metadata": {},
   "outputs": [],
   "source": [
    "import numpy as np\n",
    "\n",
    "if False:\n",
    "    X = np.array(pos_neg_df_feat.joint_encoding.values.tolist())    \n",
    "    y = pos_neg_df_feat.label.values\n",
    "    print(f\"Shape X: {X.shape}, y: {y.shape}\"\n",
    "          \n",
    "    np.save(\"../data/features/kge-1baon0eg/X.npy\", X)\n",
    "    np.save(\"../data/features/kge-1baon0eg/y.npy\", y)"
   ]
  }
 ],
 "metadata": {
  "kernelspec": {
   "display_name": ".conda-bioblp-env [Python]",
   "language": "python",
   "name": "conda-env-.conda-bioblp-env-py"
  },
  "language_info": {
   "codemirror_mode": {
    "name": "ipython",
    "version": 3
   },
   "file_extension": ".py",
   "mimetype": "text/x-python",
   "name": "python",
   "nbconvert_exporter": "python",
   "pygments_lexer": "ipython3",
   "version": "3.9.13"
  }
 },
 "nbformat": 4,
 "nbformat_minor": 5
}
