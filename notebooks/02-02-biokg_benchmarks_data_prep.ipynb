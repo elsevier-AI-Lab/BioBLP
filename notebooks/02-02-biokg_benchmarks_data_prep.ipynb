{
 "cells": [
  {
   "cell_type": "code",
   "execution_count": 9,
   "id": "97ee430b",
   "metadata": {},
   "outputs": [
    {
     "name": "stdout",
     "output_type": "stream",
     "text": [
      "The autoreload extension is already loaded. To reload it, use:\n",
      "  %reload_ext autoreload\n"
     ]
    }
   ],
   "source": [
    "%load_ext autoreload\n",
    "%autoreload 2"
   ]
  },
  {
   "cell_type": "code",
   "execution_count": 10,
   "id": "a8acba93",
   "metadata": {
    "tags": []
   },
   "outputs": [],
   "source": [
    "#import pandas as pd \n",
    "from pathlib import Path\n",
    "from bioblp.data import COL_EDGE, COL_SOURCE, COL_TARGET"
   ]
  },
  {
   "cell_type": "code",
   "execution_count": 4,
   "id": "41d7aa56",
   "metadata": {},
   "outputs": [],
   "source": [
    "DATA_DIR = Path(\"../data\")"
   ]
  },
  {
   "cell_type": "markdown",
   "id": "2539a63a",
   "metadata": {
    "tags": []
   },
   "source": [
    "## Load benchmark"
   ]
  },
  {
   "cell_type": "code",
   "execution_count": 11,
   "id": "f5a36380",
   "metadata": {},
   "outputs": [],
   "source": [
    "dpi_benchmark_path = DATA_DIR.joinpath('benchmarks/dpi_fda.tsv')"
   ]
  },
  {
   "cell_type": "code",
   "execution_count": 12,
   "id": "f2182501",
   "metadata": {},
   "outputs": [
    {
     "data": {
      "text/html": [
       "<div>\n",
       "<style scoped>\n",
       "    .dataframe tbody tr th:only-of-type {\n",
       "        vertical-align: middle;\n",
       "    }\n",
       "\n",
       "    .dataframe tbody tr th {\n",
       "        vertical-align: top;\n",
       "    }\n",
       "\n",
       "    .dataframe thead th {\n",
       "        text-align: right;\n",
       "    }\n",
       "</style>\n",
       "<table border=\"1\" class=\"dataframe\">\n",
       "  <thead>\n",
       "    <tr style=\"text-align: right;\">\n",
       "      <th></th>\n",
       "      <th>src</th>\n",
       "      <th>edg</th>\n",
       "      <th>tgt</th>\n",
       "    </tr>\n",
       "  </thead>\n",
       "  <tbody>\n",
       "    <tr>\n",
       "      <th>0</th>\n",
       "      <td>DB01079</td>\n",
       "      <td>DPI</td>\n",
       "      <td>Q13639</td>\n",
       "    </tr>\n",
       "    <tr>\n",
       "      <th>1</th>\n",
       "      <td>DB00114</td>\n",
       "      <td>DPI</td>\n",
       "      <td>P20711</td>\n",
       "    </tr>\n",
       "    <tr>\n",
       "      <th>2</th>\n",
       "      <td>DB01158</td>\n",
       "      <td>DPI</td>\n",
       "      <td>P13637</td>\n",
       "    </tr>\n",
       "  </tbody>\n",
       "</table>\n",
       "</div>"
      ],
      "text/plain": [
       "       src  edg     tgt\n",
       "0  DB01079  DPI  Q13639\n",
       "1  DB00114  DPI  P20711\n",
       "2  DB01158  DPI  P13637"
      ]
     },
     "execution_count": 12,
     "metadata": {},
     "output_type": "execute_result"
    }
   ],
   "source": [
    "dpi_bm = pd.read_csv(dpi_benchmark_path, sep='\\t', names=[COL_SOURCE, COL_EDGE, COL_TARGET])\n",
    "dpi_bm.head(3)"
   ]
  },
  {
   "cell_type": "markdown",
   "id": "25492767-cb69-4a25-954f-dd602fdbd496",
   "metadata": {},
   "source": [
    "\n",
    "* [DB01079; Tegaserod](https://go.drugbank.com/drugs/DB01079)\n",
    "Tegaserod is a serotonin-4 (5-HT4) receptor agonist indicated for the treatment of constipation predominant irritable bowel syndrome (IBS-C) specifically in women under the age of 65. There is currently no safety or efficacy data for use of tegaserol in men.\n",
    "\n",
    "* https://www.uniprot.org/uniprotkb/Q13639/entry"
   ]
  },
  {
   "cell_type": "code",
   "execution_count": 13,
   "id": "d40231f3-0055-40f1-b0c3-e6e337e69430",
   "metadata": {},
   "outputs": [
    {
     "data": {
      "text/plain": [
       "(19161, 2286, 2705)"
      ]
     },
     "execution_count": 13,
     "metadata": {},
     "output_type": "execute_result"
    }
   ],
   "source": [
    "dpi_drugs_unique = list(dpi_bm.src.unique())\n",
    "dpi_prots_unique = list(dpi_bm.tgt.unique())\n",
    "len(dpi_bm), len(dpi_drugs_unique), len(dpi_prots_unique)"
   ]
  },
  {
   "cell_type": "markdown",
   "id": "27bf7bbc-4075-40b4-b10e-f99a82e89cde",
   "metadata": {
    "tags": []
   },
   "source": [
    "## Prepare Data for ML"
   ]
  },
  {
   "cell_type": "code",
   "execution_count": 14,
   "id": "24573ebe-658f-4b4a-b384-2c856fa9183e",
   "metadata": {},
   "outputs": [],
   "source": [
    "from bioblp.benchmarking.featurize import load_model_and_entity_to_id_maps, ENTITY_TO_ID_MAP, RELATION_TO_ID_MAP"
   ]
  },
  {
   "cell_type": "code",
   "execution_count": 15,
   "id": "eb5e36d6-05b6-4eee-aaee-f7f05783254d",
   "metadata": {},
   "outputs": [
    {
     "name": "stderr",
     "output_type": "stream",
     "text": [
      "18:19:07 - INFO - bioblp.benchmarking.featurize - Loading trained model from /home/jovyan/BioBLP/models/1baon0eg\n"
     ]
    }
   ],
   "source": [
    "model_dir = Path('/home/jovyan/BioBLP/models/1baon0eg')\n",
    "\n",
    "kge_artifacts = load_model_and_entity_to_id_maps(model_dir)\n",
    "entity_to_id_map = kge_artifacts.get(ENTITY_TO_ID_MAP)\n",
    "relation_to_id_map = kge_artifacts.get(RELATION_TO_ID_MAP)"
   ]
  },
  {
   "cell_type": "markdown",
   "id": "140fd17d-1018-48f6-87f4-9a4a93655c46",
   "metadata": {},
   "source": [
    "### Generate Negative samples"
   ]
  },
  {
   "cell_type": "code",
   "execution_count": 24,
   "id": "78a673d8-89e2-4b6c-9eb4-5c20127959bf",
   "metadata": {},
   "outputs": [],
   "source": [
    "from bioblp.benchmarking.preprocess import prepare_dpi_samples"
   ]
  },
  {
   "cell_type": "code",
   "execution_count": 25,
   "id": "54fc5fb3-d877-44db-b594-3770916aacf8",
   "metadata": {},
   "outputs": [],
   "source": [
    "pos_neg_df = prepare_dpi_samples(dpi_bm[:4], entity_to_id_map, relation_to_id_map)"
   ]
  },
  {
   "cell_type": "code",
   "execution_count": 26,
   "id": "3d5f2001-dbc8-48f3-b6d5-677af3f7e694",
   "metadata": {},
   "outputs": [
    {
     "data": {
      "text/html": [
       "<div>\n",
       "<style scoped>\n",
       "    .dataframe tbody tr th:only-of-type {\n",
       "        vertical-align: middle;\n",
       "    }\n",
       "\n",
       "    .dataframe tbody tr th {\n",
       "        vertical-align: top;\n",
       "    }\n",
       "\n",
       "    .dataframe thead th {\n",
       "        text-align: right;\n",
       "    }\n",
       "</style>\n",
       "<table border=\"1\" class=\"dataframe\">\n",
       "  <thead>\n",
       "    <tr style=\"text-align: right;\">\n",
       "      <th></th>\n",
       "      <th>src</th>\n",
       "      <th>edg</th>\n",
       "      <th>tgt</th>\n",
       "      <th>label</th>\n",
       "    </tr>\n",
       "  </thead>\n",
       "  <tbody>\n",
       "    <tr>\n",
       "      <th>0</th>\n",
       "      <td>8879</td>\n",
       "      <td>5</td>\n",
       "      <td>44406</td>\n",
       "      <td>1</td>\n",
       "    </tr>\n",
       "    <tr>\n",
       "      <th>1</th>\n",
       "      <td>7928</td>\n",
       "      <td>5</td>\n",
       "      <td>30725</td>\n",
       "      <td>1</td>\n",
       "    </tr>\n",
       "    <tr>\n",
       "      <th>2</th>\n",
       "      <td>8957</td>\n",
       "      <td>5</td>\n",
       "      <td>29310</td>\n",
       "      <td>1</td>\n",
       "    </tr>\n",
       "    <tr>\n",
       "      <th>3</th>\n",
       "      <td>8869</td>\n",
       "      <td>5</td>\n",
       "      <td>30330</td>\n",
       "      <td>1</td>\n",
       "    </tr>\n",
       "    <tr>\n",
       "      <th>4</th>\n",
       "      <td>22444</td>\n",
       "      <td>5</td>\n",
       "      <td>30725</td>\n",
       "      <td>0</td>\n",
       "    </tr>\n",
       "    <tr>\n",
       "      <th>5</th>\n",
       "      <td>12889</td>\n",
       "      <td>5</td>\n",
       "      <td>30330</td>\n",
       "      <td>0</td>\n",
       "    </tr>\n",
       "    <tr>\n",
       "      <th>6</th>\n",
       "      <td>8879</td>\n",
       "      <td>5</td>\n",
       "      <td>5562</td>\n",
       "      <td>0</td>\n",
       "    </tr>\n",
       "    <tr>\n",
       "      <th>7</th>\n",
       "      <td>8957</td>\n",
       "      <td>5</td>\n",
       "      <td>18343</td>\n",
       "      <td>0</td>\n",
       "    </tr>\n",
       "  </tbody>\n",
       "</table>\n",
       "</div>"
      ],
      "text/plain": [
       "     src  edg    tgt  label\n",
       "0   8879    5  44406      1\n",
       "1   7928    5  30725      1\n",
       "2   8957    5  29310      1\n",
       "3   8869    5  30330      1\n",
       "4  22444    5  30725      0\n",
       "5  12889    5  30330      0\n",
       "6   8879    5   5562      0\n",
       "7   8957    5  18343      0"
      ]
     },
     "execution_count": 26,
     "metadata": {},
     "output_type": "execute_result"
    }
   ],
   "source": [
    "pos_neg_df.head(10)"
   ]
  },
  {
   "cell_type": "markdown",
   "id": "c52e251c-cf1d-4d66-a6e6-c51a89089f80",
   "metadata": {},
   "source": [
    "### Featurize by obtaining joint entity pair encoding"
   ]
  },
  {
   "cell_type": "code",
   "execution_count": 29,
   "id": "e7c49f60-30ac-4a69-ba7d-34b8464f3f93",
   "metadata": {},
   "outputs": [],
   "source": [
    "from bioblp.benchmarking.featurize import generate_dp_pair_joint_encoding\n",
    "from bioblp.benchmarking.featurize import concatenate, average\n"
   ]
  },
  {
   "cell_type": "code",
   "execution_count": 30,
   "id": "54da152e-84f1-4bcd-b1e9-acf4b418afa5",
   "metadata": {},
   "outputs": [
    {
     "name": "stderr",
     "output_type": "stream",
     "text": [
      "18:22:21 - INFO - bioblp.benchmarking.featurize - Applying transformation function: f<function concatenate at 0x7f51d7aecf70>, to retrieve joint encoding for entity pair\n"
     ]
    },
    {
     "data": {
      "text/html": [
       "<div>\n",
       "<style scoped>\n",
       "    .dataframe tbody tr th:only-of-type {\n",
       "        vertical-align: middle;\n",
       "    }\n",
       "\n",
       "    .dataframe tbody tr th {\n",
       "        vertical-align: top;\n",
       "    }\n",
       "\n",
       "    .dataframe thead th {\n",
       "        text-align: right;\n",
       "    }\n",
       "</style>\n",
       "<table border=\"1\" class=\"dataframe\">\n",
       "  <thead>\n",
       "    <tr style=\"text-align: right;\">\n",
       "      <th></th>\n",
       "      <th>index</th>\n",
       "      <th>src</th>\n",
       "      <th>edg</th>\n",
       "      <th>tgt</th>\n",
       "      <th>label</th>\n",
       "      <th>joint_encoding</th>\n",
       "    </tr>\n",
       "  </thead>\n",
       "  <tbody>\n",
       "    <tr>\n",
       "      <th>0</th>\n",
       "      <td>0</td>\n",
       "      <td>8879</td>\n",
       "      <td>5</td>\n",
       "      <td>44406</td>\n",
       "      <td>1</td>\n",
       "      <td>[0.24256302416324615, 0.4320533871650696, -0.4...</td>\n",
       "    </tr>\n",
       "    <tr>\n",
       "      <th>1</th>\n",
       "      <td>1</td>\n",
       "      <td>7928</td>\n",
       "      <td>5</td>\n",
       "      <td>30725</td>\n",
       "      <td>1</td>\n",
       "      <td>[0.34729743003845215, -0.003592705586925149, -...</td>\n",
       "    </tr>\n",
       "    <tr>\n",
       "      <th>2</th>\n",
       "      <td>2</td>\n",
       "      <td>8957</td>\n",
       "      <td>5</td>\n",
       "      <td>29310</td>\n",
       "      <td>1</td>\n",
       "      <td>[-1.564800500869751, 0.018311385065317154, -0....</td>\n",
       "    </tr>\n",
       "    <tr>\n",
       "      <th>3</th>\n",
       "      <td>3</td>\n",
       "      <td>8869</td>\n",
       "      <td>5</td>\n",
       "      <td>30330</td>\n",
       "      <td>1</td>\n",
       "      <td>[0.03526313602924347, -2.60638427734375, -1.02...</td>\n",
       "    </tr>\n",
       "    <tr>\n",
       "      <th>4</th>\n",
       "      <td>0</td>\n",
       "      <td>8095</td>\n",
       "      <td>5</td>\n",
       "      <td>30725</td>\n",
       "      <td>0</td>\n",
       "      <td>[-0.19735385477542877, 0.06663068383932114, -0...</td>\n",
       "    </tr>\n",
       "    <tr>\n",
       "      <th>5</th>\n",
       "      <td>1</td>\n",
       "      <td>40463</td>\n",
       "      <td>5</td>\n",
       "      <td>30330</td>\n",
       "      <td>0</td>\n",
       "      <td>[-0.022010549902915955, 1.4183855056762695, 1....</td>\n",
       "    </tr>\n",
       "    <tr>\n",
       "      <th>6</th>\n",
       "      <td>2</td>\n",
       "      <td>8879</td>\n",
       "      <td>5</td>\n",
       "      <td>15044</td>\n",
       "      <td>0</td>\n",
       "      <td>[0.24256302416324615, 0.4320533871650696, -0.4...</td>\n",
       "    </tr>\n",
       "    <tr>\n",
       "      <th>7</th>\n",
       "      <td>3</td>\n",
       "      <td>8957</td>\n",
       "      <td>5</td>\n",
       "      <td>33535</td>\n",
       "      <td>0</td>\n",
       "      <td>[-1.564800500869751, 0.018311385065317154, -0....</td>\n",
       "    </tr>\n",
       "  </tbody>\n",
       "</table>\n",
       "</div>"
      ],
      "text/plain": [
       "   index    src  edg    tgt  label  \\\n",
       "0      0   8879    5  44406      1   \n",
       "1      1   7928    5  30725      1   \n",
       "2      2   8957    5  29310      1   \n",
       "3      3   8869    5  30330      1   \n",
       "4      0   8095    5  30725      0   \n",
       "5      1  40463    5  30330      0   \n",
       "6      2   8879    5  15044      0   \n",
       "7      3   8957    5  33535      0   \n",
       "\n",
       "                                      joint_encoding  \n",
       "0  [0.24256302416324615, 0.4320533871650696, -0.4...  \n",
       "1  [0.34729743003845215, -0.003592705586925149, -...  \n",
       "2  [-1.564800500869751, 0.018311385065317154, -0....  \n",
       "3  [0.03526313602924347, -2.60638427734375, -1.02...  \n",
       "4  [-0.19735385477542877, 0.06663068383932114, -0...  \n",
       "5  [-0.022010549902915955, 1.4183855056762695, 1....  \n",
       "6  [0.24256302416324615, 0.4320533871650696, -0.4...  \n",
       "7  [-1.564800500869751, 0.018311385065317154, -0....  "
      ]
     },
     "execution_count": 30,
     "metadata": {},
     "output_type": "execute_result"
    }
   ],
   "source": [
    "# pass on to KGEM encoder to featurize each entity pair\n",
    "generate_dp_pair_joint_encoding(true_pos_df,\n",
    "                                model=kge_artifacts[\"model\"],\n",
    "                                transform_fn=concatenate)\n",
    "                            "
   ]
  },
  {
   "cell_type": "code",
   "execution_count": null,
   "id": "c3a2ae70-1ca5-4db1-a78e-dcdd0e064c86",
   "metadata": {},
   "outputs": [],
   "source": []
  }
 ],
 "metadata": {
  "kernelspec": {
   "display_name": ".conda-bioblp-env [Python]",
   "language": "python",
   "name": "conda-env-.conda-bioblp-env-py"
  },
  "language_info": {
   "codemirror_mode": {
    "name": "ipython",
    "version": 3
   },
   "file_extension": ".py",
   "mimetype": "text/x-python",
   "name": "python",
   "nbconvert_exporter": "python",
   "pygments_lexer": "ipython3",
   "version": "3.8.13"
  }
 },
 "nbformat": 4,
 "nbformat_minor": 5
}
