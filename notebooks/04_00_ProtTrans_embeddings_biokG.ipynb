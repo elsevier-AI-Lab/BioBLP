{
 "cells": [
  {
   "cell_type": "code",
   "execution_count": 1,
   "metadata": {},
   "outputs": [],
   "source": [
    "import pandas as pd\n",
    "import numpy as np\n",
    "import torch\n",
    "import tqdm\n",
    "import json\n",
    "import dill"
   ]
  },
  {
   "cell_type": "markdown",
   "metadata": {},
   "source": [
    "#### ID mapping creation"
   ]
  },
  {
   "cell_type": "code",
   "execution_count": 2,
   "metadata": {},
   "outputs": [],
   "source": [
    "unique_biokg_prot_ids = pd.read_csv('../data/biokg/unique_proteins.csv', \n",
    "                                    index_col=0)"
   ]
  },
  {
   "cell_type": "code",
   "execution_count": 3,
   "metadata": {},
   "outputs": [],
   "source": [
    "uniprot_to_id_mapping = unique_biokg_prot_ids['protein_id'].to_dict()\n",
    "id_to_uniprot_mapping = {v:k for k,v in uniprot_to_id_mapping.items()}"
   ]
  },
  {
   "cell_type": "code",
   "execution_count": 4,
   "metadata": {},
   "outputs": [],
   "source": [
    "# Create uniprot_id, idx (internal index) from BioKG proteins.\n",
    "uniprot_to_id_mapping = unique_biokg_prot_ids['protein_id'].to_dict()\n",
    "\n",
    "# and the inverse...\n",
    "id_to_uniprot_mapping = {v:k for k,v in uniprot_to_id_mapping.items()}\n",
    "\n",
    "# create json objects from dictionaries\n",
    "uniprot_to_id = json.dumps(uniprot_to_id_mapping)\n",
    "id_to_uniprot = json.dumps(id_to_uniprot_mapping)"
   ]
  },
  {
   "cell_type": "code",
   "execution_count": 5,
   "metadata": {},
   "outputs": [],
   "source": [
    "# Save the mappings\n",
    "# Serialize data into file:\n",
    "json.dump(uniprot_to_id, open(\"../data/processed/uniprot_to_id_mapping.json\", 'w'))\n",
    "json.dump(id_to_uniprot, open(\"../data/processed/id_to_uniprot_mapping.json\", 'w'))"
   ]
  },
  {
   "cell_type": "markdown",
   "metadata": {},
   "source": [
    "#### ID mapping done\n",
    "\n",
    "#### Coverage check"
   ]
  },
  {
   "cell_type": "code",
   "execution_count": 6,
   "metadata": {},
   "outputs": [],
   "source": [
    "biokg_uniprot_set = set(unique_biokg_prot_ids['protein_id'])"
   ]
  },
  {
   "cell_type": "code",
   "execution_count": 7,
   "metadata": {},
   "outputs": [],
   "source": [
    "unique_biokg_uniprot_ids =  set(unique_biokg_prot_ids)"
   ]
  },
  {
   "cell_type": "code",
   "execution_count": 8,
   "metadata": {},
   "outputs": [],
   "source": [
    "swissprot_to_uniprot_ids = pd.read_csv('../data/uniprot.tsv',\n",
    "                                    sep='\\t')"
   ]
  },
  {
   "cell_type": "code",
   "execution_count": 9,
   "metadata": {},
   "outputs": [],
   "source": [
    "uniprot_emb_set = set(swissprot_to_uniprot_ids['Entry'])"
   ]
  },
  {
   "cell_type": "code",
   "execution_count": 10,
   "metadata": {},
   "outputs": [
    {
     "data": {
      "text/plain": [
       "82379"
      ]
     },
     "execution_count": 10,
     "metadata": {},
     "output_type": "execute_result"
    }
   ],
   "source": [
    "len(biokg_uniprot_set.difference(uniprot_emb_set))"
   ]
  },
  {
   "cell_type": "code",
   "execution_count": 11,
   "metadata": {},
   "outputs": [
    {
     "data": {
      "text/plain": [
       "444"
      ]
     },
     "execution_count": 11,
     "metadata": {},
     "output_type": "execute_result"
    }
   ],
   "source": [
    "len(uniprot_emb_set.difference(biokg_uniprot_set))"
   ]
  },
  {
   "cell_type": "code",
   "execution_count": 12,
   "metadata": {},
   "outputs": [],
   "source": [
    "biokg_proteins_without_emb = biokg_uniprot_set.difference(uniprot_emb_set)"
   ]
  },
  {
   "cell_type": "code",
   "execution_count": 13,
   "metadata": {},
   "outputs": [],
   "source": [
    "test = pd.DataFrame(biokg_proteins_without_emb)"
   ]
  },
  {
   "cell_type": "code",
   "execution_count": 14,
   "metadata": {},
   "outputs": [],
   "source": [
    "# To store the ones we're missing\n",
    "# test.to_csv('prot_without_emb.csv', index=False, header=False)"
   ]
  },
  {
   "cell_type": "code",
   "execution_count": 15,
   "metadata": {},
   "outputs": [],
   "source": [
    "# Load all missing proteins\n",
    "biokg_missing_proteins = pd.read_csv('../data/uniprot_sequences.tsv',\n",
    "                                    sep='\\t')"
   ]
  },
  {
   "cell_type": "code",
   "execution_count": 16,
   "metadata": {},
   "outputs": [
    {
     "data": {
      "text/html": [
       "<div>\n",
       "<style scoped>\n",
       "    .dataframe tbody tr th:only-of-type {\n",
       "        vertical-align: middle;\n",
       "    }\n",
       "\n",
       "    .dataframe tbody tr th {\n",
       "        vertical-align: top;\n",
       "    }\n",
       "\n",
       "    .dataframe thead th {\n",
       "        text-align: right;\n",
       "    }\n",
       "</style>\n",
       "<table border=\"1\" class=\"dataframe\">\n",
       "  <thead>\n",
       "    <tr style=\"text-align: right;\">\n",
       "      <th></th>\n",
       "      <th>From</th>\n",
       "      <th>Entry</th>\n",
       "      <th>Reviewed</th>\n",
       "      <th>Entry Name</th>\n",
       "      <th>Protein names</th>\n",
       "      <th>Gene Names</th>\n",
       "      <th>Organism</th>\n",
       "      <th>Length</th>\n",
       "      <th>Sequence</th>\n",
       "    </tr>\n",
       "  </thead>\n",
       "  <tbody>\n",
       "    <tr>\n",
       "      <th>68847</th>\n",
       "      <td>P0DPR3</td>\n",
       "      <td>P0DPR3</td>\n",
       "      <td>reviewed</td>\n",
       "      <td>TRDD1_HUMAN</td>\n",
       "      <td>T cell receptor delta diversity 1</td>\n",
       "      <td>TRDD1</td>\n",
       "      <td>Homo sapiens (Human)</td>\n",
       "      <td>2</td>\n",
       "      <td>EI</td>\n",
       "    </tr>\n",
       "    <tr>\n",
       "      <th>34400</th>\n",
       "      <td>P62968</td>\n",
       "      <td>P62968</td>\n",
       "      <td>reviewed</td>\n",
       "      <td>TRH_PIG</td>\n",
       "      <td>Thyrotropin-releasing hormone (TRH) (Protireli...</td>\n",
       "      <td>TRH</td>\n",
       "      <td>Sus scrofa (Pig)</td>\n",
       "      <td>3</td>\n",
       "      <td>QHP</td>\n",
       "    </tr>\n",
       "    <tr>\n",
       "      <th>34254</th>\n",
       "      <td>P01858</td>\n",
       "      <td>P01858</td>\n",
       "      <td>reviewed</td>\n",
       "      <td>TUFT_HUMAN</td>\n",
       "      <td>Phagocytosis-stimulating peptide (Tuftsin)</td>\n",
       "      <td>NaN</td>\n",
       "      <td>Homo sapiens (Human)</td>\n",
       "      <td>4</td>\n",
       "      <td>TKPR</td>\n",
       "    </tr>\n",
       "    <tr>\n",
       "      <th>16443</th>\n",
       "      <td>P0DPI4</td>\n",
       "      <td>P0DPI4</td>\n",
       "      <td>reviewed</td>\n",
       "      <td>TDB01_HUMAN</td>\n",
       "      <td>T cell receptor beta diversity 1</td>\n",
       "      <td>TRBD1</td>\n",
       "      <td>Homo sapiens (Human)</td>\n",
       "      <td>4</td>\n",
       "      <td>GTGG</td>\n",
       "    </tr>\n",
       "    <tr>\n",
       "      <th>50277</th>\n",
       "      <td>P80826</td>\n",
       "      <td>P80826</td>\n",
       "      <td>reviewed</td>\n",
       "      <td>CWP02_ARATH</td>\n",
       "      <td>65 kDa cell wall protein</td>\n",
       "      <td>NaN</td>\n",
       "      <td>Arabidopsis thaliana (Mouse-ear cress)</td>\n",
       "      <td>5</td>\n",
       "      <td>EDRTY</td>\n",
       "    </tr>\n",
       "    <tr>\n",
       "      <th>45573</th>\n",
       "      <td>P0DKJ0</td>\n",
       "      <td>P0DKJ0</td>\n",
       "      <td>reviewed</td>\n",
       "      <td>P160B_ARATH</td>\n",
       "      <td>Peptide encoded by miPEP160b</td>\n",
       "      <td>miPEP160b At4g17787 FCAALL</td>\n",
       "      <td>Arabidopsis thaliana (Mouse-ear cress)</td>\n",
       "      <td>5</td>\n",
       "      <td>MFSPQ</td>\n",
       "    </tr>\n",
       "    <tr>\n",
       "      <th>68429</th>\n",
       "      <td>P83308</td>\n",
       "      <td>P83308</td>\n",
       "      <td>reviewed</td>\n",
       "      <td>FARP_CHICK</td>\n",
       "      <td>FMRFamide-like neuropeptide (LPLRF-amide)</td>\n",
       "      <td>NaN</td>\n",
       "      <td>Gallus gallus (Chicken)</td>\n",
       "      <td>5</td>\n",
       "      <td>LPLRF</td>\n",
       "    </tr>\n",
       "    <tr>\n",
       "      <th>26191</th>\n",
       "      <td>P38639</td>\n",
       "      <td>P38639</td>\n",
       "      <td>reviewed</td>\n",
       "      <td>UF01_MOUSE</td>\n",
       "      <td>Unknown protein from 2D-PAGE of fibroblasts (P19)</td>\n",
       "      <td>NaN</td>\n",
       "      <td>Mus musculus (Mouse)</td>\n",
       "      <td>5</td>\n",
       "      <td>WIGRW</td>\n",
       "    </tr>\n",
       "  </tbody>\n",
       "</table>\n",
       "</div>"
      ],
      "text/plain": [
       "         From   Entry  Reviewed   Entry Name  \\\n",
       "68847  P0DPR3  P0DPR3  reviewed  TRDD1_HUMAN   \n",
       "34400  P62968  P62968  reviewed      TRH_PIG   \n",
       "34254  P01858  P01858  reviewed   TUFT_HUMAN   \n",
       "16443  P0DPI4  P0DPI4  reviewed  TDB01_HUMAN   \n",
       "50277  P80826  P80826  reviewed  CWP02_ARATH   \n",
       "45573  P0DKJ0  P0DKJ0  reviewed  P160B_ARATH   \n",
       "68429  P83308  P83308  reviewed   FARP_CHICK   \n",
       "26191  P38639  P38639  reviewed   UF01_MOUSE   \n",
       "\n",
       "                                           Protein names  \\\n",
       "68847                  T cell receptor delta diversity 1   \n",
       "34400  Thyrotropin-releasing hormone (TRH) (Protireli...   \n",
       "34254         Phagocytosis-stimulating peptide (Tuftsin)   \n",
       "16443                   T cell receptor beta diversity 1   \n",
       "50277                           65 kDa cell wall protein   \n",
       "45573                       Peptide encoded by miPEP160b   \n",
       "68429          FMRFamide-like neuropeptide (LPLRF-amide)   \n",
       "26191  Unknown protein from 2D-PAGE of fibroblasts (P19)   \n",
       "\n",
       "                       Gene Names                                Organism  \\\n",
       "68847                       TRDD1                    Homo sapiens (Human)   \n",
       "34400                         TRH                        Sus scrofa (Pig)   \n",
       "34254                         NaN                    Homo sapiens (Human)   \n",
       "16443                       TRBD1                    Homo sapiens (Human)   \n",
       "50277                         NaN  Arabidopsis thaliana (Mouse-ear cress)   \n",
       "45573  miPEP160b At4g17787 FCAALL  Arabidopsis thaliana (Mouse-ear cress)   \n",
       "68429                         NaN                 Gallus gallus (Chicken)   \n",
       "26191                         NaN                    Mus musculus (Mouse)   \n",
       "\n",
       "       Length Sequence  \n",
       "68847       2       EI  \n",
       "34400       3      QHP  \n",
       "34254       4     TKPR  \n",
       "16443       4     GTGG  \n",
       "50277       5    EDRTY  \n",
       "45573       5    MFSPQ  \n",
       "68429       5    LPLRF  \n",
       "26191       5    WIGRW  "
      ]
     },
     "execution_count": 16,
     "metadata": {},
     "output_type": "execute_result"
    }
   ],
   "source": [
    "biokg_missing_proteins.sort_values(by='Length').head(8)"
   ]
  },
  {
   "cell_type": "code",
   "execution_count": 17,
   "metadata": {},
   "outputs": [],
   "source": [
    "protein_sequences = biokg_missing_proteins[['From', 'Sequence']]"
   ]
  },
  {
   "cell_type": "code",
   "execution_count": 18,
   "metadata": {},
   "outputs": [
    {
     "data": {
      "text/html": [
       "<div>\n",
       "<style scoped>\n",
       "    .dataframe tbody tr th:only-of-type {\n",
       "        vertical-align: middle;\n",
       "    }\n",
       "\n",
       "    .dataframe tbody tr th {\n",
       "        vertical-align: top;\n",
       "    }\n",
       "\n",
       "    .dataframe thead th {\n",
       "        text-align: right;\n",
       "    }\n",
       "</style>\n",
       "<table border=\"1\" class=\"dataframe\">\n",
       "  <thead>\n",
       "    <tr style=\"text-align: right;\">\n",
       "      <th></th>\n",
       "      <th>From</th>\n",
       "      <th>Sequence</th>\n",
       "    </tr>\n",
       "  </thead>\n",
       "  <tbody>\n",
       "    <tr>\n",
       "      <th>0</th>\n",
       "      <td>Q8X730</td>\n",
       "      <td>MALWGGRFTQAADQRFKQFNDSLRFDYRLAEQDIVGSVAWSKALVT...</td>\n",
       "    </tr>\n",
       "    <tr>\n",
       "      <th>1</th>\n",
       "      <td>Q29RM2</td>\n",
       "      <td>MITLITEQLQKQTLDELKCTRFSISLPLPDHADISNCGNPFQLVSE...</td>\n",
       "    </tr>\n",
       "  </tbody>\n",
       "</table>\n",
       "</div>"
      ],
      "text/plain": [
       "     From                                           Sequence\n",
       "0  Q8X730  MALWGGRFTQAADQRFKQFNDSLRFDYRLAEQDIVGSVAWSKALVT...\n",
       "1  Q29RM2  MITLITEQLQKQTLDELKCTRFSISLPLPDHADISNCGNPFQLVSE..."
      ]
     },
     "execution_count": 18,
     "metadata": {},
     "output_type": "execute_result"
    }
   ],
   "source": [
    "protein_sequences.head(2)"
   ]
  },
  {
   "cell_type": "markdown",
   "metadata": {},
   "source": [
    "#### Coverage check done\n",
    "\n",
    "#### Embedding gen"
   ]
  },
  {
   "cell_type": "code",
   "execution_count": 19,
   "metadata": {},
   "outputs": [],
   "source": [
    "import numpy as np\n",
    "import bio_embeddings\n",
    "from bio_embeddings.embed import SeqVecEmbedder, ProtTransBertBFDEmbedder, prottrans_t5_embedder, esm_embedder"
   ]
  },
  {
   "cell_type": "code",
   "execution_count": 20,
   "metadata": {},
   "outputs": [],
   "source": [
    "# IF THIS CELLS EXECUTES FOR THE FIRST TIME, EXPECT A DELAY\n",
    "prot_trans_embedder = ProtTransBertBFDEmbedder()"
   ]
  },
  {
   "cell_type": "code",
   "execution_count": 21,
   "metadata": {},
   "outputs": [],
   "source": [
    "# Get the aggregated protein representation\n",
    "\n",
    "def get_protein_repr(amino_repr, embedder):\n",
    "    # Here we need to go from a collection of amino-acid embeddings to a full protein embedding\n",
    "    #\n",
    "    # Example: \n",
    "    #    \n",
    "    #   M : (1,1024)\n",
    "    #   A : (1,1024)\n",
    "    #   S : (1,1024)\n",
    "    #   \n",
    "    #  Output: An aggregated representation for proteins\n",
    "    #\n",
    "    #  Type: Dict(protein_id: (embedding))\n",
    "    #\n",
    "    #  e.g Dict(: (LENG8_MOUSE, 1024))\n",
    "    \n",
    "    amino_repr_embedding = embedder.embed(amino_repr)\n",
    "    emb_matrix = torch.Tensor(amino_repr_embedding)\n",
    "    protein_emb = torch.mean(emb_matrix, dim=0)\n",
    "\n",
    "    return protein_emb"
   ]
  },
  {
   "cell_type": "code",
   "execution_count": 22,
   "metadata": {},
   "outputs": [],
   "source": [
    "amino = 'EDRTY'\n",
    "result = get_protein_repr(amino_repr=amino, embedder=prot_trans_embedder)"
   ]
  },
  {
   "cell_type": "code",
   "execution_count": 23,
   "metadata": {},
   "outputs": [
    {
     "name": "stderr",
     "output_type": "stream",
     "text": [
      "<ipython-input-23-0b0c8167af7d>:3: SettingWithCopyWarning: \n",
      "A value is trying to be set on a copy of a slice from a DataFrame.\n",
      "Try using .loc[row_indexer,col_indexer] = value instead\n",
      "\n",
      "See the caveats in the documentation: https://pandas.pydata.org/pandas-docs/stable/user_guide/indexing.html#returning-a-view-versus-a-copy\n",
      "  protein_sequences['seq_len'] = protein_sequences['Sequence'].apply(len)\n"
     ]
    }
   ],
   "source": [
    "## A bit of preprocessing\n",
    "\n",
    "protein_sequences['seq_len'] = protein_sequences['Sequence'].apply(len)\n",
    "\n",
    "protein_sequences = protein_sequences.sort_values(by='seq_len')\n",
    "\n",
    "protein_sequences['embedding'] = None"
   ]
  },
  {
   "cell_type": "code",
   "execution_count": 24,
   "metadata": {},
   "outputs": [
    {
     "data": {
      "text/html": [
       "<div>\n",
       "<style scoped>\n",
       "    .dataframe tbody tr th:only-of-type {\n",
       "        vertical-align: middle;\n",
       "    }\n",
       "\n",
       "    .dataframe tbody tr th {\n",
       "        vertical-align: top;\n",
       "    }\n",
       "\n",
       "    .dataframe thead th {\n",
       "        text-align: right;\n",
       "    }\n",
       "</style>\n",
       "<table border=\"1\" class=\"dataframe\">\n",
       "  <thead>\n",
       "    <tr style=\"text-align: right;\">\n",
       "      <th></th>\n",
       "      <th>From</th>\n",
       "      <th>Sequence</th>\n",
       "      <th>seq_len</th>\n",
       "      <th>embedding</th>\n",
       "    </tr>\n",
       "  </thead>\n",
       "  <tbody>\n",
       "    <tr>\n",
       "      <th>68847</th>\n",
       "      <td>P0DPR3</td>\n",
       "      <td>EI</td>\n",
       "      <td>2</td>\n",
       "      <td>None</td>\n",
       "    </tr>\n",
       "    <tr>\n",
       "      <th>34400</th>\n",
       "      <td>P62968</td>\n",
       "      <td>QHP</td>\n",
       "      <td>3</td>\n",
       "      <td>None</td>\n",
       "    </tr>\n",
       "    <tr>\n",
       "      <th>34254</th>\n",
       "      <td>P01858</td>\n",
       "      <td>TKPR</td>\n",
       "      <td>4</td>\n",
       "      <td>None</td>\n",
       "    </tr>\n",
       "  </tbody>\n",
       "</table>\n",
       "</div>"
      ],
      "text/plain": [
       "         From Sequence  seq_len embedding\n",
       "68847  P0DPR3       EI        2      None\n",
       "34400  P62968      QHP        3      None\n",
       "34254  P01858     TKPR        4      None"
      ]
     },
     "execution_count": 24,
     "metadata": {},
     "output_type": "execute_result"
    }
   ],
   "source": [
    "protein_sequences.head(3)"
   ]
  },
  {
   "cell_type": "code",
   "execution_count": 25,
   "metadata": {},
   "outputs": [],
   "source": [
    "# Batch it\n",
    "\n",
    "protein_sequences_a = protein_sequences[:10000]\n",
    "\n",
    "protein_sequences_b = protein_sequences[10001:20000]\n",
    "\n",
    "protein_sequences_c = protein_sequences[20001:30000]\n",
    "\n",
    "protein_sequences_d = protein_sequences[30001:40000]\n",
    "\n",
    "protein_sequences_e = protein_sequences[40001:50000]\n",
    "\n",
    "protein_sequences_f = protein_sequences[50001:60000]\n",
    "\n",
    "protein_sequences_g = protein_sequences[60001:70000]\n",
    "\n",
    "protein_sequences_h = protein_sequences[70001:82324]"
   ]
  },
  {
   "cell_type": "code",
   "execution_count": 26,
   "metadata": {},
   "outputs": [],
   "source": [
    "df_list = [protein_sequences_a, protein_sequences_b, protein_sequences_c, \n",
    "           protein_sequences_d, protein_sequences_e, protein_sequences_f,\n",
    "           protein_sequences_g, protein_sequences_h]"
   ]
  },
  {
   "cell_type": "code",
   "execution_count": 27,
   "metadata": {},
   "outputs": [
    {
     "name": "stdout",
     "output_type": "stream",
     "text": [
      "Saving protein embeddings......\n"
     ]
    }
   ],
   "source": [
    "########### SMALL TEST BEFORE THE FULL THING \n",
    "protein_sequences_test = protein_sequences[:10]\n",
    "    \n",
    "for row in protein_sequences_test.itertuples():\n",
    "    protein_sequences_test.at[row.Index, 'embedding'] = torch.Tensor(get_protein_repr(row[1], prot_trans_embedder))\n",
    "    \n",
    "# Out of the loop\n",
    "\n",
    "protein_sequences_test = protein_sequences_test.set_index('From')\n",
    "\n",
    "protein_emb_df = protein_sequences_test[['embedding']]\n",
    "\n",
    "# Make it a dict\n",
    "protein_emb = protein_emb_df.to_dict()\n",
    "\n",
    "print(f\"Saving protein embeddings......\")\n",
    "# Save it\n",
    "filename = f'../data/processed/test_protein_batch.pt'\n",
    "\n",
    "with open(filename, 'wb') as f:  # Overwrites any existing file.\n",
    "    torch.save(protein_emb, f, pickle_module=dill)\n",
    "\n",
    "########### SMALL TEST BEFORE THE FULL THING    "
   ]
  },
  {
   "cell_type": "code",
   "execution_count": 28,
   "metadata": {},
   "outputs": [
    {
     "name": "stdout",
     "output_type": "stream",
     "text": [
      "Saving protein embeddings......\n",
      "Saving protein embeddings......\n",
      "Saving protein embeddings......\n",
      "Saving protein embeddings......\n",
      "Saving protein embeddings......\n",
      "Saving protein embeddings......\n",
      "Saving protein embeddings......\n"
     ]
    }
   ],
   "source": [
    "# Loop that generates all embeddings for all proteins\n",
    "for count, df in enumerate(df_list):\n",
    "    \n",
    "    # Get emb for every batch\n",
    "    for row in df.itertuples():\n",
    "        df.at[row.Index, 'embedding'] = torch.Tensor(get_protein_repr(row[1], prot_trans_embedder))\n",
    "        \n",
    "    df = df.set_index('From')\n",
    "    \n",
    "    # save every batch as a .pt\n",
    "    df = df[['embedding']]\n",
    "\n",
    "    # Make it a dict\n",
    "    protein_emb = df.to_dict()\n",
    "\n",
    "    print(f\"Saving protein embeddings......\")\n",
    "    # Save it\n",
    "    filename = f'../data/processed/{count}_protein_batch.pt'\n",
    "\n",
    "    with open(filename, 'wb') as f:  # Overwrites any existing file.\n",
    "        torch.save(protein_emb, f, pickle_module=dill)"
   ]
  },
  {
   "cell_type": "code",
   "execution_count": 33,
   "metadata": {},
   "outputs": [
    {
     "name": "stdout",
     "output_type": "stream",
     "text": [
      "Saving protein embeddings......\n"
     ]
    }
   ],
   "source": [
    "for row in protein_sequences_h.itertuples():\n",
    "    protein_sequences_h.at[row.Index, 'embedding'] = torch.Tensor(get_protein_repr(row[1], prot_trans_embedder))\n",
    "        \n",
    "df = protein_sequences_h.set_index('From')\n",
    "\n",
    "# save every batch as a .pt\n",
    "df = df[['embedding']]\n",
    "\n",
    "# Make it a dict\n",
    "protein_emb = df.to_dict()\n",
    "\n",
    "print(f\"Saving protein embeddings......\")\n",
    "# Save it\n",
    "filename = f'../data/processed/7_protein_batch.pt'\n",
    "\n",
    "with open(filename, 'wb') as f:  # Overwrites any existing file.\n",
    "    torch.save(protein_emb, f, pickle_module=dill)"
   ]
  },
  {
   "cell_type": "code",
   "execution_count": null,
   "metadata": {},
   "outputs": [],
   "source": [
    "protein_sequences_a.head(3)"
   ]
  },
  {
   "cell_type": "markdown",
   "metadata": {},
   "source": [
    "In the above example we see a protein of 406 amino-acids is represented by a (406,1024) matrix.\n",
    "\n",
    "To get the final representation we will make it a (1,1024) by \"squashing\" the amino-acids together."
   ]
  },
  {
   "cell_type": "code",
   "execution_count": null,
   "metadata": {},
   "outputs": [],
   "source": [
    "### Load embeddings - merge - store them for use down the line"
   ]
  },
  {
   "cell_type": "code",
   "execution_count": 30,
   "metadata": {},
   "outputs": [],
   "source": [
    "test_prot = protein_sequences.set_index('From')"
   ]
  },
  {
   "cell_type": "code",
   "execution_count": 32,
   "metadata": {},
   "outputs": [
    {
     "data": {
      "text/html": [
       "<div>\n",
       "<style scoped>\n",
       "    .dataframe tbody tr th:only-of-type {\n",
       "        vertical-align: middle;\n",
       "    }\n",
       "\n",
       "    .dataframe tbody tr th {\n",
       "        vertical-align: top;\n",
       "    }\n",
       "\n",
       "    .dataframe thead th {\n",
       "        text-align: right;\n",
       "    }\n",
       "</style>\n",
       "<table border=\"1\" class=\"dataframe\">\n",
       "  <thead>\n",
       "    <tr style=\"text-align: right;\">\n",
       "      <th></th>\n",
       "      <th>Sequence</th>\n",
       "      <th>seq_len</th>\n",
       "      <th>embedding</th>\n",
       "    </tr>\n",
       "    <tr>\n",
       "      <th>From</th>\n",
       "      <th></th>\n",
       "      <th></th>\n",
       "      <th></th>\n",
       "    </tr>\n",
       "  </thead>\n",
       "  <tbody>\n",
       "    <tr>\n",
       "      <th>A0A023PXA5</th>\n",
       "      <td>MLLSELVATASSLPYTAISIHNNCRVPAARHIHHGCRYFHGPPVMH...</td>\n",
       "      <td>189</td>\n",
       "      <td>[tensor(-0.0164), tensor(-0.0954), tensor(-0.0...</td>\n",
       "    </tr>\n",
       "    <tr>\n",
       "      <th>A0A023PXB0</th>\n",
       "      <td>MFINGFVNYPVRTPPNDLLQVVLHGFLRCPLDGSQVDSIGIGHTVH...</td>\n",
       "      <td>110</td>\n",
       "      <td>[tensor(0.0625), tensor(-0.1014), tensor(-0.05...</td>\n",
       "    </tr>\n",
       "    <tr>\n",
       "      <th>A0A023PXB5</th>\n",
       "      <td>MFALIISSKGKTSGFFFNSSFSSSALVGIAPLTAYSALVTPVFKSF...</td>\n",
       "      <td>102</td>\n",
       "      <td>[tensor(0.0625), tensor(-0.1014), tensor(-0.05...</td>\n",
       "    </tr>\n",
       "    <tr>\n",
       "      <th>A0A023PXB9</th>\n",
       "      <td>MEYVLIYNIWFFSFLQDKPCFCFVDYACSIFLLSSYCGNCLTAVAT...</td>\n",
       "      <td>121</td>\n",
       "      <td>[tensor(0.0625), tensor(-0.1014), tensor(-0.05...</td>\n",
       "    </tr>\n",
       "    <tr>\n",
       "      <th>A0A023PXC2</th>\n",
       "      <td>MLPLCLTFLSFFLSLGGSFKAVMTKEEADGTTEAAACLFWIFNWTV...</td>\n",
       "      <td>115</td>\n",
       "      <td>[tensor(0.0523), tensor(-0.0484), tensor(-0.01...</td>\n",
       "    </tr>\n",
       "    <tr>\n",
       "      <th>...</th>\n",
       "      <td>...</td>\n",
       "      <td>...</td>\n",
       "      <td>...</td>\n",
       "    </tr>\n",
       "    <tr>\n",
       "      <th>X5HYT8</th>\n",
       "      <td>MASPGPAAGMQQKLEAAAAAAGGGDGAEWGRGMQKMEAVGAGGEGV...</td>\n",
       "      <td>425</td>\n",
       "      <td>[tensor(0.0267), tensor(-0.0787), tensor(0.020...</td>\n",
       "    </tr>\n",
       "    <tr>\n",
       "      <th>X5JA13</th>\n",
       "      <td>MTEGIRARGPRSSSVNSVPLILDIEDFKGDFSFDALFGNLVNDLLP...</td>\n",
       "      <td>825</td>\n",
       "      <td>None</td>\n",
       "    </tr>\n",
       "    <tr>\n",
       "      <th>X5JB51</th>\n",
       "      <td>MTERIRARGPRSSSVNSVPLILDIEDFKGDFSFDALFGNLVNDLLP...</td>\n",
       "      <td>829</td>\n",
       "      <td>None</td>\n",
       "    </tr>\n",
       "    <tr>\n",
       "      <th>X5M5N0</th>\n",
       "      <td>MPDSITNGGRPPAPPSSVSSTTASTTGNFGTRRRLVNRIKKVDELH...</td>\n",
       "      <td>1850</td>\n",
       "      <td>None</td>\n",
       "    </tr>\n",
       "    <tr>\n",
       "      <th>X5M8U1</th>\n",
       "      <td>MLFLRLFIFTPFLILANCQARRTIKVGLLFVQNVSSLQVGIGYRTS...</td>\n",
       "      <td>1088</td>\n",
       "      <td>None</td>\n",
       "    </tr>\n",
       "  </tbody>\n",
       "</table>\n",
       "<p>82325 rows × 3 columns</p>\n",
       "</div>"
      ],
      "text/plain": [
       "                                                     Sequence  seq_len  \\\n",
       "From                                                                     \n",
       "A0A023PXA5  MLLSELVATASSLPYTAISIHNNCRVPAARHIHHGCRYFHGPPVMH...      189   \n",
       "A0A023PXB0  MFINGFVNYPVRTPPNDLLQVVLHGFLRCPLDGSQVDSIGIGHTVH...      110   \n",
       "A0A023PXB5  MFALIISSKGKTSGFFFNSSFSSSALVGIAPLTAYSALVTPVFKSF...      102   \n",
       "A0A023PXB9  MEYVLIYNIWFFSFLQDKPCFCFVDYACSIFLLSSYCGNCLTAVAT...      121   \n",
       "A0A023PXC2  MLPLCLTFLSFFLSLGGSFKAVMTKEEADGTTEAAACLFWIFNWTV...      115   \n",
       "...                                                       ...      ...   \n",
       "X5HYT8      MASPGPAAGMQQKLEAAAAAAGGGDGAEWGRGMQKMEAVGAGGEGV...      425   \n",
       "X5JA13      MTEGIRARGPRSSSVNSVPLILDIEDFKGDFSFDALFGNLVNDLLP...      825   \n",
       "X5JB51      MTERIRARGPRSSSVNSVPLILDIEDFKGDFSFDALFGNLVNDLLP...      829   \n",
       "X5M5N0      MPDSITNGGRPPAPPSSVSSTTASTTGNFGTRRRLVNRIKKVDELH...     1850   \n",
       "X5M8U1      MLFLRLFIFTPFLILANCQARRTIKVGLLFVQNVSSLQVGIGYRTS...     1088   \n",
       "\n",
       "                                                    embedding  \n",
       "From                                                           \n",
       "A0A023PXA5  [tensor(-0.0164), tensor(-0.0954), tensor(-0.0...  \n",
       "A0A023PXB0  [tensor(0.0625), tensor(-0.1014), tensor(-0.05...  \n",
       "A0A023PXB5  [tensor(0.0625), tensor(-0.1014), tensor(-0.05...  \n",
       "A0A023PXB9  [tensor(0.0625), tensor(-0.1014), tensor(-0.05...  \n",
       "A0A023PXC2  [tensor(0.0523), tensor(-0.0484), tensor(-0.01...  \n",
       "...                                                       ...  \n",
       "X5HYT8      [tensor(0.0267), tensor(-0.0787), tensor(0.020...  \n",
       "X5JA13                                                   None  \n",
       "X5JB51                                                   None  \n",
       "X5M5N0                                                   None  \n",
       "X5M8U1                                                   None  \n",
       "\n",
       "[82325 rows x 3 columns]"
      ]
     },
     "execution_count": 32,
     "metadata": {},
     "output_type": "execute_result"
    }
   ],
   "source": [
    "test_prot.sort_index()"
   ]
  },
  {
   "cell_type": "code",
   "execution_count": null,
   "metadata": {},
   "outputs": [],
   "source": [
    "test_tensor = torch.load('../data/processed/test_protein_batch.pt')\n",
    "test_df = pd.DataFrame.from_dict(test_tensor)"
   ]
  },
  {
   "cell_type": "code",
   "execution_count": null,
   "metadata": {},
   "outputs": [],
   "source": [
    "type(test_df.loc['P01858']['embedding'])"
   ]
  }
 ],
 "metadata": {
  "kernelspec": {
   "display_name": "bio-blp",
   "language": "python",
   "name": "bio-blp"
  },
  "language_info": {
   "codemirror_mode": {
    "name": "ipython",
    "version": 3
   },
   "file_extension": ".py",
   "mimetype": "text/x-python",
   "name": "python",
   "nbconvert_exporter": "python",
   "pygments_lexer": "ipython3",
   "version": "3.8.5"
  }
 },
 "nbformat": 4,
 "nbformat_minor": 4
}
