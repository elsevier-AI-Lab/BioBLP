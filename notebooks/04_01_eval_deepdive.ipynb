{
 "cells": [
  {
   "cell_type": "code",
   "execution_count": 1,
   "id": "c6600a69",
   "metadata": {},
   "outputs": [],
   "source": [
    "%load_ext autoreload\n",
    "%autoreload 2"
   ]
  },
  {
   "cell_type": "code",
   "execution_count": 2,
   "id": "fe850ff2",
   "metadata": {},
   "outputs": [
    {
     "name": "stderr",
     "output_type": "stream",
     "text": [
      "/home/jovyan/.conda/envs/bioblp-env/lib/python3.8/site-packages/tqdm/auto.py:22: TqdmWarning: IProgress not found. Please update jupyter and ipywidgets. See https://ipywidgets.readthedocs.io/en/stable/user_install.html\n",
      "  from .autonotebook import tqdm as notebook_tqdm\n"
     ]
    }
   ],
   "source": [
    "import os.path as osp\n",
    "from pathlib import Path\n",
    "import matplotlib.pyplot as plt\n",
    "import pandas as pd\n",
    "from pykeen.evaluation import RankBasedEvaluator\n",
    "from pykeen.triples import TriplesFactory\n",
    "import torch\n",
    "from tqdm import tqdm\n",
    "import json\n",
    "import numpy as np\n",
    "from typing import List\n"
   ]
  },
  {
   "cell_type": "code",
   "execution_count": 30,
   "id": "7d457174",
   "metadata": {},
   "outputs": [],
   "source": [
    "from nb_utils.eval_utils import TEST, VALID, TRAIN, TEST_EXCLUDING_DIS, TEST_RESTRICTED_DIS\n",
    "from nb_utils.eval_utils import COL_SOURCE, COL_TARGET, COL_EDGE, COL_NODE, DEGREE, IN_DEGREE, OUT_DEGREE\n",
    "from nb_utils.eval_utils import obtain_filtered_triples, split_test_triples_conditioned_on_ent_property, split_train_ents_by_existance_of_properties\n",
    "from nb_utils.eval_utils import setup_wandb_result_tracker, run_experiment_and_log_wandb\n",
    "from nb_utils.eval_utils import make_results_dict_all_rel, make_results_dict_rel_breakdown"
   ]
  },
  {
   "cell_type": "markdown",
   "id": "ca651390",
   "metadata": {},
   "source": [
    "Change this cell to generate a report for other datasets/models:"
   ]
  },
  {
   "cell_type": "code",
   "execution_count": 4,
   "id": "d57d2de6",
   "metadata": {},
   "outputs": [],
   "source": [
    "SHARED_DATA_DIR = Path(\"/home/jovyan/workbench-shared-folder/bioblp\")\n",
    "PROJ_DATA_DIR = Path(\"../data/\")"
   ]
  },
  {
   "cell_type": "code",
   "execution_count": 5,
   "id": "064fb62f",
   "metadata": {},
   "outputs": [],
   "source": [
    "# model registry\n",
    "ROTATE = \"rotate\"\n",
    "BIOBLP_D = \"bioblp_d\"\n",
    "\n",
    "MODEL_ID_rotate = 'rotate-otxtubeb' \n",
    "MODEL_ID_bioblpd = 'bioblpd-38uz9fjs'\n",
    "\n",
    "MODELS = {\n",
    "    ROTATE: MODEL_ID_rotate,\n",
    "    BIOBLP_D: MODEL_ID_bioblpd\n",
    "}"
   ]
  },
  {
   "cell_type": "code",
   "execution_count": 6,
   "id": "41d2aa97",
   "metadata": {},
   "outputs": [
    {
     "data": {
      "text/plain": [
       "{'rotate-otxtubeb': PosixPath('/home/jovyan/workbench-shared-folder/bioblp/models/rotate-otxtubeb'),\n",
       " 'bioblpd-38uz9fjs': PosixPath('/home/jovyan/workbench-shared-folder/bioblp/models/bioblpd-38uz9fjs')}"
      ]
     },
     "execution_count": 6,
     "metadata": {},
     "output_type": "execute_result"
    }
   ],
   "source": [
    "model_registry_basedir = SHARED_DATA_DIR.joinpath(f\"models\")\n",
    "model_registry_paths = {v: model_registry_basedir.joinpath(f\"{v}\") for v in MODELS.values()}\n",
    "model_registry_paths"
   ]
  },
  {
   "cell_type": "markdown",
   "id": "a6409555",
   "metadata": {},
   "source": [
    "##  Loading model and data\n",
    "\n",
    "make a keyword based switching statement b/w rotate and bioblp-d"
   ]
  },
  {
   "cell_type": "code",
   "execution_count": 41,
   "id": "224480e0",
   "metadata": {},
   "outputs": [],
   "source": [
    "def load_kge_model(model_base_path):\n",
    "    model_path = model_base_path.joinpath(\"trained_model.pkl\")\n",
    "    device = torch.device('cuda' if torch.cuda.is_available() else 'cpu')\n",
    "    model = torch.load(model_path, map_location=torch.device(device))\n",
    "    #train = TriplesFactory.from_path_binary(model_base_path.joinpath(\"training_triples\"))\n",
    "    return model\n",
    "    "
   ]
  },
  {
   "cell_type": "code",
   "execution_count": 38,
   "id": "3196f5c3",
   "metadata": {},
   "outputs": [],
   "source": [
    "# load rotate, or bioblp-d\n",
    "MODEL_ID = MODELS.get(ROTATE)    \n",
    "model = load_kge_model(model_base_path = model_registry_paths[MODEL_ID])\n",
    "train = TriplesFactory.from_path_binary(model_registry_paths[MODEL_ID].joinpath(\"training_triples\"))"
   ]
  },
  {
   "cell_type": "code",
   "execution_count": 9,
   "id": "c607363b",
   "metadata": {},
   "outputs": [],
   "source": [
    "graph_path = PROJ_DATA_DIR.joinpath('biokgb/graph')\n",
    "valid_triples = 'biokg.links-valid.csv'\n",
    "test_triples = 'biokg.links-test.csv'\n",
    "dummy_triples = 'biokg.links-dummy.csv'"
   ]
  },
  {
   "cell_type": "markdown",
   "id": "adba3965",
   "metadata": {},
   "source": [
    "creating a dummy set of triples for unit testing purposes"
   ]
  },
  {
   "cell_type": "code",
   "execution_count": 10,
   "id": "d3505695",
   "metadata": {},
   "outputs": [],
   "source": [
    "DUMMY = 'dummy'\n",
    "dummy_triples = 'biokg.links-dummy.csv'\n",
    "dummy_df = pd.read_csv(graph_path.joinpath(test_triples), sep=\"\\t\", header=None)[:50]\n",
    "dummy_df.to_csv(graph_path.joinpath(dummy_triples), sep=\"\\t\", index=None, header=None)"
   ]
  },
  {
   "cell_type": "code",
   "execution_count": 11,
   "id": "18a6c6ed",
   "metadata": {},
   "outputs": [],
   "source": [
    "valid, test, dummy = [TriplesFactory.from_path(graph_path.joinpath(f),\n",
    "                                        entity_to_id=train.entity_to_id,\n",
    "                                        relation_to_id=train.relation_to_id)\n",
    "               for f in (valid_triples, test_triples, dummy_triples)]"
   ]
  },
  {
   "cell_type": "markdown",
   "id": "1d9cdb71",
   "metadata": {},
   "source": [
    "#### Split test triples conditional on whether they contain entities whose properties were encoded in BIOBLP-X vs not"
   ]
  },
  {
   "cell_type": "markdown",
   "id": "80c37c85",
   "metadata": {},
   "source": [
    "Create test sets: \n",
    "D; D_b, D_r; \n",
    "\n",
    "All biokgb entities surprisingly have a relation - > D_r is an empty set. -> This is because we used teh name of disease as decription in places where it was missing"
   ]
  },
  {
   "cell_type": "code",
   "execution_count": 13,
   "id": "e71ae85a",
   "metadata": {},
   "outputs": [
    {
     "name": "stdout",
     "output_type": "stream",
     "text": [
      "# Disease entities in larger biokg (pre-benchmark removal): 11347\n",
      "# Disease entities in larger biokg (pre-benchmark removal) for which we have textual descriptions: 11347\n"
     ]
    }
   ],
   "source": [
    "#disease_descr_path = PROJ_DATA_DIR.joinpath(\"biokgb/properties/biokg_meshid_to_descr_name-orig.tsv\")\n",
    "disease_descr_path = PROJ_DATA_DIR.joinpath(\"biokgb/properties/biokg_meshid_to_descr_name.tsv\")\n",
    "disease_metadata_path = PROJ_DATA_DIR.joinpath(\"biokgb/properties/biokg.metadata.disease.tsv\")\n",
    "\n",
    "# create a subset of biokg entities of type Disease \n",
    "diseases = pd.read_csv(disease_metadata_path, sep=\"\\t\", names=[\"disease\", \"rel\", \"node_type\"])\n",
    "disease_set = set(diseases.disease.values)\n",
    "print(f\"# Disease entities in larger biokg (pre-benchmark removal): {len(disease_set)}\")\n",
    "\n",
    "# create a set of disease entities for which we have text descriptions\n",
    "disease_w_desc_df = pd.read_csv(disease_descr_path, sep=\"\\t\", header=0, names=[\"disease\", \"desc\"])\n",
    "disease_desc_set = set(disease_w_desc_df.disease.values)\n",
    "print(f\"# Disease entities in larger biokg (pre-benchmark removal) for which we have textual descriptions: {len(disease_desc_set)}\")\n"
   ]
  },
  {
   "cell_type": "code",
   "execution_count": 14,
   "id": "d528f453",
   "metadata": {},
   "outputs": [
    {
     "data": {
      "text/plain": [
       "count    11347.000000\n",
       "mean       149.042743\n",
       "std        156.370558\n",
       "min          5.000000\n",
       "25%         37.000000\n",
       "50%         70.000000\n",
       "75%        231.000000\n",
       "max       1076.000000\n",
       "Name: len, dtype: float64"
      ]
     },
     "execution_count": 14,
     "metadata": {},
     "output_type": "execute_result"
    }
   ],
   "source": [
    "# Side note: all disease entities in Biokgb have decscriptions; because missing values were plugged with disease names\n",
    "disease_w_desc_df[\"len\"] = disease_w_desc_df[\"desc\"].str.len()\n",
    "disease_w_desc_df.len.describe()"
   ]
  },
  {
   "cell_type": "markdown",
   "id": "eb338dbc",
   "metadata": {},
   "source": [
    "#### define test sets"
   ]
  },
  {
   "cell_type": "code",
   "execution_count": 17,
   "id": "6a1e9410",
   "metadata": {},
   "outputs": [
    {
     "name": "stderr",
     "output_type": "stream",
     "text": [
      "Reconstructing all label-based triples. This is expensive and rarely needed.\n",
      "Reconstructing all label-based triples. This is expensive and rarely needed.\n"
     ]
    }
   ],
   "source": [
    "test_triples_incl_dis_prop, test_triples_excl_dis_prop = split_test_triples_conditioned_on_ent_property(train, disease_set, disease_desc_set, test)"
   ]
  },
  {
   "cell_type": "code",
   "execution_count": 17,
   "id": "f60f3d29",
   "metadata": {},
   "outputs": [
    {
     "data": {
      "text/plain": [
       "{'DISEASE_GENETIC_DISORDER': 3,\n",
       " 'DISEASE_PATHWAY_ASSOCIATION': 4,\n",
       " 'DRUG_DISEASE_ASSOCIATION': 7,\n",
       " 'PROTEIN_DISEASE_ASSOCIATION': 14}"
      ]
     },
     "execution_count": 17,
     "metadata": {},
     "output_type": "execute_result"
    }
   ],
   "source": [
    "# relations containing diseases include -> \n",
    "dis_assoc_rels = {rel:rel_id for rel, rel_id in train.relation_to_id.items() if 'DISEASE' in rel}\n",
    "dis_assoc_rels"
   ]
  },
  {
   "cell_type": "code",
   "execution_count": 18,
   "id": "331cf92e",
   "metadata": {},
   "outputs": [],
   "source": [
    "# equivalence of test_triples restricted on disease- assoc relationships and test_triples_incl_dis_prop above\n",
    "#test_triples_disease = test.new_with_restriction(relations=list(dis_assoc_rels.values()))"
   ]
  },
  {
   "cell_type": "code",
   "execution_count": 19,
   "id": "e5945cc5",
   "metadata": {},
   "outputs": [
    {
     "name": "stdout",
     "output_type": "stream",
     "text": [
      "# triples originally in test: 185227, valid: 185226\n",
      "# test triples with disease nodes: 17063\n",
      "# valid triples with disease nodes: 168164\n"
     ]
    }
   ],
   "source": [
    "# create set of triples\n",
    "print(f\"# triples originally in test: {test.num_triples}, valid: {valid.num_triples}\")\n",
    "#test_triples_disease = test.new_with_restriction(relations=list(dis_assoc_rels.values()))\n",
    "#valid_triples_disease = valid.new_with_restriction(relations=list(dis_assoc_rels.values()))\n",
    "print(f\"# test triples with disease nodes: {test_triples_incl_dis_prop.num_triples}\")\n",
    "print(f\"# valid triples with disease nodes: {test_triples_excl_dis_prop.num_triples}\")\n"
   ]
  },
  {
   "cell_type": "code",
   "execution_count": 18,
   "id": "a4d6e68d",
   "metadata": {},
   "outputs": [],
   "source": [
    "triples_dict = {\n",
    "    TEST: test,\n",
    "    VALID: valid,\n",
    "    TRAIN: train,\n",
    "    TEST_RESTRICTED_DIS: test_triples_incl_dis_prop,\n",
    "    TEST_EXCLUDING_DIS: test_triples_excl_dis_prop,\n",
    "    DUMMY: dummy, \n",
    "}\n",
    "\n",
    "TEST_SET_LIST = [TEST_RESTRICTED_DIS, TEST_EXCLUDING_DIS, TEST, VALID]\n"
   ]
  },
  {
   "cell_type": "markdown",
   "id": "d45b9a98",
   "metadata": {},
   "source": [
    "### sanity check (only holds for diseases - can delete)"
   ]
  },
  {
   "cell_type": "code",
   "execution_count": 27,
   "id": "60a7107f",
   "metadata": {},
   "outputs": [],
   "source": [
    "# redundant sanity check to ensure rels in the filtered test_triples_disease pertain to disease ent type\n",
    "x = test_triples_incl_dis_prop.mapped_triples.view([-1, 3, 1])\n",
    "ids = torch.ones(x.shape[0]).long()"
   ]
  },
  {
   "cell_type": "code",
   "execution_count": 30,
   "id": "390c950c",
   "metadata": {
    "collapsed": true,
    "jupyter": {
     "outputs_hidden": true
    }
   },
   "outputs": [
    {
     "name": "stdout",
     "output_type": "stream",
     "text": [
      "{'DISEASE_GENETIC_DISORDER': 3, 'DISEASE_PATHWAY_ASSOCIATION': 4, 'DRUG_DISEASE_ASSOCIATION': 7, 'PROTEIN_DISEASE_ASSOCIATION': 14}\n"
     ]
    },
    {
     "data": {
      "text/plain": [
       "(array([ 261.,    0.,  293.,    0.,    0.,    0.,    0.,    0.,    0.,\n",
       "           0., 6749.,    0.,    0.,    0.,    0.,    0.,    0.,    0.,\n",
       "           0.,    0.,    0.,    0.,    0.,    0.,    0.,    0.,    0.,\n",
       "           0.,    0., 9760.]),\n",
       " array([ 3.        ,  3.36666667,  3.73333333,  4.1       ,  4.46666667,\n",
       "         4.83333333,  5.2       ,  5.56666667,  5.93333333,  6.3       ,\n",
       "         6.66666667,  7.03333333,  7.4       ,  7.76666667,  8.13333333,\n",
       "         8.5       ,  8.86666667,  9.23333333,  9.6       ,  9.96666667,\n",
       "        10.33333333, 10.7       , 11.06666667, 11.43333333, 11.8       ,\n",
       "        12.16666667, 12.53333333, 12.9       , 13.26666667, 13.63333333,\n",
       "        14.        ]),\n",
       " <BarContainer object of 30 artists>)"
      ]
     },
     "execution_count": 30,
     "metadata": {},
     "output_type": "execute_result"
    },
    {
     "data": {
      "image/png": "[encoded data removed]",
      "text/plain": [
       "<Figure size 432x288 with 1 Axes>"
      ]
     },
     "metadata": {
      "needs_background": "light"
     },
     "output_type": "display_data"
    }
   ],
   "source": [
    "rels = np.array(x.gather(1, ids.view(-1, 1, 1)).squeeze())\n",
    "np.unique(rels, return_counts=True)\n",
    "print(dis_assoc_rels)\n",
    "plt.hist(rels, bins = 30)"
   ]
  },
  {
   "cell_type": "markdown",
   "id": "d9d47586",
   "metadata": {},
   "source": [
    "## Evaluation"
   ]
  },
  {
   "cell_type": "code",
   "execution_count": 20,
   "id": "4d878582",
   "metadata": {},
   "outputs": [],
   "source": [
    "#device = torch.device('cuda' if torch.cuda.is_available() else 'cpu')\n",
    "evaluator = RankBasedEvaluator(filtered=True)"
   ]
  },
  {
   "cell_type": "markdown",
   "id": "becf8398",
   "metadata": {},
   "source": [
    "wandb logging"
   ]
  },
  {
   "cell_type": "code",
   "execution_count": 21,
   "id": "a1c20b7c",
   "metadata": {},
   "outputs": [
    {
     "name": "stderr",
     "output_type": "stream",
     "text": [
      "Failed to detect the name of this notebook, you can set it manually with the WANDB_NOTEBOOK_NAME environment variable to enable code saving.\n",
      "\u001b[34m\u001b[1mwandb\u001b[0m: Currently logged in as: \u001b[33mpmitra01\u001b[0m (\u001b[33mdiscoverylab\u001b[0m). Use \u001b[1m`wandb login --relogin`\u001b[0m to force relogin\n"
     ]
    }
   ],
   "source": [
    "import wandb\n",
    "wandb.login()\n",
    "\n",
    "WANDB_ENTITY_DISCOVERYLAB = \"discoverylab\"\n",
    "WANDB_PROJECT_TRIAL = \"bioblp-jupyter-trial\"\n"
   ]
  },
  {
   "cell_type": "code",
   "execution_count": 22,
   "id": "dc301d61",
   "metadata": {},
   "outputs": [],
   "source": [
    "def trial_func(x=1, y=2):\n",
    "    print(x*y)\n",
    "    return {'x': x, 'y':y}\n",
    " "
   ]
  },
  {
   "cell_type": "code",
   "execution_count": 26,
   "id": "b4c2351f",
   "metadata": {},
   "outputs": [],
   "source": [
    "# test run_experiment\n",
    "#trial_func_kwargs = {\"x\": 1, \"y\": 2}\n",
    "#metrics = run_experiment('dummy-run', TEST, BIOBLP_D, trial_func, **trial_func_kwargs) "
   ]
  },
  {
   "cell_type": "markdown",
   "id": "c121ad19",
   "metadata": {},
   "source": [
    "### Test on Valid dataset"
   ]
  },
  {
   "cell_type": "markdown",
   "id": "b122faab",
   "metadata": {},
   "source": [
    "create a function that evaluates and prints out scores for test, valid, valid_dis_restructed and test_dis_restricted triples\n",
    "\n",
    "it should take a dictionary {test_set_name: test_set_triples}"
   ]
  },
  {
   "cell_type": "code",
   "execution_count": 35,
   "id": "44044f99",
   "metadata": {},
   "outputs": [],
   "source": [
    "\n",
    "def evaluate_lp_on_single_test_set(model, eval_test_set_slug, all_rels=True, split_by_rels=False):\n",
    "\n",
    "    evaluator = RankBasedEvaluator()   \n",
    "    # should we filtering more triples in the disease restricted test sets?\n",
    "    filtered_triples = obtain_filtered_triples(test_type=eval_test_set_slug, \n",
    "                                               train_triples=triples_dict.get(TRAIN),\n",
    "                                               valid_triples=triples_dict.get(VALID)\n",
    "                                              )\n",
    "    eval_result = evaluator.evaluate(model, triples_dict[eval_test_set_slug].mapped_triples,\n",
    "                                     additional_filter_triples = filtered_triples)\n",
    "    \n",
    "    results_all_rels = make_results_dict_all_rel(eval_result, \n",
    "                                         relation='All', \n",
    "                                         relation_count=triples_dict.get(eval_test_set_slug).num_triples)\n",
    "    \n",
    "    # if split_by_rels: to add logic \n",
    "        \n",
    "    return results_all_rels\n",
    "        "
   ]
  },
  {
   "cell_type": "code",
   "execution_count": 33,
   "id": "1f13480e",
   "metadata": {},
   "outputs": [],
   "source": [
    "from nb_utils.eval_utils import evaluate_lp_on_single_test_set"
   ]
  },
  {
   "cell_type": "code",
   "execution_count": 36,
   "id": "e587a99c",
   "metadata": {},
   "outputs": [
    {
     "name": "stderr",
     "output_type": "stream",
     "text": [
      "Evaluating on cuda:0: 100%|██████████| 50.0/50.0 [00:00<00:00, 63.0triple/s]\n"
     ]
    },
    {
     "data": {
      "text/plain": [
       "\"\\nresults_microavg_test_retricted_dis = run_experiment_and_log_wandb(study_name='dummy-run-eval', \\n                   test_set_slug=TEST_RESTRICTED_DIS, \\n                   model_name=MODEL_ID, \\n                   eval_func=evaluate_lp_on_single_test_set, \\n                   **func_kwargs\\n                  )\\n\""
      ]
     },
     "execution_count": 36,
     "metadata": {},
     "output_type": "execute_result"
    }
   ],
   "source": [
    "# dummy run\n",
    "dummy_func_kwargs = {\"model\": model, \"eval_test_set_slug\": DUMMY}\n",
    "dummy_results = evaluate_lp_on_single_test_set(**dummy_func_kwargs)\n",
    "'''\n",
    "results_microavg_test_retricted_dis = run_experiment_and_log_wandb(study_name='dummy-run-eval', \n",
    "                   test_set_slug=TEST_RESTRICTED_DIS, \n",
    "                   model_name=MODEL_ID, \n",
    "                   eval_func=evaluate_lp_on_single_test_set, \n",
    "                   **func_kwargs\n",
    "                  )\n",
    "'''\n"
   ]
  },
  {
   "cell_type": "code",
   "execution_count": 47,
   "id": "43b59f64",
   "metadata": {},
   "outputs": [],
   "source": [
    "from typing import List, Union\n",
    "\n",
    "def run_wandb_eval_all_rels_on_multiple_test_sets(model_id: str,\n",
    "                                               test_set_list: List[str],\n",
    "                                               eval_out_dir: Union[Path, str]):\n",
    "    micro_results_dicts = {}\n",
    "    STUDY_EVAL_MICRO_AVG = 'eval-micro-avg'\n",
    "    eval_out_dir = Path(eval_out_dir)\n",
    "    \n",
    "    model = load_kge_model(model_registry_paths.get(MODEL_ID))\n",
    "    \n",
    "    for test_set_slug in TEST_SET_LIST:\n",
    "        print(f\"Model being evaluated: {MODEL_ID}, of type {type(model)}\")\n",
    "        func_kwargs = {\"model\": model, \"eval_test_set_slug\": test_set_slug}\n",
    "\n",
    "        rel_results = run_experiment_and_log_wandb(study_name=STUDY_EVAL_MICRO_AVG, \n",
    "                       test_set_slug=test_set_slug, \n",
    "                       model_name=MODEL_ID, \n",
    "                       eval_func=evaluate_lp_on_single_test_set, \n",
    "                       **func_kwargs\n",
    "                      )\n",
    "        micro_results_dicts[test_set_slug] = rel_results\n",
    "\n",
    "    with open(eval_out_dir.joinpath(f'{STUDY_EVAL_MICRO_AVG}.json'), 'w+') as f:\n",
    "        json.dump(micro_results_dicts, f)"
   ]
  },
  {
   "cell_type": "code",
   "execution_count": null,
   "id": "cde6813e",
   "metadata": {},
   "outputs": [
    {
     "name": "stdout",
     "output_type": "stream",
     "text": [
      "Model being evaluated: rotate-otxtubeb, of type <class 'pykeen.models.unimodal.rotate.RotatE'>\n"
     ]
    }
   ],
   "source": [
    "# parameterise MODEL_NAME_SLUG as single point of entry into chain of model related parameters\n",
    "MODEL_NAME_SLUG = ROTATE\n",
    "MODEL_ID = MODELS.get(MODEL_NAME_SLUG)  \n",
    "DUMMY_TEST_LIST = [DUMMY]\n",
    "eval_out_dir = Path(f\"./metrics/{MODEL_ID}\")\n",
    "\n",
    "run_wandb_eval_all_rels_on_multiple_test_sets(model_id=MODEL_ID,\n",
    "                                             test_set_list=DUMMY_TEST_LIST,\n",
    "                                             eval_out_dir=eval_out_dir)"
   ]
  },
  {
   "cell_type": "code",
   "execution_count": null,
   "id": "f411d4bc",
   "metadata": {},
   "outputs": [],
   "source": [
    "MODEL_NAME_SLUG = BIOBLPD\n",
    "MODEL_ID = MODELS.get(MODEL_NAME_SLUG)  \n",
    "DUMMY_TEST_LIST = [DUMMY]\n",
    "eval_out_dir = Path(f\"./metrics/{MODEL_ID}\")\n",
    "\n",
    "run_wandb_eval_all_rels_on_multiple_test_sets(model_id=MODEL_ID,\n",
    "                                             test_set_list=TEST_SET_LIST,\n",
    "                                             eval_out_dir=eval_out_dir)"
   ]
  },
  {
   "cell_type": "code",
   "execution_count": 25,
   "id": "45d930a7",
   "metadata": {},
   "outputs": [
    {
     "name": "stderr",
     "output_type": "stream",
     "text": [
      "Evaluating on cuda:0: 100%|██████████| 17.1k/17.1k [02:55<00:00, 97.0triple/s]\n"
     ]
    },
    {
     "data": {
      "text/html": [
       "wandb version 0.13.10 is available!  To upgrade, please run:\n",
       " $ pip install wandb --upgrade"
      ],
      "text/plain": [
       "<IPython.core.display.HTML object>"
      ]
     },
     "metadata": {},
     "output_type": "display_data"
    },
    {
     "data": {
      "text/html": [
       "Tracking run with wandb version 0.12.20"
      ],
      "text/plain": [
       "<IPython.core.display.HTML object>"
      ]
     },
     "metadata": {},
     "output_type": "display_data"
    },
    {
     "data": {
      "text/html": [
       "Run data is saved locally in <code>/home/jovyan/BioBLP/notebooks/wandb/run-20230227_170739-k0vfcb27</code>"
      ],
      "text/plain": [
       "<IPython.core.display.HTML object>"
      ]
     },
     "metadata": {},
     "output_type": "display_data"
    },
    {
     "data": {
      "text/html": [
       "Syncing run <strong><a href=\"https://wandb.ai/discoverylab/bioblp-jupyter-trial/runs/k0vfcb27\" target=\"_blank\">unique-sky-24</a></strong> to <a href=\"https://wandb.ai/discoverylab/bioblp-jupyter-trial\" target=\"_blank\">Weights & Biases</a> (<a href=\"https://wandb.me/run\" target=\"_blank\">docs</a>)<br/>"
      ],
      "text/plain": [
       "<IPython.core.display.HTML object>"
      ]
     },
     "metadata": {},
     "output_type": "display_data"
    },
    {
     "name": "stderr",
     "output_type": "stream",
     "text": [
      "Evaluating on cuda:0: 100%|██████████| 168k/168k [29:10<00:00, 96.1triple/s] \n"
     ]
    },
    {
     "data": {
      "text/html": [
       "Finishing last run (ID:k0vfcb27) before initializing another..."
      ],
      "text/plain": [
       "<IPython.core.display.HTML object>"
      ]
     },
     "metadata": {},
     "output_type": "display_data"
    },
    {
     "data": {
      "text/html": [
       "Waiting for W&B process to finish... <strong style=\"color:green\">(success).</strong>"
      ],
      "text/plain": [
       "<IPython.core.display.HTML object>"
      ]
     },
     "metadata": {},
     "output_type": "display_data"
    },
    {
     "data": {
      "text/html": [
       "Synced <strong style=\"color:#cdcd00\">unique-sky-24</strong>: <a href=\"https://wandb.ai/discoverylab/bioblp-jupyter-trial/runs/k0vfcb27\" target=\"_blank\">https://wandb.ai/discoverylab/bioblp-jupyter-trial/runs/k0vfcb27</a><br/>Synced 6 W&B file(s), 0 media file(s), 0 artifact file(s) and 0 other file(s)"
      ],
      "text/plain": [
       "<IPython.core.display.HTML object>"
      ]
     },
     "metadata": {},
     "output_type": "display_data"
    },
    {
     "data": {
      "text/html": [
       "Find logs at: <code>./wandb/run-20230227_170739-k0vfcb27/logs</code>"
      ],
      "text/plain": [
       "<IPython.core.display.HTML object>"
      ]
     },
     "metadata": {},
     "output_type": "display_data"
    },
    {
     "data": {
      "text/html": [
       "Successfully finished last run (ID:k0vfcb27). Initializing new run:<br/>"
      ],
      "text/plain": [
       "<IPython.core.display.HTML object>"
      ]
     },
     "metadata": {},
     "output_type": "display_data"
    },
    {
     "data": {
      "text/html": [
       "wandb version 0.13.10 is available!  To upgrade, please run:\n",
       " $ pip install wandb --upgrade"
      ],
      "text/plain": [
       "<IPython.core.display.HTML object>"
      ]
     },
     "metadata": {},
     "output_type": "display_data"
    },
    {
     "data": {
      "text/html": [
       "Tracking run with wandb version 0.12.20"
      ],
      "text/plain": [
       "<IPython.core.display.HTML object>"
      ]
     },
     "metadata": {},
     "output_type": "display_data"
    },
    {
     "data": {
      "text/html": [
       "Run data is saved locally in <code>/home/jovyan/BioBLP/notebooks/wandb/run-20230227_173743-2bv96meh</code>"
      ],
      "text/plain": [
       "<IPython.core.display.HTML object>"
      ]
     },
     "metadata": {},
     "output_type": "display_data"
    },
    {
     "data": {
      "text/html": [
       "Syncing run <strong><a href=\"https://wandb.ai/discoverylab/bioblp-jupyter-trial/runs/2bv96meh\" target=\"_blank\">solar-firebrand-25</a></strong> to <a href=\"https://wandb.ai/discoverylab/bioblp-jupyter-trial\" target=\"_blank\">Weights & Biases</a> (<a href=\"https://wandb.me/run\" target=\"_blank\">docs</a>)<br/>"
      ],
      "text/plain": [
       "<IPython.core.display.HTML object>"
      ]
     },
     "metadata": {},
     "output_type": "display_data"
    },
    {
     "name": "stderr",
     "output_type": "stream",
     "text": [
      "Evaluating on cuda:0: 100%|██████████| 185k/185k [32:09<00:00, 96.0triple/s] \n"
     ]
    },
    {
     "data": {
      "text/html": [
       "Finishing last run (ID:2bv96meh) before initializing another..."
      ],
      "text/plain": [
       "<IPython.core.display.HTML object>"
      ]
     },
     "metadata": {},
     "output_type": "display_data"
    },
    {
     "data": {
      "text/html": [
       "Waiting for W&B process to finish... <strong style=\"color:green\">(success).</strong>"
      ],
      "text/plain": [
       "<IPython.core.display.HTML object>"
      ]
     },
     "metadata": {},
     "output_type": "display_data"
    },
    {
     "data": {
      "text/html": [
       "Synced <strong style=\"color:#cdcd00\">solar-firebrand-25</strong>: <a href=\"https://wandb.ai/discoverylab/bioblp-jupyter-trial/runs/2bv96meh\" target=\"_blank\">https://wandb.ai/discoverylab/bioblp-jupyter-trial/runs/2bv96meh</a><br/>Synced 6 W&B file(s), 0 media file(s), 0 artifact file(s) and 0 other file(s)"
      ],
      "text/plain": [
       "<IPython.core.display.HTML object>"
      ]
     },
     "metadata": {},
     "output_type": "display_data"
    },
    {
     "data": {
      "text/html": [
       "Find logs at: <code>./wandb/run-20230227_173743-2bv96meh/logs</code>"
      ],
      "text/plain": [
       "<IPython.core.display.HTML object>"
      ]
     },
     "metadata": {},
     "output_type": "display_data"
    },
    {
     "data": {
      "text/html": [
       "Successfully finished last run (ID:2bv96meh). Initializing new run:<br/>"
      ],
      "text/plain": [
       "<IPython.core.display.HTML object>"
      ]
     },
     "metadata": {},
     "output_type": "display_data"
    },
    {
     "data": {
      "text/html": [
       "wandb version 0.13.10 is available!  To upgrade, please run:\n",
       " $ pip install wandb --upgrade"
      ],
      "text/plain": [
       "<IPython.core.display.HTML object>"
      ]
     },
     "metadata": {},
     "output_type": "display_data"
    },
    {
     "data": {
      "text/html": [
       "Tracking run with wandb version 0.12.20"
      ],
      "text/plain": [
       "<IPython.core.display.HTML object>"
      ]
     },
     "metadata": {},
     "output_type": "display_data"
    },
    {
     "data": {
      "text/html": [
       "Run data is saved locally in <code>/home/jovyan/BioBLP/notebooks/wandb/run-20230227_181052-22rj8yfq</code>"
      ],
      "text/plain": [
       "<IPython.core.display.HTML object>"
      ]
     },
     "metadata": {},
     "output_type": "display_data"
    },
    {
     "data": {
      "text/html": [
       "Syncing run <strong><a href=\"https://wandb.ai/discoverylab/bioblp-jupyter-trial/runs/22rj8yfq\" target=\"_blank\">iconic-shadow-26</a></strong> to <a href=\"https://wandb.ai/discoverylab/bioblp-jupyter-trial\" target=\"_blank\">Weights & Biases</a> (<a href=\"https://wandb.me/run\" target=\"_blank\">docs</a>)<br/>"
      ],
      "text/plain": [
       "<IPython.core.display.HTML object>"
      ]
     },
     "metadata": {},
     "output_type": "display_data"
    },
    {
     "name": "stderr",
     "output_type": "stream",
     "text": [
      "Evaluating on cuda:0: 100%|██████████| 185k/185k [31:44<00:00, 97.3triple/s] \n"
     ]
    },
    {
     "data": {
      "text/html": [
       "Finishing last run (ID:22rj8yfq) before initializing another..."
      ],
      "text/plain": [
       "<IPython.core.display.HTML object>"
      ]
     },
     "metadata": {},
     "output_type": "display_data"
    },
    {
     "data": {
      "text/html": [
       "Waiting for W&B process to finish... <strong style=\"color:green\">(success).</strong>"
      ],
      "text/plain": [
       "<IPython.core.display.HTML object>"
      ]
     },
     "metadata": {},
     "output_type": "display_data"
    },
    {
     "data": {
      "text/html": [
       "Synced <strong style=\"color:#cdcd00\">iconic-shadow-26</strong>: <a href=\"https://wandb.ai/discoverylab/bioblp-jupyter-trial/runs/22rj8yfq\" target=\"_blank\">https://wandb.ai/discoverylab/bioblp-jupyter-trial/runs/22rj8yfq</a><br/>Synced 6 W&B file(s), 0 media file(s), 0 artifact file(s) and 0 other file(s)"
      ],
      "text/plain": [
       "<IPython.core.display.HTML object>"
      ]
     },
     "metadata": {},
     "output_type": "display_data"
    },
    {
     "data": {
      "text/html": [
       "Find logs at: <code>./wandb/run-20230227_181052-22rj8yfq/logs</code>"
      ],
      "text/plain": [
       "<IPython.core.display.HTML object>"
      ]
     },
     "metadata": {},
     "output_type": "display_data"
    },
    {
     "data": {
      "text/html": [
       "Successfully finished last run (ID:22rj8yfq). Initializing new run:<br/>"
      ],
      "text/plain": [
       "<IPython.core.display.HTML object>"
      ]
     },
     "metadata": {},
     "output_type": "display_data"
    },
    {
     "data": {
      "text/html": [
       "wandb version 0.13.10 is available!  To upgrade, please run:\n",
       " $ pip install wandb --upgrade"
      ],
      "text/plain": [
       "<IPython.core.display.HTML object>"
      ]
     },
     "metadata": {},
     "output_type": "display_data"
    },
    {
     "data": {
      "text/html": [
       "Tracking run with wandb version 0.12.20"
      ],
      "text/plain": [
       "<IPython.core.display.HTML object>"
      ]
     },
     "metadata": {},
     "output_type": "display_data"
    },
    {
     "data": {
      "text/html": [
       "Run data is saved locally in <code>/home/jovyan/BioBLP/notebooks/wandb/run-20230227_184333-gnqaoz0t</code>"
      ],
      "text/plain": [
       "<IPython.core.display.HTML object>"
      ]
     },
     "metadata": {},
     "output_type": "display_data"
    },
    {
     "data": {
      "text/html": [
       "Syncing run <strong><a href=\"https://wandb.ai/discoverylab/bioblp-jupyter-trial/runs/gnqaoz0t\" target=\"_blank\">golden-energy-27</a></strong> to <a href=\"https://wandb.ai/discoverylab/bioblp-jupyter-trial\" target=\"_blank\">Weights & Biases</a> (<a href=\"https://wandb.me/run\" target=\"_blank\">docs</a>)<br/>"
      ],
      "text/plain": [
       "<IPython.core.display.HTML object>"
      ]
     },
     "metadata": {},
     "output_type": "display_data"
    }
   ],
   "source": [
    "model_name = MODEL_ID\n",
    "for test_set_slug in TEST_SET_LIST:\n",
    "    func_kwargs = {\"model\": model, \"eval_test_set_slug\": test_set_slug}\n",
    "\n",
    "    run_experiment(study_name='eval-micro-avg', \n",
    "                   test_set_slug=test_set_slug, \n",
    "                   model_name=model_name, \n",
    "                   eval_func=evaluate_lp_on_single_test_set, \n",
    "                   **func_kwargs\n",
    "                  )"
   ]
  },
  {
   "cell_type": "markdown",
   "id": "c569c8b0",
   "metadata": {},
   "source": [
    "## Evaluating over specific. relation types"
   ]
  },
  {
   "cell_type": "code",
   "execution_count": 28,
   "id": "e5669e2a",
   "metadata": {},
   "outputs": [],
   "source": [
    "def eval_breakdown_by_rel_type(eval_test_set_slug, model):\n",
    "    result_dicts =[]\n",
    "    test_triples = triples_dict[eval_test_set_slug]\n",
    "    additional_filter_triples = obtain_filtered_triples(test_type=eval_test_set_slug, \n",
    "                                                        train_triples=triples_dict[TRAIN],\n",
    "                                                        valid_triples=triples_dict[VALID]\n",
    "                                                       )\n",
    "    for relation in tqdm(list(triples_dict[TRAIN].relation_to_id)[:], desc='Evaluating over each relation'):\n",
    "        triples_subset = test_triples.new_with_restriction(relations=[relation])\n",
    "        if triples_subset.num_triples > 0:\n",
    "            subset_result = evaluator.evaluate(model,\n",
    "                                               triples_subset.mapped_triples, \n",
    "                                               additional_filter_triples=additional_filter_triples,\n",
    "                                               use_tqdm=False)\n",
    "            result_dicts.append({'results': subset_result, 'relation': relation, 'count': triples_subset.num_triples})\n",
    "    results_df = pd.DataFrame([make_results_dict_all_rel(d['results'], d['relation'], d['count']) for d in result_dicts])\n",
    "    rel_results_dict = results_df.set_index('Relation').transpose().to_dict()\n",
    "    return rel_results_dict"
   ]
  },
  {
   "cell_type": "code",
   "execution_count": 30,
   "id": "c4dbec0b",
   "metadata": {},
   "outputs": [
    {
     "data": {
      "text/plain": [
       "True"
      ]
     },
     "execution_count": 30,
     "metadata": {},
     "output_type": "execute_result"
    }
   ],
   "source": [
    "out_dir = Path(f'metrics/{MODEL_ID}')\n",
    "out_dir.exists()"
   ]
  },
  {
   "cell_type": "code",
   "execution_count": null,
   "id": "26659410",
   "metadata": {
    "collapsed": true,
    "jupyter": {
     "outputs_hidden": true
    }
   },
   "outputs": [
    {
     "name": "stderr",
     "output_type": "stream",
     "text": [
      "Evaluating over each relation: 100%|██████████| 17/17 [05:18<00:00, 18.76s/it]\n"
     ]
    },
    {
     "name": "stdout",
     "output_type": "stream",
     "text": [
      "                      Relation  Count  arithmetic_mean_rank  \\\n",
      "0     DISEASE_GENETIC_DISORDER    261            758.760559   \n",
      "1  DISEASE_PATHWAY_ASSOCIATION    293            841.361755   \n",
      "2     DRUG_DISEASE_ASSOCIATION   6749            417.342316   \n",
      "3  PROTEIN_DISEASE_ASSOCIATION   9760           2088.663818   \n",
      "\n",
      "   adjusted_arithmetic_mean_rank  inverse_harmonic_mean_rank  hits_at_1  \\\n",
      "0                       0.014313                    0.934612   0.927203   \n",
      "1                       0.015869                    0.331824   0.261092   \n",
      "2                       0.007879                    0.092318   0.043932   \n",
      "3                       0.039461                    0.214140   0.157428   \n",
      "\n",
      "   hits_at_3  hits_at_5  hits_at_10  \n",
      "0   0.938697   0.944444    0.946360  \n",
      "1   0.361775   0.402730    0.452218  \n",
      "2   0.092236   0.123870    0.181731  \n",
      "3   0.223361   0.264498    0.325973  \n"
     ]
    },
    {
     "data": {
      "text/html": [
       "wandb version 0.13.10 is available!  To upgrade, please run:\n",
       " $ pip install wandb --upgrade"
      ],
      "text/plain": [
       "<IPython.core.display.HTML object>"
      ]
     },
     "metadata": {},
     "output_type": "display_data"
    },
    {
     "data": {
      "text/html": [
       "Tracking run with wandb version 0.12.20"
      ],
      "text/plain": [
       "<IPython.core.display.HTML object>"
      ]
     },
     "metadata": {},
     "output_type": "display_data"
    },
    {
     "data": {
      "text/html": [
       "Run data is saved locally in <code>/home/jovyan/BioBLP/notebooks/wandb/run-20230228_072611-3spttj0m</code>"
      ],
      "text/plain": [
       "<IPython.core.display.HTML object>"
      ]
     },
     "metadata": {},
     "output_type": "display_data"
    },
    {
     "data": {
      "text/html": [
       "Syncing run <strong><a href=\"https://wandb.ai/discoverylab/bioblp-jupyter-trial/runs/3spttj0m\" target=\"_blank\">noble-glitter-32</a></strong> to <a href=\"https://wandb.ai/discoverylab/bioblp-jupyter-trial\" target=\"_blank\">Weights & Biases</a> (<a href=\"https://wandb.me/run\" target=\"_blank\">docs</a>)<br/>"
      ],
      "text/plain": [
       "<IPython.core.display.HTML object>"
      ]
     },
     "metadata": {},
     "output_type": "display_data"
    },
    {
     "name": "stderr",
     "output_type": "stream",
     "text": [
      "Evaluating over each relation: 100%|██████████| 17/17 [34:50<00:00, 122.98s/it] "
     ]
    },
    {
     "name": "stdout",
     "output_type": "stream",
     "text": [
      "                       Relation   Count  arithmetic_mean_rank  \\\n",
      "0            COMPLEX_IN_PATHWAY     878            171.463547   \n",
      "1     COMPLEX_TOP_LEVEL_PATHWAY    1649           2711.817383   \n",
      "2                           DDI  120830             10.219083   \n",
      "3                           DPI     527            791.814026   \n",
      "4                  DRUG_CARRIER      13             51.884617   \n",
      "5                   DRUG_ENZYME      67            105.402985   \n",
      "6      DRUG_PATHWAY_ASSOCIATION     426            215.424881   \n",
      "7                   DRUG_TARGET     745            236.403351   \n",
      "8              DRUG_TRANSPORTER      35            914.185730   \n",
      "9             MEMBER_OF_COMPLEX    8127            110.822472   \n",
      "10                          PPI   10669           5289.458496   \n",
      "11  PROTEIN_PATHWAY_ASSOCIATION   23949           2174.163818   \n",
      "12     RELATED_GENETIC_DISORDER     249          19583.873047   \n",
      "\n",
      "    adjusted_arithmetic_mean_rank  inverse_harmonic_mean_rank  hits_at_1  \\\n",
      "0                        0.003234                    0.509035   0.399772   \n",
      "1                        0.051486                    0.403790   0.344148   \n",
      "2                        0.000194                    0.653410   0.531131   \n",
      "3                        0.014935                    0.620911   0.559772   \n",
      "4                        0.000979                    0.669095   0.615385   \n",
      "5                        0.001988                    0.463834   0.365672   \n",
      "6                        0.004063                    0.489262   0.402582   \n",
      "7                        0.004459                    0.830129   0.784564   \n",
      "8                        0.017242                    0.455658   0.342857   \n",
      "9                        0.002091                    0.767657   0.704688   \n",
      "10                       0.099787                    0.161406   0.102306   \n",
      "11                       0.041028                    0.466593   0.393816   \n",
      "12                       0.369340                    0.022357   0.014056   \n",
      "\n",
      "    hits_at_3  hits_at_5  hits_at_10  \n",
      "0    0.562642   0.638952    0.726651  \n",
      "1    0.441783   0.475440    0.506671  \n",
      "2    0.736047   0.806683    0.877592  \n",
      "3    0.650854   0.688805    0.731499  \n",
      "4    0.692308   0.730769    0.730769  \n",
      "5    0.514925   0.552239    0.656716  \n",
      "6    0.521127   0.576291    0.667840  \n",
      "7    0.861745   0.882550    0.905369  \n",
      "8    0.514286   0.585714    0.685714  \n",
      "9    0.807617   0.844715    0.882798  \n",
      "10   0.168901   0.212625    0.286390  \n",
      "11   0.498225   0.546641    0.607458  \n",
      "12   0.026104   0.026104    0.032129  \n"
     ]
    },
    {
     "name": "stderr",
     "output_type": "stream",
     "text": [
      "\n"
     ]
    },
    {
     "data": {
      "text/html": [
       "Finishing last run (ID:3spttj0m) before initializing another..."
      ],
      "text/plain": [
       "<IPython.core.display.HTML object>"
      ]
     },
     "metadata": {},
     "output_type": "display_data"
    },
    {
     "data": {
      "text/html": [
       "Waiting for W&B process to finish... <strong style=\"color:green\">(success).</strong>"
      ],
      "text/plain": [
       "<IPython.core.display.HTML object>"
      ]
     },
     "metadata": {},
     "output_type": "display_data"
    },
    {
     "data": {
      "text/html": [
       "Synced <strong style=\"color:#cdcd00\">noble-glitter-32</strong>: <a href=\"https://wandb.ai/discoverylab/bioblp-jupyter-trial/runs/3spttj0m\" target=\"_blank\">https://wandb.ai/discoverylab/bioblp-jupyter-trial/runs/3spttj0m</a><br/>Synced 6 W&B file(s), 0 media file(s), 0 artifact file(s) and 0 other file(s)"
      ],
      "text/plain": [
       "<IPython.core.display.HTML object>"
      ]
     },
     "metadata": {},
     "output_type": "display_data"
    },
    {
     "data": {
      "text/html": [
       "Find logs at: <code>./wandb/run-20230228_072611-3spttj0m/logs</code>"
      ],
      "text/plain": [
       "<IPython.core.display.HTML object>"
      ]
     },
     "metadata": {},
     "output_type": "display_data"
    },
    {
     "data": {
      "text/html": [
       "Successfully finished last run (ID:3spttj0m). Initializing new run:<br/>"
      ],
      "text/plain": [
       "<IPython.core.display.HTML object>"
      ]
     },
     "metadata": {},
     "output_type": "display_data"
    },
    {
     "data": {
      "text/html": [
       "wandb version 0.13.10 is available!  To upgrade, please run:\n",
       " $ pip install wandb --upgrade"
      ],
      "text/plain": [
       "<IPython.core.display.HTML object>"
      ]
     },
     "metadata": {},
     "output_type": "display_data"
    },
    {
     "data": {
      "text/html": [
       "Tracking run with wandb version 0.12.20"
      ],
      "text/plain": [
       "<IPython.core.display.HTML object>"
      ]
     },
     "metadata": {},
     "output_type": "display_data"
    },
    {
     "data": {
      "text/html": [
       "Run data is saved locally in <code>/home/jovyan/BioBLP/notebooks/wandb/run-20230228_080113-3r5g49i1</code>"
      ],
      "text/plain": [
       "<IPython.core.display.HTML object>"
      ]
     },
     "metadata": {},
     "output_type": "display_data"
    },
    {
     "data": {
      "text/html": [
       "Syncing run <strong><a href=\"https://wandb.ai/discoverylab/bioblp-jupyter-trial/runs/3r5g49i1\" target=\"_blank\">devoted-dust-33</a></strong> to <a href=\"https://wandb.ai/discoverylab/bioblp-jupyter-trial\" target=\"_blank\">Weights & Biases</a> (<a href=\"https://wandb.me/run\" target=\"_blank\">docs</a>)<br/>"
      ],
      "text/plain": [
       "<IPython.core.display.HTML object>"
      ]
     },
     "metadata": {},
     "output_type": "display_data"
    },
    {
     "name": "stderr",
     "output_type": "stream",
     "text": [
      "Evaluating over each relation:  88%|████████▊ | 15/17 [35:08<03:31, 105.75s/it] "
     ]
    }
   ],
   "source": [
    "model_name = MODEL_ID\n",
    "STUDY_EVAL_REL_BREAKDOWN = 'eval-rel-breakdown'\n",
    "out_dir = Path(f'metrics/{MODEL_ID}')\n",
    "rel_results_dicts = {}\n",
    "for test_set_slug in TEST_SET_LIST:\n",
    "    func_kwargs = {\"model\": model,\n",
    "                  \"eval_test_set_slug\": test_set_slug}\n",
    "\n",
    "    rel_results = run_experiment(study_name=STUDY_EVAL_REL_BREAKDOWN, \n",
    "                   test_set_slug=test_set_slug, \n",
    "                   model_name=model_name, \n",
    "                   eval_func=eval_breakdown_by_rel_type, \n",
    "                   **func_kwargs\n",
    "                  )\n",
    "    rel_results_dicts[test_set_slug] = rel_results\n",
    "    \n",
    "with open(out_dir.joinpath(f'{STUDY_EVAL_REL_BREAKDOWN}.json'), 'w+') as f:\n",
    "    json.dump(rel_results_dicts, f)\n"
   ]
  },
  {
   "cell_type": "code",
   "execution_count": null,
   "id": "627a4568",
   "metadata": {
    "collapsed": true,
    "jupyter": {
     "outputs_hidden": true
    }
   },
   "outputs": [
    {
     "name": "stderr",
     "output_type": "stream",
     "text": [
      "Evaluating over each relation: 100%|██████████| 17/17 [05:34<00:00, 19.70s/it]\n"
     ]
    },
    {
     "name": "stdout",
     "output_type": "stream",
     "text": [
      "                      Relation  Count  arithmetic_mean_rank  \\\n",
      "0     DISEASE_GENETIC_DISORDER    261           2200.370605   \n",
      "1  DISEASE_PATHWAY_ASSOCIATION    293           3717.679932   \n",
      "2     DRUG_DISEASE_ASSOCIATION   6749           1575.149048   \n",
      "3  PROTEIN_DISEASE_ASSOCIATION   9760           5188.562500   \n",
      "\n",
      "   adjusted_arithmetic_mean_rank  inverse_harmonic_mean_rank  hits_at_1  \\\n",
      "0                       0.041507                    0.632742   0.590038   \n",
      "1                       0.070119                    0.116742   0.078498   \n",
      "2                       0.029739                    0.025802   0.009409   \n",
      "3                       0.098028                    0.064648   0.047490   \n",
      "\n",
      "   hits_at_3  hits_at_5  hits_at_10  \n",
      "0   0.647510   0.683908    0.724138  \n",
      "1   0.141638   0.162116    0.180887  \n",
      "2   0.022300   0.031338    0.052008  \n",
      "3   0.066393   0.078279    0.095236  \n"
     ]
    },
    {
     "data": {
      "text/html": [
       "Finishing last run (ID:gnqaoz0t) before initializing another..."
      ],
      "text/plain": [
       "<IPython.core.display.HTML object>"
      ]
     },
     "metadata": {},
     "output_type": "display_data"
    },
    {
     "data": {
      "text/html": [
       "Waiting for W&B process to finish... <strong style=\"color:green\">(success).</strong>"
      ],
      "text/plain": [
       "<IPython.core.display.HTML object>"
      ]
     },
     "metadata": {},
     "output_type": "display_data"
    },
    {
     "data": {
      "text/html": [
       "Synced <strong style=\"color:#cdcd00\">golden-energy-27</strong>: <a href=\"https://wandb.ai/discoverylab/bioblp-jupyter-trial/runs/gnqaoz0t\" target=\"_blank\">https://wandb.ai/discoverylab/bioblp-jupyter-trial/runs/gnqaoz0t</a><br/>Synced 6 W&B file(s), 0 media file(s), 0 artifact file(s) and 0 other file(s)"
      ],
      "text/plain": [
       "<IPython.core.display.HTML object>"
      ]
     },
     "metadata": {},
     "output_type": "display_data"
    },
    {
     "data": {
      "text/html": [
       "Find logs at: <code>./wandb/run-20230227_184333-gnqaoz0t/logs</code>"
      ],
      "text/plain": [
       "<IPython.core.display.HTML object>"
      ]
     },
     "metadata": {},
     "output_type": "display_data"
    },
    {
     "data": {
      "text/html": [
       "Successfully finished last run (ID:gnqaoz0t). Initializing new run:<br/>"
      ],
      "text/plain": [
       "<IPython.core.display.HTML object>"
      ]
     },
     "metadata": {},
     "output_type": "display_data"
    },
    {
     "data": {
      "text/html": [
       "wandb version 0.13.10 is available!  To upgrade, please run:\n",
       " $ pip install wandb --upgrade"
      ],
      "text/plain": [
       "<IPython.core.display.HTML object>"
      ]
     },
     "metadata": {},
     "output_type": "display_data"
    },
    {
     "data": {
      "text/html": [
       "Tracking run with wandb version 0.12.20"
      ],
      "text/plain": [
       "<IPython.core.display.HTML object>"
      ]
     },
     "metadata": {},
     "output_type": "display_data"
    },
    {
     "data": {
      "text/html": [
       "Run data is saved locally in <code>/home/jovyan/BioBLP/notebooks/wandb/run-20230227_203820-cs15c1ux</code>"
      ],
      "text/plain": [
       "<IPython.core.display.HTML object>"
      ]
     },
     "metadata": {},
     "output_type": "display_data"
    },
    {
     "data": {
      "text/html": [
       "Syncing run <strong><a href=\"https://wandb.ai/discoverylab/bioblp-jupyter-trial/runs/cs15c1ux\" target=\"_blank\">charmed-pyramid-28</a></strong> to <a href=\"https://wandb.ai/discoverylab/bioblp-jupyter-trial\" target=\"_blank\">Weights & Biases</a> (<a href=\"https://wandb.me/run\" target=\"_blank\">docs</a>)<br/>"
      ],
      "text/plain": [
       "<IPython.core.display.HTML object>"
      ]
     },
     "metadata": {},
     "output_type": "display_data"
    },
    {
     "name": "stderr",
     "output_type": "stream",
     "text": [
      "Evaluating over each relation: 100%|██████████| 17/17 [36:11<00:00, 127.76s/it] "
     ]
    },
    {
     "name": "stdout",
     "output_type": "stream",
     "text": [
      "                       Relation   Count  arithmetic_mean_rank  \\\n",
      "0            COMPLEX_IN_PATHWAY     878           1644.980103   \n",
      "1     COMPLEX_TOP_LEVEL_PATHWAY    1649           6719.250000   \n",
      "2                           DDI  120830             24.388937   \n",
      "3                           DPI     527           2276.004150   \n",
      "4                  DRUG_CARRIER      13           2213.961426   \n",
      "5                   DRUG_ENZYME      67            962.276123   \n",
      "6      DRUG_PATHWAY_ASSOCIATION     426           1467.138550   \n",
      "7                   DRUG_TARGET     745            825.566101   \n",
      "8              DRUG_TRANSPORTER      35           2602.728516   \n",
      "9             MEMBER_OF_COMPLEX    8127            714.172363   \n",
      "10                          PPI   10669           8169.080566   \n",
      "11  PROTEIN_PATHWAY_ASSOCIATION   23949           4110.860840   \n",
      "12     RELATED_GENETIC_DISORDER     249          30198.205078   \n",
      "\n",
      "    adjusted_arithmetic_mean_rank  inverse_harmonic_mean_rank  hits_at_1  \\\n",
      "0                        0.031029                    0.364380   0.293850   \n",
      "1                        0.127571                    0.085924   0.075804   \n",
      "2                        0.000463                    0.614544   0.493267   \n",
      "3                        0.042930                    0.403770   0.366224   \n",
      "4                        0.041759                    0.315899   0.269231   \n",
      "5                        0.018153                    0.361216   0.298507   \n",
      "6                        0.027673                    0.352152   0.292254   \n",
      "7                        0.015571                    0.646167   0.607383   \n",
      "8                        0.049090                    0.281956   0.228571   \n",
      "9                        0.013475                    0.706428   0.663529   \n",
      "10                       0.154112                    0.133575   0.099728   \n",
      "11                       0.077575                    0.344750   0.304794   \n",
      "12                       0.569521                    0.001085   0.000000   \n",
      "\n",
      "    hits_at_3  hits_at_5  hits_at_10  \n",
      "0    0.399203   0.444191    0.497153  \n",
      "1    0.088842   0.095512    0.102486  \n",
      "2    0.693147   0.762182    0.835898  \n",
      "3    0.415560   0.444023    0.478178  \n",
      "4    0.346154   0.384615    0.384615  \n",
      "5    0.380597   0.425373    0.485075  \n",
      "6    0.390845   0.419014    0.448357  \n",
      "7    0.667114   0.687248    0.715436  \n",
      "8    0.314286   0.342857    0.385714  \n",
      "9    0.735388   0.760428    0.781777  \n",
      "10   0.146968   0.171712    0.201518  \n",
      "11   0.363606   0.388054    0.420832  \n",
      "12   0.002008   0.002008    0.002008  \n"
     ]
    },
    {
     "name": "stderr",
     "output_type": "stream",
     "text": [
      "\n"
     ]
    },
    {
     "data": {
      "text/html": [
       "Finishing last run (ID:cs15c1ux) before initializing another..."
      ],
      "text/plain": [
       "<IPython.core.display.HTML object>"
      ]
     },
     "metadata": {},
     "output_type": "display_data"
    },
    {
     "data": {
      "text/html": [
       "Waiting for W&B process to finish... <strong style=\"color:green\">(success).</strong>"
      ],
      "text/plain": [
       "<IPython.core.display.HTML object>"
      ]
     },
     "metadata": {},
     "output_type": "display_data"
    },
    {
     "data": {
      "text/html": [
       "Synced <strong style=\"color:#cdcd00\">charmed-pyramid-28</strong>: <a href=\"https://wandb.ai/discoverylab/bioblp-jupyter-trial/runs/cs15c1ux\" target=\"_blank\">https://wandb.ai/discoverylab/bioblp-jupyter-trial/runs/cs15c1ux</a><br/>Synced 6 W&B file(s), 0 media file(s), 0 artifact file(s) and 0 other file(s)"
      ],
      "text/plain": [
       "<IPython.core.display.HTML object>"
      ]
     },
     "metadata": {},
     "output_type": "display_data"
    },
    {
     "data": {
      "text/html": [
       "Find logs at: <code>./wandb/run-20230227_203820-cs15c1ux/logs</code>"
      ],
      "text/plain": [
       "<IPython.core.display.HTML object>"
      ]
     },
     "metadata": {},
     "output_type": "display_data"
    },
    {
     "data": {
      "text/html": [
       "Successfully finished last run (ID:cs15c1ux). Initializing new run:<br/>"
      ],
      "text/plain": [
       "<IPython.core.display.HTML object>"
      ]
     },
     "metadata": {},
     "output_type": "display_data"
    },
    {
     "data": {
      "text/html": [
       "wandb version 0.13.10 is available!  To upgrade, please run:\n",
       " $ pip install wandb --upgrade"
      ],
      "text/plain": [
       "<IPython.core.display.HTML object>"
      ]
     },
     "metadata": {},
     "output_type": "display_data"
    },
    {
     "data": {
      "text/html": [
       "Tracking run with wandb version 0.12.20"
      ],
      "text/plain": [
       "<IPython.core.display.HTML object>"
      ]
     },
     "metadata": {},
     "output_type": "display_data"
    },
    {
     "data": {
      "text/html": [
       "Run data is saved locally in <code>/home/jovyan/BioBLP/notebooks/wandb/run-20230227_211449-3m6h9pvc</code>"
      ],
      "text/plain": [
       "<IPython.core.display.HTML object>"
      ]
     },
     "metadata": {},
     "output_type": "display_data"
    },
    {
     "data": {
      "text/html": [
       "Syncing run <strong><a href=\"https://wandb.ai/discoverylab/bioblp-jupyter-trial/runs/3m6h9pvc\" target=\"_blank\">genial-capybara-29</a></strong> to <a href=\"https://wandb.ai/discoverylab/bioblp-jupyter-trial\" target=\"_blank\">Weights & Biases</a> (<a href=\"https://wandb.me/run\" target=\"_blank\">docs</a>)<br/>"
      ],
      "text/plain": [
       "<IPython.core.display.HTML object>"
      ]
     },
     "metadata": {},
     "output_type": "display_data"
    },
    {
     "name": "stderr",
     "output_type": "stream",
     "text": [
      "Evaluating over each relation:  12%|█▏        | 2/17 [01:43<13:07, 52.51s/it]"
     ]
    }
   ],
   "source": [
    "model_name = MODEL_ID\n",
    "STUDY_EVAL_REL_BREAKDOWN = 'eval-rel-breakdown'\n",
    "out_dir = Path(f'metrics/{MODEL_ID}')\n",
    "rel_results_dicts = {}\n",
    "for test_set_slug in TEST_SET_LIST:\n",
    "    func_kwargs = {\"model\": model,\n",
    "                  \"eval_test_set_slug\": test_set_slug}\n",
    "\n",
    "    rel_results = run_experiment(study_name=STUDY_EVAL_REL_BREAKDOWN, \n",
    "                   test_set_slug=test_set_slug, \n",
    "                   model_name=model_name, \n",
    "                   eval_func=eval_breakdown_by_rel_type, \n",
    "                   **func_kwargs\n",
    "                  )\n",
    "    rel_results_dicts[test_set_slug] = rel_results\n",
    "    \n",
    "with open(out_dir.joinpath(f'{STUDY_EVAL_REL_BREAKDOWN}.json'), 'w+') as f:\n",
    "    json.dump(rel_results_dicts, f)\n"
   ]
  },
  {
   "cell_type": "code",
   "execution_count": null,
   "id": "0833901f",
   "metadata": {},
   "outputs": [],
   "source": []
  },
  {
   "cell_type": "code",
   "execution_count": null,
   "id": "444bf84c",
   "metadata": {},
   "outputs": [],
   "source": []
  },
  {
   "cell_type": "code",
   "execution_count": null,
   "id": "60a69599",
   "metadata": {},
   "outputs": [],
   "source": []
  },
  {
   "cell_type": "markdown",
   "id": "0705d0f1",
   "metadata": {},
   "source": [
    "## analyse effect of node degree?\n",
    "1. compute a degree table for entities in train"
   ]
  },
  {
   "cell_type": "code",
   "execution_count": null,
   "id": "5ea750a2",
   "metadata": {},
   "outputs": [],
   "source": [
    "training_df = pd.DataFrame(train.triples, columns=[COL_SOURCE, COL_EDGE, COL_TARGET])\n",
    "training_df[:2]"
   ]
  },
  {
   "cell_type": "code",
   "execution_count": null,
   "id": "be00c9b4",
   "metadata": {
    "scrolled": true
   },
   "outputs": [],
   "source": [
    "# not a nec step, but to ease computation, let's restrict the triples to disease node containg triples\n",
    "training_df = training_df[training_df[COL_EDGE].isin(list(dis_assoc_rels.keys()))]\n",
    "training_df.rel.value_counts()"
   ]
  },
  {
   "cell_type": "code",
   "execution_count": null,
   "id": "0589f8ec",
   "metadata": {},
   "outputs": [],
   "source": [
    "def compute_node_degrees(triple_df):\n",
    "    out_degree_df = training_df.groupby(COL_SOURCE)[COL_EDGE].agg(\"count\").reset_index()\n",
    "    out_degree_df.rename(columns={COL_SOURCE: COL_NODE, COL_EDGE: OUT_DEGREE}, inplace=True)\n",
    "    in_degree_df = training_df.groupby(COL_TARGET)[COL_EDGE].agg(\"count\").reset_index()\n",
    "    in_degree_df.rename(columns={COL_TARGET: COL_NODE, COL_EDGE: IN_DEGREE}, inplace=True)\n",
    "    node_degree_df = out_degree_df.merge(in_degree_df, on=COL_NODE, how=\"outer\")\n",
    "    node_degree_df = node_degree_df.fillna(0)\n",
    "    node_degree_df[DEGREE] = node_degree_df.in_degree+node_degree_df.out_degree\n",
    "    node_degree_df = node_degree_df.fillna(0)\n",
    "    return node_degree_df\n"
   ]
  },
  {
   "cell_type": "code",
   "execution_count": null,
   "id": "03f5b170",
   "metadata": {},
   "outputs": [],
   "source": [
    "node_degree_df = compute_node_degrees(training_df)"
   ]
  },
  {
   "cell_type": "code",
   "execution_count": null,
   "id": "f44ac8c2",
   "metadata": {},
   "outputs": [],
   "source": [
    "node_degree_df[\"is_disease\"] = node_degree_df[COL_NODE].apply(lambda x: x in biokgb_disease_ents)\n",
    "dis_node_degree_df = node_degree_df[node_degree_df.is_disease]\n",
    "dis_node_degree_df[:2]"
   ]
  },
  {
   "cell_type": "code",
   "execution_count": null,
   "id": "252198f5",
   "metadata": {},
   "outputs": [],
   "source": [
    "# now bucket the test triples according to node degree\n",
    "dis_degree_dict = pd.Series(dis_node_degree_df.degree.values,index=dis_node_degree_df.ent).to_dict()\n",
    "test_triples_dis_df = pd.DataFrame(test_triples_disease.triples, columns=[\"src\", \"rel\", \"tgt\"])\n",
    "def retrieve_node_degree(node, node2degree_dict):\n",
    "    return node2degree_dict.get(node, 0)\n",
    "\n",
    "test_triples_dis_df[\"src_dis_degree\"] = test_triples_dis_df[\"src\"].apply(lambda x: retrieve_node_degree(x, dis_degree_dict))\n",
    "test_triples_dis_df[\"tgt_dis_degree\"] = test_triples_dis_df[\"tgt\"].apply(lambda x: retrieve_node_degree(x, dis_degree_dict))\n",
    "test_triples_dis_df[\"dis_degree\"] = test_triples_dis_df.src_dis_degree + test_triples_dis_df.tgt_dis_degree\n",
    "test_triples_dis_df[:3]  \n",
    "test_triples_dis_df.head()"
   ]
  },
  {
   "cell_type": "code",
   "execution_count": null,
   "id": "675e2b3f",
   "metadata": {},
   "outputs": [],
   "source": [
    "test_triples_dis_df.dis_degree.describe()"
   ]
  },
  {
   "cell_type": "markdown",
   "id": "74eaeffd",
   "metadata": {},
   "source": [
    "### average performance predicting the node which has an entity degree of x\n",
    "\n",
    "Let's focus only on 'PROTEIN_DISEASE_ASSOCIATION', 'DRUG_DISEASE_ASSOCIATION' which have more support.\n",
    "\n",
    "The disease entity is the tail entity in these triples"
   ]
  },
  {
   "cell_type": "code",
   "execution_count": null,
   "id": "39f26338",
   "metadata": {},
   "outputs": [],
   "source": [
    "test_triples_dis_tail_df = test_triples_dis_df.loc[test_triples_dis_df[COL_EDGE].isin(['PROTEIN_DISEASE_ASSOCIATION', 'DRUG_DISEASE_ASSOCIATION'])]\n",
    "test_triples_dis_tail_df[:2]"
   ]
  },
  {
   "cell_type": "code",
   "execution_count": null,
   "id": "a43debb1",
   "metadata": {},
   "outputs": [],
   "source": [
    "dis_degree_values = test_triples_dis_df[\"dis_degree\"].unique()\n",
    "dis_degree_values[0]"
   ]
  },
  {
   "cell_type": "code",
   "execution_count": null,
   "id": "739f8204",
   "metadata": {},
   "outputs": [],
   "source": [
    "import seaborn as sns\n",
    "disease_degrees = test_triples_dis_tail_df.groupby(['dis_degree'])[COL_EDGE].agg('count').reset_index()\n",
    "sns.scatterplot(data=disease_degrees, x='dis_degree', y='rel')\n",
    "plt.xscale('log')\n",
    "#plt.yscale('log')"
   ]
  },
  {
   "cell_type": "code",
   "execution_count": null,
   "id": "4510c5e2",
   "metadata": {},
   "outputs": [],
   "source": [
    "from pykeen.triples.triples_factory import TriplesFactory\n",
    "evaluator = RankBasedEvaluator()\n",
    "\n",
    "def compute_metrics_over_triples_with_disease_tails(test_triples_w_node_degree_df, test_set_slug):#, quantiles=quantiles_map.keys()):\n",
    "    if VALID in test_set_slug:\n",
    "        test_type = VALID\n",
    "    else:\n",
    "        test_type = TEST\n",
    "    additional_filter_triples = obtain_filtered_triples(test_type=test_type,\n",
    "                                                        train_triples=triples_dict[TRAIN],\n",
    "                                                        valid_triples=triples_dict[VALID]\n",
    "                                                       )\n",
    "    test_triples_with_dis_tail_df = test_triples_w_node_degree_df.loc[test_triples_w_node_degree_df[COL_EDGE].isin(['PROTEIN_DISEASE_ASSOCIATION', 'DRUG_DISEASE_ASSOCIATION'])]\n",
    "    dis_degree_values = test_triples_with_dis_tail_df[\"dis_degree\"].unique()\n",
    "    result_dicts = []\n",
    "    \n",
    "    for degree_val in tqdm(dis_degree_values): \n",
    "        df_subset = test_triples_with_dis_tail_df.loc[test_triples_with_dis_tail_df[\"dis_degree\"]==degree_val][[COL_SOURCE, COL_EDGE, COL_TARGET]]\n",
    "        triples_subset = df_subset.values\n",
    "        triples_subset = TriplesFactory.from_labeled_triples(triples_subset, \n",
    "                                                             relation_to_id=triples_dict[TRAIN].relation_to_id, \n",
    "                                                             entity_to_id=triples_dict[TRAIN].entity_to_id)\n",
    "        if triples_subset.num_triples > 0:\n",
    "            subset_result = evaluator.evaluate(model,\n",
    "                                               triples_subset.mapped_triples, \n",
    "                                               additional_filter_triples=additional_filter_triples,\n",
    "                                               use_tqdm=False)\n",
    "            result_dicts.append({'dis_degree': degree_val, 'results': subset_result, 'relation': 'All', 'count': triples_subset.num_triples})\n",
    "    return result_dicts\n",
    "\n"
   ]
  },
  {
   "cell_type": "code",
   "execution_count": null,
   "id": "b8a428bd",
   "metadata": {},
   "outputs": [],
   "source": [
    "MODEL_ID = MODELS.get(ROTATE)\n",
    "base_path = SHARED_DATA_DIR.joinpath(f\"models/{MODEL_ID}\")\n",
    "model_path = base_path.joinpath(\"trained_model.pkl\")\n",
    "device = torch.device('cuda' if torch.cuda.is_available() else 'cpu')\n",
    "\n",
    "model = torch.load(model_path, map_location=torch.device(device))\n",
    "#train = TriplesFactory.from_path_binary(base_path.joinpath(\"training_triples\"))"
   ]
  },
  {
   "cell_type": "code",
   "execution_count": null,
   "id": "fef7eac2",
   "metadata": {},
   "outputs": [],
   "source": [
    "results_by_node_degree_bioblpd = compute_metrics_over_triples_with_disease_tails(test_triples_dis_df, test_set_slug=TEST_RESTRICTED_DIS)"
   ]
  },
  {
   "cell_type": "code",
   "execution_count": null,
   "id": "c7aafc5f",
   "metadata": {},
   "outputs": [],
   "source": [
    "results_by_node_degree = compute_metrics_over_triples_with_disease_tails(test_triples_dis_df, test_set_slug=TEST_RESTRICTED_DIS)"
   ]
  },
  {
   "cell_type": "code",
   "execution_count": null,
   "id": "e3ed47fd",
   "metadata": {},
   "outputs": [],
   "source": [
    "results_by_node_degree_dicts_bioblpd = {}\n",
    "for result in results_by_node_degree:\n",
    "         results_by_node_degree_dicts_bioblpd[result['dis_degree']] = make_results_dict_all_rel(result['results'],\n",
    "                                                                                relation=result['relation'],\n",
    "                                                                                relation_count=result['count'],\n",
    "                                                                                triple_endpoint='tail',\n",
    "                                                                                metric_type='realistic'\n",
    "                                                                               )\n",
    "results_by_node_degree_dicts_bioblpd"
   ]
  },
  {
   "cell_type": "code",
   "execution_count": null,
   "id": "30139845",
   "metadata": {},
   "outputs": [],
   "source": [
    "metric_name = 'hits_at_1'\n",
    "degrees = list(results_by_node_degree_dicts_bioblpd.keys())\n",
    "metrics = []\n",
    "for deg, metric in results_by_node_degree_dicts_bioblpd.items():\n",
    "    metrics.append(metric[metric_name])\n",
    "model_name"
   ]
  },
  {
   "cell_type": "code",
   "execution_count": null,
   "id": "e2acb5f8",
   "metadata": {},
   "outputs": [],
   "source": [
    "sns.scatterplot(degreeBIOBLP_D metrics)\n",
    "plt.xscale('log')\n",
    "plt.ylabel(metric_name)\n",
    "plt.title(f'Average {metric_name} predicting disease nodes Vs. disease node degree | Model: {model_name}')"
   ]
  },
  {
   "cell_type": "code",
   "execution_count": null,
   "id": "614c1990",
   "metadata": {},
   "outputs": [],
   "source": [
    "MODEL_ID = MODELS.get(ROTATE)\n",
    "base_path = SHARED_DATA_DIR.joinpath(f\"models/{MODEL_ID}\")\n",
    "model_path = base_path.joinpath(\"trained_model.pkl\")\n",
    "device = torch.device('cuda' if torch.cuda.is_available() else 'cpu')\n",
    "\n",
    "model = torch.load(model_path, map_location=torch.device(device))\n",
    "#train = TriplesFactory.from_path_binary(base_path.joinpath(\"training_triples\"))"
   ]
  },
  {
   "cell_type": "code",
   "execution_count": null,
   "id": "fd0e12e2",
   "metadata": {},
   "outputs": [],
   "source": [
    "results_by_node_degree_rotate = compute_metrics_over_triples_with_disease_tails(test_triples_dis_df, test_set_slug=TEST_RESTRICTED_DIS)"
   ]
  },
  {
   "cell_type": "code",
   "execution_count": null,
   "id": "6a31ec55",
   "metadata": {},
   "outputs": [],
   "source": [
    "results_by_node_degree_dicts_rotate = {}\n",
    "for result in results_by_node_degree_rotate:\n",
    "         results_by_node_degree_dicts_rotate[result['dis_degree']] = make_results_dict_all_rel(result['results'],\n",
    "                                                                                relation=result['relation'],\n",
    "                                                                                relation_count=result['count'],\n",
    "                                                                                triple_endpoint='tail',\n",
    "                                                                                metric_type='realistic'\n",
    "                                                                               )\n",
    "results_by_node_degree_dicts_rotate"
   ]
  },
  {
   "cell_type": "code",
   "execution_count": null,
   "id": "94524513",
   "metadata": {},
   "outputs": [],
   "source": [
    "with open(f'{MODEL_ID}-node-degree-eval.json', 'w+') as f:\n",
    "    json.dump(results_by_node_degree_dicts_rotate, f)\n"
   ]
  },
  {
   "cell_type": "code",
   "execution_count": null,
   "id": "a8cfcdfd",
   "metadata": {},
   "outputs": [],
   "source": [
    "metric_name = 'hits_at_10'\n",
    "degrees = list(results_by_node_degree_dicts_rotate.keys())\n",
    "metrics = []\n",
    "for deg, metric in results_by_node_degree_dicts_rotate.items():\n",
    "    metrics.append(metric[metric_name])\n",
    "MODEL_ID"
   ]
  },
  {
   "cell_type": "code",
   "execution_count": null,
   "id": "f82f5b78",
   "metadata": {},
   "outputs": [],
   "source": [
    "sns.scatterplot(degrees, metrics)\n",
    "plt.xscale('log')\n",
    "plt.ylabel(metric_name)\n",
    "plt.title(f'Average {metric_name} predicting disease nodes Vs. disease node degree | Model: {MODEL_ID}')"
   ]
  },
  {
   "cell_type": "code",
   "execution_count": null,
   "id": "18d61df0",
   "metadata": {},
   "outputs": [],
   "source": [
    "sns.scatterplot(degreeBIOBLP_D metrics)\n",
    "plt.xscale('log')\n",
    "plt.ylabel(metric_name)\n",
    "plt.title(f'Average {metric_name} predicting disease nodes Vs. disease node degree | Model: {model_name}')"
   ]
  },
  {
   "cell_type": "code",
   "execution_count": null,
   "id": "1b9bde01",
   "metadata": {},
   "outputs": [],
   "source": [
    "#import PIL\n",
    "#degree_analysis_hits_at_10_rotate_path = \n",
    "#degree_analysis_hits_at_1_rotate_path = \n",
    "degree_analysis_hits_at_10_bioblpd_path = Path(\"./data/imgs/node_analysis_hits_at_10_bioblpd.png\")\n",
    "degree_analysis_hits_at_1_bioblpd_path = Path(\"./data/imgs/node_analysis_hits_at_1_bioblpd.png\")\n",
    "\n",
    "wandb.log({\"example\": wandb.Image(degree_analysis_hits_at_10_bioblpd_path)})"
   ]
  },
  {
   "cell_type": "markdown",
   "id": "4e879718",
   "metadata": {},
   "source": [
    "## "
   ]
  },
  {
   "cell_type": "code",
   "execution_count": null,
   "id": "4555f131",
   "metadata": {},
   "outputs": [],
   "source": []
  },
  {
   "cell_type": "code",
   "execution_count": null,
   "id": "7cb26ce6",
   "metadata": {},
   "outputs": [],
   "source": []
  },
  {
   "cell_type": "markdown",
   "id": "7361a097",
   "metadata": {},
   "source": [
    "## archived"
   ]
  },
  {
   "cell_type": "markdown",
   "id": "21d112b3",
   "metadata": {},
   "source": [
    "### previous stuff"
   ]
  },
  {
   "cell_type": "markdown",
   "id": "132cb3c1",
   "metadata": {},
   "source": [
    "How do MRR, H@k, and AMR correlate?"
   ]
  },
  {
   "cell_type": "code",
   "execution_count": 32,
   "id": "a28f6a60",
   "metadata": {
    "scrolled": true
   },
   "outputs": [
    {
     "data": {
      "image/png": "[encoded data removed]",
      "text/plain": [
       "<Figure size 640x480 with 1 Axes>"
      ]
     },
     "metadata": {},
     "output_type": "display_data"
    },
    {
     "data": {
      "image/png": "[encoded data removed]",
      "text/plain": [
       "<Figure size 640x480 with 1 Axes>"
      ]
     },
     "metadata": {},
     "output_type": "display_data"
    },
    {
     "data": {
      "image/png": "[encoded data removed]",
      "text/plain": [
       "<Figure size 640x480 with 1 Axes>"
      ]
     },
     "metadata": {},
     "output_type": "display_data"
    }
   ],
   "source": [
    "def plot_metric_pair(results_df, metric_1: str, metric_2: str):\n",
    "    \"\"\"Make a scatter plot with one link prediction metric in each axis.\"\"\"\n",
    "    plt.figure()\n",
    "    plt.scatter(results_df[metric_1], results_df[metric_2])\n",
    "    plt.xlabel(metric_1)\n",
    "    plt.ylabel(metric_2)\n",
    "\n",
    "plot_metric_pair(results_df, 'mean_reciprocal_rank', 'hits_at_10')\n",
    "plot_metric_pair(results_df, 'mean_reciprocal_rank', 'adjusted_mean_rank')\n",
    "plot_metric_pair(results_df, 'mean_reciprocal_rank', 'Count')"
   ]
  },
  {
   "cell_type": "markdown",
   "id": "28ab35ad",
   "metadata": {},
   "source": [
    "What are the relations where the model performs better?"
   ]
  },
  {
   "cell_type": "code",
   "execution_count": 33,
   "id": "c5635fbf",
   "metadata": {},
   "outputs": [],
   "source": [
    "def per_relation_plot(results_df, metric: str):\n",
    "    \"\"\"Make a bar plot of link prediction performance for each relation.\"\"\"\n",
    "    results_df[['Relation', metric]].sort_values(by=metric).plot.barh(x='Relation', figsize=(5, 5), grid=True)"
   ]
  },
  {
   "cell_type": "code",
   "execution_count": 34,
   "id": "4eb73602",
   "metadata": {},
   "outputs": [
    {
     "data": {
      "image/png": "[encoded data removed]",
      "text/plain": [
       "<Figure size 500x500 with 1 Axes>"
      ]
     },
     "metadata": {},
     "output_type": "display_data"
    }
   ],
   "source": [
    "per_relation_plot(results_df, 'hits_at_10')"
   ]
  },
  {
   "cell_type": "markdown",
   "id": "1d1b5230",
   "metadata": {},
   "source": [
    "### Evaluating over specific entity and relation types\n",
    "The source csv files contain the triples, plus extra information like the types of the entities involved in the triple. We will extract the type information."
   ]
  },
  {
   "cell_type": "markdown",
   "id": "29b6ffa3",
   "metadata": {},
   "source": [
    "We can see that restricting predictions over the correct domain and range of a relation only slightly increases the results."
   ]
  },
  {
   "cell_type": "code",
   "execution_count": null,
   "id": "e310661b",
   "metadata": {},
   "outputs": [],
   "source": [
    "can you do an. analysis on degree....\n",
    "compare rotate to this"
   ]
  },
  {
   "cell_type": "code",
   "execution_count": null,
   "id": "d9c85519",
   "metadata": {},
   "outputs": [],
   "source": []
  }
 ],
 "metadata": {
  "kernelspec": {
   "display_name": ".conda-bioblp-env [Python]",
   "language": "python",
   "name": "conda-env-.conda-bioblp-env-py"
  },
  "language_info": {
   "codemirror_mode": {
    "name": "ipython",
    "version": 3
   },
   "file_extension": ".py",
   "mimetype": "text/x-python",
   "name": "python",
   "nbconvert_exporter": "python",
   "pygments_lexer": "ipython3",
   "version": "3.8.13"
  }
 },
 "nbformat": 4,
 "nbformat_minor": 5
}
