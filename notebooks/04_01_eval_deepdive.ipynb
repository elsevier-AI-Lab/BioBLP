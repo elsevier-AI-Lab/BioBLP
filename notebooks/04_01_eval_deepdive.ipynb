{
 "cells": [
  {
   "cell_type": "code",
   "execution_count": null,
   "id": "656061d0",
   "metadata": {},
   "outputs": [],
   "source": [
    "%load_ext autoreload\n",
    "%autoreload 2"
   ]
  },
  {
   "cell_type": "code",
   "execution_count": 2,
   "id": "4598eeac",
   "metadata": {},
   "outputs": [
    {
     "name": "stderr",
     "output_type": "stream",
     "text": [
      "/home/jovyan/.conda/envs/bioblp-env/lib/python3.8/site-packages/tqdm/auto.py:22: TqdmWarning: IProgress not found. Please update jupyter and ipywidgets. See https://ipywidgets.readthedocs.io/en/stable/user_install.html\n",
      "  from .autonotebook import tqdm as notebook_tqdm\n"
     ]
    }
   ],
   "source": [
    "import os.path as osp\n",
    "from pathlib import Path\n",
    "import matplotlib.pyplot as plt\n",
    "import pandas as pd\n",
    "from pykeen.evaluation import RankBasedEvaluator\n",
    "from pykeen.triples import TriplesFactory\n",
    "import torch\n",
    "from tqdm import tqdm\n",
    "import json\n",
    "import numpy as np\n",
    "from typing import List\n"
   ]
  },
  {
   "cell_type": "markdown",
   "id": "6fe23a97",
   "metadata": {},
   "source": [
    "Change this cell to generate a report for other datasets/models:"
   ]
  },
  {
   "cell_type": "code",
   "execution_count": 3,
   "id": "063fc0c9",
   "metadata": {},
   "outputs": [],
   "source": [
    "MODEL_ID_rotate = 'rotate-otxtubeb' \n",
    "MODEL_ID_bioblpd = 'bioblpd-38uz9fjs'"
   ]
  },
  {
   "cell_type": "code",
   "execution_count": 4,
   "id": "8065efcf",
   "metadata": {},
   "outputs": [],
   "source": [
    "SHARED_DATA_DIR = Path(\"/home/jovyan/workbench-shared-folder/bioblp\")\n",
    "PROJ_DATA_DIR = Path(\"../data/\")"
   ]
  },
  {
   "cell_type": "code",
   "execution_count": 5,
   "id": "00aa5035",
   "metadata": {},
   "outputs": [],
   "source": [
    "TEST = \"test\"\n",
    "VALID = \"valid\"\n",
    "TRAIN = \"train\"\n",
    "TEST_RESTRICTED_DIS = 'TEST_RESTRICTED_DIS'\n",
    "TEST_EXCLUDING_DIS = 'TEST_EXCLUDING_DIS'\n",
    "VALID_RESTRICTED_DIS = 'VALID_RESTRICTED_DIS'\n",
    "DUMMY = 'DUMMY', \n",
    "ROTATE = \"rotate\"\n",
    "BIOBLP_D = \"bioblp_d\"\n",
    "MODELS = {\n",
    "    ROTATE: MODEL_ID_rotate,\n",
    "    BIOBLP_D: MODEL_ID_bioblpd\n",
    "}"
   ]
  },
  {
   "cell_type": "code",
   "execution_count": 6,
   "id": "bfaabffc",
   "metadata": {},
   "outputs": [],
   "source": [
    "COL_SOURCE = \"src\"\n",
    "COL_TARGET = \"tgt\"\n",
    "COL_EDGE = \"rel\"\n",
    "COL_NODE = \"ent\"\n",
    "DEGREE = \"degree\"\n",
    "IN_DEGREE = \"in_degree\"\n",
    "OUT_DEGREE = \"out_degree\"\n"
   ]
  },
  {
   "cell_type": "markdown",
   "id": "84754feb",
   "metadata": {},
   "source": [
    "##  Loading model and data\n",
    "\n",
    "make a keyword based switching statement b/w rotate and bioblp-d"
   ]
  },
  {
   "cell_type": "code",
   "execution_count": null,
   "id": "06d6b39d",
   "metadata": {},
   "outputs": [],
   "source": [
    "def load_kge_model(model_base_path):\n",
    "    model_path = model_base_path.joinpath(\"trained_model.pkl\")\n",
    "    device = torch.device('cuda' if torch.cuda.is_available() else 'cpu')\n",
    "    model = torch.load(model_path, map_location=torch.device(device))\n",
    "    return model\n",
    "    "
   ]
  },
  {
   "cell_type": "code",
   "execution_count": 7,
   "id": "9c30206c",
   "metadata": {},
   "outputs": [],
   "source": [
    "# load rotate, or bioblp-d\n",
    "MODEL_ID = MODELS.get(ROTATE)    \n",
    "base_path = SHARED_DATA_DIR.joinpath(f\"models/{MODEL_ID}\")\n",
    "model = load_kge_model(model_base_path = base_path.joinpath(MODEL_ID))"
   ]
  },
  {
   "cell_type": "code",
   "execution_count": 7,
   "id": "ccb7e486",
   "metadata": {},
   "outputs": [],
   "source": [
    "model_path = base_path.joinpath(\"trained_model.pkl\")\n",
    "device = torch.device('cuda' if torch.cuda.is_available() else 'cpu')\n",
    "\n",
    "model = torch.load(model_path, map_location=torch.device(device))\n",
    "train = TriplesFactory.from_path_binary(base_path.joinpath(\"training_triples\"))"
   ]
  },
  {
   "cell_type": "code",
   "execution_count": 8,
   "id": "548d05b0",
   "metadata": {},
   "outputs": [],
   "source": [
    "graph_path = PROJ_DATA_DIR.joinpath('biokgb/graph')\n",
    "valid_triples = 'biokg.links-valid.csv'\n",
    "test_triples = 'biokg.links-test.csv'\n",
    "dummy_triples = 'biokg.links-dummy.csv'"
   ]
  },
  {
   "cell_type": "code",
   "execution_count": 9,
   "id": "6fbcc289",
   "metadata": {},
   "outputs": [],
   "source": [
    "dummy_triples = 'biokg.links-dummy.csv'\n",
    "\n",
    "df = pd.read_csv(graph_path.joinpath(test_triples), sep=\"\\t\", header=None)\n",
    "df[:50].to_csv(graph_path.joinpath(dummy_triples), sep=\"\\t\", index=None, header=None)"
   ]
  },
  {
   "cell_type": "code",
   "execution_count": 10,
   "id": "52e9d116",
   "metadata": {},
   "outputs": [],
   "source": [
    "valid, test, dummy = [TriplesFactory.from_path(graph_path.joinpath(f),\n",
    "                                        entity_to_id=train.entity_to_id,\n",
    "                                        relation_to_id=train.relation_to_id)\n",
    "               for f in (valid_triples, test_triples, dummy_triples)]"
   ]
  },
  {
   "cell_type": "markdown",
   "id": "85dcf5cb",
   "metadata": {},
   "source": [
    "#### utils"
   ]
  },
  {
   "cell_type": "code",
   "execution_count": 11,
   "id": "d2d7f72d",
   "metadata": {},
   "outputs": [],
   "source": [
    "def obtain_filtered_triples(test_type, train_triples, valid_triples):\n",
    "    if VALID in test_type:\n",
    "        test_type = VALID\n",
    "    else:\n",
    "        test_type = TEST\n",
    "    if test_type == VALID:\n",
    "        filtered_triples = [train_triples.mapped_triples]\n",
    "    elif test_type == TEST:\n",
    "        filtered_triples = [train_triples.mapped_triples, valid_triples.mapped_triples]\n",
    "    return filtered_triples\n",
    "    "
   ]
  },
  {
   "cell_type": "markdown",
   "id": "f509862e",
   "metadata": {},
   "source": [
    "Create test sets: \n",
    "D; D_b, D_r; \n",
    "\n",
    "All biokgb entities surprisingly have a relation - > D_r is an empty set"
   ]
  },
  {
   "cell_type": "code",
   "execution_count": 12,
   "id": "e61ed6e5",
   "metadata": {},
   "outputs": [],
   "source": [
    "def split_train_ents_by_existance_of_properties(train_triples, typed_ent_set, typed_ent_with_prop_set):\n",
    "    assert typed_ent_with_prop_set.intersection(typed_ent_set)\n",
    "    train_typed_ents = {k:v for k, v in train_triples.entity_to_id.items() if k in typed_ent_set}\n",
    "    train_typed_ents_w_properties = {k:v for k, v in train_triples.entity_to_id.items() if k in typed_ent_with_prop_set}\n",
    "    train_typed_ent_set = set(train_typed_ents.keys())\n",
    "    train_typed_ents_w_properties_set = set(train_typed_ents_w_properties) # b==initialised by bioblp prop encoders\n",
    "    # train_typed_ents_excl_properties_set = train_typed_ent_set.difference(train_typed_ents_w_properties_set) # r==initialised by pretrained rotate embeddings\n",
    "    print(len(train_typed_ent_set), len(train_typed_ents_w_properties_set)) #, len(train_typed_ents_excl_properties_set))\n",
    "    return train_typed_ent_set, train_typed_ents_w_properties_set #, train_typed_ents_excl_properties_set \n",
    "    \n",
    "    \n",
    "def split_test_triples_conditioned_on_ent_property(train_triples, typed_ent_set, typed_ent_with_prop_set, test_triples: TriplesFactory):\n",
    "    train_typed_ent_set, train_typed_ents_w_properties_set = split_train_ents_by_existance_of_properties(train_triples, typed_ent_set, typed_ent_with_prop_set)\n",
    "    \n",
    "    ## create triples\n",
    "    test_triples_excl_ents_w_properties = test_triples.new_with_restriction(entities=train_typed_ents_w_properties_set, invert_entity_selection=True)\n",
    "    test_triples_excl_ents_w_properties_df = pd.DataFrame(test_triples_excl_ents_w_properties.triples, columns=[COL_SOURCE, COL_EDGE, COL_TARGET])\n",
    "    test_triples_df = pd.DataFrame(test_triples.triples, columns=[COL_SOURCE, COL_EDGE, COL_TARGET])\n",
    "    df = pd.merge(test_triples_df, test_triples_excl_ents_w_properties_df, how='outer', suffixes=('','_y'), indicator=True)\n",
    "    test_triples_incl_ents_w_properties_df = df[df['_merge']=='left_only'][test_triples_df.columns]\n",
    "    test_triples_incl_ents_w_properties = TriplesFactory.from_labeled_triples(test_triples_incl_ents_w_properties_df.values, \n",
    "                                                             relation_to_id=train_triples.relation_to_id, \n",
    "                                                             entity_to_id=train_triples.entity_to_id)\n",
    "    return test_triples_incl_ents_w_properties, test_triples_excl_ents_w_properties\n",
    "   "
   ]
  },
  {
   "cell_type": "code",
   "execution_count": 13,
   "id": "bf05f3e1",
   "metadata": {},
   "outputs": [
    {
     "name": "stdout",
     "output_type": "stream",
     "text": [
      "# Disease entities in larger biokg (pre-benchmark removal): 11347\n",
      "# Disease entities in larger biokg (pre-benchmark removal) for which we have textual descriptions: 11348\n"
     ]
    }
   ],
   "source": [
    "#disease_descr_path = PROJ_DATA_DIR.joinpath(\"biokgb/properties/biokg_meshid_to_descr_name-orig.tsv\")\n",
    "disease_descr_path = PROJ_DATA_DIR.joinpath(\"biokgb/properties/biokg_meshid_to_descr_name.tsv\")\n",
    "disease_metadata_path = PROJ_DATA_DIR.joinpath(\"biokgb/properties/biokg.metadata.disease.tsv\")\n",
    "\n",
    "# create a subset of biokg entities of type Disease \n",
    "diseases = pd.read_csv(disease_metadata_path, sep=\"\\t\", names=[\"disease\", \"rel\", \"node_type\"])\n",
    "disease_set = set(diseases.disease.values)\n",
    "print(f\"# Disease entities in larger biokg (pre-benchmark removal): {len(disease_set)}\")\n",
    "\n",
    "# create a set of disease entities for which we have text descriptions\n",
    "disease_w_desc_df = pd.read_csv(disease_descr_path, sep=\"\\t\", header=None, names=[\"disease\", \"desc\"])\n",
    "disease_desc_set = set(disease_w_desc_df.disease.values)\n",
    "print(f\"# Disease entities in larger biokg (pre-benchmark removal) for which we have textual descriptions: {len(disease_desc_set)}\")\n"
   ]
  },
  {
   "cell_type": "code",
   "execution_count": 14,
   "id": "5dc0c56a",
   "metadata": {},
   "outputs": [
    {
     "name": "stderr",
     "output_type": "stream",
     "text": [
      "Reconstructing all label-based triples. This is expensive and rarely needed.\n"
     ]
    },
    {
     "name": "stdout",
     "output_type": "stream",
     "text": [
      "5814 5814\n"
     ]
    },
    {
     "name": "stderr",
     "output_type": "stream",
     "text": [
      "Reconstructing all label-based triples. This is expensive and rarely needed.\n"
     ]
    }
   ],
   "source": [
    "test_triples_incl_dis_prop, test_triples_excl_dis_prop = split_test_triples_conditioned_on_ent_property(train, disease_set, disease_desc_set, test)"
   ]
  },
  {
   "cell_type": "code",
   "execution_count": 15,
   "id": "4c32a6f6",
   "metadata": {},
   "outputs": [],
   "source": [
    "triples_dict = {\n",
    "    TEST: test,\n",
    "    VALID: valid,\n",
    "    TRAIN: train,\n",
    "    TEST_RESTRICTED_DIS: test_triples_incl_dis_prop,\n",
    "    TEST_EXCLUDING_DIS: test_triples_excl_dis_prop,\n",
    "    DUMMY: dummy, \n",
    "}\n",
    "\n",
    "TEST_SET_LIST = [TEST_RESTRICTED_DIS, TEST_EXCLUDING_DIS, TEST, VALID]\n"
   ]
  },
  {
   "cell_type": "code",
   "execution_count": 16,
   "id": "df56492a",
   "metadata": {},
   "outputs": [
    {
     "data": {
      "text/plain": [
       "count    11348.000000\n",
       "mean       149.030314\n",
       "std        156.369273\n",
       "min          5.000000\n",
       "25%         37.000000\n",
       "50%         70.000000\n",
       "75%        231.000000\n",
       "max       1076.000000\n",
       "Name: len, dtype: float64"
      ]
     },
     "execution_count": 16,
     "metadata": {},
     "output_type": "execute_result"
    }
   ],
   "source": [
    "# Side note: all disease entities in Biokgb have decscriptions; because missing values were plugged with disease names\n",
    "disease_w_desc_df[\"len\"] = disease_w_desc_df[\"desc\"].str.len()\n",
    "disease_w_desc_df.len.describe()"
   ]
  },
  {
   "cell_type": "code",
   "execution_count": 17,
   "id": "68172a00",
   "metadata": {},
   "outputs": [
    {
     "data": {
      "text/plain": [
       "{'DISEASE_GENETIC_DISORDER': 3,\n",
       " 'DISEASE_PATHWAY_ASSOCIATION': 4,\n",
       " 'DRUG_DISEASE_ASSOCIATION': 7,\n",
       " 'PROTEIN_DISEASE_ASSOCIATION': 14}"
      ]
     },
     "execution_count": 17,
     "metadata": {},
     "output_type": "execute_result"
    }
   ],
   "source": [
    "# relations containing diseases include -> \n",
    "dis_assoc_rels = {rel:rel_id for rel, rel_id in train.relation_to_id.items() if 'DISEASE' in rel}\n",
    "dis_assoc_rels"
   ]
  },
  {
   "cell_type": "code",
   "execution_count": 18,
   "id": "6da539f1",
   "metadata": {},
   "outputs": [],
   "source": [
    "# equivalence of test_triples restricted on disease- assoc relationships and test_triples_incl_dis_prop above\n",
    "#test_triples_disease = test.new_with_restriction(relations=list(dis_assoc_rels.values()))"
   ]
  },
  {
   "cell_type": "code",
   "execution_count": 19,
   "id": "e5e3b0c3",
   "metadata": {},
   "outputs": [
    {
     "name": "stdout",
     "output_type": "stream",
     "text": [
      "# triples originally in test: 185227, valid: 185226\n",
      "# test triples with disease nodes: 17063\n",
      "# valid triples with disease nodes: 168164\n"
     ]
    }
   ],
   "source": [
    "# create set of triples\n",
    "print(f\"# triples originally in test: {test.num_triples}, valid: {valid.num_triples}\")\n",
    "#test_triples_disease = test.new_with_restriction(relations=list(dis_assoc_rels.values()))\n",
    "#valid_triples_disease = valid.new_with_restriction(relations=list(dis_assoc_rels.values()))\n",
    "print(f\"# test triples with disease nodes: {test_triples_incl_dis_prop.num_triples}\")\n",
    "print(f\"# valid triples with disease nodes: {test_triples_excl_dis_prop.num_triples}\")\n"
   ]
  },
  {
   "cell_type": "markdown",
   "id": "c31d6e13",
   "metadata": {},
   "source": [
    "## sanity check (consider delet"
   ]
  },
  {
   "cell_type": "code",
   "execution_count": 27,
   "id": "b21525c8",
   "metadata": {},
   "outputs": [],
   "source": [
    "# redundant sanity check to ensure rels in the filtered test_triples_disease pertain to disease ent type\n",
    "x = test_triples_incl_dis_prop.mapped_triples.view([-1, 3, 1])\n",
    "ids = torch.ones(x.shape[0]).long()"
   ]
  },
  {
   "cell_type": "code",
   "execution_count": 30,
   "id": "c55bc526",
   "metadata": {
    "collapsed": true,
    "jupyter": {
     "outputs_hidden": true
    }
   },
   "outputs": [
    {
     "name": "stdout",
     "output_type": "stream",
     "text": [
      "{'DISEASE_GENETIC_DISORDER': 3, 'DISEASE_PATHWAY_ASSOCIATION': 4, 'DRUG_DISEASE_ASSOCIATION': 7, 'PROTEIN_DISEASE_ASSOCIATION': 14}\n"
     ]
    },
    {
     "data": {
      "text/plain": [
       "(array([ 261.,    0.,  293.,    0.,    0.,    0.,    0.,    0.,    0.,\n",
       "           0., 6749.,    0.,    0.,    0.,    0.,    0.,    0.,    0.,\n",
       "           0.,    0.,    0.,    0.,    0.,    0.,    0.,    0.,    0.,\n",
       "           0.,    0., 9760.]),\n",
       " array([ 3.        ,  3.36666667,  3.73333333,  4.1       ,  4.46666667,\n",
       "         4.83333333,  5.2       ,  5.56666667,  5.93333333,  6.3       ,\n",
       "         6.66666667,  7.03333333,  7.4       ,  7.76666667,  8.13333333,\n",
       "         8.5       ,  8.86666667,  9.23333333,  9.6       ,  9.96666667,\n",
       "        10.33333333, 10.7       , 11.06666667, 11.43333333, 11.8       ,\n",
       "        12.16666667, 12.53333333, 12.9       , 13.26666667, 13.63333333,\n",
       "        14.        ]),\n",
       " <BarContainer object of 30 artists>)"
      ]
     },
     "execution_count": 30,
     "metadata": {},
     "output_type": "execute_result"
    },
    {
     "data": {
      "image/png": "[encoded data removed]",
      "text/plain": [
       "<Figure size 432x288 with 1 Axes>"
      ]
     },
     "metadata": {
      "needs_background": "light"
     },
     "output_type": "display_data"
    }
   ],
   "source": [
    "rels = np.array(x.gather(1, ids.view(-1, 1, 1)).squeeze())\n",
    "np.unique(rels, return_counts=True)\n",
    "print(dis_assoc_rels)\n",
    "plt.hist(rels, bins = 30)"
   ]
  },
  {
   "cell_type": "markdown",
   "id": "b4fb5775",
   "metadata": {},
   "source": [
    "## Evaluation"
   ]
  },
  {
   "cell_type": "code",
   "execution_count": 22,
   "id": "0ae372fa",
   "metadata": {},
   "outputs": [],
   "source": [
    "def make_results_dict_orig(results, relation, relation_count,\n",
    "                      triple_endpoint=\"both\",\n",
    "                      metric_type = \"realistic\"):\n",
    "    \n",
    "    metrics_shortlist=[\"arithmetic_mean_rank\", \"adjusted_arithmetic_mean_rank\", \n",
    "                       \"inverse_harmonic_mean_rank\", \"hits_at_1\",\n",
    "                       \"hits_at_3\", \"hits_at_5\", \"hits_at_10\"]\n",
    "\n",
    "    results = results.to_dict()\n",
    "    results_dict = {'Relation': 'All' if not relation else relation,\n",
    "                    'Count': relation_count,\n",
    "                    **{metric: results[triple_endpoint][metric_type][metric] for metric in metrics_shortlist}\n",
    "                   }\n",
    "\n",
    "    return results_dict"
   ]
  },
  {
   "cell_type": "code",
   "execution_count": 23,
   "id": "99e1109f",
   "metadata": {},
   "outputs": [],
   "source": [
    "device = torch.device('cuda' if torch.cuda.is_available() else 'cpu')\n",
    "evaluator = RankBasedEvaluator(filtered=True)"
   ]
  },
  {
   "cell_type": "markdown",
   "id": "d34affff",
   "metadata": {},
   "source": [
    "wandb logging"
   ]
  },
  {
   "cell_type": "code",
   "execution_count": 24,
   "id": "d33f45db",
   "metadata": {},
   "outputs": [
    {
     "name": "stderr",
     "output_type": "stream",
     "text": [
      "Failed to detect the name of this notebook, you can set it manually with the WANDB_NOTEBOOK_NAME environment variable to enable code saving.\n",
      "\u001b[34m\u001b[1mwandb\u001b[0m: Currently logged in as: \u001b[33mpmitra01\u001b[0m (\u001b[33mdiscoverylab\u001b[0m). Use \u001b[1m`wandb login --relogin`\u001b[0m to force relogin\n"
     ]
    }
   ],
   "source": [
    "import wandb\n",
    "wandb.login()\n",
    "WANDB_PROJECT = \"bioblp-jupyter-trial\"\n",
    "WANDB_ENTITY = \"discoverylab\"\n",
    "\n",
    "#run = wandb.init(project=WANDB_PROJECT,\n",
    "#                 config={\"entity\": WANDB_ENTITY})\n",
    "#evaluator_kwargs={'batch_size': args.eval_batch_size},"
   ]
  },
  {
   "cell_type": "code",
   "execution_count": 25,
   "id": "759117ef",
   "metadata": {},
   "outputs": [],
   "source": [
    "def setup_wandb_result_tracker(model_name:str, \n",
    "                               study_name:str, \n",
    "                               test_set_type:str, \n",
    "                               project_name=WANDB_PROJECT, \n",
    "                               wandb_entity=WANDB_ENTITY,\n",
    "                               notes:str=\"\"):\n",
    "\n",
    "    wandb_kwargs = {\"project\": project_name,\n",
    "                    \"entity\": wandb_entity,\n",
    "                    \"notes\": notes,\n",
    "                    \"tags\": [model_name, study_name, test_set_type]}\n",
    "    run = wandb.init(**wandb_kwargs)\n",
    "    return run"
   ]
  },
  {
   "cell_type": "code",
   "execution_count": 26,
   "id": "fbe021de",
   "metadata": {},
   "outputs": [],
   "source": [
    "def trial_func(x=1, y=2):\n",
    "    print(x*y)\n",
    "    return {'x': x, 'y':y}\n",
    "    \n",
    "def run_experiment(study_name, test_set_slug, model_name, eval_func, **eval_kwargs):\n",
    "    tags = {\"model_name\": model_name,\n",
    "            \"study_name\": study_name,\n",
    "            \"test_set_type\": test_set_slug}\n",
    "    metrics = eval_func(**eval_kwargs)\n",
    "    run = setup_wandb_result_tracker(**tags, project_name=WANDB_PROJECT, wandb_entity=WANDB_ENTITY)\n",
    "    run.log(metrics)\n",
    "    return metrics"
   ]
  },
  {
   "cell_type": "code",
   "execution_count": 26,
   "id": "96185aa2",
   "metadata": {},
   "outputs": [],
   "source": [
    "# test run_experiment\n",
    "#trial_func_kwargs = {\"x\": 1, \"y\": 2}\n",
    "#metrics = run_experiment('dummy-run', TEST, BIOBLP_D, trial_func, **trial_func_kwargs) "
   ]
  },
  {
   "cell_type": "markdown",
   "id": "4345c5a7",
   "metadata": {},
   "source": [
    "### Test on Valid dataset"
   ]
  },
  {
   "cell_type": "markdown",
   "id": "ba1286a2",
   "metadata": {},
   "source": [
    "create a function that evaluates and prints out scores for test, valid, valid_dis_restructed and test_dis_restricted triples\n",
    "\n",
    "it should take a dictionary {test_set_name: test_set_triples}"
   ]
  },
  {
   "cell_type": "code",
   "execution_count": 27,
   "id": "c748c51a",
   "metadata": {},
   "outputs": [],
   "source": [
    "## also perform the above with rotate to compare\n",
    "def make_results_dict(results, relation, relation_count,\n",
    "                      triple_endpoint=\"both\",\n",
    "                      metric_type = \"realistic\"):\n",
    "    \n",
    "    metrics_shortlist=[\"arithmetic_mean_rank\", \"adjusted_arithmetic_mean_rank\", \n",
    "                       \"inverse_harmonic_mean_rank\", \"hits_at_1\",\n",
    "                       \"hits_at_3\", \"hits_at_5\", \"hits_at_10\"]\n",
    "    if not relation:\n",
    "        relation= 'All'\n",
    "    results = results.to_dict()\n",
    "    results_dict = {relation: {\n",
    "        'Count': relation_count,\n",
    "        **{metric: results[triple_endpoint][metric_type][metric] for metric in metrics_shortlist}\n",
    "    }}\n",
    "\n",
    "    return results_dict"
   ]
  },
  {
   "cell_type": "code",
   "execution_count": 28,
   "id": "5b462bac",
   "metadata": {},
   "outputs": [],
   "source": [
    "\n",
    "def evaluate_lp_on_single_test_set(model, eval_test_set_slug, all_rels=True, split_by_rels=False):\n",
    "\n",
    "    evaluator = RankBasedEvaluator()   \n",
    "    # should we filtering more triples in the disease restricted test sets?\n",
    "    filtered_triples = obtain_filtered_triples(test_type=eval_test_set_slug, \n",
    "                                               train_triples=triples_dict.get(TRAIN),\n",
    "                                               valid_triples=triples_dict.get(VALID)\n",
    "                                              )\n",
    "    eval_result = evaluator.evaluate(model, triples_dict[eval_test_set_slug].mapped_triples,\n",
    "                                     additional_filter_triples = filtered_triples)\n",
    "    \n",
    "    results_all_rels = make_results_dict(eval_result, \n",
    "                                         relation='All', \n",
    "                                         relation_count=triples_dict.get(eval_test_set_slug).num_triples)\n",
    "    \n",
    "    # if split_by_rels: to add logic \n",
    "        \n",
    "    return results_all_rels\n",
    "        "
   ]
  },
  {
   "cell_type": "code",
   "execution_count": 76,
   "id": "402738f9",
   "metadata": {
    "collapsed": true,
    "jupyter": {
     "outputs_hidden": true
    }
   },
   "outputs": [
    {
     "name": "stderr",
     "output_type": "stream",
     "text": [
      "Evaluating on cuda:0: 100%|██████████| 17.1k/17.1k [02:55<00:00, 97.0triple/s]\n"
     ]
    },
    {
     "data": {
      "text/html": [
       "Finishing last run (ID:2qt1465i) before initializing another..."
      ],
      "text/plain": [
       "<IPython.core.display.HTML object>"
      ]
     },
     "metadata": {},
     "output_type": "display_data"
    },
    {
     "data": {
      "text/html": [
       "Waiting for W&B process to finish... <strong style=\"color:green\">(success).</strong>"
      ],
      "text/plain": [
       "<IPython.core.display.HTML object>"
      ]
     },
     "metadata": {},
     "output_type": "display_data"
    },
    {
     "data": {
      "text/html": [
       "<style>\n",
       "    table.wandb td:nth-child(1) { padding: 0 10px; text-align: left ; width: auto;} td:nth-child(2) {text-align: left ; width: 100%}\n",
       "    .wandb-row { display: flex; flex-direction: row; flex-wrap: wrap; justify-content: flex-start; width: 100% }\n",
       "    .wandb-col { display: flex; flex-direction: column; flex-basis: 100%; flex: 1; padding: 10px; }\n",
       "    </style>\n",
       "<div class=\"wandb-row\"><div class=\"wandb-col\"><h3>Run history:</h3><br/><table class=\"wandb\"><tr><td>Count</td><td>▁</td></tr><tr><td>adjusted_arithmetic_mean_rank</td><td>▁</td></tr><tr><td>arithmetic_mean_rank</td><td>▁</td></tr><tr><td>hits_at_1</td><td>▁</td></tr><tr><td>hits_at_10</td><td>▁</td></tr><tr><td>hits_at_3</td><td>▁</td></tr><tr><td>hits_at_5</td><td>▁</td></tr><tr><td>inverse_harmonic_mean_rank</td><td>▁</td></tr></table><br/></div><div class=\"wandb-col\"><h3>Run summary:</h3><br/><table class=\"wandb\"><tr><td>Count</td><td>17063</td></tr><tr><td>Relation</td><td>All</td></tr><tr><td>adjusted_arithmetic_mean_rank</td><td>0.06966</td></tr><tr><td>arithmetic_mean_rank</td><td>3688.36841</td></tr><tr><td>hits_at_1</td><td>0.04126</td></tr><tr><td>hits_at_10</td><td>0.08923</td></tr><tr><td>hits_at_3</td><td>0.05913</td></tr><tr><td>hits_at_5</td><td>0.07042</td></tr><tr><td>inverse_harmonic_mean_rank</td><td>0.05887</td></tr></table><br/></div></div>"
      ],
      "text/plain": [
       "<IPython.core.display.HTML object>"
      ]
     },
     "metadata": {},
     "output_type": "display_data"
    },
    {
     "data": {
      "text/html": [
       "Synced <strong style=\"color:#cdcd00\">rose-snow-17</strong>: <a href=\"https://wandb.ai/discoverylab/bioblp-jupyter-trial/runs/2qt1465i\" target=\"_blank\">https://wandb.ai/discoverylab/bioblp-jupyter-trial/runs/2qt1465i</a><br/>Synced 6 W&B file(s), 0 media file(s), 0 artifact file(s) and 0 other file(s)"
      ],
      "text/plain": [
       "<IPython.core.display.HTML object>"
      ]
     },
     "metadata": {},
     "output_type": "display_data"
    },
    {
     "data": {
      "text/html": [
       "Find logs at: <code>./wandb/run-20230226_224400-2qt1465i/logs</code>"
      ],
      "text/plain": [
       "<IPython.core.display.HTML object>"
      ]
     },
     "metadata": {},
     "output_type": "display_data"
    },
    {
     "data": {
      "text/html": [
       "Successfully finished last run (ID:2qt1465i). Initializing new run:<br/>"
      ],
      "text/plain": [
       "<IPython.core.display.HTML object>"
      ]
     },
     "metadata": {},
     "output_type": "display_data"
    },
    {
     "data": {
      "text/html": [
       "wandb version 0.13.10 is available!  To upgrade, please run:\n",
       " $ pip install wandb --upgrade"
      ],
      "text/plain": [
       "<IPython.core.display.HTML object>"
      ]
     },
     "metadata": {},
     "output_type": "display_data"
    },
    {
     "data": {
      "text/html": [
       "Tracking run with wandb version 0.12.20"
      ],
      "text/plain": [
       "<IPython.core.display.HTML object>"
      ]
     },
     "metadata": {},
     "output_type": "display_data"
    },
    {
     "data": {
      "text/html": [
       "Run data is saved locally in <code>/home/jovyan/BioBLP/notebooks/wandb/run-20230226_225939-1884gix6</code>"
      ],
      "text/plain": [
       "<IPython.core.display.HTML object>"
      ]
     },
     "metadata": {},
     "output_type": "display_data"
    },
    {
     "data": {
      "text/html": [
       "Syncing run <strong><a href=\"https://wandb.ai/discoverylab/bioblp-jupyter-trial/runs/1884gix6\" target=\"_blank\">astral-jazz-18</a></strong> to <a href=\"https://wandb.ai/discoverylab/bioblp-jupyter-trial\" target=\"_blank\">Weights & Biases</a> (<a href=\"https://wandb.me/run\" target=\"_blank\">docs</a>)<br/>"
      ],
      "text/plain": [
       "<IPython.core.display.HTML object>"
      ]
     },
     "metadata": {},
     "output_type": "display_data"
    }
   ],
   "source": [
    "func_kwargs = {\"model\": model, \"eval_test_set_slug\": TEST_RESTRICTED_DIS}\n",
    "results_microavg_test_retricted_dis = run_experiment(study_name='dummy-run-eval', \n",
    "                   test_set_slug=TEST_RESTRICTED_DIS, \n",
    "                   model_name=MODEL_ID, \n",
    "                   eval_func=evaluate_lp_on_single_test_set, \n",
    "                   **func_kwargs\n",
    "                  )\n",
    "\n"
   ]
  },
  {
   "cell_type": "code",
   "execution_count": null,
   "id": "fcc8c4c6",
   "metadata": {},
   "outputs": [
    {
     "name": "stderr",
     "output_type": "stream",
     "text": [
      "Evaluating on cuda:0: 100%|██████████| 17.1k/17.1k [02:51<00:00, 99.5triple/s]\n"
     ]
    },
    {
     "data": {
      "text/html": [
       "wandb version 0.13.10 is available!  To upgrade, please run:\n",
       " $ pip install wandb --upgrade"
      ],
      "text/plain": [
       "<IPython.core.display.HTML object>"
      ]
     },
     "metadata": {},
     "output_type": "display_data"
    },
    {
     "data": {
      "text/html": [
       "Tracking run with wandb version 0.12.20"
      ],
      "text/plain": [
       "<IPython.core.display.HTML object>"
      ]
     },
     "metadata": {},
     "output_type": "display_data"
    },
    {
     "data": {
      "text/html": [
       "Run data is saved locally in <code>/home/jovyan/BioBLP/notebooks/wandb/run-20230228_211329-85q6diee</code>"
      ],
      "text/plain": [
       "<IPython.core.display.HTML object>"
      ]
     },
     "metadata": {},
     "output_type": "display_data"
    },
    {
     "data": {
      "text/html": [
       "Syncing run <strong><a href=\"https://wandb.ai/discoverylab/bioblp-jupyter-trial/runs/85q6diee\" target=\"_blank\">glad-sound-36</a></strong> to <a href=\"https://wandb.ai/discoverylab/bioblp-jupyter-trial\" target=\"_blank\">Weights & Biases</a> (<a href=\"https://wandb.me/run\" target=\"_blank\">docs</a>)<br/>"
      ],
      "text/plain": [
       "<IPython.core.display.HTML object>"
      ]
     },
     "metadata": {},
     "output_type": "display_data"
    },
    {
     "name": "stderr",
     "output_type": "stream",
     "text": [
      "Evaluating on cuda:0:  68%|██████▊   | 114k/168k [19:01<08:59, 101triple/s]  "
     ]
    }
   ],
   "source": [
    "model_name = MODEL_ID\n",
    "micro_results_dicts = {}\n",
    "STUDY_EVAL_MICRO_AVG = 'eval-micro-avg'\n",
    "out_dir = Path(f\"./metrics/{MODEL_ID}\")\n",
    "model = load_kge_model()\n",
    "for test_set_slug in TEST_SET_LIST:\n",
    "    func_kwargs = {\"model\": model, \"eval_test_set_slug\": test_set_slug}\n",
    "\n",
    "    rel_results = run_experiment(study_name=STUDY_EVAL_MICRO_AVG, \n",
    "                   test_set_slug=test_set_slug, \n",
    "                   model_name=model_name, \n",
    "                   eval_func=evaluate_lp_on_single_test_set, \n",
    "                   **func_kwargs\n",
    "                  )\n",
    "    micro_results_dicts[test_set_slug] = rel_results\n",
    "    \n",
    "with open(out_dir.joinpath(f'{STUDY_EVAL_MICRO_AVG}.json'), 'w+') as f:\n",
    "    json.dump(micro_results_dicts, f)"
   ]
  },
  {
   "cell_type": "code",
   "execution_count": 25,
   "id": "f48515e7",
   "metadata": {},
   "outputs": [
    {
     "name": "stderr",
     "output_type": "stream",
     "text": [
      "Evaluating on cuda:0: 100%|██████████| 17.1k/17.1k [02:55<00:00, 97.0triple/s]\n"
     ]
    },
    {
     "data": {
      "text/html": [
       "wandb version 0.13.10 is available!  To upgrade, please run:\n",
       " $ pip install wandb --upgrade"
      ],
      "text/plain": [
       "<IPython.core.display.HTML object>"
      ]
     },
     "metadata": {},
     "output_type": "display_data"
    },
    {
     "data": {
      "text/html": [
       "Tracking run with wandb version 0.12.20"
      ],
      "text/plain": [
       "<IPython.core.display.HTML object>"
      ]
     },
     "metadata": {},
     "output_type": "display_data"
    },
    {
     "data": {
      "text/html": [
       "Run data is saved locally in <code>/home/jovyan/BioBLP/notebooks/wandb/run-20230227_170739-k0vfcb27</code>"
      ],
      "text/plain": [
       "<IPython.core.display.HTML object>"
      ]
     },
     "metadata": {},
     "output_type": "display_data"
    },
    {
     "data": {
      "text/html": [
       "Syncing run <strong><a href=\"https://wandb.ai/discoverylab/bioblp-jupyter-trial/runs/k0vfcb27\" target=\"_blank\">unique-sky-24</a></strong> to <a href=\"https://wandb.ai/discoverylab/bioblp-jupyter-trial\" target=\"_blank\">Weights & Biases</a> (<a href=\"https://wandb.me/run\" target=\"_blank\">docs</a>)<br/>"
      ],
      "text/plain": [
       "<IPython.core.display.HTML object>"
      ]
     },
     "metadata": {},
     "output_type": "display_data"
    },
    {
     "name": "stderr",
     "output_type": "stream",
     "text": [
      "Evaluating on cuda:0: 100%|██████████| 168k/168k [29:10<00:00, 96.1triple/s] \n"
     ]
    },
    {
     "data": {
      "text/html": [
       "Finishing last run (ID:k0vfcb27) before initializing another..."
      ],
      "text/plain": [
       "<IPython.core.display.HTML object>"
      ]
     },
     "metadata": {},
     "output_type": "display_data"
    },
    {
     "data": {
      "text/html": [
       "Waiting for W&B process to finish... <strong style=\"color:green\">(success).</strong>"
      ],
      "text/plain": [
       "<IPython.core.display.HTML object>"
      ]
     },
     "metadata": {},
     "output_type": "display_data"
    },
    {
     "data": {
      "text/html": [
       "Synced <strong style=\"color:#cdcd00\">unique-sky-24</strong>: <a href=\"https://wandb.ai/discoverylab/bioblp-jupyter-trial/runs/k0vfcb27\" target=\"_blank\">https://wandb.ai/discoverylab/bioblp-jupyter-trial/runs/k0vfcb27</a><br/>Synced 6 W&B file(s), 0 media file(s), 0 artifact file(s) and 0 other file(s)"
      ],
      "text/plain": [
       "<IPython.core.display.HTML object>"
      ]
     },
     "metadata": {},
     "output_type": "display_data"
    },
    {
     "data": {
      "text/html": [
       "Find logs at: <code>./wandb/run-20230227_170739-k0vfcb27/logs</code>"
      ],
      "text/plain": [
       "<IPython.core.display.HTML object>"
      ]
     },
     "metadata": {},
     "output_type": "display_data"
    },
    {
     "data": {
      "text/html": [
       "Successfully finished last run (ID:k0vfcb27). Initializing new run:<br/>"
      ],
      "text/plain": [
       "<IPython.core.display.HTML object>"
      ]
     },
     "metadata": {},
     "output_type": "display_data"
    },
    {
     "data": {
      "text/html": [
       "wandb version 0.13.10 is available!  To upgrade, please run:\n",
       " $ pip install wandb --upgrade"
      ],
      "text/plain": [
       "<IPython.core.display.HTML object>"
      ]
     },
     "metadata": {},
     "output_type": "display_data"
    },
    {
     "data": {
      "text/html": [
       "Tracking run with wandb version 0.12.20"
      ],
      "text/plain": [
       "<IPython.core.display.HTML object>"
      ]
     },
     "metadata": {},
     "output_type": "display_data"
    },
    {
     "data": {
      "text/html": [
       "Run data is saved locally in <code>/home/jovyan/BioBLP/notebooks/wandb/run-20230227_173743-2bv96meh</code>"
      ],
      "text/plain": [
       "<IPython.core.display.HTML object>"
      ]
     },
     "metadata": {},
     "output_type": "display_data"
    },
    {
     "data": {
      "text/html": [
       "Syncing run <strong><a href=\"https://wandb.ai/discoverylab/bioblp-jupyter-trial/runs/2bv96meh\" target=\"_blank\">solar-firebrand-25</a></strong> to <a href=\"https://wandb.ai/discoverylab/bioblp-jupyter-trial\" target=\"_blank\">Weights & Biases</a> (<a href=\"https://wandb.me/run\" target=\"_blank\">docs</a>)<br/>"
      ],
      "text/plain": [
       "<IPython.core.display.HTML object>"
      ]
     },
     "metadata": {},
     "output_type": "display_data"
    },
    {
     "name": "stderr",
     "output_type": "stream",
     "text": [
      "Evaluating on cuda:0: 100%|██████████| 185k/185k [32:09<00:00, 96.0triple/s] \n"
     ]
    },
    {
     "data": {
      "text/html": [
       "Finishing last run (ID:2bv96meh) before initializing another..."
      ],
      "text/plain": [
       "<IPython.core.display.HTML object>"
      ]
     },
     "metadata": {},
     "output_type": "display_data"
    },
    {
     "data": {
      "text/html": [
       "Waiting for W&B process to finish... <strong style=\"color:green\">(success).</strong>"
      ],
      "text/plain": [
       "<IPython.core.display.HTML object>"
      ]
     },
     "metadata": {},
     "output_type": "display_data"
    },
    {
     "data": {
      "text/html": [
       "Synced <strong style=\"color:#cdcd00\">solar-firebrand-25</strong>: <a href=\"https://wandb.ai/discoverylab/bioblp-jupyter-trial/runs/2bv96meh\" target=\"_blank\">https://wandb.ai/discoverylab/bioblp-jupyter-trial/runs/2bv96meh</a><br/>Synced 6 W&B file(s), 0 media file(s), 0 artifact file(s) and 0 other file(s)"
      ],
      "text/plain": [
       "<IPython.core.display.HTML object>"
      ]
     },
     "metadata": {},
     "output_type": "display_data"
    },
    {
     "data": {
      "text/html": [
       "Find logs at: <code>./wandb/run-20230227_173743-2bv96meh/logs</code>"
      ],
      "text/plain": [
       "<IPython.core.display.HTML object>"
      ]
     },
     "metadata": {},
     "output_type": "display_data"
    },
    {
     "data": {
      "text/html": [
       "Successfully finished last run (ID:2bv96meh). Initializing new run:<br/>"
      ],
      "text/plain": [
       "<IPython.core.display.HTML object>"
      ]
     },
     "metadata": {},
     "output_type": "display_data"
    },
    {
     "data": {
      "text/html": [
       "wandb version 0.13.10 is available!  To upgrade, please run:\n",
       " $ pip install wandb --upgrade"
      ],
      "text/plain": [
       "<IPython.core.display.HTML object>"
      ]
     },
     "metadata": {},
     "output_type": "display_data"
    },
    {
     "data": {
      "text/html": [
       "Tracking run with wandb version 0.12.20"
      ],
      "text/plain": [
       "<IPython.core.display.HTML object>"
      ]
     },
     "metadata": {},
     "output_type": "display_data"
    },
    {
     "data": {
      "text/html": [
       "Run data is saved locally in <code>/home/jovyan/BioBLP/notebooks/wandb/run-20230227_181052-22rj8yfq</code>"
      ],
      "text/plain": [
       "<IPython.core.display.HTML object>"
      ]
     },
     "metadata": {},
     "output_type": "display_data"
    },
    {
     "data": {
      "text/html": [
       "Syncing run <strong><a href=\"https://wandb.ai/discoverylab/bioblp-jupyter-trial/runs/22rj8yfq\" target=\"_blank\">iconic-shadow-26</a></strong> to <a href=\"https://wandb.ai/discoverylab/bioblp-jupyter-trial\" target=\"_blank\">Weights & Biases</a> (<a href=\"https://wandb.me/run\" target=\"_blank\">docs</a>)<br/>"
      ],
      "text/plain": [
       "<IPython.core.display.HTML object>"
      ]
     },
     "metadata": {},
     "output_type": "display_data"
    },
    {
     "name": "stderr",
     "output_type": "stream",
     "text": [
      "Evaluating on cuda:0: 100%|██████████| 185k/185k [31:44<00:00, 97.3triple/s] \n"
     ]
    },
    {
     "data": {
      "text/html": [
       "Finishing last run (ID:22rj8yfq) before initializing another..."
      ],
      "text/plain": [
       "<IPython.core.display.HTML object>"
      ]
     },
     "metadata": {},
     "output_type": "display_data"
    },
    {
     "data": {
      "text/html": [
       "Waiting for W&B process to finish... <strong style=\"color:green\">(success).</strong>"
      ],
      "text/plain": [
       "<IPython.core.display.HTML object>"
      ]
     },
     "metadata": {},
     "output_type": "display_data"
    },
    {
     "data": {
      "text/html": [
       "Synced <strong style=\"color:#cdcd00\">iconic-shadow-26</strong>: <a href=\"https://wandb.ai/discoverylab/bioblp-jupyter-trial/runs/22rj8yfq\" target=\"_blank\">https://wandb.ai/discoverylab/bioblp-jupyter-trial/runs/22rj8yfq</a><br/>Synced 6 W&B file(s), 0 media file(s), 0 artifact file(s) and 0 other file(s)"
      ],
      "text/plain": [
       "<IPython.core.display.HTML object>"
      ]
     },
     "metadata": {},
     "output_type": "display_data"
    },
    {
     "data": {
      "text/html": [
       "Find logs at: <code>./wandb/run-20230227_181052-22rj8yfq/logs</code>"
      ],
      "text/plain": [
       "<IPython.core.display.HTML object>"
      ]
     },
     "metadata": {},
     "output_type": "display_data"
    },
    {
     "data": {
      "text/html": [
       "Successfully finished last run (ID:22rj8yfq). Initializing new run:<br/>"
      ],
      "text/plain": [
       "<IPython.core.display.HTML object>"
      ]
     },
     "metadata": {},
     "output_type": "display_data"
    },
    {
     "data": {
      "text/html": [
       "wandb version 0.13.10 is available!  To upgrade, please run:\n",
       " $ pip install wandb --upgrade"
      ],
      "text/plain": [
       "<IPython.core.display.HTML object>"
      ]
     },
     "metadata": {},
     "output_type": "display_data"
    },
    {
     "data": {
      "text/html": [
       "Tracking run with wandb version 0.12.20"
      ],
      "text/plain": [
       "<IPython.core.display.HTML object>"
      ]
     },
     "metadata": {},
     "output_type": "display_data"
    },
    {
     "data": {
      "text/html": [
       "Run data is saved locally in <code>/home/jovyan/BioBLP/notebooks/wandb/run-20230227_184333-gnqaoz0t</code>"
      ],
      "text/plain": [
       "<IPython.core.display.HTML object>"
      ]
     },
     "metadata": {},
     "output_type": "display_data"
    },
    {
     "data": {
      "text/html": [
       "Syncing run <strong><a href=\"https://wandb.ai/discoverylab/bioblp-jupyter-trial/runs/gnqaoz0t\" target=\"_blank\">golden-energy-27</a></strong> to <a href=\"https://wandb.ai/discoverylab/bioblp-jupyter-trial\" target=\"_blank\">Weights & Biases</a> (<a href=\"https://wandb.me/run\" target=\"_blank\">docs</a>)<br/>"
      ],
      "text/plain": [
       "<IPython.core.display.HTML object>"
      ]
     },
     "metadata": {},
     "output_type": "display_data"
    }
   ],
   "source": [
    "model_name = MODEL_ID\n",
    "for test_set_slug in TEST_SET_LIST:\n",
    "    func_kwargs = {\"model\": model, \"eval_test_set_slug\": test_set_slug}\n",
    "\n",
    "    run_experiment(study_name='eval-micro-avg', \n",
    "                   test_set_slug=test_set_slug, \n",
    "                   model_name=model_name, \n",
    "                   eval_func=evaluate_lp_on_single_test_set, \n",
    "                   **func_kwargs\n",
    "                  )"
   ]
  },
  {
   "cell_type": "markdown",
   "id": "da27cbc2",
   "metadata": {},
   "source": [
    "## Evaluating over specific. relation types"
   ]
  },
  {
   "cell_type": "code",
   "execution_count": 28,
   "id": "7e0853ef",
   "metadata": {},
   "outputs": [],
   "source": [
    "def eval_breakdown_by_rel_type(eval_test_set_slug, model):\n",
    "    result_dicts =[]\n",
    "    test_triples = triples_dict[eval_test_set_slug]\n",
    "    additional_filter_triples = obtain_filtered_triples(test_type=eval_test_set_slug, \n",
    "                                                        train_triples=triples_dict[TRAIN],\n",
    "                                                        valid_triples=triples_dict[VALID]\n",
    "                                                       )\n",
    "    for relation in tqdm(list(triples_dict[TRAIN].relation_to_id)[:], desc='Evaluating over each relation'):\n",
    "        triples_subset = test_triples.new_with_restriction(relations=[relation])\n",
    "        if triples_subset.num_triples > 0:\n",
    "            subset_result = evaluator.evaluate(model,\n",
    "                                               triples_subset.mapped_triples, \n",
    "                                               additional_filter_triples=additional_filter_triples,\n",
    "                                               use_tqdm=False)\n",
    "            result_dicts.append({'results': subset_result, 'relation': relation, 'count': triples_subset.num_triples})\n",
    "    results_df = pd.DataFrame([make_results_dict_orig(d['results'], d['relation'], d['count']) for d in result_dicts])\n",
    "    print(results_df)\n",
    "    rel_results_dict = results_df.set_index('Relation').transpose().to_dict()\n",
    "    return rel_results_dict"
   ]
  },
  {
   "cell_type": "code",
   "execution_count": 30,
   "id": "2b8cebee",
   "metadata": {},
   "outputs": [
    {
     "data": {
      "text/plain": [
       "True"
      ]
     },
     "execution_count": 30,
     "metadata": {},
     "output_type": "execute_result"
    }
   ],
   "source": [
    "out_dir = Path(f'metrics/{MODEL_ID}')\n",
    "out_dir.exists()"
   ]
  },
  {
   "cell_type": "code",
   "execution_count": null,
   "id": "1f2fa0d0",
   "metadata": {
    "collapsed": true,
    "jupyter": {
     "outputs_hidden": true
    }
   },
   "outputs": [
    {
     "name": "stderr",
     "output_type": "stream",
     "text": [
      "Evaluating over each relation: 100%|██████████| 17/17 [05:18<00:00, 18.76s/it]\n"
     ]
    },
    {
     "name": "stdout",
     "output_type": "stream",
     "text": [
      "                      Relation  Count  arithmetic_mean_rank  \\\n",
      "0     DISEASE_GENETIC_DISORDER    261            758.760559   \n",
      "1  DISEASE_PATHWAY_ASSOCIATION    293            841.361755   \n",
      "2     DRUG_DISEASE_ASSOCIATION   6749            417.342316   \n",
      "3  PROTEIN_DISEASE_ASSOCIATION   9760           2088.663818   \n",
      "\n",
      "   adjusted_arithmetic_mean_rank  inverse_harmonic_mean_rank  hits_at_1  \\\n",
      "0                       0.014313                    0.934612   0.927203   \n",
      "1                       0.015869                    0.331824   0.261092   \n",
      "2                       0.007879                    0.092318   0.043932   \n",
      "3                       0.039461                    0.214140   0.157428   \n",
      "\n",
      "   hits_at_3  hits_at_5  hits_at_10  \n",
      "0   0.938697   0.944444    0.946360  \n",
      "1   0.361775   0.402730    0.452218  \n",
      "2   0.092236   0.123870    0.181731  \n",
      "3   0.223361   0.264498    0.325973  \n"
     ]
    },
    {
     "data": {
      "text/html": [
       "wandb version 0.13.10 is available!  To upgrade, please run:\n",
       " $ pip install wandb --upgrade"
      ],
      "text/plain": [
       "<IPython.core.display.HTML object>"
      ]
     },
     "metadata": {},
     "output_type": "display_data"
    },
    {
     "data": {
      "text/html": [
       "Tracking run with wandb version 0.12.20"
      ],
      "text/plain": [
       "<IPython.core.display.HTML object>"
      ]
     },
     "metadata": {},
     "output_type": "display_data"
    },
    {
     "data": {
      "text/html": [
       "Run data is saved locally in <code>/home/jovyan/BioBLP/notebooks/wandb/run-20230228_072611-3spttj0m</code>"
      ],
      "text/plain": [
       "<IPython.core.display.HTML object>"
      ]
     },
     "metadata": {},
     "output_type": "display_data"
    },
    {
     "data": {
      "text/html": [
       "Syncing run <strong><a href=\"https://wandb.ai/discoverylab/bioblp-jupyter-trial/runs/3spttj0m\" target=\"_blank\">noble-glitter-32</a></strong> to <a href=\"https://wandb.ai/discoverylab/bioblp-jupyter-trial\" target=\"_blank\">Weights & Biases</a> (<a href=\"https://wandb.me/run\" target=\"_blank\">docs</a>)<br/>"
      ],
      "text/plain": [
       "<IPython.core.display.HTML object>"
      ]
     },
     "metadata": {},
     "output_type": "display_data"
    },
    {
     "name": "stderr",
     "output_type": "stream",
     "text": [
      "Evaluating over each relation: 100%|██████████| 17/17 [34:50<00:00, 122.98s/it] "
     ]
    },
    {
     "name": "stdout",
     "output_type": "stream",
     "text": [
      "                       Relation   Count  arithmetic_mean_rank  \\\n",
      "0            COMPLEX_IN_PATHWAY     878            171.463547   \n",
      "1     COMPLEX_TOP_LEVEL_PATHWAY    1649           2711.817383   \n",
      "2                           DDI  120830             10.219083   \n",
      "3                           DPI     527            791.814026   \n",
      "4                  DRUG_CARRIER      13             51.884617   \n",
      "5                   DRUG_ENZYME      67            105.402985   \n",
      "6      DRUG_PATHWAY_ASSOCIATION     426            215.424881   \n",
      "7                   DRUG_TARGET     745            236.403351   \n",
      "8              DRUG_TRANSPORTER      35            914.185730   \n",
      "9             MEMBER_OF_COMPLEX    8127            110.822472   \n",
      "10                          PPI   10669           5289.458496   \n",
      "11  PROTEIN_PATHWAY_ASSOCIATION   23949           2174.163818   \n",
      "12     RELATED_GENETIC_DISORDER     249          19583.873047   \n",
      "\n",
      "    adjusted_arithmetic_mean_rank  inverse_harmonic_mean_rank  hits_at_1  \\\n",
      "0                        0.003234                    0.509035   0.399772   \n",
      "1                        0.051486                    0.403790   0.344148   \n",
      "2                        0.000194                    0.653410   0.531131   \n",
      "3                        0.014935                    0.620911   0.559772   \n",
      "4                        0.000979                    0.669095   0.615385   \n",
      "5                        0.001988                    0.463834   0.365672   \n",
      "6                        0.004063                    0.489262   0.402582   \n",
      "7                        0.004459                    0.830129   0.784564   \n",
      "8                        0.017242                    0.455658   0.342857   \n",
      "9                        0.002091                    0.767657   0.704688   \n",
      "10                       0.099787                    0.161406   0.102306   \n",
      "11                       0.041028                    0.466593   0.393816   \n",
      "12                       0.369340                    0.022357   0.014056   \n",
      "\n",
      "    hits_at_3  hits_at_5  hits_at_10  \n",
      "0    0.562642   0.638952    0.726651  \n",
      "1    0.441783   0.475440    0.506671  \n",
      "2    0.736047   0.806683    0.877592  \n",
      "3    0.650854   0.688805    0.731499  \n",
      "4    0.692308   0.730769    0.730769  \n",
      "5    0.514925   0.552239    0.656716  \n",
      "6    0.521127   0.576291    0.667840  \n",
      "7    0.861745   0.882550    0.905369  \n",
      "8    0.514286   0.585714    0.685714  \n",
      "9    0.807617   0.844715    0.882798  \n",
      "10   0.168901   0.212625    0.286390  \n",
      "11   0.498225   0.546641    0.607458  \n",
      "12   0.026104   0.026104    0.032129  \n"
     ]
    },
    {
     "name": "stderr",
     "output_type": "stream",
     "text": [
      "\n"
     ]
    },
    {
     "data": {
      "text/html": [
       "Finishing last run (ID:3spttj0m) before initializing another..."
      ],
      "text/plain": [
       "<IPython.core.display.HTML object>"
      ]
     },
     "metadata": {},
     "output_type": "display_data"
    },
    {
     "data": {
      "text/html": [
       "Waiting for W&B process to finish... <strong style=\"color:green\">(success).</strong>"
      ],
      "text/plain": [
       "<IPython.core.display.HTML object>"
      ]
     },
     "metadata": {},
     "output_type": "display_data"
    },
    {
     "data": {
      "text/html": [
       "Synced <strong style=\"color:#cdcd00\">noble-glitter-32</strong>: <a href=\"https://wandb.ai/discoverylab/bioblp-jupyter-trial/runs/3spttj0m\" target=\"_blank\">https://wandb.ai/discoverylab/bioblp-jupyter-trial/runs/3spttj0m</a><br/>Synced 6 W&B file(s), 0 media file(s), 0 artifact file(s) and 0 other file(s)"
      ],
      "text/plain": [
       "<IPython.core.display.HTML object>"
      ]
     },
     "metadata": {},
     "output_type": "display_data"
    },
    {
     "data": {
      "text/html": [
       "Find logs at: <code>./wandb/run-20230228_072611-3spttj0m/logs</code>"
      ],
      "text/plain": [
       "<IPython.core.display.HTML object>"
      ]
     },
     "metadata": {},
     "output_type": "display_data"
    },
    {
     "data": {
      "text/html": [
       "Successfully finished last run (ID:3spttj0m). Initializing new run:<br/>"
      ],
      "text/plain": [
       "<IPython.core.display.HTML object>"
      ]
     },
     "metadata": {},
     "output_type": "display_data"
    },
    {
     "data": {
      "text/html": [
       "wandb version 0.13.10 is available!  To upgrade, please run:\n",
       " $ pip install wandb --upgrade"
      ],
      "text/plain": [
       "<IPython.core.display.HTML object>"
      ]
     },
     "metadata": {},
     "output_type": "display_data"
    },
    {
     "data": {
      "text/html": [
       "Tracking run with wandb version 0.12.20"
      ],
      "text/plain": [
       "<IPython.core.display.HTML object>"
      ]
     },
     "metadata": {},
     "output_type": "display_data"
    },
    {
     "data": {
      "text/html": [
       "Run data is saved locally in <code>/home/jovyan/BioBLP/notebooks/wandb/run-20230228_080113-3r5g49i1</code>"
      ],
      "text/plain": [
       "<IPython.core.display.HTML object>"
      ]
     },
     "metadata": {},
     "output_type": "display_data"
    },
    {
     "data": {
      "text/html": [
       "Syncing run <strong><a href=\"https://wandb.ai/discoverylab/bioblp-jupyter-trial/runs/3r5g49i1\" target=\"_blank\">devoted-dust-33</a></strong> to <a href=\"https://wandb.ai/discoverylab/bioblp-jupyter-trial\" target=\"_blank\">Weights & Biases</a> (<a href=\"https://wandb.me/run\" target=\"_blank\">docs</a>)<br/>"
      ],
      "text/plain": [
       "<IPython.core.display.HTML object>"
      ]
     },
     "metadata": {},
     "output_type": "display_data"
    },
    {
     "name": "stderr",
     "output_type": "stream",
     "text": [
      "Evaluating over each relation:  88%|████████▊ | 15/17 [35:08<03:31, 105.75s/it] "
     ]
    }
   ],
   "source": [
    "model_name = MODEL_ID\n",
    "STUDY_EVAL_REL_BREAKDOWN = 'eval-rel-breakdown'\n",
    "out_dir = Path(f'metrics/{MODEL_ID}')\n",
    "rel_results_dicts = {}\n",
    "for test_set_slug in TEST_SET_LIST:\n",
    "    func_kwargs = {\"model\": model,\n",
    "                  \"eval_test_set_slug\": test_set_slug}\n",
    "\n",
    "    rel_results = run_experiment(study_name=STUDY_EVAL_REL_BREAKDOWN, \n",
    "                   test_set_slug=test_set_slug, \n",
    "                   model_name=model_name, \n",
    "                   eval_func=eval_breakdown_by_rel_type, \n",
    "                   **func_kwargs\n",
    "                  )\n",
    "    rel_results_dicts[test_set_slug] = rel_results\n",
    "    \n",
    "with open(out_dir.joinpath(f'{STUDY_EVAL_REL_BREAKDOWN}.json'), 'w+') as f:\n",
    "    json.dump(rel_results_dicts, f)\n"
   ]
  },
  {
   "cell_type": "code",
   "execution_count": null,
   "id": "50549c23",
   "metadata": {
    "collapsed": true,
    "jupyter": {
     "outputs_hidden": true
    }
   },
   "outputs": [
    {
     "name": "stderr",
     "output_type": "stream",
     "text": [
      "Evaluating over each relation: 100%|██████████| 17/17 [05:34<00:00, 19.70s/it]\n"
     ]
    },
    {
     "name": "stdout",
     "output_type": "stream",
     "text": [
      "                      Relation  Count  arithmetic_mean_rank  \\\n",
      "0     DISEASE_GENETIC_DISORDER    261           2200.370605   \n",
      "1  DISEASE_PATHWAY_ASSOCIATION    293           3717.679932   \n",
      "2     DRUG_DISEASE_ASSOCIATION   6749           1575.149048   \n",
      "3  PROTEIN_DISEASE_ASSOCIATION   9760           5188.562500   \n",
      "\n",
      "   adjusted_arithmetic_mean_rank  inverse_harmonic_mean_rank  hits_at_1  \\\n",
      "0                       0.041507                    0.632742   0.590038   \n",
      "1                       0.070119                    0.116742   0.078498   \n",
      "2                       0.029739                    0.025802   0.009409   \n",
      "3                       0.098028                    0.064648   0.047490   \n",
      "\n",
      "   hits_at_3  hits_at_5  hits_at_10  \n",
      "0   0.647510   0.683908    0.724138  \n",
      "1   0.141638   0.162116    0.180887  \n",
      "2   0.022300   0.031338    0.052008  \n",
      "3   0.066393   0.078279    0.095236  \n"
     ]
    },
    {
     "data": {
      "text/html": [
       "Finishing last run (ID:gnqaoz0t) before initializing another..."
      ],
      "text/plain": [
       "<IPython.core.display.HTML object>"
      ]
     },
     "metadata": {},
     "output_type": "display_data"
    },
    {
     "data": {
      "text/html": [
       "Waiting for W&B process to finish... <strong style=\"color:green\">(success).</strong>"
      ],
      "text/plain": [
       "<IPython.core.display.HTML object>"
      ]
     },
     "metadata": {},
     "output_type": "display_data"
    },
    {
     "data": {
      "text/html": [
       "Synced <strong style=\"color:#cdcd00\">golden-energy-27</strong>: <a href=\"https://wandb.ai/discoverylab/bioblp-jupyter-trial/runs/gnqaoz0t\" target=\"_blank\">https://wandb.ai/discoverylab/bioblp-jupyter-trial/runs/gnqaoz0t</a><br/>Synced 6 W&B file(s), 0 media file(s), 0 artifact file(s) and 0 other file(s)"
      ],
      "text/plain": [
       "<IPython.core.display.HTML object>"
      ]
     },
     "metadata": {},
     "output_type": "display_data"
    },
    {
     "data": {
      "text/html": [
       "Find logs at: <code>./wandb/run-20230227_184333-gnqaoz0t/logs</code>"
      ],
      "text/plain": [
       "<IPython.core.display.HTML object>"
      ]
     },
     "metadata": {},
     "output_type": "display_data"
    },
    {
     "data": {
      "text/html": [
       "Successfully finished last run (ID:gnqaoz0t). Initializing new run:<br/>"
      ],
      "text/plain": [
       "<IPython.core.display.HTML object>"
      ]
     },
     "metadata": {},
     "output_type": "display_data"
    },
    {
     "data": {
      "text/html": [
       "wandb version 0.13.10 is available!  To upgrade, please run:\n",
       " $ pip install wandb --upgrade"
      ],
      "text/plain": [
       "<IPython.core.display.HTML object>"
      ]
     },
     "metadata": {},
     "output_type": "display_data"
    },
    {
     "data": {
      "text/html": [
       "Tracking run with wandb version 0.12.20"
      ],
      "text/plain": [
       "<IPython.core.display.HTML object>"
      ]
     },
     "metadata": {},
     "output_type": "display_data"
    },
    {
     "data": {
      "text/html": [
       "Run data is saved locally in <code>/home/jovyan/BioBLP/notebooks/wandb/run-20230227_203820-cs15c1ux</code>"
      ],
      "text/plain": [
       "<IPython.core.display.HTML object>"
      ]
     },
     "metadata": {},
     "output_type": "display_data"
    },
    {
     "data": {
      "text/html": [
       "Syncing run <strong><a href=\"https://wandb.ai/discoverylab/bioblp-jupyter-trial/runs/cs15c1ux\" target=\"_blank\">charmed-pyramid-28</a></strong> to <a href=\"https://wandb.ai/discoverylab/bioblp-jupyter-trial\" target=\"_blank\">Weights & Biases</a> (<a href=\"https://wandb.me/run\" target=\"_blank\">docs</a>)<br/>"
      ],
      "text/plain": [
       "<IPython.core.display.HTML object>"
      ]
     },
     "metadata": {},
     "output_type": "display_data"
    },
    {
     "name": "stderr",
     "output_type": "stream",
     "text": [
      "Evaluating over each relation: 100%|██████████| 17/17 [36:11<00:00, 127.76s/it] "
     ]
    },
    {
     "name": "stdout",
     "output_type": "stream",
     "text": [
      "                       Relation   Count  arithmetic_mean_rank  \\\n",
      "0            COMPLEX_IN_PATHWAY     878           1644.980103   \n",
      "1     COMPLEX_TOP_LEVEL_PATHWAY    1649           6719.250000   \n",
      "2                           DDI  120830             24.388937   \n",
      "3                           DPI     527           2276.004150   \n",
      "4                  DRUG_CARRIER      13           2213.961426   \n",
      "5                   DRUG_ENZYME      67            962.276123   \n",
      "6      DRUG_PATHWAY_ASSOCIATION     426           1467.138550   \n",
      "7                   DRUG_TARGET     745            825.566101   \n",
      "8              DRUG_TRANSPORTER      35           2602.728516   \n",
      "9             MEMBER_OF_COMPLEX    8127            714.172363   \n",
      "10                          PPI   10669           8169.080566   \n",
      "11  PROTEIN_PATHWAY_ASSOCIATION   23949           4110.860840   \n",
      "12     RELATED_GENETIC_DISORDER     249          30198.205078   \n",
      "\n",
      "    adjusted_arithmetic_mean_rank  inverse_harmonic_mean_rank  hits_at_1  \\\n",
      "0                        0.031029                    0.364380   0.293850   \n",
      "1                        0.127571                    0.085924   0.075804   \n",
      "2                        0.000463                    0.614544   0.493267   \n",
      "3                        0.042930                    0.403770   0.366224   \n",
      "4                        0.041759                    0.315899   0.269231   \n",
      "5                        0.018153                    0.361216   0.298507   \n",
      "6                        0.027673                    0.352152   0.292254   \n",
      "7                        0.015571                    0.646167   0.607383   \n",
      "8                        0.049090                    0.281956   0.228571   \n",
      "9                        0.013475                    0.706428   0.663529   \n",
      "10                       0.154112                    0.133575   0.099728   \n",
      "11                       0.077575                    0.344750   0.304794   \n",
      "12                       0.569521                    0.001085   0.000000   \n",
      "\n",
      "    hits_at_3  hits_at_5  hits_at_10  \n",
      "0    0.399203   0.444191    0.497153  \n",
      "1    0.088842   0.095512    0.102486  \n",
      "2    0.693147   0.762182    0.835898  \n",
      "3    0.415560   0.444023    0.478178  \n",
      "4    0.346154   0.384615    0.384615  \n",
      "5    0.380597   0.425373    0.485075  \n",
      "6    0.390845   0.419014    0.448357  \n",
      "7    0.667114   0.687248    0.715436  \n",
      "8    0.314286   0.342857    0.385714  \n",
      "9    0.735388   0.760428    0.781777  \n",
      "10   0.146968   0.171712    0.201518  \n",
      "11   0.363606   0.388054    0.420832  \n",
      "12   0.002008   0.002008    0.002008  \n"
     ]
    },
    {
     "name": "stderr",
     "output_type": "stream",
     "text": [
      "\n"
     ]
    },
    {
     "data": {
      "text/html": [
       "Finishing last run (ID:cs15c1ux) before initializing another..."
      ],
      "text/plain": [
       "<IPython.core.display.HTML object>"
      ]
     },
     "metadata": {},
     "output_type": "display_data"
    },
    {
     "data": {
      "text/html": [
       "Waiting for W&B process to finish... <strong style=\"color:green\">(success).</strong>"
      ],
      "text/plain": [
       "<IPython.core.display.HTML object>"
      ]
     },
     "metadata": {},
     "output_type": "display_data"
    },
    {
     "data": {
      "text/html": [
       "Synced <strong style=\"color:#cdcd00\">charmed-pyramid-28</strong>: <a href=\"https://wandb.ai/discoverylab/bioblp-jupyter-trial/runs/cs15c1ux\" target=\"_blank\">https://wandb.ai/discoverylab/bioblp-jupyter-trial/runs/cs15c1ux</a><br/>Synced 6 W&B file(s), 0 media file(s), 0 artifact file(s) and 0 other file(s)"
      ],
      "text/plain": [
       "<IPython.core.display.HTML object>"
      ]
     },
     "metadata": {},
     "output_type": "display_data"
    },
    {
     "data": {
      "text/html": [
       "Find logs at: <code>./wandb/run-20230227_203820-cs15c1ux/logs</code>"
      ],
      "text/plain": [
       "<IPython.core.display.HTML object>"
      ]
     },
     "metadata": {},
     "output_type": "display_data"
    },
    {
     "data": {
      "text/html": [
       "Successfully finished last run (ID:cs15c1ux). Initializing new run:<br/>"
      ],
      "text/plain": [
       "<IPython.core.display.HTML object>"
      ]
     },
     "metadata": {},
     "output_type": "display_data"
    },
    {
     "data": {
      "text/html": [
       "wandb version 0.13.10 is available!  To upgrade, please run:\n",
       " $ pip install wandb --upgrade"
      ],
      "text/plain": [
       "<IPython.core.display.HTML object>"
      ]
     },
     "metadata": {},
     "output_type": "display_data"
    },
    {
     "data": {
      "text/html": [
       "Tracking run with wandb version 0.12.20"
      ],
      "text/plain": [
       "<IPython.core.display.HTML object>"
      ]
     },
     "metadata": {},
     "output_type": "display_data"
    },
    {
     "data": {
      "text/html": [
       "Run data is saved locally in <code>/home/jovyan/BioBLP/notebooks/wandb/run-20230227_211449-3m6h9pvc</code>"
      ],
      "text/plain": [
       "<IPython.core.display.HTML object>"
      ]
     },
     "metadata": {},
     "output_type": "display_data"
    },
    {
     "data": {
      "text/html": [
       "Syncing run <strong><a href=\"https://wandb.ai/discoverylab/bioblp-jupyter-trial/runs/3m6h9pvc\" target=\"_blank\">genial-capybara-29</a></strong> to <a href=\"https://wandb.ai/discoverylab/bioblp-jupyter-trial\" target=\"_blank\">Weights & Biases</a> (<a href=\"https://wandb.me/run\" target=\"_blank\">docs</a>)<br/>"
      ],
      "text/plain": [
       "<IPython.core.display.HTML object>"
      ]
     },
     "metadata": {},
     "output_type": "display_data"
    },
    {
     "name": "stderr",
     "output_type": "stream",
     "text": [
      "Evaluating over each relation:  12%|█▏        | 2/17 [01:43<13:07, 52.51s/it]"
     ]
    }
   ],
   "source": [
    "model_name = MODEL_ID\n",
    "STUDY_EVAL_REL_BREAKDOWN = 'eval-rel-breakdown'\n",
    "out_dir = Path(f'metrics/{MODEL_ID}')\n",
    "rel_results_dicts = {}\n",
    "for test_set_slug in TEST_SET_LIST:\n",
    "    func_kwargs = {\"model\": model,\n",
    "                  \"eval_test_set_slug\": test_set_slug}\n",
    "\n",
    "    rel_results = run_experiment(study_name=STUDY_EVAL_REL_BREAKDOWN, \n",
    "                   test_set_slug=test_set_slug, \n",
    "                   model_name=model_name, \n",
    "                   eval_func=eval_breakdown_by_rel_type, \n",
    "                   **func_kwargs\n",
    "                  )\n",
    "    rel_results_dicts[test_set_slug] = rel_results\n",
    "    \n",
    "with open(out_dir.joinpath(f'{STUDY_EVAL_REL_BREAKDOWN}.json'), 'w+') as f:\n",
    "    json.dump(rel_results_dicts, f)\n"
   ]
  },
  {
   "cell_type": "code",
   "execution_count": null,
   "id": "6fef7fd7",
   "metadata": {},
   "outputs": [],
   "source": []
  },
  {
   "cell_type": "code",
   "execution_count": null,
   "id": "2e335207",
   "metadata": {},
   "outputs": [],
   "source": []
  },
  {
   "cell_type": "code",
   "execution_count": null,
   "id": "ecfd52da",
   "metadata": {},
   "outputs": [],
   "source": []
  },
  {
   "cell_type": "markdown",
   "id": "a2c81261",
   "metadata": {},
   "source": [
    "## analyse effect of node degree?\n",
    "1. compute a degree table for entities in train"
   ]
  },
  {
   "cell_type": "code",
   "execution_count": 42,
   "id": "c741d543",
   "metadata": {},
   "outputs": [
    {
     "name": "stderr",
     "output_type": "stream",
     "text": [
      "Reconstructing all label-based triples. This is expensive and rarely needed.\n"
     ]
    },
    {
     "data": {
      "text/html": [
       "<div>\n",
       "<style scoped>\n",
       "    .dataframe tbody tr th:only-of-type {\n",
       "        vertical-align: middle;\n",
       "    }\n",
       "\n",
       "    .dataframe tbody tr th {\n",
       "        vertical-align: top;\n",
       "    }\n",
       "\n",
       "    .dataframe thead th {\n",
       "        text-align: right;\n",
       "    }\n",
       "</style>\n",
       "<table border=\"1\" class=\"dataframe\">\n",
       "  <thead>\n",
       "    <tr style=\"text-align: right;\">\n",
       "      <th></th>\n",
       "      <th>src</th>\n",
       "      <th>rel</th>\n",
       "      <th>tgt</th>\n",
       "    </tr>\n",
       "  </thead>\n",
       "  <tbody>\n",
       "    <tr>\n",
       "      <th>0</th>\n",
       "      <td>A0A075B6P5</td>\n",
       "      <td>MEMBER_OF_COMPLEX</td>\n",
       "      <td>R-HSA-1479277</td>\n",
       "    </tr>\n",
       "    <tr>\n",
       "      <th>1</th>\n",
       "      <td>A0A075B6P5</td>\n",
       "      <td>MEMBER_OF_COMPLEX</td>\n",
       "      <td>R-HSA-1591211</td>\n",
       "    </tr>\n",
       "  </tbody>\n",
       "</table>\n",
       "</div>"
      ],
      "text/plain": [
       "          src                rel            tgt\n",
       "0  A0A075B6P5  MEMBER_OF_COMPLEX  R-HSA-1479277\n",
       "1  A0A075B6P5  MEMBER_OF_COMPLEX  R-HSA-1591211"
      ]
     },
     "execution_count": 42,
     "metadata": {},
     "output_type": "execute_result"
    }
   ],
   "source": [
    "training_df = pd.DataFrame(train.triples, columns=[COL_SOURCE, COL_EDGE, COL_TARGET])\n",
    "training_df[:2]"
   ]
  },
  {
   "cell_type": "code",
   "execution_count": 43,
   "id": "72216533",
   "metadata": {
    "scrolled": true
   },
   "outputs": [
    {
     "data": {
      "text/plain": [
       "PROTEIN_DISEASE_ASSOCIATION    89804\n",
       "DRUG_DISEASE_ASSOCIATION       53426\n",
       "DISEASE_GENETIC_DISORDER        4339\n",
       "DISEASE_PATHWAY_ASSOCIATION     2945\n",
       "Name: rel, dtype: int64"
      ]
     },
     "execution_count": 43,
     "metadata": {},
     "output_type": "execute_result"
    }
   ],
   "source": [
    "# not a nec step, but to ease computation, let's restrict the triples to disease node containg triples\n",
    "training_df = training_df[training_df[COL_EDGE].isin(list(dis_assoc_rels.keys()))]\n",
    "training_df.rel.value_counts()"
   ]
  },
  {
   "cell_type": "code",
   "execution_count": null,
   "id": "0747dd07",
   "metadata": {},
   "outputs": [],
   "source": [
    "def compute_node_degrees(triple_df):\n",
    "    out_degree_df = training_df.groupby(COL_SOURCE)[COL_EDGE].agg(\"count\").reset_index()\n",
    "    out_degree_df.rename(columns={COL_SOURCE: COL_NODE, COL_EDGE: OUT_DEGREE}, inplace=True)\n",
    "    in_degree_df = training_df.groupby(COL_TARGET)[COL_EDGE].agg(\"count\").reset_index()\n",
    "    in_degree_df.rename(columns={COL_TARGET: COL_NODE, COL_EDGE: IN_DEGREE}, inplace=True)\n",
    "    node_degree_df = out_degree_df.merge(in_degree_df, on=COL_NODE, how=\"outer\")\n",
    "    node_degree_df = node_degree_df.fillna(0)\n",
    "    node_degree_df[DEGREE] = node_degree_df.in_degree+node_degree_df.out_degree\n",
    "    node_degree_df = node_degree_df.fillna(0)\n",
    "    return node_degree_df\n"
   ]
  },
  {
   "cell_type": "code",
   "execution_count": 45,
   "id": "e3109a3b",
   "metadata": {},
   "outputs": [],
   "source": [
    "node_degree_df = compute_node_degrees(training_df)"
   ]
  },
  {
   "cell_type": "code",
   "execution_count": 46,
   "id": "f090e6eb",
   "metadata": {},
   "outputs": [
    {
     "data": {
      "text/html": [
       "<div>\n",
       "<style scoped>\n",
       "    .dataframe tbody tr th:only-of-type {\n",
       "        vertical-align: middle;\n",
       "    }\n",
       "\n",
       "    .dataframe tbody tr th {\n",
       "        vertical-align: top;\n",
       "    }\n",
       "\n",
       "    .dataframe thead th {\n",
       "        text-align: right;\n",
       "    }\n",
       "</style>\n",
       "<table border=\"1\" class=\"dataframe\">\n",
       "  <thead>\n",
       "    <tr style=\"text-align: right;\">\n",
       "      <th></th>\n",
       "      <th>ent</th>\n",
       "      <th>out_degree</th>\n",
       "      <th>in_degree</th>\n",
       "      <th>degree</th>\n",
       "      <th>is_disease</th>\n",
       "    </tr>\n",
       "  </thead>\n",
       "  <tbody>\n",
       "    <tr>\n",
       "      <th>666</th>\n",
       "      <td>C000600608</td>\n",
       "      <td>4.0</td>\n",
       "      <td>4.0</td>\n",
       "      <td>8.0</td>\n",
       "      <td>True</td>\n",
       "    </tr>\n",
       "    <tr>\n",
       "      <th>678</th>\n",
       "      <td>C531816</td>\n",
       "      <td>5.0</td>\n",
       "      <td>7.0</td>\n",
       "      <td>12.0</td>\n",
       "      <td>True</td>\n",
       "    </tr>\n",
       "  </tbody>\n",
       "</table>\n",
       "</div>"
      ],
      "text/plain": [
       "            ent  out_degree  in_degree  degree  is_disease\n",
       "666  C000600608         4.0        4.0     8.0        True\n",
       "678     C531816         5.0        7.0    12.0        True"
      ]
     },
     "execution_count": 46,
     "metadata": {},
     "output_type": "execute_result"
    }
   ],
   "source": [
    "node_degree_df[\"is_disease\"] = node_degree_df[COL_NODE].apply(lambda x: x in biokgb_disease_ents)\n",
    "dis_node_degree_df = node_degree_df[node_degree_df.is_disease]\n",
    "dis_node_degree_df[:2]"
   ]
  },
  {
   "cell_type": "code",
   "execution_count": 49,
   "id": "da999ade",
   "metadata": {},
   "outputs": [
    {
     "data": {
      "text/html": [
       "<div>\n",
       "<style scoped>\n",
       "    .dataframe tbody tr th:only-of-type {\n",
       "        vertical-align: middle;\n",
       "    }\n",
       "\n",
       "    .dataframe tbody tr th {\n",
       "        vertical-align: top;\n",
       "    }\n",
       "\n",
       "    .dataframe thead th {\n",
       "        text-align: right;\n",
       "    }\n",
       "</style>\n",
       "<table border=\"1\" class=\"dataframe\">\n",
       "  <thead>\n",
       "    <tr style=\"text-align: right;\">\n",
       "      <th></th>\n",
       "      <th>src</th>\n",
       "      <th>rel</th>\n",
       "      <th>tgt</th>\n",
       "      <th>src_dis_degree</th>\n",
       "      <th>tgt_dis_degree</th>\n",
       "      <th>dis_degree</th>\n",
       "    </tr>\n",
       "  </thead>\n",
       "  <tbody>\n",
       "    <tr>\n",
       "      <th>0</th>\n",
       "      <td>A0A0G2K344</td>\n",
       "      <td>PROTEIN_DISEASE_ASSOCIATION</td>\n",
       "      <td>D000077192</td>\n",
       "      <td>0.0</td>\n",
       "      <td>464.0</td>\n",
       "      <td>464.0</td>\n",
       "    </tr>\n",
       "    <tr>\n",
       "      <th>1</th>\n",
       "      <td>A0A0G2K344</td>\n",
       "      <td>PROTEIN_DISEASE_ASSOCIATION</td>\n",
       "      <td>D000077274</td>\n",
       "      <td>0.0</td>\n",
       "      <td>56.0</td>\n",
       "      <td>56.0</td>\n",
       "    </tr>\n",
       "    <tr>\n",
       "      <th>2</th>\n",
       "      <td>A0A0G2K344</td>\n",
       "      <td>PROTEIN_DISEASE_ASSOCIATION</td>\n",
       "      <td>D009062</td>\n",
       "      <td>0.0</td>\n",
       "      <td>180.0</td>\n",
       "      <td>180.0</td>\n",
       "    </tr>\n",
       "    <tr>\n",
       "      <th>3</th>\n",
       "      <td>A0A0R4IKU3</td>\n",
       "      <td>PROTEIN_DISEASE_ASSOCIATION</td>\n",
       "      <td>D009361</td>\n",
       "      <td>0.0</td>\n",
       "      <td>599.0</td>\n",
       "      <td>599.0</td>\n",
       "    </tr>\n",
       "    <tr>\n",
       "      <th>4</th>\n",
       "      <td>A0A0R4IQZ2</td>\n",
       "      <td>PROTEIN_DISEASE_ASSOCIATION</td>\n",
       "      <td>D000686</td>\n",
       "      <td>0.0</td>\n",
       "      <td>38.0</td>\n",
       "      <td>38.0</td>\n",
       "    </tr>\n",
       "  </tbody>\n",
       "</table>\n",
       "</div>"
      ],
      "text/plain": [
       "          src                          rel         tgt  src_dis_degree  \\\n",
       "0  A0A0G2K344  PROTEIN_DISEASE_ASSOCIATION  D000077192             0.0   \n",
       "1  A0A0G2K344  PROTEIN_DISEASE_ASSOCIATION  D000077274             0.0   \n",
       "2  A0A0G2K344  PROTEIN_DISEASE_ASSOCIATION     D009062             0.0   \n",
       "3  A0A0R4IKU3  PROTEIN_DISEASE_ASSOCIATION     D009361             0.0   \n",
       "4  A0A0R4IQZ2  PROTEIN_DISEASE_ASSOCIATION     D000686             0.0   \n",
       "\n",
       "   tgt_dis_degree  dis_degree  \n",
       "0           464.0       464.0  \n",
       "1            56.0        56.0  \n",
       "2           180.0       180.0  \n",
       "3           599.0       599.0  \n",
       "4            38.0        38.0  "
      ]
     },
     "execution_count": 49,
     "metadata": {},
     "output_type": "execute_result"
    }
   ],
   "source": [
    "# now bucket the test triples according to node degree\n",
    "dis_degree_dict = pd.Series(dis_node_degree_df.degree.values,index=dis_node_degree_df.ent).to_dict()\n",
    "test_triples_dis_df = pd.DataFrame(test_triples_disease.triples, columns=[\"src\", \"rel\", \"tgt\"])\n",
    "def retrieve_node_degree(node, node2degree_dict):\n",
    "    return node2degree_dict.get(node, 0)\n",
    "\n",
    "test_triples_dis_df[\"src_dis_degree\"] = test_triples_dis_df[\"src\"].apply(lambda x: retrieve_node_degree(x, dis_degree_dict))\n",
    "test_triples_dis_df[\"tgt_dis_degree\"] = test_triples_dis_df[\"tgt\"].apply(lambda x: retrieve_node_degree(x, dis_degree_dict))\n",
    "test_triples_dis_df[\"dis_degree\"] = test_triples_dis_df.src_dis_degree + test_triples_dis_df.tgt_dis_degree\n",
    "test_triples_dis_df[:3]  \n",
    "test_triples_dis_df.head()"
   ]
  },
  {
   "cell_type": "code",
   "execution_count": 50,
   "id": "2f5788a1",
   "metadata": {},
   "outputs": [
    {
     "data": {
      "text/plain": [
       "count    17063.000000\n",
       "mean       300.116451\n",
       "std        422.864546\n",
       "min          1.000000\n",
       "25%         46.000000\n",
       "50%        144.000000\n",
       "75%        377.000000\n",
       "max       2448.000000\n",
       "Name: dis_degree, dtype: float64"
      ]
     },
     "execution_count": 50,
     "metadata": {},
     "output_type": "execute_result"
    }
   ],
   "source": [
    "test_triples_dis_df.dis_degree.describe()"
   ]
  },
  {
   "cell_type": "markdown",
   "id": "f277e6e9",
   "metadata": {},
   "source": [
    "### average performance predicting the node which has an entity degree of x\n",
    "\n",
    "Let's focus only on 'PROTEIN_DISEASE_ASSOCIATION', 'DRUG_DISEASE_ASSOCIATION' which have more support.\n",
    "\n",
    "The disease entity is the tail entity in these triples"
   ]
  },
  {
   "cell_type": "code",
   "execution_count": 52,
   "id": "2d9dd1dd",
   "metadata": {},
   "outputs": [
    {
     "data": {
      "text/html": [
       "<div>\n",
       "<style scoped>\n",
       "    .dataframe tbody tr th:only-of-type {\n",
       "        vertical-align: middle;\n",
       "    }\n",
       "\n",
       "    .dataframe tbody tr th {\n",
       "        vertical-align: top;\n",
       "    }\n",
       "\n",
       "    .dataframe thead th {\n",
       "        text-align: right;\n",
       "    }\n",
       "</style>\n",
       "<table border=\"1\" class=\"dataframe\">\n",
       "  <thead>\n",
       "    <tr style=\"text-align: right;\">\n",
       "      <th></th>\n",
       "      <th>src</th>\n",
       "      <th>rel</th>\n",
       "      <th>tgt</th>\n",
       "      <th>src_dis_degree</th>\n",
       "      <th>tgt_dis_degree</th>\n",
       "      <th>dis_degree</th>\n",
       "    </tr>\n",
       "  </thead>\n",
       "  <tbody>\n",
       "    <tr>\n",
       "      <th>0</th>\n",
       "      <td>A0A0G2K344</td>\n",
       "      <td>PROTEIN_DISEASE_ASSOCIATION</td>\n",
       "      <td>D000077192</td>\n",
       "      <td>0.0</td>\n",
       "      <td>464.0</td>\n",
       "      <td>464.0</td>\n",
       "    </tr>\n",
       "    <tr>\n",
       "      <th>1</th>\n",
       "      <td>A0A0G2K344</td>\n",
       "      <td>PROTEIN_DISEASE_ASSOCIATION</td>\n",
       "      <td>D000077274</td>\n",
       "      <td>0.0</td>\n",
       "      <td>56.0</td>\n",
       "      <td>56.0</td>\n",
       "    </tr>\n",
       "  </tbody>\n",
       "</table>\n",
       "</div>"
      ],
      "text/plain": [
       "          src                          rel         tgt  src_dis_degree  \\\n",
       "0  A0A0G2K344  PROTEIN_DISEASE_ASSOCIATION  D000077192             0.0   \n",
       "1  A0A0G2K344  PROTEIN_DISEASE_ASSOCIATION  D000077274             0.0   \n",
       "\n",
       "   tgt_dis_degree  dis_degree  \n",
       "0           464.0       464.0  \n",
       "1            56.0        56.0  "
      ]
     },
     "execution_count": 52,
     "metadata": {},
     "output_type": "execute_result"
    }
   ],
   "source": [
    "test_triples_dis_tail_df = test_triples_dis_df.loc[test_triples_dis_df[COL_EDGE].isin(['PROTEIN_DISEASE_ASSOCIATION', 'DRUG_DISEASE_ASSOCIATION'])]\n",
    "test_triples_dis_tail_df[:2]"
   ]
  },
  {
   "cell_type": "code",
   "execution_count": 53,
   "id": "d1b19182",
   "metadata": {},
   "outputs": [
    {
     "data": {
      "text/plain": [
       "464.0"
      ]
     },
     "execution_count": 53,
     "metadata": {},
     "output_type": "execute_result"
    }
   ],
   "source": [
    "dis_degree_values = test_triples_dis_df[\"dis_degree\"].unique()\n",
    "dis_degree_values[0]"
   ]
  },
  {
   "cell_type": "code",
   "execution_count": 55,
   "id": "f267426f",
   "metadata": {},
   "outputs": [
    {
     "data": {
      "image/png": "[encoded data removed]",
      "text/plain": [
       "<Figure size 432x288 with 1 Axes>"
      ]
     },
     "metadata": {
      "needs_background": "light"
     },
     "output_type": "display_data"
    }
   ],
   "source": [
    "import seaborn as sns\n",
    "disease_degrees = test_triples_dis_tail_df.groupby(['dis_degree'])[COL_EDGE].agg('count').reset_index()\n",
    "sns.scatterplot(data=disease_degrees, x='dis_degree', y='rel')\n",
    "plt.xscale('log')\n",
    "#plt.yscale('log')"
   ]
  },
  {
   "cell_type": "code",
   "execution_count": 56,
   "id": "a38f34ac",
   "metadata": {},
   "outputs": [],
   "source": [
    "from pykeen.triples.triples_factory import TriplesFactory\n",
    "evaluator = RankBasedEvaluator()\n",
    "\n",
    "def compute_metrics_over_triples_with_disease_tails(test_triples_w_node_degree_df, test_set_slug):#, quantiles=quantiles_map.keys()):\n",
    "    if VALID in test_set_slug:\n",
    "        test_type = VALID\n",
    "    else:\n",
    "        test_type = TEST\n",
    "    additional_filter_triples = obtain_filtered_triples(test_type=test_type,\n",
    "                                                        train_triples=triples_dict[TRAIN],\n",
    "                                                        valid_triples=triples_dict[VALID]\n",
    "                                                       )\n",
    "    test_triples_with_dis_tail_df = test_triples_w_node_degree_df.loc[test_triples_w_node_degree_df[COL_EDGE].isin(['PROTEIN_DISEASE_ASSOCIATION', 'DRUG_DISEASE_ASSOCIATION'])]\n",
    "    dis_degree_values = test_triples_with_dis_tail_df[\"dis_degree\"].unique()\n",
    "    result_dicts = []\n",
    "    \n",
    "    for degree_val in tqdm(dis_degree_values): \n",
    "        df_subset = test_triples_with_dis_tail_df.loc[test_triples_with_dis_tail_df[\"dis_degree\"]==degree_val][[COL_SOURCE, COL_EDGE, COL_TARGET]]\n",
    "        triples_subset = df_subset.values\n",
    "        triples_subset = TriplesFactory.from_labeled_triples(triples_subset, \n",
    "                                                             relation_to_id=triples_dict[TRAIN].relation_to_id, \n",
    "                                                             entity_to_id=triples_dict[TRAIN].entity_to_id)\n",
    "        if triples_subset.num_triples > 0:\n",
    "            subset_result = evaluator.evaluate(model,\n",
    "                                               triples_subset.mapped_triples, \n",
    "                                               additional_filter_triples=additional_filter_triples,\n",
    "                                               use_tqdm=False)\n",
    "            result_dicts.append({'dis_degree': degree_val, 'results': subset_result, 'relation': 'All', 'count': triples_subset.num_triples})\n",
    "    return result_dicts\n",
    "\n"
   ]
  },
  {
   "cell_type": "code",
   "execution_count": 57,
   "id": "108ca8e3",
   "metadata": {},
   "outputs": [],
   "source": [
    "MODEL_ID = MODELS.get(BIOBLP-D)\n",
    "base_path = SHARED_DATA_DIR.joinpath(f\"models/{MODEL_ID}\")\n",
    "model_path = base_path.joinpath(\"trained_model.pkl\")\n",
    "device = torch.device('cuda' if torch.cuda.is_available() else 'cpu')\n",
    "\n",
    "model = torch.load(model_path, map_location=torch.device(device))\n",
    "#train = TriplesFactory.from_path_binary(base_path.joinpath(\"training_triples\"))"
   ]
  },
  {
   "cell_type": "code",
   "execution_count": null,
   "id": "3fc3800a",
   "metadata": {},
   "outputs": [
    {
     "name": "stderr",
     "output_type": "stream",
     "text": [
      " 24%|██▍       | 72/301 [19:12<56:27, 14.79s/it]  "
     ]
    }
   ],
   "source": [
    "results_by_node_degree_bioblpd = compute_metrics_over_triples_with_disease_tails(test_triples_dis_df, test_set_slug=TEST_RESTRICTED_DIS)"
   ]
  },
  {
   "cell_type": "code",
   "execution_count": null,
   "id": "4456d4d3",
   "metadata": {},
   "outputs": [],
   "source": [
    "results_by_node_degree = compute_metrics_over_triples_with_disease_tails(test_triples_dis_df, test_set_slug=TEST_RESTRICTED_DIS)"
   ]
  },
  {
   "cell_type": "code",
   "execution_count": null,
   "id": "3e0e22d8",
   "metadata": {},
   "outputs": [],
   "source": [
    "results_by_node_degree_dicts_bioblpd = {}\n",
    "for result in results_by_node_degree:\n",
    "         results_by_node_degree_dicts_bioblpd[result['dis_degree']] = make_results_dict(result['results'],\n",
    "                                                                                relation=result['relation'],\n",
    "                                                                                relation_count=result['count'],\n",
    "                                                                                triple_endpoint='tail',\n",
    "                                                                                metric_type='realistic'\n",
    "                                                                               )\n",
    "results_by_node_degree_dicts_bioblpd"
   ]
  },
  {
   "cell_type": "code",
   "execution_count": null,
   "id": "a135b41d",
   "metadata": {},
   "outputs": [],
   "source": [
    "metric_name = 'hits_at_1'\n",
    "degrees = list(results_by_node_degree_dicts_bioblpd.keys())\n",
    "metrics = []\n",
    "for deg, metric in results_by_node_degree_dicts_bioblpd.items():\n",
    "    metrics.append(metric[metric_name])\n",
    "model_name"
   ]
  },
  {
   "cell_type": "code",
   "execution_count": 214,
   "id": "aaffdf04",
   "metadata": {},
   "outputs": [
    {
     "name": "stderr",
     "output_type": "stream",
     "text": [
      "/home/jovyan/.conda/envs/bioblp-env/lib/python3.8/site-packages/seaborn/_decorators.py:36: FutureWarning: Pass the following variables as keyword args: x, y. From version 0.12, the only valid positional argument will be `data`, and passing other arguments without an explicit keyword will result in an error or misinterpretation.\n",
      "  warnings.warn(\n"
     ]
    },
    {
     "data": {
      "text/plain": [
       "Text(0.5, 1.0, 'Average hits_at_1 predicting disease nodes Vs. disease node degree | Model: bioblpd-38uz9fjs')"
      ]
     },
     "execution_count": 214,
     "metadata": {},
     "output_type": "execute_result"
    },
    {
     "data": {
      "image/png": "[encoded data removed]",
      "text/plain": [
       "<Figure size 432x288 with 1 Axes>"
      ]
     },
     "metadata": {
      "needs_background": "light"
     },
     "output_type": "display_data"
    }
   ],
   "source": [
    "sns.scatterplot(degreeBIOBLP_D metrics)\n",
    "plt.xscale('log')\n",
    "plt.ylabel(metric_name)\n",
    "plt.title(f'Average {metric_name} predicting disease nodes Vs. disease node degree | Model: {model_name}')"
   ]
  },
  {
   "cell_type": "code",
   "execution_count": 57,
   "id": "2366bd68",
   "metadata": {},
   "outputs": [],
   "source": [
    "MODEL_ID = MODELS.get(ROTATE)\n",
    "base_path = SHARED_DATA_DIR.joinpath(f\"models/{MODEL_ID}\")\n",
    "model_path = base_path.joinpath(\"trained_model.pkl\")\n",
    "device = torch.device('cuda' if torch.cuda.is_available() else 'cpu')\n",
    "\n",
    "model = torch.load(model_path, map_location=torch.device(device))\n",
    "#train = TriplesFactory.from_path_binary(base_path.joinpath(\"training_triples\"))"
   ]
  },
  {
   "cell_type": "code",
   "execution_count": 58,
   "id": "3bcad806",
   "metadata": {},
   "outputs": [
    {
     "name": "stderr",
     "output_type": "stream",
     "text": [
      "100%|██████████| 301/301 [1:12:23<00:00, 14.43s/it]\n"
     ]
    }
   ],
   "source": [
    "results_by_node_degree_rotate = compute_metrics_over_triples_with_disease_tails(test_triples_dis_df, test_set_slug=TEST_RESTRICTED_DIS)"
   ]
  },
  {
   "cell_type": "code",
   "execution_count": 59,
   "id": "ac84a407",
   "metadata": {
    "collapsed": true,
    "jupyter": {
     "outputs_hidden": true
    }
   },
   "outputs": [
    {
     "data": {
      "text/plain": [
       "{464.0: {'Relation': 'All',\n",
       "  'Count': 46,\n",
       "  'arithmetic_mean_rank': 62.10869598388672,\n",
       "  'adjusted_arithmetic_mean_rank': 0.0011716247877824547,\n",
       "  'inverse_harmonic_mean_rank': 0.35722234974736755,\n",
       "  'hits_at_1': 0.2608695652173913,\n",
       "  'hits_at_3': 0.41304347826086957,\n",
       "  'hits_at_5': 0.41304347826086957,\n",
       "  'hits_at_10': 0.43478260869565216},\n",
       " 56.0: {'Relation': 'All',\n",
       "  'Count': 72,\n",
       "  'arithmetic_mean_rank': 180.36111450195312,\n",
       "  'adjusted_arithmetic_mean_rank': 0.003403222721383257,\n",
       "  'inverse_harmonic_mean_rank': 0.07735846439997354,\n",
       "  'hits_at_1': 0.027777777777777776,\n",
       "  'hits_at_3': 0.06944444444444445,\n",
       "  'hits_at_5': 0.08333333333333333,\n",
       "  'hits_at_10': 0.20833333333333334},\n",
       " 180.0: {'Relation': 'All',\n",
       "  'Count': 27,\n",
       "  'arithmetic_mean_rank': 26.592592239379883,\n",
       "  'adjusted_arithmetic_mean_rank': 0.0005016189019948133,\n",
       "  'inverse_harmonic_mean_rank': 0.1798368913156015,\n",
       "  'hits_at_1': 0.07407407407407407,\n",
       "  'hits_at_3': 0.18518518518518517,\n",
       "  'hits_at_5': 0.2222222222222222,\n",
       "  'hits_at_10': 0.4444444444444444},\n",
       " 599.0: {'Relation': 'All',\n",
       "  'Count': 67,\n",
       "  'arithmetic_mean_rank': 33.44776153564453,\n",
       "  'adjusted_arithmetic_mean_rank': 0.0006309787837646665,\n",
       "  'inverse_harmonic_mean_rank': 0.3007421351190823,\n",
       "  'hits_at_1': 0.19402985074626866,\n",
       "  'hits_at_3': 0.31343283582089554,\n",
       "  'hits_at_5': 0.40298507462686567,\n",
       "  'hits_at_10': 0.47761194029850745},\n",
       " 38.0: {'Relation': 'All',\n",
       "  'Count': 55,\n",
       "  'arithmetic_mean_rank': 196.29090881347656,\n",
       "  'adjusted_arithmetic_mean_rank': 0.003703812338141741,\n",
       "  'inverse_harmonic_mean_rank': 0.11557822660966353,\n",
       "  'hits_at_1': 0.03636363636363636,\n",
       "  'hits_at_3': 0.16363636363636364,\n",
       "  'hits_at_5': 0.23636363636363636,\n",
       "  'hits_at_10': 0.2909090909090909},\n",
       " 185.0: {'Relation': 'All',\n",
       "  'Count': 36,\n",
       "  'arithmetic_mean_rank': 170.0833282470703,\n",
       "  'adjusted_arithmetic_mean_rank': 0.0032087880951990446,\n",
       "  'inverse_harmonic_mean_rank': 0.03384529882007175,\n",
       "  'hits_at_1': 0.0,\n",
       "  'hits_at_3': 0.027777777777777776,\n",
       "  'hits_at_5': 0.027777777777777776,\n",
       "  'hits_at_10': 0.027777777777777776},\n",
       " 63.0: {'Relation': 'All',\n",
       "  'Count': 55,\n",
       "  'arithmetic_mean_rank': 168.96363830566406,\n",
       "  'adjusted_arithmetic_mean_rank': 0.003188561975656557,\n",
       "  'inverse_harmonic_mean_rank': 0.047879994999278676,\n",
       "  'hits_at_1': 0.0,\n",
       "  'hits_at_3': 0.03636363636363636,\n",
       "  'hits_at_5': 0.05454545454545454,\n",
       "  'hits_at_10': 0.12727272727272726},\n",
       " 140.0: {'Relation': 'All',\n",
       "  'Count': 96,\n",
       "  'arithmetic_mean_rank': 156.2395782470703,\n",
       "  'adjusted_arithmetic_mean_rank': 0.0029481816636851193,\n",
       "  'inverse_harmonic_mean_rank': 0.08903095126152039,\n",
       "  'hits_at_1': 0.041666666666666664,\n",
       "  'hits_at_3': 0.0625,\n",
       "  'hits_at_5': 0.11458333333333333,\n",
       "  'hits_at_10': 0.20833333333333334},\n",
       " 212.0: {'Relation': 'All',\n",
       "  'Count': 23,\n",
       "  'arithmetic_mean_rank': 43.30434799194336,\n",
       "  'adjusted_arithmetic_mean_rank': 0.0008173206357168272,\n",
       "  'inverse_harmonic_mean_rank': 0.08328969063966171,\n",
       "  'hits_at_1': 0.043478260869565216,\n",
       "  'hits_at_3': 0.043478260869565216,\n",
       "  'hits_at_5': 0.043478260869565216,\n",
       "  'hits_at_10': 0.13043478260869565},\n",
       " 145.0: {'Relation': 'All',\n",
       "  'Count': 48,\n",
       "  'arithmetic_mean_rank': 81.47916412353516,\n",
       "  'adjusted_arithmetic_mean_rank': 0.0015370838197770883,\n",
       "  'inverse_harmonic_mean_rank': 0.07933561007181804,\n",
       "  'hits_at_1': 0.020833333333333332,\n",
       "  'hits_at_3': 0.041666666666666664,\n",
       "  'hits_at_5': 0.10416666666666667,\n",
       "  'hits_at_10': 0.1875},\n",
       " 423.0: {'Relation': 'All',\n",
       "  'Count': 50,\n",
       "  'arithmetic_mean_rank': 63.65999984741211,\n",
       "  'adjusted_arithmetic_mean_rank': 0.0012010722455978063,\n",
       "  'inverse_harmonic_mean_rank': 0.22204509735107422,\n",
       "  'hits_at_1': 0.12,\n",
       "  'hits_at_3': 0.22,\n",
       "  'hits_at_5': 0.38,\n",
       "  'hits_at_10': 0.44},\n",
       " 33.0: {'Relation': 'All',\n",
       "  'Count': 78,\n",
       "  'arithmetic_mean_rank': 988.1089477539062,\n",
       "  'adjusted_arithmetic_mean_rank': 0.01864262480346714,\n",
       "  'inverse_harmonic_mean_rank': 0.07560155330560146,\n",
       "  'hits_at_1': 0.038461538461538464,\n",
       "  'hits_at_3': 0.0641025641025641,\n",
       "  'hits_at_5': 0.10256410256410256,\n",
       "  'hits_at_10': 0.14102564102564102},\n",
       " 116.0: {'Relation': 'All',\n",
       "  'Count': 44,\n",
       "  'arithmetic_mean_rank': 108.29545593261719,\n",
       "  'adjusted_arithmetic_mean_rank': 0.0020432960320114187,\n",
       "  'inverse_harmonic_mean_rank': 0.15714060176502576,\n",
       "  'hits_at_1': 0.11363636363636363,\n",
       "  'hits_at_3': 0.1590909090909091,\n",
       "  'hits_at_5': 0.20454545454545456,\n",
       "  'hits_at_10': 0.20454545454545456},\n",
       " 2448.0: {'Relation': 'All',\n",
       "  'Count': 204,\n",
       "  'arithmetic_mean_rank': 15.328431129455566,\n",
       "  'adjusted_arithmetic_mean_rank': 0.00028911401580843804,\n",
       "  'inverse_harmonic_mean_rank': 0.2698989007987228,\n",
       "  'hits_at_1': 0.10784313725490197,\n",
       "  'hits_at_3': 0.3137254901960784,\n",
       "  'hits_at_5': 0.46078431372549017,\n",
       "  'hits_at_10': 0.6666666666666666},\n",
       " 15.0: {'Relation': 'All',\n",
       "  'Count': 114,\n",
       "  'arithmetic_mean_rank': 780.6008911132812,\n",
       "  'adjusted_arithmetic_mean_rank': 0.014729093915719839,\n",
       "  'inverse_harmonic_mean_rank': 0.06461811065673828,\n",
       "  'hits_at_1': 0.043859649122807015,\n",
       "  'hits_at_3': 0.05263157894736842,\n",
       "  'hits_at_5': 0.07894736842105263,\n",
       "  'hits_at_10': 0.10526315789473684},\n",
       " 402.0: {'Relation': 'All',\n",
       "  'Count': 39,\n",
       "  'arithmetic_mean_rank': 63.20512771606445,\n",
       "  'adjusted_arithmetic_mean_rank': 0.001192226288385038,\n",
       "  'inverse_harmonic_mean_rank': 0.046678692866594367,\n",
       "  'hits_at_1': 0.0,\n",
       "  'hits_at_3': 0.0,\n",
       "  'hits_at_5': 0.05128205128205128,\n",
       "  'hits_at_10': 0.1282051282051282},\n",
       " 457.0: {'Relation': 'All',\n",
       "  'Count': 39,\n",
       "  'arithmetic_mean_rank': 12.692307472229004,\n",
       "  'adjusted_arithmetic_mean_rank': 0.00023946400283531726,\n",
       "  'inverse_harmonic_mean_rank': 0.39339312528952575,\n",
       "  'hits_at_1': 0.2564102564102564,\n",
       "  'hits_at_3': 0.4358974358974359,\n",
       "  'hits_at_5': 0.5641025641025641,\n",
       "  'hits_at_10': 0.717948717948718},\n",
       " 443.0: {'Relation': 'All',\n",
       "  'Count': 51,\n",
       "  'arithmetic_mean_rank': 68.78431701660156,\n",
       "  'adjusted_arithmetic_mean_rank': 0.0012976151949129194,\n",
       "  'inverse_harmonic_mean_rank': 0.23946017845004214,\n",
       "  'hits_at_1': 0.1568627450980392,\n",
       "  'hits_at_3': 0.23529411764705882,\n",
       "  'hits_at_5': 0.29411764705882354,\n",
       "  'hits_at_10': 0.43137254901960786},\n",
       " 88.0: {'Relation': 'All',\n",
       "  'Count': 87,\n",
       "  'arithmetic_mean_rank': 96.73563385009766,\n",
       "  'adjusted_arithmetic_mean_rank': 0.0018252237953915692,\n",
       "  'inverse_harmonic_mean_rank': 0.23103665757453304,\n",
       "  'hits_at_1': 0.16091954022988506,\n",
       "  'hits_at_3': 0.2413793103448276,\n",
       "  'hits_at_5': 0.3103448275862069,\n",
       "  'hits_at_10': 0.3333333333333333},\n",
       " 54.0: {'Relation': 'All',\n",
       "  'Count': 71,\n",
       "  'arithmetic_mean_rank': 365.0704345703125,\n",
       "  'adjusted_arithmetic_mean_rank': 0.006887595182268744,\n",
       "  'inverse_harmonic_mean_rank': 0.08349647656292983,\n",
       "  'hits_at_1': 0.056338028169014086,\n",
       "  'hits_at_3': 0.07042253521126761,\n",
       "  'hits_at_5': 0.09859154929577464,\n",
       "  'hits_at_10': 0.1267605633802817},\n",
       " 44.0: {'Relation': 'All',\n",
       "  'Count': 89,\n",
       "  'arithmetic_mean_rank': 177.20223999023438,\n",
       "  'adjusted_arithmetic_mean_rank': 0.0033435827386512984,\n",
       "  'inverse_harmonic_mean_rank': 0.21762352846981434,\n",
       "  'hits_at_1': 0.14606741573033707,\n",
       "  'hits_at_3': 0.25842696629213485,\n",
       "  'hits_at_5': 0.30337078651685395,\n",
       "  'hits_at_10': 0.30337078651685395},\n",
       " 5.0: {'Relation': 'All',\n",
       "  'Count': 121,\n",
       "  'arithmetic_mean_rank': 3609.702392578125,\n",
       "  'adjusted_arithmetic_mean_rank': 0.06810720998633925,\n",
       "  'inverse_harmonic_mean_rank': 0.04617396267977628,\n",
       "  'hits_at_1': 0.024793388429752067,\n",
       "  'hits_at_3': 0.04132231404958678,\n",
       "  'hits_at_5': 0.05785123966942149,\n",
       "  'hits_at_10': 0.0743801652892562},\n",
       " 411.0: {'Relation': 'All',\n",
       "  'Count': 45,\n",
       "  'arithmetic_mean_rank': 58.622222900390625,\n",
       "  'adjusted_arithmetic_mean_rank': 0.0011058744993927032,\n",
       "  'inverse_harmonic_mean_rank': 0.21607089572482638,\n",
       "  'hits_at_1': 0.06666666666666667,\n",
       "  'hits_at_3': 0.28888888888888886,\n",
       "  'hits_at_5': 0.37777777777777777,\n",
       "  'hits_at_10': 0.5111111111111111},\n",
       " 124.0: {'Relation': 'All',\n",
       "  'Count': 20,\n",
       "  'arithmetic_mean_rank': 101.25,\n",
       "  'adjusted_arithmetic_mean_rank': 0.0019107504956156532,\n",
       "  'inverse_harmonic_mean_rank': 0.037218883633613586,\n",
       "  'hits_at_1': 0.0,\n",
       "  'hits_at_3': 0.0,\n",
       "  'hits_at_5': 0.05,\n",
       "  'hits_at_10': 0.15},\n",
       " 641.0: {'Relation': 'All',\n",
       "  'Count': 104,\n",
       "  'arithmetic_mean_rank': 21.115385055541992,\n",
       "  'adjusted_arithmetic_mean_rank': 0.0003983612849756788,\n",
       "  'inverse_harmonic_mean_rank': 0.2964026377751277,\n",
       "  'hits_at_1': 0.17307692307692307,\n",
       "  'hits_at_3': 0.2980769230769231,\n",
       "  'hits_at_5': 0.4519230769230769,\n",
       "  'hits_at_10': 0.5865384615384616},\n",
       " 9.0: {'Relation': 'All',\n",
       "  'Count': 105,\n",
       "  'arithmetic_mean_rank': 789.623779296875,\n",
       "  'adjusted_arithmetic_mean_rank': 0.014898852354295115,\n",
       "  'inverse_harmonic_mean_rank': 0.04532776333036877,\n",
       "  'hits_at_1': 0.01904761904761905,\n",
       "  'hits_at_3': 0.047619047619047616,\n",
       "  'hits_at_5': 0.047619047619047616,\n",
       "  'hits_at_10': 0.09523809523809523},\n",
       " 801.0: {'Relation': 'All',\n",
       "  'Count': 88,\n",
       "  'arithmetic_mean_rank': 23.06818199157715,\n",
       "  'adjusted_arithmetic_mean_rank': 0.0004351362475369604,\n",
       "  'inverse_harmonic_mean_rank': 0.22484829209067606,\n",
       "  'hits_at_1': 0.09090909090909091,\n",
       "  'hits_at_3': 0.26136363636363635,\n",
       "  'hits_at_5': 0.36363636363636365,\n",
       "  'hits_at_10': 0.5},\n",
       " 466.0: {'Relation': 'All',\n",
       "  'Count': 39,\n",
       "  'arithmetic_mean_rank': 89.74359130859375,\n",
       "  'adjusted_arithmetic_mean_rank': 0.001692716801246592,\n",
       "  'inverse_harmonic_mean_rank': 0.026206982441437553,\n",
       "  'hits_at_1': 0.0,\n",
       "  'hits_at_3': 0.0,\n",
       "  'hits_at_5': 0.0,\n",
       "  'hits_at_10': 0.05128205128205128},\n",
       " 1459.0: {'Relation': 'All',\n",
       "  'Count': 169,\n",
       "  'arithmetic_mean_rank': 11.57396411895752,\n",
       "  'adjusted_arithmetic_mean_rank': 0.00021832883293566686,\n",
       "  'inverse_harmonic_mean_rank': 0.39748468342617416,\n",
       "  'hits_at_1': 0.25443786982248523,\n",
       "  'hits_at_3': 0.4437869822485207,\n",
       "  'hits_at_5': 0.5621301775147929,\n",
       "  'hits_at_10': 0.7041420118343196},\n",
       " 384.0: {'Relation': 'All',\n",
       "  'Count': 25,\n",
       "  'arithmetic_mean_rank': 91.08000183105469,\n",
       "  'adjusted_arithmetic_mean_rank': 0.0017178922554720504,\n",
       "  'inverse_harmonic_mean_rank': 0.058279161453247075,\n",
       "  'hits_at_1': 0.04,\n",
       "  'hits_at_3': 0.04,\n",
       "  'hits_at_5': 0.04,\n",
       "  'hits_at_10': 0.04},\n",
       " 58.0: {'Relation': 'All',\n",
       "  'Count': 51,\n",
       "  'arithmetic_mean_rank': 1339.313720703125,\n",
       "  'adjusted_arithmetic_mean_rank': 0.02527113602122301,\n",
       "  'inverse_harmonic_mean_rank': 0.07233470561457615,\n",
       "  'hits_at_1': 0.0392156862745098,\n",
       "  'hits_at_3': 0.058823529411764705,\n",
       "  'hits_at_5': 0.09803921568627451,\n",
       "  'hits_at_10': 0.11764705882352941},\n",
       " 1823.0: {'Relation': 'All',\n",
       "  'Count': 196,\n",
       "  'arithmetic_mean_rank': 26.086734771728516,\n",
       "  'adjusted_arithmetic_mean_rank': 0.0004920483159358974,\n",
       "  'inverse_harmonic_mean_rank': 0.3194190044792331,\n",
       "  'hits_at_1': 0.15306122448979592,\n",
       "  'hits_at_3': 0.3877551020408163,\n",
       "  'hits_at_5': 0.5153061224489796,\n",
       "  'hits_at_10': 0.6785714285714286},\n",
       " 135.0: {'Relation': 'All',\n",
       "  'Count': 71,\n",
       "  'arithmetic_mean_rank': 204.0,\n",
       "  'adjusted_arithmetic_mean_rank': 0.0038487078369990923,\n",
       "  'inverse_harmonic_mean_rank': 0.05858757798100861,\n",
       "  'hits_at_1': 0.014084507042253521,\n",
       "  'hits_at_3': 0.056338028169014086,\n",
       "  'hits_at_5': 0.07042253521126761,\n",
       "  'hits_at_10': 0.09859154929577464},\n",
       " 460.0: {'Relation': 'All',\n",
       "  'Count': 51,\n",
       "  'arithmetic_mean_rank': 34.960784912109375,\n",
       "  'adjusted_arithmetic_mean_rank': 0.0006595415577822307,\n",
       "  'inverse_harmonic_mean_rank': 0.12728376014559875,\n",
       "  'hits_at_1': 0.0392156862745098,\n",
       "  'hits_at_3': 0.09803921568627451,\n",
       "  'hits_at_5': 0.19607843137254902,\n",
       "  'hits_at_10': 0.3137254901960784},\n",
       " 1493.0: {'Relation': 'All',\n",
       "  'Count': 141,\n",
       "  'arithmetic_mean_rank': 29.29787254333496,\n",
       "  'adjusted_arithmetic_mean_rank': 0.0005526457669903427,\n",
       "  'inverse_harmonic_mean_rank': 0.2167934796488877,\n",
       "  'hits_at_1': 0.0851063829787234,\n",
       "  'hits_at_3': 0.2553191489361702,\n",
       "  'hits_at_5': 0.3404255319148936,\n",
       "  'hits_at_10': 0.524822695035461},\n",
       " 205.0: {'Relation': 'All',\n",
       "  'Count': 24,\n",
       "  'arithmetic_mean_rank': 65.0,\n",
       "  'adjusted_arithmetic_mean_rank': 0.001226556842653986,\n",
       "  'inverse_harmonic_mean_rank': 0.030970126390457157,\n",
       "  'hits_at_1': 0.0,\n",
       "  'hits_at_3': 0.0,\n",
       "  'hits_at_5': 0.0,\n",
       "  'hits_at_10': 0.0},\n",
       " 1654.0: {'Relation': 'All',\n",
       "  'Count': 148,\n",
       "  'arithmetic_mean_rank': 14.371622085571289,\n",
       "  'adjusted_arithmetic_mean_rank': 0.00027111926859551183,\n",
       "  'inverse_harmonic_mean_rank': 0.4008638794357712,\n",
       "  'hits_at_1': 0.24324324324324326,\n",
       "  'hits_at_3': 0.47297297297297297,\n",
       "  'hits_at_5': 0.581081081081081,\n",
       "  'hits_at_10': 0.722972972972973},\n",
       " 602.0: {'Relation': 'All',\n",
       "  'Count': 87,\n",
       "  'arithmetic_mean_rank': 18.413793563842773,\n",
       "  'adjusted_arithmetic_mean_rank': 0.0003473123004278036,\n",
       "  'inverse_harmonic_mean_rank': 0.7453920210915049,\n",
       "  'hits_at_1': 0.6896551724137931,\n",
       "  'hits_at_3': 0.7931034482758621,\n",
       "  'hits_at_5': 0.7931034482758621,\n",
       "  'hits_at_10': 0.8045977011494253},\n",
       " 61.0: {'Relation': 'All',\n",
       "  'Count': 65,\n",
       "  'arithmetic_mean_rank': 202.5076904296875,\n",
       "  'adjusted_arithmetic_mean_rank': 0.003821661378364567,\n",
       "  'inverse_harmonic_mean_rank': 0.031855476819551906,\n",
       "  'hits_at_1': 0.0,\n",
       "  'hits_at_3': 0.015384615384615385,\n",
       "  'hits_at_5': 0.03076923076923077,\n",
       "  'hits_at_10': 0.09230769230769231},\n",
       " 13.0: {'Relation': 'All',\n",
       "  'Count': 83,\n",
       "  'arithmetic_mean_rank': 688.4939575195312,\n",
       "  'adjusted_arithmetic_mean_rank': 0.012991023468325123,\n",
       "  'inverse_harmonic_mean_rank': 0.09181497757693372,\n",
       "  'hits_at_1': 0.060240963855421686,\n",
       "  'hits_at_3': 0.07228915662650602,\n",
       "  'hits_at_5': 0.12048192771084337,\n",
       "  'hits_at_10': 0.1686746987951807},\n",
       " 19.0: {'Relation': 'All',\n",
       "  'Count': 61,\n",
       "  'arithmetic_mean_rank': 467.91802978515625,\n",
       "  'adjusted_arithmetic_mean_rank': 0.00882900255033442,\n",
       "  'inverse_harmonic_mean_rank': 0.08589035565735864,\n",
       "  'hits_at_1': 0.04918032786885246,\n",
       "  'hits_at_3': 0.09836065573770492,\n",
       "  'hits_at_5': 0.09836065573770492,\n",
       "  'hits_at_10': 0.13114754098360656},\n",
       " 127.0: {'Relation': 'All',\n",
       "  'Count': 23,\n",
       "  'arithmetic_mean_rank': 118.26087188720703,\n",
       "  'adjusted_arithmetic_mean_rank': 0.0022317262471150726,\n",
       "  'inverse_harmonic_mean_rank': 0.021081171605897987,\n",
       "  'hits_at_1': 0.0,\n",
       "  'hits_at_3': 0.0,\n",
       "  'hits_at_5': 0.0,\n",
       "  'hits_at_10': 0.043478260869565216},\n",
       " 34.0: {'Relation': 'All',\n",
       "  'Count': 61,\n",
       "  'arithmetic_mean_rank': 333.0655822753906,\n",
       "  'adjusted_arithmetic_mean_rank': 0.0062851184561812995,\n",
       "  'inverse_harmonic_mean_rank': 0.07022415223668833,\n",
       "  'hits_at_1': 0.03278688524590164,\n",
       "  'hits_at_3': 0.06557377049180328,\n",
       "  'hits_at_5': 0.09836065573770492,\n",
       "  'hits_at_10': 0.13114754098360656},\n",
       " 196.0: {'Relation': 'All',\n",
       "  'Count': 47,\n",
       "  'arithmetic_mean_rank': 59.680850982666016,\n",
       "  'adjusted_arithmetic_mean_rank': 0.0011259665534486098,\n",
       "  'inverse_harmonic_mean_rank': 0.08223939956502711,\n",
       "  'hits_at_1': 0.0,\n",
       "  'hits_at_3': 0.0425531914893617,\n",
       "  'hits_at_5': 0.1702127659574468,\n",
       "  'hits_at_10': 0.2978723404255319},\n",
       " 98.0: {'Relation': 'All',\n",
       "  'Count': 41,\n",
       "  'arithmetic_mean_rank': 99.65853881835938,\n",
       "  'adjusted_arithmetic_mean_rank': 0.0018804575280786837,\n",
       "  'inverse_harmonic_mean_rank': 0.08417476677313084,\n",
       "  'hits_at_1': 0.024390243902439025,\n",
       "  'hits_at_3': 0.07317073170731707,\n",
       "  'hits_at_5': 0.0975609756097561,\n",
       "  'hits_at_10': 0.17073170731707318},\n",
       " 23.0: {'Relation': 'All',\n",
       "  'Count': 63,\n",
       "  'arithmetic_mean_rank': 428.25396728515625,\n",
       "  'adjusted_arithmetic_mean_rank': 0.008080775388727033,\n",
       "  'inverse_harmonic_mean_rank': 0.08514380833459279,\n",
       "  'hits_at_1': 0.031746031746031744,\n",
       "  'hits_at_3': 0.1111111111111111,\n",
       "  'hits_at_5': 0.12698412698412698,\n",
       "  'hits_at_10': 0.1746031746031746},\n",
       " 119.0: {'Relation': 'All',\n",
       "  'Count': 53,\n",
       "  'arithmetic_mean_rank': 259.603759765625,\n",
       "  'adjusted_arithmetic_mean_rank': 0.0048974919769538185,\n",
       "  'inverse_harmonic_mean_rank': 0.031792229076601425,\n",
       "  'hits_at_1': 0.0,\n",
       "  'hits_at_3': 0.018867924528301886,\n",
       "  'hits_at_5': 0.018867924528301886,\n",
       "  'hits_at_10': 0.05660377358490566},\n",
       " 186.0: {'Relation': 'All',\n",
       "  'Count': 97,\n",
       "  'arithmetic_mean_rank': 55.56700897216797,\n",
       "  'adjusted_arithmetic_mean_rank': 0.0010485456963229298,\n",
       "  'inverse_harmonic_mean_rank': 0.1419580793872322,\n",
       "  'hits_at_1': 0.07216494845360824,\n",
       "  'hits_at_3': 0.13402061855670103,\n",
       "  'hits_at_5': 0.18556701030927836,\n",
       "  'hits_at_10': 0.28865979381443296},\n",
       " 289.0: {'Relation': 'All',\n",
       "  'Count': 33,\n",
       "  'arithmetic_mean_rank': 40.84848403930664,\n",
       "  'adjusted_arithmetic_mean_rank': 0.0007707230292944049,\n",
       "  'inverse_harmonic_mean_rank': 0.1929198611866344,\n",
       "  'hits_at_1': 0.09090909090909091,\n",
       "  'hits_at_3': 0.30303030303030304,\n",
       "  'hits_at_5': 0.30303030303030304,\n",
       "  'hits_at_10': 0.3333333333333333},\n",
       " 20.0: {'Relation': 'All',\n",
       "  'Count': 101,\n",
       "  'arithmetic_mean_rank': 535.0693359375,\n",
       "  'adjusted_arithmetic_mean_rank': 0.010096367400308372,\n",
       "  'inverse_harmonic_mean_rank': 0.12425350906825303,\n",
       "  'hits_at_1': 0.0891089108910891,\n",
       "  'hits_at_3': 0.13861386138613863,\n",
       "  'hits_at_5': 0.1485148514851485,\n",
       "  'hits_at_10': 0.15841584158415842},\n",
       " 60.0: {'Relation': 'All',\n",
       "  'Count': 64,\n",
       "  'arithmetic_mean_rank': 227.84375,\n",
       "  'adjusted_arithmetic_mean_rank': 0.0042992739262834615,\n",
       "  'inverse_harmonic_mean_rank': 0.08240732550621033,\n",
       "  'hits_at_1': 0.015625,\n",
       "  'hits_at_3': 0.09375,\n",
       "  'hits_at_5': 0.15625,\n",
       "  'hits_at_10': 0.203125},\n",
       " 22.0: {'Relation': 'All',\n",
       "  'Count': 97,\n",
       "  'arithmetic_mean_rank': 326.7010192871094,\n",
       "  'adjusted_arithmetic_mean_rank': 0.006164897467645154,\n",
       "  'inverse_harmonic_mean_rank': 0.10820094826295204,\n",
       "  'hits_at_1': 0.05154639175257732,\n",
       "  'hits_at_3': 0.15463917525773196,\n",
       "  'hits_at_5': 0.16494845360824742,\n",
       "  'hits_at_10': 0.18556701030927836},\n",
       " 489.0: {'Relation': 'All',\n",
       "  'Count': 152,\n",
       "  'arithmetic_mean_rank': 33.519737243652344,\n",
       "  'adjusted_arithmetic_mean_rank': 0.000632242409434863,\n",
       "  'inverse_harmonic_mean_rank': 0.5808728368658769,\n",
       "  'hits_at_1': 0.4934210526315789,\n",
       "  'hits_at_3': 0.618421052631579,\n",
       "  'hits_at_5': 0.6842105263157895,\n",
       "  'hits_at_10': 0.743421052631579},\n",
       " 83.0: {'Relation': 'All',\n",
       "  'Count': 79,\n",
       "  'arithmetic_mean_rank': 52.6708869934082,\n",
       "  'adjusted_arithmetic_mean_rank': 0.000993735495481202,\n",
       "  'inverse_harmonic_mean_rank': 0.35067389282999156,\n",
       "  'hits_at_1': 0.20253164556962025,\n",
       "  'hits_at_3': 0.46835443037974683,\n",
       "  'hits_at_5': 0.5443037974683544,\n",
       "  'hits_at_10': 0.5949367088607594},\n",
       " 940.0: {'Relation': 'All',\n",
       "  'Count': 101,\n",
       "  'arithmetic_mean_rank': 32.74257278442383,\n",
       "  'adjusted_arithmetic_mean_rank': 0.0006176641017001279,\n",
       "  'inverse_harmonic_mean_rank': 0.28120354378577506,\n",
       "  'hits_at_1': 0.15841584158415842,\n",
       "  'hits_at_3': 0.31683168316831684,\n",
       "  'hits_at_5': 0.42574257425742573,\n",
       "  'hits_at_10': 0.6039603960396039},\n",
       " 32.0: {'Relation': 'All',\n",
       "  'Count': 32,\n",
       "  'arithmetic_mean_rank': 272.0625,\n",
       "  'adjusted_arithmetic_mean_rank': 0.005134754876793309,\n",
       "  'inverse_harmonic_mean_rank': 0.12354881316423418,\n",
       "  'hits_at_1': 0.09375,\n",
       "  'hits_at_3': 0.125,\n",
       "  'hits_at_5': 0.125,\n",
       "  'hits_at_10': 0.15625},\n",
       " 188.0: {'Relation': 'All',\n",
       "  'Count': 40,\n",
       "  'arithmetic_mean_rank': 102.19999694824219,\n",
       "  'adjusted_arithmetic_mean_rank': 0.0019281981430855546,\n",
       "  'inverse_harmonic_mean_rank': 0.0603968620300293,\n",
       "  'hits_at_1': 0.025,\n",
       "  'hits_at_3': 0.025,\n",
       "  'hits_at_5': 0.05,\n",
       "  'hits_at_10': 0.1},\n",
       " 79.0: {'Relation': 'All',\n",
       "  'Count': 56,\n",
       "  'arithmetic_mean_rank': 1242.0892333984375,\n",
       "  'adjusted_arithmetic_mean_rank': 0.02343536560472828,\n",
       "  'inverse_harmonic_mean_rank': 0.2759623186928885,\n",
       "  'hits_at_1': 0.19642857142857142,\n",
       "  'hits_at_3': 0.32142857142857145,\n",
       "  'hits_at_5': 0.35714285714285715,\n",
       "  'hits_at_10': 0.4107142857142857},\n",
       " 86.0: {'Relation': 'All',\n",
       "  'Count': 32,\n",
       "  'arithmetic_mean_rank': 20.6875,\n",
       "  'adjusted_arithmetic_mean_rank': 0.0003902818636843315,\n",
       "  'inverse_harmonic_mean_rank': 0.4317208230495453,\n",
       "  'hits_at_1': 0.25,\n",
       "  'hits_at_3': 0.59375,\n",
       "  'hits_at_5': 0.65625,\n",
       "  'hits_at_10': 0.8125},\n",
       " 615.0: {'Relation': 'All',\n",
       "  'Count': 61,\n",
       "  'arithmetic_mean_rank': 42.21311569213867,\n",
       "  'adjusted_arithmetic_mean_rank': 0.0007962703185283622,\n",
       "  'inverse_harmonic_mean_rank': 0.17845788549204342,\n",
       "  'hits_at_1': 0.06557377049180328,\n",
       "  'hits_at_3': 0.19672131147540983,\n",
       "  'hits_at_5': 0.2786885245901639,\n",
       "  'hits_at_10': 0.47540983606557374},\n",
       " 10.0: {'Relation': 'All',\n",
       "  'Count': 85,\n",
       "  'arithmetic_mean_rank': 1008.5294189453125,\n",
       "  'adjusted_arithmetic_mean_rank': 0.019030637519215517,\n",
       "  'inverse_harmonic_mean_rank': 0.09999174230238969,\n",
       "  'hits_at_1': 0.07058823529411765,\n",
       "  'hits_at_3': 0.10588235294117647,\n",
       "  'hits_at_5': 0.12941176470588237,\n",
       "  'hits_at_10': 0.16470588235294117},\n",
       " 427.0: {'Relation': 'All',\n",
       "  'Count': 38,\n",
       "  'arithmetic_mean_rank': 160.5263214111328,\n",
       "  'adjusted_arithmetic_mean_rank': 0.0030276469890910644,\n",
       "  'inverse_harmonic_mean_rank': 0.06772470474243164,\n",
       "  'hits_at_1': 0.02631578947368421,\n",
       "  'hits_at_3': 0.02631578947368421,\n",
       "  'hits_at_5': 0.05263157894736842,\n",
       "  'hits_at_10': 0.18421052631578946},\n",
       " 142.0: {'Relation': 'All',\n",
       "  'Count': 45,\n",
       "  'arithmetic_mean_rank': 89.37777709960938,\n",
       "  'adjusted_arithmetic_mean_rank': 0.0016863653750370216,\n",
       "  'inverse_harmonic_mean_rank': 0.04224594169192844,\n",
       "  'hits_at_1': 0.0,\n",
       "  'hits_at_3': 0.0,\n",
       "  'hits_at_5': 0.044444444444444446,\n",
       "  'hits_at_10': 0.1111111111111111},\n",
       " 312.0: {'Relation': 'All',\n",
       "  'Count': 50,\n",
       "  'arithmetic_mean_rank': 78.81999969482422,\n",
       "  'adjusted_arithmetic_mean_rank': 0.0014871512863202875,\n",
       "  'inverse_harmonic_mean_rank': 0.10601500511169433,\n",
       "  'hits_at_1': 0.02,\n",
       "  'hits_at_3': 0.12,\n",
       "  'hits_at_5': 0.18,\n",
       "  'hits_at_10': 0.28},\n",
       " 25.0: {'Relation': 'All',\n",
       "  'Count': 63,\n",
       "  'arithmetic_mean_rank': 701.2857055664062,\n",
       "  'adjusted_arithmetic_mean_rank': 0.01323376764470432,\n",
       "  'inverse_harmonic_mean_rank': 0.051329139679197285,\n",
       "  'hits_at_1': 0.0,\n",
       "  'hits_at_3': 0.047619047619047616,\n",
       "  'hits_at_5': 0.07936507936507936,\n",
       "  'hits_at_10': 0.14285714285714285},\n",
       " 82.0: {'Relation': 'All',\n",
       "  'Count': 41,\n",
       "  'arithmetic_mean_rank': 54.95121765136719,\n",
       "  'adjusted_arithmetic_mean_rank': 0.0010366978268254682,\n",
       "  'inverse_harmonic_mean_rank': 0.3110690930994546,\n",
       "  'hits_at_1': 0.17073170731707318,\n",
       "  'hits_at_3': 0.3902439024390244,\n",
       "  'hits_at_5': 0.4878048780487805,\n",
       "  'hits_at_10': 0.5853658536585366},\n",
       " 91.0: {'Relation': 'All',\n",
       "  'Count': 34,\n",
       "  'arithmetic_mean_rank': 106.4117660522461,\n",
       "  'adjusted_arithmetic_mean_rank': 0.002008091223163075,\n",
       "  'inverse_harmonic_mean_rank': 0.1917741999906652,\n",
       "  'hits_at_1': 0.08823529411764706,\n",
       "  'hits_at_3': 0.2647058823529412,\n",
       "  'hits_at_5': 0.29411764705882354,\n",
       "  'hits_at_10': 0.35294117647058826},\n",
       " 41.0: {'Relation': 'All',\n",
       "  'Count': 66,\n",
       "  'arithmetic_mean_rank': 381.1515197753906,\n",
       "  'adjusted_arithmetic_mean_rank': 0.007192959016539797,\n",
       "  'inverse_harmonic_mean_rank': 0.12201257185502486,\n",
       "  'hits_at_1': 0.07575757575757576,\n",
       "  'hits_at_3': 0.15151515151515152,\n",
       "  'hits_at_5': 0.16666666666666666,\n",
       "  'hits_at_10': 0.16666666666666666},\n",
       " 273.0: {'Relation': 'All',\n",
       "  'Count': 68,\n",
       "  'arithmetic_mean_rank': 111.76470947265625,\n",
       "  'adjusted_arithmetic_mean_rank': 0.0021083776087921077,\n",
       "  'inverse_harmonic_mean_rank': 0.09233654246610754,\n",
       "  'hits_at_1': 0.029411764705882353,\n",
       "  'hits_at_3': 0.058823529411764705,\n",
       "  'hits_at_5': 0.14705882352941177,\n",
       "  'hits_at_10': 0.2647058823529412},\n",
       " 644.0: {'Relation': 'All',\n",
       "  'Count': 78,\n",
       "  'arithmetic_mean_rank': 25.384614944458008,\n",
       "  'adjusted_arithmetic_mean_rank': 0.00047885393459356357,\n",
       "  'inverse_harmonic_mean_rank': 0.33003860864883816,\n",
       "  'hits_at_1': 0.21794871794871795,\n",
       "  'hits_at_3': 0.3333333333333333,\n",
       "  'hits_at_5': 0.4358974358974359,\n",
       "  'hits_at_10': 0.5897435897435898},\n",
       " 409.0: {'Relation': 'All',\n",
       "  'Count': 46,\n",
       "  'arithmetic_mean_rank': 13.47826099395752,\n",
       "  'adjusted_arithmetic_mean_rank': 0.0002542732279502239,\n",
       "  'inverse_harmonic_mean_rank': 0.3694071562393852,\n",
       "  'hits_at_1': 0.21739130434782608,\n",
       "  'hits_at_3': 0.43478260869565216,\n",
       "  'hits_at_5': 0.5869565217391305,\n",
       "  'hits_at_10': 0.7608695652173914},\n",
       " 320.0: {'Relation': 'All',\n",
       "  'Count': 64,\n",
       "  'arithmetic_mean_rank': 36.15625,\n",
       "  'adjusted_arithmetic_mean_rank': 0.0006822929643329436,\n",
       "  'inverse_harmonic_mean_rank': 0.1131792739033699,\n",
       "  'hits_at_1': 0.03125,\n",
       "  'hits_at_3': 0.078125,\n",
       "  'hits_at_5': 0.140625,\n",
       "  'hits_at_10': 0.328125},\n",
       " 52.0: {'Relation': 'All',\n",
       "  'Count': 57,\n",
       "  'arithmetic_mean_rank': 256.52630615234375,\n",
       "  'adjusted_arithmetic_mean_rank': 0.004840113376460369,\n",
       "  'inverse_harmonic_mean_rank': 0.19241726189328914,\n",
       "  'hits_at_1': 0.14035087719298245,\n",
       "  'hits_at_3': 0.19298245614035087,\n",
       "  'hits_at_5': 0.22807017543859648,\n",
       "  'hits_at_10': 0.2982456140350877},\n",
       " 3.0: {'Relation': 'All',\n",
       "  'Count': 144,\n",
       "  'arithmetic_mean_rank': 7782.96875,\n",
       "  'adjusted_arithmetic_mean_rank': 0.14683167137721276,\n",
       "  'inverse_harmonic_mean_rank': 0.005563016980886459,\n",
       "  'hits_at_1': 0.0,\n",
       "  'hits_at_3': 0.0,\n",
       "  'hits_at_5': 0.0,\n",
       "  'hits_at_10': 0.006944444444444444},\n",
       " 62.0: {'Relation': 'All',\n",
       "  'Count': 26,\n",
       "  'arithmetic_mean_rank': 177.84616088867188,\n",
       "  'adjusted_arithmetic_mean_rank': 0.003356660952289515,\n",
       "  'inverse_harmonic_mean_rank': 0.02621784806251526,\n",
       "  'hits_at_1': 0.0,\n",
       "  'hits_at_3': 0.038461538461538464,\n",
       "  'hits_at_5': 0.038461538461538464,\n",
       "  'hits_at_10': 0.038461538461538464},\n",
       " 18.0: {'Relation': 'All',\n",
       "  'Count': 81,\n",
       "  'arithmetic_mean_rank': 359.6419677734375,\n",
       "  'adjusted_arithmetic_mean_rank': 0.006786513214644117,\n",
       "  'inverse_harmonic_mean_rank': 0.04042547131762093,\n",
       "  'hits_at_1': 0.012345679012345678,\n",
       "  'hits_at_3': 0.037037037037037035,\n",
       "  'hits_at_5': 0.06172839506172839,\n",
       "  'hits_at_10': 0.08641975308641975},\n",
       " 836.0: {'Relation': 'All',\n",
       "  'Count': 102,\n",
       "  'arithmetic_mean_rank': 22.10784339904785,\n",
       "  'adjusted_arithmetic_mean_rank': 0.0004170389011668454,\n",
       "  'inverse_harmonic_mean_rank': 0.2191010082469267,\n",
       "  'hits_at_1': 0.08823529411764706,\n",
       "  'hits_at_3': 0.24509803921568626,\n",
       "  'hits_at_5': 0.3431372549019608,\n",
       "  'hits_at_10': 0.5686274509803921},\n",
       " 1082.0: {'Relation': 'All',\n",
       "  'Count': 151,\n",
       "  'arithmetic_mean_rank': 15.708609580993652,\n",
       "  'adjusted_arithmetic_mean_rank': 0.0002963417593417667,\n",
       "  'inverse_harmonic_mean_rank': 0.4713685496753415,\n",
       "  'hits_at_1': 0.32450331125827814,\n",
       "  'hits_at_3': 0.5033112582781457,\n",
       "  'hits_at_5': 0.6423841059602649,\n",
       "  'hits_at_10': 0.8013245033112583},\n",
       " 30.0: {'Relation': 'All',\n",
       "  'Count': 69,\n",
       "  'arithmetic_mean_rank': 679.275390625,\n",
       "  'adjusted_arithmetic_mean_rank': 0.012817953873178288,\n",
       "  'inverse_harmonic_mean_rank': 0.07186707897462706,\n",
       "  'hits_at_1': 0.028985507246376812,\n",
       "  'hits_at_3': 0.08695652173913043,\n",
       "  'hits_at_5': 0.08695652173913043,\n",
       "  'hits_at_10': 0.14492753623188406},\n",
       " 168.0: {'Relation': 'All',\n",
       "  'Count': 49,\n",
       "  'arithmetic_mean_rank': 54.93877410888672,\n",
       "  'adjusted_arithmetic_mean_rank': 0.0010367572955097082,\n",
       "  'inverse_harmonic_mean_rank': 0.07395955494471959,\n",
       "  'hits_at_1': 0.0,\n",
       "  'hits_at_3': 0.08163265306122448,\n",
       "  'hits_at_5': 0.10204081632653061,\n",
       "  'hits_at_10': 0.1836734693877551},\n",
       " 4.0: {'Relation': 'All',\n",
       "  'Count': 152,\n",
       "  'arithmetic_mean_rank': 3688.430908203125,\n",
       "  'adjusted_arithmetic_mean_rank': 0.06958891128869596,\n",
       "  'inverse_harmonic_mean_rank': 0.023167221169722706,\n",
       "  'hits_at_1': 0.006578947368421052,\n",
       "  'hits_at_3': 0.02631578947368421,\n",
       "  'hits_at_5': 0.02631578947368421,\n",
       "  'hits_at_10': 0.039473684210526314},\n",
       " 379.0: {'Relation': 'All',\n",
       "  'Count': 42,\n",
       "  'arithmetic_mean_rank': 114.71428680419922,\n",
       "  'adjusted_arithmetic_mean_rank': 0.0021637677788467528,\n",
       "  'inverse_harmonic_mean_rank': 0.02688145637512207,\n",
       "  'hits_at_1': 0.0,\n",
       "  'hits_at_3': 0.0,\n",
       "  'hits_at_5': 0.023809523809523808,\n",
       "  'hits_at_10': 0.047619047619047616},\n",
       " 159.0: {'Relation': 'All',\n",
       "  'Count': 38,\n",
       "  'arithmetic_mean_rank': 77.5,\n",
       "  'adjusted_arithmetic_mean_rank': 0.0014623599957891977,\n",
       "  'inverse_harmonic_mean_rank': 0.07797875529841373,\n",
       "  'hits_at_1': 0.0,\n",
       "  'hits_at_3': 0.07894736842105263,\n",
       "  'hits_at_5': 0.13157894736842105,\n",
       "  'hits_at_10': 0.23684210526315788},\n",
       " 253.0: {'Relation': 'All',\n",
       "  'Count': 34,\n",
       "  'arithmetic_mean_rank': 27.676469802856445,\n",
       "  'adjusted_arithmetic_mean_rank': 0.0005222459424914068,\n",
       "  'inverse_harmonic_mean_rank': 0.20745090877308567,\n",
       "  'hits_at_1': 0.11764705882352941,\n",
       "  'hits_at_3': 0.20588235294117646,\n",
       "  'hits_at_5': 0.23529411764705882,\n",
       "  'hits_at_10': 0.47058823529411764},\n",
       " 412.0: {'Relation': 'All',\n",
       "  'Count': 91,\n",
       "  'arithmetic_mean_rank': 49.0,\n",
       "  'adjusted_arithmetic_mean_rank': 0.0009243593566715932,\n",
       "  'inverse_harmonic_mean_rank': 0.14408085372421767,\n",
       "  'hits_at_1': 0.07692307692307693,\n",
       "  'hits_at_3': 0.10989010989010989,\n",
       "  'hits_at_5': 0.18681318681318682,\n",
       "  'hits_at_10': 0.27472527472527475},\n",
       " 27.0: {'Relation': 'All',\n",
       "  'Count': 92,\n",
       "  'arithmetic_mean_rank': 544.9511108398438,\n",
       "  'adjusted_arithmetic_mean_rank': 0.01028237162566915,\n",
       "  'inverse_harmonic_mean_rank': 0.16626505229784094,\n",
       "  'hits_at_1': 0.14130434782608695,\n",
       "  'hits_at_3': 0.16304347826086957,\n",
       "  'hits_at_5': 0.16304347826086957,\n",
       "  'hits_at_10': 0.20652173913043478},\n",
       " 719.0: {'Relation': 'All',\n",
       "  'Count': 90,\n",
       "  'arithmetic_mean_rank': 28.755556106567383,\n",
       "  'adjusted_arithmetic_mean_rank': 0.0005424723111365947,\n",
       "  'inverse_harmonic_mean_rank': 0.11725859112209744,\n",
       "  'hits_at_1': 0.011111111111111112,\n",
       "  'hits_at_3': 0.08888888888888889,\n",
       "  'hits_at_5': 0.16666666666666666,\n",
       "  'hits_at_10': 0.37777777777777777},\n",
       " 539.0: {'Relation': 'All',\n",
       "  'Count': 69,\n",
       "  'arithmetic_mean_rank': 18.869565963745117,\n",
       "  'adjusted_arithmetic_mean_rank': 0.0003560058419677041,\n",
       "  'inverse_harmonic_mean_rank': 0.3080734861069831,\n",
       "  'hits_at_1': 0.17391304347826086,\n",
       "  'hits_at_3': 0.37681159420289856,\n",
       "  'hits_at_5': 0.4782608695652174,\n",
       "  'hits_at_10': 0.5942028985507246},\n",
       " 24.0: {'Relation': 'All',\n",
       "  'Count': 81,\n",
       "  'arithmetic_mean_rank': 594.697509765625,\n",
       "  'adjusted_arithmetic_mean_rank': 0.011222023894723182,\n",
       "  'inverse_harmonic_mean_rank': 0.0535972088943293,\n",
       "  'hits_at_1': 0.024691358024691357,\n",
       "  'hits_at_3': 0.04938271604938271,\n",
       "  'hits_at_5': 0.06172839506172839,\n",
       "  'hits_at_10': 0.08641975308641975},\n",
       " 121.0: {'Relation': 'All',\n",
       "  'Count': 78,\n",
       "  'arithmetic_mean_rank': 69.5897445678711,\n",
       "  'adjusted_arithmetic_mean_rank': 0.0013130680449592617,\n",
       "  'inverse_harmonic_mean_rank': 0.1261150775811611,\n",
       "  'hits_at_1': 0.05128205128205128,\n",
       "  'hits_at_3': 0.15384615384615385,\n",
       "  'hits_at_5': 0.16666666666666666,\n",
       "  'hits_at_10': 0.21794871794871795},\n",
       " 68.0: {'Relation': 'All',\n",
       "  'Count': 89,\n",
       "  'arithmetic_mean_rank': 218.73033142089844,\n",
       "  'adjusted_arithmetic_mean_rank': 0.004127422265280009,\n",
       "  'inverse_harmonic_mean_rank': 0.045287689466154975,\n",
       "  'hits_at_1': 0.02247191011235955,\n",
       "  'hits_at_3': 0.033707865168539325,\n",
       "  'hits_at_5': 0.0449438202247191,\n",
       "  'hits_at_10': 0.06741573033707865},\n",
       " 134.0: {'Relation': 'All',\n",
       "  'Count': 41,\n",
       "  'arithmetic_mean_rank': 113.9756088256836,\n",
       "  'adjusted_arithmetic_mean_rank': 0.0021509899994168104,\n",
       "  'inverse_harmonic_mean_rank': 0.0753721783800823,\n",
       "  'hits_at_1': 0.024390243902439025,\n",
       "  'hits_at_3': 0.04878048780487805,\n",
       "  'hits_at_5': 0.12195121951219512,\n",
       "  'hits_at_10': 0.17073170731707318},\n",
       " 17.0: {'Relation': 'All',\n",
       "  'Count': 80,\n",
       "  'arithmetic_mean_rank': 373.2875061035156,\n",
       "  'adjusted_arithmetic_mean_rank': 0.007044360027410623,\n",
       "  'inverse_harmonic_mean_rank': 0.09760518074035644,\n",
       "  'hits_at_1': 0.0625,\n",
       "  'hits_at_3': 0.0875,\n",
       "  'hits_at_5': 0.1125,\n",
       "  'hits_at_10': 0.1625},\n",
       " 446.0: {'Relation': 'All',\n",
       "  'Count': 102,\n",
       "  'arithmetic_mean_rank': 56.8725471496582,\n",
       "  'adjusted_arithmetic_mean_rank': 0.0010729262124640215,\n",
       "  'inverse_harmonic_mean_rank': 0.07774069729973287,\n",
       "  'hits_at_1': 0.00980392156862745,\n",
       "  'hits_at_3': 0.049019607843137254,\n",
       "  'hits_at_5': 0.09803921568627451,\n",
       "  'hits_at_10': 0.20588235294117646},\n",
       " 280.0: {'Relation': 'All',\n",
       "  'Count': 36,\n",
       "  'arithmetic_mean_rank': 51.58333206176758,\n",
       "  'adjusted_arithmetic_mean_rank': 0.0009734132651666035,\n",
       "  'inverse_harmonic_mean_rank': 0.1485704845852322,\n",
       "  'hits_at_1': 0.027777777777777776,\n",
       "  'hits_at_3': 0.16666666666666666,\n",
       "  'hits_at_5': 0.25,\n",
       "  'hits_at_10': 0.3888888888888889},\n",
       " 496.0: {'Relation': 'All',\n",
       "  'Count': 45,\n",
       "  'arithmetic_mean_rank': 70.68888854980469,\n",
       "  'adjusted_arithmetic_mean_rank': 0.0013336449719430238,\n",
       "  'inverse_harmonic_mean_rank': 0.08398047023349338,\n",
       "  'hits_at_1': 0.022222222222222223,\n",
       "  'hits_at_3': 0.08888888888888889,\n",
       "  'hits_at_5': 0.13333333333333333,\n",
       "  'hits_at_10': 0.15555555555555556},\n",
       " 313.0: {'Relation': 'All',\n",
       "  'Count': 36,\n",
       "  'arithmetic_mean_rank': 15.666666984558105,\n",
       "  'adjusted_arithmetic_mean_rank': 0.0002956907072350596,\n",
       "  'inverse_harmonic_mean_rank': 0.2050312227673001,\n",
       "  'hits_at_1': 0.05555555555555555,\n",
       "  'hits_at_3': 0.19444444444444445,\n",
       "  'hits_at_5': 0.3333333333333333,\n",
       "  'hits_at_10': 0.5},\n",
       " 117.0: {'Relation': 'All',\n",
       "  'Count': 54,\n",
       "  'arithmetic_mean_rank': 116.64814758300781,\n",
       "  'adjusted_arithmetic_mean_rank': 0.0022007242823259276,\n",
       "  'inverse_harmonic_mean_rank': 0.06765247715844049,\n",
       "  'hits_at_1': 0.018518518518518517,\n",
       "  'hits_at_3': 0.05555555555555555,\n",
       "  'hits_at_5': 0.09259259259259259,\n",
       "  'hits_at_10': 0.16666666666666666},\n",
       " 143.0: {'Relation': 'All',\n",
       "  'Count': 53,\n",
       "  'arithmetic_mean_rank': 130.50942993164062,\n",
       "  'adjusted_arithmetic_mean_rank': 0.002462690622701491,\n",
       "  'inverse_harmonic_mean_rank': 0.12005016039002617,\n",
       "  'hits_at_1': 0.07547169811320754,\n",
       "  'hits_at_3': 0.11320754716981132,\n",
       "  'hits_at_5': 0.1320754716981132,\n",
       "  'hits_at_10': 0.18867924528301888},\n",
       " 109.0: {'Relation': 'All',\n",
       "  'Count': 46,\n",
       "  'arithmetic_mean_rank': 147.0,\n",
       "  'adjusted_arithmetic_mean_rank': 0.0027737595455661376,\n",
       "  'inverse_harmonic_mean_rank': 0.07269516198531441,\n",
       "  'hits_at_1': 0.043478260869565216,\n",
       "  'hits_at_3': 0.043478260869565216,\n",
       "  'hits_at_5': 0.06521739130434782,\n",
       "  'hits_at_10': 0.15217391304347827},\n",
       " 165.0: {'Relation': 'All',\n",
       "  'Count': 20,\n",
       "  'arithmetic_mean_rank': 32.45000076293945,\n",
       "  'adjusted_arithmetic_mean_rank': 0.0006124476107313173,\n",
       "  'inverse_harmonic_mean_rank': 0.21662068367004395,\n",
       "  'hits_at_1': 0.1,\n",
       "  'hits_at_3': 0.25,\n",
       "  'hits_at_5': 0.3,\n",
       "  'hits_at_10': 0.45},\n",
       " 530.0: {'Relation': 'All',\n",
       "  'Count': 71,\n",
       "  'arithmetic_mean_rank': 10.676055908203125,\n",
       "  'adjusted_arithmetic_mean_rank': 0.000201430493915941,\n",
       "  'inverse_harmonic_mean_rank': 0.34937761870908063,\n",
       "  'hits_at_1': 0.18309859154929578,\n",
       "  'hits_at_3': 0.39436619718309857,\n",
       "  'hits_at_5': 0.5915492957746479,\n",
       "  'hits_at_10': 0.7183098591549296},\n",
       " 201.0: {'Relation': 'All',\n",
       "  'Count': 21,\n",
       "  'arithmetic_mean_rank': 104.04762268066406,\n",
       "  'adjusted_arithmetic_mean_rank': 0.001963415836897161,\n",
       "  'inverse_harmonic_mean_rank': 0.09897079921904064,\n",
       "  'hits_at_1': 0.047619047619047616,\n",
       "  'hits_at_3': 0.047619047619047616,\n",
       "  'hits_at_5': 0.14285714285714285,\n",
       "  'hits_at_10': 0.23809523809523808},\n",
       " 129.0: {'Relation': 'All',\n",
       "  'Count': 11,\n",
       "  'arithmetic_mean_rank': 30.636363983154297,\n",
       "  'adjusted_arithmetic_mean_rank': 0.000578281173026525,\n",
       "  'inverse_harmonic_mean_rank': 0.1337147842754017,\n",
       "  'hits_at_1': 0.0,\n",
       "  'hits_at_3': 0.09090909090909091,\n",
       "  'hits_at_5': 0.18181818181818182,\n",
       "  'hits_at_10': 0.45454545454545453},\n",
       " 48.0: {'Relation': 'All',\n",
       "  'Count': 100,\n",
       "  'arithmetic_mean_rank': 387.69000244140625,\n",
       "  'adjusted_arithmetic_mean_rank': 0.0073164428496705165,\n",
       "  'inverse_harmonic_mean_rank': 0.09991851806640625,\n",
       "  'hits_at_1': 0.05,\n",
       "  'hits_at_3': 0.14,\n",
       "  'hits_at_5': 0.16,\n",
       "  'hits_at_10': 0.17},\n",
       " 45.0: {'Relation': 'All',\n",
       "  'Count': 81,\n",
       "  'arithmetic_mean_rank': 258.1728515625,\n",
       "  'adjusted_arithmetic_mean_rank': 0.0048727068259280795,\n",
       "  'inverse_harmonic_mean_rank': 0.06797031708705573,\n",
       "  'hits_at_1': 0.024691358024691357,\n",
       "  'hits_at_3': 0.06172839506172839,\n",
       "  'hits_at_5': 0.09876543209876543,\n",
       "  'hits_at_10': 0.16049382716049382},\n",
       " 154.0: {'Relation': 'All',\n",
       "  'Count': 35,\n",
       "  'arithmetic_mean_rank': 87.57142639160156,\n",
       "  'adjusted_arithmetic_mean_rank': 0.0016521298588687866,\n",
       "  'inverse_harmonic_mean_rank': 0.08643585613795689,\n",
       "  'hits_at_1': 0.02857142857142857,\n",
       "  'hits_at_3': 0.08571428571428572,\n",
       "  'hits_at_5': 0.11428571428571428,\n",
       "  'hits_at_10': 0.2},\n",
       " 174.0: {'Relation': 'All',\n",
       "  'Count': 41,\n",
       "  'arithmetic_mean_rank': 270.56097412109375,\n",
       "  'adjusted_arithmetic_mean_rank': 0.005104797183578892,\n",
       "  'inverse_harmonic_mean_rank': 0.08451418760346203,\n",
       "  'hits_at_1': 0.0,\n",
       "  'hits_at_3': 0.07317073170731707,\n",
       "  'hits_at_5': 0.17073170731707318,\n",
       "  'hits_at_10': 0.21951219512195122},\n",
       " 101.0: {'Relation': 'All',\n",
       "  'Count': 61,\n",
       "  'arithmetic_mean_rank': 184.11476135253906,\n",
       "  'adjusted_arithmetic_mean_rank': 0.003473172117614351,\n",
       "  'inverse_harmonic_mean_rank': 0.03993592496778144,\n",
       "  'hits_at_1': 0.0,\n",
       "  'hits_at_3': 0.03278688524590164,\n",
       "  'hits_at_5': 0.09836065573770492,\n",
       "  'hits_at_10': 0.13114754098360656},\n",
       " 256.0: {'Relation': 'All',\n",
       "  'Count': 72,\n",
       "  'arithmetic_mean_rank': 40.47222137451172,\n",
       "  'adjusted_arithmetic_mean_rank': 0.0007636292197367611,\n",
       "  'inverse_harmonic_mean_rank': 0.2537289990319146,\n",
       "  'hits_at_1': 0.16666666666666666,\n",
       "  'hits_at_3': 0.2777777777777778,\n",
       "  'hits_at_5': 0.3055555555555556,\n",
       "  'hits_at_10': 0.375},\n",
       " 43.0: {'Relation': 'All',\n",
       "  'Count': 104,\n",
       "  'arithmetic_mean_rank': 189.7451934814453,\n",
       "  'adjusted_arithmetic_mean_rank': 0.003580233093351548,\n",
       "  'inverse_harmonic_mean_rank': 0.20694519923283503,\n",
       "  'hits_at_1': 0.09615384615384616,\n",
       "  'hits_at_3': 0.2692307692307692,\n",
       "  'hits_at_5': 0.38461538461538464,\n",
       "  'hits_at_10': 0.41346153846153844},\n",
       " 49.0: {'Relation': 'All',\n",
       "  'Count': 53,\n",
       "  'arithmetic_mean_rank': 238.867919921875,\n",
       "  'adjusted_arithmetic_mean_rank': 0.004507369515783315,\n",
       "  'inverse_harmonic_mean_rank': 0.12795639038085938,\n",
       "  'hits_at_1': 0.03773584905660377,\n",
       "  'hits_at_3': 0.20754716981132076,\n",
       "  'hits_at_5': 0.22641509433962265,\n",
       "  'hits_at_10': 0.2830188679245283},\n",
       " 315.0: {'Relation': 'All',\n",
       "  'Count': 35,\n",
       "  'arithmetic_mean_rank': 15.657142639160156,\n",
       "  'adjusted_arithmetic_mean_rank': 0.00029545011792158683,\n",
       "  'inverse_harmonic_mean_rank': 0.1886463165283203,\n",
       "  'hits_at_1': 0.02857142857142857,\n",
       "  'hits_at_3': 0.22857142857142856,\n",
       "  'hits_at_5': 0.3142857142857143,\n",
       "  'hits_at_10': 0.6},\n",
       " 204.0: {'Relation': 'All',\n",
       "  'Count': 25,\n",
       "  'arithmetic_mean_rank': 213.75999450683594,\n",
       "  'adjusted_arithmetic_mean_rank': 0.004032375100438436,\n",
       "  'inverse_harmonic_mean_rank': 0.061545801162719724,\n",
       "  'hits_at_1': 0.0,\n",
       "  'hits_at_3': 0.08,\n",
       "  'hits_at_5': 0.08,\n",
       "  'hits_at_10': 0.12},\n",
       " 654.0: {'Relation': 'All',\n",
       "  'Count': 59,\n",
       "  'arithmetic_mean_rank': 37.033897399902344,\n",
       "  'adjusted_arithmetic_mean_rank': 0.000698535759227422,\n",
       "  'inverse_harmonic_mean_rank': 0.10870537515413964,\n",
       "  'hits_at_1': 0.03389830508474576,\n",
       "  'hits_at_3': 0.06779661016949153,\n",
       "  'hits_at_5': 0.11864406779661017,\n",
       "  'hits_at_10': 0.3050847457627119},\n",
       " 114.0: {'Relation': 'All',\n",
       "  'Count': 17,\n",
       "  'arithmetic_mean_rank': 133.35293579101562,\n",
       "  'adjusted_arithmetic_mean_rank': 0.002516401743440528,\n",
       "  'inverse_harmonic_mean_rank': 0.025773174622479605,\n",
       "  'hits_at_1': 0.0,\n",
       "  'hits_at_3': 0.0,\n",
       "  'hits_at_5': 0.0,\n",
       "  'hits_at_10': 0.11764705882352941},\n",
       " 94.0: {'Relation': 'All',\n",
       "  'Count': 16,\n",
       "  'arithmetic_mean_rank': 108.5625,\n",
       "  'adjusted_arithmetic_mean_rank': 0.0020496554702614106,\n",
       "  'inverse_harmonic_mean_rank': 0.04440883919596672,\n",
       "  'hits_at_1': 0.0,\n",
       "  'hits_at_3': 0.0625,\n",
       "  'hits_at_5': 0.0625,\n",
       "  'hits_at_10': 0.0625},\n",
       " 299.0: {'Relation': 'All',\n",
       "  'Count': 41,\n",
       "  'arithmetic_mean_rank': 39.80487823486328,\n",
       "  'adjusted_arithmetic_mean_rank': 0.0007511467449982899,\n",
       "  'inverse_harmonic_mean_rank': 0.2287161524702863,\n",
       "  'hits_at_1': 0.12195121951219512,\n",
       "  'hits_at_3': 0.24390243902439024,\n",
       "  'hits_at_5': 0.34146341463414637,\n",
       "  'hits_at_10': 0.4146341463414634},\n",
       " 223.0: {'Relation': 'All',\n",
       "  'Count': 29,\n",
       "  'arithmetic_mean_rank': 118.03448486328125,\n",
       "  'adjusted_arithmetic_mean_rank': 0.0022265666940852595,\n",
       "  'inverse_harmonic_mean_rank': 0.05217266904896703,\n",
       "  'hits_at_1': 0.0,\n",
       "  'hits_at_3': 0.034482758620689655,\n",
       "  'hits_at_5': 0.06896551724137931,\n",
       "  'hits_at_10': 0.10344827586206896},\n",
       " 42.0: {'Relation': 'All',\n",
       "  'Count': 89,\n",
       "  'arithmetic_mean_rank': 227.21348571777344,\n",
       "  'adjusted_arithmetic_mean_rank': 0.004287595461679661,\n",
       "  'inverse_harmonic_mean_rank': 0.12844937570979087,\n",
       "  'hits_at_1': 0.056179775280898875,\n",
       "  'hits_at_3': 0.15730337078651685,\n",
       "  'hits_at_5': 0.21348314606741572,\n",
       "  'hits_at_10': 0.25842696629213485},\n",
       " 158.0: {'Relation': 'All',\n",
       "  'Count': 53,\n",
       "  'arithmetic_mean_rank': 123.79244995117188,\n",
       "  'adjusted_arithmetic_mean_rank': 0.002335422261658463,\n",
       "  'inverse_harmonic_mean_rank': 0.15311624419014408,\n",
       "  'hits_at_1': 0.05660377358490566,\n",
       "  'hits_at_3': 0.18867924528301888,\n",
       "  'hits_at_5': 0.24528301886792453,\n",
       "  'hits_at_10': 0.33962264150943394},\n",
       " 616.0: {'Relation': 'All',\n",
       "  'Count': 84,\n",
       "  'arithmetic_mean_rank': 19.08333396911621,\n",
       "  'adjusted_arithmetic_mean_rank': 0.0003600675555458683,\n",
       "  'inverse_harmonic_mean_rank': 0.26796504429408485,\n",
       "  'hits_at_1': 0.15476190476190477,\n",
       "  'hits_at_3': 0.27380952380952384,\n",
       "  'hits_at_5': 0.35714285714285715,\n",
       "  'hits_at_10': 0.5119047619047619},\n",
       " 242.0: {'Relation': 'All',\n",
       "  'Count': 35,\n",
       "  'arithmetic_mean_rank': 36.94285583496094,\n",
       "  'adjusted_arithmetic_mean_rank': 0.0006972240743574311,\n",
       "  'inverse_harmonic_mean_rank': 0.20968300955636163,\n",
       "  'hits_at_1': 0.11428571428571428,\n",
       "  'hits_at_3': 0.22857142857142856,\n",
       "  'hits_at_5': 0.3142857142857143,\n",
       "  'hits_at_10': 0.4},\n",
       " 221.0: {'Relation': 'All',\n",
       "  'Count': 54,\n",
       "  'arithmetic_mean_rank': 49.092594146728516,\n",
       "  'adjusted_arithmetic_mean_rank': 0.000926415845003519,\n",
       "  'inverse_harmonic_mean_rank': 0.270575276127568,\n",
       "  'hits_at_1': 0.14814814814814814,\n",
       "  'hits_at_3': 0.2962962962962963,\n",
       "  'hits_at_5': 0.37037037037037035,\n",
       "  'hits_at_10': 0.5555555555555556},\n",
       " 338.0: {'Relation': 'All',\n",
       "  'Count': 82,\n",
       "  'arithmetic_mean_rank': 40.39024353027344,\n",
       "  'adjusted_arithmetic_mean_rank': 0.0007621128588557358,\n",
       "  'inverse_harmonic_mean_rank': 0.09884687749350943,\n",
       "  'hits_at_1': 0.024390243902439025,\n",
       "  'hits_at_3': 0.07317073170731707,\n",
       "  'hits_at_5': 0.13414634146341464,\n",
       "  'hits_at_10': 0.2926829268292683},\n",
       " 111.0: {'Relation': 'All',\n",
       "  'Count': 26,\n",
       "  'arithmetic_mean_rank': 96.42308044433594,\n",
       "  'adjusted_arithmetic_mean_rank': 0.0018195773975781798,\n",
       "  'inverse_harmonic_mean_rank': 0.10951343866494986,\n",
       "  'hits_at_1': 0.038461538461538464,\n",
       "  'hits_at_3': 0.07692307692307693,\n",
       "  'hits_at_5': 0.07692307692307693,\n",
       "  'hits_at_10': 0.2692307692307692},\n",
       " 421.0: {'Relation': 'All',\n",
       "  'Count': 45,\n",
       "  'arithmetic_mean_rank': 51.35555648803711,\n",
       "  'adjusted_arithmetic_mean_rank': 0.0009691009615576693,\n",
       "  'inverse_harmonic_mean_rank': 0.08009477191501194,\n",
       "  'hits_at_1': 0.0,\n",
       "  'hits_at_3': 0.06666666666666667,\n",
       "  'hits_at_5': 0.13333333333333333,\n",
       "  'hits_at_10': 0.26666666666666666},\n",
       " 377.0: {'Relation': 'All',\n",
       "  'Count': 54,\n",
       "  'arithmetic_mean_rank': 51.425926208496094,\n",
       "  'adjusted_arithmetic_mean_rank': 0.00097012999296727,\n",
       "  'inverse_harmonic_mean_rank': 0.0790232640725595,\n",
       "  'hits_at_1': 0.018518518518518517,\n",
       "  'hits_at_3': 0.05555555555555555,\n",
       "  'hits_at_5': 0.07407407407407407,\n",
       "  'hits_at_10': 0.14814814814814814},\n",
       " 102.0: {'Relation': 'All',\n",
       "  'Count': 74,\n",
       "  'arithmetic_mean_rank': 217.270263671875,\n",
       "  'adjusted_arithmetic_mean_rank': 0.004100366799401636,\n",
       "  'inverse_harmonic_mean_rank': 0.12515551335102804,\n",
       "  'hits_at_1': 0.06756756756756757,\n",
       "  'hits_at_3': 0.10810810810810811,\n",
       "  'hits_at_5': 0.17567567567567569,\n",
       "  'hits_at_10': 0.28378378378378377},\n",
       " 250.0: {'Relation': 'All',\n",
       "  'Count': 34,\n",
       "  'arithmetic_mean_rank': 44.05882263183594,\n",
       "  'adjusted_arithmetic_mean_rank': 0.0008310817763859715,\n",
       "  'inverse_harmonic_mean_rank': 0.10431157841401942,\n",
       "  'hits_at_1': 0.029411764705882353,\n",
       "  'hits_at_3': 0.058823529411764705,\n",
       "  'hits_at_5': 0.17647058823529413,\n",
       "  'hits_at_10': 0.2647058823529412},\n",
       " 259.0: {'Relation': 'All',\n",
       "  'Count': 65,\n",
       "  'arithmetic_mean_rank': 56.46154022216797,\n",
       "  'adjusted_arithmetic_mean_rank': 0.0010653807340969196,\n",
       "  'inverse_harmonic_mean_rank': 0.14330074603740986,\n",
       "  'hits_at_1': 0.06153846153846154,\n",
       "  'hits_at_3': 0.15384615384615385,\n",
       "  'hits_at_5': 0.2,\n",
       "  'hits_at_10': 0.2923076923076923},\n",
       " 419.0: {'Relation': 'All',\n",
       "  'Count': 59,\n",
       "  'arithmetic_mean_rank': 30.559322357177734,\n",
       "  'adjusted_arithmetic_mean_rank': 0.0005765556791368506,\n",
       "  'inverse_harmonic_mean_rank': 0.20006223452293265,\n",
       "  'hits_at_1': 0.11864406779661017,\n",
       "  'hits_at_3': 0.22033898305084745,\n",
       "  'hits_at_5': 0.2711864406779661,\n",
       "  'hits_at_10': 0.3559322033898305},\n",
       " 163.0: {'Relation': 'All',\n",
       "  'Count': 38,\n",
       "  'arithmetic_mean_rank': 85.60526275634766,\n",
       "  'adjusted_arithmetic_mean_rank': 0.0016151924339387089,\n",
       "  'inverse_harmonic_mean_rank': 0.14221175093399852,\n",
       "  'hits_at_1': 0.07894736842105263,\n",
       "  'hits_at_3': 0.10526315789473684,\n",
       "  'hits_at_5': 0.23684210526315788,\n",
       "  'hits_at_10': 0.3157894736842105},\n",
       " 80.0: {'Relation': 'All',\n",
       "  'Count': 55,\n",
       "  'arithmetic_mean_rank': 1179.5272216796875,\n",
       "  'adjusted_arithmetic_mean_rank': 0.0222492732880211,\n",
       "  'inverse_harmonic_mean_rank': 0.1082405003634366,\n",
       "  'hits_at_1': 0.07272727272727272,\n",
       "  'hits_at_3': 0.09090909090909091,\n",
       "  'hits_at_5': 0.12727272727272726,\n",
       "  'hits_at_10': 0.12727272727272726},\n",
       " 144.0: {'Relation': 'All',\n",
       "  'Count': 97,\n",
       "  'arithmetic_mean_rank': 72.12371063232422,\n",
       "  'adjusted_arithmetic_mean_rank': 0.0013611362202097892,\n",
       "  'inverse_harmonic_mean_rank': 0.11612120362901195,\n",
       "  'hits_at_1': 0.05154639175257732,\n",
       "  'hits_at_3': 0.09278350515463918,\n",
       "  'hits_at_5': 0.15463917525773196,\n",
       "  'hits_at_10': 0.24742268041237114},\n",
       " 304.0: {'Relation': 'All',\n",
       "  'Count': 115,\n",
       "  'arithmetic_mean_rank': 91.02608489990234,\n",
       "  'adjusted_arithmetic_mean_rank': 0.0017173543953952276,\n",
       "  'inverse_harmonic_mean_rank': 0.13583373194155485,\n",
       "  'hits_at_1': 0.06086956521739131,\n",
       "  'hits_at_3': 0.12173913043478261,\n",
       "  'hits_at_5': 0.17391304347826086,\n",
       "  'hits_at_10': 0.28695652173913044},\n",
       " 138.0: {'Relation': 'All',\n",
       "  'Count': 14,\n",
       "  'arithmetic_mean_rank': 1266.7857666015625,\n",
       "  'adjusted_arithmetic_mean_rank': 0.02389686784961463,\n",
       "  'inverse_harmonic_mean_rank': 0.015324627714497703,\n",
       "  'hits_at_1': 0.0,\n",
       "  'hits_at_3': 0.0,\n",
       "  'hits_at_5': 0.0,\n",
       "  'hits_at_10': 0.0},\n",
       " 327.0: {'Relation': 'All',\n",
       "  'Count': 81,\n",
       "  'arithmetic_mean_rank': 38.69135665893555,\n",
       "  'adjusted_arithmetic_mean_rank': 0.0007300015360252579,\n",
       "  'inverse_harmonic_mean_rank': 0.1282970051706573,\n",
       "  'hits_at_1': 0.037037037037037035,\n",
       "  'hits_at_3': 0.1111111111111111,\n",
       "  'hits_at_5': 0.14814814814814814,\n",
       "  'hits_at_10': 0.30864197530864196},\n",
       " 105.0: {'Relation': 'All',\n",
       "  'Count': 64,\n",
       "  'arithmetic_mean_rank': 144.640625,\n",
       "  'adjusted_arithmetic_mean_rank': 0.002729132762565155,\n",
       "  'inverse_harmonic_mean_rank': 0.034749362617731094,\n",
       "  'hits_at_1': 0.015625,\n",
       "  'hits_at_3': 0.015625,\n",
       "  'hits_at_5': 0.015625,\n",
       "  'hits_at_10': 0.078125},\n",
       " 353.0: {'Relation': 'All',\n",
       "  'Count': 78,\n",
       "  'arithmetic_mean_rank': 63.67948532104492,\n",
       "  'adjusted_arithmetic_mean_rank': 0.001201366189472047,\n",
       "  'inverse_harmonic_mean_rank': 0.14833918595925355,\n",
       "  'hits_at_1': 0.0641025641025641,\n",
       "  'hits_at_3': 0.15384615384615385,\n",
       "  'hits_at_5': 0.19230769230769232,\n",
       "  'hits_at_10': 0.3076923076923077},\n",
       " 220.0: {'Relation': 'All',\n",
       "  'Count': 23,\n",
       "  'arithmetic_mean_rank': 50.434783935546875,\n",
       "  'adjusted_arithmetic_mean_rank': 0.000951718368916861,\n",
       "  'inverse_harmonic_mean_rank': 0.12055589841759723,\n",
       "  'hits_at_1': 0.043478260869565216,\n",
       "  'hits_at_3': 0.13043478260869565,\n",
       "  'hits_at_5': 0.17391304347826086,\n",
       "  'hits_at_10': 0.21739130434782608},\n",
       " 112.0: {'Relation': 'All',\n",
       "  'Count': 75,\n",
       "  'arithmetic_mean_rank': 132.30667114257812,\n",
       "  'adjusted_arithmetic_mean_rank': 0.002496587812861178,\n",
       "  'inverse_harmonic_mean_rank': 0.05173420270284017,\n",
       "  'hits_at_1': 0.0,\n",
       "  'hits_at_3': 0.05333333333333334,\n",
       "  'hits_at_5': 0.08,\n",
       "  'hits_at_10': 0.14666666666666667},\n",
       " 657.0: {'Relation': 'All',\n",
       "  'Count': 83,\n",
       "  'arithmetic_mean_rank': 32.0843391418457,\n",
       "  'adjusted_arithmetic_mean_rank': 0.0006052179531709951,\n",
       "  'inverse_harmonic_mean_rank': 0.18123533639563136,\n",
       "  'hits_at_1': 0.060240963855421686,\n",
       "  'hits_at_3': 0.1927710843373494,\n",
       "  'hits_at_5': 0.30120481927710846,\n",
       "  'hits_at_10': 0.46987951807228917},\n",
       " 14.0: {'Relation': 'All',\n",
       "  'Count': 99,\n",
       "  'arithmetic_mean_rank': 489.48486328125,\n",
       "  'adjusted_arithmetic_mean_rank': 0.009237351247386215,\n",
       "  'inverse_harmonic_mean_rank': 0.0789985078753847,\n",
       "  'hits_at_1': 0.050505050505050504,\n",
       "  'hits_at_3': 0.0707070707070707,\n",
       "  'hits_at_5': 0.09090909090909091,\n",
       "  'hits_at_10': 0.13131313131313133},\n",
       " 343.0: {'Relation': 'All',\n",
       "  'Count': 43,\n",
       "  'arithmetic_mean_rank': 26.13953399658203,\n",
       "  'adjusted_arithmetic_mean_rank': 0.0004932137956172983,\n",
       "  'inverse_harmonic_mean_rank': 0.23191358876782797,\n",
       "  'hits_at_1': 0.11627906976744186,\n",
       "  'hits_at_3': 0.3023255813953488,\n",
       "  'hits_at_5': 0.3023255813953488,\n",
       "  'hits_at_10': 0.46511627906976744},\n",
       " 172.0: {'Relation': 'All',\n",
       "  'Count': 43,\n",
       "  'arithmetic_mean_rank': 82.93022918701172,\n",
       "  'adjusted_arithmetic_mean_rank': 0.0015647607848997963,\n",
       "  'inverse_harmonic_mean_rank': 0.15648511398670287,\n",
       "  'hits_at_1': 0.06976744186046512,\n",
       "  'hits_at_3': 0.23255813953488372,\n",
       "  'hits_at_5': 0.2558139534883721,\n",
       "  'hits_at_10': 0.27906976744186046},\n",
       " 324.0: {'Relation': 'All',\n",
       "  'Count': 47,\n",
       "  'arithmetic_mean_rank': 78.7872314453125,\n",
       "  'adjusted_arithmetic_mean_rank': 0.0014864318941529146,\n",
       "  'inverse_harmonic_mean_rank': 0.13999016741488843,\n",
       "  'hits_at_1': 0.06382978723404255,\n",
       "  'hits_at_3': 0.1276595744680851,\n",
       "  'hits_at_5': 0.1702127659574468,\n",
       "  'hits_at_10': 0.2978723404255319},\n",
       " 149.0: {'Relation': 'All',\n",
       "  'Count': 23,\n",
       "  'arithmetic_mean_rank': 178.86956787109375,\n",
       "  'adjusted_arithmetic_mean_rank': 0.0033746109834277044,\n",
       "  'inverse_harmonic_mean_rank': 0.07066924675651218,\n",
       "  'hits_at_1': 0.043478260869565216,\n",
       "  'hits_at_3': 0.08695652173913043,\n",
       "  'hits_at_5': 0.08695652173913043,\n",
       "  'hits_at_10': 0.08695652173913043},\n",
       " 270.0: {'Relation': 'All',\n",
       "  'Count': 74,\n",
       "  'arithmetic_mean_rank': 92.0,\n",
       "  'adjusted_arithmetic_mean_rank': 0.001735936251769913,\n",
       "  'inverse_harmonic_mean_rank': 0.2103051366032781,\n",
       "  'hits_at_1': 0.10810810810810811,\n",
       "  'hits_at_3': 0.24324324324324326,\n",
       "  'hits_at_5': 0.2972972972972973,\n",
       "  'hits_at_10': 0.44594594594594594},\n",
       " 6.0: {'Relation': 'All',\n",
       "  'Count': 102,\n",
       "  'arithmetic_mean_rank': 3401.13232421875,\n",
       "  'adjusted_arithmetic_mean_rank': 0.06416928115124287,\n",
       "  'inverse_harmonic_mean_rank': 0.026511248420266545,\n",
       "  'hits_at_1': 0.00980392156862745,\n",
       "  'hits_at_3': 0.029411764705882353,\n",
       "  'hits_at_5': 0.0392156862745098,\n",
       "  'hits_at_10': 0.049019607843137254},\n",
       " 853.0: {'Relation': 'All',\n",
       "  'Count': 103,\n",
       "  'arithmetic_mean_rank': 12.08737850189209,\n",
       "  'adjusted_arithmetic_mean_rank': 0.00022805839791536033,\n",
       "  'inverse_harmonic_mean_rank': 0.4036701165356682,\n",
       "  'hits_at_1': 0.24271844660194175,\n",
       "  'hits_at_3': 0.47572815533980584,\n",
       "  'hits_at_5': 0.6019417475728155,\n",
       "  'hits_at_10': 0.7281553398058253},\n",
       " 66.0: {'Relation': 'All',\n",
       "  'Count': 57,\n",
       "  'arithmetic_mean_rank': 198.98245239257812,\n",
       "  'adjusted_arithmetic_mean_rank': 0.003755550724066668,\n",
       "  'inverse_harmonic_mean_rank': 0.054342960056505706,\n",
       "  'hits_at_1': 0.03508771929824561,\n",
       "  'hits_at_3': 0.03508771929824561,\n",
       "  'hits_at_5': 0.03508771929824561,\n",
       "  'hits_at_10': 0.08771929824561403},\n",
       " 592.0: {'Relation': 'All',\n",
       "  'Count': 86,\n",
       "  'arithmetic_mean_rank': 16.94186019897461,\n",
       "  'adjusted_arithmetic_mean_rank': 0.00031965609152998366,\n",
       "  'inverse_harmonic_mean_rank': 0.30155128656431684,\n",
       "  'hits_at_1': 0.19767441860465115,\n",
       "  'hits_at_3': 0.29069767441860467,\n",
       "  'hits_at_5': 0.38372093023255816,\n",
       "  'hits_at_10': 0.5581395348837209},\n",
       " 73.0: {'Relation': 'All',\n",
       "  'Count': 45,\n",
       "  'arithmetic_mean_rank': 148.3333282470703,\n",
       "  'adjusted_arithmetic_mean_rank': 0.0027988265352740897,\n",
       "  'inverse_harmonic_mean_rank': 0.04894749323527018,\n",
       "  'hits_at_1': 0.022222222222222223,\n",
       "  'hits_at_3': 0.022222222222222223,\n",
       "  'hits_at_5': 0.044444444444444446,\n",
       "  'hits_at_10': 0.08888888888888889},\n",
       " 39.0: {'Relation': 'All',\n",
       "  'Count': 58,\n",
       "  'arithmetic_mean_rank': 277.9827575683594,\n",
       "  'adjusted_arithmetic_mean_rank': 0.0052455933384786685,\n",
       "  'inverse_harmonic_mean_rank': 0.04845262806991051,\n",
       "  'hits_at_1': 0.017241379310344827,\n",
       "  'hits_at_3': 0.034482758620689655,\n",
       "  'hits_at_5': 0.05172413793103448,\n",
       "  'hits_at_10': 0.06896551724137931},\n",
       " 106.0: {'Relation': 'All',\n",
       "  'Count': 26,\n",
       "  'arithmetic_mean_rank': 111.76923370361328,\n",
       "  'adjusted_arithmetic_mean_rank': 0.0021098639960314414,\n",
       "  'inverse_harmonic_mean_rank': 0.05218777748254629,\n",
       "  'hits_at_1': 0.0,\n",
       "  'hits_at_3': 0.038461538461538464,\n",
       "  'hits_at_5': 0.07692307692307693,\n",
       "  'hits_at_10': 0.11538461538461539},\n",
       " 199.0: {'Relation': 'All',\n",
       "  'Count': 34,\n",
       "  'arithmetic_mean_rank': 75.02941131591797,\n",
       "  'adjusted_arithmetic_mean_rank': 0.0014155911381781273,\n",
       "  'inverse_harmonic_mean_rank': 0.06862167751087862,\n",
       "  'hits_at_1': 0.029411764705882353,\n",
       "  'hits_at_3': 0.029411764705882353,\n",
       "  'hits_at_5': 0.029411764705882353,\n",
       "  'hits_at_10': 0.14705882352941177},\n",
       " 40.0: {'Relation': 'All',\n",
       "  'Count': 82,\n",
       "  'arithmetic_mean_rank': 136.98780822753906,\n",
       "  'adjusted_arithmetic_mean_rank': 0.002585167855742943,\n",
       "  'inverse_harmonic_mean_rank': 0.08955398420008216,\n",
       "  'hits_at_1': 0.036585365853658534,\n",
       "  'hits_at_3': 0.08536585365853659,\n",
       "  'hits_at_5': 0.14634146341463414,\n",
       "  'hits_at_10': 0.2073170731707317},\n",
       " 228.0: {'Relation': 'All',\n",
       "  'Count': 29,\n",
       "  'arithmetic_mean_rank': 30.20689582824707,\n",
       "  'adjusted_arithmetic_mean_rank': 0.0005700254325176514,\n",
       "  'inverse_harmonic_mean_rank': 0.17877596822278255,\n",
       "  'hits_at_1': 0.034482758620689655,\n",
       "  'hits_at_3': 0.1724137931034483,\n",
       "  'hits_at_5': 0.3103448275862069,\n",
       "  'hits_at_10': 0.4827586206896552},\n",
       " 266.0: {'Relation': 'All',\n",
       "  'Count': 66,\n",
       "  'arithmetic_mean_rank': 54.5,\n",
       "  'adjusted_arithmetic_mean_rank': 0.0010283008579036585,\n",
       "  'inverse_harmonic_mean_rank': 0.07889310518900552,\n",
       "  'hits_at_1': 0.0,\n",
       "  'hits_at_3': 0.09090909090909091,\n",
       "  'hits_at_5': 0.13636363636363635,\n",
       "  'hits_at_10': 0.21212121212121213},\n",
       " 11.0: {'Relation': 'All',\n",
       "  'Count': 97,\n",
       "  'arithmetic_mean_rank': 2529.216552734375,\n",
       "  'adjusted_arithmetic_mean_rank': 0.04771618496439275,\n",
       "  'inverse_harmonic_mean_rank': 0.07067710837138068,\n",
       "  'hits_at_1': 0.05154639175257732,\n",
       "  'hits_at_3': 0.061855670103092786,\n",
       "  'hits_at_5': 0.061855670103092786,\n",
       "  'hits_at_10': 0.08247422680412371},\n",
       " 198.0: {'Relation': 'All',\n",
       "  'Count': 15,\n",
       "  'arithmetic_mean_rank': 31.799999237060547,\n",
       "  'adjusted_arithmetic_mean_rank': 0.0006000777315248495,\n",
       "  'inverse_harmonic_mean_rank': 0.06403710047403972,\n",
       "  'hits_at_1': 0.0,\n",
       "  'hits_at_3': 0.0,\n",
       "  'hits_at_5': 0.06666666666666667,\n",
       "  'hits_at_10': 0.2},\n",
       " 277.0: {'Relation': 'All',\n",
       "  'Count': 43,\n",
       "  'arithmetic_mean_rank': 33.44186019897461,\n",
       "  'adjusted_arithmetic_mean_rank': 0.0006310755509155349,\n",
       "  'inverse_harmonic_mean_rank': 0.23732424891272258,\n",
       "  'hits_at_1': 0.09302325581395349,\n",
       "  'hits_at_3': 0.3488372093023256,\n",
       "  'hits_at_5': 0.3953488372093023,\n",
       "  'hits_at_10': 0.5348837209302325},\n",
       " 667.0: {'Relation': 'All',\n",
       "  'Count': 53,\n",
       "  'arithmetic_mean_rank': 15.39622688293457,\n",
       "  'adjusted_arithmetic_mean_rank': 0.0002904699774887669,\n",
       "  'inverse_harmonic_mean_rank': 0.5430927636488428,\n",
       "  'hits_at_1': 0.4716981132075472,\n",
       "  'hits_at_3': 0.5471698113207547,\n",
       "  'hits_at_5': 0.6415094339622641,\n",
       "  'hits_at_10': 0.6981132075471698},\n",
       " 28.0: {'Relation': 'All',\n",
       "  'Count': 97,\n",
       "  'arithmetic_mean_rank': 306.8556823730469,\n",
       "  'adjusted_arithmetic_mean_rank': 0.005790477177940694,\n",
       "  'inverse_harmonic_mean_rank': 0.061559018400526536,\n",
       "  'hits_at_1': 0.030927835051546393,\n",
       "  'hits_at_3': 0.041237113402061855,\n",
       "  'hits_at_5': 0.08247422680412371,\n",
       "  'hits_at_10': 0.13402061855670103},\n",
       " 364.0: {'Relation': 'All',\n",
       "  'Count': 46,\n",
       "  'arithmetic_mean_rank': 7.0,\n",
       "  'adjusted_arithmetic_mean_rank': 0.00013207731362947637,\n",
       "  'inverse_harmonic_mean_rank': 0.45863400334897253,\n",
       "  'hits_at_1': 0.30434782608695654,\n",
       "  'hits_at_3': 0.5,\n",
       "  'hits_at_5': 0.6739130434782609,\n",
       "  'hits_at_10': 0.782608695652174},\n",
       " 97.0: {'Relation': 'All',\n",
       "  'Count': 29,\n",
       "  'arithmetic_mean_rank': 86.17241668701172,\n",
       "  'adjusted_arithmetic_mean_rank': 0.0016261972520087277,\n",
       "  'inverse_harmonic_mean_rank': 0.040775841680066344,\n",
       "  'hits_at_1': 0.0,\n",
       "  'hits_at_3': 0.034482758620689655,\n",
       "  'hits_at_5': 0.034482758620689655,\n",
       "  'hits_at_10': 0.06896551724137931},\n",
       " 173.0: {'Relation': 'All',\n",
       "  'Count': 30,\n",
       "  'arithmetic_mean_rank': 396.5,\n",
       "  'adjusted_arithmetic_mean_rank': 0.00748138616028469,\n",
       "  'inverse_harmonic_mean_rank': 0.3826493263244629,\n",
       "  'hits_at_1': 0.3333333333333333,\n",
       "  'hits_at_3': 0.4,\n",
       "  'hits_at_5': 0.4,\n",
       "  'hits_at_10': 0.43333333333333335},\n",
       " 308.0: {'Relation': 'All',\n",
       "  'Count': 43,\n",
       "  'arithmetic_mean_rank': 35.53488540649414,\n",
       "  'adjusted_arithmetic_mean_rank': 0.0006705734027601677,\n",
       "  'inverse_harmonic_mean_rank': 0.17770285939061367,\n",
       "  'hits_at_1': 0.06976744186046512,\n",
       "  'hits_at_3': 0.16279069767441862,\n",
       "  'hits_at_5': 0.32558139534883723,\n",
       "  'hits_at_10': 0.4186046511627907},\n",
       " 546.0: {'Relation': 'All',\n",
       "  'Count': 74,\n",
       "  'arithmetic_mean_rank': 20.905405044555664,\n",
       "  'adjusted_arithmetic_mean_rank': 0.0003944203348792178,\n",
       "  'inverse_harmonic_mean_rank': 0.2029442400545687,\n",
       "  'hits_at_1': 0.05405405405405406,\n",
       "  'hits_at_3': 0.25675675675675674,\n",
       "  'hits_at_5': 0.35135135135135137,\n",
       "  'hits_at_10': 0.5135135135135135},\n",
       " 276.0: {'Relation': 'All',\n",
       "  'Count': 38,\n",
       "  'arithmetic_mean_rank': 40.657894134521484,\n",
       "  'adjusted_arithmetic_mean_rank': 0.0007670965603845593,\n",
       "  'inverse_harmonic_mean_rank': 0.2646004526238692,\n",
       "  'hits_at_1': 0.13157894736842105,\n",
       "  'hits_at_3': 0.3157894736842105,\n",
       "  'hits_at_5': 0.4473684210526316,\n",
       "  'hits_at_10': 0.5263157894736842},\n",
       " 200.0: {'Relation': 'All',\n",
       "  'Count': 31,\n",
       "  'arithmetic_mean_rank': 47.0,\n",
       "  'adjusted_arithmetic_mean_rank': 0.0008867541329619962,\n",
       "  'inverse_harmonic_mean_rank': 0.20850452300040953,\n",
       "  'hits_at_1': 0.0967741935483871,\n",
       "  'hits_at_3': 0.22580645161290322,\n",
       "  'hits_at_5': 0.2903225806451613,\n",
       "  'hits_at_10': 0.4838709677419355},\n",
       " 70.0: {'Relation': 'All',\n",
       "  'Count': 48,\n",
       "  'arithmetic_mean_rank': 195.1875,\n",
       "  'adjusted_arithmetic_mean_rank': 0.0036835381152229125,\n",
       "  'inverse_harmonic_mean_rank': 0.06008867919445038,\n",
       "  'hits_at_1': 0.020833333333333332,\n",
       "  'hits_at_3': 0.0625,\n",
       "  'hits_at_5': 0.0625,\n",
       "  'hits_at_10': 0.125},\n",
       " 87.0: {'Relation': 'All',\n",
       "  'Count': 65,\n",
       "  'arithmetic_mean_rank': 96.92308044433594,\n",
       "  'adjusted_arithmetic_mean_rank': 0.0018286516405346558,\n",
       "  'inverse_harmonic_mean_rank': 0.2110107128436749,\n",
       "  'hits_at_1': 0.1076923076923077,\n",
       "  'hits_at_3': 0.2923076923076923,\n",
       "  'hits_at_5': 0.2923076923076923,\n",
       "  'hits_at_10': 0.36923076923076925},\n",
       " 245.0: {'Relation': 'All',\n",
       "  'Count': 30,\n",
       "  'arithmetic_mean_rank': 39.43333435058594,\n",
       "  'adjusted_arithmetic_mean_rank': 0.0007441417118263037,\n",
       "  'inverse_harmonic_mean_rank': 0.11911664009094237,\n",
       "  'hits_at_1': 0.03333333333333333,\n",
       "  'hits_at_3': 0.1,\n",
       "  'hits_at_5': 0.1,\n",
       "  'hits_at_10': 0.3},\n",
       " 334.0: {'Relation': 'All',\n",
       "  'Count': 41,\n",
       "  'arithmetic_mean_rank': 50.36585235595703,\n",
       "  'adjusted_arithmetic_mean_rank': 0.0009502398477196836,\n",
       "  'inverse_harmonic_mean_rank': 0.11756827191608707,\n",
       "  'hits_at_1': 0.04878048780487805,\n",
       "  'hits_at_3': 0.07317073170731707,\n",
       "  'hits_at_5': 0.14634146341463414,\n",
       "  'hits_at_10': 0.3170731707317073},\n",
       " 633.0: {'Relation': 'All',\n",
       "  'Count': 78,\n",
       "  'arithmetic_mean_rank': 15.0,\n",
       "  'adjusted_arithmetic_mean_rank': 0.0002830006241735989,\n",
       "  'inverse_harmonic_mean_rank': 0.3104592592288286,\n",
       "  'hits_at_1': 0.16666666666666666,\n",
       "  'hits_at_3': 0.4230769230769231,\n",
       "  'hits_at_5': 0.4358974358974359,\n",
       "  'hits_at_10': 0.6153846153846154},\n",
       " 53.0: {'Relation': 'All',\n",
       "  'Count': 29,\n",
       "  'arithmetic_mean_rank': 541.1034545898438,\n",
       "  'adjusted_arithmetic_mean_rank': 0.010212568893906607,\n",
       "  'inverse_harmonic_mean_rank': 0.08969846265069369,\n",
       "  'hits_at_1': 0.06896551724137931,\n",
       "  'hits_at_3': 0.10344827586206896,\n",
       "  'hits_at_5': 0.10344827586206896,\n",
       "  'hits_at_10': 0.10344827586206896},\n",
       " 55.0: {'Relation': 'All',\n",
       "  'Count': 71,\n",
       "  'arithmetic_mean_rank': 191.8028106689453,\n",
       "  'adjusted_arithmetic_mean_rank': 0.003619416786300413,\n",
       "  'inverse_harmonic_mean_rank': 0.0904222676451777,\n",
       "  'hits_at_1': 0.028169014084507043,\n",
       "  'hits_at_3': 0.09859154929577464,\n",
       "  'hits_at_5': 0.15492957746478872,\n",
       "  'hits_at_10': 0.22535211267605634},\n",
       " 298.0: {'Relation': 'All',\n",
       "  'Count': 41,\n",
       "  'arithmetic_mean_rank': 18.829267501831055,\n",
       "  'adjusted_arithmetic_mean_rank': 0.00035528007073160463,\n",
       "  'inverse_harmonic_mean_rank': 0.372273375348347,\n",
       "  'hits_at_1': 0.21951219512195122,\n",
       "  'hits_at_3': 0.4634146341463415,\n",
       "  'hits_at_5': 0.6097560975609756,\n",
       "  'hits_at_10': 0.6585365853658537},\n",
       " 441.0: {'Relation': 'All',\n",
       "  'Count': 110,\n",
       "  'arithmetic_mean_rank': 40.6363639831543,\n",
       "  'adjusted_arithmetic_mean_rank': 0.0007666129331282811,\n",
       "  'inverse_harmonic_mean_rank': 0.3206119884144176,\n",
       "  'hits_at_1': 0.22727272727272727,\n",
       "  'hits_at_3': 0.32727272727272727,\n",
       "  'hits_at_5': 0.43636363636363634,\n",
       "  'hits_at_10': 0.5181818181818182},\n",
       " 195.0: {'Relation': 'All',\n",
       "  'Count': 20,\n",
       "  'arithmetic_mean_rank': 27.049999237060547,\n",
       "  'adjusted_arithmetic_mean_rank': 0.0005104197185626834,\n",
       "  'inverse_harmonic_mean_rank': 0.17732338905334472,\n",
       "  'hits_at_1': 0.05,\n",
       "  'hits_at_3': 0.25,\n",
       "  'hits_at_5': 0.3,\n",
       "  'hits_at_10': 0.35},\n",
       " 146.0: {'Relation': 'All',\n",
       "  'Count': 55,\n",
       "  'arithmetic_mean_rank': 58.05454635620117,\n",
       "  'adjusted_arithmetic_mean_rank': 0.001095614419764796,\n",
       "  'inverse_harmonic_mean_rank': 0.20770672884854405,\n",
       "  'hits_at_1': 0.14545454545454545,\n",
       "  'hits_at_3': 0.21818181818181817,\n",
       "  'hits_at_5': 0.21818181818181817,\n",
       "  'hits_at_10': 0.2909090909090909},\n",
       " 93.0: {'Relation': 'All',\n",
       "  'Count': 42,\n",
       "  'arithmetic_mean_rank': 155.40475463867188,\n",
       "  'adjusted_arithmetic_mean_rank': 0.0029323818830386244,\n",
       "  'inverse_harmonic_mean_rank': 0.031023851462772915,\n",
       "  'hits_at_1': 0.0,\n",
       "  'hits_at_3': 0.0,\n",
       "  'hits_at_5': 0.023809523809523808,\n",
       "  'hits_at_10': 0.047619047619047616},\n",
       " 153.0: {'Relation': 'All',\n",
       "  'Count': 19,\n",
       "  'arithmetic_mean_rank': 67.84210205078125,\n",
       "  'adjusted_arithmetic_mean_rank': 0.001280720719871236,\n",
       "  'inverse_harmonic_mean_rank': 0.05816624039097836,\n",
       "  'hits_at_1': 0.0,\n",
       "  'hits_at_3': 0.0,\n",
       "  'hits_at_5': 0.10526315789473684,\n",
       "  'hits_at_10': 0.21052631578947367},\n",
       " 136.0: {'Relation': 'All',\n",
       "  'Count': 33,\n",
       "  'arithmetic_mean_rank': 45.181819915771484,\n",
       "  'adjusted_arithmetic_mean_rank': 0.0008526029447797852,\n",
       "  'inverse_harmonic_mean_rank': 0.09591823635679303,\n",
       "  'hits_at_1': 0.030303030303030304,\n",
       "  'hits_at_3': 0.06060606060606061,\n",
       "  'hits_at_5': 0.09090909090909091,\n",
       "  'hits_at_10': 0.24242424242424243},\n",
       " 59.0: {'Relation': 'All',\n",
       "  'Count': 29,\n",
       "  'arithmetic_mean_rank': 128.2413787841797,\n",
       "  'adjusted_arithmetic_mean_rank': 0.0024195770292689523,\n",
       "  'inverse_harmonic_mean_rank': 0.0655970285678732,\n",
       "  'hits_at_1': 0.034482758620689655,\n",
       "  'hits_at_3': 0.034482758620689655,\n",
       "  'hits_at_5': 0.10344827586206896,\n",
       "  'hits_at_10': 0.13793103448275862},\n",
       " 580.0: {'Relation': 'All',\n",
       "  'Count': 72,\n",
       "  'arithmetic_mean_rank': 10.43055534362793,\n",
       "  'adjusted_arithmetic_mean_rank': 0.00019679679400490678,\n",
       "  'inverse_harmonic_mean_rank': 0.4495046933492025,\n",
       "  'hits_at_1': 0.2916666666666667,\n",
       "  'hits_at_3': 0.5277777777777778,\n",
       "  'hits_at_5': 0.6666666666666666,\n",
       "  'hits_at_10': 0.7361111111111112},\n",
       " 352.0: {'Relation': 'All',\n",
       "  'Count': 53,\n",
       "  'arithmetic_mean_rank': 11.49056625366211,\n",
       "  'adjusted_arithmetic_mean_rank': 0.00021685219687262523,\n",
       "  'inverse_harmonic_mean_rank': 0.3091386759056235,\n",
       "  'hits_at_1': 0.16981132075471697,\n",
       "  'hits_at_3': 0.33962264150943394,\n",
       "  'hits_at_5': 0.39622641509433965,\n",
       "  'hits_at_10': 0.660377358490566},\n",
       " 152.0: {'Relation': 'All',\n",
       "  'Count': 41,\n",
       "  'arithmetic_mean_rank': 53.414634704589844,\n",
       "  'adjusted_arithmetic_mean_rank': 0.0010078061362453487,\n",
       "  'inverse_harmonic_mean_rank': 0.17943029868893506,\n",
       "  'hits_at_1': 0.07317073170731707,\n",
       "  'hits_at_3': 0.21951219512195122,\n",
       "  'hits_at_5': 0.2926829268292683,\n",
       "  'hits_at_10': 0.3170731707317073},\n",
       " 90.0: {'Relation': 'All',\n",
       "  'Count': 41,\n",
       "  'arithmetic_mean_rank': 116.53658294677734,\n",
       "  'adjusted_arithmetic_mean_rank': 0.002199039243884812,\n",
       "  'inverse_harmonic_mean_rank': 0.151742283890887,\n",
       "  'hits_at_1': 0.0975609756097561,\n",
       "  'hits_at_3': 0.14634146341463414,\n",
       "  'hits_at_5': 0.17073170731707318,\n",
       "  'hits_at_10': 0.24390243902439024},\n",
       " 213.0: {'Relation': 'All',\n",
       "  'Count': 21,\n",
       "  'arithmetic_mean_rank': 62.9523811340332,\n",
       "  'adjusted_arithmetic_mean_rank': 0.0011881832424951643,\n",
       "  'inverse_harmonic_mean_rank': 0.08587569282168435,\n",
       "  'hits_at_1': 0.047619047619047616,\n",
       "  'hits_at_3': 0.047619047619047616,\n",
       "  'hits_at_5': 0.047619047619047616,\n",
       "  'hits_at_10': 0.14285714285714285},\n",
       " 131.0: {'Relation': 'All',\n",
       "  'Count': 22,\n",
       "  'arithmetic_mean_rank': 49.5,\n",
       "  'adjusted_arithmetic_mean_rank': 0.0009339538537603219,\n",
       "  'inverse_harmonic_mean_rank': 0.1364941271868619,\n",
       "  'hits_at_1': 0.045454545454545456,\n",
       "  'hits_at_3': 0.13636363636363635,\n",
       "  'hits_at_5': 0.18181818181818182,\n",
       "  'hits_at_10': 0.2727272727272727},\n",
       " 137.0: {'Relation': 'All',\n",
       "  'Count': 38,\n",
       "  'arithmetic_mean_rank': 75.36842346191406,\n",
       "  'adjusted_arithmetic_mean_rank': 0.001422335630749333,\n",
       "  'inverse_harmonic_mean_rank': 0.1695325123636346,\n",
       "  'hits_at_1': 0.10526315789473684,\n",
       "  'hits_at_3': 0.15789473684210525,\n",
       "  'hits_at_5': 0.23684210526315788,\n",
       "  'hits_at_10': 0.2631578947368421},\n",
       " 51.0: {'Relation': 'All',\n",
       "  'Count': 57,\n",
       "  'arithmetic_mean_rank': 174.54385375976562,\n",
       "  'adjusted_arithmetic_mean_rank': 0.0032932938862893805,\n",
       "  'inverse_harmonic_mean_rank': 0.21313662278024773,\n",
       "  'hits_at_1': 0.15789473684210525,\n",
       "  'hits_at_3': 0.24561403508771928,\n",
       "  'hits_at_5': 0.2631578947368421,\n",
       "  'hits_at_10': 0.2982456140350877},\n",
       " 176.0: {'Relation': 'All',\n",
       "  'Count': 48,\n",
       "  'arithmetic_mean_rank': 61.125,\n",
       "  'adjusted_arithmetic_mean_rank': 0.0011533871213753218,\n",
       "  'inverse_harmonic_mean_rank': 0.06592556337515514,\n",
       "  'hits_at_1': 0.0,\n",
       "  'hits_at_3': 0.0625,\n",
       "  'hits_at_5': 0.10416666666666667,\n",
       "  'hits_at_10': 0.16666666666666666},\n",
       " 211.0: {'Relation': 'All',\n",
       "  'Count': 30,\n",
       "  'arithmetic_mean_rank': 117.03333282470703,\n",
       "  'adjusted_arithmetic_mean_rank': 0.0022080066716523706,\n",
       "  'inverse_harmonic_mean_rank': 0.1489013671875,\n",
       "  'hits_at_1': 0.06666666666666667,\n",
       "  'hits_at_3': 0.2,\n",
       "  'hits_at_5': 0.2,\n",
       "  'hits_at_10': 0.2},\n",
       " 76.0: {'Relation': 'All',\n",
       "  'Count': 39,\n",
       "  'arithmetic_mean_rank': 147.6666717529297,\n",
       "  'adjusted_arithmetic_mean_rank': 0.0027864500817642154,\n",
       "  'inverse_harmonic_mean_rank': 0.17406434279221755,\n",
       "  'hits_at_1': 0.10256410256410256,\n",
       "  'hits_at_3': 0.20512820512820512,\n",
       "  'hits_at_5': 0.20512820512820512,\n",
       "  'hits_at_10': 0.28205128205128205},\n",
       " 2.0: {'Relation': 'All',\n",
       "  'Count': 138,\n",
       "  'arithmetic_mean_rank': 14139.1669921875,\n",
       "  'adjusted_arithmetic_mean_rank': 0.266767927326692,\n",
       "  'inverse_harmonic_mean_rank': 0.00298598883808523,\n",
       "  'hits_at_1': 0.0,\n",
       "  'hits_at_3': 0.0,\n",
       "  'hits_at_5': 0.0,\n",
       "  'hits_at_10': 0.007246376811594203},\n",
       " 390.0: {'Relation': 'All',\n",
       "  'Count': 49,\n",
       "  'arithmetic_mean_rank': 19.285715103149414,\n",
       "  'adjusted_arithmetic_mean_rank': 0.0003638360250990332,\n",
       "  'inverse_harmonic_mean_rank': 0.31983381388138754,\n",
       "  'hits_at_1': 0.1836734693877551,\n",
       "  'hits_at_3': 0.3877551020408163,\n",
       "  'hits_at_5': 0.4897959183673469,\n",
       "  'hits_at_10': 0.6326530612244898},\n",
       " 35.0: {'Relation': 'All',\n",
       "  'Count': 61,\n",
       "  'arithmetic_mean_rank': 296.8524475097656,\n",
       "  'adjusted_arithmetic_mean_rank': 0.005602207748265616,\n",
       "  'inverse_harmonic_mean_rank': 0.057960678319462014,\n",
       "  'hits_at_1': 0.03278688524590164,\n",
       "  'hits_at_3': 0.06557377049180328,\n",
       "  'hits_at_5': 0.06557377049180328,\n",
       "  'hits_at_10': 0.08196721311475409},\n",
       " 509.0: {'Relation': 'All',\n",
       "  'Count': 62,\n",
       "  'arithmetic_mean_rank': 31.40322494506836,\n",
       "  'adjusted_arithmetic_mean_rank': 0.0005924188479245983,\n",
       "  'inverse_harmonic_mean_rank': 0.12297756441177861,\n",
       "  'hits_at_1': 0.016129032258064516,\n",
       "  'hits_at_3': 0.08064516129032258,\n",
       "  'hits_at_5': 0.20967741935483872,\n",
       "  'hits_at_10': 0.4838709677419355},\n",
       " 103.0: {'Relation': 'All',\n",
       "  'Count': 16,\n",
       "  'arithmetic_mean_rank': 141.6875,\n",
       "  'adjusted_arithmetic_mean_rank': 0.002674020715108866,\n",
       "  'inverse_harmonic_mean_rank': 0.06046144291758537,\n",
       "  'hits_at_1': 0.0,\n",
       "  'hits_at_3': 0.0625,\n",
       "  'hits_at_5': 0.125,\n",
       "  'hits_at_10': 0.1875},\n",
       " 95.0: {'Relation': 'All',\n",
       "  'Count': 34,\n",
       "  'arithmetic_mean_rank': 130.5,\n",
       "  'adjusted_arithmetic_mean_rank': 0.002462581881402567,\n",
       "  'inverse_harmonic_mean_rank': 0.04391464766334085,\n",
       "  'hits_at_1': 0.0,\n",
       "  'hits_at_3': 0.0,\n",
       "  'hits_at_5': 0.08823529411764706,\n",
       "  'hits_at_10': 0.14705882352941177},\n",
       " 26.0: {'Relation': 'All',\n",
       "  'Count': 61,\n",
       "  'arithmetic_mean_rank': 255.08197021484375,\n",
       "  'adjusted_arithmetic_mean_rank': 0.004812825680169015,\n",
       "  'inverse_harmonic_mean_rank': 0.0920843921723913,\n",
       "  'hits_at_1': 0.04918032786885246,\n",
       "  'hits_at_3': 0.09836065573770492,\n",
       "  'hits_at_5': 0.13114754098360656,\n",
       "  'hits_at_10': 0.14754098360655737},\n",
       " 122.0: {'Relation': 'All',\n",
       "  'Count': 44,\n",
       "  'arithmetic_mean_rank': 128.5,\n",
       "  'adjusted_arithmetic_mean_rank': 0.0024244149823185795,\n",
       "  'inverse_harmonic_mean_rank': 0.18914172866127707,\n",
       "  'hits_at_1': 0.11363636363636363,\n",
       "  'hits_at_3': 0.20454545454545456,\n",
       "  'hits_at_5': 0.25,\n",
       "  'hits_at_10': 0.29545454545454547},\n",
       " 243.0: {'Relation': 'All',\n",
       "  'Count': 32,\n",
       "  'arithmetic_mean_rank': 137.96875,\n",
       "  'adjusted_arithmetic_mean_rank': 0.0026031478927031376,\n",
       "  'inverse_harmonic_mean_rank': 0.3920961916446686,\n",
       "  'hits_at_1': 0.28125,\n",
       "  'hits_at_3': 0.46875,\n",
       "  'hits_at_5': 0.5,\n",
       "  'hits_at_10': 0.6875},\n",
       " 206.0: {'Relation': 'All',\n",
       "  'Count': 61,\n",
       "  'arithmetic_mean_rank': 77.75409698486328,\n",
       "  'adjusted_arithmetic_mean_rank': 0.0014671780134498003,\n",
       "  'inverse_harmonic_mean_rank': 0.11635625557821304,\n",
       "  'hits_at_1': 0.0,\n",
       "  'hits_at_3': 0.16393442622950818,\n",
       "  'hits_at_5': 0.22950819672131148,\n",
       "  'hits_at_10': 0.32786885245901637},\n",
       " 29.0: {'Relation': 'All',\n",
       "  'Count': 58,\n",
       "  'arithmetic_mean_rank': 475.2069091796875,\n",
       "  'adjusted_arithmetic_mean_rank': 0.008966932358067564,\n",
       "  'inverse_harmonic_mean_rank': 0.07576518223203461,\n",
       "  'hits_at_1': 0.034482758620689655,\n",
       "  'hits_at_3': 0.08620689655172414,\n",
       "  'hits_at_5': 0.10344827586206896,\n",
       "  'hits_at_10': 0.13793103448275862},\n",
       " 190.0: {'Relation': 'All',\n",
       "  'Count': 26,\n",
       "  'arithmetic_mean_rank': 52.846153259277344,\n",
       "  'adjusted_arithmetic_mean_rank': 0.000997380594516665,\n",
       "  'inverse_harmonic_mean_rank': 0.05252668490776649,\n",
       "  'hits_at_1': 0.0,\n",
       "  'hits_at_3': 0.038461538461538464,\n",
       "  'hits_at_5': 0.038461538461538464,\n",
       "  'hits_at_10': 0.11538461538461539},\n",
       " 89.0: {'Relation': 'All',\n",
       "  'Count': 46,\n",
       "  'arithmetic_mean_rank': 91.02173614501953,\n",
       "  'adjusted_arithmetic_mean_rank': 0.0017175821687607188,\n",
       "  'inverse_harmonic_mean_rank': 0.10695496849391771,\n",
       "  'hits_at_1': 0.043478260869565216,\n",
       "  'hits_at_3': 0.10869565217391304,\n",
       "  'hits_at_5': 0.15217391304347827,\n",
       "  'hits_at_10': 0.21739130434782608},\n",
       " 107.0: {'Relation': 'All',\n",
       "  'Count': 34,\n",
       "  'arithmetic_mean_rank': 57.117645263671875,\n",
       "  'adjusted_arithmetic_mean_rank': 0.001077933985125312,\n",
       "  'inverse_harmonic_mean_rank': 0.20103195134331198,\n",
       "  'hits_at_1': 0.08823529411764706,\n",
       "  'hits_at_3': 0.2647058823529412,\n",
       "  'hits_at_5': 0.35294117647058826,\n",
       "  'hits_at_10': 0.47058823529411764},\n",
       " 92.0: {'Relation': 'All',\n",
       "  'Count': 61,\n",
       "  'arithmetic_mean_rank': 118.19672393798828,\n",
       "  'adjusted_arithmetic_mean_rank': 0.0022305598009565064,\n",
       "  'inverse_harmonic_mean_rank': 0.0993286039008469,\n",
       "  'hits_at_1': 0.06557377049180328,\n",
       "  'hits_at_3': 0.08196721311475409,\n",
       "  'hits_at_5': 0.09836065573770492,\n",
       "  'hits_at_10': 0.16393442622950818},\n",
       " 288.0: {'Relation': 'All',\n",
       "  'Count': 26,\n",
       "  'arithmetic_mean_rank': 204.46153259277344,\n",
       "  'adjusted_arithmetic_mean_rank': 0.003857470836701202,\n",
       "  'inverse_harmonic_mean_rank': 0.05624230091388409,\n",
       "  'hits_at_1': 0.038461538461538464,\n",
       "  'hits_at_3': 0.038461538461538464,\n",
       "  'hits_at_5': 0.038461538461538464,\n",
       "  'hits_at_10': 0.038461538461538464},\n",
       " 252.0: {'Relation': 'All',\n",
       "  'Count': 30,\n",
       "  'arithmetic_mean_rank': 63.93333435058594,\n",
       "  'adjusted_arithmetic_mean_rank': 0.0012065146952088398,\n",
       "  'inverse_harmonic_mean_rank': 0.26808700561523435,\n",
       "  'hits_at_1': 0.2,\n",
       "  'hits_at_3': 0.3,\n",
       "  'hits_at_5': 0.3333333333333333,\n",
       "  'hits_at_10': 0.43333333333333335},\n",
       " 346.0: {'Relation': 'All',\n",
       "  'Count': 41,\n",
       "  'arithmetic_mean_rank': 57.29268264770508,\n",
       "  'adjusted_arithmetic_mean_rank': 0.0010808256461457377,\n",
       "  'inverse_harmonic_mean_rank': 0.15836010909662016,\n",
       "  'hits_at_1': 0.07317073170731707,\n",
       "  'hits_at_3': 0.17073170731707318,\n",
       "  'hits_at_5': 0.21951219512195122,\n",
       "  'hits_at_10': 0.2682926829268293},\n",
       " 588.0: {'Relation': 'All',\n",
       "  'Count': 86,\n",
       "  'arithmetic_mean_rank': 24.325580596923828,\n",
       "  'adjusted_arithmetic_mean_rank': 0.00045893249081678674,\n",
       "  'inverse_harmonic_mean_rank': 0.26929249874381134,\n",
       "  'hits_at_1': 0.1511627906976744,\n",
       "  'hits_at_3': 0.3023255813953488,\n",
       "  'hits_at_5': 0.4069767441860465,\n",
       "  'hits_at_10': 0.5465116279069767},\n",
       " 203.0: {'Relation': 'All',\n",
       "  'Count': 24,\n",
       "  'arithmetic_mean_rank': 60.70833206176758,\n",
       "  'adjusted_arithmetic_mean_rank': 0.001145472196340717,\n",
       "  'inverse_harmonic_mean_rank': 0.1177163521448771,\n",
       "  'hits_at_1': 0.041666666666666664,\n",
       "  'hits_at_3': 0.125,\n",
       "  'hits_at_5': 0.125,\n",
       "  'hits_at_10': 0.25},\n",
       " 69.0: {'Relation': 'All',\n",
       "  'Count': 37,\n",
       "  'arithmetic_mean_rank': 126.37837982177734,\n",
       "  'adjusted_arithmetic_mean_rank': 0.002385315746172903,\n",
       "  'inverse_harmonic_mean_rank': 0.027110322101696116,\n",
       "  'hits_at_1': 0.0,\n",
       "  'hits_at_3': 0.0,\n",
       "  'hits_at_5': 0.02702702702702703,\n",
       "  'hits_at_10': 0.05405405405405406},\n",
       " 16.0: {'Relation': 'All',\n",
       "  'Count': 97,\n",
       "  'arithmetic_mean_rank': 600.4845581054688,\n",
       "  'adjusted_arithmetic_mean_rank': 0.011329594304029111,\n",
       "  'inverse_harmonic_mean_rank': 0.12177648249360704,\n",
       "  'hits_at_1': 0.08247422680412371,\n",
       "  'hits_at_3': 0.13402061855670103,\n",
       "  'hits_at_5': 0.13402061855670103,\n",
       "  'hits_at_10': 0.18556701030927836},\n",
       " 148.0: {'Relation': 'All',\n",
       "  'Count': 42,\n",
       "  'arithmetic_mean_rank': 64.80952453613281,\n",
       "  'adjusted_arithmetic_mean_rank': 0.0012227745259132416,\n",
       "  'inverse_harmonic_mean_rank': 0.15016762415568036,\n",
       "  'hits_at_1': 0.09523809523809523,\n",
       "  'hits_at_3': 0.11904761904761904,\n",
       "  'hits_at_5': 0.21428571428571427,\n",
       "  'hits_at_10': 0.2619047619047619},\n",
       " 150.0: {'Relation': 'All',\n",
       "  'Count': 31,\n",
       "  'arithmetic_mean_rank': 68.32257843017578,\n",
       "  'adjusted_arithmetic_mean_rank': 0.0012891166302657262,\n",
       "  'inverse_harmonic_mean_rank': 0.21238499303017894,\n",
       "  'hits_at_1': 0.12903225806451613,\n",
       "  'hits_at_3': 0.22580645161290322,\n",
       "  'hits_at_5': 0.3548387096774194,\n",
       "  'hits_at_10': 0.3870967741935484},\n",
       " 7.0: {'Relation': 'All',\n",
       "  'Count': 124,\n",
       "  'arithmetic_mean_rank': 1537.0281982421875,\n",
       "  'adjusted_arithmetic_mean_rank': 0.029002204567492744,\n",
       "  'inverse_harmonic_mean_rank': 0.03775243605336835,\n",
       "  'hits_at_1': 0.016129032258064516,\n",
       "  'hits_at_3': 0.03225806451612903,\n",
       "  'hits_at_5': 0.04838709677419355,\n",
       "  'hits_at_10': 0.06451612903225806},\n",
       " 47.0: {'Relation': 'All',\n",
       "  'Count': 116,\n",
       "  'arithmetic_mean_rank': 182.96551513671875,\n",
       "  'adjusted_arithmetic_mean_rank': 0.0034523996578603214,\n",
       "  'inverse_harmonic_mean_rank': 0.11620217356188545,\n",
       "  'hits_at_1': 0.06896551724137931,\n",
       "  'hits_at_3': 0.13793103448275862,\n",
       "  'hits_at_5': 0.15517241379310345,\n",
       "  'hits_at_10': 0.1724137931034483},\n",
       " 133.0: {'Relation': 'All',\n",
       "  'Count': 33,\n",
       "  'arithmetic_mean_rank': 124.18181610107422,\n",
       "  'adjusted_arithmetic_mean_rank': 0.0023432969762064715,\n",
       "  'inverse_harmonic_mean_rank': 0.07595880103833748,\n",
       "  'hits_at_1': 0.030303030303030304,\n",
       "  'hits_at_3': 0.06060606060606061,\n",
       "  'hits_at_5': 0.06060606060606061,\n",
       "  'hits_at_10': 0.21212121212121213},\n",
       " 359.0: {'Relation': 'All',\n",
       "  'Count': 45,\n",
       "  'arithmetic_mean_rank': 87.73332977294922,\n",
       "  'adjusted_arithmetic_mean_rank': 0.001655020045229132,\n",
       "  'inverse_harmonic_mean_rank': 0.12609143786960178,\n",
       "  'hits_at_1': 0.044444444444444446,\n",
       "  'hits_at_3': 0.13333333333333333,\n",
       "  'hits_at_5': 0.2222222222222222,\n",
       "  'hits_at_10': 0.28888888888888886},\n",
       " 21.0: {'Relation': 'All',\n",
       "  'Count': 99,\n",
       "  'arithmetic_mean_rank': 466.22222900390625,\n",
       "  'adjusted_arithmetic_mean_rank': 0.008798182619736555,\n",
       "  'inverse_harmonic_mean_rank': 0.09693094696661439,\n",
       "  'hits_at_1': 0.0707070707070707,\n",
       "  'hits_at_3': 0.10101010101010101,\n",
       "  'hits_at_5': 0.10101010101010101,\n",
       "  'hits_at_10': 0.12121212121212122},\n",
       " 322.0: {'Relation': 'All',\n",
       "  'Count': 39,\n",
       "  'arithmetic_mean_rank': 57.71794891357422,\n",
       "  'adjusted_arithmetic_mean_rank': 0.0010889457291071633,\n",
       "  'inverse_harmonic_mean_rank': 0.06738781317686424,\n",
       "  'hits_at_1': 0.0,\n",
       "  'hits_at_3': 0.07692307692307693,\n",
       "  'hits_at_5': 0.07692307692307693,\n",
       "  'hits_at_10': 0.20512820512820512},\n",
       " 128.0: {'Relation': 'All',\n",
       "  'Count': 69,\n",
       "  'arithmetic_mean_rank': 92.6956558227539,\n",
       "  'adjusted_arithmetic_mean_rank': 0.0017489382916215086,\n",
       "  'inverse_harmonic_mean_rank': 0.15764595805734827,\n",
       "  'hits_at_1': 0.10144927536231885,\n",
       "  'hits_at_3': 0.15942028985507245,\n",
       "  'hits_at_5': 0.21739130434782608,\n",
       "  'hits_at_10': 0.2608695652173913},\n",
       " 187.0: {'Relation': 'All',\n",
       "  'Count': 26,\n",
       "  'arithmetic_mean_rank': 64.65384674072266,\n",
       "  'adjusted_arithmetic_mean_rank': 0.0012201455502677018,\n",
       "  'inverse_harmonic_mean_rank': 0.14760872033926156,\n",
       "  'hits_at_1': 0.11538461538461539,\n",
       "  'hits_at_3': 0.11538461538461539,\n",
       "  'hits_at_5': 0.15384615384615385,\n",
       "  'hits_at_10': 0.15384615384615385},\n",
       " 108.0: {'Relation': 'All',\n",
       "  'Count': 25,\n",
       "  'arithmetic_mean_rank': 70.5199966430664,\n",
       "  'adjusted_arithmetic_mean_rank': 0.0013309672735867608,\n",
       "  'inverse_harmonic_mean_rank': 0.07244175910949707,\n",
       "  'hits_at_1': 0.0,\n",
       "  'hits_at_3': 0.04,\n",
       "  'hits_at_5': 0.12,\n",
       "  'hits_at_10': 0.24},\n",
       " 151.0: {'Relation': 'All',\n",
       "  'Count': 20,\n",
       "  'arithmetic_mean_rank': 45.25,\n",
       "  'adjusted_arithmetic_mean_rank': 0.0008541962508807423,\n",
       "  'inverse_harmonic_mean_rank': 0.12713689804077147,\n",
       "  'hits_at_1': 0.05,\n",
       "  'hits_at_3': 0.15,\n",
       "  'hits_at_5': 0.15,\n",
       "  'hits_at_10': 0.3},\n",
       " 1.0: {'Relation': 'All',\n",
       "  'Count': 87,\n",
       "  'arithmetic_mean_rank': 32602.03515625,\n",
       "  'adjusted_arithmetic_mean_rank': 0.6150341679339941,\n",
       "  'inverse_harmonic_mean_rank': 0.0003027679591343321,\n",
       "  'hits_at_1': 0.0,\n",
       "  'hits_at_3': 0.0,\n",
       "  'hits_at_5': 0.0,\n",
       "  'hits_at_10': 0.0},\n",
       " 331.0: {'Relation': 'All',\n",
       "  'Count': 78,\n",
       "  'arithmetic_mean_rank': 46.628204345703125,\n",
       "  'adjusted_arithmetic_mean_rank': 0.0008798259649939194,\n",
       "  'inverse_harmonic_mean_rank': 0.08574900260338417,\n",
       "  'hits_at_1': 0.01282051282051282,\n",
       "  'hits_at_3': 0.0641025641025641,\n",
       "  'hits_at_5': 0.1282051282051282,\n",
       "  'hits_at_10': 0.23076923076923078},\n",
       " 8.0: {'Relation': 'All',\n",
       "  'Count': 90,\n",
       "  'arithmetic_mean_rank': 1043.9222412109375,\n",
       "  'adjusted_arithmetic_mean_rank': 0.0196964643741199,\n",
       "  'inverse_harmonic_mean_rank': 0.022027725643581814,\n",
       "  'hits_at_1': 0.0,\n",
       "  'hits_at_3': 0.022222222222222223,\n",
       "  'hits_at_5': 0.022222222222222223,\n",
       "  'hits_at_10': 0.05555555555555555},\n",
       " 257.0: {'Relation': 'All',\n",
       "  'Count': 28,\n",
       "  'arithmetic_mean_rank': 48.03571319580078,\n",
       "  'adjusted_arithmetic_mean_rank': 0.000906159574019038,\n",
       "  'inverse_harmonic_mean_rank': 0.11091043267931257,\n",
       "  'hits_at_1': 0.0,\n",
       "  'hits_at_3': 0.10714285714285714,\n",
       "  'hits_at_5': 0.10714285714285714,\n",
       "  'hits_at_10': 0.42857142857142855},\n",
       " 67.0: {'Relation': 'All',\n",
       "  'Count': 59,\n",
       "  'arithmetic_mean_rank': 428.55084228515625,\n",
       "  'adjusted_arithmetic_mean_rank': 0.008086131297201097,\n",
       "  'inverse_harmonic_mean_rank': 0.07272954714500299,\n",
       "  'hits_at_1': 0.03389830508474576,\n",
       "  'hits_at_3': 0.06779661016949153,\n",
       "  'hits_at_5': 0.1016949152542373,\n",
       "  'hits_at_10': 0.13559322033898305},\n",
       " 170.0: {'Relation': 'All',\n",
       "  'Count': 59,\n",
       "  'arithmetic_mean_rank': 93.01695251464844,\n",
       "  'adjusted_arithmetic_mean_rank': 0.0017550997024403361,\n",
       "  'inverse_harmonic_mean_rank': 0.11776272725250762,\n",
       "  'hits_at_1': 0.05084745762711865,\n",
       "  'hits_at_3': 0.11864406779661017,\n",
       "  'hits_at_5': 0.1694915254237288,\n",
       "  'hits_at_10': 0.2711864406779661},\n",
       " 115.0: {'Relation': 'All',\n",
       "  'Count': 28,\n",
       "  'arithmetic_mean_rank': 212.5357208251953,\n",
       "  'adjusted_arithmetic_mean_rank': 0.004009590529999309,\n",
       "  'inverse_harmonic_mean_rank': 0.03531224174158914,\n",
       "  'hits_at_1': 0.0,\n",
       "  'hits_at_3': 0.03571428571428571,\n",
       "  'hits_at_5': 0.07142857142857142,\n",
       "  'hits_at_10': 0.10714285714285714},\n",
       " 37.0: {'Relation': 'All',\n",
       "  'Count': 33,\n",
       "  'arithmetic_mean_rank': 280.0909118652344,\n",
       "  'adjusted_arithmetic_mean_rank': 0.00528720245417757,\n",
       "  'inverse_harmonic_mean_rank': 0.05624563043767756,\n",
       "  'hits_at_1': 0.030303030303030304,\n",
       "  'hits_at_3': 0.06060606060606061,\n",
       "  'hits_at_5': 0.06060606060606061,\n",
       "  'hits_at_10': 0.09090909090909091},\n",
       " 370.0: {'Relation': 'All',\n",
       "  'Count': 75,\n",
       "  'arithmetic_mean_rank': 127.76000213623047,\n",
       "  'adjusted_arithmetic_mean_rank': 0.002410355664604193,\n",
       "  'inverse_harmonic_mean_rank': 0.09071907043457031,\n",
       "  'hits_at_1': 0.04,\n",
       "  'hits_at_3': 0.08,\n",
       "  'hits_at_5': 0.14666666666666667,\n",
       "  'hits_at_10': 0.17333333333333334},\n",
       " 46.0: {'Relation': 'All',\n",
       "  'Count': 99,\n",
       "  'arithmetic_mean_rank': 123.44444274902344,\n",
       "  'adjusted_arithmetic_mean_rank': 0.0023290691855439374,\n",
       "  'inverse_harmonic_mean_rank': 0.2917232706089212,\n",
       "  'hits_at_1': 0.15151515151515152,\n",
       "  'hits_at_3': 0.3838383838383838,\n",
       "  'hits_at_5': 0.48484848484848486,\n",
       "  'hits_at_10': 0.5555555555555556},\n",
       " 226.0: {'Relation': 'All',\n",
       "  'Count': 21,\n",
       "  'arithmetic_mean_rank': 70.42857360839844,\n",
       "  'adjusted_arithmetic_mean_rank': 0.0013290529673657455,\n",
       "  'inverse_harmonic_mean_rank': 0.04859913530803862,\n",
       "  'hits_at_1': 0.0,\n",
       "  'hits_at_3': 0.0,\n",
       "  'hits_at_5': 0.09523809523809523,\n",
       "  'hits_at_10': 0.09523809523809523},\n",
       " 197.0: {'Relation': 'All',\n",
       "  'Count': 27,\n",
       "  'arithmetic_mean_rank': 83.33333587646484,\n",
       "  'adjusted_arithmetic_mean_rank': 0.0015723930204373006,\n",
       "  'inverse_harmonic_mean_rank': 0.20784800140946,\n",
       "  'hits_at_1': 0.14814814814814814,\n",
       "  'hits_at_3': 0.18518518518518517,\n",
       "  'hits_at_5': 0.2222222222222222,\n",
       "  'hits_at_10': 0.37037037037037035},\n",
       " 292.0: {'Relation': 'All',\n",
       "  'Count': 46,\n",
       "  'arithmetic_mean_rank': 39.60869598388672,\n",
       "  'adjusted_arithmetic_mean_rank': 0.0007473450752067409,\n",
       "  'inverse_harmonic_mean_rank': 0.2589029643846595,\n",
       "  'hits_at_1': 0.10869565217391304,\n",
       "  'hits_at_3': 0.32608695652173914,\n",
       "  'hits_at_5': 0.45652173913043476,\n",
       "  'hits_at_10': 0.4782608695652174},\n",
       " 570.0: {'Relation': 'All',\n",
       "  'Count': 54,\n",
       "  'arithmetic_mean_rank': 41.05555725097656,\n",
       "  'adjusted_arithmetic_mean_rank': 0.0007745534540742521,\n",
       "  'inverse_harmonic_mean_rank': 0.14397678551850496,\n",
       "  'hits_at_1': 0.037037037037037035,\n",
       "  'hits_at_3': 0.1111111111111111,\n",
       "  'hits_at_5': 0.2037037037037037,\n",
       "  'hits_at_10': 0.42592592592592593},\n",
       " 12.0: {'Relation': 'All',\n",
       "  'Count': 92,\n",
       "  'arithmetic_mean_rank': 739.3804321289062,\n",
       "  'adjusted_arithmetic_mean_rank': 0.01395154559179405,\n",
       "  'inverse_harmonic_mean_rank': 0.08930898749310039,\n",
       "  'hits_at_1': 0.06521739130434782,\n",
       "  'hits_at_3': 0.09782608695652174,\n",
       "  'hits_at_5': 0.09782608695652174,\n",
       "  'hits_at_10': 0.10869565217391304},\n",
       " 84.0: {'Relation': 'All',\n",
       "  'Count': 36,\n",
       "  'arithmetic_mean_rank': 183.27777099609375,\n",
       "  'adjusted_arithmetic_mean_rank': 0.003457937944140713,\n",
       "  'inverse_harmonic_mean_rank': 0.07823705673217773,\n",
       "  'hits_at_1': 0.027777777777777776,\n",
       "  'hits_at_3': 0.08333333333333333,\n",
       "  'hits_at_5': 0.1111111111111111,\n",
       "  'hits_at_10': 0.16666666666666666},\n",
       " 238.0: {'Relation': 'All',\n",
       "  'Count': 33,\n",
       "  'arithmetic_mean_rank': 40.181819915771484,\n",
       "  'adjusted_arithmetic_mean_rank': 0.0007581781067907304,\n",
       "  'inverse_harmonic_mean_rank': 0.21388103022719873,\n",
       "  'hits_at_1': 0.09090909090909091,\n",
       "  'hits_at_3': 0.24242424242424243,\n",
       "  'hits_at_5': 0.24242424242424243,\n",
       "  'hits_at_10': 0.45454545454545453},\n",
       " 31.0: {'Relation': 'All',\n",
       "  'Count': 75,\n",
       "  'arithmetic_mean_rank': 194.97332763671875,\n",
       "  'adjusted_arithmetic_mean_rank': 0.0036792015839849953,\n",
       "  'inverse_harmonic_mean_rank': 0.062319825490315756,\n",
       "  'hits_at_1': 0.04,\n",
       "  'hits_at_3': 0.05333333333333334,\n",
       "  'hits_at_5': 0.06666666666666667,\n",
       "  'hits_at_10': 0.09333333333333334},\n",
       " 110.0: {'Relation': 'All',\n",
       "  'Count': 24,\n",
       "  'arithmetic_mean_rank': 93.0,\n",
       "  'adjusted_arithmetic_mean_rank': 0.001755409760770367,\n",
       "  'inverse_harmonic_mean_rank': 0.047001595298449196,\n",
       "  'hits_at_1': 0.0,\n",
       "  'hits_at_3': 0.0,\n",
       "  'hits_at_5': 0.08333333333333333,\n",
       "  'hits_at_10': 0.125},\n",
       " 285.0: {'Relation': 'All',\n",
       "  'Count': 24,\n",
       "  'arithmetic_mean_rank': 84.83333587646484,\n",
       "  'adjusted_arithmetic_mean_rank': 0.0016001849023306867,\n",
       "  'inverse_harmonic_mean_rank': 0.048280889789263405,\n",
       "  'hits_at_1': 0.0,\n",
       "  'hits_at_3': 0.041666666666666664,\n",
       "  'hits_at_5': 0.041666666666666664,\n",
       "  'hits_at_10': 0.041666666666666664},\n",
       " 271.0: {'Relation': 'All',\n",
       "  'Count': 33,\n",
       "  'arithmetic_mean_rank': 170.09091186523438,\n",
       "  'adjusted_arithmetic_mean_rank': 0.003208676340458524,\n",
       "  'inverse_harmonic_mean_rank': 0.18510428341952237,\n",
       "  'hits_at_1': 0.09090909090909091,\n",
       "  'hits_at_3': 0.12121212121212122,\n",
       "  'hits_at_5': 0.36363636363636365,\n",
       "  'hits_at_10': 0.5151515151515151},\n",
       " 50.0: {'Relation': 'All',\n",
       "  'Count': 78,\n",
       "  'arithmetic_mean_rank': 210.3333282470703,\n",
       "  'adjusted_arithmetic_mean_rank': 0.003968526963904203,\n",
       "  'inverse_harmonic_mean_rank': 0.09948373452211037,\n",
       "  'hits_at_1': 0.05128205128205128,\n",
       "  'hits_at_3': 0.11538461538461539,\n",
       "  'hits_at_5': 0.1282051282051282,\n",
       "  'hits_at_10': 0.14102564102564102},\n",
       " 72.0: {'Relation': 'All',\n",
       "  'Count': 21,\n",
       "  'arithmetic_mean_rank': 117.28571319580078,\n",
       "  'adjusted_arithmetic_mean_rank': 0.002213137823416954,\n",
       "  'inverse_harmonic_mean_rank': 0.023713564588910056,\n",
       "  'hits_at_1': 0.0,\n",
       "  'hits_at_3': 0.0,\n",
       "  'hits_at_5': 0.0,\n",
       "  'hits_at_10': 0.047619047619047616},\n",
       " 194.0: {'Relation': 'All',\n",
       "  'Count': 21,\n",
       "  'arithmetic_mean_rank': 102.28571319580078,\n",
       "  'adjusted_arithmetic_mean_rank': 0.001929891373629684,\n",
       "  'inverse_harmonic_mean_rank': 0.025571865694863458,\n",
       "  'hits_at_1': 0.0,\n",
       "  'hits_at_3': 0.0,\n",
       "  'hits_at_5': 0.0,\n",
       "  'hits_at_10': 0.0},\n",
       " 241.0: {'Relation': 'All',\n",
       "  'Count': 22,\n",
       "  'arithmetic_mean_rank': 54.59090805053711,\n",
       "  'adjusted_arithmetic_mean_rank': 0.0010301461221660828,\n",
       "  'inverse_harmonic_mean_rank': 0.20581273599104447,\n",
       "  'hits_at_1': 0.13636363636363635,\n",
       "  'hits_at_3': 0.22727272727272727,\n",
       "  'hits_at_5': 0.22727272727272727,\n",
       "  'hits_at_10': 0.2727272727272727},\n",
       " 177.0: {'Relation': 'All',\n",
       "  'Count': 19,\n",
       "  'arithmetic_mean_rank': 89.0526351928711,\n",
       "  'adjusted_arithmetic_mean_rank': 0.0016800590489739683,\n",
       "  'inverse_harmonic_mean_rank': 0.03733952735599719,\n",
       "  'hits_at_1': 0.0,\n",
       "  'hits_at_3': 0.0,\n",
       "  'hits_at_5': 0.05263157894736842,\n",
       "  'hits_at_10': 0.05263157894736842},\n",
       " 157.0: {'Relation': 'All',\n",
       "  'Count': 21,\n",
       "  'arithmetic_mean_rank': 166.85714721679688,\n",
       "  'adjusted_arithmetic_mean_rank': 0.00314800199045783,\n",
       "  'inverse_harmonic_mean_rank': 0.03944968041919526,\n",
       "  'hits_at_1': 0.0,\n",
       "  'hits_at_3': 0.0,\n",
       "  'hits_at_5': 0.0,\n",
       "  'hits_at_10': 0.09523809523809523},\n",
       " 301.0: {'Relation': 'All',\n",
       "  'Count': 34,\n",
       "  'arithmetic_mean_rank': 45.088233947753906,\n",
       "  'adjusted_arithmetic_mean_rank': 0.0008508923292157653,\n",
       "  'inverse_harmonic_mean_rank': 0.1423927475424374,\n",
       "  'hits_at_1': 0.08823529411764706,\n",
       "  'hits_at_3': 0.11764705882352941,\n",
       "  'hits_at_5': 0.14705882352941177,\n",
       "  'hits_at_10': 0.29411764705882354},\n",
       " 179.0: {'Relation': 'All',\n",
       "  'Count': 23,\n",
       "  'arithmetic_mean_rank': 78.6956558227539,\n",
       "  'adjusted_arithmetic_mean_rank': 0.0014850691758509218,\n",
       "  'inverse_harmonic_mean_rank': 0.02661205892977507,\n",
       "  'hits_at_1': 0.0,\n",
       "  'hits_at_3': 0.0,\n",
       "  'hits_at_5': 0.0,\n",
       "  'hits_at_10': 0.043478260869565216},\n",
       " 64.0: {'Relation': 'All',\n",
       "  'Count': 49,\n",
       "  'arithmetic_mean_rank': 230.4081573486328,\n",
       "  'adjusted_arithmetic_mean_rank': 0.004348638194480429,\n",
       "  'inverse_harmonic_mean_rank': 0.06680497831227829,\n",
       "  'hits_at_1': 0.04081632653061224,\n",
       "  'hits_at_3': 0.04081632653061224,\n",
       "  'hits_at_5': 0.061224489795918366,\n",
       "  'hits_at_10': 0.12244897959183673},\n",
       " 164.0: {'Relation': 'All',\n",
       "  'Count': 72,\n",
       "  'arithmetic_mean_rank': 88.54166412353516,\n",
       "  'adjusted_arithmetic_mean_rank': 0.0016704337197807476,\n",
       "  'inverse_harmonic_mean_rank': 0.11399740642971462,\n",
       "  'hits_at_1': 0.05555555555555555,\n",
       "  'hits_at_3': 0.125,\n",
       "  'hits_at_5': 0.1388888888888889,\n",
       "  'hits_at_10': 0.2222222222222222},\n",
       " 717.0: {'Relation': 'All',\n",
       "  'Count': 78,\n",
       "  'arithmetic_mean_rank': 29.756410598754883,\n",
       "  'adjusted_arithmetic_mean_rank': 0.0005613412274297491,\n",
       "  'inverse_harmonic_mean_rank': 0.33439484620705634,\n",
       "  'hits_at_1': 0.2692307692307692,\n",
       "  'hits_at_3': 0.3076923076923077,\n",
       "  'hits_at_5': 0.3974358974358974,\n",
       "  'hits_at_10': 0.5},\n",
       " 100.0: {'Relation': 'All',\n",
       "  'Count': 21,\n",
       "  'arithmetic_mean_rank': 53.380950927734375,\n",
       "  'adjusted_arithmetic_mean_rank': 0.0010073637931178646,\n",
       "  'inverse_harmonic_mean_rank': 0.22028434844244094,\n",
       "  'hits_at_1': 0.14285714285714285,\n",
       "  'hits_at_3': 0.19047619047619047,\n",
       "  'hits_at_5': 0.2857142857142857,\n",
       "  'hits_at_10': 0.42857142857142855},\n",
       " 436.0: {'Relation': 'All',\n",
       "  'Count': 48,\n",
       "  'arithmetic_mean_rank': 27.6875,\n",
       "  'adjusted_arithmetic_mean_rank': 0.0005223132700583622,\n",
       "  'inverse_harmonic_mean_rank': 0.3380141258239746,\n",
       "  'hits_at_1': 0.1875,\n",
       "  'hits_at_3': 0.4166666666666667,\n",
       "  'hits_at_5': 0.5,\n",
       "  'hits_at_10': 0.6666666666666666},\n",
       " 74.0: {'Relation': 'All',\n",
       "  'Count': 16,\n",
       "  'arithmetic_mean_rank': 91.0,\n",
       "  'adjusted_arithmetic_mean_rank': 0.0017174915187060306,\n",
       "  'inverse_harmonic_mean_rank': 0.03706289827823639,\n",
       "  'hits_at_1': 0.0,\n",
       "  'hits_at_3': 0.0,\n",
       "  'hits_at_5': 0.0,\n",
       "  'hits_at_10': 0.0625},\n",
       " 386.0: {'Relation': 'All',\n",
       "  'Count': 52,\n",
       "  'arithmetic_mean_rank': 36.346153259277344,\n",
       "  'adjusted_arithmetic_mean_rank': 0.0006857426373308218,\n",
       "  'inverse_harmonic_mean_rank': 0.17740192780127892,\n",
       "  'hits_at_1': 0.07692307692307693,\n",
       "  'hits_at_3': 0.15384615384615385,\n",
       "  'hits_at_5': 0.2692307692307692,\n",
       "  'hits_at_10': 0.40384615384615385},\n",
       " 262.0: {'Relation': 'All',\n",
       "  'Count': 32,\n",
       "  'arithmetic_mean_rank': 20.375,\n",
       "  'adjusted_arithmetic_mean_rank': 0.00038450186220974754,\n",
       "  'inverse_harmonic_mean_rank': 0.2556743025779724,\n",
       "  'hits_at_1': 0.15625,\n",
       "  'hits_at_3': 0.25,\n",
       "  'hits_at_5': 0.3125,\n",
       "  'hits_at_10': 0.40625},\n",
       " 191.0: {'Relation': 'All',\n",
       "  'Count': 17,\n",
       "  'arithmetic_mean_rank': 72.94117736816406,\n",
       "  'adjusted_arithmetic_mean_rank': 0.0013761966976371472,\n",
       "  'inverse_harmonic_mean_rank': 0.09247103158165426,\n",
       "  'hits_at_1': 0.0,\n",
       "  'hits_at_3': 0.17647058823529413,\n",
       "  'hits_at_5': 0.17647058823529413,\n",
       "  'hits_at_10': 0.17647058823529413},\n",
       " 57.0: {'Relation': 'All',\n",
       "  'Count': 28,\n",
       "  'arithmetic_mean_rank': 226.4642791748047,\n",
       "  'adjusted_arithmetic_mean_rank': 0.004273164323015469,\n",
       "  'inverse_harmonic_mean_rank': 0.041685249124254496,\n",
       "  'hits_at_1': 0.0,\n",
       "  'hits_at_3': 0.03571428571428571,\n",
       "  'hits_at_5': 0.07142857142857142,\n",
       "  'hits_at_10': 0.14285714285714285},\n",
       " 113.0: {'Relation': 'All',\n",
       "  'Count': 11,\n",
       "  'arithmetic_mean_rank': 48.727272033691406,\n",
       "  'adjusted_arithmetic_mean_rank': 0.0009201527047865203,\n",
       "  'inverse_harmonic_mean_rank': 0.154045278375799,\n",
       "  'hits_at_1': 0.09090909090909091,\n",
       "  'hits_at_3': 0.09090909090909091,\n",
       "  'hits_at_5': 0.18181818181818182,\n",
       "  'hits_at_10': 0.2727272727272727},\n",
       " 356.0: {'Relation': 'All',\n",
       "  'Count': 39,\n",
       "  'arithmetic_mean_rank': 35.512821197509766,\n",
       "  'adjusted_arithmetic_mean_rank': 0.0006699619895514379,\n",
       "  'inverse_harmonic_mean_rank': 0.10860122778476813,\n",
       "  'hits_at_1': 0.02564102564102564,\n",
       "  'hits_at_3': 0.10256410256410256,\n",
       "  'hits_at_5': 0.10256410256410256,\n",
       "  'hits_at_10': 0.3333333333333333},\n",
       " 382.0: {'Relation': 'All',\n",
       "  'Count': 28,\n",
       "  'arithmetic_mean_rank': 39.78571319580078,\n",
       "  'adjusted_arithmetic_mean_rank': 0.0007505127568526714,\n",
       "  'inverse_harmonic_mean_rank': 0.05602068134716579,\n",
       "  'hits_at_1': 0.0,\n",
       "  'hits_at_3': 0.03571428571428571,\n",
       "  'hits_at_5': 0.07142857142857142,\n",
       "  'hits_at_10': 0.14285714285714285},\n",
       " 85.0: {'Relation': 'All',\n",
       "  'Count': 24,\n",
       "  'arithmetic_mean_rank': 273.7083435058594,\n",
       "  'adjusted_arithmetic_mean_rank': 0.0051649052556707615,\n",
       "  'inverse_harmonic_mean_rank': 0.1725152532259623,\n",
       "  'hits_at_1': 0.125,\n",
       "  'hits_at_3': 0.16666666666666666,\n",
       "  'hits_at_5': 0.16666666666666666,\n",
       "  'hits_at_10': 0.25},\n",
       " 118.0: {'Relation': 'All',\n",
       "  'Count': 17,\n",
       "  'arithmetic_mean_rank': 58.882354736328125,\n",
       "  'adjusted_arithmetic_mean_rank': 0.0011112048863236082,\n",
       "  'inverse_harmonic_mean_rank': 0.048729668645297784,\n",
       "  'hits_at_1': 0.0,\n",
       "  'hits_at_3': 0.0,\n",
       "  'hits_at_5': 0.058823529411764705,\n",
       "  'hits_at_10': 0.17647058823529413},\n",
       " 36.0: {'Relation': 'All',\n",
       "  'Count': 76,\n",
       "  'arithmetic_mean_rank': 305.0,\n",
       "  'adjusted_arithmetic_mean_rank': 0.005754439830852238,\n",
       "  'inverse_harmonic_mean_rank': 0.06676765492087916,\n",
       "  'hits_at_1': 0.0,\n",
       "  'hits_at_3': 0.07894736842105263,\n",
       "  'hits_at_5': 0.14473684210526316,\n",
       "  'hits_at_10': 0.21052631578947367},\n",
       " 161.0: {'Relation': 'All',\n",
       "  'Count': 25,\n",
       "  'arithmetic_mean_rank': 165.02000427246094,\n",
       "  'adjusted_arithmetic_mean_rank': 0.003113263086617854,\n",
       "  'inverse_harmonic_mean_rank': 0.029910690784454342,\n",
       "  'hits_at_1': 0.0,\n",
       "  'hits_at_3': 0.0,\n",
       "  'hits_at_5': 0.0,\n",
       "  'hits_at_10': 0.16},\n",
       " 208.0: {'Relation': 'All',\n",
       "  'Count': 25,\n",
       "  'arithmetic_mean_rank': 142.32000732421875,\n",
       "  'adjusted_arithmetic_mean_rank': 0.002685630768892327,\n",
       "  'inverse_harmonic_mean_rank': 0.07324348449707031,\n",
       "  'hits_at_1': 0.04,\n",
       "  'hits_at_3': 0.04,\n",
       "  'hits_at_5': 0.04,\n",
       "  'hits_at_10': 0.2},\n",
       " 367.0: {'Relation': 'All',\n",
       "  'Count': 45,\n",
       "  'arithmetic_mean_rank': 30.266666412353516,\n",
       "  'adjusted_arithmetic_mean_rank': 0.0005710321861983818,\n",
       "  'inverse_harmonic_mean_rank': 0.234646119011773,\n",
       "  'hits_at_1': 0.13333333333333333,\n",
       "  'hits_at_3': 0.24444444444444444,\n",
       "  'hits_at_5': 0.3333333333333333,\n",
       "  'hits_at_10': 0.4222222222222222},\n",
       " 126.0: {'Relation': 'All',\n",
       "  'Count': 31,\n",
       "  'arithmetic_mean_rank': 276.93548583984375,\n",
       "  'adjusted_arithmetic_mean_rank': 0.0052248973269858525,\n",
       "  'inverse_harmonic_mean_rank': 0.03950720064101681,\n",
       "  'hits_at_1': 0.0,\n",
       "  'hits_at_3': 0.03225806451612903,\n",
       "  'hits_at_5': 0.03225806451612903,\n",
       "  'hits_at_10': 0.12903225806451613},\n",
       " 555.0: {'Relation': 'All',\n",
       "  'Count': 51,\n",
       "  'arithmetic_mean_rank': 81.07843017578125,\n",
       "  'adjusted_arithmetic_mean_rank': 0.0015295180109403425,\n",
       "  'inverse_harmonic_mean_rank': 0.108550698149438,\n",
       "  'hits_at_1': 0.0392156862745098,\n",
       "  'hits_at_3': 0.13725490196078433,\n",
       "  'hits_at_5': 0.13725490196078433,\n",
       "  'hits_at_10': 0.17647058823529413},\n",
       " 319.0: {'Relation': 'All',\n",
       "  'Count': 33,\n",
       "  'arithmetic_mean_rank': 46.39393997192383,\n",
       "  'adjusted_arithmetic_mean_rank': 0.0008751807205712549,\n",
       "  'inverse_harmonic_mean_rank': 0.18171917308460583,\n",
       "  'hits_at_1': 0.030303030303030304,\n",
       "  'hits_at_3': 0.2727272727272727,\n",
       "  'hits_at_5': 0.36363636363636365,\n",
       "  'hits_at_10': 0.48484848484848486},\n",
       " 130.0: {'Relation': 'All',\n",
       "  'Count': 13,\n",
       "  'arithmetic_mean_rank': 66.30769348144531,\n",
       "  'adjusted_arithmetic_mean_rank': 0.0012510685827349477,\n",
       "  'inverse_harmonic_mean_rank': 0.058756809968214765,\n",
       "  'hits_at_1': 0.0,\n",
       "  'hits_at_3': 0.0,\n",
       "  'hits_at_5': 0.15384615384615385,\n",
       "  'hits_at_10': 0.15384615384615385},\n",
       " 372.0: {'Relation': 'All',\n",
       "  'Count': 41,\n",
       "  'arithmetic_mean_rank': 35.17073059082031,\n",
       "  'adjusted_arithmetic_mean_rank': 0.0006635664739809608,\n",
       "  'inverse_harmonic_mean_rank': 0.15717648296821407,\n",
       "  'hits_at_1': 0.04878048780487805,\n",
       "  'hits_at_3': 0.17073170731707318,\n",
       "  'hits_at_5': 0.2682926829268293,\n",
       "  'hits_at_10': 0.36585365853658536},\n",
       " 348.0: {'Relation': 'All',\n",
       "  'Count': 37,\n",
       "  'arithmetic_mean_rank': 74.0810775756836,\n",
       "  'adjusted_arithmetic_mean_rank': 0.0013973571393688152,\n",
       "  'inverse_harmonic_mean_rank': 0.04185247743451918,\n",
       "  'hits_at_1': 0.0,\n",
       "  'hits_at_3': 0.0,\n",
       "  'hits_at_5': 0.0,\n",
       "  'hits_at_10': 0.16216216216216217},\n",
       " 189.0: {'Relation': 'All',\n",
       "  'Count': 15,\n",
       "  'arithmetic_mean_rank': 121.33333587646484,\n",
       "  'adjusted_arithmetic_mean_rank': 0.002289334141074519,\n",
       "  'inverse_harmonic_mean_rank': 0.10858244101206461,\n",
       "  'hits_at_1': 0.06666666666666667,\n",
       "  'hits_at_3': 0.06666666666666667,\n",
       "  'hits_at_5': 0.06666666666666667,\n",
       "  'hits_at_10': 0.26666666666666666},\n",
       " 75.0: {'Relation': 'All',\n",
       "  'Count': 34,\n",
       "  'arithmetic_mean_rank': 113.10294342041016,\n",
       "  'adjusted_arithmetic_mean_rank': 0.0021339497082051738,\n",
       "  'inverse_harmonic_mean_rank': 0.1217034704544965,\n",
       "  'hits_at_1': 0.08823529411764706,\n",
       "  'hits_at_3': 0.11764705882352941,\n",
       "  'hits_at_5': 0.11764705882352941,\n",
       "  'hits_at_10': 0.14705882352941177},\n",
       " 78.0: {'Relation': 'All',\n",
       "  'Count': 28,\n",
       "  'arithmetic_mean_rank': 120.67857360839844,\n",
       "  'adjusted_arithmetic_mean_rank': 0.002276880573293557,\n",
       "  'inverse_harmonic_mean_rank': 0.06699777926717486,\n",
       "  'hits_at_1': 0.03571428571428571,\n",
       "  'hits_at_3': 0.03571428571428571,\n",
       "  'hits_at_5': 0.03571428571428571,\n",
       "  'hits_at_10': 0.10714285714285714},\n",
       " 155.0: {'Relation': 'All',\n",
       "  'Count': 20,\n",
       "  'arithmetic_mean_rank': 84.375,\n",
       "  'adjusted_arithmetic_mean_rank': 0.0015917806578133792,\n",
       "  'inverse_harmonic_mean_rank': 0.04584648311138153,\n",
       "  'hits_at_1': 0.0,\n",
       "  'hits_at_3': 0.0,\n",
       "  'hits_at_5': 0.05,\n",
       "  'hits_at_10': 0.2},\n",
       " 171.0: {'Relation': 'All',\n",
       "  'Count': 16,\n",
       "  'arithmetic_mean_rank': 86.375,\n",
       "  'adjusted_arithmetic_mean_rank': 0.0016300254942120532,\n",
       "  'inverse_harmonic_mean_rank': 0.15618759393692017,\n",
       "  'hits_at_1': 0.0625,\n",
       "  'hits_at_3': 0.1875,\n",
       "  'hits_at_5': 0.1875,\n",
       "  'hits_at_10': 0.375},\n",
       " 71.0: {'Relation': 'All',\n",
       "  'Count': 11,\n",
       "  'arithmetic_mean_rank': 135.36363220214844,\n",
       "  'adjusted_arithmetic_mean_rank': 0.0025535840285638408,\n",
       "  'inverse_harmonic_mean_rank': 0.028028415008024735,\n",
       "  'hits_at_1': 0.0,\n",
       "  'hits_at_3': 0.0,\n",
       "  'hits_at_5': 0.0,\n",
       "  'hits_at_10': 0.09090909090909091},\n",
       " 141.0: {'Relation': 'All',\n",
       "  'Count': 31,\n",
       "  'arithmetic_mean_rank': 127.90322875976562,\n",
       "  'adjusted_arithmetic_mean_rank': 0.0024128616730793007,\n",
       "  'inverse_harmonic_mean_rank': 0.1288265182125953,\n",
       "  'hits_at_1': 0.0967741935483871,\n",
       "  'hits_at_3': 0.0967741935483871,\n",
       "  'hits_at_5': 0.12903225806451613,\n",
       "  'hits_at_10': 0.22580645161290322},\n",
       " 99.0: {'Relation': 'All',\n",
       "  'Count': 30,\n",
       "  'arithmetic_mean_rank': 96.93333435058594,\n",
       "  'adjusted_arithmetic_mean_rank': 0.0018291764526353557,\n",
       "  'inverse_harmonic_mean_rank': 0.08623993396759033,\n",
       "  'hits_at_1': 0.0,\n",
       "  'hits_at_3': 0.06666666666666667,\n",
       "  'hits_at_5': 0.2,\n",
       "  'hits_at_10': 0.26666666666666666},\n",
       " 65.0: {'Relation': 'All',\n",
       "  'Count': 11,\n",
       "  'arithmetic_mean_rank': 208.72727966308594,\n",
       "  'adjusted_arithmetic_mean_rank': 0.003938368778297711,\n",
       "  'inverse_harmonic_mean_rank': 0.11972779577428644,\n",
       "  'hits_at_1': 0.09090909090909091,\n",
       "  'hits_at_3': 0.09090909090909091,\n",
       "  'hits_at_5': 0.18181818181818182,\n",
       "  'hits_at_10': 0.18181818181818182},\n",
       " 233.0: {'Relation': 'All',\n",
       "  'Count': 27,\n",
       "  'arithmetic_mean_rank': 92.74073791503906,\n",
       "  'adjusted_arithmetic_mean_rank': 0.0017492403299847361,\n",
       "  'inverse_harmonic_mean_rank': 0.024235661383028382,\n",
       "  'hits_at_1': 0.0,\n",
       "  'hits_at_3': 0.0,\n",
       "  'hits_at_5': 0.0,\n",
       "  'hits_at_10': 0.037037037037037035},\n",
       " 77.0: {'Relation': 'All',\n",
       "  'Count': 11,\n",
       "  'arithmetic_mean_rank': 132.0,\n",
       "  'adjusted_arithmetic_mean_rank': 0.0024897482216390326,\n",
       "  'inverse_harmonic_mean_rank': 0.02497094056823037,\n",
       "  'hits_at_1': 0.0,\n",
       "  'hits_at_3': 0.0,\n",
       "  'hits_at_5': 0.0,\n",
       "  'hits_at_10': 0.0},\n",
       " 181.0: {'Relation': 'All',\n",
       "  'Count': 13,\n",
       "  'arithmetic_mean_rank': 731.4615478515625,\n",
       "  'adjusted_arithmetic_mean_rank': 0.01379695611217236,\n",
       "  'inverse_harmonic_mean_rank': 0.2552641355074369,\n",
       "  'hits_at_1': 0.15384615384615385,\n",
       "  'hits_at_3': 0.3076923076923077,\n",
       "  'hits_at_5': 0.3076923076923077,\n",
       "  'hits_at_10': 0.46153846153846156},\n",
       " 81.0: {'Relation': 'All',\n",
       "  'Count': 22,\n",
       "  'arithmetic_mean_rank': 178.40908813476562,\n",
       "  'adjusted_arithmetic_mean_rank': 0.003364965384977631,\n",
       "  'inverse_harmonic_mean_rank': 0.27330515601418237,\n",
       "  'hits_at_1': 0.22727272727272727,\n",
       "  'hits_at_3': 0.2727272727272727,\n",
       "  'hits_at_5': 0.2727272727272727,\n",
       "  'hits_at_10': 0.36363636363636365},\n",
       " 248.0: {'Relation': 'All',\n",
       "  'Count': 13,\n",
       "  'arithmetic_mean_rank': 201.15383911132812,\n",
       "  'adjusted_arithmetic_mean_rank': 0.00379390727261911,\n",
       "  'inverse_harmonic_mean_rank': 0.07395123518430269,\n",
       "  'hits_at_1': 0.0,\n",
       "  'hits_at_3': 0.07692307692307693,\n",
       "  'hits_at_5': 0.15384615384615385,\n",
       "  'hits_at_10': 0.15384615384615385},\n",
       " 96.0: {'Relation': 'All',\n",
       "  'Count': 6,\n",
       "  'arithmetic_mean_rank': 1.3333333730697632,\n",
       "  'adjusted_arithmetic_mean_rank': 2.5151103861224322e-05,\n",
       "  'inverse_harmonic_mean_rank': 0.8888889153798422,\n",
       "  'hits_at_1': 0.8333333333333334,\n",
       "  'hits_at_3': 1.0,\n",
       "  'hits_at_5': 1.0,\n",
       "  'hits_at_10': 1.0}}"
      ]
     },
     "execution_count": 59,
     "metadata": {},
     "output_type": "execute_result"
    }
   ],
   "source": [
    "results_by_node_degree_dicts_rotate = {}\n",
    "for result in results_by_node_degree_rotate:\n",
    "         results_by_node_degree_dicts_rotate[result['dis_degree']] = make_results_dict(result['results'],\n",
    "                                                                                relation=result['relation'],\n",
    "                                                                                relation_count=result['count'],\n",
    "                                                                                triple_endpoint='tail',\n",
    "                                                                                metric_type='realistic'\n",
    "                                                                               )\n",
    "results_by_node_degree_dicts_rotate"
   ]
  },
  {
   "cell_type": "code",
   "execution_count": 60,
   "id": "b4cac0be",
   "metadata": {},
   "outputs": [],
   "source": [
    "with open(f'{MODEL_ID}-node-degree-eval.json', 'w+') as f:\n",
    "    json.dump(results_by_node_degree_dicts_rotate, f)\n"
   ]
  },
  {
   "cell_type": "code",
   "execution_count": 64,
   "id": "c2231597",
   "metadata": {},
   "outputs": [
    {
     "data": {
      "text/plain": [
       "'rotate-otxtubeb'"
      ]
     },
     "execution_count": 64,
     "metadata": {},
     "output_type": "execute_result"
    }
   ],
   "source": [
    "metric_name = 'hits_at_10'\n",
    "degrees = list(results_by_node_degree_dicts_rotate.keys())\n",
    "metrics = []\n",
    "for deg, metric in results_by_node_degree_dicts_rotate.items():\n",
    "    metrics.append(metric[metric_name])\n",
    "MODEL_ID"
   ]
  },
  {
   "cell_type": "code",
   "execution_count": 65,
   "id": "f784a87b",
   "metadata": {},
   "outputs": [
    {
     "name": "stderr",
     "output_type": "stream",
     "text": [
      "/home/jovyan/.conda/envs/bioblp-env/lib/python3.8/site-packages/seaborn/_decorators.py:36: FutureWarning: Pass the following variables as keyword args: x, y. From version 0.12, the only valid positional argument will be `data`, and passing other arguments without an explicit keyword will result in an error or misinterpretation.\n",
      "  warnings.warn(\n"
     ]
    },
    {
     "data": {
      "text/plain": [
       "Text(0.5, 1.0, 'Average hits_at_10 predicting disease nodes Vs. disease node degree | Model: rotate-otxtubeb')"
      ]
     },
     "execution_count": 65,
     "metadata": {},
     "output_type": "execute_result"
    },
    {
     "data": {
      "image/png": "[encoded data removed]",
      "text/plain": [
       "<Figure size 432x288 with 1 Axes>"
      ]
     },
     "metadata": {
      "needs_background": "light"
     },
     "output_type": "display_data"
    }
   ],
   "source": [
    "sns.scatterplot(degrees, metrics)\n",
    "plt.xscale('log')\n",
    "plt.ylabel(metric_name)\n",
    "plt.title(f'Average {metric_name} predicting disease nodes Vs. disease node degree | Model: {MODEL_ID}')"
   ]
  },
  {
   "cell_type": "code",
   "execution_count": 214,
   "id": "ec060ec5",
   "metadata": {},
   "outputs": [
    {
     "name": "stderr",
     "output_type": "stream",
     "text": [
      "/home/jovyan/.conda/envs/bioblp-env/lib/python3.8/site-packages/seaborn/_decorators.py:36: FutureWarning: Pass the following variables as keyword args: x, y. From version 0.12, the only valid positional argument will be `data`, and passing other arguments without an explicit keyword will result in an error or misinterpretation.\n",
      "  warnings.warn(\n"
     ]
    },
    {
     "data": {
      "text/plain": [
       "Text(0.5, 1.0, 'Average hits_at_1 predicting disease nodes Vs. disease node degree | Model: bioblpd-38uz9fjs')"
      ]
     },
     "execution_count": 214,
     "metadata": {},
     "output_type": "execute_result"
    },
    {
     "data": {
      "image/png": "[encoded data removed]",
      "text/plain": [
       "<Figure size 432x288 with 1 Axes>"
      ]
     },
     "metadata": {
      "needs_background": "light"
     },
     "output_type": "display_data"
    }
   ],
   "source": [
    "sns.scatterplot(degreeBIOBLP_D metrics)\n",
    "plt.xscale('log')\n",
    "plt.ylabel(metric_name)\n",
    "plt.title(f'Average {metric_name} predicting disease nodes Vs. disease node degree | Model: {model_name}')"
   ]
  },
  {
   "cell_type": "code",
   "execution_count": null,
   "id": "2d41c856",
   "metadata": {},
   "outputs": [],
   "source": []
  },
  {
   "cell_type": "markdown",
   "id": "cd013a43",
   "metadata": {},
   "source": [
    "## "
   ]
  },
  {
   "cell_type": "code",
   "execution_count": null,
   "id": "b3e378c0",
   "metadata": {},
   "outputs": [],
   "source": []
  },
  {
   "cell_type": "code",
   "execution_count": null,
   "id": "1b0a1f34",
   "metadata": {},
   "outputs": [],
   "source": []
  },
  {
   "cell_type": "markdown",
   "id": "aa1eeaad",
   "metadata": {},
   "source": [
    "## archived"
   ]
  },
  {
   "cell_type": "markdown",
   "id": "f19ec282",
   "metadata": {},
   "source": [
    "### previous stuff"
   ]
  },
  {
   "cell_type": "markdown",
   "id": "47fdf06f",
   "metadata": {},
   "source": [
    "How do MRR, H@k, and AMR correlate?"
   ]
  },
  {
   "cell_type": "code",
   "execution_count": 32,
   "id": "75c5336f",
   "metadata": {
    "scrolled": true
   },
   "outputs": [
    {
     "data": {
      "image/png": "[encoded data removed]",
      "text/plain": [
       "<Figure size 640x480 with 1 Axes>"
      ]
     },
     "metadata": {},
     "output_type": "display_data"
    },
    {
     "data": {
      "image/png": "[encoded data removed]",
      "text/plain": [
       "<Figure size 640x480 with 1 Axes>"
      ]
     },
     "metadata": {},
     "output_type": "display_data"
    },
    {
     "data": {
      "image/png": "[encoded data removed]",
      "text/plain": [
       "<Figure size 640x480 with 1 Axes>"
      ]
     },
     "metadata": {},
     "output_type": "display_data"
    }
   ],
   "source": [
    "def plot_metric_pair(results_df, metric_1: str, metric_2: str):\n",
    "    \"\"\"Make a scatter plot with one link prediction metric in each axis.\"\"\"\n",
    "    plt.figure()\n",
    "    plt.scatter(results_df[metric_1], results_df[metric_2])\n",
    "    plt.xlabel(metric_1)\n",
    "    plt.ylabel(metric_2)\n",
    "\n",
    "plot_metric_pair(results_df, 'mean_reciprocal_rank', 'hits_at_10')\n",
    "plot_metric_pair(results_df, 'mean_reciprocal_rank', 'adjusted_mean_rank')\n",
    "plot_metric_pair(results_df, 'mean_reciprocal_rank', 'Count')"
   ]
  },
  {
   "cell_type": "markdown",
   "id": "cd13a8ec",
   "metadata": {},
   "source": [
    "What are the relations where the model performs better?"
   ]
  },
  {
   "cell_type": "code",
   "execution_count": 33,
   "id": "7c2a35b0",
   "metadata": {},
   "outputs": [],
   "source": [
    "def per_relation_plot(results_df, metric: str):\n",
    "    \"\"\"Make a bar plot of link prediction performance for each relation.\"\"\"\n",
    "    results_df[['Relation', metric]].sort_values(by=metric).plot.barh(x='Relation', figsize=(5, 5), grid=True)"
   ]
  },
  {
   "cell_type": "code",
   "execution_count": 34,
   "id": "c0c39c28",
   "metadata": {},
   "outputs": [
    {
     "data": {
      "image/png": "[encoded data removed]",
      "text/plain": [
       "<Figure size 500x500 with 1 Axes>"
      ]
     },
     "metadata": {},
     "output_type": "display_data"
    }
   ],
   "source": [
    "per_relation_plot(results_df, 'hits_at_10')"
   ]
  },
  {
   "cell_type": "markdown",
   "id": "33617e22",
   "metadata": {},
   "source": [
    "### Evaluating over specific entity and relation types\n",
    "The source csv files contain the triples, plus extra information like the types of the entities involved in the triple. We will extract the type information."
   ]
  },
  {
   "cell_type": "markdown",
   "id": "aa6ea694",
   "metadata": {},
   "source": [
    "We can see that restricting predictions over the correct domain and range of a relation only slightly increases the results."
   ]
  },
  {
   "cell_type": "code",
   "execution_count": null,
   "id": "3095af5f",
   "metadata": {},
   "outputs": [],
   "source": [
    "can you do an. analysis on degree....\n",
    "compare rotate to this"
   ]
  },
  {
   "cell_type": "code",
   "execution_count": null,
   "id": "714748de",
   "metadata": {},
   "outputs": [],
   "source": []
  }
 ],
 "metadata": {
  "kernelspec": {
   "display_name": ".conda-bioblp-env [Python]",
   "language": "python",
   "name": "conda-env-.conda-bioblp-env-py"
  },
  "language_info": {
   "codemirror_mode": {
    "name": "ipython",
    "version": 3
   },
   "file_extension": ".py",
   "mimetype": "text/x-python",
   "name": "python",
   "nbconvert_exporter": "python",
   "pygments_lexer": "ipython3",
   "version": "3.8.13"
  }
 },
 "nbformat": 4,
 "nbformat_minor": 5
}
