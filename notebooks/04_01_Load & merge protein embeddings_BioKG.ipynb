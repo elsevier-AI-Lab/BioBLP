{
 "cells": [
  {
   "cell_type": "code",
   "execution_count": 1,
   "metadata": {},
   "outputs": [],
   "source": [
    "import pandas as pd\n",
    "import json\n",
    "import torch\n",
    "from torch import tensor\n",
    "\n",
    "import numpy as np"
   ]
  },
  {
   "cell_type": "code",
   "execution_count": 3,
   "metadata": {},
   "outputs": [],
   "source": [
    "def merge_sequence_data(batch_num):\n",
    "    \"\"\"\n",
    "        Gimme a directory and a range and I'll concatenate all the torch data for ya.\n",
    "    \"\"\"\n",
    "    df_list = []\n",
    "\n",
    "    for i in range(0, batch_num):\n",
    "\n",
    "        tensor_data = torch.load(f'../data/processed/{i}_protein_batch.pt')\n",
    "\n",
    "        df_data = pd.DataFrame.from_dict(tensor_data)\n",
    "\n",
    "        \n",
    "        print(len(df_data))\n",
    "        \n",
    "        df_list.append(df_data)\n",
    "\n",
    "\n",
    "    data_final = pd.concat(df_list)\n",
    "\n",
    "    prot2id = {protein_name: i for i, protein_name in enumerate(data_final.index)}\n",
    "    \n",
    "    return data_final, prot2id"
   ]
  },
  {
   "cell_type": "code",
   "execution_count": 4,
   "metadata": {},
   "outputs": [
    {
     "name": "stdout",
     "output_type": "stream",
     "text": [
      "9999\n",
      "9999\n",
      "9997\n",
      "9999\n",
      "9999\n",
      "9994\n",
      "9999\n",
      "12323\n"
     ]
    }
   ],
   "source": [
    "final_data, prot2id = merge_sequence_data(8)"
   ]
  },
  {
   "cell_type": "code",
   "execution_count": 5,
   "metadata": {},
   "outputs": [
    {
     "data": {
      "text/html": [
       "<div>\n",
       "<style scoped>\n",
       "    .dataframe tbody tr th:only-of-type {\n",
       "        vertical-align: middle;\n",
       "    }\n",
       "\n",
       "    .dataframe tbody tr th {\n",
       "        vertical-align: top;\n",
       "    }\n",
       "\n",
       "    .dataframe thead th {\n",
       "        text-align: right;\n",
       "    }\n",
       "</style>\n",
       "<table border=\"1\" class=\"dataframe\">\n",
       "  <thead>\n",
       "    <tr style=\"text-align: right;\">\n",
       "      <th></th>\n",
       "      <th>embedding</th>\n",
       "    </tr>\n",
       "  </thead>\n",
       "  <tbody>\n",
       "    <tr>\n",
       "      <th>A0A023PXB0</th>\n",
       "      <td>[tensor(0.0625), tensor(-0.1014), tensor(-0.05...</td>\n",
       "    </tr>\n",
       "    <tr>\n",
       "      <th>A0A023PXB5</th>\n",
       "      <td>[tensor(0.0625), tensor(-0.1014), tensor(-0.05...</td>\n",
       "    </tr>\n",
       "    <tr>\n",
       "      <th>A0A023PXB9</th>\n",
       "      <td>[tensor(0.0625), tensor(-0.1014), tensor(-0.05...</td>\n",
       "    </tr>\n",
       "    <tr>\n",
       "      <th>A0A023PXC2</th>\n",
       "      <td>[tensor(0.0523), tensor(-0.0484), tensor(-0.01...</td>\n",
       "    </tr>\n",
       "    <tr>\n",
       "      <th>A0A023PXD3</th>\n",
       "      <td>[tensor(0.0129), tensor(-0.0013), tensor(0.017...</td>\n",
       "    </tr>\n",
       "    <tr>\n",
       "      <th>...</th>\n",
       "      <td>...</td>\n",
       "    </tr>\n",
       "    <tr>\n",
       "      <th>X2JAU8</th>\n",
       "      <td>[tensor(0.0359), tensor(-0.0883), tensor(0.012...</td>\n",
       "    </tr>\n",
       "    <tr>\n",
       "      <th>X5JA13</th>\n",
       "      <td>[tensor(0.0270), tensor(-0.1400), tensor(0.046...</td>\n",
       "    </tr>\n",
       "    <tr>\n",
       "      <th>X5JB51</th>\n",
       "      <td>[tensor(0.1354), tensor(-0.0751), tensor(0.030...</td>\n",
       "    </tr>\n",
       "    <tr>\n",
       "      <th>X5M5N0</th>\n",
       "      <td>[tensor(0.0210), tensor(-0.1001), tensor(0.012...</td>\n",
       "    </tr>\n",
       "    <tr>\n",
       "      <th>X5M8U1</th>\n",
       "      <td>[tensor(0.0181), tensor(-0.1192), tensor(-0.01...</td>\n",
       "    </tr>\n",
       "  </tbody>\n",
       "</table>\n",
       "<p>82309 rows × 1 columns</p>\n",
       "</div>"
      ],
      "text/plain": [
       "                                                    embedding\n",
       "A0A023PXB0  [tensor(0.0625), tensor(-0.1014), tensor(-0.05...\n",
       "A0A023PXB5  [tensor(0.0625), tensor(-0.1014), tensor(-0.05...\n",
       "A0A023PXB9  [tensor(0.0625), tensor(-0.1014), tensor(-0.05...\n",
       "A0A023PXC2  [tensor(0.0523), tensor(-0.0484), tensor(-0.01...\n",
       "A0A023PXD3  [tensor(0.0129), tensor(-0.0013), tensor(0.017...\n",
       "...                                                       ...\n",
       "X2JAU8      [tensor(0.0359), tensor(-0.0883), tensor(0.012...\n",
       "X5JA13      [tensor(0.0270), tensor(-0.1400), tensor(0.046...\n",
       "X5JB51      [tensor(0.1354), tensor(-0.0751), tensor(0.030...\n",
       "X5M5N0      [tensor(0.0210), tensor(-0.1001), tensor(0.012...\n",
       "X5M8U1      [tensor(0.0181), tensor(-0.1192), tensor(-0.01...\n",
       "\n",
       "[82309 rows x 1 columns]"
      ]
     },
     "execution_count": 5,
     "metadata": {},
     "output_type": "execute_result"
    }
   ],
   "source": [
    "final_data"
   ]
  },
  {
   "cell_type": "code",
   "execution_count": 6,
   "metadata": {},
   "outputs": [
    {
     "data": {
      "text/plain": [
       "embedding    [tensor(-0.0164), tensor(-0.0954), tensor(-0.0...\n",
       "Name: A0A023PXA5, dtype: object"
      ]
     },
     "execution_count": 6,
     "metadata": {},
     "output_type": "execute_result"
    }
   ],
   "source": [
    "final_data.loc['A0A023PXA5']"
   ]
  },
  {
   "cell_type": "code",
   "execution_count": 7,
   "metadata": {},
   "outputs": [
    {
     "data": {
      "text/plain": [
       "True"
      ]
     },
     "execution_count": 7,
     "metadata": {},
     "output_type": "execute_result"
    }
   ],
   "source": [
    "# Test with A0A023PXB0, A0A023PXB5, A0A023PXB9 ?? Are they the same embedding?\n",
    "\n",
    "# final_data.loc['A0A023PXB0']['embedding'] == final_data.loc['A0A023PXB5']['embedding']\n",
    "\n",
    "torch.allclose(final_data.loc['A0A023PXB0']['embedding'], final_data.loc['A0A023PXB9']['embedding'])"
   ]
  },
  {
   "cell_type": "code",
   "execution_count": 8,
   "metadata": {},
   "outputs": [
    {
     "data": {
      "text/plain": [
       "True"
      ]
     },
     "execution_count": 8,
     "metadata": {},
     "output_type": "execute_result"
    }
   ],
   "source": [
    "torch.equal(final_data.loc['A0A023PXB0']['embedding'], final_data.loc['A0A023PXB9']['embedding'])"
   ]
  },
  {
   "cell_type": "code",
   "execution_count": 9,
   "metadata": {},
   "outputs": [
    {
     "data": {
      "text/plain": [
       "tensor([ 0.0625, -0.1014, -0.0523,  ...,  0.0067,  0.0605,  0.0865])"
      ]
     },
     "execution_count": 9,
     "metadata": {},
     "output_type": "execute_result"
    }
   ],
   "source": [
    "final_data.loc['A0A023PXB0']['embedding']"
   ]
  },
  {
   "cell_type": "code",
   "execution_count": 10,
   "metadata": {},
   "outputs": [
    {
     "name": "stdout",
     "output_type": "stream",
     "text": [
      "torch.Size([82309, 1024])\n"
     ]
    }
   ],
   "source": [
    "embeddings = final_data['embedding'].values.tolist()\n",
    "\n",
    "\n",
    "embeddings_t = torch.stack(embeddings)\n",
    "\n",
    "print(embeddings_t.shape)"
   ]
  },
  {
   "cell_type": "code",
   "execution_count": 11,
   "metadata": {},
   "outputs": [],
   "source": [
    "torch.save(embeddings_t, '../data/processed/protein_embeddings_full.pt')"
   ]
  }
 ],
 "metadata": {
  "kernelspec": {
   "display_name": "bio-blp",
   "language": "python",
   "name": "bio-blp"
  },
  "language_info": {
   "codemirror_mode": {
    "name": "ipython",
    "version": 3
   },
   "file_extension": ".py",
   "mimetype": "text/x-python",
   "name": "python",
   "nbconvert_exporter": "python",
   "pygments_lexer": "ipython3",
   "version": "3.8.5"
  }
 },
 "nbformat": 4,
 "nbformat_minor": 4
}
