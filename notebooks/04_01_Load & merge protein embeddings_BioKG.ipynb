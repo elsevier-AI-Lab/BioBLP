{
 "cells": [
  {
   "cell_type": "code",
   "execution_count": 13,
   "metadata": {},
   "outputs": [],
   "source": [
    "import pandas as pd\n",
    "import json\n",
    "import torch\n",
    "from pathlib import Path, PurePath\n",
    "\n",
    "from torch import tensor\n",
    "\n",
    "import numpy as np"
   ]
  },
  {
   "cell_type": "code",
   "execution_count": 14,
   "metadata": {},
   "outputs": [],
   "source": [
    "def merge_sequence_data(path, batch_num):\n",
    "    \"\"\"\n",
    "        Gimme a directory and a range and I'll concatenate all the torch data for ya.\n",
    "    \"\"\"\n",
    "    df_list = []\n",
    "    \n",
    "    p = Path(path)\n",
    "\n",
    "    for i in range(0, batch_num):\n",
    "\n",
    "        tensor_data = torch.load(p.joinpath(f'{i}_protein_batch.pt'))\n",
    "\n",
    "        df_data = pd.DataFrame.from_dict(tensor_data)\n",
    "\n",
    "        \n",
    "        print(len(df_data))\n",
    "        \n",
    "        df_list.append(df_data)\n",
    "\n",
    "\n",
    "    data_final = pd.concat(df_list)\n",
    "\n",
    "    prot2id = {protein_name: i for i, protein_name in enumerate(data_final.index)}\n",
    "    \n",
    "    return data_final, prot2id"
   ]
  },
  {
   "cell_type": "code",
   "execution_count": 15,
   "metadata": {},
   "outputs": [
    {
     "name": "stdout",
     "output_type": "stream",
     "text": [
      "1000\n",
      "1000\n",
      "1000\n",
      "1000\n",
      "1000\n",
      "1000\n",
      "1000\n",
      "1000\n",
      "1000\n",
      "1000\n",
      "1000\n",
      "1000\n",
      "1000\n",
      "1000\n",
      "1000\n",
      "1000\n",
      "1000\n",
      "1000\n",
      "1000\n",
      "998\n",
      "1000\n",
      "1000\n",
      "1000\n",
      "999\n",
      "1000\n",
      "1000\n",
      "1000\n",
      "1000\n",
      "1000\n",
      "1000\n",
      "1000\n",
      "1000\n",
      "1000\n",
      "1000\n",
      "1000\n",
      "1000\n",
      "1000\n",
      "1000\n",
      "1000\n",
      "1000\n",
      "1000\n",
      "1000\n",
      "1000\n",
      "999\n",
      "1000\n",
      "1000\n",
      "1000\n",
      "1000\n",
      "1000\n",
      "1000\n",
      "1000\n",
      "1000\n",
      "1000\n",
      "1000\n",
      "1000\n",
      "1000\n",
      "1000\n",
      "1000\n",
      "1000\n",
      "999\n",
      "1000\n",
      "1000\n",
      "1000\n",
      "1000\n",
      "1000\n",
      "1000\n",
      "1000\n",
      "1000\n",
      "1000\n",
      "1000\n",
      "1000\n",
      "1000\n",
      "1000\n",
      "1000\n",
      "1000\n",
      "1000\n",
      "1000\n",
      "1000\n",
      "1000\n",
      "1000\n",
      "1000\n",
      "1000\n",
      "1000\n",
      "999\n",
      "999\n",
      "1000\n",
      "1000\n",
      "1000\n",
      "1000\n",
      "1000\n",
      "1000\n",
      "1000\n",
      "1000\n",
      "1000\n",
      "1000\n",
      "1000\n",
      "1000\n",
      "1000\n",
      "1000\n",
      "1000\n",
      "1000\n",
      "1000\n",
      "1000\n",
      "1000\n",
      "1000\n",
      "1000\n",
      "999\n",
      "1000\n",
      "1000\n",
      "1000\n",
      "1000\n",
      "1000\n",
      "1000\n",
      "1000\n",
      "1000\n",
      "1000\n",
      "1000\n",
      "1000\n",
      "1000\n",
      "1000\n",
      "1000\n",
      "1000\n"
     ]
    }
   ],
   "source": [
    "final_data, prot2id = merge_sequence_data('../data/biokg/uniprot/embeddings/', 122)"
   ]
  },
  {
   "cell_type": "code",
   "execution_count": 16,
   "metadata": {},
   "outputs": [
    {
     "data": {
      "text/html": [
       "<div>\n",
       "<style scoped>\n",
       "    .dataframe tbody tr th:only-of-type {\n",
       "        vertical-align: middle;\n",
       "    }\n",
       "\n",
       "    .dataframe tbody tr th {\n",
       "        vertical-align: top;\n",
       "    }\n",
       "\n",
       "    .dataframe thead th {\n",
       "        text-align: right;\n",
       "    }\n",
       "</style>\n",
       "<table border=\"1\" class=\"dataframe\">\n",
       "  <thead>\n",
       "    <tr style=\"text-align: right;\">\n",
       "      <th></th>\n",
       "      <th>embedding</th>\n",
       "    </tr>\n",
       "  </thead>\n",
       "  <tbody>\n",
       "    <tr>\n",
       "      <th>A0A087WUL8</th>\n",
       "      <td>[tensor(0.0429), tensor(-0.0186), tensor(0.049...</td>\n",
       "    </tr>\n",
       "    <tr>\n",
       "      <th>A0A089QRB9</th>\n",
       "      <td>[tensor(0.0157), tensor(-0.0274), tensor(-0.01...</td>\n",
       "    </tr>\n",
       "    <tr>\n",
       "      <th>A0A0P0XCU3</th>\n",
       "      <td>[tensor(-0.0136), tensor(-0.0213), tensor(-0.0...</td>\n",
       "    </tr>\n",
       "    <tr>\n",
       "      <th>A0A0R4I9Y1</th>\n",
       "      <td>[tensor(0.0831), tensor(-0.0280), tensor(-0.01...</td>\n",
       "    </tr>\n",
       "    <tr>\n",
       "      <th>A0A0R4IBK5</th>\n",
       "      <td>[tensor(0.0666), tensor(-0.0259), tensor(-0.01...</td>\n",
       "    </tr>\n",
       "    <tr>\n",
       "      <th>...</th>\n",
       "      <td>...</td>\n",
       "    </tr>\n",
       "    <tr>\n",
       "      <th>Q9WUC4</th>\n",
       "      <td>[tensor(-0.0303), tensor(-0.0345), tensor(0.02...</td>\n",
       "    </tr>\n",
       "    <tr>\n",
       "      <th>Q9XS96</th>\n",
       "      <td>[tensor(0.0724), tensor(0.0206), tensor(-0.010...</td>\n",
       "    </tr>\n",
       "    <tr>\n",
       "      <th>Q9Y2S6</th>\n",
       "      <td>[tensor(-0.0307), tensor(-0.0622), tensor(-0.0...</td>\n",
       "    </tr>\n",
       "    <tr>\n",
       "      <th>Q9Y675</th>\n",
       "      <td>[tensor(0.0920), tensor(-0.0251), tensor(0.015...</td>\n",
       "    </tr>\n",
       "    <tr>\n",
       "      <th>V5QPS4</th>\n",
       "      <td>[tensor(-0.0094), tensor(-0.0603), tensor(0.02...</td>\n",
       "    </tr>\n",
       "  </tbody>\n",
       "</table>\n",
       "<p>121992 rows × 1 columns</p>\n",
       "</div>"
      ],
      "text/plain": [
       "                                                    embedding\n",
       "A0A087WUL8  [tensor(0.0429), tensor(-0.0186), tensor(0.049...\n",
       "A0A089QRB9  [tensor(0.0157), tensor(-0.0274), tensor(-0.01...\n",
       "A0A0P0XCU3  [tensor(-0.0136), tensor(-0.0213), tensor(-0.0...\n",
       "A0A0R4I9Y1  [tensor(0.0831), tensor(-0.0280), tensor(-0.01...\n",
       "A0A0R4IBK5  [tensor(0.0666), tensor(-0.0259), tensor(-0.01...\n",
       "...                                                       ...\n",
       "Q9WUC4      [tensor(-0.0303), tensor(-0.0345), tensor(0.02...\n",
       "Q9XS96      [tensor(0.0724), tensor(0.0206), tensor(-0.010...\n",
       "Q9Y2S6      [tensor(-0.0307), tensor(-0.0622), tensor(-0.0...\n",
       "Q9Y675      [tensor(0.0920), tensor(-0.0251), tensor(0.015...\n",
       "V5QPS4      [tensor(-0.0094), tensor(-0.0603), tensor(0.02...\n",
       "\n",
       "[121992 rows x 1 columns]"
      ]
     },
     "execution_count": 16,
     "metadata": {},
     "output_type": "execute_result"
    }
   ],
   "source": [
    "final_data"
   ]
  },
  {
   "cell_type": "code",
   "execution_count": 17,
   "metadata": {},
   "outputs": [
    {
     "data": {
      "text/plain": [
       "embedding    [tensor(0.0667), tensor(-0.0226), tensor(-0.04...\n",
       "Name: A0A023PXA5, dtype: object"
      ]
     },
     "execution_count": 17,
     "metadata": {},
     "output_type": "execute_result"
    }
   ],
   "source": [
    "final_data.loc['A0A023PXA5']"
   ]
  },
  {
   "cell_type": "code",
   "execution_count": 18,
   "metadata": {},
   "outputs": [
    {
     "data": {
      "text/plain": [
       "False"
      ]
     },
     "execution_count": 18,
     "metadata": {},
     "output_type": "execute_result"
    }
   ],
   "source": [
    "# Test with A0A023PXB0, A0A023PXB5, A0A023PXB9 ?? Are they the same embedding?\n",
    "\n",
    "# final_data.loc['A0A023PXB0']['embedding'] == final_data.loc['A0A023PXB5']['embedding']\n",
    "\n",
    "torch.allclose(final_data.loc['A0A023PXB0']['embedding'], final_data.loc['A0A023PXB9']['embedding'])"
   ]
  },
  {
   "cell_type": "code",
   "execution_count": 19,
   "metadata": {},
   "outputs": [
    {
     "data": {
      "text/plain": [
       "False"
      ]
     },
     "execution_count": 19,
     "metadata": {},
     "output_type": "execute_result"
    }
   ],
   "source": [
    "torch.equal(final_data.loc['A0A023PXB0']['embedding'], final_data.loc['A0A023PXB9']['embedding'])"
   ]
  },
  {
   "cell_type": "code",
   "execution_count": 20,
   "metadata": {},
   "outputs": [
    {
     "data": {
      "text/plain": [
       "tensor([ 0.0402, -0.0010,  0.0179,  ..., -0.0149,  0.0041, -0.0258])"
      ]
     },
     "execution_count": 20,
     "metadata": {},
     "output_type": "execute_result"
    }
   ],
   "source": [
    "final_data.loc['A0A023PXB0']['embedding']"
   ]
  },
  {
   "cell_type": "code",
   "execution_count": 21,
   "metadata": {},
   "outputs": [
    {
     "name": "stdout",
     "output_type": "stream",
     "text": [
      "torch.Size([121992, 1024])\n"
     ]
    }
   ],
   "source": [
    "embeddings = final_data['embedding'].values.tolist()\n",
    "\n",
    "\n",
    "embeddings_t = torch.stack(embeddings)\n",
    "\n",
    "print(embeddings_t.shape)"
   ]
  },
  {
   "cell_type": "code",
   "execution_count": 22,
   "metadata": {},
   "outputs": [],
   "source": [
    "torch.save(embeddings_t, '../data/processed/protein_embeddings_full_24_12.pt')"
   ]
  },
  {
   "cell_type": "code",
   "execution_count": null,
   "metadata": {},
   "outputs": [],
   "source": []
  }
 ],
 "metadata": {
  "kernelspec": {
   "display_name": "bio-blp",
   "language": "python",
   "name": "bio-blp"
  },
  "language_info": {
   "codemirror_mode": {
    "name": "ipython",
    "version": 3
   },
   "file_extension": ".py",
   "mimetype": "text/x-python",
   "name": "python",
   "nbconvert_exporter": "python",
   "pygments_lexer": "ipython3",
   "version": "3.8.5"
  }
 },
 "nbformat": 4,
 "nbformat_minor": 4
}
