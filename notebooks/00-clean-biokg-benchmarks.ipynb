{
 "cells": [
  {
   "cell_type": "markdown",
   "metadata": {
    "pycharm": {
     "name": "#%% md\n"
    }
   },
   "source": [
    "# Cleaning BioKG of benchmark-related entity pairs\n",
    "\n",
    "In this notebook we take care of:\n",
    "\n",
    "- Merging and disentangling the `BioKG graph` with the `benchmark datasets` that are included in it.\n",
    "    - Benchmarks include: `dpi_fda`, `dpi_fda_exp`, `ddi_efficacy`, `ddi_mineral`, `ppi_phosphorylation`\n",
    "- Storing the new disentangled data\n",
    "\n",
    "**For this notebook to run, you require a local installation of the BioKG data.**"
   ]
  },
  {
   "cell_type": "code",
   "execution_count": 1,
   "metadata": {
    "pycharm": {
     "name": "#%%\n"
    }
   },
   "outputs": [],
   "source": [
    "import os.path as osp\n",
    "import os\n",
    "import pandas as pd"
   ]
  },
  {
   "cell_type": "markdown",
   "metadata": {
    "pycharm": {
     "name": "#%% md\n"
    }
   },
   "source": [
    "## Load all links in BioKG are being combined in one single large (2m rows) .tsv file\n"
   ]
  },
  {
   "cell_type": "code",
   "execution_count": 2,
   "metadata": {
    "pycharm": {
     "name": "#%%\n"
    }
   },
   "outputs": [
    {
     "name": "stdout",
     "output_type": "stream",
     "text": [
      "There are 2,074,346 edges in the loaded BioKG data.\n"
     ]
    }
   ],
   "source": [
    "biokg_links_path = \"../data/biokg/biokg.links.tsv\"\n",
    "\n",
    "biokg_links = pd.read_csv(biokg_links_path,\n",
    "                         sep='\\t',\n",
    "                         names=['left', 'property', 'right'])\n",
    "\n",
    "print(f'There are {len(biokg_links,):,} edges in the loaded BioKG data.')"
   ]
  },
  {
   "cell_type": "code",
   "execution_count": 3,
   "metadata": {
    "pycharm": {
     "name": "#%%\n"
    }
   },
   "outputs": [
    {
     "data": {
      "text/html": [
       "<div>\n",
       "<style scoped>\n",
       "    .dataframe tbody tr th:only-of-type {\n",
       "        vertical-align: middle;\n",
       "    }\n",
       "\n",
       "    .dataframe tbody tr th {\n",
       "        vertical-align: top;\n",
       "    }\n",
       "\n",
       "    .dataframe thead th {\n",
       "        text-align: right;\n",
       "    }\n",
       "</style>\n",
       "<table border=\"1\" class=\"dataframe\">\n",
       "  <thead>\n",
       "    <tr style=\"text-align: right;\">\n",
       "      <th></th>\n",
       "      <th>left</th>\n",
       "      <th>property</th>\n",
       "      <th>right</th>\n",
       "    </tr>\n",
       "  </thead>\n",
       "  <tbody>\n",
       "    <tr>\n",
       "      <th>0</th>\n",
       "      <td>C566487</td>\n",
       "      <td>DISEASE_PATHWAY_ASSOCIATION</td>\n",
       "      <td>hsa00071</td>\n",
       "    </tr>\n",
       "    <tr>\n",
       "      <th>1</th>\n",
       "      <td>C567839</td>\n",
       "      <td>DISEASE_PATHWAY_ASSOCIATION</td>\n",
       "      <td>map04810</td>\n",
       "    </tr>\n",
       "    <tr>\n",
       "      <th>2</th>\n",
       "      <td>C562476</td>\n",
       "      <td>DISEASE_PATHWAY_ASSOCIATION</td>\n",
       "      <td>hsa04512</td>\n",
       "    </tr>\n",
       "    <tr>\n",
       "      <th>3</th>\n",
       "      <td>C567032</td>\n",
       "      <td>DISEASE_PATHWAY_ASSOCIATION</td>\n",
       "      <td>map00750</td>\n",
       "    </tr>\n",
       "    <tr>\n",
       "      <th>4</th>\n",
       "      <td>C562710</td>\n",
       "      <td>DISEASE_PATHWAY_ASSOCIATION</td>\n",
       "      <td>map04930</td>\n",
       "    </tr>\n",
       "  </tbody>\n",
       "</table>\n",
       "</div>"
      ],
      "text/plain": [
       "      left                     property     right\n",
       "0  C566487  DISEASE_PATHWAY_ASSOCIATION  hsa00071\n",
       "1  C567839  DISEASE_PATHWAY_ASSOCIATION  map04810\n",
       "2  C562476  DISEASE_PATHWAY_ASSOCIATION  hsa04512\n",
       "3  C567032  DISEASE_PATHWAY_ASSOCIATION  map00750\n",
       "4  C562710  DISEASE_PATHWAY_ASSOCIATION  map04930"
      ]
     },
     "execution_count": 3,
     "metadata": {},
     "output_type": "execute_result"
    }
   ],
   "source": [
    "biokg_links.head()"
   ]
  },
  {
   "cell_type": "markdown",
   "metadata": {
    "pycharm": {
     "name": "#%% md\n"
    }
   },
   "source": [
    "Check out the **unique** properties in the links file..."
   ]
  },
  {
   "cell_type": "code",
   "execution_count": 4,
   "metadata": {
    "pycharm": {
     "name": "#%%\n"
    }
   },
   "outputs": [
    {
     "data": {
      "text/plain": [
       "array(['DISEASE_PATHWAY_ASSOCIATION', 'PROTEIN_PATHWAY_ASSOCIATION',\n",
       "       'DRUG_DISEASE_ASSOCIATION', 'RELATED_GENETIC_DISORDER', 'PPI',\n",
       "       'DRUG_TARGET', 'DRUG_CARRIER', 'DRUG_ENZYME', 'DRUG_TRANSPORTER',\n",
       "       'COMPLEX_IN_PATHWAY', 'DRUG_PATHWAY_ASSOCIATION',\n",
       "       'PROTEIN_DISEASE_ASSOCIATION', 'DISEASE_GENETIC_DISORDER',\n",
       "       'MEMBER_OF_COMPLEX', 'DDI', 'DPI', 'COMPLEX_TOP_LEVEL_PATHWAY'],\n",
       "      dtype=object)"
      ]
     },
     "execution_count": 4,
     "metadata": {},
     "output_type": "execute_result"
    }
   ],
   "source": [
    "biokg_links['property'].unique()"
   ]
  },
  {
   "cell_type": "markdown",
   "metadata": {
    "pycharm": {
     "name": "#%% md\n"
    }
   },
   "source": [
    "As we can observe, the relations in the benchmarks are `normalised` before being merged in the graph.\n",
    "This implies that we should merge on right,left column ignoring the property name + order."
   ]
  },
  {
   "cell_type": "markdown",
   "metadata": {
    "pycharm": {
     "name": "#%% md\n"
    }
   },
   "source": [
    "## Load & Merge all benchmark datasets"
   ]
  },
  {
   "cell_type": "code",
   "execution_count": 5,
   "metadata": {
    "pycharm": {
     "name": "#%%\n"
    }
   },
   "outputs": [
    {
     "name": "stdout",
     "output_type": "stream",
     "text": [
      "There are 1,160,376 pairs in the merged benchmarks.\n"
     ]
    },
    {
     "data": {
      "text/html": [
       "<div>\n",
       "<style scoped>\n",
       "    .dataframe tbody tr th:only-of-type {\n",
       "        vertical-align: middle;\n",
       "    }\n",
       "\n",
       "    .dataframe tbody tr th {\n",
       "        vertical-align: top;\n",
       "    }\n",
       "\n",
       "    .dataframe thead th {\n",
       "        text-align: right;\n",
       "    }\n",
       "</style>\n",
       "<table border=\"1\" class=\"dataframe\">\n",
       "  <thead>\n",
       "    <tr style=\"text-align: right;\">\n",
       "      <th></th>\n",
       "      <th>left</th>\n",
       "      <th>property</th>\n",
       "      <th>right</th>\n",
       "    </tr>\n",
       "  </thead>\n",
       "  <tbody>\n",
       "    <tr>\n",
       "      <th>0</th>\n",
       "      <td>DB01079</td>\n",
       "      <td>DPI</td>\n",
       "      <td>Q13639</td>\n",
       "    </tr>\n",
       "    <tr>\n",
       "      <th>1</th>\n",
       "      <td>DB00114</td>\n",
       "      <td>DPI</td>\n",
       "      <td>P20711</td>\n",
       "    </tr>\n",
       "    <tr>\n",
       "      <th>2</th>\n",
       "      <td>DB01158</td>\n",
       "      <td>DPI</td>\n",
       "      <td>P13637</td>\n",
       "    </tr>\n",
       "    <tr>\n",
       "      <th>3</th>\n",
       "      <td>DB01069</td>\n",
       "      <td>DPI</td>\n",
       "      <td>P18825</td>\n",
       "    </tr>\n",
       "    <tr>\n",
       "      <th>4</th>\n",
       "      <td>DB01186</td>\n",
       "      <td>DPI</td>\n",
       "      <td>P08684</td>\n",
       "    </tr>\n",
       "  </tbody>\n",
       "</table>\n",
       "</div>"
      ],
      "text/plain": [
       "      left property   right\n",
       "0  DB01079      DPI  Q13639\n",
       "1  DB00114      DPI  P20711\n",
       "2  DB01158      DPI  P13637\n",
       "3  DB01069      DPI  P18825\n",
       "4  DB01186      DPI  P08684"
      ]
     },
     "execution_count": 5,
     "metadata": {},
     "output_type": "execute_result"
    }
   ],
   "source": [
    "benchmark_path ='../data/benchmarks/'\n",
    "benchmark_files = ['dpi_fda.tsv',\n",
    "                   'dep_fda_exp.tsv',\n",
    "                   'ddi_efficacy.tsv',\n",
    "                   'ddi_minerals.tsv',\n",
    "                   'phosphorylation.tsv']\n",
    "\n",
    "def load_benchmark_file(path):\n",
    "    return pd.read_csv(path, sep='\\t', header=None, usecols=[0, 1, 2], names=['left', 'property', 'right'])\n",
    "\n",
    "all_benchmarks = pd.concat([load_benchmark_file(osp.join(benchmark_path, file)) for file in benchmark_files])\n",
    "print(f'There are {len(all_benchmarks):,} pairs in the merged benchmarks.')\n",
    "all_benchmarks.head()"
   ]
  },
  {
   "cell_type": "markdown",
   "metadata": {
    "pycharm": {
     "name": "#%% md\n"
    }
   },
   "source": [
    "Before merging we need to prepare and ignore the order between left and right columns.\n",
    "\n",
    "To do that:\n",
    "- We create a new column called `combined`, containing the head and tail entities in a pair, and sort them lexicographically.\n",
    "- We merge the benchmark and KG dataframes on the `combined` column.\n",
    "- Then by picking out the `right_only` results we know we have the BioKG graph without the benchmarks."
   ]
  },
  {
   "cell_type": "code",
   "execution_count": 6,
   "metadata": {
    "pycharm": {
     "name": "#%%\n"
    }
   },
   "outputs": [
    {
     "data": {
      "text/html": [
       "<div>\n",
       "<style scoped>\n",
       "    .dataframe tbody tr th:only-of-type {\n",
       "        vertical-align: middle;\n",
       "    }\n",
       "\n",
       "    .dataframe tbody tr th {\n",
       "        vertical-align: top;\n",
       "    }\n",
       "\n",
       "    .dataframe thead th {\n",
       "        text-align: right;\n",
       "    }\n",
       "</style>\n",
       "<table border=\"1\" class=\"dataframe\">\n",
       "  <thead>\n",
       "    <tr style=\"text-align: right;\">\n",
       "      <th></th>\n",
       "      <th>left</th>\n",
       "      <th>property</th>\n",
       "      <th>right</th>\n",
       "      <th>combined</th>\n",
       "    </tr>\n",
       "  </thead>\n",
       "  <tbody>\n",
       "    <tr>\n",
       "      <th>0</th>\n",
       "      <td>DB01079</td>\n",
       "      <td>DPI</td>\n",
       "      <td>Q13639</td>\n",
       "      <td>['DB01079', 'Q13639']</td>\n",
       "    </tr>\n",
       "    <tr>\n",
       "      <th>1</th>\n",
       "      <td>DB00114</td>\n",
       "      <td>DPI</td>\n",
       "      <td>P20711</td>\n",
       "      <td>['DB00114', 'P20711']</td>\n",
       "    </tr>\n",
       "    <tr>\n",
       "      <th>2</th>\n",
       "      <td>DB01158</td>\n",
       "      <td>DPI</td>\n",
       "      <td>P13637</td>\n",
       "      <td>['DB01158', 'P13637']</td>\n",
       "    </tr>\n",
       "    <tr>\n",
       "      <th>3</th>\n",
       "      <td>DB01069</td>\n",
       "      <td>DPI</td>\n",
       "      <td>P18825</td>\n",
       "      <td>['DB01069', 'P18825']</td>\n",
       "    </tr>\n",
       "    <tr>\n",
       "      <th>4</th>\n",
       "      <td>DB01186</td>\n",
       "      <td>DPI</td>\n",
       "      <td>P08684</td>\n",
       "      <td>['DB01186', 'P08684']</td>\n",
       "    </tr>\n",
       "  </tbody>\n",
       "</table>\n",
       "</div>"
      ],
      "text/plain": [
       "      left property   right               combined\n",
       "0  DB01079      DPI  Q13639  ['DB01079', 'Q13639']\n",
       "1  DB00114      DPI  P20711  ['DB00114', 'P20711']\n",
       "2  DB01158      DPI  P13637  ['DB01158', 'P13637']\n",
       "3  DB01069      DPI  P18825  ['DB01069', 'P18825']\n",
       "4  DB01186      DPI  P08684  ['DB01186', 'P08684']"
      ]
     },
     "execution_count": 6,
     "metadata": {},
     "output_type": "execute_result"
    }
   ],
   "source": [
    "def combine_and_sort_entities(df):\n",
    "    \"\"\"Given a dataset containing pairs in the columns `left` and `right`,\n",
    "    creates a new column called `combined` containing the pairs as a\n",
    "    list (in string format) with the pairs sorted in lexicographical order.\"\"\"\n",
    "    df['combined'] = df.apply(lambda x: str(sorted([x['left'], x['right']])), axis=1)\n",
    "    return df\n",
    "\n",
    "combine_and_sort_entities(all_benchmarks)\n",
    "all_benchmarks.head()"
   ]
  },
  {
   "cell_type": "code",
   "execution_count": 7,
   "metadata": {
    "pycharm": {
     "name": "#%%\n"
    }
   },
   "outputs": [
    {
     "data": {
      "text/html": [
       "<div>\n",
       "<style scoped>\n",
       "    .dataframe tbody tr th:only-of-type {\n",
       "        vertical-align: middle;\n",
       "    }\n",
       "\n",
       "    .dataframe tbody tr th {\n",
       "        vertical-align: top;\n",
       "    }\n",
       "\n",
       "    .dataframe thead th {\n",
       "        text-align: right;\n",
       "    }\n",
       "</style>\n",
       "<table border=\"1\" class=\"dataframe\">\n",
       "  <thead>\n",
       "    <tr style=\"text-align: right;\">\n",
       "      <th></th>\n",
       "      <th>left</th>\n",
       "      <th>property</th>\n",
       "      <th>right</th>\n",
       "      <th>combined</th>\n",
       "    </tr>\n",
       "  </thead>\n",
       "  <tbody>\n",
       "    <tr>\n",
       "      <th>0</th>\n",
       "      <td>C566487</td>\n",
       "      <td>DISEASE_PATHWAY_ASSOCIATION</td>\n",
       "      <td>hsa00071</td>\n",
       "      <td>['C566487', 'hsa00071']</td>\n",
       "    </tr>\n",
       "    <tr>\n",
       "      <th>1</th>\n",
       "      <td>C567839</td>\n",
       "      <td>DISEASE_PATHWAY_ASSOCIATION</td>\n",
       "      <td>map04810</td>\n",
       "      <td>['C567839', 'map04810']</td>\n",
       "    </tr>\n",
       "    <tr>\n",
       "      <th>2</th>\n",
       "      <td>C562476</td>\n",
       "      <td>DISEASE_PATHWAY_ASSOCIATION</td>\n",
       "      <td>hsa04512</td>\n",
       "      <td>['C562476', 'hsa04512']</td>\n",
       "    </tr>\n",
       "    <tr>\n",
       "      <th>3</th>\n",
       "      <td>C567032</td>\n",
       "      <td>DISEASE_PATHWAY_ASSOCIATION</td>\n",
       "      <td>map00750</td>\n",
       "      <td>['C567032', 'map00750']</td>\n",
       "    </tr>\n",
       "    <tr>\n",
       "      <th>4</th>\n",
       "      <td>C562710</td>\n",
       "      <td>DISEASE_PATHWAY_ASSOCIATION</td>\n",
       "      <td>map04930</td>\n",
       "      <td>['C562710', 'map04930']</td>\n",
       "    </tr>\n",
       "  </tbody>\n",
       "</table>\n",
       "</div>"
      ],
      "text/plain": [
       "      left                     property     right                 combined\n",
       "0  C566487  DISEASE_PATHWAY_ASSOCIATION  hsa00071  ['C566487', 'hsa00071']\n",
       "1  C567839  DISEASE_PATHWAY_ASSOCIATION  map04810  ['C567839', 'map04810']\n",
       "2  C562476  DISEASE_PATHWAY_ASSOCIATION  hsa04512  ['C562476', 'hsa04512']\n",
       "3  C567032  DISEASE_PATHWAY_ASSOCIATION  map00750  ['C567032', 'map00750']\n",
       "4  C562710  DISEASE_PATHWAY_ASSOCIATION  map04930  ['C562710', 'map04930']"
      ]
     },
     "execution_count": 7,
     "metadata": {},
     "output_type": "execute_result"
    }
   ],
   "source": [
    "combine_and_sort_entities(biokg_links)\n",
    "biokg_links.head()"
   ]
  },
  {
   "cell_type": "markdown",
   "metadata": {
    "pycharm": {
     "name": "#%% md\n"
    }
   },
   "source": [
    "## Merging the benchmarks and BioKG on the `combined` column"
   ]
  },
  {
   "cell_type": "code",
   "execution_count": 8,
   "metadata": {
    "pycharm": {
     "name": "#%%\n"
    }
   },
   "outputs": [],
   "source": [
    "merged = pd.merge(all_benchmarks, biokg_links, how='right', on=[\"combined\"], indicator=True)"
   ]
  },
  {
   "cell_type": "code",
   "execution_count": 9,
   "metadata": {
    "pycharm": {
     "name": "#%%\n"
    }
   },
   "outputs": [
    {
     "data": {
      "text/html": [
       "<div>\n",
       "<style scoped>\n",
       "    .dataframe tbody tr th:only-of-type {\n",
       "        vertical-align: middle;\n",
       "    }\n",
       "\n",
       "    .dataframe tbody tr th {\n",
       "        vertical-align: top;\n",
       "    }\n",
       "\n",
       "    .dataframe thead th {\n",
       "        text-align: right;\n",
       "    }\n",
       "</style>\n",
       "<table border=\"1\" class=\"dataframe\">\n",
       "  <thead>\n",
       "    <tr style=\"text-align: right;\">\n",
       "      <th></th>\n",
       "      <th>left_x</th>\n",
       "      <th>property_x</th>\n",
       "      <th>right_x</th>\n",
       "      <th>combined</th>\n",
       "      <th>left_y</th>\n",
       "      <th>property_y</th>\n",
       "      <th>right_y</th>\n",
       "      <th>_merge</th>\n",
       "    </tr>\n",
       "  </thead>\n",
       "  <tbody>\n",
       "    <tr>\n",
       "      <th>0</th>\n",
       "      <td>NaN</td>\n",
       "      <td>NaN</td>\n",
       "      <td>NaN</td>\n",
       "      <td>['C566487', 'hsa00071']</td>\n",
       "      <td>C566487</td>\n",
       "      <td>DISEASE_PATHWAY_ASSOCIATION</td>\n",
       "      <td>hsa00071</td>\n",
       "      <td>right_only</td>\n",
       "    </tr>\n",
       "    <tr>\n",
       "      <th>1</th>\n",
       "      <td>NaN</td>\n",
       "      <td>NaN</td>\n",
       "      <td>NaN</td>\n",
       "      <td>['C567839', 'map04810']</td>\n",
       "      <td>C567839</td>\n",
       "      <td>DISEASE_PATHWAY_ASSOCIATION</td>\n",
       "      <td>map04810</td>\n",
       "      <td>right_only</td>\n",
       "    </tr>\n",
       "    <tr>\n",
       "      <th>2</th>\n",
       "      <td>NaN</td>\n",
       "      <td>NaN</td>\n",
       "      <td>NaN</td>\n",
       "      <td>['C562476', 'hsa04512']</td>\n",
       "      <td>C562476</td>\n",
       "      <td>DISEASE_PATHWAY_ASSOCIATION</td>\n",
       "      <td>hsa04512</td>\n",
       "      <td>right_only</td>\n",
       "    </tr>\n",
       "    <tr>\n",
       "      <th>3</th>\n",
       "      <td>NaN</td>\n",
       "      <td>NaN</td>\n",
       "      <td>NaN</td>\n",
       "      <td>['C567032', 'map00750']</td>\n",
       "      <td>C567032</td>\n",
       "      <td>DISEASE_PATHWAY_ASSOCIATION</td>\n",
       "      <td>map00750</td>\n",
       "      <td>right_only</td>\n",
       "    </tr>\n",
       "    <tr>\n",
       "      <th>4</th>\n",
       "      <td>NaN</td>\n",
       "      <td>NaN</td>\n",
       "      <td>NaN</td>\n",
       "      <td>['C562710', 'map04930']</td>\n",
       "      <td>C562710</td>\n",
       "      <td>DISEASE_PATHWAY_ASSOCIATION</td>\n",
       "      <td>map04930</td>\n",
       "      <td>right_only</td>\n",
       "    </tr>\n",
       "  </tbody>\n",
       "</table>\n",
       "</div>"
      ],
      "text/plain": [
       "  left_x property_x right_x                 combined   left_y  \\\n",
       "0    NaN        NaN     NaN  ['C566487', 'hsa00071']  C566487   \n",
       "1    NaN        NaN     NaN  ['C567839', 'map04810']  C567839   \n",
       "2    NaN        NaN     NaN  ['C562476', 'hsa04512']  C562476   \n",
       "3    NaN        NaN     NaN  ['C567032', 'map00750']  C567032   \n",
       "4    NaN        NaN     NaN  ['C562710', 'map04930']  C562710   \n",
       "\n",
       "                    property_y   right_y      _merge  \n",
       "0  DISEASE_PATHWAY_ASSOCIATION  hsa00071  right_only  \n",
       "1  DISEASE_PATHWAY_ASSOCIATION  map04810  right_only  \n",
       "2  DISEASE_PATHWAY_ASSOCIATION  hsa04512  right_only  \n",
       "3  DISEASE_PATHWAY_ASSOCIATION  map00750  right_only  \n",
       "4  DISEASE_PATHWAY_ASSOCIATION  map04930  right_only  "
      ]
     },
     "execution_count": 9,
     "metadata": {},
     "output_type": "execute_result"
    }
   ],
   "source": [
    "merged.head()"
   ]
  },
  {
   "cell_type": "markdown",
   "metadata": {
    "pycharm": {
     "name": "#%% md\n"
    }
   },
   "source": [
    "The counts of the following values in the `_merge` column are useful:\n",
    "- `right_only`: the number of pairs in BioKG that are not in the benchmarks.\n",
    "- `both`: the number of pairs in the benchmark that also appear in BioKG. **Note**: there might be duplicates in this part:\n",
    "  for example, if a pair (A, B) is in the benchmark, there might be triples in BioKG of the form (A, x, B), (A, y, B), (B, z, A),\n",
    "  all of which would count towards shared pairs in `both`."
   ]
  },
  {
   "cell_type": "code",
   "execution_count": 10,
   "metadata": {
    "pycharm": {
     "name": "#%%\n"
    }
   },
   "outputs": [
    {
     "data": {
      "text/plain": [
       "_merge    \n",
       "right_only    1852262\n",
       "both           226266\n",
       "left_only           0\n",
       "dtype: int64"
      ]
     },
     "execution_count": 10,
     "metadata": {},
     "output_type": "execute_result"
    }
   ],
   "source": [
    "merged[['_merge']].value_counts()"
   ]
  },
  {
   "cell_type": "markdown",
   "metadata": {
    "pycharm": {
     "name": "#%% md\n"
    }
   },
   "source": [
    "What do these shared pairs look like?"
   ]
  },
  {
   "cell_type": "code",
   "execution_count": 11,
   "metadata": {
    "pycharm": {
     "name": "#%%\n"
    }
   },
   "outputs": [
    {
     "data": {
      "text/html": [
       "<div>\n",
       "<style scoped>\n",
       "    .dataframe tbody tr th:only-of-type {\n",
       "        vertical-align: middle;\n",
       "    }\n",
       "\n",
       "    .dataframe tbody tr th {\n",
       "        vertical-align: top;\n",
       "    }\n",
       "\n",
       "    .dataframe thead th {\n",
       "        text-align: right;\n",
       "    }\n",
       "</style>\n",
       "<table border=\"1\" class=\"dataframe\">\n",
       "  <thead>\n",
       "    <tr style=\"text-align: right;\">\n",
       "      <th></th>\n",
       "      <th>left_x</th>\n",
       "      <th>property_x</th>\n",
       "      <th>right_x</th>\n",
       "      <th>combined</th>\n",
       "      <th>left_y</th>\n",
       "      <th>property_y</th>\n",
       "      <th>right_y</th>\n",
       "      <th>_merge</th>\n",
       "    </tr>\n",
       "  </thead>\n",
       "  <tbody>\n",
       "    <tr>\n",
       "      <th>328244</th>\n",
       "      <td>P28482</td>\n",
       "      <td>phosphorylates</td>\n",
       "      <td>O75582</td>\n",
       "      <td>['O75582', 'P28482']</td>\n",
       "      <td>O75582</td>\n",
       "      <td>PPI</td>\n",
       "      <td>P28482</td>\n",
       "      <td>both</td>\n",
       "    </tr>\n",
       "    <tr>\n",
       "      <th>328245</th>\n",
       "      <td>P28482</td>\n",
       "      <td>phosphorylates</td>\n",
       "      <td>O75582</td>\n",
       "      <td>['O75582', 'P28482']</td>\n",
       "      <td>O75582</td>\n",
       "      <td>PPI</td>\n",
       "      <td>P28482</td>\n",
       "      <td>both</td>\n",
       "    </tr>\n",
       "    <tr>\n",
       "      <th>328297</th>\n",
       "      <td>P06493</td>\n",
       "      <td>phosphorylates</td>\n",
       "      <td>P02545</td>\n",
       "      <td>['P02545', 'P06493']</td>\n",
       "      <td>P02545</td>\n",
       "      <td>PPI</td>\n",
       "      <td>P06493</td>\n",
       "      <td>both</td>\n",
       "    </tr>\n",
       "    <tr>\n",
       "      <th>328298</th>\n",
       "      <td>P06493</td>\n",
       "      <td>phosphorylates</td>\n",
       "      <td>P02545</td>\n",
       "      <td>['P02545', 'P06493']</td>\n",
       "      <td>P02545</td>\n",
       "      <td>PPI</td>\n",
       "      <td>P06493</td>\n",
       "      <td>both</td>\n",
       "    </tr>\n",
       "    <tr>\n",
       "      <th>328299</th>\n",
       "      <td>P06493</td>\n",
       "      <td>phosphorylates</td>\n",
       "      <td>P02545</td>\n",
       "      <td>['P02545', 'P06493']</td>\n",
       "      <td>P02545</td>\n",
       "      <td>PPI</td>\n",
       "      <td>P06493</td>\n",
       "      <td>both</td>\n",
       "    </tr>\n",
       "  </tbody>\n",
       "</table>\n",
       "</div>"
      ],
      "text/plain": [
       "        left_x      property_x right_x              combined  left_y  \\\n",
       "328244  P28482  phosphorylates  O75582  ['O75582', 'P28482']  O75582   \n",
       "328245  P28482  phosphorylates  O75582  ['O75582', 'P28482']  O75582   \n",
       "328297  P06493  phosphorylates  P02545  ['P02545', 'P06493']  P02545   \n",
       "328298  P06493  phosphorylates  P02545  ['P02545', 'P06493']  P02545   \n",
       "328299  P06493  phosphorylates  P02545  ['P02545', 'P06493']  P02545   \n",
       "\n",
       "       property_y right_y _merge  \n",
       "328244        PPI  P28482   both  \n",
       "328245        PPI  P28482   both  \n",
       "328297        PPI  P06493   both  \n",
       "328298        PPI  P06493   both  \n",
       "328299        PPI  P06493   both  "
      ]
     },
     "execution_count": 11,
     "metadata": {},
     "output_type": "execute_result"
    }
   ],
   "source": [
    "merged[merged['_merge'] == 'both'].head()"
   ]
  },
  {
   "cell_type": "markdown",
   "metadata": {
    "pycharm": {
     "name": "#%% md\n"
    }
   },
   "source": [
    "## Removing the benchmarks from BioKG"
   ]
  },
  {
   "cell_type": "code",
   "execution_count": 12,
   "metadata": {
    "pycharm": {
     "name": "#%%\n"
    }
   },
   "outputs": [
    {
     "data": {
      "text/html": [
       "<div>\n",
       "<style scoped>\n",
       "    .dataframe tbody tr th:only-of-type {\n",
       "        vertical-align: middle;\n",
       "    }\n",
       "\n",
       "    .dataframe tbody tr th {\n",
       "        vertical-align: top;\n",
       "    }\n",
       "\n",
       "    .dataframe thead th {\n",
       "        text-align: right;\n",
       "    }\n",
       "</style>\n",
       "<table border=\"1\" class=\"dataframe\">\n",
       "  <thead>\n",
       "    <tr style=\"text-align: right;\">\n",
       "      <th></th>\n",
       "      <th>left</th>\n",
       "      <th>property</th>\n",
       "      <th>right</th>\n",
       "    </tr>\n",
       "  </thead>\n",
       "  <tbody>\n",
       "    <tr>\n",
       "      <th>0</th>\n",
       "      <td>C566487</td>\n",
       "      <td>DISEASE_PATHWAY_ASSOCIATION</td>\n",
       "      <td>hsa00071</td>\n",
       "    </tr>\n",
       "    <tr>\n",
       "      <th>1</th>\n",
       "      <td>C567839</td>\n",
       "      <td>DISEASE_PATHWAY_ASSOCIATION</td>\n",
       "      <td>map04810</td>\n",
       "    </tr>\n",
       "    <tr>\n",
       "      <th>2</th>\n",
       "      <td>C562476</td>\n",
       "      <td>DISEASE_PATHWAY_ASSOCIATION</td>\n",
       "      <td>hsa04512</td>\n",
       "    </tr>\n",
       "    <tr>\n",
       "      <th>3</th>\n",
       "      <td>C567032</td>\n",
       "      <td>DISEASE_PATHWAY_ASSOCIATION</td>\n",
       "      <td>map00750</td>\n",
       "    </tr>\n",
       "    <tr>\n",
       "      <th>4</th>\n",
       "      <td>C562710</td>\n",
       "      <td>DISEASE_PATHWAY_ASSOCIATION</td>\n",
       "      <td>map04930</td>\n",
       "    </tr>\n",
       "  </tbody>\n",
       "</table>\n",
       "</div>"
      ],
      "text/plain": [
       "      left                     property     right\n",
       "0  C566487  DISEASE_PATHWAY_ASSOCIATION  hsa00071\n",
       "1  C567839  DISEASE_PATHWAY_ASSOCIATION  map04810\n",
       "2  C562476  DISEASE_PATHWAY_ASSOCIATION  hsa04512\n",
       "3  C567032  DISEASE_PATHWAY_ASSOCIATION  map00750\n",
       "4  C562710  DISEASE_PATHWAY_ASSOCIATION  map04930"
      ]
     },
     "execution_count": 12,
     "metadata": {},
     "output_type": "execute_result"
    }
   ],
   "source": [
    "biokg_without_benchmarks = merged[merged['_merge'] == 'right_only'][['left_y', 'property_y', 'right_y']]\n",
    "biokg_without_benchmarks.rename(columns={'left_y': 'left', 'property_y': 'property', 'right_y': 'right'}, inplace=True)\n",
    "biokg_without_benchmarks.head()"
   ]
  },
  {
   "cell_type": "code",
   "execution_count": 13,
   "metadata": {
    "pycharm": {
     "name": "#%%\n"
    }
   },
   "outputs": [
    {
     "name": "stdout",
     "output_type": "stream",
     "text": [
      "After removing the benchmarks, there are 1,852,262 edges in the BioKG graph, down from 2,074,346.\n",
      "This is a reduction of 10.71%.\n"
     ]
    }
   ],
   "source": [
    "print(f'After removing the benchmarks, there are {len(biokg_without_benchmarks):,} edges in the BioKG graph, down from {len(biokg_links):,}.')\n",
    "print(f'This is a reduction of {100*(len(biokg_links)-len(biokg_without_benchmarks))/len(biokg_links):.2f}%.')\n",
    "# Fun fact: the previous line of code was autocompleted by Github copilot, i.e. OpenAI Codex."
   ]
  },
  {
   "cell_type": "markdown",
   "metadata": {
    "pycharm": {
     "name": "#%% md\n"
    }
   },
   "source": [
    "At this point we need to make sure: **are all entities in the benchmarks still present in BioKG after this removal?**.\n",
    "This will guarantee that when training embeddings with BioKG, we can make predictions for all entities in the benchmark.\n",
    "We also call this the *transductive property*."
   ]
  },
  {
   "cell_type": "code",
   "execution_count": 14,
   "metadata": {
    "pycharm": {
     "name": "#%%\n"
    }
   },
   "outputs": [
    {
     "name": "stdout",
     "output_type": "stream",
     "text": [
      "The benchmarks have 59,651 entities\n",
      "The original version of BioKG has 106,337 entities\n",
      "The clean (no benchmarks) version of BioKG has 106,047 entities\n",
      "There are 13,419 entities in the benchmarks missing from the reduced version of BioKG.\n"
     ]
    }
   ],
   "source": [
    "def get_entity_set(df):\n",
    "    return set(df['left'].unique()) | set(df['right'].unique())\n",
    "\n",
    "unique_benchmark_entities = get_entity_set(all_benchmarks)\n",
    "original_biokg_entities = get_entity_set(biokg_links)\n",
    "biokg_entities = get_entity_set(biokg_without_benchmarks)\n",
    "entities_not_in_biokg = unique_benchmark_entities.difference(biokg_entities)\n",
    "\n",
    "print(f'The benchmarks have {len(unique_benchmark_entities):,} entities')\n",
    "print(f'The original version of BioKG has {len(original_biokg_entities):,} entities')\n",
    "print(f'The clean (no benchmarks) version of BioKG has {len(biokg_entities):,} entities')\n",
    "print(f'There are {len(entities_not_in_biokg):,} entities in the benchmarks missing from the reduced version of BioKG.')"
   ]
  },
  {
   "cell_type": "markdown",
   "metadata": {
    "pycharm": {
     "name": "#%% md\n"
    }
   },
   "source": [
    "This means that there are some entities in the benchmarks for which we can't make any predictions\n",
    "if we train a method like ComplEx with the clean version of BioKG.\n",
    "\n",
    "### Missing entities in the original BioKG\n",
    "\n",
    "It turns out that even without removing the benchmarks from BioKG, there are still some entities\n",
    "in the benchmarks missing from it:"
   ]
  },
  {
   "cell_type": "code",
   "execution_count": 15,
   "metadata": {
    "pycharm": {
     "name": "#%%\n"
    }
   },
   "outputs": [
    {
     "name": "stdout",
     "output_type": "stream",
     "text": [
      "13,129 benchmarks entities are not in BioKG. For example:\n",
      "\tQ9DAM3\n",
      "\tA7YWH3\n",
      "\tQ9HAI6\n",
      "\tQ9VG82\n",
      "\tQ5F415\n",
      "\tQ6DBY2\n"
     ]
    }
   ],
   "source": [
    "missing_in_original_biokg = unique_benchmark_entities.difference(original_biokg_entities)\n",
    "\n",
    "print(f'{len(missing_in_original_biokg):,} benchmarks entities are not in BioKG. For example:')\n",
    "for i, e in enumerate(missing_in_original_biokg):\n",
    "    print(f'\\t{e}')\n",
    "    if i == 5: break"
   ]
  },
  {
   "cell_type": "markdown",
   "metadata": {
    "pycharm": {
     "name": "#%% md\n"
    }
   },
   "source": [
    "All these could be kept to create an **inductive** version of the benchmarks.\n",
    "\n",
    "### An interesting observation on very similar entities\n",
    "\n",
    "One of the entities present in the benchmarks is `Q5ZL35`. It turns out\n",
    "that this entity has the same pairs in the benchmarks as `Q9NWB6`:"
   ]
  },
  {
   "cell_type": "code",
   "execution_count": 16,
   "metadata": {
    "pycharm": {
     "name": "#%%\n"
    }
   },
   "outputs": [
    {
     "data": {
      "text/plain": [
       "True"
      ]
     },
     "execution_count": 16,
     "metadata": {},
     "output_type": "execute_result"
    }
   ],
   "source": [
    "q5zl35_benchmarks = all_benchmarks[all_benchmarks['right'] == 'Q5ZL35'].sort_values(by='left', ignore_index=True)\n",
    "q9nwb6_benchmarks = all_benchmarks[all_benchmarks['right'] == 'Q9NWB6'].sort_values(by='left', ignore_index=True)\n",
    "q5zl35_benchmarks[['left', 'property']].equals(q9nwb6_benchmarks[['left', 'property']])"
   ]
  },
  {
   "cell_type": "markdown",
   "metadata": {
    "pycharm": {
     "name": "#%% md\n"
    }
   },
   "source": [
    "We could be tempted to say that these two entities are in fact the same,\n",
    "and the data contains duplicates, but this is not the case.\n",
    "\n",
    "They correspond to Arginine and glutamate-rich protein 1, but one of them\n",
    "is present in Chicken and the other in Humans. Even though they have the same\n",
    "pairs, their protein sequences are very different. These are their entries\n",
    "in Uniprot:\n",
    "\n",
    "- [Q5ZL35](https://www.uniprot.org/uniprotkb/Q5ZL35/entry)\n",
    "- [Q9NWB6](https://www.uniprot.org/uniprotkb/Q9NWB6/entry)\n",
    "\n",
    "This raises an interesting point about embedding these entities with\n",
    "knowledge graph embeddings: a method like ComplEx (based on the graph structure alone)\n",
    "wouldn't be able to distinguish between them, while incorporating their protein sequences could solve this."
   ]
  },
  {
   "cell_type": "markdown",
   "metadata": {
    "pycharm": {
     "name": "#%% md\n"
    }
   },
   "source": [
    "## Statistics of properties before and after removal\n",
    "\n",
    "We start by computing counts of relation types in the original BioKG, and in the clean version."
   ]
  },
  {
   "cell_type": "code",
   "execution_count": 17,
   "metadata": {
    "pycharm": {
     "name": "#%%\n"
    }
   },
   "outputs": [
    {
     "data": {
      "image/png": "[encoded data removed]",
      "text/plain": [
       "<Figure size 864x432 with 1 Axes>"
      ]
     },
     "metadata": {
      "needs_background": "light"
     },
     "output_type": "display_data"
    }
   ],
   "source": [
    "def get_property_counts(df):\n",
    "    return df['property'].value_counts()\n",
    "\n",
    "# Get counts for biokg_links and biokg_without_benchmarks\n",
    "biokg_links_property_counts = get_property_counts(biokg_links)\n",
    "biokg_without_benchmarks_property_counts = get_property_counts(biokg_without_benchmarks)\n",
    "# Merge into one dataframe\n",
    "before_and_after_counts = pd.concat([biokg_links_property_counts, biokg_without_benchmarks_property_counts], axis=1)\n",
    "before_and_after_counts.columns = ['before', 'after']\n",
    "before_and_after_counts.plot.barh(logx=True, grid=True, figsize=(12, 6));"
   ]
  },
  {
   "cell_type": "markdown",
   "metadata": {
    "pycharm": {
     "name": "#%% md\n"
    }
   },
   "source": [
    "We can see that the largest drop in the number of edges corresponds to the `DRUG_CARRIER` relation.\n",
    "\n",
    "Next we look at the entity counts before and after removal. We do this by visualizing a histogram of\n",
    "entity degrees."
   ]
  },
  {
   "cell_type": "code",
   "execution_count": 18,
   "metadata": {
    "pycharm": {
     "name": "#%%\n"
    }
   },
   "outputs": [
    {
     "data": {
      "image/png": "[encoded data removed]",
      "text/plain": [
       "<Figure size 432x288 with 1 Axes>"
      ]
     },
     "metadata": {
      "needs_background": "light"
     },
     "output_type": "display_data"
    }
   ],
   "source": [
    "def plot_degree_histogram(df, bins=50, label=None):\n",
    "    df_head_tails = pd.concat([df['left'], df['right']], axis=0)\n",
    "    df_head_tails.value_counts().plot(kind='hist', logy=True, bins=bins, grid=True, alpha=0.5, label=label, legend=True)\n",
    "\n",
    "plot_degree_histogram(biokg_links, label='before')\n",
    "plot_degree_histogram(biokg_without_benchmarks, label='after')"
   ]
  },
  {
   "cell_type": "markdown",
   "metadata": {
    "pycharm": {
     "name": "#%% md\n"
    }
   },
   "source": [
    "## Storing the cleaned version of BioKG\n",
    "\n",
    "We start with the clean version of BioKG, which is the one we will use for training, validation, and testing of the link prediction model."
   ]
  },
  {
   "cell_type": "code",
   "execution_count": 19,
   "metadata": {
    "pycharm": {
     "name": "#%%\n"
    }
   },
   "outputs": [],
   "source": [
    "output_dir = osp.join('..', 'data', 'biokgb')\n",
    "kg_output_dir = osp.join(output_dir, 'graph')\n",
    "if not osp.exists(kg_output_dir):\n",
    "    os.makedirs(kg_output_dir)\n",
    "\n",
    "biokg_without_benchmarks.to_csv(osp.join(kg_output_dir, 'biokg.links.csv'), sep='\\t', index=False, header=False)"
   ]
  },
  {
   "cell_type": "markdown",
   "metadata": {
    "pycharm": {
     "name": "#%% md\n"
    }
   },
   "source": [
    "## Storing the *transductive* version of the benchmarks\n",
    "\n",
    "Since we found out that after removing benchmarks pairs from BioKG, some entities were removed\n",
    "entirely from the graph, we will store versions of the benchmarks that only contain entities\n",
    "in the new version of BioKG."
   ]
  },
  {
   "cell_type": "code",
   "execution_count": 20,
   "metadata": {
    "pycharm": {
     "name": "#%%\n"
    }
   },
   "outputs": [
    {
     "name": "stdout",
     "output_type": "stream",
     "text": [
      "Benchmark               Before     After  Relative\n",
      "--------------------------------------------------\n",
      "dpi_fda.tsv             19,161    18,678     97.5%\n",
      "dep_fda_exp.tsv        929,077   800,961     86.2%\n",
      "ddi_efficacy.tsv       130,145   125,509     96.4%\n",
      "ddi_minerals.tsv        55,890    50,304     90.0%\n",
      "phosphorylation.tsv     26,103    24,549     94.0%\n"
     ]
    }
   ],
   "source": [
    "benchmarks_output_dir = osp.join(output_dir, 'benchmarks')\n",
    "if not osp.exists(benchmarks_output_dir):\n",
    "    os.makedirs(benchmarks_output_dir)\n",
    "\n",
    "print(f'{\"Benchmark\":<20}{\"Before\":>10}{\"After\":>10}{\"Relative\":>10}')\n",
    "print('-' * 50)\n",
    "\n",
    "for file in benchmark_files:\n",
    "    benchmark = load_benchmark_file(osp.join(benchmark_path, file))\n",
    "\n",
    "    transductive_benchmark = benchmark[benchmark['left'].isin(biokg_entities) & benchmark['right'].isin(biokg_entities)]\n",
    "    transductive_benchmark.to_csv(osp.join(benchmarks_output_dir, file), sep='\\t', index=False, header=False)\n",
    "\n",
    "    percentage_kept = len(transductive_benchmark) / len(benchmark)\n",
    "    print(f'{file:<20}{len(benchmark):>10,}{len(transductive_benchmark):>10,}{percentage_kept:>10.1%}')"
   ]
  }
 ],
 "metadata": {
  "kernelspec": {
   "display_name": "Python 3",
   "language": "python",
   "name": "python3"
  },
  "language_info": {
   "codemirror_mode": {
    "name": "ipython",
    "version": 3
   },
   "file_extension": ".py",
   "mimetype": "text/x-python",
   "name": "python",
   "nbconvert_exporter": "python",
   "pygments_lexer": "ipython3",
   "version": "3.8.5"
  }
 },
 "nbformat": 4,
 "nbformat_minor": 4
}
