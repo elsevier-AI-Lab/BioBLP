{
 "cells": [
  {
   "cell_type": "markdown",
   "metadata": {
    "pycharm": {
     "name": "#%% md\n"
    }
   },
   "source": [
    "# Cleaning BioKG of benchmark-related entity pairs\n",
    "\n",
    "In this notebook we take care of:\n",
    "\n",
    "- Merging and disentangling the `BioKG graph` with the `benchmark datasets` that are included in it.\n",
    "    - Benchmarks include: `dpi_fda`, `dpi_fda_exp`, `ddi_efficacy`, `ddi_mineral`, `ppi_phosphorylation`\n",
    "- Storing the new disentangled data\n",
    "\n",
    "**For this notebook to run, you require a local installation of the BioKG data.**"
   ]
  },
  {
   "cell_type": "code",
   "execution_count": 1,
   "metadata": {
    "pycharm": {
     "name": "#%%\n"
    }
   },
   "outputs": [],
   "source": [
    "import os.path as osp\n",
    "import os\n",
    "import pandas as pd"
   ]
  },
  {
   "cell_type": "markdown",
   "metadata": {
    "pycharm": {
     "name": "#%% md\n"
    }
   },
   "source": [
    "## Load all links in BioKG are being combined in one single large (2m rows) .tsv file\n"
   ]
  },
  {
   "cell_type": "code",
   "execution_count": 2,
   "metadata": {
    "pycharm": {
     "name": "#%%\n"
    }
   },
   "outputs": [
    {
     "name": "stdout",
     "output_type": "stream",
     "text": [
      "There are 2,074,346 edges in the loaded BioKG data.\n"
     ]
    }
   ],
   "source": [
    "biokg_links_path = \"../data/biokg/biokg.links.tsv\"\n",
    "\n",
    "biokg_links = pd.read_csv(biokg_links_path,\n",
    "                         sep='\\t',\n",
    "                         names=['left', 'property', 'right'])\n",
    "\n",
    "print(f'There are {len(biokg_links,):,} edges in the loaded BioKG data.')"
   ]
  },
  {
   "cell_type": "code",
   "execution_count": 3,
   "metadata": {
    "pycharm": {
     "name": "#%%\n"
    }
   },
   "outputs": [
    {
     "data": {
      "text/html": [
       "<div>\n",
       "<style scoped>\n",
       "    .dataframe tbody tr th:only-of-type {\n",
       "        vertical-align: middle;\n",
       "    }\n",
       "\n",
       "    .dataframe tbody tr th {\n",
       "        vertical-align: top;\n",
       "    }\n",
       "\n",
       "    .dataframe thead th {\n",
       "        text-align: right;\n",
       "    }\n",
       "</style>\n",
       "<table border=\"1\" class=\"dataframe\">\n",
       "  <thead>\n",
       "    <tr style=\"text-align: right;\">\n",
       "      <th></th>\n",
       "      <th>left</th>\n",
       "      <th>property</th>\n",
       "      <th>right</th>\n",
       "    </tr>\n",
       "  </thead>\n",
       "  <tbody>\n",
       "    <tr>\n",
       "      <th>0</th>\n",
       "      <td>C566487</td>\n",
       "      <td>DISEASE_PATHWAY_ASSOCIATION</td>\n",
       "      <td>hsa00071</td>\n",
       "    </tr>\n",
       "    <tr>\n",
       "      <th>1</th>\n",
       "      <td>C567839</td>\n",
       "      <td>DISEASE_PATHWAY_ASSOCIATION</td>\n",
       "      <td>map04810</td>\n",
       "    </tr>\n",
       "    <tr>\n",
       "      <th>2</th>\n",
       "      <td>C562476</td>\n",
       "      <td>DISEASE_PATHWAY_ASSOCIATION</td>\n",
       "      <td>hsa04512</td>\n",
       "    </tr>\n",
       "    <tr>\n",
       "      <th>3</th>\n",
       "      <td>C567032</td>\n",
       "      <td>DISEASE_PATHWAY_ASSOCIATION</td>\n",
       "      <td>map00750</td>\n",
       "    </tr>\n",
       "    <tr>\n",
       "      <th>4</th>\n",
       "      <td>C562710</td>\n",
       "      <td>DISEASE_PATHWAY_ASSOCIATION</td>\n",
       "      <td>map04930</td>\n",
       "    </tr>\n",
       "  </tbody>\n",
       "</table>\n",
       "</div>"
      ],
      "text/plain": [
       "      left                     property     right\n",
       "0  C566487  DISEASE_PATHWAY_ASSOCIATION  hsa00071\n",
       "1  C567839  DISEASE_PATHWAY_ASSOCIATION  map04810\n",
       "2  C562476  DISEASE_PATHWAY_ASSOCIATION  hsa04512\n",
       "3  C567032  DISEASE_PATHWAY_ASSOCIATION  map00750\n",
       "4  C562710  DISEASE_PATHWAY_ASSOCIATION  map04930"
      ]
     },
     "execution_count": 3,
     "metadata": {},
     "output_type": "execute_result"
    }
   ],
   "source": [
    "biokg_links.head()"
   ]
  },
  {
   "cell_type": "markdown",
   "metadata": {
    "pycharm": {
     "name": "#%% md\n"
    }
   },
   "source": [
    "Check out the **unique** properties in the links file..."
   ]
  },
  {
   "cell_type": "code",
   "execution_count": 4,
   "metadata": {
    "pycharm": {
     "name": "#%%\n"
    }
   },
   "outputs": [
    {
     "data": {
      "text/plain": [
       "array(['DISEASE_PATHWAY_ASSOCIATION', 'PROTEIN_PATHWAY_ASSOCIATION',\n",
       "       'DRUG_DISEASE_ASSOCIATION', 'RELATED_GENETIC_DISORDER', 'PPI',\n",
       "       'DRUG_TARGET', 'DRUG_CARRIER', 'DRUG_ENZYME', 'DRUG_TRANSPORTER',\n",
       "       'COMPLEX_IN_PATHWAY', 'DRUG_PATHWAY_ASSOCIATION',\n",
       "       'PROTEIN_DISEASE_ASSOCIATION', 'DISEASE_GENETIC_DISORDER',\n",
       "       'MEMBER_OF_COMPLEX', 'DDI', 'DPI', 'COMPLEX_TOP_LEVEL_PATHWAY'],\n",
       "      dtype=object)"
      ]
     },
     "execution_count": 4,
     "metadata": {},
     "output_type": "execute_result"
    }
   ],
   "source": [
    "biokg_links['property'].unique()"
   ]
  },
  {
   "cell_type": "markdown",
   "metadata": {
    "pycharm": {
     "name": "#%% md\n"
    }
   },
   "source": [
    "As we can observe, the relations in the benchmarks are `normalised` before being merged in the graph.\n",
    "This implies that we should merge on right,left column ignoring the property name + order."
   ]
  },
  {
   "cell_type": "markdown",
   "metadata": {
    "pycharm": {
     "name": "#%% md\n"
    }
   },
   "source": [
    "## Load & Merge all benchmark datasets"
   ]
  },
  {
   "cell_type": "code",
   "execution_count": 5,
   "metadata": {
    "pycharm": {
     "name": "#%%\n"
    }
   },
   "outputs": [
    {
     "name": "stdout",
     "output_type": "stream",
     "text": [
      "There are 1,160,376 pairs in the merged benchmarks.\n"
     ]
    },
    {
     "data": {
      "text/html": [
       "<div>\n",
       "<style scoped>\n",
       "    .dataframe tbody tr th:only-of-type {\n",
       "        vertical-align: middle;\n",
       "    }\n",
       "\n",
       "    .dataframe tbody tr th {\n",
       "        vertical-align: top;\n",
       "    }\n",
       "\n",
       "    .dataframe thead th {\n",
       "        text-align: right;\n",
       "    }\n",
       "</style>\n",
       "<table border=\"1\" class=\"dataframe\">\n",
       "  <thead>\n",
       "    <tr style=\"text-align: right;\">\n",
       "      <th></th>\n",
       "      <th>left</th>\n",
       "      <th>property</th>\n",
       "      <th>right</th>\n",
       "    </tr>\n",
       "  </thead>\n",
       "  <tbody>\n",
       "    <tr>\n",
       "      <th>0</th>\n",
       "      <td>DB01079</td>\n",
       "      <td>DPI</td>\n",
       "      <td>Q13639</td>\n",
       "    </tr>\n",
       "    <tr>\n",
       "      <th>1</th>\n",
       "      <td>DB00114</td>\n",
       "      <td>DPI</td>\n",
       "      <td>P20711</td>\n",
       "    </tr>\n",
       "    <tr>\n",
       "      <th>2</th>\n",
       "      <td>DB01158</td>\n",
       "      <td>DPI</td>\n",
       "      <td>P13637</td>\n",
       "    </tr>\n",
       "    <tr>\n",
       "      <th>3</th>\n",
       "      <td>DB01069</td>\n",
       "      <td>DPI</td>\n",
       "      <td>P18825</td>\n",
       "    </tr>\n",
       "    <tr>\n",
       "      <th>4</th>\n",
       "      <td>DB01186</td>\n",
       "      <td>DPI</td>\n",
       "      <td>P08684</td>\n",
       "    </tr>\n",
       "  </tbody>\n",
       "</table>\n",
       "</div>"
      ],
      "text/plain": [
       "      left property   right\n",
       "0  DB01079      DPI  Q13639\n",
       "1  DB00114      DPI  P20711\n",
       "2  DB01158      DPI  P13637\n",
       "3  DB01069      DPI  P18825\n",
       "4  DB01186      DPI  P08684"
      ]
     },
     "execution_count": 5,
     "metadata": {},
     "output_type": "execute_result"
    }
   ],
   "source": [
    "benchmark_path ='../data/benchmarks/'\n",
    "benchmark_files = ['dpi_fda.tsv',\n",
    "                   'dep_fda_exp.tsv',\n",
    "                   'ddi_efficacy.tsv',\n",
    "                   'ddi_minerals.tsv',\n",
    "                   'phosphorylation.tsv']\n",
    "\n",
    "def load_benchmark_file(path):\n",
    "    return pd.read_csv(path, sep='\\t', header=None, usecols=[0, 1, 2], names=['left', 'property', 'right'])\n",
    "\n",
    "all_benchmarks = pd.concat([load_benchmark_file(osp.join(benchmark_path, file)) for file in benchmark_files])\n",
    "print(f'There are {len(all_benchmarks):,} pairs in the merged benchmarks.')\n",
    "all_benchmarks.head()"
   ]
  },
  {
   "cell_type": "markdown",
   "metadata": {
    "pycharm": {
     "name": "#%% md\n"
    }
   },
   "source": [
    "Before merging we need to prepare and ignore the order between left and right columns.\n",
    "\n",
    "To do that:\n",
    "- We create a new column called `combined`, containing the head and tail entities in a pair, and sort them lexicographically.\n",
    "- We merge the benchmark and KG dataframes on the `combined` column.\n",
    "- Then by picking out the `right_only` results we know we have the BioKG graph without the benchmarks."
   ]
  },
  {
   "cell_type": "code",
   "execution_count": 6,
   "metadata": {
    "pycharm": {
     "name": "#%%\n"
    }
   },
   "outputs": [
    {
     "data": {
      "text/html": [
       "<div>\n",
       "<style scoped>\n",
       "    .dataframe tbody tr th:only-of-type {\n",
       "        vertical-align: middle;\n",
       "    }\n",
       "\n",
       "    .dataframe tbody tr th {\n",
       "        vertical-align: top;\n",
       "    }\n",
       "\n",
       "    .dataframe thead th {\n",
       "        text-align: right;\n",
       "    }\n",
       "</style>\n",
       "<table border=\"1\" class=\"dataframe\">\n",
       "  <thead>\n",
       "    <tr style=\"text-align: right;\">\n",
       "      <th></th>\n",
       "      <th>left</th>\n",
       "      <th>property</th>\n",
       "      <th>right</th>\n",
       "      <th>combined</th>\n",
       "    </tr>\n",
       "  </thead>\n",
       "  <tbody>\n",
       "    <tr>\n",
       "      <th>0</th>\n",
       "      <td>DB01079</td>\n",
       "      <td>DPI</td>\n",
       "      <td>Q13639</td>\n",
       "      <td>['DB01079', 'Q13639']</td>\n",
       "    </tr>\n",
       "    <tr>\n",
       "      <th>1</th>\n",
       "      <td>DB00114</td>\n",
       "      <td>DPI</td>\n",
       "      <td>P20711</td>\n",
       "      <td>['DB00114', 'P20711']</td>\n",
       "    </tr>\n",
       "    <tr>\n",
       "      <th>2</th>\n",
       "      <td>DB01158</td>\n",
       "      <td>DPI</td>\n",
       "      <td>P13637</td>\n",
       "      <td>['DB01158', 'P13637']</td>\n",
       "    </tr>\n",
       "    <tr>\n",
       "      <th>3</th>\n",
       "      <td>DB01069</td>\n",
       "      <td>DPI</td>\n",
       "      <td>P18825</td>\n",
       "      <td>['DB01069', 'P18825']</td>\n",
       "    </tr>\n",
       "    <tr>\n",
       "      <th>4</th>\n",
       "      <td>DB01186</td>\n",
       "      <td>DPI</td>\n",
       "      <td>P08684</td>\n",
       "      <td>['DB01186', 'P08684']</td>\n",
       "    </tr>\n",
       "  </tbody>\n",
       "</table>\n",
       "</div>"
      ],
      "text/plain": [
       "      left property   right               combined\n",
       "0  DB01079      DPI  Q13639  ['DB01079', 'Q13639']\n",
       "1  DB00114      DPI  P20711  ['DB00114', 'P20711']\n",
       "2  DB01158      DPI  P13637  ['DB01158', 'P13637']\n",
       "3  DB01069      DPI  P18825  ['DB01069', 'P18825']\n",
       "4  DB01186      DPI  P08684  ['DB01186', 'P08684']"
      ]
     },
     "execution_count": 6,
     "metadata": {},
     "output_type": "execute_result"
    }
   ],
   "source": [
    "def combine_and_sort_entities(df):\n",
    "    \"\"\"Given a dataset containing pairs in the columns `left` and `right`,\n",
    "    creates a new column called `combined` containing the pairs as a\n",
    "    list (in string format) with the pairs sorted in lexicographical order.\"\"\"\n",
    "    df['combined'] = df.apply(lambda x: str(sorted([x['left'], x['right']])), axis=1)\n",
    "    return df\n",
    "\n",
    "combine_and_sort_entities(all_benchmarks)\n",
    "all_benchmarks.head()"
   ]
  },
  {
   "cell_type": "code",
   "execution_count": 7,
   "metadata": {
    "pycharm": {
     "name": "#%%\n"
    }
   },
   "outputs": [
    {
     "data": {
      "text/html": [
       "<div>\n",
       "<style scoped>\n",
       "    .dataframe tbody tr th:only-of-type {\n",
       "        vertical-align: middle;\n",
       "    }\n",
       "\n",
       "    .dataframe tbody tr th {\n",
       "        vertical-align: top;\n",
       "    }\n",
       "\n",
       "    .dataframe thead th {\n",
       "        text-align: right;\n",
       "    }\n",
       "</style>\n",
       "<table border=\"1\" class=\"dataframe\">\n",
       "  <thead>\n",
       "    <tr style=\"text-align: right;\">\n",
       "      <th></th>\n",
       "      <th>left</th>\n",
       "      <th>property</th>\n",
       "      <th>right</th>\n",
       "      <th>combined</th>\n",
       "    </tr>\n",
       "  </thead>\n",
       "  <tbody>\n",
       "    <tr>\n",
       "      <th>0</th>\n",
       "      <td>C566487</td>\n",
       "      <td>DISEASE_PATHWAY_ASSOCIATION</td>\n",
       "      <td>hsa00071</td>\n",
       "      <td>['C566487', 'hsa00071']</td>\n",
       "    </tr>\n",
       "    <tr>\n",
       "      <th>1</th>\n",
       "      <td>C567839</td>\n",
       "      <td>DISEASE_PATHWAY_ASSOCIATION</td>\n",
       "      <td>map04810</td>\n",
       "      <td>['C567839', 'map04810']</td>\n",
       "    </tr>\n",
       "    <tr>\n",
       "      <th>2</th>\n",
       "      <td>C562476</td>\n",
       "      <td>DISEASE_PATHWAY_ASSOCIATION</td>\n",
       "      <td>hsa04512</td>\n",
       "      <td>['C562476', 'hsa04512']</td>\n",
       "    </tr>\n",
       "    <tr>\n",
       "      <th>3</th>\n",
       "      <td>C567032</td>\n",
       "      <td>DISEASE_PATHWAY_ASSOCIATION</td>\n",
       "      <td>map00750</td>\n",
       "      <td>['C567032', 'map00750']</td>\n",
       "    </tr>\n",
       "    <tr>\n",
       "      <th>4</th>\n",
       "      <td>C562710</td>\n",
       "      <td>DISEASE_PATHWAY_ASSOCIATION</td>\n",
       "      <td>map04930</td>\n",
       "      <td>['C562710', 'map04930']</td>\n",
       "    </tr>\n",
       "  </tbody>\n",
       "</table>\n",
       "</div>"
      ],
      "text/plain": [
       "      left                     property     right                 combined\n",
       "0  C566487  DISEASE_PATHWAY_ASSOCIATION  hsa00071  ['C566487', 'hsa00071']\n",
       "1  C567839  DISEASE_PATHWAY_ASSOCIATION  map04810  ['C567839', 'map04810']\n",
       "2  C562476  DISEASE_PATHWAY_ASSOCIATION  hsa04512  ['C562476', 'hsa04512']\n",
       "3  C567032  DISEASE_PATHWAY_ASSOCIATION  map00750  ['C567032', 'map00750']\n",
       "4  C562710  DISEASE_PATHWAY_ASSOCIATION  map04930  ['C562710', 'map04930']"
      ]
     },
     "execution_count": 7,
     "metadata": {},
     "output_type": "execute_result"
    }
   ],
   "source": [
    "combine_and_sort_entities(biokg_links)\n",
    "biokg_links.head()"
   ]
  },
  {
   "cell_type": "markdown",
   "metadata": {
    "pycharm": {
     "name": "#%% md\n"
    }
   },
   "source": [
    "## Merging the benchmarks and BioKG on the `combined` column"
   ]
  },
  {
   "cell_type": "code",
   "execution_count": 8,
   "metadata": {
    "pycharm": {
     "name": "#%%\n"
    }
   },
   "outputs": [],
   "source": [
    "merged = pd.merge(all_benchmarks, biokg_links, how='right', on=[\"combined\"], indicator=True)"
   ]
  },
  {
   "cell_type": "code",
   "execution_count": 9,
   "metadata": {
    "pycharm": {
     "name": "#%%\n"
    }
   },
   "outputs": [
    {
     "data": {
      "text/html": [
       "<div>\n",
       "<style scoped>\n",
       "    .dataframe tbody tr th:only-of-type {\n",
       "        vertical-align: middle;\n",
       "    }\n",
       "\n",
       "    .dataframe tbody tr th {\n",
       "        vertical-align: top;\n",
       "    }\n",
       "\n",
       "    .dataframe thead th {\n",
       "        text-align: right;\n",
       "    }\n",
       "</style>\n",
       "<table border=\"1\" class=\"dataframe\">\n",
       "  <thead>\n",
       "    <tr style=\"text-align: right;\">\n",
       "      <th></th>\n",
       "      <th>left_x</th>\n",
       "      <th>property_x</th>\n",
       "      <th>right_x</th>\n",
       "      <th>combined</th>\n",
       "      <th>left_y</th>\n",
       "      <th>property_y</th>\n",
       "      <th>right_y</th>\n",
       "      <th>_merge</th>\n",
       "    </tr>\n",
       "  </thead>\n",
       "  <tbody>\n",
       "    <tr>\n",
       "      <th>0</th>\n",
       "      <td>NaN</td>\n",
       "      <td>NaN</td>\n",
       "      <td>NaN</td>\n",
       "      <td>['C566487', 'hsa00071']</td>\n",
       "      <td>C566487</td>\n",
       "      <td>DISEASE_PATHWAY_ASSOCIATION</td>\n",
       "      <td>hsa00071</td>\n",
       "      <td>right_only</td>\n",
       "    </tr>\n",
       "    <tr>\n",
       "      <th>1</th>\n",
       "      <td>NaN</td>\n",
       "      <td>NaN</td>\n",
       "      <td>NaN</td>\n",
       "      <td>['C567839', 'map04810']</td>\n",
       "      <td>C567839</td>\n",
       "      <td>DISEASE_PATHWAY_ASSOCIATION</td>\n",
       "      <td>map04810</td>\n",
       "      <td>right_only</td>\n",
       "    </tr>\n",
       "    <tr>\n",
       "      <th>2</th>\n",
       "      <td>NaN</td>\n",
       "      <td>NaN</td>\n",
       "      <td>NaN</td>\n",
       "      <td>['C562476', 'hsa04512']</td>\n",
       "      <td>C562476</td>\n",
       "      <td>DISEASE_PATHWAY_ASSOCIATION</td>\n",
       "      <td>hsa04512</td>\n",
       "      <td>right_only</td>\n",
       "    </tr>\n",
       "    <tr>\n",
       "      <th>3</th>\n",
       "      <td>NaN</td>\n",
       "      <td>NaN</td>\n",
       "      <td>NaN</td>\n",
       "      <td>['C567032', 'map00750']</td>\n",
       "      <td>C567032</td>\n",
       "      <td>DISEASE_PATHWAY_ASSOCIATION</td>\n",
       "      <td>map00750</td>\n",
       "      <td>right_only</td>\n",
       "    </tr>\n",
       "    <tr>\n",
       "      <th>4</th>\n",
       "      <td>NaN</td>\n",
       "      <td>NaN</td>\n",
       "      <td>NaN</td>\n",
       "      <td>['C562710', 'map04930']</td>\n",
       "      <td>C562710</td>\n",
       "      <td>DISEASE_PATHWAY_ASSOCIATION</td>\n",
       "      <td>map04930</td>\n",
       "      <td>right_only</td>\n",
       "    </tr>\n",
       "  </tbody>\n",
       "</table>\n",
       "</div>"
      ],
      "text/plain": [
       "  left_x property_x right_x                 combined   left_y  \\\n",
       "0    NaN        NaN     NaN  ['C566487', 'hsa00071']  C566487   \n",
       "1    NaN        NaN     NaN  ['C567839', 'map04810']  C567839   \n",
       "2    NaN        NaN     NaN  ['C562476', 'hsa04512']  C562476   \n",
       "3    NaN        NaN     NaN  ['C567032', 'map00750']  C567032   \n",
       "4    NaN        NaN     NaN  ['C562710', 'map04930']  C562710   \n",
       "\n",
       "                    property_y   right_y      _merge  \n",
       "0  DISEASE_PATHWAY_ASSOCIATION  hsa00071  right_only  \n",
       "1  DISEASE_PATHWAY_ASSOCIATION  map04810  right_only  \n",
       "2  DISEASE_PATHWAY_ASSOCIATION  hsa04512  right_only  \n",
       "3  DISEASE_PATHWAY_ASSOCIATION  map00750  right_only  \n",
       "4  DISEASE_PATHWAY_ASSOCIATION  map04930  right_only  "
      ]
     },
     "execution_count": 9,
     "metadata": {},
     "output_type": "execute_result"
    }
   ],
   "source": [
    "merged.head()"
   ]
  },
  {
   "cell_type": "markdown",
   "metadata": {
    "pycharm": {
     "name": "#%% md\n"
    }
   },
   "source": [
    "The counts of the following values in the `_merge` column are useful:\n",
    "- `right_only`: the number of pairs in BioKG that are not in the benchmarks.\n",
    "- `both`: the number of pairs in the benchmark that also appear in BioKG. **Note**: there might be duplicates in this part:\n",
    "  for example, if a pair (A, B) is in the benchmark, there might be triples in BioKG of the form (A, x, B), (A, y, B), (B, z, A),\n",
    "  all of which would count towards shared pairs in `both`."
   ]
  },
  {
   "cell_type": "code",
   "execution_count": 64,
   "metadata": {
    "pycharm": {
     "name": "#%%\n"
    }
   },
   "outputs": [
    {
     "data": {
      "text/plain": [
       "_merge    \n",
       "right_only    1852262\n",
       "both           226266\n",
       "left_only           0\n",
       "dtype: int64"
      ]
     },
     "execution_count": 64,
     "metadata": {},
     "output_type": "execute_result"
    }
   ],
   "source": [
    "merged[['_merge']].value_counts()"
   ]
  },
  {
   "cell_type": "markdown",
   "metadata": {
    "pycharm": {
     "name": "#%% md\n"
    }
   },
   "source": [
    "What do these shared pairs look like?"
   ]
  },
  {
   "cell_type": "code",
   "execution_count": 74,
   "metadata": {},
   "outputs": [
    {
     "data": {
      "text/html": [
       "<div>\n",
       "<style scoped>\n",
       "    .dataframe tbody tr th:only-of-type {\n",
       "        vertical-align: middle;\n",
       "    }\n",
       "\n",
       "    .dataframe tbody tr th {\n",
       "        vertical-align: top;\n",
       "    }\n",
       "\n",
       "    .dataframe thead th {\n",
       "        text-align: right;\n",
       "    }\n",
       "</style>\n",
       "<table border=\"1\" class=\"dataframe\">\n",
       "  <thead>\n",
       "    <tr style=\"text-align: right;\">\n",
       "      <th></th>\n",
       "      <th></th>\n",
       "      <th>y_entries</th>\n",
       "      <th>y_count</th>\n",
       "    </tr>\n",
       "    <tr>\n",
       "      <th>property_x</th>\n",
       "      <th>combined</th>\n",
       "      <th></th>\n",
       "      <th></th>\n",
       "    </tr>\n",
       "  </thead>\n",
       "  <tbody>\n",
       "    <tr>\n",
       "      <th rowspan=\"5\" valign=\"top\">DPI</th>\n",
       "      <th>['A1L3X4', 'DB09130']</th>\n",
       "      <td>[DPI]</td>\n",
       "      <td>1</td>\n",
       "    </tr>\n",
       "    <tr>\n",
       "      <th>['A1L3X4', 'DB12965']</th>\n",
       "      <td>[DPI]</td>\n",
       "      <td>1</td>\n",
       "    </tr>\n",
       "    <tr>\n",
       "      <th>['A5X5Y0', 'DB00246']</th>\n",
       "      <td>[DPI]</td>\n",
       "      <td>1</td>\n",
       "    </tr>\n",
       "    <tr>\n",
       "      <th>['A5X5Y0', 'DB00363']</th>\n",
       "      <td>[DPI]</td>\n",
       "      <td>1</td>\n",
       "    </tr>\n",
       "    <tr>\n",
       "      <th>['A5X5Y0', 'DB00370']</th>\n",
       "      <td>[DPI]</td>\n",
       "      <td>1</td>\n",
       "    </tr>\n",
       "    <tr>\n",
       "      <th>...</th>\n",
       "      <th>...</th>\n",
       "      <td>...</td>\n",
       "      <td>...</td>\n",
       "    </tr>\n",
       "    <tr>\n",
       "      <th rowspan=\"5\" valign=\"top\">phosphorylates</th>\n",
       "      <th>['Q9Y2H1', 'Q9Y2H1']</th>\n",
       "      <td>[PPI]</td>\n",
       "      <td>1</td>\n",
       "    </tr>\n",
       "    <tr>\n",
       "      <th>['Q9Y463', 'Q9Y463']</th>\n",
       "      <td>[PPI, PPI, PPI]</td>\n",
       "      <td>3</td>\n",
       "    </tr>\n",
       "    <tr>\n",
       "      <th>['Q9Y572', 'Q9Y572']</th>\n",
       "      <td>[PPI, PPI]</td>\n",
       "      <td>2</td>\n",
       "    </tr>\n",
       "    <tr>\n",
       "      <th>['Q9Y6E0', 'Q9Y6E0']</th>\n",
       "      <td>[PPI]</td>\n",
       "      <td>1</td>\n",
       "    </tr>\n",
       "    <tr>\n",
       "      <th>['Q9Y6R4', 'Q9Y6R4']</th>\n",
       "      <td>[PPI]</td>\n",
       "      <td>1</td>\n",
       "    </tr>\n",
       "  </tbody>\n",
       "</table>\n",
       "<p>207569 rows × 2 columns</p>\n",
       "</div>"
      ],
      "text/plain": [
       "                                            y_entries  y_count\n",
       "property_x     combined                                       \n",
       "DPI            ['A1L3X4', 'DB09130']            [DPI]        1\n",
       "               ['A1L3X4', 'DB12965']            [DPI]        1\n",
       "               ['A5X5Y0', 'DB00246']            [DPI]        1\n",
       "               ['A5X5Y0', 'DB00363']            [DPI]        1\n",
       "               ['A5X5Y0', 'DB00370']            [DPI]        1\n",
       "...                                               ...      ...\n",
       "phosphorylates ['Q9Y2H1', 'Q9Y2H1']             [PPI]        1\n",
       "               ['Q9Y463', 'Q9Y463']   [PPI, PPI, PPI]        3\n",
       "               ['Q9Y572', 'Q9Y572']        [PPI, PPI]        2\n",
       "               ['Q9Y6E0', 'Q9Y6E0']             [PPI]        1\n",
       "               ['Q9Y6R4', 'Q9Y6R4']             [PPI]        1\n",
       "\n",
       "[207569 rows x 2 columns]"
      ]
     },
     "execution_count": 74,
     "metadata": {},
     "output_type": "execute_result"
    }
   ],
   "source": [
    "df_relation_mapped = merged[merged['_merge'] == 'both']\\\n",
    "    .groupby(by=[\"property_x\", \"combined\"]).agg(y_entries=(\"property_y\", list), y_count=(\"property_y\", \"count\"))\n",
    "\n",
    "df_relation_mapped"
   ]
  },
  {
   "cell_type": "code",
   "execution_count": 75,
   "metadata": {},
   "outputs": [
    {
     "data": {
      "text/html": [
       "<div>\n",
       "<style scoped>\n",
       "    .dataframe tbody tr th:only-of-type {\n",
       "        vertical-align: middle;\n",
       "    }\n",
       "\n",
       "    .dataframe tbody tr th {\n",
       "        vertical-align: top;\n",
       "    }\n",
       "\n",
       "    .dataframe thead th {\n",
       "        text-align: right;\n",
       "    }\n",
       "</style>\n",
       "<table border=\"1\" class=\"dataframe\">\n",
       "  <thead>\n",
       "    <tr style=\"text-align: right;\">\n",
       "      <th></th>\n",
       "      <th></th>\n",
       "      <th>y_entries</th>\n",
       "      <th>y_count</th>\n",
       "    </tr>\n",
       "    <tr>\n",
       "      <th>property_x</th>\n",
       "      <th>combined</th>\n",
       "      <th></th>\n",
       "      <th></th>\n",
       "    </tr>\n",
       "  </thead>\n",
       "  <tbody>\n",
       "    <tr>\n",
       "      <th rowspan=\"5\" valign=\"top\">DPI</th>\n",
       "      <th>['A5X5Y0', 'DB00898']</th>\n",
       "      <td>[DRUG_TARGET, DPI]</td>\n",
       "      <td>2</td>\n",
       "    </tr>\n",
       "    <tr>\n",
       "      <th>['DB00001', 'P00734']</th>\n",
       "      <td>[DRUG_TARGET, DPI]</td>\n",
       "      <td>2</td>\n",
       "    </tr>\n",
       "    <tr>\n",
       "      <th>['DB00002', 'O75015']</th>\n",
       "      <td>[DRUG_TARGET, DPI]</td>\n",
       "      <td>2</td>\n",
       "    </tr>\n",
       "    <tr>\n",
       "      <th>['DB00002', 'P00533']</th>\n",
       "      <td>[DRUG_TARGET, DPI]</td>\n",
       "      <td>2</td>\n",
       "    </tr>\n",
       "    <tr>\n",
       "      <th>['DB00002', 'P02745']</th>\n",
       "      <td>[DRUG_TARGET, DPI]</td>\n",
       "      <td>2</td>\n",
       "    </tr>\n",
       "    <tr>\n",
       "      <th>...</th>\n",
       "      <th>...</th>\n",
       "      <td>...</td>\n",
       "      <td>...</td>\n",
       "    </tr>\n",
       "    <tr>\n",
       "      <th rowspan=\"5\" valign=\"top\">phosphorylates</th>\n",
       "      <th>['Q9NYL2', 'Q9NYL2']</th>\n",
       "      <td>[PPI, PPI, PPI]</td>\n",
       "      <td>3</td>\n",
       "    </tr>\n",
       "    <tr>\n",
       "      <th>['Q9UBE8', 'Q9UJU2']</th>\n",
       "      <td>[PPI, PPI, PPI, PPI, PPI]</td>\n",
       "      <td>5</td>\n",
       "    </tr>\n",
       "    <tr>\n",
       "      <th>['Q9UQM7', 'Q9UQM7']</th>\n",
       "      <td>[PPI, PPI, PPI]</td>\n",
       "      <td>3</td>\n",
       "    </tr>\n",
       "    <tr>\n",
       "      <th>['Q9Y463', 'Q9Y463']</th>\n",
       "      <td>[PPI, PPI, PPI]</td>\n",
       "      <td>3</td>\n",
       "    </tr>\n",
       "    <tr>\n",
       "      <th>['Q9Y572', 'Q9Y572']</th>\n",
       "      <td>[PPI, PPI]</td>\n",
       "      <td>2</td>\n",
       "    </tr>\n",
       "  </tbody>\n",
       "</table>\n",
       "<p>17550 rows × 2 columns</p>\n",
       "</div>"
      ],
      "text/plain": [
       "                                                      y_entries  y_count\n",
       "property_x     combined                                                 \n",
       "DPI            ['A5X5Y0', 'DB00898']         [DRUG_TARGET, DPI]        2\n",
       "               ['DB00001', 'P00734']         [DRUG_TARGET, DPI]        2\n",
       "               ['DB00002', 'O75015']         [DRUG_TARGET, DPI]        2\n",
       "               ['DB00002', 'P00533']         [DRUG_TARGET, DPI]        2\n",
       "               ['DB00002', 'P02745']         [DRUG_TARGET, DPI]        2\n",
       "...                                                         ...      ...\n",
       "phosphorylates ['Q9NYL2', 'Q9NYL2']             [PPI, PPI, PPI]        3\n",
       "               ['Q9UBE8', 'Q9UJU2']   [PPI, PPI, PPI, PPI, PPI]        5\n",
       "               ['Q9UQM7', 'Q9UQM7']             [PPI, PPI, PPI]        3\n",
       "               ['Q9Y463', 'Q9Y463']             [PPI, PPI, PPI]        3\n",
       "               ['Q9Y572', 'Q9Y572']                  [PPI, PPI]        2\n",
       "\n",
       "[17550 rows x 2 columns]"
      ]
     },
     "execution_count": 75,
     "metadata": {},
     "output_type": "execute_result"
    }
   ],
   "source": [
    "df_relation_mapped[df_relation_mapped[\"y_count\"] > 1]"
   ]
  },
  {
   "cell_type": "code",
   "execution_count": 81,
   "metadata": {
    "scrolled": false
   },
   "outputs": [
    {
     "data": {
      "text/plain": [
       "array([\"['DPI']\", \"['DRUG_TARGET', 'DPI']\", \"['DRUG_ENZYME', 'DPI']\",\n",
       "       \"['DRUG_CARRIER', 'DPI']\", \"['DRUG_TRANSPORTER', 'DPI']\",\n",
       "       \"['DRUG_TARGET', 'DRUG_TRANSPORTER', 'DPI']\",\n",
       "       \"['DRUG_TARGET', 'DRUG_ENZYME', 'DPI']\",\n",
       "       \"['DRUG_TARGET', 'DRUG_CARRIER', 'DPI']\",\n",
       "       \"['DRUG_ENZYME', 'DRUG_TRANSPORTER', 'DPI']\",\n",
       "       \"['DRUG_CARRIER', 'DRUG_TRANSPORTER', 'DPI']\", \"['DDI']\",\n",
       "       \"['PPI', 'PPI']\", \"['PPI']\",\n",
       "       \"['PPI', 'PPI', 'PPI', 'PPI', 'PPI', 'PPI']\",\n",
       "       \"['PPI', 'PPI', 'PPI']\", \"['PPI', 'PPI', 'PPI', 'PPI']\",\n",
       "       \"['PPI', 'PPI', 'PPI', 'PPI', 'PPI', 'PPI', 'PPI', 'PPI', 'PPI', 'PPI']\",\n",
       "       \"['PPI', 'PPI', 'PPI', 'PPI', 'PPI', 'PPI', 'PPI']\",\n",
       "       \"['PPI', 'PPI', 'PPI', 'PPI', 'PPI', 'PPI', 'PPI', 'PPI', 'PPI']\",\n",
       "       \"['PPI', 'PPI', 'PPI', 'PPI', 'PPI']\",\n",
       "       \"['PPI', 'PPI', 'PPI', 'PPI', 'PPI', 'PPI', 'PPI', 'PPI', 'PPI', 'PPI', 'PPI', 'PPI', 'PPI', 'PPI', 'PPI']\",\n",
       "       \"['PPI', 'PPI', 'PPI', 'PPI', 'PPI', 'PPI', 'PPI', 'PPI', 'PPI', 'PPI', 'PPI', 'PPI', 'PPI', 'PPI', 'PPI', 'PPI', 'PPI', 'PPI', 'PPI']\",\n",
       "       \"['PPI', 'PPI', 'PPI', 'PPI', 'PPI', 'PPI', 'PPI', 'PPI', 'PPI', 'PPI', 'PPI', 'PPI', 'PPI', 'PPI']\",\n",
       "       \"['PPI', 'PPI', 'PPI', 'PPI', 'PPI', 'PPI', 'PPI', 'PPI']\",\n",
       "       \"['PPI', 'PPI', 'PPI', 'PPI', 'PPI', 'PPI', 'PPI', 'PPI', 'PPI', 'PPI', 'PPI', 'PPI']\",\n",
       "       \"['PPI', 'PPI', 'PPI', 'PPI', 'PPI', 'PPI', 'PPI', 'PPI', 'PPI', 'PPI', 'PPI']\",\n",
       "       \"['PPI', 'PPI', 'PPI', 'PPI', 'PPI', 'PPI', 'PPI', 'PPI', 'PPI', 'PPI', 'PPI', 'PPI', 'PPI']\",\n",
       "       \"['PPI', 'PPI', 'PPI', 'PPI', 'PPI', 'PPI', 'PPI', 'PPI', 'PPI', 'PPI', 'PPI', 'PPI', 'PPI', 'PPI', 'PPI', 'PPI', 'PPI', 'PPI', 'PPI', 'PPI', 'PPI', 'PPI', 'PPI', 'PPI', 'PPI', 'PPI', 'PPI', 'PPI', 'PPI']\",\n",
       "       \"['PPI', 'PPI', 'PPI', 'PPI', 'PPI', 'PPI', 'PPI', 'PPI', 'PPI', 'PPI', 'PPI', 'PPI', 'PPI', 'PPI', 'PPI', 'PPI', 'PPI', 'PPI', 'PPI', 'PPI', 'PPI']\",\n",
       "       \"['PPI', 'PPI', 'PPI', 'PPI', 'PPI', 'PPI', 'PPI', 'PPI', 'PPI', 'PPI', 'PPI', 'PPI', 'PPI', 'PPI', 'PPI', 'PPI', 'PPI', 'PPI', 'PPI', 'PPI', 'PPI', 'PPI', 'PPI', 'PPI', 'PPI', 'PPI', 'PPI', 'PPI', 'PPI', 'PPI', 'PPI', 'PPI', 'PPI', 'PPI', 'PPI', 'PPI', 'PPI', 'PPI', 'PPI', 'PPI', 'PPI', 'PPI', 'PPI', 'PPI', 'PPI', 'PPI', 'PPI', 'PPI', 'PPI', 'PPI', 'PPI', 'PPI']\"],\n",
       "      dtype=object)"
      ]
     },
     "execution_count": 81,
     "metadata": {},
     "output_type": "execute_result"
    }
   ],
   "source": [
    "df_relation_mapped_records = df_relation_mapped.reset_index()\n",
    "\n",
    "df_relation_mapped_records[\"y_entries\"] = df_relation_mapped_records[\"y_entries\"].astype(str)\n",
    "\n",
    "df_relation_mapped_records[\"y_entries\"].unique()"
   ]
  },
  {
   "cell_type": "code",
   "execution_count": 66,
   "metadata": {
    "pycharm": {
     "name": "#%%\n"
    }
   },
   "outputs": [
    {
     "data": {
      "text/html": [
       "<div>\n",
       "<style scoped>\n",
       "    .dataframe tbody tr th:only-of-type {\n",
       "        vertical-align: middle;\n",
       "    }\n",
       "\n",
       "    .dataframe tbody tr th {\n",
       "        vertical-align: top;\n",
       "    }\n",
       "\n",
       "    .dataframe thead th {\n",
       "        text-align: right;\n",
       "    }\n",
       "</style>\n",
       "<table border=\"1\" class=\"dataframe\">\n",
       "  <thead>\n",
       "    <tr style=\"text-align: right;\">\n",
       "      <th></th>\n",
       "      <th>left_x</th>\n",
       "      <th>property_x</th>\n",
       "      <th>right_x</th>\n",
       "      <th>combined</th>\n",
       "      <th>left_y</th>\n",
       "      <th>property_y</th>\n",
       "      <th>right_y</th>\n",
       "      <th>_merge</th>\n",
       "    </tr>\n",
       "  </thead>\n",
       "  <tbody>\n",
       "    <tr>\n",
       "      <th>445550</th>\n",
       "      <td>DB01577</td>\n",
       "      <td>dec_expr</td>\n",
       "      <td>Q05940</td>\n",
       "      <td>['DB01577', 'Q05940']</td>\n",
       "      <td>DB01577</td>\n",
       "      <td>DRUG_TARGET</td>\n",
       "      <td>Q05940</td>\n",
       "      <td>both</td>\n",
       "    </tr>\n",
       "    <tr>\n",
       "      <th>445647</th>\n",
       "      <td>DB00822</td>\n",
       "      <td>dec_expr</td>\n",
       "      <td>P05091</td>\n",
       "      <td>['DB00822', 'P05091']</td>\n",
       "      <td>DB00822</td>\n",
       "      <td>DRUG_TARGET</td>\n",
       "      <td>P05091</td>\n",
       "      <td>both</td>\n",
       "    </tr>\n",
       "    <tr>\n",
       "      <th>445664</th>\n",
       "      <td>DB00201</td>\n",
       "      <td>dec_expr</td>\n",
       "      <td>P29275</td>\n",
       "      <td>['DB00201', 'P29275']</td>\n",
       "      <td>DB00201</td>\n",
       "      <td>DRUG_TARGET</td>\n",
       "      <td>P29275</td>\n",
       "      <td>both</td>\n",
       "    </tr>\n",
       "    <tr>\n",
       "      <th>445686</th>\n",
       "      <td>DB00367</td>\n",
       "      <td>dec_expr</td>\n",
       "      <td>P10275</td>\n",
       "      <td>['DB00367', 'P10275']</td>\n",
       "      <td>DB00367</td>\n",
       "      <td>DRUG_TARGET</td>\n",
       "      <td>P10275</td>\n",
       "      <td>both</td>\n",
       "    </tr>\n",
       "    <tr>\n",
       "      <th>445751</th>\n",
       "      <td>DB00563</td>\n",
       "      <td>dec_expr</td>\n",
       "      <td>P31939</td>\n",
       "      <td>['DB00563', 'P31939']</td>\n",
       "      <td>DB00563</td>\n",
       "      <td>DRUG_TARGET</td>\n",
       "      <td>P31939</td>\n",
       "      <td>both</td>\n",
       "    </tr>\n",
       "    <tr>\n",
       "      <th>...</th>\n",
       "      <td>...</td>\n",
       "      <td>...</td>\n",
       "      <td>...</td>\n",
       "      <td>...</td>\n",
       "      <td>...</td>\n",
       "      <td>...</td>\n",
       "      <td>...</td>\n",
       "      <td>...</td>\n",
       "    </tr>\n",
       "    <tr>\n",
       "      <th>2060893</th>\n",
       "      <td>DB00829</td>\n",
       "      <td>dec_expr</td>\n",
       "      <td>P14867</td>\n",
       "      <td>['DB00829', 'P14867']</td>\n",
       "      <td>DB00829</td>\n",
       "      <td>DPI</td>\n",
       "      <td>P14867</td>\n",
       "      <td>both</td>\n",
       "    </tr>\n",
       "    <tr>\n",
       "      <th>2060934</th>\n",
       "      <td>DB05260</td>\n",
       "      <td>dec_expr</td>\n",
       "      <td>P02786</td>\n",
       "      <td>['DB05260', 'P02786']</td>\n",
       "      <td>DB05260</td>\n",
       "      <td>DPI</td>\n",
       "      <td>P02786</td>\n",
       "      <td>both</td>\n",
       "    </tr>\n",
       "    <tr>\n",
       "      <th>2060953</th>\n",
       "      <td>DB00328</td>\n",
       "      <td>dec_expr</td>\n",
       "      <td>P33527</td>\n",
       "      <td>['DB00328', 'P33527']</td>\n",
       "      <td>DB00328</td>\n",
       "      <td>DPI</td>\n",
       "      <td>P33527</td>\n",
       "      <td>both</td>\n",
       "    </tr>\n",
       "    <tr>\n",
       "      <th>2061022</th>\n",
       "      <td>DB00234</td>\n",
       "      <td>dec_expr</td>\n",
       "      <td>P23975</td>\n",
       "      <td>['DB00234', 'P23975']</td>\n",
       "      <td>DB00234</td>\n",
       "      <td>DPI</td>\n",
       "      <td>P23975</td>\n",
       "      <td>both</td>\n",
       "    </tr>\n",
       "    <tr>\n",
       "      <th>2061058</th>\n",
       "      <td>DB01259</td>\n",
       "      <td>dec_expr</td>\n",
       "      <td>P04626</td>\n",
       "      <td>['DB01259', 'P04626']</td>\n",
       "      <td>DB01259</td>\n",
       "      <td>DPI</td>\n",
       "      <td>P04626</td>\n",
       "      <td>both</td>\n",
       "    </tr>\n",
       "  </tbody>\n",
       "</table>\n",
       "<p>852 rows × 8 columns</p>\n",
       "</div>"
      ],
      "text/plain": [
       "          left_x property_x right_x               combined   left_y  \\\n",
       "445550   DB01577   dec_expr  Q05940  ['DB01577', 'Q05940']  DB01577   \n",
       "445647   DB00822   dec_expr  P05091  ['DB00822', 'P05091']  DB00822   \n",
       "445664   DB00201   dec_expr  P29275  ['DB00201', 'P29275']  DB00201   \n",
       "445686   DB00367   dec_expr  P10275  ['DB00367', 'P10275']  DB00367   \n",
       "445751   DB00563   dec_expr  P31939  ['DB00563', 'P31939']  DB00563   \n",
       "...          ...        ...     ...                    ...      ...   \n",
       "2060893  DB00829   dec_expr  P14867  ['DB00829', 'P14867']  DB00829   \n",
       "2060934  DB05260   dec_expr  P02786  ['DB05260', 'P02786']  DB05260   \n",
       "2060953  DB00328   dec_expr  P33527  ['DB00328', 'P33527']  DB00328   \n",
       "2061022  DB00234   dec_expr  P23975  ['DB00234', 'P23975']  DB00234   \n",
       "2061058  DB01259   dec_expr  P04626  ['DB01259', 'P04626']  DB01259   \n",
       "\n",
       "          property_y right_y _merge  \n",
       "445550   DRUG_TARGET  Q05940   both  \n",
       "445647   DRUG_TARGET  P05091   both  \n",
       "445664   DRUG_TARGET  P29275   both  \n",
       "445686   DRUG_TARGET  P10275   both  \n",
       "445751   DRUG_TARGET  P31939   both  \n",
       "...              ...     ...    ...  \n",
       "2060893          DPI  P14867   both  \n",
       "2060934          DPI  P02786   both  \n",
       "2060953          DPI  P33527   both  \n",
       "2061022          DPI  P23975   both  \n",
       "2061058          DPI  P04626   both  \n",
       "\n",
       "[852 rows x 8 columns]"
      ]
     },
     "execution_count": 66,
     "metadata": {},
     "output_type": "execute_result"
    }
   ],
   "source": [
    "merged[(merged['_merge'] == 'both') & (merged['property_x'] == 'dec_expr')].head(-20)\n"
   ]
  },
  {
   "cell_type": "code",
   "execution_count": 89,
   "metadata": {},
   "outputs": [
    {
     "data": {
      "text/html": [
       "<div>\n",
       "<style scoped>\n",
       "    .dataframe tbody tr th:only-of-type {\n",
       "        vertical-align: middle;\n",
       "    }\n",
       "\n",
       "    .dataframe tbody tr th {\n",
       "        vertical-align: top;\n",
       "    }\n",
       "\n",
       "    .dataframe thead th {\n",
       "        text-align: right;\n",
       "    }\n",
       "</style>\n",
       "<table border=\"1\" class=\"dataframe\">\n",
       "  <thead>\n",
       "    <tr style=\"text-align: right;\">\n",
       "      <th></th>\n",
       "      <th>property_x</th>\n",
       "      <th>property_y</th>\n",
       "    </tr>\n",
       "  </thead>\n",
       "  <tbody>\n",
       "    <tr>\n",
       "      <th>328244</th>\n",
       "      <td>phosphorylates</td>\n",
       "      <td>PPI</td>\n",
       "    </tr>\n",
       "    <tr>\n",
       "      <th>445486</th>\n",
       "      <td>DPI</td>\n",
       "      <td>DRUG_TARGET</td>\n",
       "    </tr>\n",
       "    <tr>\n",
       "      <th>445494</th>\n",
       "      <td>inc_expr</td>\n",
       "      <td>DRUG_TARGET</td>\n",
       "    </tr>\n",
       "    <tr>\n",
       "      <th>445550</th>\n",
       "      <td>dec_expr</td>\n",
       "      <td>DRUG_TARGET</td>\n",
       "    </tr>\n",
       "    <tr>\n",
       "      <th>461324</th>\n",
       "      <td>DPI</td>\n",
       "      <td>DRUG_CARRIER</td>\n",
       "    </tr>\n",
       "    <tr>\n",
       "      <th>461325</th>\n",
       "      <td>dec_expr</td>\n",
       "      <td>DRUG_CARRIER</td>\n",
       "    </tr>\n",
       "    <tr>\n",
       "      <th>461347</th>\n",
       "      <td>inc_expr</td>\n",
       "      <td>DRUG_CARRIER</td>\n",
       "    </tr>\n",
       "    <tr>\n",
       "      <th>462173</th>\n",
       "      <td>DPI</td>\n",
       "      <td>DRUG_ENZYME</td>\n",
       "    </tr>\n",
       "    <tr>\n",
       "      <th>462194</th>\n",
       "      <td>inc_expr</td>\n",
       "      <td>DRUG_ENZYME</td>\n",
       "    </tr>\n",
       "    <tr>\n",
       "      <th>462200</th>\n",
       "      <td>dec_expr</td>\n",
       "      <td>DRUG_ENZYME</td>\n",
       "    </tr>\n",
       "    <tr>\n",
       "      <th>467646</th>\n",
       "      <td>DPI</td>\n",
       "      <td>DRUG_TRANSPORTER</td>\n",
       "    </tr>\n",
       "    <tr>\n",
       "      <th>467679</th>\n",
       "      <td>dec_expr</td>\n",
       "      <td>DRUG_TRANSPORTER</td>\n",
       "    </tr>\n",
       "    <tr>\n",
       "      <th>467768</th>\n",
       "      <td>inc_expr</td>\n",
       "      <td>DRUG_TRANSPORTER</td>\n",
       "    </tr>\n",
       "    <tr>\n",
       "      <th>699224</th>\n",
       "      <td>decrease_therapeutic_efficacy</td>\n",
       "      <td>DDI</td>\n",
       "    </tr>\n",
       "    <tr>\n",
       "      <th>699246</th>\n",
       "      <td>increase_therapeutic_efficacy</td>\n",
       "      <td>DDI</td>\n",
       "    </tr>\n",
       "    <tr>\n",
       "      <th>699286</th>\n",
       "      <td>increase_hyperglycemia</td>\n",
       "      <td>DDI</td>\n",
       "    </tr>\n",
       "    <tr>\n",
       "      <th>699309</th>\n",
       "      <td>increase_hypoglycemia</td>\n",
       "      <td>DDI</td>\n",
       "    </tr>\n",
       "    <tr>\n",
       "      <th>699312</th>\n",
       "      <td>increase_hyperkalemia</td>\n",
       "      <td>DDI</td>\n",
       "    </tr>\n",
       "    <tr>\n",
       "      <th>699330</th>\n",
       "      <td>decrease_hypoglycemia</td>\n",
       "      <td>DDI</td>\n",
       "    </tr>\n",
       "    <tr>\n",
       "      <th>699443</th>\n",
       "      <td>increase_hypokalemia</td>\n",
       "      <td>DDI</td>\n",
       "    </tr>\n",
       "    <tr>\n",
       "      <th>701189</th>\n",
       "      <td>increase_hypocalcemia</td>\n",
       "      <td>DDI</td>\n",
       "    </tr>\n",
       "    <tr>\n",
       "      <th>701450</th>\n",
       "      <td>increase_hyponatremia</td>\n",
       "      <td>DDI</td>\n",
       "    </tr>\n",
       "    <tr>\n",
       "      <th>713200</th>\n",
       "      <td>increase_hypercalcemia</td>\n",
       "      <td>DDI</td>\n",
       "    </tr>\n",
       "    <tr>\n",
       "      <th>2033299</th>\n",
       "      <td>DPI</td>\n",
       "      <td>DPI</td>\n",
       "    </tr>\n",
       "    <tr>\n",
       "      <th>2033305</th>\n",
       "      <td>inc_expr</td>\n",
       "      <td>DPI</td>\n",
       "    </tr>\n",
       "    <tr>\n",
       "      <th>2033315</th>\n",
       "      <td>dec_expr</td>\n",
       "      <td>DPI</td>\n",
       "    </tr>\n",
       "  </tbody>\n",
       "</table>\n",
       "</div>"
      ],
      "text/plain": [
       "                            property_x        property_y\n",
       "328244                  phosphorylates               PPI\n",
       "445486                             DPI       DRUG_TARGET\n",
       "445494                        inc_expr       DRUG_TARGET\n",
       "445550                        dec_expr       DRUG_TARGET\n",
       "461324                             DPI      DRUG_CARRIER\n",
       "461325                        dec_expr      DRUG_CARRIER\n",
       "461347                        inc_expr      DRUG_CARRIER\n",
       "462173                             DPI       DRUG_ENZYME\n",
       "462194                        inc_expr       DRUG_ENZYME\n",
       "462200                        dec_expr       DRUG_ENZYME\n",
       "467646                             DPI  DRUG_TRANSPORTER\n",
       "467679                        dec_expr  DRUG_TRANSPORTER\n",
       "467768                        inc_expr  DRUG_TRANSPORTER\n",
       "699224   decrease_therapeutic_efficacy               DDI\n",
       "699246   increase_therapeutic_efficacy               DDI\n",
       "699286          increase_hyperglycemia               DDI\n",
       "699309           increase_hypoglycemia               DDI\n",
       "699312           increase_hyperkalemia               DDI\n",
       "699330           decrease_hypoglycemia               DDI\n",
       "699443            increase_hypokalemia               DDI\n",
       "701189           increase_hypocalcemia               DDI\n",
       "701450           increase_hyponatremia               DDI\n",
       "713200          increase_hypercalcemia               DDI\n",
       "2033299                            DPI               DPI\n",
       "2033305                       inc_expr               DPI\n",
       "2033315                       dec_expr               DPI"
      ]
     },
     "execution_count": 89,
     "metadata": {},
     "output_type": "execute_result"
    }
   ],
   "source": [
    "merged[['property_x','property_y']].drop_duplicates().dropna()"
   ]
  },
  {
   "cell_type": "code",
   "execution_count": 92,
   "metadata": {},
   "outputs": [],
   "source": [
    "benchmark_relation_mapper = {'phosphorylates': 'PPI',\n",
    "                             'inc_expr': 'DPI',\n",
    "                             'dec_expr' : 'DPI',\n",
    "                             'decrease_therapeutic_efficacy' : 'DDI',\n",
    "                             'increase_therapeutic_efficacy' : 'DDI',\n",
    "                             'increase_hypoglycemia' : 'DDI',\n",
    "                             'increase_hyperkalemia' : 'DDI',\n",
    "                             'increase_hyperglycemia' : 'DDI',\n",
    "                             'decrease_hypoglycemia' : 'DDI',\n",
    "                             'DPI' : 'DPI'\n",
    "                             }\n",
    "\n"
   ]
  },
  {
   "cell_type": "code",
   "execution_count": 94,
   "metadata": {},
   "outputs": [
    {
     "data": {
      "text/plain": [
       "array(['DPI', 'inc_expr', 'dec_expr', 'decrease_therapeutic_efficacy',\n",
       "       'increase_therapeutic_efficacy', 'increase_hyperkalemia',\n",
       "       'increase_hypoglycemia', 'increase_hyperglycemia',\n",
       "       'increase_hypokalemia', 'decrease_hypoglycemia',\n",
       "       'increase_hyponatremia', 'increase_hypercalcemia',\n",
       "       'increase_hypocalcemia', 'phosphorylates'], dtype=object)"
      ]
     },
     "execution_count": 94,
     "metadata": {},
     "output_type": "execute_result"
    }
   ],
   "source": [
    "all_benchmarks['property'].unique()"
   ]
  },
  {
   "cell_type": "code",
   "execution_count": null,
   "metadata": {},
   "outputs": [],
   "source": [
    "merged[merged[['property_x','combined','property_y']].duplicated()]"
   ]
  },
  {
   "cell_type": "markdown",
   "metadata": {
    "pycharm": {
     "name": "#%% md\n"
    }
   },
   "source": [
    "## Removing the benchmarks from BioKG"
   ]
  },
  {
   "cell_type": "code",
   "execution_count": 82,
   "metadata": {
    "pycharm": {
     "name": "#%%\n"
    }
   },
   "outputs": [
    {
     "data": {
      "text/html": [
       "<div>\n",
       "<style scoped>\n",
       "    .dataframe tbody tr th:only-of-type {\n",
       "        vertical-align: middle;\n",
       "    }\n",
       "\n",
       "    .dataframe tbody tr th {\n",
       "        vertical-align: top;\n",
       "    }\n",
       "\n",
       "    .dataframe thead th {\n",
       "        text-align: right;\n",
       "    }\n",
       "</style>\n",
       "<table border=\"1\" class=\"dataframe\">\n",
       "  <thead>\n",
       "    <tr style=\"text-align: right;\">\n",
       "      <th></th>\n",
       "      <th>left</th>\n",
       "      <th>property</th>\n",
       "      <th>right</th>\n",
       "    </tr>\n",
       "  </thead>\n",
       "  <tbody>\n",
       "    <tr>\n",
       "      <th>0</th>\n",
       "      <td>C566487</td>\n",
       "      <td>DISEASE_PATHWAY_ASSOCIATION</td>\n",
       "      <td>hsa00071</td>\n",
       "    </tr>\n",
       "    <tr>\n",
       "      <th>1</th>\n",
       "      <td>C567839</td>\n",
       "      <td>DISEASE_PATHWAY_ASSOCIATION</td>\n",
       "      <td>map04810</td>\n",
       "    </tr>\n",
       "    <tr>\n",
       "      <th>2</th>\n",
       "      <td>C562476</td>\n",
       "      <td>DISEASE_PATHWAY_ASSOCIATION</td>\n",
       "      <td>hsa04512</td>\n",
       "    </tr>\n",
       "    <tr>\n",
       "      <th>3</th>\n",
       "      <td>C567032</td>\n",
       "      <td>DISEASE_PATHWAY_ASSOCIATION</td>\n",
       "      <td>map00750</td>\n",
       "    </tr>\n",
       "    <tr>\n",
       "      <th>4</th>\n",
       "      <td>C562710</td>\n",
       "      <td>DISEASE_PATHWAY_ASSOCIATION</td>\n",
       "      <td>map04930</td>\n",
       "    </tr>\n",
       "  </tbody>\n",
       "</table>\n",
       "</div>"
      ],
      "text/plain": [
       "      left                     property     right\n",
       "0  C566487  DISEASE_PATHWAY_ASSOCIATION  hsa00071\n",
       "1  C567839  DISEASE_PATHWAY_ASSOCIATION  map04810\n",
       "2  C562476  DISEASE_PATHWAY_ASSOCIATION  hsa04512\n",
       "3  C567032  DISEASE_PATHWAY_ASSOCIATION  map00750\n",
       "4  C562710  DISEASE_PATHWAY_ASSOCIATION  map04930"
      ]
     },
     "execution_count": 82,
     "metadata": {},
     "output_type": "execute_result"
    }
   ],
   "source": [
    "biokg_without_benchmarks = merged[merged['_merge'] == 'right_only'][['left_y', 'property_y', 'right_y']]\n",
    "biokg_without_benchmarks.rename(columns={'left_y': 'left', 'property_y': 'property', 'right_y': 'right'}, inplace=True)\n",
    "biokg_without_benchmarks.head()"
   ]
  },
  {
   "cell_type": "code",
   "execution_count": 83,
   "metadata": {},
   "outputs": [
    {
     "data": {
      "text/plain": [
       "(1852262, 1852262)"
      ]
     },
     "execution_count": 83,
     "metadata": {},
     "output_type": "execute_result"
    }
   ],
   "source": [
    "len(biokg_without_benchmarks), len(biokg_without_benchmarks.drop_duplicates())"
   ]
  },
  {
   "cell_type": "code",
   "execution_count": 13,
   "metadata": {
    "pycharm": {
     "name": "#%%\n"
    }
   },
   "outputs": [
    {
     "name": "stdout",
     "output_type": "stream",
     "text": [
      "After removing the benchmarks, there are 1,852,262 edges in the BioKG graph, down from 2,074,346.\n",
      "This is a reduction of 10.71%.\n"
     ]
    }
   ],
   "source": [
    "print(f'After removing the benchmarks, there are {len(biokg_without_benchmarks):,} edges in the BioKG graph, down from {len(biokg_links):,}.')\n",
    "print(f'This is a reduction of {100*(len(biokg_links)-len(biokg_without_benchmarks))/len(biokg_links):.2f}%.')\n",
    "# Fun fact: the previous line of code was autocompleted by Github copilot, i.e. OpenAI Codex."
   ]
  },
  {
   "cell_type": "markdown",
   "metadata": {
    "pycharm": {
     "name": "#%% md\n"
    }
   },
   "source": [
    "At this point we need to make sure: **are all entities in the benchmarks still present in BioKG after this removal?**.\n",
    "This will guarantee that when training embeddings with BioKG, we can make predictions for all entities in the benchmark.\n",
    "We also call this the *transductive property*."
   ]
  },
  {
   "cell_type": "code",
   "execution_count": 14,
   "metadata": {
    "pycharm": {
     "name": "#%%\n"
    }
   },
   "outputs": [
    {
     "name": "stdout",
     "output_type": "stream",
     "text": [
      "The benchmarks have 59,651 entities\n",
      "The original version of BioKG has 106,337 entities\n",
      "The clean (no benchmarks) version of BioKG has 106,047 entities\n",
      "There are 13,419 entities in the benchmarks missing from the reduced version of BioKG.\n"
     ]
    }
   ],
   "source": [
    "def get_entity_set(df):\n",
    "    return set(df['left'].unique()) | set(df['right'].unique())\n",
    "\n",
    "unique_benchmark_entities = get_entity_set(all_benchmarks)\n",
    "original_biokg_entities = get_entity_set(biokg_links)\n",
    "biokg_entities = get_entity_set(biokg_without_benchmarks)\n",
    "entities_not_in_biokg = unique_benchmark_entities.difference(biokg_entities)\n",
    "\n",
    "print(f'The benchmarks have {len(unique_benchmark_entities):,} entities')\n",
    "print(f'The original version of BioKG has {len(original_biokg_entities):,} entities')\n",
    "print(f'The clean (no benchmarks) version of BioKG has {len(biokg_entities):,} entities')\n",
    "print(f'There are {len(entities_not_in_biokg):,} entities in the benchmarks missing from the reduced version of BioKG.')"
   ]
  },
  {
   "cell_type": "markdown",
   "metadata": {
    "pycharm": {
     "name": "#%% md\n"
    }
   },
   "source": [
    "This means that there are some entities in the benchmarks for which we can't make any predictions\n",
    "if we train a method like ComplEx with the clean version of BioKG.\n",
    "\n",
    "### Missing entities in the original BioKG\n",
    "\n",
    "It turns out that even without removing the benchmarks from BioKG, there are still some entities\n",
    "in the benchmarks missing from it:"
   ]
  },
  {
   "cell_type": "code",
   "execution_count": 20,
   "metadata": {
    "pycharm": {
     "name": "#%%\n"
    }
   },
   "outputs": [
    {
     "name": "stdout",
     "output_type": "stream",
     "text": [
      "13,129 benchmarks entities are not in BioKG. For example:\n",
      "\tO97817\n",
      "\tQ566R2\n",
      "\tQ58DA4\n",
      "\tQ496M5\n",
      "\tQ80ZQ9\n",
      "\tQ9H6K1\n"
     ]
    }
   ],
   "source": [
    "missing_in_original_biokg = unique_benchmark_entities.difference(original_biokg_entities)\n",
    "\n",
    "print(f'{len(missing_in_original_biokg):,} benchmarks entities are not in BioKG. For example:')\n",
    "for i, e in enumerate(missing_in_original_biokg):\n",
    "    print(f'\\t{e}')\n",
    "    if i == 5: break"
   ]
  },
  {
   "cell_type": "code",
   "execution_count": 23,
   "metadata": {},
   "outputs": [
    {
     "data": {
      "text/plain": [
       "(13129, 13419)"
      ]
     },
     "execution_count": 23,
     "metadata": {},
     "output_type": "execute_result"
    }
   ],
   "source": [
    "len(missing_in_original_biokg), len(entities_not_in_biokg)"
   ]
  },
  {
   "cell_type": "code",
   "execution_count": 111,
   "metadata": {},
   "outputs": [],
   "source": [
    "inductive_benchmark_pt1 = all_benchmarks[all_benchmarks.left.isin(entities_not_in_biokg)]\n",
    "inductive_benchmark_pt2 = all_benchmarks[all_benchmarks.right.isin(entities_not_in_biokg)]\n",
    "inductive_benchmark_pt3 = all_benchmarks[(all_benchmarks.right.isin(entities_not_in_biokg) & all_benchmarks.left.isin(entities_not_in_biokg))]\n",
    "\n",
    "inductive_benchmarks = pd.concat([inductive_benchmark_pt1, inductive_benchmark_pt2, inductive_benchmark_pt3])\n",
    "\n",
    "inductive_benchmarks = inductive_benchmarks.drop_duplicates()"
   ]
  },
  {
   "cell_type": "code",
   "execution_count": 112,
   "metadata": {},
   "outputs": [],
   "source": [
    "inductive_benchmarks.head(2)\n",
    "\n",
    "inductive_benchmarks['property'] = inductive_benchmarks['property'].apply(lambda x: benchmark_relation_mapper[x] )"
   ]
  },
  {
   "cell_type": "code",
   "execution_count": 113,
   "metadata": {},
   "outputs": [
    {
     "data": {
      "text/plain": [
       "array(['DPI', 'DDI', 'PPI'], dtype=object)"
      ]
     },
     "execution_count": 113,
     "metadata": {},
     "output_type": "execute_result"
    }
   ],
   "source": [
    "inductive_benchmarks['property'].unique()"
   ]
  },
  {
   "cell_type": "code",
   "execution_count": 114,
   "metadata": {},
   "outputs": [
    {
     "data": {
      "text/plain": [
       "DPI    128599\n",
       "DDI     10222\n",
       "PPI      1297\n",
       "Name: property, dtype: int64"
      ]
     },
     "execution_count": 114,
     "metadata": {},
     "output_type": "execute_result"
    }
   ],
   "source": [
    "get_property_counts(inductive_benchmarks)"
   ]
  },
  {
   "cell_type": "code",
   "execution_count": 116,
   "metadata": {},
   "outputs": [
    {
     "data": {
      "text/html": [
       "<div>\n",
       "<style scoped>\n",
       "    .dataframe tbody tr th:only-of-type {\n",
       "        vertical-align: middle;\n",
       "    }\n",
       "\n",
       "    .dataframe tbody tr th {\n",
       "        vertical-align: top;\n",
       "    }\n",
       "\n",
       "    .dataframe thead th {\n",
       "        text-align: right;\n",
       "    }\n",
       "</style>\n",
       "<table border=\"1\" class=\"dataframe\">\n",
       "  <thead>\n",
       "    <tr style=\"text-align: right;\">\n",
       "      <th></th>\n",
       "      <th>left</th>\n",
       "      <th>property</th>\n",
       "      <th>right</th>\n",
       "      <th>combined</th>\n",
       "    </tr>\n",
       "  </thead>\n",
       "  <tbody>\n",
       "    <tr>\n",
       "      <th>13</th>\n",
       "      <td>DB11660</td>\n",
       "      <td>DPI</td>\n",
       "      <td>O94956</td>\n",
       "      <td>['DB11660', 'O94956']</td>\n",
       "    </tr>\n",
       "    <tr>\n",
       "      <th>20</th>\n",
       "      <td>DB02893</td>\n",
       "      <td>DPI</td>\n",
       "      <td>P50579</td>\n",
       "      <td>['DB02893', 'P50579']</td>\n",
       "    </tr>\n",
       "    <tr>\n",
       "      <th>55</th>\n",
       "      <td>DB13998</td>\n",
       "      <td>DPI</td>\n",
       "      <td>P27824</td>\n",
       "      <td>['DB13998', 'P27824']</td>\n",
       "    </tr>\n",
       "    <tr>\n",
       "      <th>68</th>\n",
       "      <td>DB04209</td>\n",
       "      <td>DPI</td>\n",
       "      <td>P98170</td>\n",
       "      <td>['DB04209', 'P98170']</td>\n",
       "    </tr>\n",
       "    <tr>\n",
       "      <th>143</th>\n",
       "      <td>DB10770</td>\n",
       "      <td>DPI</td>\n",
       "      <td>P17948</td>\n",
       "      <td>['DB10770', 'P17948']</td>\n",
       "    </tr>\n",
       "    <tr>\n",
       "      <th>...</th>\n",
       "      <td>...</td>\n",
       "      <td>...</td>\n",
       "      <td>...</td>\n",
       "      <td>...</td>\n",
       "    </tr>\n",
       "    <tr>\n",
       "      <th>25944</th>\n",
       "      <td>O95819</td>\n",
       "      <td>PPI</td>\n",
       "      <td>Q6ZN04</td>\n",
       "      <td>['O95819', 'Q6ZN04']</td>\n",
       "    </tr>\n",
       "    <tr>\n",
       "      <th>25950</th>\n",
       "      <td>Q13233</td>\n",
       "      <td>PPI</td>\n",
       "      <td>Q8IXQ3</td>\n",
       "      <td>['Q13233', 'Q8IXQ3']</td>\n",
       "    </tr>\n",
       "    <tr>\n",
       "      <th>26006</th>\n",
       "      <td>P41743</td>\n",
       "      <td>PPI</td>\n",
       "      <td>Q9Y520</td>\n",
       "      <td>['P41743', 'Q9Y520']</td>\n",
       "    </tr>\n",
       "    <tr>\n",
       "      <th>26067</th>\n",
       "      <td>P41743</td>\n",
       "      <td>PPI</td>\n",
       "      <td>Q9BRS8</td>\n",
       "      <td>['P41743', 'Q9BRS8']</td>\n",
       "    </tr>\n",
       "    <tr>\n",
       "      <th>26095</th>\n",
       "      <td>P09619</td>\n",
       "      <td>PPI</td>\n",
       "      <td>Q9BVQ7</td>\n",
       "      <td>['P09619', 'Q9BVQ7']</td>\n",
       "    </tr>\n",
       "  </tbody>\n",
       "</table>\n",
       "<p>140118 rows × 4 columns</p>\n",
       "</div>"
      ],
      "text/plain": [
       "          left property   right               combined\n",
       "13     DB11660      DPI  O94956  ['DB11660', 'O94956']\n",
       "20     DB02893      DPI  P50579  ['DB02893', 'P50579']\n",
       "55     DB13998      DPI  P27824  ['DB13998', 'P27824']\n",
       "68     DB04209      DPI  P98170  ['DB04209', 'P98170']\n",
       "143    DB10770      DPI  P17948  ['DB10770', 'P17948']\n",
       "...        ...      ...     ...                    ...\n",
       "25944   O95819      PPI  Q6ZN04   ['O95819', 'Q6ZN04']\n",
       "25950   Q13233      PPI  Q8IXQ3   ['Q13233', 'Q8IXQ3']\n",
       "26006   P41743      PPI  Q9Y520   ['P41743', 'Q9Y520']\n",
       "26067   P41743      PPI  Q9BRS8   ['P41743', 'Q9BRS8']\n",
       "26095   P09619      PPI  Q9BVQ7   ['P09619', 'Q9BVQ7']\n",
       "\n",
       "[140118 rows x 4 columns]"
      ]
     },
     "execution_count": 116,
     "metadata": {},
     "output_type": "execute_result"
    }
   ],
   "source": [
    "inductive_benchmarks"
   ]
  },
  {
   "cell_type": "code",
   "execution_count": 91,
   "metadata": {},
   "outputs": [
    {
     "data": {
      "text/plain": [
       "dec_expr                         88\n",
       "decrease_therapeutic_efficacy    45\n",
       "increase_hypoglycemia            45\n",
       "inc_expr                         38\n",
       "increase_hyperkalemia            11\n",
       "phosphorylates                    3\n",
       "DPI                               2\n",
       "Name: property, dtype: int64"
      ]
     },
     "execution_count": 91,
     "metadata": {},
     "output_type": "execute_result"
    }
   ],
   "source": [
    "get_property_counts(inductive_benchmark_pt3)"
   ]
  },
  {
   "cell_type": "code",
   "execution_count": 102,
   "metadata": {},
   "outputs": [
    {
     "data": {
      "text/html": [
       "<div>\n",
       "<style scoped>\n",
       "    .dataframe tbody tr th:only-of-type {\n",
       "        vertical-align: middle;\n",
       "    }\n",
       "\n",
       "    .dataframe tbody tr th {\n",
       "        vertical-align: top;\n",
       "    }\n",
       "\n",
       "    .dataframe thead th {\n",
       "        text-align: right;\n",
       "    }\n",
       "</style>\n",
       "<table border=\"1\" class=\"dataframe\">\n",
       "  <thead>\n",
       "    <tr style=\"text-align: right;\">\n",
       "      <th></th>\n",
       "      <th>left</th>\n",
       "      <th>property</th>\n",
       "      <th>right</th>\n",
       "      <th>combined</th>\n",
       "    </tr>\n",
       "  </thead>\n",
       "  <tbody>\n",
       "    <tr>\n",
       "      <th>13</th>\n",
       "      <td>DB11660</td>\n",
       "      <td>DPI</td>\n",
       "      <td>O94956</td>\n",
       "      <td>['DB11660', 'O94956']</td>\n",
       "    </tr>\n",
       "    <tr>\n",
       "      <th>20</th>\n",
       "      <td>DB02893</td>\n",
       "      <td>DPI</td>\n",
       "      <td>P50579</td>\n",
       "      <td>['DB02893', 'P50579']</td>\n",
       "    </tr>\n",
       "  </tbody>\n",
       "</table>\n",
       "</div>"
      ],
      "text/plain": [
       "       left property   right               combined\n",
       "13  DB11660      DPI  O94956  ['DB11660', 'O94956']\n",
       "20  DB02893      DPI  P50579  ['DB02893', 'P50579']"
      ]
     },
     "execution_count": 102,
     "metadata": {},
     "output_type": "execute_result"
    }
   ],
   "source": [
    "inductive_benchmarks.head(2)"
   ]
  },
  {
   "cell_type": "code",
   "execution_count": 34,
   "metadata": {},
   "outputs": [
    {
     "data": {
      "text/plain": [
       "DDI                            1148050\n",
       "PROTEIN_PATHWAY_ASSOCIATION     253610\n",
       "PPI                             114836\n",
       "PROTEIN_DISEASE_ASSOCIATION     109414\n",
       "MEMBER_OF_COMPLEX                87532\n",
       "DRUG_DISEASE_ASSOCIATION         67009\n",
       "COMPLEX_IN_PATHWAY               21359\n",
       "COMPLEX_TOP_LEVEL_PATHWAY        15809\n",
       "DPI                               8900\n",
       "DRUG_TARGET                       7217\n",
       "DRUG_PATHWAY_ASSOCIATION          5114\n",
       "DISEASE_GENETIC_DISORDER          4882\n",
       "RELATED_GENETIC_DISORDER          3923\n",
       "DISEASE_PATHWAY_ASSOCIATION       3546\n",
       "DRUG_ENZYME                        656\n",
       "DRUG_TRANSPORTER                   291\n",
       "DRUG_CARRIER                       114\n",
       "Name: property, dtype: int64"
      ]
     },
     "execution_count": 34,
     "metadata": {},
     "output_type": "execute_result"
    }
   ],
   "source": [
    "get_property_counts(biokg_without_benchmarks)"
   ]
  },
  {
   "cell_type": "code",
   "execution_count": 117,
   "metadata": {},
   "outputs": [],
   "source": [
    "# SAVE THE INDUCTIVE VERSION OF THE BENCHMARKS\n",
    "\n",
    "inductive_benchmarks.to_csv('inductive_benchmarks_15_03.csv', index=False, header=False)"
   ]
  },
  {
   "cell_type": "code",
   "execution_count": 118,
   "metadata": {},
   "outputs": [
    {
     "data": {
      "text/html": [
       "<div>\n",
       "<style scoped>\n",
       "    .dataframe tbody tr th:only-of-type {\n",
       "        vertical-align: middle;\n",
       "    }\n",
       "\n",
       "    .dataframe tbody tr th {\n",
       "        vertical-align: top;\n",
       "    }\n",
       "\n",
       "    .dataframe thead th {\n",
       "        text-align: right;\n",
       "    }\n",
       "</style>\n",
       "<table border=\"1\" class=\"dataframe\">\n",
       "  <thead>\n",
       "    <tr style=\"text-align: right;\">\n",
       "      <th></th>\n",
       "      <th>left</th>\n",
       "      <th>property</th>\n",
       "      <th>right</th>\n",
       "      <th>combined</th>\n",
       "    </tr>\n",
       "  </thead>\n",
       "  <tbody>\n",
       "    <tr>\n",
       "      <th>13</th>\n",
       "      <td>DB11660</td>\n",
       "      <td>DPI</td>\n",
       "      <td>O94956</td>\n",
       "      <td>['DB11660', 'O94956']</td>\n",
       "    </tr>\n",
       "    <tr>\n",
       "      <th>20</th>\n",
       "      <td>DB02893</td>\n",
       "      <td>DPI</td>\n",
       "      <td>P50579</td>\n",
       "      <td>['DB02893', 'P50579']</td>\n",
       "    </tr>\n",
       "    <tr>\n",
       "      <th>55</th>\n",
       "      <td>DB13998</td>\n",
       "      <td>DPI</td>\n",
       "      <td>P27824</td>\n",
       "      <td>['DB13998', 'P27824']</td>\n",
       "    </tr>\n",
       "    <tr>\n",
       "      <th>68</th>\n",
       "      <td>DB04209</td>\n",
       "      <td>DPI</td>\n",
       "      <td>P98170</td>\n",
       "      <td>['DB04209', 'P98170']</td>\n",
       "    </tr>\n",
       "    <tr>\n",
       "      <th>143</th>\n",
       "      <td>DB10770</td>\n",
       "      <td>DPI</td>\n",
       "      <td>P17948</td>\n",
       "      <td>['DB10770', 'P17948']</td>\n",
       "    </tr>\n",
       "    <tr>\n",
       "      <th>...</th>\n",
       "      <td>...</td>\n",
       "      <td>...</td>\n",
       "      <td>...</td>\n",
       "      <td>...</td>\n",
       "    </tr>\n",
       "    <tr>\n",
       "      <th>25944</th>\n",
       "      <td>O95819</td>\n",
       "      <td>PPI</td>\n",
       "      <td>Q6ZN04</td>\n",
       "      <td>['O95819', 'Q6ZN04']</td>\n",
       "    </tr>\n",
       "    <tr>\n",
       "      <th>25950</th>\n",
       "      <td>Q13233</td>\n",
       "      <td>PPI</td>\n",
       "      <td>Q8IXQ3</td>\n",
       "      <td>['Q13233', 'Q8IXQ3']</td>\n",
       "    </tr>\n",
       "    <tr>\n",
       "      <th>26006</th>\n",
       "      <td>P41743</td>\n",
       "      <td>PPI</td>\n",
       "      <td>Q9Y520</td>\n",
       "      <td>['P41743', 'Q9Y520']</td>\n",
       "    </tr>\n",
       "    <tr>\n",
       "      <th>26067</th>\n",
       "      <td>P41743</td>\n",
       "      <td>PPI</td>\n",
       "      <td>Q9BRS8</td>\n",
       "      <td>['P41743', 'Q9BRS8']</td>\n",
       "    </tr>\n",
       "    <tr>\n",
       "      <th>26095</th>\n",
       "      <td>P09619</td>\n",
       "      <td>PPI</td>\n",
       "      <td>Q9BVQ7</td>\n",
       "      <td>['P09619', 'Q9BVQ7']</td>\n",
       "    </tr>\n",
       "  </tbody>\n",
       "</table>\n",
       "<p>140118 rows × 4 columns</p>\n",
       "</div>"
      ],
      "text/plain": [
       "          left property   right               combined\n",
       "13     DB11660      DPI  O94956  ['DB11660', 'O94956']\n",
       "20     DB02893      DPI  P50579  ['DB02893', 'P50579']\n",
       "55     DB13998      DPI  P27824  ['DB13998', 'P27824']\n",
       "68     DB04209      DPI  P98170  ['DB04209', 'P98170']\n",
       "143    DB10770      DPI  P17948  ['DB10770', 'P17948']\n",
       "...        ...      ...     ...                    ...\n",
       "25944   O95819      PPI  Q6ZN04   ['O95819', 'Q6ZN04']\n",
       "25950   Q13233      PPI  Q8IXQ3   ['Q13233', 'Q8IXQ3']\n",
       "26006   P41743      PPI  Q9Y520   ['P41743', 'Q9Y520']\n",
       "26067   P41743      PPI  Q9BRS8   ['P41743', 'Q9BRS8']\n",
       "26095   P09619      PPI  Q9BVQ7   ['P09619', 'Q9BVQ7']\n",
       "\n",
       "[140118 rows x 4 columns]"
      ]
     },
     "execution_count": 118,
     "metadata": {},
     "output_type": "execute_result"
    }
   ],
   "source": [
    "inductive_benchmarks"
   ]
  },
  {
   "cell_type": "markdown",
   "metadata": {
    "pycharm": {
     "name": "#%% md\n"
    }
   },
   "source": [
    "All these could be kept to create an **inductive** version of the benchmarks.\n",
    "\n",
    "### An interesting observation on very similar entities\n",
    "\n",
    "One of the entities present in the benchmarks is `Q5ZL35`. It turns out\n",
    "that this entity has the same pairs in the benchmarks as `Q9NWB6`:"
   ]
  },
  {
   "cell_type": "code",
   "execution_count": 16,
   "metadata": {
    "pycharm": {
     "name": "#%%\n"
    }
   },
   "outputs": [
    {
     "data": {
      "text/plain": [
       "True"
      ]
     },
     "execution_count": 16,
     "metadata": {},
     "output_type": "execute_result"
    }
   ],
   "source": [
    "q5zl35_benchmarks = all_benchmarks[all_benchmarks['right'] == 'Q5ZL35'].sort_values(by='left', ignore_index=True)\n",
    "q9nwb6_benchmarks = all_benchmarks[all_benchmarks['right'] == 'Q9NWB6'].sort_values(by='left', ignore_index=True)\n",
    "q5zl35_benchmarks[['left', 'property']].equals(q9nwb6_benchmarks[['left', 'property']])"
   ]
  },
  {
   "cell_type": "markdown",
   "metadata": {
    "pycharm": {
     "name": "#%% md\n"
    }
   },
   "source": [
    "We could be tempted to say that these two entities are in fact the same,\n",
    "and the data contains duplicates, but this is not the case.\n",
    "\n",
    "They correspond to Arginine and glutamate-rich protein 1, but one of them\n",
    "is present in Chicken and the other in Humans. Even though they have the same\n",
    "pairs, their protein sequences are very different. These are their entries\n",
    "in Uniprot:\n",
    "\n",
    "- [Q5ZL35](https://www.uniprot.org/uniprotkb/Q5ZL35/entry)\n",
    "- [Q9NWB6](https://www.uniprot.org/uniprotkb/Q9NWB6/entry)\n",
    "\n",
    "This raises an interesting point about embedding these entities with\n",
    "knowledge graph embeddings: a method like ComplEx (based on the graph structure alone)\n",
    "wouldn't be able to distinguish between them, while incorporating their protein sequences could solve this."
   ]
  },
  {
   "cell_type": "markdown",
   "metadata": {
    "pycharm": {
     "name": "#%% md\n"
    }
   },
   "source": [
    "## Statistics of properties before and after removal\n",
    "\n",
    "We start by computing counts of relation types in the original BioKG, and in the clean version."
   ]
  },
  {
   "cell_type": "code",
   "execution_count": 18,
   "metadata": {
    "pycharm": {
     "name": "#%%\n"
    }
   },
   "outputs": [
    {
     "data": {
      "image/png": "[encoded data removed]",
      "text/plain": [
       "<Figure size 864x432 with 1 Axes>"
      ]
     },
     "metadata": {
      "needs_background": "light"
     },
     "output_type": "display_data"
    }
   ],
   "source": [
    "def get_property_counts(df):\n",
    "    return df['property'].value_counts()\n",
    "\n",
    "# Get counts for biokg_links and biokg_without_benchmarks\n",
    "biokg_links_property_counts = get_property_counts(biokg_links)\n",
    "biokg_without_benchmarks_property_counts = get_property_counts(biokg_without_benchmarks)\n",
    "# Merge into one dataframe\n",
    "before_and_after_counts = pd.concat([biokg_links_property_counts, biokg_without_benchmarks_property_counts], axis=1)\n",
    "before_and_after_counts.columns = ['before', 'after']\n",
    "before_and_after_counts.plot.barh(logx=True, grid=True, figsize=(12, 6));"
   ]
  },
  {
   "cell_type": "markdown",
   "metadata": {
    "pycharm": {
     "name": "#%% md\n"
    }
   },
   "source": [
    "We can see that the largest drop in the number of edges corresponds to the `DRUG_CARRIER` relation.\n",
    "\n",
    "Next we look at the entity counts before and after removal. We do this by visualizing a histogram of\n",
    "entity degrees."
   ]
  },
  {
   "cell_type": "code",
   "execution_count": 31,
   "metadata": {
    "pycharm": {
     "name": "#%%\n"
    }
   },
   "outputs": [
    {
     "data": {
      "image/png": "[encoded data removed]",
      "text/plain": [
       "<Figure size 432x288 with 1 Axes>"
      ]
     },
     "metadata": {
      "needs_background": "light"
     },
     "output_type": "display_data"
    }
   ],
   "source": [
    "def plot_degree_histogram(df, bins=50, label=None):\n",
    "    df_head_tails = pd.concat([df['left'], df['right']], axis=0)\n",
    "    df_head_tails.value_counts().plot(kind='hist', logy=True, bins=bins, grid=True, alpha=0.5, label=label, legend=True)\n",
    "\n",
    "plot_degree_histogram(biokg_links, label='before')\n",
    "plot_degree_histogram(biokg_without_benchmarks, label='after')"
   ]
  },
  {
   "cell_type": "markdown",
   "metadata": {
    "pycharm": {
     "name": "#%% md\n"
    }
   },
   "source": [
    "## Storing the cleaned version of BioKG\n",
    "\n",
    "We start with the clean version of BioKG, which is the one we will use for training, validation, and testing of the link prediction model."
   ]
  },
  {
   "cell_type": "code",
   "execution_count": 19,
   "metadata": {
    "pycharm": {
     "name": "#%%\n"
    }
   },
   "outputs": [],
   "source": [
    "output_dir = osp.join('..', 'data', 'biokgb')\n",
    "kg_output_dir = osp.join(output_dir, 'graph')\n",
    "if not osp.exists(kg_output_dir):\n",
    "    os.makedirs(kg_output_dir)\n",
    "\n",
    "biokg_without_benchmarks.to_csv(osp.join(kg_output_dir, 'biokg.links.csv'), sep='\\t', index=False, header=False)"
   ]
  },
  {
   "cell_type": "markdown",
   "metadata": {
    "pycharm": {
     "name": "#%% md\n"
    }
   },
   "source": [
    "## Storing the *transductive* version of the benchmarks\n",
    "\n",
    "Since we found out that after removing benchmarks pairs from BioKG, some entities were removed\n",
    "entirely from the graph, we will store versions of the benchmarks that only contain entities\n",
    "in the new version of BioKG."
   ]
  },
  {
   "cell_type": "code",
   "execution_count": 20,
   "metadata": {
    "pycharm": {
     "name": "#%%\n"
    }
   },
   "outputs": [
    {
     "name": "stdout",
     "output_type": "stream",
     "text": [
      "Benchmark               Before     After  Relative\n",
      "--------------------------------------------------\n",
      "dpi_fda.tsv             19,161    18,678     97.5%\n",
      "dep_fda_exp.tsv        929,077   800,961     86.2%\n",
      "ddi_efficacy.tsv       130,145   125,509     96.4%\n",
      "ddi_minerals.tsv        55,890    50,304     90.0%\n",
      "phosphorylation.tsv     26,103    24,549     94.0%\n"
     ]
    }
   ],
   "source": [
    "benchmarks_output_dir = osp.join(output_dir, 'benchmarks')\n",
    "if not osp.exists(benchmarks_output_dir):\n",
    "    os.makedirs(benchmarks_output_dir)\n",
    "\n",
    "print(f'{\"Benchmark\":<20}{\"Before\":>10}{\"After\":>10}{\"Relative\":>10}')\n",
    "print('-' * 50)\n",
    "\n",
    "for file in benchmark_files:\n",
    "    benchmark = load_benchmark_file(osp.join(benchmark_path, file))\n",
    "\n",
    "    transductive_benchmark = benchmark[benchmark['left'].isin(biokg_entities) & benchmark['right'].isin(biokg_entities)]\n",
    "    transductive_benchmark.to_csv(osp.join(benchmarks_output_dir, file), sep='\\t', index=False, header=False)\n",
    "\n",
    "    percentage_kept = len(transductive_benchmark) / len(benchmark)\n",
    "    print(f'{file:<20}{len(benchmark):>10,}{len(transductive_benchmark):>10,}{percentage_kept:>10.1%}')"
   ]
  }
 ],
 "metadata": {
  "kernelspec": {
   "display_name": "Python 3",
   "language": "python",
   "name": "python3"
  },
  "language_info": {
   "codemirror_mode": {
    "name": "ipython",
    "version": 3
   },
   "file_extension": ".py",
   "mimetype": "text/x-python",
   "name": "python",
   "nbconvert_exporter": "python",
   "pygments_lexer": "ipython3",
   "version": "3.8.5"
  }
 },
 "nbformat": 4,
 "nbformat_minor": 4
}
