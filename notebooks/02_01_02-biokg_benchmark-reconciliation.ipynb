{
 "cells": [
  {
   "cell_type": "code",
   "execution_count": 1,
   "id": "97ee430b",
   "metadata": {},
   "outputs": [],
   "source": [
    "%load_ext autoreload\n",
    "%autoreload 2"
   ]
  },
  {
   "cell_type": "code",
   "execution_count": 2,
   "id": "a8acba93",
   "metadata": {
    "tags": []
   },
   "outputs": [
    {
     "name": "stderr",
     "output_type": "stream",
     "text": [
      "/home/jovyan/.conda/envs/bioblp-env/lib/python3.8/site-packages/tqdm/auto.py:22: TqdmWarning: IProgress not found. Please update jupyter and ipywidgets. See https://ipywidgets.readthedocs.io/en/stable/user_install.html\n",
      "  from .autonotebook import tqdm as notebook_tqdm\n"
     ]
    }
   ],
   "source": [
    "import json\n",
    "import numpy as np\n",
    "import pandas as pd \n",
    "from pathlib import Path\n",
    "from bioblp.data import COL_EDGE, COL_SOURCE, COL_TARGET"
   ]
  },
  {
   "cell_type": "code",
   "execution_count": 3,
   "id": "41d7aa56",
   "metadata": {},
   "outputs": [],
   "source": [
    "DATA_DIR = Path(\"../data\")\n",
    "SHARED_DIR = Path(\"/home/jovyan/workbench-shared-folder/bioblp\")"
   ]
  },
  {
   "cell_type": "code",
   "execution_count": 4,
   "id": "e6b0fb9d-5e3f-44d8-a101-669ce65a9052",
   "metadata": {},
   "outputs": [
    {
     "name": "stdout",
     "output_type": "stream",
     "text": [
      "1baon0eg  iwy9z7m9\n"
     ]
    }
   ],
   "source": [
    "!ls {SHARED_DIR}/models"
   ]
  },
  {
   "cell_type": "markdown",
   "id": "2539a63a",
   "metadata": {
    "tags": []
   },
   "source": [
    "## Load benchmark"
   ]
  },
  {
   "cell_type": "markdown",
   "id": "3eebcb2e-3bc4-47ed-a34a-82e75d1cb4a7",
   "metadata": {},
   "source": [
    "#### Set paths"
   ]
  },
  {
   "cell_type": "code",
   "execution_count": 59,
   "id": "a035450e-3e30-4840-8979-174ef6962ec3",
   "metadata": {},
   "outputs": [],
   "source": [
    "DDR = 'bm_ddr'\n",
    "BIOKG = 'bm_biokg'\n",
    "BIOKG_TRANSD = 'bm_biokg_transductive'\n",
    "ALL = 'all'\n",
    "TRAIN  = 'train'\n",
    "TEST = 'test'\n",
    "VALID = 'valid'\n",
    "data_splits = [ALL, TRAIN, TEST, VALID]\n",
    "BM_TYPES = [BIOKG, DDR, BIOKG_TRANSD]"
   ]
  },
  {
   "cell_type": "code",
   "execution_count": 60,
   "id": "ec89e189-2a88-4f1b-8c9f-c972f7c88cba",
   "metadata": {},
   "outputs": [],
   "source": [
    "dpi_biokg_bm_path = SHARED_DIR.joinpath('data/benchmarks/dpi_fda.tsv') \n",
    "dpi_biokg_transductive_bm_path = SHARED_DIR.joinpath('data/benchmarks/transductive/dpi_fda.tsv') \n",
    "dpi_ddr_bm_path = SHARED_DIR.joinpath('data/benchmarks/ddr_dpi_fda.txt') \n",
    "BIOKG_GRAPH_PATHS = {ALL: DATA_DIR.joinpath('raw/biokg.links.tsv'),\n",
    "                     TRAIN: DATA_DIR.joinpath('raw/biokg_bm_splits/biokg.links-train.csv'),\n",
    "                     TEST: DATA_DIR.joinpath('raw/biokg_bm_splits/biokg.links-test.csv'),\n",
    "                     VALID: DATA_DIR.joinpath('raw/biokg_bm_splits/biokg.links-valid.csv'),\n",
    "}\n",
    "FDA_DPI_PATHS = {BIOKG: dpi_biokg_bm_path,\n",
    "                 DDR: dpi_ddr_bm_path,\n",
    "                 BIOKG_TRANSD: dpi_biokg_transductive_bm_path }"
   ]
  },
  {
   "cell_type": "code",
   "execution_count": 61,
   "id": "94867524-2f7d-4341-9c42-a79cd833d092",
   "metadata": {},
   "outputs": [],
   "source": [
    "def describe_dpi_dataset(df):\n",
    "    dpi_drugs_unique = list(df[COL_SOURCE].unique())\n",
    "    dpi_prots_unique = list(df[COL_TARGET].unique())\n",
    "    print(f'# Unique dpi instances (TP): {len(df)}')\n",
    "    print(f'# Unique Drugs: {len(dpi_drugs_unique)}')\n",
    "    print(f'# Unique Proteins: {len(dpi_prots_unique)}\\n')"
   ]
  },
  {
   "cell_type": "markdown",
   "id": "0c8798d9-e56c-4ed7-9565-8d03a6498e1d",
   "metadata": {},
   "source": [
    "#### Load benchmarks and graphs (as DFs)"
   ]
  },
  {
   "cell_type": "markdown",
   "id": "14ae176a-5d5d-4ef9-a6a5-89b79f18ae4d",
   "metadata": {},
   "source": [
    "Let's load them graphs"
   ]
  },
  {
   "cell_type": "code",
   "execution_count": 62,
   "id": "0e5404e3-e4a8-47ca-b805-bcdd36790df9",
   "metadata": {},
   "outputs": [],
   "source": [
    "col_headers = [COL_SOURCE, COL_EDGE, COL_TARGET]\n",
    "biokg_graphs = {}\n",
    "\n",
    "for split in data_splits:\n",
    "    biokg_graphs[split] = pd.read_csv(BIOKG_GRAPH_PATHS[split], sep=\"\\t\", names=col_headers)"
   ]
  },
  {
   "cell_type": "code",
   "execution_count": 63,
   "id": "b67b68d3-61da-473f-9efe-9db89b429679",
   "metadata": {
    "tags": []
   },
   "outputs": [
    {
     "name": "stderr",
     "output_type": "stream",
     "text": [
      "/tmp/ipykernel_2061/1848220537.py:4: SettingWithCopyWarning: \n",
      "A value is trying to be set on a copy of a slice from a DataFrame.\n",
      "Try using .loc[row_indexer,col_indexer] = value instead\n",
      "\n",
      "See the caveats in the documentation: https://pandas.pydata.org/pandas-docs/stable/user_guide/indexing.html#returning-a-view-versus-a-copy\n",
      "  biokg_graphs_dpi[split]['key'] = list(zip(biokg_graphs_dpi[split].src, biokg_graphs_dpi[split].tgt))\n",
      "/tmp/ipykernel_2061/1848220537.py:4: SettingWithCopyWarning: \n",
      "A value is trying to be set on a copy of a slice from a DataFrame.\n",
      "Try using .loc[row_indexer,col_indexer] = value instead\n",
      "\n",
      "See the caveats in the documentation: https://pandas.pydata.org/pandas-docs/stable/user_guide/indexing.html#returning-a-view-versus-a-copy\n",
      "  biokg_graphs_dpi[split]['key'] = list(zip(biokg_graphs_dpi[split].src, biokg_graphs_dpi[split].tgt))\n",
      "/tmp/ipykernel_2061/1848220537.py:4: SettingWithCopyWarning: \n",
      "A value is trying to be set on a copy of a slice from a DataFrame.\n",
      "Try using .loc[row_indexer,col_indexer] = value instead\n",
      "\n",
      "See the caveats in the documentation: https://pandas.pydata.org/pandas-docs/stable/user_guide/indexing.html#returning-a-view-versus-a-copy\n",
      "  biokg_graphs_dpi[split]['key'] = list(zip(biokg_graphs_dpi[split].src, biokg_graphs_dpi[split].tgt))\n",
      "/tmp/ipykernel_2061/1848220537.py:4: SettingWithCopyWarning: \n",
      "A value is trying to be set on a copy of a slice from a DataFrame.\n",
      "Try using .loc[row_indexer,col_indexer] = value instead\n",
      "\n",
      "See the caveats in the documentation: https://pandas.pydata.org/pandas-docs/stable/user_guide/indexing.html#returning-a-view-versus-a-copy\n",
      "  biokg_graphs_dpi[split]['key'] = list(zip(biokg_graphs_dpi[split].src, biokg_graphs_dpi[split].tgt))\n"
     ]
    }
   ],
   "source": [
    "biokg_graphs_dpi = {}\n",
    "for split in data_splits:\n",
    "    biokg_graphs_dpi[split] = biokg_graphs[split][biokg_graphs[split][COL_EDGE]=='DPI']\n",
    "    biokg_graphs_dpi[split]['key'] = list(zip(biokg_graphs_dpi[split].src, biokg_graphs_dpi[split].tgt))\n"
   ]
  },
  {
   "cell_type": "code",
   "execution_count": 64,
   "id": "d3312548-df24-4f6e-b3e7-6ad580868dfe",
   "metadata": {
    "tags": []
   },
   "outputs": [
    {
     "name": "stdout",
     "output_type": "stream",
     "text": [
      "DPIs in split `all` of biokg graph\n",
      "# Unique dpi instances (TP): 28061\n",
      "# Unique Drugs: 6842\n",
      "# Unique Proteins: 3672\n",
      "\n",
      "DPIs in split `train` of biokg graph\n",
      "# Unique dpi instances (TP): 7860\n",
      "# Unique Drugs: 4483\n",
      "# Unique Proteins: 2085\n",
      "\n",
      "DPIs in split `test` of biokg graph\n",
      "# Unique dpi instances (TP): 527\n",
      "# Unique Drugs: 381\n",
      "# Unique Proteins: 378\n",
      "\n",
      "DPIs in split `valid` of biokg graph\n",
      "# Unique dpi instances (TP): 513\n",
      "# Unique Drugs: 370\n",
      "# Unique Proteins: 366\n",
      "\n"
     ]
    }
   ],
   "source": [
    "for split in data_splits:\n",
    "    print(f'DPIs in split `{split}` of biokg graph')\n",
    "    describe_dpi_dataset(biokg_graphs_dpi[split])\n"
   ]
  },
  {
   "cell_type": "markdown",
   "id": "10bd953f-8efb-41d6-bdba-a4e9174e7b66",
   "metadata": {},
   "source": [
    "Now, there are 2 FDA DPI benchmark datasets:\n",
    "1. Biokg's FDA_DPI benchmark dataset\n",
    "2. DDR's version of FDA_DPI: https://academic.oup.com/bioinformatics/article/34/7/1164/4657065"
   ]
  },
  {
   "cell_type": "code",
   "execution_count": 65,
   "id": "f2182501",
   "metadata": {},
   "outputs": [
    {
     "data": {
      "text/html": [
       "<div>\n",
       "<style scoped>\n",
       "    .dataframe tbody tr th:only-of-type {\n",
       "        vertical-align: middle;\n",
       "    }\n",
       "\n",
       "    .dataframe tbody tr th {\n",
       "        vertical-align: top;\n",
       "    }\n",
       "\n",
       "    .dataframe thead th {\n",
       "        text-align: right;\n",
       "    }\n",
       "</style>\n",
       "<table border=\"1\" class=\"dataframe\">\n",
       "  <thead>\n",
       "    <tr style=\"text-align: right;\">\n",
       "      <th></th>\n",
       "      <th>src</th>\n",
       "      <th>edg</th>\n",
       "      <th>tgt</th>\n",
       "      <th>key</th>\n",
       "    </tr>\n",
       "  </thead>\n",
       "  <tbody>\n",
       "    <tr>\n",
       "      <th>0</th>\n",
       "      <td>DB01079</td>\n",
       "      <td>DPI</td>\n",
       "      <td>Q13639</td>\n",
       "      <td>(DB01079, Q13639)</td>\n",
       "    </tr>\n",
       "    <tr>\n",
       "      <th>1</th>\n",
       "      <td>DB00114</td>\n",
       "      <td>DPI</td>\n",
       "      <td>P20711</td>\n",
       "      <td>(DB00114, P20711)</td>\n",
       "    </tr>\n",
       "    <tr>\n",
       "      <th>2</th>\n",
       "      <td>DB01158</td>\n",
       "      <td>DPI</td>\n",
       "      <td>P13637</td>\n",
       "      <td>(DB01158, P13637)</td>\n",
       "    </tr>\n",
       "  </tbody>\n",
       "</table>\n",
       "</div>"
      ],
      "text/plain": [
       "       src  edg     tgt                key\n",
       "0  DB01079  DPI  Q13639  (DB01079, Q13639)\n",
       "1  DB00114  DPI  P20711  (DB00114, P20711)\n",
       "2  DB01158  DPI  P13637  (DB01158, P13637)"
      ]
     },
     "execution_count": 65,
     "metadata": {},
     "output_type": "execute_result"
    }
   ],
   "source": [
    "# biokg FDA_DPI benchmark dataset\n",
    "def load_dpi_benchmark(bm_types):\n",
    "    DPI_BENCHMARKS = {}\n",
    "    for bm_type in bm_types:\n",
    "        if bm_type == DDR:\n",
    "            df = pd.read_csv(FDA_DPI_PATHS[bm_type], sep='\\t', names=[COL_SOURCE, COL_TARGET]).drop_duplicates()\n",
    "            df[COL_EDGE] = 'DPI'\n",
    "        else:\n",
    "            df = pd.read_csv(FDA_DPI_PATHS[bm_type], sep='\\t', names=[COL_SOURCE, COL_EDGE, COL_TARGET]).drop_duplicates()\n",
    "        df['key'] = list(zip(df.src, df.tgt))\n",
    "        DPI_BENCHMARKS[bm_type] = df\n",
    "    return DPI_BENCHMARKS\n",
    "\n",
    "dpi_benchmarks = load_dpi_benchmark(BM_TYPES)\n",
    "dpi_benchmarks[BIOKG].head(3)"
   ]
  },
  {
   "cell_type": "code",
   "execution_count": 66,
   "id": "4fd38a74-81b0-46d2-9624-bd0248c5bb79",
   "metadata": {},
   "outputs": [
    {
     "name": "stdout",
     "output_type": "stream",
     "text": [
      "# Unique dpi instances (TP): 19161\n",
      "# Unique Drugs: 2286\n",
      "# Unique Proteins: 2705\n",
      "\n",
      "# Unique dpi instances (TP): 9881\n",
      "# Unique Drugs: 1482\n",
      "# Unique Proteins: 1408\n",
      "\n",
      "# Unique dpi instances (TP): 18678\n",
      "# Unique Drugs: 2167\n",
      "# Unique Proteins: 2573\n",
      "\n"
     ]
    }
   ],
   "source": [
    "for bm_type in BM_TYPES:\n",
    "    describe_dpi_dataset(dpi_benchmarks[bm_type])"
   ]
  },
  {
   "cell_type": "markdown",
   "id": "08cefd12-ced3-4619-938c-c6a996037c63",
   "metadata": {},
   "source": [
    "sanity check our biokg dpi_fda set"
   ]
  },
  {
   "cell_type": "markdown",
   "id": "6db252f5-52cb-4a4e-a1cf-f71dab965e29",
   "metadata": {},
   "source": [
    "#### What's missing and what's not\n",
    "Check coverage and distribution of benchmark DTI triples, and entities, across the biokg graphs, both pre and post benchmark separation"
   ]
  },
  {
   "cell_type": "code",
   "execution_count": 67,
   "id": "6c70fa90-2ea0-4daa-96b8-86f0a1f3c2ea",
   "metadata": {},
   "outputs": [],
   "source": [
    "dpi_drugs = {BIOKG: set(dpi_benchmarks[BIOKG].src.values),\n",
    "             BIOKG_TRANSD: set(dpi_benchmarks[BIOKG_TRANSD].src.values),\n",
    "            DDR: set(dpi_benchmarks[DDR].src.values),\n",
    "            f'{TRAIN}_dpi': set(biokg_graphs_dpi[TRAIN].src.values),\n",
    "            f'{ALL}_dpi': set(biokg_graphs_dpi[ALL].src.values),\n",
    "}\n",
    "\n",
    "dpi_prots = {BIOKG: set(dpi_benchmarks[BIOKG].tgt.values),\n",
    "             BIOKG_TRANSD: set(dpi_benchmarks[BIOKG_TRANSD].tgt.values),\n",
    "            DDR: set(dpi_benchmarks[DDR].tgt.values),\n",
    "            f'{TRAIN}_dpi': set(biokg_graphs_dpi[TRAIN].tgt.values),\n",
    "            f'{ALL}_dpi': set(biokg_graphs_dpi[ALL].tgt.values),\n",
    "}\n",
    "\n",
    "all_ents = {TRAIN: set(biokg_graphs[TRAIN].src.unique()).union(set(biokg_graphs[TRAIN].tgt.unique())),\n",
    "            ALL: set(biokg_graphs[ALL].src.unique()).union(set(biokg_graphs[ALL].tgt.unique())),\n",
    "}"
   ]
  },
  {
   "cell_type": "code",
   "execution_count": null,
   "id": "9345f231-8943-4f3f-8811-265ab6364b0b",
   "metadata": {},
   "outputs": [],
   "source": []
  },
  {
   "cell_type": "code",
   "execution_count": 68,
   "id": "8168b13b-7225-418a-943a-74ecc9de61f4",
   "metadata": {},
   "outputs": [
    {
     "data": {
      "text/plain": [
       "[('bm_biokg', 2286),\n",
       " ('bm_biokg_transductive', 2167),\n",
       " ('bm_ddr', 1482),\n",
       " ('train_dpi', 4483),\n",
       " ('all_dpi', 6842)]"
      ]
     },
     "execution_count": 68,
     "metadata": {},
     "output_type": "execute_result"
    }
   ],
   "source": [
    "[(k,len(v)) for k,v in dpi_drugs.items()]"
   ]
  },
  {
   "cell_type": "code",
   "execution_count": 70,
   "id": "f041795a-da8d-4db9-90e2-6f728eadd493",
   "metadata": {},
   "outputs": [
    {
     "data": {
      "text/plain": [
       "[('train', 106047), ('all', 106337)]"
      ]
     },
     "execution_count": 70,
     "metadata": {},
     "output_type": "execute_result"
    }
   ],
   "source": [
    "[(k,len(v)) for k,v in all_ents.items()]"
   ]
  },
  {
   "cell_type": "markdown",
   "id": "f3a781fa-3c58-43a5-a866-bc4c5186a836",
   "metadata": {},
   "source": [
    "1. Assert that biokg_full_graph drug/prot entities form a superset of entities in train dpis, and bm dpis"
   ]
  },
  {
   "cell_type": "code",
   "execution_count": 73,
   "id": "127c55dd-10f5-4d5a-8757-24993323716c",
   "metadata": {},
   "outputs": [],
   "source": [
    "def assert_tallies(given_slice = BIOKG):\n",
    "    print(f'From Amongst entities from {given_slice} benchmark:')\n",
    "    for data_slice in dpi_prots.keys():\n",
    "        if data_slice == given_slice:\n",
    "            next\n",
    "        else:\n",
    "            print(f'# Unseen drugs in {data_slice}: {len(dpi_drugs[given_slice].difference(dpi_drugs[data_slice]))}')\n",
    "            print(f'# Unseen proteins in {data_slice}: {len(dpi_prots[given_slice].difference(dpi_prots[data_slice]))}')\n",
    "    for graph_type, unique_ent_set in all_ents.items():\n",
    "        print(f'# Unseen drugs in {graph_type}: {len(dpi_drugs[given_slice].difference(unique_ent_set))}')\n",
    "        print(f'# Unseen proteins in {graph_type}: {len(dpi_prots[given_slice].difference(unique_ent_set))}')\n",
    "\n"
   ]
  },
  {
   "cell_type": "code",
   "execution_count": 74,
   "id": "798f77e6-3a71-4d81-a605-c03f90ee1efb",
   "metadata": {},
   "outputs": [
    {
     "name": "stdout",
     "output_type": "stream",
     "text": [
      "From Amongst entities from bm_ddr benchmark:\n",
      "# Unseen drugs in bm_biokg: 100\n",
      "# Unseen proteins in bm_biokg: 67\n",
      "# Unseen drugs in bm_biokg_transductive: 113\n",
      "# Unseen proteins in bm_biokg_transductive: 81\n",
      "# Unseen drugs in train_dpi: 1394\n",
      "# Unseen proteins in train_dpi: 565\n",
      "# Unseen drugs in all_dpi: 9\n",
      "# Unseen proteins in all_dpi: 2\n",
      "# Unseen drugs in train: 16\n",
      "# Unseen proteins in train: 13\n",
      "# Unseen drugs in all: 3\n",
      "# Unseen proteins in all: 1\n"
     ]
    }
   ],
   "source": [
    "assert_tallies(given_slice=DDR)"
   ]
  },
  {
   "cell_type": "code",
   "execution_count": 75,
   "id": "f1ffc68b-9f75-4ff2-98bb-c74bd5b21a58",
   "metadata": {},
   "outputs": [
    {
     "name": "stdout",
     "output_type": "stream",
     "text": [
      "From Amongst entities from bm_biokg benchmark:\n",
      "# Unseen drugs in bm_biokg_transductive: 119\n",
      "# Unseen proteins in bm_biokg_transductive: 132\n",
      "# Unseen drugs in bm_ddr: 904\n",
      "# Unseen proteins in bm_ddr: 1364\n",
      "# Unseen drugs in train_dpi: 2286\n",
      "# Unseen proteins in train_dpi: 1520\n",
      "# Unseen drugs in all_dpi: 0\n",
      "# Unseen proteins in all_dpi: 0\n",
      "# Unseen drugs in train: 110\n",
      "# Unseen proteins in train: 96\n",
      "# Unseen drugs in all: 0\n",
      "# Unseen proteins in all: 0\n"
     ]
    }
   ],
   "source": [
    "assert_tallies(given_slice=BIOKG)"
   ]
  },
  {
   "cell_type": "code",
   "execution_count": 76,
   "id": "c2eadb64-0d37-49a0-9a6e-f1e92ecfaccf",
   "metadata": {},
   "outputs": [
    {
     "name": "stdout",
     "output_type": "stream",
     "text": [
      "From Amongst entities from bm_biokg_transductive benchmark:\n",
      "# Unseen drugs in bm_biokg: 0\n",
      "# Unseen proteins in bm_biokg: 0\n",
      "# Unseen drugs in bm_ddr: 798\n",
      "# Unseen proteins in bm_ddr: 1246\n",
      "# Unseen drugs in train_dpi: 2167\n",
      "# Unseen proteins in train_dpi: 1401\n",
      "# Unseen drugs in all_dpi: 0\n",
      "# Unseen proteins in all_dpi: 0\n",
      "# Unseen drugs in train: 0\n",
      "# Unseen proteins in train: 0\n",
      "# Unseen drugs in all: 0\n",
      "# Unseen proteins in all: 0\n"
     ]
    }
   ],
   "source": [
    "assert_tallies(given_slice=BIOKG_TRANSD)"
   ]
  },
  {
   "cell_type": "code",
   "execution_count": 78,
   "id": "563e09ff-80d4-4f87-ac59-fa195dc74607",
   "metadata": {},
   "outputs": [
    {
     "data": {
      "text/plain": [
       "(110, 96)"
      ]
     },
     "execution_count": 78,
     "metadata": {},
     "output_type": "execute_result"
    }
   ],
   "source": [
    "inductive_biokg_dpi_drugs = list(dpi_drugs[BIOKG].difference(all_ents[TRAIN]))\n",
    "inductive_biokg_dpi_prots = list(dpi_prots[BIOKG].difference(all_ents[TRAIN]))\n",
    "len(inductive_biokg_dpi_drugs), len(inductive_biokg_dpi_prots)"
   ]
  },
  {
   "cell_type": "code",
   "execution_count": 79,
   "id": "6884a874-7ff8-4d32-9334-8b155f5ee8c5",
   "metadata": {},
   "outputs": [],
   "source": [
    "inductive_dpi_drugs_path = DATA_DIR.joinpath('benchmarks/inductive_fda_dpi_drugs.json')\n",
    "inductive_dpi_prots_path = DATA_DIR.joinpath('benchmarks/inductive_fda_dpi_prots.json')\n",
    "\n",
    "with open(inductive_dpi_drugs_path, 'w+') as f:\n",
    "    json.dump(inductive_biokg_dpi_drugs, f)\n",
    "    \n",
    "with open(inductive_dpi_prots_path, 'w+') as f:\n",
    "    json.dump(inductive_biokg_dpi_prots, f)"
   ]
  },
  {
   "cell_type": "markdown",
   "id": "e5d96733-5709-4ded-b235-13dfb3d211e6",
   "metadata": {},
   "source": [
    "Let's check the overlap/spread of the benchmark triples across the graphs"
   ]
  },
  {
   "cell_type": "code",
   "execution_count": 80,
   "id": "b00885f6-3f06-4109-9a75-24e1368ec916",
   "metadata": {},
   "outputs": [
    {
     "data": {
      "text/plain": [
       "(19161, 9881, 28061)"
      ]
     },
     "execution_count": 80,
     "metadata": {},
     "output_type": "execute_result"
    }
   ],
   "source": [
    "biokg_graphs[ALL]['key'] = list(zip(biokg_graphs[ALL].src.values, biokg_graphs[ALL].tgt.values))\n",
    "bm_biokg_dpi_pairs = set(dpi_benchmarks[BIOKG]['key'].values)\n",
    "bm_biokg_transd_dpi_pairs = set(dpi_benchmarks[BIOKG_TRANSD]['key'].values)\n",
    "bm_ddr_dpi_pairs = set(dpi_benchmarks[DDR]['key'].values)\n",
    "biokg_all_dpi_pairs = set(biokg_graphs_dpi[ALL]['key'].values)\n",
    "biokg_train_dpi_pairs = set(biokg_graphs_dpi[TRAIN]['key'].values)\n",
    "len(bm_biokg_dpi_pairs), len(bm_ddr_dpi_pairs), len(biokg_all_dpi_pairs)"
   ]
  },
  {
   "cell_type": "code",
   "execution_count": 143,
   "id": "e84d31aa-9494-4a05-9c95-7e38274351e7",
   "metadata": {},
   "outputs": [],
   "source": [
    "num_ddr_bm_pairs = len(bm_ddr_dpi_pairs)\n",
    "unseen_ddr_in_biokg_bm = len(bm_ddr_dpi_pairs.difference(bm_biokg_dpi_pairs))\n",
    "unseen_ddr_in_train_set = len(bm_ddr_dpi_pairs.difference(biokg_train_dpi_pairs))\n",
    "unseen_ddr_in_all_biokg = len(bm_ddr_dpi_pairs.difference(biokg_all_dpi_pairs))"
   ]
  },
  {
   "cell_type": "code",
   "execution_count": 185,
   "id": "97d7447f-d072-4a50-9bd4-a8adda52b166",
   "metadata": {
    "tags": []
   },
   "outputs": [
    {
     "name": "stdout",
     "output_type": "stream",
     "text": [
      "# DPI triples in DDR benchmark: 9881\n",
      "Proportion of DDR DPI triples unseen in biokg bm DPI set: 1199 Triples OR 12.13%\n",
      "Proportion of DDR DPI triples unseen in train biokg: 9523 Triples OR 96.38%\n",
      "Proportion of DDR DPI pairs unseen in superset biokg: 751 Triples OR 7.60%\n"
     ]
    }
   ],
   "source": [
    "print(f'# DPI triples in DDR benchmark: {len(bm_ddr_dpi_pairs)}')\n",
    "print('Proportion of DDR DPI triples unseen in biokg bm DPI set: {} Triples OR {:.2f}%'.format(unseen_ddr_in_biokg_bm, unseen_ddr_in_biokg_bm/num_ddr_bm_pairs*100))\n",
    "print('Proportion of DDR DPI triples unseen in train biokg: {} Triples OR {:.2f}%'.format(unseen_ddr_in_train_set, unseen_ddr_in_train_set/num_ddr_bm_pairs*100))\n",
    "print('Proportion of DDR DPI pairs unseen in superset biokg: {} Triples OR {:.2f}%'.format(unseen_ddr_in_all_biokg, unseen_ddr_in_all_biokg/num_ddr_bm_pairs*100))"
   ]
  },
  {
   "cell_type": "markdown",
   "id": "d462b691-0f17-4754-ba5b-1ae399feb78d",
   "metadata": {},
   "source": [
    "**From the above we see that DDR DPI benchmark is NOT a complete subset of BIOKG DPI benchmark**"
   ]
  },
  {
   "cell_type": "code",
   "execution_count": 81,
   "id": "0eae2459-8505-4033-bfeb-2b4c92501212",
   "metadata": {},
   "outputs": [],
   "source": [
    "num_biokg_bm_pairs = len(bm_biokg_dpi_pairs)\n",
    "unseen_biokg_bm_in_ddr_bm = len(bm_biokg_dpi_pairs.difference(bm_ddr_dpi_pairs))\n",
    "unseen_biokg_bm_in_train_set = len(bm_biokg_dpi_pairs.difference(biokg_train_dpi_pairs))\n",
    "unseen_biokg_bm_in_all_biokg = len(bm_biokg_dpi_pairs.difference(biokg_all_dpi_pairs))"
   ]
  },
  {
   "cell_type": "code",
   "execution_count": 87,
   "id": "7d61e84d-fa2e-41ba-ad27-64113c483a8c",
   "metadata": {
    "tags": []
   },
   "outputs": [
    {
     "name": "stdout",
     "output_type": "stream",
     "text": [
      "# DPI triples in Biokg DPI benchmark: 19161\n",
      "Proportion of Biokg Benchmark DPI pairs unseen in DDR bm DPI set: 10479 Triples OR 54.69%\n",
      "Proportion of Biokg Benchmark DPI pairs unseen in train biokg: 19161 Triples OR 100.00%\n",
      "Proportion of Biokg Benchmark DPI pairs unseen in superset biokg: 0 Triples OR 0.00%\n"
     ]
    }
   ],
   "source": [
    "print(f'# DPI triples in Biokg DPI benchmark: {num_biokg_bm_pairs}')\n",
    "print('Proportion of Biokg Benchmark DPI pairs unseen in DDR bm DPI set: {} Triples OR {:.2f}%'.format(unseen_biokg_bm_in_ddr_bm, unseen_biokg_bm_in_ddr_bm/num_biokg_bm_pairs*100))\n",
    "print('Proportion of Biokg Benchmark DPI pairs unseen in train biokg: {} Triples OR {:.2f}%'.format(unseen_biokg_bm_in_train_set, unseen_biokg_bm_in_train_set/num_biokg_bm_pairs*100))\n",
    "print('Proportion of Biokg Benchmark DPI pairs unseen in superset biokg: {} Triples OR {:.2f}%'.format(unseen_biokg_bm_in_all_biokg, unseen_biokg_bm_in_all_biokg/num_biokg_bm_pairs*100))\n"
   ]
  },
  {
   "cell_type": "markdown",
   "id": "bc6d856b-b283-4aa1-9593-eb73834a1d56",
   "metadata": {},
   "source": [
    "`Note`: We want 100% of benchmark test triples to be unseen by train set (i.e., null intersection). However, we commonly want all the test entities to be seen at the time if training. This is so that trained models such as Complex, RotatE, etc can learn embeddings for these entties without which they would not be able to predict links concering these entities at test time. This is `transductive` setting. \n",
    "\n",
    "\n",
    "However, it would be cool to be able to test all trained Link prediction models on their ability to predict links on new 'unseeen-during-training' entities. This is the indictive setting. From an above analysis we see that not all drugs/proteins from the test set (dpi benchmarks) are present in the training sets. These can form an inductive test set."
   ]
  },
  {
   "cell_type": "markdown",
   "id": "ceba8b46-eb11-4c60-b687-f8edf0a13c6a",
   "metadata": {},
   "source": [
    "### Tranductive DPI benchmark \n",
    "(`Transductive to BioKG-sans-benchmarks`)"
   ]
  },
  {
   "cell_type": "code",
   "execution_count": null,
   "id": "4f58e70a-7858-441b-9029-22e6c8edf8ff",
   "metadata": {},
   "outputs": [],
   "source": [
    "num_biokg_transd_bm_pairs = len(bm_biokg_transd_dpi_pairs)\n",
    "unseen_biokg_transd_bm_in_ddr_bm = len(bm_biokg_transd_dpi_pairs.difference(bm_ddr_dpi_pairs))\n",
    "unseen_biokg_transd_bm_in_train_set = len(bm_biokg_transd_dpi_pairs.difference(biokg_train_dpi_pairs))\n",
    "unseen_biokg_transd_bm_in_all_biokg = len(bm_biokg_transd_dpi_pairs.difference(biokg_all_dpi_pairs))"
   ]
  },
  {
   "cell_type": "code",
   "execution_count": 86,
   "id": "22731672-23a8-427c-aa54-6ec1cfbcdcc7",
   "metadata": {},
   "outputs": [
    {
     "name": "stdout",
     "output_type": "stream",
     "text": [
      "# DPI triples in biokg transductive DPI benchmark: 18678\n",
      "Proportion of Biokg-Transductive Benchmark DPI pairs unseen in DDR bm DPI set: 10031 Triples OR 53.70%\n",
      "Proportion of Biokg-Transductive Benchmark DPI pairs unseen in train biokg: 18678 Triples OR 100.00%\n",
      "Proportion of Biokg-Transductive Benchmark DPI pairs unseen in superset biokg: 0 Triples OR 0.00%\n"
     ]
    }
   ],
   "source": [
    "print(f'# DPI triples in biokg transductive DPI benchmark: {num_biokg_transd_bm_pairs}')\n",
    "print('Proportion of Biokg-Transductive Benchmark DPI pairs unseen in DDR bm DPI set: {} Triples OR {:.2f}%'.format(unseen_biokg_transd_bm_in_ddr_bm, unseen_biokg_transd_bm_in_ddr_bm/num_biokg_transd_bm_pairs*100))\n",
    "print('Proportion of Biokg-Transductive Benchmark DPI pairs unseen in train biokg: {} Triples OR {:.2f}%'.format(unseen_biokg_transd_bm_in_train_set, unseen_biokg_transd_bm_in_train_set/num_biokg_transd_bm_pairs*100))\n",
    "print('Proportion of Biokg-Transductive Benchmark DPI pairs unseen in superset biokg: {} Triples OR {:.2f}%'.format(unseen_biokg_transd_bm_in_all_biokg, unseen_biokg_transd_bm_in_all_biokg/num_biokg_transd_bm_pairs*100))\n"
   ]
  },
  {
   "cell_type": "markdown",
   "id": "27bf7bbc-4075-40b4-b10e-f99a82e89cde",
   "metadata": {
    "tags": []
   },
   "source": [
    "### What about within the other benchmark datasets?\n"
   ]
  },
  {
   "cell_type": "code",
   "execution_count": 187,
   "id": "85530032-3e2b-462c-9fbd-27faf4b29f51",
   "metadata": {},
   "outputs": [
    {
     "name": "stdout",
     "output_type": "stream",
     "text": [
      "There are 1,129,439 pairs in the merged benchmarks.\n"
     ]
    },
    {
     "data": {
      "text/html": [
       "<div>\n",
       "<style scoped>\n",
       "    .dataframe tbody tr th:only-of-type {\n",
       "        vertical-align: middle;\n",
       "    }\n",
       "\n",
       "    .dataframe tbody tr th {\n",
       "        vertical-align: top;\n",
       "    }\n",
       "\n",
       "    .dataframe thead th {\n",
       "        text-align: right;\n",
       "    }\n",
       "</style>\n",
       "<table border=\"1\" class=\"dataframe\">\n",
       "  <thead>\n",
       "    <tr style=\"text-align: right;\">\n",
       "      <th></th>\n",
       "      <th>src</th>\n",
       "      <th>edg</th>\n",
       "      <th>tgt</th>\n",
       "    </tr>\n",
       "  </thead>\n",
       "  <tbody>\n",
       "    <tr>\n",
       "      <th>0</th>\n",
       "      <td>DB00977</td>\n",
       "      <td>inc_expr</td>\n",
       "      <td>Q8R2H1</td>\n",
       "    </tr>\n",
       "    <tr>\n",
       "      <th>1</th>\n",
       "      <td>DB00996</td>\n",
       "      <td>inc_expr</td>\n",
       "      <td>Q5R4C1</td>\n",
       "    </tr>\n",
       "    <tr>\n",
       "      <th>2</th>\n",
       "      <td>DB01109</td>\n",
       "      <td>inc_expr</td>\n",
       "      <td>P25106</td>\n",
       "    </tr>\n",
       "    <tr>\n",
       "      <th>3</th>\n",
       "      <td>DB00499</td>\n",
       "      <td>inc_expr</td>\n",
       "      <td>Q7JZM8</td>\n",
       "    </tr>\n",
       "    <tr>\n",
       "      <th>4</th>\n",
       "      <td>DB13323</td>\n",
       "      <td>inc_expr</td>\n",
       "      <td>Q9R1R0</td>\n",
       "    </tr>\n",
       "  </tbody>\n",
       "</table>\n",
       "</div>"
      ],
      "text/plain": [
       "       src       edg     tgt\n",
       "0  DB00977  inc_expr  Q8R2H1\n",
       "1  DB00996  inc_expr  Q5R4C1\n",
       "2  DB01109  inc_expr  P25106\n",
       "3  DB00499  inc_expr  Q7JZM8\n",
       "4  DB13323  inc_expr  Q9R1R0"
      ]
     },
     "execution_count": 187,
     "metadata": {},
     "output_type": "execute_result"
    }
   ],
   "source": [
    "benchmark_path =SHARED_DIR.joinpath('data/benchmarks/')\n",
    "benchmark_files = [#'dpi_fda.tsv',\n",
    "                   'dep_fda_exp.tsv',\n",
    "                   'ddi_efficacy.tsv',\n",
    "                   'ddi_minerals.tsv',\n",
    "                   'phosphorylation.tsv']\n",
    "\n",
    "def load_benchmark_file(path):\n",
    "    return pd.read_csv(path, sep='\\t', header=None, usecols=[0, 1, 2], names=['src', 'edg', 'tgt'])\n",
    "\n",
    "other_benchmarks = pd.concat([load_benchmark_file(benchmark_path.joinpath(file)) for file in benchmark_files])\n",
    "print(f'There are {len(other_benchmarks):,} pairs in the merged benchmarks.')\n",
    "other_benchmarks.head()"
   ]
  },
  {
   "cell_type": "code",
   "execution_count": 189,
   "id": "0c0488b2-bcbb-47b9-9443-9da907ca8551",
   "metadata": {},
   "outputs": [
    {
     "data": {
      "text/plain": [
       "array(['inc_expr', 'dec_expr', 'decrease_therapeutic_efficacy',\n",
       "       'increase_therapeutic_efficacy', 'increase_hyperkalemia',\n",
       "       'increase_hypoglycemia', 'increase_hyperglycemia',\n",
       "       'increase_hypokalemia', 'decrease_hypoglycemia',\n",
       "       'increase_hyponatremia', 'increase_hypercalcemia',\n",
       "       'increase_hypocalcemia', 'phosphorylates'], dtype=object)"
      ]
     },
     "execution_count": 189,
     "metadata": {},
     "output_type": "execute_result"
    }
   ],
   "source": [
    "other_benchmarks.edg.unique()"
   ]
  },
  {
   "cell_type": "code",
   "execution_count": 190,
   "id": "d044668b-aab8-460b-93d4-f9cad7371946",
   "metadata": {},
   "outputs": [
    {
     "data": {
      "text/html": [
       "<div>\n",
       "<style scoped>\n",
       "    .dataframe tbody tr th:only-of-type {\n",
       "        vertical-align: middle;\n",
       "    }\n",
       "\n",
       "    .dataframe tbody tr th {\n",
       "        vertical-align: top;\n",
       "    }\n",
       "\n",
       "    .dataframe thead th {\n",
       "        text-align: right;\n",
       "    }\n",
       "</style>\n",
       "<table border=\"1\" class=\"dataframe\">\n",
       "  <thead>\n",
       "    <tr style=\"text-align: right;\">\n",
       "      <th></th>\n",
       "      <th>src</th>\n",
       "      <th>edg</th>\n",
       "      <th>tgt</th>\n",
       "      <th>combined</th>\n",
       "    </tr>\n",
       "  </thead>\n",
       "  <tbody>\n",
       "    <tr>\n",
       "      <th>0</th>\n",
       "      <td>DB00977</td>\n",
       "      <td>inc_expr</td>\n",
       "      <td>Q8R2H1</td>\n",
       "      <td>['DB00977', 'Q8R2H1']</td>\n",
       "    </tr>\n",
       "    <tr>\n",
       "      <th>1</th>\n",
       "      <td>DB00996</td>\n",
       "      <td>inc_expr</td>\n",
       "      <td>Q5R4C1</td>\n",
       "      <td>['DB00996', 'Q5R4C1']</td>\n",
       "    </tr>\n",
       "    <tr>\n",
       "      <th>2</th>\n",
       "      <td>DB01109</td>\n",
       "      <td>inc_expr</td>\n",
       "      <td>P25106</td>\n",
       "      <td>['DB01109', 'P25106']</td>\n",
       "    </tr>\n",
       "    <tr>\n",
       "      <th>3</th>\n",
       "      <td>DB00499</td>\n",
       "      <td>inc_expr</td>\n",
       "      <td>Q7JZM8</td>\n",
       "      <td>['DB00499', 'Q7JZM8']</td>\n",
       "    </tr>\n",
       "    <tr>\n",
       "      <th>4</th>\n",
       "      <td>DB13323</td>\n",
       "      <td>inc_expr</td>\n",
       "      <td>Q9R1R0</td>\n",
       "      <td>['DB13323', 'Q9R1R0']</td>\n",
       "    </tr>\n",
       "  </tbody>\n",
       "</table>\n",
       "</div>"
      ],
      "text/plain": [
       "       src       edg     tgt               combined\n",
       "0  DB00977  inc_expr  Q8R2H1  ['DB00977', 'Q8R2H1']\n",
       "1  DB00996  inc_expr  Q5R4C1  ['DB00996', 'Q5R4C1']\n",
       "2  DB01109  inc_expr  P25106  ['DB01109', 'P25106']\n",
       "3  DB00499  inc_expr  Q7JZM8  ['DB00499', 'Q7JZM8']\n",
       "4  DB13323  inc_expr  Q9R1R0  ['DB13323', 'Q9R1R0']"
      ]
     },
     "execution_count": 190,
     "metadata": {},
     "output_type": "execute_result"
    }
   ],
   "source": [
    "def combine_and_sort_entities(df):\n",
    "    \"\"\"Given a dataset containing pairs in the columns `left` and `right`,\n",
    "    creates a new column called `combined` containing the pairs as a\n",
    "    list (in string format) with the pairs sorted in lexicographical order.\"\"\"\n",
    "    df['combined'] = df.apply(lambda x: str(sorted([x['src'], x['tgt']])), axis=1)\n",
    "    return df\n",
    "\n",
    "combine_and_sort_entities(other_benchmarks)\n",
    "other_benchmarks.head()"
   ]
  },
  {
   "cell_type": "code",
   "execution_count": 180,
   "id": "d6bedbef-7d3d-4f2a-8696-9d2d279cd588",
   "metadata": {},
   "outputs": [
    {
     "data": {
      "text/html": [
       "<div>\n",
       "<style scoped>\n",
       "    .dataframe tbody tr th:only-of-type {\n",
       "        vertical-align: middle;\n",
       "    }\n",
       "\n",
       "    .dataframe tbody tr th {\n",
       "        vertical-align: top;\n",
       "    }\n",
       "\n",
       "    .dataframe thead th {\n",
       "        text-align: right;\n",
       "    }\n",
       "</style>\n",
       "<table border=\"1\" class=\"dataframe\">\n",
       "  <thead>\n",
       "    <tr style=\"text-align: right;\">\n",
       "      <th></th>\n",
       "      <th>src</th>\n",
       "      <th>tgt</th>\n",
       "      <th>edg</th>\n",
       "      <th>key</th>\n",
       "      <th>combined</th>\n",
       "    </tr>\n",
       "  </thead>\n",
       "  <tbody>\n",
       "    <tr>\n",
       "      <th>0</th>\n",
       "      <td>DB00672</td>\n",
       "      <td>Q16348</td>\n",
       "      <td>DPI</td>\n",
       "      <td>(DB00672, Q16348)</td>\n",
       "      <td>['DB00672', 'Q16348']</td>\n",
       "    </tr>\n",
       "    <tr>\n",
       "      <th>1</th>\n",
       "      <td>DB00116</td>\n",
       "      <td>P13995</td>\n",
       "      <td>DPI</td>\n",
       "      <td>(DB00116, P13995)</td>\n",
       "      <td>['DB00116', 'P13995']</td>\n",
       "    </tr>\n",
       "    <tr>\n",
       "      <th>2</th>\n",
       "      <td>DB06663</td>\n",
       "      <td>P30872</td>\n",
       "      <td>DPI</td>\n",
       "      <td>(DB06663, P30872)</td>\n",
       "      <td>['DB06663', 'P30872']</td>\n",
       "    </tr>\n",
       "    <tr>\n",
       "      <th>3</th>\n",
       "      <td>DB06663</td>\n",
       "      <td>P30874</td>\n",
       "      <td>DPI</td>\n",
       "      <td>(DB06663, P30874)</td>\n",
       "      <td>['DB06663', 'P30874']</td>\n",
       "    </tr>\n",
       "    <tr>\n",
       "      <th>4</th>\n",
       "      <td>DB00586</td>\n",
       "      <td>O43526</td>\n",
       "      <td>DPI</td>\n",
       "      <td>(DB00586, O43526)</td>\n",
       "      <td>['DB00586', 'O43526']</td>\n",
       "    </tr>\n",
       "  </tbody>\n",
       "</table>\n",
       "</div>"
      ],
      "text/plain": [
       "       src     tgt  edg                key               combined\n",
       "0  DB00672  Q16348  DPI  (DB00672, Q16348)  ['DB00672', 'Q16348']\n",
       "1  DB00116  P13995  DPI  (DB00116, P13995)  ['DB00116', 'P13995']\n",
       "2  DB06663  P30872  DPI  (DB06663, P30872)  ['DB06663', 'P30872']\n",
       "3  DB06663  P30874  DPI  (DB06663, P30874)  ['DB06663', 'P30874']\n",
       "4  DB00586  O43526  DPI  (DB00586, O43526)  ['DB00586', 'O43526']"
      ]
     },
     "execution_count": 180,
     "metadata": {},
     "output_type": "execute_result"
    }
   ],
   "source": [
    "combine_and_sort_entities(dpi_benchmarks[DDR])\n",
    "dpi_benchmarks[DDR].head()"
   ]
  },
  {
   "cell_type": "markdown",
   "id": "93df830e-27c1-403c-a314-3e962792d599",
   "metadata": {},
   "source": [
    "can we find some of these DPI Pairs in the other 4 benchmarks?"
   ]
  },
  {
   "cell_type": "code",
   "execution_count": 191,
   "id": "8c104ba8-03e7-4fca-a60a-f03b411d46b2",
   "metadata": {},
   "outputs": [],
   "source": [
    "merged = pd.merge(other_benchmarks, dpi_benchmarks[DDR], how='right', on=[\"combined\"], indicator=True)"
   ]
  },
  {
   "cell_type": "code",
   "execution_count": 182,
   "id": "b913888f-94c5-45a9-8f44-8a6ef2d40fa9",
   "metadata": {},
   "outputs": [
    {
     "data": {
      "text/html": [
       "<div>\n",
       "<style scoped>\n",
       "    .dataframe tbody tr th:only-of-type {\n",
       "        vertical-align: middle;\n",
       "    }\n",
       "\n",
       "    .dataframe tbody tr th {\n",
       "        vertical-align: top;\n",
       "    }\n",
       "\n",
       "    .dataframe thead th {\n",
       "        text-align: right;\n",
       "    }\n",
       "</style>\n",
       "<table border=\"1\" class=\"dataframe\">\n",
       "  <thead>\n",
       "    <tr style=\"text-align: right;\">\n",
       "      <th></th>\n",
       "      <th>src_x</th>\n",
       "      <th>edg_x</th>\n",
       "      <th>tgt_x</th>\n",
       "      <th>combined</th>\n",
       "      <th>src_y</th>\n",
       "      <th>tgt_y</th>\n",
       "      <th>edg_y</th>\n",
       "      <th>key</th>\n",
       "      <th>_merge</th>\n",
       "    </tr>\n",
       "  </thead>\n",
       "  <tbody>\n",
       "    <tr>\n",
       "      <th>0</th>\n",
       "      <td>NaN</td>\n",
       "      <td>NaN</td>\n",
       "      <td>NaN</td>\n",
       "      <td>['DB00672', 'Q16348']</td>\n",
       "      <td>DB00672</td>\n",
       "      <td>Q16348</td>\n",
       "      <td>DPI</td>\n",
       "      <td>(DB00672, Q16348)</td>\n",
       "      <td>right_only</td>\n",
       "    </tr>\n",
       "    <tr>\n",
       "      <th>1</th>\n",
       "      <td>NaN</td>\n",
       "      <td>NaN</td>\n",
       "      <td>NaN</td>\n",
       "      <td>['DB00116', 'P13995']</td>\n",
       "      <td>DB00116</td>\n",
       "      <td>P13995</td>\n",
       "      <td>DPI</td>\n",
       "      <td>(DB00116, P13995)</td>\n",
       "      <td>right_only</td>\n",
       "    </tr>\n",
       "    <tr>\n",
       "      <th>2</th>\n",
       "      <td>NaN</td>\n",
       "      <td>NaN</td>\n",
       "      <td>NaN</td>\n",
       "      <td>['DB06663', 'P30872']</td>\n",
       "      <td>DB06663</td>\n",
       "      <td>P30872</td>\n",
       "      <td>DPI</td>\n",
       "      <td>(DB06663, P30872)</td>\n",
       "      <td>right_only</td>\n",
       "    </tr>\n",
       "    <tr>\n",
       "      <th>3</th>\n",
       "      <td>NaN</td>\n",
       "      <td>NaN</td>\n",
       "      <td>NaN</td>\n",
       "      <td>['DB06663', 'P30874']</td>\n",
       "      <td>DB06663</td>\n",
       "      <td>P30874</td>\n",
       "      <td>DPI</td>\n",
       "      <td>(DB06663, P30874)</td>\n",
       "      <td>right_only</td>\n",
       "    </tr>\n",
       "    <tr>\n",
       "      <th>4</th>\n",
       "      <td>NaN</td>\n",
       "      <td>NaN</td>\n",
       "      <td>NaN</td>\n",
       "      <td>['DB00586', 'O43526']</td>\n",
       "      <td>DB00586</td>\n",
       "      <td>O43526</td>\n",
       "      <td>DPI</td>\n",
       "      <td>(DB00586, O43526)</td>\n",
       "      <td>right_only</td>\n",
       "    </tr>\n",
       "  </tbody>\n",
       "</table>\n",
       "</div>"
      ],
      "text/plain": [
       "  src_x edg_x tgt_x               combined    src_y   tgt_y edg_y  \\\n",
       "0   NaN   NaN   NaN  ['DB00672', 'Q16348']  DB00672  Q16348   DPI   \n",
       "1   NaN   NaN   NaN  ['DB00116', 'P13995']  DB00116  P13995   DPI   \n",
       "2   NaN   NaN   NaN  ['DB06663', 'P30872']  DB06663  P30872   DPI   \n",
       "3   NaN   NaN   NaN  ['DB06663', 'P30874']  DB06663  P30874   DPI   \n",
       "4   NaN   NaN   NaN  ['DB00586', 'O43526']  DB00586  O43526   DPI   \n",
       "\n",
       "                 key      _merge  \n",
       "0  (DB00672, Q16348)  right_only  \n",
       "1  (DB00116, P13995)  right_only  \n",
       "2  (DB06663, P30872)  right_only  \n",
       "3  (DB06663, P30874)  right_only  \n",
       "4  (DB00586, O43526)  right_only  "
      ]
     },
     "execution_count": 182,
     "metadata": {},
     "output_type": "execute_result"
    }
   ],
   "source": [
    "merged.head()"
   ]
  }
 ],
 "metadata": {
  "kernelspec": {
   "display_name": ".conda-bioblp-env [Python]",
   "language": "python",
   "name": "conda-env-.conda-bioblp-env-py"
  },
  "language_info": {
   "codemirror_mode": {
    "name": "ipython",
    "version": 3
   },
   "file_extension": ".py",
   "mimetype": "text/x-python",
   "name": "python",
   "nbconvert_exporter": "python",
   "pygments_lexer": "ipython3",
   "version": "3.8.13"
  }
 },
 "nbformat": 4,
 "nbformat_minor": 5
}
