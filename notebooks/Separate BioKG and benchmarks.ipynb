{
 "cells": [
  {
   "cell_type": "markdown",
   "metadata": {},
   "source": [
    "### In this notebook we take care of:\n",
    "\n",
    "- Merging and disentangling the `BioKG graph` with the `benchmark datasets` that are included in it.\n",
    "    - Benchmarks include: `dpi_fda`, `dpi_fda_exp`, `ddi_efficacy`, `ddi_mineral`, `ppi_phosphorylation`\n",
    "- Storing the new disentangled data\n",
    "\n",
    "### For this notebook to run, you require a local installation of the BioKG data.\n"
   ]
  },
  {
   "cell_type": "code",
   "execution_count": 1,
   "metadata": {},
   "outputs": [],
   "source": [
    "import pandas as pd"
   ]
  },
  {
   "cell_type": "markdown",
   "metadata": {},
   "source": [
    "### Load all links in BioKG are being combined in one single large (2m rows) .tsv file\n"
   ]
  },
  {
   "cell_type": "code",
   "execution_count": 23,
   "metadata": {},
   "outputs": [],
   "source": [
    "biokg_links_path = \"data/biokg/biokg.links.tsv\"\n",
    "\n",
    "biokg_links = pd.read_csv(biokg_links_path,\n",
    "                         sep='\\t',\n",
    "                         names=['left', 'property', 'right'])\n",
    "\n",
    "len(biokg_links)"
   ]
  },
  {
   "cell_type": "markdown",
   "metadata": {},
   "source": [
    "Check out the **unique** properties in the links file..."
   ]
  },
  {
   "cell_type": "code",
   "execution_count": 76,
   "metadata": {},
   "outputs": [
    {
     "data": {
      "text/plain": [
       "array(['DISEASE_PATHWAY_ASSOCIATION', 'PROTEIN_PATHWAY_ASSOCIATION',\n",
       "       'DRUG_DISEASE_ASSOCIATION', 'RELATED_GENETIC_DISORDER', 'PPI',\n",
       "       'DRUG_TARGET', 'DRUG_CARRIER', 'DRUG_ENZYME', 'DRUG_TRANSPORTER',\n",
       "       'COMPLEX_IN_PATHWAY', 'DRUG_PATHWAY_ASSOCIATION',\n",
       "       'PROTEIN_DISEASE_ASSOCIATION', 'DISEASE_GENETIC_DISORDER',\n",
       "       'MEMBER_OF_COMPLEX', 'DDI', 'DPI', 'COMPLEX_TOP_LEVEL_PATHWAY'],\n",
       "      dtype=object)"
      ]
     },
     "execution_count": 76,
     "metadata": {},
     "output_type": "execute_result"
    }
   ],
   "source": [
    "biokg_links['property'].unique()"
   ]
  },
  {
   "cell_type": "markdown",
   "metadata": {},
   "source": [
    "#### As we can observe, the relations in the benchmarks are `normalised` before being merged in the graph.... \n",
    "\n",
    "\n",
    "Which implies that we should merge on right,left column ignoring the property name + order..."
   ]
  },
  {
   "cell_type": "markdown",
   "metadata": {},
   "source": [
    "#### Alert: The phosphorylation benchmark is the only one with 4 columns as it includes not only the PPI relation but the specific substrate that is involved in the interaction... "
   ]
  },
  {
   "cell_type": "code",
   "execution_count": 70,
   "metadata": {},
   "outputs": [],
   "source": [
    "phospho_bk = pd.read_csv('data/output/benchmarks/' + 'phosphorylation.tsv', sep='\\t', names=['left', 'property', 'right', 'substrate_site']\n",
    "                         , index_col=None)\n"
   ]
  },
  {
   "cell_type": "markdown",
   "metadata": {},
   "source": [
    "To solve this, we include the substrate column which **gets ignored** during the merging...."
   ]
  },
  {
   "cell_type": "markdown",
   "metadata": {},
   "source": [
    "### Load & Merge all benchmark datasets"
   ]
  },
  {
   "cell_type": "code",
   "execution_count": 50,
   "metadata": {},
   "outputs": [],
   "source": [
    "benchmark_path ='data/output/benchmarks/'\n",
    "\n",
    "\n",
    "def load_and_merge_benchmark_datasets(path):\n",
    "    \n",
    "    dpi_fda_bk = pd.read_csv(path + 'dpi_fda.tsv', sep='\\t', names=['left', 'property', 'right'])\n",
    "    dpi_fda_exp_bk = pd.read_csv(path + 'dpi_fda.tsv', sep='\\t', names=['left', 'property', 'right'])\n",
    "    ddi_efficacy_bk = pd.read_csv(path + 'ddi_efficacy.tsv', sep='\\t', names=['left', 'property', 'right'])\n",
    "    ddi_mineral_bk = pd.read_csv(path + 'ddi_minerals.tsv', sep='\\t', names=['left', 'property', 'right'])\n",
    "    phospho_bk = pd.read_csv(path + 'phosphorylation.tsv', sep='\\t', names=['left', 'property', 'right', 'substrate'])\n",
    "    \n",
    "    \n",
    "    all_benchmarks = pd.concat([dpi_fda_bk, dpi_fda_exp_bk, ddi_efficacy_bk, ddi_mineral_bk, phospho_bk])\n",
    "    \n",
    "    return all_benchmarks"
   ]
  },
  {
   "cell_type": "code",
   "execution_count": 51,
   "metadata": {},
   "outputs": [],
   "source": [
    "all_benchmarks = load_and_merge_benchmark_datasets(benchmark_path)\n",
    "all_benchmarks"
   ]
  },
  {
   "cell_type": "markdown",
   "metadata": {},
   "source": [
    "### Before merging we need to prepare and ignore the order between left and right columns... \n",
    "\n",
    "\n",
    "To do that:\n",
    "- We create a new column with the set of columns `left` and `right`\n",
    "- Due to the set being unordered we can then merge on the `combined` column.\n",
    "- Then by picking out the `right_only` results we know we have the BioKG graph without the benchmarks."
   ]
  },
  {
   "cell_type": "code",
   "execution_count": 58,
   "metadata": {},
   "outputs": [],
   "source": [
    "### Let's try to merge ignoring the order...\n",
    "all_benchmarks['combined'] = all_benchmarks.apply(lambda x: str(set([x['left'], x['right']])),axis=1)"
   ]
  },
  {
   "cell_type": "code",
   "execution_count": 71,
   "metadata": {},
   "outputs": [
    {
     "data": {
      "text/html": [
       "<div>\n",
       "<style scoped>\n",
       "    .dataframe tbody tr th:only-of-type {\n",
       "        vertical-align: middle;\n",
       "    }\n",
       "\n",
       "    .dataframe tbody tr th {\n",
       "        vertical-align: top;\n",
       "    }\n",
       "\n",
       "    .dataframe thead th {\n",
       "        text-align: right;\n",
       "    }\n",
       "</style>\n",
       "<table border=\"1\" class=\"dataframe\">\n",
       "  <thead>\n",
       "    <tr style=\"text-align: right;\">\n",
       "      <th></th>\n",
       "      <th>left</th>\n",
       "      <th>property</th>\n",
       "      <th>right</th>\n",
       "      <th>substrate</th>\n",
       "      <th>combined</th>\n",
       "    </tr>\n",
       "  </thead>\n",
       "  <tbody>\n",
       "    <tr>\n",
       "      <th>0</th>\n",
       "      <td>DB01079</td>\n",
       "      <td>DPI</td>\n",
       "      <td>Q13639</td>\n",
       "      <td>NaN</td>\n",
       "      <td>{'DB01079', 'Q13639'}</td>\n",
       "    </tr>\n",
       "    <tr>\n",
       "      <th>1</th>\n",
       "      <td>DB00114</td>\n",
       "      <td>DPI</td>\n",
       "      <td>P20711</td>\n",
       "      <td>NaN</td>\n",
       "      <td>{'DB00114', 'P20711'}</td>\n",
       "    </tr>\n",
       "    <tr>\n",
       "      <th>2</th>\n",
       "      <td>DB01158</td>\n",
       "      <td>DPI</td>\n",
       "      <td>P13637</td>\n",
       "      <td>NaN</td>\n",
       "      <td>{'P13637', 'DB01158'}</td>\n",
       "    </tr>\n",
       "  </tbody>\n",
       "</table>\n",
       "</div>"
      ],
      "text/plain": [
       "      left property   right substrate               combined\n",
       "0  DB01079      DPI  Q13639       NaN  {'DB01079', 'Q13639'}\n",
       "1  DB00114      DPI  P20711       NaN  {'DB00114', 'P20711'}\n",
       "2  DB01158      DPI  P13637       NaN  {'P13637', 'DB01158'}"
      ]
     },
     "execution_count": 71,
     "metadata": {},
     "output_type": "execute_result"
    }
   ],
   "source": [
    "## Check it out\n",
    "all_benchmarks[:3]"
   ]
  },
  {
   "cell_type": "code",
   "execution_count": 60,
   "metadata": {},
   "outputs": [],
   "source": [
    "## Do the same for the LINKS of BioKG\n",
    "biokg_links['combined'] = biokg_links.apply(lambda x: str(set([x['left'], x['right']])),axis=1)"
   ]
  },
  {
   "cell_type": "code",
   "execution_count": 72,
   "metadata": {},
   "outputs": [
    {
     "data": {
      "text/html": [
       "<div>\n",
       "<style scoped>\n",
       "    .dataframe tbody tr th:only-of-type {\n",
       "        vertical-align: middle;\n",
       "    }\n",
       "\n",
       "    .dataframe tbody tr th {\n",
       "        vertical-align: top;\n",
       "    }\n",
       "\n",
       "    .dataframe thead th {\n",
       "        text-align: right;\n",
       "    }\n",
       "</style>\n",
       "<table border=\"1\" class=\"dataframe\">\n",
       "  <thead>\n",
       "    <tr style=\"text-align: right;\">\n",
       "      <th></th>\n",
       "      <th>left</th>\n",
       "      <th>property</th>\n",
       "      <th>right</th>\n",
       "      <th>combined</th>\n",
       "    </tr>\n",
       "  </thead>\n",
       "  <tbody>\n",
       "    <tr>\n",
       "      <th>0</th>\n",
       "      <td>C566487</td>\n",
       "      <td>DISEASE_PATHWAY_ASSOCIATION</td>\n",
       "      <td>hsa00071</td>\n",
       "      <td>{'hsa00071', 'C566487'}</td>\n",
       "    </tr>\n",
       "    <tr>\n",
       "      <th>1</th>\n",
       "      <td>C567839</td>\n",
       "      <td>DISEASE_PATHWAY_ASSOCIATION</td>\n",
       "      <td>map04810</td>\n",
       "      <td>{'map04810', 'C567839'}</td>\n",
       "    </tr>\n",
       "    <tr>\n",
       "      <th>2</th>\n",
       "      <td>C562476</td>\n",
       "      <td>DISEASE_PATHWAY_ASSOCIATION</td>\n",
       "      <td>hsa04512</td>\n",
       "      <td>{'C562476', 'hsa04512'}</td>\n",
       "    </tr>\n",
       "  </tbody>\n",
       "</table>\n",
       "</div>"
      ],
      "text/plain": [
       "      left                     property     right                 combined\n",
       "0  C566487  DISEASE_PATHWAY_ASSOCIATION  hsa00071  {'hsa00071', 'C566487'}\n",
       "1  C567839  DISEASE_PATHWAY_ASSOCIATION  map04810  {'map04810', 'C567839'}\n",
       "2  C562476  DISEASE_PATHWAY_ASSOCIATION  hsa04512  {'C562476', 'hsa04512'}"
      ]
     },
     "execution_count": 72,
     "metadata": {},
     "output_type": "execute_result"
    }
   ],
   "source": [
    "# Check it out\n",
    "biokg_links[:3]"
   ]
  },
  {
   "cell_type": "markdown",
   "metadata": {},
   "source": [
    "### Final merge on `combined` column"
   ]
  },
  {
   "cell_type": "code",
   "execution_count": 73,
   "metadata": {},
   "outputs": [],
   "source": [
    "merged = pd.merge(all_benchmarks, biokg_links, how='right', on=[\"combined\"], indicator=True)"
   ]
  },
  {
   "cell_type": "code",
   "execution_count": 86,
   "metadata": {},
   "outputs": [
    {
     "data": {
      "text/html": [
       "<div>\n",
       "<style scoped>\n",
       "    .dataframe tbody tr th:only-of-type {\n",
       "        vertical-align: middle;\n",
       "    }\n",
       "\n",
       "    .dataframe tbody tr th {\n",
       "        vertical-align: top;\n",
       "    }\n",
       "\n",
       "    .dataframe thead th {\n",
       "        text-align: right;\n",
       "    }\n",
       "</style>\n",
       "<table border=\"1\" class=\"dataframe\">\n",
       "  <thead>\n",
       "    <tr style=\"text-align: right;\">\n",
       "      <th></th>\n",
       "      <th>left_x</th>\n",
       "      <th>property_x</th>\n",
       "      <th>right_x</th>\n",
       "      <th>substrate</th>\n",
       "      <th>combined</th>\n",
       "      <th>left_y</th>\n",
       "      <th>property_y</th>\n",
       "      <th>right_y</th>\n",
       "      <th>_merge</th>\n",
       "    </tr>\n",
       "  </thead>\n",
       "  <tbody>\n",
       "    <tr>\n",
       "      <th>328244</th>\n",
       "      <td>P28482</td>\n",
       "      <td>phosphorylates</td>\n",
       "      <td>O75582</td>\n",
       "      <td>S360</td>\n",
       "      <td>{'O75582', 'P28482'}</td>\n",
       "      <td>O75582</td>\n",
       "      <td>PPI</td>\n",
       "      <td>P28482</td>\n",
       "      <td>both</td>\n",
       "    </tr>\n",
       "    <tr>\n",
       "      <th>328245</th>\n",
       "      <td>P28482</td>\n",
       "      <td>phosphorylates</td>\n",
       "      <td>O75582</td>\n",
       "      <td>T581</td>\n",
       "      <td>{'O75582', 'P28482'}</td>\n",
       "      <td>O75582</td>\n",
       "      <td>PPI</td>\n",
       "      <td>P28482</td>\n",
       "      <td>both</td>\n",
       "    </tr>\n",
       "    <tr>\n",
       "      <th>328297</th>\n",
       "      <td>P06493</td>\n",
       "      <td>phosphorylates</td>\n",
       "      <td>P02545</td>\n",
       "      <td>T19</td>\n",
       "      <td>{'P06493', 'P02545'}</td>\n",
       "      <td>P02545</td>\n",
       "      <td>PPI</td>\n",
       "      <td>P06493</td>\n",
       "      <td>both</td>\n",
       "    </tr>\n",
       "  </tbody>\n",
       "</table>\n",
       "</div>"
      ],
      "text/plain": [
       "        left_x      property_x right_x substrate              combined  \\\n",
       "328244  P28482  phosphorylates  O75582      S360  {'O75582', 'P28482'}   \n",
       "328245  P28482  phosphorylates  O75582      T581  {'O75582', 'P28482'}   \n",
       "328297  P06493  phosphorylates  P02545       T19  {'P06493', 'P02545'}   \n",
       "\n",
       "        left_y property_y right_y _merge  \n",
       "328244  O75582        PPI  P28482   both  \n",
       "328245  O75582        PPI  P28482   both  \n",
       "328297  P02545        PPI  P06493   both  "
      ]
     },
     "execution_count": 86,
     "metadata": {},
     "output_type": "execute_result"
    }
   ],
   "source": [
    "merged[merged['_merge']=='both'][:3]"
   ]
  },
  {
   "cell_type": "code",
   "execution_count": 79,
   "metadata": {},
   "outputs": [],
   "source": [
    "biokg_without_benchmarks = merged[merged['_merge']=='right_only']"
   ]
  },
  {
   "cell_type": "code",
   "execution_count": 85,
   "metadata": {},
   "outputs": [],
   "source": [
    "biokg_without_benchmarks_clean = biokg_without_benchmarks[['left_y', 'property_y', 'right_y']]"
   ]
  },
  {
   "cell_type": "code",
   "execution_count": 87,
   "metadata": {},
   "outputs": [
    {
     "data": {
      "text/html": [
       "<div>\n",
       "<style scoped>\n",
       "    .dataframe tbody tr th:only-of-type {\n",
       "        vertical-align: middle;\n",
       "    }\n",
       "\n",
       "    .dataframe tbody tr th {\n",
       "        vertical-align: top;\n",
       "    }\n",
       "\n",
       "    .dataframe thead th {\n",
       "        text-align: right;\n",
       "    }\n",
       "</style>\n",
       "<table border=\"1\" class=\"dataframe\">\n",
       "  <thead>\n",
       "    <tr style=\"text-align: right;\">\n",
       "      <th></th>\n",
       "      <th>left_y</th>\n",
       "      <th>property_y</th>\n",
       "      <th>right_y</th>\n",
       "    </tr>\n",
       "  </thead>\n",
       "  <tbody>\n",
       "    <tr>\n",
       "      <th>0</th>\n",
       "      <td>C566487</td>\n",
       "      <td>DISEASE_PATHWAY_ASSOCIATION</td>\n",
       "      <td>hsa00071</td>\n",
       "    </tr>\n",
       "    <tr>\n",
       "      <th>1</th>\n",
       "      <td>C567839</td>\n",
       "      <td>DISEASE_PATHWAY_ASSOCIATION</td>\n",
       "      <td>map04810</td>\n",
       "    </tr>\n",
       "    <tr>\n",
       "      <th>2</th>\n",
       "      <td>C562476</td>\n",
       "      <td>DISEASE_PATHWAY_ASSOCIATION</td>\n",
       "      <td>hsa04512</td>\n",
       "    </tr>\n",
       "    <tr>\n",
       "      <th>3</th>\n",
       "      <td>C567032</td>\n",
       "      <td>DISEASE_PATHWAY_ASSOCIATION</td>\n",
       "      <td>map00750</td>\n",
       "    </tr>\n",
       "    <tr>\n",
       "      <th>4</th>\n",
       "      <td>C562710</td>\n",
       "      <td>DISEASE_PATHWAY_ASSOCIATION</td>\n",
       "      <td>map04930</td>\n",
       "    </tr>\n",
       "    <tr>\n",
       "      <th>...</th>\n",
       "      <td>...</td>\n",
       "      <td>...</td>\n",
       "      <td>...</td>\n",
       "    </tr>\n",
       "    <tr>\n",
       "      <th>2110901</th>\n",
       "      <td>R-HSA-6801809</td>\n",
       "      <td>COMPLEX_TOP_LEVEL_PATHWAY</td>\n",
       "      <td>R-HSA-168256</td>\n",
       "    </tr>\n",
       "    <tr>\n",
       "      <th>2110902</th>\n",
       "      <td>R-HSA-2213211</td>\n",
       "      <td>COMPLEX_TOP_LEVEL_PATHWAY</td>\n",
       "      <td>R-HSA-168256</td>\n",
       "    </tr>\n",
       "    <tr>\n",
       "      <th>2110903</th>\n",
       "      <td>R-HSA-3730834</td>\n",
       "      <td>COMPLEX_TOP_LEVEL_PATHWAY</td>\n",
       "      <td>R-HSA-392499</td>\n",
       "    </tr>\n",
       "    <tr>\n",
       "      <th>2110904</th>\n",
       "      <td>R-HSA-5668765</td>\n",
       "      <td>COMPLEX_TOP_LEVEL_PATHWAY</td>\n",
       "      <td>R-HSA-168256</td>\n",
       "    </tr>\n",
       "    <tr>\n",
       "      <th>2110905</th>\n",
       "      <td>R-HSA-6802710</td>\n",
       "      <td>COMPLEX_TOP_LEVEL_PATHWAY</td>\n",
       "      <td>R-HSA-1643685</td>\n",
       "    </tr>\n",
       "  </tbody>\n",
       "</table>\n",
       "<p>1868423 rows × 3 columns</p>\n",
       "</div>"
      ],
      "text/plain": [
       "                left_y                   property_y        right_y\n",
       "0              C566487  DISEASE_PATHWAY_ASSOCIATION       hsa00071\n",
       "1              C567839  DISEASE_PATHWAY_ASSOCIATION       map04810\n",
       "2              C562476  DISEASE_PATHWAY_ASSOCIATION       hsa04512\n",
       "3              C567032  DISEASE_PATHWAY_ASSOCIATION       map00750\n",
       "4              C562710  DISEASE_PATHWAY_ASSOCIATION       map04930\n",
       "...                ...                          ...            ...\n",
       "2110901  R-HSA-6801809    COMPLEX_TOP_LEVEL_PATHWAY   R-HSA-168256\n",
       "2110902  R-HSA-2213211    COMPLEX_TOP_LEVEL_PATHWAY   R-HSA-168256\n",
       "2110903  R-HSA-3730834    COMPLEX_TOP_LEVEL_PATHWAY   R-HSA-392499\n",
       "2110904  R-HSA-5668765    COMPLEX_TOP_LEVEL_PATHWAY   R-HSA-168256\n",
       "2110905  R-HSA-6802710    COMPLEX_TOP_LEVEL_PATHWAY  R-HSA-1643685\n",
       "\n",
       "[1868423 rows x 3 columns]"
      ]
     },
     "execution_count": 87,
     "metadata": {},
     "output_type": "execute_result"
    }
   ],
   "source": [
    "biokg_without_benchmarks_clean"
   ]
  },
  {
   "cell_type": "code",
   "execution_count": null,
   "metadata": {},
   "outputs": [],
   "source": [
    "### Note: Figure out why the numbers don't exactly add up.... :/ "
   ]
  },
  {
   "cell_type": "code",
   "execution_count": 64,
   "metadata": {},
   "outputs": [
    {
     "data": {
      "text/plain": [
       "7977"
      ]
     },
     "execution_count": 64,
     "metadata": {},
     "output_type": "execute_result"
    }
   ],
   "source": [
    "250460 - 242483"
   ]
  },
  {
   "cell_type": "markdown",
   "metadata": {},
   "source": [
    "#### Store the new data."
   ]
  },
  {
   "cell_type": "code",
   "execution_count": 94,
   "metadata": {},
   "outputs": [],
   "source": [
    "biokg_without_benchmarks_clean.to_csv('data/biokg_no_benchmark.tsv', \n",
    "                                      sep='\\t', \n",
    "                                      index=False,\n",
    "                                      header=['left', 'property', 'right'])"
   ]
  },
  {
   "cell_type": "code",
   "execution_count": 95,
   "metadata": {},
   "outputs": [
    {
     "data": {
      "text/html": [
       "<div>\n",
       "<style scoped>\n",
       "    .dataframe tbody tr th:only-of-type {\n",
       "        vertical-align: middle;\n",
       "    }\n",
       "\n",
       "    .dataframe tbody tr th {\n",
       "        vertical-align: top;\n",
       "    }\n",
       "\n",
       "    .dataframe thead th {\n",
       "        text-align: right;\n",
       "    }\n",
       "</style>\n",
       "<table border=\"1\" class=\"dataframe\">\n",
       "  <thead>\n",
       "    <tr style=\"text-align: right;\">\n",
       "      <th></th>\n",
       "      <th>left_y</th>\n",
       "      <th>property_y</th>\n",
       "      <th>right_y</th>\n",
       "    </tr>\n",
       "  </thead>\n",
       "  <tbody>\n",
       "    <tr>\n",
       "      <th>0</th>\n",
       "      <td>C566487</td>\n",
       "      <td>DISEASE_PATHWAY_ASSOCIATION</td>\n",
       "      <td>hsa00071</td>\n",
       "    </tr>\n",
       "    <tr>\n",
       "      <th>1</th>\n",
       "      <td>C567839</td>\n",
       "      <td>DISEASE_PATHWAY_ASSOCIATION</td>\n",
       "      <td>map04810</td>\n",
       "    </tr>\n",
       "    <tr>\n",
       "      <th>2</th>\n",
       "      <td>C562476</td>\n",
       "      <td>DISEASE_PATHWAY_ASSOCIATION</td>\n",
       "      <td>hsa04512</td>\n",
       "    </tr>\n",
       "    <tr>\n",
       "      <th>3</th>\n",
       "      <td>C567032</td>\n",
       "      <td>DISEASE_PATHWAY_ASSOCIATION</td>\n",
       "      <td>map00750</td>\n",
       "    </tr>\n",
       "    <tr>\n",
       "      <th>4</th>\n",
       "      <td>C562710</td>\n",
       "      <td>DISEASE_PATHWAY_ASSOCIATION</td>\n",
       "      <td>map04930</td>\n",
       "    </tr>\n",
       "    <tr>\n",
       "      <th>...</th>\n",
       "      <td>...</td>\n",
       "      <td>...</td>\n",
       "      <td>...</td>\n",
       "    </tr>\n",
       "    <tr>\n",
       "      <th>2110901</th>\n",
       "      <td>R-HSA-6801809</td>\n",
       "      <td>COMPLEX_TOP_LEVEL_PATHWAY</td>\n",
       "      <td>R-HSA-168256</td>\n",
       "    </tr>\n",
       "    <tr>\n",
       "      <th>2110902</th>\n",
       "      <td>R-HSA-2213211</td>\n",
       "      <td>COMPLEX_TOP_LEVEL_PATHWAY</td>\n",
       "      <td>R-HSA-168256</td>\n",
       "    </tr>\n",
       "    <tr>\n",
       "      <th>2110903</th>\n",
       "      <td>R-HSA-3730834</td>\n",
       "      <td>COMPLEX_TOP_LEVEL_PATHWAY</td>\n",
       "      <td>R-HSA-392499</td>\n",
       "    </tr>\n",
       "    <tr>\n",
       "      <th>2110904</th>\n",
       "      <td>R-HSA-5668765</td>\n",
       "      <td>COMPLEX_TOP_LEVEL_PATHWAY</td>\n",
       "      <td>R-HSA-168256</td>\n",
       "    </tr>\n",
       "    <tr>\n",
       "      <th>2110905</th>\n",
       "      <td>R-HSA-6802710</td>\n",
       "      <td>COMPLEX_TOP_LEVEL_PATHWAY</td>\n",
       "      <td>R-HSA-1643685</td>\n",
       "    </tr>\n",
       "  </tbody>\n",
       "</table>\n",
       "<p>1868423 rows × 3 columns</p>\n",
       "</div>"
      ],
      "text/plain": [
       "                left_y                   property_y        right_y\n",
       "0              C566487  DISEASE_PATHWAY_ASSOCIATION       hsa00071\n",
       "1              C567839  DISEASE_PATHWAY_ASSOCIATION       map04810\n",
       "2              C562476  DISEASE_PATHWAY_ASSOCIATION       hsa04512\n",
       "3              C567032  DISEASE_PATHWAY_ASSOCIATION       map00750\n",
       "4              C562710  DISEASE_PATHWAY_ASSOCIATION       map04930\n",
       "...                ...                          ...            ...\n",
       "2110901  R-HSA-6801809    COMPLEX_TOP_LEVEL_PATHWAY   R-HSA-168256\n",
       "2110902  R-HSA-2213211    COMPLEX_TOP_LEVEL_PATHWAY   R-HSA-168256\n",
       "2110903  R-HSA-3730834    COMPLEX_TOP_LEVEL_PATHWAY   R-HSA-392499\n",
       "2110904  R-HSA-5668765    COMPLEX_TOP_LEVEL_PATHWAY   R-HSA-168256\n",
       "2110905  R-HSA-6802710    COMPLEX_TOP_LEVEL_PATHWAY  R-HSA-1643685\n",
       "\n",
       "[1868423 rows x 3 columns]"
      ]
     },
     "execution_count": 95,
     "metadata": {},
     "output_type": "execute_result"
    }
   ],
   "source": [
    "biokg_without_benchmarks_clean"
   ]
  },
  {
   "cell_type": "code",
   "execution_count": null,
   "metadata": {},
   "outputs": [],
   "source": []
  }
 ],
 "metadata": {
  "kernelspec": {
   "display_name": "bio-blp",
   "language": "python",
   "name": "bio-blp"
  },
  "language_info": {
   "codemirror_mode": {
    "name": "ipython",
    "version": 3
   },
   "file_extension": ".py",
   "mimetype": "text/x-python",
   "name": "python",
   "nbconvert_exporter": "python",
   "pygments_lexer": "ipython3",
   "version": "3.8.5"
  }
 },
 "nbformat": 4,
 "nbformat_minor": 4
}