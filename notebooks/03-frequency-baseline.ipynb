{
 "cells": [
  {
   "cell_type": "markdown",
   "source": [
    "# Evaluating frequency-based baselines for link prediction\n",
    "\n",
    "Some knowledege graphs come with particularly frequent instances (either relations, or entities), that a model can use to learn spurious correlations that lead to high ranking metrics, due to the calculation of micro-averages.\n",
    "A sanity check thus consists of running a baseline that simply uses counts, which can be compared with models that are supposed to generalize much better."
   ],
   "metadata": {
    "collapsed": false,
    "pycharm": {
     "name": "#%% md\n"
    }
   }
  },
  {
   "cell_type": "code",
   "execution_count": 5,
   "metadata": {
    "collapsed": true,
    "pycharm": {
     "name": "#%%\n"
    }
   },
   "outputs": [],
   "source": [
    "import os.path as osp\n",
    "\n",
    "from pykeen.models.baseline import MarginalDistributionBaseline\n",
    "from pykeen.triples import TriplesFactory\n",
    "from pykeen.evaluation import RankBasedEvaluator, evaluate\n",
    "import torch"
   ]
  },
  {
   "cell_type": "markdown",
   "source": [
    "## Data loading"
   ],
   "metadata": {
    "collapsed": false,
    "pycharm": {
     "name": "#%% md\n"
    }
   }
  },
  {
   "cell_type": "code",
   "execution_count": 6,
   "outputs": [],
   "source": [
    "graph_path = osp.join('..', 'data', 'biokgb', 'graph')\n",
    "train_triples = 'biokg.links-train.csv'\n",
    "valid_triples = 'biokg.links-valid.csv'\n",
    "test_triples = 'biokg.links-test.csv'\n",
    "\n",
    "train, valid, test = [TriplesFactory.from_path(osp.join(graph_path, f)) for f in (train_triples, valid_triples, test_triples)]"
   ],
   "metadata": {
    "collapsed": false,
    "pycharm": {
     "name": "#%%\n"
    }
   }
  },
  {
   "cell_type": "markdown",
   "source": [
    "## Instantiating a frequency-based baseline\n",
    "\n",
    "PyKEEN comes with a set of interesting baselines that, ideally, any machine learning model should outperform. Here we will use the [`MarginalDistributionBaseline`](https://pykeen.readthedocs.io/en/stable/api/pykeen.models.MarginalDistributionBaseline.html).\n",
    "\n",
    "When predicting the tail for a triple (h, r, t), the model scores each possible tail t as the probability that t co-occurs with r times the probability that t co-occurs with h:\n",
    "\n",
    "$$\n",
    "P(t\\vert h, r) = P(t\\vert r) P(t\\vert h)\n",
    "$$"
   ],
   "metadata": {
    "collapsed": false,
    "pycharm": {
     "name": "#%% md\n"
    }
   }
  },
  {
   "cell_type": "code",
   "execution_count": 7,
   "outputs": [],
   "source": [
    "model = MarginalDistributionBaseline(train)\n",
    "# An ugly hack to add a dummy parameter to this non-parametric baseline\n",
    "# so that evaluation works as for models with learnable parameters\n",
    "model.foo = torch.nn.Embedding(1, 2)"
   ],
   "metadata": {
    "collapsed": false,
    "pycharm": {
     "name": "#%%\n"
    }
   }
  },
  {
   "cell_type": "markdown",
   "source": [
    "## Evaluation\n",
    "\n",
    "We now get the ranking metrics on the test set, using triples in the training, validation, and test sets for filtering.\n",
    "\n",
    "**Warning:** the next cell can take around half an hour to run."
   ],
   "metadata": {
    "collapsed": false,
    "pycharm": {
     "name": "#%% md\n"
    }
   }
  },
  {
   "cell_type": "code",
   "execution_count": 10,
   "outputs": [
    {
     "data": {
      "text/plain": "Evaluating on cpu:   0%|          | 0.00/185k [00:00<?, ?triple/s]",
      "application/vnd.jupyter.widget-view+json": {
       "version_major": 2,
       "version_minor": 0,
       "model_id": "c19c7651c4d148c4a90c6c58a905d73d"
      }
     },
     "metadata": {},
     "output_type": "display_data"
    }
   ],
   "source": [
    "evaluator = RankBasedEvaluator()\n",
    "results = evaluate(model, test.mapped_triples, evaluator, batch_size=1024, mode=None, device=torch.device('cpu'),\n",
    "                   additional_filter_triples=[train.mapped_triples, valid.mapped_triples, test.mapped_triples])"
   ],
   "metadata": {
    "collapsed": false,
    "pycharm": {
     "name": "#%%\n"
    }
   }
  },
  {
   "cell_type": "code",
   "execution_count": 17,
   "outputs": [
    {
     "name": "stdout",
     "output_type": "stream",
     "text": [
      "both.inverse_harmonic_mean_rank         0.07\n",
      "both.hits_at_1                          0.07\n",
      "both.hits_at_3                          0.07\n",
      "both.hits_at_10                         0.07\n"
     ]
    }
   ],
   "source": [
    "metrics = ['both.inverse_harmonic_mean_rank',\n",
    "           'both.hits_at_1',\n",
    "           'both.hits_at_3',\n",
    "           'both.hits_at_10']\n",
    "\n",
    "for m in metrics:\n",
    "    print(f'{m:<40}{results.get_metric(m) * 100:.2f}')"
   ],
   "metadata": {
    "collapsed": false,
    "pycharm": {
     "name": "#%%\n"
    }
   }
  }
 ],
 "metadata": {
  "kernelspec": {
   "display_name": "Python 3",
   "language": "python",
   "name": "python3"
  },
  "language_info": {
   "codemirror_mode": {
    "name": "ipython",
    "version": 2
   },
   "file_extension": ".py",
   "mimetype": "text/x-python",
   "name": "python",
   "nbconvert_exporter": "python",
   "pygments_lexer": "ipython2",
   "version": "2.7.6"
  }
 },
 "nbformat": 4,
 "nbformat_minor": 0
}