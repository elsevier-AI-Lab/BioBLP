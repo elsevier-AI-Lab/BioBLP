{
 "cells": [
  {
   "cell_type": "markdown",
   "metadata": {},
   "source": [
    "## BioBLP Demo notebook"
   ]
  },
  {
   "cell_type": "markdown",
   "metadata": {},
   "source": [
    "In this notebook we want to showcase the BioBLP as a Natural Language Interface (NLI) \n"
   ]
  },
  {
   "cell_type": "markdown",
   "metadata": {},
   "source": [
    "- Super basic UI\n",
    "    - 3 widgets:\n",
    "        - DrugBank ID input (textbox/dropdown?)\n",
    "        - Relation dropdown (Drug-Disease Association)\n",
    "        - Disease description (textbox)\n",
    "        \n",
    "- Load pre-trained BioBLP-D\n",
    "- Post input functionality:\n",
    "    - Setting <subject, relation>\n",
    "    - Tokenization of input text (disease description) :: TextEntityPropertyPreprocessor\n",
    "    - Forward pass"
   ]
  },
  {
   "cell_type": "code",
   "execution_count": 26,
   "metadata": {},
   "outputs": [],
   "source": [
    "# BASE STUFF\n",
    "import os.path as osp\n",
    "import torch\n",
    "\n",
    "from bioblp.loaders.preprocessors import TextEntityPropertyPreprocessor\n",
    "from transformers import AutoTokenizer, AutoModel"
   ]
  },
  {
   "cell_type": "code",
   "execution_count": 32,
   "metadata": {},
   "outputs": [],
   "source": [
    "# INTERACTIVE UI STUFF\n",
    "import ipywidgets as widgets\n",
    "from IPython.display import display\n",
    "layout = widgets.Layout(width='auto', height='40px') "
   ]
  },
  {
   "cell_type": "code",
   "execution_count": 47,
   "metadata": {},
   "outputs": [
    {
     "data": {
      "application/vnd.jupyter.widget-view+json": {
       "model_id": "d1fe44ca3c8a41d584807bf7f50fa38b",
       "version_major": 2,
       "version_minor": 0
      },
      "text/plain": [
       "Button(description='Predict potential drugs for the described disease!', layout=Layout(height='40px', width='a…"
      ]
     },
     "metadata": {},
     "output_type": "display_data"
    }
   ],
   "source": [
    "# BASIC BUTTON FUNC -> we want a TextArea for disease desc AND a button to get predictions back!\n",
    "btn = widgets.Button(description='Predict potential drugs for the described disease!',\n",
    "                     layout=layout)\n",
    "\n",
    "def btn_eventhandler(obj):\n",
    "    print('Hello from the {} button!'.format(obj.description))\n",
    "    \n",
    "btn.on_click(btn_eventhandler)\n",
    "\n",
    "display(btn)\n"
   ]
  },
  {
   "cell_type": "code",
   "execution_count": 39,
   "metadata": {},
   "outputs": [],
   "source": [
    "# TEXT AREA FOR DESCRIPTIONS\n",
    "txtsl = widgets.Textarea(\n",
    " placeholder='Enter the description of the disease you are interested in...',\n",
    " description='Disease description')"
   ]
  },
  {
   "cell_type": "code",
   "execution_count": 42,
   "metadata": {},
   "outputs": [
    {
     "data": {
      "application/vnd.jupyter.widget-view+json": {
       "model_id": "3fe62d6394094e25a87f0939759822b9",
       "version_major": 2,
       "version_minor": 0
      },
      "text/plain": [
       "HBox(children=(Button(description='Predict potential drugs for the described disease!', layout=Layout(height='…"
      ]
     },
     "metadata": {},
     "output_type": "display_data"
    }
   ],
   "source": [
    "# PUTTING IT ALL TOGETHER\n",
    "input_widgets = widgets.HBox(\n",
    "[btn])\n",
    "display(input_widgets)"
   ]
  },
  {
   "cell_type": "code",
   "execution_count": 43,
   "metadata": {},
   "outputs": [],
   "source": [
    "# TEST DISEASE\n",
    "# D000006\n",
    "test_disease_descr = '''A clinical syndrome with acute abdominal pain that is severe, \n",
    "localized, and rapid in onset. Acute abdomen may be caused by a variety of disorders, injuries, or diseases.'''"
   ]
  },
  {
   "cell_type": "code",
   "execution_count": 44,
   "metadata": {},
   "outputs": [],
   "source": [
    "# LOAD PRETRAINED MODEL\n",
    "base_path = osp.join('..', 'models', 'bioblpd-38uz9fjs')\n",
    "model_path = osp.join(base_path, 'trained_model.pkl')\n",
    "model = torch.load(model_path)"
   ]
  },
  {
   "cell_type": "code",
   "execution_count": 45,
   "metadata": {},
   "outputs": [],
   "source": [
    "# LOAD BIOBERT STUFF + TEXT PREPROCESS\n",
    "BASE_MODEL = 'dmis-lab/biobert-base-cased-v1.2'\n",
    "\n",
    "tokenizer = AutoTokenizer.from_pretrained(BASE_MODEL)\n",
    "\n",
    "preprocessor = TextEntityPropertyPreprocessor(tokenizer, max_length=64)"
   ]
  },
  {
   "cell_type": "code",
   "execution_count": 51,
   "metadata": {},
   "outputs": [],
   "source": [
    "# TOKENIZE THE INPUT DESCRIPTION TO PASS AS MODEL INPUT\n",
    "tokens = tokenizer(test_disease_descr)"
   ]
  },
  {
   "cell_type": "markdown",
   "metadata": {},
   "source": [
    "tokens"
   ]
  },
  {
   "cell_type": "code",
   "execution_count": 52,
   "metadata": {},
   "outputs": [
    {
     "name": "stdout",
     "output_type": "stream",
     "text": [
      "[100, 100, 100]\n"
     ]
    }
   ],
   "source": [
    "# Forward pass\n",
    "ids = tokenizer.convert_tokens_to_ids(tokens)\n",
    "\n",
    "print(ids)"
   ]
  },
  {
   "cell_type": "code",
   "execution_count": 55,
   "metadata": {},
   "outputs": [],
   "source": [
    "encoder = model.property_encoder.type_id_to_encoder[0]"
   ]
  },
  {
   "cell_type": "code",
   "execution_count": null,
   "metadata": {},
   "outputs": [],
   "source": [
    "encoder.forward(tokens, device='cpu')"
   ]
  },
  {
   "cell_type": "code",
   "execution_count": null,
   "metadata": {},
   "outputs": [],
   "source": []
  }
 ],
 "metadata": {
  "kernelspec": {
   "display_name": "condaBioBLP39",
   "language": "python",
   "name": "condabioblp39"
  },
  "language_info": {
   "codemirror_mode": {
    "name": "ipython",
    "version": 3
   },
   "file_extension": ".py",
   "mimetype": "text/x-python",
   "name": "python",
   "nbconvert_exporter": "python",
   "pygments_lexer": "ipython3",
   "version": "3.9.16"
  }
 },
 "nbformat": 4,
 "nbformat_minor": 4
}
