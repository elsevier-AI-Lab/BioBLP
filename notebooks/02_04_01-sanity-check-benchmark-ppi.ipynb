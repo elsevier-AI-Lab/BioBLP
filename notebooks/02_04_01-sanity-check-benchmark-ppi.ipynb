{
 "cells": [
  {
   "cell_type": "markdown",
   "id": "7e527035-54e6-4fb6-ace1-0fb18a8e94b9",
   "metadata": {},
   "source": [
    "Let us have a look at the phosphorylates dataset."
   ]
  },
  {
   "cell_type": "code",
   "execution_count": 1,
   "id": "ebda5ad1-7ec5-4888-a66d-fa995587fbb9",
   "metadata": {},
   "outputs": [
    {
     "name": "stderr",
     "output_type": "stream",
     "text": [
      "/home/jovyan/.conda/envs/bioblp-env/lib/python3.9/site-packages/tqdm/auto.py:22: TqdmWarning: IProgress not found. Please update jupyter and ipywidgets. See https://ipywidgets.readthedocs.io/en/stable/user_install.html\n",
      "  from .autonotebook import tqdm as notebook_tqdm\n"
     ]
    }
   ],
   "source": [
    "import torch\n",
    "\n",
    "import pandas as pd\n",
    "import numpy as np\n",
    "\n",
    "from pathlib import Path"
   ]
  },
  {
   "cell_type": "code",
   "execution_count": 2,
   "id": "4e838c71-357c-4494-b3a2-5ce7b746e727",
   "metadata": {},
   "outputs": [],
   "source": [
    "DATA_DIR = Path(\"/home/jovyan/workbench-shared-folder/bioblp/\")"
   ]
  },
  {
   "cell_type": "code",
   "execution_count": 3,
   "id": "59619119-3abd-4131-9e6e-84b1776e25c3",
   "metadata": {},
   "outputs": [],
   "source": [
    "phospho_path = DATA_DIR.joinpath(\"data/benchmarks/transductive/phosphorylation.tsv\")\n",
    "\n",
    "phospho_df = pd.read_csv(phospho_path, sep=\"\\t\", header=None)\n",
    "phospho_df.columns = [\"src\", \"edg\", \"tgt\"]"
   ]
  },
  {
   "cell_type": "code",
   "execution_count": 4,
   "id": "c7f89535-5ddc-41c0-927f-2b0347ecabe5",
   "metadata": {},
   "outputs": [
    {
     "data": {
      "text/html": [
       "<div>\n",
       "<style scoped>\n",
       "    .dataframe tbody tr th:only-of-type {\n",
       "        vertical-align: middle;\n",
       "    }\n",
       "\n",
       "    .dataframe tbody tr th {\n",
       "        vertical-align: top;\n",
       "    }\n",
       "\n",
       "    .dataframe thead th {\n",
       "        text-align: right;\n",
       "    }\n",
       "</style>\n",
       "<table border=\"1\" class=\"dataframe\">\n",
       "  <thead>\n",
       "    <tr style=\"text-align: right;\">\n",
       "      <th></th>\n",
       "      <th>src</th>\n",
       "      <th>edg</th>\n",
       "      <th>tgt</th>\n",
       "    </tr>\n",
       "  </thead>\n",
       "  <tbody>\n",
       "    <tr>\n",
       "      <th>0</th>\n",
       "      <td>P06241</td>\n",
       "      <td>phosphorylates</td>\n",
       "      <td>P37840</td>\n",
       "    </tr>\n",
       "    <tr>\n",
       "      <th>1</th>\n",
       "      <td>Q9UQM7</td>\n",
       "      <td>phosphorylates</td>\n",
       "      <td>Q9UQL6</td>\n",
       "    </tr>\n",
       "    <tr>\n",
       "      <th>2</th>\n",
       "      <td>P06493</td>\n",
       "      <td>phosphorylates</td>\n",
       "      <td>P60891</td>\n",
       "    </tr>\n",
       "    <tr>\n",
       "      <th>3</th>\n",
       "      <td>Q15759</td>\n",
       "      <td>phosphorylates</td>\n",
       "      <td>P00533</td>\n",
       "    </tr>\n",
       "    <tr>\n",
       "      <th>4</th>\n",
       "      <td>P31749</td>\n",
       "      <td>phosphorylates</td>\n",
       "      <td>P19634</td>\n",
       "    </tr>\n",
       "    <tr>\n",
       "      <th>...</th>\n",
       "      <td>...</td>\n",
       "      <td>...</td>\n",
       "      <td>...</td>\n",
       "    </tr>\n",
       "    <tr>\n",
       "      <th>24544</th>\n",
       "      <td>P35626</td>\n",
       "      <td>phosphorylates</td>\n",
       "      <td>P51681</td>\n",
       "    </tr>\n",
       "    <tr>\n",
       "      <th>24545</th>\n",
       "      <td>O14578</td>\n",
       "      <td>phosphorylates</td>\n",
       "      <td>Q9UI36</td>\n",
       "    </tr>\n",
       "    <tr>\n",
       "      <th>24546</th>\n",
       "      <td>P17252</td>\n",
       "      <td>phosphorylates</td>\n",
       "      <td>Q8TD43</td>\n",
       "    </tr>\n",
       "    <tr>\n",
       "      <th>24547</th>\n",
       "      <td>P49841</td>\n",
       "      <td>phosphorylates</td>\n",
       "      <td>Q8NHW3</td>\n",
       "    </tr>\n",
       "    <tr>\n",
       "      <th>24548</th>\n",
       "      <td>P53350</td>\n",
       "      <td>phosphorylates</td>\n",
       "      <td>Q9BYP7</td>\n",
       "    </tr>\n",
       "  </tbody>\n",
       "</table>\n",
       "<p>24549 rows × 3 columns</p>\n",
       "</div>"
      ],
      "text/plain": [
       "          src             edg     tgt\n",
       "0      P06241  phosphorylates  P37840\n",
       "1      Q9UQM7  phosphorylates  Q9UQL6\n",
       "2      P06493  phosphorylates  P60891\n",
       "3      Q15759  phosphorylates  P00533\n",
       "4      P31749  phosphorylates  P19634\n",
       "...       ...             ...     ...\n",
       "24544  P35626  phosphorylates  P51681\n",
       "24545  O14578  phosphorylates  Q9UI36\n",
       "24546  P17252  phosphorylates  Q8TD43\n",
       "24547  P49841  phosphorylates  Q8NHW3\n",
       "24548  P53350  phosphorylates  Q9BYP7\n",
       "\n",
       "[24549 rows x 3 columns]"
      ]
     },
     "execution_count": 4,
     "metadata": {},
     "output_type": "execute_result"
    }
   ],
   "source": [
    "phospho_df"
   ]
  },
  {
   "cell_type": "code",
   "execution_count": 5,
   "id": "c747f019",
   "metadata": {},
   "outputs": [],
   "source": [
    "unique_entities = set(list(phospho_df.src.unique()) + list(phospho_df.tgt.unique()))"
   ]
  },
  {
   "cell_type": "markdown",
   "id": "96f03912-5496-49d8-8544-494ce60b0389",
   "metadata": {},
   "source": [
    "### negative sampling"
   ]
  },
  {
   "cell_type": "code",
   "execution_count": 6,
   "id": "a7986e1b",
   "metadata": {},
   "outputs": [],
   "source": [
    "from bioblp.benchmarking.preprocess import prepare_dpi_samples"
   ]
  },
  {
   "cell_type": "code",
   "execution_count": 7,
   "id": "a31c7e12",
   "metadata": {},
   "outputs": [
    {
     "name": "stderr",
     "output_type": "stream",
     "text": [
      "Reconstructing all label-based triples. This is expensive and rarely needed.\n"
     ]
    }
   ],
   "source": [
    "phospho_prepped_df = prepare_dpi_samples(phospho_df, num_negs_per_pos=10)"
   ]
  },
  {
   "cell_type": "code",
   "execution_count": 8,
   "id": "46ecef68",
   "metadata": {},
   "outputs": [],
   "source": [
    "resulting_entities_sampled = set(list(phospho_prepped_df.src.unique()) + list(phospho_prepped_df.tgt.unique()))"
   ]
  },
  {
   "cell_type": "code",
   "execution_count": 9,
   "id": "812958ca",
   "metadata": {},
   "outputs": [
    {
     "data": {
      "text/plain": [
       "0"
      ]
     },
     "execution_count": 9,
     "metadata": {},
     "output_type": "execute_result"
    }
   ],
   "source": [
    "len(resulting_entities_sampled - unique_entities)"
   ]
  },
  {
   "cell_type": "code",
   "execution_count": 10,
   "id": "0f1b85f3",
   "metadata": {},
   "outputs": [
    {
     "data": {
      "text/html": [
       "<div>\n",
       "<style scoped>\n",
       "    .dataframe tbody tr th:only-of-type {\n",
       "        vertical-align: middle;\n",
       "    }\n",
       "\n",
       "    .dataframe tbody tr th {\n",
       "        vertical-align: top;\n",
       "    }\n",
       "\n",
       "    .dataframe thead th {\n",
       "        text-align: right;\n",
       "    }\n",
       "</style>\n",
       "<table border=\"1\" class=\"dataframe\">\n",
       "  <thead>\n",
       "    <tr style=\"text-align: right;\">\n",
       "      <th></th>\n",
       "      <th>src</th>\n",
       "      <th>edg</th>\n",
       "      <th>tgt</th>\n",
       "      <th>label</th>\n",
       "    </tr>\n",
       "  </thead>\n",
       "  <tbody>\n",
       "    <tr>\n",
       "      <th>0</th>\n",
       "      <td>P06241</td>\n",
       "      <td>phosphorylates</td>\n",
       "      <td>P37840</td>\n",
       "      <td>1</td>\n",
       "    </tr>\n",
       "    <tr>\n",
       "      <th>1</th>\n",
       "      <td>Q9UQM7</td>\n",
       "      <td>phosphorylates</td>\n",
       "      <td>Q9UQL6</td>\n",
       "      <td>1</td>\n",
       "    </tr>\n",
       "    <tr>\n",
       "      <th>2</th>\n",
       "      <td>P06493</td>\n",
       "      <td>phosphorylates</td>\n",
       "      <td>P60891</td>\n",
       "      <td>1</td>\n",
       "    </tr>\n",
       "    <tr>\n",
       "      <th>3</th>\n",
       "      <td>Q15759</td>\n",
       "      <td>phosphorylates</td>\n",
       "      <td>P00533</td>\n",
       "      <td>1</td>\n",
       "    </tr>\n",
       "    <tr>\n",
       "      <th>4</th>\n",
       "      <td>P31749</td>\n",
       "      <td>phosphorylates</td>\n",
       "      <td>P19634</td>\n",
       "      <td>1</td>\n",
       "    </tr>\n",
       "    <tr>\n",
       "      <th>...</th>\n",
       "      <td>...</td>\n",
       "      <td>...</td>\n",
       "      <td>...</td>\n",
       "      <td>...</td>\n",
       "    </tr>\n",
       "    <tr>\n",
       "      <th>192944</th>\n",
       "      <td>Q9Y6R4</td>\n",
       "      <td>phosphorylates</td>\n",
       "      <td>Q8N4C6</td>\n",
       "      <td>0</td>\n",
       "    </tr>\n",
       "    <tr>\n",
       "      <th>192945</th>\n",
       "      <td>Q9Y6R4</td>\n",
       "      <td>phosphorylates</td>\n",
       "      <td>Q92685</td>\n",
       "      <td>0</td>\n",
       "    </tr>\n",
       "    <tr>\n",
       "      <th>192946</th>\n",
       "      <td>P27448</td>\n",
       "      <td>phosphorylates</td>\n",
       "      <td>Q9Y6R4</td>\n",
       "      <td>0</td>\n",
       "    </tr>\n",
       "    <tr>\n",
       "      <th>192947</th>\n",
       "      <td>Q9Y6R4</td>\n",
       "      <td>phosphorylates</td>\n",
       "      <td>Q2M2Z5</td>\n",
       "      <td>0</td>\n",
       "    </tr>\n",
       "    <tr>\n",
       "      <th>192948</th>\n",
       "      <td>Q9Y6R4</td>\n",
       "      <td>phosphorylates</td>\n",
       "      <td>Q9Y4B5</td>\n",
       "      <td>0</td>\n",
       "    </tr>\n",
       "  </tbody>\n",
       "</table>\n",
       "<p>192949 rows × 4 columns</p>\n",
       "</div>"
      ],
      "text/plain": [
       "           src             edg     tgt  label\n",
       "0       P06241  phosphorylates  P37840      1\n",
       "1       Q9UQM7  phosphorylates  Q9UQL6      1\n",
       "2       P06493  phosphorylates  P60891      1\n",
       "3       Q15759  phosphorylates  P00533      1\n",
       "4       P31749  phosphorylates  P19634      1\n",
       "...        ...             ...     ...    ...\n",
       "192944  Q9Y6R4  phosphorylates  Q8N4C6      0\n",
       "192945  Q9Y6R4  phosphorylates  Q92685      0\n",
       "192946  P27448  phosphorylates  Q9Y6R4      0\n",
       "192947  Q9Y6R4  phosphorylates  Q2M2Z5      0\n",
       "192948  Q9Y6R4  phosphorylates  Q9Y4B5      0\n",
       "\n",
       "[192949 rows x 4 columns]"
      ]
     },
     "execution_count": 10,
     "metadata": {},
     "output_type": "execute_result"
    }
   ],
   "source": [
    "phospho_prepped_df"
   ]
  },
  {
   "cell_type": "markdown",
   "id": "260d68fa-c6a6-4271-a5c0-919640c24330",
   "metadata": {},
   "source": [
    "### Featurise"
   ]
  },
  {
   "cell_type": "code",
   "execution_count": 12,
   "id": "ecdf1ac8-4aca-4cd3-acbc-f42144bb5c53",
   "metadata": {},
   "outputs": [
    {
     "name": "stdout",
     "output_type": "stream",
     "text": [
      "getting protein embeddings\n"
     ]
    },
    {
     "ename": "RuntimeError",
     "evalue": "PytorchStreamReader failed reading zip archive: failed finding central directory",
     "output_type": "error",
     "traceback": [
      "\u001b[0;31m---------------------------------------------------------------------------\u001b[0m",
      "\u001b[0;31mRuntimeError\u001b[0m                              Traceback (most recent call last)",
      "Input \u001b[0;32mIn [12]\u001b[0m, in \u001b[0;36m<cell line: 5>\u001b[0;34m()\u001b[0m\n\u001b[1;32m      1\u001b[0m \u001b[38;5;28mprint\u001b[39m(\u001b[38;5;124m\"\u001b[39m\u001b[38;5;124mgetting protein embeddings\u001b[39m\u001b[38;5;124m\"\u001b[39m)\n\u001b[1;32m      3\u001b[0m prot_embs_path \u001b[38;5;241m=\u001b[39m DATA_DIR\u001b[38;5;241m.\u001b[39mjoinpath(\u001b[38;5;124m\"\u001b[39m\u001b[38;5;124mdata/protein_data/protein_embeddings_full_24_12.pt\u001b[39m\u001b[38;5;124m\"\u001b[39m)\n\u001b[0;32m----> 5\u001b[0m embeddings \u001b[38;5;241m=\u001b[39m \u001b[43mtorch\u001b[49m\u001b[38;5;241;43m.\u001b[39;49m\u001b[43mload\u001b[49m\u001b[43m(\u001b[49m\u001b[43mprot_embs_path\u001b[49m\u001b[43m)\u001b[49m\n",
      "File \u001b[0;32m~/.conda/envs/bioblp-env/lib/python3.9/site-packages/torch/serialization.py:705\u001b[0m, in \u001b[0;36mload\u001b[0;34m(f, map_location, pickle_module, **pickle_load_args)\u001b[0m\n\u001b[1;32m    700\u001b[0m \u001b[38;5;28;01mif\u001b[39;00m _is_zipfile(opened_file):\n\u001b[1;32m    701\u001b[0m     \u001b[38;5;66;03m# The zipfile reader is going to advance the current file position.\u001b[39;00m\n\u001b[1;32m    702\u001b[0m     \u001b[38;5;66;03m# If we want to actually tail call to torch.jit.load, we need to\u001b[39;00m\n\u001b[1;32m    703\u001b[0m     \u001b[38;5;66;03m# reset back to the original position.\u001b[39;00m\n\u001b[1;32m    704\u001b[0m     orig_position \u001b[38;5;241m=\u001b[39m opened_file\u001b[38;5;241m.\u001b[39mtell()\n\u001b[0;32m--> 705\u001b[0m     \u001b[38;5;28;01mwith\u001b[39;00m \u001b[43m_open_zipfile_reader\u001b[49m\u001b[43m(\u001b[49m\u001b[43mopened_file\u001b[49m\u001b[43m)\u001b[49m \u001b[38;5;28;01mas\u001b[39;00m opened_zipfile:\n\u001b[1;32m    706\u001b[0m         \u001b[38;5;28;01mif\u001b[39;00m _is_torchscript_zip(opened_zipfile):\n\u001b[1;32m    707\u001b[0m             warnings\u001b[38;5;241m.\u001b[39mwarn(\u001b[38;5;124m\"\u001b[39m\u001b[38;5;124m'\u001b[39m\u001b[38;5;124mtorch.load\u001b[39m\u001b[38;5;124m'\u001b[39m\u001b[38;5;124m received a zip file that looks like a TorchScript archive\u001b[39m\u001b[38;5;124m\"\u001b[39m\n\u001b[1;32m    708\u001b[0m                           \u001b[38;5;124m\"\u001b[39m\u001b[38;5;124m dispatching to \u001b[39m\u001b[38;5;124m'\u001b[39m\u001b[38;5;124mtorch.jit.load\u001b[39m\u001b[38;5;124m'\u001b[39m\u001b[38;5;124m (call \u001b[39m\u001b[38;5;124m'\u001b[39m\u001b[38;5;124mtorch.jit.load\u001b[39m\u001b[38;5;124m'\u001b[39m\u001b[38;5;124m directly to\u001b[39m\u001b[38;5;124m\"\u001b[39m\n\u001b[1;32m    709\u001b[0m                           \u001b[38;5;124m\"\u001b[39m\u001b[38;5;124m silence this warning)\u001b[39m\u001b[38;5;124m\"\u001b[39m, \u001b[38;5;167;01mUserWarning\u001b[39;00m)\n",
      "File \u001b[0;32m~/.conda/envs/bioblp-env/lib/python3.9/site-packages/torch/serialization.py:242\u001b[0m, in \u001b[0;36m_open_zipfile_reader.__init__\u001b[0;34m(self, name_or_buffer)\u001b[0m\n\u001b[1;32m    241\u001b[0m \u001b[38;5;28;01mdef\u001b[39;00m \u001b[38;5;21m__init__\u001b[39m(\u001b[38;5;28mself\u001b[39m, name_or_buffer) \u001b[38;5;241m-\u001b[39m\u001b[38;5;241m>\u001b[39m \u001b[38;5;28;01mNone\u001b[39;00m:\n\u001b[0;32m--> 242\u001b[0m     \u001b[38;5;28msuper\u001b[39m(_open_zipfile_reader, \u001b[38;5;28mself\u001b[39m)\u001b[38;5;241m.\u001b[39m\u001b[38;5;21m__init__\u001b[39m(\u001b[43mtorch\u001b[49m\u001b[38;5;241;43m.\u001b[39;49m\u001b[43m_C\u001b[49m\u001b[38;5;241;43m.\u001b[39;49m\u001b[43mPyTorchFileReader\u001b[49m\u001b[43m(\u001b[49m\u001b[43mname_or_buffer\u001b[49m\u001b[43m)\u001b[49m)\n",
      "\u001b[0;31mRuntimeError\u001b[0m: PytorchStreamReader failed reading zip archive: failed finding central directory"
     ]
    }
   ],
   "source": [
    "print(\"getting protein embeddings\")\n",
    "\n",
    "prot_embs_path = DATA_DIR.joinpath(\"data/protein_data/protein_embeddings_full_24_12.pt\")\n",
    "\n",
    "embeddings = torch.load(prot_embs_path)\n"
   ]
  },
  {
   "cell_type": "code",
   "execution_count": null,
   "id": "bc28eb68-057d-412c-9fd6-08db959d6903",
   "metadata": {},
   "outputs": [],
   "source": [
    "embeddings"
   ]
  },
  {
   "cell_type": "code",
   "execution_count": null,
   "id": "54ddb8d7-5e49-4952-a804-065e27fb733b",
   "metadata": {},
   "outputs": [],
   "source": [
    "\n",
    "with open(self.prot_embedding_path.joinpath(\"prot_to_idx.json\"), \"r\") as f:\n",
    "    id2_idx = json.load(f)\n",
    "\n",
    "# logger.info(id2_idx)\n",
    "logger.info(embeddings.shape)\n",
    "prot_with_emb = []\n",
    "prot_wo_emb = []\n",
    "\n",
    "for prot in proteins:\n",
    "    if prot in id2_idx:\n",
    "        prot_with_emb.append(id2_idx.get(prot))\n",
    "\n",
    "    else:\n",
    "        prot_wo_emb.append(prot)\n",
    "logger.info(\"--- Prots with embeddings ---\")\n",
    "logger.info(prot_with_emb)\n",
    "\n",
    "logger.info(\"--- Prots without embeddings ---\")\n",
    "logger.info(prot_wo_emb)\n",
    "\n",
    "logger.info(\n",
    "    f\"--- prots wo: {len(prot_wo_emb)} prots with {len(prot_with_emb)} ---\")\n",
    "logger.info(f\"--- prots in index: {len(id2_idx)} ----\")\n",
    "logger.info(\n",
    "    f\"--- proteins checked in index: {len([x for x in proteins if x in id2_idx])} ----\")\n",
    "logger.info(embeddings.shape)\n",
    "prot_indices = torch.tensor(prot_with_emb)\n",
    "\n",
    "prot_embeddings = embeddings[prot_indices]\n",
    "\n",
    "logger.info(\"--- protein embeddings ---\")\n",
    "logger.info(prot_embeddings.shape)\n",
    "return prot_embeddings"
   ]
  }
 ],
 "metadata": {
  "kernelspec": {
   "display_name": ".conda-bioblp-env [Python]",
   "language": "python",
   "name": "conda-env-.conda-bioblp-env-py"
  },
  "language_info": {
   "codemirror_mode": {
    "name": "ipython",
    "version": 3
   },
   "file_extension": ".py",
   "mimetype": "text/x-python",
   "name": "python",
   "nbconvert_exporter": "python",
   "pygments_lexer": "ipython3",
   "version": "3.9.13"
  },
  "vscode": {
   "interpreter": {
    "hash": "c313b0b0929f94c03130caa81adcdac46c3c408d7f1caca6c1104b192c16f937"
   }
  }
 },
 "nbformat": 4,
 "nbformat_minor": 5
}
