{
 "cells": [
  {
   "cell_type": "markdown",
   "id": "f2545473",
   "metadata": {},
   "source": [
    "# Evaluating a trained link predictor"
   ]
  },
  {
   "cell_type": "markdown",
   "id": "ae53d26d",
   "metadata": {},
   "source": [
    "We will take a closer look at how a trained link predictor performs in specific cases."
   ]
  },
  {
   "cell_type": "code",
   "execution_count": 1,
   "id": "044e748a",
   "metadata": {
    "ExecuteTime": {
     "end_time": "2023-04-20T15:29:25.789668Z",
     "start_time": "2023-04-20T15:29:25.768705Z"
    }
   },
   "outputs": [],
   "source": [
    "import logging\n",
    "import os.path as osp\n",
    "\n",
    "import matplotlib.pyplot as plt\n",
    "import pandas as pd\n",
    "from pykeen.evaluation import RankBasedEvaluator\n",
    "from pykeen.triples import TriplesFactory\n",
    "import torch\n",
    "from tqdm.notebook import tqdm\n",
    "\n",
    "import sys, os\n",
    "sys.path.append(os.getcwd() + os.sep + os.pardir)"
   ]
  },
  {
   "cell_type": "markdown",
   "id": "e131c5cf",
   "metadata": {},
   "source": [
    "Change this cell to generate a report for other datasets/models:"
   ]
  },
  {
   "cell_type": "code",
   "execution_count": 9,
   "id": "db315cb9",
   "metadata": {
    "ExecuteTime": {
     "end_time": "2023-04-20T15:29:27.712727Z",
     "start_time": "2023-04-20T15:29:27.695239Z"
    }
   },
   "outputs": [],
   "source": [
    "MODEL_ID = '1r75g9na'"
   ]
  },
  {
   "cell_type": "markdown",
   "id": "f62db008",
   "metadata": {},
   "source": [
    "## Loading model and data"
   ]
  },
  {
   "cell_type": "code",
   "execution_count": 10,
   "id": "cde739df",
   "metadata": {
    "ExecuteTime": {
     "end_time": "2023-04-20T15:15:58.570984Z",
     "start_time": "2023-04-20T15:15:55.735323Z"
    }
   },
   "outputs": [],
   "source": [
    "base_path = osp.join('..', 'models', MODEL_ID)\n",
    "model_path = osp.join(base_path, 'trained_model.pkl')\n",
    "device = torch.device('cuda' if torch.cuda.is_available() else 'cpu')\n",
    "model = torch.load(model_path).to(device)\n",
    "train = TriplesFactory.from_path_binary(osp.join(base_path, 'training_triples'))"
   ]
  },
  {
   "cell_type": "code",
   "execution_count": 11,
   "id": "d0b5f96a",
   "metadata": {
    "ExecuteTime": {
     "end_time": "2023-04-20T15:15:59.618349Z",
     "start_time": "2023-04-20T15:15:58.566325Z"
    }
   },
   "outputs": [],
   "source": [
    "graph_path = osp.join('..', 'data', 'biokgb', 'graph')\n",
    "valid_triples = 'biokg.links-valid.csv'\n",
    "test_triples = 'biokg.links-test.csv'\n",
    "\n",
    "valid, test = [TriplesFactory.from_path(osp.join(graph_path, f),\n",
    "                                        entity_to_id=train.entity_to_id,\n",
    "                                        relation_to_id=train.relation_to_id)\n",
    "               for f in (valid_triples, test_triples)]"
   ]
  },
  {
   "cell_type": "markdown",
   "id": "b8a1c764",
   "metadata": {},
   "source": [
    "## Evaluation"
   ]
  },
  {
   "cell_type": "code",
   "execution_count": 12,
   "id": "94284cc5",
   "metadata": {},
   "outputs": [],
   "source": [
    "evaluator = RankBasedEvaluator(filtered=True)"
   ]
  },
  {
   "cell_type": "markdown",
   "id": "591236a5",
   "metadata": {},
   "source": [
    "### Evaluation over the full set of relation types"
   ]
  },
  {
   "cell_type": "code",
   "execution_count": null,
   "id": "dc2fd34d",
   "metadata": {
    "ExecuteTime": {
     "end_time": "2023-04-20T15:16:32.652529Z",
     "start_time": "2023-04-20T15:16:09.528598Z"
    }
   },
   "outputs": [],
   "source": [
    "results = evaluator.evaluate(model, test.mapped_triples,\n",
    "                             additional_filter_triples=[train.mapped_triples,\n",
    "                                                        valid.mapped_triples])"
   ]
  },
  {
   "cell_type": "code",
   "execution_count": null,
   "id": "820e9ada",
   "metadata": {
    "ExecuteTime": {
     "end_time": "2023-04-20T15:18:02.793839Z",
     "start_time": "2023-04-20T15:18:02.735388Z"
    }
   },
   "outputs": [],
   "source": [
    "results.get_metric('both.realistic.hits_at_1')"
   ]
  },
  {
   "cell_type": "markdown",
   "id": "b99e1860",
   "metadata": {},
   "source": [
    "### Evaluating over specific relation types"
   ]
  },
  {
   "cell_type": "code",
   "execution_count": 13,
   "id": "d7ac0196",
   "metadata": {
    "ExecuteTime": {
     "end_time": "2023-04-20T15:32:40.695244Z",
     "start_time": "2023-04-20T15:29:31.229851Z"
    }
   },
   "outputs": [
    {
     "data": {
      "application/vnd.jupyter.widget-view+json": {
       "model_id": "ca16ccbfc3a447cdbc5e20824048b947",
       "version_major": 2,
       "version_minor": 0
      },
      "text/plain": [
       "Evaluating over each relation:   0%|          | 0/17 [00:00<?, ?it/s]"
      ]
     },
     "metadata": {},
     "output_type": "display_data"
    },
    {
     "data": {
      "application/vnd.jupyter.widget-view+json": {
       "model_id": "89da55e3fa0946e7b5ed884f5390289c",
       "version_major": 2,
       "version_minor": 0
      },
      "text/plain": [
       "Evaluating on cuda:0:   0%|          | 0.00/878 [00:00<?, ?triple/s]"
      ]
     },
     "metadata": {},
     "output_type": "display_data"
    },
    {
     "data": {
      "application/vnd.jupyter.widget-view+json": {
       "model_id": "c8ee065d3e30429bb3532bb2e35d9cb0",
       "version_major": 2,
       "version_minor": 0
      },
      "text/plain": [
       "Evaluating on cuda:0:   0%|          | 0.00/1.65k [00:00<?, ?triple/s]"
      ]
     },
     "metadata": {},
     "output_type": "display_data"
    },
    {
     "data": {
      "application/vnd.jupyter.widget-view+json": {
       "model_id": "1282b3bacbcd43c694b888997f7996bf",
       "version_major": 2,
       "version_minor": 0
      },
      "text/plain": [
       "Evaluating on cuda:0:   0%|          | 0.00/121k [00:00<?, ?triple/s]"
      ]
     },
     "metadata": {},
     "output_type": "display_data"
    },
    {
     "data": {
      "application/vnd.jupyter.widget-view+json": {
       "model_id": "b7adcc79348245349dbf0f16ce58219e",
       "version_major": 2,
       "version_minor": 0
      },
      "text/plain": [
       "Evaluating on cuda:0:   0%|          | 0.00/261 [00:00<?, ?triple/s]"
      ]
     },
     "metadata": {},
     "output_type": "display_data"
    },
    {
     "data": {
      "application/vnd.jupyter.widget-view+json": {
       "model_id": "9751e6fcb6484a08945fa1dcf072cdd9",
       "version_major": 2,
       "version_minor": 0
      },
      "text/plain": [
       "Evaluating on cuda:0:   0%|          | 0.00/293 [00:00<?, ?triple/s]"
      ]
     },
     "metadata": {},
     "output_type": "display_data"
    },
    {
     "data": {
      "application/vnd.jupyter.widget-view+json": {
       "model_id": "f27325d195be43c4af23068a2b8a5215",
       "version_major": 2,
       "version_minor": 0
      },
      "text/plain": [
       "Evaluating on cuda:0:   0%|          | 0.00/527 [00:00<?, ?triple/s]"
      ]
     },
     "metadata": {},
     "output_type": "display_data"
    },
    {
     "data": {
      "application/vnd.jupyter.widget-view+json": {
       "model_id": "c470b1ad56c54cd8bce787e81ee48b6e",
       "version_major": 2,
       "version_minor": 0
      },
      "text/plain": [
       "Evaluating on cuda:0:   0%|          | 0.00/13.0 [00:00<?, ?triple/s]"
      ]
     },
     "metadata": {},
     "output_type": "display_data"
    },
    {
     "data": {
      "application/vnd.jupyter.widget-view+json": {
       "model_id": "325e43f31ad54b7cb1bc972ecea4736e",
       "version_major": 2,
       "version_minor": 0
      },
      "text/plain": [
       "Evaluating on cuda:0:   0%|          | 0.00/6.75k [00:00<?, ?triple/s]"
      ]
     },
     "metadata": {},
     "output_type": "display_data"
    },
    {
     "data": {
      "application/vnd.jupyter.widget-view+json": {
       "model_id": "add5f5e33b2c45bfb45b30618e43fbd4",
       "version_major": 2,
       "version_minor": 0
      },
      "text/plain": [
       "Evaluating on cuda:0:   0%|          | 0.00/67.0 [00:00<?, ?triple/s]"
      ]
     },
     "metadata": {},
     "output_type": "display_data"
    },
    {
     "data": {
      "application/vnd.jupyter.widget-view+json": {
       "model_id": "9c48f9ae25464cc491f691f41881eea3",
       "version_major": 2,
       "version_minor": 0
      },
      "text/plain": [
       "Evaluating on cuda:0:   0%|          | 0.00/426 [00:00<?, ?triple/s]"
      ]
     },
     "metadata": {},
     "output_type": "display_data"
    },
    {
     "data": {
      "application/vnd.jupyter.widget-view+json": {
       "model_id": "8d17f832eb6642a1ae05b020c0f06f12",
       "version_major": 2,
       "version_minor": 0
      },
      "text/plain": [
       "Evaluating on cuda:0:   0%|          | 0.00/745 [00:00<?, ?triple/s]"
      ]
     },
     "metadata": {},
     "output_type": "display_data"
    },
    {
     "data": {
      "application/vnd.jupyter.widget-view+json": {
       "model_id": "a440947bf97c41e480b8b9c84d05a4e8",
       "version_major": 2,
       "version_minor": 0
      },
      "text/plain": [
       "Evaluating on cuda:0:   0%|          | 0.00/35.0 [00:00<?, ?triple/s]"
      ]
     },
     "metadata": {},
     "output_type": "display_data"
    },
    {
     "data": {
      "application/vnd.jupyter.widget-view+json": {
       "model_id": "0678a36201b84f94b79e8a22850e0e76",
       "version_major": 2,
       "version_minor": 0
      },
      "text/plain": [
       "Evaluating on cuda:0:   0%|          | 0.00/8.13k [00:00<?, ?triple/s]"
      ]
     },
     "metadata": {},
     "output_type": "display_data"
    },
    {
     "data": {
      "application/vnd.jupyter.widget-view+json": {
       "model_id": "3364544c18054b268fcbbcda68df1a10",
       "version_major": 2,
       "version_minor": 0
      },
      "text/plain": [
       "Evaluating on cuda:0:   0%|          | 0.00/10.7k [00:00<?, ?triple/s]"
      ]
     },
     "metadata": {},
     "output_type": "display_data"
    },
    {
     "data": {
      "application/vnd.jupyter.widget-view+json": {
       "model_id": "3c4b57bc3d4b400092e6c10a9a2c5ebd",
       "version_major": 2,
       "version_minor": 0
      },
      "text/plain": [
       "Evaluating on cuda:0:   0%|          | 0.00/9.76k [00:00<?, ?triple/s]"
      ]
     },
     "metadata": {},
     "output_type": "display_data"
    },
    {
     "data": {
      "application/vnd.jupyter.widget-view+json": {
       "model_id": "1b8831d5d3b74d27bbb3ea82e3bb0159",
       "version_major": 2,
       "version_minor": 0
      },
      "text/plain": [
       "Evaluating on cuda:0:   0%|          | 0.00/23.9k [00:00<?, ?triple/s]"
      ]
     },
     "metadata": {},
     "output_type": "display_data"
    },
    {
     "data": {
      "application/vnd.jupyter.widget-view+json": {
       "model_id": "d181315624114518998c90c8a3e4e8f0",
       "version_major": 2,
       "version_minor": 0
      },
      "text/plain": [
       "Evaluating on cuda:0:   0%|          | 0.00/249 [00:00<?, ?triple/s]"
      ]
     },
     "metadata": {},
     "output_type": "display_data"
    }
   ],
   "source": [
    "train.relation_to_id\n",
    "result_dicts = []\n",
    "for relation in tqdm(train.relation_to_id, desc='Evaluating over each relation'):\n",
    "    triples_subset = test.new_with_restriction(relations=[relation])\n",
    "    if triples_subset.num_triples > 0:\n",
    "        subset_result = evaluator.evaluate(model,\n",
    "                                           triples_subset.mapped_triples,\n",
    "                                           additional_filter_triples=[train.mapped_triples,\n",
    "                                                                      valid.mapped_triples],\n",
    "                                           batch_size=16)\n",
    "        result_dicts.append({'results': subset_result, 'relation': relation, 'count': triples_subset.num_triples})"
   ]
  },
  {
   "cell_type": "code",
   "execution_count": 14,
   "id": "4e70c5c3",
   "metadata": {
    "ExecuteTime": {
     "end_time": "2023-04-20T15:40:18.379146Z",
     "start_time": "2023-04-20T15:40:18.323846Z"
    }
   },
   "outputs": [
    {
     "data": {
      "text/html": [
       "<div>\n",
       "<style scoped>\n",
       "    .dataframe tbody tr th:only-of-type {\n",
       "        vertical-align: middle;\n",
       "    }\n",
       "\n",
       "    .dataframe tbody tr th {\n",
       "        vertical-align: top;\n",
       "    }\n",
       "\n",
       "    .dataframe thead th {\n",
       "        text-align: right;\n",
       "    }\n",
       "</style>\n",
       "<table border=\"1\" class=\"dataframe\">\n",
       "  <thead>\n",
       "    <tr style=\"text-align: right;\">\n",
       "      <th></th>\n",
       "      <th>relation</th>\n",
       "      <th>count</th>\n",
       "      <th>head.optimistic.adjusted_arithmetic_mean_rank</th>\n",
       "      <th>tail.optimistic.adjusted_arithmetic_mean_rank</th>\n",
       "      <th>both.optimistic.adjusted_arithmetic_mean_rank</th>\n",
       "      <th>head.realistic.adjusted_arithmetic_mean_rank</th>\n",
       "      <th>tail.realistic.adjusted_arithmetic_mean_rank</th>\n",
       "      <th>both.realistic.adjusted_arithmetic_mean_rank</th>\n",
       "      <th>head.pessimistic.adjusted_arithmetic_mean_rank</th>\n",
       "      <th>tail.pessimistic.adjusted_arithmetic_mean_rank</th>\n",
       "      <th>...</th>\n",
       "      <th>both.pessimistic.z_hits_at_k</th>\n",
       "      <th>head.optimistic.adjusted_hits_at_k</th>\n",
       "      <th>tail.optimistic.adjusted_hits_at_k</th>\n",
       "      <th>both.optimistic.adjusted_hits_at_k</th>\n",
       "      <th>head.realistic.adjusted_hits_at_k</th>\n",
       "      <th>tail.realistic.adjusted_hits_at_k</th>\n",
       "      <th>both.realistic.adjusted_hits_at_k</th>\n",
       "      <th>head.pessimistic.adjusted_hits_at_k</th>\n",
       "      <th>tail.pessimistic.adjusted_hits_at_k</th>\n",
       "      <th>both.pessimistic.adjusted_hits_at_k</th>\n",
       "    </tr>\n",
       "  </thead>\n",
       "  <tbody>\n",
       "    <tr>\n",
       "      <th>0</th>\n",
       "      <td>COMPLEX_IN_PATHWAY</td>\n",
       "      <td>878</td>\n",
       "      <td>0.009246</td>\n",
       "      <td>0.002842</td>\n",
       "      <td>0.006043</td>\n",
       "      <td>0.009246</td>\n",
       "      <td>0.002842</td>\n",
       "      <td>0.006043</td>\n",
       "      <td>0.009246</td>\n",
       "      <td>0.002842</td>\n",
       "      <td>...</td>\n",
       "      <td>2579.823082</td>\n",
       "      <td>0.363266</td>\n",
       "      <td>0.832558</td>\n",
       "      <td>0.597912</td>\n",
       "      <td>0.363266</td>\n",
       "      <td>0.832558</td>\n",
       "      <td>0.597912</td>\n",
       "      <td>0.363266</td>\n",
       "      <td>0.832558</td>\n",
       "      <td>0.597912</td>\n",
       "    </tr>\n",
       "    <tr>\n",
       "      <th>1</th>\n",
       "      <td>COMPLEX_TOP_LEVEL_PATHWAY</td>\n",
       "      <td>1649</td>\n",
       "      <td>0.167434</td>\n",
       "      <td>0.000121</td>\n",
       "      <td>0.083216</td>\n",
       "      <td>0.167434</td>\n",
       "      <td>0.000121</td>\n",
       "      <td>0.083217</td>\n",
       "      <td>0.167434</td>\n",
       "      <td>0.000121</td>\n",
       "      <td>...</td>\n",
       "      <td>3019.815450</td>\n",
       "      <td>0.043571</td>\n",
       "      <td>0.981199</td>\n",
       "      <td>0.512385</td>\n",
       "      <td>0.043571</td>\n",
       "      <td>0.981199</td>\n",
       "      <td>0.512385</td>\n",
       "      <td>0.043571</td>\n",
       "      <td>0.981199</td>\n",
       "      <td>0.512385</td>\n",
       "    </tr>\n",
       "    <tr>\n",
       "      <th>2</th>\n",
       "      <td>DDI</td>\n",
       "      <td>120830</td>\n",
       "      <td>0.015371</td>\n",
       "      <td>0.010181</td>\n",
       "      <td>0.012778</td>\n",
       "      <td>0.015371</td>\n",
       "      <td>0.010181</td>\n",
       "      <td>0.012778</td>\n",
       "      <td>0.015371</td>\n",
       "      <td>0.010181</td>\n",
       "      <td>...</td>\n",
       "      <td>4097.879499</td>\n",
       "      <td>0.064870</td>\n",
       "      <td>0.097531</td>\n",
       "      <td>0.081201</td>\n",
       "      <td>0.064870</td>\n",
       "      <td>0.097531</td>\n",
       "      <td>0.081201</td>\n",
       "      <td>0.064870</td>\n",
       "      <td>0.097531</td>\n",
       "      <td>0.081201</td>\n",
       "    </tr>\n",
       "    <tr>\n",
       "      <th>3</th>\n",
       "      <td>DISEASE_GENETIC_DISORDER</td>\n",
       "      <td>261</td>\n",
       "      <td>0.001612</td>\n",
       "      <td>0.031104</td>\n",
       "      <td>0.016357</td>\n",
       "      <td>0.001612</td>\n",
       "      <td>0.031104</td>\n",
       "      <td>0.016357</td>\n",
       "      <td>0.001612</td>\n",
       "      <td>0.031104</td>\n",
       "      <td>...</td>\n",
       "      <td>2221.720149</td>\n",
       "      <td>0.950187</td>\n",
       "      <td>0.938692</td>\n",
       "      <td>0.944439</td>\n",
       "      <td>0.950187</td>\n",
       "      <td>0.938692</td>\n",
       "      <td>0.944439</td>\n",
       "      <td>0.950187</td>\n",
       "      <td>0.938692</td>\n",
       "      <td>0.944439</td>\n",
       "    </tr>\n",
       "    <tr>\n",
       "      <th>4</th>\n",
       "      <td>DISEASE_PATHWAY_ASSOCIATION</td>\n",
       "      <td>293</td>\n",
       "      <td>0.030052</td>\n",
       "      <td>0.016021</td>\n",
       "      <td>0.023036</td>\n",
       "      <td>0.030052</td>\n",
       "      <td>0.016021</td>\n",
       "      <td>0.023036</td>\n",
       "      <td>0.030052</td>\n",
       "      <td>0.016021</td>\n",
       "      <td>...</td>\n",
       "      <td>939.906993</td>\n",
       "      <td>0.105718</td>\n",
       "      <td>0.648431</td>\n",
       "      <td>0.377074</td>\n",
       "      <td>0.105718</td>\n",
       "      <td>0.648431</td>\n",
       "      <td>0.377074</td>\n",
       "      <td>0.105718</td>\n",
       "      <td>0.648431</td>\n",
       "      <td>0.377074</td>\n",
       "    </tr>\n",
       "    <tr>\n",
       "      <th>5</th>\n",
       "      <td>DPI</td>\n",
       "      <td>527</td>\n",
       "      <td>0.032448</td>\n",
       "      <td>0.021712</td>\n",
       "      <td>0.027080</td>\n",
       "      <td>0.032448</td>\n",
       "      <td>0.021712</td>\n",
       "      <td>0.027080</td>\n",
       "      <td>0.032448</td>\n",
       "      <td>0.021712</td>\n",
       "      <td>...</td>\n",
       "      <td>519.877581</td>\n",
       "      <td>0.092894</td>\n",
       "      <td>0.218143</td>\n",
       "      <td>0.155518</td>\n",
       "      <td>0.092894</td>\n",
       "      <td>0.218143</td>\n",
       "      <td>0.155518</td>\n",
       "      <td>0.092894</td>\n",
       "      <td>0.218143</td>\n",
       "      <td>0.155518</td>\n",
       "    </tr>\n",
       "    <tr>\n",
       "      <th>6</th>\n",
       "      <td>DRUG_CARRIER</td>\n",
       "      <td>13</td>\n",
       "      <td>0.062889</td>\n",
       "      <td>0.002433</td>\n",
       "      <td>0.032658</td>\n",
       "      <td>0.062889</td>\n",
       "      <td>0.002433</td>\n",
       "      <td>0.032658</td>\n",
       "      <td>0.062889</td>\n",
       "      <td>0.002433</td>\n",
       "      <td>...</td>\n",
       "      <td>262.494808</td>\n",
       "      <td>0.076836</td>\n",
       "      <td>0.923070</td>\n",
       "      <td>0.499953</td>\n",
       "      <td>0.076836</td>\n",
       "      <td>0.923070</td>\n",
       "      <td>0.499953</td>\n",
       "      <td>0.076836</td>\n",
       "      <td>0.923070</td>\n",
       "      <td>0.499953</td>\n",
       "    </tr>\n",
       "    <tr>\n",
       "      <th>7</th>\n",
       "      <td>DRUG_DISEASE_ASSOCIATION</td>\n",
       "      <td>6749</td>\n",
       "      <td>0.066737</td>\n",
       "      <td>0.008736</td>\n",
       "      <td>0.037730</td>\n",
       "      <td>0.066737</td>\n",
       "      <td>0.008736</td>\n",
       "      <td>0.037730</td>\n",
       "      <td>0.066737</td>\n",
       "      <td>0.008736</td>\n",
       "      <td>...</td>\n",
       "      <td>358.556725</td>\n",
       "      <td>0.001387</td>\n",
       "      <td>0.058587</td>\n",
       "      <td>0.029987</td>\n",
       "      <td>0.001387</td>\n",
       "      <td>0.058587</td>\n",
       "      <td>0.029987</td>\n",
       "      <td>0.001387</td>\n",
       "      <td>0.058587</td>\n",
       "      <td>0.029987</td>\n",
       "    </tr>\n",
       "    <tr>\n",
       "      <th>8</th>\n",
       "      <td>DRUG_ENZYME</td>\n",
       "      <td>67</td>\n",
       "      <td>0.027691</td>\n",
       "      <td>0.000521</td>\n",
       "      <td>0.014102</td>\n",
       "      <td>0.027691</td>\n",
       "      <td>0.000521</td>\n",
       "      <td>0.014102</td>\n",
       "      <td>0.027691</td>\n",
       "      <td>0.000521</td>\n",
       "      <td>...</td>\n",
       "      <td>426.861402</td>\n",
       "      <td>0.029759</td>\n",
       "      <td>0.686538</td>\n",
       "      <td>0.358148</td>\n",
       "      <td>0.029759</td>\n",
       "      <td>0.686538</td>\n",
       "      <td>0.358148</td>\n",
       "      <td>0.029759</td>\n",
       "      <td>0.686538</td>\n",
       "      <td>0.358148</td>\n",
       "    </tr>\n",
       "    <tr>\n",
       "      <th>9</th>\n",
       "      <td>DRUG_PATHWAY_ASSOCIATION</td>\n",
       "      <td>426</td>\n",
       "      <td>0.028615</td>\n",
       "      <td>0.002396</td>\n",
       "      <td>0.015505</td>\n",
       "      <td>0.028615</td>\n",
       "      <td>0.002396</td>\n",
       "      <td>0.015505</td>\n",
       "      <td>0.028615</td>\n",
       "      <td>0.002396</td>\n",
       "      <td>...</td>\n",
       "      <td>564.186253</td>\n",
       "      <td>0.077378</td>\n",
       "      <td>0.298056</td>\n",
       "      <td>0.187717</td>\n",
       "      <td>0.077378</td>\n",
       "      <td>0.298056</td>\n",
       "      <td>0.187717</td>\n",
       "      <td>0.077378</td>\n",
       "      <td>0.298056</td>\n",
       "      <td>0.187717</td>\n",
       "    </tr>\n",
       "    <tr>\n",
       "      <th>10</th>\n",
       "      <td>DRUG_TARGET</td>\n",
       "      <td>745</td>\n",
       "      <td>0.035138</td>\n",
       "      <td>0.033266</td>\n",
       "      <td>0.034202</td>\n",
       "      <td>0.035138</td>\n",
       "      <td>0.033266</td>\n",
       "      <td>0.034202</td>\n",
       "      <td>0.035138</td>\n",
       "      <td>0.033266</td>\n",
       "      <td>...</td>\n",
       "      <td>479.830154</td>\n",
       "      <td>0.107298</td>\n",
       "      <td>0.134147</td>\n",
       "      <td>0.120722</td>\n",
       "      <td>0.107298</td>\n",
       "      <td>0.134147</td>\n",
       "      <td>0.120722</td>\n",
       "      <td>0.107298</td>\n",
       "      <td>0.134147</td>\n",
       "      <td>0.120722</td>\n",
       "    </tr>\n",
       "    <tr>\n",
       "      <th>11</th>\n",
       "      <td>DRUG_TRANSPORTER</td>\n",
       "      <td>35</td>\n",
       "      <td>0.065352</td>\n",
       "      <td>0.046633</td>\n",
       "      <td>0.055992</td>\n",
       "      <td>0.065352</td>\n",
       "      <td>0.046633</td>\n",
       "      <td>0.055992</td>\n",
       "      <td>0.065352</td>\n",
       "      <td>0.046633</td>\n",
       "      <td>...</td>\n",
       "      <td>270.703622</td>\n",
       "      <td>0.057054</td>\n",
       "      <td>0.571388</td>\n",
       "      <td>0.314221</td>\n",
       "      <td>0.057054</td>\n",
       "      <td>0.571388</td>\n",
       "      <td>0.314221</td>\n",
       "      <td>0.057054</td>\n",
       "      <td>0.571388</td>\n",
       "      <td>0.314221</td>\n",
       "    </tr>\n",
       "    <tr>\n",
       "      <th>12</th>\n",
       "      <td>MEMBER_OF_COMPLEX</td>\n",
       "      <td>8127</td>\n",
       "      <td>0.000597</td>\n",
       "      <td>0.005313</td>\n",
       "      <td>0.002954</td>\n",
       "      <td>0.000597</td>\n",
       "      <td>0.005313</td>\n",
       "      <td>0.002954</td>\n",
       "      <td>0.000597</td>\n",
       "      <td>0.005313</td>\n",
       "      <td>...</td>\n",
       "      <td>11305.827128</td>\n",
       "      <td>0.910783</td>\n",
       "      <td>0.811967</td>\n",
       "      <td>0.861375</td>\n",
       "      <td>0.910783</td>\n",
       "      <td>0.811967</td>\n",
       "      <td>0.861375</td>\n",
       "      <td>0.910783</td>\n",
       "      <td>0.811967</td>\n",
       "      <td>0.861375</td>\n",
       "    </tr>\n",
       "    <tr>\n",
       "      <th>13</th>\n",
       "      <td>PPI</td>\n",
       "      <td>10669</td>\n",
       "      <td>0.084653</td>\n",
       "      <td>0.090105</td>\n",
       "      <td>0.087379</td>\n",
       "      <td>0.084653</td>\n",
       "      <td>0.090105</td>\n",
       "      <td>0.087379</td>\n",
       "      <td>0.084653</td>\n",
       "      <td>0.090105</td>\n",
       "      <td>...</td>\n",
       "      <td>3839.562862</td>\n",
       "      <td>0.282058</td>\n",
       "      <td>0.228533</td>\n",
       "      <td>0.255296</td>\n",
       "      <td>0.282058</td>\n",
       "      <td>0.228533</td>\n",
       "      <td>0.255296</td>\n",
       "      <td>0.282058</td>\n",
       "      <td>0.228533</td>\n",
       "      <td>0.255296</td>\n",
       "    </tr>\n",
       "    <tr>\n",
       "      <th>14</th>\n",
       "      <td>PROTEIN_DISEASE_ASSOCIATION</td>\n",
       "      <td>9760</td>\n",
       "      <td>0.079806</td>\n",
       "      <td>0.017100</td>\n",
       "      <td>0.048403</td>\n",
       "      <td>0.079806</td>\n",
       "      <td>0.017100</td>\n",
       "      <td>0.048403</td>\n",
       "      <td>0.079806</td>\n",
       "      <td>0.017100</td>\n",
       "      <td>...</td>\n",
       "      <td>3113.792507</td>\n",
       "      <td>0.175434</td>\n",
       "      <td>0.257819</td>\n",
       "      <td>0.216627</td>\n",
       "      <td>0.175434</td>\n",
       "      <td>0.257819</td>\n",
       "      <td>0.216627</td>\n",
       "      <td>0.175434</td>\n",
       "      <td>0.257819</td>\n",
       "      <td>0.216627</td>\n",
       "    </tr>\n",
       "    <tr>\n",
       "      <th>15</th>\n",
       "      <td>PROTEIN_PATHWAY_ASSOCIATION</td>\n",
       "      <td>23949</td>\n",
       "      <td>0.061557</td>\n",
       "      <td>0.022117</td>\n",
       "      <td>0.041830</td>\n",
       "      <td>0.061557</td>\n",
       "      <td>0.022117</td>\n",
       "      <td>0.041830</td>\n",
       "      <td>0.061557</td>\n",
       "      <td>0.022117</td>\n",
       "      <td>...</td>\n",
       "      <td>11996.213728</td>\n",
       "      <td>0.463894</td>\n",
       "      <td>0.601031</td>\n",
       "      <td>0.532462</td>\n",
       "      <td>0.463894</td>\n",
       "      <td>0.601031</td>\n",
       "      <td>0.532462</td>\n",
       "      <td>0.463894</td>\n",
       "      <td>0.601031</td>\n",
       "      <td>0.532462</td>\n",
       "    </tr>\n",
       "    <tr>\n",
       "      <th>16</th>\n",
       "      <td>RELATED_GENETIC_DISORDER</td>\n",
       "      <td>249</td>\n",
       "      <td>0.182691</td>\n",
       "      <td>0.896919</td>\n",
       "      <td>0.539806</td>\n",
       "      <td>0.182691</td>\n",
       "      <td>0.896920</td>\n",
       "      <td>0.539806</td>\n",
       "      <td>0.182691</td>\n",
       "      <td>0.896920</td>\n",
       "      <td>...</td>\n",
       "      <td>78.235202</td>\n",
       "      <td>0.028021</td>\n",
       "      <td>0.040070</td>\n",
       "      <td>0.034045</td>\n",
       "      <td>0.028021</td>\n",
       "      <td>0.040070</td>\n",
       "      <td>0.034045</td>\n",
       "      <td>0.028021</td>\n",
       "      <td>0.040070</td>\n",
       "      <td>0.034045</td>\n",
       "    </tr>\n",
       "  </tbody>\n",
       "</table>\n",
       "<p>17 rows × 227 columns</p>\n",
       "</div>"
      ],
      "text/plain": [
       "                       relation   count  \\\n",
       "0            COMPLEX_IN_PATHWAY     878   \n",
       "1     COMPLEX_TOP_LEVEL_PATHWAY    1649   \n",
       "2                           DDI  120830   \n",
       "3      DISEASE_GENETIC_DISORDER     261   \n",
       "4   DISEASE_PATHWAY_ASSOCIATION     293   \n",
       "5                           DPI     527   \n",
       "6                  DRUG_CARRIER      13   \n",
       "7      DRUG_DISEASE_ASSOCIATION    6749   \n",
       "8                   DRUG_ENZYME      67   \n",
       "9      DRUG_PATHWAY_ASSOCIATION     426   \n",
       "10                  DRUG_TARGET     745   \n",
       "11             DRUG_TRANSPORTER      35   \n",
       "12            MEMBER_OF_COMPLEX    8127   \n",
       "13                          PPI   10669   \n",
       "14  PROTEIN_DISEASE_ASSOCIATION    9760   \n",
       "15  PROTEIN_PATHWAY_ASSOCIATION   23949   \n",
       "16     RELATED_GENETIC_DISORDER     249   \n",
       "\n",
       "    head.optimistic.adjusted_arithmetic_mean_rank  \\\n",
       "0                                        0.009246   \n",
       "1                                        0.167434   \n",
       "2                                        0.015371   \n",
       "3                                        0.001612   \n",
       "4                                        0.030052   \n",
       "5                                        0.032448   \n",
       "6                                        0.062889   \n",
       "7                                        0.066737   \n",
       "8                                        0.027691   \n",
       "9                                        0.028615   \n",
       "10                                       0.035138   \n",
       "11                                       0.065352   \n",
       "12                                       0.000597   \n",
       "13                                       0.084653   \n",
       "14                                       0.079806   \n",
       "15                                       0.061557   \n",
       "16                                       0.182691   \n",
       "\n",
       "    tail.optimistic.adjusted_arithmetic_mean_rank  \\\n",
       "0                                        0.002842   \n",
       "1                                        0.000121   \n",
       "2                                        0.010181   \n",
       "3                                        0.031104   \n",
       "4                                        0.016021   \n",
       "5                                        0.021712   \n",
       "6                                        0.002433   \n",
       "7                                        0.008736   \n",
       "8                                        0.000521   \n",
       "9                                        0.002396   \n",
       "10                                       0.033266   \n",
       "11                                       0.046633   \n",
       "12                                       0.005313   \n",
       "13                                       0.090105   \n",
       "14                                       0.017100   \n",
       "15                                       0.022117   \n",
       "16                                       0.896919   \n",
       "\n",
       "    both.optimistic.adjusted_arithmetic_mean_rank  \\\n",
       "0                                        0.006043   \n",
       "1                                        0.083216   \n",
       "2                                        0.012778   \n",
       "3                                        0.016357   \n",
       "4                                        0.023036   \n",
       "5                                        0.027080   \n",
       "6                                        0.032658   \n",
       "7                                        0.037730   \n",
       "8                                        0.014102   \n",
       "9                                        0.015505   \n",
       "10                                       0.034202   \n",
       "11                                       0.055992   \n",
       "12                                       0.002954   \n",
       "13                                       0.087379   \n",
       "14                                       0.048403   \n",
       "15                                       0.041830   \n",
       "16                                       0.539806   \n",
       "\n",
       "    head.realistic.adjusted_arithmetic_mean_rank  \\\n",
       "0                                       0.009246   \n",
       "1                                       0.167434   \n",
       "2                                       0.015371   \n",
       "3                                       0.001612   \n",
       "4                                       0.030052   \n",
       "5                                       0.032448   \n",
       "6                                       0.062889   \n",
       "7                                       0.066737   \n",
       "8                                       0.027691   \n",
       "9                                       0.028615   \n",
       "10                                      0.035138   \n",
       "11                                      0.065352   \n",
       "12                                      0.000597   \n",
       "13                                      0.084653   \n",
       "14                                      0.079806   \n",
       "15                                      0.061557   \n",
       "16                                      0.182691   \n",
       "\n",
       "    tail.realistic.adjusted_arithmetic_mean_rank  \\\n",
       "0                                       0.002842   \n",
       "1                                       0.000121   \n",
       "2                                       0.010181   \n",
       "3                                       0.031104   \n",
       "4                                       0.016021   \n",
       "5                                       0.021712   \n",
       "6                                       0.002433   \n",
       "7                                       0.008736   \n",
       "8                                       0.000521   \n",
       "9                                       0.002396   \n",
       "10                                      0.033266   \n",
       "11                                      0.046633   \n",
       "12                                      0.005313   \n",
       "13                                      0.090105   \n",
       "14                                      0.017100   \n",
       "15                                      0.022117   \n",
       "16                                      0.896920   \n",
       "\n",
       "    both.realistic.adjusted_arithmetic_mean_rank  \\\n",
       "0                                       0.006043   \n",
       "1                                       0.083217   \n",
       "2                                       0.012778   \n",
       "3                                       0.016357   \n",
       "4                                       0.023036   \n",
       "5                                       0.027080   \n",
       "6                                       0.032658   \n",
       "7                                       0.037730   \n",
       "8                                       0.014102   \n",
       "9                                       0.015505   \n",
       "10                                      0.034202   \n",
       "11                                      0.055992   \n",
       "12                                      0.002954   \n",
       "13                                      0.087379   \n",
       "14                                      0.048403   \n",
       "15                                      0.041830   \n",
       "16                                      0.539806   \n",
       "\n",
       "    head.pessimistic.adjusted_arithmetic_mean_rank  \\\n",
       "0                                         0.009246   \n",
       "1                                         0.167434   \n",
       "2                                         0.015371   \n",
       "3                                         0.001612   \n",
       "4                                         0.030052   \n",
       "5                                         0.032448   \n",
       "6                                         0.062889   \n",
       "7                                         0.066737   \n",
       "8                                         0.027691   \n",
       "9                                         0.028615   \n",
       "10                                        0.035138   \n",
       "11                                        0.065352   \n",
       "12                                        0.000597   \n",
       "13                                        0.084653   \n",
       "14                                        0.079806   \n",
       "15                                        0.061557   \n",
       "16                                        0.182691   \n",
       "\n",
       "    tail.pessimistic.adjusted_arithmetic_mean_rank  ...  \\\n",
       "0                                         0.002842  ...   \n",
       "1                                         0.000121  ...   \n",
       "2                                         0.010181  ...   \n",
       "3                                         0.031104  ...   \n",
       "4                                         0.016021  ...   \n",
       "5                                         0.021712  ...   \n",
       "6                                         0.002433  ...   \n",
       "7                                         0.008736  ...   \n",
       "8                                         0.000521  ...   \n",
       "9                                         0.002396  ...   \n",
       "10                                        0.033266  ...   \n",
       "11                                        0.046633  ...   \n",
       "12                                        0.005313  ...   \n",
       "13                                        0.090105  ...   \n",
       "14                                        0.017100  ...   \n",
       "15                                        0.022117  ...   \n",
       "16                                        0.896920  ...   \n",
       "\n",
       "    both.pessimistic.z_hits_at_k  head.optimistic.adjusted_hits_at_k  \\\n",
       "0                    2579.823082                            0.363266   \n",
       "1                    3019.815450                            0.043571   \n",
       "2                    4097.879499                            0.064870   \n",
       "3                    2221.720149                            0.950187   \n",
       "4                     939.906993                            0.105718   \n",
       "5                     519.877581                            0.092894   \n",
       "6                     262.494808                            0.076836   \n",
       "7                     358.556725                            0.001387   \n",
       "8                     426.861402                            0.029759   \n",
       "9                     564.186253                            0.077378   \n",
       "10                    479.830154                            0.107298   \n",
       "11                    270.703622                            0.057054   \n",
       "12                  11305.827128                            0.910783   \n",
       "13                   3839.562862                            0.282058   \n",
       "14                   3113.792507                            0.175434   \n",
       "15                  11996.213728                            0.463894   \n",
       "16                     78.235202                            0.028021   \n",
       "\n",
       "    tail.optimistic.adjusted_hits_at_k  both.optimistic.adjusted_hits_at_k  \\\n",
       "0                             0.832558                            0.597912   \n",
       "1                             0.981199                            0.512385   \n",
       "2                             0.097531                            0.081201   \n",
       "3                             0.938692                            0.944439   \n",
       "4                             0.648431                            0.377074   \n",
       "5                             0.218143                            0.155518   \n",
       "6                             0.923070                            0.499953   \n",
       "7                             0.058587                            0.029987   \n",
       "8                             0.686538                            0.358148   \n",
       "9                             0.298056                            0.187717   \n",
       "10                            0.134147                            0.120722   \n",
       "11                            0.571388                            0.314221   \n",
       "12                            0.811967                            0.861375   \n",
       "13                            0.228533                            0.255296   \n",
       "14                            0.257819                            0.216627   \n",
       "15                            0.601031                            0.532462   \n",
       "16                            0.040070                            0.034045   \n",
       "\n",
       "    head.realistic.adjusted_hits_at_k  tail.realistic.adjusted_hits_at_k  \\\n",
       "0                            0.363266                           0.832558   \n",
       "1                            0.043571                           0.981199   \n",
       "2                            0.064870                           0.097531   \n",
       "3                            0.950187                           0.938692   \n",
       "4                            0.105718                           0.648431   \n",
       "5                            0.092894                           0.218143   \n",
       "6                            0.076836                           0.923070   \n",
       "7                            0.001387                           0.058587   \n",
       "8                            0.029759                           0.686538   \n",
       "9                            0.077378                           0.298056   \n",
       "10                           0.107298                           0.134147   \n",
       "11                           0.057054                           0.571388   \n",
       "12                           0.910783                           0.811967   \n",
       "13                           0.282058                           0.228533   \n",
       "14                           0.175434                           0.257819   \n",
       "15                           0.463894                           0.601031   \n",
       "16                           0.028021                           0.040070   \n",
       "\n",
       "    both.realistic.adjusted_hits_at_k  head.pessimistic.adjusted_hits_at_k  \\\n",
       "0                            0.597912                             0.363266   \n",
       "1                            0.512385                             0.043571   \n",
       "2                            0.081201                             0.064870   \n",
       "3                            0.944439                             0.950187   \n",
       "4                            0.377074                             0.105718   \n",
       "5                            0.155518                             0.092894   \n",
       "6                            0.499953                             0.076836   \n",
       "7                            0.029987                             0.001387   \n",
       "8                            0.358148                             0.029759   \n",
       "9                            0.187717                             0.077378   \n",
       "10                           0.120722                             0.107298   \n",
       "11                           0.314221                             0.057054   \n",
       "12                           0.861375                             0.910783   \n",
       "13                           0.255296                             0.282058   \n",
       "14                           0.216627                             0.175434   \n",
       "15                           0.532462                             0.463894   \n",
       "16                           0.034045                             0.028021   \n",
       "\n",
       "    tail.pessimistic.adjusted_hits_at_k  both.pessimistic.adjusted_hits_at_k  \n",
       "0                              0.832558                             0.597912  \n",
       "1                              0.981199                             0.512385  \n",
       "2                              0.097531                             0.081201  \n",
       "3                              0.938692                             0.944439  \n",
       "4                              0.648431                             0.377074  \n",
       "5                              0.218143                             0.155518  \n",
       "6                              0.923070                             0.499953  \n",
       "7                              0.058587                             0.029987  \n",
       "8                              0.686538                             0.358148  \n",
       "9                              0.298056                             0.187717  \n",
       "10                             0.134147                             0.120722  \n",
       "11                             0.571388                             0.314221  \n",
       "12                             0.811967                             0.861375  \n",
       "13                             0.228533                             0.255296  \n",
       "14                             0.257819                             0.216627  \n",
       "15                             0.601031                             0.532462  \n",
       "16                             0.040070                             0.034045  \n",
       "\n",
       "[17 rows x 227 columns]"
      ]
     },
     "execution_count": 14,
     "metadata": {},
     "output_type": "execute_result"
    }
   ],
   "source": [
    "results_df = pd.DataFrame([{'relation': r['relation'], 'count': r['count'], **r['results'].to_flat_dict()} for r in result_dicts])\n",
    "results_df"
   ]
  },
  {
   "cell_type": "markdown",
   "id": "7f21caf0",
   "metadata": {},
   "source": [
    "Here we save the results to a csv file, so we can load it later and make plots."
   ]
  },
  {
   "cell_type": "code",
   "execution_count": 15,
   "id": "8cc8ece4",
   "metadata": {
    "ExecuteTime": {
     "end_time": "2023-04-20T15:41:31.869495Z",
     "start_time": "2023-04-20T15:41:31.792866Z"
    }
   },
   "outputs": [],
   "source": [
    "results_df.to_csv(osp.join(base_path, 'results_by_relation.csv'), index=False, sep='\\t')"
   ]
  },
  {
   "cell_type": "markdown",
   "id": "7b49a448",
   "metadata": {},
   "source": [
    "---"
   ]
  },
  {
   "cell_type": "code",
   "execution_count": null,
   "id": "f84c39a7",
   "metadata": {},
   "outputs": [],
   "source": [
    "restricted_rels_macro_performance = results_df[results_df.columns[2:]].mean(axis=0)\n",
    "restricted_rels_macro_performance"
   ]
  },
  {
   "cell_type": "markdown",
   "id": "661b74fe",
   "metadata": {},
   "source": [
    "Note that this is **not** the same as the original, unrestricted evaluation. When restricting by relation, the average above is a *macro-average*, where all relations are weighted equally. In the unrestricted scenario, we average over all triples, which is a *micro-average* where more frequent relations are weighted higher:"
   ]
  },
  {
   "cell_type": "code",
   "execution_count": null,
   "id": "22c57d33",
   "metadata": {},
   "outputs": [],
   "source": [
    "results_all_rels_dict"
   ]
  },
  {
   "cell_type": "markdown",
   "id": "452cc251",
   "metadata": {},
   "source": [
    "Since we have the triple counts for each relation, we can compute a micro-average instead:"
   ]
  },
  {
   "cell_type": "code",
   "execution_count": null,
   "id": "fc1db805",
   "metadata": {},
   "outputs": [],
   "source": [
    "restricted_rels_micro_performance = results_df[results_df.columns[2:]].mul(results_df['Count'], axis=0).sum(axis=0) / results_df['Count'].sum()\n",
    "restricted_rels_micro_performance"
   ]
  },
  {
   "cell_type": "markdown",
   "id": "679a5d94",
   "metadata": {},
   "source": [
    "How do MRR, H@k, and AMR correlate?"
   ]
  },
  {
   "cell_type": "code",
   "execution_count": null,
   "id": "d3719bfe",
   "metadata": {},
   "outputs": [],
   "source": [
    "def plot_metric_pair(results_df, metric_1: str, metric_2: str):\n",
    "    \"\"\"Make a scatter plot with one link prediction metric in each axis.\"\"\"\n",
    "    plt.figure()\n",
    "    plt.scatter(results_df[metric_1], results_df[metric_2])\n",
    "    plt.xlabel(metric_1)\n",
    "    plt.ylabel(metric_2)\n",
    "\n",
    "plot_metric_pair(results_df, 'mean_reciprocal_rank', 'hits_at_10')\n",
    "plot_metric_pair(results_df, 'mean_reciprocal_rank', 'adjusted_mean_rank')\n",
    "plot_metric_pair(results_df, 'mean_reciprocal_rank', 'Count')"
   ]
  },
  {
   "cell_type": "markdown",
   "id": "8c852cf3",
   "metadata": {},
   "source": [
    "What are the relations where the model performs better?"
   ]
  },
  {
   "cell_type": "code",
   "execution_count": null,
   "id": "768b290c",
   "metadata": {},
   "outputs": [],
   "source": [
    "def per_relation_plot(results_df, metric: str):\n",
    "    \"\"\"Make a bar plot of link prediction performance for each relation.\"\"\"\n",
    "    results_df[['Relation', metric]].sort_values(by=metric).plot.barh(x='Relation', figsize=(5, 5), grid=True)"
   ]
  },
  {
   "cell_type": "code",
   "execution_count": null,
   "id": "6b8d3f39",
   "metadata": {},
   "outputs": [],
   "source": [
    "per_relation_plot(results_df, 'hits_at_10')"
   ]
  },
  {
   "cell_type": "markdown",
   "id": "9c473ec8",
   "metadata": {},
   "source": [
    "### Evaluating over specific entity and relation types"
   ]
  },
  {
   "cell_type": "markdown",
   "id": "19292304",
   "metadata": {},
   "source": [
    "The source csv files contain the triples, plus extra information like the types of the entities involved in the triple. We will extract the type information."
   ]
  },
  {
   "cell_type": "code",
   "execution_count": null,
   "id": "1878637c",
   "metadata": {},
   "outputs": [],
   "source": [
    "train_df = pd.read_csv(osp.join(DATA_PATH, f'processed/{DATASET}-train.tsv'), sep='\\t', dtype=str)\n",
    "train_df.head()"
   ]
  },
  {
   "cell_type": "code",
   "execution_count": null,
   "id": "32d0a69c",
   "metadata": {},
   "outputs": [],
   "source": [
    "def get_types_to_entities_dict(df):\n",
    "    \"\"\"Given a dataframe of triples, containing types for entities at the\n",
    "    head and tail, extract a dictionary mapping entity types (str) to\n",
    "    a list of entities of that type.\"\"\"\n",
    "    src_df = df[['src', 'src_type']]\n",
    "    tgt_df = df[['tgt', 'tgt_type']]\n",
    "\n",
    "    src_df = src_df.rename(columns={'src': 'entity', 'src_type': 'type'})\n",
    "    tgt_df = tgt_df.rename(columns={'tgt': 'entity', 'tgt_type': 'type'})\n",
    "    combined_df = pd.concat([src_df, tgt_df]).drop_duplicates(subset='entity')\n",
    "\n",
    "    type_to_entities = combined_df.groupby('type')['entity'].apply(list).to_dict()\n",
    "\n",
    "    return type_to_entities"
   ]
  },
  {
   "cell_type": "code",
   "execution_count": null,
   "id": "3594ce5b",
   "metadata": {},
   "outputs": [],
   "source": [
    "type_to_entities = get_types_to_entities_dict(train_df)\n",
    "for t, entities in type_to_entities.items():\n",
    "    print(f'{t}: {len(entities):,} entities')"
   ]
  },
  {
   "cell_type": "markdown",
   "id": "5295c26d",
   "metadata": {},
   "source": [
    "We can now get a list of e.g. Diseases with this dictionary:"
   ]
  },
  {
   "cell_type": "code",
   "execution_count": null,
   "id": "da9e10a0",
   "metadata": {},
   "outputs": [],
   "source": [
    "type_to_entities['Disease'][:5]"
   ]
  },
  {
   "cell_type": "markdown",
   "id": "39e4879a",
   "metadata": {},
   "source": [
    "We can now run the evaluation by relation type, separately for heads and tails of a specific type:"
   ]
  },
  {
   "cell_type": "code",
   "execution_count": null,
   "id": "3c2a01a0",
   "metadata": {},
   "outputs": [],
   "source": [
    "def get_side_prediction_results(model, evaluator, mapped_triples, restrict_entities_to, side: str, relation: str):\n",
    "        assert side in {'head', 'tail'}\n",
    "\n",
    "        results = evaluator.evaluate(model, mapped_triples, restrict_entities_to=restrict_entities_to,\n",
    "                                     do_time_consuming_checks=False, use_tqdm=False)\n",
    "        results_df = results.to_df()\n",
    "        results_df = results_df.loc[(results_df['Side'] == side) & (results_df['Type'] == 'avg')]\n",
    "\n",
    "        results_dict = {'Relation': relation, 'Side': side}\n",
    "        results_dict.update({metric: value for metric, value in zip(results_df['Metric'].values, results_df['Value'].values)})\n",
    "\n",
    "        return results_dict\n",
    "\n",
    "results = []\n",
    "evaluator = RankBasedEvaluator()\n",
    "for relation in tqdm(model.triples_factory.relation_to_id, desc='Evaluating over each relation'):\n",
    "    relation_parts = relation.split('_')\n",
    "    head_type, tail_type = relation_parts[-2:]\n",
    "\n",
    "    # Create subsets based on entity and relation\n",
    "    triples_subset = valid.new_with_restriction(relations=[relation])\n",
    "    if triples_subset.num_triples == 0:\n",
    "        continue\n",
    "\n",
    "    head_entities = type_to_entities[head_type]\n",
    "    tail_entities = type_to_entities[tail_type]\n",
    "    head_ids = torch.tensor(train.entities_to_ids(head_entities), dtype=torch.long)\n",
    "    tail_ids = torch.tensor(train.entities_to_ids(tail_entities), dtype=torch.long)\n",
    "\n",
    "    head_prediction_results = get_side_prediction_results(model, evaluator, triples_subset.mapped_triples, restrict_entities_to=head_ids, side='head', relation=relation)\n",
    "    tail_prediction_results = get_side_prediction_results(model, evaluator, triples_subset.mapped_triples, restrict_entities_to=tail_ids, side='tail', relation=relation)\n",
    "    results.extend([head_prediction_results, tail_prediction_results])"
   ]
  },
  {
   "cell_type": "code",
   "execution_count": null,
   "id": "82001c5a",
   "metadata": {},
   "outputs": [],
   "source": [
    "entity_restrict_results_df = pd.DataFrame(results)\n",
    "entity_restrict_results_df"
   ]
  },
  {
   "cell_type": "markdown",
   "id": "76555f6f",
   "metadata": {},
   "source": [
    "We can check the performance when predicting separately the head and the tail, for each relation."
   ]
  },
  {
   "cell_type": "code",
   "execution_count": null,
   "id": "b7464f58",
   "metadata": {},
   "outputs": [],
   "source": [
    "results_df_side_labeled = entity_restrict_results_df.copy()\n",
    "results_df_side_labeled['Relation'] = results_df_side_labeled['Relation'] + '_' + results_df_side_labeled['Side']\n",
    "per_relation_plot(results_df_side_labeled, 'hits_at_10')"
   ]
  },
  {
   "cell_type": "markdown",
   "id": "9b05801c",
   "metadata": {},
   "source": [
    "We then average the prediction for the head and the tail:"
   ]
  },
  {
   "cell_type": "code",
   "execution_count": null,
   "id": "1b24c536",
   "metadata": {},
   "outputs": [],
   "source": [
    "results_both_df = entity_restrict_results_df.groupby('Relation')[entity_restrict_results_df.columns[2:]].mean().reset_index()\n",
    "results_both_df"
   ]
  },
  {
   "cell_type": "code",
   "execution_count": null,
   "id": "b5ecd1a4",
   "metadata": {},
   "outputs": [],
   "source": [
    "per_relation_plot(results_both_df, 'hits_at_10')"
   ]
  },
  {
   "cell_type": "markdown",
   "id": "ea1e697b",
   "metadata": {},
   "source": [
    "Lastly, the overall average is computed over all metrics."
   ]
  },
  {
   "cell_type": "code",
   "execution_count": null,
   "id": "0e569192",
   "metadata": {},
   "outputs": [],
   "source": [
    "results_both_df.mean()"
   ]
  },
  {
   "cell_type": "markdown",
   "id": "6c57fe8c",
   "metadata": {},
   "source": [
    "Compare with the results when restricting by relation type only:"
   ]
  },
  {
   "cell_type": "code",
   "execution_count": null,
   "id": "f73a73de",
   "metadata": {},
   "outputs": [],
   "source": [
    "restricted_rels_macro_performance"
   ]
  },
  {
   "cell_type": "markdown",
   "id": "91523926",
   "metadata": {},
   "source": [
    "Note that this is **not** the same as the original averages computed without restrictions:"
   ]
  },
  {
   "cell_type": "code",
   "execution_count": null,
   "id": "7c6fb148",
   "metadata": {},
   "outputs": [],
   "source": [
    "restricted_rels_micro_performance"
   ]
  },
  {
   "cell_type": "markdown",
   "id": "a9f25d58",
   "metadata": {},
   "source": [
    "The micro-average is instead the following:"
   ]
  },
  {
   "cell_type": "code",
   "execution_count": null,
   "id": "8f085f6c",
   "metadata": {},
   "outputs": [],
   "source": [
    "results_both_df[results_both_df.columns[2:]].mul(results_df['Count'], axis=0).sum(axis=0) / results_df['Count'].sum()"
   ]
  },
  {
   "cell_type": "markdown",
   "id": "80df30d6",
   "metadata": {},
   "source": [
    "We can see that restricting predictions over the correct domain and range of a relation only slightly increases the results."
   ]
  }
 ],
 "metadata": {
  "kernelspec": {
   "display_name": "Python 3 (ipykernel)",
   "language": "python",
   "name": "python3"
  },
  "language_info": {
   "codemirror_mode": {
    "name": "ipython",
    "version": 3
   },
   "file_extension": ".py",
   "mimetype": "text/x-python",
   "name": "python",
   "nbconvert_exporter": "python",
   "pygments_lexer": "ipython3",
   "version": "3.9.13"
  }
 },
 "nbformat": 4,
 "nbformat_minor": 5
}
